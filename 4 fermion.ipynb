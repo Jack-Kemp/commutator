{
 "cells": [
  {
   "cell_type": "code",
   "execution_count": 1,
   "metadata": {
    "autoscroll": "json-false",
    "collapsed": false,
    "ein.tags": [
     "worksheet-0"
    ]
   },
   "outputs": [],
   "source": [
    "%load_ext autoreload"
   ]
  },
  {
   "cell_type": "code",
   "execution_count": 2,
   "metadata": {
    "autoscroll": "json-false",
    "collapsed": false,
    "ein.tags": [
     "worksheet-0"
    ]
   },
   "outputs": [],
   "source": [
    "from commutator import *\n",
    "%autoreload"
   ]
  },
  {
   "cell_type": "code",
   "execution_count": 3,
   "metadata": {
    "autoscroll": "json-false",
    "collapsed": false,
    "ein.tags": [
     "worksheet-0"
    ]
   },
   "outputs": [],
   "source": [
    "V,J,f = symbols('V J f')\n",
    "L = 20\n",
    "orders = {V:1,f:1}\n",
    "print_group.orders = orders\n",
    "fpart = [Ncproduct(I*f, [2*j+1,2*j+2]) for j in range(L)]\n",
    "Vpart = [Ncproduct(V, [2*j+1,2*j+2,2*j+3,2*j+4]) for j in range(L-2)]\n",
    "small = fpart+Vpart\n",
    "Jpart = [Ncproduct(I*J, [2*j+2,2*j+3]) for j in range(L-1)]\n",
    "H = fpart + Vpart +Jpart"
   ]
  },
  {
   "cell_type": "code",
   "execution_count": 4,
   "metadata": {
    "autoscroll": "json-false",
    "collapsed": false,
    "ein.tags": [
     "worksheet-0"
    ]
   },
   "outputs": [],
   "source": [
    "p = print_group\n",
    "c = calculate_commutator\n",
    "N = Ncproduct"
   ]
  },
  {
   "cell_type": "code",
   "execution_count": 5,
   "metadata": {
    "autoscroll": "json-false",
    "collapsed": false,
    "ein.tags": [
     "worksheet-0"
    ]
   },
   "outputs": [
    {
     "name": "stdout",
     "output_type": "stream",
     "text": [
      "{−2⋅i⋅f⋅b1\n",
      "−2⋅V⋅b1⋅a2⋅b2}\n"
     ]
    }
   ],
   "source": [
    "psi0 = N(1, 'a1')\n",
    "p(c(H,psi0))"
   ]
  },
  {
   "cell_type": "code",
   "execution_count": 6,
   "metadata": {
    "autoscroll": "json-false",
    "collapsed": false,
    "ein.tags": [
     "worksheet-0"
    ]
   },
   "outputs": [
    {
     "name": "stdout",
     "output_type": "stream",
     "text": [
      "{+f/J⋅a2\n",
      "−i⋅V/J⋅b1⋅a2⋅a3}\n"
     ]
    }
   ],
   "source": [
    "psi1a = N(f/J, 'a2')\n",
    "psi1V = N(V/(I*J), 'b1 a2 a3')\n",
    "psi1 = psi1a+psi1V\n",
    "p(psi1)"
   ]
  },
  {
   "cell_type": "code",
   "execution_count": 7,
   "metadata": {
    "autoscroll": "json-false",
    "collapsed": false,
    "ein.tags": [
     "worksheet-0"
    ]
   },
   "outputs": [
    {
     "name": "stdout",
     "output_type": "stream",
     "text": [
      "{−2⋅V⋅f/J⋅a1⋅b1⋅b2\n",
      "+2⋅V⋅f/J⋅a1⋅a2⋅a3\n",
      "−2⋅V⋅f/J⋅b1⋅a2⋅b3\n",
      "−2⋅V⋅f/J⋅b1⋅b2⋅a3\n",
      "−2⋅i⋅f^2/J⋅b2\n",
      "+2⋅i⋅V^2/J⋅b1⋅a2⋅b3⋅a4⋅b4\n",
      "−2⋅V⋅f/J⋅b2⋅a3⋅b3}\n",
      "{+1 + V^2/J^2 + f^2/J^2\n",
      "+2⋅i⋅V⋅f/J^2⋅b1⋅a3}\n"
     ]
    }
   ],
   "source": [
    "p(c(H,psi0+psi1))\n",
    "p(multiply_groups(psi0+psi1,psi0+psi1))"
   ]
  },
  {
   "cell_type": "code",
   "execution_count": 8,
   "metadata": {
    "autoscroll": "json-false",
    "collapsed": false,
    "ein.tags": [
     "worksheet-0"
    ]
   },
   "outputs": [
    {
     "name": "stdout",
     "output_type": "stream",
     "text": [
      "{+f^2/J^2⋅a3\n",
      "−i⋅V⋅f/J^2⋅b2⋅a3⋅a4\n",
      "−i⋅V⋅f/J^2⋅b1⋅a2⋅a4\n",
      "−i⋅V⋅f/J^2⋅a2⋅b2⋅a3\n",
      "−i⋅V⋅f/J^2⋅a1⋅b1⋅a3\n",
      "−V^2/J^2⋅b1⋅a2⋅b3⋅a4⋅a5}\n"
     ]
    }
   ],
   "source": [
    "psi2a = N((f/J)**2, 'a3') # b2\n",
    "psi2V = N(f*V/(I*J**2), 'b2 a3 a4') #b2 a3 b3\n",
    "psi2Vf3 = N(f*V/(I*J**2), 'b1 a2 a4') # b1 a2 b3\n",
    "psi2Vf4 = N(f*V/(I*J**2), 'a2 b2 a3') # b1 b2 a3\n",
    "psi2Vdg = N(f*V/(I*J**2), 'a1 b1 a3') #a1 a2 a3\n",
    "psi2V4  = N(-V**2/(J**2), 'b1 a2 b3 a4 a5') #b1 a2 b3 a4 b4\n",
    "psi2 = psi2a+psi2V+psi2Vf3+psi2Vf4+ psi2Vdg+psi2V4\n",
    "p(psi2)"
   ]
  },
  {
   "cell_type": "code",
   "execution_count": 14,
   "metadata": {
    "autoscroll": "json-false",
    "collapsed": false,
    "ein.tags": [
     "worksheet-0"
    ]
   },
   "outputs": [
    {
     "name": "stdout",
     "output_type": "stream",
     "text": [
      "\n"
     ]
    },
    {
     "name": "stdout",
     "output_type": "stream",
     "text": [
      "\n",
      "\n",
      "\n",
      "\\frac{2 i}{J^{2}} V^{2} f b_1 a_2 b_4 a_5 b_5 + \\frac{2 V}{J^{2}} f^{2} a_1 a_2 a_4 + \\frac{2 i}{J^{2}} V^{2} f a_1 b_1 a_2 b_2 b_3 - \\frac{2 V}{J^{2}} f^{2} b_2 a_3 b_4 + \\frac{2 V^{3}}{J^{2}} b_1 a_2 b_3 a_4 b_5 a_6 b_6 + \\frac{2 i}{J^{2}} V^{2} f b_1 b_2 a_3 b_3 a_4 + \\frac{2 i}{J^{2}} V^{2} f b_1 a_2 a_3 b_3 b_4 - \\frac{4 V}{J^{2}} f^{2} a_2 b_2 b_3 + \\frac{2 i}{J^{2}} V^{2} f b_1 a_2 b_3 b_4 a_5 - \\frac{2 i}{J^{2}} V^{2} f a_1 a_2 b_3 a_4 a_5 + \\frac{2 i}{J^{2}} V^{2} f a_1 b_1 b_3 a_4 b_4 - \\frac{2 V}{J^{2}} f^{2} b_1 b_2 a_4 + \\frac{2 i}{J^{2}} V^{2} f a_2 b_2 b_3 a_4 b_4 - \\frac{2 i}{J^{2}} V^{2} f b_1 a_2 a_3 a_4 a_5 + \\frac{2 i}{J^{2}} V^{2} f b_2 a_3 b_4 a_5 b_5 + \\frac{2 i}{J^{2}} V^{2} f b_1 a_2 b_3 a_4 b_5 - \\frac{2 V}{J^{2}} f^{2} b_1 a_2 b_4 - \\frac{2 V}{J^{2}} f^{2} a_1 b_1 b_3 - \\frac{2 V}{J^{2}} f^{2} b_2 b_3 a_4 + \\frac{2 i}{J^{2}} V^{2} f b_1 b_2 b_3 a_4 a_5 - \\frac{2 i}{J^{2}} V^{2} f a_1 b_1 a_2 a_3 a_4 - \\frac{2 V}{J^{2}} f^{2} b_3 a_4 b_4 + \\frac{2 V}{J^{2}} f^{2} a_2 a_3 a_4 + \\left (- \\frac{2 i}{J^{2}} V^{2} f - \\frac{2 i}{J^{2}} f^{3}\\right ) b_3"
     ]
    },
    {
     "name": "stdout",
     "output_type": "stream",
     "text": [
      "a1 b1 b2\n",
      "a1 a2 b2\n",
      "a1 a2 a3\n",
      "a1 b1 a3\n",
      "b1 a2 b3\n",
      "b1 a2 a4\n",
      "b1 b2 a3\n",
      "a2 b2 a3\n",
      "b2\n",
      "a3\n",
      "b1 a2 b3 a4 b4\n",
      "b1 a2 b3 a4 a5\n",
      "b2 a3 b3\n",
      "b2 a3 a4\n",
      "\\frac{f^{2}}{J^{2}} a_3 - \\frac{i V}{J^{2}} f b_2 a_3 a_4 - \\frac{i V}{J^{2}} f a_2 b_2 a_3 - \\frac{V^{2}}{J^{2}} b_1 a_2 b_3 a_4 a_5 - \\frac{i V}{J^{2}} f a_1 b_1 a_3 - \\frac{i V}{J^{2}} f b_1 a_2 a_4"
     ]
    }
   ],
   "source": [
    "subspace, matrixrows = find_subspace(c(H, psi0+psi1), Jpart)\n",
    "print_subspace(subspace)\n",
    "cvector = build_vector_to_cancel(c(H, psi0+psi1), subspace)\n",
    "psi2 =solve_for_commuting_term(cvector, psi0+psi1, 2, orders, matrixrows, subspace)\n",
    "texify_group(psi2)\n",
    "print('\\n')\n",
    "psi = psi0+psi1+psi2\n",
    "texify_group(c(H,psi))"
   ]
  },
  {
   "cell_type": "code",
   "execution_count": 10,
   "metadata": {
    "autoscroll": "json-false",
    "collapsed": false,
    "ein.tags": [
     "worksheet-0"
    ]
   },
   "outputs": [],
   "source": [
    "#subspace, matrixrows = find_subspace(c(H, psi), Jpart)\n",
    "#print_subspace(subspace)\n",
    "#cvector = build_vector_to_cancel(c(H, psi), subspace)\n",
    "#psi3 = solve_for_commuting_term(cvector, psi, 3, orders, matrixrows, subspace)\n",
    "#p(psi3)\n",
    "#print('\\n')\n",
    "#p(c(H,psi+psi3))"
   ]
  },
  {
   "cell_type": "code",
   "execution_count": 11,
   "metadata": {
    "autoscroll": "json-false",
    "collapsed": false,
    "ein.tags": [
     "worksheet-0"
    ]
   },
   "outputs": [
    {
     "name": "stdout",
     "output_type": "stream",
     "text": [
      "{+1⋅a1\n",
      "+f/J⋅a2\n",
      "−i⋅V/J⋅b1⋅a2⋅a3\n",
      "+f^2/J^2⋅a3\n",
      "−i⋅V⋅f/J^2⋅b2⋅a3⋅a4\n",
      "−i⋅V⋅f/J^2⋅a2⋅b2⋅a3\n",
      "−V^2/J^2⋅b1⋅a2⋅b3⋅a4⋅a5\n",
      "−i⋅V⋅f/J^2⋅a1⋅b1⋅a3\n",
      "−i⋅V⋅f/J^2⋅b1⋅a2⋅a4}\n"
     ]
    }
   ],
   "source": [
    "p(psi)"
   ]
  },
  {
   "cell_type": "code",
   "execution_count": 12,
   "metadata": {
    "autoscroll": "json-false",
    "collapsed": false,
    "ein.tags": [
     "worksheet-0"
    ]
   },
   "outputs": [],
   "source": [
    "#psi += psi3\n",
    "#subspace, matrixrows = find_subspace(c(H, psi), Jpart)\n",
    "#print_subspace(subspace)\n",
    "#cvector = build_vector_to_cancel(c(H, psi), subspace)\n",
    "#psi4 = solve_for_commuting_term(cvector, psi, 4, orders, matrixrows, subspace)\n",
    "#p(psi4)\n",
    "#print('\\n')\n",
    "#p(c(H,psi+psi4))"
   ]
  }
 ],
 "metadata": {
  "kernelspec": {
   "display_name": "Python 3",
   "language": "python",
   "name": "python3"
  },
  "language_info": {
   "codemirror_mode": {
    "name": "ipython",
    "version": 3
   },
   "file_extension": ".py",
   "mimetype": "text/x-python",
   "name": "python",
   "nbconvert_exporter": "python",
   "pygments_lexer": "ipython3",
   "version": "3.4.2"
  },
  "name": "4 fermion.ipynb"
 },
 "nbformat": 4,
 "nbformat_minor": 0
}
