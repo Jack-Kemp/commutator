{
 "cells": [
  {
   "cell_type": "code",
   "execution_count": 1,
   "metadata": {
    "autoscroll": "json-false",
    "collapsed": false,
    "ein.tags": [
     "worksheet-0"
    ]
   },
   "outputs": [],
   "source": [
    "%load_ext autoreload"
   ]
  },
  {
   "cell_type": "code",
   "execution_count": 39,
   "metadata": {
    "autoscroll": "json-false",
    "collapsed": false,
    "ein.tags": [
     "worksheet-0"
    ]
   },
   "outputs": [],
   "source": [
    "from commutator import *\n",
    "%autoreload"
   ]
  },
  {
   "cell_type": "code",
   "execution_count": 3,
   "metadata": {
    "autoscroll": "json-false",
    "collapsed": false,
    "ein.tags": [
     "worksheet-0"
    ]
   },
   "outputs": [],
   "source": [
    "V,J,f = symbols('V J f')\n",
    "L = 20\n",
    "orders = {V:1,f:1}\n",
    "print_group.orders = orders\n",
    "fpart = [Ncproduct(I*f, [2*j+1,2*j+2]) for j in range(L)]\n",
    "Vpart = [Ncproduct(V, [2*j+1,2*j+2,2*j+3,2*j+4]) for j in range(L-2)]\n",
    "small = fpart+Vpart\n",
    "Jpart = [Ncproduct(I*J, [2*j+2,2*j+3]) for j in range(L-1)]\n",
    "H = fpart + Vpart +Jpart"
   ]
  },
  {
   "cell_type": "code",
   "execution_count": 4,
   "metadata": {
    "autoscroll": "json-false",
    "collapsed": false,
    "ein.tags": [
     "worksheet-0"
    ]
   },
   "outputs": [],
   "source": [
    "p = print_group\n",
    "c = calculate_commutator\n",
    "N = Ncproduct"
   ]
  },
  {
   "cell_type": "code",
   "execution_count": 5,
   "metadata": {
    "autoscroll": "json-false",
    "collapsed": false,
    "ein.tags": [
     "worksheet-0"
    ]
   },
   "outputs": [
    {
     "name": "stdout",
     "output_type": "stream",
     "text": [
      "{−2⋅i⋅f⋅b1\n",
      "−2⋅V⋅b1⋅a2⋅b2}\n"
     ]
    }
   ],
   "source": [
    "psi0 = N(1, 'a1')\n",
    "p(c(H,psi0))"
   ]
  },
  {
   "cell_type": "code",
   "execution_count": 6,
   "metadata": {
    "autoscroll": "json-false",
    "collapsed": false,
    "ein.tags": [
     "worksheet-0"
    ]
   },
   "outputs": [
    {
     "name": "stdout",
     "output_type": "stream",
     "text": [
      "{+f/J⋅a2\n",
      "−i⋅V/J⋅b1⋅a2⋅a3}\n"
     ]
    }
   ],
   "source": [
    "psi1a = N(f/J, 'a2')\n",
    "psi1V = N(V/(I*J), 'b1 a2 a3')\n",
    "psi1 = psi1a+psi1V\n",
    "p(psi1)"
   ]
  },
  {
   "cell_type": "code",
   "execution_count": 7,
   "metadata": {
    "autoscroll": "json-false",
    "collapsed": false,
    "ein.tags": [
     "worksheet-0"
    ]
   },
   "outputs": [
    {
     "name": "stdout",
     "output_type": "stream",
     "text": [
      "{−2⋅V⋅f/J⋅a1⋅b1⋅b2\n",
      "+2⋅V⋅f/J⋅a1⋅a2⋅a3\n",
      "−2⋅V⋅f/J⋅b1⋅a2⋅b3\n",
      "−2⋅V⋅f/J⋅b1⋅b2⋅a3\n",
      "−2⋅i⋅f^2/J⋅b2\n",
      "+2⋅i⋅V^2/J⋅b1⋅a2⋅b3⋅a4⋅b4\n",
      "−2⋅V⋅f/J⋅b2⋅a3⋅b3}\n",
      "{+1 + V^2/J^2 + f^2/J^2\n",
      "+2⋅i⋅V⋅f/J^2⋅b1⋅a3}\n"
     ]
    }
   ],
   "source": [
    "p(c(H,psi0+psi1))\n",
    "p(multiply_groups(psi0+psi1,psi0+psi1))"
   ]
  },
  {
   "cell_type": "code",
   "execution_count": 8,
   "metadata": {
    "autoscroll": "json-false",
    "collapsed": false,
    "ein.tags": [
     "worksheet-0"
    ]
   },
   "outputs": [
    {
     "name": "stdout",
     "output_type": "stream",
     "text": [
      "{+f^2/J^2⋅a3\n",
      "−i⋅V⋅f/J^2⋅b2⋅a3⋅a4\n",
      "−i⋅V⋅f/J^2⋅b1⋅a2⋅a4\n",
      "−i⋅V⋅f/J^2⋅a2⋅b2⋅a3\n",
      "−i⋅V⋅f/J^2⋅a1⋅b1⋅a3\n",
      "−V^2/J^2⋅b1⋅a2⋅b3⋅a4⋅a5}\n"
     ]
    }
   ],
   "source": [
    "psi2a = N((f/J)**2, 'a3') # b2\n",
    "psi2V = N(f*V/(I*J**2), 'b2 a3 a4') #b2 a3 b3\n",
    "psi2Vf3 = N(f*V/(I*J**2), 'b1 a2 a4') # b1 a2 b3\n",
    "psi2Vf4 = N(f*V/(I*J**2), 'a2 b2 a3') # b1 b2 a3\n",
    "psi2Vdg = N(f*V/(I*J**2), 'a1 b1 a3') #a1 a2 a3\n",
    "psi2V4  = N(-V**2/(J**2), 'b1 a2 b3 a4 a5') #b1 a2 b3 a4 b4\n",
    "psi2 = psi2a+psi2V+psi2Vf3+psi2Vf4+ psi2Vdg+psi2V4\n",
    "p(psi2)"
   ]
  },
  {
   "cell_type": "code",
   "execution_count": 9,
   "metadata": {
    "autoscroll": "json-false",
    "collapsed": false,
    "ein.tags": [
     "worksheet-0"
    ]
   },
   "outputs": [
    {
     "name": "stdout",
     "output_type": "stream",
     "text": [
      "\n"
     ]
    },
    {
     "name": "stdout",
     "output_type": "stream",
     "text": [
      "{+2⋅i⋅A⋅J + 2⋅i⋅B⋅J⋅a1⋅b1⋅b2\n",
      "−2⋅i⋅A⋅J - 2⋅i⋅B⋅J⋅a1⋅a2⋅a3\n",
      "−2⋅B⋅V⋅a1⋅b1⋅a2⋅b2⋅b3\n",
      "−2⋅B⋅V⋅a1⋅b1⋅b3⋅a4⋅b4\n",
      "−2⋅i⋅B⋅f⋅a1⋅b1⋅b3\n",
      "−2⋅i⋅A⋅f⋅b1⋅a2⋅b2\n",
      "+2⋅A⋅V⋅b1\n",
      "+2⋅V⋅f/J⋅b1⋅a2⋅b3\n",
      "−2⋅i⋅V^2/J⋅b1⋅a2⋅b3⋅a4⋅b4\n",
      "+2⋅V⋅f/J⋅b2⋅a3⋅b3\n",
      "+2⋅i⋅f^2/J⋅b2\n",
      "+2⋅V⋅f/J⋅b1⋅b2⋅a3\n",
      "+2⋅i⋅V^2⋅f/J^2⋅b1⋅a2⋅b4⋅a5⋅b5\n",
      "−2⋅V⋅f^2/J^2⋅b2⋅a3⋅b4\n",
      "+2⋅V^3/J^2⋅b1⋅a2⋅b3⋅a4⋅b5⋅a6⋅b6\n",
      "−4⋅V⋅f^2/J^2⋅a2⋅b2⋅b3\n",
      "+2⋅i⋅V^2⋅f/J^2⋅b1⋅a2⋅a3⋅b3⋅b4\n",
      "−2⋅i⋅V^2⋅f/J^2⋅a1⋅a2⋅b3⋅a4⋅a5\n",
      "+2⋅i⋅V^2⋅f/J^2⋅a2⋅b2⋅b3⋅a4⋅b4\n",
      "−2⋅i⋅V^2⋅f/J^2⋅b1⋅a2⋅a3⋅a4⋅a5\n",
      "+2⋅i⋅V^2⋅f/J^2⋅b2⋅a3⋅b4⋅a5⋅b5\n",
      "+2⋅V⋅f^2/J^2⋅a1⋅a2⋅a4\n",
      "+2⋅i⋅V^2⋅f/J^2⋅b1⋅a2⋅b3⋅a4⋅b5\n",
      "−2⋅V⋅f^2/J^2⋅b1⋅a2⋅b4\n",
      "−2⋅V⋅f^2/J^2⋅b2⋅b3⋅a4\n",
      "+2⋅i⋅V^2⋅f/J^2⋅b1⋅b2⋅b3⋅a4⋅a5\n",
      "−2⋅V⋅f^2/J^2⋅b1⋅b2⋅a4\n",
      "+2⋅i⋅V^2⋅f/J^2⋅b1⋅b2⋅a3⋅b3⋅a4\n",
      "+2⋅i⋅V^2⋅f/J^2⋅b1⋅a2⋅b3⋅b4⋅a5\n",
      "−2⋅i⋅V^2⋅f/J^2⋅a1⋅b1⋅a2⋅a3⋅a4\n",
      "+2⋅V⋅f^2/J^2⋅a2⋅a3⋅a4\n",
      "−2⋅V⋅f^2/J^2⋅b3⋅a4⋅b4\n",
      "−2⋅i⋅V^2⋅f/J^2 - 2⋅i⋅f^3/J^2⋅b3}\n",
      "{+2⋅A⋅B - 2⋅V^2⋅f^2/J^4⋅b1⋅a2⋅b2⋅a3\n",
      "+2⋅B + 2⋅i⋅V⋅f/J^2⋅b1⋅a3\n",
      "+2⋅A - 2⋅i⋅V⋅f^3/J^4⋅a2⋅b2\n",
      "−A^2 - B^2 + 1 + V^2/J^2 + f^2/J^2 + V^4/J^4 + 3⋅V^2⋅f^2/J^4 + f^4/J^4\n",
      "−2⋅A⋅f/J⋅a1⋅b2\n",
      "+2⋅i⋅A⋅V/J⋅a1⋅b1⋅b2⋅a3\n",
      "+2⋅B⋅f^2/J^2⋅a1⋅b1\n",
      "−2⋅i⋅A⋅V⋅f/J^2 - 2⋅i⋅B⋅V⋅f/J^2⋅a1⋅a2⋅a3⋅a4\n",
      "−2⋅i⋅B⋅V⋅f/J^2⋅a1⋅b1⋅a2⋅b2\n",
      "−2⋅B⋅V^2/J^2⋅a1⋅a2⋅a3⋅b3⋅a4⋅a5\n",
      "+2⋅i⋅A⋅V⋅f/J^2 + 2⋅i⋅B⋅V⋅f/J^2⋅a1⋅b1⋅b2⋅a4\n",
      "+2⋅A⋅V^2/J^2⋅a1⋅b1⋅b2⋅b3⋅a4⋅a5\n",
      "−2⋅i⋅V⋅f^2/J^3⋅b2⋅a3\n",
      "+2⋅V^2⋅f/J^3⋅b1⋅a2⋅b2⋅a4\n",
      "−2⋅i⋅V⋅f^2/J^3⋅b1⋅a2\n",
      "+2⋅i⋅V⋅f^2/J^3⋅b1⋅a4\n",
      "+2⋅V^2⋅f/J^3⋅b1⋅b3⋅a4⋅a5\n",
      "+2⋅i⋅V⋅f^3/J^4⋅b2⋅a4\n",
      "−2⋅i⋅V^3⋅f/J^4⋅b1⋅a2⋅b2⋅a3⋅b3⋅a5\n",
      "+2⋅V^2⋅f^2/J^4⋅b1⋅b2⋅a3⋅a4\n",
      "+2⋅i⋅V^3⋅f/J^4⋅b3⋅a5\n",
      "−2⋅i⋅V^3⋅f/J^4⋅b1⋅b2⋅a3⋅b3⋅a4⋅a5}"
     ]
    }
   ],
   "source": [
    "A, B = symbols('A B')\n",
    "psi2Vdg = N(A, 'a1 a2 b2')\n",
    "psi2Vdg2 = N(B, 'a1 b1 a3')\n",
    "psi2 = psi2a+psi2V+psi2Vf3+psi2Vf4+ psi2Vdg+psi2V4+ psi2Vdg2\n",
    "p(c(H,psi2))\n",
    "p(multiply_groups(psi0+psi1+psi2,psi0+psi1+psi2))"
   ]
  },
  {
   "cell_type": "code",
   "execution_count": 10,
   "metadata": {
    "autoscroll": "json-false",
    "collapsed": false,
    "ein.tags": [
     "worksheet-0"
    ]
   },
   "outputs": [],
   "source": [
    "#subspace, matrixrows = find_subspace(c(H, psi0+psi1), Jpart)\n",
    "#print_subspace(subspace)\n",
    "#cvector = build_vector_to_cancel(c(H, psi0+psi1), subspace)\n",
    "#psi2 =solve_for_commuting_term(cvector, psi0+psi1, 2, orders, matrixrows, subspace)\n",
    "#p(psi2)\n",
    "#print('\\n')\n",
    "#psi = psi0+psi1+psi2\n",
    "#p(c(H,psi))"
   ]
  },
  {
   "cell_type": "code",
   "execution_count": 11,
   "metadata": {
    "autoscroll": "json-false",
    "collapsed": false,
    "ein.tags": [
     "worksheet-0"
    ]
   },
   "outputs": [
    {
     "name": "stdout",
     "output_type": "stream",
     "text": [
      "\n"
     ]
    },
    {
     "name": "stdout",
     "output_type": "stream",
     "text": [
      "\n",
      "\n",
      "\n",
      "{+2⋅i⋅V^2⋅f/J^2⋅b1⋅a2⋅b4⋅a5⋅b5\n",
      "+2⋅V⋅f^2/J^2⋅a1⋅a2⋅a4\n",
      "+2⋅i⋅V^2⋅f/J^2⋅a1⋅b1⋅a2⋅b2⋅b3\n",
      "−2⋅V⋅f^2/J^2⋅b2⋅a3⋅b4\n",
      "+2⋅V^3/J^2⋅b1⋅a2⋅b3⋅a4⋅b5⋅a6⋅b6\n",
      "+2⋅i⋅V^2⋅f/J^2⋅b1⋅b2⋅a3⋅b3⋅a4\n",
      "+2⋅i⋅V^2⋅f/J^2⋅b1⋅a2⋅a3⋅b3⋅b4\n",
      "−4⋅V⋅f^2/J^2⋅a2⋅b2⋅b3\n",
      "+2⋅i⋅V^2⋅f/J^2⋅b1⋅a2⋅b3⋅b4⋅a5\n",
      "−2⋅i⋅V^2⋅f/J^2⋅a1⋅a2⋅b3⋅a4⋅a5\n",
      "+2⋅i⋅V^2⋅f/J^2⋅a1⋅b1⋅b3⋅a4⋅b4\n",
      "−2⋅V⋅f^2/J^2⋅b1⋅b2⋅a4\n",
      "+2⋅i⋅V^2⋅f/J^2⋅a2⋅b2⋅b3⋅a4⋅b4\n",
      "−2⋅i⋅V^2⋅f/J^2⋅b1⋅a2⋅a3⋅a4⋅a5\n",
      "+2⋅i⋅V^2⋅f/J^2⋅b2⋅a3⋅b4⋅a5⋅b5\n",
      "+2⋅i⋅V^2⋅f/J^2⋅b1⋅a2⋅b3⋅a4⋅b5\n",
      "−2⋅V⋅f^2/J^2⋅b1⋅a2⋅b4\n",
      "−2⋅V⋅f^2/J^2⋅a1⋅b1⋅b3\n",
      "−2⋅V⋅f^2/J^2⋅b2⋅b3⋅a4\n",
      "+2⋅i⋅V^2⋅f/J^2⋅b1⋅b2⋅b3⋅a4⋅a5\n",
      "−2⋅i⋅V^2⋅f/J^2⋅a1⋅b1⋅a2⋅a3⋅a4\n",
      "−2⋅V⋅f^2/J^2⋅b3⋅a4⋅b4\n",
      "+2⋅V⋅f^2/J^2⋅a2⋅a3⋅a4\n",
      "−2⋅i⋅V^2⋅f/J^2 - 2⋅i⋅f^3/J^2⋅b3}"
     ]
    },
    {
     "name": "stdout",
     "output_type": "stream",
     "text": [
      "0: a1 b1 b2\n",
      "1: a1 a2 b2\n",
      "2: a1 a2 a3\n",
      "3: a1 b1 a3\n",
      "4: b1 a2 b3\n",
      "5: b1 a2 a4\n",
      "6: b1 b2 a3\n",
      "7: a2 b2 a3\n",
      "8: b2\n",
      "9: a3\n",
      "10: b1 a2 b3 a4 b4\n",
      "11: b1 a2 b3 a4 a5\n",
      "12: b2 a3 b3\n",
      "13: b2 a3 a4\n",
      "{+f^2/J^2⋅a3\n",
      "−i⋅V⋅f/J^2⋅b2⋅a3⋅a4\n",
      "−i⋅V⋅f/J^2⋅a2⋅b2⋅a3\n",
      "−V^2/J^2⋅b1⋅a2⋅b3⋅a4⋅a5\n",
      "−i⋅V⋅f/J^2⋅a1⋅b1⋅a3\n",
      "−i⋅V⋅f/J^2⋅b1⋅a2⋅a4}"
     ]
    }
   ],
   "source": [
    "subspace, matrixrows = sparse_find_subspace(c(H, psi0+psi1), Jpart)\n",
    "print_subspace(subspace)\n",
    "cvector = build_vector_to_cancel(c(H, psi0+psi1), subspace)\n",
    "psi2 =sparse_solve_for_commuting_term(cvector, psi0+psi1, 2, orders, matrixrows, subspace)\n",
    "p(psi2)\n",
    "print('\\n')\n",
    "psi = psi0+psi1+psi2\n",
    "p(c(H,psi))"
   ]
  },
  {
   "cell_type": "code",
   "execution_count": 12,
   "metadata": {
    "autoscroll": "json-false",
    "collapsed": false,
    "ein.tags": [
     "worksheet-0"
    ]
   },
   "outputs": [],
   "source": [
    "#subspace, matrixrows = find_subspace(c(H, psi), Jpart)\n",
    "#print_subspace(subspace)\n",
    "#cvector = build_vector_to_cancel(c(H, psi), subspace)\n",
    "#psi3 = solve_for_commuting_term(cvector, psi, 3, orders, matrixrows, subspace)\n",
    "#p(psi3)\n",
    "#print('\\n')\n",
    "#p(c(H,psi+psi3))"
   ]
  },
  {
   "cell_type": "code",
   "execution_count": 13,
   "metadata": {
    "autoscroll": "json-false",
    "collapsed": false,
    "ein.tags": [
     "worksheet-0"
    ]
   },
   "outputs": [
    {
     "name": "stdout",
     "output_type": "stream",
     "text": [
      "\n"
     ]
    },
    {
     "name": "stdout",
     "output_type": "stream",
     "text": [
      "\n",
      "\n",
      "\n",
      "{−2⋅V⋅f^3/J^3⋅a1⋅b1⋅b4\n",
      "+10⋅i⋅V^2⋅f^2/(3⋅J^3)⋅b1⋅b2⋅a3⋅a4⋅b4\n",
      "−4⋅V^3⋅f/(3⋅J^3) - 2⋅V⋅f^3/(3⋅J^3)⋅b1⋅a2⋅b3\n",
      "+4⋅V^3⋅f/(3⋅J^3)⋅a2⋅b2⋅b3⋅a4⋅b5⋅a6⋅b6\n",
      "+2⋅i⋅V^2⋅f^2/J^3⋅b2⋅a3⋅b4⋅b5⋅a6\n",
      "+2⋅V^3⋅f/J^3⋅b1⋅a2⋅b3⋅a4⋅b6⋅a7⋅b7\n",
      "−2⋅V^3⋅f/(3⋅J^3)⋅a1⋅a4⋅a5\n",
      "−2⋅i⋅V^2⋅f^2/(3⋅J^3)⋅a1⋅a2⋅b2⋅b3⋅b4\n",
      "−2⋅V^3⋅f/(3⋅J^3)⋅b1⋅a2⋅b2⋅a3⋅b3⋅b4⋅a5\n",
      "−4⋅V^3⋅f/(3⋅J^3) - 2⋅V⋅f^3/J^3⋅b1⋅b2⋅a5\n",
      "+2⋅V^3⋅f/J^3⋅b1⋅a2⋅b3⋅a4⋅a5⋅b5⋅b6\n",
      "−2⋅i⋅V^2⋅f^2/J^3⋅b1⋅a2⋅a3⋅a4⋅a6\n",
      "+2⋅V^3⋅f/J^3⋅b1⋅a2⋅b3⋅b4⋅b5⋅a6⋅a7\n",
      "−2⋅V^3⋅f/J^3 - 2⋅V⋅f^3/J^3⋅b4⋅a5⋅b5\n",
      "+2⋅V^3⋅f/J^3⋅a1⋅b1⋅a2⋅b2⋅a3⋅b3⋅b4\n",
      "+4⋅V^3⋅f/(3⋅J^3) + 2⋅V⋅f^3/J^3⋅a3⋅a4⋅a5\n",
      "+4⋅i⋅V^2⋅f^2/(3⋅J^3)⋅a2⋅b2⋅b3⋅a4⋅b5\n",
      "+2⋅V^3⋅f/(3⋅J^3)⋅a1⋅b3⋅b4\n",
      "−2⋅V^3⋅f/J^3⋅b1⋅a2⋅a3⋅b3⋅a4⋅a5⋅a6\n",
      "+2⋅i⋅V^2⋅f^2/J^3⋅b1⋅b2⋅b3⋅a4⋅a6\n",
      "−2⋅V^3⋅f/J^3⋅b1⋅a2⋅a3⋅a4⋅b5⋅a6⋅a7\n",
      "+2⋅V^3⋅f/J^3⋅b1⋅b2⋅b3⋅a4⋅b5⋅a6⋅a7\n",
      "+2⋅V^3⋅f/J^3⋅b1⋅a2⋅b3⋅b4⋅a5⋅b5⋅a6\n",
      "+2⋅i⋅V^2⋅f^2/J^3⋅a3⋅b3⋅b4⋅a5⋅b5\n",
      "+2⋅i⋅V^2⋅f^2/J^3⋅b2⋅a3⋅b4⋅a5⋅b6\n",
      "−2⋅V^3⋅f/J^3⋅a1⋅a2⋅b3⋅a4⋅b5⋅a6⋅a7\n",
      "+2⋅V⋅f^3/J^3⋅a2⋅a3⋅a5\n",
      "−2⋅V^3⋅f/J^3 - 4⋅V⋅f^3/J^3⋅a3⋅b3⋅b4\n",
      "+2⋅i⋅V^2⋅f^2/J^3⋅b2⋅b3⋅b4⋅a5⋅a6\n",
      "+10⋅i⋅V^2⋅f^2/(3⋅J^3)⋅b1⋅b2⋅a3⋅b3⋅a5\n",
      "+2⋅V^3⋅f/(3⋅J^3)⋅b1⋅b4⋅a5\n",
      "+2⋅i⋅V^2⋅f^2/J^3⋅b1⋅b2⋅a4⋅b4⋅a5\n",
      "−2⋅V^3⋅f/(3⋅J^3)⋅b1⋅a2⋅b2⋅b3⋅a4⋅a5⋅b5\n",
      "+2⋅V^3⋅f/(3⋅J^3)⋅a1⋅a2⋅b2⋅a3⋅b3⋅a4⋅a5\n",
      "−2⋅V⋅f^3/J^3⋅b3⋅a4⋅b5\n",
      "+2⋅V^3⋅f/J^3⋅b1⋅a2⋅b3⋅a4⋅b5⋅a6⋅b7\n",
      "−2⋅V⋅f^3/(3⋅J^3)⋅a1⋅b2⋅b3\n",
      "+2⋅i⋅V^2⋅f^2/(3⋅J^3)⋅a1⋅a3⋅b3⋅a4⋅a5\n",
      "−4⋅i⋅V^2⋅f^2/(3⋅J^3)⋅a1⋅a2⋅a3⋅b3⋅a5\n",
      "−4⋅V^3⋅f/(3⋅J^3) - 2⋅V⋅f^3/(3⋅J^3)⋅b1⋅b2⋅a3\n",
      "+2⋅i⋅V^2⋅f^2/J^3⋅b1⋅a2⋅b3⋅b4⋅a6\n",
      "−2⋅i⋅V^2⋅f^2/J^3⋅a1⋅b1⋅a3⋅a4⋅a5\n",
      "+2⋅i⋅V^2⋅f^2/J^3⋅a1⋅b1⋅a3⋅b3⋅b4\n",
      "−2⋅i⋅V^4/J^3⋅b1⋅a2⋅b3⋅a4⋅b5⋅a6⋅b7⋅a8⋅b8\n",
      "−2⋅i⋅V^2⋅f^2/(3⋅J^3)⋅b2⋅a3⋅b3⋅a4⋅b4\n",
      "−2⋅V^3⋅f/(3⋅J^3)⋅b1⋅a2⋅b2⋅a4⋅b5⋅a6⋅b6\n",
      "−2⋅i⋅V^2⋅f^2/(3⋅J^3)⋅b2\n",
      "+2⋅V^3⋅f/J^3⋅b2⋅a3⋅b4⋅a5⋅b6⋅a7⋅b7\n",
      "−2⋅i⋅V^2⋅f^2/(3⋅J^3)⋅b1⋅a2⋅b2⋅a3⋅b4\n",
      "−2⋅V^3⋅f/J^3 - 8⋅V⋅f^3/(3⋅J^3)⋅a2⋅b2⋅b4\n",
      "+2⋅V^3⋅f/J^3⋅b1⋅b2⋅a3⋅b3⋅a4⋅b4⋅a5\n",
      "−4⋅i⋅V^2⋅f^2/(3⋅J^3)⋅b1⋅a3⋅b4⋅a5⋅b5\n",
      "+4⋅V⋅f^3/(3⋅J^3)⋅b1⋅b3⋅a4\n",
      "−4⋅V⋅f^3/(3⋅J^3)⋅a1⋅a3⋅a4\n",
      "+8⋅i⋅V^2⋅f^2/(3⋅J^3)⋅a2⋅b2⋅b4⋅a5⋅b5\n",
      "+2⋅V^3⋅f/J^3⋅b1⋅a2⋅b3⋅a4⋅b5⋅b6⋅a7\n",
      "+2⋅i⋅V^2⋅f^2/J^3⋅b2⋅a3⋅a4⋅b4⋅b5\n",
      "+2⋅i⋅V^2⋅f^2/J^3⋅b3⋅a4⋅b5⋅a6⋅b6\n",
      "−2⋅V⋅f^3/J^3⋅b2⋅b3⋅a5\n",
      "+2⋅V^3⋅f/(3⋅J^3) + 4⋅V⋅f^3/(3⋅J^3)⋅b1⋅a3⋅b4\n",
      "+2⋅i⋅V^2⋅f^2/J^3⋅b1⋅b2⋅b4⋅a5⋅a6\n",
      "+2⋅i⋅V^2⋅f^2/(3⋅J^3)⋅a1⋅a2⋅b2⋅a4⋅a5\n",
      "+4⋅i⋅V^2⋅f^2/J^3⋅b1⋅a2⋅a4⋅b4⋅b5\n",
      "−2⋅V^3⋅f/(3⋅J^3)⋅b1⋅a3⋅b3⋅a4⋅b5⋅a6⋅b6\n",
      "−2⋅i⋅V^2⋅f^2/J^3⋅b1⋅a2⋅a4⋅a5⋅a6\n",
      "+2⋅i⋅V^2⋅f^2/(3⋅J^3)⋅a1⋅b1⋅b2⋅a3⋅b3\n",
      "+2⋅i⋅V^2⋅f^2/J^3⋅a1⋅b1⋅b4⋅a5⋅b5\n",
      "−2⋅i⋅V^2⋅f^2/(3⋅J^3)⋅b1⋅a2⋅b2⋅a4⋅b5\n",
      "−2⋅i⋅V^2⋅f^2/(3⋅J^3)⋅b1⋅a3⋅b3⋅a4⋅b5\n",
      "+2⋅i⋅V^2⋅f^2/J^3⋅a1⋅b1⋅a2⋅b2⋅b4\n",
      "−2⋅i⋅V^2⋅f^2/J^3⋅a1⋅a2⋅b4⋅a5⋅a6\n",
      "+2⋅i⋅V^2⋅f^2/J^3⋅b2⋅a3⋅b5⋅a6⋅b6\n",
      "+2⋅i⋅V^2⋅f^2/J^3⋅b1⋅a2⋅b4⋅b5⋅a6\n",
      "+14⋅i⋅V^2⋅f^2/(3⋅J^3)⋅a2⋅b2⋅a3⋅b3⋅b4\n",
      "−2⋅V⋅f^3/(3⋅J^3)⋅b2⋅a3⋅b3\n",
      "+2⋅i⋅V^2⋅f^2/J^3⋅b1⋅a2⋅b5⋅a6⋅b6\n",
      "+2⋅V^3⋅f/J^3⋅a2⋅b2⋅a3⋅b3⋅b4⋅a5⋅b5\n",
      "−2⋅i⋅V^2⋅f^2/J^3⋅b2⋅a3⋅a4⋅a5⋅a6\n",
      "−2⋅V^3⋅f/J^3⋅a1⋅b1⋅a2⋅b2⋅a3⋅a4⋅a5\n",
      "−4⋅i⋅V^2⋅f^2/J^3 - 2⋅i⋅f^4/J^3⋅b4\n",
      "−2⋅V^3⋅f/J^3 - 2⋅V⋅f^3/J^3⋅b1⋅a2⋅b5\n",
      "+4⋅i⋅V^2⋅f^2/(3⋅J^3)⋅a2⋅b2⋅b3⋅b4⋅a5\n",
      "+4⋅i⋅V^2⋅f^2/(3⋅J^3)⋅b1⋅a2⋅a3⋅b3⋅b5\n",
      "+2⋅V^3⋅f/J^3⋅a1⋅b1⋅a2⋅b2⋅b4⋅a5⋅b5\n",
      "−4⋅i⋅V^2⋅f^2/(3⋅J^3)⋅a1⋅a2⋅a3⋅a4⋅b4\n",
      "+2⋅V^3⋅f/J^3⋅b1⋅a2⋅b4⋅a5⋅b6⋅a7⋅b7\n",
      "+4⋅V^3⋅f/(3⋅J^3)⋅b1⋅a2⋅a3⋅b3⋅a4⋅b4⋅b5\n",
      "+2⋅i⋅V^2⋅f^2/J^3⋅a1⋅b1⋅b3⋅b4⋅a5\n",
      "+2⋅i⋅V^2⋅f^2/J^3⋅b1⋅a2⋅b4⋅a5⋅b6\n",
      "+8⋅i⋅V^2⋅f^2/(3⋅J^3)⋅b1⋅a2⋅b3⋅a4⋅b4\n",
      "−2⋅i⋅V^2⋅f^2/(3⋅J^3)⋅b1⋅a3⋅b3⋅b4⋅a5\n",
      "+2⋅V^3⋅f/J^3⋅a1⋅b1⋅b3⋅a4⋅b5⋅a6⋅b6\n",
      "+4⋅i⋅V^2⋅f^2/(3⋅J^3)⋅a1⋅b2⋅b3⋅a4⋅b4\n",
      "+2⋅V^3⋅f/(3⋅J^3)⋅b2⋅a4⋅b4\n",
      "−2⋅i⋅V^2⋅f^2/J^3⋅a1⋅a2⋅a4⋅b4⋅a5\n",
      "+2⋅i⋅V^2⋅f^2/J^3⋅a1⋅b1⋅b3⋅a4⋅b5\n",
      "−2⋅i⋅V^2⋅f^2/J^3⋅a1⋅a2⋅b3⋅a4⋅a6\n",
      "−2⋅i⋅V^2⋅f^2/(3⋅J^3)⋅b1⋅a2⋅b2⋅b4⋅a5\n",
      "+2⋅V^3⋅f/J^3⋅b1⋅b2⋅a3⋅b3⋅b4⋅a5⋅a6\n",
      "+2⋅V^3⋅f/J^3⋅b1⋅a2⋅a4⋅b4⋅b5⋅a6⋅b6\n",
      "−2⋅V⋅f^3/J^3⋅b3⋅b4⋅a5\n",
      "−2⋅V^3⋅f/J^3⋅b1⋅a2⋅b3⋅a4⋅a5⋅a6⋅a7\n",
      "+2⋅V⋅f^3/J^3⋅a1⋅a2⋅a5\n",
      "+4⋅V^3⋅f/(3⋅J^3)⋅b1⋅a2⋅a3⋅b3⋅b5⋅a6⋅b6\n",
      "+2⋅i⋅V^2⋅f^2/J^3⋅b1⋅a2⋅b3⋅a4⋅b6\n",
      "−2⋅V⋅f^3/J^3⋅b2⋅a3⋅b5\n",
      "−2⋅i⋅V^2⋅f^2/J^3⋅a1⋅b1⋅a2⋅a3⋅a5\n",
      "+4⋅i⋅V^2⋅f^2/(3⋅J^3)⋅a1⋅a2⋅b2⋅a3⋅a4\n",
      "−10⋅i⋅V^2⋅f^2/(3⋅J^3)⋅a2⋅b2⋅a3⋅a4⋅a5\n",
      "+2⋅i⋅V^2⋅f^2/J^3⋅b2⋅b3⋅a4⋅b4⋅a5\n",
      "−2⋅V^3⋅f/(3⋅J^3)⋅a1⋅b1⋅b2⋅a3⋅b3⋅a4⋅b4\n",
      "−2⋅i⋅V^2⋅f^2/J^3⋅b1⋅a2⋅b2⋅b3⋅a4\n",
      "−2⋅V^3⋅f/J^3⋅a1⋅b1⋅a2⋅a3⋅b4⋅a5⋅a6\n",
      "−2⋅i⋅V^2⋅f^2/J^3⋅a2⋅a3⋅b4⋅a5⋅a6}"
     ]
    },
    {
     "name": "stdout",
     "output_type": "stream",
     "text": [
      "0: b1 a2 b4 a5 b5\n",
      "1: b1 a2 b4 a5 a6\n",
      "2: a1 a2 a4\n",
      "3: a1 b1 a4\n",
      "4: a1 b1 b3\n",
      "5: a1 a2 b3\n",
      "6: a1 b1 a2 b2 b3\n",
      "7: a1 b1 a2 a3 b3\n",
      "8: a1 b1 a2 a3 a4\n",
      "9: a1 b1 a2 b2 a4\n",
      "10: b2 a3 b4\n",
      "11: b2 a3 a5\n",
      "12: b1 a2 b3 a4 b5 a6 b6\n",
      "13: b1 a2 b3 a4 b5 a6 a7\n",
      "14: b1 b2 a3 b3 a4\n",
      "15: a2 b2 a3 b3 a4\n",
      "16: b1 a2 a3 b3 b4\n",
      "17: b1 a2 a3 b3 a5\n",
      "18: b1 a2 a3 a4 a5\n",
      "19: b1 a2 b2 a4 a5\n",
      "20: b1 a2 b2 b3 a5\n",
      "21: b1 a2 b2 b3 b4\n",
      "22: b1 a2 b2 a4 b4\n",
      "23: b1 a2 a3 a4 b4\n",
      "24: a2 b2 b3\n",
      "25: b1 b2 b3\n",
      "26: b1 b2 a4\n",
      "27: a2 b2 a4\n",
      "28: a2 a3 a4\n",
      "29: a2 a3 b3\n",
      "30: b1 a3 b3\n",
      "31: b1 a3 a4\n",
      "32: b1 a2 b3 b4 a5\n",
      "33: b1 a2 a4 b4 a5\n",
      "34: a1 a2 b3 a4 a5\n",
      "35: a1 b1 b3 a4 a5\n",
      "36: a1 b1 b3 a4 b4\n",
      "37: a1 a2 b3 a4 b4\n",
      "38: a2 b2 b3 a4 b4\n",
      "39: a2 a3 b3 a4 b4\n",
      "40: b1 a3 b3 a4 b4\n",
      "41: b1 b2 b3 a4 b4\n",
      "42: b1 b2 b3 a4 a5\n",
      "43: b1 a3 b3 a4 a5\n",
      "44: a2 a3 b3 a4 a5\n",
      "45: a2 b2 b3 a4 a5\n",
      "46: b2 a3 b4 a5 b5\n",
      "47: b2 a3 b4 a5 a6\n",
      "48: b1 a2 b3 a4 b5\n",
      "49: b1 a2 b3 a4 a6\n",
      "50: b1 a2 b4\n",
      "51: b1 a2 a5\n",
      "52: b2 b3 a4\n",
      "53: a3 b3 a4\n",
      "54: b3 a4 b4\n",
      "55: b3 a4 a5\n",
      "56: b3\n",
      "57: a4\n",
      "{+V^2⋅f/(3⋅J^3)⋅b1⋅a2⋅b2⋅a4⋅a5\n",
      "−4⋅i⋅V⋅f^2/(3⋅J^3)⋅a2⋅b2⋅a4\n",
      "+V^2⋅f/(3⋅J^3)⋅b1⋅a3⋅b3⋅a4⋅a5\n",
      "+i⋅V⋅f^2/(3⋅J^3)⋅b1⋅b2⋅b3\n",
      "−V^2⋅f/J^3⋅b1⋅a2⋅b4⋅a5⋅a6\n",
      "−V^2⋅f/J^3⋅a1⋅b1⋅a2⋅b2⋅a4\n",
      "−V^2⋅f/J^3⋅b2⋅a3⋅b4⋅a5⋅a6\n",
      "−V^2⋅f/J^3⋅b1⋅a2⋅b3⋅a4⋅a6\n",
      "−V^2⋅f/J^3⋅a2⋅b2⋅a3⋅b3⋅a4\n",
      "+V^2⋅f/J^3 + f^3/J^3⋅a4\n",
      "+2⋅i⋅V⋅f^2/(3⋅J^3)⋅b1⋅a3⋅a4\n",
      "−i⋅V⋅f^2/J^3⋅a3⋅b3⋅a4\n",
      "−i⋅V⋅f^2/J^3⋅b1⋅a2⋅a5\n",
      "−V^2⋅f/(3⋅J^3)⋅b1⋅a2⋅b2⋅b3⋅b4\n",
      "−V^2⋅f/J^3⋅a1⋅b1⋅b3⋅a4⋅a5\n",
      "−i⋅V⋅f^2/J^3⋅a1⋅b1⋅a4\n",
      "−V^2⋅f/J^3⋅b1⋅a2⋅a4⋅b4⋅a5\n",
      "+i⋅V^3/J^3⋅b1⋅a2⋅b3⋅a4⋅b5⋅a6⋅a7\n",
      "−i⋅V⋅f^2/J^3⋅b2⋅a3⋅a5\n",
      "+V^2⋅f/(3⋅J^3)⋅a2⋅a3⋅b3⋅a4⋅b4\n",
      "−2⋅V^2⋅f/(3⋅J^3)⋅a2⋅b2⋅b3⋅a4⋅a5\n",
      "−i⋅V⋅f^2/(3⋅J^3)⋅a2⋅a3⋅b3\n",
      "−2⋅V^2⋅f/(3⋅J^3)⋅b1⋅a2⋅a3⋅b3⋅a5\n",
      "+2⋅V^2⋅f/(3⋅J^3)⋅b1⋅b2⋅b3⋅a4⋅b4\n",
      "−2⋅V^2⋅f/(3⋅J^3)⋅b1⋅a2⋅a3⋅a4⋅b4\n",
      "−i⋅V⋅f^2/J^3⋅b3⋅a4⋅a5}"
     ]
    }
   ],
   "source": [
    "subspace, matrixrows = sparse_find_subspace(c(H, psi), Jpart)\n",
    "print_subspace(subspace)\n",
    "cvector = build_vector_to_cancel(c(H, psi), subspace)\n",
    "psi3 = sparse_solve_for_commuting_term(cvector, psi, 3, orders, matrixrows, subspace)\n",
    "p(psi3)\n",
    "print('\\n')\n",
    "p(c(H,psi+psi3))"
   ]
  },
  {
   "cell_type": "code",
   "execution_count": 16,
   "metadata": {
    "autoscroll": "json-false",
    "collapsed": false,
    "ein.tags": [
     "worksheet-0"
    ]
   },
   "outputs": [
    {
     "name": "stdout",
     "output_type": "stream",
     "text": [
      "\n",
      "{+4⋅V^2⋅f^2/J^2⋅a2⋅a3⋅b4⋅a5⋅b5\n",
      "+4⋅V^2⋅f^2/J^2⋅a2⋅b2⋅b4⋅a5⋅a6\n",
      "+4⋅V^2⋅f^2/J^2⋅b1⋅a3⋅b4⋅a5⋅a6}\n"
     ]
    },
    {
     "name": "stdout",
     "output_type": "stream",
     "text": [
      "\n",
      "-4⋅V^2⋅f^2/J^2⋅b1⋅a2⋅a3⋅b3⋅a4\n",
      "{−4⋅i⋅V^3⋅f/J^2⋅a1⋅b1⋅a2⋅b2⋅b4⋅a5⋅a6\n",
      "−4⋅i⋅V^3⋅f/J^2⋅a1⋅b1⋅a2⋅a3⋅b4⋅a5⋅b5}"
     ]
    },
    {
     "name": "stdout",
     "output_type": "stream",
     "text": [
      "\n",
      "4⋅V^2⋅f^2/J^2⋅a3⋅b3⋅a4⋅b4⋅a5\n",
      "{+4⋅i⋅V^3⋅f/(3⋅J^2)⋅a1⋅b1⋅b2⋅a3⋅b3⋅a4⋅a5\n",
      "+4⋅i⋅V^3⋅f/(3⋅J^2)⋅a1⋅a2⋅b2⋅a3⋅b3⋅a4⋅b4}"
     ]
    },
    {
     "name": "stdout",
     "output_type": "stream",
     "text": [
      "\n",
      "{−8⋅V^2⋅f^2/(3⋅J^2)⋅a1⋅a2⋅b2⋅a3⋅b3\n",
      "−8⋅V^2⋅f^2/(3⋅J^2)⋅a1⋅b1⋅b2⋅a3⋅a4}\n",
      "{+20⋅V^2⋅f^2/(3⋅J^2)⋅b1⋅b2⋅a3⋅a4⋅a5\n",
      "+20⋅V^2⋅f^2/(3⋅J^2)⋅a2⋅b2⋅a3⋅a4⋅b4\n",
      "+20⋅V^2⋅f^2/(3⋅J^2)⋅a2⋅b2⋅a3⋅b3⋅a5}"
     ]
    },
    {
     "name": "stdout",
     "output_type": "stream",
     "text": [
      "\n",
      "4⋅V^2⋅f^2/J^2⋅b1⋅a2⋅b3⋅a4⋅a7\n",
      "4⋅i⋅V⋅f^3/J^2⋅b2⋅a3⋅a6\n",
      "{+4⋅V^2⋅f^2/J^2⋅a1⋅b1⋅a2⋅a3⋅b4\n",
      "+4⋅V^2⋅f^2/J^2⋅a1⋅b1⋅a2⋅b2⋅a5}"
     ]
    },
    {
     "name": "stdout",
     "output_type": "stream",
     "text": [
      "\n",
      "{+4⋅i⋅V⋅f^3/J^2⋅a1⋅a2⋅b4\n",
      "+4⋅i⋅V⋅f^3/J^2⋅a1⋅b1⋅a5}\n",
      "{−8⋅i⋅V^3⋅f/(3⋅J^2)⋅b1⋅a2⋅a3⋅a4⋅b5⋅a6⋅b6\n",
      "−8⋅i⋅V^3⋅f/(3⋅J^2)⋅b1⋅a2⋅a3⋅b3⋅b5⋅a6⋅a7\n",
      "+8⋅i⋅V^3⋅f/(3⋅J^2)⋅b1⋅a2⋅b2⋅b3⋅b5⋅a6⋅b6}"
     ]
    },
    {
     "name": "stdout",
     "output_type": "stream",
     "text": [
      "\n",
      "4⋅i⋅V⋅f^3/J^2⋅a4⋅b4⋅a5\n",
      "{−4⋅i⋅V^3⋅f/J^2⋅b1⋅a2⋅b3⋅a4⋅a5⋅b5⋅a7\n",
      "−4⋅i⋅V^3⋅f/J^2⋅b1⋅a2⋅b3⋅a4⋅b4⋅a6⋅a7\n",
      "−4⋅i⋅V^3⋅f/J^2⋅b1⋅a2⋅b3⋅a4⋅a5⋅a6⋅b6}"
     ]
    },
    {
     "name": "stdout",
     "output_type": "stream",
     "text": [
      "\n",
      "{+4⋅i⋅V^3⋅f/J^2⋅b1⋅b2⋅a3⋅b3⋅b4⋅a5⋅b5\n",
      "−4⋅i⋅V^3⋅f/J^2⋅b1⋅b2⋅a3⋅a4⋅b4⋅a5⋅a6\n",
      "−4⋅i⋅V^3⋅f/J^2⋅a2⋅b2⋅a3⋅b3⋅b4⋅a5⋅a6}\n",
      "{−4⋅i⋅V^3⋅f/J^2⋅b1⋅a2⋅a4⋅a5⋅b5⋅a6⋅b6\n",
      "−4⋅i⋅V^3⋅f/J^2⋅b1⋅a2⋅a4⋅b4⋅b5⋅a6⋅a7\n",
      "+4⋅i⋅V^3⋅f/J^2⋅b1⋅a2⋅b3⋅b4⋅b5⋅a6⋅b6}"
     ]
    },
    {
     "name": "stdout",
     "output_type": "stream",
     "text": [
      "\n",
      "{+4⋅V^2⋅f^2/J^2⋅a1⋅a2⋅b3⋅a4⋅b5\n",
      "+4⋅V^2⋅f^2/J^2⋅a1⋅b1⋅b3⋅a4⋅a6}\n",
      "-4⋅V^2⋅f^2/(3⋅J^2)⋅b1⋅a2⋅a3⋅b4⋅a5"
     ]
    },
    {
     "name": "stdout",
     "output_type": "stream",
     "text": [
      "\n",
      "{+4⋅V^2⋅f^2/J^2⋅a1⋅b1⋅a4⋅b4⋅a5\n",
      "+4⋅V^2⋅f^2/J^2⋅a1⋅a2⋅b3⋅b4⋅a5}\n",
      "{+4⋅V^2⋅f^2/J^2⋅a1⋅a2⋅b3⋅a4⋅b5\n",
      "+4⋅V^2⋅f^2/J^2⋅a1⋅b1⋅b3⋅a4⋅a6}"
     ]
    },
    {
     "name": "stdout",
     "output_type": "stream",
     "text": [
      "\n",
      "{+8⋅V^2⋅f^2/(3⋅J^2)⋅a1⋅a3⋅b3⋅a4⋅b4\n",
      "+8⋅V^2⋅f^2/(3⋅J^2)⋅a1⋅b2⋅b3⋅a4⋅a5}\n",
      "{−4⋅i⋅V^3⋅f/(3⋅J^2)⋅b2⋅a4⋅a5\n",
      "+4⋅i⋅V^3⋅f/(3⋅J^2)⋅b2⋅b3⋅b4\n",
      "−4⋅i⋅V^3⋅f/(3⋅J^2)⋅a3⋅a4⋅b4}"
     ]
    },
    {
     "name": "stdout",
     "output_type": "stream",
     "text": [
      "\n",
      "{−4⋅V^2⋅f^2/(3⋅J^2)⋅a2⋅a3⋅b3⋅b4⋅a5\n",
      "−4⋅V^2⋅f^2/(3⋅J^2)⋅b1⋅a3⋅a4⋅b4⋅a5\n",
      "+4⋅V^2⋅f^2/(3⋅J^2)⋅b1⋅b2⋅b3⋅b4⋅a5}\n",
      "{−4⋅i⋅V^3⋅f/J^2⋅a1⋅a2⋅b3⋅a4⋅b5⋅a6⋅b6\n",
      "−4⋅i⋅V^3⋅f/J^2⋅a1⋅b1⋅b3⋅a4⋅b5⋅a6⋅a7}"
     ]
    },
    {
     "name": "stdout",
     "output_type": "stream",
     "text": [
      "\n",
      "4⋅V^2⋅f^2/J^2⋅b1⋅a2⋅b4⋅a5⋅a7\n",
      "16⋅V^2⋅f^2/(3⋅J^2)⋅b1⋅a2⋅b3⋅a4⋅a5"
     ]
    },
    {
     "name": "stdout",
     "output_type": "stream",
     "text": [
      "\n",
      "{−8⋅i⋅V^3⋅f/(3⋅J^2)⋅b1⋅a2⋅a3⋅b3⋅a4⋅b4⋅a6\n",
      "+8⋅i⋅V^3⋅f/(3⋅J^2)⋅b1⋅a2⋅b2⋅b3⋅a4⋅b4⋅b5\n",
      "−8⋅i⋅V^3⋅f/(3⋅J^2)⋅b1⋅a2⋅a3⋅b3⋅a4⋅a5⋅b5}\n",
      "{+4⋅V^2⋅f^2/J^2⋅a1⋅b1⋅a4⋅b4⋅a5\n",
      "+4⋅V^2⋅f^2/J^2⋅a1⋅a2⋅b3⋅b4⋅a5}"
     ]
    },
    {
     "name": "stdout",
     "output_type": "stream",
     "text": [
      "\n",
      "{+8⋅V^2⋅f^2/(3⋅J^2)⋅a1⋅b1⋅a3⋅a4⋅b4\n",
      "−8⋅V^2⋅f^2/(3⋅J^2)⋅a1⋅a2⋅a3⋅a4⋅a5\n",
      "+8⋅V^2⋅f^2/(3⋅J^2)⋅a1⋅a2⋅a3⋅b3⋅b4\n",
      "+8⋅V^2⋅f^2/(3⋅J^2)⋅a1⋅a2⋅b2⋅a4⋅b4}\n",
      "-4⋅i⋅V^3⋅f/J^2⋅b1⋅a2⋅b4⋅a5⋅b6⋅a7⋅a8"
     ]
    },
    {
     "name": "stdout",
     "output_type": "stream",
     "text": [
      "\n",
      "{+8⋅V^2⋅f^2/(3⋅J^2)⋅b1⋅a2⋅a3⋅b3⋅a6\n",
      "−8⋅V^2⋅f^2/(3⋅J^2)⋅b1⋅a2⋅b2⋅b3⋅b5\n",
      "+8⋅V^2⋅f^2/(3⋅J^2)⋅b1⋅a2⋅a3⋅a4⋅b5}\n",
      "{−4⋅i⋅V^3⋅f/J^2⋅a1⋅b1⋅a2⋅a3⋅b4⋅a5⋅b5\n",
      "−4⋅i⋅V^3⋅f/J^2⋅a1⋅b1⋅a2⋅b2⋅b4⋅a5⋅a6}"
     ]
    },
    {
     "name": "stdout",
     "output_type": "stream",
     "text": [
      "\n",
      "-8⋅V^2⋅f^2/J^2 - 4⋅f^4/J^2⋅a5\n",
      "4⋅i⋅V^3⋅f/J^2 + 4⋅i⋅V⋅f^3/J^2⋅b1⋅a2⋅a6\n",
      "{+8⋅V^2⋅f^2/(3⋅J^2)⋅a2⋅a3⋅b3⋅b4⋅a5\n",
      "−8⋅V^2⋅f^2/(3⋅J^2)⋅b1⋅b2⋅b3⋅b4⋅a5\n",
      "+8⋅V^2⋅f^2/(3⋅J^2)⋅a2⋅b2⋅a4⋅b4⋅a5}"
     ]
    },
    {
     "name": "stdout",
     "output_type": "stream",
     "text": [
      "\n",
      "{+4⋅V^2⋅f^2/J^2⋅b2⋅a3⋅a4⋅a5⋅b5\n",
      "+4⋅V^2⋅f^2/J^2⋅b2⋅a3⋅b3⋅a5⋅a6\n",
      "+4⋅V^2⋅f^2/J^2⋅b2⋅a3⋅a4⋅b4⋅a6}\n",
      "{−4⋅i⋅V^3⋅f/J^2⋅a1⋅b1⋅a2⋅b2⋅a3⋅b3⋅a5\n",
      "−4⋅i⋅V^3⋅f/J^2⋅a1⋅b1⋅a2⋅b2⋅a3⋅a4⋅b4}"
     ]
    },
    {
     "name": "stdout",
     "output_type": "stream",
     "text": [
      "\n",
      "4⋅i⋅V⋅f^3/(3⋅J^2)⋅b2⋅a3⋅a4\n",
      "4⋅V^2⋅f^2/J^2⋅b1⋅a2⋅b5⋅a6⋅a7\n",
      "{+4⋅i⋅V^3⋅f/J^2⋅b1⋅b2⋅a3⋅b3⋅b4⋅a5⋅b5\n",
      "−4⋅i⋅V^3⋅f/J^2⋅a2⋅b2⋅a3⋅b3⋅b4⋅a5⋅a6\n",
      "−4⋅i⋅V^3⋅f/J^2⋅a2⋅b2⋅a3⋅a4⋅b4⋅a5⋅b5}"
     ]
    },
    {
     "name": "stdout",
     "output_type": "stream",
     "text": [
      "\n",
      "4⋅V^2⋅f^2/J^2⋅b1⋅a2⋅a5⋅b5⋅a6\n",
      "{+28⋅V^2⋅f^2/(3⋅J^2)⋅a2⋅b2⋅a3⋅a4⋅b4\n",
      "+28⋅V^2⋅f^2/(3⋅J^2)⋅a2⋅b2⋅a3⋅b3⋅a5\n",
      "−28⋅V^2⋅f^2/(3⋅J^2)⋅b1⋅b2⋅a3⋅b3⋅b4}"
     ]
    },
    {
     "name": "stdout",
     "output_type": "stream",
     "text": [
      "\n",
      "{+4⋅V^2⋅f^2/J^2⋅a1⋅a2⋅b4⋅a5⋅b5\n",
      "+4⋅V^2⋅f^2/J^2⋅a1⋅b1⋅b4⋅a5⋅a6}\n",
      "4⋅V^2⋅f^2/J^2⋅b2⋅a3⋅b5⋅a6⋅a7"
     ]
    },
    {
     "name": "stdout",
     "output_type": "stream",
     "text": [
      "\n",
      "{−4⋅V^2⋅f^2/(3⋅J^2)⋅a2⋅a3⋅b3⋅a4⋅b5\n",
      "+4⋅V^2⋅f^2/(3⋅J^2)⋅b1⋅b2⋅b3⋅a4⋅b5\n",
      "−4⋅V^2⋅f^2/(3⋅J^2)⋅b1⋅a3⋅b3⋅a4⋅a6}\n",
      "{+4⋅V^2⋅f^2/J^2⋅a1⋅b1⋅a2⋅b2⋅a5\n",
      "+4⋅V^2⋅f^2/J^2⋅a1⋅b1⋅a2⋅a3⋅b4}"
     ]
    },
    {
     "name": "stdout",
     "output_type": "stream",
     "text": [
      "\n",
      "{+4⋅V^2⋅f^2/J^2⋅a1⋅a2⋅b4⋅a5⋅b5\n",
      "+4⋅V^2⋅f^2/J^2⋅a1⋅b1⋅b4⋅a5⋅a6}\n",
      "{−4⋅V^2⋅f^2/(3⋅J^2)⋅b1⋅a2⋅b2⋅a4⋅a6\n",
      "+4⋅V^2⋅f^2/(3⋅J^2)⋅b1⋅a2⋅b2⋅b3⋅b5\n",
      "−4⋅V^2⋅f^2/(3⋅J^2)⋅b1⋅a2⋅a3⋅a4⋅b5}"
     ]
    },
    {
     "name": "stdout",
     "output_type": "stream",
     "text": [
      "\n",
      "{+4⋅V^2⋅f^2/J^2⋅b1⋅a2⋅b3⋅a5⋅a6\n",
      "+4⋅V^2⋅f^2/J^2⋅b1⋅a2⋅a4⋅b4⋅a6\n",
      "+4⋅V^2⋅f^2/J^2⋅b1⋅a2⋅a4⋅a5⋅b5}\n",
      "{+4⋅V^2⋅f^2/(3⋅J^2)⋅a1⋅a2⋅b2⋅a3⋅b3\n",
      "+4⋅V^2⋅f^2/(3⋅J^2)⋅a1⋅b1⋅b2⋅a3⋅a4}"
     ]
    },
    {
     "name": "stdout",
     "output_type": "stream",
     "text": [
      "\n",
      "{+8⋅V^2⋅f^2/J^2⋅b1⋅a2⋅a4⋅b4⋅a6\n",
      "−8⋅V^2⋅f^2/J^2⋅b1⋅a2⋅b3⋅b4⋅b5\n",
      "+8⋅V^2⋅f^2/J^2⋅b1⋅a2⋅a4⋅a5⋅b5}\n",
      "{+4⋅i⋅V^3⋅f/(3⋅J^2)⋅b1⋅a3⋅b3⋅a4⋅b5⋅a6⋅a7\n",
      "−4⋅i⋅V^3⋅f/(3⋅J^2)⋅b1⋅b2⋅b3⋅a4⋅b5⋅a6⋅b6\n",
      "+4⋅i⋅V^3⋅f/(3⋅J^2)⋅a2⋅a3⋅b3⋅a4⋅b5⋅a6⋅b6}"
     ]
    },
    {
     "name": "stdout",
     "output_type": "stream",
     "text": [
      "\n",
      "{+4⋅V^2⋅f^2/J^2⋅a2⋅b2⋅b4⋅a5⋅a6\n",
      "−4⋅V^2⋅f^2/J^2⋅b1⋅b2⋅b4⋅a5⋅b5\n",
      "+4⋅V^2⋅f^2/J^2⋅b1⋅a3⋅b4⋅a5⋅a6}\n",
      "{−4⋅V^2⋅f^2/(3⋅J^2)⋅a1⋅b1⋅b2⋅a4⋅a5\n",
      "−4⋅V^2⋅f^2/(3⋅J^2)⋅a1⋅a2⋅b2⋅b3⋅a5\n",
      "+4⋅V^2⋅f^2/(3⋅J^2)⋅a1⋅a2⋅a3⋅a4⋅a5\n",
      "−4⋅V^2⋅f^2/(3⋅J^2)⋅a1⋅a2⋅b2⋅a4⋅b4}"
     ]
    },
    {
     "name": "stdout",
     "output_type": "stream",
     "text": [
      "\n",
      "4⋅V^2⋅f^2/J^2⋅b3⋅a4⋅b5⋅a6⋅a7\n",
      "{−4⋅i⋅V⋅f^3/J^2⋅b2⋅b3⋅b4\n",
      "+4⋅i⋅V⋅f^3/J^2⋅a3⋅b3⋅a5\n",
      "+4⋅i⋅V⋅f^3/J^2⋅b2⋅a4⋅a5}\n",
      "{−4⋅i⋅V^3⋅f/(3⋅J^2) - 8⋅i⋅V⋅f^3/(3⋅J^2)⋅a2⋅a3⋅b4\n",
      "−4⋅i⋅V^3⋅f/(3⋅J^2) - 8⋅i⋅V⋅f^3/(3⋅J^2)⋅b1⋅a3⋅a5\n",
      "+4⋅i⋅V^3⋅f/(3⋅J^2) + 8⋅i⋅V⋅f^3/(3⋅J^2)⋅b1⋅b2⋅b4}"
     ]
    },
    {
     "name": "stdout",
     "output_type": "stream",
     "text": [
      "\n",
      "-4⋅i⋅V^3⋅f/J^2⋅b1⋅a2⋅b3⋅a4⋅a6⋅b6⋅a7\n",
      "{−4⋅V^2⋅f^2/J^2⋅b2⋅a3⋅b3⋅b4⋅b5\n",
      "+4⋅V^2⋅f^2/J^2⋅b2⋅a3⋅a4⋅a5⋅b5\n",
      "+4⋅V^2⋅f^2/J^2⋅b2⋅a3⋅a4⋅b4⋅a6}"
     ]
    },
    {
     "name": "stdout",
     "output_type": "stream",
     "text": [
      "\n",
      "-8⋅i⋅V⋅f^3/(3⋅J^2)⋅a2⋅b3⋅a4\n",
      "{−8⋅i⋅V⋅f^3/(3⋅J^2)⋅a1⋅b2⋅a4\n",
      "−8⋅i⋅V⋅f^3/(3⋅J^2)⋅a1⋅a3⋅b3}\n",
      "{+16⋅V^2⋅f^2/(3⋅J^2)⋅a2⋅a3⋅b4⋅a5⋅b5\n",
      "+16⋅V^2⋅f^2/(3⋅J^2)⋅a2⋅b2⋅b4⋅a5⋅a6\n",
      "−16⋅V^2⋅f^2/(3⋅J^2)⋅b1⋅b2⋅b4⋅a5⋅b5}"
     ]
    },
    {
     "name": "stdout",
     "output_type": "stream",
     "text": [
      "\n",
      "-4⋅i⋅V^3⋅f/J^2⋅a2⋅b2⋅a3⋅b3⋅a4⋅b4⋅a5\n",
      "{−8⋅V^2⋅f^2/(3⋅J^2)⋅a2⋅a3⋅b4⋅a5⋅b5\n",
      "+8⋅V^2⋅f^2/(3⋅J^2)⋅b1⋅b2⋅b4⋅a5⋅b5\n",
      "−8⋅V^2⋅f^2/(3⋅J^2)⋅b1⋅a3⋅b4⋅a5⋅a6}"
     ]
    },
    {
     "name": "stdout",
     "output_type": "stream",
     "text": [
      "\n",
      "-4⋅V^2⋅f^2/(3⋅J^2)⋅b1⋅a2⋅b2⋅a3⋅a5\n",
      "{−4⋅i⋅V^3⋅f/J^2 - 16⋅i⋅V⋅f^3/(3⋅J^2)⋅b1⋅b2⋅b4\n",
      "+4⋅i⋅V^3⋅f/J^2 + 16⋅i⋅V⋅f^3/(3⋅J^2)⋅a2⋅b2⋅a5\n",
      "+4⋅i⋅V^3⋅f/J^2 + 16⋅i⋅V⋅f^3/(3⋅J^2)⋅a2⋅a3⋅b4}"
     ]
    },
    {
     "name": "stdout",
     "output_type": "stream",
     "text": [
      "\n",
      "-4⋅V^2⋅f^2/(3⋅J^2)⋅a3\n",
      "-4⋅i⋅V^3⋅f/J^2⋅b2⋅a3⋅b4⋅a5⋅b6⋅a7⋅a8"
     ]
    },
    {
     "name": "stdout",
     "output_type": "stream",
     "text": [
      "\n",
      "-4⋅V^2⋅f^2/(3⋅J^2)⋅b2⋅a3⋅b3⋅a4⋅a5\n",
      "{−4⋅i⋅V^3⋅f/(3⋅J^2)⋅b1⋅a2⋅b2⋅b3⋅b5⋅a6⋅b6\n",
      "+4⋅i⋅V^3⋅f/(3⋅J^2)⋅b1⋅a2⋅b2⋅a4⋅b5⋅a6⋅a7\n",
      "+4⋅i⋅V^3⋅f/(3⋅J^2)⋅b1⋅a2⋅a3⋅a4⋅b5⋅a6⋅b6}"
     ]
    },
    {
     "name": "stdout",
     "output_type": "stream",
     "text": [
      "\n",
      "{+4⋅V^2⋅f^2/J^2⋅a1⋅b1⋅a3⋅b3⋅a5\n",
      "+4⋅V^2⋅f^2/J^2⋅a1⋅b1⋅a3⋅a4⋅b4\n",
      "+4⋅V^2⋅f^2/J^2⋅a1⋅a2⋅a3⋅b3⋅b4\n",
      "−4⋅V^2⋅f^2/J^2⋅a1⋅b1⋅b2⋅b3⋅b4}\n",
      "-4⋅V^4/J^2⋅b1⋅a2⋅b3⋅a4⋅b5⋅a6⋅b7⋅a8⋅a9"
     ]
    },
    {
     "name": "stdout",
     "output_type": "stream",
     "text": [
      "\n",
      "{+4⋅V^2⋅f^2/J^2⋅b1⋅a2⋅a4⋅b4⋅a6\n",
      "+4⋅V^2⋅f^2/J^2⋅b1⋅a2⋅b3⋅a5⋅a6\n",
      "−4⋅V^2⋅f^2/J^2⋅b1⋅a2⋅b3⋅b4⋅b5}\n",
      "{+4⋅V^2⋅f^2/J^2⋅a1⋅b1⋅b2⋅a4⋅a5\n",
      "+4⋅V^2⋅f^2/J^2⋅a1⋅b1⋅a3⋅b3⋅a5\n",
      "+4⋅V^2⋅f^2/J^2⋅a1⋅b1⋅a3⋅a4⋅b4\n",
      "−4⋅V^2⋅f^2/J^2⋅a1⋅a2⋅a3⋅a4⋅a5}"
     ]
    },
    {
     "name": "stdout",
     "output_type": "stream",
     "text": [
      "\n",
      "{+8⋅V^2⋅f^2/(3⋅J^2)⋅a1⋅b1⋅a3⋅b3⋅a5\n",
      "−8⋅V^2⋅f^2/(3⋅J^2)⋅a1⋅a2⋅a3⋅a4⋅a5\n",
      "+8⋅V^2⋅f^2/(3⋅J^2)⋅a1⋅a2⋅b2⋅b3⋅a5\n",
      "+8⋅V^2⋅f^2/(3⋅J^2)⋅a1⋅a2⋅a3⋅b3⋅b4}\n",
      "8⋅i⋅V^3⋅f/(3⋅J^2) + 4⋅i⋅V⋅f^3/(3⋅J^2)⋅a2⋅b2⋅a3"
     ]
    },
    {
     "name": "stdout",
     "output_type": "stream",
     "text": [
      "\n",
      "{+4⋅i⋅V⋅f^3/(3⋅J^2)⋅a1⋅b2⋅a4\n",
      "+4⋅i⋅V⋅f^3/(3⋅J^2)⋅a1⋅a3⋅b3}\n",
      "{−4⋅V^2⋅f^2/(3⋅J^2)⋅a1⋅a3⋅b3⋅a4⋅b4\n",
      "−4⋅V^2⋅f^2/(3⋅J^2)⋅a1⋅b2⋅b3⋅a4⋅a5}"
     ]
    },
    {
     "name": "stdout",
     "output_type": "stream",
     "text": [
      "\n",
      "4⋅i⋅V⋅f^3/J^2⋅b3⋅a4⋅a6\n",
      "-4⋅i⋅V^3⋅f/J^2⋅b1⋅a2⋅b3⋅a4⋅b5⋅a6⋅a8"
     ]
    },
    {
     "name": "stdout",
     "output_type": "stream",
     "text": [
      "\n",
      "{+4⋅i⋅V^3⋅f/(3⋅J^2)⋅a1⋅b1⋅b2⋅a3⋅b3⋅a4⋅a5\n",
      "+4⋅i⋅V^3⋅f/(3⋅J^2)⋅a1⋅a2⋅b2⋅a3⋅b3⋅a4⋅b4}"
     ]
    },
    {
     "name": "stdout",
     "output_type": "stream",
     "text": [
      "\n",
      "{+4⋅i⋅V^3⋅f/(3⋅J^2)⋅b1⋅a2⋅b2⋅b3⋅a4⋅a5⋅a6\n",
      "−4⋅i⋅V^3⋅f/(3⋅J^2)⋅b1⋅a2⋅b2⋅b3⋅a4⋅b4⋅b5\n",
      "+4⋅i⋅V^3⋅f/(3⋅J^2)⋅b1⋅a2⋅a3⋅b3⋅a4⋅a5⋅b5}"
     ]
    },
    {
     "name": "stdout",
     "output_type": "stream",
     "text": [
      "\n",
      "-4⋅i⋅V^3⋅f/(3⋅J^2)⋅a2⋅b4⋅a5\n",
      "{+4⋅V^2⋅f^2/J^2⋅b1⋅a3⋅a4⋅b4⋅a5\n",
      "+4⋅V^2⋅f^2/J^2⋅a2⋅b2⋅a4⋅b4⋅a5\n",
      "−4⋅V^2⋅f^2/J^2⋅b1⋅b2⋅b3⋅b4⋅a5}"
     ]
    },
    {
     "name": "stdout",
     "output_type": "stream",
     "text": [
      "\n",
      "{−4⋅V^2⋅f^2/J^2⋅b2⋅b3⋅b4⋅a5⋅b5\n",
      "+4⋅V^2⋅f^2/J^2⋅b2⋅a4⋅b4⋅a5⋅a6\n",
      "+4⋅V^2⋅f^2/J^2⋅a3⋅b3⋅b4⋅a5⋅a6}\n",
      "{+20⋅V^2⋅f^2/(3⋅J^2)⋅a2⋅b2⋅a3⋅b3⋅a5\n",
      "−20⋅V^2⋅f^2/(3⋅J^2)⋅b1⋅b2⋅a3⋅b3⋅b4\n",
      "+20⋅V^2⋅f^2/(3⋅J^2)⋅b1⋅b2⋅a3⋅a4⋅a5}"
     ]
    },
    {
     "name": "stdout",
     "output_type": "stream",
     "text": [
      "\n",
      "{+4⋅i⋅V⋅f^3/J^2⋅b1⋅a3⋅a5\n",
      "+4⋅i⋅V⋅f^3/J^2⋅a2⋅b2⋅a5\n",
      "+4⋅i⋅V⋅f^3/J^2⋅a2⋅a3⋅b4}\n",
      "{−4⋅i⋅V^3⋅f/J^2 - 8⋅i⋅V⋅f^3/J^2⋅b2⋅b3⋅b4\n",
      "+4⋅i⋅V^3⋅f/J^2 + 8⋅i⋅V⋅f^3/J^2⋅a3⋅b3⋅a5\n",
      "+4⋅i⋅V^3⋅f/J^2 + 8⋅i⋅V⋅f^3/J^2⋅a3⋅a4⋅b4}"
     ]
    },
    {
     "name": "stdout",
     "output_type": "stream",
     "text": [
      "\n",
      "4⋅V^2⋅f^2/J^2⋅b2⋅a3⋅b4⋅a5⋅a7\n",
      "{−4⋅i⋅V^3⋅f/J^2⋅a1⋅a2⋅b3⋅a4⋅b5⋅a6⋅b6\n",
      "−4⋅i⋅V^3⋅f/J^2⋅a1⋅b1⋅b3⋅a4⋅b5⋅a6⋅a7}"
     ]
    },
    {
     "name": "stdout",
     "output_type": "stream",
     "text": [
      "\n",
      "-4⋅i⋅V^3⋅f/J^2⋅b1⋅a2⋅a4⋅b4⋅a5⋅b5⋅a6\n",
      "{−4⋅V^2⋅f^2/J^2⋅b2⋅b3⋅b4⋅a5⋅b5\n",
      "+4⋅V^2⋅f^2/J^2⋅a3⋅a4⋅b4⋅a5⋅b5\n",
      "+4⋅V^2⋅f^2/J^2⋅a3⋅b3⋅b4⋅a5⋅a6}"
     ]
    },
    {
     "name": "stdout",
     "output_type": "stream",
     "text": [
      "\n",
      "{+4⋅i⋅V^3⋅f/J^2⋅b1⋅b2⋅b3⋅a4⋅b5⋅a6⋅b6\n",
      "−4⋅i⋅V^3⋅f/J^2⋅a2⋅b2⋅b3⋅a4⋅b5⋅a6⋅a7\n",
      "−4⋅i⋅V^3⋅f/J^2⋅b1⋅a3⋅b3⋅a4⋅b5⋅a6⋅a7}"
     ]
    },
    {
     "name": "stdout",
     "output_type": "stream",
     "text": [
      "\n",
      "{+4⋅V^2⋅f^2/J^2⋅a2⋅b2⋅b3⋅a4⋅a6\n",
      "−4⋅V^2⋅f^2/J^2⋅b1⋅b2⋅b3⋅a4⋅b5\n",
      "+4⋅V^2⋅f^2/J^2⋅b1⋅a3⋅b3⋅a4⋅a6}\n",
      "{−4⋅i⋅V^3⋅f/J^2⋅b1⋅a2⋅a3⋅a4⋅b5⋅a6⋅b6\n",
      "−4⋅i⋅V^3⋅f/J^2⋅b1⋅a2⋅b2⋅a4⋅b5⋅a6⋅a7\n",
      "−4⋅i⋅V^3⋅f/J^2⋅b1⋅a2⋅a3⋅b3⋅b5⋅a6⋅a7}"
     ]
    },
    {
     "name": "stdout",
     "output_type": "stream",
     "text": [
      "\n",
      "{−4⋅i⋅V^3⋅f/(3⋅J^2)⋅a1⋅b3⋅a5\n",
      "−4⋅i⋅V^3⋅f/(3⋅J^2)⋅a1⋅a4⋅b4}\n",
      "{−4⋅i⋅V^3⋅f/J^2⋅b1⋅a2⋅a3⋅b3⋅a4⋅b4⋅a6\n",
      "−4⋅i⋅V^3⋅f/J^2⋅b1⋅a2⋅b2⋅b3⋅a4⋅a5⋅a6\n",
      "−4⋅i⋅V^3⋅f/J^2⋅b1⋅a2⋅a3⋅b3⋅a4⋅a5⋅b5}"
     ]
    },
    {
     "name": "stdout",
     "output_type": "stream",
     "text": [
      "\n",
      "{+8⋅i⋅V^3⋅f/(3⋅J^2) + 4⋅i⋅V⋅f^3/J^2⋅a3⋅b3⋅a5\n",
      "+8⋅i⋅V^3⋅f/(3⋅J^2) + 4⋅i⋅V⋅f^3/J^2⋅a3⋅a4⋅b4\n",
      "+8⋅i⋅V^3⋅f/(3⋅J^2) + 4⋅i⋅V⋅f^3/J^2⋅b2⋅a4⋅a5}\n",
      "{+8⋅V^2⋅f^2/(3⋅J^2)⋅a2⋅a3⋅b3⋅a4⋅b5\n",
      "+8⋅V^2⋅f^2/(3⋅J^2)⋅a2⋅b2⋅b3⋅a4⋅a6\n",
      "−8⋅V^2⋅f^2/(3⋅J^2)⋅b1⋅b2⋅b3⋅a4⋅b5}"
     ]
    },
    {
     "name": "stdout",
     "output_type": "stream",
     "text": [
      "\n",
      "4⋅i⋅V^3⋅f/J^2 + 4⋅i⋅V⋅f^3/J^2⋅b4⋅a5⋅a6\n",
      "{−4⋅i⋅V^3⋅f/J^2⋅a1⋅b1⋅a2⋅b2⋅a3⋅a4⋅b4\n",
      "−4⋅i⋅V^3⋅f/J^2⋅a1⋅b1⋅a2⋅b2⋅a3⋅b3⋅a5}"
     ]
    },
    {
     "name": "stdout",
     "output_type": "stream",
     "text": [
      "\n",
      "{+4⋅V^2⋅f^2/J^2⋅b1⋅a2⋅a3⋅b3⋅a6\n",
      "+4⋅V^2⋅f^2/J^2⋅b1⋅a2⋅a3⋅a4⋅b5\n",
      "+4⋅V^2⋅f^2/J^2⋅b1⋅a2⋅b2⋅a4⋅a6}\n",
      "{−4⋅i⋅V^3⋅f/J^2⋅b1⋅a2⋅a4⋅b4⋅b5⋅a6⋅a7\n",
      "+4⋅i⋅V^3⋅f/J^2⋅b1⋅a2⋅b3⋅b4⋅b5⋅a6⋅b6\n",
      "−4⋅i⋅V^3⋅f/J^2⋅b1⋅a2⋅b3⋅a5⋅b5⋅a6⋅a7}"
     ]
    },
    {
     "name": "stdout",
     "output_type": "stream",
     "text": [
      "\n",
      "{−8⋅i⋅V^3⋅f/(3⋅J^2) - 4⋅i⋅V⋅f^3/J^2⋅b1⋅b2⋅b4\n",
      "+8⋅i⋅V^3⋅f/(3⋅J^2) + 4⋅i⋅V⋅f^3/J^2⋅b1⋅a3⋅a5\n",
      "+8⋅i⋅V^3⋅f/(3⋅J^2) + 4⋅i⋅V⋅f^3/J^2⋅a2⋅b2⋅a5}\n",
      "{−4⋅i⋅V^3⋅f/J^2⋅b1⋅a2⋅b3⋅a4⋅a5⋅b5⋅a7\n",
      "−4⋅i⋅V^3⋅f/J^2⋅b1⋅a2⋅b3⋅a4⋅a5⋅a6⋅b6\n",
      "+4⋅i⋅V^3⋅f/J^2⋅b1⋅a2⋅b3⋅a4⋅b4⋅b5⋅b6}"
     ]
    },
    {
     "name": "stdout",
     "output_type": "stream",
     "text": [
      "\n",
      "4⋅i⋅V^3⋅f/(3⋅J^2)⋅b1⋅a2⋅b2⋅a3⋅a4⋅b4⋅a5"
     ]
    },
    {
     "name": "stdout",
     "output_type": "stream",
     "text": [
      "\n",
      "{−4⋅i⋅V^3⋅f/(3⋅J^2)⋅a1⋅b3⋅a5\n",
      "−4⋅i⋅V^3⋅f/(3⋅J^2)⋅a1⋅a4⋅b4}\n",
      "{−4⋅V^2⋅f^2/(3⋅J^2)⋅a1⋅a2⋅b2⋅b3⋅a5\n",
      "−4⋅V^2⋅f^2/(3⋅J^2)⋅a1⋅a2⋅b2⋅a4⋅b4\n",
      "+4⋅V^2⋅f^2/(3⋅J^2)⋅a1⋅b1⋅b2⋅b3⋅b4\n",
      "−4⋅V^2⋅f^2/(3⋅J^2)⋅a1⋅a2⋅a3⋅b3⋅b4}"
     ]
    },
    {
     "name": "stdout",
     "output_type": "stream",
     "text": [
      "\n",
      "4⋅V^2⋅f^2/J^2⋅b2⋅a3⋅a5⋅b5⋅a6\n",
      "-4⋅i⋅V^3⋅f/J^2⋅b1⋅a2⋅b3⋅a4⋅b6⋅a7⋅a8"
     ]
    },
    {
     "name": "stdout",
     "output_type": "stream",
     "text": [
      "\n",
      "{+8⋅i⋅V^3⋅f/(3⋅J^2)⋅b1⋅b2⋅b3⋅a4⋅b5⋅a6⋅b6\n",
      "−8⋅i⋅V^3⋅f/(3⋅J^2)⋅a2⋅b2⋅b3⋅a4⋅b5⋅a6⋅a7\n",
      "−8⋅i⋅V^3⋅f/(3⋅J^2)⋅a2⋅a3⋅b3⋅a4⋅b5⋅a6⋅b6}"
     ]
    },
    {
     "name": "stdout",
     "output_type": "stream",
     "text": [
      "{+4⋅i⋅V⋅f^3/J^2⋅a1⋅b1⋅a5\n",
      "+4⋅i⋅V⋅f^3/J^2⋅a1⋅a2⋅b4}\n",
      "{+20⋅V^2⋅f^2/(3⋅J^2)⋅a2⋅b2⋅a3⋅a4⋅b4\n",
      "+20⋅V^2⋅f^2/(3⋅J^2)⋅b1⋅b2⋅a3⋅a4⋅a5\n",
      "−20⋅V^2⋅f^2/(3⋅J^2)⋅b1⋅b2⋅a3⋅b3⋅b4}\n",
      "8⋅i⋅V^3⋅f/(3⋅J^2) + 4⋅i⋅V⋅f^3/(3⋅J^2)⋅b1⋅a2⋅a4"
     ]
    }
   ],
   "source": [
    "    for ncprod in c(H,psi):\n",
    "\tp(c(Jpart,ncprod))"
   ]
  },
  {
   "cell_type": "code",
   "execution_count": 15,
   "metadata": {
    "autoscroll": "json-false",
    "collapsed": false,
    "ein.tags": [
     "worksheet-0"
    ]
   },
   "outputs": [
    {
     "ename": "ValueError",
     "evalue": "Failure. No solutions.",
     "output_type": "error",
     "traceback": [
      "\u001b[1;31m---------------------------------------------------------------------------\u001b[0m",
      "\u001b[1;31mValueError\u001b[0m                                Traceback (most recent call last)",
      "\u001b[1;32m<ipython-input-15-92f5de559aae>\u001b[0m in \u001b[0;36m<module>\u001b[1;34m()\u001b[0m\n\u001b[0;32m      3\u001b[0m \u001b[0mprint_subspace\u001b[0m\u001b[1;33m(\u001b[0m\u001b[0msubspace\u001b[0m\u001b[1;33m)\u001b[0m\u001b[1;33m\u001b[0m\u001b[0m\n\u001b[0;32m      4\u001b[0m \u001b[0mcvector\u001b[0m \u001b[1;33m=\u001b[0m \u001b[0mbuild_vector_to_cancel\u001b[0m\u001b[1;33m(\u001b[0m\u001b[0mc\u001b[0m\u001b[1;33m(\u001b[0m\u001b[0mH\u001b[0m\u001b[1;33m,\u001b[0m \u001b[0mpsi\u001b[0m\u001b[1;33m)\u001b[0m\u001b[1;33m,\u001b[0m \u001b[0msubspace\u001b[0m\u001b[1;33m)\u001b[0m\u001b[1;33m\u001b[0m\u001b[0m\n\u001b[1;32m----> 5\u001b[1;33m \u001b[0mpsi4\u001b[0m \u001b[1;33m=\u001b[0m \u001b[0msparse_solve_for_commuting_term\u001b[0m\u001b[1;33m(\u001b[0m\u001b[0mcvector\u001b[0m\u001b[1;33m,\u001b[0m \u001b[0mpsi\u001b[0m\u001b[1;33m,\u001b[0m \u001b[1;36m4\u001b[0m\u001b[1;33m,\u001b[0m \u001b[0morders\u001b[0m\u001b[1;33m,\u001b[0m \u001b[0mmatrixrows\u001b[0m\u001b[1;33m,\u001b[0m \u001b[0msubspace\u001b[0m\u001b[1;33m)\u001b[0m\u001b[1;33m\u001b[0m\u001b[0m\n\u001b[0m\u001b[0;32m      6\u001b[0m \u001b[0mp\u001b[0m\u001b[1;33m(\u001b[0m\u001b[0mpsi4\u001b[0m\u001b[1;33m)\u001b[0m\u001b[1;33m\u001b[0m\u001b[0m\n\u001b[0;32m      7\u001b[0m \u001b[0mprint\u001b[0m\u001b[1;33m(\u001b[0m\u001b[1;34m'\\n'\u001b[0m\u001b[1;33m)\u001b[0m\u001b[1;33m\u001b[0m\u001b[0m\n",
      "\u001b[1;32m/home/qfeuille/Storage/Programming/DPhil/Commutator/commutator.py\u001b[0m in \u001b[0;36msparse_solve_for_commuting_term\u001b[1;34m(cvector, psi_lower, order, orders, matrixrows, subspace)\u001b[0m\n\u001b[0;32m    458\u001b[0m     \u001b[0msolutions\u001b[0m \u001b[1;33m=\u001b[0m \u001b[1;33m{\u001b[0m\u001b[1;33m}\u001b[0m\u001b[1;33m\u001b[0m\u001b[0m\n\u001b[0;32m    459\u001b[0m     \u001b[1;32mfor\u001b[0m \u001b[0mss_space\u001b[0m \u001b[1;32min\u001b[0m \u001b[0msub_sub_spaces\u001b[0m\u001b[1;33m:\u001b[0m\u001b[1;33m\u001b[0m\u001b[0m\n\u001b[1;32m--> 460\u001b[1;33m         \u001b[0msolutions\u001b[0m\u001b[1;33m.\u001b[0m\u001b[0mupdate\u001b[0m\u001b[1;33m(\u001b[0m\u001b[0msolve_for_sub_subspace\u001b[0m\u001b[1;33m(\u001b[0m\u001b[0mmatrixrows\u001b[0m\u001b[1;33m,\u001b[0m \u001b[0mss_space\u001b[0m\u001b[1;33m,\u001b[0m \u001b[0mfvars\u001b[0m\u001b[1;33m,\u001b[0m \u001b[0mcvector\u001b[0m\u001b[1;33m)\u001b[0m\u001b[1;33m)\u001b[0m\u001b[1;33m\u001b[0m\u001b[0m\n\u001b[0m\u001b[0;32m    461\u001b[0m     \u001b[0msolvector\u001b[0m \u001b[1;33m=\u001b[0m \u001b[1;33m[\u001b[0m\u001b[0msolutions\u001b[0m\u001b[1;33m[\u001b[0m\u001b[0mfvars\u001b[0m\u001b[1;33m[\u001b[0m\u001b[0mi\u001b[0m\u001b[1;33m]\u001b[0m\u001b[1;33m]\u001b[0m \u001b[1;32mfor\u001b[0m \u001b[0mi\u001b[0m \u001b[1;32min\u001b[0m \u001b[0mrange\u001b[0m\u001b[1;33m(\u001b[0m\u001b[0mlen\u001b[0m\u001b[1;33m(\u001b[0m\u001b[0mfvars\u001b[0m\u001b[1;33m)\u001b[0m\u001b[1;33m)\u001b[0m\u001b[1;33m]\u001b[0m\u001b[1;33m\u001b[0m\u001b[0m\n\u001b[0;32m    462\u001b[0m     \u001b[1;32mreturn\u001b[0m \u001b[0msimplify_group\u001b[0m\u001b[1;33m(\u001b[0m\u001b[1;33m[\u001b[0m\u001b[0mNcproduct\u001b[0m\u001b[1;33m(\u001b[0m\u001b[1;33m-\u001b[0m\u001b[0msolvector\u001b[0m\u001b[1;33m[\u001b[0m\u001b[0mi\u001b[0m\u001b[1;33m]\u001b[0m\u001b[1;33m,\u001b[0m \u001b[0mlist\u001b[0m\u001b[1;33m(\u001b[0m\u001b[0mkey\u001b[0m\u001b[1;33m)\u001b[0m\u001b[1;33m)\u001b[0m \u001b[1;32mfor\u001b[0m \u001b[0mi\u001b[0m\u001b[1;33m,\u001b[0m\u001b[0mkey\u001b[0m \u001b[1;32min\u001b[0m \u001b[0menumerate\u001b[0m\u001b[1;33m(\u001b[0m\u001b[0msubspace\u001b[0m\u001b[1;33m)\u001b[0m\u001b[1;33m]\u001b[0m\u001b[1;33m)\u001b[0m\u001b[1;33m\u001b[0m\u001b[0m\n",
      "\u001b[1;32m/home/qfeuille/Storage/Programming/DPhil/Commutator/commutator.py\u001b[0m in \u001b[0;36msolve_for_sub_subspace\u001b[1;34m(matrixrows, sub_sub_space, coeffs, cvector)\u001b[0m\n\u001b[0;32m    443\u001b[0m         \u001b[0mprint\u001b[0m\u001b[1;33m(\u001b[0m\u001b[0mfvars\u001b[0m\u001b[1;33m)\u001b[0m\u001b[1;33m\u001b[0m\u001b[0m\n\u001b[0;32m    444\u001b[0m         \u001b[0mprint\u001b[0m\u001b[1;33m(\u001b[0m\u001b[0mrownumstore\u001b[0m\u001b[1;33m)\u001b[0m\u001b[1;33m\u001b[0m\u001b[0m\n\u001b[1;32m--> 445\u001b[1;33m         \u001b[1;32mraise\u001b[0m \u001b[0mValueError\u001b[0m\u001b[1;33m(\u001b[0m\u001b[1;34m\"Failure. No solutions.\"\u001b[0m\u001b[1;33m)\u001b[0m\u001b[1;33m\u001b[0m\u001b[0m\n\u001b[0m\u001b[0;32m    446\u001b[0m     \u001b[1;32mreturn\u001b[0m \u001b[0mdict\u001b[0m\u001b[1;33m(\u001b[0m\u001b[0mzip\u001b[0m\u001b[1;33m(\u001b[0m\u001b[0mfvars\u001b[0m\u001b[1;33m,\u001b[0m \u001b[0mlist\u001b[0m\u001b[1;33m(\u001b[0m\u001b[0msols\u001b[0m\u001b[1;33m)\u001b[0m\u001b[1;33m[\u001b[0m\u001b[1;36m0\u001b[0m\u001b[1;33m]\u001b[0m\u001b[1;33m)\u001b[0m\u001b[1;33m)\u001b[0m\u001b[1;33m\u001b[0m\u001b[0m\n\u001b[0;32m    447\u001b[0m \u001b[1;33m\u001b[0m\u001b[0m\n",
      "\u001b[1;31mValueError\u001b[0m: Failure. No solutions."
     ]
    },
    {
     "name": "stdout",
     "output_type": "stream",
     "text": [
      "\n",
      "[fvar153, fvar155]\n",
      "[152, 154, 272, 299]\n"
     ]
    },
    {
     "name": "stdout",
     "output_type": "stream",
     "text": [
      "0: a1 b1 b4\n",
      "1: a1 b1 a5\n",
      "2: a1 a2 a5\n",
      "3: a1 a2 b4\n",
      "4: b1 b2 a3 a4 b4\n",
      "5: a2 b2 a3 a4 b4\n",
      "6: a2 b2 a3 a4 a5\n",
      "7: b1 b2 a3 a4 a5\n",
      "8: b1 b2 a3 b3 a5\n",
      "9: a2 b2 a3 b3 a5\n",
      "10: a2 b2 a3 b3 b4\n",
      "11: b1 b2 a3 b3 b4\n",
      "12: b1 a2 b3\n",
      "13: b1 a2 a4\n",
      "14: a2 b2 b3 a4 b5 a6 b6\n",
      "15: b1 b2 b3 a4 b5 a6 b6\n",
      "16: b1 b2 b3 a4 b5 a6 a7\n",
      "17: a2 b2 b3 a4 b5 a6 a7\n",
      "18: a2 a3 b3 a4 b5 a6 a7\n",
      "19: b1 a3 b3 a4 b5 a6 a7\n",
      "20: b1 a3 b3 a4 b5 a6 b6\n",
      "21: a2 a3 b3 a4 b5 a6 b6\n",
      "22: b2 a3 b4 b5 a6\n",
      "23: b2 a3 a5 b5 a6\n",
      "24: b1 a2 b3 a4 b6 a7 b7\n",
      "25: b1 a2 b3 a4 b6 a7 a8\n",
      "26: a1 a4 a5\n",
      "27: a1 b3 a5\n",
      "28: a1 b3 b4\n",
      "29: a1 a4 b4\n",
      "30: a1 a2 b2 b3 b4\n",
      "31: a1 a2 b2 b3 a5\n",
      "32: a1 a2 b2 a4 a5\n",
      "33: a1 b1 b2 a4 a5\n",
      "34: a1 b1 b2 b3 a5\n",
      "35: a1 b1 a3 b3 a5\n",
      "36: a1 a2 a3 b3 a5\n",
      "37: a1 a2 a3 a4 a5\n",
      "38: a1 a2 a3 a4 b4\n",
      "39: a1 b1 a3 a4 b4\n",
      "40: a1 b1 b2 a4 b4\n",
      "41: a1 b1 b2 b3 b4\n",
      "42: a1 b1 a3 b3 b4\n",
      "43: a1 a2 a3 b3 b4\n",
      "44: a1 a2 b2 a4 b4\n",
      "45: a1 b1 a3 a4 a5\n",
      "46: b1 a2 b2 a3 b3 b4 a5\n",
      "47: b1 a2 b2 a3 a4 b4 a5\n",
      "48: b1 b2 a5\n",
      "49: b1 b2 b4\n",
      "50: a2 b2 b4\n",
      "51: a2 b2 a5\n",
      "52: a2 a3 a5\n",
      "53: b1 a3 a5\n",
      "54: b1 a3 b4\n",
      "55: a2 a3 b4\n",
      "56: b1 a2 b3 a4 a5 b5 b6\n",
      "57: b1 a2 b3 a4 a5 b5 a7\n",
      "58: b1 a2 b3 a4 b4 b5 a7\n",
      "59: b1 a2 b3 a4 b4 a6 a7\n",
      "60: b1 a2 b3 a4 a5 a6 a7\n",
      "61: b1 a2 b3 a4 a5 a6 b6\n",
      "62: b1 a2 b3 a4 b4 a6 b6\n",
      "63: b1 a2 b3 a4 b4 b5 b6\n",
      "64: b1 a2 a3 a4 a6\n",
      "65: b1 a2 a3 b3 a6\n",
      "66: b1 a2 b2 b3 a6\n",
      "67: b1 a2 b2 a4 a6\n",
      "68: b1 a2 b2 a4 b5\n",
      "69: b1 a2 b2 b3 b5\n",
      "70: b1 a2 a3 b3 b5\n",
      "71: b1 a2 a3 a4 b5\n",
      "72: b1 a2 b3 b4 b5 a6 a7\n",
      "73: b1 a2 a4 b4 b5 a6 a7\n",
      "74: b1 a2 a4 a5 b5 a6 a7\n",
      "75: b1 a2 b3 a5 b5 a6 a7\n",
      "76: b1 a2 b3 a5 b5 a6 b6\n",
      "77: b1 a2 a4 a5 b5 a6 b6\n",
      "78: b1 a2 a4 b4 b5 a6 b6\n",
      "79: b1 a2 b3 b4 b5 a6 b6\n",
      "80: b4 a5 b5\n",
      "81: b4 a5 a6\n",
      "82: a1 b1 a2 b2 a3 b3 b4\n",
      "83: a1 b1 a2 b2 a3 a4 b4\n",
      "84: a1 b1 a2 b2 a3 a4 a5\n",
      "85: a1 b1 a2 b2 a3 b3 a5\n",
      "86: a3 a4 a5\n",
      "87: a3 b3 a5\n",
      "88: b2 b3 a5\n",
      "89: b2 b3 b4\n",
      "90: b2 a4 b4\n",
      "91: b2 a4 a5\n",
      "92: a3 a4 b4\n",
      "93: a3 b3 b4\n",
      "94: a2 b2 b3 a4 b5\n",
      "95: a2 a3 b3 a4 b5\n",
      "96: b1 a3 b3 a4 b5\n",
      "97: b1 b2 b3 a4 b5\n",
      "98: b1 b2 b3 a4 a6\n",
      "99: a2 b2 b3 a4 a6\n",
      "100: a2 a3 b3 a4 a6\n",
      "101: b1 a3 b3 a4 a6\n",
      "102: b1 a2 a3 b3 a4 a5 a6\n",
      "103: b1 a2 a3 b3 a4 b4 a6\n",
      "104: b1 a2 a3 b3 a4 b4 b5\n",
      "105: b1 a2 b2 b3 a4 b4 b5\n",
      "106: b1 a2 b2 b3 a4 a5 b5\n",
      "107: b1 a2 b2 b3 a4 a5 a6\n",
      "108: b1 a2 b2 b3 a4 b4 a6\n",
      "109: b1 a2 a3 b3 a4 a5 b5\n",
      "110: b1 a2 a3 a4 b5 a6 a7\n",
      "111: b1 a2 a3 a4 b5 a6 b6\n",
      "112: b1 a2 b2 a4 b5 a6 b6\n",
      "113: b1 a2 b2 b3 b5 a6 b6\n",
      "114: b1 a2 b2 b3 b5 a6 a7\n",
      "115: b1 a2 a3 b3 b5 a6 a7\n",
      "116: b1 a2 a3 b3 b5 a6 b6\n",
      "117: b1 a2 b2 a4 b5 a6 a7\n",
      "118: b1 a2 b3 b4 a5 b5 a6\n",
      "119: b1 a2 a4 b4 a5 b5 a6\n",
      "120: a3 b3 b4 a5 b5\n",
      "121: b2 b3 b4 a5 b5\n",
      "122: b2 b3 b4 a5 a6\n",
      "123: b2 a4 b4 a5 a6\n",
      "124: a3 a4 b4 a5 a6\n",
      "125: a3 b3 b4 a5 a6\n",
      "126: a3 a4 b4 a5 b5\n",
      "127: b2 a4 b4 a5 b5\n",
      "128: b2 a3 b4 a5 b6\n",
      "129: b2 a3 b4 a5 a7\n",
      "130: a1 a2 b3 a4 b5 a6 a7\n",
      "131: a1 a2 b3 a4 b5 a6 b6\n",
      "132: a1 b1 b3 a4 b5 a6 b6\n",
      "133: a1 b1 b3 a4 b5 a6 a7\n",
      "134: b1 b4 a5\n",
      "135: a2 b4 a5\n",
      "136: b1 b2 a4 b4 a5\n",
      "137: b1 a3 a4 b4 a5\n",
      "138: b1 a3 b3 b4 a5\n",
      "139: a2 a3 b3 b4 a5\n",
      "140: a2 b2 b3 b4 a5\n",
      "141: b1 b2 b3 b4 a5\n",
      "142: a2 b2 a4 b4 a5\n",
      "143: a2 a3 a4 b4 a5\n",
      "144: a1 a2 b2 a3 b3 a4 a5\n",
      "145: a1 b1 b2 a3 b3 a4 a5\n",
      "146: a1 b1 b2 a3 b3 a4 b4\n",
      "147: a1 a2 b2 a3 b3 a4 b4\n",
      "148: b3 a4 b5\n",
      "149: b3 a4 a6\n",
      "150: b1 a2 b3 a4 b5 a6 b7\n",
      "151: b1 a2 b3 a4 b5 a6 a8\n",
      "152: a1 b2 b3\n",
      "153: a1 b2 a4\n",
      "154: a1 a3 a4\n",
      "155: a1 a3 b3\n",
      "156: a1 a3 b3 a4 a5\n",
      "157: a1 a3 b3 a4 b4\n",
      "158: a1 b2 b3 a4 b4\n",
      "159: a1 b2 b3 a4 a5\n",
      "160: b1 b2 a3\n",
      "161: a2 b2 a3\n",
      "162: b1 a2 b3 b4 a6\n",
      "163: b1 a2 a4 b4 a6\n",
      "164: b1 a2 a4 b4 b5\n",
      "165: b1 a2 b3 b4 b5\n",
      "166: b1 a2 b3 a5 b5\n",
      "167: b1 a2 b3 a5 a6\n",
      "168: b1 a2 a4 a5 a6\n",
      "169: b1 a2 a4 a5 b5\n",
      "170: b1 a2 b3 a4 b5 a6 b7 a8 b8\n",
      "171: b1 a2 b3 a4 b5 a6 b7 a8 a9\n",
      "172: b2 a3 b3 a4 b4\n",
      "173: b2 a3 b3 a4 a5\n",
      "174: b2\n",
      "175: a3\n",
      "176: b2 a3 b4 a5 b6 a7 b7\n",
      "177: b2 a3 b4 a5 b6 a7 a8\n",
      "178: b1 a2 b2 a3 b4\n",
      "179: b1 a2 b2 a3 a5\n",
      "180: b1 b2 a3 b3 a4 b4 a5\n",
      "181: a2 b2 a3 b3 a4 b4 a5\n",
      "182: b1 a3 b4 a5 b5\n",
      "183: a2 a3 b4 a5 b5\n",
      "184: a2 a3 b4 a5 a6\n",
      "185: a2 b2 b4 a5 a6\n",
      "186: a2 b2 b4 a5 b5\n",
      "187: b1 b2 b4 a5 b5\n",
      "188: b1 b2 b4 a5 a6\n",
      "189: b1 a3 b4 a5 a6\n",
      "190: b1 b3 a4\n",
      "191: a2 b3 a4\n",
      "192: b1 a2 b3 a4 b5 b6 a7\n",
      "193: b1 a2 b3 a4 a6 b6 a7\n",
      "194: b2 a3 a4 b4 b5\n",
      "195: b2 a3 b3 b4 b5\n",
      "196: b2 a3 b3 a5 b5\n",
      "197: b2 a3 a4 a5 b5\n",
      "198: b2 a3 a4 a5 a6\n",
      "199: b2 a3 b3 a5 a6\n",
      "200: b2 a3 b3 b4 a6\n",
      "201: b2 a3 a4 b4 a6\n",
      "202: b3 a4 b5 a6 b6\n",
      "203: b3 a4 b5 a6 a7\n",
      "204: a1 b1 b2 a3 b3\n",
      "205: a1 a2 b2 a3 b3\n",
      "206: a1 a2 b2 a3 a4\n",
      "207: a1 b1 b2 a3 a4\n",
      "208: a1 b1 b4 a5 b5\n",
      "209: a1 a2 b4 a5 b5\n",
      "210: a1 a2 b4 a5 a6\n",
      "211: a1 b1 b4 a5 a6\n",
      "212: a1 b1 a2 b2 b4\n",
      "213: a1 b1 a2 b2 a5\n",
      "214: a1 b1 a2 a3 a5\n",
      "215: a1 b1 a2 a3 b4\n",
      "216: b2 a3 b5 a6 b6\n",
      "217: b2 a3 b5 a6 a7\n",
      "218: b1 a2 b4 b5 a6\n",
      "219: b1 a2 a5 b5 a6\n",
      "220: b2 a3 b3\n",
      "221: b2 a3 a4\n",
      "222: b1 a2 b5 a6 b6\n",
      "223: b1 a2 b5 a6 a7\n",
      "224: a2 b2 a3 b3 b4 a5 b5\n",
      "225: b1 b2 a3 b3 b4 a5 b5\n",
      "226: b1 b2 a3 b3 b4 a5 a6\n",
      "227: b1 b2 a3 a4 b4 a5 a6\n",
      "228: b1 b2 a3 a4 b4 a5 b5\n",
      "229: a2 b2 a3 a4 b4 a5 b5\n",
      "230: a2 b2 a3 a4 b4 a5 a6\n",
      "231: a2 b2 a3 b3 b4 a5 a6\n",
      "232: b4\n",
      "233: a5\n",
      "234: b1 a2 b5\n",
      "235: b1 a2 a6\n",
      "236: a1 b1 a2 b2 b4 a5 b5\n",
      "237: a1 b1 a2 a3 b4 a5 b5\n",
      "238: a1 b1 a2 a3 b4 a5 a6\n",
      "239: a1 b1 a2 b2 b4 a5 a6\n",
      "240: b1 a2 b4 a5 b6 a7 b7\n",
      "241: b1 a2 b4 a5 b6 a7 a8\n",
      "242: a1 b1 b3 b4 a5\n",
      "243: a1 b1 a4 b4 a5\n",
      "244: a1 a2 a4 b4 a5\n",
      "245: a1 a2 b3 b4 a5\n",
      "246: b1 a2 b4 a5 b6\n",
      "247: b1 a2 b4 a5 a7\n",
      "248: b1 a2 b3 a4 b4\n",
      "249: b1 a2 b3 a4 a5\n",
      "250: a1 b1 b3 a4 b5\n",
      "251: a1 a2 b3 a4 b5\n",
      "252: a1 a2 b3 a4 a6\n",
      "253: a1 b1 b3 a4 a6\n",
      "254: b1 a2 b2 b4 a5\n",
      "255: b1 a2 a3 b4 a5\n",
      "256: b3 b4 a5\n",
      "257: a4 b4 a5\n",
      "258: b1 a2 b3 a4 b6\n",
      "259: b1 a2 b3 a4 a7\n",
      "260: b2 a3 b5\n",
      "261: b2 a3 a6\n",
      "262: b2 b3 a4 b4 a5\n",
      "263: a3 b3 a4 b4 a5\n",
      "264: b1 a2 b2 b3 a4\n",
      "265: b1 a2 a3 b3 a4\n",
      "Matrix([\n",
      "[ 2*I*J,  2*I*J,   -2*V*f**3/(3*J**3)],\n",
      "[-2*I*J, -2*I*J,   -4*V*f**3/(3*J**3)],\n",
      "[     2,      0, -2*I*V*f**3/(3*J**4)],\n",
      "[     0,      2, -2*I*V*f**3/(3*J**4)]])"
     ]
    }
   ],
   "source": [
    "psi += psi3\n",
    "subspace, matrixrows = sparse_find_subspace(c(H, psi), Jpart)\n",
    "print_subspace(subspace)\n",
    "cvector = build_vector_to_cancel(c(H, psi), subspace)\n",
    "psi4 = sparse_solve_for_commuting_term(cvector, psi, 4, orders, matrixrows, subspace)\n",
    "p(psi4)\n",
    "print('\\n')\n",
    "p(c(H,psi+psi4))"
   ]
  },
  {
   "cell_type": "code",
   "execution_count": 47,
   "metadata": {
    "autoscroll": "json-false",
    "collapsed": false,
    "ein.tags": [
     "worksheet-0"
    ]
   },
   "outputs": [
    {
     "data": {
      "text/plain": [
       "<IPython.core.display.Math object>"
      ]
     },
     "metadata": {},
     "output_type": "display_data"
    }
   ],
   "source": [
    "from IPython.display import Latex, display, display_latex, Math\n",
    "display(Math(texify_group(psi)))"
   ]
  }
 ],
 "metadata": {
  "kernelspec": {
   "display_name": "Python 3",
   "language": "python",
   "name": "python3"
  },
  "language_info": {
   "codemirror_mode": {
    "name": "ipython",
    "version": 3
   },
   "file_extension": ".py",
   "mimetype": "text/x-python",
   "name": "python",
   "nbconvert_exporter": "python",
   "pygments_lexer": "ipython3",
   "version": "3.4.2"
  },
  "name": "4 fermion.ipynb"
 },
 "nbformat": 4,
 "nbformat_minor": 0
}
