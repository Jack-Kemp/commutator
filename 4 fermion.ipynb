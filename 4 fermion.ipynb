
In [1]:
%load_ext autoreload

In [2]:
from commutator import *
%autoreload

In [3]:
V,J,f = symbols('V J f')
L = 20
orders = {V:1,f:1}
print_group.orders = orders
fpart = [Ncproduct(I*f, [2*j+1,2*j+2]) for j in range(L)]
Vpart = [Ncproduct(V, [2*j+1,2*j+2,2*j+3,2*j+4]) for j in range(L-2)]
small = fpart+Vpart
Jpart = [Ncproduct(I*J, [2*j+2,2*j+3]) for j in range(L-1)]
H = fpart + Vpart +Jpart

In [4]:
p = print_group
c = calculate_commutator
N = Ncproduct

In [5]:
psi0 = N(1, 'a1')
p(c(H,psi0))
{−2⋅i⋅f⋅b1
−2⋅V⋅b1⋅a2⋅b2}


In [6]:
psi1a = N(f/J, 'a2')
psi1V = N(V/(I*J), 'b1 a2 a3')
psi1 = psi1a+psi1V
p(psi1)
{+f/J⋅a2
−i⋅V/J⋅b1⋅a2⋅a3}


In [7]:
p(c(H,psi0+psi1))
p(multiply_groups(psi0+psi1,psi0+psi1))
{−2⋅V⋅f/J⋅a1⋅b1⋅b2
+2⋅V⋅f/J⋅a1⋅a2⋅a3
−2⋅V⋅f/J⋅b1⋅a2⋅b3
−2⋅V⋅f/J⋅b1⋅b2⋅a3
−2⋅i⋅f^2/J⋅b2
+2⋅i⋅V^2/J⋅b1⋅a2⋅b3⋅a4⋅b4
−2⋅V⋅f/J⋅b2⋅a3⋅b3}
{+1 + V^2/J^2 + f^2/J^2
+2⋅i⋅V⋅f/J^2⋅b1⋅a3}


In [8]:
psi2a = N((f/J)**2, 'a3') # b2
psi2V = N(f*V/(I*J**2), 'b2 a3 a4') #b2 a3 b3
psi2Vf3 = N(f*V/(I*J**2), 'b1 a2 a4') # b1 a2 b3
psi2Vf4 = N(f*V/(I*J**2), 'a2 b2 a3') # b1 b2 a3
psi2Vdg = N(f*V/(I*J**2), 'a1 b1 a3') #a1 a2 a3
psi2V4  = N(-V**2/(J**2), 'b1 a2 b3 a4 a5') #b1 a2 b3 a4 b4
psi2 = psi2a+psi2V+psi2Vf3+psi2Vf4+ psi2Vdg+psi2V4
p(psi2)
{+f^2/J^2⋅a3
−i⋅V⋅f/J^2⋅b2⋅a3⋅a4
−i⋅V⋅f/J^2⋅b1⋅a2⋅a4
−i⋅V⋅f/J^2⋅a2⋅b2⋅a3
−i⋅V⋅f/J^2⋅a1⋅b1⋅a3
−V^2/J^2⋅b1⋅a2⋅b3⋅a4⋅a5}


In [9]:
A, B = symbols('A B')
psi2VA =  N(f*V/(I*J**2)*A, 'a1 b1 a3')
psi2VB =  N(f*V/(I*J**2)*B, 'a1 a2 b2')
psi2 = psi2a+psi2V+psi2Vf3+psi2Vf4+psi2VA+psi2VB+psi2V4
p(psi2)
{+f^2/J^2⋅a3
−i⋅V⋅f/J^2⋅b2⋅a3⋅a4
−i⋅V⋅f/J^2⋅b1⋅a2⋅a4
−i⋅V⋅f/J^2⋅a2⋅b2⋅a3
−i⋅A⋅V⋅f/J^2⋅a1⋅b1⋅a3
−i⋅B⋅V⋅f/J^2⋅a1⋅a2⋅b2
−V^2/J^2⋅b1⋅a2⋅b3⋅a4⋅a5}


In [10]:
p(c(H,psi0+psi1+psi2))
p(multiply_groups(psi0+psi1+psi2,psi0+psi1+psi2))
{+2⋅A⋅V⋅f/J + 2⋅B⋅V⋅f/J - 2⋅V⋅f/J⋅a1⋅b1⋅b2
−2⋅A⋅V⋅f/J - 2⋅B⋅V⋅f/J + 2⋅V⋅f/J⋅a1⋅a2⋅a3
+2⋅i⋅V^2⋅f/J^2⋅b1⋅a2⋅b4⋅a5⋅b5
+2⋅i⋅A⋅V^2⋅f/J^2⋅a1⋅b1⋅a2⋅b2⋅b3
−2⋅V⋅f^2/J^2⋅b2⋅a3⋅b4
+2⋅V^3/J^2⋅b1⋅a2⋅b3⋅a4⋅b5⋅a6⋅b6
+2⋅i⋅V^2⋅f/J^2⋅b1⋅b2⋅a3⋅b3⋅a4
+2⋅i⋅V^2⋅f/J^2⋅b1⋅a2⋅a3⋅b3⋅b4
−4⋅V⋅f^2/J^2⋅a2⋅b2⋅b3
+2⋅V⋅f^2/J^2⋅a1⋅a2⋅a4
−2⋅i⋅V^2⋅f/J^2⋅a1⋅a2⋅b3⋅a4⋅a5
+2⋅i⋅A⋅V^2⋅f/J^2⋅a1⋅b1⋅b3⋅a4⋅b4
−2⋅V⋅f^2/J^2⋅b1⋅b2⋅a4
+2⋅i⋅V^2⋅f/J^2⋅a2⋅b2⋅b3⋅a4⋅b4
−2⋅i⋅V^2⋅f/J^2⋅b1⋅a2⋅a3⋅a4⋅a5
+2⋅i⋅V^2⋅f/J^2⋅b2⋅a3⋅b4⋅a5⋅b5
+2⋅i⋅V^2⋅f/J^2⋅b1⋅a2⋅b3⋅a4⋅b5
−2⋅V⋅f^2/J^2⋅b1⋅a2⋅b4
−2⋅A⋅V⋅f^2/J^2⋅a1⋅b1⋅b3
−2⋅B⋅V⋅f^2/J^2⋅b1⋅a2⋅b2
−2⋅V⋅f^2/J^2⋅b2⋅b3⋅a4
+2⋅i⋅V^2⋅f/J^2⋅b1⋅b2⋅b3⋅a4⋅a5
+2⋅i⋅V^2⋅f/J^2⋅b1⋅a2⋅b3⋅b4⋅a5
−2⋅i⋅V^2⋅f/J^2⋅a1⋅b1⋅a2⋅a3⋅a4
−2⋅V⋅f^2/J^2⋅b3⋅a4⋅b4
−2⋅i⋅B⋅V^2⋅f/J^2⋅b1
+2⋅V⋅f^2/J^2⋅a2⋅a3⋅a4
−2⋅i⋅V^2⋅f/J^2 - 2⋅i⋅f^3/J^2⋅b3}
{+A^2⋅V^2⋅f^2/J^4 + B^2⋅V^2⋅f^2/J^4 + 1 + V^2/J^2 + f^2/J^2 + V^4/J^4 + 3⋅V^2⋅f^2/J^4 + f^4/J^4
−2⋅i⋅A⋅V⋅f/J^2 + 2⋅i⋅V⋅f/J^2⋅b1⋅a3
−2⋅i⋅B⋅V⋅f/J^2 - 2⋅i⋅V⋅f^3/J^4⋅a2⋅b2
−2⋅i⋅V⋅f^2/J^3⋅b2⋅a3
+2⋅V^2⋅f/J^3⋅b1⋅a2⋅b2⋅a4
+2⋅i⋅B⋅V⋅f^2/J^3⋅a1⋅b2
−2⋅i⋅V⋅f^2/J^3⋅b1⋅a2
+2⋅i⋅V⋅f^2/J^3⋅b1⋅a4
+2⋅V^2⋅f/J^3⋅b1⋅b3⋅a4⋅a5
+2⋅B⋅V^2⋅f/J^3⋅a1⋅b1⋅b2⋅a3
−2⋅i⋅A⋅V⋅f^3/J^4⋅a1⋅b1
+2⋅i⋅V⋅f^3/J^4⋅b2⋅a4
−2⋅i⋅V^3⋅f/J^4⋅b1⋅a2⋅b2⋅a3⋅b3⋅a5
−2⋅A⋅V^2⋅f^2/J^4 - 2⋅B⋅V^2⋅f^2/J^4⋅a1⋅a2⋅a3⋅a4
+2⋅V^2⋅f^2/J^4⋅b1⋅b2⋅a3⋅a4
−2⋅A⋅B⋅V^2⋅f^2/J^4 - 2⋅V^2⋅f^2/J^4⋅b1⋅a2⋅b2⋅a3
+2⋅i⋅V^3⋅f/J^4⋅b3⋅a5
−2⋅A⋅V^2⋅f^2/J^4⋅a1⋅b1⋅a2⋅b2
+2⋅i⋅A⋅V^3⋅f/J^4⋅a1⋅a2⋅a3⋅b3⋅a4⋅a5
+2⋅A⋅V^2⋅f^2/J^4 + 2⋅B⋅V^2⋅f^2/J^4⋅a1⋅b1⋅b2⋅a4
−2⋅i⋅B⋅V^3⋅f/J^4⋅a1⋅b1⋅b2⋅b3⋅a4⋅a5
−2⋅i⋅V^3⋅f/J^4⋅b1⋅b2⋅a3⋅b3⋅a4⋅a5}


In [11]:
p(c(Jpart, N(1,'b1⋅a2⋅b4⋅a5⋅b5')))
p(c(Jpart, N(1,'b1⋅a2⋅b4⋅a5⋅a6')))
-2⋅i⋅J⋅b1⋅a2⋅b4⋅a5⋅a6
2⋅i⋅J⋅b1⋅a2⋅b4⋅a5⋅b5


In [12]:
c
<function commutator.calculate_commutator>

In [12]:


In [13]:
    s = {1:2}
    len(s)
1

In [14]:
a = []
a.append([])
a
[[]]

In [14]:


In [15]:
subspace, matrixrows = find_subspace(c(H, psi0+psi1), Jpart)
print_subspace(subspace)
cvector = build_vector_to_cancel(c(H, psi0+psi1), subspace)
psi2 =solve_for_commuting_term(cvector, psi0+psi1, 2, orders, matrixrows, subspace)
p(psi2)
print('\n')
psi = psi0+psi1+psi2
p(c(H,psi))
a1 b1 b2
a1 a2 b2
a1 a2 a3
a1 b1 a3
b1 a2 b3
b1 a2 a4
b1 b2 a3
a2 b2 a3
b2
a3
b1 a2 b3 a4 b4
b1 a2 b3 a4 a5
b2 a3 b3
b2 a3 a4
{+f^2/J^2⋅a3
−i⋅V⋅f/J^2⋅b2⋅a3⋅a4
−i⋅V⋅f/J^2⋅a2⋅b2⋅a3
−V^2/J^2⋅b1⋅a2⋅b3⋅a4⋅a5
−i⋅V⋅f/J^2⋅a1⋅b1⋅a3
−i⋅V⋅f/J^2⋅b1⋅a2⋅a4}


{+2⋅i⋅V^2⋅f/J^2⋅b1⋅a2⋅b4⋅a5⋅b5
+2⋅V⋅f^2/J^2⋅a1⋅a2⋅a4
+2⋅i⋅V^2⋅f/J^2⋅a1⋅b1⋅a2⋅b2⋅b3
−2⋅V⋅f^2/J^2⋅b2⋅a3⋅b4
+2⋅V^3/J^2⋅b1⋅a2⋅b3⋅a4⋅b5⋅a6⋅b6
+2⋅i⋅V^2⋅f/J^2⋅b1⋅b2⋅a3⋅b3⋅a4
+2⋅i⋅V^2⋅f/J^2⋅b1⋅a2⋅a3⋅b3⋅b4
−4⋅V⋅f^2/J^2⋅a2⋅b2⋅b3
+2⋅i⋅V^2⋅f/J^2⋅b1⋅a2⋅b3⋅b4⋅a5
−2⋅i⋅V^2⋅f/J^2⋅a1⋅a2⋅b3⋅a4⋅a5
+2⋅i⋅V^2⋅f/J^2⋅a1⋅b1⋅b3⋅a4⋅b4
−2⋅V⋅f^2/J^2⋅b1⋅b2⋅a4
+2⋅i⋅V^2⋅f/J^2⋅a2⋅b2⋅b3⋅a4⋅b4
−2⋅i⋅V^2⋅f/J^2⋅b1⋅a2⋅a3⋅a4⋅a5
+2⋅i⋅V^2⋅f/J^2⋅b2⋅a3⋅b4⋅a5⋅b5
+2⋅i⋅V^2⋅f/J^2⋅b1⋅a2⋅b3⋅a4⋅b5
−2⋅V⋅f^2/J^2⋅b1⋅a2⋅b4
−2⋅V⋅f^2/J^2⋅a1⋅b1⋅b3
−2⋅V⋅f^2/J^2⋅b2⋅b3⋅a4
+2⋅i⋅V^2⋅f/J^2⋅b1⋅b2⋅b3⋅a4⋅a5
−2⋅i⋅V^2⋅f/J^2⋅a1⋅b1⋅a2⋅a3⋅a4
−2⋅V⋅f^2/J^2⋅b3⋅a4⋅b4
+2⋅V⋅f^2/J^2⋅a2⋅a3⋅a4
−2⋅i⋅V^2⋅f/J^2 - 2⋅i⋅f^3/J^2⋅b3}


In [16]:
subspace, matrixrows = find_subspace(c(H, psi), Jpart)
print_subspace(subspace)
cvector = build_vector_to_cancel(c(H, psi), subspace)
psi3 = solve_for_commuting_term(cvector, psi, 3, orders, matrixrows, subspace)
p(psi3)
print('\n')
p(c(H,psi+psi3))
b1 a2 b4 a5 b5
b1 a2 b4 a5 a6
a1 a2 a4
a1 b1 a4
a1 b1 b3
a1 a2 b3
a1 b1 a2 b2 b3
a1 b1 a2 a3 b3
a1 b1 a2 a3 a4
a1 b1 a2 b2 a4
b2 a3 b4
b2 a3 a5
b1 a2 b3 a4 b5 a6 b6
b1 a2 b3 a4 b5 a6 a7
b1 b2 a3 b3 a4
a2 b2 a3 b3 a4
b1 a2 a3 b3 b4
b1 a2 a3 b3 a5
b1 a2 a3 a4 a5
b1 a2 b2 a4 a5
b1 a2 b2 b3 a5
b1 a2 b2 b3 b4
b1 a2 b2 a4 b4
b1 a2 a3 a4 b4
a2 b2 b3
b1 b2 b3
b1 b2 a4
a2 b2 a4
a2 a3 a4
a2 a3 b3
b1 a3 b3
b1 a3 a4
b1 a2 b3 b4 a5
b1 a2 a4 b4 a5
a1 a2 b3 a4 a5
a1 b1 b3 a4 a5
a1 b1 b3 a4 b4
a1 a2 b3 a4 b4
a2 b2 b3 a4 b4
a2 a3 b3 a4 b4
b1 a3 b3 a4 b4
b1 b2 b3 a4 b4
b1 b2 b3 a4 a5
b1 a3 b3 a4 a5
a2 a3 b3 a4 a5
a2 b2 b3 a4 a5
b2 a3 b4 a5 b5
b2 a3 b4 a5 a6
b1 a2 b3 a4 b5
b1 a2 b3 a4 a6
b1 a2 b4
b1 a2 a5
b2 b3 a4
a3 b3 a4
b3 a4 b4
b3 a4 a5
b3
a4
{+V^2⋅f/(3⋅J^3)⋅b1⋅a2⋅b2⋅a4⋅a5
−4⋅i⋅V⋅f^2/(3⋅J^3)⋅a2⋅b2⋅a4
+V^2⋅f/(3⋅J^3)⋅b1⋅a3⋅b3⋅a4⋅a5
+i⋅V⋅f^2/(3⋅J^3)⋅b1⋅b2⋅b3
−V^2⋅f/J^3⋅b1⋅a2⋅b4⋅a5⋅a6
−V^2⋅f/J^3⋅a1⋅b1⋅a2⋅b2⋅a4
−V^2⋅f/J^3⋅b2⋅a3⋅b4⋅a5⋅a6
−V^2⋅f/J^3⋅b1⋅a2⋅b3⋅a4⋅a6
−V^2⋅f/J^3⋅a2⋅b2⋅a3⋅b3⋅a4
+V^2⋅f/J^3 + f^3/J^3⋅a4
+2⋅i⋅V⋅f^2/(3⋅J^3)⋅b1⋅a3⋅a4
−i⋅V⋅f^2/J^3⋅a3⋅b3⋅a4
−i⋅V⋅f^2/J^3⋅b1⋅a2⋅a5
−V^2⋅f/(3⋅J^3)⋅b1⋅a2⋅b2⋅b3⋅b4
−V^2⋅f/J^3⋅a1⋅b1⋅b3⋅a4⋅a5
−i⋅V⋅f^2/J^3⋅a1⋅b1⋅a4
−V^2⋅f/J^3⋅b1⋅a2⋅a4⋅b4⋅a5
+i⋅V^3/J^3⋅b1⋅a2⋅b3⋅a4⋅b5⋅a6⋅a7
−i⋅V⋅f^2/J^3⋅b2⋅a3⋅a5
+V^2⋅f/(3⋅J^3)⋅a2⋅a3⋅b3⋅a4⋅b4
−2⋅V^2⋅f/(3⋅J^3)⋅a2⋅b2⋅b3⋅a4⋅a5
−i⋅V⋅f^2/(3⋅J^3)⋅a2⋅a3⋅b3
−2⋅V^2⋅f/(3⋅J^3)⋅b1⋅a2⋅a3⋅b3⋅a5
+2⋅V^2⋅f/(3⋅J^3)⋅b1⋅b2⋅b3⋅a4⋅b4
−2⋅V^2⋅f/(3⋅J^3)⋅b1⋅a2⋅a3⋅a4⋅b4
−i⋅V⋅f^2/J^3⋅b3⋅a4⋅a5}


{−2⋅V⋅f^3/J^3⋅a1⋅b1⋅b4
+10⋅i⋅V^2⋅f^2/(3⋅J^3)⋅b1⋅b2⋅a3⋅a4⋅b4
−4⋅V^3⋅f/(3⋅J^3) - 2⋅V⋅f^3/(3⋅J^3)⋅b1⋅a2⋅b3
+4⋅V^3⋅f/(3⋅J^3)⋅a2⋅b2⋅b3⋅a4⋅b5⋅a6⋅b6
+2⋅i⋅V^2⋅f^2/J^3⋅b2⋅a3⋅b4⋅b5⋅a6
+2⋅V^3⋅f/J^3⋅b1⋅a2⋅b3⋅a4⋅b6⋅a7⋅b7
−2⋅V^3⋅f/(3⋅J^3)⋅a1⋅a4⋅a5
−2⋅i⋅V^2⋅f^2/(3⋅J^3)⋅a1⋅a2⋅b2⋅b3⋅b4
−2⋅V^3⋅f/(3⋅J^3)⋅b1⋅a2⋅b2⋅a3⋅b3⋅b4⋅a5
−4⋅V^3⋅f/(3⋅J^3) - 2⋅V⋅f^3/J^3⋅b1⋅b2⋅a5
+2⋅V^3⋅f/J^3⋅b1⋅a2⋅b3⋅a4⋅a5⋅b5⋅b6
−2⋅i⋅V^2⋅f^2/J^3⋅b1⋅a2⋅a3⋅a4⋅a6
+2⋅V^3⋅f/J^3⋅b1⋅a2⋅b3⋅b4⋅b5⋅a6⋅a7
−2⋅V^3⋅f/J^3 - 2⋅V⋅f^3/J^3⋅b4⋅a5⋅b5
+2⋅V^3⋅f/J^3⋅a1⋅b1⋅a2⋅b2⋅a3⋅b3⋅b4
+4⋅V^3⋅f/(3⋅J^3) + 2⋅V⋅f^3/J^3⋅a3⋅a4⋅a5
+4⋅i⋅V^2⋅f^2/(3⋅J^3)⋅a2⋅b2⋅b3⋅a4⋅b5
+2⋅V^3⋅f/(3⋅J^3)⋅a1⋅b3⋅b4
−2⋅V^3⋅f/J^3⋅b1⋅a2⋅a3⋅b3⋅a4⋅a5⋅a6
+2⋅i⋅V^2⋅f^2/J^3⋅b1⋅b2⋅b3⋅a4⋅a6
−2⋅V^3⋅f/J^3⋅b1⋅a2⋅a3⋅a4⋅b5⋅a6⋅a7
+2⋅V^3⋅f/J^3⋅b1⋅b2⋅b3⋅a4⋅b5⋅a6⋅a7
+2⋅V^3⋅f/J^3⋅b1⋅a2⋅b3⋅b4⋅a5⋅b5⋅a6
+2⋅i⋅V^2⋅f^2/J^3⋅a3⋅b3⋅b4⋅a5⋅b5
+2⋅i⋅V^2⋅f^2/J^3⋅b2⋅a3⋅b4⋅a5⋅b6
−2⋅V^3⋅f/J^3⋅a1⋅a2⋅b3⋅a4⋅b5⋅a6⋅a7
+2⋅V⋅f^3/J^3⋅a2⋅a3⋅a5
−2⋅V^3⋅f/J^3 - 4⋅V⋅f^3/J^3⋅a3⋅b3⋅b4
+2⋅i⋅V^2⋅f^2/J^3⋅b2⋅b3⋅b4⋅a5⋅a6
+10⋅i⋅V^2⋅f^2/(3⋅J^3)⋅b1⋅b2⋅a3⋅b3⋅a5
+2⋅V^3⋅f/(3⋅J^3)⋅b1⋅b4⋅a5
+2⋅i⋅V^2⋅f^2/J^3⋅b1⋅b2⋅a4⋅b4⋅a5
−2⋅V^3⋅f/(3⋅J^3)⋅b1⋅a2⋅b2⋅b3⋅a4⋅a5⋅b5
+2⋅V^3⋅f/(3⋅J^3)⋅a1⋅a2⋅b2⋅a3⋅b3⋅a4⋅a5
−2⋅V⋅f^3/J^3⋅b3⋅a4⋅b5
+2⋅V^3⋅f/J^3⋅b1⋅a2⋅b3⋅a4⋅b5⋅a6⋅b7
−2⋅V⋅f^3/(3⋅J^3)⋅a1⋅b2⋅b3
+2⋅i⋅V^2⋅f^2/(3⋅J^3)⋅a1⋅a3⋅b3⋅a4⋅a5
−4⋅i⋅V^2⋅f^2/(3⋅J^3)⋅a1⋅a2⋅a3⋅b3⋅a5
−4⋅V^3⋅f/(3⋅J^3) - 2⋅V⋅f^3/(3⋅J^3)⋅b1⋅b2⋅a3
+2⋅i⋅V^2⋅f^2/J^3⋅b1⋅a2⋅b3⋅b4⋅a6
−2⋅i⋅V^2⋅f^2/J^3⋅a1⋅b1⋅a3⋅a4⋅a5
+2⋅i⋅V^2⋅f^2/J^3⋅a1⋅b1⋅a3⋅b3⋅b4
−2⋅i⋅V^4/J^3⋅b1⋅a2⋅b3⋅a4⋅b5⋅a6⋅b7⋅a8⋅b8
−2⋅i⋅V^2⋅f^2/(3⋅J^3)⋅b2⋅a3⋅b3⋅a4⋅b4
−2⋅V^3⋅f/(3⋅J^3)⋅b1⋅a2⋅b2⋅a4⋅b5⋅a6⋅b6
−2⋅i⋅V^2⋅f^2/(3⋅J^3)⋅b2
+2⋅V^3⋅f/J^3⋅b2⋅a3⋅b4⋅a5⋅b6⋅a7⋅b7
−2⋅i⋅V^2⋅f^2/(3⋅J^3)⋅b1⋅a2⋅b2⋅a3⋅b4
−2⋅V^3⋅f/J^3 - 8⋅V⋅f^3/(3⋅J^3)⋅a2⋅b2⋅b4
+2⋅V^3⋅f/J^3⋅b1⋅b2⋅a3⋅b3⋅a4⋅b4⋅a5
−4⋅i⋅V^2⋅f^2/(3⋅J^3)⋅b1⋅a3⋅b4⋅a5⋅b5
+4⋅V⋅f^3/(3⋅J^3)⋅b1⋅b3⋅a4
−4⋅V⋅f^3/(3⋅J^3)⋅a1⋅a3⋅a4
+8⋅i⋅V^2⋅f^2/(3⋅J^3)⋅a2⋅b2⋅b4⋅a5⋅b5
+2⋅V^3⋅f/J^3⋅b1⋅a2⋅b3⋅a4⋅b5⋅b6⋅a7
+2⋅i⋅V^2⋅f^2/J^3⋅b2⋅a3⋅a4⋅b4⋅b5
+2⋅i⋅V^2⋅f^2/J^3⋅b3⋅a4⋅b5⋅a6⋅b6
−2⋅V⋅f^3/J^3⋅b2⋅b3⋅a5
+2⋅V^3⋅f/(3⋅J^3) + 4⋅V⋅f^3/(3⋅J^3)⋅b1⋅a3⋅b4
+2⋅i⋅V^2⋅f^2/J^3⋅b1⋅b2⋅b4⋅a5⋅a6
+2⋅i⋅V^2⋅f^2/(3⋅J^3)⋅a1⋅a2⋅b2⋅a4⋅a5
+4⋅i⋅V^2⋅f^2/J^3⋅b1⋅a2⋅a4⋅b4⋅b5
−2⋅V^3⋅f/(3⋅J^3)⋅b1⋅a3⋅b3⋅a4⋅b5⋅a6⋅b6
−2⋅i⋅V^2⋅f^2/J^3⋅b1⋅a2⋅a4⋅a5⋅a6
+2⋅i⋅V^2⋅f^2/(3⋅J^3)⋅a1⋅b1⋅b2⋅a3⋅b3
+2⋅i⋅V^2⋅f^2/J^3⋅a1⋅b1⋅b4⋅a5⋅b5
−2⋅i⋅V^2⋅f^2/(3⋅J^3)⋅b1⋅a2⋅b2⋅a4⋅b5
−2⋅i⋅V^2⋅f^2/(3⋅J^3)⋅b1⋅a3⋅b3⋅a4⋅b5
+2⋅i⋅V^2⋅f^2/J^3⋅a1⋅b1⋅a2⋅b2⋅b4
−2⋅i⋅V^2⋅f^2/J^3⋅a1⋅a2⋅b4⋅a5⋅a6
+2⋅i⋅V^2⋅f^2/J^3⋅b2⋅a3⋅b5⋅a6⋅b6
+2⋅i⋅V^2⋅f^2/J^3⋅b1⋅a2⋅b4⋅b5⋅a6
+14⋅i⋅V^2⋅f^2/(3⋅J^3)⋅a2⋅b2⋅a3⋅b3⋅b4
−2⋅V⋅f^3/(3⋅J^3)⋅b2⋅a3⋅b3
+2⋅i⋅V^2⋅f^2/J^3⋅b1⋅a2⋅b5⋅a6⋅b6
+2⋅V^3⋅f/J^3⋅a2⋅b2⋅a3⋅b3⋅b4⋅a5⋅b5
−2⋅i⋅V^2⋅f^2/J^3⋅b2⋅a3⋅a4⋅a5⋅a6
−2⋅V^3⋅f/J^3⋅a1⋅b1⋅a2⋅b2⋅a3⋅a4⋅a5
−4⋅i⋅V^2⋅f^2/J^3 - 2⋅i⋅f^4/J^3⋅b4
−2⋅V^3⋅f/J^3 - 2⋅V⋅f^3/J^3⋅b1⋅a2⋅b5
+4⋅i⋅V^2⋅f^2/(3⋅J^3)⋅a2⋅b2⋅b3⋅b4⋅a5
+4⋅i⋅V^2⋅f^2/(3⋅J^3)⋅b1⋅a2⋅a3⋅b3⋅b5
+2⋅V^3⋅f/J^3⋅a1⋅b1⋅a2⋅b2⋅b4⋅a5⋅b5
−4⋅i⋅V^2⋅f^2/(3⋅J^3)⋅a1⋅a2⋅a3⋅a4⋅b4
+2⋅V^3⋅f/J^3⋅b1⋅a2⋅b4⋅a5⋅b6⋅a7⋅b7
+4⋅V^3⋅f/(3⋅J^3)⋅b1⋅a2⋅a3⋅b3⋅a4⋅b4⋅b5
+2⋅i⋅V^2⋅f^2/J^3⋅a1⋅b1⋅b3⋅b4⋅a5
+2⋅i⋅V^2⋅f^2/J^3⋅b1⋅a2⋅b4⋅a5⋅b6
+8⋅i⋅V^2⋅f^2/(3⋅J^3)⋅b1⋅a2⋅b3⋅a4⋅b4
−2⋅i⋅V^2⋅f^2/(3⋅J^3)⋅b1⋅a3⋅b3⋅b4⋅a5
+2⋅V^3⋅f/J^3⋅a1⋅b1⋅b3⋅a4⋅b5⋅a6⋅b6
+4⋅i⋅V^2⋅f^2/(3⋅J^3)⋅a1⋅b2⋅b3⋅a4⋅b4
+2⋅V^3⋅f/(3⋅J^3)⋅b2⋅a4⋅b4
−2⋅i⋅V^2⋅f^2/J^3⋅a1⋅a2⋅a4⋅b4⋅a5
+2⋅i⋅V^2⋅f^2/J^3⋅a1⋅b1⋅b3⋅a4⋅b5
−2⋅i⋅V^2⋅f^2/J^3⋅a1⋅a2⋅b3⋅a4⋅a6
−2⋅i⋅V^2⋅f^2/(3⋅J^3)⋅b1⋅a2⋅b2⋅b4⋅a5
+2⋅V^3⋅f/J^3⋅b1⋅b2⋅a3⋅b3⋅b4⋅a5⋅a6
+2⋅V^3⋅f/J^3⋅b1⋅a2⋅a4⋅b4⋅b5⋅a6⋅b6
−2⋅V⋅f^3/J^3⋅b3⋅b4⋅a5
−2⋅V^3⋅f/J^3⋅b1⋅a2⋅b3⋅a4⋅a5⋅a6⋅a7
+2⋅V⋅f^3/J^3⋅a1⋅a2⋅a5
+4⋅V^3⋅f/(3⋅J^3)⋅b1⋅a2⋅a3⋅b3⋅b5⋅a6⋅b6
+2⋅i⋅V^2⋅f^2/J^3⋅b1⋅a2⋅b3⋅a4⋅b6
−2⋅V⋅f^3/J^3⋅b2⋅a3⋅b5
−2⋅i⋅V^2⋅f^2/J^3⋅a1⋅b1⋅a2⋅a3⋅a5
+4⋅i⋅V^2⋅f^2/(3⋅J^3)⋅a1⋅a2⋅b2⋅a3⋅a4
−10⋅i⋅V^2⋅f^2/(3⋅J^3)⋅a2⋅b2⋅a3⋅a4⋅a5
+2⋅i⋅V^2⋅f^2/J^3⋅b2⋅b3⋅a4⋅b4⋅a5
−2⋅V^3⋅f/(3⋅J^3)⋅a1⋅b1⋅b2⋅a3⋅b3⋅a4⋅b4
−2⋅i⋅V^2⋅f^2/J^3⋅b1⋅a2⋅b2⋅b3⋅a4
−2⋅V^3⋅f/J^3⋅a1⋅b1⋅a2⋅a3⋅b4⋅a5⋅a6
−2⋅i⋅V^2⋅f^2/J^3⋅a2⋅a3⋅b4⋅a5⋅a6}


In [17]:

(b0, 4)
(b1, 4)
(b2, 4)
(b3, 4)
(b4, 4)
{b1: 4, 'a': 1, b0: 4, b2: 4, b4: 4, b3: 4}


In [*]:
psi += psi3
subspace, matrixrows = find_subspace(c(H, psi), Jpart)
print_subspace(subspace)
cvector = build_vector_to_cancel(c(H, psi), subspace)
psi4 = solve_for_commuting_term(cvector, psi, 4, orders, matrixrows, subspace)
p(psi4)
print('\n')
p(c(H,psi+psi4))

