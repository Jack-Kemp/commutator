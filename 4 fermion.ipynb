{
 "cells": [
  {
   "cell_type": "code",
   "execution_count": 1,
   "metadata": {
    "autoscroll": "json-false",
    "collapsed": false,
    "ein.tags": [
     "worksheet-0"
    ]
   },
   "outputs": [],
   "source": [
    "%load_ext autoreload"
   ]
  },
  {
   "cell_type": "code",
   "execution_count": 2,
   "metadata": {
    "autoscroll": "json-false",
    "collapsed": false,
    "ein.tags": [
     "worksheet-0"
    ]
   },
   "outputs": [],
   "source": [
    "from commutator import *\n",
    "%autoreload"
   ]
  },
  {
   "cell_type": "code",
   "execution_count": 3,
   "metadata": {
    "autoscroll": "json-false",
    "collapsed": false,
    "ein.tags": [
     "worksheet-0"
    ]
   },
   "outputs": [],
   "source": [
    "p = print_group\n",
    "c = calculate_commutator\n",
    "N = Ncproduct\n",
    "d = Ncproduct.destringify"
   ]
  },
  {
   "cell_type": "code",
   "execution_count": 4,
   "metadata": {
    "autoscroll": "json-false",
    "collapsed": false,
    "ein.tags": [
     "worksheet-0"
    ]
   },
   "outputs": [
    {
     "name": "stdout",
     "output_type": "stream",
     "text": [
      "{+i⋅J⋅b1⋅a2\n",
      "+i⋅J⋅b2⋅a3\n",
      "+i⋅J⋅b3⋅a4\n",
      "+i⋅J⋅b4⋅a5\n",
      "+i⋅J⋅b5⋅a6\n",
      "+i⋅J⋅b6⋅a7\n",
      "+i⋅J⋅b7⋅a8\n",
      "+i⋅J⋅b8⋅a9\n",
      "+i⋅J⋅b9⋅a10\n",
      "+i⋅J⋅b10⋅a11\n",
      "+i⋅J⋅b11⋅a12\n",
      "+i⋅J⋅b12⋅a13\n",
      "+i⋅J⋅b13⋅a14\n",
      "+i⋅J⋅b14⋅a15\n",
      "+i⋅J⋅b15⋅a16\n",
      "+i⋅J⋅b16⋅a17\n",
      "+i⋅J⋅b17⋅a18\n",
      "+i⋅J⋅b18⋅a19\n",
      "+i⋅J⋅b19⋅a20\n",
      "+i⋅f⋅a1⋅b1\n",
      "+i⋅f⋅a2⋅b2\n",
      "+i⋅f⋅a3⋅b3\n",
      "+i⋅f⋅a4⋅b4\n",
      "+i⋅f⋅a5⋅b5\n",
      "+i⋅f⋅a6⋅b6\n",
      "+i⋅f⋅a7⋅b7\n",
      "+i⋅f⋅a8⋅b8\n",
      "+i⋅f⋅a9⋅b9\n",
      "+i⋅f⋅a10⋅b10\n",
      "+i⋅f⋅a11⋅b11\n",
      "+i⋅f⋅a12⋅b12\n",
      "+i⋅f⋅a13⋅b13\n",
      "+i⋅f⋅a14⋅b14\n",
      "+i⋅f⋅a15⋅b15\n",
      "+i⋅f⋅a16⋅b16\n",
      "+i⋅f⋅a17⋅b17\n",
      "+i⋅f⋅a18⋅b18\n",
      "+i⋅f⋅a19⋅b19\n",
      "+i⋅f⋅a20⋅b20\n",
      "+V⋅a1⋅b1⋅a2⋅b2\n",
      "+V⋅a2⋅b2⋅a3⋅b3\n",
      "+V⋅a3⋅b3⋅a4⋅b4\n",
      "+V⋅a4⋅b4⋅a5⋅b5\n",
      "+V⋅a5⋅b5⋅a6⋅b6\n",
      "+V⋅a6⋅b6⋅a7⋅b7\n",
      "+V⋅a7⋅b7⋅a8⋅b8\n",
      "+V⋅a8⋅b8⋅a9⋅b9\n",
      "+V⋅a9⋅b9⋅a10⋅b10\n",
      "+V⋅a10⋅b10⋅a11⋅b11\n",
      "+V⋅a11⋅b11⋅a12⋅b12\n",
      "+V⋅a12⋅b12⋅a13⋅b13\n",
      "+V⋅a13⋅b13⋅a14⋅b14\n",
      "+V⋅a14⋅b14⋅a15⋅b15\n",
      "+V⋅a15⋅b15⋅a16⋅b16\n",
      "+V⋅a16⋅b16⋅a17⋅b17\n",
      "+V⋅a17⋅b17⋅a18⋅b18\n",
      "+V⋅a18⋅b18⋅a19⋅b19}\n"
     ]
    }
   ],
   "source": [
    "p(H)"
   ]
  },
  {
   "cell_type": "code",
   "execution_count": 5,
   "metadata": {
    "autoscroll": "json-false",
    "collapsed": false,
    "ein.tags": [
     "worksheet-0"
    ]
   },
   "outputs": [
    {
     "name": "stdout",
     "output_type": "stream",
     "text": [
      "{−2⋅i⋅f⋅b1\n",
      "−2⋅V⋅b1⋅a2⋅b2}\n"
     ]
    }
   ],
   "source": [
    "psi0 = N(1, 'a1')\n",
    "p(c(H,psi0))"
   ]
  },
  {
   "cell_type": "code",
   "execution_count": 6,
   "metadata": {
    "autoscroll": "json-false",
    "collapsed": false,
    "ein.tags": [
     "worksheet-0"
    ]
   },
   "outputs": [
    {
     "name": "stdout",
     "output_type": "stream",
     "text": [
      "{+f/J⋅a2\n",
      "−i⋅V/J⋅b1⋅a2⋅a3}\n"
     ]
    }
   ],
   "source": [
    "psi1a = N(f/J, 'a2')\n",
    "psi1V = N(V/(I*J), 'b1 a2 a3')\n",
    "psi1 = psi1a+psi1V\n",
    "p(psi1)"
   ]
  },
  {
   "cell_type": "code",
   "execution_count": 7,
   "metadata": {
    "autoscroll": "json-false",
    "collapsed": false,
    "ein.tags": [
     "worksheet-0"
    ]
   },
   "outputs": [
    {
     "name": "stdout",
     "output_type": "stream",
     "text": [
      "{−2⋅V⋅f/J⋅a1⋅b1⋅b2\n",
      "+2⋅V⋅f/J⋅a1⋅a2⋅a3\n",
      "−2⋅V⋅f/J⋅b1⋅a2⋅b3\n",
      "−2⋅V⋅f/J⋅b1⋅b2⋅a3\n",
      "−2⋅i⋅f^2/J⋅b2\n",
      "+2⋅i⋅V^2/J⋅b1⋅a2⋅b3⋅a4⋅b4\n",
      "−2⋅V⋅f/J⋅b2⋅a3⋅b3}\n"
     ]
    }
   ],
   "source": [
    "p(c(H,psi0+psi1))"
   ]
  },
  {
   "cell_type": "markdown",
   "metadata": {
    "ein.tags": [
     "worksheet-0"
    ]
   },
   "source": [
    "{\n",
    "+2⋅i⋅V^2/J⋅b1⋅a2⋅b3⋅a4⋅b4}"
   ]
  },
  {
   "cell_type": "code",
   "execution_count": 30,
   "metadata": {
    "autoscroll": "json-false",
    "collapsed": false,
    "ein.tags": [
     "worksheet-0"
    ]
   },
   "outputs": [
    {
     "name": "stdout",
     "output_type": "stream",
     "text": [
      "{+f^2/J^2⋅a3\n",
      "−i⋅V⋅f/J^2⋅b2⋅a3⋅a4\n",
      "−i⋅V⋅f/J^2⋅b1⋅a2⋅a4\n",
      "−i⋅V⋅f/J^2⋅a2⋅b2⋅a3\n",
      "−i⋅V⋅f/J^2⋅a1⋅a2⋅b2\n",
      "−V^2/J^2⋅b1⋅a2⋅b3⋅a4⋅a5}\n"
     ]
    }
   ],
   "source": [
    "psi2a = N((f/J)**2, 'a3') # b2\n",
    "psi2V = N(f*V/(I*J**2), 'b2 a3 a4') #b2 a3 b3\n",
    "psi2Vf3 = N(f*V/(I*J**2), 'b1 a2 a4') # b1 a2 b3\n",
    "psi2Vf4 = N(f*V/(I*J**2), 'a2 b2 a3') # b1 b2 a3\n",
    "psi2Vdg = N(f*V/(I*J**2), 'a1 a2 b2') #a1 a2 a3\n",
    "psi2V4  = N(-V**2/(J**2), 'b1 a2 b3 a4 a5') #b1 a2 b3 a4 b4\n",
    "psi2 = psi2a+psi2V+psi2Vf3+psi2Vf4+ psi2Vdg+psi2V4\n",
    "p(psi2)"
   ]
  },
  {
   "cell_type": "code",
   "execution_count": 32,
   "metadata": {
    "autoscroll": "json-false",
    "collapsed": false,
    "ein.tags": [
     "worksheet-0"
    ]
   },
   "outputs": [
    {
     "ename": "IndexError",
     "evalue": "list index out of range",
     "output_type": "error",
     "traceback": [
      "\u001b[1;31m---------------------------------------------------------------------------\u001b[0m",
      "\u001b[1;31mIndexError\u001b[0m                                Traceback (most recent call last)",
      "\u001b[1;32m<ipython-input-32-bebaa2780add>\u001b[0m in \u001b[0;36m<module>\u001b[1;34m()\u001b[0m\n\u001b[0;32m      4\u001b[0m \u001b[0mb\u001b[0m \u001b[1;33m=\u001b[0m \u001b[0mc\u001b[0m\u001b[1;33m(\u001b[0m\u001b[0mH\u001b[0m\u001b[1;33m,\u001b[0m\u001b[0mpsi0\u001b[0m\u001b[1;33m+\u001b[0m\u001b[0mpsi1\u001b[0m\u001b[1;33m+\u001b[0m\u001b[0mpsi2\u001b[0m\u001b[1;33m)\u001b[0m\u001b[1;33m\u001b[0m\u001b[0m\n\u001b[0;32m      5\u001b[0m \u001b[1;32mfor\u001b[0m \u001b[0mi\u001b[0m \u001b[1;32min\u001b[0m \u001b[0mrange\u001b[0m\u001b[1;33m(\u001b[0m\u001b[0mlen\u001b[0m\u001b[1;33m(\u001b[0m\u001b[0ma\u001b[0m\u001b[1;33m)\u001b[0m\u001b[1;33m)\u001b[0m\u001b[1;33m:\u001b[0m\u001b[1;33m\u001b[0m\u001b[0m\n\u001b[1;32m----> 6\u001b[1;33m     \u001b[0mprint\u001b[0m\u001b[1;33m(\u001b[0m\u001b[0ma\u001b[0m\u001b[1;33m[\u001b[0m\u001b[0mi\u001b[0m\u001b[1;33m]\u001b[0m\u001b[1;33m==\u001b[0m\u001b[0mb\u001b[0m\u001b[1;33m[\u001b[0m\u001b[0mi\u001b[0m\u001b[1;33m]\u001b[0m\u001b[1;33m)\u001b[0m\u001b[1;33m\u001b[0m\u001b[0m\n\u001b[0m",
      "\u001b[1;31mIndexError\u001b[0m: list index out of range"
     ]
    },
    {
     "name": "stdout",
     "output_type": "stream",
     "text": [
      "True\n",
      "True\n",
      "False\n",
      "False\n",
      "False\n",
      "False\n",
      "False\n",
      "False\n",
      "False\n",
      "False\n",
      "False\n",
      "False\n",
      "False\n",
      "False\n",
      "False\n",
      "False\n",
      "False\n",
      "False\n",
      "False\n",
      "False\n",
      "False\n",
      "False\n",
      "False\n"
     ]
    }
   ],
   "source": [
    "psi2Vdg2 = N(f*V/(I*J**2), 'a1 b1 a3') #a1 a2 a3\n",
    "psi22 = psi2a+psi2V+psi2Vf3+psi2Vf4+ psi2Vdg2+psi2V4\n",
    "a = c(H,psi0+psi1+psi22)\n",
    "b = c(H,psi0+psi1+psi2)\n",
    "for i in range(len(a)):\n",
    "    print(a[i]==b[i])"
   ]
  },
  {
   "cell_type": "code",
   "execution_count": 29,
   "metadata": {
    "autoscroll": "json-false",
    "collapsed": false,
    "ein.tags": [
     "worksheet-0"
    ]
   },
   "outputs": [
    {
     "name": "stdout",
     "output_type": "stream",
     "text": [
      "{+2⋅i⋅V^2⋅f/J^2⋅b1⋅a2⋅b4⋅a5⋅b5\n",
      "+2⋅V⋅f^2/J^2⋅a1⋅a2⋅a4\n",
      "+2⋅i⋅V^2⋅f/J^2⋅a1⋅b1⋅a2⋅b2⋅b3\n",
      "−2⋅V⋅f^2/J^2⋅b2⋅a3⋅b4\n",
      "+2⋅V^3/J^2⋅b1⋅a2⋅b3⋅a4⋅b5⋅a6⋅b6\n",
      "+2⋅i⋅V^2⋅f/J^2⋅b1⋅b2⋅a3⋅b3⋅a4\n",
      "+2⋅i⋅V^2⋅f/J^2⋅b1⋅a2⋅a3⋅b3⋅b4\n",
      "−4⋅V⋅f^2/J^2⋅a2⋅b2⋅b3\n",
      "+2⋅i⋅V^2⋅f/J^2⋅b1⋅a2⋅b3⋅b4⋅a5\n",
      "−2⋅i⋅V^2⋅f/J^2⋅a1⋅a2⋅b3⋅a4⋅a5\n",
      "+2⋅i⋅V^2⋅f/J^2⋅a1⋅b1⋅b3⋅a4⋅b4\n",
      "−2⋅V⋅f^2/J^2⋅b1⋅b2⋅a4\n",
      "+2⋅i⋅V^2⋅f/J^2⋅a2⋅b2⋅b3⋅a4⋅b4\n",
      "−2⋅i⋅V^2⋅f/J^2⋅b1⋅a2⋅a3⋅a4⋅a5\n",
      "+2⋅i⋅V^2⋅f/J^2⋅b2⋅a3⋅b4⋅a5⋅b5\n",
      "+2⋅i⋅V^2⋅f/J^2⋅b1⋅a2⋅b3⋅a4⋅b5\n",
      "−2⋅V⋅f^2/J^2⋅b1⋅a2⋅b4\n",
      "−2⋅V⋅f^2/J^2⋅a1⋅b1⋅b3\n",
      "−2⋅V⋅f^2/J^2⋅b2⋅b3⋅a4\n",
      "+2⋅i⋅V^2⋅f/J^2⋅b1⋅b2⋅b3⋅a4⋅a5\n",
      "−2⋅i⋅V^2⋅f/J^2⋅a1⋅b1⋅a2⋅a3⋅a4\n",
      "−2⋅V⋅f^2/J^2⋅b3⋅a4⋅b4\n",
      "+2⋅V⋅f^2/J^2⋅a2⋅a3⋅a4\n",
      "−2⋅i⋅V^2⋅f/J^2 - 2⋅i⋅f^3/J^2⋅b3}\n"
     ]
    }
   ],
   "source": [
    "p(c(H,psi0+psi1+psi22))"
   ]
  },
  {
   "cell_type": "code",
   "execution_count": 31,
   "metadata": {
    "autoscroll": "json-false",
    "collapsed": false,
    "ein.tags": [
     "worksheet-0"
    ]
   },
   "outputs": [
    {
     "name": "stdout",
     "output_type": "stream",
     "text": [
      "{+2⋅i⋅V^2⋅f/J^2⋅b1⋅a2⋅b4⋅a5⋅b5\n",
      "+2⋅V⋅f^2/J^2⋅a1⋅a2⋅a4\n",
      "−2⋅V⋅f^2/J^2⋅b2⋅a3⋅b4\n",
      "+2⋅V^3/J^2⋅b1⋅a2⋅b3⋅a4⋅b5⋅a6⋅b6\n",
      "+2⋅i⋅V^2⋅f/J^2⋅b1⋅a2⋅a3⋅b3⋅b4\n",
      "−4⋅V⋅f^2/J^2⋅a2⋅b2⋅b3\n",
      "−2⋅i⋅V^2⋅f/J^2⋅a1⋅a2⋅b3⋅a4⋅a5\n",
      "−2⋅V⋅f^2/J^2⋅b1⋅b2⋅a4\n",
      "+2⋅i⋅V^2⋅f/J^2⋅a2⋅b2⋅b3⋅a4⋅b4\n",
      "−2⋅i⋅V^2⋅f/J^2⋅b1⋅a2⋅a3⋅a4⋅a5\n",
      "+2⋅i⋅V^2⋅f/J^2⋅b2⋅a3⋅b4⋅a5⋅b5\n",
      "+2⋅i⋅V^2⋅f/J^2⋅b1⋅a2⋅b3⋅a4⋅b5\n",
      "−2⋅V⋅f^2/J^2⋅b1⋅a2⋅b4\n",
      "−2⋅V⋅f^2/J^2⋅b1⋅a2⋅b2\n",
      "−2⋅V⋅f^2/J^2⋅b2⋅b3⋅a4\n",
      "+2⋅i⋅V^2⋅f/J^2⋅b1⋅b2⋅b3⋅a4⋅a5\n",
      "+2⋅i⋅V^2⋅f/J^2⋅b1⋅b2⋅a3⋅b3⋅a4\n",
      "+2⋅i⋅V^2⋅f/J^2⋅b1⋅a2⋅b3⋅b4⋅a5\n",
      "−2⋅i⋅V^2⋅f/J^2⋅a1⋅b1⋅a2⋅a3⋅a4\n",
      "−2⋅V⋅f^2/J^2⋅b3⋅a4⋅b4\n",
      "−2⋅i⋅V^2⋅f/J^2⋅b1\n",
      "+2⋅V⋅f^2/J^2⋅a2⋅a3⋅a4\n",
      "−2⋅i⋅V^2⋅f/J^2 - 2⋅i⋅f^3/J^2⋅b3}\n"
     ]
    }
   ],
   "source": [
    "p(c(H,psi0+psi1+psi2))"
   ]
  },
  {
   "cell_type": "code",
   "execution_count": 10,
   "metadata": {
    "autoscroll": "json-false",
    "collapsed": false,
    "ein.tags": [
     "worksheet-0"
    ]
   },
   "outputs": [
    {
     "name": "stdout",
     "output_type": "stream",
     "text": [
      "{+2⋅i⋅J⋅a1⋅a2⋅b2\n",
      "+2⋅i⋅J⋅a1⋅b1⋅a3}\n",
      "{+4⋅i⋅J⋅a1⋅b1⋅b2\n",
      "−4⋅i⋅J⋅a1⋅a2⋅a3}\n"
     ]
    }
   ],
   "source": [
    "p(c(Jpart, N(1, 'a1 a2 a3')))\n",
    "p(c(Jpart, N(1, 'a1 a2 b2') + N(1, 'a1 b1 a3') ))"
   ]
  }
 ],
 "metadata": {
  "kernelspec": {
   "display_name": "Python 3",
   "language": "python",
   "name": "python3"
  },
  "language_info": {
   "codemirror_mode": {
    "name": "ipython",
    "version": 3
   },
   "file_extension": ".py",
   "mimetype": "text/x-python",
   "name": "python",
   "nbconvert_exporter": "python",
   "pygments_lexer": "ipython3",
   "version": "3.4.2"
  },
  "name": "4 fermion.ipynb"
 },
 "nbformat": 4,
 "nbformat_minor": 0
}
