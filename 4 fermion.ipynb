{
 "cells": [
  {
   "cell_type": "code",
   "execution_count": 1,
   "metadata": {
    "autoscroll": "json-false",
    "collapsed": false,
    "ein.tags": [
     "worksheet-0"
    ]
   },
   "outputs": [],
   "source": [
    "%load_ext autoreload"
   ]
  },
  {
   "cell_type": "code",
   "execution_count": 2,
   "metadata": {
    "autoscroll": "json-false",
    "collapsed": false,
    "ein.tags": [
     "worksheet-0"
    ]
   },
   "outputs": [],
   "source": [
    "from commutator import *\n",
    "%autoreload"
   ]
  },
  {
   "cell_type": "code",
   "execution_count": 3,
   "metadata": {
    "autoscroll": "json-false",
    "collapsed": false,
    "ein.tags": [
     "worksheet-0"
    ]
   },
   "outputs": [],
   "source": [
    "V,J,f = symbols('V J f')\n",
    "L = 20\n",
    "orders = {V:1,f:1,J:-1}\n",
    "print_group.orders = orders\n",
    "fpart = [Ncproduct(I*f, [2*j+1,2*j+2]) for j in range(L)]\n",
    "Vpart = [Ncproduct(V, [2*j+1,2*j+2,2*j+3,2*j+4]) for j in range(L-2)]\n",
    "small = fpart+Vpart\n",
    "Jpart = [Ncproduct(I*J, [2*j+2,2*j+3]) for j in range(L-1)]\n",
    "H = fpart + Vpart +Jpart"
   ]
  },
  {
   "cell_type": "code",
   "execution_count": 4,
   "metadata": {
    "autoscroll": "json-false",
    "collapsed": false,
    "ein.tags": [
     "worksheet-0"
    ]
   },
   "outputs": [],
   "source": [
    "p = print_group\n",
    "c = calculate_commutator\n",
    "N = Ncproduct"
   ]
  },
  {
   "cell_type": "code",
   "execution_count": 5,
   "metadata": {
    "autoscroll": "json-false",
    "collapsed": false,
    "ein.tags": [
     "worksheet-0"
    ]
   },
   "outputs": [
    {
     "name": "stdout",
     "output_type": "stream",
     "text": [
      "{−2⋅i⋅f⋅b1\n",
      "−2⋅V⋅b1⋅a2⋅b2}\n"
     ]
    }
   ],
   "source": [
    "psi0 = N(1, 'a1')\n",
    "p(c(H,psi0))"
   ]
  },
  {
   "cell_type": "code",
   "execution_count": 6,
   "metadata": {
    "autoscroll": "json-false",
    "collapsed": false,
    "ein.tags": [
     "worksheet-0"
    ]
   },
   "outputs": [
    {
     "name": "stdout",
     "output_type": "stream",
     "text": [
      "{+f/J⋅a2\n",
      "−i⋅V/J⋅b1⋅a2⋅a3}\n"
     ]
    }
   ],
   "source": [
    "psi1a = N(f/J, 'a2')\n",
    "psi1V = N(V/(I*J), 'b1 a2 a3')\n",
    "psi1 = psi1a+psi1V\n",
    "p(psi1)"
   ]
  },
  {
   "cell_type": "code",
   "execution_count": 7,
   "metadata": {
    "autoscroll": "json-false",
    "collapsed": false,
    "ein.tags": [
     "worksheet-0"
    ]
   },
   "outputs": [
    {
     "name": "stdout",
     "output_type": "stream",
     "text": [
      "{−2⋅V⋅f/J⋅a1⋅b1⋅b2\n",
      "+2⋅V⋅f/J⋅a1⋅a2⋅a3\n",
      "−2⋅V⋅f/J⋅b1⋅a2⋅b3\n",
      "−2⋅V⋅f/J⋅b1⋅b2⋅a3\n",
      "−2⋅i⋅f^2/J⋅b2\n",
      "+2⋅i⋅V^2/J⋅b1⋅a2⋅b3⋅a4⋅b4\n",
      "−2⋅V⋅f/J⋅b2⋅a3⋅b3}\n",
      "{+1 + V^2/J^2 + f^2/J^2\n",
      "+2⋅i⋅V⋅f/J^2⋅b1⋅a3}\n"
     ]
    }
   ],
   "source": [
    "p(c(H,psi0+psi1))\n",
    "p(multiply_groups(psi0+psi1,psi0+psi1))"
   ]
  },
  {
   "cell_type": "code",
   "execution_count": 8,
   "metadata": {
    "autoscroll": "json-false",
    "collapsed": false,
    "ein.tags": [
     "worksheet-0"
    ]
   },
   "outputs": [
    {
     "name": "stdout",
     "output_type": "stream",
     "text": [
      "{+f^2/J^2⋅a3\n",
      "−i⋅V⋅f/J^2⋅b2⋅a3⋅a4\n",
      "−i⋅V⋅f/J^2⋅b1⋅a2⋅a4\n",
      "−i⋅V⋅f/J^2⋅a2⋅b2⋅a3\n",
      "−i⋅V⋅f/J^2⋅a1⋅b1⋅a3\n",
      "−V^2/J^2⋅b1⋅a2⋅b3⋅a4⋅a5}\n"
     ]
    }
   ],
   "source": [
    "psi2a = N((f/J)**2, 'a3') # b2\n",
    "psi2V = N(f*V/(I*J**2), 'b2 a3 a4') #b2 a3 b3\n",
    "psi2Vf3 = N(f*V/(I*J**2), 'b1 a2 a4') # b1 a2 b3\n",
    "psi2Vf4 = N(f*V/(I*J**2), 'a2 b2 a3') # b1 b2 a3\n",
    "psi2Vdg = N(f*V/(I*J**2), 'a1 b1 a3') #a1 a2 a3\n",
    "psi2V4  = N(-V**2/(J**2), 'b1 a2 b3 a4 a5') #b1 a2 b3 a4 b4\n",
    "psi2 = psi2a+psi2V+psi2Vf3+psi2Vf4+ psi2Vdg+psi2V4\n",
    "p(psi2)"
   ]
  },
  {
   "cell_type": "code",
   "execution_count": 96,
   "metadata": {
    "autoscroll": "json-false",
    "collapsed": false,
    "ein.tags": [
     "worksheet-0"
    ]
   },
   "outputs": [
    {
     "data": {
      "text/plain": [
       "[-2*I*V*f**3/J**4 : [1, 2],\n",
       " 2*I*V*f**3/J**4 : [4, 7],\n",
       " -2*I*V*f**2/J**3 : [4, 5],\n",
       " 2*V**2*f/J**3 : [2, 3, 4, 7],\n",
       " -2*I*V**3*f/J**4 : [2, 3, 4, 5, 6, 9],\n",
       " -2*V**2*f**2/J**4 : [1, 3, 5, 7],\n",
       " -2*I*V*f**2/J**3 : [2, 3],\n",
       " -2*V**2*f**2/J**4 : [2, 3, 4, 5],\n",
       " 2*I*V*f**2/J**3 : [2, 7],\n",
       " 2*I*V**3*f/J**4 : [6, 9],\n",
       " -2*V**2*f**2/J**4 : [1, 2, 3, 4],\n",
       " -2*I*V*f**3/J**4 : [3, 4],\n",
       " 2*I*V**3*f/J**4 : [1, 3, 5, 6, 7, 9],\n",
       " 2*V**2*f**2/J**4 : [1, 2, 4, 7],\n",
       " 2*V**2*f/J**3 : [2, 6, 7, 9],\n",
       " 1 + V**2/J**2 + f**2/J**2 + V**4/J**4 + 4*V**2*f**2/J**4 + f**4/J**4 : [],\n",
       " 2*V**2*f**2/J**4 : [2, 4, 5, 7],\n",
       " -2*I*V**3*f/J**4 : [2, 4, 5, 6, 7, 9]]"
      ]
     },
     "execution_count": 96,
     "metadata": {},
     "output_type": "execute_result"
    },
    {
     "name": "stdout",
     "output_type": "stream",
     "text": [
      "{+2⋅i⋅V^2⋅f/J^2⋅b1⋅a2⋅b4⋅a5⋅b5\n",
      "+2⋅V⋅f^2/J^2⋅a1⋅a2⋅a4\n",
      "+2⋅i⋅V^2⋅f/J^2⋅a1⋅b1⋅a2⋅b2⋅b3\n",
      "−2⋅V⋅f^2/J^2⋅b2⋅a3⋅b4\n",
      "+2⋅V^3/J^2⋅b1⋅a2⋅b3⋅a4⋅b5⋅a6⋅b6\n",
      "+2⋅i⋅V^2⋅f/J^2⋅b1⋅b2⋅a3⋅b3⋅a4\n",
      "+2⋅i⋅V^2⋅f/J^2⋅b1⋅a2⋅a3⋅b3⋅b4\n",
      "−4⋅V⋅f^2/J^2⋅a2⋅b2⋅b3\n",
      "+2⋅i⋅V^2⋅f/J^2⋅b1⋅a2⋅b3⋅b4⋅a5\n",
      "−2⋅i⋅V^2⋅f/J^2⋅a1⋅a2⋅b3⋅a4⋅a5\n",
      "+2⋅i⋅V^2⋅f/J^2⋅a1⋅b1⋅b3⋅a4⋅b4\n",
      "−2⋅V⋅f^2/J^2⋅b1⋅b2⋅a4\n",
      "+2⋅i⋅V^2⋅f/J^2⋅a2⋅b2⋅b3⋅a4⋅b4\n",
      "−2⋅i⋅V^2⋅f/J^2⋅b1⋅a2⋅a3⋅a4⋅a5\n",
      "+2⋅i⋅V^2⋅f/J^2⋅b2⋅a3⋅b4⋅a5⋅b5\n",
      "+2⋅i⋅V^2⋅f/J^2⋅b1⋅a2⋅b3⋅a4⋅b5\n",
      "−2⋅V⋅f^2/J^2⋅b1⋅a2⋅b4\n",
      "−2⋅V⋅f^2/J^2⋅a1⋅b1⋅b3\n",
      "−2⋅V⋅f^2/J^2⋅b2⋅b3⋅a4\n",
      "+2⋅i⋅V^2⋅f/J^2⋅b1⋅b2⋅b3⋅a4⋅a5\n",
      "−2⋅i⋅V^2⋅f/J^2⋅a1⋅b1⋅a2⋅a3⋅a4\n",
      "−2⋅V⋅f^2/J^2⋅b3⋅a4⋅b4\n",
      "+2⋅V⋅f^2/J^2⋅a2⋅a3⋅a4\n",
      "−2⋅i⋅V^2⋅f/J^2 - 2⋅i⋅f^3/J^2⋅b3}\n"
     ]
    }
   ],
   "source": [
    "p(c(H,psi0+psi1+psi2))\n",
    "multiply_groups(psi0+psi1+psi2,psi0+psi1+psi2)"
   ]
  },
  {
   "cell_type": "code",
   "execution_count": 10,
   "metadata": {
    "autoscroll": "json-false",
    "collapsed": false,
    "ein.tags": [
     "worksheet-0"
    ]
   },
   "outputs": [
    {
     "name": "stdout",
     "output_type": "stream",
     "text": [
      "-2⋅i⋅J⋅b1⋅a2⋅b4⋅a5⋅a6\n",
      "2⋅i⋅J⋅b1⋅a2⋅b4⋅a5⋅b5\n"
     ]
    }
   ],
   "source": [
    "p(c(Jpart, N(1,'b1⋅a2⋅b4⋅a5⋅b5')))\n",
    "p(c(Jpart, N(1,'b1⋅a2⋅b4⋅a5⋅a6')))"
   ]
  },
  {
   "cell_type": "code",
   "execution_count": 10,
   "metadata": {
    "autoscroll": "json-false",
    "collapsed": false,
    "ein.tags": [
     "worksheet-0"
    ]
   },
   "outputs": [],
   "source": []
  },
  {
   "cell_type": "code",
   "execution_count": 10,
   "metadata": {
    "autoscroll": "json-false",
    "collapsed": false,
    "ein.tags": [
     "worksheet-0"
    ]
   },
   "outputs": [],
   "source": []
  },
  {
   "cell_type": "code",
   "execution_count": 11,
   "metadata": {
    "autoscroll": "json-false",
    "collapsed": false,
    "ein.tags": [
     "worksheet-0"
    ]
   },
   "outputs": [
    {
     "data": {
      "text/plain": [
       "1"
      ]
     },
     "execution_count": 11,
     "metadata": {},
     "output_type": "execute_result"
    }
   ],
   "source": [
    "    s = {1:2}\n",
    "    len(s)"
   ]
  },
  {
   "cell_type": "code",
   "execution_count": 12,
   "metadata": {
    "autoscroll": "json-false",
    "collapsed": false,
    "ein.tags": [
     "worksheet-0"
    ]
   },
   "outputs": [
    {
     "data": {
      "text/plain": [
       "[[]]"
      ]
     },
     "execution_count": 12,
     "metadata": {},
     "output_type": "execute_result"
    }
   ],
   "source": [
    "a = []\n",
    "a.append([])\n",
    "a"
   ]
  },
  {
   "cell_type": "code",
   "execution_count": 87,
   "metadata": {
    "autoscroll": "json-false",
    "collapsed": false,
    "ein.tags": [
     "worksheet-0"
    ]
   },
   "outputs": [],
   "source": [
    "import pdb\n",
    "from collections import OrderedDict\n",
    "from sympy import Matrix\n",
    "def fill_subspace_rows(to_cancel, matrixrows, subspace, Jpart):\n",
    "    row_to_fill = matrixrows[subspace[tuple(to_cancel.product)]]\n",
    "    if not row_to_fill:\n",
    "        #pdb.set_trace()\n",
    "        comm = calculate_commutator(Jpart, Ncproduct(1,to_cancel.product))\n",
    "        row_to_fill[:] = [0]*len(subspace)\n",
    "        for ncprod in comm:\n",
    "           try:\n",
    "                ind = subspace[tuple(ncprod.product)]\n",
    "           except KeyError:\n",
    "                ind = len(subspace)\n",
    "                subspace[tuple(ncprod.product)] = ind\n",
    "                for row in matrixrows:\n",
    "                    if row:\n",
    "                        row.append(0)\n",
    "                matrixrows.append([])\n",
    "                fill_subspace_rows(ncprod, matrixrows, subspace, Jpart)\n",
    "           row_to_fill[ind] = ncprod.scalar\n",
    "                \n",
    "def find_subspace(to_cancel, Jpart):\n",
    "    subspace = OrderedDict()\n",
    "    matrixrows = []\n",
    "    for ncprod in to_cancel:\n",
    "        if not tuple(ncprod.product) in subspace:\n",
    "            subspace[tuple(ncprod.product)] = len(subspace)\n",
    "            for row in matrixrows:\n",
    "                if row:\n",
    "                    row.append(0)\n",
    "            matrixrows.append([]) \n",
    "            fill_subspace_rows(ncprod, matrixrows, subspace, Jpart)\n",
    "    return subspace, matrixrows\n",
    "\n",
    "def build_vector_to_cancel(to_cancel, subspace):\n",
    "    cvector = [0]*len(subspace)\n",
    "    for ncprod in to_cancel:\n",
    "        cvector[subspace[tuple(ncprod.product)]] = ncprod.scalar\n",
    "    return cvector\n",
    "        \n",
    "def print_subspace(subspace):\n",
    "    for key in subspace:\n",
    "        print(' '.join([Ncproduct.stringify(Ncproduct,a) for a in key]))\n",
    "\n",
    "def solve_for_commuting_term(cvector, lower_order_op, order, matrixrows, subspace):\n",
    "    matrix = Matrix(matrixrows)\n",
    "    augmatrix = matrix.col_insert(len(subspace), Matrix(cvector))\n",
    "    if matrix.rank() <= augmatrix.rank():\n",
    "        if matrix.rank() == len(subspace):\n",
    "            solvector = matrix.LUsolve(Matrix(cvector))\n",
    "        else:\n",
    "            print('Arbitrary values. Not yet implemented.')\n",
    "            return None\n",
    "    else:\n",
    "        print('Matrix not invertible. Something has gone wrong.')\n",
    "        return None\n",
    "    \n",
    "    return simplify_group([Ncproduct(solvector[i], list(key)) for i,key in enumerate(subspace)])"
   ]
  },
  {
   "cell_type": "code",
   "execution_count": 89,
   "metadata": {
    "autoscroll": "json-false",
    "collapsed": false,
    "ein.tags": [
     "worksheet-0"
    ]
   },
   "outputs": [
    {
     "name": "stdout",
     "output_type": "stream",
     "text": [
      "\n",
      "None\n",
      "a1 b1 b2\n",
      "a1 a2 b2\n",
      "a1 a2 a3\n",
      "a1 b1 a3\n",
      "b1 b2 a3\n",
      "a2 b2 a3\n",
      "b1 a2 b2\n",
      "b1 a2 a3\n",
      "b1 a2 b3\n",
      "b1 a2 a4\n",
      "b1 a2 b3 a4 b4\n",
      "b1 a2 b3 a4 a5\n",
      "b2\n",
      "a3\n",
      "b2 a3 b3\n",
      "b2 a3 a4\n",
      "b1\n",
      "a2\n",
      "Arbitrary values. Not yet implemented."
     ]
    }
   ],
   "source": [
    "subspace, matrixrows = find_subspace(c(H, psi1), Jpart)\n",
    "print_subspace(subspace)\n",
    "cvector = build_vector_to_cancel(c(H, psi1), subspace)\n",
    "p(solve_for_commuting_term(cvector, 0, 0, matrixrows, subspace))"
   ]
  },
  {
   "cell_type": "code",
   "execution_count": 104,
   "metadata": {
    "autoscroll": "json-false",
    "collapsed": false,
    "ein.tags": [
     "worksheet-0"
    ]
   },
   "outputs": [
    {
     "name": "stdout",
     "output_type": "stream",
     "text": [
      "{+2⋅i⋅J⋅a1⋅a2⋅b2\n",
      "+2⋅i⋅J⋅a1⋅b1⋅a3}\n",
      "{−2⋅i⋅J⋅a1⋅a2⋅a3\n",
      "+2⋅i⋅J⋅a1⋅b1⋅b2}\n",
      "{−2⋅i⋅J⋅a1⋅a2⋅b2\n",
      "−2⋅i⋅J⋅a1⋅b1⋅a3}\n",
      "{−2⋅i⋅J⋅a1⋅a2⋅a3\n",
      "+2⋅i⋅J⋅a1⋅b1⋅b2}\n",
      "[-2*V*f/J, 0, 2*V*f/J, 0, -2*V*f/J, 0, 2*V, 0, -2*V*f/J, 0, 2*I*V**2/J, 0, -2*I*f**2/J, 0, -2*V*f/J, 0, 2*I*f, 0]\n",
      "0\n",
      "0\n",
      "0\n",
      "0\n",
      "0\n",
      "1\n"
     ]
    }
   ],
   "source": [
    "p(c(Jpart, N(1,'a1 a2 a3')))\n",
    "p(c(Jpart, N(1,'a1⋅a2⋅b2')))\n",
    "p(c(Jpart, N(1,'a1⋅b1⋅b2')))\n",
    "p(c(Jpart, N(1,'a1⋅b1⋅a3')))\n",
    "print(cvector)\n",
    "a= Matrix([[0,0,0],[0,0,1]])\n",
    "for i in a:\n",
    "    print(i)\n",
    "from sympy.tensor import IndexedBase, Idx\n",
    "A = IndexedBase('A', shape=(5))"
   ]
  },
  {
   "cell_type": "code",
   "execution_count": 115,
   "metadata": {
    "autoscroll": "json-false",
    "collapsed": false,
    "ein.tags": [
     "worksheet-0"
    ]
   },
   "outputs": [
    {
     "data": {
      "text/plain": [
       "True"
      ]
     },
     "execution_count": 115,
     "metadata": {},
     "output_type": "execute_result"
    }
   ],
   "source": [
    "b = sympy.numbered_symbols('b')\n",
    "c = [next(b) for i in range(5)]\n",
    "c[0] == c[0]"
   ]
  }
 ],
 "metadata": {
  "kernelspec": {
   "display_name": "Python 3",
   "language": "python",
   "name": "python3"
  },
  "language_info": {
   "codemirror_mode": {
    "name": "ipython",
    "version": 3
   },
   "file_extension": ".py",
   "mimetype": "text/x-python",
   "name": "python",
   "nbconvert_exporter": "python",
   "pygments_lexer": "ipython3",
   "version": "3.4.2"
  }
 },
 "nbformat": 4,
 "nbformat_minor": 0
}
