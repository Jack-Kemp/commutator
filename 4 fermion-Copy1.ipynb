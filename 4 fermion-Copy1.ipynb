{
 "cells": [
  {
   "cell_type": "code",
   "execution_count": 3,
   "metadata": {
    "autoscroll": "json-false",
    "collapsed": false,
    "ein.tags": [
     "worksheet-0"
    ]
   },
   "outputs": [],
   "source": [
    "%load_ext autoreload"
   ]
  },
  {
   "cell_type": "code",
   "execution_count": 4,
   "metadata": {
    "autoscroll": "json-false",
    "collapsed": false,
    "ein.tags": [
     "worksheet-0"
    ]
   },
   "outputs": [],
   "source": [
    "from commutator import *\n",
    "%autoreload"
   ]
  },
  {
   "cell_type": "code",
   "execution_count": 2,
   "metadata": {
    "autoscroll": "json-false",
    "collapsed": false,
    "ein.tags": [
     "worksheet-0"
    ]
   },
   "outputs": [],
   "source": [
    "p = print_group\n",
    "c = calculate_commutator\n",
    "N = Ncproduct"
   ]
  },
  {
   "cell_type": "code",
   "execution_count": 5,
   "metadata": {
    "autoscroll": "json-false",
    "collapsed": false,
    "ein.tags": [
     "worksheet-0"
    ]
   },
   "outputs": [
    {
     "name": "stdout",
     "output_type": "stream",
     "text": [
      "{+i⋅J1⋅b1⋅a2\n",
      "+i⋅J2⋅b2⋅a3\n",
      "+i⋅J3⋅b3⋅a4\n",
      "+i⋅J4⋅b4⋅a5\n",
      "+i⋅J5⋅b5⋅a6\n",
      "+i⋅J6⋅b6⋅a7\n",
      "+i⋅J7⋅b7⋅a8\n",
      "+i⋅J8⋅b8⋅a9\n",
      "+i⋅J9⋅b9⋅a10\n",
      "+i⋅J10⋅b10⋅a11\n",
      "+i⋅J11⋅b11⋅a12\n",
      "+i⋅J12⋅b12⋅a13\n",
      "+i⋅J13⋅b13⋅a14\n",
      "+i⋅J14⋅b14⋅a15\n",
      "+i⋅J15⋅b15⋅a16\n",
      "+i⋅J16⋅b16⋅a17\n",
      "+i⋅J17⋅b17⋅a18\n",
      "+i⋅J18⋅b18⋅a19\n",
      "+i⋅J19⋅b19⋅a20\n",
      "+i⋅f1⋅a1⋅b1\n",
      "+i⋅f2⋅a2⋅b2\n",
      "+i⋅f3⋅a3⋅b3\n",
      "+i⋅f4⋅a4⋅b4\n",
      "+i⋅f5⋅a5⋅b5\n",
      "+i⋅f6⋅a6⋅b6\n",
      "+i⋅f7⋅a7⋅b7\n",
      "+i⋅f8⋅a8⋅b8\n",
      "+i⋅f9⋅a9⋅b9\n",
      "+i⋅f10⋅a10⋅b10\n",
      "+i⋅f11⋅a11⋅b11\n",
      "+i⋅f12⋅a12⋅b12\n",
      "+i⋅f13⋅a13⋅b13\n",
      "+i⋅f14⋅a14⋅b14\n",
      "+i⋅f15⋅a15⋅b15\n",
      "+i⋅f16⋅a16⋅b16\n",
      "+i⋅f17⋅a17⋅b17\n",
      "+i⋅f18⋅a18⋅b18\n",
      "+i⋅f19⋅a19⋅b19\n",
      "+i⋅f20⋅a20⋅b20\n",
      "+V1⋅a1⋅b1⋅a2⋅b2\n",
      "+V2⋅a2⋅b2⋅a3⋅b3\n",
      "+V3⋅a3⋅b3⋅a4⋅b4\n",
      "+V4⋅a4⋅b4⋅a5⋅b5\n",
      "+V5⋅a5⋅b5⋅a6⋅b6\n",
      "+V6⋅a6⋅b6⋅a7⋅b7\n",
      "+V7⋅a7⋅b7⋅a8⋅b8\n",
      "+V8⋅a8⋅b8⋅a9⋅b9\n",
      "+V9⋅a9⋅b9⋅a10⋅b10\n",
      "+V10⋅a10⋅b10⋅a11⋅b11\n",
      "+V11⋅a11⋅b11⋅a12⋅b12\n",
      "+V12⋅a12⋅b12⋅a13⋅b13\n",
      "+V13⋅a13⋅b13⋅a14⋅b14\n",
      "+V14⋅a14⋅b14⋅a15⋅b15\n",
      "+V15⋅a15⋅b15⋅a16⋅b16\n",
      "+V16⋅a16⋅b16⋅a17⋅b17\n",
      "+V17⋅a17⋅b17⋅a18⋅b18\n",
      "+V18⋅a18⋅b18⋅a19⋅b19}\n"
     ]
    }
   ],
   "source": [
    "V_gen = sympy.numbered_symbols('V')\n",
    "J_gen = sympy.numbered_symbols('J')\n",
    "f_gen = sympy.numbered_symbols('f')\n",
    "L = 20\n",
    "V = [next(V_gen) for i in range(L+1)]\n",
    "f = [next(f_gen) for i in range(L+1)]\n",
    "J = [next(J_gen) for i in range(L+1)]\n",
    "orders = dict(zip(V+f,[1]*2*(L+1)))\n",
    "print_group.orders = orders\n",
    "fpart = [Ncproduct(I*f[j+1], [2*j+1,2*j+2]) for j in range(L)]\n",
    "Vpart = [Ncproduct(V[j+1], [2*j+1,2*j+2,2*j+3,2*j+4]) for j in range(L-2)]\n",
    "small = fpart+Vpart\n",
    "Jpart = [Ncproduct(I*J[j+1], [2*j+2,2*j+3]) for j in range(L-1)]\n",
    "H = fpart + Vpart +Jpart\n",
    "p(H)"
   ]
  },
  {
   "cell_type": "code",
   "execution_count": 8,
   "metadata": {
    "autoscroll": "json-false",
    "collapsed": false,
    "ein.tags": [
     "worksheet-0"
    ]
   },
   "outputs": [
    {
     "name": "stdout",
     "output_type": "stream",
     "text": [
      "{−2⋅i⋅f1⋅b1\n",
      "−2⋅V1⋅b1⋅a2⋅b2}\n"
     ]
    }
   ],
   "source": [
    "psi0 = N(1, 'a1')\n",
    "p(c(H,psi0))"
   ]
  },
  {
   "cell_type": "code",
   "execution_count": 9,
   "metadata": {
    "autoscroll": "json-false",
    "collapsed": false,
    "ein.tags": [
     "worksheet-0"
    ]
   },
   "outputs": [
    {
     "name": "stdout",
     "output_type": "stream",
     "text": [
      "{+f1/J1⋅a2\n",
      "−i⋅V1/J2⋅b1⋅a2⋅a3}\n"
     ]
    }
   ],
   "source": [
    "psi1a = N(f[1]/J[1], 'a2')\n",
    "psi1V = N(V[1]/(I*J[2]), 'b1 a2 a3')\n",
    "psi1 = psi1a+psi1V\n",
    "p(psi1)"
   ]
  },
  {
   "cell_type": "code",
   "execution_count": 10,
   "metadata": {
    "autoscroll": "json-false",
    "collapsed": false,
    "ein.tags": [
     "worksheet-0"
    ]
   },
   "outputs": [
    {
     "name": "stdout",
     "output_type": "stream",
     "text": [
      "{−2⋅V1⋅f1/J1⋅a1⋅b1⋅b2\n",
      "+2⋅V1⋅f1/J2⋅a1⋅a2⋅a3\n",
      "−2⋅V1⋅f3/J2⋅b1⋅a2⋅b3\n",
      "−2⋅V1⋅f2/J2⋅b1⋅b2⋅a3\n",
      "−2⋅i⋅f1⋅f2/J1⋅b2\n",
      "+2⋅i⋅V1⋅V3/J2⋅b1⋅a2⋅b3⋅a4⋅b4\n",
      "−2⋅V2⋅f1/J1⋅b2⋅a3⋅b3}\n"
     ]
    }
   ],
   "source": [
    "p(c(H,psi0+psi1))"
   ]
  },
  {
   "cell_type": "code",
   "execution_count": 11,
   "metadata": {
    "autoscroll": "json-false",
    "collapsed": false,
    "ein.tags": [
     "worksheet-0"
    ]
   },
   "outputs": [
    {
     "name": "stdout",
     "output_type": "stream",
     "text": [
      "\n",
      "\n",
      "\n",
      "\n",
      "{+2⋅i⋅V1⋅V4⋅f3/(J2⋅J3)⋅b1⋅a2⋅b4⋅a5⋅b5\n",
      "+2⋅V1⋅f1⋅f3/(J2⋅J3)⋅a1⋅a2⋅a4\n",
      "+2⋅i⋅V1⋅V2⋅f1/(J1⋅J2)⋅a1⋅b1⋅a2⋅b2⋅b3\n",
      "−2⋅V2⋅f1⋅f4/(J1⋅J3)⋅b2⋅a3⋅b4\n",
      "+2⋅V1⋅V3⋅V5/(J2⋅J4)⋅b1⋅a2⋅b3⋅a4⋅b5⋅a6⋅b6\n",
      "+2⋅i⋅V1⋅V2⋅f3/(J2⋅J3)⋅b1⋅b2⋅a3⋅b3⋅a4\n",
      "+2⋅i⋅V1⋅V3⋅f3/(J2⋅J3)⋅b1⋅a2⋅a3⋅b3⋅b4\n",
      "−2⋅f2⋅(V1⋅f3 + V2⋅f1)/(J1⋅J2)⋅a2⋅b2⋅b3\n",
      "+2⋅i⋅V1⋅V3⋅f4/(J2⋅J4)⋅b1⋅a2⋅b3⋅b4⋅a5\n",
      "−2⋅i⋅V1⋅V3⋅f1/(J2⋅J4)⋅a1⋅a2⋅b3⋅a4⋅a5\n",
      "+2⋅i⋅V1⋅V3⋅f1/(J1⋅J2)⋅a1⋅b1⋅b3⋅a4⋅b4\n",
      "−2⋅V1⋅f2⋅f3/(J2⋅J3)⋅b1⋅b2⋅a4\n",
      "+2⋅i⋅V1⋅V3⋅f2/(J1⋅J2)⋅a2⋅b2⋅b3⋅a4⋅b4\n",
      "−2⋅i⋅V1⋅V3⋅f3/(J2⋅J4)⋅b1⋅a2⋅a3⋅a4⋅a5\n",
      "+2⋅i⋅V2⋅V4⋅f1/(J1⋅J3)⋅b2⋅a3⋅b4⋅a5⋅b5\n",
      "+2⋅i⋅V1⋅V3⋅f5/(J2⋅J4)⋅b1⋅a2⋅b3⋅a4⋅b5\n",
      "−2⋅V1⋅f3⋅f4/(J2⋅J3)⋅b1⋅a2⋅b4\n",
      "−2⋅V1⋅f1⋅f3/(J1⋅J2)⋅a1⋅b1⋅b3\n",
      "−2⋅V2⋅f1⋅f3/(J1⋅J3)⋅b2⋅b3⋅a4\n",
      "+2⋅i⋅V1⋅V3⋅f2/(J2⋅J4)⋅b1⋅b2⋅b3⋅a4⋅a5\n",
      "−2⋅i⋅V1⋅V2⋅f1/(J1⋅J3)⋅a1⋅b1⋅a2⋅a3⋅a4\n",
      "−2⋅V3⋅f1⋅f2/(J1⋅J2)⋅b3⋅a4⋅b4\n",
      "+2⋅V2⋅f1⋅f2/(J1⋅J3)⋅a2⋅a3⋅a4\n",
      "−2⋅i⋅f2⋅(V1⋅V2 + f1⋅f3)/(J1⋅J2)⋅b3}0: a1 b1 b2\n",
      "1: a1 a2 b2\n",
      "2: a1 a2 a3\n",
      "3: a1 b1 a3\n",
      "4: b1 a2 b3\n",
      "5: b1 a2 a4\n",
      "6: b1 b2 a3\n",
      "7: a2 b2 a3\n",
      "8: b2\n",
      "9: a3\n",
      "10: b1 a2 b3 a4 b4\n",
      "11: b1 a2 b3 a4 a5\n",
      "12: b2 a3 b3\n",
      "13: b2 a3 a4\n",
      "{+f1⋅f2/(J1⋅J2)⋅a3\n",
      "−i⋅V2⋅f1/(J1⋅J3)⋅b2⋅a3⋅a4\n",
      "−i⋅V1⋅f2/(J1⋅J2)⋅a2⋅b2⋅a3\n",
      "−V1⋅V3/(J2⋅J4)⋅b1⋅a2⋅b3⋅a4⋅a5\n",
      "−i⋅V1⋅f1/(J1⋅J2)⋅a1⋅b1⋅a3\n",
      "−i⋅V1⋅f3/(J2⋅J3)⋅b1⋅a2⋅a4}"
     ]
    }
   ],
   "source": [
    "subspace, matrixrows = sparse_find_subspace(c(H, psi0+psi1), Jpart)\n",
    "print_subspace(subspace)\n",
    "cvector = build_vector_to_cancel(c(H, psi0+psi1), subspace)\n",
    "psi2 =sparse_solve_for_commuting_term(cvector, psi0+psi1, 2, orders, matrixrows, subspace)\n",
    "p(psi2)\n",
    "print('\\n')\n",
    "psi = psi0+psi1+psi2\n",
    "p(c(H,psi))"
   ]
  },
  {
   "cell_type": "code",
   "execution_count": 12,
   "metadata": {
    "autoscroll": "json-false",
    "collapsed": false,
    "ein.tags": [
     "worksheet-0"
    ]
   },
   "outputs": [
    {
     "name": "stdout",
     "output_type": "stream",
     "text": [
      "\n",
      "\n",
      "\n",
      "\n",
      "{−2⋅V1⋅f1⋅f3⋅f4/(J1⋅J2⋅J3)⋅a1⋅b1⋅b4\n",
      "−4⋅i⋅J2⋅V1⋅V3⋅f2⋅f3/(J2^4 - 2⋅J2^2⋅J3^2 - 2⋅J2^2⋅J4^2 + J3^4 - 2⋅J3^2⋅J4^2 + J4^4) - 4⋅i⋅J2⋅V1⋅V3⋅f2⋅f3/(J1^4 - 2⋅J1^2⋅J2^2 - 2⋅J1^2⋅J4^2 + J2^4 - 2⋅J2^2⋅J4^2 + J4^4) + 2⋅i⋅V3⋅f2⋅(J1^2⋅V2⋅f1 - 2⋅J2^2⋅V1⋅f3 + J2^2⋅V2⋅f1 - J3^2⋅V2⋅f1)/(J2⋅(J1^4 - 2⋅J1^2⋅J2^2 - 2⋅J1^2⋅J3^2 + J2^4 - 2⋅J2^2⋅J3^2 + J3^4))⋅b1⋅b2⋅a3⋅a4⋅b4\n",
      "+2⋅(2⋅J2^2⋅V1⋅V3^2⋅f3⋅(J1^4 - 2⋅J1^2⋅J2^2 - 2⋅J1^2⋅J3^2 + J2^4 - 2⋅J2^2⋅J3^2 + J3^4) - f2^2⋅(J1^2⋅V2⋅f1 - 2⋅J2^2⋅V1⋅f3 + J2^2⋅V2⋅f1 - J3^2⋅V2⋅f1)⋅(J2^4 - 2⋅J2^2⋅J3^2 - 2⋅J2^2⋅J4^2 + J3^4 - 2⋅J3^2⋅J4^2 + J4^4))/(J2⋅(J1^4 - 2⋅J1^2⋅J2^2 - 2⋅J1^2⋅J3^2 + J2^4 - 2⋅J2^2⋅J3^2 + J3^4)⋅(J2^4 - 2⋅J2^2⋅J3^2 - 2⋅J2^2⋅J4^2 + J3^4 - 2⋅J3^2⋅J4^2 + J4^4))⋅b1⋅a2⋅b3\n",
      "−2⋅V1⋅V3⋅V5⋅f2⋅(J1^2⋅(-J1^2 + J2^2 + J4^2) + J4^2⋅(J1^2 + J2^2 - J4^2))/(J1⋅J2⋅J4⋅(J1^4 - 2⋅J1^2⋅J2^2 - 2⋅J1^2⋅J4^2 + J2^4 - 2⋅J2^2⋅J4^2 + J4^4))⋅a2⋅b2⋅b3⋅a4⋅b5⋅a6⋅b6\n",
      "+2⋅i⋅V2⋅V4⋅f1⋅f5/(J1⋅J3⋅J5)⋅b2⋅a3⋅b4⋅b5⋅a6\n",
      "+2⋅V1⋅V3⋅V6⋅f5/(J2⋅J4⋅J5)⋅b1⋅a2⋅b3⋅a4⋅b6⋅a7⋅b7\n",
      "+2⋅V1^2⋅V3⋅f3⋅(J2^2 - J3^2 + J4^2)/(J4⋅(J2^4 - 2⋅J2^2⋅J3^2 - 2⋅J2^2⋅J4^2 + J3^4 - 2⋅J3^2⋅J4^2 + J4^4))⋅a1⋅a4⋅a5\n",
      "+2⋅i⋅V1⋅V3⋅f1⋅f3⋅(J2^2 + J3^2 - J4^2)/(J3⋅(J2^4 - 2⋅J2^2⋅J3^2 - 2⋅J2^2⋅J4^2 + J3^4 - 2⋅J3^2⋅J4^2 + J4^4))⋅a1⋅a2⋅b2⋅b3⋅b4\n",
      "+2⋅V1⋅V3^2⋅f3⋅(J2^2 - J3^2 + J4^2)/(J4⋅(J2^4 - 2⋅J2^2⋅J3^2 - 2⋅J2^2⋅J4^2 + J3^4 - 2⋅J3^2⋅J4^2 + J4^4))⋅b1⋅a2⋅b2⋅a3⋅b3⋅b4⋅a5\n",
      "+2⋅V1⋅f3⋅(V2⋅V3⋅(J3^2⋅(J2^2 - J3^2 + J4^2) + J4^2⋅(J2^2 + J3^2 - J4^2)) - f2⋅f4⋅(J2^4 - 2⋅J2^2⋅J3^2 - 2⋅J2^2⋅J4^2 + J3^4 - 2⋅J3^2⋅J4^2 + J4^4))/(J2⋅J3⋅J4⋅(J2^4 - 2⋅J2^2⋅J3^2 - 2⋅J2^2⋅J4^2 + J3^4 - 2⋅J3^2⋅J4^2 + J4^4))⋅b1⋅b2⋅a5\n",
      "+2⋅V1⋅V3⋅V5⋅f5/(J2⋅J4⋅J5)⋅b1⋅a2⋅b3⋅a4⋅a5⋅b5⋅b6\n",
      "−2⋅i⋅V1⋅V3⋅f3⋅f5/(J2⋅J4⋅J5)⋅b1⋅a2⋅a3⋅a4⋅a6\n",
      "+2⋅V1⋅V3⋅V5⋅f4/(J2⋅J4⋅J6)⋅b1⋅a2⋅b3⋅b4⋅b5⋅a6⋅a7\n",
      "−2⋅V4⋅f2⋅(V1⋅V2 + f1⋅f3)/(J1⋅J2⋅J3)⋅b4⋅a5⋅b5\n",
      "+2⋅V1⋅V2⋅V3⋅f1/(J1⋅J2⋅J3)⋅a1⋅b1⋅a2⋅b2⋅a3⋅b3⋅b4\n",
      "+2⋅V3⋅f2⋅(-V1⋅V2⋅(J1^2⋅(-J1^2 + J2^2 + J4^2) + J4^2⋅(J1^2 + J2^2 - J4^2)) + f1⋅f3⋅(J1^4 - 2⋅J1^2⋅J2^2 - 2⋅J1^2⋅J4^2 + J2^4 - 2⋅J2^2⋅J4^2 + J4^4))/(J1⋅J2⋅J4⋅(J1^4 - 2⋅J1^2⋅J2^2 - 2⋅J1^2⋅J4^2 + J2^4 - 2⋅J2^2⋅J4^2 + J4^4))⋅a3⋅a4⋅a5\n",
      "−2⋅i⋅V1⋅V3⋅f2⋅f5⋅(J1^2⋅(-J1^2 + J2^2 + J4^2) + J4^2⋅(J1^2 + J2^2 - J4^2))/(J1⋅J2⋅J4⋅(J1^4 - 2⋅J1^2⋅J2^2 - 2⋅J1^2⋅J4^2 + J2^4 - 2⋅J2^2⋅J4^2 + J4^4))⋅a2⋅b2⋅b3⋅a4⋅b5\n",
      "−2⋅V1^2⋅V3⋅f3⋅(J2^2 + J3^2 - J4^2)/(J3⋅(J2^4 - 2⋅J2^2⋅J3^2 - 2⋅J2^2⋅J4^2 + J3^4 - 2⋅J3^2⋅J4^2 + J4^4))⋅a1⋅b3⋅b4\n",
      "−2⋅V1⋅V3⋅V4⋅f3/(J2⋅J3⋅J5)⋅b1⋅a2⋅a3⋅b3⋅a4⋅a5⋅a6\n",
      "+2⋅i⋅V1⋅V3⋅f2⋅f5/(J2⋅J4⋅J5)⋅b1⋅b2⋅b3⋅a4⋅a6\n",
      "−2⋅V1⋅V3⋅V5⋅f3/(J2⋅J4⋅J6)⋅b1⋅a2⋅a3⋅a4⋅b5⋅a6⋅a7\n",
      "+2⋅V1⋅V3⋅V5⋅f2/(J2⋅J4⋅J6)⋅b1⋅b2⋅b3⋅a4⋅b5⋅a6⋅a7\n",
      "+2⋅V1⋅V3⋅V4⋅f5/(J2⋅J4⋅J5)⋅b1⋅a2⋅b3⋅b4⋅a5⋅b5⋅a6\n",
      "+2⋅i⋅V2⋅V4⋅f1⋅f3/(J1⋅J2⋅J3)⋅a3⋅b3⋅b4⋅a5⋅b5\n",
      "+2⋅i⋅V2⋅V4⋅f1⋅f6/(J1⋅J3⋅J5)⋅b2⋅a3⋅b4⋅a5⋅b6\n",
      "−2⋅V1⋅V3⋅V5⋅f1/(J2⋅J4⋅J6)⋅a1⋅a2⋅b3⋅a4⋅b5⋅a6⋅a7\n",
      "+2⋅V2⋅f1⋅f2⋅f4/(J1⋅J3⋅J4)⋅a2⋅a3⋅a5\n",
      "−(2⋅V2⋅f1⋅f3⋅f4 + 2⋅V3⋅f2⋅(V1⋅V2 + f1⋅f3))/(J1⋅J2⋅J3)⋅a3⋅b3⋅b4\n",
      "+2⋅i⋅V2⋅V4⋅f1⋅f3/(J1⋅J3⋅J5)⋅b2⋅b3⋅b4⋅a5⋅a6\n",
      "+2⋅i⋅V1⋅f3⋅(V2⋅f4⋅(J2^4 - 2⋅J2^2⋅J3^2 - 2⋅J2^2⋅J4^2 + J3^4 - 2⋅J3^2⋅J4^2 + J4^4) - V3⋅f2⋅(J3^2⋅(J2^2 - J3^2 + J4^2) + J4^2⋅(J2^2 + J3^2 - J4^2)))/(J2⋅J3⋅J4⋅(J2^4 - 2⋅J2^2⋅J3^2 - 2⋅J2^2⋅J4^2 + J3^4 - 2⋅J3^2⋅J4^2 + J4^4))⋅b1⋅b2⋅a3⋅b3⋅a5\n",
      "+2⋅V1⋅V3^2⋅f2⋅(J1^2 - J2^2 - J4^2)/(J4⋅(J1^4 - 2⋅J1^2⋅J2^2 - 2⋅J1^2⋅J4^2 + J2^4 - 2⋅J2^2⋅J4^2 + J4^4))⋅b1⋅b4⋅a5\n",
      "+2⋅i⋅V1⋅V3⋅f2⋅f4/(J2⋅J3⋅J4)⋅b1⋅b2⋅a4⋅b4⋅a5\n",
      "+2⋅V1⋅V3⋅V4⋅f3⋅(J2^2 + J3^2 - J4^2)/(J3⋅(J2^4 - 2⋅J2^2⋅J3^2 - 2⋅J2^2⋅J4^2 + J3^4 - 2⋅J3^2⋅J4^2 + J4^4))⋅b1⋅a2⋅b2⋅b3⋅a4⋅a5⋅b5\n",
      "+2⋅V1^2⋅V3⋅f2⋅(J1^2 - J2^2 - J4^2)/(J4⋅(J1^4 - 2⋅J1^2⋅J2^2 - 2⋅J1^2⋅J4^2 + J2^4 - 2⋅J2^2⋅J4^2 + J4^4))⋅a1⋅a2⋅b2⋅a3⋅b3⋅a4⋅a5\n",
      "−2⋅V3⋅f1⋅f2⋅f5/(J1⋅J2⋅J4)⋅b3⋅a4⋅b5\n",
      "+2⋅V1⋅V3⋅V5⋅f7/(J2⋅J4⋅J6)⋅b1⋅a2⋅b3⋅a4⋅b5⋅a6⋅b7\n",
      "−2⋅f1⋅f2⋅(J1^2⋅V2⋅f1 - 2⋅J2^2⋅V1⋅f3 + J2^2⋅V2⋅f1 - J3^2⋅V2⋅f1)/(J2⋅(J1^4 - 2⋅J1^2⋅J2^2 - 2⋅J1^2⋅J3^2 + J2^4 - 2⋅J2^2⋅J3^2 + J3^4))⋅a1⋅b2⋅b3\n",
      "+2⋅i⋅V1⋅V3⋅f1⋅f2⋅(J1^2 - J2^2 - J4^2)/(J4⋅(J1^4 - 2⋅J1^2⋅J2^2 - 2⋅J1^2⋅J4^2 + J2^4 - 2⋅J2^2⋅J4^2 + J4^4))⋅a1⋅a3⋅b3⋅a4⋅a5\n",
      "+2⋅i⋅V1⋅V3⋅f1⋅f3⋅(J3^2⋅(J2^2 - J3^2 + J4^2) + J4^2⋅(J2^2 + J3^2 - J4^2))/(J2⋅J3⋅J4⋅(J2^4 - 2⋅J2^2⋅J3^2 - 2⋅J2^2⋅J4^2 + J3^4 - 2⋅J3^2⋅J4^2 + J4^4))⋅a1⋅a2⋅a3⋅b3⋅a5\n",
      "+2⋅f2⋅(2⋅J2^2⋅V1⋅V3^2⋅(J1^4 - 2⋅J1^2⋅J2^2 - 2⋅J1^2⋅J3^2 + J2^4 - 2⋅J2^2⋅J3^2 + J3^4) - f3⋅(J1^2⋅V2⋅f1 - 2⋅J2^2⋅V1⋅f3 + J2^2⋅V2⋅f1 - J3^2⋅V2⋅f1)⋅(J1^4 - 2⋅J1^2⋅J2^2 - 2⋅J1^2⋅J4^2 + J2^4 - 2⋅J2^2⋅J4^2 + J4^4))/(J2⋅(J1^4 - 2⋅J1^2⋅J2^2 - 2⋅J1^2⋅J3^2 + J2^4 - 2⋅J2^2⋅J3^2 + J3^4)⋅(J1^4 - 2⋅J1^2⋅J2^2 - 2⋅J1^2⋅J4^2 + J2^4 - 2⋅J2^2⋅J4^2 + J4^4))⋅b1⋅b2⋅a3\n",
      "+2⋅i⋅V1⋅V3⋅f4⋅f5/(J2⋅J4⋅J5)⋅b1⋅a2⋅b3⋅b4⋅a6\n",
      "−2⋅i⋅V1⋅V3⋅f1⋅f3/(J1⋅J2⋅J4)⋅a1⋅b1⋅a3⋅a4⋅a5\n",
      "+2⋅i⋅V1⋅V3⋅f1⋅f3/(J1⋅J2⋅J3)⋅a1⋅b1⋅a3⋅b3⋅b4\n",
      "−2⋅i⋅V1⋅V3⋅V5⋅V7/(J2⋅J4⋅J6)⋅b1⋅a2⋅b3⋅a4⋅b5⋅a6⋅b7⋅a8⋅b8\n",
      "+2⋅i⋅V1⋅V3⋅f2^2⋅(J1^2 + J2^2 - J4^2)/(J1⋅(J1^4 - 2⋅J1^2⋅J2^2 - 2⋅J1^2⋅J4^2 + J2^4 - 2⋅J2^2⋅J4^2 + J4^4))⋅b2⋅a3⋅b3⋅a4⋅b4\n",
      "+2⋅V1⋅V3⋅V5⋅f3⋅(J2^2 - J3^2 + J4^2)/(J4⋅(J2^4 - 2⋅J2^2⋅J3^2 - 2⋅J2^2⋅J4^2 + J3^4 - 2⋅J3^2⋅J4^2 + J4^4))⋅b1⋅a2⋅b2⋅a4⋅b5⋅a6⋅b6\n",
      "+2⋅i⋅V2⋅f2⋅(-J1^2⋅V1⋅f3 + 2⋅J1^2⋅V2⋅f1 - J2^2⋅V1⋅f3 + J3^2⋅V1⋅f3)/(J1⋅(J1^4 - 2⋅J1^2⋅J2^2 - 2⋅J1^2⋅J3^2 + J2^4 - 2⋅J2^2⋅J3^2 + J3^4))⋅b2\n",
      "+2⋅V2⋅V4⋅V6⋅f1/(J1⋅J3⋅J5)⋅b2⋅a3⋅b4⋅a5⋅b6⋅a7⋅b7\n",
      "+2⋅i⋅V1⋅V3⋅f3^2⋅(J2^2 + J3^2 - J4^2)/(J3⋅(J2^4 - 2⋅J2^2⋅J3^2 - 2⋅J2^2⋅J4^2 + J3^4 - 2⋅J3^2⋅J4^2 + J4^4))⋅b1⋅a2⋅b2⋅a3⋅b4\n",
      "+2⋅(-V1⋅V2⋅V3⋅f3⋅(J1^4 - 2⋅J1^2⋅J2^2 - 2⋅J1^2⋅J3^2 + J2^4 - 2⋅J2^2⋅J3^2 + J3^4) + f2⋅f4⋅(J1^2⋅V1⋅f3⋅(-J1^2 + J2^2 + J3^2) + J2^2⋅V2⋅f1⋅(J1^2 - J2^2 + J3^2) + J3^2⋅(V1⋅f3 + V2⋅f1)⋅(J1^2 + J2^2 - J3^2)))/(J1⋅J2⋅J3⋅(J1^4 - 2⋅J1^2⋅J2^2 - 2⋅J1^2⋅J3^2 + J2^4 - 2⋅J2^2⋅J3^2 + J3^4))⋅a2⋅b2⋅b4\n",
      "+2⋅V1⋅V2⋅V3⋅f4/(J2⋅J3⋅J4)⋅b1⋅b2⋅a3⋅b3⋅a4⋅b4⋅a5\n",
      "+2⋅i⋅V4⋅f2⋅(-J1^2⋅V1⋅f3 + J1^2⋅V2⋅f1 + J2^2⋅V1⋅f3 - J2^2⋅V2⋅f1 + J3^2⋅V1⋅f3 + J3^2⋅V2⋅f1)/(J3⋅(J1^4 - 2⋅J1^2⋅J2^2 - 2⋅J1^2⋅J3^2 + J2^4 - 2⋅J2^2⋅J3^2 + J3^4))⋅b1⋅a3⋅b4⋅a5⋅b5\n",
      "+2⋅f2⋅f3⋅(-2⋅J3^2⋅(V1⋅f3 + V2⋅f1) + V1⋅f3⋅(J1^2 - J2^2 + J3^2) + V2⋅f1⋅(-J1^2 + J2^2 + J3^2))/(J3⋅(J1^4 - 2⋅J1^2⋅J2^2 - 2⋅J1^2⋅J3^2 + J2^4 - 2⋅J2^2⋅J3^2 + J3^4))⋅b1⋅b3⋅a4\n",
      "+2⋅f1⋅f2⋅(-J1^2⋅V1⋅f3 + J1^2⋅V2⋅f1 + J2^2⋅V1⋅f3 - J2^2⋅V2⋅f1 + J3^2⋅V1⋅f3 + J3^2⋅V2⋅f1)/(J3⋅(J1^4 - 2⋅J1^2⋅J2^2 - 2⋅J1^2⋅J3^2 + J2^4 - 2⋅J2^2⋅J3^2 + J3^4))⋅a1⋅a3⋅a4\n",
      "−2⋅i⋅V4⋅f2⋅(J1^2⋅V1⋅f3⋅(-J1^2 + J2^2 + J3^2) + J2^2⋅V2⋅f1⋅(J1^2 - J2^2 + J3^2) + J3^2⋅(V1⋅f3 + V2⋅f1)⋅(J1^2 + J2^2 - J3^2))/(J1⋅J2⋅J3⋅(J1^4 - 2⋅J1^2⋅J2^2 - 2⋅J1^2⋅J3^2 + J2^4 - 2⋅J2^2⋅J3^2 + J3^4))⋅a2⋅b2⋅b4⋅a5⋅b5\n",
      "+2⋅V1⋅V3⋅V5⋅f6/(J2⋅J4⋅J6)⋅b1⋅a2⋅b3⋅a4⋅b5⋅b6⋅a7\n",
      "+2⋅i⋅V2⋅V4⋅f1⋅f4/(J1⋅J3⋅J4)⋅b2⋅a3⋅a4⋅b4⋅b5\n",
      "+2⋅i⋅V3⋅V5⋅f1⋅f2/(J1⋅J2⋅J4)⋅b3⋅a4⋅b5⋅a6⋅b6\n",
      "−2⋅V2⋅f1⋅f3⋅f4/(J1⋅J3⋅J4)⋅b2⋅b3⋅a5\n",
      "+2⋅(-V1⋅V2⋅V3⋅f3⋅(J2^2 + J3^2 - J4^2)⋅(J1^4 - 2⋅J1^2⋅J2^2 - 2⋅J1^2⋅J3^2 + J2^4 - 2⋅J2^2⋅J3^2 + J3^4) + f2⋅f4⋅(-2⋅J3^2⋅(V1⋅f3 + V2⋅f1) + V1⋅f3⋅(J1^2 - J2^2 + J3^2) + V2⋅f1⋅(-J1^2 + J2^2 + J3^2))⋅(J2^4 - 2⋅J2^2⋅J3^2 - 2⋅J2^2⋅J4^2 + J3^4 - 2⋅J3^2⋅J4^2 + J4^4))/(J3⋅(J1^4 - 2⋅J1^2⋅J2^2 - 2⋅J1^2⋅J3^2 + J2^4 - 2⋅J2^2⋅J3^2 + J3^4)⋅(J2^4 - 2⋅J2^2⋅J3^2 - 2⋅J2^2⋅J4^2 + J3^4 - 2⋅J3^2⋅J4^2 + J4^4))⋅b1⋅a3⋅b4\n",
      "+2⋅i⋅V1⋅V4⋅f2⋅f3/(J2⋅J3⋅J5)⋅b1⋅b2⋅b4⋅a5⋅a6\n",
      "−2⋅i⋅V1⋅V3⋅f1⋅f3⋅(J2^2 - J3^2 + J4^2)/(J4⋅(J2^4 - 2⋅J2^2⋅J3^2 - 2⋅J2^2⋅J4^2 + J3^4 - 2⋅J3^2⋅J4^2 + J4^4))⋅a1⋅a2⋅b2⋅a4⋅a5\n",
      "+2⋅i⋅V1⋅f4⋅(V3⋅f5 + V4⋅f3)/(J2⋅J3⋅J4)⋅b1⋅a2⋅a4⋅b4⋅b5\n",
      "+2⋅V1⋅V3⋅V5⋅f2⋅(-J1^2 + J2^2 + J4^2)/(J4⋅(J1^4 - 2⋅J1^2⋅J2^2 - 2⋅J1^2⋅J4^2 + J2^4 - 2⋅J2^2⋅J4^2 + J4^4))⋅b1⋅a3⋅b3⋅a4⋅b5⋅a6⋅b6\n",
      "−2⋅i⋅V1⋅V4⋅f3⋅f4/(J2⋅J3⋅J5)⋅b1⋅a2⋅a4⋅a5⋅a6\n",
      "+2⋅i⋅V1⋅f2⋅(J1^2⋅V1⋅f3 - 2⋅J1^2⋅V2⋅f1 + J2^2⋅V1⋅f3 - J3^2⋅V1⋅f3)/(J1⋅(J1^4 - 2⋅J1^2⋅J2^2 - 2⋅J1^2⋅J3^2 + J2^4 - 2⋅J2^2⋅J3^2 + J3^4))⋅a1⋅b1⋅b2⋅a3⋅b3\n",
      "+2⋅i⋅V1⋅V4⋅f1⋅f3/(J1⋅J2⋅J3)⋅a1⋅b1⋅b4⋅a5⋅b5\n",
      "+2⋅i⋅V1⋅V3⋅f3⋅f5⋅(J2^2 - J3^2 + J4^2)/(J4⋅(J2^4 - 2⋅J2^2⋅J3^2 - 2⋅J2^2⋅J4^2 + J3^4 - 2⋅J3^2⋅J4^2 + J4^4))⋅b1⋅a2⋅b2⋅a4⋅b5\n",
      "+2⋅i⋅V1⋅V3⋅f2⋅f5⋅(-J1^2 + J2^2 + J4^2)/(J4⋅(J1^4 - 2⋅J1^2⋅J2^2 - 2⋅J1^2⋅J4^2 + J2^4 - 2⋅J2^2⋅J4^2 + J4^4))⋅b1⋅a3⋅b3⋅a4⋅b5\n",
      "+2⋅i⋅V1⋅V2⋅f1⋅f4/(J1⋅J2⋅J3)⋅a1⋅b1⋅a2⋅b2⋅b4\n",
      "−2⋅i⋅V1⋅V4⋅f1⋅f3/(J2⋅J3⋅J5)⋅a1⋅a2⋅b4⋅a5⋅a6\n",
      "+2⋅i⋅V2⋅V5⋅f1⋅f4/(J1⋅J3⋅J4)⋅b2⋅a3⋅b5⋅a6⋅b6\n",
      "+2⋅i⋅V1⋅V4⋅f3⋅f5/(J2⋅J3⋅J5)⋅b1⋅a2⋅b4⋅b5⋅a6\n",
      "+2⋅i⋅(V1⋅V2⋅f3⋅f4⋅(J1^4 - 2⋅J1^2⋅J2^2 - 2⋅J1^2⋅J3^2 + J2^4 - 2⋅J2^2⋅J3^2 + J3^4) - V3⋅f2⋅(J1^2⋅V1⋅f3⋅(-J1^2 + J2^2 + J3^2) + J2^2⋅V2⋅f1⋅(J1^2 - J2^2 + J3^2) + J3^2⋅(V1⋅f3 + V2⋅f1)⋅(J1^2 + J2^2 - J3^2)))/(J1⋅J2⋅J3⋅(J1^4 - 2⋅J1^2⋅J2^2 - 2⋅J1^2⋅J3^2 + J2^4 - 2⋅J2^2⋅J3^2 + J3^4))⋅a2⋅b2⋅a3⋅b3⋅b4\n",
      "+2⋅f2^2⋅(-J1^2⋅V1⋅f3 + 2⋅J1^2⋅V2⋅f1 - J2^2⋅V1⋅f3 + J3^2⋅V1⋅f3)/(J1⋅(J1^4 - 2⋅J1^2⋅J2^2 - 2⋅J1^2⋅J3^2 + J2^4 - 2⋅J2^2⋅J3^2 + J3^4))⋅b2⋅a3⋅b3\n",
      "+2⋅i⋅V1⋅V5⋅f3⋅f4/(J2⋅J3⋅J4)⋅b1⋅a2⋅b5⋅a6⋅b6\n",
      "+2⋅V1⋅V2⋅V4⋅f3/(J1⋅J2⋅J3)⋅a2⋅b2⋅a3⋅b3⋅b4⋅a5⋅b5\n",
      "−2⋅i⋅V2⋅V4⋅f1⋅f4/(J1⋅J3⋅J5)⋅b2⋅a3⋅a4⋅a5⋅a6\n",
      "−2⋅V1⋅V2⋅V3⋅f1/(J1⋅J2⋅J4)⋅a1⋅b1⋅a2⋅b2⋅a3⋅a4⋅a5\n",
      "−2⋅i⋅(V2⋅V3⋅f1⋅f3 + f2⋅f4⋅(V1⋅V2 + f1⋅f3))/(J1⋅J2⋅J3)⋅b4\n",
      "−2⋅V1⋅f4⋅(V3⋅V4 + f3⋅f5)/(J2⋅J3⋅J4)⋅b1⋅a2⋅b5\n",
      "−2⋅i⋅V1⋅V3⋅f2⋅f4⋅(J1^2⋅(-J1^2 + J2^2 + J4^2) + J4^2⋅(J1^2 + J2^2 - J4^2))/(J1⋅J2⋅J4⋅(J1^4 - 2⋅J1^2⋅J2^2 - 2⋅J1^2⋅J4^2 + J2^4 - 2⋅J2^2⋅J4^2 + J4^4))⋅a2⋅b2⋅b3⋅b4⋅a5\n",
      "−2⋅i⋅V1⋅V3⋅f3⋅f5⋅(J3^2⋅(J2^2 - J3^2 + J4^2) + J4^2⋅(J2^2 + J3^2 - J4^2))/(J2⋅J3⋅J4⋅(J2^4 - 2⋅J2^2⋅J3^2 - 2⋅J2^2⋅J4^2 + J3^4 - 2⋅J3^2⋅J4^2 + J4^4))⋅b1⋅a2⋅a3⋅b3⋅b5\n",
      "+2⋅V1⋅V2⋅V4⋅f1/(J1⋅J2⋅J3)⋅a1⋅b1⋅a2⋅b2⋅b4⋅a5⋅b5\n",
      "+4⋅i⋅J2⋅V1⋅V3⋅f1⋅f3/(J2^4 - 2⋅J2^2⋅J3^2 - 2⋅J2^2⋅J4^2 + J3^4 - 2⋅J3^2⋅J4^2 + J4^4)⋅a1⋅a2⋅a3⋅a4⋅b4\n",
      "+2⋅V1⋅V4⋅V6⋅f3/(J2⋅J3⋅J5)⋅b1⋅a2⋅b4⋅a5⋅b6⋅a7⋅b7\n",
      "−2⋅V1⋅V3⋅V4⋅f3⋅(J3^2⋅(J2^2 - J3^2 + J4^2) + J4^2⋅(J2^2 + J3^2 - J4^2))/(J2⋅J3⋅J4⋅(J2^4 - 2⋅J2^2⋅J3^2 - 2⋅J2^2⋅J4^2 + J3^4 - 2⋅J3^2⋅J4^2 + J4^4))⋅b1⋅a2⋅a3⋅b3⋅a4⋅b4⋅b5\n",
      "+2⋅i⋅V1⋅V3⋅f1⋅f4/(J1⋅J2⋅J4)⋅a1⋅b1⋅b3⋅b4⋅a5\n",
      "+2⋅i⋅V1⋅V4⋅f3⋅f6/(J2⋅J3⋅J5)⋅b1⋅a2⋅b4⋅a5⋅b6\n",
      "+4⋅i⋅J2⋅V1⋅V3⋅(f2^2⋅(-J2^4 + 2⋅J2^2⋅J3^2 + 2⋅J2^2⋅J4^2 - J3^4 + 2⋅J3^2⋅J4^2 - J4^4) + f3^2⋅(-J1^4 + 2⋅J1^2⋅J2^2 + 2⋅J1^2⋅J4^2 - J2^4 + 2⋅J2^2⋅J4^2 - J4^4))/((J1^4 - 2⋅J1^2⋅J2^2 - 2⋅J1^2⋅J4^2 + J2^4 - 2⋅J2^2⋅J4^2 + J4^4)⋅(J2^4 - 2⋅J2^2⋅J3^2 - 2⋅J2^2⋅J4^2 + J3^4 - 2⋅J3^2⋅J4^2 + J4^4))⋅b1⋅a2⋅b3⋅a4⋅b4\n",
      "+2⋅i⋅V1⋅V3⋅f2⋅f4⋅(-J1^2 + J2^2 + J4^2)/(J4⋅(J1^4 - 2⋅J1^2⋅J2^2 - 2⋅J1^2⋅J4^2 + J2^4 - 2⋅J2^2⋅J4^2 + J4^4))⋅b1⋅a3⋅b3⋅b4⋅a5\n",
      "+2⋅V1⋅V3⋅V5⋅f1/(J1⋅J2⋅J4)⋅a1⋅b1⋅b3⋅a4⋅b5⋅a6⋅b6\n",
      "−4⋅i⋅J2⋅V1⋅V3⋅f1⋅f2/(J1^4 - 2⋅J1^2⋅J2^2 - 2⋅J1^2⋅J4^2 + J2^4 - 2⋅J2^2⋅J4^2 + J4^4)⋅a1⋅b2⋅b3⋅a4⋅b4\n",
      "−2⋅V1⋅V2⋅V3⋅f2⋅(J1^2 + J2^2 - J4^2)/(J1⋅(J1^4 - 2⋅J1^2⋅J2^2 - 2⋅J1^2⋅J4^2 + J2^4 - 2⋅J2^2⋅J4^2 + J4^4))⋅b2⋅a4⋅b4\n",
      "−2⋅i⋅V1⋅V3⋅f1⋅f4/(J2⋅J3⋅J4)⋅a1⋅a2⋅a4⋅b4⋅a5\n",
      "+2⋅i⋅V1⋅V3⋅f1⋅f5/(J1⋅J2⋅J4)⋅a1⋅b1⋅b3⋅a4⋅b5\n",
      "−2⋅i⋅V1⋅V3⋅f1⋅f5/(J2⋅J4⋅J5)⋅a1⋅a2⋅b3⋅a4⋅a6\n",
      "+2⋅i⋅V1⋅V3⋅f3⋅f4⋅(J2^2 - J3^2 + J4^2)/(J4⋅(J2^4 - 2⋅J2^2⋅J3^2 - 2⋅J2^2⋅J4^2 + J3^4 - 2⋅J3^2⋅J4^2 + J4^4))⋅b1⋅a2⋅b2⋅b4⋅a5\n",
      "+2⋅V1⋅V2⋅V4⋅f3/(J2⋅J3⋅J5)⋅b1⋅b2⋅a3⋅b3⋅b4⋅a5⋅a6\n",
      "+2⋅V1⋅V3⋅V5⋅f4/(J2⋅J3⋅J4)⋅b1⋅a2⋅a4⋅b4⋅b5⋅a6⋅b6\n",
      "−2⋅V3⋅f1⋅f2⋅f4/(J1⋅J2⋅J4)⋅b3⋅b4⋅a5\n",
      "−2⋅V1⋅V3⋅V5⋅f5/(J2⋅J4⋅J6)⋅b1⋅a2⋅b3⋅a4⋅a5⋅a6⋅a7\n",
      "+2⋅V1⋅f1⋅f3⋅f4/(J2⋅J3⋅J4)⋅a1⋅a2⋅a5\n",
      "−2⋅V1⋅V3⋅V5⋅f3⋅(J3^2⋅(J2^2 - J3^2 + J4^2) + J4^2⋅(J2^2 + J3^2 - J4^2))/(J2⋅J3⋅J4⋅(J2^4 - 2⋅J2^2⋅J3^2 - 2⋅J2^2⋅J4^2 + J3^4 - 2⋅J3^2⋅J4^2 + J4^4))⋅b1⋅a2⋅a3⋅b3⋅b5⋅a6⋅b6\n",
      "+2⋅i⋅V1⋅V3⋅f5⋅f6/(J2⋅J4⋅J5)⋅b1⋅a2⋅b3⋅a4⋅b6\n",
      "−2⋅V2⋅f1⋅f4⋅f5/(J1⋅J3⋅J4)⋅b2⋅a3⋅b5\n",
      "−2⋅i⋅V1⋅V2⋅f1⋅f4/(J1⋅J3⋅J4)⋅a1⋅b1⋅a2⋅a3⋅a5\n",
      "+2⋅i⋅V1⋅f2⋅(-2⋅J3^2⋅(V1⋅f3 + V2⋅f1) + V1⋅f3⋅(J1^2 - J2^2 + J3^2) + V2⋅f1⋅(-J1^2 + J2^2 + J3^2))/(J3⋅(J1^4 - 2⋅J1^2⋅J2^2 - 2⋅J1^2⋅J3^2 + J2^4 - 2⋅J2^2⋅J3^2 + J3^4))⋅a1⋅a2⋅b2⋅a3⋅a4\n",
      "+2⋅i⋅V3⋅f2⋅(V1⋅f3⋅(J1^2⋅(-J1^2 + J2^2 + J4^2) + J4^2⋅(J1^2 + J2^2 - J4^2)) - V2⋅f1⋅(J1^4 - 2⋅J1^2⋅J2^2 - 2⋅J1^2⋅J4^2 + J2^4 - 2⋅J2^2⋅J4^2 + J4^4))/(J1⋅J2⋅J4⋅(J1^4 - 2⋅J1^2⋅J2^2 - 2⋅J1^2⋅J4^2 + J2^4 - 2⋅J2^2⋅J4^2 + J4^4))⋅a2⋅b2⋅a3⋅a4⋅a5\n",
      "+2⋅i⋅V2⋅V3⋅f1⋅f4/(J1⋅J3⋅J4)⋅b2⋅b3⋅a4⋅b4⋅a5\n",
      "+2⋅V1^2⋅V3⋅f2⋅(J1^2 + J2^2 - J4^2)/(J1⋅(J1^4 - 2⋅J1^2⋅J2^2 - 2⋅J1^2⋅J4^2 + J2^4 - 2⋅J2^2⋅J4^2 + J4^4))⋅a1⋅b1⋅b2⋅a3⋅b3⋅a4⋅b4\n",
      "+2⋅i⋅(V1⋅V3⋅f3⋅f4⋅(J2^2 + J3^2 - J4^2)⋅(J1^4 - 2⋅J1^2⋅J2^2 - 2⋅J1^2⋅J3^2 + J2^4 - 2⋅J2^2⋅J3^2 + J3^4) - V2⋅f2⋅(-2⋅J3^2⋅(V1⋅f3 + V2⋅f1) + V1⋅f3⋅(J1^2 - J2^2 + J3^2) + V2⋅f1⋅(-J1^2 + J2^2 + J3^2))⋅(J2^4 - 2⋅J2^2⋅J3^2 - 2⋅J2^2⋅J4^2 + J3^4 - 2⋅J3^2⋅J4^2 + J4^4))/(J3⋅(J1^4 - 2⋅J1^2⋅J2^2 - 2⋅J1^2⋅J3^2 + J2^4 - 2⋅J2^2⋅J3^2 + J3^4)⋅(J2^4 - 2⋅J2^2⋅J3^2 - 2⋅J2^2⋅J4^2 + J3^4 - 2⋅J3^2⋅J4^2 + J4^4))⋅b1⋅a2⋅b2⋅b3⋅a4\n",
      "−2⋅V1⋅V2⋅V4⋅f1/(J1⋅J3⋅J5)⋅a1⋅b1⋅a2⋅a3⋅b4⋅a5⋅a6\n",
      "−2⋅i⋅V2⋅V4⋅f1⋅f2/(J1⋅J3⋅J5)⋅a2⋅a3⋅b4⋅a5⋅a6}0: b1 a2 b4 a5 b5\n",
      "1: b1 a2 b4 a5 a6\n",
      "2: a1 a2 a4\n",
      "3: a1 b1 a4\n",
      "4: a1 b1 b3\n",
      "5: a1 a2 b3\n",
      "6: a1 b1 a2 b2 b3\n",
      "7: a1 b1 a2 a3 b3\n",
      "8: a1 b1 a2 a3 a4\n",
      "9: a1 b1 a2 b2 a4\n",
      "10: b2 a3 b4\n",
      "11: b2 a3 a5\n",
      "12: b1 a2 b3 a4 b5 a6 b6\n",
      "13: b1 a2 b3 a4 b5 a6 a7\n",
      "14: b1 b2 a3 b3 a4\n",
      "15: a2 b2 a3 b3 a4\n",
      "16: b1 a2 a3 b3 b4\n",
      "17: b1 a2 a3 b3 a5\n",
      "18: b1 a2 a3 a4 a5\n",
      "19: b1 a2 b2 a4 a5\n",
      "20: b1 a2 b2 b3 a5\n",
      "21: b1 a2 b2 b3 b4\n",
      "22: b1 a2 b2 a4 b4\n",
      "23: b1 a2 a3 a4 b4\n",
      "24: a2 b2 b3\n",
      "25: b1 b2 b3\n",
      "26: b1 b2 a4\n",
      "27: a2 b2 a4\n",
      "28: a2 a3 a4\n",
      "29: a2 a3 b3\n",
      "30: b1 a3 b3\n",
      "31: b1 a3 a4\n",
      "32: b1 a2 b3 b4 a5\n",
      "33: b1 a2 a4 b4 a5\n",
      "34: a1 a2 b3 a4 a5\n",
      "35: a1 b1 b3 a4 a5\n",
      "36: a1 b1 b3 a4 b4\n",
      "37: a1 a2 b3 a4 b4\n",
      "38: a2 b2 b3 a4 b4\n",
      "39: a2 a3 b3 a4 b4\n",
      "40: b1 a3 b3 a4 b4\n",
      "41: b1 b2 b3 a4 b4\n",
      "42: b1 b2 b3 a4 a5\n",
      "43: b1 a3 b3 a4 a5\n",
      "44: a2 a3 b3 a4 a5\n",
      "45: a2 b2 b3 a4 a5\n",
      "46: b2 a3 b4 a5 b5\n",
      "47: b2 a3 b4 a5 a6\n",
      "48: b1 a2 b3 a4 b5\n",
      "49: b1 a2 b3 a4 a6\n",
      "50: b1 a2 b4\n",
      "51: b1 a2 a5\n",
      "52: b2 b3 a4\n",
      "53: a3 b3 a4\n",
      "54: b3 a4 b4\n",
      "55: b3 a4 a5\n",
      "56: b3\n",
      "57: a4\n",
      "{−V1⋅V3⋅f3⋅(J2^2 - J3^2 + J4^2)/(J4⋅(J2^4 - 2⋅J2^2⋅J3^2 - 2⋅J2^2⋅J4^2 + J3^4 - 2⋅J3^2⋅J4^2 + J4^4))⋅b1⋅a2⋅b2⋅a4⋅a5\n",
      "+i⋅f2⋅(J1^2⋅V1⋅f3⋅(-J1^2 + J2^2 + J3^2) + J2^2⋅V2⋅f1⋅(J1^2 - J2^2 + J3^2) + J3^2⋅(V1⋅f3 + V2⋅f1)⋅(J1^2 + J2^2 - J3^2))/(J1⋅J2⋅J3⋅(J1^4 - 2⋅J1^2⋅J2^2 - 2⋅J1^2⋅J3^2 + J2^4 - 2⋅J2^2⋅J3^2 + J3^4))⋅a2⋅b2⋅a4\n",
      "+V1⋅V3⋅f2⋅(J1^2 - J2^2 - J4^2)/(J4⋅(J1^4 - 2⋅J1^2⋅J2^2 - 2⋅J1^2⋅J4^2 + J2^4 - 2⋅J2^2⋅J4^2 + J4^4))⋅b1⋅a3⋅b3⋅a4⋅a5\n",
      "+i⋅f2⋅(J1^2⋅V2⋅f1 - 2⋅J2^2⋅V1⋅f3 + J2^2⋅V2⋅f1 - J3^2⋅V2⋅f1)/(J2⋅(J1^4 - 2⋅J1^2⋅J2^2 - 2⋅J1^2⋅J3^2 + J2^4 - 2⋅J2^2⋅J3^2 + J3^4))⋅b1⋅b2⋅b3\n",
      "−V1⋅V4⋅f3/(J2⋅J3⋅J5)⋅b1⋅a2⋅b4⋅a5⋅a6\n",
      "−V1⋅V2⋅f1/(J1⋅J2⋅J3)⋅a1⋅b1⋅a2⋅b2⋅a4\n",
      "−V2⋅V4⋅f1/(J1⋅J3⋅J5)⋅b2⋅a3⋅b4⋅a5⋅a6\n",
      "−V1⋅V3⋅f5/(J2⋅J4⋅J5)⋅b1⋅a2⋅b3⋅a4⋅a6\n",
      "−V1⋅V2⋅f3/(J1⋅J2⋅J3)⋅a2⋅b2⋅a3⋅b3⋅a4\n",
      "+f2⋅(V1⋅V2 + f1⋅f3)/(J1⋅J2⋅J3)⋅a4\n",
      "+i⋅f2⋅(-2⋅J3^2⋅(V1⋅f3 + V2⋅f1) + V1⋅f3⋅(J1^2 - J2^2 + J3^2) + V2⋅f1⋅(-J1^2 + J2^2 + J3^2))/(J3⋅(J1^4 - 2⋅J1^2⋅J2^2 - 2⋅J1^2⋅J3^2 + J2^4 - 2⋅J2^2⋅J3^2 + J3^4))⋅b1⋅a3⋅a4\n",
      "−i⋅V2⋅f1⋅f3/(J1⋅J2⋅J3)⋅a3⋅b3⋅a4\n",
      "−i⋅V1⋅f3⋅f4/(J2⋅J3⋅J4)⋅b1⋅a2⋅a5\n",
      "+V1⋅V3⋅f3⋅(J2^2 + J3^2 - J4^2)/(J3⋅(J2^4 - 2⋅J2^2⋅J3^2 - 2⋅J2^2⋅J4^2 + J3^4 - 2⋅J3^2⋅J4^2 + J4^4))⋅b1⋅a2⋅b2⋅b3⋅b4\n",
      "−V1⋅V3⋅f1/(J1⋅J2⋅J4)⋅a1⋅b1⋅b3⋅a4⋅a5\n",
      "−i⋅V1⋅f1⋅f3/(J1⋅J2⋅J3)⋅a1⋅b1⋅a4\n",
      "−V1⋅V3⋅f4/(J2⋅J3⋅J4)⋅b1⋅a2⋅a4⋅b4⋅a5\n",
      "+i⋅V1⋅V3⋅V5/(J2⋅J4⋅J6)⋅b1⋅a2⋅b3⋅a4⋅b5⋅a6⋅a7\n",
      "−i⋅V2⋅f1⋅f4/(J1⋅J3⋅J4)⋅b2⋅a3⋅a5\n",
      "−V1⋅V3⋅f2⋅(J1^2 + J2^2 - J4^2)/(J1⋅(J1^4 - 2⋅J1^2⋅J2^2 - 2⋅J1^2⋅J4^2 + J2^4 - 2⋅J2^2⋅J4^2 + J4^4))⋅a2⋅a3⋅b3⋅a4⋅b4\n",
      "+V1⋅V3⋅f2⋅(J1^2⋅(-J1^2 + J2^2 + J4^2) + J4^2⋅(J1^2 + J2^2 - J4^2))/(J1⋅J2⋅J4⋅(J1^4 - 2⋅J1^2⋅J2^2 - 2⋅J1^2⋅J4^2 + J2^4 - 2⋅J2^2⋅J4^2 + J4^4))⋅a2⋅b2⋅b3⋅a4⋅a5\n",
      "+i⋅f2⋅(-J1^2⋅V1⋅f3 + 2⋅J1^2⋅V2⋅f1 - J2^2⋅V1⋅f3 + J3^2⋅V1⋅f3)/(J1⋅(J1^4 - 2⋅J1^2⋅J2^2 - 2⋅J1^2⋅J3^2 + J2^4 - 2⋅J2^2⋅J3^2 + J3^4))⋅a2⋅a3⋅b3\n",
      "+V1⋅V3⋅f3⋅(J3^2⋅(J2^2 - J3^2 + J4^2) + J4^2⋅(J2^2 + J3^2 - J4^2))/(J2⋅J3⋅J4⋅(J2^4 - 2⋅J2^2⋅J3^2 - 2⋅J2^2⋅J4^2 + J3^4 - 2⋅J3^2⋅J4^2 + J4^4))⋅b1⋅a2⋅a3⋅b3⋅a5\n",
      "−2⋅J2⋅V1⋅V3⋅f2/(J1^4 - 2⋅J1^2⋅J2^2 - 2⋅J1^2⋅J4^2 + J2^4 - 2⋅J2^2⋅J4^2 + J4^4)⋅b1⋅b2⋅b3⋅a4⋅b4\n",
      "+2⋅J2⋅V1⋅V3⋅f3/(J2^4 - 2⋅J2^2⋅J3^2 - 2⋅J2^2⋅J4^2 + J3^4 - 2⋅J3^2⋅J4^2 + J4^4)⋅b1⋅a2⋅a3⋅a4⋅b4\n",
      "−i⋅V3⋅f1⋅f2/(J1⋅J2⋅J4)⋅b3⋅a4⋅a5}"
     ]
    }
   ],
   "source": [
    "subspace, matrixrows = sparse_find_subspace(c(H, psi), Jpart)\n",
    "print_subspace(subspace)\n",
    "cvector = build_vector_to_cancel(c(H, psi), subspace)\n",
    "psi3 = sparse_solve_for_commuting_term(cvector, psi, 3, orders, matrixrows, subspace)\n",
    "p(psi3)\n",
    "print('\\n')\n",
    "p(c(H,psi+psi3))"
   ]
  },
  {
   "cell_type": "code",
   "execution_count": 16,
   "metadata": {
    "autoscroll": "json-false",
    "collapsed": false,
    "ein.tags": [
     "worksheet-0"
    ]
   },
   "outputs": [
    {
     "name": "stdout",
     "output_type": "stream",
     "text": [
      "-2*V1*f1*f3*f4/(J1*J2*J3)\n"
     ]
    }
   ],
   "source": [
    "probzero = order_group(c(H,psi+psi3),orders)[0].scalar\n",
    "p(probzero)\n",
    "#ratsimp rather than simp?"
   ]
  },
  {
   "cell_type": "code",
   "execution_count": 17,
   "metadata": {
    "autoscroll": "json-false",
    "collapsed": false,
    "ein.tags": [
     "worksheet-0"
    ]
   },
   "outputs": [
    {
     "name": "stdout",
     "output_type": "stream",
     "text": [
      "\n",
      "100 loops, best of 3: 10.9 ms per loop\n",
      "10 loops, best of 3: 27.6 ms per loop"
     ]
    }
   ],
   "source": [
    "%timeit sympy.ratsimp(probzero)\n",
    "%timeit sympy.simplify(probzero)    "
   ]
  },
  {
   "cell_type": "code",
   "execution_count": null,
   "metadata": {
    "autoscroll": "json-false",
    "collapsed": false,
    "ein.tags": [
     "worksheet-0"
    ]
   },
   "outputs": [],
   "source": [
    "psi += psi3\n",
    "subspace, matrixrows = sparse_find_subspace(c(H, psi), Jpart)\n",
    "print_subspace(subspace)\n",
    "cvector = build_vector_to_cancel(c(H, psi), subspace)\n",
    "psi4 = sparse_solve_for_commuting_term(cvector, psi, 4, orders, matrixrows, subspace)\n",
    "p(psi4)\n",
    "print('\\n')\n",
    "p(c(H,psi+psi4))"
   ]
  },
  {
   "cell_type": "code",
   "execution_count": 14,
   "metadata": {
    "autoscroll": "json-false",
    "collapsed": false,
    "ein.tags": [
     "worksheet-0"
    ]
   },
   "outputs": [
    {
     "data": {
      "text/latex": [
       "$$1 a_1 + \\frac{f_{1}}{J_{1}} a_2 - \\frac{i V_{1}}{J_{2}} b_1 a_2 a_3 + \\frac{f_{1} f_{2}}{J_{1} J_{2}} a_3 - \\frac{i V_{2} f_{1}}{J_{1} J_{3}} b_2 a_3 a_4 - \\frac{i V_{1} f_{2}}{J_{1} J_{2}} a_2 b_2 a_3 - \\frac{V_{1} V_{3}}{J_{2} J_{4}} b_1 a_2 b_3 a_4 a_5 - \\frac{i V_{1} f_{1}}{J_{1} J_{2}} a_1 b_1 a_3 - \\frac{i V_{1} f_{3}}{J_{2} J_{3}} b_1 a_2 a_4 - \\frac{V_{1} V_{3} f_{3} \\left(J_{2}^{2} - J_{3}^{2} + J_{4}^{2}\\right)}{J_{4} \\left(J_{2}^{4} - 2 J_{2}^{2} J_{3}^{2} - 2 J_{2}^{2} J_{4}^{2} + J_{3}^{4} - 2 J_{3}^{2} J_{4}^{2} + J_{4}^{4}\\right)} b_1 a_2 b_2 a_4 a_5 + \\frac{i f_{2} \\left(J_{1}^{2} V_{1} f_{3} \\left(- J_{1}^{2} + J_{2}^{2} + J_{3}^{2}\\right) + J_{2}^{2} V_{2} f_{1} \\left(J_{1}^{2} - J_{2}^{2} + J_{3}^{2}\\right) + J_{3}^{2} \\left(V_{1} f_{3} + V_{2} f_{1}\\right) \\left(J_{1}^{2} + J_{2}^{2} - J_{3}^{2}\\right)\\right)}{J_{1} J_{2} J_{3} \\left(J_{1}^{4} - 2 J_{1}^{2} J_{2}^{2} - 2 J_{1}^{2} J_{3}^{2} + J_{2}^{4} - 2 J_{2}^{2} J_{3}^{2} + J_{3}^{4}\\right)} a_2 b_2 a_4 + \\frac{V_{1} V_{3} f_{2} \\left(J_{1}^{2} - J_{2}^{2} - J_{4}^{2}\\right)}{J_{4} \\left(J_{1}^{4} - 2 J_{1}^{2} J_{2}^{2} - 2 J_{1}^{2} J_{4}^{2} + J_{2}^{4} - 2 J_{2}^{2} J_{4}^{2} + J_{4}^{4}\\right)} b_1 a_3 b_3 a_4 a_5 + \\frac{i f_{2} \\left(J_{1}^{2} V_{2} f_{1} - 2 J_{2}^{2} V_{1} f_{3} + J_{2}^{2} V_{2} f_{1} - J_{3}^{2} V_{2} f_{1}\\right)}{J_{2} \\left(J_{1}^{4} - 2 J_{1}^{2} J_{2}^{2} - 2 J_{1}^{2} J_{3}^{2} + J_{2}^{4} - 2 J_{2}^{2} J_{3}^{2} + J_{3}^{4}\\right)} b_1 b_2 b_3 - \\frac{V_{1} V_{4} f_{3}}{J_{2} J_{3} J_{5}} b_1 a_2 b_4 a_5 a_6 - \\frac{V_{1} V_{2} f_{1}}{J_{1} J_{2} J_{3}} a_1 b_1 a_2 b_2 a_4 - \\frac{V_{2} V_{4} f_{1}}{J_{1} J_{3} J_{5}} b_2 a_3 b_4 a_5 a_6 - \\frac{V_{1} V_{3} f_{5}}{J_{2} J_{4} J_{5}} b_1 a_2 b_3 a_4 a_6 - \\frac{V_{1} V_{2} f_{3}}{J_{1} J_{2} J_{3}} a_2 b_2 a_3 b_3 a_4 + \\frac{f_{2} \\left(V_{1} V_{2} + f_{1} f_{3}\\right)}{J_{1} J_{2} J_{3}} a_4 + \\frac{i f_{2} \\left(- 2 J_{3}^{2} \\left(V_{1} f_{3} + V_{2} f_{1}\\right) + V_{1} f_{3} \\left(J_{1}^{2} - J_{2}^{2} + J_{3}^{2}\\right) + V_{2} f_{1} \\left(- J_{1}^{2} + J_{2}^{2} + J_{3}^{2}\\right)\\right)}{J_{3} \\left(J_{1}^{4} - 2 J_{1}^{2} J_{2}^{2} - 2 J_{1}^{2} J_{3}^{2} + J_{2}^{4} - 2 J_{2}^{2} J_{3}^{2} + J_{3}^{4}\\right)} b_1 a_3 a_4 - \\frac{i V_{2} f_{1} f_{3}}{J_{1} J_{2} J_{3}} a_3 b_3 a_4 - \\frac{i V_{1} f_{3} f_{4}}{J_{2} J_{3} J_{4}} b_1 a_2 a_5 + \\frac{V_{1} V_{3} f_{3} \\left(J_{2}^{2} + J_{3}^{2} - J_{4}^{2}\\right)}{J_{3} \\left(J_{2}^{4} - 2 J_{2}^{2} J_{3}^{2} - 2 J_{2}^{2} J_{4}^{2} + J_{3}^{4} - 2 J_{3}^{2} J_{4}^{2} + J_{4}^{4}\\right)} b_1 a_2 b_2 b_3 b_4 - \\frac{V_{1} V_{3} f_{1}}{J_{1} J_{2} J_{4}} a_1 b_1 b_3 a_4 a_5 - \\frac{i V_{1} f_{1} f_{3}}{J_{1} J_{2} J_{3}} a_1 b_1 a_4 - \\frac{V_{1} V_{3} f_{4}}{J_{2} J_{3} J_{4}} b_1 a_2 a_4 b_4 a_5 + \\frac{i V_{1} V_{3} V_{5}}{J_{2} J_{4} J_{6}} b_1 a_2 b_3 a_4 b_5 a_6 a_7 - \\frac{i V_{2} f_{1} f_{4}}{J_{1} J_{3} J_{4}} b_2 a_3 a_5 - \\frac{V_{1} V_{3} f_{2} \\left(J_{1}^{2} + J_{2}^{2} - J_{4}^{2}\\right)}{J_{1} \\left(J_{1}^{4} - 2 J_{1}^{2} J_{2}^{2} - 2 J_{1}^{2} J_{4}^{2} + J_{2}^{4} - 2 J_{2}^{2} J_{4}^{2} + J_{4}^{4}\\right)} a_2 a_3 b_3 a_4 b_4 + \\frac{V_{1} V_{3} f_{2} \\left(J_{1}^{2} \\left(- J_{1}^{2} + J_{2}^{2} + J_{4}^{2}\\right) + J_{4}^{2} \\left(J_{1}^{2} + J_{2}^{2} - J_{4}^{2}\\right)\\right)}{J_{1} J_{2} J_{4} \\left(J_{1}^{4} - 2 J_{1}^{2} J_{2}^{2} - 2 J_{1}^{2} J_{4}^{2} + J_{2}^{4} - 2 J_{2}^{2} J_{4}^{2} + J_{4}^{4}\\right)} a_2 b_2 b_3 a_4 a_5 + \\frac{i f_{2} \\left(- J_{1}^{2} V_{1} f_{3} + 2 J_{1}^{2} V_{2} f_{1} - J_{2}^{2} V_{1} f_{3} + J_{3}^{2} V_{1} f_{3}\\right)}{J_{1} \\left(J_{1}^{4} - 2 J_{1}^{2} J_{2}^{2} - 2 J_{1}^{2} J_{3}^{2} + J_{2}^{4} - 2 J_{2}^{2} J_{3}^{2} + J_{3}^{4}\\right)} a_2 a_3 b_3 + \\frac{V_{1} V_{3} f_{3} \\left(J_{3}^{2} \\left(J_{2}^{2} - J_{3}^{2} + J_{4}^{2}\\right) + J_{4}^{2} \\left(J_{2}^{2} + J_{3}^{2} - J_{4}^{2}\\right)\\right)}{J_{2} J_{3} J_{4} \\left(J_{2}^{4} - 2 J_{2}^{2} J_{3}^{2} - 2 J_{2}^{2} J_{4}^{2} + J_{3}^{4} - 2 J_{3}^{2} J_{4}^{2} + J_{4}^{4}\\right)} b_1 a_2 a_3 b_3 a_5 - \\frac{2 J_{2} V_{1} V_{3} f_{2}}{J_{1}^{4} - 2 J_{1}^{2} J_{2}^{2} - 2 J_{1}^{2} J_{4}^{2} + J_{2}^{4} - 2 J_{2}^{2} J_{4}^{2} + J_{4}^{4}} b_1 b_2 b_3 a_4 b_4 + \\frac{2 J_{2} V_{1} V_{3} f_{3}}{J_{2}^{4} - 2 J_{2}^{2} J_{3}^{2} - 2 J_{2}^{2} J_{4}^{2} + J_{3}^{4} - 2 J_{3}^{2} J_{4}^{2} + J_{4}^{4}} b_1 a_2 a_3 a_4 b_4 - \\frac{i V_{3} f_{1} f_{2}}{J_{1} J_{2} J_{4}} b_3 a_4 a_5$$"
      ],
      "text/plain": [
       "<IPython.core.display.Math object>"
      ]
     },
     "metadata": {},
     "output_type": "display_data"
    }
   ],
   "source": [
    "from IPython.display import Latex, display, display_latex, Math\n",
    "display(Math(texify_group(psi+psi3)))"
   ]
  }
 ],
 "metadata": {
  "kernelspec": {
   "display_name": "Python 3",
   "language": "python",
   "name": "python3"
  },
  "language_info": {
   "codemirror_mode": {
    "name": "ipython",
    "version": 3
   },
   "file_extension": ".py",
   "mimetype": "text/x-python",
   "name": "python",
   "nbconvert_exporter": "python",
   "pygments_lexer": "ipython3",
   "version": "3.4.2"
  },
  "name": "4 fermion-Copy1.ipynb"
 },
 "nbformat": 4,
 "nbformat_minor": 0
}
