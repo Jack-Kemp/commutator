{
 "cells": [
  {
   "cell_type": "code",
   "execution_count": 1,
   "metadata": {
    "autoscroll": "json-false",
    "collapsed": false,
    "ein.tags": [
     "worksheet-0"
    ]
   },
   "outputs": [],
   "source": [
    "%load_ext autoreload"
   ]
  },
  {
   "cell_type": "code",
   "execution_count": 1,
   "metadata": {
    "autoscroll": "json-false",
    "collapsed": false,
    "ein.tags": [
     "worksheet-0"
    ]
   },
   "outputs": [
    {
     "name": "stderr",
     "output_type": "stream",
     "text": [
      "ERROR: Line magic function `%autoreload` not found.\n"
     ]
    }
   ],
   "source": [
    "from commutator import *\n",
    "%autoreload"
   ]
  },
  {
   "cell_type": "code",
   "execution_count": 2,
   "metadata": {
    "autoscroll": "json-false",
    "collapsed": false,
    "ein.tags": [
     "worksheet-0"
    ]
   },
   "outputs": [],
   "source": [
    "p = print_group\n",
    "c = calculate_commutator\n",
    "N = Ncproduct\n",
    "fs = full_simplify_group"
   ]
  },
  {
   "cell_type": "code",
   "execution_count": 3,
   "metadata": {
    "autoscroll": "json-false",
    "collapsed": false,
    "ein.tags": [
     "worksheet-0"
    ]
   },
   "outputs": [],
   "source": [
    "V1, V2, J,f = symbols('V1 V2 J f')\n",
    "L = 20\n",
    "orders = {V1:1, V2:1, f:1}\n",
    "print_group.orders = orders\n",
    "fpart = [Ncproduct(I*f, [2*j+1,2*j+2]) for j in range(L)]\n",
    "V1part = [Ncproduct(V1, [2*j+1,2*j+2,2*j+3,2*j+4]) for j in range(L-2)]\n",
    "V2part = [Ncproduct(V2, [2*j+2,2*j+3,2*j+4,2*j+5]) for j in range(L-2)]\n",
    "small = fpart+V1part+V2part\n",
    "Jpart = [Ncproduct(I*J, [2*j+2,2*j+3]) for j in range(L-1)]\n",
    "H = fpart + V1part+V2part +Jpart"
   ]
  },
  {
   "cell_type": "code",
   "execution_count": 4,
   "metadata": {
    "autoscroll": "json-false",
    "collapsed": false,
    "ein.tags": [
     "worksheet-0"
    ]
   },
   "outputs": [
    {
     "name": "stdout",
     "output_type": "stream",
     "text": [
      "{−2⋅V1⋅b1⋅a2⋅b2\n",
      "−2⋅i⋅f⋅b1}\n"
     ]
    }
   ],
   "source": [
    "psi0 = N(1, 'a1')\n",
    "p(c(H,psi0))"
   ]
  },
  {
   "cell_type": "code",
   "execution_count": 5,
   "metadata": {
    "autoscroll": "json-false",
    "collapsed": false,
    "ein.tags": [
     "worksheet-0"
    ]
   },
   "outputs": [
    {
     "name": "stdout",
     "output_type": "stream",
     "text": [
      "{+f/J⋅a2\n",
      "−i⋅V1/J⋅b1⋅a2⋅a3}\n"
     ]
    }
   ],
   "source": [
    "psi1a = N(f/J, 'a2')\n",
    "psi1V = N(V1/(I*J), 'b1 a2 a3')\n",
    "psi1 = psi1a+psi1V\n",
    "p(psi1)\n",
    "split_orders = [0, 1, 3]\n"
   ]
  },
  {
   "cell_type": "code",
   "execution_count": 6,
   "metadata": {
    "autoscroll": "json-false",
    "collapsed": false,
    "ein.tags": [
     "worksheet-0"
    ]
   },
   "outputs": [
    {
     "name": "stdout",
     "output_type": "stream",
     "text": [
      "1/8\r",
      "2/8\r",
      "3/8\r",
      "4/8\r",
      "5/8"
     ]
    },
    {
     "name": "stdout",
     "output_type": "stream",
     "text": [
      "\r",
      "6/8\r",
      "7/8\r",
      "8/8"
     ]
    },
    {
     "name": "stdout",
     "output_type": "stream",
     "text": [
      "\r",
      "0: a1 b1 b2\n",
      "1: a1 a2 b2\n",
      "2: a1 a2 a3\n",
      "3: a1 b1 a3\n",
      "4: b1 b2 a3\n",
      "5: a2 b2 a3\n",
      "6: b2 a3 b3\n",
      "7: b2 a3 a4\n",
      "8: b1 a2 b3\n",
      "9: b1 a2 a4\n",
      "10: b1 a2 b2 b3 a4\n",
      "11: b1 a2 a3 b3 a4\n",
      "12: b2\n",
      "13: a3\n",
      "14: b1 a2 b3 a4 b4\n",
      "15: b1 a2 b3 a4 a5\n",
      "[[1, 3], [0, 2], [5], [4], [7], [6], [9], [8], [11], [10], [13], [12], [15], [14]]"
     ]
    },
    {
     "name": "stdout",
     "output_type": "stream",
     "text": [
      "\n",
      "1/14"
     ]
    },
    {
     "name": "stdout",
     "output_type": "stream",
     "text": [
      "\r",
      "2/14\r",
      "3/14"
     ]
    },
    {
     "name": "stdout",
     "output_type": "stream",
     "text": [
      "\r",
      "4/14\r",
      "5/14\r",
      "6/14\r",
      "7/14\r",
      "8/14"
     ]
    },
    {
     "name": "stdout",
     "output_type": "stream",
     "text": [
      "\r",
      "9/14\r",
      "10/14\r",
      "11/14"
     ]
    },
    {
     "name": "stdout",
     "output_type": "stream",
     "text": [
      "\r",
      "12/14\r",
      "13/14\r",
      "14/14\r",
      "fvar2: A0\n",
      "fvar3: A1\n",
      "{−A0⋅a1⋅a2⋅a3\n",
      "−A0⋅a1⋅b1⋅b2\n",
      "+A1 - i⋅V1⋅f/J^2⋅a1⋅a2⋅b2\n",
      "−A1⋅a1⋅b1⋅a3\n",
      "+V1⋅V2/J^2⋅b1⋅a2⋅a3⋅b3⋅a4\n",
      "−V1⋅V2/J^2 + f^2/J^2⋅a3\n",
      "−i⋅V1⋅f/J^2⋅b2⋅a3⋅a4\n",
      "−i⋅V1⋅f/J^2 + i⋅V2⋅f/J^2⋅a2⋅b2⋅a3\n",
      "−V1^2/J^2⋅b1⋅a2⋅b3⋅a4⋅a5\n",
      "−i⋅V1⋅f/J^2⋅b1⋅a2⋅a4}\n",
      "\n",
      "\n",
      "{+2⋅A1⋅V1⋅a1⋅b1⋅a2⋅b2⋅b3\n",
      "+2⋅A0⋅V1⋅a1⋅a2⋅b3⋅a4⋅b4\n",
      "+2⋅i⋅A0⋅f⋅a1⋅b2⋅a3\n",
      "+2⋅i⋅A0⋅f⋅a1⋅a2⋅b3\n",
      "+2⋅A1⋅V1 - 2⋅i⋅V1^2⋅f/J^2 + 2⋅i⋅V1⋅V2⋅f/J^2 - 2⋅i⋅V2^2⋅f/J^2⋅b1\n",
      "−2⋅i⋅A0⋅f⋅a1⋅b1⋅a2\n",
      "+2⋅A0⋅V1⋅a2\n",
      "−2⋅A0⋅V2⋅a1⋅a2⋅b2⋅b3⋅a4\n",
      "−2⋅A1⋅V2 + 4⋅i⋅V1⋅V2⋅f/J^2⋅a1⋅a2⋅a3⋅b3⋅a4\n",
      "+2⋅A1⋅V1⋅a1⋅b1⋅b3⋅a4⋅b4\n",
      "+2⋅A0⋅V2⋅a1⋅b1⋅a3⋅b3⋅a4\n",
      "−2⋅A1⋅V2⋅a1⋅b1⋅b2⋅b3⋅a4\n",
      "+2⋅i⋅A1⋅f⋅a1⋅b1⋅b3\n",
      "−2⋅i⋅A1⋅f - 4⋅V1⋅V2^2/J^2 - 2⋅V1⋅f^2/J^2 + 2⋅V2⋅f^2/J^2⋅b1⋅a2⋅b2\n",
      "−2⋅A0⋅V1⋅a1⋅b1⋅a2⋅a3⋅b3\n",
      "+2⋅i⋅A0⋅f⋅b1⋅a2⋅a3\n",
      "+2⋅V1⋅f^2/J^2⋅a1⋅a2⋅a4\n",
      "−2⋅i⋅V1⋅V2⋅f/J^2⋅b2⋅a3⋅b3⋅b4⋅a5\n",
      "+2⋅i⋅V1^2⋅f/J^2 - 2⋅i⋅V1⋅V2⋅f/J^2⋅b1⋅b2⋅a3⋅b3⋅a4\n",
      "+2⋅i⋅V1^2⋅f/J^2 - 2⋅i⋅V1⋅V2⋅f/J^2⋅b1⋅a2⋅b3⋅b4⋅a5\n",
      "+2⋅i⋅V1^2⋅f/J^2 - 2⋅i⋅V1⋅V2⋅f/J^2⋅a2⋅b2⋅b3⋅a4⋅b4\n",
      "−2⋅V1^2⋅V2/J^2⋅b1⋅a2⋅b3⋅a4⋅b4⋅b5⋅a6\n",
      "+4⋅V1^2⋅V2/J^2 - 2⋅V1⋅f^2/J^2⋅b1⋅a2⋅b4\n",
      "−4⋅V1⋅V2^2/J^2 - 2⋅V1⋅f^2/J^2 + 2⋅V2⋅f^2/J^2⋅b2⋅b3⋅a4\n",
      "−2⋅i⋅V1^2⋅f/J^2⋅a1⋅b1⋅a2⋅a3⋅a4\n",
      "+2⋅V1^2⋅V2/J^2 - 2⋅V1⋅f^2/J^2⋅b3⋅a4⋅b4\n",
      "−2⋅i⋅V1^2⋅f/J^2 + 6⋅i⋅V1⋅V2⋅f/J^2 - 2⋅i⋅f^3/J^2⋅b3\n",
      "−2⋅i⋅V1^2⋅f/J^2⋅b1⋅a2⋅a3⋅a4⋅a5\n",
      "+2⋅i⋅V1^2⋅f/J^2⋅b1⋅a2⋅b4⋅a5⋅b5\n",
      "+2⋅V1^2⋅V2/J^2 - 4⋅V1⋅f^2/J^2 + 2⋅V2⋅f^2/J^2⋅a2⋅b2⋅b3\n",
      "−2⋅V1⋅f^2/J^2⋅b2⋅a3⋅b4\n",
      "+2⋅V1^3/J^2⋅b1⋅a2⋅b3⋅a4⋅b5⋅a6⋅b6\n",
      "+2⋅i⋅V1^2⋅f/J^2 - 2⋅i⋅V1⋅V2⋅f/J^2⋅b1⋅a2⋅a3⋅b3⋅b4\n",
      "−2⋅i⋅V1^2⋅f/J^2⋅a1⋅a2⋅b3⋅a4⋅a5\n",
      "+2⋅V1^2⋅V2/J^2 - 2⋅V1⋅f^2/J^2⋅b1⋅b2⋅a4\n",
      "+2⋅i⋅V1^2⋅f/J^2⋅b2⋅a3⋅b4⋅a5⋅b5\n",
      "+2⋅i⋅V1^2⋅f/J^2⋅b1⋅a2⋅b3⋅a4⋅b5\n",
      "+2⋅i⋅V1^2⋅f/J^2⋅b1⋅b2⋅b3⋅a4⋅a5\n",
      "−2⋅i⋅V1⋅V2⋅f/J^2⋅b1⋅a2⋅b2⋅a3⋅b3\n",
      "−2⋅V1^2⋅V2/J^2⋅b1⋅a2⋅a3⋅b3⋅b4⋅a5⋅b5\n",
      "+2⋅V1⋅f^2/J^2⋅a2⋅a3⋅a4}"
     ]
    },
    {
     "name": "stdout",
     "output_type": "stream",
     "text": [
      "\n"
     ]
    },
    {
     "data": {
      "text/plain": [
       "[A0, A1]"
      ]
     },
     "execution_count": 6,
     "metadata": {},
     "output_type": "execute_result"
    }
   ],
   "source": [
    "subspace, matrixrows = sparse_find_subspace(c(H, psi0+psi1), Jpart)\n",
    "print_subspace(subspace)\n",
    "cvector = build_vector_to_cancel(c(H, psi0+psi1), subspace)\n",
    "iofvars = []\n",
    "psi2 =sparse_solve_for_commuting_term(cvector, psi0+psi1, 2, orders, matrixrows, subspace, norm = False, iofvars = iofvars, split_orders = split_orders)\n",
    "p(psi2)\n",
    "print('\\n')\n",
    "psi = psi0+psi1+psi2\n",
    "p(c(H,psi))\n",
    "iofvars"
   ]
  },
  {
   "cell_type": "code",
   "execution_count": 7,
   "metadata": {
    "autoscroll": "json-false",
    "collapsed": false,
    "ein.tags": [
     "worksheet-0"
    ]
   },
   "outputs": [
    {
     "name": "stdout",
     "output_type": "stream",
     "text": [
      "1/2\r",
      "2/2\r"
     ]
    },
    {
     "data": {
      "text/plain": [
       "{A0: 0, A1: I*V1*f/J**2}"
      ]
     },
     "execution_count": 7,
     "metadata": {},
     "output_type": "execute_result"
    }
   ],
   "source": [
    "orders.update(zip(iofvars,[2]*len(iofvars)))\n",
    "normdict= check_normalisable(psi0+psi1+psi2, iofvars, 2, orders, split_orders = split_orders)\n",
    "normdict"
   ]
  },
  {
   "cell_type": "code",
   "execution_count": 8,
   "metadata": {
    "autoscroll": "json-false",
    "collapsed": false,
    "ein.tags": [
     "worksheet-0"
    ]
   },
   "outputs": [
    {
     "name": "stdout",
     "output_type": "stream",
     "text": [
      "1/41\r",
      "2/41"
     ]
    },
    {
     "name": "stdout",
     "output_type": "stream",
     "text": [
      "\r",
      "3/41"
     ]
    },
    {
     "name": "stdout",
     "output_type": "stream",
     "text": [
      "\r",
      "4/41\r",
      "5/41\r",
      "6/41"
     ]
    },
    {
     "name": "stdout",
     "output_type": "stream",
     "text": [
      "\r",
      "7/41\r",
      "8/41\r",
      "9/41"
     ]
    },
    {
     "name": "stdout",
     "output_type": "stream",
     "text": [
      "\r",
      "10/41"
     ]
    },
    {
     "name": "stdout",
     "output_type": "stream",
     "text": [
      "\r",
      "11/41\r",
      "12/41\r",
      "13/41\r",
      "14/41\r",
      "15/41"
     ]
    },
    {
     "name": "stdout",
     "output_type": "stream",
     "text": [
      "\r",
      "16/41\r",
      "17/41\r",
      "18/41"
     ]
    },
    {
     "name": "stdout",
     "output_type": "stream",
     "text": [
      "\r",
      "19/41\r",
      "20/41"
     ]
    },
    {
     "name": "stdout",
     "output_type": "stream",
     "text": [
      "\r",
      "21/41\r",
      "22/41"
     ]
    },
    {
     "name": "stdout",
     "output_type": "stream",
     "text": [
      "\r",
      "23/41\r",
      "24/41"
     ]
    },
    {
     "name": "stdout",
     "output_type": "stream",
     "text": [
      "\r",
      "25/41\r",
      "26/41\r",
      "27/41\r",
      "28/41\r",
      "29/41\r",
      "30/41\r",
      "31/41\r",
      "32/41"
     ]
    },
    {
     "name": "stdout",
     "output_type": "stream",
     "text": [
      "\r",
      "33/41\r",
      "34/41\r",
      "35/41\r",
      "36/41\r",
      "37/41\r",
      "38/41"
     ]
    },
    {
     "name": "stdout",
     "output_type": "stream",
     "text": [
      "\r",
      "39/41\r",
      "40/41"
     ]
    },
    {
     "name": "stdout",
     "output_type": "stream",
     "text": [
      "\r",
      "41/41\r",
      "0: a1 a2 a4\n",
      "1: a1 b1 a4\n",
      "2: a1 b1 b3\n",
      "3: a1 a2 b3\n",
      "4: a1 b1 a2 b2 b3\n",
      "5: a1 b1 a2 a3 b3\n",
      "6: a1 b1 a2 a3 a4\n",
      "7: a1 b1 a2 b2 a4\n",
      "8: a1 a2 b3 a4 b4\n",
      "9: a1 b1 b3 a4 b4\n",
      "10: a1 b1 b3 a4 a5\n",
      "11: a1 a2 b3 a4 a5\n",
      "12: a1 b2 a3\n",
      "13: b2 a3 b3 b4 a5\n",
      "14: b2 a3 a4 b4 a5\n",
      "15: b1 b2 a3 b3 a4\n",
      "16: a2 b2 a3 b3 a4\n",
      "17: b1 a2 b3 b4 a5\n",
      "18: b1 a2 a4 b4 a5\n",
      "19: a2 b2 b3 a4 b4\n",
      "20: a2 a3 b3 a4 b4\n",
      "21: b1 a3 b3 a4 b4\n",
      "22: b1 b2 b3 a4 b4\n",
      "23: b1 b2 b3 a4 a5\n",
      "24: b1 a3 b3 a4 a5\n",
      "25: a2 a3 b3 a4 a5\n",
      "26: a2 b2 b3 a4 a5\n",
      "27: b1 a2 b3 a4 b4 b5 a6\n",
      "28: b1 a2 b3 a4 a5 b5 a6\n",
      "29: b1 a2 b4\n",
      "30: b1 a2 a5\n",
      "31: b2 b3 a4\n",
      "32: a3 b3 a4\n",
      "33: b1\n",
      "34: a2\n",
      "35: a1 b1 a2\n",
      "36: b3 a4 b4\n",
      "37: b3 a4 a5\n",
      "38: b3\n",
      "39: a4\n",
      "40: b1 a2 a3 a4 a5\n",
      "41: b1 a2 a3 b3 a5\n",
      "42: b1 a2 a3 b3 b4\n",
      "43: b1 a2 b2 b3 b4\n",
      "44: b1 a2 b2 b3 a5\n",
      "45: b1 a2 b2 a4 a5\n",
      "46: b1 a2 b2 a4 b4\n",
      "47: b1 a2 a3 a4 b4\n",
      "48: b1 a2 b4 a5 b5\n",
      "49: b1 a2 b4 a5 a6\n",
      "50: a2 b2 b3\n",
      "51: b1 b2 b3\n",
      "52: b1 b2 a4\n",
      "53: a2 b2 a4\n",
      "54: a2 a3 a4\n",
      "55: a2 a3 b3\n",
      "56: b1 a3 b3\n",
      "57: b1 a3 a4\n",
      "58: b2 a3 b4\n",
      "59: b2 a3 a5\n",
      "60: b1 a2 b3 a4 b5 a6 b6\n",
      "61: b1 a2 b3 a4 b5 a6 a7\n",
      "62: a1 a2 b2 b3 a4\n",
      "63: a1 a2 a3 b3 a4\n",
      "64: a1 b1 a3 b3 a4\n",
      "65: a1 b1 b2 b3 a4\n",
      "66: b2 a3 b4 a5 b5\n",
      "67: b2 a3 b4 a5 a6\n",
      "68: b1 a2 b3 a4 b5\n",
      "69: b1 a2 b3 a4 a6\n",
      "70: b1 a2 b2\n",
      "71: b1 a2 a3\n",
      "72: b1 a2 b2 a3 b3\n",
      "73: b1 a2 b2 a3 a4\n",
      "74: b1 a2 a3 b3 b4 a5 b5\n",
      "75: b1 a2 b2 b3 b4 a5 b5\n",
      "76: b1 a2 b2 a4 b4 a5 b5\n",
      "77: b1 a2 b2 a4 b4 a5 a6\n",
      "78: b1 a2 a3 a4 b4 a5 a6\n",
      "79: b1 a2 a3 b3 b4 a5 a6\n",
      "80: b1 a2 b2 b3 b4 a5 a6\n",
      "81: b1 a2 a3 a4 b4 a5 b5\n",
      "[[1, 3], [0, 2], [5, 7], [4, 6], [9, 11], [8, 10], [14], [13], [16], [15], [18], [17], [20, 22, 24, 26], [19, 21, 23, 25], [28], [27], [30], [29], [32], [31], [34], [33], [37], [36], [39], [38], [41, 43, 45, 47], [40, 42, 44, 46], [49], [48], [51, 53, 55, 57], [50, 52, 54, 56], [59], [58], [61], [60], [65, 63], [64, 62], [67], [66], [69], [68], [71], [70], [73], [72], [81, 75, 77, 79], [80, 74, 76, 78]]"
     ]
    },
    {
     "name": "stdout",
     "output_type": "stream",
     "text": [
      "\n",
      "1/48"
     ]
    },
    {
     "name": "stdout",
     "output_type": "stream",
     "text": [
      "\r",
      "2/48\r",
      "3/48"
     ]
    },
    {
     "name": "stdout",
     "output_type": "stream",
     "text": [
      "\r",
      "4/48\r",
      "5/48\r",
      "6/48"
     ]
    },
    {
     "name": "stdout",
     "output_type": "stream",
     "text": [
      "\r",
      "7/48\r",
      "8/48\r",
      "9/48"
     ]
    },
    {
     "name": "stdout",
     "output_type": "stream",
     "text": [
      "\r",
      "10/48\r",
      "11/48\r",
      "12/48\r",
      "13/48"
     ]
    },
    {
     "name": "stdout",
     "output_type": "stream",
     "text": [
      "\r",
      "14/48\r",
      "15/48"
     ]
    },
    {
     "name": "stdout",
     "output_type": "stream",
     "text": [
      "\r",
      "16/48\r",
      "17/48"
     ]
    },
    {
     "name": "stdout",
     "output_type": "stream",
     "text": [
      "\r",
      "18/48\r",
      "19/48"
     ]
    },
    {
     "name": "stdout",
     "output_type": "stream",
     "text": [
      "\r",
      "20/48\r",
      "21/48"
     ]
    },
    {
     "name": "stdout",
     "output_type": "stream",
     "text": [
      "\r",
      "22/48\r",
      "23/48"
     ]
    },
    {
     "name": "stdout",
     "output_type": "stream",
     "text": [
      "\r",
      "24/48\r",
      "25/48"
     ]
    },
    {
     "name": "stdout",
     "output_type": "stream",
     "text": [
      "\r",
      "26/48\r",
      "27/48"
     ]
    },
    {
     "name": "stdout",
     "output_type": "stream",
     "text": [
      "\r",
      "28/48\r",
      "29/48\r",
      "30/48"
     ]
    },
    {
     "name": "stdout",
     "output_type": "stream",
     "text": [
      "\r",
      "31/48"
     ]
    },
    {
     "name": "stdout",
     "output_type": "stream",
     "text": [
      "\r",
      "32/48\r",
      "33/48"
     ]
    },
    {
     "name": "stdout",
     "output_type": "stream",
     "text": [
      "\r",
      "34/48\r",
      "35/48\r",
      "36/48\r",
      "37/48\r",
      "38/48"
     ]
    },
    {
     "name": "stdout",
     "output_type": "stream",
     "text": [
      "\r",
      "39/48\r",
      "40/48\r",
      "41/48\r",
      "42/48\r",
      "43/48"
     ]
    },
    {
     "name": "stdout",
     "output_type": "stream",
     "text": [
      "\r",
      "44/48\r",
      "45/48\r",
      "46/48\r",
      "47/48"
     ]
    },
    {
     "name": "stdout",
     "output_type": "stream",
     "text": [
      "\r",
      "48/48\r",
      "fvar2: B0\n",
      "fvar3: B1\n",
      "fvar6: B2\n",
      "fvar7: B3\n",
      "fvar10: B4\n",
      "fvar11: B5\n",
      "fvar12: B6\n",
      "fvar35: B7\n",
      "fvar62: B8\n",
      "fvar63: B9\n",
      "{−B2⋅a1⋅b1⋅a2⋅b2⋅b3\n",
      "+B8 + V1⋅V2⋅f/J^3⋅a1⋅b1⋅a3⋅b3⋅a4\n",
      "−B6⋅a1⋅b2⋅a3\n",
      "−B9⋅a1⋅a2⋅a3⋅b3⋅a4\n",
      "−B5⋅a1⋅a2⋅b3⋅a4⋅a5\n",
      "−B5⋅a1⋅b1⋅b3⋅a4⋅b4\n",
      "+B3 - V1^2⋅f/J^3⋅a1⋅b1⋅a2⋅a3⋅b3\n",
      "−B8⋅a1⋅a2⋅b2⋅b3⋅a4\n",
      "−B7⋅a1⋅b1⋅a2\n",
      "−B3⋅a1⋅b1⋅a2⋅b2⋅a4\n",
      "+B4 - V1^2⋅f/J^3⋅a1⋅a2⋅b3⋅a4⋅b4\n",
      "−B9⋅a1⋅b1⋅b2⋅b3⋅a4\n",
      "−B0⋅a1⋅a2⋅a4\n",
      "−B0⋅a1⋅b1⋅b3\n",
      "−B4⋅a1⋅b1⋅b3⋅a4⋅a5\n",
      "−B1⋅a1⋅a2⋅b3\n",
      "+B1 - i⋅V1⋅f^2/J^3⋅a1⋅b1⋅a4\n",
      "−B2⋅a1⋅b1⋅a2⋅a3⋅a4\n",
      "+2⋅i⋅V1^2⋅V2/(3⋅J^3) - 4⋅i⋅V1⋅f^2/(3⋅J^3) + i⋅V2⋅f^2/(3⋅J^3)⋅a2⋅b2⋅a4\n",
      "+i⋅V1^2⋅V2/(3⋅J^3)⋅b1⋅a2⋅b2⋅b3⋅b4⋅a5⋅b5\n",
      "+V1⋅V2⋅f/J^3⋅b2⋅a3⋅a4⋅b4⋅a5\n",
      "−V1^2⋅f/J^3 + V1⋅V2⋅f/J^3⋅a2⋅b2⋅a3⋅b3⋅a4\n",
      "−2⋅i⋅V1⋅V2^2/J^3 - i⋅V1⋅f^2/J^3 + i⋅V2⋅f^2/J^3⋅a3⋅b3⋅a4\n",
      "−i⋅V1^2⋅V2/(3⋅J^3)⋅b1⋅a2⋅a3⋅b3⋅b4⋅a5⋅a6\n",
      "−V1⋅V2⋅f/J^3 + V2^2⋅f/J^3⋅a2\n",
      "−V1^2⋅f/J^3⋅b1⋅a2⋅b3⋅a4⋅a6\n",
      "+V1^2⋅f/(3⋅J^3) + V1⋅V2⋅f/(3⋅J^3)⋅a2⋅a3⋅b3⋅a4⋅b4\n",
      "−i⋅V1^2⋅V2/(3⋅J^3)⋅b1⋅a2⋅a3⋅a4⋅b4⋅a5⋅b5\n",
      "+V1^2⋅f/J^3 - 3⋅V1⋅V2⋅f/J^3 + f^3/J^3⋅a4\n",
      "−2⋅V1^2⋅f/(3⋅J^3) + V1⋅V2⋅f/(3⋅J^3)⋅a2⋅b2⋅b3⋅a4⋅a5\n",
      "−2⋅V1^2⋅f/(3⋅J^3) + V1⋅V2⋅f/(3⋅J^3)⋅b1⋅a2⋅a3⋅a4⋅b4\n",
      "−2⋅V1^2⋅f/(3⋅J^3) + V1⋅V2⋅f/(3⋅J^3)⋅b1⋅a2⋅a3⋅b3⋅a5\n",
      "+2⋅V1^2⋅f/(3⋅J^3) - V1⋅V2⋅f/(3⋅J^3)⋅b1⋅b2⋅b3⋅a4⋅b4\n",
      "+V1⋅V2⋅f/J^3⋅b1⋅a2⋅b2⋅a3⋅a4\n",
      "+V1^2⋅f/(3⋅J^3) - 2⋅V1⋅V2⋅f/(3⋅J^3)⋅b1⋅a3⋅b3⋅a4⋅a5\n",
      "−2⋅i⋅V1^2⋅V2/(3⋅J^3) + i⋅V1⋅f^2/(3⋅J^3) - i⋅V2⋅f^2/(3⋅J^3)⋅b1⋅b2⋅b3\n",
      "−V1^2⋅f/J^3⋅b2⋅a3⋅b4⋅a5⋅a6\n",
      "+i⋅V1^2⋅V2/J^3 - i⋅V1⋅f^2/J^3⋅b3⋅a4⋅a5\n",
      "−i⋅V1^2⋅V2/(3⋅J^3) + 2⋅i⋅V1⋅f^2/(3⋅J^3) - 2⋅i⋅V2⋅f^2/(3⋅J^3)⋅b1⋅a3⋅a4\n",
      "−2⋅i⋅V1⋅V2^2/J^3 + i⋅V2⋅f^2/J^3⋅b1⋅a2⋅a3\n",
      "+2⋅i⋅V1^2⋅V2/(3⋅J^3)⋅b1⋅a2⋅b2⋅a4⋅b4⋅a5⋅a6\n",
      "+2⋅i⋅V1^2⋅V2/J^3 - i⋅V1⋅f^2/J^3⋅b1⋅a2⋅a5\n",
      "−i⋅V1^2⋅V2/J^3⋅b1⋅a2⋅b3⋅a4⋅a5⋅b5⋅a6\n",
      "−V1^2⋅f/J^3⋅b1⋅a2⋅b4⋅a5⋅a6\n",
      "+i⋅V1^3/J^3⋅b1⋅a2⋅b3⋅a4⋅b5⋅a6⋅a7\n",
      "−i⋅V1⋅f^2/J^3⋅b2⋅a3⋅a5\n",
      "−V1^2⋅f/J^3 + V1⋅V2⋅f/J^3⋅b1⋅a2⋅a4⋅b4⋅a5\n",
      "−i⋅V1^2⋅V2/(3⋅J^3) - i⋅V1⋅f^2/(3⋅J^3) + i⋅V2⋅f^2/(3⋅J^3)⋅a2⋅a3⋅b3\n",
      "+V1^2⋅f/(3⋅J^3) - 2⋅V1⋅V2⋅f/(3⋅J^3)⋅b1⋅a2⋅b2⋅a4⋅a5\n",
      "−V1^2⋅f/(3⋅J^3) - V1⋅V2⋅f/(3⋅J^3)⋅b1⋅a2⋅b2⋅b3⋅b4}"
     ]
    },
    {
     "name": "stdout",
     "output_type": "stream",
     "text": [
      "\n",
      "\n",
      "\n",
      "{−2⋅i⋅B1⋅f + 2⋅B4⋅V2 + 2⋅B8⋅V1 + 2⋅V1^2⋅V2⋅f/J^3 - 2⋅V1⋅f^3/J^3⋅a1⋅b1⋅b4\n",
      "+2⋅B2⋅V2⋅a1⋅b1⋅a2⋅b2⋅a4⋅b4⋅a5\n",
      "+2⋅B0⋅V1 + 2⋅i⋅B9⋅f⋅a1⋅a2⋅a3⋅b3⋅b4\n",
      "+2⋅B3⋅V1⋅a1⋅b1⋅a2⋅b2⋅a3⋅b3⋅b4\n",
      "+2⋅i⋅B6⋅f - 4⋅V1^3⋅f/(3⋅J^3) + 2⋅V1^2⋅V2⋅f/J^3 - 6⋅V1⋅V2^2⋅f/J^3 - 2⋅V1⋅f^3/(3⋅J^3) + 2⋅V2^3⋅f/J^3 + 8⋅V2⋅f^3/(3⋅J^3)⋅b1⋅b2⋅a3\n",
      "−2⋅B2⋅V2⋅a1⋅b1⋅a2⋅a3⋅b3⋅b4⋅a5\n",
      "+2⋅B5⋅V2⋅a1⋅a2⋅b2⋅a3⋅b3⋅a4⋅b4\n",
      "+2⋅i⋅B2⋅f - 2⋅i⋅B9⋅f⋅a1⋅b1⋅b2⋅a3⋅a4\n",
      "−2⋅i⋅B0⋅f + 2⋅B2⋅V1 + 2⋅B5⋅V1 - 2⋅B9⋅V2⋅a1⋅b1⋅a3\n",
      "−2⋅B1⋅V1 - 2⋅i⋅B8⋅f + 2⋅i⋅V1^2⋅f^2/J^3 - 2⋅i⋅V1⋅V2⋅f^2/J^3⋅a1⋅b1⋅a3⋅b3⋅b4\n",
      "+2⋅i⋅B1⋅f - 2⋅B3⋅V2 + 2⋅i⋅B6⋅f + 10⋅V1^2⋅V2⋅f/(3⋅J^3) - 2⋅V1⋅f^3/(3⋅J^3) + 2⋅V2⋅f^3/(3⋅J^3)⋅a1⋅b2⋅b3\n",
      "−2⋅i⋅B4⋅f⋅a1⋅b1⋅a3⋅a4⋅a5\n",
      "−2⋅B2⋅V2⋅a1⋅a3⋅b3\n",
      "−2⋅B4⋅V2 + 4⋅V1^2⋅V2⋅f/J^3⋅a1⋅a2⋅b3⋅a4⋅a5⋅b5⋅a6\n",
      "+2⋅i⋅B5⋅f⋅b1⋅a2⋅b3⋅a4⋅a5\n",
      "+2⋅i⋅B0⋅f⋅b1⋅a2⋅a4\n",
      "−2⋅B1⋅V1 + 2⋅i⋅V1^2⋅f^2/J^3⋅a1⋅b1⋅b4⋅a5⋅b5\n",
      "−2⋅B8⋅V1 - 2⋅V1^2⋅V2⋅f/J^3⋅a1⋅b1⋅a3⋅b3⋅b4⋅a5⋅b5\n",
      "+2⋅i⋅B5⋅f⋅a1⋅b2⋅b3⋅a4⋅a5\n",
      "+2⋅B3⋅V1 - 2⋅V1^3⋅f/J^3 + 10⋅V1^2⋅V2⋅f/(3⋅J^3) - 10⋅V1⋅V2^2⋅f/J^3 - 2⋅V1⋅f^3/(3⋅J^3) + 8⋅V2⋅f^3/(3⋅J^3)⋅b2⋅a3⋅b3\n",
      "−2⋅B2⋅V1 - 2⋅B5⋅V1⋅a1⋅b1⋅a2⋅b2⋅a3⋅a4⋅b4\n",
      "+2⋅B0⋅V1 + 2⋅i⋅B9⋅f⋅a1⋅b2⋅a3⋅b3⋅a4\n",
      "+2⋅B9⋅V2⋅a1⋅a2⋅b2\n",
      "+2⋅i⋅B9⋅f⋅b1⋅a2⋅a3⋅b3⋅a4\n",
      "+2⋅B3⋅V1⋅a1⋅b1⋅a2⋅b2⋅b4⋅a5⋅b5\n",
      "+2⋅B3⋅V1 + 2⋅i⋅B7⋅f - 2⋅B8⋅V2 - 2⋅V1^3⋅f/J^3 + 2⋅V1^2⋅V2⋅f/J^3 - 4⋅V1⋅V2^2⋅f/J^3⋅a1⋅b1⋅b2\n",
      "−2⋅B1⋅V1 + 2⋅i⋅B4⋅f - 10⋅i⋅V1^2⋅f^2/(3⋅J^3) + 2⋅i⋅V1⋅V2⋅f^2/(3⋅J^3)⋅a1⋅a2⋅a3⋅a4⋅b4\n",
      "+2⋅B1⋅V2 + 2⋅i⋅B4⋅f - 2⋅i⋅V1⋅V2⋅f^2/J^3⋅a1⋅b1⋅b3⋅b4⋅a5\n",
      "+2⋅B1⋅V2 - 2⋅i⋅V1^2⋅f^2/J^3 + 2⋅i⋅V1⋅V2⋅f^2/J^3⋅a1⋅a2⋅a4⋅b4⋅a5\n",
      "+2⋅i⋅B4⋅f⋅a1⋅b1⋅b3⋅a4⋅b5\n",
      "−2⋅B2⋅V1⋅b2⋅a3⋅a4\n",
      "+2⋅B8⋅V1 - 2⋅V1^2⋅V2⋅f/(3⋅J^3)⋅a1⋅a2⋅b2⋅b3⋅b4⋅a5⋅b5\n",
      "+2⋅B4⋅V2 - 2⋅V1^3⋅f/(3⋅J^3) - 8⋅V1^2⋅V2⋅f/(3⋅J^3)⋅a1⋅b1⋅b2⋅a3⋅b3⋅a4⋅b4\n",
      "−2⋅B3⋅V2⋅a1⋅b1⋅a2⋅b2⋅b3⋅b4⋅a5\n",
      "+2⋅i⋅B1⋅f - 4⋅V1^3⋅f/(3⋅J^3) + 4⋅V1^2⋅V2⋅f/J^3 - 8⋅V1⋅V2^2⋅f/J^3 - 2⋅V1⋅f^3/(3⋅J^3) + 8⋅V2⋅f^3/(3⋅J^3)⋅b1⋅a2⋅b3\n",
      "+2⋅i⋅B5⋅f⋅a1⋅a2⋅b3⋅a4⋅b5\n",
      "+2⋅B0⋅V2⋅a1⋅b1⋅a4⋅b4⋅a5\n",
      "−2⋅B0⋅V1 - 2⋅i⋅B5⋅f⋅a1⋅b1⋅a3⋅a4⋅b4\n",
      "−2⋅i⋅B1⋅f - 2⋅B4⋅V1 - 2⋅i⋅B6⋅f - 2⋅B8⋅V2 + 2⋅V1^3⋅f/J^3 + 4⋅V1⋅V2^2⋅f/J^3 - 2⋅V2⋅f^3/J^3⋅a1⋅a2⋅a3\n",
      "+2⋅B9⋅V1⋅a2⋅b3⋅a4\n",
      "−2⋅B5⋅V2⋅a1⋅a2⋅b3⋅a4⋅b4⋅b5⋅a6\n",
      "+2⋅B5⋅V1⋅a1⋅a2⋅b3⋅a4⋅b5⋅a6⋅b6\n",
      "−2⋅B0⋅V1 - 2⋅i⋅B2⋅f⋅a1⋅b1⋅a2⋅b2⋅a3\n",
      "+2⋅B4⋅V2 + 2⋅V1^3⋅f/(3⋅J^3) - 4⋅V1^2⋅V2⋅f/(3⋅J^3)⋅a1⋅a2⋅b2⋅a3⋅b3⋅a4⋅a5\n",
      "+2⋅B9⋅V1⋅a1⋅a2⋅a3⋅b3⋅b4⋅a5⋅b5\n",
      "−2⋅B7⋅V1 - 2⋅i⋅V1^3⋅V2/(3⋅J^3) - 2⋅i⋅V1^2⋅f^2/(3⋅J^3) + 8⋅i⋅V1⋅V2^3/J^3 + 14⋅i⋅V1⋅V2⋅f^2/(3⋅J^3) - 6⋅i⋅V2^2⋅f^2/J^3⋅b2\n",
      "+2⋅i⋅B0⋅f + 2⋅B5⋅V2 - 2⋅B9⋅V1⋅a1⋅a2⋅b4\n",
      "−2⋅B8⋅V1 + 10⋅V1^2⋅V2⋅f/(3⋅J^3) - 2⋅V1⋅V2^2⋅f/J^3 + 4⋅V1⋅f^3/(3⋅J^3) - 4⋅V2⋅f^3/(3⋅J^3)⋅b1⋅b3⋅a4\n",
      "−2⋅B0⋅V2 + 2⋅i⋅B5⋅f⋅a1⋅a2⋅b3⋅b4⋅a5\n",
      "−2⋅B3⋅V2 + 4⋅V1^2⋅V2⋅f/J^3⋅a1⋅b1⋅a2⋅a3⋅a4⋅b4⋅a5\n",
      "−2⋅B3⋅V2 + 2⋅B8⋅V1 - 4⋅V1^2⋅V2⋅f/(3⋅J^3) - 4⋅V1⋅f^3/(3⋅J^3) + 4⋅V2⋅f^3/(3⋅J^3)⋅a1⋅a3⋅a4\n",
      "−2⋅i⋅B5⋅f⋅a1⋅a2⋅a3⋅a4⋅a5\n",
      "−2⋅B5⋅V2⋅a1⋅b1⋅a5\n",
      "−2⋅i⋅B3⋅f + 2⋅B7⋅V1 + 2⋅i⋅V1^3⋅V2/(3⋅J^3) + 8⋅i⋅V1^2⋅f^2/(3⋅J^3) - 8⋅i⋅V1⋅V2⋅f^2/(3⋅J^3)⋅a1⋅b1⋅b2⋅a3⋅b3\n",
      "+2⋅i⋅B3⋅f⋅a1⋅b1⋅a2⋅b2⋅b4\n",
      "+2⋅B9⋅V1⋅a1⋅b1⋅b2⋅b3⋅b4⋅a5⋅b5\n",
      "+2⋅B0⋅V1⋅a1⋅a2⋅b4⋅a5⋅b5\n",
      "+2⋅i⋅B2⋅f⋅a1⋅b1⋅a2⋅a3⋅b4\n",
      "+2⋅i⋅B9⋅f⋅a1⋅b1⋅b2⋅b3⋅b4\n",
      "−2⋅B4⋅V1⋅a1⋅b1⋅a2⋅b2⋅a3⋅a4⋅a5\n",
      "+2⋅i⋅B8⋅f - 2⋅i⋅V1^2⋅f^2/J^3 - 8⋅i⋅V1⋅V2^3/J^3 - 10⋅i⋅V1⋅V2⋅f^2/(3⋅J^3) + 4⋅i⋅V2^2⋅f^2/J^3⋅b1⋅a2⋅b2⋅b3⋅a4\n",
      "−2⋅i⋅B4⋅f + 10⋅i⋅V1^2⋅V2^2/J^3 + 14⋅i⋅V1^2⋅f^2/(3⋅J^3) - 16⋅i⋅V1⋅V2⋅f^2/(3⋅J^3)⋅b1⋅a2⋅b3⋅a4⋅b4\n",
      "−2⋅B4⋅V2⋅a1⋅b1⋅b3⋅a4⋅b4⋅b5⋅a6\n",
      "+2⋅B4⋅V1⋅a1⋅b1⋅b3⋅a4⋅b5⋅a6⋅b6\n",
      "−2⋅i⋅B4⋅f + 2⋅B6⋅V1 + 10⋅i⋅V1^2⋅f^2/(3⋅J^3) - 2⋅i⋅V1⋅V2⋅f^2/(3⋅J^3)⋅a1⋅b2⋅b3⋅a4⋅b4\n",
      "+2⋅i⋅B2⋅f - 2⋅i⋅B9⋅f⋅a1⋅b1⋅a2⋅b3⋅a4\n",
      "−2⋅i⋅B8⋅f - 2⋅i⋅V1^3⋅V2/(3⋅J^3) + 4⋅i⋅V1^2⋅f^2/(3⋅J^3) + 8⋅i⋅V1⋅V2⋅f^2/(3⋅J^3)⋅a1⋅a2⋅b2⋅a3⋅a4\n",
      "+2⋅B4⋅V2 - 6⋅V1^2⋅V2⋅f/J^3 + 2⋅V1⋅f^3/J^3⋅a1⋅a2⋅a5\n",
      "+2⋅i⋅B8⋅f - 2⋅i⋅V1^2⋅f^2/(3⋅J^3) - 2⋅i⋅V1⋅V2⋅f^2/(3⋅J^3)⋅a1⋅a2⋅b2⋅b3⋅b4\n",
      "+2⋅i⋅B0⋅f + 2⋅B2⋅V2 - 2⋅B9⋅V1⋅a1⋅b2⋅a4\n",
      "−2⋅B5⋅V2⋅a1⋅b1⋅b2⋅a3⋅b3⋅a4⋅a5\n",
      "+2⋅B5⋅V2⋅a1⋅b1⋅b3⋅a4⋅a5⋅b5⋅a6\n",
      "+2⋅B2⋅V1⋅a1⋅b1⋅a2⋅a3⋅b4⋅a5⋅b5\n",
      "+2⋅A1⋅V1 - 2⋅i⋅V1^2⋅f/J^2⋅a1⋅b1⋅a2⋅b2⋅b3\n",
      "+2⋅A1⋅V1 - 2⋅i⋅V1^2⋅f/J^2⋅a1⋅b1⋅b3⋅a4⋅b4\n",
      "−2⋅A1⋅V2 + 2⋅i⋅V1⋅V2⋅f/J^2⋅a1⋅a2⋅a3⋅b3⋅a4\n",
      "+2⋅i⋅A0⋅f⋅a1⋅b2⋅a3\n",
      "+2⋅A1⋅V1 - 2⋅i⋅V1^2⋅f/J^2⋅b1\n",
      "−2⋅i⋅A0⋅f⋅a1⋅b1⋅a2\n",
      "−2⋅A0⋅V2⋅a1⋅a2⋅b2⋅b3⋅a4\n",
      "+2⋅A0⋅V2⋅a1⋅b1⋅a3⋅b3⋅a4\n",
      "−2⋅A1⋅V2 + 2⋅i⋅V1⋅V2⋅f/J^2⋅a1⋅b1⋅b2⋅b3⋅a4\n",
      "+2⋅i⋅A1⋅f + 2⋅V1⋅f^2/J^2⋅a1⋅b1⋅b3\n",
      "+2⋅i⋅A0⋅f⋅b1⋅a2⋅a3\n",
      "−2⋅A0⋅V1⋅a1⋅b1⋅a2⋅a3⋅b3\n",
      "+2⋅A0⋅V1⋅a1⋅a2⋅b3⋅a4⋅b4\n",
      "+2⋅i⋅A0⋅f⋅a1⋅a2⋅b3\n",
      "−2⋅i⋅A1⋅f - 2⋅V1⋅f^2/J^2⋅b1⋅a2⋅b2\n",
      "+2⋅A0⋅V1⋅a2\n",
      "+2⋅i⋅V1^3⋅V2/(3⋅J^3)⋅b1⋅a2⋅a3⋅b3⋅b4⋅a5⋅b6⋅a7⋅b7\n",
      "+2⋅V1^2⋅V2⋅f/(3⋅J^3)⋅a1⋅a2⋅a3⋅b3⋅b4⋅a5⋅a6\n",
      "−4⋅i⋅V1^3⋅V2/(3⋅J^3) + 10⋅i⋅V1^2⋅f^2/(3⋅J^3) - 2⋅i⋅V1⋅V2⋅f^2/J^3⋅b1⋅b2⋅a3⋅a4⋅b4\n",
      "+4⋅V1^3⋅f/(3⋅J^3) - 2⋅V1^2⋅V2⋅f/(3⋅J^3)⋅a2⋅b2⋅b3⋅a4⋅b5⋅a6⋅b6\n",
      "+2⋅i⋅V1^2⋅f^2/J^3 - 2⋅i⋅V1⋅V2⋅f^2/J^3⋅b2⋅a3⋅b4⋅b5⋅a6\n",
      "+2⋅V1^3⋅f/J^3⋅b1⋅a2⋅b3⋅a4⋅b6⋅a7⋅b7\n",
      "+2⋅V1^3⋅f/J^3 - 2⋅V1^2⋅V2⋅f/J^3⋅b1⋅a2⋅b3⋅a4⋅a5⋅b5⋅b6\n",
      "+4⋅i⋅V1^2⋅f^2/(3⋅J^3) - 2⋅i⋅V1⋅V2⋅f^2/(3⋅J^3)⋅a2⋅b2⋅b3⋅a4⋅b5\n",
      "+2⋅V1^3⋅f/(3⋅J^3) + 2⋅V1^2⋅V2⋅f/(3⋅J^3)⋅a1⋅b3⋅b4\n",
      "−4⋅V1^2⋅V2⋅f/(3⋅J^3) + 2⋅V1⋅V2^2⋅f/(3⋅J^3)⋅a2⋅b2⋅b3⋅a4⋅b4⋅b5⋅a6\n",
      "−2⋅V1^3⋅f/J^3⋅b1⋅a2⋅a3⋅a4⋅b5⋅a6⋅a7\n",
      "−4⋅V1^2⋅V2⋅f/(3⋅J^3)⋅a1⋅a2⋅b2⋅a4⋅b4⋅a5⋅a6\n",
      "+2⋅V1^3⋅f/J^3 - 2⋅V1^2⋅V2⋅f/J^3⋅b1⋅a2⋅b3⋅b4⋅a5⋅b5⋅a6\n",
      "−4⋅i⋅V1^2⋅f^2/(3⋅J^3) + 4⋅i⋅V1⋅V2⋅f^2/(3⋅J^3)⋅b1⋅a3⋅b4⋅a5⋅b5\n",
      "+14⋅i⋅V1^2⋅V2^2/(3⋅J^3) + 2⋅i⋅V1^2⋅f^2/J^3 - 2⋅i⋅V1⋅V2⋅f^2/J^3⋅a3⋅b3⋅b4⋅a5⋅b5\n",
      "−2⋅V1^3⋅f/J^3⋅a1⋅a2⋅b3⋅a4⋅b5⋅a6⋅a7\n",
      "+2⋅V1^3⋅f/J^3 - 2⋅V1^2⋅V2⋅f/J^3⋅a2⋅b2⋅a3⋅b3⋅b4⋅a5⋅b5\n",
      "+2⋅i⋅V1^2⋅V2^2/(3⋅J^3) + 2⋅i⋅V1^2⋅f^2/J^3⋅b2⋅b3⋅b4⋅a5⋅a6\n",
      "+2⋅i⋅V1^2⋅f^2/J^3⋅b1⋅a2⋅b4⋅a5⋅b6\n",
      "−2⋅i⋅V1^3⋅V2/(3⋅J^3)⋅b1⋅a2⋅b3⋅a5⋅b5\n",
      "−2⋅i⋅V1^2⋅f^2/J^3⋅a1⋅a2⋅b3⋅a4⋅a6\n",
      "−4⋅i⋅V1^3⋅V2/J^3 + 10⋅i⋅V1^2⋅f^2/(3⋅J^3) - 2⋅i⋅V1⋅V2⋅f^2/(3⋅J^3)⋅b1⋅b2⋅a3⋅b3⋅a5\n",
      "+2⋅V1^3⋅f/(3⋅J^3) - 4⋅V1^2⋅V2⋅f/(3⋅J^3)⋅b1⋅b4⋅a5\n",
      "+4⋅i⋅V1^2⋅V2^2/(3⋅J^3) + 2⋅i⋅V1^2⋅f^2/J^3 - 8⋅i⋅V1⋅V2⋅f^2/(3⋅J^3) + 2⋅i⋅V2^2⋅f^2/(3⋅J^3)⋅b1⋅b2⋅a4⋅b4⋅a5\n",
      "+2⋅i⋅V1^2⋅V2^2/(3⋅J^3)⋅b1⋅a2⋅a3⋅a4⋅b4⋅a5⋅a6⋅b6⋅a7\n",
      "+2⋅V1^3⋅f/J^3⋅b1⋅a2⋅b3⋅a4⋅b5⋅a6⋅b7\n",
      "+2⋅i⋅V1^2⋅f^2/(3⋅J^3) - 4⋅i⋅V1⋅V2⋅f^2/(3⋅J^3)⋅a1⋅a3⋅b3⋅a4⋅a5\n",
      "−2⋅i⋅V1^3⋅V2/(3⋅J^3)⋅a1⋅b3⋅b4⋅a5⋅b5\n",
      "−2⋅V1^2⋅V2⋅f/J^3⋅b2⋅a3⋅b4⋅a5⋅b5⋅b6⋅a7\n",
      "+4⋅i⋅V1^2⋅V2^2/(3⋅J^3)⋅a3⋅a4⋅b4⋅a5⋅a6\n",
      "−2⋅V1^3⋅f/(3⋅J^3) + 4⋅V1^2⋅V2⋅f/(3⋅J^3)⋅b1⋅a2⋅b2⋅a4⋅b5⋅a6⋅b6\n",
      "+2⋅V1^3⋅f/J^3⋅b2⋅a3⋅b4⋅a5⋅b6⋅a7⋅b7\n",
      "−4⋅i⋅V1^3⋅V2/J^3 + 2⋅i⋅V1^2⋅f^2/J^3⋅b1⋅a2⋅b5⋅a6⋅b6\n",
      "−2⋅V1^3⋅f/J^3 + 4⋅V1^2⋅V2⋅f/J^3 - 4⋅V1⋅V2^2⋅f/(3⋅J^3) - 8⋅V1⋅f^3/(3⋅J^3) + 2⋅V2⋅f^3/(3⋅J^3)⋅a2⋅b2⋅b4\n",
      "+2⋅V1^3⋅f/J^3 - 2⋅V1^2⋅V2⋅f/J^3⋅b1⋅b2⋅a3⋅b3⋅a4⋅b4⋅a5\n",
      "+2⋅V1^2⋅V2⋅f/(3⋅J^3)⋅a1⋅a2⋅a3⋅a4⋅b4⋅a5⋅b5\n",
      "+10⋅V1^2⋅V2⋅f/(3⋅J^3) - 2⋅V1⋅V2^2⋅f/(3⋅J^3)⋅b1⋅a2⋅a3⋅a4⋅a5⋅b5⋅a6\n",
      "+4⋅V1^2⋅V2⋅f/(3⋅J^3)⋅b1⋅a2⋅b2⋅a4⋅b4⋅a5⋅b6\n",
      "−4⋅i⋅V1^3⋅V2/(3⋅J^3) + 8⋅i⋅V1^2⋅f^2/(3⋅J^3) - 2⋅i⋅V1⋅V2⋅f^2/(3⋅J^3)⋅a2⋅b2⋅b4⋅a5⋅b5\n",
      "+2⋅V1^3⋅f/J^3 - 2⋅V1^2⋅V2⋅f/J^3⋅b1⋅a2⋅b3⋅a4⋅b5⋅b6⋅a7\n",
      "+10⋅V1^2⋅V2⋅f/(3⋅J^3) - 2⋅V1⋅V2^2⋅f/(3⋅J^3) - 2⋅V1⋅f^3/J^3⋅b2⋅b3⋅a5\n",
      "+2⋅V1^3⋅f/(3⋅J^3) + 2⋅V1^2⋅V2⋅f/(3⋅J^3) + 2⋅V1⋅V2^2⋅f/(3⋅J^3) + 4⋅V1⋅f^3/(3⋅J^3) - 4⋅V2⋅f^3/(3⋅J^3)⋅b1⋅a3⋅b4\n",
      "−8⋅V1^2⋅V2⋅f/(3⋅J^3)⋅b1⋅a2⋅b2⋅a3⋅b4⋅a5⋅b5\n",
      "−2⋅i⋅V1^2⋅V2^2/(3⋅J^3) - 2⋅i⋅V1^2⋅f^2/(3⋅J^3) + 4⋅i⋅V1⋅V2⋅f^2/(3⋅J^3)⋅b1⋅a2⋅b2⋅a4⋅b5\n",
      "−8⋅V1^2⋅V2⋅f/(3⋅J^3)⋅b1⋅a2⋅b3⋅a4⋅b4⋅a5⋅b5\n",
      "−2⋅i⋅V1^2⋅f^2/(3⋅J^3) + 4⋅i⋅V1⋅V2⋅f^2/(3⋅J^3)⋅b1⋅a3⋅b3⋅a4⋅b5\n",
      "−2⋅V1^2⋅V2⋅f/(3⋅J^3)⋅b1⋅b2⋅a3⋅a4⋅b4⋅a5⋅b5\n",
      "+6⋅i⋅V1^2⋅V2^2/J^3 + 2⋅i⋅V1^2⋅f^2/J^3 - 2⋅i⋅V1⋅V2⋅f^2/J^3⋅b1⋅a2⋅b4⋅b5⋅a6\n",
      "−4⋅i⋅V1^3⋅V2/(3⋅J^3)⋅a1⋅a4⋅b4⋅a5⋅a6\n",
      "+4⋅V1^2⋅V2⋅f/J^3 - 8⋅V1⋅V2^2⋅f/J^3 - 2⋅V1⋅f^3/J^3 + 2⋅V2⋅f^3/J^3⋅b3⋅b4⋅a5\n",
      "+2⋅V1^2⋅V2⋅f/(3⋅J^3) - 4⋅V1⋅V2^2⋅f/(3⋅J^3)⋅b1⋅a3⋅b3⋅a4⋅b4⋅b5⋅a6\n",
      "−2⋅V1^3⋅f/J^3 + 8⋅V1^2⋅V2⋅f/J^3 - 2⋅V1⋅f^3/J^3⋅b1⋅a2⋅b5\n",
      "+4⋅i⋅V1^2⋅V2^2/(3⋅J^3) + 4⋅i⋅V1^2⋅f^2/(3⋅J^3) - 2⋅i⋅V1⋅V2⋅f^2/(3⋅J^3)⋅b1⋅a2⋅a3⋅b3⋅b5\n",
      "+2⋅V1^2⋅V2⋅f/J^3 - 4⋅V1⋅V2^2⋅f/(3⋅J^3)⋅b1⋅a2⋅b2⋅a4⋅b4⋅b5⋅a6\n",
      "+2⋅i⋅V1^3⋅V2/J^3⋅b1⋅a2⋅b3⋅a4⋅a5⋅b5⋅b6⋅a7⋅b7\n",
      "−2⋅i⋅V1^2⋅V2^2/(3⋅J^3)⋅b1⋅a2⋅b2⋅b3⋅a6\n",
      "+2⋅V1^3⋅f/J^3 - 2⋅V1^2⋅V2⋅f/J^3⋅b1⋅a2⋅a4⋅b4⋅b5⋅a6⋅b6\n",
      "+4⋅V1^3⋅f/(3⋅J^3) - 2⋅V1^2⋅V2⋅f/(3⋅J^3)⋅b1⋅a2⋅a3⋅b3⋅b5⋅a6⋅b6\n",
      "−2⋅i⋅V1^2⋅f^2/J^3⋅a1⋅a2⋅b4⋅a5⋅a6\n",
      "+2⋅V1^3⋅f/J^3⋅b1⋅a2⋅b4⋅a5⋅b6⋅a7⋅b7\n",
      "+2⋅i⋅V1^2⋅V2^2/(3⋅J^3)⋅b2⋅a4⋅b4⋅a5⋅b5\n",
      "−2⋅i⋅V1^2⋅f^2/J^3⋅a2⋅a3⋅b4⋅a5⋅a6\n",
      "−10⋅V1^2⋅V2⋅f/(3⋅J^3) + 2⋅V1⋅V2^2⋅f/(3⋅J^3)⋅b1⋅b2⋅b3⋅a4⋅a5⋅b5⋅a6\n",
      "+4⋅i⋅V1^3⋅V2/(3⋅J^3)⋅b1⋅a2⋅b2⋅b5⋅a6\n",
      "−4⋅i⋅V1^3⋅V2/(3⋅J^3)⋅b1⋅a2⋅b2⋅a4⋅b4⋅a5⋅b6⋅a7⋅b7\n",
      "−2⋅V1^3⋅f/(3⋅J^3) + 4⋅V1^2⋅V2⋅f/(3⋅J^3)⋅a1⋅a4⋅a5\n",
      "−2⋅V1^2⋅V2⋅f/J^3⋅b2⋅a3⋅a4⋅b4⋅b5⋅a6⋅b6\n",
      "−2⋅V1^3⋅f/(3⋅J^3) - 2⋅V1^2⋅V2⋅f/(3⋅J^3) + 4⋅V1⋅V2^2⋅f/J^3⋅b1⋅a2⋅b2⋅a3⋅b3⋅b4⋅a5\n",
      "−4⋅V1^3⋅f/(3⋅J^3) + 16⋅V1^2⋅V2⋅f/(3⋅J^3) + 2⋅V1⋅V2^2⋅f/(3⋅J^3) - 2⋅V1⋅f^3/J^3⋅b1⋅b2⋅a5\n",
      "−4⋅i⋅V1^2⋅V2^2/(3⋅J^3) - 2⋅i⋅V1^2⋅f^2/J^3⋅b1⋅a2⋅a3⋅a4⋅a6\n",
      "+2⋅V1^3⋅f/J^3⋅b1⋅a2⋅b3⋅b4⋅b5⋅a6⋅a7\n",
      "−2⋅V1^3⋅f/J^3 + 6⋅V1^2⋅V2⋅f/J^3 - 2⋅V1⋅f^3/J^3⋅b4⋅a5⋅b5\n",
      "+4⋅V1^3⋅f/(3⋅J^3) - 2⋅V1^2⋅V2⋅f/J^3 - 4⋅V1⋅V2^2⋅f/(3⋅J^3) + 2⋅V1⋅f^3/J^3⋅a3⋅a4⋅a5\n",
      "−2⋅V1^2⋅V2⋅f/(3⋅J^3)⋅b1⋅a2⋅a3⋅b3⋅b4⋅a5⋅b6\n",
      "−2⋅V1^3⋅f/J^3 + 2⋅V1^2⋅V2⋅f/(3⋅J^3)⋅b1⋅a2⋅a3⋅b3⋅a4⋅a5⋅a6\n",
      "+2⋅i⋅V1^2⋅f^2/J^3⋅b1⋅b2⋅b3⋅a4⋅a6\n",
      "+2⋅V1^3⋅f/J^3⋅b1⋅b2⋅b3⋅a4⋅b5⋅a6⋅a7\n",
      "+2⋅i⋅V1^2⋅f^2/J^3⋅b2⋅a3⋅b4⋅a5⋅b6\n",
      "−2⋅V1^3⋅f/J^3 + 16⋅V1^2⋅V2⋅f/(3⋅J^3) - 14⋅V1⋅V2^2⋅f/(3⋅J^3) - 4⋅V1⋅f^3/J^3 + 2⋅V2⋅f^3/J^3⋅a3⋅b3⋅b4\n",
      "+2⋅V1^2⋅V2⋅f/(3⋅J^3) + 2⋅V1⋅V2^2⋅f/(3⋅J^3)⋅b1⋅a2⋅b2⋅b3⋅a5⋅b5⋅a6\n",
      "+2⋅V1^3⋅f/(3⋅J^3) + 2⋅V1^2⋅V2⋅f/J^3 - 2⋅V1⋅V2^2⋅f/(3⋅J^3)⋅b2⋅a4⋅b4\n",
      "−2⋅V1^3⋅f/(3⋅J^3) - 4⋅V1^2⋅V2⋅f/(3⋅J^3)⋅b1⋅a2⋅b2⋅b3⋅a4⋅a5⋅b5\n",
      "−2⋅i⋅V1^2⋅V2^2/(3⋅J^3)⋅b1⋅a2⋅b2⋅b3⋅b4⋅a5⋅a6⋅b6⋅a7\n",
      "+2⋅V1^2⋅V2⋅f/J^3 - 2⋅V1⋅f^3/J^3⋅b3⋅a4⋅b5\n",
      "−2⋅V1^2⋅V2⋅f/(3⋅J^3) + 4⋅V1⋅V2^2⋅f/(3⋅J^3) + 2⋅V1⋅f^3/J^3⋅a2⋅a3⋅a5\n",
      "−4⋅i⋅V1^2⋅f^2/(3⋅J^3) + 2⋅i⋅V1⋅V2⋅f^2/(3⋅J^3)⋅a1⋅a2⋅a3⋅b3⋅a5\n",
      "−2⋅i⋅V1^3⋅V2/J^3 + 2⋅i⋅V1^2⋅f^2/J^3⋅b1⋅a2⋅b3⋅b4⋅a6\n",
      "+2⋅i⋅V1^2⋅f^2/J^3 - 2⋅i⋅V1⋅V2⋅f^2/J^3⋅b2⋅a3⋅a4⋅b4⋅b5\n",
      "−2⋅i⋅V1^4/J^3⋅b1⋅a2⋅b3⋅a4⋅b5⋅a6⋅b7⋅a8⋅b8\n",
      "−2⋅V1^2⋅V2⋅f/J^3⋅b1⋅a2⋅b4⋅a5⋅b5⋅b6⋅a7\n",
      "−2⋅V1^2⋅V2⋅f/J^3 + 2⋅V1⋅V2^2⋅f/(3⋅J^3)⋅b1⋅a2⋅a3⋅b3⋅b4⋅b5⋅a6\n",
      "−2⋅i⋅V1^2⋅f^2/(3⋅J^3) - 8⋅i⋅V1⋅V2⋅f^2/(3⋅J^3)⋅b2⋅a3⋅b3⋅a4⋅b4\n",
      "+2⋅i⋅V1^3⋅V2/J^3⋅b1⋅a2⋅b3⋅a4⋅b5⋅a6⋅b6⋅b7⋅a8\n",
      "−2⋅i⋅V1^2⋅f^2/(3⋅J^3) - 8⋅i⋅V1⋅V2⋅f^2/(3⋅J^3)⋅b1⋅a2⋅b2⋅a3⋅b4\n",
      "−2⋅i⋅V1^2⋅V2^2/(3⋅J^3)⋅b1⋅a2⋅a3⋅b3⋅b4⋅a5⋅b5⋅b6⋅a7\n",
      "+2⋅i⋅V1^2⋅V2^2/J^3 - 2⋅i⋅V1⋅V2⋅f^2/J^3⋅b3⋅a4⋅b4⋅b5⋅a6\n",
      "−2⋅i⋅V1^3⋅V2/J^3 + 2⋅i⋅V1^2⋅f^2/J^3⋅b3⋅a4⋅b5⋅a6⋅b6\n",
      "−2⋅i⋅V1^3⋅V2/(3⋅J^3) + 2⋅i⋅V1^2⋅f^2/J^3⋅b1⋅b2⋅b4⋅a5⋅a6\n",
      "+2⋅i⋅V1^2⋅f^2/(3⋅J^3) - 4⋅i⋅V1⋅V2⋅f^2/(3⋅J^3)⋅a1⋅a2⋅b2⋅a4⋅a5\n",
      "−4⋅i⋅V1^3⋅V2/J^3 + 4⋅i⋅V1^2⋅f^2/J^3 - 2⋅i⋅V1⋅V2⋅f^2/J^3⋅b1⋅a2⋅a4⋅b4⋅b5\n",
      "−2⋅V1^3⋅f/(3⋅J^3) + 4⋅V1^2⋅V2⋅f/(3⋅J^3)⋅b1⋅a3⋅b3⋅a4⋅b5⋅a6⋅b6\n",
      "+2⋅i⋅V1^3⋅V2/(3⋅J^3) - 2⋅i⋅V1^2⋅f^2/J^3⋅b1⋅a2⋅a4⋅a5⋅a6\n",
      "−4⋅i⋅V1^3⋅V2/J^3 + 2⋅i⋅V1^2⋅f^2/J^3⋅b1⋅a2⋅b3⋅a4⋅b6\n",
      "+4⋅i⋅V1^2⋅V2^2/(3⋅J^3)⋅b1⋅a2⋅b2⋅a4⋅b4⋅a5⋅b5⋅b6⋅a7\n",
      "+4⋅V1^2⋅V2⋅f/J^3 - 2⋅V1⋅f^3/J^3⋅b2⋅a3⋅b5\n",
      "+2⋅i⋅V1^2⋅V2^2/(3⋅J^3) + 8⋅i⋅V1⋅V2⋅f^2/(3⋅J^3) - 2⋅i⋅V2^2⋅f^2/(3⋅J^3)⋅a2⋅a3⋅a4⋅b4⋅a5\n",
      "+2⋅i⋅V1^2⋅f^2/J^3⋅b2⋅a3⋅b5⋅a6⋅b6\n",
      "−4⋅i⋅V1^3⋅V2/(3⋅J^3) + 14⋅i⋅V1^2⋅f^2/(3⋅J^3) - 8⋅i⋅V1⋅V2⋅f^2/(3⋅J^3)⋅a2⋅b2⋅a3⋅b3⋅b4\n",
      "−2⋅i⋅V1^2⋅f^2/J^3⋅b2⋅a3⋅a4⋅a5⋅a6\n",
      "−6⋅i⋅V1^2⋅V2^2/J^3 - 4⋅i⋅V1^2⋅f^2/J^3 + 10⋅i⋅V1⋅V2⋅f^2/J^3 - 2⋅i⋅f^4/J^3⋅b4\n",
      "+4⋅i⋅V1^2⋅V2^2/(3⋅J^3) + 4⋅i⋅V1^2⋅f^2/(3⋅J^3) - 10⋅i⋅V1⋅V2⋅f^2/(3⋅J^3) + 2⋅i⋅V2^2⋅f^2/(3⋅J^3)⋅a2⋅b2⋅b3⋅b4⋅a5\n",
      "+4⋅V1^3⋅f/(3⋅J^3) - 2⋅V1^2⋅V2⋅f/(3⋅J^3)⋅b1⋅a2⋅a3⋅b3⋅a4⋅b4⋅b5\n",
      "−2⋅i⋅V1^2⋅V2^2/(3⋅J^3) - 2⋅i⋅V1^2⋅f^2/(3⋅J^3) + 8⋅i⋅V1⋅V2⋅f^2/(3⋅J^3) - 4⋅i⋅V2^2⋅f^2/(3⋅J^3)⋅b1⋅a3⋅b3⋅b4⋅a5\n",
      "−2⋅i⋅V1^2⋅f^2/(3⋅J^3) + 4⋅i⋅V1⋅V2⋅f^2/(3⋅J^3)⋅b1⋅a2⋅b2⋅b4⋅a5\n",
      "−2⋅V1^3⋅f/J^3⋅a1⋅b1⋅a2⋅a3⋅b4⋅a5⋅a6\n",
      "+2⋅V1^3⋅f/J^3 - 2⋅V1^2⋅V2⋅f/(3⋅J^3)⋅b1⋅b2⋅a3⋅b3⋅b4⋅a5⋅a6\n",
      "−2⋅V1^3⋅f/J^3⋅b1⋅a2⋅b3⋅a4⋅a5⋅a6⋅a7\n",
      "−2⋅i⋅V1^2⋅f^2/J^3⋅a1⋅b1⋅a2⋅a3⋅a5\n",
      "+2⋅i⋅V1^3⋅V2/J^3 - 10⋅i⋅V1^2⋅f^2/(3⋅J^3) + 2⋅i⋅V1⋅V2⋅f^2/(3⋅J^3)⋅a2⋅b2⋅a3⋅a4⋅a5\n",
      "+2⋅i⋅V1^2⋅f^2/J^3 - 2⋅i⋅V1⋅V2⋅f^2/J^3⋅b2⋅b3⋅a4⋅b4⋅a5\n",
      "−2⋅V1^2⋅V2⋅f/(3⋅J^3) - 2⋅V1⋅V2^2⋅f/(3⋅J^3)⋅a2⋅a3⋅b3⋅a4⋅a5⋅b5⋅a6}"
     ]
    },
    {
     "name": "stdout",
     "output_type": "stream",
     "text": [
      "\n"
     ]
    }
   ],
   "source": [
    "subspace, matrixrows = sparse_find_subspace(c(H, psi), Jpart)\n",
    "print_subspace(subspace)\n",
    "cvector = build_vector_to_cancel(c(H, psi), subspace)\n",
    "subs_rules = {}\n",
    "psi3 = sparse_solve_for_commuting_term(cvector, psi, 3, orders, matrixrows, subspace, norm= False, fvarname = 'B', iofvars=iofvars, subs_rules = subs_rules)\n",
    "p(psi3)\n",
    "print('\\n')\n",
    "p(c(H,psi+psi3))"
   ]
  },
  {
   "cell_type": "code",
   "execution_count": 9,
   "metadata": {
    "autoscroll": "json-false",
    "collapsed": false,
    "ein.tags": [
     "worksheet-0"
    ]
   },
   "outputs": [],
   "source": [
    "orders.update(zip(iofvars,[3]*len(iofvars)))\n",
    "p.orders = orders"
   ]
  },
  {
   "cell_type": "code",
   "execution_count": 10,
   "metadata": {
    "autoscroll": "json-false",
    "collapsed": false,
    "ein.tags": [
     "worksheet-0"
    ]
   },
   "outputs": [],
   "source": [
    "psi = substitute_group(psi,subs_rules, split_orders = split_orders)\n",
    "psi += psi3"
   ]
  },
  {
   "cell_type": "code",
   "execution_count": 11,
   "metadata": {
    "autoscroll": "json-false",
    "collapsed": false,
    "ein.tags": [
     "worksheet-0"
    ]
   },
   "outputs": [],
   "source": [
    "    psi += N(-I*V1**2*V2/(J**3), 'a1 b3 a4')"
   ]
  },
  {
   "cell_type": "code",
   "execution_count": 14,
   "metadata": {
    "autoscroll": "json-false",
    "collapsed": false,
    "ein.tags": [
     "worksheet-0"
    ]
   },
   "outputs": [
    {
     "name": "stdout",
     "output_type": "stream",
     "text": [
      "1/10\r",
      "2/10\r",
      "3/10\r",
      "4/10\r",
      "5/10\r",
      "6/10\r",
      "7/10"
     ]
    },
    {
     "name": "stdout",
     "output_type": "stream",
     "text": [
      "\r",
      "8/10\r",
      "9/10\r",
      "10/10"
     ]
    },
    {
     "name": "stdout",
     "output_type": "stream",
     "text": [
      "\r"
     ]
    },
    {
     "data": {
      "text/plain": [
       "{B1: 0,\n",
       " B4: V1**2*f/J**3,\n",
       " B6: I*f**2*(-V1 + V2)/J**3,\n",
       " B5: 0,\n",
       " B7: I*V1*(V1*V2 - f**2)/J**3,\n",
       " B2: 0,\n",
       " B3: V1**2*f/J**3,\n",
       " B0: 0,\n",
       " B8: 0,\n",
       " B9: 0}"
      ]
     },
     "execution_count": 14,
     "metadata": {},
     "output_type": "execute_result"
    }
   ],
   "source": [
    "    normdict = check_normalisable(psi, iofvars, 3, orders, split_orders, update_splits=True)\n",
    "    normdict"
   ]
  },
  {
   "cell_type": "code",
   "execution_count": 18,
   "metadata": {
    "autoscroll": "json-false",
    "collapsed": false,
    "ein.tags": [
     "worksheet-0"
    ]
   },
   "outputs": [
    {
     "name": "stdout",
     "output_type": "stream",
     "text": [
      "{−2⋅B9⋅a2⋅a3⋅b3⋅a4\n",
      "−2⋅B0⋅a2⋅a4\n",
      "−2⋅B2⋅b1⋅a2⋅b2⋅b3\n",
      "+2⋅B8⋅b1⋅a3⋅b3⋅a4\n",
      "−2⋅B4 + 2⋅V1^2⋅f/J^3⋅b1⋅b3⋅a4⋅a5\n",
      "−2⋅B2⋅b1⋅a2⋅a3⋅a4\n",
      "−2⋅B1⋅a2⋅b3\n",
      "−2⋅B0⋅b1⋅b3\n",
      "−2⋅B6 - 2⋅i⋅V1⋅f^2/J^3 + 2⋅i⋅V2⋅f^2/J^3⋅b2⋅a3\n",
      "−2⋅B3 + 2⋅V1^2⋅f/J^3⋅b1⋅a2⋅b2⋅a4\n",
      "−2⋅B5⋅a2⋅b3⋅a4⋅a5\n",
      "−2⋅i⋅V1^2⋅V2/J^3⋅b3⋅a4\n",
      "+2⋅B3 - 2⋅V1^2⋅f/J^3⋅b1⋅a2⋅a3⋅b3\n",
      "+2⋅B1⋅b1⋅a4\n",
      "+2⋅B4 - 2⋅V1^2⋅f/J^3⋅a2⋅b3⋅a4⋅b4\n",
      "−2⋅B9⋅b1⋅b2⋅b3⋅a4\n",
      "−2⋅B5⋅b1⋅b3⋅a4⋅b4\n",
      "−2⋅B7 + 2⋅i⋅V1^2⋅V2/J^3 - 2⋅i⋅V1⋅f^2/J^3⋅b1⋅a2\n",
      "−2⋅B8⋅a2⋅b2⋅b3⋅a4}\n"
     ]
    }
   ],
   "source": [
    "p(square_group_to_order(psi, 3, split_orders))"
   ]
  },
  {
   "cell_type": "code",
   "execution_count": 15,
   "metadata": {
    "autoscroll": "json-false",
    "collapsed": false,
    "ein.tags": [
     "worksheet-0"
    ]
   },
   "outputs": [
    {
     "name": "stdout",
     "output_type": "stream",
     "text": [
      "1/194\r",
      "2/194"
     ]
    },
    {
     "name": "stdout",
     "output_type": "stream",
     "text": [
      "\r",
      "3/194"
     ]
    },
    {
     "name": "stdout",
     "output_type": "stream",
     "text": [
      "\r",
      "4/194"
     ]
    },
    {
     "name": "stdout",
     "output_type": "stream",
     "text": [
      "\r",
      "5/194"
     ]
    },
    {
     "name": "stdout",
     "output_type": "stream",
     "text": [
      "\r",
      "6/194\r",
      "7/194"
     ]
    },
    {
     "name": "stdout",
     "output_type": "stream",
     "text": [
      "\r",
      "8/194\r",
      "9/194"
     ]
    },
    {
     "name": "stdout",
     "output_type": "stream",
     "text": [
      "\r",
      "10/194"
     ]
    },
    {
     "name": "stdout",
     "output_type": "stream",
     "text": [
      "\r",
      "11/194"
     ]
    },
    {
     "name": "stdout",
     "output_type": "stream",
     "text": [
      "\r",
      "12/194"
     ]
    },
    {
     "name": "stdout",
     "output_type": "stream",
     "text": [
      "\r",
      "13/194"
     ]
    },
    {
     "name": "stdout",
     "output_type": "stream",
     "text": [
      "\r",
      "14/194\r",
      "15/194"
     ]
    },
    {
     "name": "stdout",
     "output_type": "stream",
     "text": [
      "\r",
      "16/194"
     ]
    },
    {
     "name": "stdout",
     "output_type": "stream",
     "text": [
      "\r",
      "17/194\r",
      "18/194\r",
      "19/194"
     ]
    },
    {
     "name": "stdout",
     "output_type": "stream",
     "text": [
      "\r",
      "20/194"
     ]
    },
    {
     "name": "stdout",
     "output_type": "stream",
     "text": [
      "\r",
      "21/194\r",
      "22/194"
     ]
    },
    {
     "name": "stdout",
     "output_type": "stream",
     "text": [
      "\r",
      "23/194"
     ]
    },
    {
     "name": "stdout",
     "output_type": "stream",
     "text": [
      "\r",
      "24/194"
     ]
    },
    {
     "name": "stdout",
     "output_type": "stream",
     "text": [
      "\r",
      "25/194\r",
      "26/194\r",
      "27/194"
     ]
    },
    {
     "name": "stdout",
     "output_type": "stream",
     "text": [
      "\r",
      "28/194\r",
      "29/194"
     ]
    },
    {
     "name": "stdout",
     "output_type": "stream",
     "text": [
      "\r",
      "30/194"
     ]
    },
    {
     "name": "stdout",
     "output_type": "stream",
     "text": [
      "\r",
      "31/194\r",
      "32/194"
     ]
    },
    {
     "name": "stdout",
     "output_type": "stream",
     "text": [
      "\r",
      "33/194\r",
      "34/194"
     ]
    },
    {
     "name": "stdout",
     "output_type": "stream",
     "text": [
      "\r",
      "35/194\r",
      "36/194"
     ]
    },
    {
     "name": "stdout",
     "output_type": "stream",
     "text": [
      "\r",
      "37/194\r",
      "38/194"
     ]
    },
    {
     "name": "stdout",
     "output_type": "stream",
     "text": [
      "\r",
      "39/194"
     ]
    },
    {
     "name": "stdout",
     "output_type": "stream",
     "text": [
      "\r",
      "40/194"
     ]
    },
    {
     "name": "stdout",
     "output_type": "stream",
     "text": [
      "\r",
      "41/194\r",
      "42/194\r",
      "43/194\r",
      "44/194"
     ]
    },
    {
     "name": "stdout",
     "output_type": "stream",
     "text": [
      "\r",
      "45/194\r",
      "46/194"
     ]
    },
    {
     "name": "stdout",
     "output_type": "stream",
     "text": [
      "\r",
      "47/194"
     ]
    },
    {
     "name": "stdout",
     "output_type": "stream",
     "text": [
      "\r",
      "48/194\r",
      "49/194"
     ]
    },
    {
     "name": "stdout",
     "output_type": "stream",
     "text": [
      "\r",
      "50/194"
     ]
    },
    {
     "name": "stdout",
     "output_type": "stream",
     "text": [
      "\r",
      "51/194\r",
      "52/194"
     ]
    },
    {
     "name": "stdout",
     "output_type": "stream",
     "text": [
      "\r",
      "53/194\r",
      "54/194"
     ]
    },
    {
     "name": "stdout",
     "output_type": "stream",
     "text": [
      "\r",
      "55/194\r",
      "56/194"
     ]
    },
    {
     "name": "stdout",
     "output_type": "stream",
     "text": [
      "\r",
      "57/194\r",
      "58/194"
     ]
    },
    {
     "name": "stdout",
     "output_type": "stream",
     "text": [
      "\r",
      "59/194\r",
      "60/194"
     ]
    },
    {
     "name": "stdout",
     "output_type": "stream",
     "text": [
      "\r",
      "61/194"
     ]
    },
    {
     "name": "stdout",
     "output_type": "stream",
     "text": [
      "\r",
      "62/194\r",
      "63/194"
     ]
    },
    {
     "name": "stdout",
     "output_type": "stream",
     "text": [
      "\r",
      "64/194\r",
      "65/194\r",
      "66/194\r",
      "67/194\r",
      "68/194\r",
      "69/194"
     ]
    },
    {
     "name": "stdout",
     "output_type": "stream",
     "text": [
      "\r",
      "70/194\r",
      "71/194\r",
      "72/194\r",
      "73/194"
     ]
    },
    {
     "name": "stdout",
     "output_type": "stream",
     "text": [
      "\r",
      "74/194\r",
      "75/194\r",
      "76/194"
     ]
    },
    {
     "name": "stdout",
     "output_type": "stream",
     "text": [
      "\r",
      "77/194\r",
      "78/194\r",
      "79/194\r",
      "80/194\r",
      "81/194\r",
      "82/194"
     ]
    },
    {
     "name": "stdout",
     "output_type": "stream",
     "text": [
      "\r",
      "83/194"
     ]
    },
    {
     "name": "stdout",
     "output_type": "stream",
     "text": [
      "\r",
      "84/194\r",
      "85/194\r",
      "86/194\r",
      "87/194"
     ]
    },
    {
     "name": "stdout",
     "output_type": "stream",
     "text": [
      "\r",
      "88/194\r",
      "89/194\r",
      "90/194\r",
      "91/194"
     ]
    },
    {
     "name": "stdout",
     "output_type": "stream",
     "text": [
      "\r",
      "92/194\r",
      "93/194\r",
      "94/194\r",
      "95/194\r",
      "96/194\r",
      "97/194\r",
      "98/194\r",
      "99/194\r",
      "100/194\r",
      "101/194\r",
      "102/194"
     ]
    },
    {
     "name": "stdout",
     "output_type": "stream",
     "text": [
      "\r",
      "103/194"
     ]
    },
    {
     "name": "stdout",
     "output_type": "stream",
     "text": [
      "\r",
      "104/194\r",
      "105/194\r",
      "106/194\r",
      "107/194\r",
      "108/194\r",
      "109/194\r",
      "110/194\r",
      "111/194\r",
      "112/194"
     ]
    },
    {
     "name": "stdout",
     "output_type": "stream",
     "text": [
      "\r",
      "113/194"
     ]
    },
    {
     "name": "stdout",
     "output_type": "stream",
     "text": [
      "\r",
      "114/194\r",
      "115/194\r",
      "116/194\r",
      "117/194\r",
      "118/194\r",
      "119/194"
     ]
    },
    {
     "name": "stdout",
     "output_type": "stream",
     "text": [
      "\r",
      "120/194\r",
      "121/194\r",
      "122/194\r",
      "123/194\r",
      "124/194\r",
      "125/194\r",
      "126/194\r",
      "127/194\r",
      "128/194\r",
      "129/194\r",
      "130/194\r",
      "131/194"
     ]
    },
    {
     "name": "stdout",
     "output_type": "stream",
     "text": [
      "\r",
      "132/194\r",
      "133/194"
     ]
    },
    {
     "name": "stdout",
     "output_type": "stream",
     "text": [
      "\r",
      "134/194"
     ]
    },
    {
     "name": "stdout",
     "output_type": "stream",
     "text": [
      "\r",
      "135/194"
     ]
    },
    {
     "name": "stdout",
     "output_type": "stream",
     "text": [
      "\r",
      "136/194\r",
      "137/194\r",
      "138/194\r",
      "139/194\r",
      "140/194"
     ]
    },
    {
     "name": "stdout",
     "output_type": "stream",
     "text": [
      "\r",
      "141/194\r",
      "142/194\r",
      "143/194\r",
      "144/194\r",
      "145/194\r",
      "146/194\r",
      "147/194\r",
      "148/194"
     ]
    },
    {
     "name": "stdout",
     "output_type": "stream",
     "text": [
      "\r",
      "149/194\r",
      "150/194\r",
      "151/194\r",
      "152/194\r",
      "153/194\r",
      "154/194\r",
      "155/194\r",
      "156/194\r",
      "157/194\r",
      "158/194\r",
      "159/194"
     ]
    },
    {
     "name": "stdout",
     "output_type": "stream",
     "text": [
      "\r",
      "160/194\r",
      "161/194\r",
      "162/194\r",
      "163/194"
     ]
    },
    {
     "name": "stdout",
     "output_type": "stream",
     "text": [
      "\r",
      "164/194\r",
      "165/194\r",
      "166/194\r",
      "167/194\r",
      "168/194\r",
      "169/194\r",
      "170/194\r",
      "171/194\r",
      "172/194\r",
      "173/194\r",
      "174/194\r",
      "175/194\r",
      "176/194\r",
      "177/194\r",
      "178/194\r",
      "179/194\r",
      "180/194"
     ]
    },
    {
     "name": "stdout",
     "output_type": "stream",
     "text": [
      "\r",
      "181/194\r",
      "182/194\r",
      "183/194\r",
      "184/194\r",
      "185/194\r",
      "186/194\r",
      "187/194\r",
      "188/194\r",
      "189/194\r",
      "190/194\r",
      "191/194\r",
      "192/194\r",
      "193/194"
     ]
    },
    {
     "name": "stdout",
     "output_type": "stream",
     "text": [
      "\r",
      "194/194\r",
      "0: a1 b1 b4\n",
      "1: a1 b1 a5\n",
      "2: a1 a2 a5\n",
      "3: a1 a2 b4\n",
      "4: a1 b1 a2 b2 a4 b4 a5\n",
      "5: a1 b1 a2 b2 b3 b4 a5\n",
      "6: a1 b1 a2 a3 b3 b4 a5\n",
      "7: a1 b1 a2 a3 a4 b4 a5\n",
      "8: b1 a2 a3 b3 b4 a5 b6 a7 b7\n",
      "9: b1 a2 b2 b3 b4 a5 b6 a7 b7\n",
      "10: b1 a2 b2 a4 b4 a5 b6 a7 b7\n",
      "11: b1 a2 b2 a4 b4 a5 b6 a7 a8\n",
      "12: b1 a2 b2 b3 b4 a5 b6 a7 a8\n",
      "13: b1 a2 a3 b3 b4 a5 b6 a7 a8\n",
      "14: b1 a2 a3 a4 b4 a5 b6 a7 a8\n",
      "15: b1 a2 a3 a4 b4 a5 b6 a7 b7\n",
      "16: a1 a2 a3 b3 b4 a5 a6\n",
      "17: a1 a2 b2 b3 b4 a5 a6\n",
      "18: a1 b1 b2 b3 b4 a5 a6\n",
      "19: a1 b1 b2 b3 b4 a5 b5\n",
      "20: a1 b1 b2 a4 b4 a5 b5\n",
      "21: a1 b1 a3 a4 b4 a5 b5\n",
      "22: a1 a2 a3 a4 b4 a5 b5\n",
      "23: a1 a2 a3 b3 b4 a5 b5\n",
      "24: a1 b1 a3 b3 b4 a5 b5\n",
      "25: a1 b1 a3 b3 b4 a5 a6\n",
      "26: a1 b1 a3 a4 b4 a5 a6\n",
      "27: a1 b1 b2 a4 b4 a5 a6\n",
      "28: a1 a2 b2 a4 b4 a5 a6\n",
      "29: a1 a2 b2 a4 b4 a5 b5\n",
      "30: a1 a2 b2 b3 b4 a5 b5\n",
      "31: a1 a2 a3 a4 b4 a5 a6\n",
      "32: b1 b2 a3 a4 b4\n",
      "33: a2 b2 a3 a4 b4\n",
      "34: a2 b2 a3 a4 a5\n",
      "35: b1 b2 a3 a4 a5\n",
      "36: b1 b2 a3 b3 a5\n",
      "37: a2 b2 a3 b3 a5\n",
      "38: a2 b2 a3 b3 b4\n",
      "39: b1 b2 a3 b3 b4\n",
      "40: a2 b2 b3 a4 b5 a6 b6\n",
      "41: b1 b2 b3 a4 b5 a6 b6\n",
      "42: b1 b2 b3 a4 b5 a6 a7\n",
      "43: a2 b2 b3 a4 b5 a6 a7\n",
      "44: a2 a3 b3 a4 b5 a6 a7\n",
      "45: b1 a3 b3 a4 b5 a6 a7\n",
      "46: b1 a3 b3 a4 b5 a6 b6\n",
      "47: a2 a3 b3 a4 b5 a6 b6\n",
      "48: b2 a3 b4 b5 a6\n",
      "49: b2 a3 a5 b5 a6\n",
      "50: b1 a2 b3 a4 b6 a7 b7\n",
      "51: b1 a2 b3 a4 b6 a7 a8\n",
      "52: b1 a2 b3 a4 a5 b5 b6\n",
      "53: b1 a2 b3 a4 a5 b5 a7\n",
      "54: b1 a2 b3 a4 b4 b5 a7\n",
      "55: b1 a2 b3 a4 b4 a6 a7\n",
      "56: b1 a2 b3 a4 a5 a6 a7\n",
      "57: b1 a2 b3 a4 a5 a6 b6\n",
      "58: b1 a2 b3 a4 b4 a6 b6\n",
      "59: b1 a2 b3 a4 b4 b5 b6\n",
      "60: a1 a2 a3 b3 b4\n",
      "61: a1 a2 a3 b3 a5\n",
      "62: a1 b1 a3 b3 a5\n",
      "63: a1 b1 a3 b3 b4\n",
      "64: a1 b1 a3 a4 b4\n",
      "65: a1 b1 b2 a4 b4\n",
      "66: a1 b1 b2 a4 a5\n",
      "67: a1 b1 b2 b3 a5\n",
      "68: a1 a2 b2 b3 a5\n",
      "69: a1 a2 b2 a4 a5\n",
      "70: a1 a2 a3 a4 a5\n",
      "71: a1 a2 a3 a4 b4\n",
      "72: a1 a2 b2 a4 b4\n",
      "73: a1 a2 b2 b3 b4\n",
      "74: a1 b1 b2 b3 b4\n",
      "75: a1 b1 a3 a4 a5\n",
      "76: a1 b1 a2 b2 a3 b3 b4\n",
      "77: a1 b1 a2 b2 a3 a4 b4\n",
      "78: a1 b1 a2 b2 a3 a4 a5\n",
      "79: a1 b1 a2 b2 a3 b3 a5\n",
      "80: a2 b2 b3 a4 b5\n",
      "81: a2 a3 b3 a4 b5\n",
      "82: b1 a3 b3 a4 b5\n",
      "83: b1 b2 b3 a4 b5\n",
      "84: b1 b2 b3 a4 a6\n",
      "85: a2 b2 b3 a4 a6\n",
      "86: a2 a3 b3 a4 a6\n",
      "87: b1 a3 b3 a4 a6\n",
      "88: a1 b3 b4\n",
      "89: a1 b3 a5\n",
      "90: a1 a4 a5\n",
      "91: a1 a4 b4\n",
      "92: a2 b2 b3 a4 b4 b5 a6\n",
      "93: a2 a3 b3 a4 b4 b5 a6\n",
      "94: a2 a3 b3 a4 a5 b5 a6\n",
      "95: b1 a3 b3 a4 a5 b5 a6\n",
      "96: b1 a3 b3 a4 b4 b5 a6\n",
      "97: b1 b2 b3 a4 b4 b5 a6\n",
      "98: b1 b2 b3 a4 a5 b5 a6\n",
      "99: a2 b2 b3 a4 a5 b5 a6\n",
      "100: b1 a2 a3 a4 b5 a6 a7\n",
      "101: b1 a2 a3 a4 b5 a6 b6\n",
      "102: b1 a2 b2 a4 b5 a6 b6\n",
      "103: b1 a2 b2 b3 b5 a6 b6\n",
      "104: b1 a2 b2 b3 b5 a6 a7\n",
      "105: b1 a2 a3 b3 b5 a6 a7\n",
      "106: b1 a2 a3 b3 b5 a6 b6\n",
      "107: b1 a2 b2 a4 b5 a6 a7\n",
      "108: b1 b2 a3\n",
      "109: a2 b2 a3\n",
      "110: b1 a2 b3 b4 a5 b5 a6\n",
      "111: b1 a2 a4 b4 a5 b5 a6\n",
      "112: b1 a3 b4 a5 b5\n",
      "113: a2 a3 b4 a5 b5\n",
      "114: a2 a3 b4 a5 a6\n",
      "115: a2 b2 b4 a5 a6\n",
      "116: a2 b2 b4 a5 b5\n",
      "117: b1 b2 b4 a5 b5\n",
      "118: b1 b2 b4 a5 a6\n",
      "119: b1 a3 b4 a5 a6\n",
      "120: a3 b3 b4 a5 b5\n",
      "121: b2 b3 b4 a5 b5\n",
      "122: b2 b3 b4 a5 a6\n",
      "123: b2 a4 b4 a5 a6\n",
      "124: a3 a4 b4 a5 a6\n",
      "125: a3 b3 b4 a5 a6\n",
      "126: a3 a4 b4 a5 b5\n",
      "127: b2 a4 b4 a5 b5\n",
      "128: a1 a2 b3 a4 b5 a6 a7\n",
      "129: a1 a2 b3 a4 b5 a6 b6\n",
      "130: a1 b1 b3 a4 b5 a6 b6\n",
      "131: a1 b1 b3 a4 b5 a6 a7\n",
      "132: a2 b2 a3 b3 b4 a5 b5\n",
      "133: b1 b2 a3 b3 b4 a5 b5\n",
      "134: b1 b2 a3 b3 b4 a5 a6\n",
      "135: b1 b2 a3 a4 b4 a5 a6\n",
      "136: b1 b2 a3 a4 b4 a5 b5\n",
      "137: a2 b2 a3 a4 b4 a5 b5\n",
      "138: a2 b2 a3 a4 b4 a5 a6\n",
      "139: a2 b2 a3 b3 b4 a5 a6\n",
      "140: a1 a2 b2\n",
      "141: a1 a2 a3\n",
      "142: a1 b1 a3\n",
      "143: a1 b1 b2\n",
      "144: a1 a2 b3 a4 a6\n",
      "145: a1 a2 b3 a4 b5\n",
      "146: a1 b1 b3 a4 b5\n",
      "147: a1 b1 b3 a4 a6\n",
      "148: a1 a2 b2 a3 b3 a4 b4\n",
      "149: a1 b1 b2 a3 b3 a4 b4\n",
      "150: a1 b1 b2 a3 b3 a4 a5\n",
      "151: a1 a2 b2 a3 b3 a4 a5\n",
      "152: a1 b1 b2 a3 a4\n",
      "153: a1 b1 b2 a3 b3\n",
      "154: a1 a2 b2 a3 b3\n",
      "155: a1 a2 b2 a3 a4\n",
      "156: b1 b4 a5\n",
      "157: a2 b4 a5\n",
      "158: b1 b2 a4 b4 a5\n",
      "159: b1 a3 a4 b4 a5\n",
      "160: b1 a3 b3 b4 a5\n",
      "161: a2 a3 b3 b4 a5\n",
      "162: a2 b2 b3 b4 a5\n",
      "163: b1 b2 b3 b4 a5\n",
      "164: a2 b2 a4 b4 a5\n",
      "165: a2 a3 a4 b4 a5\n",
      "166: b1 a2 a3 a4 b4 a5 a6 b6 a7\n",
      "167: b1 a2 a3 b3 b4 a5 a6 b6 a7\n",
      "168: b1 a2 b2 b3 b4 a5 a6 b6 a7\n",
      "169: b1 a2 b2 b3 b4 a5 b5 b6 a7\n",
      "170: b1 a2 a3 b3 b4 a5 b5 b6 a7\n",
      "171: b1 a2 a3 a4 b4 a5 b5 b6 a7\n",
      "172: b1 a2 b2 a4 b4 a5 b5 b6 a7\n",
      "173: b1 a2 b2 a4 b4 a5 a6 b6 a7\n",
      "174: b1 a2 b3 a4 b5 a6 b7\n",
      "175: b1 a2 b3 a4 b5 a6 a8\n",
      "176: a1 b2 b3\n",
      "177: a1 b2 a4\n",
      "178: a1 a3 a4\n",
      "179: a1 a3 b3\n",
      "180: a1 a3 b3 a4 a5\n",
      "181: a1 a3 b3 a4 b4\n",
      "182: a1 b2 b3 a4 b4\n",
      "183: a1 b2 b3 a4 a5\n",
      "184: a1 b3 b4 a5 b5\n",
      "185: a1 a4 b4 a5 b5\n",
      "186: a1 a4 b4 a5 a6\n",
      "187: a1 b3 b4 a5 a6\n",
      "188: b2 a3 b4 a5 b5 b6 a7\n",
      "189: b2 a3 b4 a5 a6 b6 a7\n",
      "190: b2 a3 b4 a5 b6 a7 b7\n",
      "191: b2 a3 b4 a5 b6 a7 a8\n",
      "192: b1 a2 b5 a6 b6\n",
      "193: b1 a2 b5 a6 a7\n",
      "194: a2 b2 b4\n",
      "195: b1 b2 b4\n",
      "196: b1 b2 a5\n",
      "197: b1 a3 a5\n",
      "198: b1 a3 b4\n",
      "199: a2 a3 b4\n",
      "200: a2 a3 a5\n",
      "201: a2 b2 a5\n",
      "202: b1 b2 a3 b3 a4 b4 a5\n",
      "203: a2 b2 a3 b3 a4 b4 a5\n",
      "204: b1 a2 a3 a4 a5 b5 a6\n",
      "205: b1 a2 b2 a4 a5 b5 a6\n",
      "206: b1 a2 b2 b3 a5 b5 a6\n",
      "207: b1 a2 b2 b3 b4 b5 a6\n",
      "208: b1 a2 b2 a4 b4 b5 a6\n",
      "209: b1 a2 a3 a4 b4 b5 a6\n",
      "210: b1 a2 a3 b3 b4 b5 a6\n",
      "211: b1 a2 a3 b3 a5 b5 a6\n",
      "212: b1 a2 b2 a4 b4 a5 b6\n",
      "213: b1 a2 a3 a4 b4 a5 b6\n",
      "214: b1 a2 a3 b3 b4 a5 b6\n",
      "215: b1 a2 b2 b3 b4 a5 b6\n",
      "216: b1 a2 b2 b3 b4 a5 a7\n",
      "217: b1 a2 b2 a4 b4 a5 a7\n",
      "218: b1 a2 a3 a4 b4 a5 a7\n",
      "219: b1 a2 a3 b3 b4 a5 a7\n",
      "220: b1 a2 b3 a4 b5 b6 a7\n",
      "221: b1 a2 b3 a4 a6 b6 a7\n",
      "222: b2 b3 a5\n",
      "223: b2 b3 b4\n",
      "224: b2 a4 b4\n",
      "225: b2 a4 a5\n",
      "226: a3 a4 a5\n",
      "227: a3 b3 a5\n",
      "228: a3 b3 b4\n",
      "229: a3 a4 b4\n",
      "230: a1 a2 b3 a4 a5 b5 a6\n",
      "231: a1 b1 b3 a4 a5 b5 a6\n",
      "232: a1 b1 b3 a4 b4 b5 a6\n",
      "233: a1 a2 b3 a4 b4 b5 a6\n",
      "234: b1 a2 b3 a4 a5\n",
      "235: b1 a2 b3 a4 b4\n",
      "236: b1 a2 b2 a3 b4 a5 b5\n",
      "237: b1 a2 b2 a3 b4 a5 a6\n",
      "238: b1 a2 a4\n",
      "239: b1 a2 b3\n",
      "240: a1 b1 b4 a5 b5\n",
      "241: a1 a2 b4 a5 b5\n",
      "242: a1 a2 b4 a5 a6\n",
      "243: a1 b1 b4 a5 a6\n",
      "244: b1 a2 b2 a4 b5\n",
      "245: b1 a2 b2 a4 a6\n",
      "246: b1 a2 a3 a4 a6\n",
      "247: b1 a2 a3 b3 a6\n",
      "248: b1 a2 b2 b3 a6\n",
      "249: b1 a2 b2 b3 b5\n",
      "250: b1 a2 a3 b3 b5\n",
      "251: b1 a2 a3 a4 b5\n",
      "252: b4\n",
      "253: a5\n",
      "254: b1 a2 b3 a4 b4 a5 b5\n",
      "255: b1 a2 b3 a4 b4 a5 a6\n",
      "256: b1 a2 b4 b5 a6\n",
      "257: b1 a2 a5 b5 a6\n",
      "258: b2 a3 b3\n",
      "259: b2 a3 a4\n",
      "260: a1 b2 a3 b3 a4\n",
      "261: b1 a2 a3 b3 a4\n",
      "262: b1 a2 b2 b3 a4\n",
      "263: b3 b4 a5\n",
      "264: a4 b4 a5\n",
      "265: a1 b1 a2 b2 b4 a5 b5\n",
      "266: a1 b1 a2 a3 b4 a5 b5\n",
      "267: a1 b1 a2 a3 b4 a5 a6\n",
      "268: a1 b1 a2 b2 b4 a5 a6\n",
      "269: b1 a2 b5\n",
      "270: b1 a2 a6\n",
      "271: a1 b1 b3 b4 a5\n",
      "272: a1 b1 a4 b4 a5\n",
      "273: a1 a2 a4 b4 a5\n",
      "274: a1 a2 b3 b4 a5\n",
      "275: b1 a2 b3 a4 a5 b5 b6 a7 b7\n",
      "276: b1 a2 b3 a4 b4 b5 b6 a7 b7\n",
      "277: b1 a2 b3 a4 b4 a6 b6 a7 b7\n",
      "278: b1 a2 b3 a4 b4 a6 b6 a7 a8\n",
      "279: b1 a2 b3 a4 a5 a6 b6 a7 a8\n",
      "280: b1 a2 b3 a4 a5 a6 b6 a7 b7\n",
      "281: b1 a2 b3 a4 a5 b5 b6 a7 a8\n",
      "282: b1 a2 b3 a4 b4 b5 b6 a7 a8\n",
      "283: b1 a2 a4 b4 b5 a6 b6\n",
      "284: b1 a2 a4 a5 b5 a6 b6\n",
      "285: b1 a2 a4 a5 b5 a6 a7\n",
      "286: b1 a2 a4 b4 b5 a6 a7\n",
      "287: b1 a2 b3 b4 b5 a6 a7\n",
      "288: b1 a2 b3 b4 b5 a6 b6\n",
      "289: b1 a2 b3 a5 b5 a6 b6\n",
      "290: b1 a2 b3 a5 b5 a6 a7\n",
      "291: b1 a2 b4 a5 b6 a7 b7\n",
      "292: b1 a2 b4 a5 b6 a7 a8\n",
      "293: b1 a2 b2 b5 a6\n",
      "294: b1 a2 a3 b5 a6\n",
      "295: b2 a3 a4 b4 b5 a6 b6\n",
      "296: b2 a3 a4 b4 b5 a6 a7\n",
      "297: b2 a3 b3 b4 b5 a6 a7\n",
      "298: b2 a3 b3 b4 b5 a6 b6\n",
      "299: b2 a3 b3 a5 b5 a6 b6\n",
      "300: b2 a3 a4 a5 b5 a6 b6\n",
      "301: b2 a3 a4 a5 b5 a6 a7\n",
      "302: b2 a3 b3 a5 b5 a6 a7\n",
      "303: b1 a2 b2 a3 b3 b4 a5\n",
      "304: b1 a2 b2 a3 a4 b4 a5\n",
      "305: b4 a5 b5\n",
      "306: b4 a5 a6\n",
      "307: b1 a2 b4 a5 b6\n",
      "308: b1 a2 b4 a5 a7\n",
      "309: b1 a2 a3 b3 a4 a5 a6\n",
      "310: b1 a2 a3 b3 a4 b4 a6\n",
      "311: b1 a2 a3 b3 a4 b4 b5\n",
      "312: b1 a2 b2 b3 a4 b4 b5\n",
      "313: b1 a2 b2 b3 a4 a5 b5\n",
      "314: b1 a2 b2 b3 a4 a5 a6\n",
      "315: b1 a2 b2 b3 a4 b4 a6\n",
      "316: b1 a2 a3 b3 a4 a5 b5\n",
      "317: a2 b3 a4\n",
      "318: b1 b3 a4\n",
      "319: b2 a3 b4 a5 b6\n",
      "320: b2 a3 b4 a5 a7\n",
      "321: a1 b1 a2 b2 a3\n",
      "322: b3 a4 b5\n",
      "323: b3 a4 a6\n",
      "324: b1 a2 b3 a5 b5\n",
      "325: b1 a2 b3 a5 a6\n",
      "326: b1 a2 a4 a5 a6\n",
      "327: b1 a2 a4 b4 a6\n",
      "328: b1 a2 b3 b4 a6\n",
      "329: b1 a2 b3 b4 b5\n",
      "330: b1 a2 a4 b4 b5\n",
      "331: b1 a2 a4 a5 b5\n",
      "332: b2 a3 a4 b4 b5\n",
      "333: b2 a3 b3 b4 b5\n",
      "334: b2 a3 b3 a5 b5\n",
      "335: b2 a3 a4 a5 b5\n",
      "336: b2 a3 a4 a5 a6\n",
      "337: b2 a3 b3 a5 a6\n",
      "338: b2 a3 b3 b4 a6\n",
      "339: b2 a3 a4 b4 a6\n",
      "340: b1 a2 b3 a4 b5 a6 b7 a8 b8\n",
      "341: b1 a2 b3 a4 b5 a6 b7 a8 a9\n",
      "342: b1 a2 b4 a5 b5 b6 a7\n",
      "343: b1 a2 b4 a5 a6 b6 a7\n",
      "344: b2\n",
      "345: a3\n",
      "346: b2 a3 b3 a4 b4\n",
      "347: b2 a3 b3 a4 a5\n",
      "348: b1 a2 b3 a4 b5 a6 b6 b7 a8\n",
      "349: b1 a2 b3 a4 b5 a6 a7 b7 a8\n",
      "350: b1 a2 b2 a3 b4\n",
      "351: b1 a2 b2 a3 a5\n",
      "352: b3 a4 b4 b5 a6\n",
      "353: b3 a4 a5 b5 a6\n",
      "354: b3 a4 b5 a6 b6\n",
      "355: b3 a4 b5 a6 a7\n",
      "356: b1 a2 b3 a4 b6\n",
      "357: b1 a2 b3 a4 a7\n",
      "358: b2 a3 b5\n",
      "359: b2 a3 a6\n",
      "360: a1 b1 a2 b2 b4\n",
      "361: a1 b1 a2 b2 a5\n",
      "362: a1 b1 a2 a3 a5\n",
      "363: a1 b1 a2 a3 b4\n",
      "364: b2 a3 b5 a6 b6\n",
      "365: b2 a3 b5 a6 a7\n",
      "366: a1 b1 a2 b3 a4\n",
      "367: b1 a2 b2 b4 a5\n",
      "368: b1 a2 a3 b4 a5\n",
      "369: b2 b3 a4 b4 a5\n",
      "370: a3 b3 a4 b4 a5\n",
      "[[1, 3], [0, 2], [5, 7], [4, 6], [9, 11, 13, 15], [8, 10, 12, 14], [17, 19, 21, 23, 25, 27, 29, 31], [16, 18, 20, 22, 24, 26, 28, 30], [33, 35, 37, 39], [32, 34, 36, 38], [41, 43, 45, 47], [40, 42, 44, 46], [49], [48], [51], [50], [53, 55, 57, 59], [52, 54, 56, 58], [65, 67, 69, 71, 73, 75, 61, 63], [64, 66, 68, 70, 72, 74, 60, 62], [77, 79], [76, 78], [81, 83, 85, 87], [80, 82, 84, 86], [89, 91], [88, 90], [97, 99, 93, 95], [96, 98, 92, 94], [101, 103, 105, 107], [100, 102, 104, 106], [109], [108], [111], [110], [113, 115, 117, 119], [112, 114, 116, 118], [121, 123, 125, 126], [120, 122, 124, 127], [129, 131], [128, 130], [133, 135, 137, 139], [132, 134, 136, 138], [141, 143], [140, 142], [145, 147], [144, 146], [149, 151], [148, 150], [153, 155], [152, 154], [157], [156], [161, 163, 164, 159], [160, 162, 165, 158], [167, 169, 171, 173], [166, 168, 170, 172], [175], [174], [177, 179], [176, 178], [181, 183], [180, 182], [185, 187], [184, 186], [189], [188], [191], [190], [193], [192], [195, 197, 199, 201], [194, 196, 198, 200], [203], [202], [209, 211, 205, 207], [208, 210, 204, 206], [213, 215, 217, 219], [212, 214, 216, 218], [221], [220], [225, 227, 229, 223], [224, 226, 228, 222], [233, 231], [232, 230], [235], [234], [237], [236], [239], [238], [241, 243], [240, 242], [245, 247, 249, 251], [244, 246, 248, 250], [253], [252], [255], [254], [257], [256], [259], [258], [262], [261], [264], [263], [266, 268], [265, 267], [270], [269], [272, 274], [273, 271], [276, 278, 280, 281], [275, 277, 279, 282], [288, 290, 284, 286], [289, 283, 285, 287], [292], [291], [294], [293], [296, 298, 300, 302], [295, 297, 299, 301], [304], [303], [306], [305], [308], [307], [310, 312, 314, 316], [309, 311, 313, 315], [318], [317], [320], [319], [323], [322], [325, 327, 329, 331], [324, 326, 328, 330], [337, 339, 333, 335], [336, 338, 332, 334], [341], [340], [343], [342], [345], [344], [347], [346], [349], [348], [351], [350], [353], [352], [355], [354], [357], [356], [359], [358], [361, 363], [360, 362], [365], [364], [368], [367], [370], [369]]"
     ]
    },
    {
     "name": "stdout",
     "output_type": "stream",
     "text": [
      "\n",
      "1/168"
     ]
    },
    {
     "name": "stdout",
     "output_type": "stream",
     "text": [
      "\r",
      "2/168"
     ]
    },
    {
     "name": "stdout",
     "output_type": "stream",
     "text": [
      "\r",
      "3/168\r",
      "4/168"
     ]
    },
    {
     "name": "stdout",
     "output_type": "stream",
     "text": [
      "\r",
      "5/168"
     ]
    },
    {
     "name": "stdout",
     "output_type": "stream",
     "text": [
      "\r",
      "6/168\r",
      "7/168"
     ]
    },
    {
     "name": "stdout",
     "output_type": "stream",
     "text": [
      "\r",
      "8/168"
     ]
    },
    {
     "name": "stdout",
     "output_type": "stream",
     "text": [
      "\r",
      "9/168"
     ]
    },
    {
     "name": "stdout",
     "output_type": "stream",
     "text": [
      "\r",
      "10/168\r",
      "11/168"
     ]
    },
    {
     "name": "stdout",
     "output_type": "stream",
     "text": [
      "\r",
      "12/168\r",
      "13/168"
     ]
    },
    {
     "name": "stdout",
     "output_type": "stream",
     "text": [
      "\r",
      "14/168\r",
      "15/168\r",
      "16/168\r",
      "17/168"
     ]
    },
    {
     "name": "stdout",
     "output_type": "stream",
     "text": [
      "\r",
      "18/168\r",
      "19/168"
     ]
    },
    {
     "name": "stdout",
     "output_type": "stream",
     "text": [
      "\r",
      "20/168"
     ]
    },
    {
     "name": "stdout",
     "output_type": "stream",
     "text": [
      "\r",
      "21/168"
     ]
    },
    {
     "name": "stdout",
     "output_type": "stream",
     "text": [
      "\r",
      "22/168\r",
      "23/168"
     ]
    },
    {
     "name": "stdout",
     "output_type": "stream",
     "text": [
      "\r",
      "24/168\r",
      "25/168"
     ]
    },
    {
     "name": "stdout",
     "output_type": "stream",
     "text": [
      "\r",
      "26/168\r",
      "27/168"
     ]
    },
    {
     "name": "stdout",
     "output_type": "stream",
     "text": [
      "\r",
      "28/168\r",
      "29/168"
     ]
    },
    {
     "name": "stdout",
     "output_type": "stream",
     "text": [
      "\r",
      "30/168\r",
      "31/168"
     ]
    },
    {
     "name": "stdout",
     "output_type": "stream",
     "text": [
      "\r",
      "32/168\r",
      "33/168"
     ]
    },
    {
     "name": "stdout",
     "output_type": "stream",
     "text": [
      "\r",
      "34/168\r",
      "35/168"
     ]
    },
    {
     "name": "stdout",
     "output_type": "stream",
     "text": [
      "\r",
      "36/168\r",
      "37/168"
     ]
    },
    {
     "name": "stdout",
     "output_type": "stream",
     "text": [
      "\r",
      "38/168\r",
      "39/168"
     ]
    },
    {
     "name": "stdout",
     "output_type": "stream",
     "text": [
      "\r",
      "40/168\r",
      "41/168"
     ]
    },
    {
     "name": "stdout",
     "output_type": "stream",
     "text": [
      "\r",
      "42/168\r",
      "43/168\r",
      "44/168"
     ]
    },
    {
     "name": "stdout",
     "output_type": "stream",
     "text": [
      "\r",
      "45/168"
     ]
    },
    {
     "name": "stdout",
     "output_type": "stream",
     "text": [
      "\r",
      "46/168\r",
      "47/168\r",
      "48/168"
     ]
    },
    {
     "name": "stdout",
     "output_type": "stream",
     "text": [
      "\r",
      "49/168\r",
      "50/168"
     ]
    },
    {
     "name": "stdout",
     "output_type": "stream",
     "text": [
      "\r",
      "51/168"
     ]
    },
    {
     "name": "stdout",
     "output_type": "stream",
     "text": [
      "\r",
      "52/168\r",
      "53/168"
     ]
    },
    {
     "name": "stdout",
     "output_type": "stream",
     "text": [
      "\r",
      "54/168\r",
      "55/168"
     ]
    },
    {
     "name": "stdout",
     "output_type": "stream",
     "text": [
      "\r",
      "56/168\r",
      "57/168"
     ]
    },
    {
     "name": "stdout",
     "output_type": "stream",
     "text": [
      "\r",
      "58/168\r",
      "59/168"
     ]
    },
    {
     "name": "stdout",
     "output_type": "stream",
     "text": [
      "\r",
      "60/168\r",
      "61/168"
     ]
    },
    {
     "name": "stdout",
     "output_type": "stream",
     "text": [
      "\r",
      "62/168\r",
      "63/168"
     ]
    },
    {
     "name": "stdout",
     "output_type": "stream",
     "text": [
      "\r",
      "64/168\r",
      "65/168\r",
      "66/168\r",
      "67/168"
     ]
    },
    {
     "name": "stdout",
     "output_type": "stream",
     "text": [
      "\r",
      "68/168\r",
      "69/168"
     ]
    },
    {
     "name": "stdout",
     "output_type": "stream",
     "text": [
      "\r",
      "70/168\r",
      "71/168"
     ]
    },
    {
     "name": "stdout",
     "output_type": "stream",
     "text": [
      "\r",
      "72/168\r",
      "73/168"
     ]
    },
    {
     "name": "stdout",
     "output_type": "stream",
     "text": [
      "\r",
      "74/168\r",
      "75/168"
     ]
    },
    {
     "name": "stdout",
     "output_type": "stream",
     "text": [
      "\r",
      "76/168\r",
      "77/168"
     ]
    },
    {
     "name": "stdout",
     "output_type": "stream",
     "text": [
      "\r",
      "78/168\r",
      "79/168"
     ]
    },
    {
     "name": "stdout",
     "output_type": "stream",
     "text": [
      "\r",
      "80/168\r",
      "81/168"
     ]
    },
    {
     "name": "stdout",
     "output_type": "stream",
     "text": [
      "\r",
      "82/168\r",
      "83/168"
     ]
    },
    {
     "name": "stdout",
     "output_type": "stream",
     "text": [
      "\r",
      "84/168\r",
      "85/168\r",
      "86/168"
     ]
    },
    {
     "name": "stdout",
     "output_type": "stream",
     "text": [
      "\r",
      "87/168\r",
      "88/168\r",
      "89/168\r",
      "90/168"
     ]
    },
    {
     "name": "stdout",
     "output_type": "stream",
     "text": [
      "\r",
      "91/168"
     ]
    },
    {
     "name": "stdout",
     "output_type": "stream",
     "text": [
      "\r",
      "92/168\r",
      "93/168"
     ]
    },
    {
     "name": "stdout",
     "output_type": "stream",
     "text": [
      "\r",
      "94/168\r",
      "95/168"
     ]
    },
    {
     "name": "stdout",
     "output_type": "stream",
     "text": [
      "\r",
      "96/168\r",
      "97/168\r",
      "98/168\r",
      "99/168"
     ]
    },
    {
     "name": "stdout",
     "output_type": "stream",
     "text": [
      "\r",
      "100/168\r",
      "101/168"
     ]
    },
    {
     "name": "stdout",
     "output_type": "stream",
     "text": [
      "\r",
      "102/168\r",
      "103/168\r",
      "104/168"
     ]
    },
    {
     "name": "stdout",
     "output_type": "stream",
     "text": [
      "\r",
      "105/168"
     ]
    },
    {
     "name": "stdout",
     "output_type": "stream",
     "text": [
      "\r",
      "106/168\r",
      "107/168"
     ]
    },
    {
     "name": "stdout",
     "output_type": "stream",
     "text": [
      "\r",
      "108/168\r",
      "109/168"
     ]
    },
    {
     "name": "stdout",
     "output_type": "stream",
     "text": [
      "\r",
      "110/168\r",
      "111/168"
     ]
    },
    {
     "name": "stdout",
     "output_type": "stream",
     "text": [
      "\r",
      "112/168\r",
      "113/168"
     ]
    },
    {
     "name": "stdout",
     "output_type": "stream",
     "text": [
      "\r",
      "114/168\r",
      "115/168"
     ]
    },
    {
     "name": "stdout",
     "output_type": "stream",
     "text": [
      "\r",
      "116/168\r",
      "117/168"
     ]
    },
    {
     "name": "stdout",
     "output_type": "stream",
     "text": [
      "\r",
      "118/168\r",
      "119/168\r",
      "120/168\r",
      "121/168"
     ]
    },
    {
     "name": "stdout",
     "output_type": "stream",
     "text": [
      "\r",
      "122/168\r",
      "123/168"
     ]
    },
    {
     "name": "stdout",
     "output_type": "stream",
     "text": [
      "\r",
      "124/168\r",
      "125/168"
     ]
    },
    {
     "name": "stdout",
     "output_type": "stream",
     "text": [
      "\r",
      "126/168\r",
      "127/168\r",
      "128/168\r",
      "129/168"
     ]
    },
    {
     "name": "stdout",
     "output_type": "stream",
     "text": [
      "\r",
      "130/168\r",
      "131/168\r",
      "132/168"
     ]
    },
    {
     "name": "stdout",
     "output_type": "stream",
     "text": [
      "\r",
      "133/168\r",
      "134/168\r",
      "135/168"
     ]
    },
    {
     "name": "stdout",
     "output_type": "stream",
     "text": [
      "\r",
      "136/168\r",
      "137/168"
     ]
    },
    {
     "name": "stdout",
     "output_type": "stream",
     "text": [
      "\r",
      "138/168\r",
      "139/168"
     ]
    },
    {
     "name": "stdout",
     "output_type": "stream",
     "text": [
      "\r",
      "140/168\r",
      "141/168"
     ]
    },
    {
     "name": "stdout",
     "output_type": "stream",
     "text": [
      "\r",
      "142/168\r",
      "143/168\r",
      "144/168\r",
      "145/168"
     ]
    },
    {
     "name": "stdout",
     "output_type": "stream",
     "text": [
      "\r",
      "146/168\r",
      "147/168"
     ]
    },
    {
     "name": "stdout",
     "output_type": "stream",
     "text": [
      "\r",
      "148/168\r",
      "149/168\r",
      "150/168\r",
      "151/168"
     ]
    },
    {
     "name": "stdout",
     "output_type": "stream",
     "text": [
      "\r",
      "152/168\r",
      "153/168"
     ]
    },
    {
     "name": "stdout",
     "output_type": "stream",
     "text": [
      "\r",
      "154/168\r",
      "155/168"
     ]
    },
    {
     "name": "stdout",
     "output_type": "stream",
     "text": [
      "\r",
      "156/168\r",
      "157/168"
     ]
    },
    {
     "name": "stdout",
     "output_type": "stream",
     "text": [
      "\r",
      "158/168\r",
      "159/168"
     ]
    },
    {
     "name": "stdout",
     "output_type": "stream",
     "text": [
      "\r",
      "160/168\r",
      "161/168"
     ]
    },
    {
     "name": "stdout",
     "output_type": "stream",
     "text": [
      "\r",
      "162/168\r",
      "163/168\r",
      "164/168\r",
      "165/168"
     ]
    },
    {
     "name": "stdout",
     "output_type": "stream",
     "text": [
      "\r",
      "166/168\r",
      "167/168"
     ]
    },
    {
     "name": "stdout",
     "output_type": "stream",
     "text": [
      "\r",
      "168/168\r",
      "fvar2: C0\n",
      "fvar3: C1\n",
      "fvar6: C2\n",
      "fvar7: C3\n",
      "fvar22: C4\n",
      "fvar27: C5\n",
      "fvar28: C6\n",
      "fvar29: C7\n",
      "fvar30: C8\n",
      "fvar31: C9\n",
      "fvar60: C10\n",
      "fvar61: C11\n",
      "fvar62: C12\n",
      "fvar63: C13\n",
      "fvar74: C14\n",
      "fvar75: C15\n",
      "fvar78: C16\n",
      "fvar79: C17\n",
      "fvar90: C18\n",
      "fvar91: C19\n",
      "fvar130: C20\n",
      "fvar131: C21\n",
      "fvar142: C22\n",
      "fvar143: C23\n",
      "fvar146: C24\n",
      "fvar147: C25\n",
      "fvar150: C26\n",
      "fvar151: C27\n",
      "fvar154: C28\n",
      "fvar155: C29\n",
      "fvar178: C30\n",
      "fvar179: C31\n",
      "fvar182: C32\n",
      "fvar183: C33\n",
      "fvar186: C34\n",
      "fvar187: C35\n",
      "fvar230: C36\n",
      "fvar231: C37\n",
      "fvar242: C38\n",
      "fvar243: C39\n",
      "fvar260: C40\n",
      "fvar267: C41\n",
      "fvar268: C42\n",
      "fvar271: C43\n",
      "fvar274: C44\n",
      "fvar321: C45\n",
      "fvar362: C46\n",
      "fvar363: C47\n",
      "fvar366: C48\n"
     ]
    }
   ],
   "source": [
    "subspace, matrixrows = sparse_find_subspace(c(H, psi), Jpart)\n",
    "print_subspace(subspace)\n",
    "cvector = build_vector_to_cancel(c(H, psi), subspace)\n",
    "subs_rules = {}\n",
    "psi4 = sparse_solve_for_commuting_term(cvector, psi, 4, orders, matrixrows, subspace, norm= False, fvarname = 'C', iofvars=iofvars, subs_rules = subs_rules)"
   ]
  },
  {
   "cell_type": "code",
   "execution_count": 16,
   "metadata": {
    "autoscroll": "json-false",
    "collapsed": false,
    "ein.tags": [
     "worksheet-0"
    ]
   },
   "outputs": [],
   "source": [
    "orders.update(zip(iofvars,[4]*len(iofvars)))\n",
    "p.orders = orders"
   ]
  },
  {
   "cell_type": "code",
   "execution_count": 17,
   "metadata": {
    "autoscroll": "json-false",
    "collapsed": false,
    "ein.tags": [
     "worksheet-0"
    ]
   },
   "outputs": [
    {
     "data": {
      "text/plain": [
       "{B4: V1**2*f/J**3,\n",
       " B5: 0,\n",
       " B1: 0,\n",
       " B0: 0,\n",
       " B9: 0,\n",
       " B3: V1**2*f/J**3,\n",
       " B6: (I*V1*(V1*V2 - f**2) - I*V2*(V1**2 - f**2))/J**3,\n",
       " B7: I*V1*(V1*V2 - f**2)/J**3,\n",
       " B2: 0,\n",
       " B8: 0}"
      ]
     },
     "execution_count": 17,
     "metadata": {},
     "output_type": "execute_result"
    }
   ],
   "source": [
    "subs_rules"
   ]
  },
  {
   "cell_type": "code",
   "execution_count": 18,
   "metadata": {
    "autoscroll": "json-false",
    "collapsed": false,
    "ein.tags": [
     "worksheet-0"
    ]
   },
   "outputs": [],
   "source": [
    "psi = substitute_group(psi,subs_rules, split_orders = split_orders)\n",
    "psi += psi4"
   ]
  },
  {
   "cell_type": "code",
   "execution_count": 26,
   "metadata": {
    "autoscroll": "json-false",
    "collapsed": false,
    "ein.tags": [
     "worksheet-0"
    ]
   },
   "outputs": [
    {
     "data": {
      "text/plain": [
       "[-C0 : [1, 2, 8],\n",
       " 4*V1**2*V2**2/(9*J**4) + 2*V1**2*f**2/(9*J**4) - 2*V1*V2*f**2/(3*J**4) + 2*V2**2*f**2/(9*J**4) : [2, 5, 7, 8, 9],\n",
       " -2*I*V1**3*f/(3*J**4) + 5*I*V1**2*V2*f/(9*J**4) : [2, 4, 5, 6, 8, 9, 10],\n",
       " C35 - 2*V1**3*V2/(3*J**4) : [1, 7, 8, 9, 10],\n",
       " 2*I*V1**3*f/(3*J**4) - I*V1**2*V2*f/(3*J**4) : [2, 3, 7, 8, 10, 11, 13],\n",
       " -C12 : [1, 2, 5, 6, 9],\n",
       " 7*V1**3*V2/(9*J**4) - V1**2*f**2/(9*J**4) - V1*V2*f**2/(3*J**4) : [2, 4, 5, 7, 9],\n",
       " C21 + I*V1**3*f/J**4 : [1, 3, 6, 7, 10, 11, 12],\n",
       " -4*V1**2*V2**2/(9*J**4) - 2*V1**2*f**2/(3*J**4) + V1*V2*f**2/(3*J**4) : [5, 6, 8, 9, 11],\n",
       " 2*I*V1**3*f/(3*J**4) - 2*I*V1**2*V2*f/(9*J**4) : [3, 4, 5, 6, 8, 9, 11],\n",
       " -8*V1**3*V2/(9*J**4) + V1**2*f**2/(3*J**4) - V1*V2*f**2/(3*J**4) : [2, 3, 6, 8, 10],\n",
       " -C32 : [1, 5, 6, 7, 9],\n",
       " 7*I*V1**3*f/(9*J**4) - 5*I*V1**2*V2*f/(9*J**4) : [3, 4, 6, 7, 10, 11, 13],\n",
       " -C20 : [1, 2, 6, 7, 10, 11, 12],\n",
       " -5*I*V1**2*V2*f/(9*J**4) : [2, 3, 5, 6, 8, 9, 13],\n",
       " -C9 + I*V1**2*V2*f/(3*J**4) : [1, 2, 4, 6, 8, 9, 10],\n",
       " -V1**2*f**2/J**4 : [4, 5, 8, 9, 13],\n",
       " I*V1**3*f/J**4 : [2, 3, 8, 9, 12, 13, 15],\n",
       " V1**3*V2/(3*J**4) - 14*V1**2*f**2/(9*J**4) + 5*V1*V2*f**2/(9*J**4) : [3, 4, 8, 9, 11],\n",
       " -C11 : [1, 3, 5, 6, 9],\n",
       " -C32 : [1, 4, 6, 7, 8],\n",
       " -4*V1**2*V2**2/(9*J**4) - 5*V1**2*f**2/(9*J**4) + V1*V2*f**2/(9*J**4) : [2, 3, 4, 6, 10],\n",
       " -C44 : [1, 3, 6, 8, 9],\n",
       " -C3 : [1, 2, 3, 5, 7, 8, 9],\n",
       " -C28 : [1, 3, 4, 5, 6],\n",
       " 2*I*V1**3*f/(3*J**4) - I*V1**2*V2*f/(3*J**4) : [2, 3, 6, 7, 9, 11, 12],\n",
       " C10 + C12 - C14 - V1**2*f**2/J**4 + V1*V2*f**2/J**4 : [1, 2, 5, 7, 8],\n",
       " -4*I*V1**2*V2*f/(3*J**4) : [2, 3, 4, 5, 8, 9, 11],\n",
       " -C43 : [1, 3, 7, 8, 9],\n",
       " -I*V1**3*f/(3*J**4) - 2*I*V1**2*V2*f/(9*J**4) : [3, 4, 5, 7, 8, 9, 10],\n",
       " -V1**2*f**2/(3*J**4) - V1*V2*f**2/(3*J**4) : [4, 5, 6, 8, 10],\n",
       " -C24 : [1, 2, 6, 7, 10],\n",
       " -7*V1**2*f**2/(9*J**4) + 5*V1*V2*f**2/(9*J**4) : [3, 4, 6, 7, 11],\n",
       " -C19 : [1, 7, 8],\n",
       " -C13 : [1, 2, 5, 6, 8],\n",
       " -C16 : [1, 2, 3, 4, 5, 6, 8],\n",
       " -C38 : [1, 3, 8, 9, 11],\n",
       " -C34 : [1, 7, 8, 9, 11],\n",
       " -C48 : [1, 2, 3, 6, 7],\n",
       " -I*V1**3*f/(3*J**4) - I*V1**2*V2*f/(3*J**4) + 2*I*V1*V2**2*f/J**4 : [2, 3, 4, 5, 7, 8, 9],\n",
       " C8 : [1, 2, 5, 7, 8, 9, 11],\n",
       " 7*I*V1**3*f/(9*J**4) - 5*I*V1**2*V2*f/(9*J**4) : [2, 3, 5, 6, 10, 11, 13],\n",
       " -C23 : [1, 2, 4],\n",
       " -C45 : [1, 2, 3, 4, 5],\n",
       " -3*V1**2*V2**2/J**4 - V1**2*f**2/J**4 + V1*V2*f**2/J**4 : [2, 3, 9, 10, 11],\n",
       " V1**4/J**4 : [2, 3, 6, 7, 10, 11, 14, 15, 17],\n",
       " 7*V1**3*V2/(9*J**4) - 7*V1**2*f**2/(9*J**4) : [3, 4, 5, 6, 9],\n",
       " -5*V1**2*V2**2/(9*J**4) - 7*V1**2*f**2/(9*J**4) + 7*V1*V2*f**2/(3*J**4) - 7*V2**2*f**2/(9*J**4) : [3, 4, 7, 8, 9],\n",
       " 13*V1**2*V2**2/(9*J**4) + 2*V1**2*f**2/(3*J**4) - V1*V2*f**2/(3*J**4) : [4, 6, 8, 9, 10],\n",
       " -5*V1**2*V2**2/(9*J**4) - 7*V1**2*f**2/(9*J**4) + 5*V1*V2*f**2/(9*J**4) : [2, 3, 5, 6, 11],\n",
       " I*V1**3*f/J**4 : [2, 3, 6, 7, 12, 13, 15],\n",
       " -C30 : [1, 5, 7],\n",
       " 4*I*V1**3*f/(9*J**4) - 13*I*V1**2*V2*f/(9*J**4) - 4*I*V1*V2**2*f/(9*J**4) - I*V1*f**3/(9*J**4) + I*V2*f**3/(9*J**4) : [2, 4, 8],\n",
       " 8*V1**3*V2/(9*J**4) - 4*V1**2*f**2/(3*J**4) + V1*V2*f**2/(3*J**4) : [2, 3, 7, 8, 11],\n",
       " -V1**3*V2/(3*J**4) : [2, 3, 6, 7, 9, 11, 12, 13, 14],\n",
       " -C23 : [1, 3, 5],\n",
       " V1**2*f**2/(3*J**4) + 4*V1*V2*f**2/(3*J**4) : [4, 5, 6, 7, 9],\n",
       " -C4 - C6 + C8 : [1, 2, 4, 7, 8, 9, 10],\n",
       " -2*I*V1**3*f/(3*J**4) + I*V1**2*V2*f/J**4 - 3*I*V1*V2**2*f/J**4 + 2*I*V1*f**3/(3*J**4) + I*V2**3*f/J**4 + I*V2*f**3/(3*J**4) : [3, 4, 5],\n",
       " -2*V1**2*f**2/(3*J**4) + V1*V2*f**2/(3*J**4) : [4, 5, 7, 8, 11],\n",
       " -5*I*V1**3*f/(9*J**4) + I*V1**2*V2*f/(9*J**4) : [3, 5, 6, 7, 10, 11, 12],\n",
       " -C15 : [1, 2, 5, 7, 9],\n",
       " C5 + C7 - C9 + 2*I*V1**2*V2*f/(3*J**4) : [1, 3, 4, 6, 8, 9, 11],\n",
       " I*V1**3*f/J**4 - I*V1**2*V2*f/J**4 : [2, 3, 7, 8, 9, 10, 11],\n",
       " -I*V1**2*V2*f/(3*J**4) : [4, 5, 7, 8, 10, 11, 13],\n",
       " -C14 + V1**2*f**2/(3*J**4) + V1*V2*f**2/(3*J**4) : [1, 3, 5, 7, 9],\n",
       " -C34 : [1, 6, 8, 9, 10],\n",
       " 2*I*V1**2*V2*f/(3*J**4) : [4, 5, 6, 9, 10, 11, 13],\n",
       " 3*V1**2*V2**2/J**4 + 2*V1**2*f**2/J**4 - 5*V1*V2*f**2/J**4 + f**4/J**4 : [9],\n",
       " 5*I*V1**3*f/(9*J**4) + I*V1**2*V2*f/(9*J**4) : [2, 3, 4, 6, 7, 8, 10],\n",
       " I*V1**3*f/(3*J**4) + I*V1**2*V2*f/(3*J**4) : [2, 3, 6, 7, 8, 10, 12],\n",
       " -C0 : [1, 3, 9],\n",
       " 2*V1**3*V2/J**4 - V1**2*f**2/J**4 : [2, 3, 6, 7, 13],\n",
       " -C18 : [1, 6, 8],\n",
       " 4*V1**2*V2**2/(9*J**4) + 5*V1**2*f**2/(9*J**4) - V1*V2*f**2/(3*J**4) + 2*V2**2*f**2/(9*J**4) : [3, 5, 6, 8, 9],\n",
       " 7*I*V1**3*f/(9*J**4) + 2*I*V1**2*V2*f/(9*J**4) : [2, 3, 5, 6, 7, 8, 11],\n",
       " -V1**2*f**2/J**4 : [4, 5, 10, 11, 13],\n",
       " C2 - I*V1**2*V2*f/J**4 : [1, 2, 3, 4, 7, 8, 9],\n",
       " I*V1**3*f/J**4 - I*V1**2*V2*f/J**4 : [2, 3, 6, 7, 11, 12, 13],\n",
       " V1**3*V2/J**4 - V1**2*f**2/J**4 : [6, 7, 10, 11, 13],\n",
       " -C47 : [1, 2, 3, 5, 8],\n",
       " -I*V1**3*f/J**4 + 4*I*V1**2*V2*f/J**4 - I*V1*f**3/J**4 : [2, 3, 11],\n",
       " -C2 : [1, 2, 3, 5, 6, 8, 9],\n",
       " -C41 : [1, 2, 3, 4, 8, 9, 10],\n",
       " -2*I*V1**3*f/(9*J**4) + 4*I*V1**2*V2*f/(9*J**4) : [2, 5, 6, 7, 10, 11, 13],\n",
       " 5*V1**2*V2**2/(9*J**4) + 4*V1**2*f**2/(9*J**4) + V1*V2*f**2/(3*J**4) - 2*V2**2*f**2/(9*J**4) : [2, 4, 6, 8, 9],\n",
       " 4*V1**2*f**2/(9*J**4) + V1*V2*f**2/(9*J**4) : [2, 4, 6, 7, 10],\n",
       " -C43 : [1, 2, 6, 8, 9],\n",
       " C25 - V1**2*f**2/J**4 : [1, 3, 6, 7, 10],\n",
       " -V1**3*V2/(3*J**4) - V1**2*f**2/(9*J**4) + V1*V2*f**2/(9*J**4) : [2, 4, 8, 9, 10],\n",
       " -7*I*V1**3*f/(9*J**4) + 13*I*V1**2*V2*f/(9*J**4) - 5*I*V1*V2**2*f/(9*J**4) - 14*I*V1*f**3/(9*J**4) + 5*I*V2*f**3/(9*J**4) : [3, 4, 9],\n",
       " -7*I*V1**2*V2*f/(9*J**4) - 2*I*V1*V2**2*f/(9*J**4) : [2, 3, 5, 7, 8, 10, 11],\n",
       " C11 - C13 + C15 : [1, 3, 5, 7, 8],\n",
       " -4*V1**3*V2/(9*J**4) + 7*V1**2*f**2/(9*J**4) - 2*V1*V2*f**2/(3*J**4) : [2, 4, 5, 6, 8],\n",
       " -C29 : [1, 3, 4, 5, 7],\n",
       " -4*V1**2*V2**2/(9*J**4) + V1**2*f**2/(3*J**4) + V1*V2*f**2/(3*J**4) : [5, 7, 8, 9, 10],\n",
       " 8*I*V1**2*V2*f/(9*J**4) + 2*I*V1*V2**2*f/(9*J**4) : [2, 4, 6, 7, 8, 10, 11],\n",
       " -2*V1**3*V2/(3*J**4) : [2, 3, 5, 10, 11],\n",
       " 2*I*V1**3*f/(3*J**4) - I*V1**2*V2*f/(3*J**4) : [2, 3, 6, 7, 9, 10, 13],\n",
       " -C5 - 2*I*V1**2*V2*f/(3*J**4) : [1, 3, 5, 6, 8, 9, 10],\n",
       " -C17 : [1, 2, 3, 4, 5, 6, 9],\n",
       " V1**2*f**2/(3*J**4) - 2*V1*V2*f**2/(3*J**4) : [4, 5, 6, 9, 11],\n",
       " 2*V1**3*V2/(3*J**4) : [2, 3, 6, 7, 8, 11, 12, 13, 15],\n",
       " -2*I*V1**3*f/(9*J**4) + 4*I*V1**2*V2*f/(9*J**4) : [2, 3, 4, 7, 10, 11, 13],\n",
       " -C18 : [1, 7, 9],\n",
       " -V1**2*f**2/J**4 + V1*V2*f**2/J**4 : [4, 5, 9, 10, 11],\n",
       " -2*I*V1**3*f/(9*J**4) - I*V1**2*V2*f/(9*J**4) : [2, 3, 4, 6, 7, 9, 11],\n",
       " I*V1**3*f/J**4 : [4, 5, 8, 9, 12, 13, 15],\n",
       " I*V1**3*f/(3*J**4) - 2*I*V1**2*V2*f/(3*J**4) : [3, 8, 9],\n",
       " V1**3*V2/(9*J**4) : [2, 3, 5, 7, 8, 9, 12, 13, 14],\n",
       " -I*V1**2*V2*f/J**4 : [4, 5, 8, 9, 11, 12, 13],\n",
       " -C8 : [1, 3, 4, 6, 8, 9, 10],\n",
       " C31 + 2*I*V1**2*V2*f/(3*J**4) + 2*I*V1*f**3/(3*J**4) - 2*I*V2*f**3/(3*J**4) : [1, 4, 7],\n",
       " -C10 + V1**2*f**2/(3*J**4) - 2*V1*V2*f**2/(3*J**4) : [1, 2, 4, 7, 9],\n",
       " -I*V1**3*f/(3*J**4) - I*V1**2*V2*f/(3*J**4) : [2, 3, 7, 9, 10, 11, 12],\n",
       " -C26 : [1, 2, 4, 5, 6, 7, 9],\n",
       " C1 + 2*I*V1**2*V2*f/J**4 - I*V1*f**3/J**4 : [1, 2, 9],\n",
       " -C24 : [1, 3, 6, 7, 11],\n",
       " 4*I*V1**3*f/(9*J**4) + I*V1**2*V2*f/(9*J**4) : [2, 3, 5, 7, 10, 11, 12],\n",
       " -5*V1**3*V2/(9*J**4) - 7*V1**2*f**2/(9*J**4) + 2*V1*V2*f**2/(3*J**4) : [3, 4, 5, 7, 8],\n",
       " -C36 : [1, 3, 6, 7, 9, 10, 11],\n",
       " -V1**2*V2**2/J**4 + V1*V2*f**2/J**4 : [6, 7, 9, 10, 11],\n",
       " C26 - I*V1**3*f/(3*J**4) - I*V1**2*V2*f/(3*J**4) : [1, 3, 4, 5, 6, 7, 8],\n",
       " C28 - 4*V1**3*V2/(3*J**4) + 2*V1**2*f**2/(3*J**4) + 4*V1*V2*f**2/(3*J**4) : [1, 2, 4, 5, 7],\n",
       " 2*I*V1**3*f/(9*J**4) - 8*I*V1**2*V2*f/(9*J**4) - 5*I*V1*V2**2*f/(9*J**4) + I*V1*f**3/(9*J**4) - I*V2*f**3/(9*J**4) : [3, 5, 8],\n",
       " I*V1**2*V2*f/(9*J**4) : [2, 3, 5, 7, 8, 9, 12],\n",
       " C13 : [1, 3, 4, 7, 9],\n",
       " -I*V1**3*f/(3*J**4) + 2*I*V1**2*V2*f/(3*J**4) : [2, 3, 6, 9, 10, 11, 13],\n",
       " -5*V1**2*V2**2/(9*J**4) - 4*V1**2*f**2/(9*J**4) - V1*V2*f**2/(9*J**4) : [2, 3, 5, 7, 10],\n",
       " -C10 : [1, 3, 5, 6, 8],\n",
       " -V1**3*V2/(9*J**4) : [2, 3, 4, 6, 8, 9, 12, 13, 14],\n",
       " C4 : [1, 2, 4, 6, 8, 9, 11],\n",
       " -I*V1**3*f/(3*J**4) + 2*I*V1**2*V2*f/(3*J**4) : [2, 3, 6, 7, 8, 11, 13],\n",
       " 7*V1**2*V2**2/(9*J**4) : [2, 3, 5, 6, 8, 9, 11, 12, 13],\n",
       " I*V1**2*V2*f/(9*J**4) - 2*I*V1*V2**2*f/(9*J**4) : [2, 5, 6, 7, 9, 10, 11],\n",
       " -C14 : [1, 2, 4, 6, 8],\n",
       " C17 + I*V1**3*f/J**4 : [1, 2, 3, 4, 5, 7, 8],\n",
       " 2*V1**3*V2/(9*J**4) - V1**2*f**2/(3*J**4) + V1*V2*f**2/(3*J**4) : [2, 3, 7, 9, 10],\n",
       " C15 : [1, 3, 4, 6, 8],\n",
       " 5*I*V1**3*f/(9*J**4) - 5*I*V1**2*V2*f/(9*J**4) + 14*I*V1*V2**2*f/(9*J**4) + 2*I*V1*f**3/(3*J**4) - 2*I*V2*f**3/(3*J**4) : [4, 7, 9],\n",
       " -2*V1**2*f**2/(3*J**4) + V1*V2*f**2/(3*J**4) : [4, 5, 7, 9, 10],\n",
       " -I*V1**2*V2*f/(3*J**4) : [4, 5, 7, 9, 10, 11, 12],\n",
       " -C40 : [1, 4, 5, 6, 7],\n",
       " C42 + I*V1**3*f/J**4 : [1, 2, 3, 5, 8, 9, 10],\n",
       " -11*I*V1**2*V2*f/(9*J**4) + 2*I*V1*V2**2*f/(9*J**4) : [2, 3, 4, 6, 8, 10, 11],\n",
       " -V1**2*f**2/J**4 : [2, 3, 8, 9, 13],\n",
       " -C46 : [1, 2, 3, 4, 8],\n",
       " V1**2*f**2/(9*J**4) - V1*V2*f**2/(9*J**4) : [3, 5, 8, 9, 10],\n",
       " C11 : [1, 2, 4, 7, 8],\n",
       " -2*I*V1**3*f/(3*J**4) + I*V1**2*V2*f/(3*J**4) : [2, 3, 6, 8, 10, 11, 12],\n",
       " -V1**2*f**2/J**4 + V1*V2*f**2/J**4 : [5, 6, 7, 8, 9],\n",
       " -4*I*V1**3*f/(9*J**4) - I*V1**2*V2*f/(9*J**4) : [2, 4, 6, 7, 10, 11, 12],\n",
       " 14*V1**2*V2**2/(9*J**4) + V1**2*f**2/(3*J**4) - 2*V1*V2*f**2/(3*J**4) : [4, 7, 8, 9, 11],\n",
       " I*V1**2*V2*f/J**4 - I*V1*f**3/J**4 : [6, 7, 11],\n",
       " -C20 : [1, 3, 6, 7, 10, 11, 13],\n",
       " -C7 : [1, 3, 4, 7, 8, 9, 10],\n",
       " -I*V1**3*f/(3*J**4) + 4*I*V1**2*V2*f/(9*J**4) : [2, 4, 5, 7, 8, 9, 11],\n",
       " -C22 : [1, 2, 5],\n",
       " -2*V1**2*V2**2/(9*J**4) : [2, 3, 4, 7, 8, 9, 11, 12, 13],\n",
       " -C7 - I*V1**2*V2*f/(3*J**4) : [1, 2, 5, 6, 8, 9, 11],\n",
       " -C42 : [1, 2, 3, 4, 8, 9, 11],\n",
       " 4*V1**2*V2**2/(9*J**4) + 2*V1**2*f**2/(9*J**4) - 4*V1*V2*f**2/(9*J**4) : [2, 3, 4, 7, 11],\n",
       " -C3 : [1, 2, 3, 4, 6, 8, 9],\n",
       " -C29 : [1, 2, 4, 5, 6],\n",
       " I*V1**3*f/J**4 : [2, 3, 6, 7, 10, 11, 15],\n",
       " -I*V1**3*f/J**4 + 3*I*V1**2*V2*f/J**4 - I*V1*f**3/J**4 : [8, 9, 11],\n",
       " -C31 : [1, 5, 6],\n",
       " -V1**3*V2/(3*J**4) : [2, 3, 6, 7, 9, 10, 12, 13, 15],\n",
       " -V1**3*V2/J**4 : [2, 3, 6, 7, 10, 11, 13, 14, 15],\n",
       " -4*I*V1**3*f/(9*J**4) + 4*I*V1**2*V2*f/(9*J**4) - 4*I*V1*V2**2*f/(9*J**4) - I*V1*f**3/(3*J**4) + I*V2*f**3/(3*J**4) : [5, 7, 8],\n",
       " -2*V1**2*V2**2/(9*J**4) : [2, 3, 5, 7, 8, 9, 10, 12, 13],\n",
       " C22 - 2*I*V1*V2**2*f/J**4 + I*V1*f**3/J**4 : [1, 3, 4],\n",
       " -C9 : [1, 3, 5, 7, 8, 9, 11],\n",
       " -5*V1**2*V2**2/J**4 - 4*V1**2*f**2/(3*J**4) + 8*V1*V2*f**2/(3*J**4) : [2, 3, 6, 7, 9],\n",
       " -5*V1**3*V2/(9*J**4) : [2, 3, 5, 6, 8, 9, 12, 13, 15],\n",
       " -C11 + C13 - C15 : [1, 2, 4, 6, 9],\n",
       " -C30 : [1, 4, 6],\n",
       " -C27 : [1, 2, 4, 5, 6, 7, 8],\n",
       " C44 - V1**2*f**2/J**4 + V1*V2*f**2/J**4 : [1, 2, 7, 8, 9],\n",
       " C10 + C12 - C14 - V1**2*f**2/(3*J**4) + 2*V1*V2*f**2/(3*J**4) : [1, 3, 4, 6, 9],\n",
       " I*V1**2*V2*f/(3*J**4) : [4, 5, 6, 8, 10, 11, 12],\n",
       " -2*I*V1**3*f/(3*J**4) + 2*I*V1**2*V2*f/J**4 - 4*I*V1*V2**2*f/J**4 - I*V1*f**3/(3*J**4) + 4*I*V2*f**3/(3*J**4) : [2, 3, 7],\n",
       " -2*I*V1**3*f/(9*J**4) - 10*I*V1**2*V2*f/(9*J**4) + 13*I*V1*V2**2*f/(9*J**4) + I*V1*f**3/(3*J**4) - I*V2*f**3/(3*J**4) : [4, 6, 8],\n",
       " -C38 : [1, 2, 8, 9, 10],\n",
       " -13*I*V1**2*V2*f/(9*J**4) + 7*I*V1*V2**2*f/(9*J**4) : [2, 3, 5, 6, 9, 10, 11],\n",
       " -C27 : [1, 3, 4, 5, 6, 7, 9],\n",
       " -C21 : [1, 2, 6, 7, 10, 11, 13],\n",
       " 5*V1**2*f**2/(9*J**4) - V1*V2*f**2/(9*J**4) : [3, 5, 6, 7, 10],\n",
       " -V1**3*V2/(3*J**4) + 4*V1**2*f**2/(9*J**4) - 4*V1*V2*f**2/(9*J**4) : [2, 5, 8, 9, 11],\n",
       " -C37 : [1, 2, 6, 7, 9, 10, 11],\n",
       " 2*V1**2*V2**2/(9*J**4) : [2, 3, 4, 6, 8, 9, 10, 12, 13],\n",
       " V1**2*f**2/(3*J**4) + 4*V1*V2*f**2/(3*J**4) : [2, 3, 4, 5, 9],\n",
       " 4*V1**3*V2/(9*J**4) : [2, 3, 4, 7, 8, 9, 12, 13, 15],\n",
       " 5*I*V1**2*V2*f/(9*J**4) - 2*I*V1*V2**2*f/(9*J**4) : [2, 3, 4, 7, 9, 10, 11],\n",
       " -7*I*V1**3*f/(9*J**4) + 10*I*V1**2*V2*f/(9*J**4) - 4*I*V1*V2**2*f/(9*J**4) - 4*I*V1*f**3/(3*J**4) + I*V2*f**3/(3*J**4) : [5, 6, 9],\n",
       " 4*V1**3*V2/(3*J**4) - 2*V1**2*f**2/(3*J**4) - 4*V1*V2**3/J**4 - 7*V1*V2*f**2/(3*J**4) + 3*V2**2*f**2/J**4 : [5],\n",
       " -C16 : [1, 2, 3, 4, 5, 7, 9],\n",
       " I*V1**3*f/J**4 - I*V1**2*V2*f/J**4 : [3, 4, 5, 6, 7, 8, 9],\n",
       " 2*V1**2*f**2/(9*J**4) - 4*V1*V2*f**2/(9*J**4) : [2, 5, 6, 7, 11],\n",
       " 2*I*V1**2*V2*f/(3*J**4) - I*V1*V2**2*f/J**4 + 2*I*V1*f**3/(3*J**4) - 2*I*V2*f**3/(3*J**4) : [3, 6, 7],\n",
       " -C41 : [1, 2, 3, 5, 8, 9, 11],\n",
       " 2*V1**3*V2/J**4 - V1**2*f**2/J**4 : [2, 3, 10, 11, 13],\n",
       " -C46 : [1, 2, 3, 5, 9],\n",
       " 5*I*V1**3*f/(9*J**4) - 2*I*V1**2*V2*f/(9*J**4) + 4*I*V1*V2**2*f/(9*J**4) + 4*I*V1*f**3/(9*J**4) - 4*I*V2*f**3/(9*J**4) : [2, 5, 9],\n",
       " -C1 : [1, 3, 8],\n",
       " C33 + V1**2*f**2/(3*J**4) - 2*V1*V2*f**2/(3*J**4) : [1, 5, 6, 7, 8],\n",
       " 2*I*V1**2*V2*f/J**4 - 4*I*V1*V2**2*f/J**4 - I*V1*f**3/J**4 + I*V2*f**3/J**4 : [7, 8, 9],\n",
       " -C35 : [1, 6, 8, 9, 11],\n",
       " C37 - I*V1**2*V2*f/J**4 : [1, 3, 6, 7, 8, 10, 11],\n",
       " -V1**3*V2/J**4 + V1**2*f**2/J**4 + 4*V1*V2**3/J**4 + 5*V1*V2*f**2/(3*J**4) - 2*V2**2*f**2/J**4 : [2, 3, 5, 6, 7],\n",
       " 4*I*V1**2*V2*f/(9*J**4) : [2, 3, 4, 7, 8, 9, 13],\n",
       " -C36 : [1, 2, 6, 7, 8, 10, 11],\n",
       " C39 - V1**2*f**2/J**4 : [1, 3, 8, 9, 10],\n",
       " C4 + C6 - C8 : [1, 3, 5, 6, 8, 9, 11],\n",
       " -C6 : [1, 3, 4, 7, 8, 9, 11],\n",
       " C5 + C7 - C9 + I*V1**2*V2*f/(3*J**4) : [1, 2, 5, 7, 8, 9, 10],\n",
       " V1**2*f**2/(3*J**4) - 2*V1*V2*f**2/(3*J**4) : [2, 3, 5, 8, 9],\n",
       " -8*I*V1**2*V2*f/(9*J**4) + 7*I*V1*V2**2*f/(9*J**4) : [3, 4, 6, 7, 9, 10, 11],\n",
       " -I*V1**2*V2*f/J**4 : [2, 3, 8, 9, 11, 12, 13],\n",
       " C6 : [1, 2, 5, 6, 8, 9, 10],\n",
       " -C39 : [1, 2, 8, 9, 11],\n",
       " -C33 : [1, 4, 6, 7, 9],\n",
       " C19 + I*V1**3*f/(3*J**4) - 2*I*V1**2*V2*f/(3*J**4) : [1, 6, 9],\n",
       " -7*V1**3*V2/(9*J**4) + 2*V1**2*f**2/(3*J**4) - 2*V1*V2*f**2/(3*J**4) : [2, 3, 6, 9, 11],\n",
       " 5*I*V1**2*V2*f/(3*J**4) - 5*I*V1*V2**2*f/J**4 - I*V1*f**3/(3*J**4) + 4*I*V2*f**3/(3*J**4) : [4, 5, 7],\n",
       " -4*I*V1**2*V2*f/(3*J**4) : [2, 3, 6, 7, 8, 9, 11],\n",
       " V1**3*V2/(3*J**4) : [2, 3, 6, 7, 8, 10, 12, 13, 14],\n",
       " 5*I*V1**3*f/(9*J**4) - I*V1**2*V2*f/(9*J**4) : [2, 3, 4, 6, 10, 11, 12],\n",
       " C47 - V1**2*f**2/J**4 : [1, 2, 3, 4, 9],\n",
       " 10*I*V1**2*V2*f/(9*J**4) - 2*I*V1*V2**2*f/(9*J**4) : [3, 5, 6, 7, 8, 10, 11],\n",
       " -C12 + 2*V1**2*f**2/(3*J**4) - V1*V2*f**2/(3*J**4) : [1, 3, 4, 7, 8],\n",
       " -C4 : [1, 3, 5, 7, 8, 9, 10],\n",
       " -C5 : [1, 2, 4, 7, 8, 9, 11],\n",
       " -I*V1**2*V2*f/(9*J**4) : [2, 3, 4, 6, 8, 9, 12],\n",
       " -C25 : [1, 2, 6, 7, 11],\n",
       " 4*I*V1**3*f/(9*J**4) - 4*I*V1**2*V2*f/(9*J**4) : [2, 3, 5, 6, 7, 9, 10],\n",
       " 2*I*V1**2*V2*f/J**4 - I*V1*f**3/J**4 : [4, 5, 11]]"
      ]
     },
     "execution_count": 26,
     "metadata": {},
     "output_type": "execute_result"
    }
   ],
   "source": [
    "psi4"
   ]
  },
  {
   "cell_type": "code",
   "execution_count": 65,
   "metadata": {
    "autoscroll": "json-false",
    "collapsed": false,
    "ein.tags": [
     "worksheet-0"
    ]
   },
   "outputs": [],
   "source": [
    "split_orders = [0, 1, 3, 10, 50, 287]"
   ]
  },
  {
   "cell_type": "code",
   "execution_count": 100,
   "metadata": {
    "autoscroll": "json-false",
    "collapsed": false,
    "ein.tags": [
     "worksheet-0"
    ]
   },
   "outputs": [
    {
     "data": {
      "text/plain": [
       "[-10*I*V1**3*V2*f/(9*J**4) + 2*I*V1**2*V2**2*f/(9*J**4),\n",
       " 0,\n",
       " 2*I*V1**3*V2*f/(3*J**4) - 4*I*V1**2*V2**2*f/(3*J**4) - 4*I*V1**2*f**3/(9*J**4) + 8*I*V1*V2*f**3/(9*J**4),\n",
       " 0,\n",
       " -10*I*V1**3*V2*f/(3*J**4) + 8*I*V1**2*V2**2*f/(3*J**4) + 14*I*V1**2*f**3/(9*J**4) - 10*I*V1*V2*f**3/(9*J**4),\n",
       " 0,\n",
       " -44*I*V1**3*V2*f/(9*J**4) - 2*I*V1**2*V2**2*f/(9*J**4) + 2*I*V1**2*f**3/J**4,\n",
       " 0,\n",
       " 14*V1**3*f**2/(9*J**4) + 4*V1**2*V2*f**2/(9*J**4),\n",
       " 0,\n",
       " -4*V1**3*f**2/(9*J**4),\n",
       " 0,\n",
       " 0,\n",
       " 0,\n",
       " -2*V1**3*f**2/J**4 + 10*V1**2*V2*f**2/(9*J**4),\n",
       " 0,\n",
       " 2*C10*V2 + 26*V1**2*V2*f**2/(9*J**4) - 14*V1*V2**2*f**2/(9*J**4),\n",
       " -2*C11*V2 - 2*I*C4*f - 2*I*C6*f + 2*I*C8*f,\n",
       " -2*C12*V2 + 2*I*C7*f - 2*V1**2*V2*f**2/(3*J**4),\n",
       " -2*C15*V2 - 2*I*C36*f - 2*I*C8*f,\n",
       " -2*C10*V2 + 2*I*C5*f + 2*V1**2*V2*f**2/(3*J**4) - 4*V1*V2**2*f**2/(3*J**4),\n",
       " -2*C11*V2 + 2*C13*V2 - 2*C15*V2 - 2*I*C4*f,\n",
       " 2*C10*V2 + 2*C12*V2 - 2*C14*V2 - 2*I*C5*f - 2*I*C7*f + 2*I*C9*f + 28*V1**2*V2*f**2/(9*J**4) + 8*V1*V2**2*f**2/(9*J**4),\n",
       " 2*C13*V2 + 2*I*C6*f,\n",
       " 2*C12*V2 - 22*V1**2*V2*f**2/(9*J**4) + 10*V1*V2**2*f**2/(9*J**4),\n",
       " -2*C11*V2,\n",
       " 2*C14*V2,\n",
       " 2*C13*V2,\n",
       " -2*C10*V2 - 2*C12*V2 + 2*C14*V2 - 2*I*C37*f + 2*V1**2*V2*f**2/J**4 - 2*V1*V2**2*f**2/J**4,\n",
       " -2*C11*V2 + 2*C13*V2 - 2*C15*V2 - 2*I*C36*f,\n",
       " -2*C14*V2 + 2*I*C37*f + 2*I*C9*f + 38*V1**2*V2*f**2/(9*J**4) + 10*V1*V2**2*f**2/(9*J**4),\n",
       " -2*C15*V2,\n",
       " -2*C5*V1 - 2*C7*V1 + 2*C9*V1 - 14*I*V1**3*V2*f/(9*J**4),\n",
       " 2*C6*V1,\n",
       " 2*C9*V1 + 2*I*V1**3*V2*f/(9*J**4),\n",
       " -2*C4*V1 - 2*C6*V1 + 2*C8*V1,\n",
       " 2*C7*V1 + 2*I*V1**3*V2*f/(3*J**4),\n",
       " -2*C4*V1,\n",
       " 0,\n",
       " 0,\n",
       " -10*I*V1**3*V2*f/(9*J**4),\n",
       " 0,\n",
       " 0,\n",
       " 0,\n",
       " 8*I*V1**3*V2*f/(9*J**4),\n",
       " 0,\n",
       " 2*C5*V1,\n",
       " -2*C8*V1,\n",
       " -16*I*V1**4*f/(9*J**4) - 8*I*V1**3*V2*f/(9*J**4) + 52*I*V1**2*V2**2*f/(9*J**4) - 16*I*V1**2*f**3/(9*J**4) - 22*I*V1*V2*f**3/(9*J**4),\n",
       " 0,\n",
       " 14*V1**3*f**2/(9*J**4) - 8*V1**2*V2**3/(9*J**4) - 10*V1**2*V2*f**2/(3*J**4) + 4*V1*V2**2*f**2/(9*J**4) + 2*V1*f**4/J**4,\n",
       " 0,\n",
       " 26*V1**3*f**2/(9*J**4) + 8*V1**2*V2**3/(9*J**4) + 8*V1**2*V2*f**2/(9*J**4) + 4*V1*V2**2*f**2/J**4 + 4*V1*f**4/(3*J**4) - 4*V2*f**4/(3*J**4),\n",
       " 0,\n",
       " -4*V1**3*f**2/(3*J**4) + 8*V1**2*V2**3/(9*J**4) + 62*V1**2*V2*f**2/(9*J**4) - 4*V1*V2**2*f**2/(9*J**4) - 2*V1*f**4/J**4,\n",
       " 0,\n",
       " -32*V1**3*f**2/(9*J**4) + 8*V1**2*V2**3/(9*J**4) + 34*V1**2*V2*f**2/(9*J**4) - 2*V1*V2**2*f**2/J**4 - 8*V1*f**4/(3*J**4) + 2*V2*f**4/(3*J**4),\n",
       " 0,\n",
       " 2*C35*V2 - 2*C39*V1 + 2*C40*V1 + 2*I*C5*f - 4*V1**3*V2**2/(3*J**4) + 10*V1**3*f**2/(3*J**4) - 22*V1**2*V2*f**2/(9*J**4),\n",
       " 2*C34*V2 + 2*I*C4*f,\n",
       " 2*C35*V2 + 2*I*C9*f + 2*V1**3*f**2/(3*J**4) - 8*V1**2*V2*f**2/(9*J**4),\n",
       " -2*C34*V2 + 2*C38*V1 - 2*I*C4*f - 2*I*C6*f + 2*I*C8*f,\n",
       " -2*V1**3*f**2/J**4,\n",
       " 2*C46*V1,\n",
       " -2*C47*V1 + 2*V1**3*f**2/J**4,\n",
       " 0,\n",
       " 2*C29*V1 - 2*C34*V1 + 2*C38*V2 - 2*I*C8*f,\n",
       " -2*C35*V1 + 2*C39*V2 + 2*I*C5*f + 2*I*C7*f - 2*I*C9*f - 2*V1**4*V2/(3*J**4) + 8*V1**3*f**2/(9*J**4) + 4*V1**2*V2*f**2/(9*J**4),\n",
       " -2*C38*V2 + 2*I*C4*f + 2*I*C41*f,\n",
       " -2*C28*V1 + 2*C39*V2 - 2*I*C42*f - 2*I*C9*f + 8*V1**4*V2/(3*J**4) + 4*V1**3*f**2/(9*J**4) - 46*V1**2*V2*f**2/(9*J**4),\n",
       " 2*I*C20*f,\n",
       " -2*I*C21*f + 16*V1**3*V2**2/J**4 + 82*V1**3*f**2/(9*J**4) - 74*V1**2*V2*f**2/(9*J**4),\n",
       " -2*V1**3*V2**2/(3*J**4) - 2*V1**3*f**2/(3*J**4) - 32*V1**2*V2*f**2/(9*J**4) - 14*V1*V2**2*f**2/(9*J**4),\n",
       " 0,\n",
       " 22*V1**3*V2**2/(9*J**4) + 2*V1**3*f**2/(3*J**4) - 14*V1**2*V2*f**2/(9*J**4) - 4*V1*V2**2*f**2/(9*J**4),\n",
       " 0,\n",
       " 2*V1**3*V2**2/(3*J**4) + 2*V1**2*V2*f**2/(3*J**4) - 10*V1*V2**2*f**2/(9*J**4),\n",
       " 0,\n",
       " 8*V1**3*V2**2/(9*J**4) - 4*V1**3*f**2/(3*J**4) - 22*V1**2*V2*f**2/(9*J**4) + 8*V1*V2**2*f**2/(9*J**4),\n",
       " 0,\n",
       " 6*I*V1**3*V2*f/J**4 - 20*I*V1**2*V2**2*f/J**4 - 6*I*V1**2*f**3/J**4 + 14*I*V1*V2*f**3/J**4 - 2*I*f**5/J**4,\n",
       " 0,\n",
       " 8*I*V1**2*V2**2*f/(9*J**4),\n",
       " 0,\n",
       " 2*I*V1**2*V2**2*f/(3*J**4) + 4*I*V1**2*f**3/(3*J**4) - 2*I*V1*V2*f**3/(3*J**4),\n",
       " 0,\n",
       " -10*I*V1**2*V2**2*f/(3*J**4) - 2*I*V1**2*f**3/(3*J**4) + 4*I*V1*V2*f**3/(3*J**4),\n",
       " 0,\n",
       " 10*I*V1**2*V2**2*f/(9*J**4) + 2*I*V1**2*f**3/J**4,\n",
       " 0,\n",
       " -2*C41*V2,\n",
       " -2*C42*V2 - 4*I*V1**3*V2*f/J**4,\n",
       " 2*C41*V2,\n",
       " -2*C42*V2,\n",
       " 2*I*V1**4*f/(3*J**4) + 2*I*V1**3*V2*f/(3*J**4) - 38*I*V1**2*V2**2*f/(9*J**4),\n",
       " 0,\n",
       " -20*I*V1**4*f/(9*J**4) - 2*I*V1**3*V2*f/(9*J**4) - 10*I*V1**2*V2**2*f/(3*J**4) - 4*I*V1**2*f**3/(3*J**4) + 4*I*V1*V2*f**3/(3*J**4),\n",
       " 0,\n",
       " -14*I*V1**4*f/(9*J**4) + 8*I*V1**3*V2*f/(3*J**4) + 8*I*V1**2*V2**2*f/(9*J**4) - 2*I*V1**2*f**3/J**4,\n",
       " 0,\n",
       " 14*I*V1**4*f/(9*J**4) - 10*I*V1**3*V2*f/(9*J**4) + 2*I*V1**2*V2**2*f/(3*J**4) + 8*I*V1**2*f**3/(3*J**4) - 2*I*V1*V2*f**3/(3*J**4),\n",
       " 0,\n",
       " -20*I*V1**3*V2*f/(9*J**4) + 10*I*V1**2*V2**2*f/(9*J**4) + 2*I*V1**2*f**3/J**4,\n",
       " 0,\n",
       " -2*C37*V1 + 8*I*V1**3*V2*f/(3*J**4),\n",
       " 0,\n",
       " 0,\n",
       " 0,\n",
       " 0,\n",
       " 0,\n",
       " -2*I*V1**3*V2*f/(3*J**4),\n",
       " 0,\n",
       " 0,\n",
       " 0,\n",
       " 2*C37*V1,\n",
       " 2*C36*V1,\n",
       " 0,\n",
       " 2*C36*V1,\n",
       " -2*I*V1**3*V2*f/(3*J**4),\n",
       " 4*I*V1**3*V2*f/(3*J**4),\n",
       " -2*C9*V2 - 4*I*V1**2*V2**2*f/(9*J**4),\n",
       " -2*C6*V2,\n",
       " 2*C7*V2 - 4*I*V1**2*V2**2*f/(9*J**4),\n",
       " 2*C8*V2,\n",
       " 2*C9*V2 - 2*I*V1**2*V2**2*f/(3*J**4),\n",
       " 2*C4*V2,\n",
       " -2*C5*V2,\n",
       " 2*C4*V2 + 2*C6*V2 - 2*C8*V2,\n",
       " -2*C5*V2 - 2*C7*V2 + 2*C9*V2 - 2*I*V1**2*V2**2*f/(3*J**4),\n",
       " 2*C8*V2,\n",
       " -2*C7*V2 - 2*I*V1**2*V2**2*f/(3*J**4),\n",
       " 2*C4*V2 + 2*C6*V2 - 2*C8*V2,\n",
       " 2*C5*V2 + 2*C7*V2 - 2*C9*V2 + 16*I*V1**2*V2**2*f/(9*J**4),\n",
       " 2*C5*V2 + 26*I*V1**2*V2**2*f/(9*J**4),\n",
       " 2*C4*V2,\n",
       " -2*C6*V2,\n",
       " 4*I*V1**2*V2**2*f/(3*J**4),\n",
       " 0,\n",
       " -2*I*V1**2*V2**2*f/(3*J**4),\n",
       " 0,\n",
       " -2*I*V1**2*V2**2*f/(3*J**4),\n",
       " 0,\n",
       " 2*I*V1**2*V2**2*f/(3*J**4),\n",
       " 0,\n",
       " 2*I*C24*f,\n",
       " 4*I*V1**2*f**3/(9*J**4) - 8*I*V1*V2*f**3/(9*J**4),\n",
       " 2*I*C32*f,\n",
       " -2*I*C25*f + 2*I*C33*f + 26*I*V1**2*f**3/(9*J**4) + 2*I*V1*V2*f**3/(9*J**4),\n",
       " 2*I*C5*f,\n",
       " 2*I*C6*f,\n",
       " -8*V1**2*V2*f**2/(9*J**4),\n",
       " 0,\n",
       " 10*V1**2*V2*f**2/(9*J**4),\n",
       " 0,\n",
       " 2*I*C7*f - 2*V1**2*V2*f**2/(3*J**4),\n",
       " -2*I*C4*f - 2*I*C6*f + 2*I*C8*f,\n",
       " 2*I*C9*f - 2*V1**2*V2*f**2/(9*J**4),\n",
       " -2*I*C8*f,\n",
       " 0,\n",
       " 0,\n",
       " 0,\n",
       " -2*I*C4*f,\n",
       " -2*I*C5*f - 2*I*C7*f + 2*I*C9*f + 14*V1**2*V2*f**2/(9*J**4),\n",
       " 0,\n",
       " -2*I*V1**4*f/J**4,\n",
       " 0,\n",
       " -2*I*V1**3*V2*f/(3*J**4),\n",
       " 0,\n",
       " 0,\n",
       " 0,\n",
       " 0,\n",
       " 0,\n",
       " 4*I*V1**3*V2*f/(3*J**4),\n",
       " 0,\n",
       " -2*I*V1**3*V2*f/(3*J**4),\n",
       " 2*C3*V1,\n",
       " 2*C2*V1 + 2*I*V1**3*V2*f/(3*J**4),\n",
       " 2*C3*V1,\n",
       " -2*C2*V1 + 2*I*V1**3*V2*f/J**4,\n",
       " 0,\n",
       " 0,\n",
       " 0,\n",
       " -2*I*V1**4*f/J**4,\n",
       " 0,\n",
       " 2*I*C4*f,\n",
       " -2*C35*V1 + 2*I*C7*f + 4*V1**4*V2/(3*J**4) + 4*V1**2*V2**3/(3*J**4) + 20*V1**2*V2*f**2/(9*J**4) - 4*V1*V2**2*f**2/(9*J**4),\n",
       " 2*C34*V1 + 2*I*C6*f,\n",
       " 2*I*C9*f - 28*V1**4*V2/(9*J**4) + 2*V1**3*f**2/J**4 - 4*V1**2*V2**3/(3*J**4) + 32*V1**2*V2*f**2/(9*J**4) + 8*V1*V2**2*f**2/(9*J**4),\n",
       " -2*I*C4*f - 2*I*C6*f + 2*I*C8*f,\n",
       " 2*I*C5*f + 8*V1**4*V2/(9*J**4) + 2*V1**3*f**2/(3*J**4) - 44*V1**2*V2**3/(3*J**4) - 98*V1**2*V2*f**2/(9*J**4) + 50*V1*V2**2*f**2/(9*J**4),\n",
       " 2*C34*V1 + 2*I*C8*f,\n",
       " 2*C35*V1 - 2*I*C5*f - 2*I*C7*f + 2*I*C9*f + 8*V1**4*V2/(9*J**4) - 4*V1**3*f**2/(3*J**4) + 4*V1**2*V2**3/(3*J**4) + 20*V1**2*V2*f**2/(9*J**4) - 8*V1*V2**2*f**2/(9*J**4),\n",
       " -2*V1**3*f**2/(3*J**4) - 2*V1**2*V2*f**2/J**4 - 4*V1*V2**2*f**2/(9*J**4),\n",
       " 0,\n",
       " 14*V1**3*V2**2/(9*J**4) - 10*V1**2*V2*f**2/(9*J**4),\n",
       " 0,\n",
       " -8*V1**2*V2*f**2/(3*J**4) + 4*V1*V2**2*f**2/(9*J**4),\n",
       " 0,\n",
       " -8*V1**3*V2**2/(9*J**4) - 20*V1**3*f**2/(9*J**4) + 4*V1**2*V2*f**2/(9*J**4),\n",
       " 0,\n",
       " -14*V1**3*f**2/(9*J**4) + 10*V1**2*V2*f**2/(9*J**4),\n",
       " 0,\n",
       " -4*V1**3*V2**2/(9*J**4),\n",
       " 0,\n",
       " 0,\n",
       " 0,\n",
       " 0,\n",
       " 0,\n",
       " -8*V1**3*V2**2/(9*J**4) - 4*V1**3*f**2/(9*J**4) + 2*V1**2*V2*f**2/J**4 - 4*V1*V2**2*f**2/(9*J**4),\n",
       " 0,\n",
       " -4*V1**3*f**2/(3*J**4) + 2*V1**2*V2*f**2/(3*J**4),\n",
       " 0,\n",
       " 4*V1**3*V2**2/(9*J**4) + 2*V1**3*f**2/(3*J**4) - 4*V1**2*V2*f**2/(3*J**4),\n",
       " 0,\n",
       " 4*V1**3*f**2/(9*J**4) - 8*V1**2*V2*f**2/(9*J**4),\n",
       " 0,\n",
       " -10*V1**3*V2**2/(9*J**4) - 28*V1**3*f**2/(9*J**4) + 2*V1**2*V2*f**2/(9*J**4),\n",
       " 0,\n",
       " 0,\n",
       " 10*V1**3*V2**2/(9*J**4) + 14*V1**3*f**2/(9*J**4) - 4*V1**2*V2*f**2/J**4 + 14*V1*V2**2*f**2/(9*J**4),\n",
       " 0,\n",
       " 0,\n",
       " 0,\n",
       " -4*V1**3*V2**2/(9*J**4) + 8*V1**2*V2*f**2/(9*J**4),\n",
       " 2*I*V1**4*f/J**4 - 22*I*V1**3*V2*f/(3*J**4) + 20*I*V1**2*V2**2*f/(3*J**4) + 4*I*V1**2*f**3/J**4 - 2*I*V1*V2*f**3/J**4,\n",
       " 0,\n",
       " -2*I*V1**4*f/(3*J**4) - 2*I*V1**3*V2*f/J**4 + 2*I*V1**2*V2**2*f/(3*J**4),\n",
       " 0,\n",
       " -10*I*V1**3*V2*f/(3*J**4) + 2*I*V1**2*V2**2*f/(3*J**4) + 2*I*V1**2*f**3/J**4,\n",
       " 0,\n",
       " -4*I*V1**4*f/(3*J**4) + 4*I*V1**3*V2*f/J**4 + 4*I*V1**2*V2**2*f/(3*J**4) - 2*I*V1**2*f**3/J**4,\n",
       " 0,\n",
       " 2*C0*V1 + 2*I*C43*f,\n",
       " -2*I*C25*f + 2*I*C44*f - 16*I*V1**3*V2*f/(9*J**4) + 8*I*V1**2*f**3/(3*J**4) - 2*I*V1*V2*f**3/(3*J**4),\n",
       " 2*I*C24*f + 2*I*C43*f,\n",
       " 2*I*C25*f - 2*C37*V1,\n",
       " 2*C36*V1 + 2*C8*V1,\n",
       " -2*C37*V1 - 2*C9*V1 + 4*I*V1**3*V2*f/(9*J**4) + 4*I*V1**2*f**3/(3*J**4) - 4*I*V1*V2*f**3/(3*J**4),\n",
       " -2*C4*V1,\n",
       " -2*C1*V1 + 2*I*C39*f + 2*C5*V1 + 16*I*V1**3*V2*f/(9*J**4) - 8*I*V1**2*f**3/(3*J**4) + 2*I*V1*V2*f**3/(3*J**4),\n",
       " -2*C0*V1 - 2*I*C38*f - 2*C6*V1,\n",
       " -2*I*C39*f + 2*C7*V1 + 2*I*V1**3*V2*f/(3*J**4),\n",
       " 0,\n",
       " 16*I*V1**3*V2*f/(9*J**4) - 8*I*V1**2*f**3/(3*J**4) + 2*I*V1*V2*f**3/(3*J**4),\n",
       " -2*I*C38*f - 2*C4*V1 - 2*C6*V1 + 2*C8*V1,\n",
       " 2*I*C24*f - 2*C36*V1,\n",
       " -2*C1*V1 - 2*I*C44*f - 4*I*V1**3*V2*f/J**4 + 4*I*V1**2*f**3/J**4 - 2*I*V1*V2*f**3/J**4,\n",
       " 2*C5*V1 + 2*C7*V1 - 2*C9*V1 + 2*I*V1**3*V2*f/(3*J**4),\n",
       " 2*V1**4*V2/(3*J**4) - 40*V1**3*f**2/(9*J**4) + 14*V1**2*V2*f**2/(9*J**4),\n",
       " 0,\n",
       " -16*V1**4*V2/(9*J**4) + 38*V1**3*f**2/(9*J**4) - 2*V1**2*V2*f**2/(9*J**4),\n",
       " 0,\n",
       " -14*V1**4*V2/(9*J**4) + 32*V1**3*f**2/(9*J**4) - 2*V1**2*V2*f**2/J**4,\n",
       " 0,\n",
       " 0,\n",
       " -2*V1**4*V2/J**4 + 38*V1**3*f**2/(9*J**4) - 34*V1**2*V2*f**2/(9*J**4),\n",
       " -14*I*V1**4*f/(9*J**4) + 10*I*V1**3*V2*f/(9*J**4),\n",
       " 0,\n",
       " 4*I*V1**4*f/(9*J**4) - 8*I*V1**3*V2*f/(9*J**4),\n",
       " 0,\n",
       " 0,\n",
       " 0,\n",
       " -2*I*V1**4*f/J**4,\n",
       " 0,\n",
       " -2*I*C31*f - 4*V1**4*V2/(9*J**4) - 14*V1**3*f**2/(9*J**4) + 82*V1**2*V2**3/(9*J**4) + 122*V1**2*V2*f**2/(9*J**4) - 94*V1*V2**2*f**2/(9*J**4) + 8*V1*f**4/(9*J**4) - 4*V2**3*f**2/(9*J**4) + 10*V2*f**4/(9*J**4),\n",
       " 2*I*C30*f,\n",
       " -34*V1**4*V2/(9*J**4) - 14*V1**3*f**2/(9*J**4) + 82*V1**2*V2**3/(9*J**4) + 86*V1**2*V2*f**2/(9*J**4) - 50*V1*V2**2*f**2/(3*J**4) + 4*V1*f**4/(3*J**4) + 32*V2**3*f**2/(9*J**4) + 2*V2*f**4/(3*J**4),\n",
       " 0,\n",
       " -2*C28*V1 + 8*V1**4*V2/(3*J**4) - 2*V1**3*f**2/J**4 + 8*V1**2*V2**3/(9*J**4) - 38*V1**2*V2*f**2/(9*J**4) + 112*V1*V2**2*f**2/(9*J**4) - 8*V1*f**4/(9*J**4) + 4*V2**3*f**2/(9*J**4) - 10*V2*f**4/(9*J**4),\n",
       " 2*C29*V1,\n",
       " -2*C28*V1 + 2*I*C31*f - 8*V1**2*V2**3/(9*J**4) - 4*V1**2*V2*f**2/(9*J**4) + 4*V1*V2**2*f**2/(3*J**4) - 4*V2**3*f**2/(9*J**4),\n",
       " -2*C29*V1 + 2*I*C30*f,\n",
       " -4*I*V1**2*f**3/(3*J**4) + 2*I*V1*V2*f**3/(3*J**4),\n",
       " 0,\n",
       " 4*I*V1**4*f/(9*J**4) - 16*I*V1**3*V2*f/(9*J**4) - 10*I*V1**2*V2**2*f/(9*J**4) - 8*I*V1**2*f**3/(9*J**4) + 2*I*V1*V2*f**3/(9*J**4),\n",
       " 0,\n",
       " -2*I*V1**4*f/(3*J**4) - 4*I*V1**3*V2*f/(9*J**4),\n",
       " 0,\n",
       " -20*I*V1**3*V2*f/(9*J**4) + 4*I*V1**2*V2**2*f/(9*J**4) + 2*I*V1**2*f**3/(3*J**4) - 4*I*V1*V2*f**3/(3*J**4),\n",
       " 0,\n",
       " 2*I*V1**3*V2*f/(9*J**4) - 4*I*V1**2*V2**2*f/(9*J**4) - 4*I*V1**2*f**3/(9*J**4) + 8*I*V1*V2*f**3/(9*J**4),\n",
       " 0,\n",
       " 4*I*V1**4*f/(9*J**4) - 4*I*V1**3*V2*f/(9*J**4) + 8*I*V1**2*f**3/(9*J**4) - 8*I*V1*V2*f**3/(9*J**4),\n",
       " 0,\n",
       " 14*I*V1**4*f/(9*J**4) - 4*I*V1**3*V2*f/(3*J**4) + 8*I*V1**2*f**3/(3*J**4) - 2*I*V1*V2*f**3/(3*J**4),\n",
       " 0,\n",
       " 16*I*V1**3*V2*f/(9*J**4) - 10*I*V1**2*V2**2*f/(9*J**4) - 22*I*V1**2*f**3/(9*J**4) - 2*I*V1*V2*f**3/(9*J**4) + 4*I*V2**2*f**3/(9*J**4),\n",
       " 0,\n",
       " 14*I*V1**4*f/(9*J**4) - 26*I*V1**3*V2*f/(9*J**4) + 20*I*V1**2*V2**2*f/(9*J**4) + 14*I*V1**2*f**3/(3*J**4) - 52*I*V1*V2*f**3/(9*J**4) + 14*I*V2**2*f**3/(9*J**4),\n",
       " 0,\n",
       " -16*I*V1**3*V2*f/(9*J**4) + 14*I*V1**2*V2**2*f/(9*J**4) + 14*I*V1**2*f**3/(9*J**4) - 10*I*V1*V2*f**3/(9*J**4),\n",
       " -4*I*V1**4*f/(3*J**4) + 10*I*V1**3*V2*f/(9*J**4) - 28*I*V1**2*f**3/(9*J**4) + 10*I*V1*V2*f**3/(9*J**4),\n",
       " 0,\n",
       " 28*I*V1**4*f/(9*J**4) - 6*I*V1**3*V2*f/J**4 - 8*I*V1**2*V2**2*f/(9*J**4) + 2*I*V1**2*f**3/(9*J**4) - 2*I*V1*V2*f**3/(9*J**4),\n",
       " 0,\n",
       " -2*I*V1**4*f/(3*J**4) + 2*I*V1**3*V2*f/(3*J**4) - 4*I*V1**2*V2**2*f/(9*J**4) - 4*I*V1**2*f**3/(3*J**4) + 4*I*V1*V2*f**3/(3*J**4),\n",
       " 0,\n",
       " 0,\n",
       " -20*I*V1**4*f/(9*J**4) + 2*I*V1**3*V2*f/(9*J**4) - 16*I*V1**2*V2**2*f/(9*J**4) - 4*I*V1**2*f**3/(3*J**4) + 20*I*V1*V2*f**3/(9*J**4) - 4*I*V2**2*f**3/(9*J**4),\n",
       " 0,\n",
       " -8*I*V1**2*V2**2*f/(9*J**4) - 26*I*V1**2*f**3/(9*J**4) + 2*I*V1*V2*f**3/(9*J**4) - 4*I*V2**2*f**3/(9*J**4),\n",
       " 0,\n",
       " 0,\n",
       " 0,\n",
       " -2*C19*V1 - 16*I*V1**4*f/(9*J**4) + 10*I*V1**3*V2*f/(9*J**4),\n",
       " 0,\n",
       " -2*I*C35*f + 4*I*V1**4*f/(9*J**4) + 2*I*V1**3*V2*f/(9*J**4),\n",
       " -2*C18*V1 - 2*I*C34*f,\n",
       " -4*I*V1**4*f/(3*J**4) + 2*I*V1**3*V2*f/(3*J**4),\n",
       " 0,\n",
       " 0,\n",
       " 0,\n",
       " -2*I*V1**4*f/J**4,\n",
       " 0,\n",
       " 2*I*V1**4*f/(3*J**4) - 4*I*V1**3*V2*f/(3*J**4),\n",
       " 0,\n",
       " -34*V1**4*V2/(9*J**4) - 10*V1**3*f**2/(9*J**4) + 16*V1**2*V2**3/J**4 + 98*V1**2*V2*f**2/(9*J**4) - 170*V1*V2**2*f**2/(9*J**4) - 2*V1*f**4/(3*J**4) + 8*V2*f**4/(3*J**4),\n",
       " 0,\n",
       " -16*V1**2*V2*f**2/(3*J**4) + 8*V1*V2**2*f**2/(9*J**4) + 2*V1*f**4/J**4,\n",
       " 0,\n",
       " 22*V1**3*V2**2/(9*J**4) + 8*V1**3*f**2/(3*J**4) - 2*V1**2*V2*f**2/J**4 + 22*V1*V2**2*f**2/(9*J**4) + 8*V1*f**4/(9*J**4) - 8*V2*f**4/(9*J**4),\n",
       " 0,\n",
       " -16*V1**3*V2**2/(9*J**4) - 28*V1**3*f**2/(9*J**4) + 86*V1**2*V2*f**2/(9*J**4) - 32*V1*V2**2*f**2/(9*J**4) - 28*V1*f**4/(9*J**4) + 10*V2*f**4/(9*J**4),\n",
       " 0,\n",
       " -16*V1**3*V2**2/(9*J**4) - 32*V1**3*f**2/(9*J**4) + 76*V1**2*V2*f**2/(9*J**4) + 10*V1*V2**2*f**2/(9*J**4) - 2*V1*f**4/J**4,\n",
       " 0,\n",
       " 2*C6*V2 - 2*C8*V2,\n",
       " -2*I*C10*f - 2*I*C12*f + 2*I*C14*f - 2*C5*V2 + 2*C9*V2 - 20*I*V1**2*V2**2*f/(9*J**4) - 4*I*V1**2*f**3/(9*J**4) - 10*I*V1*V2*f**3/(9*J**4),\n",
       " 2*I*C11*f - 2*I*C13*f + 2*I*C15*f + 2*C6*V2 - 2*C8*V2,\n",
       " 2*C5*V2 - 2*C9*V2 + 2*I*V1**2*V2**2*f/(3*J**4),\n",
       " -2*C6*V2 + 2*C8*V2,\n",
       " 2*C5*V2 - 2*C9*V2 + 20*I*V1**2*V2**2*f/(9*J**4) + 4*I*V1**2*f**3/(9*J**4) - 8*I*V1*V2*f**3/(9*J**4),\n",
       " -2*I*C13*f + 2*C6*V2 - 2*C8*V2,\n",
       " 2*I*C14*f + 2*I*C25*f - 2*C5*V2 + 2*C9*V2 - 22*I*V1**2*V2**2*f/(9*J**4) - 32*I*V1**2*f**3/(9*J**4) - 8*I*V1*V2*f**3/(9*J**4),\n",
       " 2*I*C11*f - 2*C6*V2 + 2*C8*V2,\n",
       " -2*C5*V2 + 2*C9*V2 - 22*I*V1**2*V2**2*f/(9*J**4) - 14*I*V1**2*f**3/(9*J**4) + 10*I*V1*V2*f**3/(9*J**4),\n",
       " 2*C6*V2 - 2*C8*V2,\n",
       " 2*I*C12*f - 2*C5*V2 + 2*C9*V2,\n",
       " 2*I*C15*f - 2*I*C24*f + 2*C6*V2 - 2*C8*V2,\n",
       " 2*I*C10*f + 2*C5*V2 - 2*C9*V2 + 2*I*V1**2*V2**2*f/(3*J**4) - 2*I*V1**2*f**3/(3*J**4) + 4*I*V1*V2*f**3/(3*J**4),\n",
       " -2*I*C25*f + 2*C5*V2 - 2*C9*V2,\n",
       " -2*I*C24*f + 2*C6*V2 - 2*C8*V2,\n",
       " -16*I*V1**4*f/(9*J**4) - 20*I*V1**3*V2*f/(9*J**4) + 38*I*V1**2*V2**2*f/(9*J**4) - 4*I*V1**2*f**3/(3*J**4) + 20*I*V1*V2*f**3/(9*J**4) - 4*I*V2**2*f**3/(9*J**4),\n",
       " 0,\n",
       " -8*V1**3*V2**2/(9*J**4) - 4*V1**3*f**2/(9*J**4) + 2*V1**2*V2*f**2/J**4 - 4*V1*V2**2*f**2/(9*J**4),\n",
       " 0,\n",
       " 16*I*V1**4*f/(9*J**4) + 16*I*V1**3*V2*f/(9*J**4) - 14*I*V1**2*V2**2*f/(3*J**4),\n",
       " 0,\n",
       " -2*I*V1**3*V2*f/(3*J**4) - 2*I*V1**2*V2**2*f/(3*J**4),\n",
       " 0,\n",
       " 2*I*V1**3*V2*f/(3*J**4) - 4*I*V1**2*V2**2*f/(3*J**4),\n",
       " 0,\n",
       " 4*I*V1**4*f/(9*J**4) + 4*I*V1**3*V2*f/(9*J**4) - 2*I*V1**2*V2**2*f/(3*J**4),\n",
       " 0,\n",
       " 2*I*C35*f + 2*C5*V1 + 2*C7*V1 - 2*C9*V1 - 4*I*V1**3*V2*f/(3*J**4) - 4*I*V1**2*V2**2*f/(9*J**4) - 8*I*V1**2*f**3/(9*J**4) + 8*I*V1*V2*f**3/(9*J**4),\n",
       " -2*C4*V1,\n",
       " 2*C9*V1 - 8*I*V1**3*V2*f/(3*J**4) + 58*I*V1**2*V2**2*f/(9*J**4) - 2*I*V1**2*f**3/(9*J**4) + 8*I*V1*V2*f**3/(9*J**4),\n",
       " 2*C4*V1 + 2*C6*V1 - 2*C8*V1,\n",
       " 2*C5*V1 + 2*I*V1**3*V2*f/(3*J**4) + 32*I*V1**2*V2**2*f/(9*J**4) + 2*I*V1**2*f**3/(3*J**4) - 4*I*V1*V2*f**3/(3*J**4),\n",
       " 2*I*C34*f - 2*C6*V1,\n",
       " -2*I*C35*f - 2*C7*V1 + 2*I*V1**3*V2*f/(3*J**4) + 14*I*V1**2*V2**2*f/(9*J**4),\n",
       " 2*I*C34*f - 2*C8*V1,\n",
       " -2*V1**3*f**2/J**4 + 20*V1**2*V2**3/(9*J**4) + 26*V1**2*V2*f**2/(9*J**4) + 2*V1*V2**2*f**2/(9*J**4),\n",
       " 0,\n",
       " -4*V1**3*f**2/(9*J**4) + 16*V1**2*V2**3/(9*J**4) + 4*V1**2*V2*f**2/(3*J**4) - 8*V1*V2**2*f**2/(9*J**4),\n",
       " 0,\n",
       " 16*V1**2*V2**3/(9*J**4) + 10*V1**2*V2*f**2/(9*J**4) - 2*V1*V2**2*f**2/(9*J**4),\n",
       " 0,\n",
       " 14*V1**3*f**2/(9*J**4) - 20*V1**2*V2**3/(9*J**4) - 8*V1**2*V2*f**2/(3*J**4) + 10*V1*V2**2*f**2/(9*J**4),\n",
       " 0,\n",
       " -16*V1**3*V2**2/(9*J**4) - 4*V1**3*f**2/J**4 - 10*V1**2*V2*f**2/(3*J**4) + 38*V1*V2**2*f**2/(9*J**4),\n",
       " 0,\n",
       " 8*V1**4*V2/(9*J**4),\n",
       " 0,\n",
       " 0,\n",
       " 0,\n",
       " 8*V1**4*V2/(9*J**4),\n",
       " 0,\n",
       " -4*V1**4*V2/(3*J**4),\n",
       " 0,\n",
       " -14*V1**3*f**2/(9*J**4) - 4*V1**2*V2*f**2/(9*J**4),\n",
       " 0,\n",
       " -2*C10*V1 - 2*C12*V1 + 2*C14*V1 - 4*V1**3*f**2/(9*J**4) - 14*V1**2*V2*f**2/(9*J**4),\n",
       " 2*C11*V1 - 2*C13*V1 + 2*C15*V1,\n",
       " 0,\n",
       " 0,\n",
       " -2*C39*V1 - 2*I*C7*f + 2*V1**2*V2*f**2/(3*J**4),\n",
       " -2*C13*V1 - 2*C38*V1 + 2*I*C6*f,\n",
       " 2*C12*V1,\n",
       " 2*C11*V1,\n",
       " -2*C10*V1 + 2*C39*V1 - 2*I*C5*f - 26*V1**3*f**2/(9*J**4) + 20*V1**2*V2*f**2/(9*J**4),\n",
       " 2*C15*V1 - 2*I*C8*f,\n",
       " 2*I*C5*f + 2*I*C7*f - 2*I*C9*f + 4*V1**3*f**2/(9*J**4) - 10*V1**2*V2*f**2/(9*J**4),\n",
       " -2*C38*V1 + 2*I*C4*f + 2*I*C6*f - 2*I*C8*f,\n",
       " 2*I*C4*f,\n",
       " -2*C14*V1 - 2*I*C9*f - 2*V1**2*V2*f**2/(3*J**4),\n",
       " 2*V1**3*f**2/J**4 - 2*V1**2*V2*f**2/J**4,\n",
       " 0,\n",
       " 0,\n",
       " 0,\n",
       " -2*V1**3*f**2/J**4,\n",
       " 0,\n",
       " 0,\n",
       " 0,\n",
       " 10*I*V1**3*V2*f/(3*J**4) - 28*I*V1**2*V2**2*f/(9*J**4) - 2*I*V1**2*f**3/(3*J**4) + 32*I*V1*V2**3*f/(9*J**4) + 8*I*V1*V2*f**3/(3*J**4) - 4*I*V2**2*f**3/(3*J**4),\n",
       " 0,\n",
       " -14*I*V1**3*V2*f/(9*J**4) + 2*I*V1**2*V2**2*f/(3*J**4) + 4*I*V1**2*f**3/(3*J**4) - 4*I*V1*V2**3*f/(9*J**4) - 10*I*V1*V2*f**3/(3*J**4) + 2*I*V2**2*f**3/(3*J**4),\n",
       " 0,\n",
       " 4*I*V1**3*V2*f/(9*J**4) + 46*I*V1**2*V2**2*f/(9*J**4) + 2*I*V1**2*f**3/J**4 - 40*I*V1*V2**3*f/(9*J**4) - 8*I*V1*V2*f**3/(3*J**4) + 2*I*V2**2*f**3/(3*J**4),\n",
       " 0,\n",
       " 0,\n",
       " 8*I*V1**3*V2*f/(3*J**4) - 10*I*V1**2*V2**2*f/(3*J**4) + 4*I*V1*V2**3*f/(9*J**4) + 8*I*V1*V2*f**3/(3*J**4) - 2*I*V2**2*f**3/(3*J**4),\n",
       " -2*C6*V1,\n",
       " -2*C5*V1,\n",
       " 2*C36*V1 + 2*C8*V1,\n",
       " -2*C37*V1 - 2*C9*V1 + 2*I*V1**3*V2*f/(3*J**4),\n",
       " -2*I*C41*f,\n",
       " -2*I*C42*f,\n",
       " -2*I*C41*f - 2*C46*V1,\n",
       " -2*I*C2*f - 2*C47*V1 + 2*V1**3*f**2/J**4 - 2*V1**2*V2*f**2/J**4,\n",
       " 2*I*C3*f + 2*C46*V1,\n",
       " 2*I*C42*f - 2*C47*V1 - 10*V1**3*f**2/(3*J**4) + 2*V1**2*V2*f**2/(3*J**4),\n",
       " 0,\n",
       " 0,\n",
       " 0,\n",
       " 0,\n",
       " 2*I*C3*f,\n",
       " 2*I*C2*f - 2*V1**3*f**2/(3*J**4) - 2*V1**2*V2*f**2/(3*J**4),\n",
       " 0,\n",
       " 2*V1**3*f**2/(3*J**4) - 4*V1**2*V2*f**2/(3*J**4),\n",
       " -4*V1**3*f**2/(3*J**4) + 2*V1**2*V2*f**2/(3*J**4),\n",
       " 0,\n",
       " 2*I*C34*f,\n",
       " 2*I*C35*f + 2*I*V1**3*V2*f/(9*J**4),\n",
       " 0,\n",
       " -8*I*V1**3*V2*f/(9*J**4),\n",
       " 4*V1**3*f**2/(3*J**4) - 4*V1**2*V2*f**2/(9*J**4),\n",
       " 0,\n",
       " 0,\n",
       " 0,\n",
       " 2*V1**3*f**2/J**4 - 10*V1**2*V2*f**2/(9*J**4),\n",
       " 0,\n",
       " -2*V1**3*f**2/(3*J**4) + 10*V1**2*V2*f**2/(9*J**4),\n",
       " 0,\n",
       " -2*C31*V1 - 2*I*C39*f - 2*C42*V2 - 2*C5*V1 - 16*I*V1**3*V2*f/(3*J**4) + 4*I*V1**2*f**3/(9*J**4) + 14*I*V1*V2*f**3/(9*J**4),\n",
       " 2*I*C38*f + 2*C4*V1 + 2*C41*V2 + 2*C6*V1 - 2*C8*V1,\n",
       " -2*I*C35*f - 2*C42*V2 - 2*C5*V1 - 2*C7*V1 + 2*C9*V1 + 2*I*V1**3*V2*f/(3*J**4) + 8*I*V1**2*f**3/(9*J**4) - 8*I*V1*V2*f**3/(9*J**4),\n",
       " 2*C30*V1 - 2*I*C34*f - 2*C41*V2 + 2*C8*V1,\n",
       " 10*I*V1**3*V2*f/(9*J**4) - 2*I*V1**2*V2**2*f/(9*J**4),\n",
       " 0,\n",
       " 14*I*V1**3*V2*f/(9*J**4) - 10*I*V1**2*V2**2*f/(9*J**4),\n",
       " 0,\n",
       " 26*I*V1**3*V2*f/(9*J**4) + 2*I*V1**2*V2**2*f/(9*J**4),\n",
       " 0,\n",
       " -4*I*V1**3*V2*f/(9*J**4) + 8*I*V1**2*V2**2*f/(9*J**4),\n",
       " 0,\n",
       " -10*V1**3*V2**2/(9*J**4) - 28*V1**3*f**2/(9*J**4) - 2*V1**2*V2*f**2/(9*J**4) + 4*V1*V2**2*f**2/(9*J**4),\n",
       " 0,\n",
       " 14*V1**3*f**2/(9*J**4) - 10*V1**2*V2*f**2/(9*J**4),\n",
       " 0,\n",
       " 2*V1**2*V2*f**2/(3*J**4),\n",
       " 0,\n",
       " 0,\n",
       " 0,\n",
       " 0,\n",
       " 0,\n",
       " -4*V1**2*V2*f**2/(3*J**4),\n",
       " 0,\n",
       " -2*V1**3*f**2/(3*J**4) + 4*V1**2*V2*f**2/(3*J**4),\n",
       " 0,\n",
       " 0,\n",
       " 0,\n",
       " -2*V1**3*f**2/(3*J**4) - 2*V1**2*V2*f**2/(3*J**4),\n",
       " 0,\n",
       " 2*V1**2*V2*f**2/(3*J**4),\n",
       " 0,\n",
       " -8*V1**3*V2**2/(9*J**4) - 20*V1**3*f**2/(9*J**4) + 2*V1**2*V2*f**2/(9*J**4) - 4*V1*V2**2*f**2/(9*J**4),\n",
       " 0,\n",
       " -8*V1**3*V2**2/(9*J**4) - 4*V1**3*f**2/(9*J**4) + 4*V1**2*V2*f**2/(3*J**4) - 4*V1*V2**2*f**2/(9*J**4),\n",
       " 0,\n",
       " 4*V1**3*f**2/(3*J**4) - 2*V1**2*V2*f**2/(3*J**4),\n",
       " 0,\n",
       " -4*V1**3*f**2/(9*J**4) + 8*V1**2*V2*f**2/(9*J**4),\n",
       " 0,\n",
       " 0,\n",
       " 0,\n",
       " 0,\n",
       " 10*V1**3*V2**2/(9*J**4) + 14*V1**3*f**2/(9*J**4) - 14*V1**2*V2*f**2/(3*J**4) + 14*V1*V2**2*f**2/(9*J**4),\n",
       " -4*V1**3*f**2/(3*J**4) + 2*V1**2*V2*f**2/(3*J**4),\n",
       " 0,\n",
       " 0,\n",
       " 2*I*C36*f,\n",
       " 0,\n",
       " 0,\n",
       " 2*I*C21*f + 2*C25*V1 - 16*V1**3*f**2/(3*J**4) + 2*V1**2*V2*f**2/(3*J**4),\n",
       " -2*I*C20*f - 2*C24*V1,\n",
       " -2*I*C21*f,\n",
       " 0,\n",
       " 2*C25*V1 + 2*I*C37*f,\n",
       " 2*C24*V1 + 2*I*C36*f,\n",
       " -2*I*C37*f - 2*V1**3*f**2/(3*J**4) - 8*V1**2*V2*f**2/(3*J**4),\n",
       " -2*I*C20*f,\n",
       " 2*V1**3*f**2/(3*J**4) - 4*V1**2*V2*f**2/(3*J**4),\n",
       " 0,\n",
       " 10*V1**2*V2*f**2/(3*J**4) - 2*V1*V2**2*f**2/(3*J**4),\n",
       " 0,\n",
       " 2*V1**2*V2*f**2/(3*J**4) + 2*V1*V2**2*f**2/(3*J**4),\n",
       " 0,\n",
       " -2*V1**2*V2*f**2/J**4 + 2*V1*V2**2*f**2/(3*J**4),\n",
       " 0,\n",
       " 2*V1**2*V2*f**2/J**4 - 4*V1*V2**2*f**2/(3*J**4),\n",
       " 0,\n",
       " 2*I*C14*f - 2*C19*V2 - 2*I*C33*f + 8*I*V1**3*V2*f/(9*J**4) + 4*I*V1**2*V2**2*f/(3*J**4) - 8*I*V1**2*f**3/(9*J**4) - 4*I*V1*V2*f**3/(3*J**4),\n",
       " 2*C0*V1 + 2*I*C11*f - 2*C18*V2,\n",
       " 2*C1*V1 + 2*I*C10*f - 2*C19*V2 - 2*C31*V1 + 2*I*C40*f - 20*I*V1**3*V2*f/(9*J**4) + 2*I*V1**2*f**3/(9*J**4),\n",
       " -2*I*C11*f + 2*I*C13*f - 2*I*C15*f + 2*C18*V2 - 2*C30*V1 - 2*I*C32*f,\n",
       " 2*V1**3*V2**2/J**4 - 2*V1**2*V2*f**2/J**4,\n",
       " 0,\n",
       " 2*I*V1**4*f/J**4,\n",
       " 0,\n",
       " 4*I*V1**4*f/(9*J**4) - 8*I*V1**3*V2*f/(9*J**4),\n",
       " 0,\n",
       " 0,\n",
       " 0,\n",
       " -14*I*V1**4*f/(9*J**4) + 10*I*V1**3*V2*f/(9*J**4),\n",
       " 0,\n",
       " -2*I*V1**2*f**3/J**4,\n",
       " 0,\n",
       " 2*I*C39*f,\n",
       " 2*I*C38*f,\n",
       " 4*V1**3*f**2/(9*J**4) - 8*V1**2*V2*f**2/(9*J**4),\n",
       " -2*I*C20*f,\n",
       " -2*I*C21*f,\n",
       " 0,\n",
       " 0,\n",
       " 0,\n",
       " 2*C12*V1,\n",
       " 2*C15*V1 - 2*I*C20*f,\n",
       " 2*C10*V1 - 2*V1**3*f**2/(3*J**4) + 4*V1**2*V2*f**2/(3*J**4),\n",
       " 2*C11*V1 - 2*C13*V1 + 2*C15*V1,\n",
       " -2*C10*V1 - 2*C12*V1 + 2*C14*V1 - 4*V1**3*f**2/(9*J**4) - 10*V1**2*V2*f**2/(9*J**4),\n",
       " -2*C13*V1,\n",
       " 2*C14*V1 + 2*I*C21*f - 32*V1**3*f**2/(9*J**4) - 8*V1**2*V2*f**2/(9*J**4),\n",
       " 2*C11*V1,\n",
       " -14*V1**3*f**2/(9*J**4) + 10*V1**2*V2*f**2/(9*J**4),\n",
       " 0,\n",
       " -4*I*V1**2*V2**2*f/(9*J**4),\n",
       " 0,\n",
       " 4*I*V1**2*V2**2*f/(9*J**4),\n",
       " 0,\n",
       " 0,\n",
       " 0,\n",
       " 0,\n",
       " 0,\n",
       " -4*I*V1**3*V2*f/(9*J**4),\n",
       " 0,\n",
       " 0,\n",
       " 0,\n",
       " 0,\n",
       " 0,\n",
       " -10*I*V1**3*V2*f/(9*J**4),\n",
       " 0,\n",
       " 0,\n",
       " 0,\n",
       " -8*I*V1**3*V2*f/(9*J**4) + 4*I*V1**2*V2**2*f/(9*J**4),\n",
       " 0,\n",
       " 10*I*V1**3*V2*f/(9*J**4) - 14*I*V1**2*V2**2*f/(9*J**4),\n",
       " 0,\n",
       " 0,\n",
       " 0,\n",
       " 4*I*V1**3*V2*f/(9*J**4),\n",
       " 0,\n",
       " 0,\n",
       " 0,\n",
       " 0,\n",
       " 0,\n",
       " 8*I*V1**3*V2*f/(9*J**4),\n",
       " 0,\n",
       " 2*V1**3*f**2/J**4,\n",
       " 0,\n",
       " -14*I*V1**4*f/(9*J**4) - 4*I*V1**3*V2*f/(9*J**4),\n",
       " 0,\n",
       " 4*I*V1**4*f/(9*J**4),\n",
       " 0,\n",
       " 0,\n",
       " 0,\n",
       " 2*I*V1**4*f/J**4 - 10*I*V1**3*V2*f/(9*J**4),\n",
       " 0,\n",
       " 2*I*C40*f + 32*I*V1**4*f/(9*J**4) - 62*I*V1**3*V2*f/(9*J**4) + 76*I*V1**2*V2**2*f/(9*J**4) - 10*I*V1*V2**3*f/J**4 - 52*I*V1*V2*f**3/(9*J**4) + 8*I*V2**2*f**3/(3*J**4),\n",
       " 0,\n",
       " -4*I*V1**3*V2*f/(3*J**4),\n",
       " 0,\n",
       " 0,\n",
       " 0,\n",
       " 2*I*V1**3*V2*f/(3*J**4),\n",
       " 0,\n",
       " 0,\n",
       " 0,\n",
       " -2*C39*V2,\n",
       " -2*C38*V2,\n",
       " -2*C39*V2 + 4*V1**2*V2*f**2/J**4,\n",
       " 2*C38*V2,\n",
       " 2*C34*V1,\n",
       " 2*C35*V1 + 2*V1**4*V2/(9*J**4),\n",
       " 0,\n",
       " -8*V1**4*V2/(9*J**4),\n",
       " -2*I*C21*f + 2*C33*V1 + 26*V1**3*f**2/(9*J**4) + 2*V1**2*V2*f**2/(9*J**4),\n",
       " 2*C32*V1,\n",
       " 4*V1**3*f**2/(9*J**4) - 8*V1**2*V2*f**2/(9*J**4),\n",
       " 2*I*C20*f,\n",
       " 10*I*V1**3*V2*f/(9*J**4),\n",
       " 0,\n",
       " 0,\n",
       " 0,\n",
       " 0,\n",
       " 0,\n",
       " 0,\n",
       " -8*I*V1**3*V2*f/(9*J**4),\n",
       " -2*I*V1**4*f/(3*J**4) + 8*I*V1**3*V2*f/(9*J**4),\n",
       " 0,\n",
       " 2*I*V1**4*f/(3*J**4) - 4*I*V1**3*V2*f/(3*J**4),\n",
       " 0,\n",
       " 8*I*V1**3*V2*f/(9*J**4),\n",
       " 0,\n",
       " 0,\n",
       " 0,\n",
       " 2*I*C41*f,\n",
       " 2*I*C42*f,\n",
       " 0,\n",
       " -2*V1**3*f**2/J**4,\n",
       " 8*V1**3*V2**2/(9*J**4) + 14*V1**3*f**2/(9*J**4) - 10*V1**2*V2*f**2/(9*J**4),\n",
       " 0,\n",
       " -10*V1**3*V2**2/(9*J**4) - 2*V1**3*f**2/J**4,\n",
       " 0,\n",
       " -8*V1**3*V2**2/(9*J**4),\n",
       " 0,\n",
       " -10*V1**3*V2**2/(9*J**4) - 4*V1**3*f**2/(9*J**4) + 8*V1**2*V2*f**2/(9*J**4),\n",
       " 0,\n",
       " 4*I*V1**3*V2*f/(3*J**4),\n",
       " 0,\n",
       " -6*I*V1**3*V2*f/J**4 + 10*I*V1**2*V2**2*f/J**4 + 2*I*V1**2*f**3/J**4 - 2*I*V1*V2*f**3/J**4,\n",
       " 0,\n",
       " 10*V1**3*V2**2/(9*J**4) + 2*V1**3*f**2/J**4,\n",
       " 0,\n",
       " 2*V1**3*V2**2/(3*J**4) + 4*V1**3*f**2/(3*J**4) - 2*V1**2*V2*f**2/(3*J**4),\n",
       " 0,\n",
       " -10*V1**3*V2**2/(3*J**4) - 2*V1**3*f**2/(3*J**4) + 4*V1**2*V2*f**2/(3*J**4),\n",
       " 0,\n",
       " 8*V1**3*V2**2/(9*J**4),\n",
       " 0,\n",
       " 2*I*C0*f - 2*C11*V1 + 2*C46*V2,\n",
       " 2*I*C1*f - 2*C10*V1 - 2*I*C31*f - 2*C40*V1 + 2*C47*V2 - 8*V1**3*f**2/(9*J**4) + 32*V1**2*V2*f**2/(9*J**4) + 20*V1*V2**2*f**2/(9*J**4) + 14*V1*f**4/(9*J**4) - 14*V2*f**4/(9*J**4),\n",
       " -2*C15*V1 - 2*I*C18*f + 2*I*C30*f - 2*C46*V2,\n",
       " -2*C10*V1 - 2*C12*V1 + 2*C14*V1 + 2*I*C19*f + 2*C47*V2 - 16*V1**3*f**2/(9*J**4) - 32*V1**2*V2*f**2/(9*J**4) - 20*V1*V2**2*f**2/(9*J**4) - 8*V1*f**4/(9*J**4) + 8*V2*f**4/(9*J**4),\n",
       " -2*C16*V2 - 2*C36*V1,\n",
       " -2*C17*V2,\n",
       " 2*C16*V2,\n",
       " -2*C17*V2 - 2*C37*V1 - 2*I*V1**3*V2*f/J**4,\n",
       " 4*V1**3*f**2/(3*J**4) - 2*V1**2*V2*f**2/(3*J**4),\n",
       " 0,\n",
       " -2*V1**3*f**2/J**4,\n",
       " 0,\n",
       " -2*V1**3*f**2/(3*J**4) + 4*V1**2*V2*f**2/(3*J**4),\n",
       " 0,\n",
       " 0,\n",
       " 0,\n",
       " 2*C21*V1,\n",
       " 0,\n",
       " 2*I*V1**4*f/J**4,\n",
       " 2*C20*V1,\n",
       " 2*I*V1**3*V2*f/(3*J**4),\n",
       " 0,\n",
       " 0,\n",
       " 0,\n",
       " 0,\n",
       " 0,\n",
       " 0,\n",
       " -4*I*V1**3*V2*f/(3*J**4),\n",
       " -2*C26*V2 + 2*C37*V2 + 8*I*V1**3*V2*f/(9*J**4) + 2*I*V1**2*V2**2*f/(9*J**4),\n",
       " -2*C27*V2 + 2*C36*V2,\n",
       " -2*C26*V2 + 2*C37*V2 - 20*I*V1**3*V2*f/(9*J**4) - 14*I*V1**2*V2**2*f/(9*J**4),\n",
       " 2*C27*V2 - 2*C36*V2,\n",
       " -2*V1**4*V2/(3*J**4),\n",
       " 0,\n",
       " 2*V1**4*V2/(3*J**4) - 2*V1**3*f**2/J**4,\n",
       " 0,\n",
       " -4*V1**4*V2/J**4 + 4*V1**3*f**2/J**4 - 2*V1**2*V2*f**2/J**4,\n",
       " 0,\n",
       " -2*V1**4*V2/J**4 + 2*V1**3*f**2/J**4,\n",
       " 0,\n",
       " 2*C0*V1,\n",
       " -2*C1*V1 - 4*I*V1**3*V2*f/J**4 + 2*I*V1**2*f**3/J**4,\n",
       " 0,\n",
       " 4*I*V1**3*V2*f/J**4 - 2*I*V1**2*f**3/J**4,\n",
       " 2*I*C4*f + 2*I*C41*f,\n",
       " -2*I*C42*f + 2*C48*V1 - 2*I*C9*f + 26*V1**3*V2**2/(9*J**4) + 10*V1**3*f**2/(3*J**4) - 4*V1**2*V2*f**2/(3*J**4),\n",
       " -2*I*C4*f - 2*I*C6*f + 2*I*C8*f,\n",
       " -2*I*C5*f + 28*V1**3*V2**2/(9*J**4) + 2*V1**3*f**2/(3*J**4) - 4*V1**2*V2*f**2/(3*J**4),\n",
       " -2*I*V1**3*V2*f/(3*J**4) + 4*I*V1**2*V2**2*f/(3*J**4),\n",
       " 0,\n",
       " 10*I*V1**3*V2*f/(3*J**4) - 8*I*V1**2*V2**2*f/(3*J**4),\n",
       " 0,\n",
       " 2*I*V1**3*V2*f/(3*J**4) + 4*I*V1**2*V2**2*f/(9*J**4),\n",
       " 0,\n",
       " 4*I*V1**3*V2*f/(3*J**4) - 4*I*V1**2*V2**2*f/(9*J**4),\n",
       " 0,\n",
       " 2*I*C41*f - 2*C46*V2,\n",
       " 2*C47*V2 - 2*V1**3*f**2/J**4 + 2*V1**2*V2*f**2/J**4,\n",
       " 2*C46*V2,\n",
       " 2*I*C42*f + 2*C47*V2 - 2*V1**2*V2*f**2/J**4,\n",
       " -4*I*V1**3*V2*f/J**4 + 26*I*V1**2*V2**2*f/(3*J**4) + 2*I*V1**2*f**3/J**4 - 2*I*V1*V2*f**3/J**4,\n",
       " 0,\n",
       " 2*I*V1**2*V2**2*f/(3*J**4),\n",
       " 0,\n",
       " 4*I*V1**2*V2**2*f/(3*J**4),\n",
       " 0,\n",
       " -2*I*V1**3*V2*f/J**4 + 2*I*V1**2*V2**2*f/(3*J**4) + 2*I*V1**2*f**3/J**4,\n",
       " 0,\n",
       " 2*V1**3*f**2/J**4,\n",
       " 0,\n",
       " 14*V1**3*f**2/(9*J**4) - 26*V1**2*V2*f**2/(9*J**4) + 14*V1*V2**2*f**2/(9*J**4),\n",
       " 0,\n",
       " 20*V1**3*f**2/(9*J**4) - 4*V1**2*V2*f**2/(9*J**4),\n",
       " 0,\n",
       " 4*V1**3*f**2/(9*J**4) - 8*V1**2*V2*f**2/(9*J**4),\n",
       " 0,\n",
       " -2*V1**3*f**2/(3*J**4) + 4*V1**2*V2*f**2/(3*J**4),\n",
       " 0,\n",
       " 0,\n",
       " 0,\n",
       " 0,\n",
       " 0,\n",
       " 4*V1**3*f**2/(3*J**4) - 2*V1**2*V2*f**2/(3*J**4),\n",
       " 0,\n",
       " -14*V1**3*f**2/(9*J**4) + 10*V1**2*V2*f**2/(9*J**4),\n",
       " 0,\n",
       " 0,\n",
       " 0,\n",
       " 0,\n",
       " 2*V1**3*f**2/(3*J**4) + 22*V1**2*V2*f**2/(9*J**4) + 4*V1*V2**2*f**2/(9*J**4),\n",
       " 0,\n",
       " 0,\n",
       " 0,\n",
       " 20*V1**2*V2*f**2/(9*J**4) - 4*V1*V2**2*f**2/(9*J**4),\n",
       " 0,\n",
       " -4*V1**3*f**2/(9*J**4) + 10*V1**2*V2*f**2/(9*J**4) - 4*V1*V2**2*f**2/(9*J**4),\n",
       " 0,\n",
       " 0,\n",
       " 0,\n",
       " 0,\n",
       " 0,\n",
       " 28*V1**3*f**2/(9*J**4) - 2*V1**2*V2*f**2/(9*J**4),\n",
       " 2*C41*V1,\n",
       " 2*C42*V1,\n",
       " 0,\n",
       " 2*I*V1**4*f/J**4,\n",
       " 2*V1**3*f**2/J**4,\n",
       " 0,\n",
       " 0,\n",
       " 0,\n",
       " 4*V1**3*f**2/(3*J**4) - 2*V1**2*V2*f**2/(3*J**4),\n",
       " 0,\n",
       " -2*V1**3*f**2/(3*J**4) + 4*V1**2*V2*f**2/(3*J**4),\n",
       " 0,\n",
       " 2*I*C21*f - 2*C25*V2,\n",
       " 2*I*C20*f - 2*C24*V2,\n",
       " -2*C25*V2 - 2*V1**3*f**2/J**4 + 4*V1**2*V2*f**2/J**4,\n",
       " 2*C24*V2,\n",
       " -4*I*V1**3*V2*f/J**4 + 2*I*V1**2*f**3/J**4,\n",
       " 0,\n",
       " 2*V1**3*V2**2/(9*J**4),\n",
       " 0,\n",
       " -2*V1**3*V2**2/(9*J**4),\n",
       " 0,\n",
       " -10*V1**3*V2**2/(9*J**4),\n",
       " 0,\n",
       " 8*V1**3*V2**2/(9*J**4),\n",
       " 0,\n",
       " -2*C34*V2,\n",
       " -2*C35*V2 + 16*V1**3*V2**2/(9*J**4),\n",
       " 2*C34*V2,\n",
       " -2*C35*V2 - 4*V1**3*V2**2/(9*J**4),\n",
       " 2*C0*V2 + 2*I*C15*f - 2*C16*V1 + 2*C20*V1 - 2*I*C24*f + 2*C27*V2 - 2*C36*V2 - 2*I*C43*f,\n",
       " 2*C1*V2 - 2*I*C10*f - 2*I*C12*f + 2*I*C14*f + 2*C17*V1 + 2*C22*V1 - 2*C26*V2 + 2*C37*V2 + 2*I*V1**4*f/J**4 + 2*I*V1**3*V2*f/(3*J**4) + 14*I*V1**2*V2**2*f/(3*J**4) + 2*I*V1**2*f**3/J**4 - 4*I*V1*V2*f**3/J**4,\n",
       " -2*C0*V2 - 2*I*C11*f + 2*I*C13*f - 2*I*C15*f + 2*C23*V1 - 2*C27*V2 - 2*I*C32*f + 2*C36*V2,\n",
       " 2*C1*V2 + 2*I*C14*f - 2*C21*V1 + 2*I*C25*f - 2*C26*V2 - 2*I*C33*f + 2*C37*V2 - 2*I*C44*f - 2*I*V1**4*f/J**4 - 12*I*V1**2*V2**2*f/J**4 - 16*I*V1**2*f**3/(3*J**4) + 14*I*V1*V2*f**3/(3*J**4),\n",
       " 2*C17*V1,\n",
       " 0,\n",
       " -2*C42*V1,\n",
       " -2*C16*V1 - 2*C41*V1,\n",
       " 8*V1**3*V2**2/(3*J**4) - 10*V1**2*V2*f**2/(9*J**4),\n",
       " 0,\n",
       " 2*V1**3*V2**2/(9*J**4),\n",
       " 0,\n",
       " -4*V1**3*V2**2/(3*J**4) + 8*V1**2*V2*f**2/(9*J**4),\n",
       " 0,\n",
       " -2*V1**3*V2**2/(9*J**4),\n",
       " 0,\n",
       " -4*I*V1**4*f/(3*J**4) + 2*I*V1**3*V2*f/(3*J**4),\n",
       " 0,\n",
       " 2*I*V1**4*f/J**4,\n",
       " 0,\n",
       " 0,\n",
       " 0,\n",
       " 0,\n",
       " 2*I*V1**4*f/(3*J**4) - 4*I*V1**3*V2*f/(3*J**4),\n",
       " 2*V1**3*f**2/J**4,\n",
       " 0,\n",
       " -2*C32*V2,\n",
       " -2*C33*V2 - 2*I*C37*f - 34*V1**2*V2*f**2/(9*J**4) - 4*V1*V2**2*f**2/(9*J**4),\n",
       " 2*C32*V2 + 2*I*C36*f,\n",
       " -2*C33*V2 - 8*V1**2*V2*f**2/(9*J**4) + 16*V1*V2**2*f**2/(9*J**4),\n",
       " 2*I*C24*f,\n",
       " -2*I*C25*f + 4*I*V1**4*f/(3*J**4) - 40*I*V1**3*V2*f/(9*J**4) + 142*I*V1**2*V2**2*f/(9*J**4) + 64*I*V1**2*f**3/(9*J**4) - 50*I*V1*V2*f**3/(9*J**4),\n",
       " 2*V1**3*f**2/J**4 - 2*V1**2*V2*f**2/(3*J**4),\n",
       " 0,\n",
       " 2*V1**3*f**2/J**4 - 2*V1**2*V2*f**2/J**4,\n",
       " 0,\n",
       " -2*V1**2*V2*f**2/(3*J**4),\n",
       " 0,\n",
       " 0,\n",
       " 0,\n",
       " 14*I*V1**3*V2*f/(9*J**4) - 10*I*V1**2*V2**2*f/(9*J**4),\n",
       " 0,\n",
       " -10*I*V1**3*V2*f/(9*J**4) + 2*I*V1**2*V2**2*f/(9*J**4),\n",
       " 0,\n",
       " -26*I*V1**3*V2*f/(9*J**4) - 2*I*V1**2*V2**2*f/(9*J**4),\n",
       " 0,\n",
       " -4*I*V1**3*V2*f/(9*J**4) + 8*I*V1**2*V2**2*f/(9*J**4),\n",
       " 0,\n",
       " 2*C22*V1 + 4*I*V1**3*V2*f/(3*J**4) - 6*I*V1**2*V2**2*f/J**4 + 2*I*V1**2*f**3/J**4 + 6*I*V1*V2**3*f/J**4 - 4*I*V1*V2*f**3/(3*J**4) - 2*I*V2**4*f/J**4 - 2*I*V2**2*f**3/(3*J**4),\n",
       " 2*C23*V1,\n",
       " 2*I*C20*f,\n",
       " 2*I*C21*f,\n",
       " 0,\n",
       " -2*V1**3*f**2/J**4,\n",
       " -2*C1*V2 + 2*I*C10*f + 2*I*C12*f - 2*I*C14*f + 2*C19*V1 + 2*C26*V2 + 16*I*V1**4*f/(9*J**4) - 22*I*V1**3*V2*f/(9*J**4) - 34*I*V1**2*V2**2*f/(9*J**4) + 8*I*V1**2*f**3/(9*J**4) + 46*I*V1*V2*f**3/(9*J**4),\n",
       " -2*C0*V2 - 2*I*C11*f + 2*I*C13*f - 2*I*C15*f - 2*C27*V2 + 2*I*C46*f,\n",
       " -2*C1*V2 - 2*I*C14*f + 2*C26*V2 - 2*I*C28*f + 2*I*C47*f - 4*I*V1**4*f/(9*J**4) + 40*I*V1**3*V2*f/(9*J**4) + 10*I*V1**2*V2**2*f/(9*J**4) - 14*I*V1**2*f**3/(9*J**4) - 22*I*V1*V2*f**3/(9*J**4),\n",
       " 2*C0*V2 + 2*I*C15*f - 2*C18*V1 + 2*C27*V2 + 2*I*C29*f,\n",
       " -2*C25*V2 + 2*I*C37*f + 2*I*C9*f + 20*V1**2*V2*f**2/(3*J**4),\n",
       " -2*C24*V2 + 2*I*C4*f,\n",
       " -2*C25*V2 - 2*I*C5*f - 2*I*C7*f + 2*I*C9*f + 2*V1**2*V2*f**2/(3*J**4),\n",
       " 2*C24*V2 - 2*I*C36*f - 2*I*C8*f,\n",
       " 2*I*C36*f,\n",
       " -2*I*C37*f + 20*V1**4*V2/(9*J**4) - 2*V1**3*f**2/J**4 - 16*V1**2*V2**3/J**4 - 12*V1**2*V2*f**2/J**4 + 58*V1*V2**2*f**2/(9*J**4),\n",
       " -8*V1**3*V2**2/(9*J**4) + 16*V1**2*V2*f**2/(3*J**4) - 26*V1*V2**2*f**2/(9*J**4),\n",
       " 0,\n",
       " 14*V1**3*V2**2/(9*J**4) + 4*V1**3*f**2/(3*J**4) - 2*V1**2*V2*f**2/J**4,\n",
       " 0,\n",
       " 62*V1**3*V2**2/(9*J**4) + 2*V1**3*f**2/J**4 - 58*V1**2*V2*f**2/(9*J**4) + 26*V1*V2**2*f**2/(9*J**4),\n",
       " 0,\n",
       " 14*V1**3*V2**2/(9*J**4) - 2*V1**3*f**2/(3*J**4) - 8*V1**2*V2*f**2/(3*J**4) - 14*V1*V2**2*f**2/(9*J**4),\n",
       " 0,\n",
       " -2*C10*V1 - 2*I*C2*f - 2*I*C26*f + 2*C33*V2 + 4*V1**3*f**2/(3*J**4) + 10*V1**2*V2*f**2/(3*J**4),\n",
       " 2*C11*V1 - 2*I*C27*f + 2*C32*V2,\n",
       " -2*C10*V1 - 2*C12*V1 + 2*C14*V1 - 2*I*C17*f + 2*C33*V2 + 2*C45*V1 + 4*V1**3*f**2/J**4 - 10*V1**2*V2*f**2/(3*J**4) - 4*V1*V2**2*f**2/(3*J**4),\n",
       " 2*C15*V1 + 2*I*C16*f - 2*I*C3*f - 2*C32*V2,\n",
       " -2*C23*V1 - 2*I*C29*f + 2*C3*V2 + 2*C30*V2,\n",
       " 2*C17*V1 - 2*C2*V2 + 2*C22*V1 - 2*C31*V2 + 2*I*C45*f + 2*I*V1**4*f/J**4 + 2*I*V1**2*V2**2*f/J**4,\n",
       " 2*C16*V1 - 2*C3*V2 - 2*C30*V2 + 2*C41*V1 - 2*I*C46*f,\n",
       " -2*C2*V2 + 2*I*C28*f - 2*C31*V2 - 2*C42*V1 - 2*I*C47*f - 2*I*C48*f - 2*I*V1**4*f/J**4 + 2*I*V1**3*V2*f/(3*J**4) - 34*I*V1**2*V2**2*f/(3*J**4) + 2*I*V1**2*f**3/(3*J**4) + 4*I*V1*V2*f**3/J**4 + 4*I*V2**2*f**3/(3*J**4),\n",
       " -2*I*V1**4*f/J**4 + 2*I*V1**3*V2*f/J**4,\n",
       " 0,\n",
       " 2*I*V1**4*f/J**4,\n",
       " 0,\n",
       " 0,\n",
       " 0,\n",
       " 0,\n",
       " 0,\n",
       " -16*V1**4*V2/(9*J**4) + 8*V1**3*f**2/(3*J**4) - 2*V1**2*V2*f**2/(3*J**4),\n",
       " 0,\n",
       " 10*V1**4*V2/(9*J**4) - 4*V1**3*f**2/(3*J**4) + 4*V1**2*V2*f**2/(3*J**4),\n",
       " 0,\n",
       " -2*V1**4*V2/(3*J**4) + 2*V1**3*f**2/J**4,\n",
       " 0,\n",
       " 10*V1**4*V2/(9*J**4) - 2*V1**3*f**2/J**4,\n",
       " 0,\n",
       " 2*I*V1**3*V2*f/J**4 + 4*I*V1**2*V2**2*f/(9*J**4),\n",
       " 0,\n",
       " 0,\n",
       " 0,\n",
       " -2*I*V1**3*V2*f/(3*J**4),\n",
       " 0,\n",
       " 0,\n",
       " 0,\n",
       " 0,\n",
       " 0,\n",
       " 0,\n",
       " 0,\n",
       " 4*I*V1**3*V2*f/(3*J**4),\n",
       " 0,\n",
       " -2*I*V1**3*V2*f/(3*J**4),\n",
       " 0,\n",
       " 0,\n",
       " 0,\n",
       " 8*I*V1**3*V2*f/(3*J**4) - 4*I*V1**2*V2**2*f/(9*J**4),\n",
       " 0,\n",
       " 26*I*V1**3*V2*f/(9*J**4) - 14*I*V1**2*V2**2*f/(9*J**4),\n",
       " 0,\n",
       " -10*I*V1**3*V2*f/(9*J**4) + 4*I*V1**2*V2**2*f/(9*J**4),\n",
       " 0,\n",
       " -8*I*V1**3*V2*f/(9*J**4),\n",
       " 0,\n",
       " 0,\n",
       " 0,\n",
       " 0,\n",
       " 0,\n",
       " 0,\n",
       " 10*I*V1**3*V2*f/(9*J**4),\n",
       " -20*I*V1**4*f/(9*J**4) - 2*I*V1**3*V2*f/(9*J**4) - 10*I*V1**2*V2**2*f/(9*J**4) - 8*I*V1**2*f**3/(9*J**4) + 8*I*V1*V2*f**3/(9*J**4),\n",
       " 0,\n",
       " 14*I*V1**3*V2*f/(9*J**4) - 10*I*V1**2*V2**2*f/(9*J**4) - 2*I*V1**2*f**3/J**4,\n",
       " 0,\n",
       " 14*I*V1**4*f/(9*J**4) - 16*I*V1**3*V2*f/(9*J**4) + 8*I*V1**2*V2**2*f/(9*J**4) + 28*I*V1**2*f**3/(9*J**4) - 10*I*V1*V2*f**3/(9*J**4),\n",
       " 0,\n",
       " 14*I*V1**4*f/(9*J**4) - 14*I*V1**3*V2*f/(3*J**4) - 8*I*V1**2*V2**2*f/(9*J**4) + 2*I*V1**2*f**3/J**4,\n",
       " 0,\n",
       " 2*I*V1**3*V2*f/(3*J**4),\n",
       " 0,\n",
       " 0,\n",
       " 0,\n",
       " 0,\n",
       " 0,\n",
       " 0,\n",
       " 0,\n",
       " 0,\n",
       " 0,\n",
       " 16*I*V1**3*V2*f/(9*J**4) - 14*I*V1**2*V2**2*f/(9*J**4),\n",
       " 0,\n",
       " 2*I*V1**3*V2*f/(3*J**4),\n",
       " 0,\n",
       " -2*I*V1**3*V2*f/(9*J**4) + 4*I*V1**2*V2**2*f/(9*J**4),\n",
       " 0,\n",
       " -22*I*V1**3*V2*f/(9*J**4) - 4*I*V1**2*V2**2*f/(9*J**4),\n",
       " 0,\n",
       " 0,\n",
       " -4*I*V1**3*V2*f/(3*J**4),\n",
       " 0,\n",
       " 0,\n",
       " 0,\n",
       " 0,\n",
       " 0,\n",
       " -20*I*V1**3*V2*f/(9*J**4) + 4*I*V1**2*V2**2*f/(9*J**4),\n",
       " 0,\n",
       " 0,\n",
       " 0,\n",
       " 0,\n",
       " 0,\n",
       " 0,\n",
       " 2*C10*V1 + 2*C12*V1 - 2*C14*V1 - 2*I*C19*f - 20*V1**3*V2**2/(9*J**4) + 20*V1**3*f**2/(9*J**4) + 8*V1**2*V2*f**2/(3*J**4) + 2*V1*V2**2*f**2/J**4 + 8*V1*f**4/(9*J**4) - 8*V2*f**4/(9*J**4),\n",
       " 2*C13*V1 + 2*I*C18*f,\n",
       " -2*C12*V1 + 2*I*C19*f + 2*V1**3*V2**2/(9*J**4) + 4*V1**3*f**2/(3*J**4) + 22*V1**2*V2*f**2/(9*J**4) - 8*V1*V2**2*f**2/(3*J**4),\n",
       " 2*C15*V1 + 2*I*C18*f,\n",
       " 2*C14*V1 + 2*V1**3*V2**2/(9*J**4) + 8*V1**3*f**2/(9*J**4) + 44*V1**2*V2*f**2/(9*J**4) - 26*V1*V2**2*f**2/(3*J**4) + 8*V1*f**4/(9*J**4) - 8*V2*f**4/(9*J**4),\n",
       " 2*C11*V1 - 2*C13*V1 + 2*C15*V1,\n",
       " 2*C10*V1 + 20*V1**3*V2**2/(9*J**4) - 38*V1**3*f**2/(9*J**4) - 38*V1*V2**2*f**2/(9*J**4) - 4*V1*f**4/(3*J**4) + 4*V2*f**4/(3*J**4),\n",
       " -2*C11*V1,\n",
       " -2*C4*V1 + 2*C41*V2 - 2*C6*V1 + 2*C8*V1,\n",
       " 2*C42*V2 - 2*C5*V1 - 2*C7*V1 + 2*C9*V1 + 4*I*V1**3*V2*f/(3*J**4),\n",
       " -2*C41*V2 - 2*C8*V1,\n",
       " 2*C42*V2 - 2*C5*V1,\n",
       " 8*I*V1**3*V2*f/(3*J**4) - 8*I*V1**2*V2**2*f/(9*J**4) - 32*I*V1**2*f**3/(9*J**4) + 10*I*V1*V2*f**3/(9*J**4),\n",
       " 0,\n",
       " -20*I*V1**3*V2*f/(9*J**4) + 4*I*V1**2*V2**2*f/(3*J**4) + 2*I*V1**2*f**3/J**4 + 10*I*V1*V2*f**3/(9*J**4),\n",
       " 0,\n",
       " 2*I*V1**4*f/J**4 - 26*I*V1**3*V2*f/(3*J**4) + 4*I*V1**2*V2**2*f/(3*J**4) + 32*I*V1**2*f**3/(9*J**4) - 10*I*V1*V2*f**3/(9*J**4),\n",
       " 0,\n",
       " 0,\n",
       " 2*I*V1**4*f/J**4 - 38*I*V1**3*V2*f/(9*J**4) + 8*I*V1**2*V2**2*f/(9*J**4) + 14*I*V1**2*f**3/(9*J**4),\n",
       " -2*I*C10*f - 2*I*C12*f + 2*I*C14*f - 2*C19*V1 - 14*I*V1**4*f/(3*J**4) - 4*I*V1**3*V2*f/(9*J**4) + 2*I*V1**2*V2**2*f/J**4 - 2*I*V1**2*f**3/J**4 - 4*I*V1*V2**3*f/(9*J**4) - 50*I*V1*V2*f**3/(9*J**4) + 2*I*V2**2*f**3/(3*J**4),\n",
       " -2*I*C13*f + 2*C18*V1,\n",
       " 2*I*C14*f - 8*I*V1**4*f/(9*J**4) + 2*I*V1**3*V2*f/(9*J**4) - 104*I*V1**2*V2**2*f/(9*J**4) - 34*I*V1**2*f**3/(9*J**4) - 32*I*V1*V2**3*f/(9*J**4) + 10*I*V1*V2*f**3/(9*J**4) + 4*I*V2**2*f**3/(3*J**4),\n",
       " 2*I*C11*f,\n",
       " 2*I*C10*f + 28*I*V1**4*f/(9*J**4) - 56*I*V1**3*V2*f/(9*J**4) + 110*I*V1**2*V2**2*f/(9*J**4) - 112*I*V1*V2**3*f/(9*J**4) - 70*I*V1*V2*f**3/(9*J**4) + 14*I*V2**2*f**3/(3*J**4),\n",
       " -2*I*C15*f + 2*C18*V1,\n",
       " 2*I*C12*f + 2*C19*V1 - 8*I*V1**3*V2*f/(9*J**4) - 2*I*V1**2*V2**2*f/(9*J**4) - 4*I*V1**2*f**3/(3*J**4) - 4*I*V1*V2**3*f/(9*J**4) + 2*I*V2**2*f**3/(3*J**4),\n",
       " -2*I*C11*f + 2*I*C13*f - 2*I*C15*f,\n",
       " -4*I*V1**4*f/(3*J**4) + 4*I*V1**3*V2*f/(9*J**4),\n",
       " 0,\n",
       " 2*I*V1**4*f/(3*J**4) - 10*I*V1**3*V2*f/(9*J**4),\n",
       " 0,\n",
       " 0,\n",
       " 0,\n",
       " 0,\n",
       " -2*I*V1**4*f/J**4 + 10*I*V1**3*V2*f/(9*J**4),\n",
       " 4*V1**3*f**2/(9*J**4) - 8*V1**2*V2*f**2/(9*J**4),\n",
       " 0,\n",
       " 22*V1**3*f**2/(9*J**4) - 8*V1**2*V2*f**2/(9*J**4),\n",
       " 0,\n",
       " 0,\n",
       " 0,\n",
       " -2*V1**3*f**2/(3*J**4) + 4*V1**2*V2*f**2/(3*J**4),\n",
       " 0,\n",
       " -10*V1**2*V2*f**2/(9*J**4) + 2*V1*V2**2*f**2/(9*J**4),\n",
       " 0,\n",
       " 14*V1**3*f**2/(9*J**4) - 8*V1**2*V2*f**2/(3*J**4) + 10*V1*V2**2*f**2/(9*J**4),\n",
       " 0,\n",
       " -4*V1**3*f**2/(9*J**4) + 4*V1**2*V2*f**2/(3*J**4) - 8*V1*V2**2*f**2/(9*J**4),\n",
       " 0,\n",
       " ...]"
      ]
     },
     "execution_count": 100,
     "metadata": {},
     "output_type": "execute_result"
    }
   ],
   "source": [
    "cvector"
   ]
  },
  {
   "cell_type": "code",
   "execution_count": 19,
   "metadata": {
    "autoscroll": "json-false",
    "collapsed": false,
    "ein.tags": [
     "worksheet-0"
    ]
   },
   "outputs": [
    {
     "name": "stdout",
     "output_type": "stream",
     "text": [
      "1/41\r",
      "2/41\r",
      "3/41\r",
      "4/41\r",
      "5/41"
     ]
    },
    {
     "name": "stdout",
     "output_type": "stream",
     "text": [
      "\r",
      "6/41\r",
      "7/41\r",
      "8/41"
     ]
    },
    {
     "name": "stdout",
     "output_type": "stream",
     "text": [
      "\r",
      "9/41\r",
      "10/41\r",
      "11/41\r",
      "12/41\r",
      "13/41\r",
      "14/41\r",
      "15/41"
     ]
    },
    {
     "name": "stdout",
     "output_type": "stream",
     "text": [
      "\r",
      "16/41"
     ]
    },
    {
     "name": "stdout",
     "output_type": "stream",
     "text": [
      "\r",
      "17/41"
     ]
    },
    {
     "name": "stdout",
     "output_type": "stream",
     "text": [
      "\r",
      "18/41"
     ]
    },
    {
     "name": "stdout",
     "output_type": "stream",
     "text": [
      "\r",
      "19/41\r",
      "20/41\r",
      "21/41\r",
      "22/41\r",
      "23/41"
     ]
    },
    {
     "name": "stdout",
     "output_type": "stream",
     "text": [
      "\r",
      "24/41\r",
      "25/41\r",
      "26/41\r",
      "27/41\r",
      "28/41\r",
      "29/41\r",
      "30/41\r",
      "31/41\r",
      "32/41"
     ]
    },
    {
     "name": "stdout",
     "output_type": "stream",
     "text": [
      "\r",
      "33/41\r",
      "34/41\r",
      "35/41\r",
      "36/41\r",
      "37/41\r",
      "38/41"
     ]
    },
    {
     "name": "stdout",
     "output_type": "stream",
     "text": [
      "\r",
      "39/41\r",
      "40/41\r",
      "41/41\r"
     ]
    },
    {
     "data": {
      "text/plain": [
       "{C44: 0,\n",
       " C23: 0,\n",
       " C29: 0,\n",
       " C1: 0,\n",
       " C22: I*V2*f*(-V1**2 + 3*V1*V2 - f**2)/J**4,\n",
       " C19: I*V1**2*f*(-2*V1 + V2)/(3*J**4),\n",
       " C47: 0,\n",
       " C20: 0,\n",
       " C27: 0,\n",
       " C30: 0,\n",
       " C33: V1*f**2*(-2*V1 + V2)/(3*J**4),\n",
       " C13: 0,\n",
       " C14: V1*f**2*(V1 + V2)/(3*J**4),\n",
       " C9: 0,\n",
       " C18: 0,\n",
       " C39: V1**2*f**2/J**4,\n",
       " C34: 0,\n",
       " C32: 0,\n",
       " C8: 0,\n",
       " C21: -I*V1**3*f/J**4,\n",
       " C45: -V1**2*f**2/J**4,\n",
       " C38: 0,\n",
       " C6: 0,\n",
       " C17: -I*V1**3*f/J**4,\n",
       " C24: 0,\n",
       " C31: I*f*(2*V1**2*V2 - V1*f**2 + V2*f**2)/(3*J**4),\n",
       " C36: 0,\n",
       " C46: 0,\n",
       " C42: -I*V1**3*f/J**4,\n",
       " C5: -2*I*V1**2*V2*f/(3*J**4),\n",
       " C16: 0,\n",
       " C25: V1**2*f**2/J**4,\n",
       " C11: 0,\n",
       " C7: 0,\n",
       " C4: 0,\n",
       " C37: I*V1**2*V2*f/J**4,\n",
       " C0: 0,\n",
       " C28: V1*(2*V1**2*V2 - V1*f**2 + V2*f**2)/(3*J**4),\n",
       " C40: V1*f**2*(-V1 + V2)/J**4,\n",
       " C3: 0,\n",
       " C26: I*V1**2*f*(-V1 + 2*V2)/(3*J**4),\n",
       " C41: 0,\n",
       " C35: V1**3*V2/(3*J**4),\n",
       " C43: 0,\n",
       " C15: 0,\n",
       " C48: V1*(-3*V1*V2**2 - V1*f**2 + 2*V2*f**2)/J**4,\n",
       " C2: 0,\n",
       " C10: 0,\n",
       " C12: V1*f**2*(2*V1 - V2)/(3*J**4)}"
      ]
     },
     "execution_count": 19,
     "metadata": {},
     "output_type": "execute_result"
    }
   ],
   "source": [
    "    normdict = check_normalisable(psi, iofvars, 4, orders, split_orders, update_splits=True)\n",
    "    normdict"
   ]
  },
  {
   "cell_type": "code",
   "execution_count": 67,
   "metadata": {
    "autoscroll": "json-false",
    "collapsed": false,
    "ein.tags": [
     "worksheet-0"
    ]
   },
   "outputs": [],
   "source": [
    "psisub = substitute_group(psi, normdict)"
   ]
  },
  {
   "cell_type": "code",
   "execution_count": 28,
   "metadata": {
    "autoscroll": "json-false",
    "collapsed": false,
    "ein.tags": [
     "worksheet-0"
    ]
   },
   "outputs": [],
   "source": []
  },
  {
   "cell_type": "code",
   "execution_count": 69,
   "metadata": {
    "autoscroll": "json-false",
    "collapsed": false,
    "ein.tags": [
     "worksheet-0"
    ]
   },
   "outputs": [
    {
     "data": {
      "text/plain": [
       "[1 + V1**2/J**2 + f**2/J**2 + V1**4/J**4 + 2*V1**2*V2**2/J**4 + 4*V1**2*f**2/J**4 - 4*V1*V2*f**2/J**4 + V2**2*f**2/J**4 + f**4/J**4 + V1**6/J**6 + 125*V1**4*V2**2/(9*J**6) + 92*V1**4*f**2/(9*J**6) - 68*V1**3*V2*f**2/(3*J**6) + 8*V1**2*V2**4/J**6 + 65*V1**2*V2**2*f**2/(3*J**6) + 103*V1**2*f**4/(9*J**6) - 10*V1*V2**3*f**2/J**6 - 110*V1*V2*f**4/(9*J**6) + V2**4*f**2/J**6 + 34*V2**2*f**4/(9*J**6) + f**6/J**6 + V1**8/J**8 + 538*V1**6*V2**2/(27*J**8) + 1892*V1**6*f**2/(81*J**8) - 4738*V1**5*V2*f**2/(81*J**8) + 3403*V1**4*V2**4/(81*J**8) + 10511*V1**4*V2**2*f**2/(81*J**8) + 427*V1**4*f**4/(9*J**8) - 11000*V1**3*V2**3*f**2/(81*J**8) - 2500*V1**3*V2*f**4/(27*J**8) + 32*V1**2*V2**6/J**8 + 9998*V1**2*V2**4*f**2/(81*J**8) + 8684*V1**2*V2**2*f**4/(81*J**8) + 1411*V1**2*f**6/(81*J**8) - 46*V1*V2**5*f**2/J**8 - 5576*V1*V2**3*f**4/(81*J**8) - 1706*V1*V2*f**6/(81*J**8) + V2**6*f**2/J**8 + 1168*V2**4*f**4/(81*J**8) + 700*V2**2*f**6/(81*J**8) + f**8/J**8 : []]"
      ]
     },
     "execution_count": 69,
     "metadata": {},
     "output_type": "execute_result"
    }
   ],
   "source": [
    "square_to_find_identity(psisub)"
   ]
  },
  {
   "cell_type": "code",
   "execution_count": 20,
   "metadata": {
    "autoscroll": "json-false",
    "collapsed": false,
    "ein.tags": [
     "worksheet-0"
    ]
   },
   "outputs": [
    {
     "name": "stdout",
     "output_type": "stream",
     "text": [
      "1/916\r",
      "2/916"
     ]
    },
    {
     "name": "stdout",
     "output_type": "stream",
     "text": [
      "\r",
      "3/916"
     ]
    },
    {
     "name": "stdout",
     "output_type": "stream",
     "text": [
      "\r",
      "4/916"
     ]
    },
    {
     "name": "stdout",
     "output_type": "stream",
     "text": [
      "\r",
      "5/916\r",
      "6/916"
     ]
    },
    {
     "name": "stdout",
     "output_type": "stream",
     "text": [
      "\r",
      "7/916"
     ]
    },
    {
     "name": "stdout",
     "output_type": "stream",
     "text": [
      "\r",
      "8/916"
     ]
    },
    {
     "name": "stdout",
     "output_type": "stream",
     "text": [
      "\r",
      "9/916"
     ]
    },
    {
     "name": "stdout",
     "output_type": "stream",
     "text": [
      "\r",
      "10/916"
     ]
    },
    {
     "name": "stdout",
     "output_type": "stream",
     "text": [
      "\r",
      "11/916"
     ]
    },
    {
     "name": "stdout",
     "output_type": "stream",
     "text": [
      "\r",
      "12/916\r",
      "13/916"
     ]
    },
    {
     "name": "stdout",
     "output_type": "stream",
     "text": [
      "\r",
      "14/916"
     ]
    },
    {
     "name": "stdout",
     "output_type": "stream",
     "text": [
      "\r",
      "15/916"
     ]
    },
    {
     "name": "stdout",
     "output_type": "stream",
     "text": [
      "\r",
      "16/916"
     ]
    },
    {
     "name": "stdout",
     "output_type": "stream",
     "text": [
      "\r",
      "17/916"
     ]
    },
    {
     "name": "stdout",
     "output_type": "stream",
     "text": [
      "\r",
      "18/916"
     ]
    },
    {
     "name": "stdout",
     "output_type": "stream",
     "text": [
      "\r",
      "19/916"
     ]
    },
    {
     "name": "stdout",
     "output_type": "stream",
     "text": [
      "\r",
      "20/916"
     ]
    },
    {
     "name": "stdout",
     "output_type": "stream",
     "text": [
      "\r",
      "21/916"
     ]
    },
    {
     "name": "stdout",
     "output_type": "stream",
     "text": [
      "\r",
      "22/916"
     ]
    },
    {
     "name": "stdout",
     "output_type": "stream",
     "text": [
      "\r",
      "23/916"
     ]
    },
    {
     "name": "stdout",
     "output_type": "stream",
     "text": [
      "\r",
      "24/916"
     ]
    },
    {
     "name": "stdout",
     "output_type": "stream",
     "text": [
      "\r",
      "25/916\r",
      "26/916"
     ]
    },
    {
     "name": "stdout",
     "output_type": "stream",
     "text": [
      "\r",
      "27/916"
     ]
    },
    {
     "name": "stdout",
     "output_type": "stream",
     "text": [
      "\r",
      "28/916"
     ]
    },
    {
     "name": "stdout",
     "output_type": "stream",
     "text": [
      "\r",
      "29/916\r",
      "30/916"
     ]
    },
    {
     "name": "stdout",
     "output_type": "stream",
     "text": [
      "\r",
      "31/916"
     ]
    },
    {
     "name": "stdout",
     "output_type": "stream",
     "text": [
      "\r",
      "32/916"
     ]
    },
    {
     "name": "stdout",
     "output_type": "stream",
     "text": [
      "\r",
      "33/916"
     ]
    },
    {
     "name": "stdout",
     "output_type": "stream",
     "text": [
      "\r",
      "34/916"
     ]
    },
    {
     "name": "stdout",
     "output_type": "stream",
     "text": [
      "\r",
      "35/916"
     ]
    },
    {
     "name": "stdout",
     "output_type": "stream",
     "text": [
      "\r",
      "36/916"
     ]
    },
    {
     "name": "stdout",
     "output_type": "stream",
     "text": [
      "\r",
      "37/916\r",
      "38/916"
     ]
    },
    {
     "name": "stdout",
     "output_type": "stream",
     "text": [
      "\r",
      "39/916"
     ]
    },
    {
     "name": "stdout",
     "output_type": "stream",
     "text": [
      "\r",
      "40/916\r",
      "41/916\r",
      "42/916"
     ]
    },
    {
     "name": "stdout",
     "output_type": "stream",
     "text": [
      "\r",
      "43/916"
     ]
    },
    {
     "name": "stdout",
     "output_type": "stream",
     "text": [
      "\r",
      "44/916\r",
      "45/916\r",
      "46/916\r",
      "47/916\r",
      "48/916"
     ]
    },
    {
     "name": "stdout",
     "output_type": "stream",
     "text": [
      "\r",
      "49/916\r",
      "50/916\r",
      "51/916"
     ]
    },
    {
     "name": "stdout",
     "output_type": "stream",
     "text": [
      "\r",
      "52/916\r",
      "53/916"
     ]
    },
    {
     "name": "stdout",
     "output_type": "stream",
     "text": [
      "\r",
      "54/916"
     ]
    },
    {
     "name": "stdout",
     "output_type": "stream",
     "text": [
      "\r",
      "55/916\r",
      "56/916\r",
      "57/916"
     ]
    },
    {
     "name": "stdout",
     "output_type": "stream",
     "text": [
      "\r",
      "58/916\r",
      "59/916"
     ]
    },
    {
     "name": "stdout",
     "output_type": "stream",
     "text": [
      "\r",
      "60/916"
     ]
    },
    {
     "name": "stdout",
     "output_type": "stream",
     "text": [
      "\r",
      "61/916"
     ]
    },
    {
     "name": "stdout",
     "output_type": "stream",
     "text": [
      "\r",
      "62/916"
     ]
    },
    {
     "name": "stdout",
     "output_type": "stream",
     "text": [
      "\r",
      "63/916"
     ]
    },
    {
     "name": "stdout",
     "output_type": "stream",
     "text": [
      "\r",
      "64/916"
     ]
    },
    {
     "name": "stdout",
     "output_type": "stream",
     "text": [
      "\r",
      "65/916"
     ]
    },
    {
     "name": "stdout",
     "output_type": "stream",
     "text": [
      "\r",
      "66/916"
     ]
    },
    {
     "name": "stdout",
     "output_type": "stream",
     "text": [
      "\r",
      "67/916"
     ]
    },
    {
     "name": "stdout",
     "output_type": "stream",
     "text": [
      "\r",
      "68/916"
     ]
    },
    {
     "name": "stdout",
     "output_type": "stream",
     "text": [
      "\r",
      "69/916"
     ]
    },
    {
     "name": "stdout",
     "output_type": "stream",
     "text": [
      "\r",
      "70/916\r",
      "71/916"
     ]
    },
    {
     "name": "stdout",
     "output_type": "stream",
     "text": [
      "\r",
      "72/916"
     ]
    },
    {
     "name": "stdout",
     "output_type": "stream",
     "text": [
      "\r",
      "73/916\r",
      "74/916"
     ]
    },
    {
     "name": "stdout",
     "output_type": "stream",
     "text": [
      "\r",
      "75/916"
     ]
    },
    {
     "name": "stdout",
     "output_type": "stream",
     "text": [
      "\r",
      "76/916"
     ]
    },
    {
     "name": "stdout",
     "output_type": "stream",
     "text": [
      "\r",
      "77/916"
     ]
    },
    {
     "name": "stdout",
     "output_type": "stream",
     "text": [
      "\r",
      "78/916"
     ]
    },
    {
     "name": "stdout",
     "output_type": "stream",
     "text": [
      "\r",
      "79/916\r",
      "80/916"
     ]
    },
    {
     "name": "stdout",
     "output_type": "stream",
     "text": [
      "\r",
      "81/916\r",
      "82/916\r",
      "83/916"
     ]
    },
    {
     "name": "stdout",
     "output_type": "stream",
     "text": [
      "\r",
      "84/916\r",
      "85/916\r",
      "86/916\r",
      "87/916"
     ]
    },
    {
     "name": "stdout",
     "output_type": "stream",
     "text": [
      "\r",
      "88/916"
     ]
    },
    {
     "name": "stdout",
     "output_type": "stream",
     "text": [
      "\r",
      "89/916"
     ]
    },
    {
     "name": "stdout",
     "output_type": "stream",
     "text": [
      "\r",
      "90/916\r",
      "91/916"
     ]
    },
    {
     "name": "stdout",
     "output_type": "stream",
     "text": [
      "\r",
      "92/916\r",
      "93/916\r",
      "94/916\r",
      "95/916\r",
      "96/916"
     ]
    },
    {
     "name": "stdout",
     "output_type": "stream",
     "text": [
      "\r",
      "97/916\r",
      "98/916\r",
      "99/916"
     ]
    },
    {
     "name": "stdout",
     "output_type": "stream",
     "text": [
      "\r",
      "100/916\r",
      "101/916"
     ]
    },
    {
     "name": "stdout",
     "output_type": "stream",
     "text": [
      "\r",
      "102/916\r",
      "103/916\r",
      "104/916\r",
      "105/916\r",
      "106/916\r",
      "107/916"
     ]
    },
    {
     "name": "stdout",
     "output_type": "stream",
     "text": [
      "\r",
      "108/916\r",
      "109/916\r",
      "110/916"
     ]
    },
    {
     "name": "stdout",
     "output_type": "stream",
     "text": [
      "\r",
      "111/916\r",
      "112/916\r",
      "113/916"
     ]
    },
    {
     "name": "stdout",
     "output_type": "stream",
     "text": [
      "\r",
      "114/916"
     ]
    },
    {
     "name": "stdout",
     "output_type": "stream",
     "text": [
      "\r",
      "115/916\r",
      "116/916"
     ]
    },
    {
     "name": "stdout",
     "output_type": "stream",
     "text": [
      "\r",
      "117/916"
     ]
    },
    {
     "name": "stdout",
     "output_type": "stream",
     "text": [
      "\r",
      "118/916"
     ]
    },
    {
     "name": "stdout",
     "output_type": "stream",
     "text": [
      "\r",
      "119/916"
     ]
    },
    {
     "name": "stdout",
     "output_type": "stream",
     "text": [
      "\r",
      "120/916\r",
      "121/916"
     ]
    },
    {
     "name": "stdout",
     "output_type": "stream",
     "text": [
      "\r",
      "122/916\r",
      "123/916\r",
      "124/916"
     ]
    },
    {
     "name": "stdout",
     "output_type": "stream",
     "text": [
      "\r",
      "125/916\r",
      "126/916"
     ]
    },
    {
     "name": "stdout",
     "output_type": "stream",
     "text": [
      "\r",
      "127/916"
     ]
    },
    {
     "name": "stdout",
     "output_type": "stream",
     "text": [
      "\r",
      "128/916\r",
      "129/916"
     ]
    },
    {
     "name": "stdout",
     "output_type": "stream",
     "text": [
      "\r",
      "130/916"
     ]
    },
    {
     "name": "stdout",
     "output_type": "stream",
     "text": [
      "\r",
      "131/916"
     ]
    },
    {
     "name": "stdout",
     "output_type": "stream",
     "text": [
      "\r",
      "132/916"
     ]
    },
    {
     "name": "stdout",
     "output_type": "stream",
     "text": [
      "\r",
      "133/916\r",
      "134/916"
     ]
    },
    {
     "name": "stdout",
     "output_type": "stream",
     "text": [
      "\r",
      "135/916"
     ]
    },
    {
     "name": "stdout",
     "output_type": "stream",
     "text": [
      "\r",
      "136/916\r",
      "137/916\r",
      "138/916"
     ]
    },
    {
     "name": "stdout",
     "output_type": "stream",
     "text": [
      "\r",
      "139/916"
     ]
    },
    {
     "name": "stdout",
     "output_type": "stream",
     "text": [
      "\r",
      "140/916"
     ]
    },
    {
     "name": "stdout",
     "output_type": "stream",
     "text": [
      "\r",
      "141/916"
     ]
    },
    {
     "name": "stdout",
     "output_type": "stream",
     "text": [
      "\r",
      "142/916"
     ]
    },
    {
     "name": "stdout",
     "output_type": "stream",
     "text": [
      "\r",
      "143/916"
     ]
    },
    {
     "name": "stdout",
     "output_type": "stream",
     "text": [
      "\r",
      "144/916"
     ]
    },
    {
     "name": "stdout",
     "output_type": "stream",
     "text": [
      "\r",
      "145/916"
     ]
    },
    {
     "name": "stdout",
     "output_type": "stream",
     "text": [
      "\r",
      "146/916\r",
      "147/916\r",
      "148/916\r",
      "149/916"
     ]
    },
    {
     "name": "stdout",
     "output_type": "stream",
     "text": [
      "\r",
      "150/916"
     ]
    },
    {
     "name": "stdout",
     "output_type": "stream",
     "text": [
      "\r",
      "151/916\r",
      "152/916"
     ]
    },
    {
     "name": "stdout",
     "output_type": "stream",
     "text": [
      "\r",
      "153/916\r",
      "154/916\r",
      "155/916\r",
      "156/916\r",
      "157/916"
     ]
    },
    {
     "name": "stdout",
     "output_type": "stream",
     "text": [
      "\r",
      "158/916"
     ]
    },
    {
     "name": "stdout",
     "output_type": "stream",
     "text": [
      "\r",
      "159/916"
     ]
    },
    {
     "name": "stdout",
     "output_type": "stream",
     "text": [
      "\r",
      "160/916\r",
      "161/916\r",
      "162/916"
     ]
    },
    {
     "name": "stdout",
     "output_type": "stream",
     "text": [
      "\r",
      "163/916"
     ]
    },
    {
     "name": "stdout",
     "output_type": "stream",
     "text": [
      "\r",
      "164/916\r",
      "165/916"
     ]
    },
    {
     "name": "stdout",
     "output_type": "stream",
     "text": [
      "\r",
      "166/916"
     ]
    },
    {
     "name": "stdout",
     "output_type": "stream",
     "text": [
      "\r",
      "167/916\r",
      "168/916"
     ]
    },
    {
     "name": "stdout",
     "output_type": "stream",
     "text": [
      "\r",
      "169/916"
     ]
    },
    {
     "name": "stdout",
     "output_type": "stream",
     "text": [
      "\r",
      "170/916\r",
      "171/916\r",
      "172/916"
     ]
    },
    {
     "name": "stdout",
     "output_type": "stream",
     "text": [
      "\r",
      "173/916\r",
      "174/916"
     ]
    },
    {
     "name": "stdout",
     "output_type": "stream",
     "text": [
      "\r",
      "175/916\r",
      "176/916"
     ]
    },
    {
     "name": "stdout",
     "output_type": "stream",
     "text": [
      "\r",
      "177/916"
     ]
    },
    {
     "name": "stdout",
     "output_type": "stream",
     "text": [
      "\r",
      "178/916"
     ]
    },
    {
     "name": "stdout",
     "output_type": "stream",
     "text": [
      "\r",
      "179/916"
     ]
    },
    {
     "name": "stdout",
     "output_type": "stream",
     "text": [
      "\r",
      "180/916\r",
      "181/916\r",
      "182/916"
     ]
    },
    {
     "name": "stdout",
     "output_type": "stream",
     "text": [
      "\r",
      "183/916"
     ]
    },
    {
     "name": "stdout",
     "output_type": "stream",
     "text": [
      "\r",
      "184/916"
     ]
    },
    {
     "name": "stdout",
     "output_type": "stream",
     "text": [
      "\r",
      "185/916"
     ]
    },
    {
     "name": "stdout",
     "output_type": "stream",
     "text": [
      "\r",
      "186/916\r",
      "187/916"
     ]
    },
    {
     "name": "stdout",
     "output_type": "stream",
     "text": [
      "\r",
      "188/916\r",
      "189/916\r",
      "190/916\r",
      "191/916"
     ]
    },
    {
     "name": "stdout",
     "output_type": "stream",
     "text": [
      "\r",
      "192/916\r",
      "193/916\r",
      "194/916\r",
      "195/916"
     ]
    },
    {
     "name": "stdout",
     "output_type": "stream",
     "text": [
      "\r",
      "196/916\r",
      "197/916\r",
      "198/916\r",
      "199/916\r",
      "200/916"
     ]
    },
    {
     "name": "stdout",
     "output_type": "stream",
     "text": [
      "\r",
      "201/916\r",
      "202/916"
     ]
    },
    {
     "name": "stdout",
     "output_type": "stream",
     "text": [
      "\r",
      "203/916\r",
      "204/916\r",
      "205/916\r",
      "206/916\r",
      "207/916\r",
      "208/916"
     ]
    },
    {
     "name": "stdout",
     "output_type": "stream",
     "text": [
      "\r",
      "209/916"
     ]
    },
    {
     "name": "stdout",
     "output_type": "stream",
     "text": [
      "\r",
      "210/916\r",
      "211/916"
     ]
    },
    {
     "name": "stdout",
     "output_type": "stream",
     "text": [
      "\r",
      "212/916"
     ]
    },
    {
     "name": "stdout",
     "output_type": "stream",
     "text": [
      "\r",
      "213/916\r",
      "214/916\r",
      "215/916"
     ]
    },
    {
     "name": "stdout",
     "output_type": "stream",
     "text": [
      "\r",
      "216/916\r",
      "217/916"
     ]
    },
    {
     "name": "stdout",
     "output_type": "stream",
     "text": [
      "\r",
      "218/916"
     ]
    },
    {
     "name": "stdout",
     "output_type": "stream",
     "text": [
      "\r",
      "219/916\r",
      "220/916\r",
      "221/916\r",
      "222/916\r",
      "223/916"
     ]
    },
    {
     "name": "stdout",
     "output_type": "stream",
     "text": [
      "\r",
      "224/916\r",
      "225/916\r",
      "226/916"
     ]
    },
    {
     "name": "stdout",
     "output_type": "stream",
     "text": [
      "\r",
      "227/916"
     ]
    },
    {
     "name": "stdout",
     "output_type": "stream",
     "text": [
      "\r",
      "228/916\r",
      "229/916\r",
      "230/916"
     ]
    },
    {
     "name": "stdout",
     "output_type": "stream",
     "text": [
      "\r",
      "231/916\r",
      "232/916\r",
      "233/916"
     ]
    },
    {
     "name": "stdout",
     "output_type": "stream",
     "text": [
      "\r",
      "234/916\r",
      "235/916"
     ]
    },
    {
     "name": "stdout",
     "output_type": "stream",
     "text": [
      "\r",
      "236/916\r",
      "237/916\r",
      "238/916"
     ]
    },
    {
     "name": "stdout",
     "output_type": "stream",
     "text": [
      "\r",
      "239/916\r",
      "240/916\r",
      "241/916\r",
      "242/916\r",
      "243/916"
     ]
    },
    {
     "name": "stdout",
     "output_type": "stream",
     "text": [
      "\r",
      "244/916"
     ]
    },
    {
     "name": "stdout",
     "output_type": "stream",
     "text": [
      "\r",
      "245/916\r",
      "246/916"
     ]
    },
    {
     "name": "stdout",
     "output_type": "stream",
     "text": [
      "\r",
      "247/916\r",
      "248/916"
     ]
    },
    {
     "name": "stdout",
     "output_type": "stream",
     "text": [
      "\r",
      "249/916\r",
      "250/916\r",
      "251/916"
     ]
    },
    {
     "name": "stdout",
     "output_type": "stream",
     "text": [
      "\r",
      "252/916"
     ]
    },
    {
     "name": "stdout",
     "output_type": "stream",
     "text": [
      "\r",
      "253/916\r",
      "254/916"
     ]
    },
    {
     "name": "stdout",
     "output_type": "stream",
     "text": [
      "\r",
      "255/916\r",
      "256/916\r",
      "257/916\r",
      "258/916\r",
      "259/916\r",
      "260/916"
     ]
    },
    {
     "name": "stdout",
     "output_type": "stream",
     "text": [
      "\r",
      "261/916"
     ]
    },
    {
     "name": "stdout",
     "output_type": "stream",
     "text": [
      "\r",
      "262/916"
     ]
    },
    {
     "name": "stdout",
     "output_type": "stream",
     "text": [
      "\r",
      "263/916"
     ]
    },
    {
     "name": "stdout",
     "output_type": "stream",
     "text": [
      "\r",
      "264/916\r",
      "265/916\r",
      "266/916\r",
      "267/916"
     ]
    },
    {
     "name": "stdout",
     "output_type": "stream",
     "text": [
      "\r",
      "268/916\r",
      "269/916"
     ]
    },
    {
     "name": "stdout",
     "output_type": "stream",
     "text": [
      "\r",
      "270/916\r",
      "271/916"
     ]
    },
    {
     "name": "stdout",
     "output_type": "stream",
     "text": [
      "\r",
      "272/916\r",
      "273/916\r",
      "274/916\r",
      "275/916"
     ]
    },
    {
     "name": "stdout",
     "output_type": "stream",
     "text": [
      "\r",
      "276/916"
     ]
    },
    {
     "name": "stdout",
     "output_type": "stream",
     "text": [
      "\r",
      "277/916\r",
      "278/916"
     ]
    },
    {
     "name": "stdout",
     "output_type": "stream",
     "text": [
      "\r",
      "279/916"
     ]
    },
    {
     "name": "stdout",
     "output_type": "stream",
     "text": [
      "\r",
      "280/916"
     ]
    },
    {
     "name": "stdout",
     "output_type": "stream",
     "text": [
      "\r",
      "281/916\r",
      "282/916"
     ]
    },
    {
     "name": "stdout",
     "output_type": "stream",
     "text": [
      "\r",
      "283/916\r",
      "284/916\r",
      "285/916\r",
      "286/916\r",
      "287/916\r",
      "288/916"
     ]
    },
    {
     "name": "stdout",
     "output_type": "stream",
     "text": [
      "\r",
      "289/916"
     ]
    },
    {
     "name": "stdout",
     "output_type": "stream",
     "text": [
      "\r",
      "290/916\r",
      "291/916"
     ]
    },
    {
     "name": "stdout",
     "output_type": "stream",
     "text": [
      "\r",
      "292/916\r",
      "293/916\r",
      "294/916\r",
      "295/916\r",
      "296/916"
     ]
    },
    {
     "name": "stdout",
     "output_type": "stream",
     "text": [
      "\r",
      "297/916\r",
      "298/916"
     ]
    },
    {
     "name": "stdout",
     "output_type": "stream",
     "text": [
      "\r",
      "299/916\r",
      "300/916\r",
      "301/916\r",
      "302/916\r",
      "303/916"
     ]
    },
    {
     "name": "stdout",
     "output_type": "stream",
     "text": [
      "\r",
      "304/916"
     ]
    },
    {
     "name": "stdout",
     "output_type": "stream",
     "text": [
      "\r",
      "305/916"
     ]
    },
    {
     "name": "stdout",
     "output_type": "stream",
     "text": [
      "\r",
      "306/916\r",
      "307/916\r",
      "308/916\r",
      "309/916\r",
      "310/916"
     ]
    },
    {
     "name": "stdout",
     "output_type": "stream",
     "text": [
      "\r",
      "311/916\r",
      "312/916\r",
      "313/916\r",
      "314/916"
     ]
    },
    {
     "name": "stdout",
     "output_type": "stream",
     "text": [
      "\r",
      "315/916\r",
      "316/916\r",
      "317/916\r",
      "318/916"
     ]
    },
    {
     "name": "stdout",
     "output_type": "stream",
     "text": [
      "\r",
      "319/916\r",
      "320/916\r",
      "321/916\r",
      "322/916\r",
      "323/916\r",
      "324/916"
     ]
    },
    {
     "name": "stdout",
     "output_type": "stream",
     "text": [
      "\r",
      "325/916\r",
      "326/916"
     ]
    },
    {
     "name": "stdout",
     "output_type": "stream",
     "text": [
      "\r",
      "327/916\r",
      "328/916"
     ]
    },
    {
     "name": "stdout",
     "output_type": "stream",
     "text": [
      "\r",
      "329/916\r",
      "330/916\r",
      "331/916\r",
      "332/916\r",
      "333/916"
     ]
    },
    {
     "name": "stdout",
     "output_type": "stream",
     "text": [
      "\r",
      "334/916\r",
      "335/916"
     ]
    },
    {
     "name": "stdout",
     "output_type": "stream",
     "text": [
      "\r",
      "336/916\r",
      "337/916\r",
      "338/916\r",
      "339/916"
     ]
    },
    {
     "name": "stdout",
     "output_type": "stream",
     "text": [
      "\r",
      "340/916\r",
      "341/916\r",
      "342/916\r",
      "343/916\r",
      "344/916\r",
      "345/916\r",
      "346/916\r",
      "347/916\r",
      "348/916\r",
      "349/916\r",
      "350/916\r",
      "351/916\r",
      "352/916\r",
      "353/916\r",
      "354/916\r",
      "355/916\r",
      "356/916"
     ]
    },
    {
     "name": "stdout",
     "output_type": "stream",
     "text": [
      "\r",
      "357/916\r",
      "358/916"
     ]
    },
    {
     "name": "stdout",
     "output_type": "stream",
     "text": [
      "\r",
      "359/916\r",
      "360/916\r",
      "361/916\r",
      "362/916"
     ]
    },
    {
     "name": "stdout",
     "output_type": "stream",
     "text": [
      "\r",
      "363/916\r",
      "364/916\r",
      "365/916\r",
      "366/916"
     ]
    },
    {
     "name": "stdout",
     "output_type": "stream",
     "text": [
      "\r",
      "367/916\r",
      "368/916\r",
      "369/916\r",
      "370/916\r",
      "371/916\r",
      "372/916\r",
      "373/916\r",
      "374/916\r",
      "375/916"
     ]
    },
    {
     "name": "stdout",
     "output_type": "stream",
     "text": [
      "\r",
      "376/916\r",
      "377/916"
     ]
    },
    {
     "name": "stdout",
     "output_type": "stream",
     "text": [
      "\r",
      "378/916\r",
      "379/916"
     ]
    },
    {
     "name": "stdout",
     "output_type": "stream",
     "text": [
      "\r",
      "380/916"
     ]
    },
    {
     "name": "stdout",
     "output_type": "stream",
     "text": [
      "\r",
      "381/916"
     ]
    },
    {
     "name": "stdout",
     "output_type": "stream",
     "text": [
      "\r",
      "382/916\r",
      "383/916"
     ]
    },
    {
     "name": "stdout",
     "output_type": "stream",
     "text": [
      "\r",
      "384/916\r",
      "385/916\r",
      "386/916\r",
      "387/916\r",
      "388/916\r",
      "389/916\r",
      "390/916\r",
      "391/916\r",
      "392/916\r",
      "393/916\r",
      "394/916"
     ]
    },
    {
     "name": "stdout",
     "output_type": "stream",
     "text": [
      "\r",
      "395/916\r",
      "396/916"
     ]
    },
    {
     "name": "stdout",
     "output_type": "stream",
     "text": [
      "\r",
      "397/916\r",
      "398/916\r",
      "399/916\r",
      "400/916"
     ]
    },
    {
     "name": "stdout",
     "output_type": "stream",
     "text": [
      "\r",
      "401/916\r",
      "402/916"
     ]
    },
    {
     "name": "stdout",
     "output_type": "stream",
     "text": [
      "\r",
      "403/916\r",
      "404/916\r",
      "405/916\r",
      "406/916"
     ]
    },
    {
     "name": "stdout",
     "output_type": "stream",
     "text": [
      "\r",
      "407/916\r",
      "408/916"
     ]
    },
    {
     "name": "stdout",
     "output_type": "stream",
     "text": [
      "\r",
      "409/916\r",
      "410/916\r",
      "411/916\r",
      "412/916\r",
      "413/916\r",
      "414/916"
     ]
    },
    {
     "name": "stdout",
     "output_type": "stream",
     "text": [
      "\r",
      "415/916\r",
      "416/916\r",
      "417/916\r",
      "418/916\r",
      "419/916\r",
      "420/916\r",
      "421/916\r",
      "422/916\r",
      "423/916"
     ]
    },
    {
     "name": "stdout",
     "output_type": "stream",
     "text": [
      "\r",
      "424/916\r",
      "425/916\r",
      "426/916"
     ]
    },
    {
     "name": "stdout",
     "output_type": "stream",
     "text": [
      "\r",
      "427/916\r",
      "428/916\r",
      "429/916\r",
      "430/916\r",
      "431/916\r",
      "432/916\r",
      "433/916\r",
      "434/916\r",
      "435/916\r",
      "436/916\r",
      "437/916"
     ]
    },
    {
     "name": "stdout",
     "output_type": "stream",
     "text": [
      "\r",
      "438/916\r",
      "439/916\r",
      "440/916\r",
      "441/916\r",
      "442/916\r",
      "443/916"
     ]
    },
    {
     "name": "stdout",
     "output_type": "stream",
     "text": [
      "\r",
      "444/916\r",
      "445/916\r",
      "446/916"
     ]
    },
    {
     "name": "stdout",
     "output_type": "stream",
     "text": [
      "\r",
      "447/916\r",
      "448/916\r",
      "449/916\r",
      "450/916\r",
      "451/916\r",
      "452/916\r",
      "453/916\r",
      "454/916\r",
      "455/916\r",
      "456/916"
     ]
    },
    {
     "name": "stdout",
     "output_type": "stream",
     "text": [
      "\r",
      "457/916\r",
      "458/916\r",
      "459/916\r",
      "460/916\r",
      "461/916"
     ]
    },
    {
     "name": "stdout",
     "output_type": "stream",
     "text": [
      "\r",
      "462/916\r",
      "463/916\r",
      "464/916\r",
      "465/916\r",
      "466/916\r",
      "467/916\r",
      "468/916\r",
      "469/916\r",
      "470/916"
     ]
    },
    {
     "name": "stdout",
     "output_type": "stream",
     "text": [
      "\r",
      "471/916\r",
      "472/916\r",
      "473/916\r",
      "474/916\r",
      "475/916\r",
      "476/916\r",
      "477/916\r",
      "478/916\r",
      "479/916"
     ]
    },
    {
     "name": "stdout",
     "output_type": "stream",
     "text": [
      "\r",
      "480/916\r",
      "481/916\r",
      "482/916\r",
      "483/916\r",
      "484/916\r",
      "485/916\r",
      "486/916\r",
      "487/916\r",
      "488/916"
     ]
    },
    {
     "name": "stdout",
     "output_type": "stream",
     "text": [
      "\r",
      "489/916\r",
      "490/916\r",
      "491/916\r",
      "492/916\r",
      "493/916\r",
      "494/916\r",
      "495/916\r",
      "496/916\r",
      "497/916"
     ]
    },
    {
     "name": "stdout",
     "output_type": "stream",
     "text": [
      "\r",
      "498/916\r",
      "499/916\r",
      "500/916\r",
      "501/916\r",
      "502/916\r",
      "503/916\r",
      "504/916\r",
      "505/916\r",
      "506/916\r",
      "507/916\r",
      "508/916\r",
      "509/916\r",
      "510/916\r",
      "511/916\r",
      "512/916\r",
      "513/916\r",
      "514/916"
     ]
    },
    {
     "name": "stdout",
     "output_type": "stream",
     "text": [
      "\r",
      "515/916\r",
      "516/916\r",
      "517/916\r",
      "518/916\r",
      "519/916\r",
      "520/916\r",
      "521/916\r",
      "522/916\r",
      "523/916\r",
      "524/916\r",
      "525/916\r",
      "526/916\r",
      "527/916\r",
      "528/916\r",
      "529/916\r",
      "530/916"
     ]
    },
    {
     "name": "stdout",
     "output_type": "stream",
     "text": [
      "\r",
      "531/916\r",
      "532/916\r",
      "533/916\r",
      "534/916"
     ]
    },
    {
     "name": "stdout",
     "output_type": "stream",
     "text": [
      "\r",
      "535/916\r",
      "536/916\r",
      "537/916\r",
      "538/916\r",
      "539/916\r",
      "540/916\r",
      "541/916"
     ]
    },
    {
     "name": "stdout",
     "output_type": "stream",
     "text": [
      "\r",
      "542/916\r",
      "543/916\r",
      "544/916\r",
      "545/916\r",
      "546/916\r",
      "547/916\r",
      "548/916\r",
      "549/916\r",
      "550/916"
     ]
    },
    {
     "name": "stdout",
     "output_type": "stream",
     "text": [
      "\r",
      "551/916\r",
      "552/916\r",
      "553/916\r",
      "554/916\r",
      "555/916\r",
      "556/916\r",
      "557/916\r",
      "558/916\r",
      "559/916\r",
      "560/916\r",
      "561/916\r",
      "562/916\r",
      "563/916\r",
      "564/916\r",
      "565/916\r",
      "566/916\r",
      "567/916\r",
      "568/916"
     ]
    },
    {
     "name": "stdout",
     "output_type": "stream",
     "text": [
      "\r",
      "569/916\r",
      "570/916\r",
      "571/916\r",
      "572/916\r",
      "573/916\r",
      "574/916"
     ]
    },
    {
     "name": "stdout",
     "output_type": "stream",
     "text": [
      "\r",
      "575/916"
     ]
    },
    {
     "name": "stdout",
     "output_type": "stream",
     "text": [
      "\r",
      "576/916\r",
      "577/916\r",
      "578/916\r",
      "579/916\r",
      "580/916\r",
      "581/916\r",
      "582/916"
     ]
    },
    {
     "name": "stdout",
     "output_type": "stream",
     "text": [
      "\r",
      "583/916\r",
      "584/916"
     ]
    },
    {
     "name": "stdout",
     "output_type": "stream",
     "text": [
      "\r",
      "585/916\r",
      "586/916\r",
      "587/916\r",
      "588/916\r",
      "589/916\r",
      "590/916\r",
      "591/916\r",
      "592/916\r",
      "593/916\r",
      "594/916\r",
      "595/916\r",
      "596/916"
     ]
    },
    {
     "name": "stdout",
     "output_type": "stream",
     "text": [
      "\r",
      "597/916\r",
      "598/916\r",
      "599/916\r",
      "600/916\r",
      "601/916\r",
      "602/916\r",
      "603/916\r",
      "604/916\r",
      "605/916"
     ]
    },
    {
     "name": "stdout",
     "output_type": "stream",
     "text": [
      "\r",
      "606/916\r",
      "607/916\r",
      "608/916\r",
      "609/916\r",
      "610/916\r",
      "611/916\r",
      "612/916\r",
      "613/916\r",
      "614/916\r",
      "615/916\r",
      "616/916\r",
      "617/916\r",
      "618/916\r",
      "619/916\r",
      "620/916"
     ]
    },
    {
     "name": "stdout",
     "output_type": "stream",
     "text": [
      "\r",
      "621/916\r",
      "622/916\r",
      "623/916\r",
      "624/916\r",
      "625/916\r",
      "626/916\r",
      "627/916\r",
      "628/916\r",
      "629/916\r",
      "630/916\r",
      "631/916\r",
      "632/916\r",
      "633/916\r",
      "634/916\r",
      "635/916\r",
      "636/916\r",
      "637/916\r",
      "638/916\r",
      "639/916"
     ]
    },
    {
     "name": "stdout",
     "output_type": "stream",
     "text": [
      "\r",
      "640/916\r",
      "641/916\r",
      "642/916\r",
      "643/916\r",
      "644/916\r",
      "645/916\r",
      "646/916\r",
      "647/916\r",
      "648/916\r",
      "649/916\r",
      "650/916\r",
      "651/916\r",
      "652/916"
     ]
    },
    {
     "name": "stdout",
     "output_type": "stream",
     "text": [
      "\r",
      "653/916\r",
      "654/916"
     ]
    },
    {
     "name": "stdout",
     "output_type": "stream",
     "text": [
      "\r",
      "655/916\r",
      "656/916\r",
      "657/916\r",
      "658/916\r",
      "659/916\r",
      "660/916\r",
      "661/916\r",
      "662/916"
     ]
    },
    {
     "name": "stdout",
     "output_type": "stream",
     "text": [
      "\r",
      "663/916\r",
      "664/916\r",
      "665/916\r",
      "666/916\r",
      "667/916\r",
      "668/916\r",
      "669/916\r",
      "670/916\r",
      "671/916\r",
      "672/916\r",
      "673/916\r",
      "674/916\r",
      "675/916\r",
      "676/916\r",
      "677/916\r",
      "678/916\r",
      "679/916\r",
      "680/916\r",
      "681/916\r",
      "682/916\r",
      "683/916\r",
      "684/916\r",
      "685/916\r",
      "686/916\r",
      "687/916\r",
      "688/916\r",
      "689/916\r",
      "690/916\r",
      "691/916\r",
      "692/916\r",
      "693/916\r",
      "694/916\r",
      "695/916\r",
      "696/916\r",
      "697/916"
     ]
    },
    {
     "name": "stdout",
     "output_type": "stream",
     "text": [
      "\r",
      "698/916\r",
      "699/916\r",
      "700/916\r",
      "701/916\r",
      "702/916\r",
      "703/916\r",
      "704/916\r",
      "705/916"
     ]
    },
    {
     "name": "stdout",
     "output_type": "stream",
     "text": [
      "\r",
      "706/916\r",
      "707/916\r",
      "708/916\r",
      "709/916\r",
      "710/916"
     ]
    },
    {
     "name": "stdout",
     "output_type": "stream",
     "text": [
      "\r",
      "711/916\r",
      "712/916\r",
      "713/916\r",
      "714/916\r",
      "715/916\r",
      "716/916\r",
      "717/916\r",
      "718/916\r",
      "719/916"
     ]
    },
    {
     "name": "stdout",
     "output_type": "stream",
     "text": [
      "\r",
      "720/916\r",
      "721/916\r",
      "722/916\r",
      "723/916\r",
      "724/916\r",
      "725/916\r",
      "726/916\r",
      "727/916\r",
      "728/916\r",
      "729/916\r",
      "730/916\r",
      "731/916\r",
      "732/916\r",
      "733/916\r",
      "734/916\r",
      "735/916\r",
      "736/916\r",
      "737/916\r",
      "738/916\r",
      "739/916\r",
      "740/916"
     ]
    },
    {
     "name": "stdout",
     "output_type": "stream",
     "text": [
      "\r",
      "741/916\r",
      "742/916\r",
      "743/916\r",
      "744/916\r",
      "745/916\r",
      "746/916\r",
      "747/916\r",
      "748/916\r",
      "749/916\r",
      "750/916\r",
      "751/916\r",
      "752/916"
     ]
    },
    {
     "name": "stdout",
     "output_type": "stream",
     "text": [
      "\r",
      "753/916\r",
      "754/916\r",
      "755/916\r",
      "756/916\r",
      "757/916\r",
      "758/916\r",
      "759/916\r",
      "760/916\r",
      "761/916\r",
      "762/916\r",
      "763/916\r",
      "764/916\r",
      "765/916\r",
      "766/916\r",
      "767/916\r",
      "768/916"
     ]
    },
    {
     "name": "stdout",
     "output_type": "stream",
     "text": [
      "\r",
      "769/916\r",
      "770/916\r",
      "771/916\r",
      "772/916"
     ]
    },
    {
     "name": "stdout",
     "output_type": "stream",
     "text": [
      "\r",
      "773/916\r",
      "774/916\r",
      "775/916\r",
      "776/916\r",
      "777/916\r",
      "778/916\r",
      "779/916\r",
      "780/916\r",
      "781/916\r",
      "782/916\r",
      "783/916\r",
      "784/916\r",
      "785/916\r",
      "786/916\r",
      "787/916\r",
      "788/916\r",
      "789/916\r",
      "790/916\r",
      "791/916\r",
      "792/916\r",
      "793/916\r",
      "794/916\r",
      "795/916\r",
      "796/916\r",
      "797/916\r",
      "798/916\r",
      "799/916\r",
      "800/916\r",
      "801/916\r",
      "802/916\r",
      "803/916\r",
      "804/916\r",
      "805/916\r",
      "806/916\r",
      "807/916"
     ]
    },
    {
     "name": "stdout",
     "output_type": "stream",
     "text": [
      "\r",
      "808/916\r",
      "809/916\r",
      "810/916\r",
      "811/916\r",
      "812/916\r",
      "813/916"
     ]
    },
    {
     "name": "stdout",
     "output_type": "stream",
     "text": [
      "\r",
      "814/916\r",
      "815/916\r",
      "816/916\r",
      "817/916\r",
      "818/916\r",
      "819/916\r",
      "820/916\r",
      "821/916\r",
      "822/916\r",
      "823/916\r",
      "824/916\r",
      "825/916\r",
      "826/916"
     ]
    },
    {
     "name": "stdout",
     "output_type": "stream",
     "text": [
      "\r",
      "827/916\r",
      "828/916\r",
      "829/916"
     ]
    },
    {
     "name": "stdout",
     "output_type": "stream",
     "text": [
      "\r",
      "830/916\r",
      "831/916\r",
      "832/916\r",
      "833/916\r",
      "834/916\r",
      "835/916\r",
      "836/916\r",
      "837/916\r",
      "838/916"
     ]
    },
    {
     "name": "stdout",
     "output_type": "stream",
     "text": [
      "\r",
      "839/916\r",
      "840/916\r",
      "841/916\r",
      "842/916"
     ]
    },
    {
     "name": "stdout",
     "output_type": "stream",
     "text": [
      "\r",
      "843/916\r",
      "844/916\r",
      "845/916\r",
      "846/916\r",
      "847/916"
     ]
    },
    {
     "name": "stdout",
     "output_type": "stream",
     "text": [
      "\r",
      "848/916\r",
      "849/916\r",
      "850/916"
     ]
    },
    {
     "name": "stdout",
     "output_type": "stream",
     "text": [
      "\r",
      "851/916\r",
      "852/916\r",
      "853/916"
     ]
    },
    {
     "name": "stdout",
     "output_type": "stream",
     "text": [
      "\r",
      "854/916\r",
      "855/916\r",
      "856/916\r",
      "857/916\r",
      "858/916\r",
      "859/916"
     ]
    },
    {
     "name": "stdout",
     "output_type": "stream",
     "text": [
      "\r",
      "860/916\r",
      "861/916\r",
      "862/916\r",
      "863/916\r",
      "864/916\r",
      "865/916\r",
      "866/916\r",
      "867/916\r",
      "868/916\r",
      "869/916\r",
      "870/916\r",
      "871/916\r",
      "872/916\r",
      "873/916\r",
      "874/916\r",
      "875/916\r",
      "876/916\r",
      "877/916\r",
      "878/916\r",
      "879/916\r",
      "880/916"
     ]
    },
    {
     "name": "stdout",
     "output_type": "stream",
     "text": [
      "\r",
      "881/916\r",
      "882/916\r",
      "883/916\r",
      "884/916\r",
      "885/916\r",
      "886/916\r",
      "887/916\r",
      "888/916\r",
      "889/916\r",
      "890/916\r",
      "891/916\r",
      "892/916"
     ]
    },
    {
     "name": "stdout",
     "output_type": "stream",
     "text": [
      "\r",
      "893/916\r",
      "894/916\r",
      "895/916\r",
      "896/916\r",
      "897/916\r",
      "898/916\r",
      "899/916\r",
      "900/916\r",
      "901/916\r",
      "902/916"
     ]
    },
    {
     "name": "stdout",
     "output_type": "stream",
     "text": [
      "\r",
      "903/916"
     ]
    },
    {
     "name": "stdout",
     "output_type": "stream",
     "text": [
      "\r",
      "904/916\r",
      "905/916\r",
      "906/916\r",
      "907/916\r",
      "908/916\r",
      "909/916\r",
      "910/916\r",
      "911/916\r",
      "912/916\r",
      "913/916\r",
      "914/916\r",
      "915/916\r",
      "916/916\r",
      "0: a2 a3 b3 a4 a7\n",
      "1: b1 a3 b3 a4 a7\n",
      "2: b1 a3 b3 a4 b6\n",
      "3: a2 a3 b3 a4 b6\n",
      "4: a2 b2 b3 a4 b6\n",
      "5: a2 b2 b3 a4 a7\n",
      "6: b1 b2 b3 a4 a7\n",
      "7: b1 b2 b3 a4 b6\n",
      "8: b1 a2 a3 b3 a4 b4 b6\n",
      "9: b1 a2 a3 b3 a4 a5 b6\n",
      "10: b1 a2 b2 b3 a4 a5 b6\n",
      "11: b1 a2 b2 b3 a4 a5 a7\n",
      "12: b1 a2 b2 b3 a4 b4 a7\n",
      "13: b1 a2 a3 b3 a4 b4 a7\n",
      "14: b1 a2 a3 b3 a4 a5 a7\n",
      "15: b1 a2 b2 b3 a4 b4 b6\n",
      "16: a1 a2 a3 b3 a5 b5 a6\n",
      "17: a1 a2 a3 b3 b4 b5 a6\n",
      "18: a1 b1 a3 b3 b4 b5 a6\n",
      "19: a1 b1 a3 a4 b4 b5 a6\n",
      "20: a1 b1 b2 a4 b4 b5 a6\n",
      "21: a1 b1 b2 b3 b4 b5 a6\n",
      "22: a1 a2 b2 b3 b4 b5 a6\n",
      "23: a1 a2 b2 a4 b4 b5 a6\n",
      "24: a1 a2 b2 a4 a5 b5 a6\n",
      "25: a1 b1 b2 a4 a5 b5 a6\n",
      "26: a1 b1 b2 b3 a5 b5 a6\n",
      "27: a1 b1 a3 b3 a5 b5 a6\n",
      "28: a1 b1 a3 a4 a5 b5 a6\n",
      "29: a1 a2 a3 a4 a5 b5 a6\n",
      "30: a1 a2 a3 a4 b4 b5 a6\n",
      "31: a1 a2 b2 b3 a5 b5 a6\n",
      "32: a1 a2 b2 b3 b4 a5 b6 a7 b7\n",
      "33: a1 a2 b2 a4 b4 a5 b6 a7 b7\n",
      "34: a1 a2 a3 a4 b4 a5 b6 a7 b7\n",
      "35: a1 a2 a3 b3 b4 a5 b6 a7 b7\n",
      "36: a1 b1 a3 b3 b4 a5 b6 a7 b7\n",
      "37: a1 b1 b2 b3 b4 a5 b6 a7 b7\n",
      "38: a1 b1 b2 b3 b4 a5 b6 a7 a8\n",
      "39: a1 a2 b2 b3 b4 a5 b6 a7 a8\n",
      "40: a1 a2 a3 b3 b4 a5 b6 a7 a8\n",
      "41: a1 b1 a3 b3 b4 a5 b6 a7 a8\n",
      "42: a1 b1 a3 a4 b4 a5 b6 a7 a8\n",
      "43: a1 b1 b2 a4 b4 a5 b6 a7 a8\n",
      "44: a1 a2 b2 a4 b4 a5 b6 a7 a8\n",
      "45: a1 a2 a3 a4 b4 a5 b6 a7 a8\n",
      "46: a1 b1 b2 a4 b4 a5 b6 a7 b7\n",
      "47: a1 b1 a3 a4 b4 a5 b6 a7 b7\n",
      "48: b1 a2 b2 a3 b5\n",
      "49: b1 a2 b2 a3 a6\n",
      "50: a3 a4 a6\n",
      "51: b2 a4 a6\n",
      "52: b2 a4 b5\n",
      "53: b2 b3 b5\n",
      "54: b2 b3 a6\n",
      "55: a3 b3 a6\n",
      "56: a3 b3 b5\n",
      "57: a3 a4 b5\n",
      "58: a1 b2 a3 b3 b4 a5 b5\n",
      "59: a1 b2 a3 a4 b4 a5 b5\n",
      "60: a1 b2 a3 a4 b4 a5 a6\n",
      "61: a1 b2 a3 b3 b4 a5 a6\n",
      "62: a1 b1 a2 a3 b5 a6 a7\n",
      "63: a1 b1 a2 a3 b5 a6 b6\n",
      "64: a1 b1 a2 b2 b5 a6 b6\n",
      "65: a1 b1 a2 b2 b5 a6 a7\n",
      "66: a1 a2 b2 a3 b4 a5 b5\n",
      "67: a1 a2 b2 a3 b4 a5 a6\n",
      "68: a1 b1 b2 a3 b4 a5 a6\n",
      "69: a1 b1 b2 a3 b4 a5 b5\n",
      "70: b1 a2 b3 a4 b5 a6 a7\n",
      "71: b1 a2 b3 a4 b5 a6 b6\n",
      "72: b1 b2 b3 a4 b4 a5 a6\n",
      "73: a2 b2 b3 a4 b4 a5 a6\n",
      "74: a2 a3 b3 a4 b4 a5 a6\n",
      "75: a2 a3 b3 a4 b4 a5 b5\n",
      "76: b1 a3 b3 a4 b4 a5 b5\n",
      "77: b1 b2 b3 a4 b4 a5 b5\n",
      "78: a2 b2 b3 a4 b4 a5 b5\n",
      "79: b1 a3 b3 a4 b4 a5 a6\n",
      "80: b5\n",
      "81: a6\n",
      "82: a3 a4 b4 a5 a7\n",
      "83: a3 a4 b4 a5 b6\n",
      "84: a3 b3 b4 a5 b6\n",
      "85: b2 b3 b4 a5 b6\n",
      "86: b2 a4 b4 a5 b6\n",
      "87: b2 a4 b4 a5 a7\n",
      "88: b2 b3 b4 a5 a7\n",
      "89: a3 b3 b4 a5 a7\n",
      "90: a1 b1 a2 a3 b4 a5 b5 b6 a7\n",
      "91: a1 b1 a2 a3 b4 a5 a6 b6 a7\n",
      "92: a1 b1 a2 b2 b4 a5 a6 b6 a7\n",
      "93: a1 b1 a2 b2 b4 a5 b5 b6 a7\n",
      "94: b1 a2 b3 a4 b4 a5 b5 b6 a7\n",
      "95: b1 a2 b3 a4 b4 a5 a6 b6 a7\n",
      "96: b2 a4 b5 a6 b6\n",
      "97: a3 a4 b5 a6 b6\n",
      "98: a3 a4 b5 a6 a7\n",
      "99: a3 b3 b5 a6 a7\n",
      "100: a3 b3 b5 a6 b6\n",
      "101: b2 b3 b5 a6 b6\n",
      "102: b2 b3 b5 a6 a7\n",
      "103: b2 a4 b5 a6 a7\n",
      "104: a1 a2 b3 a4 b4 b5 b6 a7 b7\n",
      "105: a1 a2 b3 a4 b4 a6 b6 a7 b7\n",
      "106: a1 b1 b3 a4 b4 a6 b6 a7 b7\n",
      "107: a1 b1 b3 a4 b4 a6 b6 a7 a8\n",
      "108: a1 b1 b3 a4 b4 b5 b6 a7 a8\n",
      "109: a1 a2 b3 a4 b4 b5 b6 a7 a8\n",
      "110: a1 a2 b3 a4 a5 b5 b6 a7 a8\n",
      "111: a1 a2 b3 a4 a5 a6 b6 a7 a8\n",
      "112: a1 b1 b3 a4 a5 a6 b6 a7 a8\n",
      "113: a1 b1 b3 a4 a5 a6 b6 a7 b7\n",
      "114: a1 b1 b3 a4 a5 b5 b6 a7 b7\n",
      "115: a1 b1 b3 a4 b4 b5 b6 a7 b7\n",
      "116: a1 b1 b3 a4 a5 b5 b6 a7 a8\n",
      "117: a1 a2 b3 a4 a5 b5 b6 a7 b7\n",
      "118: a1 a2 b3 a4 a5 a6 b6 a7 b7\n",
      "119: a1 a2 b3 a4 b4 a6 b6 a7 a8\n",
      "120: a1 a2 a3 a4 b4 a5 b5 b6 a7\n",
      "121: a1 a2 b2 a4 b4 a5 b5 b6 a7\n",
      "122: a1 a2 b2 a4 b4 a5 a6 b6 a7\n",
      "123: a1 a2 b2 b3 b4 a5 a6 b6 a7\n",
      "124: a1 b1 b2 b3 b4 a5 a6 b6 a7\n",
      "125: a1 b1 b2 b3 b4 a5 b5 b6 a7\n",
      "126: a1 b1 b2 a4 b4 a5 b5 b6 a7\n",
      "127: a1 b1 b2 a4 b4 a5 a6 b6 a7\n",
      "128: a1 b1 a3 a4 b4 a5 a6 b6 a7\n",
      "129: a1 b1 a3 a4 b4 a5 b5 b6 a7\n",
      "130: a1 b1 a3 b3 b4 a5 b5 b6 a7\n",
      "131: a1 a2 a3 b3 b4 a5 b5 b6 a7\n",
      "132: a1 a2 b2 b3 b4 a5 b5 b6 a7\n",
      "133: a1 a2 a3 b3 b4 a5 a6 b6 a7\n",
      "134: a1 a2 a3 a4 b4 a5 a6 b6 a7\n",
      "135: a1 b1 a3 b3 b4 a5 a6 b6 a7\n",
      "136: b2 a3 b3 a5 b5 a6 b6 b7 a8\n",
      "137: b2 a3 b3 a5 b5 a6 a7 b7 a8\n",
      "138: b2 a3 b3 b4 b5 a6 a7 b7 a8\n",
      "139: b2 a3 b3 b4 b5 a6 b6 b7 a8\n",
      "140: b2 a3 a4 b4 b5 a6 b6 b7 a8\n",
      "141: b2 a3 a4 b4 b5 a6 a7 b7 a8\n",
      "142: b2 a3 a4 a5 b5 a6 a7 b7 a8\n",
      "143: b2 a3 a4 a5 b5 a6 b6 b7 a8\n",
      "144: a1 b2 b3 a4 a6\n",
      "145: a1 a3 b3 a4 a6\n",
      "146: a1 a3 b3 a4 b5\n",
      "147: a1 b2 b3 a4 b5\n",
      "148: a1 b1 b2 a4 b4 a5 b6\n",
      "149: a1 a2 b2 a4 b4 a5 b6\n",
      "150: a1 a2 b2 a4 b4 a5 a7\n",
      "151: a1 a2 a3 a4 b4 a5 a7\n",
      "152: a1 a2 a3 b3 b4 a5 a7\n",
      "153: a1 b1 a3 b3 b4 a5 a7\n",
      "154: a1 b1 a3 b3 b4 a5 b6\n",
      "155: a1 a2 a3 b3 b4 a5 b6\n",
      "156: a1 a2 a3 a4 b4 a5 b6\n",
      "157: a1 b1 a3 a4 b4 a5 b6\n",
      "158: a1 b1 a3 a4 b4 a5 a7\n",
      "159: a1 b1 b2 a4 b4 a5 a7\n",
      "160: a1 b1 b2 b3 b4 a5 a7\n",
      "161: a1 b1 b2 b3 b4 a5 b6\n",
      "162: a1 a2 b2 b3 b4 a5 b6\n",
      "163: a1 a2 b2 b3 b4 a5 a7\n",
      "164: b1 a2 b3 a4 b5 a6 b7 a8 b9\n",
      "165: b1 a2 b3 a4 b5 a6 b7 a8 a10\n",
      "166: a1 b1 a2 a3 a4 a5 b5 a6 b6\n",
      "167: a1 b1 a2 a3 b3 a5 b5 a6 b6\n",
      "168: a1 b1 a2 b2 b3 a5 b5 a6 b6\n",
      "169: a1 b1 a2 b2 a4 a5 b5 a6 b6\n",
      "170: a1 b1 a2 b2 a4 a5 b5 a6 a7\n",
      "171: a1 b1 a2 b2 b3 a5 b5 a6 a7\n",
      "172: a1 b1 a2 a3 b3 a5 b5 a6 a7\n",
      "173: a1 b1 a2 a3 a4 a5 b5 a6 a7\n",
      "174: a1 b1 a2 a3 a4 b4 b5 a6 a7\n",
      "175: a1 b1 a2 a3 a4 b4 b5 a6 b6\n",
      "176: a1 b1 a2 a3 b3 b4 b5 a6 b6\n",
      "177: a1 b1 a2 b2 b3 b4 b5 a6 b6\n",
      "178: a1 b1 a2 b2 a4 b4 b5 a6 b6\n",
      "179: a1 b1 a2 b2 a4 b4 b5 a6 a7\n",
      "180: a1 b1 a2 b2 b3 b4 b5 a6 a7\n",
      "181: a1 b1 a2 a3 b3 b4 b5 a6 a7\n",
      "182: b1 a2 b3 a4 b6 a7 b8 a9 b9\n",
      "183: b1 a2 b3 a4 b6 a7 b8 a9 a10\n",
      "184: b1 a2 a3 a4 b4 a5 b5\n",
      "185: b1 a2 b2 a4 b4 a5 b5\n",
      "186: b1 a2 b2 a4 b4 a5 a6\n",
      "187: b1 a2 a3 a4 b4 a5 a6\n",
      "188: b1 a2 a3 b3 b4 a5 a6\n",
      "189: b1 a2 a3 b3 b4 a5 b5\n",
      "190: b1 a2 b2 b3 b4 a5 b5\n",
      "191: b1 a2 b2 b3 b4 a5 a6\n",
      "192: b1 a2 a3 a4 b4 b5 b6\n",
      "193: b1 a2 a3 b3 b4 b5 b6\n",
      "194: b1 a2 a3 b3 b4 b5 a7\n",
      "195: b1 a2 b2 b3 b4 b5 a7\n",
      "196: b1 a2 b2 b3 b4 b5 b6\n",
      "197: b1 a2 b2 b3 b4 a6 b6\n",
      "198: b1 a2 b2 b3 a5 a6 b6\n",
      "199: b1 a2 a3 b3 a5 a6 b6\n",
      "200: b1 a2 a3 b3 a5 a6 a7\n",
      "201: b1 a2 b2 b3 a5 a6 a7\n",
      "202: b1 a2 b2 b3 b4 a6 a7\n",
      "203: b1 a2 a3 b3 b4 a6 a7\n",
      "204: b1 a2 a3 b3 b4 a6 b6\n",
      "205: b1 a2 a3 a4 b4 a6 b6\n",
      "206: b1 a2 b2 a4 b4 a6 b6\n",
      "207: b1 a2 b2 a4 b4 b5 b6\n",
      "208: b1 a2 b2 a4 a5 b5 b6\n",
      "209: b1 a2 b2 a4 a5 b5 a7\n",
      "210: b1 a2 a3 a4 a5 b5 a7\n",
      "211: b1 a2 a3 a4 b4 b5 a7\n",
      "212: b1 a2 a3 a4 b4 a6 a7\n",
      "213: b1 a2 b2 a4 b4 a6 a7\n",
      "214: b1 a2 b2 a4 a5 a6 a7\n",
      "215: b1 a2 a3 a4 a5 a6 a7\n",
      "216: b1 a2 a3 a4 a5 a6 b6\n",
      "217: b1 a2 b2 a4 a5 a6 b6\n",
      "218: b1 a2 a3 a4 a5 b5 b6\n",
      "219: b1 a2 a3 b3 a5 b5 b6\n",
      "220: b1 a2 b2 b3 a5 b5 b6\n",
      "221: b1 a2 b2 b3 a5 b5 a7\n",
      "222: b1 a2 a3 b3 a5 b5 a7\n",
      "223: b1 a2 b2 a4 b4 b5 a7\n",
      "224: b1 a2 a5 b5 b6\n",
      "225: b1 a2 a5 a6 b6\n",
      "226: b1 a2 b4 a6 b6\n",
      "227: b1 a2 b4 b5 b6\n",
      "228: b1 a2 b4 b5 a7\n",
      "229: b1 a2 a5 b5 a7\n",
      "230: b1 a2 a5 a6 a7\n",
      "231: b1 a2 b4 a6 a7\n",
      "232: a1 a2 a4 b4 b5\n",
      "233: a1 a2 b3 b4 b5\n",
      "234: a1 b1 b3 b4 b5\n",
      "235: a1 b1 b3 b4 a6\n",
      "236: a1 b1 b3 a5 a6\n",
      "237: a1 a2 b3 a5 a6\n",
      "238: a1 a2 b3 a5 b5\n",
      "239: a1 a2 a4 a5 b5\n",
      "240: a1 b1 a4 a5 b5\n",
      "241: a1 b1 a4 a5 a6\n",
      "242: a1 b1 a4 b4 a6\n",
      "243: a1 a2 a4 b4 a6\n",
      "244: a1 a2 a4 a5 a6\n",
      "245: a1 a2 b3 b4 a6\n",
      "246: a1 b1 a4 b4 b5\n",
      "247: a1 b1 b3 a5 b5\n",
      "248: a2 b2 a3 b3 a4 a5 a6\n",
      "249: b1 b2 a3 b3 a4 a5 a6\n",
      "250: b1 b2 a3 b3 a4 b4 a6\n",
      "251: b1 b2 a3 b3 a4 b4 b5\n",
      "252: a2 b2 a3 b3 a4 b4 b5\n",
      "253: a2 b2 a3 b3 a4 b4 a6\n",
      "254: a2 b2 a3 b3 a4 a5 b5\n",
      "255: b1 b2 a3 b3 a4 a5 b5\n",
      "256: a2 b2 b3 a4 b5 a6 b7 a8 b8\n",
      "257: b1 b2 b3 a4 b5 a6 b7 a8 b8\n",
      "258: b1 a3 b3 a4 b5 a6 b7 a8 b8\n",
      "259: b1 a3 b3 a4 b5 a6 b7 a8 a9\n",
      "260: a2 a3 b3 a4 b5 a6 b7 a8 a9\n",
      "261: a2 b2 b3 a4 b5 a6 b7 a8 a9\n",
      "262: b1 b2 b3 a4 b5 a6 b7 a8 a9\n",
      "263: a2 a3 b3 a4 b5 a6 b7 a8 b8\n",
      "264: b1 b2 a4\n",
      "265: b1 b2 b3\n",
      "266: a2 b2 b3\n",
      "267: a2 b2 a4\n",
      "268: a2 a3 a4\n",
      "269: a2 a3 b3\n",
      "270: b1 a3 b3\n",
      "271: b1 a3 a4\n",
      "272: a2 a3 a4 b4 a6\n",
      "273: a2 a3 a4 b4 b5\n",
      "274: a2 a3 a4 a5 b5\n",
      "275: a2 a3 b3 a5 b5\n",
      "276: a2 b2 b3 a5 b5\n",
      "277: a2 b2 b3 a5 a6\n",
      "278: a2 a3 b3 a5 a6\n",
      "279: a2 a3 b3 b4 a6\n",
      "280: b1 a3 b3 b4 a6\n",
      "281: b1 a3 b3 a5 a6\n",
      "282: b1 a3 a4 a5 a6\n",
      "283: b1 a3 a4 b4 a6\n",
      "284: b1 b2 a4 b4 a6\n",
      "285: b1 b2 b3 b4 a6\n",
      "286: b1 b2 b3 b4 b5\n",
      "287: a2 b2 b3 b4 b5\n",
      "288: a2 b2 a4 b4 b5\n",
      "289: a2 b2 a4 b4 a6\n",
      "290: a2 b2 b3 b4 a6\n",
      "291: a2 b2 a4 a5 a6\n",
      "292: b1 b2 a4 a5 a6\n",
      "293: b1 b2 a4 a5 b5\n",
      "294: b1 b2 b3 a5 b5\n",
      "295: b1 b2 b3 a5 a6\n",
      "296: b1 a3 b3 a5 b5\n",
      "297: b1 a3 a4 a5 b5\n",
      "298: b1 a3 a4 b4 b5\n",
      "299: b1 a3 b3 b4 b5\n",
      "300: a2 a3 b3 b4 b5\n",
      "301: b1 b2 a4 b4 b5\n",
      "302: a2 b2 a4 a5 b5\n",
      "303: a2 a3 a4 a5 a6\n",
      "304: a1 b3 a4 b4 b5\n",
      "305: a1 b3 a4 b4 a6\n",
      "306: a1 b3 a4 a5 a6\n",
      "307: a1 b3 a4 a5 b5\n",
      "308: b1 a2 a4 b4 b5 a6 b7 a8 b8\n",
      "309: b1 a2 a4 a5 b5 a6 b7 a8 b8\n",
      "310: b1 a2 a4 a5 b5 a6 b7 a8 a9\n",
      "311: b1 a2 b3 a5 b5 a6 b7 a8 a9\n",
      "312: b1 a2 b3 b4 b5 a6 b7 a8 a9\n",
      "313: b1 a2 b3 b4 b5 a6 b7 a8 b8\n",
      "314: b1 a2 b3 a5 b5 a6 b7 a8 b8\n",
      "315: b1 a2 a4 b4 b5 a6 b7 a8 a9\n",
      "316: b3 a4 b4\n",
      "317: b3 a4 a5\n",
      "318: a2 a3 a6\n",
      "319: b1 a3 a6\n",
      "320: b1 a3 b5\n",
      "321: a2 a3 b5\n",
      "322: a2 b2 b5\n",
      "323: a2 b2 a6\n",
      "324: b1 b2 a6\n",
      "325: b1 b2 b5\n",
      "326: a1 a2 b2 b3 a6\n",
      "327: a1 a2 b2 b3 b5\n",
      "328: a1 b1 b2 b3 b5\n",
      "329: a1 b1 b2 b3 a6\n",
      "330: a1 b1 b2 a4 a6\n",
      "331: a1 a2 b2 a4 a6\n",
      "332: a1 a2 b2 a4 b5\n",
      "333: a1 a2 a3 a4 b5\n",
      "334: a1 a2 a3 b3 b5\n",
      "335: a1 a2 a3 b3 a6\n",
      "336: a1 b1 a3 b3 a6\n",
      "337: a1 b1 a3 b3 b5\n",
      "338: a1 b1 a3 a4 b5\n",
      "339: a1 b1 b2 a4 b5\n",
      "340: a1 b1 a3 a4 a6\n",
      "341: a1 a2 a3 a4 a6\n",
      "342: b1 b3 a4 b4 a5\n",
      "343: a2 b3 a4 b4 a5\n",
      "344: b1 a2 b2 b4 a5 b5 a6\n",
      "345: b1 a2 a3 b4 a5 b5 a6\n",
      "346: b1 a2 b2 a3 a4 b4 b5 a6 b6\n",
      "347: b1 a2 b2 a3 a4 a5 b5 a6 b6\n",
      "348: b1 a2 b2 a3 b3 a5 b5 a6 b6\n",
      "349: b1 a2 b2 a3 b3 a5 b5 a6 a7\n",
      "350: b1 a2 b2 a3 a4 a5 b5 a6 a7\n",
      "351: b1 a2 b2 a3 a4 b4 b5 a6 a7\n",
      "352: b1 a2 b2 a3 b3 b4 b5 a6 a7\n",
      "353: b1 a2 b2 a3 b3 b4 b5 a6 b6\n",
      "354: b1 b3 b4 a5 a6\n",
      "355: a2 b3 b4 a5 a6\n",
      "356: a2 b3 b4 a5 b5\n",
      "357: a2 a4 b4 a5 b5\n",
      "358: a2 a4 b4 a5 a6\n",
      "359: b1 a4 b4 a5 a6\n",
      "360: b1 a4 b4 a5 b5\n",
      "361: b1 b3 b4 a5 b5\n",
      "362: b1 a2 a3 a4 a6 b6 a7\n",
      "363: b1 a2 a3 a4 b5 b6 a7\n",
      "364: b1 a2 b2 a4 b5 b6 a7\n",
      "365: b1 a2 b2 a4 a6 b6 a7\n",
      "366: b1 a2 b2 b3 a6 b6 a7\n",
      "367: b1 a2 a3 b3 a6 b6 a7\n",
      "368: b1 a2 a3 b3 b5 b6 a7\n",
      "369: b1 a2 b2 b3 b5 b6 a7\n",
      "370: b1 a2 b2 b3 a4 b4 a5\n",
      "371: b1 a2 a3 b3 a4 b4 a5\n",
      "372: b1 a2 a3 b5 b6 a7 b7\n",
      "373: b1 a2 a3 a6 b6 a7 b7\n",
      "374: b1 a2 b2 a6 b6 a7 b7\n",
      "375: b1 a2 b2 b5 b6 a7 b7\n",
      "376: b1 a2 b2 b5 b6 a7 a8\n",
      "377: b1 a2 a3 b5 b6 a7 a8\n",
      "378: b1 a2 a3 a6 b6 a7 a8\n",
      "379: b1 a2 b2 a6 b6 a7 a8\n",
      "380: a1 a2 a3 b3 a4 b4 a6\n",
      "381: a1 a2 b2 b3 a4 b4 a6\n",
      "382: a1 a2 b2 b3 a4 b4 b5\n",
      "383: a1 b1 b2 b3 a4 b4 b5\n",
      "384: a1 b1 b2 b3 a4 b4 a6\n",
      "385: a1 b1 a3 b3 a4 b4 a6\n",
      "386: a1 b1 a3 b3 a4 a5 a6\n",
      "387: a1 b1 a3 b3 a4 a5 b5\n",
      "388: a1 b1 a3 b3 a4 b4 b5\n",
      "389: a1 a2 a3 b3 a4 b4 b5\n",
      "390: a1 a2 a3 b3 a4 a5 b5\n",
      "391: a1 a2 b2 b3 a4 a5 b5\n",
      "392: a1 a2 b2 b3 a4 a5 a6\n",
      "393: a1 a2 a3 b3 a4 a5 a6\n",
      "394: a1 b1 b2 b3 a4 a5 a6\n",
      "395: a1 b1 b2 b3 a4 a5 b5\n",
      "396: b2 a3 b4 a5 a6 b6 b7\n",
      "397: b2 a3 b4 a5 b5 b6 b7\n",
      "398: b2 a3 b4 a5 b5 a7 b7\n",
      "399: b2 a3 b4 a5 a6 a7 b7\n",
      "400: b2 a3 b4 a5 a6 a7 a8\n",
      "401: b2 a3 b4 a5 b5 a7 a8\n",
      "402: b2 a3 b4 a5 b5 b6 a8\n",
      "403: b2 a3 b4 a5 a6 b6 a8\n",
      "404: b2 a4 b4 b5 a6\n",
      "405: a3 a4 b4 b5 a6\n",
      "406: a3 b3 b4 b5 a6\n",
      "407: a3 b3 a5 b5 a6\n",
      "408: b2 b3 a5 b5 a6\n",
      "409: b2 b3 b4 b5 a6\n",
      "410: b2 a4 a5 b5 a6\n",
      "411: a3 a4 a5 b5 a6\n",
      "412: a1 a2 b2 b5 a6\n",
      "413: a1 b1 b2 b5 a6\n",
      "414: a1 b1 a3 b5 a6\n",
      "415: a1 a2 a3 b5 a6\n",
      "416: a1 b1 a2 a3 a4 a5 a6\n",
      "417: a1 b1 a2 b2 a4 a5 a6\n",
      "418: a1 b1 a2 b2 a4 a5 b5\n",
      "419: a1 b1 a2 b2 a4 b4 b5\n",
      "420: a1 b1 a2 a3 a4 b4 b5\n",
      "421: a1 b1 a2 a3 a4 a5 b5\n",
      "422: a1 b1 a2 a3 b3 a5 b5\n",
      "423: a1 b1 a2 b2 b3 a5 b5\n",
      "424: a1 b1 a2 b2 b3 a5 a6\n",
      "425: a1 b1 a2 b2 b3 b4 a6\n",
      "426: a1 b1 a2 b2 b3 b4 b5\n",
      "427: a1 b1 a2 a3 b3 b4 b5\n",
      "428: a1 b1 a2 a3 b3 b4 a6\n",
      "429: a1 b1 a2 a3 b3 a5 a6\n",
      "430: a1 b1 a2 a3 a4 b4 a6\n",
      "431: a1 b1 a2 b2 a4 b4 a6\n",
      "432: a1 a4 b4 a5 b6\n",
      "433: a1 b3 b4 a5 b6\n",
      "434: a1 b3 b4 a5 a7\n",
      "435: a1 a4 b4 a5 a7\n",
      "436: a2 b2 a3 b3 b4 a5 b6\n",
      "437: a2 b2 a3 a4 b4 a5 b6\n",
      "438: a2 b2 a3 a4 b4 a5 a7\n",
      "439: a2 b2 a3 b3 b4 a5 a7\n",
      "440: b1 b2 a3 b3 b4 a5 a7\n",
      "441: b1 b2 a3 b3 b4 a5 b6\n",
      "442: b1 b2 a3 a4 b4 a5 b6\n",
      "443: b1 b2 a3 a4 b4 a5 a7\n",
      "444: a1 b2 b4 a5 b5\n",
      "445: a1 b2 b4 a5 a6\n",
      "446: a1 a3 b4 a5 a6\n",
      "447: a1 a3 b4 a5 b5\n",
      "448: a2 a3 b3 a4 b5 a6 a7 b7 a8\n",
      "449: a2 a3 b3 a4 b5 a6 b6 b7 a8\n",
      "450: a2 b2 b3 a4 b5 a6 b6 b7 a8\n",
      "451: a2 b2 b3 a4 b5 a6 a7 b7 a8\n",
      "452: b1 b2 b3 a4 b5 a6 a7 b7 a8\n",
      "453: b1 b2 b3 a4 b5 a6 b6 b7 a8\n",
      "454: b1 a3 b3 a4 b5 a6 b6 b7 a8\n",
      "455: b1 a3 b3 a4 b5 a6 a7 b7 a8\n",
      "456: b1 b2 b3 b4 b5 a6 b6\n",
      "457: a2 b2 b3 b4 b5 a6 b6\n",
      "458: a2 b2 b3 b4 b5 a6 a7\n",
      "459: a2 b2 a4 b4 b5 a6 a7\n",
      "460: a2 a3 a4 b4 b5 a6 a7\n",
      "461: a2 a3 a4 a5 b5 a6 a7\n",
      "462: b1 a3 a4 a5 b5 a6 a7\n",
      "463: b1 a3 a4 a5 b5 a6 b6\n",
      "464: b1 a3 b3 a5 b5 a6 b6\n",
      "465: a2 a3 b3 a5 b5 a6 b6\n",
      "466: a2 a3 b3 a5 b5 a6 a7\n",
      "467: b1 a3 b3 a5 b5 a6 a7\n",
      "468: b1 b2 b3 a5 b5 a6 a7\n",
      "469: a2 b2 b3 a5 b5 a6 a7\n",
      "470: a2 b2 b3 a5 b5 a6 b6\n",
      "471: b1 b2 b3 a5 b5 a6 b6\n",
      "472: b1 b2 a4 a5 b5 a6 b6\n",
      "473: a2 b2 a4 a5 b5 a6 b6\n",
      "474: a2 a3 a4 a5 b5 a6 b6\n",
      "475: a2 a3 a4 b4 b5 a6 b6\n",
      "476: a2 a3 b3 b4 b5 a6 b6\n",
      "477: b1 a3 b3 b4 b5 a6 b6\n",
      "478: b1 a3 a4 b4 b5 a6 b6\n",
      "479: b1 b2 a4 b4 b5 a6 b6\n",
      "480: b1 b2 a4 b4 b5 a6 a7\n",
      "481: b1 a3 a4 b4 b5 a6 a7\n",
      "482: b1 a3 b3 b4 b5 a6 a7\n",
      "483: b1 b2 b3 b4 b5 a6 a7\n",
      "484: a2 a3 b3 b4 b5 a6 a7\n",
      "485: b1 b2 a4 a5 b5 a6 a7\n",
      "486: a2 b2 a4 a5 b5 a6 a7\n",
      "487: a2 b2 a4 b4 b5 a6 b6\n",
      "488: a1 a2 b3 a4 a5 b5 a7\n",
      "489: a1 a2 b3 a4 b4 b5 a7\n",
      "490: a1 b1 b3 a4 b4 b5 a7\n",
      "491: a1 b1 b3 a4 b4 b5 b6\n",
      "492: a1 b1 b3 a4 b4 a6 b6\n",
      "493: a1 a2 b3 a4 b4 a6 b6\n",
      "494: a1 a2 b3 a4 a5 a6 b6\n",
      "495: a1 b1 b3 a4 a5 a6 b6\n",
      "496: a1 b1 b3 a4 a5 a6 a7\n",
      "497: a1 b1 b3 a4 a5 b5 a7\n",
      "498: a1 b1 b3 a4 a5 b5 b6\n",
      "499: a1 a2 b3 a4 a5 b5 b6\n",
      "500: a1 a2 b3 a4 b4 b5 b6\n",
      "501: a1 a2 b3 a4 a5 a6 a7\n",
      "502: a1 a2 b3 a4 b4 a6 a7\n",
      "503: a1 b1 b3 a4 b4 a6 a7\n",
      "504: b2 a3 a4 a5 a6 b6 a7\n",
      "505: b2 a3 b3 a5 a6 b6 a7\n",
      "506: b2 a3 b3 b4 a6 b6 a7\n",
      "507: b2 a3 b3 b4 b5 b6 a7\n",
      "508: b2 a3 a4 b4 b5 b6 a7\n",
      "509: b2 a3 a4 a5 b5 b6 a7\n",
      "510: b2 a3 b3 a5 b5 b6 a7\n",
      "511: b2 a3 a4 b4 a6 b6 a7\n",
      "512: a1 b2 a3 a4 a5\n",
      "513: a1 b2 a3 b3 a5\n",
      "514: a1 b2 a3 b3 b4\n",
      "515: a1 b2 a3 a4 b4\n",
      "516: b3 a4 b5 a6 b6 b7 a8\n",
      "517: b3 a4 b5 a6 a7 b7 a8\n",
      "518: b1 a2 a3 a4 b5 a6 b7 a8 a9\n",
      "519: b1 a2 a3 a4 b5 a6 b7 a8 b8\n",
      "520: b1 a2 b2 a4 b5 a6 b7 a8 b8\n",
      "521: b1 a2 b2 a4 b5 a6 b7 a8 a9\n",
      "522: b1 a2 b2 b3 b5 a6 b7 a8 a9\n",
      "523: b1 a2 b2 b3 b5 a6 b7 a8 b8\n",
      "524: b1 a2 a3 b3 b5 a6 b7 a8 b8\n",
      "525: b1 a2 a3 b3 b5 a6 b7 a8 a9\n",
      "526: a1 a2 b4 a5 a7\n",
      "527: a1 b1 b4 a5 a7\n",
      "528: a1 b1 b4 a5 b6\n",
      "529: a1 a2 b4 a5 b6\n",
      "530: a1 a2 b2 a4 b5 a6 a7\n",
      "531: a1 a2 a3 a4 b5 a6 a7\n",
      "532: a1 b1 a3 a4 b5 a6 a7\n",
      "533: a1 b1 b2 a4 b5 a6 a7\n",
      "534: a1 b1 b2 b3 b5 a6 a7\n",
      "535: a1 b1 a3 b3 b5 a6 a7\n",
      "536: a1 b1 a3 b3 b5 a6 b6\n",
      "537: a1 b1 a3 a4 b5 a6 b6\n",
      "538: a1 b1 b2 a4 b5 a6 b6\n",
      "539: a1 b1 b2 b3 b5 a6 b6\n",
      "540: a1 a2 b2 b3 b5 a6 b6\n",
      "541: a1 a2 b2 a4 b5 a6 b6\n",
      "542: a1 a2 a3 a4 b5 a6 b6\n",
      "543: a1 a2 a3 b3 b5 a6 b6\n",
      "544: a1 a2 a3 b3 b5 a6 a7\n",
      "545: a1 a2 b2 b3 b5 a6 a7\n",
      "546: b1 a2 b2 b3 b4 a5 b5 b6 b7\n",
      "547: b1 a2 b2 a4 b4 a5 b5 b6 b7\n",
      "548: b1 a2 a3 a4 b4 a5 b5 b6 b7\n",
      "549: b1 a2 a3 a4 b4 a5 b5 b6 a8\n",
      "550: b1 a2 a3 b3 b4 a5 b5 b6 a8\n",
      "551: b1 a2 a3 b3 b4 a5 b5 a7 a8\n",
      "552: b1 a2 b2 b3 b4 a5 b5 a7 a8\n",
      "553: b1 a2 b2 b3 b4 a5 b5 a7 b7\n",
      "554: b1 a2 b2 b3 b4 a5 a6 a7 b7\n",
      "555: b1 a2 b2 a4 b4 a5 a6 a7 b7\n",
      "556: b1 a2 b2 a4 b4 a5 b5 a7 b7\n",
      "557: b1 a2 b2 a4 b4 a5 b5 a7 a8\n",
      "558: b1 a2 a3 a4 b4 a5 b5 a7 a8\n",
      "559: b1 a2 a3 a4 b4 a5 a6 a7 a8\n",
      "560: b1 a2 a3 b3 b4 a5 a6 a7 a8\n",
      "561: b1 a2 a3 b3 b4 a5 a6 b6 a8\n",
      "562: b1 a2 a3 a4 b4 a5 a6 b6 a8\n",
      "563: b1 a2 a3 a4 b4 a5 a6 b6 b7\n",
      "564: b1 a2 b2 a4 b4 a5 a6 b6 b7\n",
      "565: b1 a2 b2 b3 b4 a5 a6 b6 b7\n",
      "566: b1 a2 a3 b3 b4 a5 a6 b6 b7\n",
      "567: b1 a2 a3 b3 b4 a5 b5 b6 b7\n",
      "568: b1 a2 a3 b3 b4 a5 b5 a7 b7\n",
      "569: b1 a2 a3 b3 b4 a5 a6 a7 b7\n",
      "570: b1 a2 a3 a4 b4 a5 a6 a7 b7\n",
      "571: b1 a2 a3 a4 b4 a5 b5 a7 b7\n",
      "572: b1 a2 b2 b3 b4 a5 a6 b6 a8\n",
      "573: b1 a2 b2 a4 b4 a5 a6 b6 a8\n",
      "574: b1 a2 b2 a4 b4 a5 b5 b6 a8\n",
      "575: b1 a2 b2 b3 b4 a5 b5 b6 a8\n",
      "576: b1 a2 b2 a4 b4 a5 a6 a7 a8\n",
      "577: b1 a2 b2 b3 b4 a5 a6 a7 a8\n",
      "578: b2 a3 b4 a5 b7 a8 b8\n",
      "579: b2 a3 b4 a5 b7 a8 a9\n",
      "580: b1 a2 a3 b3 a4 b4 b6 a7 b7\n",
      "581: b1 a2 b2 b3 a4 b4 b6 a7 b7\n",
      "582: b1 a2 b2 b3 a4 a5 b6 a7 b7\n",
      "583: b1 a2 b2 b3 a4 a5 b6 a7 a8\n",
      "584: b1 a2 b2 b3 a4 b4 b6 a7 a8\n",
      "585: b1 a2 a3 b3 a4 b4 b6 a7 a8\n",
      "586: b1 a2 a3 b3 a4 a5 b6 a7 a8\n",
      "587: b1 a2 a3 b3 a4 a5 b6 a7 b7\n",
      "588: b1 b2 a3 b3 a4\n",
      "589: a2 b2 a3 b3 a4\n",
      "590: b1 a2 b3 a4 b4 a6 b6 a7 b8\n",
      "591: b1 a2 b3 a4 a5 a6 b6 a7 b8\n",
      "592: b1 a2 b3 a4 a5 a6 b6 a7 a9\n",
      "593: b1 a2 b3 a4 a5 b5 b6 a7 a9\n",
      "594: b1 a2 b3 a4 a5 b5 b6 a7 b8\n",
      "595: b1 a2 b3 a4 b4 b5 b6 a7 b8\n",
      "596: b1 a2 b3 a4 b4 b5 b6 a7 a9\n",
      "597: b1 a2 b3 a4 b4 a6 b6 a7 a9\n",
      "598: a1 b1 b4 a5 b5 b6 a7\n",
      "599: a1 a2 b4 a5 b5 b6 a7\n",
      "600: a1 a2 b4 a5 a6 b6 a7\n",
      "601: a1 b1 b4 a5 a6 b6 a7\n",
      "602: a1 a4 b4 a5 b6 a7 b7\n",
      "603: a1 b3 b4 a5 b6 a7 b7\n",
      "604: a1 b3 b4 a5 b6 a7 a8\n",
      "605: a1 a4 b4 a5 b6 a7 a8\n",
      "606: a1 b2 b3 a4 b5 a6 b6\n",
      "607: a1 a3 b3 a4 b5 a6 b6\n",
      "608: a1 a3 b3 a4 b5 a6 a7\n",
      "609: a1 b2 b3 a4 b5 a6 a7\n",
      "610: b1 a2 a3 b3 b4 a5 b6 a7 b8\n",
      "611: b1 a2 b2 b3 b4 a5 b6 a7 b8\n",
      "612: b1 a2 b2 b3 b4 a5 b6 a7 a9\n",
      "613: b1 a2 b2 a4 b4 a5 b6 a7 a9\n",
      "614: b1 a2 a3 a4 b4 a5 b6 a7 a9\n",
      "615: b1 a2 a3 b3 b4 a5 b6 a7 a9\n",
      "616: b1 a2 a3 a4 b4 a5 b6 a7 b8\n",
      "617: b1 a2 b2 a4 b4 a5 b6 a7 b8\n",
      "618: b1 a2 a3 b5 b6\n",
      "619: b1 a2 a3 a6 b6\n",
      "620: b1 a2 a3 a6 a7\n",
      "621: b1 a2 b2 a6 a7\n",
      "622: b1 a2 b2 b5 a7\n",
      "623: b1 a2 b2 b5 b6\n",
      "624: b1 a2 b2 a6 b6\n",
      "625: b1 a2 a3 b5 a7\n",
      "626: a1 b1 a2 a3 b4 a5 b6\n",
      "627: a1 b1 a2 b2 b4 a5 b6\n",
      "628: a1 b1 a2 b2 b4 a5 a7\n",
      "629: a1 b1 a2 a3 b4 a5 a7\n",
      "630: b1 a2 a3 b3 b6 a7 b7\n",
      "631: b1 a2 a3 a4 b6 a7 b7\n",
      "632: b1 a2 a3 a4 b6 a7 a8\n",
      "633: b1 a2 a3 b3 b6 a7 a8\n",
      "634: b1 a2 b2 b3 b6 a7 a8\n",
      "635: b1 a2 b2 a4 b6 a7 a8\n",
      "636: b1 a2 b2 a4 b6 a7 b7\n",
      "637: b1 a2 b2 b3 b6 a7 b7\n",
      "638: b2 a3 b3 b6 a7\n",
      "639: b2 a3 a4 b6 a7\n",
      "640: b1 a2 b5 b6 a7\n",
      "641: b1 a2 a6 b6 a7\n",
      "642: b2 b3 b4 a5 b6 a7 a8\n",
      "643: a3 b3 b4 a5 b6 a7 a8\n",
      "644: a3 b3 b4 a5 b6 a7 b7\n",
      "645: b2 b3 b4 a5 b6 a7 b7\n",
      "646: b2 a4 b4 a5 b6 a7 b7\n",
      "647: b2 a4 b4 a5 b6 a7 a8\n",
      "648: a3 a4 b4 a5 b6 a7 a8\n",
      "649: a3 a4 b4 a5 b6 a7 b7\n",
      "650: a1 b2 a5\n",
      "651: a1 b2 b4\n",
      "652: a1 a3 b4\n",
      "653: a1 a3 a5\n",
      "654: a1 b1 a2 b2 a3 a4 b4 b5 a6\n",
      "655: a1 b1 a2 b2 a3 b3 b4 b5 a6\n",
      "656: a1 b1 a2 b2 a3 b3 a5 b5 a6\n",
      "657: a1 b1 a2 b2 a3 a4 a5 b5 a6\n",
      "658: b2 a3 a4 b4 b6 a7 b7\n",
      "659: b2 a3 a4 b4 b6 a7 a8\n",
      "660: b2 a3 a4 a5 b6 a7 a8\n",
      "661: b2 a3 a4 a5 b6 a7 b7\n",
      "662: b2 a3 b3 a5 b6 a7 b7\n",
      "663: b2 a3 b3 b4 b6 a7 b7\n",
      "664: b2 a3 b3 b4 b6 a7 a8\n",
      "665: b2 a3 b3 a5 b6 a7 a8\n",
      "666: a1 b1 b3 a4 b5 a6 b7 a8 b8\n",
      "667: a1 b1 b3 a4 b5 a6 b7 a8 a9\n",
      "668: a1 a2 b3 a4 b5 a6 b7 a8 a9\n",
      "669: a1 a2 b3 a4 b5 a6 b7 a8 b8\n",
      "670: b2 a3 a4 b4 b5 a6 b7 a8 b8\n",
      "671: b2 a3 b3 b4 b5 a6 b7 a8 b8\n",
      "672: b2 a3 b3 b4 b5 a6 b7 a8 a9\n",
      "673: b2 a3 b3 a5 b5 a6 b7 a8 a9\n",
      "674: b2 a3 a4 a5 b5 a6 b7 a8 a9\n",
      "675: b2 a3 a4 b4 b5 a6 b7 a8 a9\n",
      "676: b2 a3 a4 a5 b5 a6 b7 a8 b8\n",
      "677: b2 a3 b3 a5 b5 a6 b7 a8 b8\n",
      "678: a1 a2 b2 a3 b3 a4 a5 b5 a6\n",
      "679: a1 a2 b2 a3 b3 a4 b4 b5 a6\n",
      "680: a1 b1 b2 a3 b3 a4 b4 b5 a6\n",
      "681: a1 b1 b2 a3 b3 a4 a5 b5 a6\n",
      "682: b1 a2 b3 a4 b5 a7 b7\n",
      "683: b1 a2 b3 a4 a6 a7 b7\n",
      "684: b1 a2 b3 a4 a6 a7 a8\n",
      "685: b1 a2 b3 a4 a6 b6 a8\n",
      "686: b1 a2 b3 a4 a6 b6 b7\n",
      "687: b1 a2 b3 a4 b5 b6 b7\n",
      "688: b1 a2 b3 a4 b5 b6 a8\n",
      "689: b1 a2 b3 a4 b5 a7 a8\n",
      "690: a1 a2 b5 a6 b6\n",
      "691: a1 b1 b5 a6 b6\n",
      "692: a1 b1 b5 a6 a7\n",
      "693: a1 a2 b5 a6 a7\n",
      "694: a1 b1 a2 b3 b4 a5 a6\n",
      "695: a1 b1 a2 b3 b4 a5 b5\n",
      "696: a1 b1 a2 a4 b4 a5 b5\n",
      "697: a1 b1 a2 a4 b4 a5 a6\n",
      "698: b1 b2 a3 a4 b4 a5 b5 b6 a7\n",
      "699: b1 b2 a3 b3 b4 a5 b5 b6 a7\n",
      "700: b1 b2 a3 b3 b4 a5 a6 b6 a7\n",
      "701: a2 b2 a3 b3 b4 a5 a6 b6 a7\n",
      "702: a2 b2 a3 a4 b4 a5 a6 b6 a7\n",
      "703: a2 b2 a3 a4 b4 a5 b5 b6 a7\n",
      "704: a2 b2 a3 b3 b4 a5 b5 b6 a7\n",
      "705: b1 b2 a3 a4 b4 a5 a6 b6 a7\n",
      "706: a1 b1 a2 a3 b4 b5 a6\n",
      "707: a1 b1 a2 a3 a5 b5 a6\n",
      "708: a1 b1 a2 b2 a5 b5 a6\n",
      "709: a1 b1 a2 b2 b4 b5 a6\n",
      "710: a4 b4 b5 a6 b6\n",
      "711: b3 b4 b5 a6 b6\n",
      "712: b3 a5 b5 a6 b6\n",
      "713: a4 a5 b5 a6 b6\n",
      "714: a4 a5 b5 a6 a7\n",
      "715: b3 a5 b5 a6 a7\n",
      "716: b3 b4 b5 a6 a7\n",
      "717: a4 b4 b5 a6 a7\n",
      "718: b2 a3 b4 a5 b6 a7 b8\n",
      "719: b2 a3 b4 a5 b6 a7 a9\n",
      "720: a2 b2 b3 a4 a5 b5 b6\n",
      "721: a2 b2 b3 a4 a5 a6 b6\n",
      "722: a2 a3 b3 a4 a5 a6 b6\n",
      "723: b1 a3 b3 a4 a5 a6 b6\n",
      "724: b1 a3 b3 a4 a5 a6 a7\n",
      "725: b1 b2 b3 a4 a5 a6 a7\n",
      "726: b1 b2 b3 a4 b4 a6 a7\n",
      "727: b1 a3 b3 a4 b4 a6 a7\n",
      "728: a2 a3 b3 a4 b4 a6 a7\n",
      "729: a2 a3 b3 a4 b4 b5 a7\n",
      "730: a2 a3 b3 a4 a5 b5 a7\n",
      "731: b1 a3 b3 a4 a5 b5 a7\n",
      "732: b1 b2 b3 a4 a5 b5 a7\n",
      "733: a2 b2 b3 a4 a5 b5 a7\n",
      "734: a2 b2 b3 a4 a5 a6 a7\n",
      "735: a2 a3 b3 a4 a5 a6 a7\n",
      "736: a2 b2 b3 a4 b4 a6 a7\n",
      "737: a2 b2 b3 a4 b4 a6 b6\n",
      "738: a2 b2 b3 a4 b4 b5 b6\n",
      "739: b1 b2 b3 a4 b4 b5 b6\n",
      "740: b1 b2 b3 a4 b4 a6 b6\n",
      "741: b1 a3 b3 a4 b4 a6 b6\n",
      "742: a2 a3 b3 a4 b4 a6 b6\n",
      "743: a2 a3 b3 a4 b4 b5 b6\n",
      "744: a2 a3 b3 a4 a5 b5 b6\n",
      "745: b1 a3 b3 a4 a5 b5 b6\n",
      "746: b1 a3 b3 a4 b4 b5 b6\n",
      "747: b1 a3 b3 a4 b4 b5 a7\n",
      "748: b1 b2 b3 a4 b4 b5 a7\n",
      "749: a2 b2 b3 a4 b4 b5 a7\n",
      "750: b1 b2 b3 a4 a5 b5 b6\n",
      "751: b1 b2 b3 a4 a5 a6 b6\n",
      "752: a1 b1 a2 a3 b4 a5 b6 a7 b7\n",
      "753: a1 b1 a2 b2 b4 a5 b6 a7 b7\n",
      "754: a1 b1 a2 b2 b4 a5 b6 a7 a8\n",
      "755: a1 b1 a2 a3 b4 a5 b6 a7 a8\n",
      "756: b1 a2 b3 b4 b5 a6 a8\n",
      "757: b1 a2 a4 b4 b5 a6 a8\n",
      "758: b1 a2 a4 a5 b5 a6 a8\n",
      "759: b1 a2 a4 a5 b5 a6 b7\n",
      "760: b1 a2 a4 b4 b5 a6 b7\n",
      "761: b1 a2 b3 b4 b5 a6 b7\n",
      "762: b1 a2 b3 a5 b5 a6 b7\n",
      "763: b1 a2 b3 a5 b5 a6 a8\n",
      "764: a1 b1 b3 a4 b5 b6 a7\n",
      "765: a1 a2 b3 a4 b5 b6 a7\n",
      "766: a1 a2 b3 a4 a6 b6 a7\n",
      "767: a1 b1 b3 a4 a6 b6 a7\n",
      "768: b1 a2 b4 a5 b7\n",
      "769: b1 a2 b4 a5 a8\n",
      "770: b1 a2 b2 b3 b4 a5 b6 a7 a8 b8 a9\n",
      "771: b1 a2 b2 a4 b4 a5 b6 a7 a8 b8 a9\n",
      "772: b1 a2 a3 a4 b4 a5 b6 a7 a8 b8 a9\n",
      "773: b1 a2 a3 b3 b4 a5 b6 a7 a8 b8 a9\n",
      "774: b1 a2 a3 b3 b4 a5 b6 a7 b7 b8 a9\n",
      "775: b1 a2 a3 a4 b4 a5 b6 a7 b7 b8 a9\n",
      "776: b1 a2 b2 a4 b4 a5 b6 a7 b7 b8 a9\n",
      "777: b1 a2 b2 b3 b4 a5 b6 a7 b7 b8 a9\n",
      "778: a1 a4 b4 a5 b5 b6 a7\n",
      "779: a1 a4 b4 a5 a6 b6 a7\n",
      "780: a1 b3 b4 a5 a6 b6 a7\n",
      "781: a1 b3 b4 a5 b5 b6 a7\n",
      "782: a1 b1 b3 a4 a5\n",
      "783: a1 b1 b3 a4 b4\n",
      "784: a1 a2 b3 a4 b4\n",
      "785: a1 a2 b3 a4 a5\n",
      "786: a1 b1 a2 b2 a3 b3 a4 b4 b5\n",
      "787: a1 b1 a2 b2 a3 b3 a4 b4 a6\n",
      "788: a1 b1 a2 b2 a3 b3 a4 a5 a6\n",
      "789: a1 b1 a2 b2 a3 b3 a4 a5 b5\n",
      "790: b1 a2 a3 b3 b4 a5 b7\n",
      "791: b1 a2 a3 a4 b4 a5 b7\n",
      "792: b1 a2 a3 a4 b4 a5 a8\n",
      "793: b1 a2 b2 a4 b4 a5 a8\n",
      "794: b1 a2 b2 a4 b4 a5 b7\n",
      "795: b1 a2 b2 b3 b4 a5 b7\n",
      "796: b1 a2 b2 b3 b4 a5 a8\n",
      "797: b1 a2 a3 b3 b4 a5 a8\n",
      "798: b1 a2 b3 a4 a5 b5 b7 a8 b8\n",
      "799: b1 a2 b3 a4 a5 a6 b7 a8 b8\n",
      "800: b1 a2 b3 a4 a5 a6 b7 a8 a9\n",
      "801: b1 a2 b3 a4 b4 a6 b7 a8 a9\n",
      "802: b1 a2 b3 a4 b4 b5 b7 a8 a9\n",
      "803: b1 a2 b3 a4 a5 b5 b7 a8 a9\n",
      "804: b1 a2 b3 a4 b4 b5 b7 a8 b8\n",
      "805: b1 a2 b3 a4 b4 a6 b7 a8 b8\n",
      "806: b1 a2 b4 a5 b7 a8 b8\n",
      "807: b1 a2 b4 a5 b7 a8 a9\n",
      "808: a1 a3 b3 a4 b4 b5 a6\n",
      "809: a1 b2 b3 a4 b4 b5 a6\n",
      "810: a1 b2 b3 a4 a5 b5 a6\n",
      "811: a1 a3 b3 a4 a5 b5 a6\n",
      "812: b1 a2 b3 a4 a6\n",
      "813: b1 a2 b3 a4 b5\n",
      "814: b2 b3 a4 b4 b5 a6 a7\n",
      "815: a3 b3 a4 b4 b5 a6 a7\n",
      "816: a3 b3 a4 b4 b5 a6 b6\n",
      "817: a3 b3 a4 a5 b5 a6 b6\n",
      "818: b2 b3 a4 a5 b5 a6 b6\n",
      "819: b2 b3 a4 b4 b5 a6 b6\n",
      "820: b2 b3 a4 a5 b5 a6 a7\n",
      "821: a3 b3 a4 a5 b5 a6 a7\n",
      "822: b1 a2 a3 b3 b5 a6 b6 b7 a8\n",
      "823: b1 a2 b2 b3 b5 a6 b6 b7 a8\n",
      "824: b1 a2 b2 b3 b5 a6 a7 b7 a8\n",
      "825: b1 a2 a3 b3 b5 a6 a7 b7 a8\n",
      "826: b1 a2 a3 a4 b5 a6 a7 b7 a8\n",
      "827: b1 a2 a3 a4 b5 a6 b6 b7 a8\n",
      "828: b1 a2 b2 a4 b5 a6 b6 b7 a8\n",
      "829: b1 a2 b2 a4 b5 a6 a7 b7 a8\n",
      "830: b1\n",
      "831: a2\n",
      "832: a1 a2 b3 a4 b5 a6 b7\n",
      "833: a1 b1 b3 a4 b5 a6 b7\n",
      "834: a1 b1 b3 a4 b5 a6 a8\n",
      "835: a1 a2 b3 a4 b5 a6 a8\n",
      "836: a1 a2 b2 a3 a5\n",
      "837: a1 b1 b2 a3 a5\n",
      "838: a1 b1 b2 a3 b4\n",
      "839: a1 a2 b2 a3 b4\n",
      "840: a1 a2 b3 a4 b4 a5 a6\n",
      "841: a1 a2 b3 a4 b4 a5 b5\n",
      "842: a1 b1 b3 a4 b4 a5 b5\n",
      "843: a1 b1 b3 a4 b4 a5 a6\n",
      "844: b1 a2 b3 a4 a5 b5 a6\n",
      "845: b1 a2 b3 a4 b4 b5 a6\n",
      "846: a2 b2 a3 a4 a5 b5 a6\n",
      "847: a2 b2 a3 a4 b4 b5 a6\n",
      "848: a2 b2 a3 b3 b4 b5 a6\n",
      "849: b1 b2 a3 b3 b4 b5 a6\n",
      "850: b1 b2 a3 b3 a5 b5 a6\n",
      "851: b1 b2 a3 a4 a5 b5 a6\n",
      "852: b1 b2 a3 a4 b4 b5 a6\n",
      "853: a2 b2 a3 b3 a5 b5 a6\n",
      "854: a1 b1 a2 a3 b3 a4 a5\n",
      "855: a1 b1 a2 a3 b3 a4 b4\n",
      "856: a1 b1 a2 b2 b3 a4 b4\n",
      "857: a1 b1 a2 b2 b3 a4 a5\n",
      "858: a1 b1 a2 a3 b3\n",
      "859: a1 b1 a2 b2 b3\n",
      "860: a1 b1 a2 b2 a4\n",
      "861: a1 b1 a2 a3 a4\n",
      "862: b1 a2 b3 a4 b5 a6 a7 b7 b8\n",
      "863: b1 a2 b3 a4 b5 a6 a7 b7 a9\n",
      "864: b1 a2 b3 a4 b5 a6 a7 a8 a9\n",
      "865: b1 a2 b3 a4 b5 a6 b6 a8 a9\n",
      "866: b1 a2 b3 a4 b5 a6 b6 b7 a9\n",
      "867: b1 a2 b3 a4 b5 a6 b6 b7 b8\n",
      "868: b1 a2 b3 a4 b5 a6 b6 a8 b8\n",
      "869: b1 a2 b3 a4 b5 a6 a7 a8 b8\n",
      "870: b1 a2 a4 b4 b6 a7 b7\n",
      "871: b1 a2 b3 b4 b6 a7 b7\n",
      "872: b1 a2 b3 a5 b6 a7 b7\n",
      "873: b1 a2 b3 a5 b6 a7 a8\n",
      "874: b1 a2 b3 b4 b6 a7 a8\n",
      "875: b1 a2 a4 b4 b6 a7 a8\n",
      "876: b1 a2 a4 a5 b6 a7 a8\n",
      "877: b1 a2 a4 a5 b6 a7 b7\n",
      "878: b1 a2 a3 a4 b4 b5 b6 a7 b7\n",
      "879: b1 a2 a3 b3 b4 b5 b6 a7 b7\n",
      "880: b1 a2 a3 b3 b4 a6 b6 a7 b7\n",
      "881: b1 a2 a3 a4 b4 a6 b6 a7 b7\n",
      "882: b1 a2 a3 a4 a5 a6 b6 a7 b7\n",
      "883: b1 a2 b2 a4 a5 a6 b6 a7 b7\n",
      "884: b1 a2 b2 a4 b4 a6 b6 a7 b7\n",
      "885: b1 a2 b2 b3 b4 a6 b6 a7 b7\n",
      "886: b1 a2 b2 b3 b4 a6 b6 a7 a8\n",
      "887: b1 a2 b2 b3 a5 a6 b6 a7 a8\n",
      "888: b1 a2 a3 b3 a5 a6 b6 a7 a8\n",
      "889: b1 a2 a3 b3 b4 a6 b6 a7 a8\n",
      "890: b1 a2 a3 a4 b4 a6 b6 a7 a8\n",
      "891: b1 a2 a3 a4 b4 b5 b6 a7 a8\n",
      "892: b1 a2 a3 a4 a5 b5 b6 a7 a8\n",
      "893: b1 a2 b2 a4 a5 b5 b6 a7 a8\n",
      "894: b1 a2 b2 b3 a5 b5 b6 a7 a8\n",
      "895: b1 a2 b2 b3 b4 b5 b6 a7 a8\n",
      "896: b1 a2 b2 b3 b4 b5 b6 a7 b7\n",
      "897: b1 a2 b2 b3 a5 b5 b6 a7 b7\n",
      "898: b1 a2 a3 b3 a5 b5 b6 a7 b7\n",
      "899: b1 a2 a3 a4 a5 b5 b6 a7 b7\n",
      "900: b1 a2 b2 a4 a5 b5 b6 a7 b7\n",
      "901: b1 a2 b2 a4 b4 b5 b6 a7 b7\n",
      "902: b1 a2 b2 a4 b4 b5 b6 a7 a8\n",
      "903: b1 a2 b2 a4 b4 a6 b6 a7 a8\n",
      "904: b1 a2 b2 a4 a5 a6 b6 a7 a8\n",
      "905: b1 a2 a3 a4 a5 a6 b6 a7 a8\n",
      "906: b1 a2 a3 b3 a5 a6 b6 a7 b7\n",
      "907: b1 a2 b2 b3 a5 a6 b6 a7 b7\n",
      "908: b1 a2 a3 b3 a5 b5 b6 a7 a8\n",
      "909: b1 a2 a3 b3 b4 b5 b6 a7 a8\n",
      "910: b1 a3 b5 a6 b6\n",
      "911: b1 a3 b5 a6 a7\n",
      "912: a2 a3 b5 a6 a7\n",
      "913: a2 a3 b5 a6 b6\n",
      "914: a2 b2 b5 a6 b6\n",
      "915: a2 b2 b5 a6 a7\n",
      "916: b1 b2 b5 a6 a7\n",
      "917: b1 b2 b5 a6 b6\n",
      "918: b1 b2 b3 a4 a5 a6 b6 a7 b7\n",
      "919: b1 a3 b3 a4 a5 a6 b6 a7 b7\n",
      "920: a2 a3 b3 a4 a5 a6 b6 a7 b7\n",
      "921: a2 a3 b3 a4 a5 a6 b6 a7 a8\n",
      "922: a2 a3 b3 a4 b4 a6 b6 a7 a8\n",
      "923: a2 b2 b3 a4 b4 a6 b6 a7 a8\n",
      "924: a2 b2 b3 a4 a5 a6 b6 a7 a8\n",
      "925: a2 b2 b3 a4 a5 a6 b6 a7 b7\n",
      "926: a2 b2 b3 a4 b4 a6 b6 a7 b7\n",
      "927: a2 b2 b3 a4 b4 b5 b6 a7 b7\n",
      "928: a2 b2 b3 a4 a5 b5 b6 a7 b7\n",
      "929: a2 b2 b3 a4 a5 b5 b6 a7 a8\n",
      "930: b1 b2 b3 a4 a5 b5 b6 a7 a8\n",
      "931: b1 a3 b3 a4 a5 b5 b6 a7 a8\n",
      "932: b1 a3 b3 a4 a5 b5 b6 a7 b7\n",
      "933: b1 a3 b3 a4 b4 b5 b6 a7 b7\n",
      "934: b1 b2 b3 a4 b4 b5 b6 a7 b7\n",
      "935: b1 b2 b3 a4 a5 b5 b6 a7 b7\n",
      "936: b1 b2 b3 a4 b4 a6 b6 a7 b7\n",
      "937: b1 b2 b3 a4 b4 a6 b6 a7 a8\n",
      "938: b1 b2 b3 a4 a5 a6 b6 a7 a8\n",
      "939: b1 a3 b3 a4 a5 a6 b6 a7 a8\n",
      "940: b1 a3 b3 a4 b4 a6 b6 a7 a8\n",
      "941: b1 a3 b3 a4 b4 a6 b6 a7 b7\n",
      "942: a2 a3 b3 a4 b4 a6 b6 a7 b7\n",
      "943: a2 a3 b3 a4 b4 b5 b6 a7 b7\n",
      "944: a2 a3 b3 a4 a5 b5 b6 a7 b7\n",
      "945: a2 a3 b3 a4 a5 b5 b6 a7 a8\n",
      "946: a2 a3 b3 a4 b4 b5 b6 a7 a8\n",
      "947: b1 a3 b3 a4 b4 b5 b6 a7 a8\n",
      "948: b1 b2 b3 a4 b4 b5 b6 a7 a8\n",
      "949: a2 b2 b3 a4 b4 b5 b6 a7 a8\n",
      "950: b1 b3 a5\n",
      "951: b1 a4 a5\n",
      "952: b1 a4 b4\n",
      "953: b1 b3 b4\n",
      "954: a2 b3 b4\n",
      "955: a2 b3 a5\n",
      "956: a2 a4 a5\n",
      "957: a2 a4 b4\n",
      "958: a1 b1 a2 a3 b3 a4 b4 a5 b5\n",
      "959: a1 b1 a2 b2 b3 a4 b4 a5 b5\n",
      "960: a1 b1 a2 b2 b3 a4 b4 a5 a6\n",
      "961: a1 b1 a2 a3 b3 a4 b4 a5 a6\n",
      "962: a2 b2 a3 a4 a6\n",
      "963: a2 b2 a3 a4 b5\n",
      "964: b1 b2 a3 a4 b5\n",
      "965: b1 b2 a3 b3 b5\n",
      "966: b1 b2 a3 b3 a6\n",
      "967: b1 b2 a3 a4 a6\n",
      "968: a2 b2 a3 b3 a6\n",
      "969: a2 b2 a3 b3 b5\n",
      "970: b1 a2 b2 b3 a5\n",
      "971: b1 a2 b2 a4 a5\n",
      "972: b1 a2 a3 a4 a5\n",
      "973: b1 a2 a3 b3 a5\n",
      "974: b1 a2 a3 b3 b4\n",
      "975: b1 a2 b2 b3 b4\n",
      "976: b1 a2 b2 a4 b4\n",
      "977: b1 a2 a3 a4 b4\n",
      "978: a2 b2 a3 b3 b4 a5 b6 a7 b7\n",
      "979: b1 b2 a3 b3 b4 a5 b6 a7 b7\n",
      "980: b1 b2 a3 a4 b4 a5 b6 a7 b7\n",
      "981: b1 b2 a3 a4 b4 a5 b6 a7 a8\n",
      "982: a2 b2 a3 a4 b4 a5 b6 a7 a8\n",
      "983: a2 b2 a3 a4 b4 a5 b6 a7 b7\n",
      "984: a2 b2 a3 b3 b4 a5 b6 a7 a8\n",
      "985: b1 b2 a3 b3 b4 a5 b6 a7 a8\n",
      "986: b1 b4 a6\n",
      "987: a2 b4 a6\n",
      "988: a2 b4 b5\n",
      "989: b1 b4 b5\n",
      "990: b1 a5 b5\n",
      "991: a2 a5 b5\n",
      "992: a2 a5 a6\n",
      "993: b1 a5 a6\n",
      "994: a2 a3 b3 a4 a6 b6 a7\n",
      "995: a2 b2 b3 a4 a6 b6 a7\n",
      "996: a2 b2 b3 a4 b5 b6 a7\n",
      "997: a2 a3 b3 a4 b5 b6 a7\n",
      "998: b1 a3 b3 a4 b5 b6 a7\n",
      "999: b1 b2 b3 a4 b5 b6 a7\n",
      "1000: b1 b2 b3 a4 a6 b6 a7\n",
      "1001: b1 a3 b3 a4 a6 b6 a7\n",
      "1002: b1 a2 a4 a5 b5 a6 a7 b7 a8\n",
      "1003: b1 a2 b3 a5 b5 a6 a7 b7 a8\n",
      "1004: b1 a2 b3 a5 b5 a6 b6 b7 a8\n",
      "1005: b1 a2 b3 b4 b5 a6 b6 b7 a8\n",
      "1006: b1 a2 a4 b4 b5 a6 b6 b7 a8\n",
      "1007: b1 a2 a4 b4 b5 a6 a7 b7 a8\n",
      "1008: b1 a2 b3 b4 b5 a6 a7 b7 a8\n",
      "1009: b1 a2 a4 a5 b5 a6 b6 b7 a8\n",
      "1010: b1 a2 b3 a4 b7\n",
      "1011: b1 a2 b3 a4 a8\n",
      "1012: b1 a2 b3 a4 b4 b5 a8\n",
      "1013: b1 a2 b3 a4 b4 b5 b7\n",
      "1014: b1 a2 b3 a4 b4 a6 b7\n",
      "1015: b1 a2 b3 a4 a5 a6 b7\n",
      "1016: b1 a2 b3 a4 a5 a6 a8\n",
      "1017: b1 a2 b3 a4 b4 a6 a8\n",
      "1018: b1 a2 b3 a4 a5 b5 a8\n",
      "1019: b1 a2 b3 a4 a5 b5 b7\n",
      "1020: b1 a2 b3 b4 a5 a6 b6 a7 b7\n",
      "1021: b1 a2 b3 b4 a5 b5 b6 a7 b7\n",
      "1022: b1 a2 b3 b4 a5 b5 b6 a7 a8\n",
      "1023: b1 a2 b3 b4 a5 a6 b6 a7 a8\n",
      "1024: b1 a2 a4 b4 a5 a6 b6 a7 a8\n",
      "1025: b1 a2 a4 b4 a5 a6 b6 a7 b7\n",
      "1026: b1 a2 a4 b4 a5 b5 b6 a7 b7\n",
      "1027: b1 a2 a4 b4 a5 b5 b6 a7 a8\n",
      "1028: a1 b2 b3 b4 a5\n",
      "1029: a1 b2 a4 b4 a5\n",
      "1030: a1 a3 a4 b4 a5\n",
      "1031: a1 a3 b3 b4 a5\n",
      "1032: b2 a3 b4 a5 a6\n",
      "1033: b2 a3 b4 a5 b5\n",
      "1034: a2 b4 b5 a6 b6\n",
      "1035: a2 a5 b5 a6 b6\n",
      "1036: b1 a5 b5 a6 b6\n",
      "1037: b1 b4 b5 a6 b6\n",
      "1038: b1 b4 b5 a6 a7\n",
      "1039: b1 a5 b5 a6 a7\n",
      "1040: a2 a5 b5 a6 a7\n",
      "1041: a2 b4 b5 a6 a7\n",
      "1042: b1 a2 b4\n",
      "1043: b1 a2 a5\n",
      "1044: a2 a3 a5 b5 a6\n",
      "1045: b1 a3 a5 b5 a6\n",
      "1046: b1 b2 a5 b5 a6\n",
      "1047: b1 b2 b4 b5 a6\n",
      "1048: a2 b2 b4 b5 a6\n",
      "1049: a2 b2 a5 b5 a6\n",
      "1050: a2 a3 b4 b5 a6\n",
      "1051: b1 a3 b4 b5 a6\n",
      "1052: b2 a4 b4 a5 b5 b6 a7\n",
      "1053: b2 b3 b4 a5 b5 b6 a7\n",
      "1054: a3 b3 b4 a5 b5 b6 a7\n",
      "1055: a3 a4 b4 a5 b5 b6 a7\n",
      "1056: a3 a4 b4 a5 a6 b6 a7\n",
      "1057: a3 b3 b4 a5 a6 b6 a7\n",
      "1058: b2 b3 b4 a5 a6 b6 a7\n",
      "1059: b2 a4 b4 a5 a6 b6 a7\n",
      "1060: b1 a2 a3 b3 a4 b4 a5 a6 a7\n",
      "1061: b1 a2 b2 b3 a4 b4 a5 a6 a7\n",
      "1062: b1 a2 b2 b3 a4 b4 a5 b5 a7\n",
      "1063: b1 a2 a3 b3 a4 b4 a5 b5 a7\n",
      "1064: b1 a2 a3 b3 a4 b4 a5 b5 b6\n",
      "1065: b1 a2 a3 b3 a4 b4 a5 a6 b6\n",
      "1066: b1 a2 b2 b3 a4 b4 a5 a6 b6\n",
      "1067: b1 a2 b2 b3 a4 b4 a5 b5 b6\n",
      "1068: b2 a3 b5 b6 a7\n",
      "1069: b2 a3 a6 b6 a7\n",
      "1070: b1 a2 b3 a4 a5 b5 a6 b6 b7\n",
      "1071: b1 a2 b3 a4 a5 b5 a6 a7 b7\n",
      "1072: b1 a2 b3 a4 b4 b5 a6 a7 b7\n",
      "1073: b1 a2 b3 a4 b4 b5 a6 b6 b7\n",
      "1074: b1 a2 b3 a4 b4 b5 a6 b6 a8\n",
      "1075: b1 a2 b3 a4 a5 b5 a6 b6 a8\n",
      "1076: b1 a2 b3 a4 a5 b5 a6 a7 a8\n",
      "1077: b1 a2 b3 a4 b4 b5 a6 a7 a8\n",
      "1078: a1 b1 b2 a3 b3 b4 a5\n",
      "1079: a1 b1 b2 a3 a4 b4 a5\n",
      "1080: a1 a2 b2 a3 a4 b4 a5\n",
      "1081: a1 a2 b2 a3 b3 b4 a5\n",
      "1082: b3\n",
      "1083: a4\n",
      "1084: b1 a2 b2 b3 a4 b4 a6 b6 a7\n",
      "1085: b1 a2 b2 b3 a4 b4 b5 b6 a7\n",
      "1086: b1 a2 b2 b3 a4 a5 b5 b6 a7\n",
      "1087: b1 a2 a3 b3 a4 a5 b5 b6 a7\n",
      "1088: b1 a2 a3 b3 a4 a5 a6 b6 a7\n",
      "1089: b1 a2 b2 b3 a4 a5 a6 b6 a7\n",
      "1090: b1 a2 a3 b3 a4 b4 a6 b6 a7\n",
      "1091: b1 a2 a3 b3 a4 b4 b5 b6 a7\n",
      "1092: b1 a2 b2 a3 b4 b5 a6\n",
      "1093: b1 a2 b2 a3 a5 b5 a6\n",
      "1094: b2 a3 a4 b4 a5 a6 a7\n",
      "1095: b2 a3 b3 b4 a5 a6 a7\n",
      "1096: b2 a3 b3 b4 a5 a6 b6\n",
      "1097: b2 a3 b3 b4 a5 b5 b6\n",
      "1098: b2 a3 a4 b4 a5 b5 b6\n",
      "1099: b2 a3 a4 b4 a5 b5 a7\n",
      "1100: b2 a3 b3 b4 a5 b5 a7\n",
      "1101: b2 a3 a4 b4 a5 a6 b6\n",
      "1102: a2 b2 a3 a4 b5 a6 a7\n",
      "1103: b1 b2 a3 a4 b5 a6 a7\n",
      "1104: b1 b2 a3 b3 b5 a6 a7\n",
      "1105: b1 b2 a3 b3 b5 a6 b6\n",
      "1106: a2 b2 a3 b3 b5 a6 b6\n",
      "1107: a2 b2 a3 b3 b5 a6 a7\n",
      "1108: a2 b2 a3 a4 b5 a6 b6\n",
      "1109: b1 b2 a3 a4 b5 a6 b6\n",
      "1110: a1 a2 b3 a4 b5 a6 a7 b7 a8\n",
      "1111: a1 b1 b3 a4 b5 a6 a7 b7 a8\n",
      "1112: a1 b1 b3 a4 b5 a6 b6 b7 a8\n",
      "1113: a1 a2 b3 a4 b5 a6 b6 b7 a8\n",
      "1114: a1 a2 b3 a4 a7\n",
      "1115: a1 b1 b3 a4 a7\n",
      "1116: a1 b1 b3 a4 b6\n",
      "1117: a1 a2 b3 a4 b6\n",
      "1118: b1 a2 b3 b4 a5\n",
      "1119: b1 a2 a4 b4 a5\n",
      "1120: b1 a2 b3 a4 b4 b5 b6 a7 a8 b8 a9\n",
      "1121: b1 a2 b3 a4 a5 b5 b6 a7 a8 b8 a9\n",
      "1122: b1 a2 b3 a4 a5 a6 b6 a7 a8 b8 a9\n",
      "1123: b1 a2 b3 a4 b4 a6 b6 a7 a8 b8 a9\n",
      "1124: b1 a2 b3 a4 b4 a6 b6 a7 b7 b8 a9\n",
      "1125: b1 a2 b3 a4 b4 b5 b6 a7 b7 b8 a9\n",
      "1126: b1 a2 b3 a4 a5 b5 b6 a7 b7 b8 a9\n",
      "1127: b1 a2 b3 a4 a5 a6 b6 a7 b7 b8 a9\n",
      "1128: b2 a3 b4 a5 b6 a7 b8 a9 b9\n",
      "1129: b2 a3 b4 a5 b6 a7 b8 a9 a10\n",
      "1130: a1 a2 b4 a5 b6 a7 a8\n",
      "1131: a1 b1 b4 a5 b6 a7 a8\n",
      "1132: a1 b1 b4 a5 b6 a7 b7\n",
      "1133: a1 a2 b4 a5 b6 a7 b7\n",
      "1134: b3 a4 b6\n",
      "1135: b3 a4 a7\n",
      "1136: b2 a3 b3 a4 b5\n",
      "1137: b2 a3 b3 a4 a6\n",
      "1138: a1 a2 b3 a4 b6 a7 b7\n",
      "1139: a1 a2 b3 a4 b6 a7 a8\n",
      "1140: a1 b1 b3 a4 b6 a7 a8\n",
      "1141: a1 b1 b3 a4 b6 a7 b7\n",
      "1142: b1 a2 b2 a4 b4 b5 a6 b6 a7\n",
      "1143: b1 a2 b2 b3 b4 b5 a6 b6 a7\n",
      "1144: b1 a2 b2 b3 a5 b5 a6 b6 a7\n",
      "1145: b1 a2 a3 b3 a5 b5 a6 b6 a7\n",
      "1146: b1 a2 a3 a4 a5 b5 a6 b6 a7\n",
      "1147: b1 a2 b2 a4 a5 b5 a6 b6 a7\n",
      "1148: b1 a2 a3 a4 b4 b5 a6 b6 a7\n",
      "1149: b1 a2 a3 b3 b4 b5 a6 b6 a7\n",
      "1150: b1 a2 a5 a6 b6 a7 a8\n",
      "1151: b1 a2 a5 b5 b6 a7 a8\n",
      "1152: b1 a2 b4 b5 b6 a7 a8\n",
      "1153: b1 a2 b4 b5 b6 a7 b7\n",
      "1154: b1 a2 a5 b5 b6 a7 b7\n",
      "1155: b1 a2 a5 a6 b6 a7 b7\n",
      "1156: b1 a2 b4 a6 b6 a7 b7\n",
      "1157: b1 a2 b4 a6 b6 a7 a8\n",
      "1158: b1 a2 b4 a5 b6 a7 b8 a9 b9\n",
      "1159: b1 a2 b4 a5 b6 a7 b8 a9 a10\n",
      "1160: b1 a2 b6\n",
      "1161: b1 a2 a7\n",
      "1162: a1 a2 a4 a5 b5 a6 b6\n",
      "1163: a1 b1 a4 a5 b5 a6 b6\n",
      "1164: a1 b1 a4 a5 b5 a6 a7\n",
      "1165: a1 a2 a4 a5 b5 a6 a7\n",
      "1166: a1 a2 b3 a5 b5 a6 a7\n",
      "1167: a1 a2 b3 a5 b5 a6 b6\n",
      "1168: a1 b1 b3 a5 b5 a6 b6\n",
      "1169: a1 b1 b3 b4 b5 a6 b6\n",
      "1170: a1 b1 a4 b4 b5 a6 b6\n",
      "1171: a1 a2 a4 b4 b5 a6 b6\n",
      "1172: a1 a2 a4 b4 b5 a6 a7\n",
      "1173: a1 b1 a4 b4 b5 a6 a7\n",
      "1174: a1 b1 b3 b4 b5 a6 a7\n",
      "1175: a1 b1 b3 a5 b5 a6 a7\n",
      "1176: a1 a2 b3 b4 b5 a6 a7\n",
      "1177: a1 a2 b3 b4 b5 a6 b6\n",
      "1178: b1 a2 b2 b3 b4 a5 b5 a6 a7\n",
      "1179: b1 a2 b2 a4 b4 a5 b5 a6 a7\n",
      "1180: b1 a2 b2 a4 b4 a5 b5 a6 b6\n",
      "1181: b1 a2 a3 a4 b4 a5 b5 a6 b6\n",
      "1182: b1 a2 a3 a4 b4 a5 b5 a6 a7\n",
      "1183: b1 a2 a3 b3 b4 a5 b5 a6 a7\n",
      "1184: b1 a2 a3 b3 b4 a5 b5 a6 b6\n",
      "1185: b1 a2 b2 b3 b4 a5 b5 a6 b6\n",
      "1186: b1 a3 b4 a5 b6 a7 b7\n",
      "1187: a2 a3 b4 a5 b6 a7 b7\n",
      "1188: a2 a3 b4 a5 b6 a7 a8\n",
      "1189: b1 a3 b4 a5 b6 a7 a8\n",
      "1190: b1 b2 b4 a5 b6 a7 a8\n",
      "1191: b1 b2 b4 a5 b6 a7 b7\n",
      "1192: a2 b2 b4 a5 b6 a7 b7\n",
      "1193: a2 b2 b4 a5 b6 a7 a8\n",
      "1194: b1 a2 b4 a5 b6 b7 a8\n",
      "1195: b1 a2 b4 a5 a7 b7 a8\n",
      "1196: b1 a2 a3 a4 b5 a6 a8\n",
      "1197: b1 a2 b2 a4 b5 a6 a8\n",
      "1198: b1 a2 b2 b3 b5 a6 a8\n",
      "1199: b1 a2 b2 b3 b5 a6 b7\n",
      "1200: b1 a2 b2 a4 b5 a6 b7\n",
      "1201: b1 a2 a3 a4 b5 a6 b7\n",
      "1202: b1 a2 a3 b3 b5 a6 b7\n",
      "1203: b1 a2 a3 b3 b5 a6 a8\n",
      "1204: b1 a2 b4 a5 a6 b6 b7\n",
      "1205: b1 a2 b4 a5 a6 a7 b7\n",
      "1206: b1 a2 b4 a5 a6 a7 a8\n",
      "1207: b1 a2 b4 a5 a6 b6 a8\n",
      "1208: b1 a2 b4 a5 b5 b6 a8\n",
      "1209: b1 a2 b4 a5 b5 a7 a8\n",
      "1210: b1 a2 b4 a5 b5 a7 b7\n",
      "1211: b1 a2 b4 a5 b5 b6 b7\n",
      "1212: b1 a2 b3 a4 b5 a6 b8 a9 b9\n",
      "1213: b1 a2 b3 a4 b5 a6 b8 a9 a10\n",
      "1214: b1 a2 b3 a4 b5 a6 b7 a8 b9 a10 b10\n",
      "1215: b1 a2 b3 a4 b5 a6 b7 a8 b9 a10 a11\n",
      "1216: b1 a2 b3 a4 b7 a8 b8\n",
      "1217: b1 a2 b3 a4 b7 a8 a9\n",
      "1218: a1 b1 b3 b4 a5 b5 a6\n",
      "1219: a1 a2 b3 b4 a5 b5 a6\n",
      "1220: a1 a2 a4 b4 a5 b5 a6\n",
      "1221: a1 b1 a4 b4 a5 b5 a6\n",
      "1222: b1 a2 b3 a4 b4 a5 b6\n",
      "1223: b1 a2 b3 a4 b4 a5 a7\n",
      "1224: b2 a3 b3 a5 b5 a6 b7\n",
      "1225: b2 a3 a4 a5 b5 a6 b7\n",
      "1226: b2 a3 a4 a5 b5 a6 a8\n",
      "1227: b2 a3 a4 b4 b5 a6 a8\n",
      "1228: b2 a3 a4 b4 b5 a6 b7\n",
      "1229: b2 a3 b3 b4 b5 a6 b7\n",
      "1230: b2 a3 b3 b4 b5 a6 a8\n",
      "1231: b2 a3 b3 a5 b5 a6 a8\n",
      "1232: a1 b1 a2 a4 a5\n",
      "1233: a1 b1 a2 b3 a5\n",
      "1234: a1 b1 a2 b3 b4\n",
      "1235: a1 b1 a2 a4 b4\n",
      "1236: b1 a2 b2 b3 a4 b6 a7\n",
      "1237: b1 a2 a3 b3 a4 b6 a7\n",
      "1238: b1 a2 b2 b3 b4 a5 b5 b6 b7 a8 b8\n",
      "1239: b1 a2 b2 b3 b4 a5 a6 b6 b7 a8 b8\n",
      "1240: b1 a2 a3 b3 b4 a5 a6 b6 b7 a8 b8\n",
      "1241: b1 a2 a3 a4 b4 a5 a6 b6 b7 a8 b8\n",
      "1242: b1 a2 b2 a4 b4 a5 a6 b6 b7 a8 b8\n",
      "1243: b1 a2 b2 a4 b4 a5 a6 b6 b7 a8 a9\n",
      "1244: b1 a2 b2 a4 b4 a5 b5 b6 b7 a8 a9\n",
      "1245: b1 a2 a3 a4 b4 a5 b5 b6 b7 a8 a9\n",
      "1246: b1 a2 a3 a4 b4 a5 b5 b6 b7 a8 b8\n",
      "1247: b1 a2 b2 a4 b4 a5 b5 b6 b7 a8 b8\n",
      "1248: b1 a2 b2 a4 b4 a5 b5 a7 b7 a8 b8\n",
      "1249: b1 a2 b2 a4 b4 a5 a6 a7 b7 a8 b8\n",
      "1250: b1 a2 b2 a4 b4 a5 a6 a7 b7 a8 a9\n",
      "1251: b1 a2 b2 a4 b4 a5 b5 a7 b7 a8 a9\n",
      "1252: b1 a2 b2 b3 b4 a5 b5 a7 b7 a8 a9\n",
      "1253: b1 a2 b2 b3 b4 a5 b5 a7 b7 a8 b8\n",
      "1254: b1 a2 b2 b3 b4 a5 a6 a7 b7 a8 b8\n",
      "1255: b1 a2 b2 b3 b4 a5 a6 a7 b7 a8 a9\n",
      "1256: b1 a2 b2 b3 b4 a5 a6 b6 b7 a8 a9\n",
      "1257: b1 a2 a3 b3 b4 a5 a6 b6 b7 a8 a9\n",
      "1258: b1 a2 a3 a4 b4 a5 a6 b6 b7 a8 a9\n",
      "1259: b1 a2 a3 a4 b4 a5 a6 a7 b7 a8 a9\n",
      "1260: b1 a2 a3 a4 b4 a5 b5 a7 b7 a8 a9\n",
      "1261: b1 a2 a3 a4 b4 a5 b5 a7 b7 a8 b8\n",
      "1262: b1 a2 a3 a4 b4 a5 a6 a7 b7 a8 b8\n",
      "1263: b1 a2 a3 b3 b4 a5 a6 a7 b7 a8 b8\n",
      "1264: b1 a2 a3 b3 b4 a5 a6 a7 b7 a8 a9\n",
      "1265: b1 a2 a3 b3 b4 a5 b5 a7 b7 a8 a9\n",
      "1266: b1 a2 a3 b3 b4 a5 b5 b6 b7 a8 a9\n",
      "1267: b1 a2 a3 b3 b4 a5 b5 b6 b7 a8 b8\n",
      "1268: b1 a2 a3 b3 b4 a5 b5 a7 b7 a8 b8\n",
      "1269: b1 a2 b2 b3 b4 a5 b5 b6 b7 a8 a9\n",
      "1270: b1 a3 b4 a5 b6\n",
      "1271: b1 a3 b4 a5 a7\n",
      "1272: a2 a3 b4 a5 a7\n",
      "1273: a2 a3 b4 a5 b6\n",
      "1274: a2 b2 b4 a5 b6\n",
      "1275: a2 b2 b4 a5 a7\n",
      "1276: b1 b2 b4 a5 a7\n",
      "1277: b1 b2 b4 a5 b6\n",
      "1278: a1 b1 a2 b2 a3 a4 b5 a6 b6\n",
      "1279: a1 b1 a2 b2 a3 a4 b5 a6 a7\n",
      "1280: a1 b1 a2 b2 a3 b3 b5 a6 a7\n",
      "1281: a1 b1 a2 b2 a3 b3 b5 a6 b6\n",
      "1282: b1 a2 a3 b3 b6\n",
      "1283: b1 a2 a3 a4 b6\n",
      "1284: b1 a2 b2 a4 b6\n",
      "1285: b1 a2 b2 b3 b6\n",
      "1286: b1 a2 b2 b3 a7\n",
      "1287: b1 a2 b2 a4 a7\n",
      "1288: b1 a2 a3 a4 a7\n",
      "1289: b1 a2 a3 b3 a7\n",
      "1290: a2 a3 b3 a4 a5\n",
      "1291: b1 a3 b3 a4 a5\n",
      "1292: b1 b2 b3 a4 a5\n",
      "1293: a2 b2 b3 a4 a5\n",
      "1294: a2 b2 b3 a4 b4\n",
      "1295: a2 a3 b3 a4 b4\n",
      "1296: b1 a3 b3 a4 b4\n",
      "1297: b1 b2 b3 a4 b4\n",
      "1298: b1 b2 b3 a4 b6 a7 a8\n",
      "1299: b1 a3 b3 a4 b6 a7 a8\n",
      "1300: b1 a3 b3 a4 b6 a7 b7\n",
      "1301: a2 a3 b3 a4 b6 a7 b7\n",
      "1302: a2 b2 b3 a4 b6 a7 b7\n",
      "1303: a2 b2 b3 a4 b6 a7 a8\n",
      "1304: a2 a3 b3 a4 b6 a7 a8\n",
      "1305: b1 b2 b3 a4 b6 a7 b7\n",
      "1306: a1 b1 b2 b4 a5\n",
      "1307: a1 a2 b2 b4 a5\n",
      "1308: a1 a2 a3 b4 a5\n",
      "1309: a1 b1 a3 b4 a5\n",
      "1310: b3 a4 b6 a7 b7\n",
      "1311: b3 a4 b6 a7 a8\n",
      "1312: b1 a2 b4 a5 a6\n",
      "1313: b1 a2 b4 a5 b5\n",
      "1314: a1 a2 b4 b5 a6\n",
      "1315: a1 a2 a5 b5 a6\n",
      "1316: a1 b1 a5 b5 a6\n",
      "1317: a1 b1 b4 b5 a6\n",
      "1318: b1 a2 b3 b4 a5 b5 a6 b6 a7\n",
      "1319: b1 a2 a4 b4 a5 b5 a6 b6 a7\n",
      "1320: b1 a2 b3 b4 a5 a6 b6\n",
      "1321: b1 a2 b3 b4 a5 b5 b6\n",
      "1322: b1 a2 b3 b4 a5 b5 a7\n",
      "1323: b1 a2 a4 b4 a5 b5 a7\n",
      "1324: b1 a2 a4 b4 a5 b5 b6\n",
      "1325: b1 a2 a4 b4 a5 a6 b6\n",
      "1326: b1 a2 a4 b4 a5 a6 a7\n",
      "1327: b1 a2 b3 b4 a5 a6 a7\n",
      "1328: b1 a2 b2 a3 b3 a4 b4\n",
      "1329: b1 a2 b2 a3 b3 a4 a5\n",
      "1330: b1 a2 a3 a4 b4 a5 a7 b7 a8\n",
      "1331: b1 a2 a3 a4 b4 a5 b6 b7 a8\n",
      "1332: b1 a2 b2 a4 b4 a5 b6 b7 a8\n",
      "1333: b1 a2 b2 a4 b4 a5 a7 b7 a8\n",
      "1334: b1 a2 b2 b3 b4 a5 a7 b7 a8\n",
      "1335: b1 a2 b2 b3 b4 a5 b6 b7 a8\n",
      "1336: b1 a2 a3 b3 b4 a5 b6 b7 a8\n",
      "1337: b1 a2 a3 b3 b4 a5 a7 b7 a8\n",
      "1338: a1 b1 a6\n",
      "1339: a1 b1 b5\n",
      "1340: a1 a2 b5\n",
      "1341: a1 a2 a6\n",
      "1342: b2 a3 b4 a5 b6 a7 b7 b8 a9\n",
      "1343: b2 a3 b4 a5 b6 a7 a8 b8 a9\n",
      "1344: a1 b1 a2 b2 a3 a4 a6\n",
      "1345: a1 b1 a2 b2 a3 a4 b5\n",
      "1346: a1 b1 a2 b2 a3 b3 b5\n",
      "1347: a1 b1 a2 b2 a3 b3 a6\n",
      "1348: b1 a2 b3 a4 b5 a6 a7 b7 b8 a9 b9\n",
      "1349: b1 a2 b3 a4 b5 a6 b6 b7 b8 a9 b9\n",
      "1350: b1 a2 b3 a4 b5 a6 b6 b7 b8 a9 a10\n",
      "1351: b1 a2 b3 a4 b5 a6 b6 a8 b8 a9 a10\n",
      "1352: b1 a2 b3 a4 b5 a6 b6 a8 b8 a9 b9\n",
      "1353: b1 a2 b3 a4 b5 a6 a7 a8 b8 a9 b9\n",
      "1354: b1 a2 b3 a4 b5 a6 a7 a8 b8 a9 a10\n",
      "1355: b1 a2 b3 a4 b5 a6 a7 b7 b8 a9 a10\n",
      "1356: b1 a2 b2 a3 b5 a6 b6\n",
      "1357: b1 a2 b2 a3 b5 a6 a7\n",
      "1358: b1 a2 b3 b5 a6\n",
      "1359: b1 a2 a4 b5 a6\n",
      "1360: b1 a2 b3 a4 b5 a6 b6 a7 b7\n",
      "1361: b1 a2 b3 a4 b5 a6 b6 a7 a8\n",
      "1362: a1 a2 b2 a3 b3 a4 b5 a6 b6\n",
      "1363: a1 b1 b2 a3 b3 a4 b5 a6 b6\n",
      "1364: a1 b1 b2 a3 b3 a4 b5 a6 a7\n",
      "1365: a1 a2 b2 a3 b3 a4 b5 a6 a7\n",
      "1366: b1 a2 b2 a3 b3\n",
      "1367: b1 a2 b2 a3 a4\n",
      "1368: a1 b1 b2 a3 b3 a4 b5\n",
      "1369: a1 b1 b2 a3 b3 a4 a6\n",
      "1370: a1 a2 b2 a3 b3 a4 a6\n",
      "1371: a1 a2 b2 a3 b3 a4 b5\n",
      "1372: b2 a3 a5 a6 a7\n",
      "1373: b2 a3 a5 b5 a7\n",
      "1374: b2 a3 b4 b5 a7\n",
      "1375: b2 a3 b4 b5 b6\n",
      "1376: b2 a3 a5 b5 b6\n",
      "1377: b2 a3 a5 a6 b6\n",
      "1378: b2 a3 b4 a6 b6\n",
      "1379: b2 a3 b4 a6 a7\n",
      "1380: b3 a4 a5 a6 a7\n",
      "1381: b3 a4 a5 a6 b6\n",
      "1382: b3 a4 a5 b5 b6\n",
      "1383: b3 a4 b4 b5 b6\n",
      "1384: b3 a4 b4 b5 a7\n",
      "1385: b3 a4 a5 b5 a7\n",
      "1386: b3 a4 b4 a6 a7\n",
      "1387: b3 a4 b4 a6 b6\n",
      "1388: b1 a2 b2 a3 b3 b4 a6\n",
      "1389: b1 a2 b2 a3 a4 b4 a6\n",
      "1390: b1 a2 b2 a3 a4 a5 a6\n",
      "1391: b1 a2 b2 a3 a4 a5 b5\n",
      "1392: b1 a2 b2 a3 b3 a5 b5\n",
      "1393: b1 a2 b2 a3 b3 b4 b5\n",
      "1394: b1 a2 b2 a3 a4 b4 b5\n",
      "1395: b1 a2 b2 a3 b3 a5 a6\n",
      "1396: b1 a2 b4 a5 b6 a7 b7 b8 a9\n",
      "1397: b1 a2 b4 a5 b6 a7 a8 b8 a9\n",
      "1398: b3 b4 a6\n",
      "1399: b3 a5 a6\n",
      "1400: a4 a5 a6\n",
      "1401: a4 a5 b5\n",
      "1402: b3 a5 b5\n",
      "1403: b3 b4 b5\n",
      "1404: a4 b4 b5\n",
      "1405: a4 b4 a6\n",
      "1406: b1 a2 b3 b4 a6 b6 a7\n",
      "1407: b1 a2 a4 b4 a6 b6 a7\n",
      "1408: b1 a2 a4 b4 b5 b6 a7\n",
      "1409: b1 a2 a4 a5 b5 b6 a7\n",
      "1410: b1 a2 a4 a5 a6 b6 a7\n",
      "1411: b1 a2 b3 a5 a6 b6 a7\n",
      "1412: b1 a2 b3 a5 b5 b6 a7\n",
      "1413: b1 a2 b3 b4 b5 b6 a7\n",
      "1414: b1 b2 b3 a4 b5 a6 a8\n",
      "1415: b1 b2 b3 a4 b5 a6 b7\n",
      "1416: a2 b2 b3 a4 b5 a6 b7\n",
      "1417: a2 a3 b3 a4 b5 a6 b7\n",
      "1418: a2 a3 b3 a4 b5 a6 a8\n",
      "1419: a2 b2 b3 a4 b5 a6 a8\n",
      "1420: b1 a3 b3 a4 b5 a6 a8\n",
      "1421: b1 a3 b3 a4 b5 a6 b7\n",
      "1422: b2 a3 b4 a5 b5 a6 b6\n",
      "1423: b2 a3 b4 a5 b5 a6 a7\n",
      "1424: b2 a3 b4 a5 a6 b6 b7 a8 b8\n",
      "1425: b2 a3 b4 a5 a6 a7 b7 a8 b8\n",
      "1426: b2 a3 b4 a5 a6 a7 b7 a8 a9\n",
      "1427: b2 a3 b4 a5 b5 a7 b7 a8 a9\n",
      "1428: b2 a3 b4 a5 b5 b6 b7 a8 a9\n",
      "1429: b2 a3 b4 a5 b5 b6 b7 a8 b8\n",
      "1430: b2 a3 b4 a5 b5 a7 b7 a8 b8\n",
      "1431: b2 a3 b4 a5 a6 b6 b7 a8 a9\n",
      "1432: b2 a3 a5\n",
      "1433: b2 a3 b4\n",
      "1434: a1 b1 a3 b3 a4\n",
      "1435: a1 a2 a3 b3 a4\n",
      "1436: a1 a2 b2 b3 a4\n",
      "1437: a1 b1 b2 b3 a4\n",
      "1438: b2 a3 b3 a4 b5 a6 b6\n",
      "1439: b2 a3 b3 a4 b5 a6 a7\n",
      "1440: a1 b1 b3\n",
      "1441: a1 a2 b3\n",
      "1442: a1 a2 a4\n",
      "1443: a1 b1 a4\n",
      "1444: b1 b2 a3 b5 a6\n",
      "1445: a2 b2 a3 b5 a6\n",
      "1446: b2 b3 a4 b4 a6\n",
      "1447: b2 b3 a4 b4 b5\n",
      "1448: a3 b3 a4 b4 b5\n",
      "1449: a3 b3 a4 a5 b5\n",
      "1450: a3 b3 a4 a5 a6\n",
      "1451: a3 b3 a4 b4 a6\n",
      "1452: b2 b3 a4 a5 a6\n",
      "1453: b2 b3 a4 a5 b5\n",
      "1454: b1 a2 b3 a4 b6 b7 a8\n",
      "1455: b1 a2 b3 a4 a7 b7 a8\n",
      "1456: b1 a2 a3\n",
      "1457: b1 a2 b2\n",
      "1458: b1 a2 b3 a4 b4 a6 b6 a7 b8 a9 b9\n",
      "1459: b1 a2 b3 a4 b4 a6 b6 a7 b8 a9 a10\n",
      "1460: b1 a2 b3 a4 b4 b5 b6 a7 b8 a9 a10\n",
      "1461: b1 a2 b3 a4 a5 b5 b6 a7 b8 a9 a10\n",
      "1462: b1 a2 b3 a4 a5 b5 b6 a7 b8 a9 b9\n",
      "1463: b1 a2 b3 a4 b4 b5 b6 a7 b8 a9 b9\n",
      "1464: b1 a2 b3 a4 a5 a6 b6 a7 b8 a9 b9\n",
      "1465: b1 a2 b3 a4 a5 a6 b6 a7 b8 a9 a10\n",
      "1466: b1 a2 b3 a4 a5 b5 b6 b7 a8\n",
      "1467: b1 a2 b3 a4 b4 b5 b6 b7 a8\n",
      "1468: b1 a2 b3 a4 b4 a6 b6 b7 a8\n",
      "1469: b1 a2 b3 a4 b4 a6 a7 b7 a8\n",
      "1470: b1 a2 b3 a4 b4 b5 a7 b7 a8\n",
      "1471: b1 a2 b3 a4 a5 b5 a7 b7 a8\n",
      "1472: b1 a2 b3 a4 a5 a6 a7 b7 a8\n",
      "1473: b1 a2 b3 a4 a5 a6 b6 b7 a8\n",
      "1474: b1 a2 b6 a7 b7\n",
      "1475: b1 a2 b6 a7 a8\n",
      "1476: b2 a3 b4 a5 b6 b7 a8\n",
      "1477: b2 a3 b4 a5 a7 b7 a8\n",
      "1478: a2 b2 a3 b3 a4 b4 b5 a6 b6\n",
      "1479: b1 b2 a3 b3 a4 b4 b5 a6 b6\n",
      "1480: b1 b2 a3 b3 a4 b4 b5 a6 a7\n",
      "1481: a2 b2 a3 b3 a4 b4 b5 a6 a7\n",
      "1482: a2 b2 a3 b3 a4 a5 b5 a6 a7\n",
      "1483: a2 b2 a3 b3 a4 a5 b5 a6 b6\n",
      "1484: b1 b2 a3 b3 a4 a5 b5 a6 b6\n",
      "1485: b1 b2 a3 b3 a4 a5 b5 a6 a7\n",
      "1486: b1 b2 a3 b4 a5\n",
      "1487: a2 b2 a3 b4 a5\n",
      "1488: a2 a3 b4 a5 a6 b6 a7\n",
      "1489: a2 a3 b4 a5 b5 b6 a7\n",
      "1490: a2 b2 b4 a5 b5 b6 a7\n",
      "1491: a2 b2 b4 a5 a6 b6 a7\n",
      "1492: b1 b2 b4 a5 a6 b6 a7\n",
      "1493: b1 a3 b4 a5 a6 b6 a7\n",
      "1494: b1 a3 b4 a5 b5 b6 a7\n",
      "1495: b1 b2 b4 a5 b5 b6 a7\n",
      "1496: a1 b1 a2 b2 a6\n",
      "1497: a1 b1 a2 b2 b5\n",
      "1498: a1 b1 a2 a3 b5\n",
      "1499: a1 b1 a2 a3 a6\n",
      "1500: b1 a2 b2 b4 b5 a6 a7\n",
      "1501: b1 a2 b2 a5 b5 a6 a7\n",
      "1502: b1 a2 b2 a5 b5 a6 b6\n",
      "1503: b1 a2 a3 a5 b5 a6 b6\n",
      "1504: b1 a2 a3 a5 b5 a6 a7\n",
      "1505: b1 a2 a3 b4 b5 a6 a7\n",
      "1506: b1 a2 a3 b4 b5 a6 b6\n",
      "1507: b1 a2 b2 b4 b5 a6 b6\n",
      "1508: a1 a4 a6\n",
      "1509: a1 a4 b5\n",
      "1510: a1 b3 b5\n",
      "1511: a1 b3 a6\n",
      "1512: b1 a2 b3 a4 a6 b6 b7 a8 b8\n",
      "1513: b1 a2 b3 a4 b5 b6 b7 a8 b8"
     ]
    },
    {
     "name": "stdout",
     "output_type": "stream",
     "text": [
      "\n",
      "1514: b1 a2 b3 a4 b5 a7 b7 a8 b8\n",
      "1515: b1 a2 b3 a4 b5 a7 b7 a8 a9\n",
      "1516: b1 a2 b3 a4 a6 a7 b7 a8 a9\n",
      "1517: b1 a2 b3 a4 a6 b6 b7 a8 a9\n",
      "1518: b1 a2 b3 a4 b5 b6 b7 a8 a9\n",
      "1519: b1 a2 b3 a4 a6 a7 b7 a8 b8\n",
      "1520: b1 a2 b5 a6 b7 a8 b8\n",
      "1521: b1 a2 b5 a6 b7 a8 a9\n",
      "1522: b1 a2 b3 a4 b4 b6 a7\n",
      "1523: b1 a2 b3 a4 a5 b6 a7\n",
      "1524: b2 a3 b3 b4 a5\n",
      "1525: b2 a3 a4 b4 a5\n",
      "1526: a1 a4 b4 b5 a6\n",
      "1527: a1 b3 b4 b5 a6\n",
      "1528: a1 b3 a5 b5 a6\n",
      "1529: a1 a4 a5 b5 a6\n",
      "1530: b2 a3 b5 a6 b7\n",
      "1531: b2 a3 b5 a6 a8\n",
      "1532: a1 b1 a2 b2 a3 b4 a5\n",
      "1533: b1 a2 a3 b4 b5\n",
      "1534: b1 a2 a3 b4 a6\n",
      "1535: b1 a2 a3 a5 a6\n",
      "1536: b1 a2 b2 a5 a6\n",
      "1537: b1 a2 b2 b4 a6\n",
      "1538: b1 a2 b2 b4 b5\n",
      "1539: b1 a2 b2 a5 b5\n",
      "1540: b1 a2 a3 a5 b5\n",
      "1541: b2 b5 a6\n",
      "1542: a3 b5 a6\n",
      "1543: b2 a3 b3 b5 a6\n",
      "1544: b2 a3 a4 b5 a6\n",
      "1545: b2 b3 a4 b4 a5 b5 a6\n",
      "1546: a3 b3 a4 b4 a5 b5 a6\n",
      "1547: b1 b2 a4 b4 a5 b5 a6\n",
      "1548: b1 a3 a4 b4 a5 b5 a6\n",
      "1549: b1 a3 b3 b4 a5 b5 a6\n",
      "1550: a2 a3 b3 b4 a5 b5 a6\n",
      "1551: a2 b2 b3 b4 a5 b5 a6\n",
      "1552: b1 b2 b3 b4 a5 b5 a6\n",
      "1553: a2 b2 a4 b4 a5 b5 a6\n",
      "1554: a2 a3 a4 b4 a5 b5 a6\n",
      "1555: b3 a4 b4 a5 b5\n",
      "1556: b3 a4 b4 a5 a6\n",
      "1557: b2 b3 a4\n",
      "1558: a3 b3 a4\n",
      "1559: a1 b1 a2 b2 a3 b3 a4\n",
      "1560: b2 a3 b4 b5 a6 b6 a7\n",
      "1561: b2 a3 a5 b5 a6 b6 a7\n",
      "1562: b1 a2 b2 a4 b4 a5 b6 a7 b8 a9 b9\n",
      "1563: b1 a2 b2 a4 b4 a5 b6 a7 b8 a9 a10\n",
      "1564: b1 a2 b2 b3 b4 a5 b6 a7 b8 a9 a10\n",
      "1565: b1 a2 b2 b3 b4 a5 b6 a7 b8 a9 b9\n",
      "1566: b1 a2 a3 b3 b4 a5 b6 a7 b8 a9 b9\n",
      "1567: b1 a2 a3 b3 b4 a5 b6 a7 b8 a9 a10\n",
      "1568: b1 a2 a3 a4 b4 a5 b6 a7 b8 a9 a10\n",
      "1569: b1 a2 a3 a4 b4 a5 b6 a7 b8 a9 b9\n",
      "1570: b1 a2 b3 a4 b4 b7 a8\n",
      "1571: b1 a2 b3 a4 a5 b7 a8\n",
      "1572: b1 a2 b3 a4 b5 a6 b8\n",
      "1573: b1 a2 b3 a4 b5 a6 a9\n",
      "1574: b1 a2 b3 a4 b5 a6 b7 a8 b8 b9 a10\n",
      "1575: b1 a2 b3 a4 b5 a6 b7 a8 a9 b9 a10\n",
      "1576: b2 a3 a4 b4 b6\n",
      "1577: b2 a3 b3 b4 b6\n",
      "1578: b2 a3 b3 a5 b6\n",
      "1579: b2 a3 a4 a5 b6\n",
      "1580: b2 a3 a4 a5 a7\n",
      "1581: b2 a3 a4 b4 a7\n",
      "1582: b2 a3 b3 b4 a7\n",
      "1583: b2 a3 b3 a5 a7\n",
      "1584: b1 a2 b2 a3 b4 a5 b6 a7 b7\n",
      "1585: b1 a2 b2 a3 b4 a5 b6 a7 a8\n",
      "1586: b1 a2 a4 a5 a7\n",
      "1587: b1 a2 a4 a5 b6\n",
      "1588: b1 a2 a4 b4 b6\n",
      "1589: b1 a2 b3 b4 b6\n",
      "1590: b1 a2 b3 a5 b6\n",
      "1591: b1 a2 b3 a5 a7\n",
      "1592: b1 a2 b3 b4 a7\n",
      "1593: b1 a2 a4 b4 a7\n",
      "1594: b1 b4 a5 b5 a6\n",
      "1595: a2 b4 a5 b5 a6\n",
      "1596: b1 a2 b3 b6 a7\n",
      "1597: b1 a2 a4 b6 a7\n",
      "1598: b4 b5 a6\n",
      "1599: a5 b5 a6\n",
      "1600: b1 a2 b3 a4 b5 b6 a7 b7 a8\n",
      "1601: b1 a2 b3 a4 a6 b6 a7 b7 a8\n",
      "1602: b4 a5 b6 a7 b7\n",
      "1603: b4 a5 b6 a7 a8\n",
      "1604: b1 a2 b4 a5 b6 a7 b8\n",
      "1605: b1 a2 b4 a5 b6 a7 a9\n",
      "1606: b3 a4 a5 b5 b6 a7 b7\n",
      "1607: b3 a4 a5 a6 b6 a7 b7\n",
      "1608: b3 a4 a5 a6 b6 a7 a8\n",
      "1609: b3 a4 b4 a6 b6 a7 a8\n",
      "1610: b3 a4 b4 b5 b6 a7 a8\n",
      "1611: b3 a4 a5 b5 b6 a7 a8\n",
      "1612: b3 a4 b4 b5 b6 a7 b7\n",
      "1613: b3 a4 b4 a6 b6 a7 b7\n",
      "1614: b2 a3 a5 b5 b6 a7 b7\n",
      "1615: b2 a3 a5 a6 b6 a7 b7\n",
      "1616: b2 a3 b4 a6 b6 a7 b7\n",
      "1617: b2 a3 b4 b5 b6 a7 b7\n",
      "1618: b2 a3 b4 b5 b6 a7 a8\n",
      "1619: b2 a3 a5 b5 b6 a7 a8\n",
      "1620: b2 a3 a5 a6 b6 a7 a8\n",
      "1621: b2 a3 b4 a6 b6 a7 a8\n",
      "1622: b1 a2 b4 a5 a6 b6 b7 a8 b8\n",
      "1623: b1 a2 b4 a5 a6 b6 b7 a8 a9\n",
      "1624: b1 a2 b4 a5 b5 b6 b7 a8 a9\n",
      "1625: b1 a2 b4 a5 b5 b6 b7 a8 b8\n",
      "1626: b1 a2 b4 a5 b5 a7 b7 a8 b8\n",
      "1627: b1 a2 b4 a5 b5 a7 b7 a8 a9\n",
      "1628: b1 a2 b4 a5 a6 a7 b7 a8 a9\n",
      "1629: b1 a2 b4 a5 a6 a7 b7 a8 b8\n",
      "1630: b1 a2 b5 a6 b6 b7 a8\n",
      "1631: b1 a2 b5 a6 a7 b7 a8\n",
      "1632: b2 a3 b6\n",
      "1633: b2 a3 a7\n",
      "1634: b1 a2 b2 a3 b4 a5 b5 b6 a7\n",
      "1635: b1 a2 b2 a3 b4 a5 a6 b6 a7\n",
      "1636: b3 a4 b5 a6 b7\n",
      "1637: b3 a4 b5 a6 a8\n",
      "1638: b2 b4 a5\n",
      "1639: a3 b4 a5\n",
      "1640: b4 a5 b5 b6 a7\n",
      "1641: b4 a5 a6 b6 a7\n",
      "1642: b1 a2 b2 a3 b4 a5 b6\n",
      "1643: b1 a2 b2 a3 b4 a5 a7\n",
      "1644: a1 b1 a2 b3 a4 b4 a5\n",
      "1645: b1 a2 a3 b3 b4 a5 b7 a8 b8\n",
      "1646: b1 a2 b2 b3 b4 a5 b7 a8 b8\n",
      "1647: b1 a2 b2 a4 b4 a5 b7 a8 b8\n",
      "1648: b1 a2 b2 a4 b4 a5 b7 a8 a9\n",
      "1649: b1 a2 a3 a4 b4 a5 b7 a8 a9\n",
      "1650: b1 a2 a3 b3 b4 a5 b7 a8 a9\n",
      "1651: b1 a2 b2 b3 b4 a5 b7 a8 a9\n",
      "1652: b1 a2 a3 a4 b4 a5 b7 a8 b8\n",
      "1653: b1 a2 b4 b5 a6 b6 a7\n",
      "1654: b1 a2 a5 b5 a6 b6 a7\n",
      "1655: b1 b2 a3 b3 a4 b4 a5 b5 a6\n",
      "1656: a2 b2 a3 b3 a4 b4 a5 b5 a6\n",
      "1657: b5 a6 b6\n",
      "1658: b5 a6 a7\n",
      "1659: b2 a3 b6 a7 b7\n",
      "1660: b2 a3 b6 a7 a8\n",
      "1661: a1 b2 a3\n",
      "1662: b1 a2 b3 a4 b4 a5 b6 a7 b7\n",
      "1663: b1 a2 b3 a4 b4 a5 b6 a7 a8\n",
      "1664: a1 b3 a4\n",
      "1665: b1 a2 b2 a3 b3 b4 a5 b5 a6\n",
      "1666: b1 a2 b2 a3 a4 b4 a5 b5 a6\n",
      "1667: a1 b1 a2\n",
      "1668: b1 a2 b5 a6 b7\n",
      "1669: b1 a2 b5 a6 a8\n",
      "1670: b1 a2 b4 a5 b5 a6 b6\n",
      "1671: b1 a2 b4 a5 b5 a6 a7\n",
      "1672: a1 b4 a5\n",
      "1673: a1 a4 b5 a6 a7\n",
      "1674: a1 b3 b5 a6 a7\n",
      "1675: a1 b3 b5 a6 b6\n",
      "1676: a1 a4 b5 a6 b6\n",
      "1677: a1 b5 a6\n",
      "1678: b2 a3 b5 a6 b7 a8 b8\n",
      "1679: b2 a3 b5 a6 b7 a8 a9\n",
      "1680: b1 a2 b2 b5 a6 b6 a7\n",
      "1681: b1 a2 a3 b5 a6 b6 a7\n",
      "1682: b3 b4 a5 b5 a6\n",
      "1683: a4 b4 a5 b5 a6\n",
      "1684: b3 a4 b5 a6 b7 a8 b8\n",
      "1685: b3 a4 b5 a6 b7 a8 a9\n",
      "1686: b2 a3 b5 a6 b6 b7 a8\n",
      "1687: b2 a3 b5 a6 a7 b7 a8\n",
      "1688: b1 a2 b2 b3 a4 b5 a6\n",
      "1689: b1 a2 a3 b3 a4 b5 a6\n",
      "1690: b3 a4 b5 b6 a7\n",
      "1691: b3 a4 a6 b6 a7\n",
      "1692: b1 a2 b3 a4 b6 a7 b7 b8 a9\n",
      "1693: b1 a2 b3 a4 b6 a7 a8 b8 a9\n",
      "1694: b2 a3 b4 a5 b7\n",
      "1695: b2 a3 b4 a5 a8\n",
      "1696: b1 a2 b3 a4 b5 a6 b7 b8 a9\n",
      "1697: b1 a2 b3 a4 b5 a6 a8 b8 a9\n",
      "1698: b4 a5 b6\n",
      "1699: b4 a5 a7\n",
      "1700: b1 a2 b3 a4 b6 a7 b8\n",
      "1701: b1 a2 b3 a4 b6 a7 a9\n",
      "1702: b2 a3 b3 a4 b4 b5 a6\n",
      "1703: b2 a3 b3 a4 a5 b5 a6\n",
      "1704: a1 b2 a3 b3 a4 b4 a5\n"
     ]
    }
   ],
   "source": [
    "comm = c(H, psi)\n",
    "subspace, matrixrows = sparse_find_subspace(comm, Jpart)\n",
    "print_subspace(subspace)\n",
    "cvector = build_vector_to_cancel(comm, subspace)\n"
   ]
  },
  {
   "cell_type": "code",
   "execution_count": 21,
   "metadata": {
    "autoscroll": "json-false",
    "collapsed": false,
    "ein.tags": [
     "worksheet-0"
    ]
   },
   "outputs": [
    {
     "name": "stdout",
     "output_type": "stream",
     "text": [
      "[[1, 3, 5, 7], [0, 2, 4, 6], [9, 11, 13, 15], [8, 10, 12, 14], [17, 19, 21, 23, 25, 27, 29, 31], [16, 18, 20, 22, 24, 26, 28, 30], [33, 35, 37, 39, 41, 43, 45, 47], [32, 34, 36, 38, 40, 42, 44, 46], [49], [48], [51, 53, 55, 57], [50, 52, 54, 56], [59, 61], [58, 60], [65, 63], [64, 62], [67, 69], [66, 68], [71], [70], [73, 75, 77, 79], [72, 74, 76, 78], [81], [80], [83, 85, 87, 89], [82, 84, 86, 88], [91, 93], [90, 92], [95], [94], [97, 99, 101, 103], [96, 98, 100, 102], [105, 107, 109, 111, 113, 115, 116, 117], [104, 106, 108, 110, 112, 114, 118, 119], [129, 131, 134, 135, 121, 123, 125, 127], [128, 130, 132, 133, 120, 122, 124, 126], [137, 139, 141, 143], [136, 138, 140, 142], [145, 147], [144, 146], [161, 163, 149, 151, 153, 155, 157, 159], [160, 162, 148, 150, 152, 154, 156, 158], [165], [164], [167, 169, 171, 173, 175, 177, 179, 181], [166, 168, 170, 172, 174, 176, 178, 180], [183], [182], [185, 187, 189, 191], [184, 186, 188, 190], [193, 195, 197, 199, 201, 203, 205, 207, 209, 211, 213, 215, 217, 218, 220, 222], [192, 194, 196, 198, 200, 202, 204, 206, 208, 210, 212, 214, 216, 219, 221, 223], [225, 227, 229, 231], [224, 226, 228, 230], [233, 235, 237, 239, 241, 243, 246, 247], [232, 234, 236, 238, 240, 242, 244, 245], [249, 251, 253, 254], [248, 250, 252, 255], [257, 259, 261, 263], [256, 258, 260, 262], [265, 267, 269, 271], [264, 266, 268, 270], [289, 292, 294, 297, 299, 301, 302, 303, 273, 275, 277, 279, 281, 283, 285, 287], [288, 290, 291, 293, 295, 296, 298, 300, 272, 274, 276, 278, 280, 282, 284, 286], [305, 307], [304, 306], [309, 311, 313, 315], [308, 310, 312, 314], [317], [316], [321, 323, 325, 319], [320, 322, 324, 318], [327, 329, 331, 333, 335, 337, 339, 340], [326, 328, 330, 332, 334, 336, 338, 341], [343], [342], [345], [344], [353, 347, 349, 351], [352, 346, 348, 350], [355, 357, 359, 361], [354, 356, 358, 360], [369, 363, 365, 367], [368, 362, 364, 366], [371], [370], [373, 375, 377, 379], [372, 374, 376, 378], [385, 387, 389, 391, 393, 394, 381, 383], [384, 386, 388, 390, 392, 395, 380, 382], [401, 403, 397, 399], [400, 402, 396, 398], [405, 407, 409, 410], [404, 406, 408, 411], [413, 415], [412, 414], [417, 419, 421, 423, 425, 427, 429, 430], [416, 418, 420, 422, 424, 426, 428, 431], [433, 435], [432, 434], [437, 439, 441, 443], [436, 438, 440, 442], [445, 447], [444, 446], [449, 451, 453, 455], [448, 450, 452, 454], [481, 483, 484, 485, 457, 459, 461, 463, 465, 467, 469, 471, 473, 475, 477, 479], [480, 482, 486, 487, 456, 458, 460, 462, 464, 466, 468, 470, 472, 474, 476, 478], [489, 491, 493, 495, 497, 499, 501, 503], [488, 490, 492, 494, 496, 498, 500, 502], [505, 507, 509, 511], [504, 506, 508, 510], [513, 515], [512, 514], [517], [516], [519, 521, 523, 525], [518, 520, 522, 524], [529, 527], [528, 526], [545, 531, 533, 535, 537, 539, 541, 543], [544, 530, 532, 534, 536, 538, 540, 542], [577, 547, 549, 551, 553, 555, 557, 559, 561, 563, 565, 567, 569, 571, 573, 575], [576, 546, 548, 550, 552, 554, 556, 558, 560, 562, 564, 566, 568, 570, 572, 574], [579], [578], [581, 583, 585, 587], [580, 582, 584, 586], [589], [588], [593, 595, 597, 591], [592, 594, 596, 590], [601, 599], [600, 598], [603, 605], [602, 604], [609, 607], [608, 606], [611, 613, 615, 616], [610, 612, 614, 617], [625, 619, 621, 623], [624, 618, 620, 622], [627, 629], [626, 628], [631, 633, 635, 637], [630, 632, 634, 636], [639], [638], [641], [640], [643, 645, 647, 649], [642, 644, 646, 648], [651, 653], [650, 652], [657, 655], [656, 654], [659, 661, 663, 665], [658, 660, 662, 664], [667, 669], [666, 668], [673, 675, 676, 671], [672, 674, 677, 670], [681, 679], [680, 678], [689, 683, 685, 687], [688, 682, 684, 686], [691, 693], [690, 692], [697, 695], [696, 694], [705, 699, 701, 703], [704, 698, 700, 702], [707, 709], [706, 708], [711, 713, 715, 717], [710, 712, 714, 716], [719], [718], [736, 738, 740, 742, 744, 746, 748, 750, 721, 723, 725, 727, 729, 731, 733, 735], [737, 739, 741, 743, 745, 747, 749, 751, 720, 722, 724, 726, 728, 730, 732, 734], [753, 755], [752, 754], [757, 759, 761, 763], [756, 758, 760, 762], [765, 767], [764, 766], [769], [768], [771, 773, 775, 777], [770, 772, 774, 776], [779, 781], [778, 780], [785, 783], [784, 782], [787, 789], [786, 788], [791, 793, 795, 797], [790, 792, 794, 796], [801, 803, 804, 799], [800, 802, 805, 798], [807], [806], [809, 811], [808, 810], [813], [812], [817, 819, 820, 815], [816, 818, 821, 814], [823, 825, 827, 829], [822, 824, 826, 828], [831], [830], [833, 835], [832, 834], [837, 839], [836, 838], [841, 843], [840, 842], [845], [844], [849, 851, 853, 847], [848, 850, 852, 846], [857, 855], [856, 854], [859, 861], [858, 860], [865, 867, 869, 863], [864, 866, 868, 862], [871, 873, 875, 877], [870, 872, 874, 876], [897, 899, 901, 903, 905, 906, 908, 879, 881, 883, 885, 887, 889, 891, 893, 895], [896, 898, 900, 902, 904, 907, 909, 878, 880, 882, 884, 886, 888, 890, 892, 894], [913, 915, 917, 911], [912, 914, 916, 910], [929, 931, 933, 935, 936, 938, 940, 942, 944, 946, 948, 919, 921, 923, 925, 927], [928, 930, 932, 934, 937, 939, 941, 943, 945, 947, 949, 918, 920, 922, 924, 926], [951, 953, 955, 957], [950, 952, 954, 956], [961, 959], [960, 958], [963, 965, 967, 968], [962, 964, 966, 969], [977, 971, 973, 975], [976, 970, 972, 974], [979, 981, 983, 984], [978, 980, 982, 985], [993, 987, 989, 991], [992, 986, 988, 990], [995, 997, 999, 1001], [994, 996, 998, 1000], [1009, 1003, 1005, 1007], [1008, 1002, 1004, 1006], [1011], [1010], [1013, 1015, 1017, 1018], [1012, 1014, 1016, 1019], [1025, 1027, 1021, 1023], [1024, 1026, 1020, 1022], [1029, 1031], [1028, 1030], [1033], [1032], [1041, 1035, 1037, 1039], [1040, 1034, 1036, 1038], [1043], [1042], [1045, 1047, 1049, 1050], [1044, 1046, 1048, 1051], [1057, 1059, 1053, 1055], [1056, 1058, 1052, 1054], [1061, 1063, 1065, 1067], [1060, 1062, 1064, 1066], [1069], [1068], [1073, 1075, 1077, 1071], [1072, 1074, 1076, 1070], [1081, 1079], [1080, 1078], [1083], [1082], [1089, 1090, 1085, 1087], [1088, 1091, 1084, 1086], [1093], [1092], [1095, 1097, 1099, 1101], [1094, 1096, 1098, 1100], [1105, 1107, 1108, 1103], [1104, 1106, 1109, 1102], [1113, 1111], [1112, 1110], [1115, 1117], [1114, 1116], [1119], [1118], [1121, 1123, 1125, 1127], [1120, 1122, 1124, 1126], [1129], [1128], [1131, 1133], [1130, 1132], [1135], [1134], [1137], [1136], [1139, 1141], [1138, 1140], [1143, 1145, 1147, 1148], [1142, 1144, 1146, 1149], [1153, 1155, 1157, 1151], [1152, 1154, 1156, 1150], [1159], [1158], [1161], [1160], [1163, 1165, 1167, 1169, 1171, 1173, 1175, 1176], [1162, 1164, 1166, 1168, 1170, 1172, 1174, 1177], [1185, 1179, 1181, 1183], [1184, 1178, 1180, 1182], [1187, 1189, 1191, 1193], [1186, 1188, 1190, 1192], [1195], [1194], [1201, 1203, 1197, 1199], [1200, 1202, 1196, 1198], [1205, 1207, 1209, 1211], [1204, 1206, 1208, 1210], [1213], [1212], [1215], [1214], [1217], [1216], [1219, 1221], [1218, 1220], [1223], [1222], [1225, 1227, 1229, 1231], [1224, 1226, 1228, 1230], [1233, 1235], [1232, 1234], [1237], [1236], [1249, 1251, 1253, 1255, 1257, 1259, 1261, 1263, 1265, 1267, 1269, 1239, 1241, 1243, 1245, 1247], [1248, 1250, 1252, 1254, 1256, 1258, 1260, 1262, 1264, 1266, 1268, 1238, 1240, 1242, 1244, 1246], [1271, 1273, 1275, 1277], [1270, 1272, 1274, 1276], [1281, 1279], [1280, 1278], [1283, 1285, 1287, 1289], [1282, 1284, 1286, 1288], [1297, 1291, 1293, 1295], [1296, 1290, 1292, 1294], [1299, 1301, 1303, 1305], [1298, 1300, 1302, 1304], [1307, 1309], [1306, 1308], [1311], [1310], [1313], [1312], [1315, 1317], [1314, 1316], [1319], [1318], [1321, 1323, 1325, 1327], [1320, 1322, 1324, 1326], [1329], [1328], [1331, 1333, 1335, 1337], [1330, 1332, 1334, 1336], [1339, 1341], [1338, 1340], [1343], [1342], [1345, 1347], [1344, 1346], [1349, 1351, 1353, 1355], [1348, 1350, 1352, 1354], [1357], [1356], [1359], [1358], [1361], [1360], [1363, 1365], [1362, 1364], [1367], [1366], [1369, 1371], [1368, 1370], [1377, 1379, 1373, 1375], [1376, 1378, 1372, 1374], [1381, 1383, 1385, 1386], [1380, 1382, 1384, 1387], [1393, 1395, 1389, 1391], [1392, 1394, 1388, 1390], [1397], [1396], [1399, 1401, 1403, 1405], [1398, 1400, 1402, 1404], [1409, 1411, 1413, 1407], [1408, 1410, 1412, 1406], [1415, 1417, 1419, 1420], [1414, 1416, 1418, 1421], [1423], [1422], [1425, 1427, 1429, 1431], [1424, 1426, 1428, 1430], [1433], [1432], [1435, 1437], [1434, 1436], [1439], [1438], [1441, 1443], [1440, 1442], [1445], [1444], [1447, 1449, 1451, 1452], [1446, 1448, 1450, 1453], [1455], [1454], [1457], [1456], [1459, 1461, 1463, 1464], [1458, 1460, 1462, 1465], [1473, 1467, 1469, 1471], [1472, 1466, 1468, 1470], [1475], [1474], [1477], [1476], [1479, 1481, 1483, 1485], [1478, 1480, 1482, 1484], [1487], [1486], [1489, 1491, 1493, 1495], [1488, 1490, 1492, 1494], [1497, 1499], [1496, 1498], [1505, 1507, 1501, 1503], [1504, 1506, 1500, 1502], [1509, 1511], [1508, 1510], [1513, 1515, 1517, 1519], [1512, 1514, 1516, 1518], [1521], [1520], [1523], [1522], [1525], [1524], [1529, 1527], [1528, 1526], [1531], [1530], [1536, 1538, 1540, 1534], [1537, 1539, 1533, 1535], [1542], [1541], [1544], [1543], [1546], [1545], [1552, 1553, 1548, 1550], [1554, 1547, 1549, 1551], [1556], [1555], [1558], [1557], [1561], [1560], [1569, 1563, 1565, 1567], [1568, 1562, 1564, 1566], [1571], [1570], [1573], [1572], [1575], [1574], [1577, 1579, 1581, 1583], [1576, 1578, 1580, 1582], [1585], [1584], [1587, 1589, 1591, 1593], [1586, 1588, 1590, 1592], [1595], [1594], [1597], [1596], [1599], [1598], [1601], [1600], [1603], [1602], [1605], [1604], [1607, 1609, 1611, 1612], [1606, 1608, 1610, 1613], [1617, 1619, 1621, 1615], [1616, 1618, 1620, 1614], [1623, 1625, 1627, 1629], [1622, 1624, 1626, 1628], [1631], [1630], [1633], [1632], [1635], [1634], [1637], [1636], [1639], [1638], [1641], [1640], [1643], [1642], [1648, 1650, 1652, 1646], [1649, 1651, 1645, 1647], [1654], [1653], [1656], [1655], [1658], [1657], [1660], [1659], [1663], [1662], [1666], [1665], [1669], [1668], [1671], [1670], [1674, 1676], [1673, 1675], [1679], [1678], [1681], [1680], [1683], [1682], [1685], [1684], [1687], [1686], [1689], [1688], [1691], [1690], [1693], [1692], [1695], [1694], [1697], [1696], [1699], [1698], [1701], [1700], [1703], [1702]]\n",
      "1/564"
     ]
    },
    {
     "name": "stdout",
     "output_type": "stream",
     "text": [
      "\r",
      "2/564\r",
      "3/564"
     ]
    },
    {
     "name": "stdout",
     "output_type": "stream",
     "text": [
      "\r",
      "4/564\r",
      "5/564"
     ]
    },
    {
     "name": "stdout",
     "output_type": "stream",
     "text": [
      "\r",
      "6/564"
     ]
    },
    {
     "name": "stdout",
     "output_type": "stream",
     "text": [
      "\r",
      "7/564"
     ]
    },
    {
     "name": "stdout",
     "output_type": "stream",
     "text": [
      "\r",
      "8/564"
     ]
    },
    {
     "name": "stdout",
     "output_type": "stream",
     "text": [
      "\r",
      "9/564"
     ]
    },
    {
     "name": "stdout",
     "output_type": "stream",
     "text": [
      "\r",
      "10/564\r",
      "11/564"
     ]
    },
    {
     "name": "stdout",
     "output_type": "stream",
     "text": [
      "\r",
      "12/564\r",
      "13/564"
     ]
    },
    {
     "name": "stdout",
     "output_type": "stream",
     "text": [
      "\r",
      "14/564"
     ]
    },
    {
     "name": "stdout",
     "output_type": "stream",
     "text": [
      "\r",
      "15/564"
     ]
    },
    {
     "name": "stdout",
     "output_type": "stream",
     "text": [
      "\r",
      "16/564\r",
      "17/564"
     ]
    },
    {
     "name": "stdout",
     "output_type": "stream",
     "text": [
      "\r",
      "18/564"
     ]
    },
    {
     "name": "stdout",
     "output_type": "stream",
     "text": [
      "\r",
      "19/564\r",
      "20/564"
     ]
    },
    {
     "name": "stdout",
     "output_type": "stream",
     "text": [
      "\r",
      "21/564"
     ]
    },
    {
     "name": "stdout",
     "output_type": "stream",
     "text": [
      "\r",
      "22/564\r",
      "23/564"
     ]
    },
    {
     "name": "stdout",
     "output_type": "stream",
     "text": [
      "\r",
      "24/564\r",
      "25/564"
     ]
    },
    {
     "name": "stdout",
     "output_type": "stream",
     "text": [
      "\r",
      "26/564\r",
      "27/564"
     ]
    },
    {
     "name": "stdout",
     "output_type": "stream",
     "text": [
      "\r",
      "28/564"
     ]
    },
    {
     "name": "stdout",
     "output_type": "stream",
     "text": [
      "\r",
      "29/564"
     ]
    },
    {
     "name": "stdout",
     "output_type": "stream",
     "text": [
      "\r",
      "30/564\r",
      "31/564"
     ]
    },
    {
     "name": "stdout",
     "output_type": "stream",
     "text": [
      "\r",
      "32/564\r",
      "33/564"
     ]
    },
    {
     "name": "stdout",
     "output_type": "stream",
     "text": [
      "\r",
      "34/564"
     ]
    },
    {
     "name": "stdout",
     "output_type": "stream",
     "text": [
      "\r",
      "35/564"
     ]
    },
    {
     "name": "stdout",
     "output_type": "stream",
     "text": [
      "\r",
      "36/564"
     ]
    },
    {
     "name": "stdout",
     "output_type": "stream",
     "text": [
      "\r",
      "37/564"
     ]
    },
    {
     "name": "stdout",
     "output_type": "stream",
     "text": [
      "\r",
      "38/564\r",
      "39/564"
     ]
    },
    {
     "name": "stdout",
     "output_type": "stream",
     "text": [
      "\r",
      "40/564"
     ]
    },
    {
     "name": "stdout",
     "output_type": "stream",
     "text": [
      "\r",
      "41/564"
     ]
    },
    {
     "name": "stdout",
     "output_type": "stream",
     "text": [
      "\r",
      "42/564"
     ]
    },
    {
     "name": "stdout",
     "output_type": "stream",
     "text": [
      "\r",
      "43/564\r",
      "44/564\r",
      "45/564"
     ]
    },
    {
     "name": "stdout",
     "output_type": "stream",
     "text": [
      "\r",
      "46/564"
     ]
    },
    {
     "name": "stdout",
     "output_type": "stream",
     "text": [
      "\r",
      "47/564\r",
      "48/564\r",
      "49/564"
     ]
    },
    {
     "name": "stdout",
     "output_type": "stream",
     "text": [
      "\r",
      "50/564"
     ]
    },
    {
     "name": "stdout",
     "output_type": "stream",
     "text": [
      "\r",
      "51/564"
     ]
    },
    {
     "name": "stdout",
     "output_type": "stream",
     "text": [
      "\r",
      "52/564"
     ]
    },
    {
     "name": "stdout",
     "output_type": "stream",
     "text": [
      "\r",
      "53/564"
     ]
    },
    {
     "name": "stdout",
     "output_type": "stream",
     "text": [
      "\r",
      "54/564\r",
      "55/564"
     ]
    },
    {
     "name": "stdout",
     "output_type": "stream",
     "text": [
      "\r",
      "56/564"
     ]
    },
    {
     "name": "stdout",
     "output_type": "stream",
     "text": [
      "\r",
      "57/564"
     ]
    },
    {
     "name": "stdout",
     "output_type": "stream",
     "text": [
      "\r",
      "58/564\r",
      "59/564"
     ]
    },
    {
     "name": "stdout",
     "output_type": "stream",
     "text": [
      "\r",
      "60/564\r",
      "61/564"
     ]
    },
    {
     "name": "stdout",
     "output_type": "stream",
     "text": [
      "\r",
      "62/564"
     ]
    },
    {
     "name": "stdout",
     "output_type": "stream",
     "text": [
      "\r",
      "63/564"
     ]
    },
    {
     "name": "stdout",
     "output_type": "stream",
     "text": [
      "\r",
      "64/564"
     ]
    },
    {
     "name": "stdout",
     "output_type": "stream",
     "text": [
      "\r",
      "65/564"
     ]
    },
    {
     "name": "stdout",
     "output_type": "stream",
     "text": [
      "\r",
      "66/564"
     ]
    },
    {
     "name": "stdout",
     "output_type": "stream",
     "text": [
      "\r",
      "67/564"
     ]
    },
    {
     "name": "stdout",
     "output_type": "stream",
     "text": [
      "\r",
      "68/564\r",
      "69/564"
     ]
    },
    {
     "name": "stdout",
     "output_type": "stream",
     "text": [
      "\r",
      "70/564\r",
      "71/564"
     ]
    },
    {
     "name": "stdout",
     "output_type": "stream",
     "text": [
      "\r",
      "72/564\r",
      "73/564"
     ]
    },
    {
     "name": "stdout",
     "output_type": "stream",
     "text": [
      "\r",
      "74/564"
     ]
    },
    {
     "name": "stdout",
     "output_type": "stream",
     "text": [
      "\r",
      "75/564"
     ]
    },
    {
     "name": "stdout",
     "output_type": "stream",
     "text": [
      "\r",
      "76/564\r",
      "77/564"
     ]
    },
    {
     "name": "stdout",
     "output_type": "stream",
     "text": [
      "\r",
      "78/564\r",
      "79/564"
     ]
    },
    {
     "name": "stdout",
     "output_type": "stream",
     "text": [
      "\r",
      "80/564\r",
      "81/564"
     ]
    },
    {
     "name": "stdout",
     "output_type": "stream",
     "text": [
      "\r",
      "82/564"
     ]
    },
    {
     "name": "stdout",
     "output_type": "stream",
     "text": [
      "\r",
      "83/564"
     ]
    },
    {
     "name": "stdout",
     "output_type": "stream",
     "text": [
      "\r",
      "84/564\r",
      "85/564"
     ]
    },
    {
     "name": "stdout",
     "output_type": "stream",
     "text": [
      "\r",
      "86/564\r",
      "87/564"
     ]
    },
    {
     "name": "stdout",
     "output_type": "stream",
     "text": [
      "\r",
      "88/564\r",
      "89/564"
     ]
    },
    {
     "name": "stdout",
     "output_type": "stream",
     "text": [
      "\r",
      "90/564"
     ]
    },
    {
     "name": "stdout",
     "output_type": "stream",
     "text": [
      "\r",
      "91/564"
     ]
    },
    {
     "name": "stdout",
     "output_type": "stream",
     "text": [
      "\r",
      "92/564\r",
      "93/564"
     ]
    },
    {
     "name": "stdout",
     "output_type": "stream",
     "text": [
      "\r",
      "94/564\r",
      "95/564\r",
      "96/564"
     ]
    },
    {
     "name": "stdout",
     "output_type": "stream",
     "text": [
      "\r",
      "97/564"
     ]
    },
    {
     "name": "stdout",
     "output_type": "stream",
     "text": [
      "\r",
      "98/564"
     ]
    },
    {
     "name": "stdout",
     "output_type": "stream",
     "text": [
      "\r",
      "99/564\r",
      "100/564"
     ]
    },
    {
     "name": "stdout",
     "output_type": "stream",
     "text": [
      "\r",
      "101/564"
     ]
    },
    {
     "name": "stdout",
     "output_type": "stream",
     "text": [
      "\r",
      "102/564\r",
      "103/564"
     ]
    },
    {
     "name": "stdout",
     "output_type": "stream",
     "text": [
      "\r",
      "104/564\r",
      "105/564"
     ]
    },
    {
     "name": "stdout",
     "output_type": "stream",
     "text": [
      "\r",
      "106/564\r",
      "107/564"
     ]
    },
    {
     "name": "stdout",
     "output_type": "stream",
     "text": [
      "\r",
      "108/564"
     ]
    },
    {
     "name": "stdout",
     "output_type": "stream",
     "text": [
      "\r",
      "109/564"
     ]
    },
    {
     "name": "stdout",
     "output_type": "stream",
     "text": [
      "\r",
      "110/564"
     ]
    },
    {
     "name": "stdout",
     "output_type": "stream",
     "text": [
      "\r",
      "111/564"
     ]
    },
    {
     "name": "stdout",
     "output_type": "stream",
     "text": [
      "\r",
      "112/564\r",
      "113/564"
     ]
    },
    {
     "name": "stdout",
     "output_type": "stream",
     "text": [
      "\r",
      "114/564\r",
      "115/564"
     ]
    },
    {
     "name": "stdout",
     "output_type": "stream",
     "text": [
      "\r",
      "116/564\r",
      "117/564"
     ]
    },
    {
     "name": "stdout",
     "output_type": "stream",
     "text": [
      "\r",
      "118/564\r",
      "119/564"
     ]
    },
    {
     "name": "stdout",
     "output_type": "stream",
     "text": [
      "\r",
      "120/564\r",
      "121/564"
     ]
    },
    {
     "name": "stdout",
     "output_type": "stream",
     "text": [
      "\r",
      "122/564"
     ]
    },
    {
     "name": "stdout",
     "output_type": "stream",
     "text": [
      "\r",
      "123/564"
     ]
    },
    {
     "name": "stdout",
     "output_type": "stream",
     "text": [
      "\r",
      "124/564"
     ]
    },
    {
     "name": "stdout",
     "output_type": "stream",
     "text": [
      "\r",
      "125/564\r",
      "126/564\r",
      "127/564"
     ]
    },
    {
     "name": "stdout",
     "output_type": "stream",
     "text": [
      "\r",
      "128/564\r",
      "129/564"
     ]
    },
    {
     "name": "stdout",
     "output_type": "stream",
     "text": [
      "\r",
      "130/564\r",
      "131/564"
     ]
    },
    {
     "name": "stdout",
     "output_type": "stream",
     "text": [
      "\r",
      "132/564\r",
      "133/564"
     ]
    },
    {
     "name": "stdout",
     "output_type": "stream",
     "text": [
      "\r",
      "134/564\r",
      "135/564\r",
      "136/564"
     ]
    },
    {
     "name": "stdout",
     "output_type": "stream",
     "text": [
      "\r",
      "137/564"
     ]
    },
    {
     "name": "stdout",
     "output_type": "stream",
     "text": [
      "\r",
      "138/564\r",
      "139/564"
     ]
    },
    {
     "name": "stdout",
     "output_type": "stream",
     "text": [
      "\r",
      "140/564\r",
      "141/564"
     ]
    },
    {
     "name": "stdout",
     "output_type": "stream",
     "text": [
      "\r",
      "142/564\r",
      "143/564\r",
      "144/564"
     ]
    },
    {
     "name": "stdout",
     "output_type": "stream",
     "text": [
      "\r",
      "145/564"
     ]
    },
    {
     "name": "stdout",
     "output_type": "stream",
     "text": [
      "\r",
      "146/564\r",
      "147/564"
     ]
    },
    {
     "name": "stdout",
     "output_type": "stream",
     "text": [
      "\r",
      "148/564\r",
      "149/564"
     ]
    },
    {
     "name": "stdout",
     "output_type": "stream",
     "text": [
      "\r",
      "150/564\r",
      "151/564"
     ]
    },
    {
     "name": "stdout",
     "output_type": "stream",
     "text": [
      "\r",
      "152/564\r",
      "153/564\r",
      "154/564"
     ]
    },
    {
     "name": "stdout",
     "output_type": "stream",
     "text": [
      "\r",
      "155/564\r",
      "156/564"
     ]
    },
    {
     "name": "stdout",
     "output_type": "stream",
     "text": [
      "\r",
      "157/564"
     ]
    },
    {
     "name": "stdout",
     "output_type": "stream",
     "text": [
      "\r",
      "158/564\r",
      "159/564"
     ]
    },
    {
     "name": "stdout",
     "output_type": "stream",
     "text": [
      "\r",
      "160/564\r",
      "161/564"
     ]
    },
    {
     "name": "stdout",
     "output_type": "stream",
     "text": [
      "\r",
      "162/564\r",
      "163/564"
     ]
    },
    {
     "name": "stdout",
     "output_type": "stream",
     "text": [
      "\r",
      "164/564\r",
      "165/564"
     ]
    },
    {
     "name": "stdout",
     "output_type": "stream",
     "text": [
      "\r",
      "166/564\r",
      "167/564\r",
      "168/564"
     ]
    },
    {
     "name": "stdout",
     "output_type": "stream",
     "text": [
      "\r",
      "169/564\r",
      "170/564"
     ]
    },
    {
     "name": "stdout",
     "output_type": "stream",
     "text": [
      "\r",
      "171/564"
     ]
    },
    {
     "name": "stdout",
     "output_type": "stream",
     "text": [
      "\r",
      "172/564\r",
      "173/564\r",
      "174/564"
     ]
    },
    {
     "name": "stdout",
     "output_type": "stream",
     "text": [
      "\r",
      "175/564"
     ]
    },
    {
     "name": "stdout",
     "output_type": "stream",
     "text": [
      "\r",
      "176/564\r",
      "177/564"
     ]
    },
    {
     "name": "stdout",
     "output_type": "stream",
     "text": [
      "\r",
      "178/564\r",
      "179/564"
     ]
    },
    {
     "name": "stdout",
     "output_type": "stream",
     "text": [
      "\r",
      "180/564"
     ]
    },
    {
     "name": "stdout",
     "output_type": "stream",
     "text": [
      "\r",
      "181/564\r",
      "182/564"
     ]
    },
    {
     "name": "stdout",
     "output_type": "stream",
     "text": [
      "\r",
      "183/564"
     ]
    },
    {
     "name": "stdout",
     "output_type": "stream",
     "text": [
      "\r",
      "184/564\r",
      "185/564"
     ]
    },
    {
     "name": "stdout",
     "output_type": "stream",
     "text": [
      "\r",
      "186/564\r",
      "187/564"
     ]
    },
    {
     "name": "stdout",
     "output_type": "stream",
     "text": [
      "\r",
      "188/564\r",
      "189/564"
     ]
    },
    {
     "name": "stdout",
     "output_type": "stream",
     "text": [
      "\r",
      "190/564\r",
      "191/564\r",
      "192/564"
     ]
    },
    {
     "name": "stdout",
     "output_type": "stream",
     "text": [
      "\r",
      "193/564\r",
      "194/564"
     ]
    },
    {
     "name": "stdout",
     "output_type": "stream",
     "text": [
      "\r",
      "195/564"
     ]
    },
    {
     "name": "stdout",
     "output_type": "stream",
     "text": [
      "\r",
      "196/564\r",
      "197/564"
     ]
    },
    {
     "name": "stdout",
     "output_type": "stream",
     "text": [
      "\r",
      "198/564\r",
      "199/564"
     ]
    },
    {
     "name": "stdout",
     "output_type": "stream",
     "text": [
      "\r",
      "200/564\r",
      "201/564"
     ]
    },
    {
     "name": "stdout",
     "output_type": "stream",
     "text": [
      "\r",
      "202/564\r",
      "203/564\r",
      "204/564"
     ]
    },
    {
     "name": "stdout",
     "output_type": "stream",
     "text": [
      "\r",
      "205/564\r",
      "206/564"
     ]
    },
    {
     "name": "stdout",
     "output_type": "stream",
     "text": [
      "\r",
      "207/564"
     ]
    },
    {
     "name": "stdout",
     "output_type": "stream",
     "text": [
      "\r",
      "208/564\r",
      "209/564"
     ]
    },
    {
     "name": "stdout",
     "output_type": "stream",
     "text": [
      "\r",
      "210/564\r",
      "211/564"
     ]
    },
    {
     "name": "stdout",
     "output_type": "stream",
     "text": [
      "\r",
      "212/564\r",
      "213/564\r",
      "214/564"
     ]
    },
    {
     "name": "stdout",
     "output_type": "stream",
     "text": [
      "\r",
      "215/564"
     ]
    },
    {
     "name": "stdout",
     "output_type": "stream",
     "text": [
      "\r",
      "216/564\r",
      "217/564"
     ]
    },
    {
     "name": "stdout",
     "output_type": "stream",
     "text": [
      "\r",
      "218/564\r",
      "219/564\r",
      "220/564"
     ]
    },
    {
     "name": "stdout",
     "output_type": "stream",
     "text": [
      "\r",
      "221/564"
     ]
    },
    {
     "name": "stdout",
     "output_type": "stream",
     "text": [
      "\r",
      "222/564\r",
      "223/564"
     ]
    },
    {
     "name": "stdout",
     "output_type": "stream",
     "text": [
      "\r",
      "224/564\r",
      "225/564\r",
      "226/564"
     ]
    },
    {
     "name": "stdout",
     "output_type": "stream",
     "text": [
      "\r",
      "227/564"
     ]
    },
    {
     "name": "stdout",
     "output_type": "stream",
     "text": [
      "\r",
      "228/564\r",
      "229/564"
     ]
    },
    {
     "name": "stdout",
     "output_type": "stream",
     "text": [
      "\r",
      "230/564\r",
      "231/564"
     ]
    },
    {
     "name": "stdout",
     "output_type": "stream",
     "text": [
      "\r",
      "232/564"
     ]
    },
    {
     "name": "stdout",
     "output_type": "stream",
     "text": [
      "\r",
      "233/564"
     ]
    },
    {
     "name": "stdout",
     "output_type": "stream",
     "text": [
      "\r",
      "234/564\r",
      "235/564"
     ]
    },
    {
     "name": "stdout",
     "output_type": "stream",
     "text": [
      "\r",
      "236/564"
     ]
    },
    {
     "name": "stdout",
     "output_type": "stream",
     "text": [
      "\r",
      "237/564"
     ]
    },
    {
     "name": "stdout",
     "output_type": "stream",
     "text": [
      "\r",
      "238/564\r",
      "239/564\r",
      "240/564"
     ]
    },
    {
     "name": "stdout",
     "output_type": "stream",
     "text": [
      "\r",
      "241/564"
     ]
    },
    {
     "name": "stdout",
     "output_type": "stream",
     "text": [
      "\r",
      "242/564\r",
      "243/564"
     ]
    },
    {
     "name": "stdout",
     "output_type": "stream",
     "text": [
      "\r",
      "244/564\r",
      "245/564"
     ]
    },
    {
     "name": "stdout",
     "output_type": "stream",
     "text": [
      "\r",
      "246/564\r",
      "247/564"
     ]
    },
    {
     "name": "stdout",
     "output_type": "stream",
     "text": [
      "\r",
      "248/564\r",
      "249/564"
     ]
    },
    {
     "name": "stdout",
     "output_type": "stream",
     "text": [
      "\r",
      "250/564\r",
      "251/564"
     ]
    },
    {
     "name": "stdout",
     "output_type": "stream",
     "text": [
      "\r",
      "252/564\r",
      "253/564"
     ]
    },
    {
     "name": "stdout",
     "output_type": "stream",
     "text": [
      "\r",
      "254/564\r",
      "255/564"
     ]
    },
    {
     "name": "stdout",
     "output_type": "stream",
     "text": [
      "\r",
      "256/564\r",
      "257/564"
     ]
    },
    {
     "name": "stdout",
     "output_type": "stream",
     "text": [
      "\r",
      "258/564\r",
      "259/564"
     ]
    },
    {
     "name": "stdout",
     "output_type": "stream",
     "text": [
      "\r",
      "260/564\r",
      "261/564\r",
      "262/564"
     ]
    },
    {
     "name": "stdout",
     "output_type": "stream",
     "text": [
      "\r",
      "263/564"
     ]
    },
    {
     "name": "stdout",
     "output_type": "stream",
     "text": [
      "\r",
      "264/564\r",
      "265/564"
     ]
    },
    {
     "name": "stdout",
     "output_type": "stream",
     "text": [
      "\r",
      "266/564\r",
      "267/564"
     ]
    },
    {
     "name": "stdout",
     "output_type": "stream",
     "text": [
      "\r",
      "268/564\r",
      "269/564"
     ]
    },
    {
     "name": "stdout",
     "output_type": "stream",
     "text": [
      "\r",
      "270/564\r",
      "271/564"
     ]
    },
    {
     "name": "stdout",
     "output_type": "stream",
     "text": [
      "\r",
      "272/564\r",
      "273/564"
     ]
    },
    {
     "name": "stdout",
     "output_type": "stream",
     "text": [
      "\r",
      "274/564\r",
      "275/564"
     ]
    },
    {
     "name": "stdout",
     "output_type": "stream",
     "text": [
      "\r",
      "276/564\r",
      "277/564"
     ]
    },
    {
     "name": "stdout",
     "output_type": "stream",
     "text": [
      "\r",
      "278/564\r",
      "279/564"
     ]
    },
    {
     "name": "stdout",
     "output_type": "stream",
     "text": [
      "\r",
      "280/564\r",
      "281/564"
     ]
    },
    {
     "name": "stdout",
     "output_type": "stream",
     "text": [
      "\r",
      "282/564\r",
      "283/564"
     ]
    },
    {
     "name": "stdout",
     "output_type": "stream",
     "text": [
      "\r",
      "284/564\r",
      "285/564"
     ]
    },
    {
     "name": "stdout",
     "output_type": "stream",
     "text": [
      "\r",
      "286/564\r",
      "287/564"
     ]
    },
    {
     "name": "stdout",
     "output_type": "stream",
     "text": [
      "\r",
      "288/564\r",
      "289/564"
     ]
    },
    {
     "name": "stdout",
     "output_type": "stream",
     "text": [
      "\r",
      "290/564\r",
      "291/564"
     ]
    },
    {
     "name": "stdout",
     "output_type": "stream",
     "text": [
      "\r",
      "292/564\r",
      "293/564"
     ]
    },
    {
     "name": "stdout",
     "output_type": "stream",
     "text": [
      "\r",
      "294/564\r",
      "295/564"
     ]
    },
    {
     "name": "stdout",
     "output_type": "stream",
     "text": [
      "\r",
      "296/564\r",
      "297/564"
     ]
    },
    {
     "name": "stdout",
     "output_type": "stream",
     "text": [
      "\r",
      "298/564\r",
      "299/564"
     ]
    },
    {
     "name": "stdout",
     "output_type": "stream",
     "text": [
      "\r",
      "300/564\r",
      "301/564"
     ]
    },
    {
     "name": "stdout",
     "output_type": "stream",
     "text": [
      "\r",
      "302/564\r",
      "303/564"
     ]
    },
    {
     "name": "stdout",
     "output_type": "stream",
     "text": [
      "\r",
      "304/564\r",
      "305/564\r",
      "306/564"
     ]
    },
    {
     "name": "stdout",
     "output_type": "stream",
     "text": [
      "\r",
      "307/564"
     ]
    },
    {
     "name": "stdout",
     "output_type": "stream",
     "text": [
      "\r",
      "308/564\r",
      "309/564"
     ]
    },
    {
     "name": "stdout",
     "output_type": "stream",
     "text": [
      "\r",
      "310/564\r",
      "311/564"
     ]
    },
    {
     "name": "stdout",
     "output_type": "stream",
     "text": [
      "\r",
      "312/564\r",
      "313/564"
     ]
    },
    {
     "name": "stdout",
     "output_type": "stream",
     "text": [
      "\r",
      "314/564\r",
      "315/564"
     ]
    },
    {
     "name": "stdout",
     "output_type": "stream",
     "text": [
      "\r",
      "316/564"
     ]
    },
    {
     "name": "stdout",
     "output_type": "stream",
     "text": [
      "\r",
      "317/564"
     ]
    },
    {
     "name": "stdout",
     "output_type": "stream",
     "text": [
      "\r",
      "318/564\r",
      "319/564"
     ]
    },
    {
     "name": "stdout",
     "output_type": "stream",
     "text": [
      "\r",
      "320/564\r",
      "321/564"
     ]
    },
    {
     "name": "stdout",
     "output_type": "stream",
     "text": [
      "\r",
      "322/564\r",
      "323/564"
     ]
    },
    {
     "name": "stdout",
     "output_type": "stream",
     "text": [
      "\r",
      "324/564\r",
      "325/564"
     ]
    },
    {
     "name": "stdout",
     "output_type": "stream",
     "text": [
      "\r",
      "326/564\r",
      "327/564"
     ]
    },
    {
     "name": "stdout",
     "output_type": "stream",
     "text": [
      "\r",
      "328/564\r",
      "329/564\r",
      "330/564\r",
      "331/564"
     ]
    },
    {
     "name": "stdout",
     "output_type": "stream",
     "text": [
      "\r",
      "332/564\r",
      "333/564"
     ]
    },
    {
     "name": "stdout",
     "output_type": "stream",
     "text": [
      "\r",
      "334/564\r",
      "335/564"
     ]
    },
    {
     "name": "stdout",
     "output_type": "stream",
     "text": [
      "\r",
      "336/564\r",
      "337/564"
     ]
    },
    {
     "name": "stdout",
     "output_type": "stream",
     "text": [
      "\r",
      "338/564\r",
      "339/564"
     ]
    },
    {
     "name": "stdout",
     "output_type": "stream",
     "text": [
      "\r",
      "340/564\r",
      "341/564\r",
      "342/564\r",
      "343/564"
     ]
    },
    {
     "name": "stdout",
     "output_type": "stream",
     "text": [
      "\r",
      "344/564"
     ]
    },
    {
     "name": "stdout",
     "output_type": "stream",
     "text": [
      "\r",
      "345/564"
     ]
    },
    {
     "name": "stdout",
     "output_type": "stream",
     "text": [
      "\r",
      "346/564\r",
      "347/564\r",
      "348/564"
     ]
    },
    {
     "name": "stdout",
     "output_type": "stream",
     "text": [
      "\r",
      "349/564"
     ]
    },
    {
     "name": "stdout",
     "output_type": "stream",
     "text": [
      "\r",
      "350/564\r",
      "351/564"
     ]
    },
    {
     "name": "stdout",
     "output_type": "stream",
     "text": [
      "\r",
      "352/564\r",
      "353/564"
     ]
    },
    {
     "name": "stdout",
     "output_type": "stream",
     "text": [
      "\r",
      "354/564\r",
      "355/564"
     ]
    },
    {
     "name": "stdout",
     "output_type": "stream",
     "text": [
      "\r",
      "356/564\r",
      "357/564"
     ]
    },
    {
     "name": "stdout",
     "output_type": "stream",
     "text": [
      "\r",
      "358/564\r",
      "359/564\r",
      "360/564"
     ]
    },
    {
     "name": "stdout",
     "output_type": "stream",
     "text": [
      "\r",
      "361/564\r",
      "362/564"
     ]
    },
    {
     "name": "stdout",
     "output_type": "stream",
     "text": [
      "\r",
      "363/564"
     ]
    },
    {
     "name": "stdout",
     "output_type": "stream",
     "text": [
      "\r",
      "364/564\r",
      "365/564"
     ]
    },
    {
     "name": "stdout",
     "output_type": "stream",
     "text": [
      "\r",
      "366/564\r",
      "367/564"
     ]
    },
    {
     "name": "stdout",
     "output_type": "stream",
     "text": [
      "\r",
      "368/564\r",
      "369/564"
     ]
    },
    {
     "name": "stdout",
     "output_type": "stream",
     "text": [
      "\r",
      "370/564\r",
      "371/564\r",
      "372/564"
     ]
    },
    {
     "name": "stdout",
     "output_type": "stream",
     "text": [
      "\r",
      "373/564\r",
      "374/564\r",
      "375/564"
     ]
    },
    {
     "name": "stdout",
     "output_type": "stream",
     "text": [
      "\r",
      "376/564\r",
      "377/564"
     ]
    },
    {
     "name": "stdout",
     "output_type": "stream",
     "text": [
      "\r",
      "378/564\r",
      "379/564"
     ]
    },
    {
     "name": "stdout",
     "output_type": "stream",
     "text": [
      "\r",
      "380/564\r",
      "381/564"
     ]
    },
    {
     "name": "stdout",
     "output_type": "stream",
     "text": [
      "\r",
      "382/564\r",
      "383/564\r",
      "384/564\r",
      "385/564\r",
      "386/564"
     ]
    },
    {
     "name": "stdout",
     "output_type": "stream",
     "text": [
      "\r",
      "387/564"
     ]
    },
    {
     "name": "stdout",
     "output_type": "stream",
     "text": [
      "\r",
      "388/564\r",
      "389/564"
     ]
    },
    {
     "name": "stdout",
     "output_type": "stream",
     "text": [
      "\r",
      "390/564\r",
      "391/564"
     ]
    },
    {
     "name": "stdout",
     "output_type": "stream",
     "text": [
      "\r",
      "392/564\r",
      "393/564"
     ]
    },
    {
     "name": "stdout",
     "output_type": "stream",
     "text": [
      "\r",
      "394/564\r",
      "395/564"
     ]
    },
    {
     "name": "stdout",
     "output_type": "stream",
     "text": [
      "\r",
      "396/564\r",
      "397/564"
     ]
    },
    {
     "name": "stdout",
     "output_type": "stream",
     "text": [
      "\r",
      "398/564\r",
      "399/564"
     ]
    },
    {
     "name": "stdout",
     "output_type": "stream",
     "text": [
      "\r",
      "400/564\r",
      "401/564"
     ]
    },
    {
     "name": "stdout",
     "output_type": "stream",
     "text": [
      "\r",
      "402/564\r",
      "403/564"
     ]
    },
    {
     "name": "stdout",
     "output_type": "stream",
     "text": [
      "\r",
      "404/564\r",
      "405/564"
     ]
    },
    {
     "name": "stdout",
     "output_type": "stream",
     "text": [
      "\r",
      "406/564\r",
      "407/564"
     ]
    },
    {
     "name": "stdout",
     "output_type": "stream",
     "text": [
      "\r",
      "408/564\r",
      "409/564\r",
      "410/564"
     ]
    },
    {
     "name": "stdout",
     "output_type": "stream",
     "text": [
      "\r",
      "411/564\r",
      "412/564"
     ]
    },
    {
     "name": "stdout",
     "output_type": "stream",
     "text": [
      "\r",
      "413/564"
     ]
    },
    {
     "name": "stdout",
     "output_type": "stream",
     "text": [
      "\r",
      "414/564\r",
      "415/564"
     ]
    },
    {
     "name": "stdout",
     "output_type": "stream",
     "text": [
      "\r",
      "416/564\r",
      "417/564"
     ]
    },
    {
     "name": "stdout",
     "output_type": "stream",
     "text": [
      "\r",
      "418/564\r",
      "419/564"
     ]
    },
    {
     "name": "stdout",
     "output_type": "stream",
     "text": [
      "\r",
      "420/564\r",
      "421/564"
     ]
    },
    {
     "name": "stdout",
     "output_type": "stream",
     "text": [
      "\r",
      "422/564\r",
      "423/564\r",
      "424/564"
     ]
    },
    {
     "name": "stdout",
     "output_type": "stream",
     "text": [
      "\r",
      "425/564"
     ]
    },
    {
     "name": "stdout",
     "output_type": "stream",
     "text": [
      "\r",
      "426/564\r",
      "427/564"
     ]
    },
    {
     "name": "stdout",
     "output_type": "stream",
     "text": [
      "\r",
      "428/564\r",
      "429/564"
     ]
    },
    {
     "name": "stdout",
     "output_type": "stream",
     "text": [
      "\r",
      "430/564\r",
      "431/564"
     ]
    },
    {
     "name": "stdout",
     "output_type": "stream",
     "text": [
      "\r",
      "432/564\r",
      "433/564"
     ]
    },
    {
     "name": "stdout",
     "output_type": "stream",
     "text": [
      "\r",
      "434/564\r",
      "435/564"
     ]
    },
    {
     "name": "stdout",
     "output_type": "stream",
     "text": [
      "\r",
      "436/564\r",
      "437/564"
     ]
    },
    {
     "name": "stdout",
     "output_type": "stream",
     "text": [
      "\r",
      "438/564\r",
      "439/564\r",
      "440/564"
     ]
    },
    {
     "name": "stdout",
     "output_type": "stream",
     "text": [
      "\r",
      "441/564"
     ]
    },
    {
     "name": "stdout",
     "output_type": "stream",
     "text": [
      "\r",
      "442/564\r",
      "443/564"
     ]
    },
    {
     "name": "stdout",
     "output_type": "stream",
     "text": [
      "\r",
      "444/564\r",
      "445/564"
     ]
    },
    {
     "name": "stdout",
     "output_type": "stream",
     "text": [
      "\r",
      "446/564\r",
      "447/564"
     ]
    },
    {
     "name": "stdout",
     "output_type": "stream",
     "text": [
      "\r",
      "448/564\r",
      "449/564"
     ]
    },
    {
     "name": "stdout",
     "output_type": "stream",
     "text": [
      "\r",
      "450/564\r",
      "451/564"
     ]
    },
    {
     "name": "stdout",
     "output_type": "stream",
     "text": [
      "\r",
      "452/564\r",
      "453/564\r",
      "454/564"
     ]
    },
    {
     "name": "stdout",
     "output_type": "stream",
     "text": [
      "\r",
      "455/564\r",
      "456/564\r",
      "457/564"
     ]
    },
    {
     "name": "stdout",
     "output_type": "stream",
     "text": [
      "\r",
      "458/564\r",
      "459/564"
     ]
    },
    {
     "name": "stdout",
     "output_type": "stream",
     "text": [
      "\r",
      "460/564\r",
      "461/564"
     ]
    },
    {
     "name": "stdout",
     "output_type": "stream",
     "text": [
      "\r",
      "462/564\r",
      "463/564"
     ]
    },
    {
     "name": "stdout",
     "output_type": "stream",
     "text": [
      "\r",
      "464/564\r",
      "465/564"
     ]
    },
    {
     "name": "stdout",
     "output_type": "stream",
     "text": [
      "\r",
      "466/564\r",
      "467/564"
     ]
    },
    {
     "name": "stdout",
     "output_type": "stream",
     "text": [
      "\r",
      "468/564\r",
      "469/564"
     ]
    },
    {
     "name": "stdout",
     "output_type": "stream",
     "text": [
      "\r",
      "470/564\r",
      "471/564"
     ]
    },
    {
     "name": "stdout",
     "output_type": "stream",
     "text": [
      "\r",
      "472/564\r",
      "473/564"
     ]
    },
    {
     "name": "stdout",
     "output_type": "stream",
     "text": [
      "\r",
      "474/564\r",
      "475/564"
     ]
    },
    {
     "name": "stdout",
     "output_type": "stream",
     "text": [
      "\r",
      "476/564\r",
      "477/564"
     ]
    },
    {
     "name": "stdout",
     "output_type": "stream",
     "text": [
      "\r",
      "478/564\r",
      "479/564\r",
      "480/564\r",
      "481/564"
     ]
    },
    {
     "name": "stdout",
     "output_type": "stream",
     "text": [
      "\r",
      "482/564\r",
      "483/564"
     ]
    },
    {
     "name": "stdout",
     "output_type": "stream",
     "text": [
      "\r",
      "484/564\r",
      "485/564"
     ]
    },
    {
     "name": "stdout",
     "output_type": "stream",
     "text": [
      "\r",
      "486/564\r",
      "487/564"
     ]
    },
    {
     "name": "stdout",
     "output_type": "stream",
     "text": [
      "\r",
      "488/564\r",
      "489/564"
     ]
    },
    {
     "name": "stdout",
     "output_type": "stream",
     "text": [
      "\r",
      "490/564\r",
      "491/564"
     ]
    },
    {
     "name": "stdout",
     "output_type": "stream",
     "text": [
      "\r",
      "492/564\r",
      "493/564"
     ]
    },
    {
     "name": "stdout",
     "output_type": "stream",
     "text": [
      "\r",
      "494/564\r",
      "495/564"
     ]
    },
    {
     "name": "stdout",
     "output_type": "stream",
     "text": [
      "\r",
      "496/564\r",
      "497/564\r",
      "498/564"
     ]
    },
    {
     "name": "stdout",
     "output_type": "stream",
     "text": [
      "\r",
      "499/564"
     ]
    },
    {
     "name": "stdout",
     "output_type": "stream",
     "text": [
      "\r",
      "500/564\r",
      "501/564"
     ]
    },
    {
     "name": "stdout",
     "output_type": "stream",
     "text": [
      "\r",
      "502/564\r",
      "503/564"
     ]
    },
    {
     "name": "stdout",
     "output_type": "stream",
     "text": [
      "\r",
      "504/564\r",
      "505/564"
     ]
    },
    {
     "name": "stdout",
     "output_type": "stream",
     "text": [
      "\r",
      "506/564\r",
      "507/564"
     ]
    },
    {
     "name": "stdout",
     "output_type": "stream",
     "text": [
      "\r",
      "508/564\r",
      "509/564\r",
      "510/564\r",
      "511/564"
     ]
    },
    {
     "name": "stdout",
     "output_type": "stream",
     "text": [
      "\r",
      "512/564\r",
      "513/564"
     ]
    },
    {
     "name": "stdout",
     "output_type": "stream",
     "text": [
      "\r",
      "514/564\r",
      "515/564"
     ]
    },
    {
     "name": "stdout",
     "output_type": "stream",
     "text": [
      "\r",
      "516/564\r",
      "517/564\r",
      "518/564\r",
      "519/564"
     ]
    },
    {
     "name": "stdout",
     "output_type": "stream",
     "text": [
      "\r",
      "520/564\r",
      "521/564"
     ]
    },
    {
     "name": "stdout",
     "output_type": "stream",
     "text": [
      "\r",
      "522/564\r",
      "523/564"
     ]
    },
    {
     "name": "stdout",
     "output_type": "stream",
     "text": [
      "\r",
      "524/564\r",
      "525/564"
     ]
    },
    {
     "name": "stdout",
     "output_type": "stream",
     "text": [
      "\r",
      "526/564\r",
      "527/564"
     ]
    },
    {
     "name": "stdout",
     "output_type": "stream",
     "text": [
      "\r",
      "528/564\r",
      "529/564\r",
      "530/564\r",
      "531/564"
     ]
    },
    {
     "name": "stdout",
     "output_type": "stream",
     "text": [
      "\r",
      "532/564\r",
      "533/564"
     ]
    },
    {
     "name": "stdout",
     "output_type": "stream",
     "text": [
      "\r",
      "534/564\r",
      "535/564"
     ]
    },
    {
     "name": "stdout",
     "output_type": "stream",
     "text": [
      "\r",
      "536/564\r",
      "537/564"
     ]
    },
    {
     "name": "stdout",
     "output_type": "stream",
     "text": [
      "\r",
      "538/564\r",
      "539/564\r",
      "540/564\r",
      "541/564"
     ]
    },
    {
     "name": "stdout",
     "output_type": "stream",
     "text": [
      "\r",
      "542/564\r",
      "543/564"
     ]
    },
    {
     "name": "stdout",
     "output_type": "stream",
     "text": [
      "\r",
      "544/564\r",
      "545/564"
     ]
    },
    {
     "name": "stdout",
     "output_type": "stream",
     "text": [
      "\r",
      "546/564\r",
      "547/564\r",
      "548/564\r",
      "549/564"
     ]
    },
    {
     "name": "stdout",
     "output_type": "stream",
     "text": [
      "\r",
      "550/564\r",
      "551/564"
     ]
    },
    {
     "name": "stdout",
     "output_type": "stream",
     "text": [
      "\r",
      "552/564\r",
      "553/564\r",
      "554/564\r",
      "555/564"
     ]
    },
    {
     "name": "stdout",
     "output_type": "stream",
     "text": [
      "\r",
      "556/564\r",
      "557/564"
     ]
    },
    {
     "name": "stdout",
     "output_type": "stream",
     "text": [
      "\r",
      "558/564\r",
      "559/564"
     ]
    },
    {
     "name": "stdout",
     "output_type": "stream",
     "text": [
      "\r",
      "560/564\r",
      "561/564\r",
      "562/564\r",
      "563/564"
     ]
    },
    {
     "name": "stdout",
     "output_type": "stream",
     "text": [
      "\r",
      "564/564\r",
      "fvar24: F5_0\n",
      "fvar27: F5_1\n",
      "fvar28: F5_2\n",
      "fvar29: F5_3\n",
      "fvar30: F5_4\n",
      "fvar31: F5_5\n",
      "fvar42: F5_6\n",
      "fvar43: F5_7\n",
      "fvar44: F5_8\n",
      "fvar45: F5_9\n",
      "fvar46: F5_10\n",
      "fvar47: F5_11\n",
      "fvar60: F5_12\n",
      "fvar61: F5_13\n",
      "fvar62: F5_14\n",
      "fvar63: F5_15\n",
      "fvar68: F5_16\n",
      "fvar69: F5_17\n",
      "fvar92: F5_18\n",
      "fvar93: F5_19\n",
      "fvar112: F5_20\n",
      "fvar115: F5_21\n",
      "fvar116: F5_22\n",
      "fvar117: F5_23\n",
      "fvar118: F5_24\n",
      "fvar119: F5_25\n",
      "fvar122: F5_26\n",
      "fvar123: F5_27\n",
      "fvar124: F5_28\n",
      "fvar125: F5_29\n",
      "fvar126: F5_30\n",
      "fvar127: F5_31\n",
      "fvar146: F5_32\n",
      "fvar147: F5_33\n",
      "fvar153: F5_34\n",
      "fvar154: F5_35\n",
      "fvar156: F5_36\n",
      "fvar157: F5_37\n",
      "fvar158: F5_38\n",
      "fvar159: F5_39\n",
      "fvar176: F5_40\n",
      "fvar177: F5_41\n",
      "fvar178: F5_42\n",
      "fvar179: F5_43\n",
      "fvar180: F5_44\n",
      "fvar181: F5_45\n",
      "fvar241: F5_46\n",
      "fvar242: F5_47\n",
      "fvar244: F5_48\n",
      "fvar245: F5_49\n",
      "fvar246: F5_50\n",
      "fvar247: F5_51\n",
      "fvar306: F5_52\n",
      "fvar307: F5_53\n",
      "fvar336: F5_54\n",
      "fvar337: F5_55\n",
      "fvar338: F5_56\n",
      "fvar339: F5_57\n",
      "fvar340: F5_58\n",
      "fvar341: F5_59\n",
      "fvar380: F5_60\n",
      "fvar381: F5_61\n",
      "fvar382: F5_62\n",
      "fvar383: F5_63\n",
      "fvar392: F5_64\n",
      "fvar394: F5_65\n",
      "fvar414: F5_66\n",
      "fvar415: F5_67\n",
      "fvar426: F5_68\n",
      "fvar427: F5_69\n",
      "fvar428: F5_70\n",
      "fvar429: F5_71\n",
      "fvar430: F5_72\n",
      "fvar431: F5_73\n",
      "fvar434: F5_74\n",
      "fvar435: F5_75\n",
      "fvar446: F5_76\n",
      "fvar447: F5_77\n",
      "fvar494: F5_78\n",
      "fvar497: F5_79\n",
      "fvar500: F5_80\n",
      "fvar501: F5_81\n",
      "fvar502: F5_82\n",
      "fvar503: F5_83\n",
      "fvar514: F5_84\n",
      "fvar515: F5_85\n",
      "fvar526: F5_86\n",
      "fvar527: F5_87\n",
      "fvar538: F5_88\n",
      "fvar539: F5_89\n",
      "fvar540: F5_90\n",
      "fvar541: F5_91\n",
      "fvar542: F5_92\n",
      "fvar543: F5_93\n",
      "fvar598: F5_94\n",
      "fvar599: F5_95\n",
      "fvar604: F5_96\n",
      "fvar605: F5_97\n",
      "fvar606: F5_98\n",
      "fvar607: F5_99\n",
      "fvar628: F5_100\n",
      "fvar629: F5_101\n",
      "fvar652: F5_102\n",
      "fvar653: F5_103\n",
      "fvar654: F5_104\n",
      "fvar655: F5_105\n",
      "fvar668: F5_106\n",
      "fvar669: F5_107\n",
      "fvar678: F5_108\n",
      "fvar679: F5_109\n",
      "fvar692: F5_110\n",
      "fvar693: F5_111\n",
      "fvar694: F5_112\n",
      "fvar695: F5_113\n",
      "fvar708: F5_114\n",
      "fvar709: F5_115\n",
      "fvar754: F5_116\n",
      "fvar755: F5_117\n",
      "fvar766: F5_118\n",
      "fvar767: F5_119\n",
      "fvar780: F5_120\n",
      "fvar781: F5_121\n",
      "fvar782: F5_122\n",
      "fvar783: F5_123\n",
      "fvar788: F5_124\n",
      "fvar789: F5_125\n",
      "fvar810: F5_126\n",
      "fvar811: F5_127\n",
      "fvar834: F5_128\n",
      "fvar835: F5_129\n",
      "fvar838: F5_130\n",
      "fvar839: F5_131\n",
      "fvar842: F5_132\n",
      "fvar843: F5_133\n",
      "fvar854: F5_134\n",
      "fvar855: F5_135\n",
      "fvar860: F5_136\n",
      "fvar861: F5_137\n",
      "fvar958: F5_138\n",
      "fvar959: F5_139\n",
      "fvar1030: F5_140\n",
      "fvar1031: F5_141\n",
      "fvar1078: F5_142\n",
      "fvar1079: F5_143\n",
      "fvar1110: F5_144\n",
      "fvar1111: F5_145\n",
      "fvar1116: F5_146\n",
      "fvar1117: F5_147\n",
      "fvar1132: F5_148\n",
      "fvar1133: F5_149\n",
      "fvar1140: F5_150\n",
      "fvar1141: F5_151\n",
      "fvar1172: F5_152\n",
      "fvar1173: F5_153\n",
      "fvar1174: F5_154\n",
      "fvar1175: F5_155\n",
      "fvar1176: F5_156\n",
      "fvar1177: F5_157\n",
      "fvar1220: F5_158\n",
      "fvar1221: F5_159\n",
      "fvar1234: F5_160\n",
      "fvar1235: F5_161\n",
      "fvar1278: F5_162\n",
      "fvar1279: F5_163\n",
      "fvar1308: F5_164\n",
      "fvar1309: F5_165\n",
      "fvar1316: F5_166\n",
      "fvar1317: F5_167\n",
      "fvar1340: F5_168\n",
      "fvar1341: F5_169\n",
      "fvar1346: F5_170\n",
      "fvar1347: F5_171\n",
      "fvar1364: F5_172\n",
      "fvar1365: F5_173\n",
      "fvar1370: F5_174\n",
      "fvar1371: F5_175\n",
      "fvar1436: F5_176\n",
      "fvar1437: F5_177\n",
      "fvar1442: F5_178\n",
      "fvar1443: F5_179\n",
      "fvar1498: F5_180\n",
      "fvar1499: F5_181\n",
      "fvar1510: F5_182\n",
      "fvar1511: F5_183\n",
      "fvar1526: F5_184\n",
      "fvar1527: F5_185\n",
      "fvar1532: F5_186\n",
      "fvar1559: F5_187\n",
      "fvar1644: F5_188\n",
      "fvar1661: F5_189\n",
      "fvar1664: F5_190\n",
      "fvar1667: F5_191\n",
      "fvar1672: F5_192\n",
      "fvar1675: F5_193\n",
      "fvar1676: F5_194\n",
      "fvar1677: F5_195\n",
      "fvar1704: F5_196\n"
     ]
    }
   ],
   "source": [
    "subs_rules = {}\n",
    "psi5 = sparse_solve_for_commuting_term(cvector, psi, 5, orders, matrixrows, subspace, norm= False, fvarname = 'F5_', iofvars=iofvars, subs_rules = subs_rules)"
   ]
  },
  {
   "cell_type": "code",
   "execution_count": 31,
   "metadata": {
    "autoscroll": "json-false",
    "collapsed": false,
    "ein.tags": [
     "worksheet-0"
    ]
   },
   "outputs": [
    {
     "name": "stdout",
     "output_type": "stream",
     "text": [
      "C0: 0\n",
      "C1: 0\n",
      "C2: 0\n",
      "C3: 0\n",
      "C4: 0\n",
      "C5: -2*I*V1**2*V2*f/(3*J**4)\n",
      "C6: 0\n",
      "C7: 0\n",
      "C8: 0\n",
      "C9: 0"
     ]
    },
    {
     "name": "stdout",
     "output_type": "stream",
     "text": [
      "\n",
      "C10: 0\n",
      "C11: 0\n",
      "C12: V1*f**2*(2*V1 - V2)/(3*J**4)\n",
      "C13: 0\n",
      "C14: V1*f**2*(V1 + V2)/(3*J**4)"
     ]
    },
    {
     "name": "stdout",
     "output_type": "stream",
     "text": [
      "\n",
      "C15: 0\n",
      "C16: 0\n",
      "C17: -I*V1**3*f/J**4\n",
      "C18: 0\n",
      "C19: -I*V1**2*f*(2*V1 - V2)/(3*J**4)"
     ]
    },
    {
     "name": "stdout",
     "output_type": "stream",
     "text": [
      "\n",
      "C20: 0\n",
      "C21: -I*V1**3*f/J**4\n",
      "C22: -I*V2*f*(V1**2 - 3*V1*V2 + f**2)/J**4"
     ]
    },
    {
     "name": "stdout",
     "output_type": "stream",
     "text": [
      "\n",
      "C23: 0\n",
      "C24: 0\n",
      "C25: V1**2*f**2/J**4\n",
      "C26: -I*V1**2*f*(V1 - 2*V2)/(3*J**4)"
     ]
    },
    {
     "name": "stdout",
     "output_type": "stream",
     "text": [
      "\n",
      "C27: 0\n",
      "C28: V1*(2*V1**2*V2 - V1*f**2 + V2*f**2)/(3*J**4)"
     ]
    },
    {
     "name": "stdout",
     "output_type": "stream",
     "text": [
      "\n",
      "C29: 0\n",
      "C30: 0\n",
      "C31: I*f*(2*V1**2*V2 - V1*f**2 + V2*f**2)/(3*J**4)"
     ]
    },
    {
     "name": "stdout",
     "output_type": "stream",
     "text": [
      "\n",
      "C32: 0\n",
      "C33: V1*f**2*(-2*V1 + V2)/(3*J**4)"
     ]
    },
    {
     "name": "stdout",
     "output_type": "stream",
     "text": [
      "\n",
      "C34: 0\n",
      "C35: V1**3*V2/(3*J**4)"
     ]
    },
    {
     "name": "stdout",
     "output_type": "stream",
     "text": [
      "\n",
      "C36: 0\n",
      "C37: I*V1**2*V2*f/J**4\n",
      "C38: 0\n",
      "C39: V1**2*f**2/J**4\n",
      "C40: -V1*f**2*(V1 - V2)/J**4"
     ]
    },
    {
     "name": "stdout",
     "output_type": "stream",
     "text": [
      "\n",
      "C41: 0\n",
      "C42: -I*V1**3*f/J**4\n",
      "C43: 0\n",
      "C44: 0\n",
      "C45: -V1**2*f**2/J**4\n",
      "C46: 0\n",
      "C47: 0\n",
      "C48: -V1*(3*V1*V2**2 + V1*f**2 - 2*V2*f**2)/J**4"
     ]
    },
    {
     "name": "stdout",
     "output_type": "stream",
     "text": [
      "\n"
     ]
    }
   ],
   "source": [
    "for x in sorted(subs_rules.keys(), key = lambda x: int(str(x)[1:])):\n",
    "    print(str(x)+': ' +str(sympy.simplify(subs_rules[x])))"
   ]
  },
  {
   "cell_type": "code",
   "execution_count": 32,
   "metadata": {
    "autoscroll": "json-false",
    "collapsed": false,
    "ein.tags": [
     "worksheet-0"
    ]
   },
   "outputs": [],
   "source": [
    "orders.update(zip(iofvars,[5]*len(iofvars)))\n",
    "p.orders = orders"
   ]
  },
  {
   "cell_type": "code",
   "execution_count": 33,
   "metadata": {
    "autoscroll": "json-false",
    "collapsed": false,
    "ein.tags": [
     "worksheet-0"
    ]
   },
   "outputs": [],
   "source": [
    "psi = substitute_group(psi,subs_rules, split_orders = split_orders)"
   ]
  },
  {
   "cell_type": "code",
   "execution_count": 34,
   "metadata": {
    "autoscroll": "json-false",
    "collapsed": false,
    "ein.tags": [
     "worksheet-0"
    ]
   },
   "outputs": [],
   "source": [
    "psi += psi5"
   ]
  },
  {
   "cell_type": "code",
   "execution_count": 37,
   "metadata": {
    "autoscroll": "json-false",
    "collapsed": false,
    "ein.tags": [
     "worksheet-0"
    ]
   },
   "outputs": [
    {
     "data": {
      "text/plain": [
       "-13*V1**3*V2*f/(45*J**5) + 11*V1**2*V2**2*f/(45*J**5) : [3, 4, 6, 7, 9, 11, 12, 13, 14]"
      ]
     },
     "execution_count": 37,
     "metadata": {},
     "output_type": "execute_result"
    }
   ],
   "source": []
  },
  {
   "cell_type": "code",
   "execution_count": 101,
   "metadata": {
    "autoscroll": "json-false",
    "collapsed": false,
    "ein.tags": [
     "worksheet-0"
    ]
   },
   "outputs": [
    {
     "ename": "KeyboardInterrupt",
     "evalue": "",
     "output_type": "error",
     "traceback": [
      "\u001b[1;31m---------------------------------------------------------------------------\u001b[0m",
      "\u001b[1;31mKeyboardInterrupt\u001b[0m                         Traceback (most recent call last)",
      "\u001b[1;32m<ipython-input-101-1df5cc657504>\u001b[0m in \u001b[0;36m<module>\u001b[1;34m()\u001b[0m\n\u001b[1;32m----> 1\u001b[1;33m \u001b[0mp\u001b[0m\u001b[1;33m(\u001b[0m\u001b[1;33m(\u001b[0m\u001b[0mc\u001b[0m\u001b[1;33m(\u001b[0m\u001b[0mH\u001b[0m\u001b[1;33m,\u001b[0m\u001b[0mpsi\u001b[0m\u001b[1;33m)\u001b[0m\u001b[1;33m)\u001b[0m\u001b[1;33m)\u001b[0m\u001b[1;33m\u001b[0m\u001b[0m\n\u001b[0m",
      "\u001b[1;32m/home/qfeuille/Storage/Programming/DPhil/Commutator/commutator.py\u001b[0m in \u001b[0;36mcalculate_commutator\u001b[1;34m(group_a, group_b)\u001b[0m\n\u001b[0;32m    222\u001b[0m         \u001b[0mgroup_b\u001b[0m \u001b[1;33m=\u001b[0m \u001b[1;33m[\u001b[0m\u001b[0mgroup_b\u001b[0m\u001b[1;33m]\u001b[0m\u001b[1;33m\u001b[0m\u001b[0m\n\u001b[0;32m    223\u001b[0m     \u001b[0mgroup\u001b[0m \u001b[1;33m=\u001b[0m \u001b[0mcommute_group\u001b[0m\u001b[1;33m(\u001b[0m\u001b[0mgroup_a\u001b[0m\u001b[1;33m,\u001b[0m \u001b[0mgroup_b\u001b[0m\u001b[1;33m)\u001b[0m\u001b[1;33m\u001b[0m\u001b[0m\n\u001b[1;32m--> 224\u001b[1;33m     \u001b[1;32mreturn\u001b[0m \u001b[0msimplify_group\u001b[0m\u001b[1;33m(\u001b[0m\u001b[0mgroup\u001b[0m\u001b[1;33m)\u001b[0m\u001b[1;33m\u001b[0m\u001b[0m\n\u001b[0m\u001b[0;32m    225\u001b[0m \u001b[1;33m\u001b[0m\u001b[0m\n\u001b[0;32m    226\u001b[0m \u001b[1;32mdef\u001b[0m \u001b[0mprint_progress\u001b[0m\u001b[1;33m(\u001b[0m\u001b[0mi\u001b[0m\u001b[1;33m,\u001b[0m \u001b[0mlength\u001b[0m\u001b[1;33m)\u001b[0m\u001b[1;33m:\u001b[0m\u001b[1;33m\u001b[0m\u001b[0m\n",
      "\u001b[1;32m/home/qfeuille/Storage/Programming/DPhil/Commutator/commutator.py\u001b[0m in \u001b[0;36msimplify_group\u001b[1;34m(group)\u001b[0m\n\u001b[0;32m    186\u001b[0m \u001b[1;33m\u001b[0m\u001b[0m\n\u001b[0;32m    187\u001b[0m \u001b[1;32mdef\u001b[0m \u001b[0msimplify_group\u001b[0m\u001b[1;33m(\u001b[0m\u001b[0mgroup\u001b[0m\u001b[1;33m)\u001b[0m\u001b[1;33m:\u001b[0m\u001b[1;33m\u001b[0m\u001b[0m\n\u001b[1;32m--> 188\u001b[1;33m     \u001b[0mremove_zeros\u001b[0m\u001b[1;33m(\u001b[0m\u001b[0mgroup\u001b[0m\u001b[1;33m)\u001b[0m\u001b[1;33m\u001b[0m\u001b[0m\n\u001b[0m\u001b[0;32m    189\u001b[0m     \u001b[1;32mfor\u001b[0m \u001b[0mncprod\u001b[0m \u001b[1;32min\u001b[0m \u001b[0mgroup\u001b[0m\u001b[1;33m:\u001b[0m\u001b[1;33m\u001b[0m\u001b[0m\n\u001b[0;32m    190\u001b[0m         \u001b[0msort_anticommuting_product\u001b[0m\u001b[1;33m(\u001b[0m\u001b[0mncprod\u001b[0m\u001b[1;33m)\u001b[0m\u001b[1;33m\u001b[0m\u001b[0m\n",
      "\u001b[1;32m/home/qfeuille/Storage/Programming/DPhil/Commutator/commutator.py\u001b[0m in \u001b[0;36mremove_zeros\u001b[1;34m(group)\u001b[0m\n\u001b[0;32m    144\u001b[0m \u001b[1;33m\u001b[0m\u001b[0m\n\u001b[0;32m    145\u001b[0m \u001b[1;32mdef\u001b[0m \u001b[0mremove_zeros\u001b[0m\u001b[1;33m(\u001b[0m\u001b[0mgroup\u001b[0m\u001b[1;33m)\u001b[0m\u001b[1;33m:\u001b[0m\u001b[1;33m\u001b[0m\u001b[0m\n\u001b[1;32m--> 146\u001b[1;33m     \u001b[0mgroup\u001b[0m\u001b[1;33m[\u001b[0m\u001b[1;33m:\u001b[0m\u001b[1;33m]\u001b[0m \u001b[1;33m=\u001b[0m \u001b[1;33m(\u001b[0m\u001b[0ma\u001b[0m \u001b[1;32mfor\u001b[0m \u001b[0ma\u001b[0m \u001b[1;32min\u001b[0m \u001b[0mgroup\u001b[0m \u001b[1;32mif\u001b[0m \u001b[0ma\u001b[0m\u001b[1;33m.\u001b[0m\u001b[0mscalar\u001b[0m \u001b[1;33m!=\u001b[0m \u001b[1;36m0\u001b[0m\u001b[1;33m)\u001b[0m\u001b[1;33m\u001b[0m\u001b[0m\n\u001b[0m\u001b[0;32m    147\u001b[0m \u001b[1;33m\u001b[0m\u001b[0m\n\u001b[0;32m    148\u001b[0m \u001b[1;32mdef\u001b[0m \u001b[0msort_anticommuting_product\u001b[0m\u001b[1;33m(\u001b[0m\u001b[0mncprod\u001b[0m\u001b[1;33m)\u001b[0m\u001b[1;33m:\u001b[0m\u001b[1;33m\u001b[0m\u001b[0m\n",
      "\u001b[1;32m/home/qfeuille/Storage/Programming/DPhil/Commutator/commutator.py\u001b[0m in \u001b[0;36m<genexpr>\u001b[1;34m(.0)\u001b[0m\n\u001b[0;32m    144\u001b[0m \u001b[1;33m\u001b[0m\u001b[0m\n\u001b[0;32m    145\u001b[0m \u001b[1;32mdef\u001b[0m \u001b[0mremove_zeros\u001b[0m\u001b[1;33m(\u001b[0m\u001b[0mgroup\u001b[0m\u001b[1;33m)\u001b[0m\u001b[1;33m:\u001b[0m\u001b[1;33m\u001b[0m\u001b[0m\n\u001b[1;32m--> 146\u001b[1;33m     \u001b[0mgroup\u001b[0m\u001b[1;33m[\u001b[0m\u001b[1;33m:\u001b[0m\u001b[1;33m]\u001b[0m \u001b[1;33m=\u001b[0m \u001b[1;33m(\u001b[0m\u001b[0ma\u001b[0m \u001b[1;32mfor\u001b[0m \u001b[0ma\u001b[0m \u001b[1;32min\u001b[0m \u001b[0mgroup\u001b[0m \u001b[1;32mif\u001b[0m \u001b[0ma\u001b[0m\u001b[1;33m.\u001b[0m\u001b[0mscalar\u001b[0m \u001b[1;33m!=\u001b[0m \u001b[1;36m0\u001b[0m\u001b[1;33m)\u001b[0m\u001b[1;33m\u001b[0m\u001b[0m\n\u001b[0m\u001b[0;32m    147\u001b[0m \u001b[1;33m\u001b[0m\u001b[0m\n\u001b[0;32m    148\u001b[0m \u001b[1;32mdef\u001b[0m \u001b[0msort_anticommuting_product\u001b[0m\u001b[1;33m(\u001b[0m\u001b[0mncprod\u001b[0m\u001b[1;33m)\u001b[0m\u001b[1;33m:\u001b[0m\u001b[1;33m\u001b[0m\u001b[0m\n",
      "\u001b[1;32m/usr/lib/python3.4/site-packages/sympy-0.7.7.dev0-py3.4.egg/sympy/core/basic.py\u001b[0m in \u001b[0;36m__ne__\u001b[1;34m(self, other)\u001b[0m\n\u001b[0;32m    338\u001b[0m            \u001b[0mbut\u001b[0m \u001b[0mfaster\u001b[0m\u001b[1;33m\u001b[0m\u001b[0m\n\u001b[0;32m    339\u001b[0m         \"\"\"\n\u001b[1;32m--> 340\u001b[1;33m         \u001b[1;32mreturn\u001b[0m \u001b[1;32mnot\u001b[0m \u001b[0mself\u001b[0m\u001b[1;33m.\u001b[0m\u001b[0m__eq__\u001b[0m\u001b[1;33m(\u001b[0m\u001b[0mother\u001b[0m\u001b[1;33m)\u001b[0m\u001b[1;33m\u001b[0m\u001b[0m\n\u001b[0m\u001b[0;32m    341\u001b[0m \u001b[1;33m\u001b[0m\u001b[0m\n\u001b[0;32m    342\u001b[0m     \u001b[1;32mdef\u001b[0m \u001b[0mdummy_eq\u001b[0m\u001b[1;33m(\u001b[0m\u001b[0mself\u001b[0m\u001b[1;33m,\u001b[0m \u001b[0mother\u001b[0m\u001b[1;33m,\u001b[0m \u001b[0msymbol\u001b[0m\u001b[1;33m=\u001b[0m\u001b[1;32mNone\u001b[0m\u001b[1;33m)\u001b[0m\u001b[1;33m:\u001b[0m\u001b[1;33m\u001b[0m\u001b[0m\n",
      "\u001b[1;32m/usr/lib/python3.4/site-packages/sympy-0.7.7.dev0-py3.4.egg/sympy/core/basic.py\u001b[0m in \u001b[0;36m__eq__\u001b[1;34m(self, other)\u001b[0m\n\u001b[0;32m    302\u001b[0m             \u001b[1;32mreturn\u001b[0m \u001b[1;32mTrue\u001b[0m\u001b[1;33m\u001b[0m\u001b[0m\n\u001b[0;32m    303\u001b[0m \u001b[1;33m\u001b[0m\u001b[0m\n\u001b[1;32m--> 304\u001b[1;33m         \u001b[1;32mfrom\u001b[0m \u001b[1;33m.\u001b[0m\u001b[0mfunction\u001b[0m \u001b[1;32mimport\u001b[0m \u001b[0mAppliedUndef\u001b[0m\u001b[1;33m,\u001b[0m \u001b[0mUndefinedFunction\u001b[0m \u001b[1;32mas\u001b[0m \u001b[0mUndefFunc\u001b[0m\u001b[1;33m\u001b[0m\u001b[0m\n\u001b[0m\u001b[0;32m    305\u001b[0m \u001b[1;33m\u001b[0m\u001b[0m\n\u001b[0;32m    306\u001b[0m         \u001b[1;32mif\u001b[0m \u001b[0misinstance\u001b[0m\u001b[1;33m(\u001b[0m\u001b[0mself\u001b[0m\u001b[1;33m,\u001b[0m \u001b[0mUndefFunc\u001b[0m\u001b[1;33m)\u001b[0m \u001b[1;32mand\u001b[0m \u001b[0misinstance\u001b[0m\u001b[1;33m(\u001b[0m\u001b[0mother\u001b[0m\u001b[1;33m,\u001b[0m \u001b[0mUndefFunc\u001b[0m\u001b[1;33m)\u001b[0m\u001b[1;33m:\u001b[0m\u001b[1;33m\u001b[0m\u001b[0m\n",
      "\u001b[1;32m/usr/lib64/python3.4/importlib/_bootstrap.py\u001b[0m in \u001b[0;36m_handle_fromlist\u001b[1;34m(module, fromlist, import_)\u001b[0m\n",
      "\u001b[1;31mKeyboardInterrupt\u001b[0m: "
     ]
    }
   ],
   "source": [
    "p((c(H,psi)))"
   ]
  },
  {
   "cell_type": "code",
   "execution_count": 97,
   "metadata": {
    "autoscroll": "json-false",
    "collapsed": false,
    "ein.tags": [
     "worksheet-0"
    ]
   },
   "outputs": [
    {
     "name": "stdout",
     "output_type": "stream",
     "text": [
      "C0: 0\n",
      "C1: 0\n",
      "C2: 0\n",
      "C3: 0\n",
      "C4: 0\n",
      "C5: -2*I*V1**2*V2*f/(3*J**4)\n",
      "C6: 0\n",
      "C7: 0\n",
      "C8: 0\n",
      "C9: 0\n",
      "C10: 0\n",
      "C11: 0\n",
      "C12: V1*f**2*(2*V1 - V2)/(3*J**4)\n",
      "C13: 0\n",
      "C14: V1*f**2*(V1 + V2)/(3*J**4)\n",
      "C15: 0\n",
      "C16: 0\n",
      "C17: -I*V1**3*f/J**4\n",
      "C18: 0\n",
      "C19: -I*V1**2*f*(2*V1 - V2)/(3*J**4)\n",
      "C20: 0\n",
      "C21: -I*V1**3*f/J**4\n",
      "C22: -I*V2*f*(V1**2 - 3*V1*V2 + f**2)/J**4\n",
      "C23: 0\n",
      "C24: 0\n",
      "C25: V1**2*f**2/J**4\n",
      "C26: -I*V1**2*f*(V1 - 2*V2)/(3*J**4)\n",
      "C27: 0\n",
      "C28: V1*(2*V1**2*V2 - V1*f**2 + V2*f**2)/(3*J**4)\n",
      "C29: 0\n",
      "C30: 0\n",
      "C31: I*f*(2*V1**2*V2 - V1*f**2 + V2*f**2)/(3*J**4)\n",
      "C32: 0\n",
      "C33: -V1*f**2*(2*V1 - V2)/(3*J**4)\n",
      "C34: 0\n",
      "C35: V1**3*V2/(3*J**4)\n",
      "C36: 0\n",
      "C37: I*V1**2*V2*f/J**4\n",
      "C38: 0\n",
      "C39: V1**2*f**2/J**4\n",
      "C40: -V1*f**2*(V1 - V2)/J**4\n",
      "C41: 0\n",
      "C42: -I*V1**3*f/J**4\n",
      "C43: 0\n",
      "C44: 0\n",
      "C45: -V1**2*f**2/J**4\n",
      "C46: 0\n",
      "C47: 0\n",
      "C48: -V1*(3*V1*V2**2 + V1*f**2 - 2*V2*f**2)/J**4\n"
     ]
    }
   ],
   "source": [
    "for x in sorted(normdict.keys(), key = lambda x: int(str(x)[1:])):\n",
    "    print(str(x)+': ' +str(normdict[x]))"
   ]
  },
  {
   "cell_type": "code",
   "execution_count": 38,
   "metadata": {
    "autoscroll": "json-false",
    "collapsed": false,
    "ein.tags": [
     "worksheet-0"
    ]
   },
   "outputs": [
    {
     "name": "stdout",
     "output_type": "stream",
     "text": [
      "1/145\r",
      "2/145\r",
      "3/145"
     ]
    },
    {
     "name": "stdout",
     "output_type": "stream",
     "text": [
      "\r",
      "4/145"
     ]
    },
    {
     "name": "stdout",
     "output_type": "stream",
     "text": [
      "\r",
      "5/145\r",
      "6/145"
     ]
    },
    {
     "name": "stdout",
     "output_type": "stream",
     "text": [
      "\r",
      "7/145\r",
      "8/145\r",
      "9/145"
     ]
    },
    {
     "name": "stdout",
     "output_type": "stream",
     "text": [
      "\r",
      "10/145\r",
      "11/145\r",
      "12/145"
     ]
    },
    {
     "name": "stdout",
     "output_type": "stream",
     "text": [
      "\r",
      "13/145\r",
      "14/145\r",
      "15/145"
     ]
    },
    {
     "name": "stdout",
     "output_type": "stream",
     "text": [
      "\r",
      "16/145\r",
      "17/145"
     ]
    },
    {
     "name": "stdout",
     "output_type": "stream",
     "text": [
      "\r",
      "18/145\r",
      "19/145"
     ]
    },
    {
     "name": "stdout",
     "output_type": "stream",
     "text": [
      "\r",
      "20/145\r",
      "21/145\r",
      "22/145\r",
      "23/145\r",
      "24/145\r",
      "25/145"
     ]
    },
    {
     "name": "stdout",
     "output_type": "stream",
     "text": [
      "\r",
      "26/145"
     ]
    },
    {
     "name": "stdout",
     "output_type": "stream",
     "text": [
      "\r",
      "27/145\r",
      "28/145\r",
      "29/145"
     ]
    },
    {
     "name": "stdout",
     "output_type": "stream",
     "text": [
      "\r",
      "30/145\r",
      "31/145\r",
      "32/145\r",
      "33/145"
     ]
    },
    {
     "name": "stdout",
     "output_type": "stream",
     "text": [
      "\r",
      "34/145\r",
      "35/145\r",
      "36/145"
     ]
    },
    {
     "name": "stdout",
     "output_type": "stream",
     "text": [
      "\r",
      "37/145"
     ]
    },
    {
     "name": "stdout",
     "output_type": "stream",
     "text": [
      "\r",
      "38/145\r",
      "39/145"
     ]
    },
    {
     "name": "stdout",
     "output_type": "stream",
     "text": [
      "\r",
      "40/145"
     ]
    },
    {
     "name": "stdout",
     "output_type": "stream",
     "text": [
      "\r",
      "41/145\r",
      "42/145"
     ]
    },
    {
     "name": "stdout",
     "output_type": "stream",
     "text": [
      "\r",
      "43/145\r",
      "44/145"
     ]
    },
    {
     "name": "stdout",
     "output_type": "stream",
     "text": [
      "\r",
      "45/145"
     ]
    },
    {
     "name": "stdout",
     "output_type": "stream",
     "text": [
      "\r",
      "46/145\r",
      "47/145"
     ]
    },
    {
     "name": "stdout",
     "output_type": "stream",
     "text": [
      "\r",
      "48/145"
     ]
    },
    {
     "name": "stdout",
     "output_type": "stream",
     "text": [
      "\r",
      "49/145\r",
      "50/145"
     ]
    },
    {
     "name": "stdout",
     "output_type": "stream",
     "text": [
      "\r",
      "51/145\r",
      "52/145\r",
      "53/145\r",
      "54/145\r",
      "55/145\r",
      "56/145\r",
      "57/145"
     ]
    },
    {
     "name": "stdout",
     "output_type": "stream",
     "text": [
      "\r",
      "58/145\r",
      "59/145\r",
      "60/145\r",
      "61/145"
     ]
    },
    {
     "name": "stdout",
     "output_type": "stream",
     "text": [
      "\r",
      "62/145\r",
      "63/145\r",
      "64/145\r",
      "65/145\r",
      "66/145"
     ]
    },
    {
     "name": "stdout",
     "output_type": "stream",
     "text": [
      "\r",
      "67/145\r",
      "68/145\r",
      "69/145"
     ]
    },
    {
     "name": "stdout",
     "output_type": "stream",
     "text": [
      "\r",
      "70/145"
     ]
    },
    {
     "name": "stdout",
     "output_type": "stream",
     "text": [
      "\r",
      "71/145"
     ]
    },
    {
     "name": "stdout",
     "output_type": "stream",
     "text": [
      "\r",
      "72/145\r",
      "73/145"
     ]
    },
    {
     "name": "stdout",
     "output_type": "stream",
     "text": [
      "\r",
      "74/145\r",
      "75/145\r",
      "76/145\r",
      "77/145\r",
      "78/145\r",
      "79/145"
     ]
    },
    {
     "name": "stdout",
     "output_type": "stream",
     "text": [
      "\r",
      "80/145\r",
      "81/145"
     ]
    },
    {
     "name": "stdout",
     "output_type": "stream",
     "text": [
      "\r",
      "82/145\r",
      "83/145\r",
      "84/145\r",
      "85/145"
     ]
    },
    {
     "name": "stdout",
     "output_type": "stream",
     "text": [
      "\r",
      "86/145"
     ]
    },
    {
     "name": "stdout",
     "output_type": "stream",
     "text": [
      "\r",
      "87/145\r",
      "88/145\r",
      "89/145\r",
      "90/145\r",
      "91/145"
     ]
    },
    {
     "name": "stdout",
     "output_type": "stream",
     "text": [
      "\r",
      "92/145\r",
      "93/145\r",
      "94/145\r",
      "95/145"
     ]
    },
    {
     "name": "stdout",
     "output_type": "stream",
     "text": [
      "\r",
      "96/145\r",
      "97/145\r",
      "98/145"
     ]
    },
    {
     "name": "stdout",
     "output_type": "stream",
     "text": [
      "\r",
      "99/145\r",
      "100/145"
     ]
    },
    {
     "name": "stdout",
     "output_type": "stream",
     "text": [
      "\r",
      "101/145\r",
      "102/145\r",
      "103/145\r",
      "104/145\r",
      "105/145\r",
      "106/145\r",
      "107/145\r",
      "108/145"
     ]
    },
    {
     "name": "stdout",
     "output_type": "stream",
     "text": [
      "\r",
      "109/145\r",
      "110/145\r",
      "111/145\r",
      "112/145\r",
      "113/145"
     ]
    },
    {
     "name": "stdout",
     "output_type": "stream",
     "text": [
      "\r",
      "114/145"
     ]
    },
    {
     "name": "stdout",
     "output_type": "stream",
     "text": [
      "\r",
      "115/145"
     ]
    },
    {
     "name": "stdout",
     "output_type": "stream",
     "text": [
      "\r",
      "116/145\r",
      "117/145"
     ]
    },
    {
     "name": "stdout",
     "output_type": "stream",
     "text": [
      "\r",
      "118/145\r",
      "119/145\r",
      "120/145\r",
      "121/145"
     ]
    },
    {
     "name": "stdout",
     "output_type": "stream",
     "text": [
      "\r",
      "122/145\r",
      "123/145\r",
      "124/145\r",
      "125/145\r",
      "126/145\r",
      "127/145"
     ]
    },
    {
     "name": "stdout",
     "output_type": "stream",
     "text": [
      "\r",
      "128/145\r",
      "129/145\r",
      "130/145\r",
      "131/145\r",
      "132/145"
     ]
    },
    {
     "name": "stdout",
     "output_type": "stream",
     "text": [
      "\r",
      "133/145\r",
      "134/145"
     ]
    },
    {
     "name": "stdout",
     "output_type": "stream",
     "text": [
      "\r",
      "135/145\r",
      "136/145"
     ]
    },
    {
     "name": "stdout",
     "output_type": "stream",
     "text": [
      "\r",
      "137/145\r",
      "138/145\r",
      "139/145\r",
      "140/145"
     ]
    },
    {
     "name": "stdout",
     "output_type": "stream",
     "text": [
      "\r",
      "141/145\r",
      "142/145"
     ]
    },
    {
     "name": "stdout",
     "output_type": "stream",
     "text": [
      "\r",
      "143/145"
     ]
    },
    {
     "name": "stdout",
     "output_type": "stream",
     "text": [
      "\r",
      "144/145\r",
      "145/145\r"
     ]
    },
    {
     "data": {
      "text/plain": [
       "{F5_17: 0,\n",
       " F5_64: 0,\n",
       " F5_80: 0,\n",
       " F5_123: 0,\n",
       " F5_169: 0,\n",
       " F5_167: 0,\n",
       " F5_47: V1*f*(-8*V1**2*V2 + 12*V1*f**2 - 3*V2*f**2)/(9*J**5),\n",
       " F5_174: 0,\n",
       " F5_150: -I*V1**3*f**2/J**5,\n",
       " F5_143: I*V1*(5*V1**2*V2**2 + V1**2*f**2 - 20*V2**2*f**2)/(9*J**5),\n",
       " F5_29: -2*V1**2*V2**2*f/(9*J**5),\n",
       " F5_24: 0,\n",
       " F5_62: 0,\n",
       " F5_133: 4*I*V1**2*V2*f**2/(3*J**5),\n",
       " F5_141: f*(6*V1**4 + 6*V1**3*V2 - 5*V1**2*V2**2 + 5*V1**2*f**2 - 3*V1*V2*f**2 + 2*V2**2*f**2)/(9*J**5),\n",
       " F5_188: I*V1**2*f**2*(V1 - V2)/J**5,\n",
       " F5_58: 0,\n",
       " F5_114: I*V1**2*f**2*(-V1 + V2)/J**5,\n",
       " F5_104: 0,\n",
       " F5_7: -4*V1**3*V2*f/(9*J**5),\n",
       " F5_180: 0,\n",
       " F5_90: 0,\n",
       " F5_132: 0,\n",
       " F5_149: 0,\n",
       " F5_172: 2*V1**3*f*(-V1 + 2*V2)/(9*J**5),\n",
       " F5_66: 2*V1**3*V2*f/(3*J**5),\n",
       " F5_148: 0,\n",
       " F5_129: 0,\n",
       " F5_159: I*V1**2*f**2*(-V1 + V2)/J**5,\n",
       " F5_157: 0,\n",
       " F5_170: 0,\n",
       " F5_71: 0,\n",
       " F5_163: 0,\n",
       " F5_120: 7*I*V1**3*V2**2/(9*J**5),\n",
       " F5_32: V1*f**3*(5*V1 - V2)/(9*J**5),\n",
       " F5_79: I*V1**2*f**2*(-2*V1 + V2)/(3*J**5),\n",
       " F5_151: 0,\n",
       " F5_0: 0,\n",
       " F5_4: 0,\n",
       " F5_59: 0,\n",
       " F5_99: I*V1**2*f**2*(-5*V1 + V2)/(9*J**5),\n",
       " F5_87: V1**2*f**3/J**5,\n",
       " F5_50: 0,\n",
       " F5_1: I*V1*V2*f**2*(13*V1 - 7*V2)/(9*J**5),\n",
       " F5_193: 0,\n",
       " F5_181: 0,\n",
       " F5_77: V1*f*(-3*V1**2*V2 + V1*f**2 - V2*f**2)/(9*J**5),\n",
       " F5_36: 0,\n",
       " F5_46: 0,\n",
       " F5_74: 5*V1**3*V2*f/(9*J**5),\n",
       " F5_100: -I*V1**3*f**2/J**5,\n",
       " F5_122: V1*f*(-2*V1**2*V2 + 16*V1*V2**2 + 3*V1*f**2 - 6*V2*f**2)/(3*J**5),\n",
       " F5_49: 0,\n",
       " F5_101: 0,\n",
       " F5_53: 4*V1**3*f*(-V1 + V2)/(9*J**5),\n",
       " F5_147: 0,\n",
       " F5_161: V1*f*(-4*V1**3 + 10*V1**2*V2 - 7*V1*V2**2 - 9*V1*f**2 + 6*V2*f**2)/(9*J**5),\n",
       " F5_28: 0,\n",
       " F5_166: V1*f*(3*V1*V2**2 + V1*f**2 - V2*f**2)/J**5,\n",
       " F5_103: 0,\n",
       " F5_168: 0,\n",
       " F5_86: 0,\n",
       " F5_146: 0,\n",
       " F5_75: 0,\n",
       " F5_51: 0,\n",
       " F5_153: I*V1**2*f**2*(-2*V1 + V2)/(3*J**5),\n",
       " F5_191: I*(-V1**4*V2 - 4*V1**3*f**2 + 24*V1**2*V2**3 + 22*V1**2*V2*f**2 - 21*V1*V2**2*f**2 - 3*V1*f**4 + 3*V2*f**4)/(3*J**5),\n",
       " F5_37: -I*V1**2*V2*f**2/(9*J**5),\n",
       " F5_34: 5*I*V1**2*V2*f**2/(9*J**5),\n",
       " F5_130: 0,\n",
       " F5_124: 0,\n",
       " F5_154: 0,\n",
       " F5_115: 0,\n",
       " F5_54: V1*f*(5*V1*V2**2 + 7*V1*f**2 - 5*V2*f**2)/(9*J**5),\n",
       " F5_158: 0,\n",
       " F5_16: I*V1**2*(-3*V1**2*V2 + 5*V1*f**2 + 16*V2*f**2)/(9*J**5),\n",
       " F5_15: 0,\n",
       " F5_78: 0,\n",
       " F5_119: I*V1**2*f**2*(-V1 + V2)/J**5,\n",
       " F5_156: 0,\n",
       " F5_190: I*(3*V1**4*V2 - 3*V1**3*f**2 + 24*V1**2*V2**3 + 19*V1**2*V2*f**2 - 24*V1*V2**2*f**2 - V1*f**4 + V2*f**4)/(3*J**5),\n",
       " F5_131: V1*f*(-4*V1**3 + 19*V1**2*V2 + V1*V2**2 + V1*f**2 - V2*f**2)/(9*J**5),\n",
       " F5_2: 0,\n",
       " F5_112: I*V1**2*(7*V1*V2**2 + 6*V1*f**2 - 6*V2*f**2)/(9*J**5),\n",
       " F5_40: 0,\n",
       " F5_194: -V1**3*f*(4*V1 + V2)/(9*J**5),\n",
       " F5_185: 0,\n",
       " F5_136: f*(-4*V1**3*V2 + 23*V1**2*V2**2 - V1**2*f**2 - 6*V1*V2*f**2 - 2*V2**2*f**2)/(3*J**5),\n",
       " F5_72: 0,\n",
       " F5_94: 0,\n",
       " F5_76: 0,\n",
       " F5_126: I*V1*V2*f**2*(-8*V1 + 7*V2)/(9*J**5),\n",
       " F5_173: 0,\n",
       " F5_164: 0,\n",
       " F5_39: -4*I*V1**2*V2*f**2/(9*J**5),\n",
       " F5_20: 0,\n",
       " F5_26: 0,\n",
       " F5_98: 0,\n",
       " F5_91: 0,\n",
       " F5_186: I*V1**2*f**2*(V1 - 2*V2)/J**5,\n",
       " F5_30: 0,\n",
       " F5_68: -I*V1**2*f**2*(V1 + V2)/(3*J**5),\n",
       " F5_125: 0,\n",
       " F5_21: -V1**3*V2*f/(3*J**5),\n",
       " F5_162: 0,\n",
       " F5_84: 0,\n",
       " F5_176: f*(2*V1**3*V2 - 9*V1**2*V2**2 - 4*V1**2*f**2 + 6*V1*V2**3 + 7*V1*V2*f**2 - 3*V2**2*f**2)/(3*J**5),\n",
       " F5_128: -I*V1**3*f**2/J**5,\n",
       " F5_69: 0,\n",
       " F5_8: 0,\n",
       " F5_187: I*V1**3*f**2/J**5,\n",
       " F5_43: V1**3*V2*f/(3*J**5),\n",
       " F5_23: 0,\n",
       " F5_31: 2*V1**2*V2**2*f/(9*J**5),\n",
       " F5_25: 0,\n",
       " F5_137: 0,\n",
       " F5_19: 0,\n",
       " F5_117: 0,\n",
       " F5_92: 0,\n",
       " F5_179: I*(-2*V1**3*V2**2 + 2*V1**3*f**2 - 10*V1**2*V2*f**2 + 17*V1*V2**2*f**2 - V1*f**4 - 2*V2*f**4)/(3*J**5),\n",
       " F5_81: 0,\n",
       " F5_118: 0,\n",
       " F5_178: 0,\n",
       " F5_195: I*V1**4*V2/(3*J**5),\n",
       " F5_121: 0,\n",
       " F5_18: V1**3*V2*f/J**5,\n",
       " F5_107: 0,\n",
       " F5_109: -2*V1**2*V2*f*(4*V1 + V2)/(9*J**5),\n",
       " F5_145: V1**3*V2*f/J**5,\n",
       " F5_139: 0,\n",
       " F5_11: -V1**3*V2*f/(9*J**5),\n",
       " F5_52: 0,\n",
       " F5_42: 0,\n",
       " F5_113: 0,\n",
       " F5_155: I*V1**2*f**2*(V1 - 2*V2)/(3*J**5),\n",
       " F5_102: I*f**2*(8*V1**3 - 11*V1**2*V2 - 5*V1*V2**2 + V1*f**2 - V2*f**2)/(9*J**5),\n",
       " F5_111: 0,\n",
       " F5_108: 0,\n",
       " F5_196: I*V1**2*f**2*(V1 - V2)/J**5,\n",
       " F5_5: 0,\n",
       " F5_152: 0,\n",
       " F5_3: 0,\n",
       " F5_93: 0,\n",
       " F5_44: 0,\n",
       " F5_60: 0,\n",
       " F5_48: 0,\n",
       " F5_96: -5*I*V1**4*V2/(9*J**5),\n",
       " F5_63: -I*V1**2*f**2*(5*V1 + V2)/(9*J**5),\n",
       " F5_9: 0,\n",
       " F5_184: V1**2*V2*f*(7*V1 + 2*V2)/(9*J**5),\n",
       " F5_105: 0,\n",
       " F5_67: 0,\n",
       " F5_142: 0,\n",
       " F5_85: V1*f*(-2*V1**2*V2 + 3*V1*V2**2 - 7*V1*f**2 + 6*V2*f**2)/(9*J**5),\n",
       " F5_70: 0,\n",
       " F5_88: 0,\n",
       " F5_116: -V1**4*f/J**5,\n",
       " F5_38: 0,\n",
       " F5_140: 0,\n",
       " F5_182: 0,\n",
       " F5_33: 0,\n",
       " F5_165: V1*f*(-2*V1**3 + V1**2*V2 - V1*f**2 + 2*V2*f**2)/(3*J**5),\n",
       " F5_97: 0,\n",
       " F5_65: I*V1**2*f**2*(2*V1 + V2)/(9*J**5),\n",
       " F5_22: V1**3*V2*f/(3*J**5),\n",
       " F5_10: 0,\n",
       " F5_82: 0,\n",
       " F5_13: 2*I*V1**2*(3*V1*V2**2 + 3*V1*f**2 - V2*f**2)/(9*J**5),\n",
       " F5_138: -V1**3*V2*f/(3*J**5),\n",
       " F5_127: 0,\n",
       " F5_177: 0,\n",
       " F5_12: 0,\n",
       " F5_89: I*V1**2*f**2*(-5*V1 + V2)/(9*J**5),\n",
       " F5_110: V1**2*f*(-2*V1*V2 + f**2)/J**5,\n",
       " F5_183: I*V1**2*(-5*V1*V2**2 + 2*V1*f**2 + 5*V2*f**2)/(9*J**5),\n",
       " F5_160: 0,\n",
       " F5_55: 0,\n",
       " F5_83: I*V1**2*f**2*(V1 - 2*V2)/(3*J**5),\n",
       " F5_57: 0,\n",
       " F5_189: I*f**2*(-5*V1**3 + 18*V1**2*V2 - 15*V1*V2**2 - V1*f**2 + 6*V2**3 + V2*f**2)/(3*J**5),\n",
       " F5_56: V1*f*(5*V1*V2**2 + 4*V1*f**2 + V2*f**2)/(9*J**5),\n",
       " F5_27: 0,\n",
       " F5_14: 0,\n",
       " F5_135: I*V1*f**2*(-3*V1**2 + 2*V1*V2 - V2**2)/(3*J**5),\n",
       " F5_106: 0,\n",
       " F5_35: 0,\n",
       " F5_144: 0,\n",
       " F5_61: 0,\n",
       " F5_6: 0,\n",
       " F5_41: -V1**3*V2*f/(3*J**5),\n",
       " F5_134: 0,\n",
       " F5_175: I*V1**2*f**2*(4*V1 + V2)/(9*J**5),\n",
       " F5_95: 0,\n",
       " F5_171: -I*V1**3*f**2/J**5,\n",
       " F5_192: I*V1**2*f**2*(-V1 + 2*V2)/(3*J**5),\n",
       " F5_73: I*V1**2*f**2*(-2*V1 + V2)/(3*J**5),\n",
       " F5_45: 0}"
      ]
     },
     "execution_count": 38,
     "metadata": {},
     "output_type": "execute_result"
    }
   ],
   "source": [
    "normdict = check_normalisable(psi, iofvars, 5, orders, split_orders, update_splits=True)\n",
    "normdict"
   ]
  },
  {
   "cell_type": "code",
   "execution_count": 39,
   "metadata": {
    "autoscroll": "json-false",
    "collapsed": false,
    "ein.tags": [
     "worksheet-0"
    ]
   },
   "outputs": [],
   "source": [
    "save_group(psi, 'psi_dual' + '_r' + str(5), iofvars=iofvars, split_orders=split_orders)"
   ]
  }
 ],
 "metadata": {},
 "nbformat": 4,
 "nbformat_minor": 0
}
