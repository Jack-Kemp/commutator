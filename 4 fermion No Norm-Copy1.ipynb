
In [1]:
%load_ext autoreload

In [1]:
from commutator import *

In [2]:
from pprint import pprint

In [2]:
V,J,f = symbols('V J f')
L = 20
orders = {V:1,f:1}
print_group.orders = orders
fpart = [Ncproduct(I*f, [2*j+1,2*j+2]) for j in range(L)]
Vpart = [Ncproduct(V, [2*j+1,2*j+2,2*j+3,2*j+4]) for j in range(L-2)]
small = fpart+Vpart
Jpart = [Ncproduct(I*J, [2*j+2,2*j+3]) for j in range(L-1)]
H = fpart + Vpart +Jpart

In [3]:
p = print_group
c = calculate_commutator
N = Ncproduct

In [4]:
psi0 = N(1, 'a1')
p(c(H,psi0))
{−2⋅i⋅f⋅b1
−2⋅V⋅b1⋅a2⋅b2}


In [5]:
psi1a = N(f/J, 'a2')
psi1V = N(V/(I*J), 'b1 a2 a3')
psi1 = psi1a+psi1V
split_orders = [0,1,3]
p(psi1)
{+f/J⋅a2
−i⋅V/J⋅b1⋅a2⋅a3}


In [14]:
p(c(H,psi0+psi1))
p(multiply_groups(psi0+psi1,psi0+psi1))
{−2⋅V⋅f/J⋅a1⋅b1⋅b2
+2⋅V⋅f/J⋅a1⋅a2⋅a3
−2⋅V⋅f/J⋅b1⋅a2⋅b3
−2⋅V⋅f/J⋅b1⋅b2⋅a3
−2⋅i⋅f^2/J⋅b2
+2⋅i⋅V^2/J⋅b1⋅a2⋅b3⋅a4⋅b4
−2⋅V⋅f/J⋅b2⋅a3⋅b3}
{+1 + V^2/J^2 + f^2/J^2
+2⋅i⋅V⋅f/J^2⋅b1⋅a3}


In [6]:
subspace, matrixrows = sparse_find_subspace(c(H, psi0+psi1), Jpart)
print_subspace(subspace)
cvector = build_vector_to_cancel(c(H, psi0+psi1), subspace)
iofvars = []
psi2 =sparse_solve_for_commuting_term(cvector, psi0+psi1, 2, orders, matrixrows, subspace, norm = False, iofvars = iofvars)
p(psi2)
print('\n')
psi = psi0+psi1+psi2
p(c(H,psi))
iofvars
0: a1 b1 b2
1: a1 a2 b2
2: a1 a2 a3
3: a1 b1 a3
4: b1 a2 b3
5: b1 a2 a4
6: b1 b2 a3
7: a2 b2 a3
8: b2
9: a3
10: b1 a2 b3 a4 b4
11: b1 a2 b3 a4 a5
12: b2 a3 b3
13: b2 a3 a4
[[1, 3], [0, 2], [5], [4], [7], [6], [9], [8], [11], [10], [13], [12]]
fvar2: A0
fvar3: A1
{−A0⋅a1⋅a2⋅a3
−A0⋅a1⋅b1⋅b2
+A1 - i⋅V⋅f/J^2⋅a1⋅a2⋅b2
−A1⋅a1⋅b1⋅a3
+f^2/J^2⋅a3
−i⋅V⋅f/J^2⋅b2⋅a3⋅a4
−i⋅V⋅f/J^2⋅a2⋅b2⋅a3
−V^2/J^2⋅b1⋅a2⋅b3⋅a4⋅a5
−i⋅V⋅f/J^2⋅b1⋅a2⋅a4}


{+2⋅A1⋅V⋅a1⋅b1⋅a2⋅b2⋅b3
+2⋅A0⋅V⋅a1⋅a2⋅b3⋅a4⋅b4
+2⋅i⋅A0⋅f⋅a1⋅b2⋅a3
+2⋅A0⋅V⋅a2
+2⋅i⋅A0⋅f⋅a1⋅a2⋅b3
+2⋅A1⋅V⋅a1⋅b1⋅b3⋅a4⋅b4
+2⋅i⋅A1⋅f⋅a1⋅b1⋅b3
−2⋅i⋅A1⋅f - 2⋅V⋅f^2/J^2⋅b1⋅a2⋅b2
−2⋅A0⋅V⋅a1⋅b1⋅a2⋅a3⋅b3
+2⋅A1⋅V - 2⋅i⋅V^2⋅f/J^2⋅b1
−2⋅i⋅A0⋅f⋅a1⋅b1⋅a2
+2⋅i⋅A0⋅f⋅b1⋅a2⋅a3
+2⋅i⋅V^2⋅f/J^2⋅b1⋅a2⋅b4⋅a5⋅b5
+2⋅V⋅f^2/J^2⋅a1⋅a2⋅a4
−2⋅V⋅f^2/J^2⋅b2⋅a3⋅b4
+2⋅V^3/J^2⋅b1⋅a2⋅b3⋅a4⋅b5⋅a6⋅b6
+2⋅i⋅V^2⋅f/J^2⋅b1⋅b2⋅a3⋅b3⋅a4
+2⋅i⋅V^2⋅f/J^2⋅b1⋅a2⋅a3⋅b3⋅b4
−4⋅V⋅f^2/J^2⋅a2⋅b2⋅b3
−2⋅i⋅V^2⋅f/J^2⋅a1⋅a2⋅b3⋅a4⋅a5
−2⋅V⋅f^2/J^2⋅b1⋅b2⋅a4
+2⋅i⋅V^2⋅f/J^2⋅a2⋅b2⋅b3⋅a4⋅b4
−2⋅i⋅V^2⋅f/J^2⋅b1⋅a2⋅a3⋅a4⋅a5
+2⋅i⋅V^2⋅f/J^2⋅b2⋅a3⋅b4⋅a5⋅b5
−2⋅V⋅f^2/J^2⋅b1⋅a2⋅b4
+2⋅i⋅V^2⋅f/J^2⋅b1⋅a2⋅b3⋅a4⋅b5
−2⋅V⋅f^2/J^2⋅b2⋅b3⋅a4
+2⋅i⋅V^2⋅f/J^2⋅b1⋅b2⋅b3⋅a4⋅a5
+2⋅i⋅V^2⋅f/J^2⋅b1⋅a2⋅b3⋅b4⋅a5
−2⋅i⋅V^2⋅f/J^2⋅a1⋅b1⋅a2⋅a3⋅a4
−2⋅V⋅f^2/J^2⋅b3⋅a4⋅b4
+2⋅V⋅f^2/J^2⋅a2⋅a3⋅a4
−2⋅i⋅V^2⋅f/J^2 - 2⋅i⋅f^3/J^2⋅b3}

[A0, A1]

In [42]:
order = 3
norm = simplify_group([(a*b)
                           for i in range(order+1)
                           for a in psi[split_orders[i]:split_orders[i+1]]
                           for b in psi[split_orders[(order-i)]:split_orders[(order-i+1)]]
	    ])
to_cancel = [ncprod.scalar for ncprod in norm if ncprod.product]
p(norm)
p(square_group_to_order(psi,3,split_orders))
{−2⋅B5⋅b1⋅b3⋅a4⋅b4
−2⋅B0⋅a2⋅a4
−2⋅B2⋅b1⋅a2⋅b2⋅b3
−2⋅B3⋅b1⋅a2⋅a3⋅b3
−2⋅B4 + 2⋅V^2⋅f/J^3⋅b1⋅b3⋅a4⋅a5
−2⋅B2⋅b1⋅a2⋅a3⋅a4
−2⋅B1⋅a2⋅b3
−2⋅B5⋅a2⋅b3⋅a4⋅a5
−2⋅B0⋅b1⋅b3
−2⋅B6 - 2⋅i⋅V⋅f^2/J^3⋅b2⋅a3
+2⋅B3⋅b1⋅a2⋅b2⋅a4
+2⋅B1⋅b1⋅a4
+2⋅B4 - 2⋅V^2⋅f/J^3⋅a2⋅b3⋅a4⋅b4
−2⋅B7 - 2⋅i⋅V⋅f^2/J^3⋅b1⋅a2}
{−2⋅B5⋅b1⋅b3⋅a4⋅b4
−2⋅B0⋅a2⋅a4
−2⋅B2⋅b1⋅a2⋅b2⋅b3
−2⋅B3⋅b1⋅a2⋅a3⋅b3
−2⋅B4 + 2⋅V^2⋅f/J^3⋅b1⋅b3⋅a4⋅a5
−2⋅B2⋅b1⋅a2⋅a3⋅a4
−2⋅B1⋅a2⋅b3
−2⋅B5⋅a2⋅b3⋅a4⋅a5
−2⋅B0⋅b1⋅b3
−2⋅B6 - 2⋅i⋅V⋅f^2/J^3⋅b2⋅a3
+2⋅B3⋅b1⋅a2⋅b2⋅a4
+2⋅B1⋅b1⋅a4
+2⋅B4 - 2⋅V^2⋅f/J^3⋅a2⋅b3⋅a4⋅b4
−2⋅B7 - 2⋅i⋅V⋅f^2/J^3⋅b1⋅a2}


In [30]:
del split_orders[3]

In [32]:
split_orders
[0, 1, 3, 9, 46]

In [37]:
multiply_groups(psi[split_orders[3]:split_orders[4]], psi[split_orders[0]:split_orders[1]]
[-B2 : [1, 2, 3, 4, 6],
 V**2*f/(3*J**3) : [2, 3, 4, 7, 9],
 -4*I*V*f**2/(3*J**3) : [3, 4, 7],
 V**2*f/(3*J**3) : [2, 5, 6, 7, 9],
 I*V*f**2/(3*J**3) : [2, 4, 6],
 V**2*f/J**3 + f**3/J**3 : [7],
 -V**2*f/J**3 : [2, 3, 8, 9, 11],
 -B6 : [1, 4, 5],
 2*V**2*f/(3*J**3) : [2, 4, 6, 7, 8],
 -V**2*f/J**3 : [4, 5, 8, 9, 11],
 -V**2*f/J**3 : [2, 3, 6, 7, 11],
 B4 - V**2*f/J**3 : [1, 3, 6, 7, 8],
 -V**2*f/J**3 : [3, 4, 5, 6, 7],
 -B7 : [1, 2, 3],
 -V**2*f/(3*J**3) : [2, 3, 4, 6, 8],
 -B5 : [1, 3, 6, 7, 9],
 -B0 : [1, 3, 7],
 -I*V*f**2/J**3 : [5, 6, 7],
 -B0 : [1, 2, 6],
 -I*V*f**2/J**3 : [2, 3, 9],
 -B5 : [1, 2, 6, 7, 8],
 -B4 : [1, 2, 6, 7, 9],
 -B1 : [1, 3, 6],
 B1 - I*V*f**2/J**3 : [1, 2, 7],
 -V**2*f/J**3 : [2, 3, 7, 8, 9],
 I*V**3/J**3 : [2, 3, 6, 7, 10, 11, 13],
 -I*V*f**2/J**3 : [4, 5, 9],
 V**2*f/(3*J**3) : [3, 5, 6, 7, 8],
 -B3 : [1, 2, 3, 5, 6],
 -I*V*f**2/(3*J**3) : [3, 5, 6],
 -2*V**2*f/(3*J**3) : [2, 3, 5, 6, 9],
 2*I*V*f**2/(3*J**3) : [2, 5, 7],
 B3 - V**2*f/J**3 : [1, 2, 3, 4, 7],
 -2*V**2*f/(3*J**3) : [3, 4, 6, 7, 9],
 -2*V**2*f/(3*J**3) : [2, 3, 5, 7, 8],
 -B2 : [1, 2, 3, 5, 7],
 -I*V*f**2/J**3 : [6, 7, 9]]

In [7]:
orders.update(zip(iofvars,[2]*len(iofvars)))
normdict= check_normalisable(psi0+psi1+psi2, iofvars, 2, orders, split_orders)
normdict
2/2
{A1: I*V*f/J**2, A0: 0}

In [19]:
psi = substitute_group(psi, normdict)

In [8]:
subspace, matrixrows = sparse_find_subspace(c(H, psi), Jpart)
print_subspace(subspace)
cvector = build_vector_to_cancel(c(H, psi), subspace)
subs_rules = {}
psi3 = sparse_solve_for_commuting_term(cvector, psi, 3, orders, matrixrows, subspace, norm= False, fvarname = 'B', iofvars=iofvars, subs_rules = subs_rules)
p(psi3)
print('\n')
p(c(H,psi+psi3))
...............................

In [9]:
orders.update(zip(iofvars,[3]*len(iofvars)))
p.orders = orders

In [12]:
p(psi)
subs_rules
{+1⋅a1
+f/J⋅a2
−i⋅V/J⋅b1⋅a2⋅a3
−A0⋅a1⋅a2⋅a3
+f^2/J^2⋅a3
−i⋅V⋅f/J^2⋅b2⋅a3⋅a4
−A0⋅a1⋅b1⋅b2
+A1 - i⋅V⋅f/J^2⋅a1⋅a2⋅b2
−i⋅V⋅f/J^2⋅a2⋅b2⋅a3
−V^2/J^2⋅b1⋅a2⋅b3⋅a4⋅a5
−A1⋅a1⋅b1⋅a3
−i⋅V⋅f/J^2⋅b1⋅a2⋅a4}

{A1: I*V*f/J**2, A0: 0}

In [22]:
def substitute_group(group, subs_rules, split_orders = None):
    temp = [Ncproduct(sympify(ncprod.scalar).subs((var, rule) for var, rule in subs_rules.items()),
                     ncprod.product) for ncprod in group]
    remove_zeros(temp)
    if split_orders is not None:
        split_orders[-1] = len(temp)
    return temp

In [23]:
psi = substitute_group(psi0+psi1+psi2, subs_rules, split_orders = split_orders)
psi += psi3

In [24]:
psi
[1 : [1],
 f/J : [3],
 -I*V/J : [2, 3, 5],
 f**2/J**2 : [5],
 -I*V*f/J**2 : [4, 5, 7],
 -I*V*f/J**2 : [3, 4, 5],
 -V**2/J**2 : [2, 3, 6, 7, 9],
 -I*V*f/J**2 : [1, 2, 5],
 -I*V*f/J**2 : [2, 3, 7],
 -B2 : [1, 2, 3, 4, 6],
 V**2*f/(3*J**3) : [2, 3, 4, 7, 9],
 -4*I*V*f**2/(3*J**3) : [3, 4, 7],
 V**2*f/(3*J**3) : [2, 5, 6, 7, 9],
 I*V*f**2/(3*J**3) : [2, 4, 6],
 V**2*f/J**3 + f**3/J**3 : [7],
 -V**2*f/J**3 : [2, 3, 8, 9, 11],
 -B6 : [1, 4, 5],
 2*V**2*f/(3*J**3) : [2, 4, 6, 7, 8],
 -V**2*f/J**3 : [4, 5, 8, 9, 11],
 -V**2*f/J**3 : [2, 3, 6, 7, 11],
 B4 - V**2*f/J**3 : [1, 3, 6, 7, 8],
 -V**2*f/J**3 : [3, 4, 5, 6, 7],
 -B7 : [1, 2, 3],
 -V**2*f/(3*J**3) : [2, 3, 4, 6, 8],
 -B5 : [1, 3, 6, 7, 9],
 -B0 : [1, 3, 7],
 -I*V*f**2/J**3 : [5, 6, 7],
 -B0 : [1, 2, 6],
 -I*V*f**2/J**3 : [2, 3, 9],
 -B5 : [1, 2, 6, 7, 8],
 -B4 : [1, 2, 6, 7, 9],
 -B1 : [1, 3, 6],
 B1 - I*V*f**2/J**3 : [1, 2, 7],
 -V**2*f/J**3 : [2, 3, 7, 8, 9],
 I*V**3/J**3 : [2, 3, 6, 7, 10, 11, 13],
 -I*V*f**2/J**3 : [4, 5, 9],
 V**2*f/(3*J**3) : [3, 5, 6, 7, 8],
 -B3 : [1, 2, 3, 5, 6],
 -I*V*f**2/(3*J**3) : [3, 5, 6],
 -2*V**2*f/(3*J**3) : [2, 3, 5, 6, 9],
 2*I*V*f**2/(3*J**3) : [2, 5, 7],
 B3 - V**2*f/J**3 : [1, 2, 3, 4, 7],
 -2*V**2*f/(3*J**3) : [3, 4, 6, 7, 9],
 -2*V**2*f/(3*J**3) : [2, 3, 5, 7, 8],
 -B2 : [1, 2, 3, 5, 7],
 -I*V*f**2/J**3 : [6, 7, 9]]

In [ ]:


In [ ]:


In [43]:
check_normalisable(psi, iofvars, 3, orders, split_orders)
8/8
{B7: -I*V*f**2/J**3,
 B5: 0,
 B2: 0,
 B6: -I*V*f**2/J**3,
 B4: V**2*f/J**3,
 B1: 0,
 B3: 0,
 B0: 0}

In [29]:
p.orders
{V: 1, B4: 3, A0: 2, B3: 3, B5: 3, A1: 2, f: 1, B2: 3, B0: 3, B1: 3}

In [31]:
linsolve(Matrix([[0,1]]),V)
EmptySet()

In [26]:
p(multiply_groups(psi,psi))
.

In [44]:
subspace, matrixrows = sparse_find_subspace(c(H, psi), Jpart)
print_subspace(subspace)
cvector = build_vector_to_cancel(c(H, psi), subspace)
subs_rules = {}
psi4 = sparse_solve_for_commuting_term(cvector, psi, 4, orders, matrixrows, subspace, norm= False, fvarname = 'C', iofvars=iofvars, subs_rules = subs_rules)
0: a1 b1 b4
1: a1 b1 a5
2: a1 a2 a5
3: a1 a2 b4
4: b1 b2 a4 b4 a5
5: b1 a3 a4 b4 a5
6: b1 a3 b3 b4 a5
7: a2 a3 b3 b4 a5
8: a2 b2 b3 b4 a5
9: b1 b2 b3 b4 a5
10: a2 b2 a4 b4 a5
11: a2 a3 a4 b4 a5
12: b1 b2 a3 a4 b4
13: a2 b2 a3 a4 b4
14: a2 b2 a3 a4 a5
15: b1 b2 a3 a4 a5
16: b1 b2 a3 b3 a5
17: a2 b2 a3 b3 a5
18: a2 b2 a3 b3 b4
19: b1 b2 a3 b3 b4
20: b1 a2 b3
21: b1 a2 a4
22: a2 b2 b3 a4 b5 a6 b6
23: b1 b2 b3 a4 b5 a6 b6
24: b1 b2 b3 a4 b5 a6 a7
25: a2 b2 b3 a4 b5 a6 a7
26: a2 a3 b3 a4 b5 a6 a7
27: b1 a3 b3 a4 b5 a6 a7
28: b1 a3 b3 a4 b5 a6 b6
29: a2 a3 b3 a4 b5 a6 b6
30: a1 a2 b3 a4 b5
31: a1 b1 b3 a4 b5
32: a1 b1 b3 a4 a6
33: a1 a2 b3 a4 a6
34: b2 a3 b4 b5 a6
35: b2 a3 a5 b5 a6
36: b1 a2 b3 a4 b6 a7 b7
37: b1 a2 b3 a4 b6 a7 a8
38: a1 a4 a5
39: a1 b3 a5
40: a1 b3 b4
41: a1 a4 b4
42: a1 a2 b2 b3 b4
43: a1 a2 b2 b3 a5
44: a1 a2 b2 a4 a5
45: a1 b1 b2 a4 a5
46: a1 b1 b2 b3 a5
47: a1 b1 a3 b3 a5
48: a1 a2 a3 b3 a5
49: a1 a2 a3 a4 a5
50: a1 a2 a3 a4 b4
51: a1 b1 a3 a4 b4
52: a1 b1 b2 a4 b4
53: a1 b1 b2 b3 b4
54: a1 b1 a3 b3 b4
55: a1 a2 a3 b3 b4
56: a1 a2 b2 a4 b4
57: a1 b1 a3 a4 a5
58: b1 a2 b2 a3 b3 b4 a5
59: b1 a2 b2 a3 a4 b4 a5
60: b1 b2 a5
61: b1 b2 b4
62: a2 b2 b4
63: a2 b2 a5
64: a2 a3 a5
65: b1 a3 a5
66: b1 a3 b4
67: a2 a3 b4
68: b1 a2 b3 a4 a5 b5 b6
69: b1 a2 b3 a4 a5 b5 a7
70: b1 a2 b3 a4 b4 b5 a7
71: b1 a2 b3 a4 b4 a6 a7
72: b1 a2 b3 a4 a5 a6 a7
73: b1 a2 b3 a4 a5 a6 b6
74: b1 a2 b3 a4 b4 a6 b6
75: b1 a2 b3 a4 b4 b5 b6
76: b1 a2 a3 a4 a6
77: b1 a2 a3 b3 a6
78: b1 a2 b2 b3 a6
79: b1 a2 b2 a4 a6
80: b1 a2 b2 a4 b5
81: b1 a2 b2 b3 b5
82: b1 a2 a3 b3 b5
83: b1 a2 a3 a4 b5
84: b1 a2 b3 b4 b5 a6 a7
85: b1 a2 a4 b4 b5 a6 a7
86: b1 a2 a4 a5 b5 a6 a7
87: b1 a2 b3 a5 b5 a6 a7
88: b1 a2 b3 a5 b5 a6 b6
89: b1 a2 a4 a5 b5 a6 b6
90: b1 a2 a4 b4 b5 a6 b6
91: b1 a2 b3 b4 b5 a6 b6
92: b4 a5 b5
93: b4 a5 a6
94: a1 b1 a2 b2 a3 b3 b4
95: a1 b1 a2 b2 a3 a4 b4
96: a1 b1 a2 b2 a3 a4 a5
97: a1 b1 a2 b2 a3 b3 a5
98: a1 a2 a3
99: a1 a2 b2
100: a1 b1 b2
101: a1 b1 a3
102: a3 a4 a5
103: a3 b3 a5
104: b2 b3 a5
105: b2 b3 b4
106: b2 a4 b4
107: b2 a4 a5
108: a3 a4 b4
109: a3 b3 b4
110: a2 b2 b3 a4 b5
111: a2 a3 b3 a4 b5
112: b1 a3 b3 a4 b5
113: b1 b2 b3 a4 b5
114: b1 b2 b3 a4 a6
115: a2 b2 b3 a4 a6
116: a2 a3 b3 a4 a6
117: b1 a3 b3 a4 a6
118: b1 a2 b4 a5 b6
119: b1 a2 b4 a5 a7
120: b1 a2 a3 b3 a4 a5 a6
121: b1 a2 a3 b3 a4 b4 a6
122: b1 a2 a3 b3 a4 b4 b5
123: b1 a2 b2 b3 a4 b4 b5
124: b1 a2 b2 b3 a4 a5 b5
125: b1 a2 b2 b3 a4 a5 a6
126: b1 a2 b2 b3 a4 b4 a6
127: b1 a2 a3 b3 a4 a5 b5
128: b1 a2 a3 a4 b5 a6 a7
129: b1 a2 a3 a4 b5 a6 b6
130: b1 a2 b2 a4 b5 a6 b6
131: b1 a2 b2 b3 b5 a6 b6
132: b1 a2 b2 b3 b5 a6 a7
133: b1 a2 a3 b3 b5 a6 a7
134: b1 a2 a3 b3 b5 a6 b6
135: b1 a2 b2 a4 b5 a6 a7
136: b1 a2 b3 b4 a5 b5 a6
137: b1 a2 a4 b4 a5 b5 a6
138: a1 b2 b3
139: a1 b2 a4
140: a1 a3 a4
141: a1 a3 b3
142: b1 a3 b4 a5 b5
143: a2 a3 b4 a5 b5
144: a2 a3 b4 a5 a6
145: a2 b2 b4 a5 a6
146: a2 b2 b4 a5 b5
147: b1 b2 b4 a5 b5
148: b1 b2 b4 a5 a6
149: b1 a3 b4 a5 a6
150: a1 a2 b3 a4 b5 a6 b6
151: a1 a2 b3 a4 b5 a6 a7
152: a1 b1 b3 a4 b5 a6 a7
153: a1 b1 b3 a4 b5 a6 b6
154: b2 a3 b4 a5 b6
155: b2 a3 b4 a5 a7
156: a2 b2 a3 b3 b4 a5 b5
157: b1 b2 a3 b3 b4 a5 b5
158: b1 b2 a3 b3 b4 a5 a6
159: b1 b2 a3 a4 b4 a5 a6
160: b1 b2 a3 a4 b4 a5 b5
161: a2 b2 a3 a4 b4 a5 b5
162: a2 b2 a3 a4 b4 a5 a6
163: a2 b2 a3 b3 b4 a5 a6
164: b2 b3 b4 a5 a6
165: b2 b3 b4 a5 b5
166: b2 a4 b4 a5 b5
167: b2 a4 b4 a5 a6
168: a3 a4 b4 a5 a6
169: a3 b3 b4 a5 a6
170: a3 b3 b4 a5 b5
171: a3 a4 b4 a5 b5
172: a1 b1 b2 a3 a4
173: a1 b1 b2 a3 b3
174: a1 a2 b2 a3 b3
175: a1 a2 b2 a3 a4
176: b1 b4 a5
177: a2 b4 a5
178: a1 a2 b2 a3 b3 a4 a5
179: a1 b1 b2 a3 b3 a4 a5
180: a1 b1 b2 a3 b3 a4 b4
181: a1 a2 b2 a3 b3 a4 b4
182: b3 a4 b5
183: b3 a4 a6
184: b1 a2 b3 a4 b5 a6 b7
185: b1 a2 b3 a4 b5 a6 a8
186: a1 a3 b3 a4 a5
187: a1 a3 b3 a4 b4
188: a1 b2 b3 a4 b4
189: a1 b2 b3 a4 a5
190: b1 b2 a3
191: a2 b2 a3
192: b1 a2 b3 b4 a6
193: b1 a2 a4 b4 a6
194: b1 a2 a4 b4 b5
195: b1 a2 b3 b4 b5
196: b1 a2 b3 a5 b5
197: b1 a2 b3 a5 a6
198: b1 a2 a4 a5 a6
199: b1 a2 a4 a5 b5
200: b2 a3 a4 b4 b5
201: b2 a3 b3 b4 b5
202: b2 a3 b3 a5 b5
203: b2 a3 a4 a5 b5
204: b2 a3 a4 a5 a6
205: b2 a3 b3 a5 a6
206: b2 a3 b3 b4 a6
207: b2 a3 a4 b4 a6
208: b1 a2 b3 a4 b5 a6 b7 a8 b8
209: b1 a2 b3 a4 b5 a6 b7 a8 a9
210: b2 a3 a4
211: b2 a3 b3
212: b2
213: a3
214: b2 a3 b3 a4 b4
215: b2 a3 b3 a4 a5
216: b2 a3 b4 a5 b6 a7 b7
217: b2 a3 b4 a5 b6 a7 a8
218: b1 a2 b2 a3 b4
219: b1 a2 b2 a3 a5
220: b1 b2 a3 b3 a4 b4 a5
221: a2 b2 a3 b3 a4 b4 a5
222: b1 b3 a4
223: a2 b3 a4
224: a1 a2 b3 b4 a5
225: a1 b1 b3 b4 a5
226: a1 b1 a4 b4 a5
227: a1 a2 a4 b4 a5
228: b1 a2 b3 a4 b5 b6 a7
229: b1 a2 b3 a4 a6 b6 a7
230: b3 a4 b5 a6 b6
231: b3 a4 b5 a6 a7
232: b1 a2 b3 a4 a5
233: b1 a2 b3 a4 b4
234: a1 b1 a2 b2 b4
235: a1 b1 a2 b2 a5
236: a1 b1 a2 a3 a5
237: a1 b1 a2 a3 b4
238: a1 a2 b4 a5 a6
239: a1 a2 b4 a5 b5
240: a1 b1 b4 a5 b5
241: a1 b1 b4 a5 a6
242: b2 a3 b5 a6 b6
243: b2 a3 b5 a6 a7
244: b1 a2 b4 b5 a6
245: b1 a2 a5 b5 a6
246: b1 a2 b5 a6 b6
247: b1 a2 b5 a6 a7
248: a1 b2 a3 b3 a4
249: b4
250: a5
251: b1 a2 b5
252: b1 a2 a6
253: a1 b1 a2 b2 b4 a5 b5
254: a1 b1 a2 a3 b4 a5 b5
255: a1 b1 a2 a3 b4 a5 a6
256: a1 b1 a2 b2 b4 a5 a6
257: a1 b1 a2 b2 a3
258: b1 a2 b4 a5 b6 a7 b7
259: b1 a2 b4 a5 b6 a7 a8
260: a1 b1 a2 b3 a4
261: b1 a2 b2 b4 a5
262: b1 a2 a3 b4 a5
263: b3 b4 a5
264: a4 b4 a5
265: b1 a2 b3 a4 b6
266: b1 a2 b3 a4 a7
267: b2 a3 b5
268: b2 a3 a6
269: b2 b3 a4 b4 a5
270: a3 b3 a4 b4 a5
271: b1 a2 b2 b3 a4
272: b1 a2 a3 b3 a4
[[1, 3], [0, 2], [5, 7, 9, 10], [4, 6, 8, 11], [17, 19, 13, 15], [16, 18, 12, 14], [21], [20], [23, 25, 27, 29], [22, 24, 26, 28], [33, 31], [32, 30], [35], [34], [37], [36], [41, 39], [40, 38], [43, 45, 47, 49, 51, 53, 55, 56], [42, 44, 46, 48, 50, 52, 54, 57], [59], [58], [65, 67, 61, 63], [64, 66, 60, 62], [69, 71, 73, 75], [68, 70, 72, 74], [81, 83, 77, 79], [80, 82, 76, 78], [85, 87, 89, 91], [84, 86, 88, 90], [93], [92], [97, 95], [96, 94], [99, 101], [98, 100], [103, 105, 107, 108], [102, 104, 106, 109], [113, 115, 117, 111], [112, 114, 116, 110], [119], [118], [121, 123, 125, 127], [120, 122, 124, 126], [129, 131, 133, 135], [128, 130, 132, 134], [137], [136], [139, 141], [138, 140], [145, 147, 149, 143], [144, 146, 148, 142], [153, 151], [152, 150], [155], [154], [161, 163, 157, 159], [160, 162, 156, 158], [165, 167, 169, 171], [164, 166, 168, 170], [173, 175], [172, 174], [177], [176], [179, 181], [178, 180], [183], [182], [185], [184], [187, 189], [186, 188], [191], [190], [193, 195, 197, 199], [192, 194, 196, 198], [201, 203, 205, 207], [200, 202, 204, 206], [209], [208], [211], [210], [213], [212], [215], [214], [217], [216], [219], [218], [221], [220], [223], [222], [225, 227], [224, 226], [229], [228], [231], [230], [233], [232], [235, 237], [234, 236], [241, 239], [240, 238], [243], [242], [245], [244], [247], [246], [250], [249], [252], [251], [256, 254], [253, 255], [259], [258], [262], [261], [264], [263], [266], [265], [268], [267], [270], [269], [272], [271]]
fvar2: C0
fvar3: C1
fvar30: C2
fvar31: C3
fvar38: C4
fvar39: C5
fvar52: C6
fvar53: C7
fvar54: C8
fvar55: C9
fvar56: C10
fvar57: C11
fvar94: C12
fvar95: C13
fvar100: C14
fvar101: C15
fvar140: C16
fvar141: C17
fvar150: C18
fvar151: C19
fvar174: C20
fvar175: C21
fvar180: C22
fvar181: C23
fvar188: C24
fvar189: C25
fvar226: C26
fvar227: C27
fvar236: C28
fvar237: C29
fvar238: C30
fvar239: C31
fvar248: C32
fvar254: C33
fvar255: C34
fvar257: C35
fvar260: C36


In [45]:
orders.update(zip(iofvars,[4]*len(iofvars)))
p.orders = orders

In [18]:
from copy import copy
iofvars_copy = copy(iofvars)

In [18]:
subs_rules
{B1: 0,
 B5: 0,
 B3: 0,
 B7: -I*V*f**2/J**3,
 B2: 0,
 B4: V**2*f/J**3,
 B6: -I*V*f**2/J**3,
 B0: 0}

In [46]:
psi = substitute_group(psi,subs_rules, split_orders = split_orders)
p(psi)
{+1⋅a1
+f/J⋅a2
−i⋅V/J⋅b1⋅a2⋅a3
+f^2/J^2⋅a3
−i⋅V⋅f/J^2⋅b2⋅a3⋅a4
−i⋅V⋅f/J^2⋅a2⋅b2⋅a3
−V^2/J^2⋅b1⋅a2⋅b3⋅a4⋅a5
−i⋅V⋅f/J^2⋅a1⋅b1⋅a3
−i⋅V⋅f/J^2⋅b1⋅a2⋅a4
+V^2⋅f/(3⋅J^3)⋅b1⋅a2⋅b2⋅a4⋅a5
−4⋅i⋅V⋅f^2/(3⋅J^3)⋅a2⋅b2⋅a4
+V^2⋅f/(3⋅J^3)⋅b1⋅a3⋅b3⋅a4⋅a5
+i⋅V⋅f^2/(3⋅J^3)⋅b1⋅b2⋅b3
+V^2⋅f/J^3 + f^3/J^3⋅a4
−V^2⋅f/J^3⋅b1⋅a2⋅b4⋅a5⋅a6
+i⋅V⋅f^2/J^3⋅a1⋅b2⋅a3
+2⋅V^2⋅f/(3⋅J^3)⋅b1⋅b2⋅b3⋅a4⋅b4
−V^2⋅f/J^3⋅b2⋅a3⋅b4⋅a5⋅a6
−V^2⋅f/J^3⋅b1⋅a2⋅b3⋅a4⋅a6
−V^2⋅f/J^3⋅a2⋅b2⋅a3⋅b3⋅a4
+i⋅V⋅f^2/J^3⋅a1⋅b1⋅a2
−V^2⋅f/(3⋅J^3)⋅b1⋅a2⋅b2⋅b3⋅b4
−i⋅V⋅f^2/J^3⋅a3⋅b3⋅a4
−i⋅V⋅f^2/J^3⋅b1⋅a2⋅a5
−V^2⋅f/J^3⋅a1⋅b1⋅b3⋅a4⋅a5
−i⋅V⋅f^2/J^3⋅a1⋅b1⋅a4
−V^2⋅f/J^3⋅b1⋅a2⋅a4⋅b4⋅a5
+i⋅V^3/J^3⋅b1⋅a2⋅b3⋅a4⋅b5⋅a6⋅a7
−i⋅V⋅f^2/J^3⋅b2⋅a3⋅a5
+V^2⋅f/(3⋅J^3)⋅a2⋅a3⋅b3⋅a4⋅b4
−i⋅V⋅f^2/(3⋅J^3)⋅a2⋅a3⋅b3
−2⋅V^2⋅f/(3⋅J^3)⋅b1⋅a2⋅a3⋅b3⋅a5
+2⋅i⋅V⋅f^2/(3⋅J^3)⋅b1⋅a3⋅a4
−V^2⋅f/J^3⋅a1⋅b1⋅a2⋅b2⋅a4
−2⋅V^2⋅f/(3⋅J^3)⋅a2⋅b2⋅b3⋅a4⋅a5
−2⋅V^2⋅f/(3⋅J^3)⋅b1⋅a2⋅a3⋅a4⋅b4
−i⋅V⋅f^2/J^3⋅b3⋅a4⋅a5}


In [19]:
p(multiply_groups(psi,psi))
{+1 + V^2/J^2 + f^2/J^2 + V^4/J^4 + 4⋅V^2⋅f^2/J^4 + f^4/J^4 + V^6/J^6 + 92⋅V^4⋅f^2/(9⋅J^6) + 103⋅V^2⋅f^4/(9⋅J^6) + f^6/J^6
+2⋅i⋅V^3⋅f/(3⋅J^4) + 56⋅i⋅V^3⋅f^3/(9⋅J^6) + 2⋅i⋅V⋅f^5/J^6⋅b3⋅a5
−2⋅i⋅V^3⋅f/J^4 + 22⋅i⋅V^3⋅f^3/(9⋅J^6)⋅b1⋅a2⋅b2⋅a3⋅b3⋅a5
+2⋅V^2⋅f^2/J^4⋅b1⋅b3⋅a4⋅a6
+4⋅V^2⋅f^2/(3⋅J^4) - 2⋅V^4⋅f^2/(3⋅J^6)⋅b1⋅a3⋅a4⋅b4
−2⋅V^2⋅f^2/J^4 - 22⋅V^2⋅f^4/(9⋅J^6)⋅b1⋅a2⋅b3⋅a4
+4⋅i⋅V^3⋅f/(3⋅J^4) + 8⋅i⋅V^3⋅f^3/(9⋅J^6)⋅a2⋅b2⋅a3⋅b3⋅a4⋅b4
+2⋅V^2⋅f^2/J^4 - 8⋅V^4⋅f^2/(9⋅J^6)⋅b1⋅a4⋅b4⋅a5
−2⋅V^2⋅f^2/(3⋅J^4) + 10⋅V^4⋅f^2/(9⋅J^6) + 4⋅V^2⋅f^4/(3⋅J^6)⋅b1⋅b2⋅a3⋅a4
−2⋅V^2⋅f^2/(3⋅J^4) - 28⋅V^4⋅f^2/(9⋅J^6) - 14⋅V^2⋅f^4/(3⋅J^6)⋅a2⋅b2⋅a3⋅b3
−4⋅i⋅V^3⋅f/(3⋅J^4) - 20⋅i⋅V^3⋅f^3/(9⋅J^6)⋅a4⋅b4
−4⋅V^2⋅f^2/(3⋅J^4) + 2⋅V^4⋅f^2/(3⋅J^6) + 2⋅V^2⋅f^4/J^6⋅b2⋅b3⋅a4⋅a5
−2⋅V^2⋅f^2/(3⋅J^4) + 4⋅V^4⋅f^2/(3⋅J^6) + 2⋅V^2⋅f^4/J^6⋅b1⋅b2⋅a4⋅a5
−2⋅V^2⋅f^2/J^4 - 10⋅V^4⋅f^2/(9⋅J^6) - 22⋅V^2⋅f^4/(9⋅J^6)⋅b1⋅a2⋅b2⋅a3
+2⋅V^2⋅f^2/J^4 - 4⋅V^4⋅f^2/(3⋅J^6) - 2⋅V^2⋅f^4/(3⋅J^6)⋅b1⋅a2⋅b2⋅a5
+2⋅V^2⋅f^2/(3⋅J^4) - 4⋅V^4⋅f^2/J^6 - 4⋅V^2⋅f^4/(3⋅J^6)⋅b1⋅b2⋅b3⋅b4
−2⋅i⋅V⋅f^3/J^4 - 8⋅i⋅V^3⋅f^3/J^6 - 8⋅i⋅V⋅f^5/(3⋅J^6)⋅a2⋅b2
−2⋅i⋅V⋅f^3/(3⋅J^4) + 2⋅i⋅V^3⋅f^3/J^6⋅b2⋅a4
−2⋅i⋅V⋅f^3/(3⋅J^4) - 6⋅i⋅V^3⋅f^3/J^6 - 2⋅i⋅V⋅f^5/J^6⋅a3⋅b3
+2⋅V^2⋅f^2/J^4⋅b1⋅b4⋅a5⋅a6
−2⋅i⋅V^3⋅f/(3⋅J^4) - 50⋅i⋅V^3⋅f^3/(9⋅J^6)⋅b1⋅b2⋅a3⋅b3⋅a4⋅a5
+2⋅V^2⋅f^2/(3⋅J^4) - 4⋅V^4⋅f^2/(3⋅J^6)⋅a3⋅b3⋅a4⋅b4
+2⋅i⋅V⋅f^3/J^4 - 10⋅i⋅V^3⋅f^3/(9⋅J^6)⋅b1⋅a5
−2⋅V^2⋅f^2/J^4 + 8⋅V^4⋅f^2/(9⋅J^6) - 22⋅V^2⋅f^4/(9⋅J^6)⋅b2⋅a3⋅b3⋅a4
−2⋅i⋅V^3⋅f/J^4⋅b1⋅a2⋅b2⋅b4⋅a5⋅a6
−2⋅i⋅V^3⋅f/J^4⋅b1⋅b3⋅a4⋅b5⋅a6⋅a7
+4⋅V^2⋅f^2/(3⋅J^4) - 2⋅V^4⋅f^2/J^6 - 2⋅V^2⋅f^4/(3⋅J^6)⋅b1⋅a3⋅b3⋅a5
+4⋅i⋅V^3⋅f^2/(3⋅J^5)⋅a3⋅b4
−4⋅i⋅V^3⋅f^2/J^5 - 2⋅i⋅V⋅f^4/J^5⋅b3⋅a4
+2⋅V^4⋅f/J^5⋅a1⋅b2⋅b3⋅a5
+2⋅i⋅V^3⋅f^2/J^5⋅b1⋅a2⋅b2⋅a3⋅b3⋅a4
+2⋅V^4⋅f/J^5⋅a1⋅a2⋅a3⋅b3⋅a4⋅b5⋅a6⋅a7
−2⋅i⋅V^3⋅f^2/J^5 - 2⋅i⋅V⋅f^4/J^5⋅b2⋅a3
−2⋅i⋅V^3⋅f^2/J^5⋅b1⋅b2⋅a3⋅b4⋅a5⋅a6
+2⋅V^4⋅f/J^5 + 2⋅V^2⋅f^3/J^5⋅b1⋅b2⋅a3⋅a5
+2⋅V^2⋅f^3/(3⋅J^5)⋅a1⋅b2⋅a3⋅b3
+2⋅V^2⋅f^3/J^5⋅b2⋅a3⋅b3⋅a5
−2⋅V^2⋅f^3/J^5⋅a1⋅a2⋅a3⋅a5
−2⋅i⋅V^3⋅f^2/J^5⋅b4⋅a5
+4⋅V^4⋅f/(3⋅J^5)⋅a3⋅b3⋅b4⋅a5
+2⋅V^4⋅f/J^5⋅b3⋅a4⋅b4⋅a6
−2⋅i⋅V^3⋅f^2/J^5⋅a1⋅b1⋅b2⋅b4⋅a5⋅a6
+4⋅V^2⋅f^3/(3⋅J^5)⋅b1⋅a3⋅b3⋅a4
−2⋅V^2⋅f^3/(3⋅J^5)⋅b1⋅b3⋅a4⋅a5
−2⋅i⋅V^3⋅f^2/J^5 + 2⋅i⋅V⋅f^4/(3⋅J^5)⋅a2⋅b3
+2⋅i⋅V^3⋅f^2/J^5⋅a1⋅a2⋅a3⋅b3⋅a4⋅a6
−2⋅i⋅V^3⋅f^2/(3⋅J^5) + 2⋅i⋅V⋅f^4/J^5⋅b2⋅a5
+2⋅i⋅V^3⋅f^2/J^5⋅b3⋅a6
−4⋅i⋅V^3⋅f^2/(3⋅J^5)⋅a1⋅b2⋅a3⋅b3⋅a4⋅b4
−2⋅V^2⋅f^3/J^5⋅a1⋅b1⋅b3⋅a4
−4⋅V^2⋅f^3/(3⋅J^5)⋅b1⋅a2⋅a4⋅b4
−4⋅V^2⋅f^3/(3⋅J^5)⋅b1⋅a2⋅a3⋅b3
−4⋅i⋅V⋅f^4/(3⋅J^5)⋅b1⋅a4
−2⋅V^2⋅f^3/(3⋅J^5)⋅a2⋅b3⋅a4⋅b4
+4⋅V^4⋅f/(3⋅J^5)⋅a2⋅b2⋅b4⋅a5
+2⋅i⋅V^3⋅f^2/J^5⋅b1⋅a2⋅b2⋅a3⋅b4⋅a5
−2⋅i⋅V^3⋅f^2/J^5⋅a1⋅b1⋅b2⋅a3⋅b3⋅a5
−2⋅i⋅V^3⋅f^2/J^5⋅b1⋅a2⋅a3⋅b3⋅a4⋅b4
+2⋅i⋅V^3⋅f^2/J^5⋅a1⋅b1⋅a2⋅b2⋅b3⋅a4
+2⋅V^2⋅f^3/(3⋅J^5)⋅a1⋅b1⋅a2⋅b3
+2⋅i⋅V^3⋅f^2/J^5⋅a1⋅a2⋅a3⋅a4⋅b4⋅a5
−2⋅i⋅V^3⋅f^2/J^5 + 2⋅i⋅V⋅f^4/J^5⋅a1⋅b2
−2⋅V^4⋅f/(3⋅J^5)⋅b1⋅a3⋅b4⋅a5
−4⋅i⋅V^3⋅f^2/J^5 - 2⋅i⋅V⋅f^4/J^5⋅b1⋅a2
−2⋅i⋅V^3⋅f^2/J^5⋅b1⋅b2⋅a3⋅a4⋅b4⋅a5
−2⋅V^4⋅f/J^5⋅b1⋅a2⋅b2⋅a3⋅b3⋅a4⋅b4⋅a6
−2⋅i⋅V^3⋅f^2/(3⋅J^5)⋅a1⋅a2⋅b2⋅a3⋅b3⋅b4
+2⋅V^2⋅f^3/J^5⋅b2⋅b4⋅a5⋅a6
−2⋅V^4⋅f/(3⋅J^5)⋅b2⋅a4⋅b4⋅a5
−2⋅V^4⋅f/J^5⋅b1⋅a2⋅b2⋅a3⋅b3⋅b5⋅a6⋅a7
+2⋅i⋅V^3⋅f^2/(3⋅J^5)⋅a1⋅a2⋅b2⋅a3⋅a4⋅a5
+2⋅V^4⋅f/J^5⋅b3⋅b5⋅a6⋅a7
+2⋅V^2⋅f^3/J^5⋅a1⋅b1⋅b2⋅a5
+2⋅i⋅V^3⋅f^2/J^5⋅b1⋅a2⋅b2⋅b3⋅a4⋅a5
−2⋅V^4⋅f/J^5⋅b1⋅b2⋅a3⋅b3⋅a4⋅b5⋅a6⋅a7
+2⋅V^4⋅f/J^5 + 8⋅V^2⋅f^3/(3⋅J^5)⋅b1⋅a2⋅b3⋅a5
−2⋅i⋅V^3⋅f^2/J^5⋅b1⋅b2⋅a3⋅b3⋅a4⋅a6
−4⋅V^2⋅f^3/(3⋅J^5)⋅b1⋅a2⋅b2⋅a4
−2⋅i⋅V^3⋅f^2/J^5⋅b1⋅a2⋅b2⋅a3⋅b3⋅a6
+2⋅i⋅V^3⋅f^2/(3⋅J^5)⋅a1⋅b1⋅a2⋅b3⋅a4⋅b4
+2⋅i⋅V^3⋅f^2/J^5⋅a1⋅a2⋅a3⋅b4⋅a5⋅a6
−8⋅V^2⋅f^3/(3⋅J^5)⋅a2⋅b2⋅b3⋅a4
+2⋅V^4⋅f^2/J^6⋅b3⋅b4⋅a5⋅a6
+2⋅i⋅V^3⋅f^3/J^6 + 4⋅i⋅V⋅f^5/(3⋅J^6)⋅b1⋅a3
+4⋅V^2⋅f^4/(3⋅J^6)⋅a1⋅b1⋅b2⋅a4
+4⋅i⋅V^3⋅f^3/(3⋅J^6)⋅a2⋅a3⋅a4⋅b4⋅a5⋅a6
+8⋅V^4⋅f^2/(9⋅J^6)⋅a2⋅b3⋅b4⋅a5
−2⋅i⋅V^5⋅f/J^6⋅b3⋅a4⋅b4⋅a5⋅b5⋅a7
+10⋅V^4⋅f^2/(3⋅J^6)⋅a1⋅a2⋅b3⋅b4
−4⋅i⋅V^3⋅f^3/(3⋅J^6)⋅a2⋅b2⋅b3⋅b4⋅a5⋅a6
+2⋅i⋅V^3⋅f^3/(3⋅J^6)⋅a1⋅b1⋅b2⋅a3⋅b3⋅a4
−2⋅i⋅V^3⋅f^3/(3⋅J^6)⋅a1⋅b1⋅a3⋅b3⋅a4⋅b4
−8⋅V^4⋅f^2/(3⋅J^6)⋅a3⋅a4⋅a5⋅a6
+2⋅i⋅V^3⋅f^3/J^6⋅a1⋅a2⋅a4⋅b4⋅a5⋅a6
−4⋅i⋅V^3⋅f^3/(3⋅J^6)⋅b1⋅b2⋅a4⋅b4⋅a5⋅a6
+4⋅V^4⋅f^2/(3⋅J^6)⋅a1⋅b2⋅a3⋅b4
−2⋅V^4⋅f^2/(3⋅J^6)⋅b1⋅a3⋅b4⋅a6
−2⋅V^4⋅f^2/(3⋅J^6)⋅a1⋅b3⋅a4⋅b4
−4⋅i⋅V^5⋅f/(3⋅J^6)⋅b1⋅b2⋅a5⋅b5⋅a6⋅a7
−10⋅V^4⋅f^2/(3⋅J^6)⋅a1⋅b2⋅b4⋅a5
+2⋅i⋅V^5⋅f/(3⋅J^6)⋅b2⋅b3⋅a5⋅b5⋅a6⋅a7
−4⋅V^4⋅f^2/(3⋅J^6)⋅b2⋅b3⋅a5⋅a6
+8⋅V^4⋅f^2/(3⋅J^6) + 4⋅V^2⋅f^4/(3⋅J^6)⋅b1⋅a2⋅a3⋅b4
−2⋅i⋅V^5⋅f/J^6 - 2⋅i⋅V^3⋅f^3/J^6⋅b1⋅a2⋅b3⋅b5⋅a6⋅a7
−2⋅V^4⋅f^2/J^6⋅b1⋅b2⋅a3⋅b3⋅a4⋅b4⋅a5⋅a6
−4⋅V^4⋅f^2/(3⋅J^6) - 2⋅V^2⋅f^4/(3⋅J^6)⋅a2⋅a3⋅b3⋅b4
+14⋅V^4⋅f^2/(3⋅J^6) + 16⋅V^2⋅f^4/(3⋅J^6)⋅a2⋅b2⋅b3⋅a5
+4⋅V^2⋅f^4/(3⋅J^6)⋅a1⋅b2⋅b3⋅a4
+10⋅V^4⋅f^2/(3⋅J^6) + 4⋅V^2⋅f^4/J^6⋅a1⋅b1⋅b3⋅a5
+2⋅i⋅V^3⋅f^3/J^6⋅a1⋅a2⋅a3⋅b3⋅a4⋅a5
−2⋅V^4⋅f^2/(3⋅J^6) + 4⋅V^2⋅f^4/(3⋅J^6)⋅a1⋅a2⋅b2⋅b3
−2⋅i⋅V^5⋅f/(3⋅J^6)⋅a2⋅a3⋅a5⋅b5⋅a6⋅a7
−2⋅i⋅V^3⋅f^3/J^6⋅b1⋅a2⋅b3⋅a4⋅b4⋅a6
+2⋅V^4⋅f^2/J^6 + 2⋅V^2⋅f^4/J^6⋅b1⋅a2⋅b3⋅a6
−2⋅i⋅V^5⋅f/J^6⋅b3⋅b4⋅a5⋅b5⋅a6⋅a7
+4⋅i⋅V^3⋅f^3/J^6⋅a1⋅b1⋅a2⋅b2⋅a3⋅b3
+2⋅i⋅V^5⋅f/J^6⋅a1⋅a2⋅a5⋅b5⋅a6⋅a7
−4⋅i⋅V^3⋅f^3/(3⋅J^6)⋅b1⋅a3⋅b3⋅a4⋅b4⋅a5
−4⋅i⋅V^3⋅f^3/(3⋅J^6)⋅a1⋅b1⋅a2⋅b2⋅a4⋅b4
+16⋅V^4⋅f^2/(9⋅J^6)⋅b2⋅a3⋅b4⋅a5
−22⋅i⋅V^3⋅f^3/(3⋅J^6)⋅a1⋅b1⋅a2⋅b2⋅b3⋅a5
−2⋅i⋅V^5⋅f/J^6⋅b1⋅b2⋅a3⋅b5⋅a6⋅a7
−28⋅V^4⋅f^2/(9⋅J^6) - 2⋅V^2⋅f^4/J^6⋅b1⋅a2⋅b4⋅a5
−2⋅i⋅V^3⋅f^3/(3⋅J^6)⋅b1⋅a2⋅b2⋅a4⋅b4⋅a5
+2⋅V^4⋅f^2/J^6⋅b1⋅a2⋅b2⋅a3⋅b3⋅a4⋅b4⋅a5
−4⋅V^4⋅f^2/(3⋅J^6) - 4⋅V^2⋅f^4/(3⋅J^6)⋅a1⋅a2⋅a3⋅a4
+2⋅V^4⋅f^2/J^6⋅a1⋅b2⋅b3⋅a6
+2⋅V^4⋅f^2/(3⋅J^6)⋅a2⋅a3⋅a5⋅a6
−4⋅i⋅V^5⋅f/(3⋅J^6)⋅a3⋅b3⋅b4⋅b5⋅a6⋅a7
+2⋅V^4⋅f^2/J^6⋅a1⋅b1⋅a2⋅a3⋅a4⋅b4⋅a5⋅a6
−4⋅i⋅V^3⋅f^3/(3⋅J^6)⋅a2⋅b2⋅b3⋅a4⋅b4⋅a5
−2⋅V^4⋅f^2/J^6⋅a1⋅a2⋅a5⋅a6
−2⋅i⋅V^3⋅f^3/(3⋅J^6)⋅a1⋅b1⋅b2⋅b3⋅a4⋅a5
−4⋅V^4⋅f^2/(3⋅J^6)⋅b2⋅a4⋅b4⋅a6
+2⋅i⋅V^5⋅f/(3⋅J^6)⋅b2⋅a4⋅b4⋅b5⋅a6⋅a7
+4⋅i⋅V^3⋅f^3/(3⋅J^6)⋅a1⋅b1⋅a2⋅a3⋅b3⋅b4
−2⋅i⋅V^5⋅f/J^6⋅a1⋅b2⋅b3⋅b5⋅a6⋅a7
+26⋅i⋅V^3⋅f^3/(9⋅J^6)⋅b1⋅a2⋅b2⋅a3⋅a4⋅b4
−2⋅V^4⋅f^2/J^6⋅a1⋅b1⋅b2⋅a3⋅b3⋅a4⋅b4⋅a6
−20⋅i⋅V^3⋅f^3/(3⋅J^6) - 2⋅i⋅V⋅f^5/J^6⋅a1⋅b1
−2⋅i⋅V^3⋅f^3/J^6⋅b2⋅b3⋅a4⋅b4⋅a5⋅a6
+2⋅i⋅V^5⋅f/(3⋅J^6)⋅b1⋅a3⋅b4⋅b5⋅a6⋅a7
+2⋅i⋅V^5⋅f/J^6⋅b1⋅a2⋅b2⋅a3⋅b3⋅a4⋅b4⋅a5⋅b5⋅a7
−4⋅i⋅V^3⋅f^3/(3⋅J^6)⋅b1⋅a3⋅b3⋅b4⋅a5⋅a6
+2⋅i⋅V^5⋅f/J^6⋅b5⋅a7
+4⋅i⋅V^5⋅f/(3⋅J^6)⋅a3⋅a4⋅a5⋅b5⋅a6⋅a7
+2⋅V^4⋅f^2/J^6⋅b1⋅b2⋅a3⋅a6
+4⋅i⋅V^3⋅f^3/J^6⋅b4⋅a6
+8⋅V^4⋅f^2/(3⋅J^6)⋅a3⋅b3⋅b4⋅a6
−2⋅V^4⋅f^2/J^6 - 2⋅V^2⋅f^4/(3⋅J^6)⋅a1⋅b1⋅a3⋅b3
+4⋅i⋅V^3⋅f^3/(3⋅J^6)⋅b1⋅a2⋅a3⋅b3⋅b4⋅a5
−2⋅V^2⋅f^4/J^6⋅a2⋅a3⋅a4⋅a5
+4⋅V^4⋅f^2/(3⋅J^6)⋅a2⋅b2⋅b4⋅a6
−10⋅V^4⋅f^2/(3⋅J^6) - 14⋅V^2⋅f^4/(3⋅J^6)⋅a1⋅b1⋅a2⋅b2
−4⋅i⋅V^3⋅f^3/J^6⋅b1⋅a2⋅b2⋅a3⋅b4⋅a6
+4⋅i⋅V^3⋅f^3/(9⋅J^6)⋅a2⋅b4
−2⋅V^2⋅f^4/J^6⋅a1⋅a2⋅a4⋅a5
−28⋅V^4⋅f^2/(9⋅J^6)⋅b3⋅a4⋅b4⋅a5
−2⋅i⋅V^3⋅f^3/J^6⋅b2⋅a3⋅b3⋅a4⋅b4⋅a6
−4⋅i⋅V^5⋅f/(3⋅J^6)⋅a2⋅b2⋅b4⋅b5⋅a6⋅a7
+2⋅i⋅V^3⋅f^3/J^6⋅a1⋅b1⋅a2⋅a3⋅a4⋅a5
+4⋅V^4⋅f^2/(3⋅J^6)⋅b1⋅b2⋅a5⋅a6}


In [18]:
p(psi4)
print('\n')
p(c(H,psi))
{−C0⋅a1⋅b1⋅b4
+2⋅V^2⋅f^2/(9⋅J^4)⋅b1⋅a3⋅a4⋅b4⋅a5
−2⋅i⋅V^3⋅f/(3⋅J^4)⋅b1⋅b2⋅a3⋅b3⋅b4⋅a5⋅b5
+2⋅i⋅V^3⋅f/(3⋅J^4)⋅b1⋅a2⋅a4⋅b4⋅b5⋅a6⋅a7
+5⋅V^2⋅f^2/(9⋅J^4)⋅a2⋅a3⋅b3⋅b4⋅a5
−C10 - 2⋅V^2⋅f^2/(3⋅J^4)⋅a1⋅b1⋅a3⋅b3⋅a5
−V^2⋅f^2/(9⋅J^4)⋅b1⋅b2⋅a3⋅a4⋅a5
−C18⋅a1⋅a2⋅b3⋅a4⋅b5⋅a6⋅b6
−2⋅V^2⋅f^2/(3⋅J^4)⋅a3⋅b3⋅b4⋅a5⋅a6
+2⋅i⋅V^3⋅f/(3⋅J^4)⋅a2⋅b2⋅a3⋅b3⋅b4⋅a5⋅a6
+V^2⋅f^2/(3⋅J^4)⋅b1⋅a2⋅b3⋅b4⋅b5
−C24⋅a1⋅a3⋅b3⋅a4⋅a5
+5⋅i⋅V^3⋅f/(9⋅J^4) + 4⋅i⋅V⋅f^3/(9⋅J^4)⋅b1⋅a3⋅a5
−C19⋅a1⋅b1⋅b3⋅a4⋅b5⋅a6⋅b6
−V^2⋅f^2/J^4⋅b2⋅a3⋅b4⋅a5⋅a7
+i⋅V^3⋅f/J^4⋅b1⋅a2⋅b4⋅a5⋅b6⋅a7⋅a8
+C6⋅a1⋅a2⋅a3⋅b3⋅a5
−C24⋅a1⋅b2⋅b3⋅a4⋅b4
−5⋅V^2⋅f^2/(9⋅J^4)⋅b1⋅a2⋅b2⋅b3⋅b5
+C26 - V^2⋅f^2/J^4⋅a1⋅a2⋅b3⋅b4⋅a5
−C20⋅a1⋅a2⋅b2⋅a3⋅b3
+2⋅i⋅V^3⋅f/(3⋅J^4)⋅b1⋅a2⋅b3⋅a4⋅a5⋅a6⋅b6
+C10 - C7 + C9 - V^2⋅f^2/(3⋅J^4)⋅a1⋅b1⋅a3⋅a4⋅b4
−C28⋅a1⋅b1⋅a2⋅b2⋅b4
−C27⋅a1⋅a2⋅a4⋅b4⋅a5
−i⋅V^3⋅f/(3⋅J^4)⋅a2⋅b2⋅a3⋅a4⋅b4⋅a5⋅b5
−V^2⋅f^2/(3⋅J^4)⋅b2⋅a3⋅b3⋅b4⋅b5
−C30⋅a1⋅b1⋅b4⋅a5⋅b5
−14⋅V^2⋅f^2/(9⋅J^4)⋅a2⋅b2⋅b4⋅a5⋅a6
−C8⋅a1⋅b1⋅a3⋅b3⋅b4
−C12⋅a1⋅b1⋅a2⋅b2⋅a3⋅b3⋅b4
−C3⋅a1⋅a2⋅b3⋅a4⋅a6
+2⋅V^2⋅f^2/(9⋅J^4)⋅b1⋅a3⋅b3⋅a4⋅a6
−C36⋅a1⋅b1⋅a2⋅b3⋅a4
+7⋅i⋅V^3⋅f/(9⋅J^4)⋅b1⋅a2⋅a3⋅b3⋅b5⋅a6⋅a7
−C14⋅a1⋅b1⋅b2
−V^2⋅f^2/J^4⋅b1⋅a2⋅a5⋅b5⋅a6
+V^4/J^4⋅b1⋅a2⋅b3⋅a4⋅b5⋅a6⋅b7⋅a8⋅a9
−7⋅V^2⋅f^2/(9⋅J^4)⋅a2⋅b2⋅a4⋅b4⋅a5
+2⋅V^2⋅f^2/(3⋅J^4)⋅b2⋅b3⋅b4⋅a5⋅b5
−7⋅V^2⋅f^2/(9⋅J^4)⋅b1⋅a2⋅a3⋅b3⋅a6
+i⋅V^3⋅f/J^4⋅b1⋅a2⋅b3⋅a4⋅b6⋅a7⋅a8
−C16⋅a1⋅a3⋅a4
+4⋅i⋅V^3⋅f/(9⋅J^4) - i⋅V⋅f^3/(9⋅J^4)⋅b1⋅b2⋅b4
−C14⋅a1⋅a2⋅a3
−C21⋅a1⋅a2⋅b2⋅a3⋅a4
−2⋅V^2⋅f^2/(3⋅J^4)⋅b2⋅a3⋅a4⋅b4⋅a6
−5⋅i⋅V^3⋅f/(9⋅J^4)⋅a2⋅a3⋅b3⋅a4⋅b5⋅a6⋅b6
−C11⋅a1⋅b1⋅a3⋅a4⋅a5
+i⋅V^3⋅f/J^4⋅b1⋅a2⋅a4⋅b4⋅a5⋅b5⋅a6
−C7 + V^2⋅f^2/(3⋅J^4)⋅a1⋅a2⋅a3⋅a4⋅a5
+7⋅i⋅V^3⋅f/(9⋅J^4)⋅a2⋅b2⋅b3⋅a4⋅b5⋅a6⋅a7
+2⋅V^2⋅f^2/J^4 + f^4/J^4⋅a5
+5⋅i⋅V^3⋅f/(9⋅J^4)⋅b1⋅a2⋅b2⋅b3⋅a4⋅b4⋅b5
+i⋅V^3⋅f/(3⋅J^4)⋅b1⋅a2⋅b3⋅a4⋅b4⋅b5⋅b6
−C0⋅a1⋅a2⋅a5
−C4⋅a1⋅b3⋅b4
−V^2⋅f^2/J^4⋅b1⋅a2⋅b5⋅a6⋅a7
+7⋅i⋅V^3⋅f/(9⋅J^4)⋅b1⋅a2⋅a3⋅b3⋅a4⋅b4⋅a6
+4⋅V^2⋅f^2/(9⋅J^4)⋅b1⋅b2⋅b3⋅a4⋅b5
−V^2⋅f^2/J^4⋅b2⋅a3⋅b5⋅a6⋅a7
+i⋅V^3⋅f/J^4⋅b1⋅a2⋅b3⋅a4⋅a6⋅b6⋅a7
−V^2⋅f^2/J^4⋅b3⋅a4⋅b5⋅a6⋅a7
−C29⋅a1⋅b1⋅a2⋅a3⋅b4
−i⋅V^3⋅f/J^4 - i⋅V⋅f^3/J^4⋅b1⋅a2⋅a6
−C34⋅a1⋅b1⋅a2⋅b2⋅b4⋅a5⋅b5
−2⋅i⋅V^3⋅f/(9⋅J^4)⋅b1⋅a3⋅b3⋅a4⋅b5⋅a6⋅a7
+4⋅V^2⋅f^2/(9⋅J^4)⋅b1⋅b2⋅b3⋅b4⋅a5
−V^2⋅f^2/(9⋅J^4)⋅b1⋅b2⋅b4⋅a5⋅b5
−C27⋅a1⋅b1⋅b3⋅b4⋅a5
−C2⋅a1⋅a2⋅b3⋅a4⋅b5
−C35⋅a1⋅b1⋅a2⋅b2⋅a3
−7⋅i⋅V^3⋅f/(9⋅J^4) - 14⋅i⋅V⋅f^3/(9⋅J^4)⋅a2⋅b2⋅a5
+C33 + i⋅V^3⋅f/J^4⋅a1⋅b1⋅a2⋅b2⋅b4⋅a5⋅a6
+7⋅V^2⋅f^2/(9⋅J^4)⋅b1⋅b2⋅a3⋅b3⋅b4
−2⋅i⋅V^3⋅f/(3⋅J^4) + 2⋅i⋅V⋅f^3/(3⋅J^4)⋅a2⋅b2⋅a3
−C10⋅a1⋅a2⋅b2⋅a4⋅b4
−4⋅V^2⋅f^2/(3⋅J^4)⋅b1⋅a2⋅a4⋅b4⋅a6
−i⋅V⋅f^3/J^4⋅b3⋅a4⋅a6
−i⋅V^3⋅f/J^4 - i⋅V⋅f^3/J^4⋅b4⋅a5⋅a6
+V^2⋅f^2/(3⋅J^4)⋅b1⋅a2⋅b2⋅a3⋅a5
−2⋅i⋅V^3⋅f/(9⋅J^4)⋅b1⋅a2⋅b2⋅a4⋅b5⋅a6⋅a7
−C4⋅a1⋅a4⋅a5
−V^2⋅f^2/J^4⋅b2⋅a3⋅a5⋅b5⋅a6
−2⋅i⋅V^3⋅f/(9⋅J^4)⋅b1⋅a2⋅b2⋅b3⋅a4⋅a5⋅a6
+i⋅V^3⋅f/J^4⋅b2⋅a3⋅b4⋅a5⋅b6⋅a7⋅a8
+i⋅V^3⋅f/(3⋅J^4)⋅a2⋅b4⋅a5
−C28⋅a1⋅b1⋅a2⋅a3⋅a5
+C17 + 2⋅i⋅V⋅f^3/(3⋅J^4)⋅a1⋅b2⋅a4
−C9 + V^2⋅f^2/(3⋅J^4)⋅a1⋅b1⋅b2⋅a4⋅a5
−i⋅V^3⋅f/(3⋅J^4)⋅b1⋅a2⋅a4⋅a5⋅b5⋅a6⋅b6
+C23 - i⋅V^3⋅f/(3⋅J^4)⋅a1⋅b1⋅b2⋅a3⋅b3⋅a4⋅a5
+C1 - i⋅V⋅f^3/J^4⋅a1⋅b1⋅a5
−C30⋅a1⋅a2⋅b4⋅a5⋅a6
+4⋅i⋅V^3⋅f/(9⋅J^4)⋅b1⋅a2⋅a3⋅a4⋅b5⋅a6⋅b6
−7⋅V^2⋅f^2/(9⋅J^4)⋅a2⋅b2⋅a3⋅a4⋅b4
+5⋅V^2⋅f^2/(9⋅J^4)⋅a2⋅a3⋅b3⋅a4⋅b5
−V^2⋅f^2/(3⋅J^4)⋅b1⋅a2⋅a4⋅a5⋅b5
−C23⋅a1⋅a2⋅b2⋅a3⋅b3⋅a4⋅b4
+C20 + 2⋅V^2⋅f^2/(3⋅J^4)⋅a1⋅b1⋅b2⋅a3⋅a4
+2⋅i⋅V^3⋅f/(9⋅J^4) + i⋅V⋅f^3/(9⋅J^4)⋅a2⋅a3⋅b4
+C2 - V^2⋅f^2/J^4⋅a1⋅b1⋅b3⋅a4⋅a6
+C8⋅a1⋅a2⋅b2⋅a4⋅a5
−i⋅V^3⋅f/(3⋅J^4)⋅b1⋅a2⋅b3⋅a5⋅b5⋅a6⋅a7
−4⋅V^2⋅f^2/(9⋅J^4)⋅b1⋅a2⋅a3⋅a4⋅b5
+V^2⋅f^2/(3⋅J^4)⋅a3⋅a4⋅b4⋅a5⋅b5
−i⋅V^3⋅f/(3⋅J^4)⋅b1⋅a2⋅b3⋅a4⋅b4⋅a6⋅a7
−C7⋅a1⋅b1⋅b2⋅b3⋅b4
−C13⋅a1⋅b1⋅a2⋅b2⋅a3⋅a4⋅b4
+5⋅i⋅V^3⋅f/(9⋅J^4) + 2⋅i⋅V⋅f^3/(3⋅J^4)⋅b2⋅a4⋅a5
+V^2⋅f^2/(3⋅J^4)⋅b2⋅a3⋅b3⋅a4⋅a5
−C32⋅a1⋅b2⋅a3⋅b3⋅a4
−C33⋅a1⋅b1⋅a2⋅a3⋅b4⋅a5⋅b5
−C6⋅a1⋅b1⋅b2⋅a4⋅b4
−2⋅i⋅V^3⋅f/(3⋅J^4)⋅b1⋅a2⋅b3⋅b4⋅b5⋅a6⋅b6
−V^2⋅f^2/J^4⋅a3⋅b3⋅a4⋅b4⋅a5
−4⋅i⋅V^3⋅f/(9⋅J^4)⋅b1⋅b2⋅b3⋅a4⋅b5⋅a6⋅b6
+V^2⋅f^2/(3⋅J^4)⋅b2⋅a4⋅b4⋅a5⋅a6
+2⋅i⋅V^3⋅f/(3⋅J^4)⋅b1⋅a2⋅b3⋅a4⋅a5⋅b5⋅a7
−C19⋅a1⋅a2⋅b3⋅a4⋅b5⋅a6⋅a7
−i⋅V^3⋅f/(3⋅J^4)⋅b1⋅b2⋅a3⋅a4⋅b4⋅a5⋅a6
−C15⋅a1⋅b1⋅a3
−i⋅V^3⋅f/(3⋅J^4)⋅b1⋅a2⋅b2⋅a3⋅a4⋅b4⋅a5
+2⋅V^2⋅f^2/(9⋅J^4)⋅b1⋅a2⋅b2⋅a4⋅a6
−C21⋅a1⋅b1⋅b2⋅a3⋅b3
+i⋅V^3⋅f/J^4⋅b1⋅a2⋅b3⋅a4⋅b5⋅a6⋅a8
−C17⋅a1⋅a3⋅b3
−4⋅i⋅V^3⋅f/(9⋅J^4) - i⋅V⋅f^3/(3⋅J^4)⋅a3⋅a4⋅b4
+C15 + i⋅V⋅f^3/J^4⋅a1⋅a2⋅b2
+V^2⋅f^2/(3⋅J^4)⋅b2⋅a3⋅b3⋅a5⋅a6
−C11 + C6 + C8⋅a1⋅b1⋅b2⋅b3⋅a5
−2⋅V^2⋅f^2/(3⋅J^4)⋅b2⋅a3⋅a4⋅a5⋅b5
−C22⋅a1⋅b1⋅b2⋅a3⋅b3⋅a4⋅b4
−C26⋅a1⋅b1⋅a4⋅b4⋅a5
+C10 - C7 + C9 + V^2⋅f^2/(3⋅J^4)⋅a1⋅a2⋅b2⋅b3⋅a5
−2⋅i⋅V^3⋅f/(3⋅J^4) - i⋅V⋅f^3/(3⋅J^4)⋅b1⋅a2⋅a4
−2⋅i⋅V^3⋅f/(9⋅J^4) + i⋅V⋅f^3/(3⋅J^4)⋅b2⋅b3⋅b4
−C3⋅a1⋅b1⋅b3⋅a4⋅b5
−C22⋅a1⋅a2⋅b2⋅a3⋅b3⋅a4⋅a5
+C18 + i⋅V^3⋅f/J^4⋅a1⋅b1⋅b3⋅a4⋅b5⋅a6⋅a7
+V^2⋅f^2/(9⋅J^4)⋅a2⋅a3⋅b4⋅a5⋅b5
−7⋅V^2⋅f^2/(9⋅J^4)⋅a2⋅b2⋅b3⋅a4⋅a6
+C13 + i⋅V^3⋅f/J^4⋅a1⋅b1⋅a2⋅b2⋅a3⋅b3⋅a5
−7⋅i⋅V^3⋅f/(9⋅J^4) - 4⋅i⋅V⋅f^3/(3⋅J^4)⋅a3⋅b3⋅a5
−2⋅V^2⋅f^2/(3⋅J^4)⋅a3
−C12⋅a1⋅b1⋅a2⋅b2⋅a3⋅a4⋅a5
+i⋅V^3⋅f/J^4⋅a2⋅b2⋅a3⋅b3⋅a4⋅b4⋅a5
+4⋅V^2⋅f^2/(9⋅J^4)⋅b1⋅a3⋅b4⋅a5⋅a6
+2⋅i⋅V⋅f^3/(3⋅J^4)⋅a2⋅b3⋅a4
−C34⋅a1⋅b1⋅a2⋅a3⋅b4⋅a5⋅a6
−V^2⋅f^2/J^4⋅b1⋅a2⋅b3⋅a4⋅a7
−C1⋅a1⋅a2⋅b4
+C25 + V^2⋅f^2/(3⋅J^4)⋅a1⋅a3⋅b3⋅a4⋅b4
−i⋅V⋅f^3/J^4⋅a4⋅b4⋅a5
+V^2⋅f^2/J^4⋅b1⋅a2⋅a3⋅b3⋅a4
+C11⋅a1⋅a2⋅b2⋅b3⋅b4
−V^2⋅f^2/J^4⋅b1⋅a2⋅b4⋅a5⋅a7
−C31⋅a1⋅a2⋅b4⋅a5⋅b5
−7⋅V^2⋅f^2/(9⋅J^4)⋅a2⋅b2⋅a3⋅b3⋅a5
+V^2⋅f^2/(3⋅J^4)⋅b1⋅a2⋅a3⋅b4⋅a5
−4⋅V^2⋅f^2/(3⋅J^4)⋅b1⋅a2⋅b3⋅a4⋅a5
−C9⋅a1⋅a2⋅a3⋅b3⋅b4
−C16⋅a1⋅b2⋅b3
−C25⋅a1⋅b2⋅b3⋅a4⋅a5
−C5⋅a1⋅b3⋅a5
+2⋅V^2⋅f^2/(3⋅J^4)⋅b1⋅a2⋅b3⋅a5⋅a6
−i⋅V⋅f^3/(3⋅J^4)⋅b2⋅a3⋅a4
+5⋅i⋅V^3⋅f/(9⋅J^4)⋅b1⋅a2⋅b2⋅b3⋅b5⋅a6⋅b6
+C11 - C6 - C8⋅a1⋅a2⋅a3⋅a4⋅b4
+C29 - V^2⋅f^2/J^4⋅a1⋅b1⋅a2⋅b2⋅a5
+C5 + i⋅V^3⋅f/(3⋅J^4)⋅a1⋅a4⋅b4
+C31 - V^2⋅f^2/J^4⋅a1⋅b1⋅b4⋅a5⋅a6
+4⋅i⋅V^3⋅f/(9⋅J^4)⋅b1⋅a2⋅a3⋅b3⋅a4⋅a5⋅b5
−i⋅V⋅f^3/J^4⋅b2⋅a3⋅a6}


{−2⋅V⋅f^3/J^3⋅a1⋅b1⋅b4
+10⋅i⋅V^2⋅f^2/(3⋅J^3)⋅b1⋅b2⋅a3⋅a4⋅b4
−4⋅V^3⋅f/(3⋅J^3) - 2⋅V⋅f^3/(3⋅J^3)⋅b1⋅a2⋅b3
+4⋅V^3⋅f/(3⋅J^3)⋅a2⋅b2⋅b3⋅a4⋅b5⋅a6⋅b6
+2⋅i⋅V^2⋅f^2/J^3⋅b2⋅a3⋅b4⋅b5⋅a6
+2⋅V^3⋅f/J^3⋅b1⋅a2⋅b3⋅a4⋅b6⋅a7⋅b7
−2⋅V^3⋅f/(3⋅J^3)⋅a1⋅a4⋅a5
−2⋅i⋅V^2⋅f^2/(3⋅J^3)⋅a1⋅a2⋅b2⋅b3⋅b4
−2⋅V^3⋅f/(3⋅J^3)⋅b1⋅a2⋅b2⋅a3⋅b3⋅b4⋅a5
−4⋅V^3⋅f/(3⋅J^3) - 2⋅V⋅f^3/J^3⋅b1⋅b2⋅a5
+2⋅V^3⋅f/J^3⋅b1⋅a2⋅b3⋅a4⋅a5⋅b5⋅b6
−2⋅i⋅V^2⋅f^2/J^3⋅b1⋅a2⋅a3⋅a4⋅a6
+2⋅V^3⋅f/J^3⋅b1⋅a2⋅b3⋅b4⋅b5⋅a6⋅a7
−2⋅V^3⋅f/J^3 - 2⋅V⋅f^3/J^3⋅b4⋅a5⋅b5
+2⋅V^3⋅f/J^3⋅a1⋅b1⋅a2⋅b2⋅a3⋅b3⋅b4
−2⋅V⋅f^3/J^3⋅a1⋅a2⋅a3
+4⋅V^3⋅f/(3⋅J^3) + 2⋅V⋅f^3/J^3⋅a3⋅a4⋅a5
+4⋅i⋅V^2⋅f^2/(3⋅J^3)⋅a2⋅b2⋅b3⋅a4⋅b5
+2⋅V^3⋅f/(3⋅J^3)⋅a1⋅b3⋅b4
−2⋅V^3⋅f/J^3⋅b1⋅a2⋅a3⋅b3⋅a4⋅a5⋅a6
+2⋅i⋅V^2⋅f^2/J^3⋅b1⋅b2⋅b3⋅a4⋅a6
−2⋅V^3⋅f/J^3⋅b1⋅a2⋅a3⋅a4⋅b5⋅a6⋅a7
+2⋅V^3⋅f/J^3⋅b1⋅b2⋅b3⋅a4⋅b5⋅a6⋅a7
+2⋅V^3⋅f/J^3⋅b1⋅a2⋅b3⋅b4⋅a5⋅b5⋅a6
+2⋅i⋅V^2⋅f^2/J^3⋅a3⋅b3⋅b4⋅a5⋅b5
+2⋅i⋅V^2⋅f^2/J^3⋅b2⋅a3⋅b4⋅a5⋅b6
−2⋅V^3⋅f/J^3⋅a1⋅a2⋅b3⋅a4⋅b5⋅a6⋅a7
+2⋅V^3⋅f/J^3⋅a2⋅b2⋅a3⋅b3⋅b4⋅a5⋅b5
+2⋅V⋅f^3/J^3⋅a2⋅a3⋅a5
−2⋅V^3⋅f/J^3 - 4⋅V⋅f^3/J^3⋅a3⋅b3⋅b4
+2⋅i⋅V^2⋅f^2/J^3⋅b2⋅b3⋅b4⋅a5⋅a6
+10⋅i⋅V^2⋅f^2/(3⋅J^3)⋅b1⋅b2⋅a3⋅b3⋅a5
+2⋅V^3⋅f/(3⋅J^3)⋅b1⋅b4⋅a5
+2⋅i⋅V^2⋅f^2/J^3⋅b1⋅b2⋅a4⋅b4⋅a5
−2⋅V^3⋅f/(3⋅J^3)⋅b1⋅a2⋅b2⋅b3⋅a4⋅a5⋅b5
+2⋅V^3⋅f/(3⋅J^3)⋅a1⋅a2⋅b2⋅a3⋅b3⋅a4⋅a5
−2⋅V⋅f^3/J^3⋅b3⋅a4⋅b5
+2⋅V^3⋅f/J^3⋅b1⋅a2⋅b3⋅a4⋅b5⋅a6⋅b7
+4⋅V⋅f^3/(3⋅J^3)⋅a1⋅b2⋅b3
+2⋅i⋅V^2⋅f^2/(3⋅J^3)⋅a1⋅a3⋅b3⋅a4⋅a5
−4⋅i⋅V^2⋅f^2/(3⋅J^3)⋅a1⋅a2⋅a3⋅b3⋅a5
−4⋅V^3⋅f/(3⋅J^3) + 4⋅V⋅f^3/(3⋅J^3)⋅b1⋅b2⋅a3
+2⋅i⋅V^2⋅f^2/J^3⋅b1⋅a2⋅b3⋅b4⋅a6
−2⋅i⋅V^2⋅f^2/J^3⋅a1⋅b1⋅a3⋅a4⋅a5
+2⋅i⋅V^2⋅f^2/J^3⋅b2⋅a3⋅a4⋅b4⋅b5
+2⋅i⋅V^2⋅f^2/J^3⋅a1⋅b1⋅a3⋅b3⋅b4
−2⋅i⋅V^4/J^3⋅b1⋅a2⋅b3⋅a4⋅b5⋅a6⋅b7⋅a8⋅b8
−2⋅V^3⋅f/(3⋅J^3)⋅b1⋅a2⋅b2⋅a4⋅b5⋅a6⋅b6
+4⋅i⋅V^2⋅f^2/(3⋅J^3)⋅b2
−2⋅i⋅V^2⋅f^2/(3⋅J^3)⋅b2⋅a3⋅b3⋅a4⋅b4
+2⋅V^3⋅f/J^3⋅b2⋅a3⋅b4⋅a5⋅b6⋅a7⋅b7
−2⋅i⋅V^2⋅f^2/(3⋅J^3)⋅b1⋅a2⋅b2⋅a3⋅b4
−2⋅V^3⋅f/J^3 - 8⋅V⋅f^3/(3⋅J^3)⋅a2⋅b2⋅b4
+2⋅V^3⋅f/J^3⋅b1⋅b2⋅a3⋅b3⋅a4⋅b4⋅a5
−4⋅i⋅V^2⋅f^2/(3⋅J^3)⋅b1⋅a3⋅b4⋅a5⋅b5
+4⋅V⋅f^3/(3⋅J^3)⋅b1⋅b3⋅a4
−4⋅V⋅f^3/(3⋅J^3)⋅a1⋅a3⋅a4
+8⋅i⋅V^2⋅f^2/(3⋅J^3)⋅a2⋅b2⋅b4⋅a5⋅b5
+2⋅V^3⋅f/J^3⋅b1⋅a2⋅b3⋅a4⋅b5⋅b6⋅a7
+2⋅V⋅f^3/J^3⋅a1⋅a2⋅a5
+2⋅i⋅V^2⋅f^2/J^3⋅b3⋅a4⋅b5⋅a6⋅b6
−2⋅V⋅f^3/J^3⋅b2⋅b3⋅a5
+2⋅V^3⋅f/(3⋅J^3) + 4⋅V⋅f^3/(3⋅J^3)⋅b1⋅a3⋅b4
+2⋅i⋅V^2⋅f^2/J^3⋅b1⋅b2⋅b4⋅a5⋅a6
+2⋅i⋅V^2⋅f^2/(3⋅J^3)⋅a1⋅a2⋅b2⋅a4⋅a5
+4⋅i⋅V^2⋅f^2/J^3⋅b1⋅a2⋅a4⋅b4⋅b5
−2⋅V^3⋅f/(3⋅J^3)⋅b1⋅a3⋅b3⋅a4⋅b5⋅a6⋅b6
−2⋅i⋅V^2⋅f^2/J^3⋅b1⋅a2⋅a4⋅a5⋅a6
−4⋅i⋅V^2⋅f^2/(3⋅J^3)⋅a1⋅b1⋅b2⋅a3⋅b3
+2⋅i⋅V^2⋅f^2/J^3⋅a1⋅b1⋅b4⋅a5⋅b5
−2⋅i⋅V^2⋅f^2/(3⋅J^3)⋅b1⋅a2⋅b2⋅a4⋅b5
−2⋅i⋅V^2⋅f^2/(3⋅J^3)⋅b1⋅a3⋅b3⋅a4⋅b5
+2⋅i⋅V^2⋅f^2/J^3⋅a1⋅b1⋅a2⋅b2⋅b4
−2⋅i⋅V^2⋅f^2/J^3⋅a1⋅a2⋅b4⋅a5⋅a6
+2⋅i⋅V^2⋅f^2/J^3⋅b2⋅a3⋅b5⋅a6⋅b6
+2⋅i⋅V^2⋅f^2/J^3⋅b1⋅a2⋅b4⋅b5⋅a6
−2⋅V^3⋅f/J^3 - 2⋅V⋅f^3/J^3⋅b1⋅a2⋅b5
+14⋅i⋅V^2⋅f^2/(3⋅J^3)⋅a2⋅b2⋅a3⋅b3⋅b4
−2⋅V⋅f^3/(3⋅J^3)⋅b2⋅a3⋅b3
+2⋅i⋅V^2⋅f^2/J^3⋅b1⋅a2⋅b5⋅a6⋅b6
+2⋅i⋅V^2⋅f^2/J^3⋅a1⋅b1⋅b3⋅b4⋅a5
−2⋅i⋅V^2⋅f^2/J^3⋅b2⋅a3⋅a4⋅a5⋅a6
−2⋅V^3⋅f/J^3⋅a1⋅b1⋅a2⋅b2⋅a3⋅a4⋅a5
−4⋅i⋅V^2⋅f^2/J^3 - 2⋅i⋅f^4/J^3⋅b4
+2⋅V⋅f^3/J^3⋅a1⋅b1⋅b2
+4⋅i⋅V^2⋅f^2/(3⋅J^3)⋅a2⋅b2⋅b3⋅b4⋅a5
+4⋅i⋅V^2⋅f^2/(3⋅J^3)⋅b1⋅a2⋅a3⋅b3⋅b5
+2⋅V^3⋅f/J^3⋅a1⋅b1⋅a2⋅b2⋅b4⋅a5⋅b5
−4⋅i⋅V^2⋅f^2/(3⋅J^3)⋅a1⋅a2⋅a3⋅a4⋅b4
+2⋅V^3⋅f/J^3⋅b1⋅a2⋅b4⋅a5⋅b6⋅a7⋅b7
+4⋅V^3⋅f/(3⋅J^3)⋅b1⋅a2⋅a3⋅b3⋅a4⋅b4⋅b5
+2⋅i⋅V^2⋅f^2/J^3⋅b1⋅a2⋅b4⋅a5⋅b6
+8⋅i⋅V^2⋅f^2/(3⋅J^3)⋅b1⋅a2⋅b3⋅a4⋅b4
−2⋅i⋅V^2⋅f^2/(3⋅J^3)⋅b1⋅a3⋅b3⋅b4⋅a5
+2⋅V^3⋅f/J^3⋅a1⋅b1⋅b3⋅a4⋅b5⋅a6⋅b6
−2⋅i⋅V^2⋅f^2/(3⋅J^3)⋅a1⋅b2⋅b3⋅a4⋅b4
+2⋅V^3⋅f/(3⋅J^3)⋅b2⋅a4⋅b4
−2⋅i⋅V^2⋅f^2/J^3⋅a1⋅a2⋅a4⋅b4⋅a5
+2⋅i⋅V^2⋅f^2/J^3⋅a1⋅b1⋅b3⋅a4⋅b5
−2⋅i⋅V^2⋅f^2/J^3⋅a1⋅a2⋅b3⋅a4⋅a6
−2⋅i⋅V^2⋅f^2/(3⋅J^3)⋅b1⋅a2⋅b2⋅b4⋅a5
+2⋅V^3⋅f/J^3⋅b1⋅b2⋅a3⋅b3⋅b4⋅a5⋅a6
+2⋅V^3⋅f/J^3⋅b1⋅a2⋅a4⋅b4⋅b5⋅a6⋅b6
−2⋅V⋅f^3/J^3⋅b3⋅b4⋅a5
−2⋅V^3⋅f/J^3⋅b1⋅a2⋅b3⋅a4⋅a5⋅a6⋅a7
+4⋅V^3⋅f/(3⋅J^3)⋅b1⋅a2⋅a3⋅b3⋅b5⋅a6⋅b6
+2⋅i⋅V^2⋅f^2/J^3⋅b1⋅a2⋅b3⋅a4⋅b6
−2⋅V⋅f^3/J^3⋅b2⋅a3⋅b5
−2⋅i⋅V^2⋅f^2/J^3⋅a1⋅b1⋅a2⋅a3⋅a5
+4⋅i⋅V^2⋅f^2/(3⋅J^3)⋅a1⋅a2⋅b2⋅a3⋅a4
−10⋅i⋅V^2⋅f^2/(3⋅J^3)⋅a2⋅b2⋅a3⋅a4⋅a5
+2⋅i⋅V^2⋅f^2/J^3⋅b2⋅b3⋅a4⋅b4⋅a5
−2⋅V^3⋅f/(3⋅J^3)⋅a1⋅b1⋅b2⋅a3⋅b3⋅a4⋅b4
−2⋅i⋅V^2⋅f^2/J^3⋅b1⋅a2⋅b2⋅b3⋅a4
−2⋅V^3⋅f/J^3⋅a1⋅b1⋅a2⋅a3⋅b4⋅a5⋅a6
−2⋅i⋅V^2⋅f^2/J^3⋅a2⋅a3⋅b4⋅a5⋅a6}


In [48]:
psi += psi4	

In [52]:
split_orders

Truncated Traceback (Use C-c C-x to view full TB):
<ipython-input-52-a00b3d66a36c> in <module>()
----> 1 split_orders

NameError: name 'split_orders' is not defined


In [47]:
normdict = check_normalisable(psi, iofvars, 4, orders, split_orders)

Truncated Traceback (Use C-c C-x to view full TB):
/home/qfeuille/Storage/Programming/DPhil/Commutator/commutator.py in check_normalisable(psi, fvars, order, orders, split_orders, update_splits)
    590         if not row:
    591             if sympy.simplify(cvector[i]) != 0:
--> 592                 raise ValueError('Non-normalisable: '+ str(cvector[i]))
    593     sub_sub_spaces = find_sub_subspaces(matrixrows)
    594     length_ss = len(sub_sub_spaces)

ValueError: Non-normalisable: 2*I*V*f**3/(3*J**4)


In [20]:
normdict
{C33: 0,
 C35: -V**2*f**2/J**4,
 C24: 0,
 C11: 0,
 C28: 0,
 C26: V**2*f**2/J**4,
 C16: 0,
 C2: 0,
 C4: 0,
 C23: 2*I*V**3*f/(3*J**4),
 C0: 0,
 C25: -2*V**2*f**2/(3*J**4),
 C6: 0,
 C9: 0,
 C13: 0,
 C34: 0,
 C8: 0,
 C17: -I*V*f**3/(3*J**4),
 C19: 0,
 C3: 0,
 C21: 0,
 C1: 0,
 C15: 0,
 C31: 0,
 C36: -V**2*f**2/J**4,
 C30: 0,
 C29: 0,
 C32: -V**2*f**2/J**4,
 C14: 0,
 C18: 0,
 C22: 0,
 C12: 0,
 C7: V**2*f**2/(3*J**4),
 C5: I*V**3*f/(3*J**4),
 C20: -V**2*f**2/(3*J**4),
 C10: 0,
 C27: 0}

In [22]:
psisub = substitute_group(psi, normdict)

In [24]:
iofvars = []

In [22]:
subspace, matrixrows = sparse_find_subspace(c(H, psi), Jpart)
print_subspace(subspace)
cvector = build_vector_to_cancel(c(H, psi), subspace)
#p(psi5)
0: b1 a2 a3 b3 a4 b4 b6
1: b1 a2 a3 b3 a4 a5 b6
2: b1 a2 b2 b3 a4 a5 b6
3: b1 a2 b2 b3 a4 a5 a7
4: b1 a2 b2 b3 a4 b4 a7
5: b1 a2 a3 b3 a4 b4 a7
6: b1 a2 a3 b3 a4 a5 a7
7: b1 a2 b2 b3 a4 b4 b6
8: a1 a2 a4
9: a1 b1 a4
10: a1 b1 b3
11: a1 a2 b3
12: a3 a4 a6
13: b2 a4 a6
14: b2 a4 b5
15: b2 b3 b5
16: b2 b3 a6
17: a3 b3 a6
18: a3 b3 b5
19: a3 a4 b5
20: a1 b2 a3 b3 b4 a5 b5
21: a1 b2 a3 a4 b4 a5 b5
22: a1 b2 a3 a4 b4 a5 a6
23: a1 b2 a3 b3 b4 a5 a6
24: b1 a2 b2 a4 a5 a6 a7
25: b1 a2 b2 b3 a5 a6 a7
26: b1 a2 a3 b3 a5 a6 a7
27: b1 a2 a3 b3 a5 a6 b6
28: b1 a2 b2 b3 a5 a6 b6
29: b1 a2 b2 a4 a5 a6 b6
30: b1 a2 b2 a4 b4 a6 b6
31: b1 a2 b2 a4 b4 b5 b6
32: b1 a2 b2 b3 b4 b5 b6
33: b1 a2 a3 b3 b4 b5 b6
34: b1 a2 a3 b3 b4 b5 a7
35: b1 a2 b2 b3 b4 b5 a7
36: b1 a2 b2 b3 b4 a6 a7
37: b1 a2 b2 b3 b4 a6 b6
38: b1 a2 a3 b3 b4 a6 b6
39: b1 a2 a3 a4 b4 a6 b6
40: b1 a2 a3 a4 a5 a6 b6
41: b1 a2 a3 a4 a5 a6 a7
42: b1 a2 a3 a4 b4 a6 a7
43: b1 a2 b2 a4 b4 a6 a7
44: b1 a2 b2 a4 b4 b5 a7
45: b1 a2 b2 a4 a5 b5 a7
46: b1 a2 a3 a4 a5 b5 a7
47: b1 a2 a3 a4 b4 b5 a7
48: b1 a2 a3 a4 b4 b5 b6
49: b1 a2 a3 a4 a5 b5 b6
50: b1 a2 b2 a4 a5 b5 b6
51: b1 a2 b2 b3 a5 b5 b6
52: b1 a2 b2 b3 a5 b5 a7
53: b1 a2 a3 b3 a5 b5 a7
54: b1 a2 a3 b3 a5 b5 b6
55: b1 a2 a3 b3 b4 a6 a7
56: a1 a2 b2 a3 b4 a5 b5
57: a1 a2 b2 a3 b4 a5 a6
58: a1 b1 b2 a3 b4 a5 a6
59: a1 b1 b2 a3 b4 a5 b5
60: a1 a2 b3 b4 a6
61: a1 b1 b3 b4 a6
62: a1 b1 b3 a5 a6
63: a1 a2 b3 a5 a6
64: a1 a2 b3 a5 b5
65: a1 a2 b3 b4 b5
66: a1 a2 a4 b4 b5
67: a1 a2 a4 a5 b5
68: a1 b1 a4 a5 b5
69: a1 b1 a4 a5 a6
70: a1 b1 a4 b4 a6
71: a1 a2 a4 b4 a6
72: a1 a2 a4 a5 a6
73: a1 b1 a4 b4 b5
74: a1 b1 b3 b4 b5
75: a1 b1 b3 a5 b5
76: b1 b2 b3 a4 b4 a5 a6
77: a2 b2 b3 a4 b4 a5 a6
78: a2 a3 b3 a4 b4 a5 a6
79: a2 a3 b3 a4 b4 a5 b5
80: b1 a3 b3 a4 b4 a5 b5
81: b1 b2 b3 a4 b4 a5 b5
82: a2 b2 b3 a4 b4 a5 b5
83: b1 a3 b3 a4 b4 a5 a6
84: a1 a2 b3 a4 a5 a6 b6
85: a1 b1 b3 a4 a5 a6 b6
86: a1 b1 b3 a4 b4 a6 b6
87: a1 a2 b3 a4 b4 a6 b6
88: a1 a2 b3 a4 b4 b5 b6
89: a1 b1 b3 a4 b4 b5 b6
90: a1 b1 b3 a4 b4 b5 a7
91: a1 a2 b3 a4 b4 b5 a7
92: a1 a2 b3 a4 b4 a6 a7
93: a1 a2 b3 a4 a5 a6 a7
94: a1 b1 b3 a4 a5 a6 a7
95: a1 b1 b3 a4 a5 b5 a7
96: a1 a2 b3 a4 a5 b5 a7
97: a1 a2 b3 a4 a5 b5 b6
98: a1 b1 b3 a4 a5 b5 b6
99: a1 b1 b3 a4 b4 a6 a7
100: b5
101: a6
102: b1 a2 b3 a4 b4 a5 b5 b6 a7
103: b1 a2 b3 a4 b4 a5 a6 b6 a7
104: b2 a4 b5 a6 b6
105: a3 a4 b5 a6 b6
106: a3 a4 b5 a6 a7
107: a3 b3 b5 a6 a7
108: a3 b3 b5 a6 b6
109: b2 b3 b5 a6 b6
110: b2 b3 b5 a6 a7
111: b2 a4 b5 a6 a7
112: b1 a2 b3 a4 b4 b6 a7
113: b1 a2 b3 a4 a5 b6 a7
114: b2 a3 b3 b4 a5
115: b2 a3 a4 b4 a5
116: a1 b1 b2 b3 a4 b4 b5
117: a1 a2 b2 b3 a4 b4 b5
118: a1 a2 b2 b3 a4 a5 b5
119: a1 a2 b2 b3 a4 a5 a6
120: a1 a2 b2 b3 a4 b4 a6
121: a1 b1 b2 b3 a4 b4 a6
122: a1 b1 a3 b3 a4 b4 a6
123: a1 b1 a3 b3 a4 a5 a6
124: a1 b1 a3 b3 a4 a5 b5
125: a1 b1 a3 b3 a4 b4 b5
126: a1 a2 a3 b3 a4 b4 b5
127: a1 a2 a3 b3 a4 b4 a6
128: a1 a2 a3 b3 a4 a5 a6
129: a1 a2 a3 b3 a4 a5 b5
130: a1 b1 b2 b3 a4 a5 b5
131: a1 b1 b2 b3 a4 a5 a6
132: a1 b2 b3 a4 a6
133: a1 a3 b3 a4 a6
134: a1 a3 b3 a4 b5
135: a1 b2 b3 a4 b5
136: a1 b1 a2 b2 b3 a4 b4
137: a1 b1 a2 b2 b3 a4 a5
138: a1 b1 a2 a3 b3 a4 a5
139: a1 b1 a2 a3 b3 a4 b4
140: b1 a2 b3 a4 b5 a6 b7 a8 b9
141: b1 a2 b3 a4 b5 a6 b7 a8 a10
142: b2 a3 b4 a5 a6 a7 a8
143: b2 a3 b4 a5 b5 a7 a8
144: b2 a3 b4 a5 b5 a7 b7
145: b2 a3 b4 a5 b5 b6 b7
146: b2 a3 b4 a5 a6 b6 b7
147: b2 a3 b4 a5 a6 a7 b7
148: b2 a3 b4 a5 a6 b6 a8
149: b2 a3 b4 a5 b5 b6 a8
150: b1 a2 b3 a4 b6 a7 b8 a9 b9
151: b1 a2 b3 a4 b6 a7 b8 a9 a10
152: b1 a2 a3 b3 b5 b6 a7
153: b1 a2 a3 a4 b5 b6 a7
154: b1 a2 b2 a4 b5 b6 a7
155: b1 a2 b2 a4 a6 b6 a7
156: b1 a2 b2 b3 a6 b6 a7
157: b1 a2 a3 b3 a6 b6 a7
158: b1 a2 a3 a4 a6 b6 a7
159: b1 a2 b2 b3 b5 b6 a7
160: b1 a2 b2 a3 b5
161: b1 a2 b2 a3 a6
162: a1 b1 a2 b3 a5
163: a1 b1 a2 b3 b4
164: a1 b1 a2 a4 b4
165: a1 b1 a2 a4 a5
166: b1 a2 a5 b5 b6
167: b1 a2 a5 a6 b6
168: b1 a2 b4 a6 b6
169: b1 a2 b4 b5 b6
170: b1 a2 b4 b5 a7
171: b1 a2 a5 b5 a7
172: b1 a2 a5 a6 a7
173: b1 a2 b4 a6 a7
174: a1 a4 b5 a6 a7
175: a1 b3 b5 a6 a7
176: a1 b3 b5 a6 b6
177: a1 a4 b5 a6 b6
178: a2 b2 a3 b3 a4 a5 a6
179: b1 b2 a3 b3 a4 a5 a6
180: b1 b2 a3 b3 a4 b4 a6
181: b1 b2 a3 b3 a4 b4 b5
182: a2 b2 a3 b3 a4 b4 b5
183: a2 b2 a3 b3 a4 b4 a6
184: a2 b2 a3 b3 a4 a5 b5
185: b1 b2 a3 b3 a4 a5 b5
186: a2 b2 b3 a4 b5 a6 b7 a8 b8
187: b1 b2 b3 a4 b5 a6 b7 a8 b8
188: b1 a3 b3 a4 b5 a6 b7 a8 b8
189: b1 a3 b3 a4 b5 a6 b7 a8 a9
190: a2 a3 b3 a4 b5 a6 b7 a8 a9
191: a2 b2 b3 a4 b5 a6 b7 a8 a9
192: b1 b2 b3 a4 b5 a6 b7 a8 a9
193: a2 a3 b3 a4 b5 a6 b7 a8 b8
194: a1 a2 b5 a6 a7
195: a1 b1 b5 a6 a7
196: a1 b1 b5 a6 b6
197: a1 a2 b5 a6 b6
198: a1 b3 a4 b4 b5
199: a1 b3 a4 b4 a6
200: a1 b3 a4 a5 a6
201: a1 b3 a4 a5 b5
202: b2 a3 b5 a6 b7
203: b2 a3 b5 a6 a8
204: a1 b1 a2 b2 a3 b4 a5
205: b1 a2 b3 b4 a5 b5 b6 a7 a8
206: b1 a2 b3 b4 a5 b5 b6 a7 b7
207: b1 a2 b3 b4 a5 a6 b6 a7 b7
208: b1 a2 b3 b4 a5 a6 b6 a7 a8
209: b1 a2 a4 b4 a5 a6 b6 a7 a8
210: b1 a2 a4 b4 a5 a6 b6 a7 b7
211: b1 a2 a4 b4 a5 b5 b6 a7 b7
212: b1 a2 a4 b4 a5 b5 b6 a7 a8
213: b1 a2 b2 a4 b6
214: b1 a2 b2 b3 b6
215: b1 a2 a3 b3 b6
216: b1 a2 a3 a4 b6
217: b1 a2 a3 a4 a7
218: b1 a2 b2 a4 a7
219: b1 a2 b2 b3 a7
220: b1 a2 a3 b3 a7
221: b1 a2 a4 b4 b6 a7 b7
222: b1 a2 b3 b4 b6 a7 b7
223: b1 a2 b3 a5 b6 a7 b7
224: b1 a2 b3 a5 b6 a7 a8
225: b1 a2 b3 b4 b6 a7 a8
226: b1 a2 a4 b4 b6 a7 a8
227: b1 a2 a4 a5 b6 a7 a8
228: b1 a2 a4 a5 b6 a7 b7
229: a1 b1 a2 a3 b5 a6 a7
230: a1 b1 a2 a3 b5 a6 b6
231: a1 b1 a2 b2 b5 a6 b6
232: a1 b1 a2 b2 b5 a6 a7
233: b1 a2 a4 b4 b5 a6 b7 a8 b8
234: b1 a2 a4 a5 b5 a6 b7 a8 b8
235: b1 a2 a4 a5 b5 a6 b7 a8 a9
236: b1 a2 b3 a5 b5 a6 b7 a8 a9
237: b1 a2 b3 b4 b5 a6 b7 a8 a9
238: b1 a2 b3 b4 b5 a6 b7 a8 b8
239: b1 a2 b3 a5 b5 a6 b7 a8 b8
240: b1 a2 a4 b4 b5 a6 b7 a8 a9
241: b3 a4 b4
242: b3 a4 a5
243: a2 a3 a6
244: b1 a3 a6
245: b1 a3 b5
246: a2 a3 b5
247: a2 b2 b5
248: a2 b2 a6
249: b1 b2 a6
250: b1 b2 b5
251: b1 a2 b2 b3 a4 b4 a5 a6 b6
252: b1 a2 a3 b3 a4 b4 a5 a6 b6
253: b1 a2 a3 b3 a4 b4 a5 b5 b6
254: b1 a2 a3 b3 a4 b4 a5 b5 a7
255: b1 a2 b2 b3 a4 b4 a5 b5 a7
256: b1 a2 b2 b3 a4 b4 a5 a6 a7
257: b1 a2 a3 b3 a4 b4 a5 a6 a7
258: b1 a2 b2 b3 a4 b4 a5 b5 b6
259: b1 b3 a4 b4 a5
260: a2 b3 a4 b4 a5
261: a1 a3 b3 a4 b5 a6 a7
262: a1 a3 b3 a4 b5 a6 b6
263: a1 b2 b3 a4 b5 a6 b6
264: a1 b2 b3 a4 b5 a6 a7
265: b1 a2 b2 b4 a5 b5 a6
266: b1 a2 a3 b4 a5 b5 a6
267: b1 a2 b2 a3 a4 b4 b5 a6 b6
268: b1 a2 b2 a3 a4 a5 b5 a6 b6
269: b1 a2 b2 a3 b3 a5 b5 a6 b6
270: b1 a2 b2 a3 b3 a5 b5 a6 a7
271: b1 a2 b2 a3 a4 a5 b5 a6 a7
272: b1 a2 b2 a3 a4 b4 b5 a6 a7
273: b1 a2 b2 a3 b3 b4 b5 a6 a7
274: b1 a2 b2 a3 b3 b4 b5 a6 b6
275: b1 a2 b3 a4 b5 a6 b6
276: b1 a2 b3 a4 b5 a6 a7
277: b1 b3 b4 a5 a6
278: a2 b3 b4 a5 a6
279: a2 b3 b4 a5 b5
280: a2 a4 b4 a5 b5
281: a2 a4 b4 a5 a6
282: b1 a4 b4 a5 a6
283: b1 a4 b4 a5 b5
284: b1 b3 b4 a5 b5
285: b1 a2 b3 a4 b5 b6 b7 a8 a9
286: b1 a2 b3 a4 a6 b6 b7 a8 a9
287: b1 a2 b3 a4 a6 a7 b7 a8 a9
288: b1 a2 b3 a4 b5 a7 b7 a8 a9
289: b1 a2 b3 a4 b5 a7 b7 a8 b8
290: b1 a2 b3 a4 b5 b6 b7 a8 b8
291: b1 a2 b3 a4 a6 b6 b7 a8 b8
292: b1 a2 b3 a4 a6 a7 b7 a8 b8
293: a2 a3 b3 b4 b5
294: a2 a3 b3 a5 b5
295: a2 a3 a4 a5 b5
296: a2 a3 a4 b4 b5
297: b1 a3 a4 b4 b5
298: b1 a3 a4 b4 a6
299: b1 a3 b3 b4 a6
300: b1 a3 b3 a5 a6
301: b1 a3 a4 a5 a6
302: b1 b2 a4 a5 a6
303: b1 b2 a4 b4 a6
304: b1 b2 b3 b4 a6
305: b1 b2 b3 b4 b5
306: a2 b2 b3 b4 b5
307: a2 b2 a4 b4 b5
308: a2 b2 a4 b4 a6
309: a2 a3 a4 b4 a6
310: a2 a3 a4 a5 a6
311: a2 b2 a4 a5 a6
312: a2 b2 b3 a5 a6
313: a2 a3 b3 a5 a6
314: a2 a3 b3 b4 a6
315: a2 b2 b3 b4 a6
316: a2 b2 b3 a5 b5
317: a2 b2 a4 a5 b5
318: b1 b2 a4 a5 b5
319: b1 b2 b3 a5 b5
320: b1 b2 b3 a5 a6
321: b1 a3 b3 a5 b5
322: b1 a3 a4 a5 b5
323: b1 a3 b3 b4 b5
324: b1 b2 a4 b4 b5
325: a1 a2 a4 b4 a5 b5 a6
326: a1 a2 b3 b4 a5 b5 a6
327: a1 b1 b3 b4 a5 b5 a6
328: a1 b1 a4 b4 a5 b5 a6
329: a1 b1 b3 a4 b4
330: a1 a2 b3 a4 b4
331: a1 a2 b3 a4 a5
332: a1 b1 b3 a4 a5
333: b1 a2 a3 a4 b4
334: b1 a2 a3 a4 a5
335: b1 a2 a3 b3 a5
336: b1 a2 a3 b3 b4
337: b1 a2 b2 b3 b4
338: b1 a2 b2 b3 a5
339: b1 a2 b2 a4 a5
340: b1 a2 b2 a4 b4
341: a2 b2 b4 a5 b6 a7 b7
342: a2 a3 b4 a5 b6 a7 b7
343: a2 a3 b4 a5 b6 a7 a8
344: b1 a3 b4 a5 b6 a7 a8
345: b1 b2 b4 a5 b6 a7 a8
346: b1 b2 b4 a5 b6 a7 b7
347: b1 a3 b4 a5 b6 a7 b7
348: a2 b2 b4 a5 b6 a7 a8
349: a1 a2 a3 a4 b5 a6 b6
350: a1 b1 a3 a4 b5 a6 b6
351: a1 b1 b2 a4 b5 a6 b6
352: a1 b1 b2 b3 b5 a6 b6
353: a1 b1 b2 b3 b5 a6 a7
354: a1 b1 b2 a4 b5 a6 a7
355: a1 b1 a3 a4 b5 a6 a7
356: a1 a2 a3 a4 b5 a6 a7
357: a1 a2 a3 b3 b5 a6 a7
358: a1 a2 b2 b3 b5 a6 a7
359: a1 a2 b2 b3 b5 a6 b6
360: a1 a2 b2 a4 b5 a6 b6
361: a1 a2 b2 a4 b5 a6 a7
362: a1 a2 a3 b3 b5 a6 b6
363: a1 b1 a3 b3 b5 a6 b6
364: a1 b1 a3 b3 b5 a6 a7
365: b2 b5 a6
366: a3 b5 a6
367: b1 a2 b2 b3 a4 b4 a5
368: b1 a2 a3 b3 a4 b4 a5
369: b2 a3 b3 b5 a6
370: b2 a3 a4 b5 a6
371: a1 a2 b3 a4 b6 a7 b7
372: a1 a2 b3 a4 b6 a7 a8
373: a1 b1 b3 a4 b6 a7 a8
374: a1 b1 b3 a4 b6 a7 b7
375: b1 a2 b3 a4 b5
376: b1 a2 b3 a4 a6
377: b2 a4 b4 b5 a6
378: a3 a4 b4 b5 a6
379: a3 b3 b4 b5 a6
380: a3 b3 a5 b5 a6
381: b2 b3 a5 b5 a6
382: b2 b3 b4 b5 a6
383: b2 a4 a5 b5 a6
384: a3 a4 a5 b5 a6
385: a1 b1 a2 a3 a4 b4 b5
386: a1 b1 a2 b2 a4 b4 b5
387: a1 b1 a2 b2 a4 a5 b5
388: a1 b1 a2 b2 a4 a5 a6
389: a1 b1 a2 b2 b3 a5 a6
390: a1 b1 a2 b2 b3 a5 b5
391: a1 b1 a2 a3 b3 a5 b5
392: a1 b1 a2 a3 b3 a5 a6
393: a1 b1 a2 a3 b3 b4 a6
394: a1 b1 a2 b2 b3 b4 a6
395: a1 b1 a2 b2 b3 b4 b5
396: a1 b1 a2 a3 b3 b4 b5
397: a1 b1 a2 b2 a4 b4 a6
398: a1 b1 a2 a3 a4 b4 a6
399: a1 b1 a2 a3 a4 a5 a6
400: a1 b1 a2 a3 a4 a5 b5
401: b1 a2 a3
402: b1 a2 b2
403: a1 a2 b3 a4 a6 b6 a7
404: a1 a2 b3 a4 b5 b6 a7
405: a1 b1 b3 a4 b5 b6 a7
406: a1 b1 b3 a4 a6 b6 a7
407: b2 a4 b4 a5 b6
408: b2 b3 b4 a5 b6
409: a3 b3 b4 a5 b6
410: a3 a4 b4 a5 b6
411: a3 a4 b4 a5 a7
412: b2 a4 b4 a5 a7
413: b2 b3 b4 a5 a7
414: a3 b3 b4 a5 a7
415: b1 a2 b2 a3 b5 a6 b6
416: b1 a2 b2 a3 b5 a6 a7
417: a2 b2 a3 b3 b4 a5 b6
418: a2 b2 a3 a4 b4 a5 b6
419: a2 b2 a3 a4 b4 a5 a7
420: a2 b2 a3 b3 b4 a5 a7
421: b1 b2 a3 b3 b4 a5 a7
422: b1 b2 a3 b3 b4 a5 b6
423: b1 b2 a3 a4 b4 a5 b6
424: b1 b2 a3 a4 b4 a5 a7
425: a1 b2 a3 a4 a5
426: a1 b2 a3 b3 a5
427: a1 b2 a3 b3 b4
428: a1 b2 a3 a4 b4
429: b1 a2 a3 a4 b5 a6 b7 a8 a9
430: b1 a2 a3 a4 b5 a6 b7 a8 b8
431: b1 a2 b2 a4 b5 a6 b7 a8 b8
432: b1 a2 b2 a4 b5 a6 b7 a8 a9
433: b1 a2 b2 b3 b5 a6 b7 a8 a9
434: b1 a2 b2 b3 b5 a6 b7 a8 b8
435: b1 a2 a3 b3 b5 a6 b7 a8 b8
436: b1 a2 a3 b3 b5 a6 b7 a8 a9
437: a1 a2 b4 a5 a7
438: a1 b1 b4 a5 a7
439: a1 b1 b4 a5 b6
440: a1 a2 b4 a5 b6
441: b2 a3 b5 a6 b7 a8 b8
442: b2 a3 b5 a6 b7 a8 a9
443: b2 a3 b4 a5 b7 a8 b8
444: b2 a3 b4 a5 b7 a8 a9
445: b1 a2 a3 b3 a4 b4 b6 a7 b7
446: b1 a2 b2 b3 a4 b4 b6 a7 b7
447: b1 a2 b2 b3 a4 a5 b6 a7 b7
448: b1 a2 b2 b3 a4 a5 b6 a7 a8
449: b1 a2 b2 b3 a4 b4 b6 a7 a8
450: b1 a2 a3 b3 a4 b4 b6 a7 a8
451: b1 a2 a3 b3 a4 a5 b6 a7 a8
452: b1 a2 a3 b3 a4 a5 b6 a7 b7
453: b1 b2 a3 b3 a4
454: a2 b2 a3 b3 a4
455: b1 b2 a4 b4 a5 b5 a6
456: b1 a3 a4 b4 a5 b5 a6
457: b1 a3 b3 b4 a5 b5 a6
458: a2 a3 b3 b4 a5 b5 a6
459: a2 b2 b3 b4 a5 b5 a6
460: b1 b2 b3 b4 a5 b5 a6
461: a2 b2 a4 b4 a5 b5 a6
462: a2 a3 a4 b4 a5 b5 a6
463: b1 a2 b3 a4 b5 b6 a8
464: b1 a2 b3 a4 a6 b6 a8
465: b1 a2 b3 a4 a6 a7 a8
466: b1 a2 b3 a4 a6 a7 b7
467: b1 a2 b3 a4 a6 b6 b7
468: b1 a2 b3 a4 b5 b6 b7
469: b1 a2 b3 a4 b5 a7 b7
470: b1 a2 b3 a4 b5 a7 a8
471: a1 b1 a3 a4 b5
472: a1 a2 a3 a4 b5
473: a1 a2 b2 a4 b5
474: a1 a2 b2 a4 a6
475: a1 b1 b2 a4 a6
476: a1 b1 b2 b3 a6
477: a1 b1 b2 b3 b5
478: a1 a2 b2 b3 b5
479: a1 a2 a3 b3 b5
480: a1 a2 a3 b3 a6
481: a1 b1 a3 b3 a6
482: a1 b1 a3 b3 b5
483: a1 b1 a3 a4 a6
484: a1 a2 a3 a4 a6
485: a1 a2 b2 b3 a6
486: a1 b1 b2 a4 b5
487: a2 a3 b3 b4 b5 a6 b6
488: a2 a3 b3 a5 b5 a6 b6
489: a2 a3 b3 a5 b5 a6 a7
490: a2 a3 a4 a5 b5 a6 a7
491: b1 a3 a4 a5 b5 a6 a7
492: b1 a3 a4 a5 b5 a6 b6
493: b1 a3 b3 a5 b5 a6 b6
494: b1 a3 b3 a5 b5 a6 a7
495: b1 b2 b3 a5 b5 a6 a7
496: a2 b2 b3 a5 b5 a6 a7
497: a2 b2 b3 b4 b5 a6 a7
498: a2 b2 a4 b4 b5 a6 a7
499: a2 a3 a4 b4 b5 a6 a7
500: a2 a3 a4 b4 b5 a6 b6
501: a2 a3 a4 a5 b5 a6 b6
502: a2 b2 a4 a5 b5 a6 b6
503: a2 b2 b3 a5 b5 a6 b6
504: a2 b2 b3 b4 b5 a6 b6
505: b1 b2 b3 b4 b5 a6 b6
506: b1 b2 b3 a5 b5 a6 b6
507: b1 b2 a4 a5 b5 a6 b6
508: b1 b2 a4 b4 b5 a6 b6
509: b1 b2 a4 b4 b5 a6 a7
510: b1 a3 a4 b4 b5 a6 a7
511: b1 a3 b3 b4 b5 a6 a7
512: b1 a3 b3 b4 b5 a6 b6
513: b1 a3 a4 b4 b5 a6 b6
514: b1 b2 b3 b4 b5 a6 a7
515: a2 a3 b3 b4 b5 a6 a7
516: b1 b2 a4 a5 b5 a6 a7
517: a2 b2 a4 a5 b5 a6 a7
518: a2 b2 a4 b4 b5 a6 b6
519: b1 a2 a3 a5 a6
520: b1 a2 b2 a5 a6
521: b1 a2 b2 b4 a6
522: b1 a2 a3 b4 a6
523: b1 a2 a3 b4 b5
524: b1 a2 b2 b4 b5
525: b1 a2 b2 a5 b5
526: b1 a2 a3 a5 b5
527: b3 a4 b4 a5 b5
528: b3 a4 b4 a5 a6
529: b2 b3 a4
530: a3 b3 a4
531: b1 a2 a3 b5 b6
532: b1 a2 a3 a6 b6
533: b1 a2 a3 a6 a7
534: b1 a2 b2 a6 a7
535: b1 a2 b2 b5 a7
536: b1 a2 b2 b5 b6
537: b1 a2 b2 a6 b6
538: b1 a2 a3 b5 a7
539: a1 b1 a2 a3 b4 a5 b6
540: a1 b1 a2 b2 b4 a5 b6
541: a1 b1 a2 b2 b4 a5 a7
542: a1 b1 a2 a3 b4 a5 a7
543: b1 a2 b2 a3 a4 b4 b5
544: b1 a2 b2 a3 b3 b4 b5
545: b1 a2 b2 a3 b3 b4 a6
546: b1 a2 b2 a3 a4 b4 a6
547: b1 a2 b2 a3 a4 a5 a6
548: b1 a2 b2 a3 a4 a5 b5
549: b1 a2 b2 a3 b3 a5 b5
550: b1 a2 b2 a3 b3 a5 a6
551: a1 b1 a2 b2 a3 b3 a4
552: b1 a2 a3 b3 b6 a7 b7
553: b1 a2 a3 a4 b6 a7 b7
554: b1 a2 a3 a4 b6 a7 a8
555: b1 a2 a3 b3 b6 a7 a8
556: b1 a2 b2 b3 b6 a7 a8
557: b1 a2 b2 a4 b6 a7 a8
558: b1 a2 b2 a4 b6 a7 b7
559: b1 a2 b2 b3 b6 a7 b7
560: b2 a3 b4 b5 a6 b6 a7
561: b2 a3 a5 b5 a6 b6 a7
562: a1 b1 b2 a3 a5
563: a1 b1 b2 a3 b4
564: a1 a2 b2 a3 b4
565: a1 a2 b2 a3 a5
566: b1 b2 a3 b3 b5 a6 a7
567: b1 b2 a3 a4 b5 a6 a7
568: a2 b2 a3 a4 b5 a6 a7
569: a2 b2 a3 a4 b5 a6 b6
570: a2 b2 a3 b3 b5 a6 b6
571: a2 b2 a3 b3 b5 a6 a7
572: b1 b2 a3 b3 b5 a6 b6
573: b1 b2 a3 a4 b5 a6 b6
574: b1 a2 b3 a5 b5 a6 b7
575: b1 a2 b3 b4 b5 a6 b7
576: b1 a2 b3 b4 b5 a6 a8
577: b1 a2 a4 b4 b5 a6 a8
578: b1 a2 a4 a5 b5 a6 a8
579: b1 a2 a4 a5 b5 a6 b7
580: b1 a2 a4 b4 b5 a6 b7
581: b1 a2 b3 a5 b5 a6 a8
582: b1 b2 b3 a4 b4 a6 a7
583: b1 b2 b3 a4 a5 a6 a7
584: b1 b2 b3 a4 a5 b5 a7
585: a2 b2 b3 a4 a5 b5 a7
586: a2 a3 b3 a4 a5 b5 a7
587: b1 a3 b3 a4 a5 b5 a7
588: b1 a3 b3 a4 b4 b5 a7
589: a2 a3 b3 a4 b4 b5 a7
590: a2 a3 b3 a4 b4 a6 a7
591: a2 a3 b3 a4 a5 a6 a7
592: a2 a3 b3 a4 a5 a6 b6
593: b1 a3 b3 a4 a5 a6 b6
594: b1 a3 b3 a4 a5 a6 a7
595: b1 a3 b3 a4 b4 a6 a7
596: b1 a3 b3 a4 b4 a6 b6
597: a2 a3 b3 a4 b4 a6 b6
598: a2 b2 b3 a4 b4 a6 b6
599: a2 b2 b3 a4 b4 b5 b6
600: a2 b2 b3 a4 a5 b5 b6
601: a2 b2 b3 a4 a5 a6 b6
602: a2 b2 b3 a4 a5 a6 a7
603: a2 b2 b3 a4 b4 a6 a7
604: a2 b2 b3 a4 b4 b5 a7
605: b1 b2 b3 a4 b4 b5 a7
606: b1 b2 b3 a4 b4 b5 b6
607: b1 b2 b3 a4 b4 a6 b6
608: b1 b2 b3 a4 a5 a6 b6
609: b1 b2 b3 a4 a5 b5 b6
610: b1 a3 b3 a4 a5 b5 b6
611: b1 a3 b3 a4 b4 b5 b6
612: a2 a3 b3 a4 b4 b5 b6
613: a2 a3 b3 a4 a5 b5 b6
614: a1 b1 a2 b2 a3 a4 b5
615: a1 b1 a2 b2 a3 a4 a6
616: a1 b1 a2 b2 a3 b3 a6
617: a1 b1 a2 b2 a3 b3 b5
618: b1 a2 a3 b3 b4 a5 b5 a6 b6
619: b1 a2 a3 a4 b4 a5 b5 a6 b6
620: b1 a2 a3 a4 b4 a5 b5 a6 a7
621: b1 a2 b2 a4 b4 a5 b5 a6 a7
622: b1 a2 b2 b3 b4 a5 b5 a6 a7
623: b1 a2 a3 b3 b4 a5 b5 a6 a7
624: b1 a2 b2 b3 b4 a5 b5 a6 b6
625: b1 a2 b2 a4 b4 a5 b5 a6 b6
626: a2 b2 b3 a4 b4
627: a2 a3 b3 a4 b4
628: b1 a3 b3 a4 b4
629: b1 b2 b3 a4 b4
630: b1 b2 b3 a4 a5
631: b1 a3 b3 a4 a5
632: a2 a3 b3 a4 a5
633: a2 b2 b3 a4 a5
634: b1 a2 b5 b6 a7
635: b1 a2 a6 b6 a7
636: b2 b3 b4 a5 b6 a7 a8
637: a3 b3 b4 a5 b6 a7 a8
638: a3 b3 b4 a5 b6 a7 b7
639: b2 b3 b4 a5 b6 a7 b7
640: b2 a4 b4 a5 b6 a7 b7
641: b2 a4 b4 a5 b6 a7 a8
642: a3 a4 b4 a5 b6 a7 a8
643: a3 a4 b4 a5 b6 a7 b7
644: a1 b2 a5
645: a1 b2 b4
646: a1 a3 b4
647: a1 a3 a5
648: a3 b3 a4 b4 b5
649: a3 b3 a4 a5 b5
650: a3 b3 a4 a5 a6
651: a3 b3 a4 b4 a6
652: b2 b3 a4 b4 a6
653: b2 b3 a4 b4 b5
654: b2 b3 a4 a5 b5
655: b2 b3 a4 a5 a6
656: b2 a3 a4 b4 b6 a7 b7
657: b2 a3 a4 b4 b6 a7 a8
658: b2 a3 a4 a5 b6 a7 a8
659: b2 a3 a4 a5 b6 a7 b7
660: b2 a3 b3 a5 b6 a7 b7
661: b2 a3 b3 b4 b6 a7 b7
662: b2 a3 b3 b4 b6 a7 a8
663: b2 a3 b3 a5 b6 a7 a8
664: a1 b1 b3 a4 b5 a6 b7 a8 b8
665: a1 b1 b3 a4 b5 a6 b7 a8 a9
666: a1 a2 b3 a4 b5 a6 b7 a8 a9
667: a1 a2 b3 a4 b5 a6 b7 a8 b8
668: a1 b1 a2 b2 a3 b3 a4 a5 a6
669: a1 b1 a2 b2 a3 b3 a4 b4 a6
670: a1 b1 a2 b2 a3 b3 a4 b4 b5
671: a1 b1 a2 b2 a3 b3 a4 a5 b5
672: b1 a2 a3 b3 b5 a6 b7
673: b1 a2 a3 b3 b5 a6 a8
674: b1 a2 b2 b3 b5 a6 a8
675: b1 a2 b2 b3 b5 a6 b7
676: b1 a2 b2 a4 b5 a6 b7
677: b1 a2 b2 a4 b5 a6 a8
678: b1 a2 a3 a4 b5 a6 a8
679: b1 a2 a3 a4 b5 a6 b7
680: b1 a2 a4 b4 a5
681: b1 a2 b3 b4 a5
682: b1 a2 b3 b5 a6
683: b1 a2 a4 b5 a6
684: b1 a2 b3 a4 a5 a6 b7 a8 a9
685: b1 a2 b3 a4 a5 a6 b7 a8 b8
686: b1 a2 b3 a4 a5 b5 b7 a8 b8
687: b1 a2 b3 a4 b4 b5 b7 a8 b8
688: b1 a2 b3 a4 b4 b5 b7 a8 a9
689: b1 a2 b3 a4 a5 b5 b7 a8 a9
690: b1 a2 b3 a4 b4 a6 b7 a8 a9
691: b1 a2 b3 a4 b4 a6 b7 a8 b8
692: a1 b1 b2 b3 a4
693: a1 b1 a3 b3 a4
694: a1 a2 a3 b3 a4
695: a1 a2 b2 b3 a4
696: b1 a2 b3 a4 b5 a6 b8
697: b1 a2 b3 a4 b5 a6 a9
698: b1 b2 b3
699: a2 b2 b3
700: a2 b2 a4
701: b1 b2 a4
702: b1 a3 a4
703: a2 a3 a4
704: a2 a3 b3
705: b1 a3 b3
706: a1 a2 b4 a5 b6 a7 b7
707: a1 a2 b4 a5 b6 a7 a8
708: a1 b1 b4 a5 b6 a7 a8
709: a1 b1 b4 a5 b6 a7 b7
710: a1 a4 b5
711: a1 a4 a6
712: a1 b3 a6
713: a1 b3 b5
714: b1 b3 b4
715: b1 a4 b4
716: b1 a4 a5
717: b1 b3 a5
718: a2 b3 a5
719: a2 a4 a5
720: a2 a4 b4
721: a2 b3 b4
722: b1 a2 a3 b3 b4 a5 b5
723: b1 a2 b2 b3 b4 a5 b5
724: b1 a2 b2 a4 b4 a5 b5
725: b1 a2 b2 a4 b4 a5 a6
726: b1 a2 a3 a4 b4 a5 a6
727: b1 a2 a3 b3 b4 a5 a6
728: b1 a2 b2 b3 b4 a5 a6
729: b1 a2 a3 a4 b4 a5 b5
730: a1 b1 a2 a3 b4 b5 a6
731: a1 b1 a2 a3 a5 b5 a6
732: a1 b1 a2 b2 a5 b5 a6
733: a1 b1 a2 b2 b4 b5 a6
734: a4 b4 b5 a6 b6
735: b3 b4 b5 a6 b6
736: b3 a5 b5 a6 b6
737: a4 a5 b5 a6 b6
738: a4 a5 b5 a6 a7
739: b3 a5 b5 a6 a7
740: b3 b4 b5 a6 a7
741: a4 b4 b5 a6 a7
742: b2 a3 b4 a5 b6 a7 b8
743: b2 a3 b4 a5 b6 a7 a9
744: a1 b1 a2 a3 b4 a5 b6 a7 b7
745: a1 b1 a2 b2 b4 a5 b6 a7 b7
746: a1 b1 a2 b2 b4 a5 b6 a7 a8
747: a1 b1 a2 a3 b4 a5 b6 a7 a8
748: b2 a3 a4 b4 b6
749: b2 a3 b3 b4 b6
750: b2 a3 b3 a5 b6
751: b2 a3 a4 a5 b6
752: b2 a3 a4 a5 a7
753: b2 a3 a4 b4 a7
754: b2 a3 b3 b4 a7
755: b2 a3 b3 a5 a7
756: b1 a2 b4 a5 b7
757: b1 a2 b4 a5 a8
758: a1 b1 a2 b2 a3 a4 b5 a6 a7
759: a1 b1 a2 b2 a3 a4 b5 a6 b6
760: a1 b1 a2 b2 a3 b3 b5 a6 b6
761: a1 b1 a2 b2 a3 b3 b5 a6 a7
762: b1 a2 b3 a4 b5 a6 b8 a9 b9
763: b1 a2 b3 a4 b5 a6 b8 a9 a10
764: b1 a2 b4 a5 b7 a8 b8
765: b1 a2 b4 a5 b7 a8 a9
766: b2 b3 a4 b4 b5 a6 a7
767: a3 b3 a4 b4 b5 a6 a7
768: a3 b3 a4 b4 b5 a6 b6
769: a3 b3 a4 a5 b5 a6 b6
770: b2 b3 a4 a5 b5 a6 b6
771: b2 b3 a4 b4 b5 a6 b6
772: b2 b3 a4 a5 b5 a6 a7
773: a3 b3 a4 a5 b5 a6 a7
774: a1 a3 b4 a5 b5
775: a1 a3 b4 a5 a6
776: a1 b2 b4 a5 a6
777: a1 b2 b4 a5 b5
778: b1 b4 b5 a6 a7
779: b1 a5 b5 a6 a7
780: a2 a5 b5 a6 a7
781: a2 b4 b5 a6 a7
782: a2 b4 b5 a6 b6
783: a2 a5 b5 a6 b6
784: b1 a5 b5 a6 b6
785: b1 b4 b5 a6 b6
786: b1
787: a2
788: b1 a2 a4 a5 a7
789: b1 a2 a4 a5 b6
790: b1 a2 a4 b4 b6
791: b1 a2 b3 b4 b6
792: b1 a2 b3 a5 b6
793: b1 a2 b3 a5 a7
794: b1 a2 b3 b4 a7
795: b1 a2 a4 b4 a7
796: a1 a2 b3 a4 b5 a6 b7
797: a1 b1 b3 a4 b5 a6 b7
798: a1 b1 b3 a4 b5 a6 a8
799: a1 a2 b3 a4 b5 a6 a8
800: a1 a2 b3 b4 b5 a6 a7
801: a1 a2 b3 a5 b5 a6 a7
802: a1 a2 a4 a5 b5 a6 a7
803: a1 a2 a4 a5 b5 a6 b6
804: a1 b1 a4 a5 b5 a6 b6
805: a1 b1 a4 a5 b5 a6 a7
806: a1 b1 a4 b4 b5 a6 a7
807: a1 b1 a4 b4 b5 a6 b6
808: a1 b1 b3 b4 b5 a6 b6
809: a1 b1 b3 b4 b5 a6 a7
810: a1 b1 b3 a5 b5 a6 a7
811: a1 b1 b3 a5 b5 a6 b6
812: a1 a2 b3 a5 b5 a6 b6
813: a1 a2 b3 b4 b5 a6 b6
814: a1 a2 a4 b4 b5 a6 b6
815: a1 a2 a4 b4 b5 a6 a7
816: b1 a2 a5
817: b1 a2 b4
818: b2 a3 a4 b4 a5 b5 b6
819: b2 a3 a4 b4 a5 b5 a7
820: b2 a3 b3 b4 a5 b5 a7
821: b2 a3 b3 b4 a5 a6 a7
822: b2 a3 b3 b4 a5 a6 b6
823: b2 a3 b3 b4 a5 b5 b6
824: b2 a3 a4 b4 a5 a6 b6
825: b2 a3 a4 b4 a5 a6 a7
826: b1 a2 b3 b6 a7
827: b1 a2 a4 b6 a7
828: b1 a2 b3 a4 b5 a6 a7 b7 b8
829: b1 a2 b3 a4 b5 a6 a7 b7 a9
830: b1 a2 b3 a4 b5 a6 a7 a8 a9
831: b1 a2 b3 a4 b5 a6 b6 a8 a9
832: b1 a2 b3 a4 b5 a6 b6 b7 a9
833: b1 a2 b3 a4 b5 a6 b6 b7 b8
834: b1 a2 b3 a4 b5 a6 b6 a8 b8
835: b1 a2 b3 a4 b5 a6 a7 a8 b8
836: b2 a3 b4 a5 b5
837: b2 a3 b4 a5 a6
838: a2 b2 b4 a5 b6
839: a2 a3 b4 a5 b6
840: a2 a3 b4 a5 a7
841: b1 a3 b4 a5 a7
842: b1 a3 b4 a5 b6
843: b1 b2 b4 a5 b6
844: b1 b2 b4 a5 a7
845: a2 b2 b4 a5 a7
846: b1 a3 b5 a6 b6
847: b1 a3 b5 a6 a7
848: a2 a3 b5 a6 a7
849: a2 a3 b5 a6 b6
850: a2 b2 b5 a6 b6
851: a2 b2 b5 a6 a7
852: b1 b2 b5 a6 a7
853: b1 b2 b5 a6 b6
854: a1 b1 a2 a3 a6
855: a1 b1 a2 a3 b5
856: a1 b1 a2 b2 b5
857: a1 b1 a2 b2 a6
858: a2 b2 a3 a4 a6
859: a2 b2 a3 a4 b5
860: b1 b2 a3 a4 b5
861: b1 b2 a3 b3 b5
862: b1 b2 a3 b3 a6
863: b1 b2 a3 a4 a6
864: a2 b2 a3 b3 a6
865: a2 b2 a3 b3 b5
866: a2 b2 a3 b3 b4 a5 b6 a7 b7
867: b1 b2 a3 b3 b4 a5 b6 a7 b7
868: b1 b2 a3 a4 b4 a5 b6 a7 b7
869: b1 b2 a3 a4 b4 a5 b6 a7 a8
870: a2 b2 a3 a4 b4 a5 b6 a7 a8
871: a2 b2 a3 a4 b4 a5 b6 a7 b7
872: a2 b2 a3 b3 b4 a5 b6 a7 a8
873: b1 b2 a3 b3 b4 a5 b6 a7 a8
874: b1 b4 a6
875: a2 b4 a6
876: a2 b4 b5
877: b1 b4 b5
878: b1 a5 b5
879: a2 a5 b5
880: a2 a5 a6
881: b1 a5 a6
882: b1 a2 b3 a4 b7
883: b1 a2 b3 a4 a8
884: b1 a2 b3 a4 a5 b5 a6 a7 a8
885: b1 a2 b3 a4 a5 b5 a6 a7 b7
886: b1 a2 b3 a4 a5 b5 a6 b6 b7
887: b1 a2 b3 a4 b4 b5 a6 b6 b7
888: b1 a2 b3 a4 b4 b5 a6 a7 b7
889: b1 a2 b3 a4 b4 b5 a6 a7 a8
890: b1 a2 b3 a4 b4 b5 a6 b6 a8
891: b1 a2 b3 a4 a5 b5 a6 b6 a8
892: a1 a2 b2 a3 b3 a4 b5 a6 a7
893: a1 a2 b2 a3 b3 a4 b5 a6 b6
894: a1 b1 b2 a3 b3 a4 b5 a6 b6
895: a1 b1 b2 a3 b3 a4 b5 a6 a7
896: b1 b2 b3 a4 a7
897: b1 a3 b3 a4 a7
898: b1 a3 b3 a4 b6
899: a2 a3 b3 a4 b6
900: a2 b2 b3 a4 b6
901: a2 b2 b3 a4 a7
902: a2 a3 b3 a4 a7
903: b1 b2 b3 a4 b6
904: b1 b2 a3 a4 b4 b5 a6
905: b1 b2 a3 b3 b4 b5 a6
906: a2 b2 a3 b3 b4 b5 a6
907: a2 b2 a3 a4 b4 b5 a6
908: a2 b2 a3 a4 a5 b5 a6
909: b1 b2 a3 a4 a5 b5 a6
910: b1 b2 a3 b3 a5 b5 a6
911: a2 b2 a3 b3 a5 b5 a6
912: a2 b2 b3 a4 b5 b6 a7
913: a2 a3 b3 a4 b5 b6 a7
914: b1 a3 b3 a4 b5 b6 a7
915: b1 b2 b3 a4 b5 b6 a7
916: b1 b2 b3 a4 a6 b6 a7
917: b1 a3 b3 a4 a6 b6 a7
918: a2 a3 b3 a4 a6 b6 a7
919: a2 b2 b3 a4 a6 b6 a7
920: a1 b2 b3 b4 a5
921: a1 b2 a4 b4 a5
922: a1 a3 a4 b4 a5
923: a1 a3 b3 b4 a5
924: b1 a2 b2 a3 b3 a4 a5
925: b1 a2 b2 a3 b3 a4 b4
926: b1 a2 b3 a4 b4 b5 a6
927: b1 a2 b3 a4 a5 b5 a6
928: b2 a3 a5 b5 b6 a7 b7
929: b2 a3 a5 a6 b6 a7 b7
930: b2 a3 b4 a6 b6 a7 b7
931: b2 a3 b4 b5 b6 a7 b7
932: b2 a3 b4 b5 b6 a7 a8
933: b2 a3 a5 b5 b6 a7 a8
934: b2 a3 a5 a6 b6 a7 a8
935: b2 a3 b4 a6 b6 a7 a8
936: a2 a3 a5 b5 a6
937: b1 a3 a5 b5 a6
938: b1 b2 a5 b5 a6
939: b1 b2 b4 b5 a6
940: a2 b2 b4 b5 a6
941: a2 b2 a5 b5 a6
942: a2 a3 b4 b5 a6
943: b1 a3 b4 b5 a6
944: b2 a3 a5 b5 b6
945: b2 a3 a5 a6 b6
946: b2 a3 a5 a6 a7
947: b2 a3 a5 b5 a7
948: b2 a3 b4 b5 a7
949: b2 a3 b4 b5 b6
950: b2 a3 b4 a6 b6
951: b2 a3 b4 a6 a7
952: b3
953: a4
954: b1 a2 b4 a5 b5
955: b1 a2 b4 a5 a6
956: b1 a2 b3 a4 a5 a6 a8
957: b1 a2 b3 a4 b4 a6 a8
958: b1 a2 b3 a4 b4 b5 a8
959: b1 a2 b3 a4 b4 b5 b7
960: b1 a2 b3 a4 b4 a6 b7
961: b1 a2 b3 a4 a5 a6 b7
962: b1 a2 b3 a4 a5 b5 b7
963: b1 a2 b3 a4 a5 b5 a8
964: b1 a2 b4 a5 a6 a7 a8
965: b1 a2 b4 a5 a6 a7 b7
966: b1 a2 b4 a5 a6 b6 b7
967: b1 a2 b4 a5 a6 b6 a8
968: b1 a2 b4 a5 b5 b6 a8
969: b1 a2 b4 a5 b5 a7 a8
970: b1 a2 b4 a5 b5 a7 b7
971: b1 a2 b4 a5 b5 b6 b7
972: b2 a3 b3 a4 b5 a6 b6
973: b2 a3 b3 a4 b5 a6 a7
974: b1 b2 a3 b3 a4 a5 b5 a6 b6
975: b1 b2 a3 b3 a4 b4 b5 a6 b6
976: a2 b2 a3 b3 a4 b4 b5 a6 b6
977: a2 b2 a3 b3 a4 a5 b5 a6 b6
978: a2 b2 a3 b3 a4 a5 b5 a6 a7
979: b1 b2 a3 b3 a4 a5 b5 a6 a7
980: b1 b2 a3 b3 a4 b4 b5 a6 a7
981: a2 b2 a3 b3 a4 b4 b5 a6 a7
982: b3 a4 b6
983: b3 a4 a7
984: b2 a3 b3 a4 b5
985: b2 a3 b3 a4 a6
986: a1 b1 a2 b2 b3
987: a1 b1 a2 a3 b3
988: a1 b1 a2 a3 a4
989: a1 b1 a2 b2 a4
990: b2 a3 b6
991: b2 a3 a7
992: b1 a2 b4 a5 b6 a7 b8 a9 b9
993: b1 a2 b4 a5 b6 a7 b8 a9 a10
994: b3 a4 b5 a6 b7
995: b3 a4 b5 a6 a8
996: a2 b2 b3 a4 b5 a6 b7
997: a2 a3 b3 a4 b5 a6 b7
998: a2 a3 b3 a4 b5 a6 a8
999: a2 b2 b3 a4 b5 a6 a8
1000: b1 b2 b3 a4 b5 a6 a8
1001: b1 b2 b3 a4 b5 a6 b7
1002: b1 a3 b3 a4 b5 a6 b7
1003: b1 a3 b3 a4 b5 a6 a8
1004: a1 b1 a2 a4 b4 a5 a6
1005: a1 b1 a2 b3 b4 a5 a6
1006: a1 b1 a2 b3 b4 a5 b5
1007: a1 b1 a2 a4 b4 a5 b5
1008: b1 a2 b4 a5 b6 b7 a8
1009: b1 a2 b4 a5 a7 b7 a8
1010: b1 a2 a3 b4 b5 a6 b6
1011: b1 a2 a3 a5 b5 a6 b6
1012: b1 a2 b2 a5 b5 a6 b6
1013: b1 a2 b2 a5 b5 a6 a7
1014: b1 a2 a3 a5 b5 a6 a7
1015: b1 a2 a3 b4 b5 a6 a7
1016: b1 a2 b2 b4 b5 a6 a7
1017: b1 a2 b2 b4 b5 a6 b6
1018: b2 b4 a5
1019: a3 b4 a5
1020: a1 a2 a5 b5 a6
1021: a1 b1 a5 b5 a6
1022: a1 b1 b4 b5 a6
1023: a1 a2 b4 b5 a6
1024: a4 a5 a6
1025: b3 a5 a6
1026: b3 b4 a6
1027: a4 b4 a6
1028: a4 b4 b5
1029: a4 a5 b5
1030: b3 a5 b5
1031: b3 b4 b5
1032: b1 a2 b3 a4 b5 a6 b7 a8 b9 a10 b10
1033: b1 a2 b3 a4 b5 a6 b7 a8 b9 a10 a11
1034: b1 a2 b3 a4 b7 a8 b8
1035: b1 a2 b3 a4 b7 a8 a9
1036: b4 a5 b6
1037: b4 a5 a7
1038: b1 a2 b3 a4 b4 a5 b6
1039: b1 a2 b3 a4 b4 a5 a7
1040: a1 a2 b2 a3 b3 a4 b5
1041: a1 a2 b2 a3 b3 a4 a6
1042: a1 b1 b2 a3 b3 a4 a6
1043: a1 b1 b2 a3 b3 a4 b5
1044: b2 a3 b5 b6 a7
1045: b2 a3 a6 b6 a7
1046: a1 a2 b5
1047: a1 b1 b5
1048: a1 b1 a6
1049: a1 a2 a6
1050: b1 a2 a5 b5 b6 a7 b7
1051: b1 a2 a5 b5 b6 a7 a8
1052: b1 a2 a5 a6 b6 a7 a8
1053: b1 a2 a5 a6 b6 a7 b7
1054: b1 a2 b4 a6 b6 a7 b7
1055: b1 a2 b4 a6 b6 a7 a8
1056: b1 a2 b4 b5 b6 a7 a8
1057: b1 a2 b4 b5 b6 a7 b7
1058: b1 b2 b3 a4 b6 a7 a8
1059: b1 a3 b3 a4 b6 a7 a8
1060: b1 a3 b3 a4 b6 a7 b7
1061: a2 a3 b3 a4 b6 a7 b7
1062: a2 b2 b3 a4 b6 a7 b7
1063: a2 b2 b3 a4 b6 a7 a8
1064: a2 a3 b3 a4 b6 a7 a8
1065: b1 b2 b3 a4 b6 a7 b7
1066: a1 b1 b2 b4 a5
1067: a1 a2 b2 b4 a5
1068: a1 a2 a3 b4 a5
1069: a1 b1 a3 b4 a5
1070: b3 a4 b6 a7 b7
1071: b3 a4 b6 a7 a8
1072: b1 a2 b3 b4 a5 b5 a6 b6 a7
1073: b1 a2 a4 b4 a5 b5 a6 b6 a7
1074: b1 a2 b3 b4 a5 b5 a7
1075: b1 a2 b3 b4 a5 b5 b6
1076: b1 a2 b3 b4 a5 a6 b6
1077: b1 a2 a4 b4 a5 a6 b6
1078: b1 a2 a4 b4 a5 a6 a7
1079: b1 a2 a4 b4 a5 b5 a7
1080: b1 a2 a4 b4 a5 b5 b6
1081: b1 a2 b3 b4 a5 a6 a7
1082: b1 a2 b3 a4 b5 b6 a7 b7 a8
1083: b1 a2 b3 a4 a6 b6 a7 b7 a8
1084: a1 a2 b3 a4 b6
1085: a1 a2 b3 a4 a7
1086: a1 b1 b3 a4 a7
1087: a1 b1 b3 a4 b6
1088: b1 a2 b4 b5 a6 b6 a7
1089: b1 a2 a5 b5 a6 b6 a7
1090: b1 b2 a3 b3 a4 b4 a5 b5 a6
1091: a2 b2 a3 b3 a4 b4 a5 b5 a6
1092: b1 a2 b4 a5 b6 a7 b8
1093: b1 a2 b4 a5 b6 a7 a9
1094: b5 a6 b6
1095: b5 a6 a7
1096: a1 b3 a4
1097: b1 a2 b2 a3 b3
1098: b1 a2 b2 a3 a4
1099: a1 b1 b2 a3 b3 b4 a5
1100: a1 b1 b2 a3 a4 b4 a5
1101: a1 a2 b2 a3 a4 b4 a5
1102: a1 a2 b2 a3 b3 b4 a5
1103: b3 a4 a5 b5 b6
1104: b3 a4 b4 b5 b6
1105: b3 a4 b4 b5 a7
1106: b3 a4 a5 b5 a7
1107: b3 a4 a5 a6 a7
1108: b3 a4 a5 a6 b6
1109: b3 a4 b4 a6 b6
1110: b3 a4 b4 a6 a7
1111: b1 a2 b3 a5 b5 b6 a7
1112: b1 a2 b3 b4 b5 b6 a7
1113: b1 a2 a4 b4 b5 b6 a7
1114: b1 a2 a4 b4 a6 b6 a7
1115: b1 a2 a4 a5 a6 b6 a7
1116: b1 a2 b3 a5 a6 b6 a7
1117: b1 a2 b3 b4 a6 b6 a7
1118: b1 a2 a4 a5 b5 b6 a7
1119: b2 a3 b6 a7 b7
1120: b2 a3 b6 a7 a8
1121: a1 b2 a3
1122: b4 b5 a6
1123: a5 b5 a6
1124: b4 a5 b6 a7 b7
1125: b4 a5 b6 a7 a8
1126: a1 b1 a2
1127: b1 a2 b4 a5 b5 a6 b6
1128: b1 a2 b4 a5 b5 a6 a7
1129: b1 a2 b3 a4 b6 b7 a8
1130: b1 a2 b3 a4 a7 b7 a8
1131: b1 a2 b5 a6 b7
1132: b1 a2 b5 a6 a8
1133: a1 b4 a5
1134: b2 a3 a5
1135: b2 a3 b4
1136: b1 a2 b6
1137: b1 a2 a7
1138: b2 b3 a4 b4 a5 b5 a6
1139: a3 b3 a4 b4 a5 b5 a6
1140: b1 b2 a3 b5 a6
1141: a2 b2 a3 b5 a6
1142: b3 b4 a5 b5 a6
1143: a4 b4 a5 b5 a6
1144: b3 a4 b5 a6 b7 a8 b8
1145: b3 a4 b5 a6 b7 a8 a9
1146: b1 a2 b2 b3 a4 b5 a6
1147: b1 a2 a3 b3 a4 b5 a6
1148: b1 a2 b6 a7 b7
1149: b1 a2 b6 a7 a8
1150: b2 a3 b4 a5 b6 b7 a8
1151: b2 a3 b4 a5 a7 b7 a8
1152: b3 a4 b5 b6 a7
1153: b3 a4 a6 b6 a7
1154: b2 a3 b4 a5 b6 a7 b8 a9 b9
1155: b2 a3 b4 a5 b6 a7 b8 a9 a10
1156: b1 b2 a3 b4 a5
1157: a2 b2 a3 b4 a5
1158: a1 b1 a2 b3 a4 b4 a5
1159: b2 a3 b4 a5 b7
1160: b2 a3 b4 a5 a8
1161: b1 a2 b3 a4 b5 a6 b7 b8 a9
1162: b1 a2 b3 a4 b5 a6 a8 b8 a9
1163: b1 a2 b3 a4 b6 a7 b8
1164: b1 a2 b3 a4 b6 a7 a9
1165: b2 a3 b3 a4 b4 b5 a6
1166: b2 a3 b3 a4 a5 b5 a6
1167: a1 b2 a3 b3 a4 b4 a5
1168: b1 a2 b5 a6 b7 a8 b8
1169: b1 a2 b5 a6 b7 a8 a9


In [24]:
#Put ipdb rule in and check with index 4 or 5. More freedom is coming out then is necessary.
subs_rules = {}
psi5 = sparse_solve_for_commuting_term(cvector, psi, 5, orders, matrixrows, subspace, norm= False, fvarname = 'D', iofvars=iofvars, subs_rules = subs_rules)
fvar10: D0
fvar11: D1
fvar22: D2
fvar23: D3
fvar58: D4
fvar59: D5
fvar60: D6
fvar61: D7
fvar62: D8
fvar63: D9
fvar74: D10
fvar75: D11
fvar90: D12
fvar91: D13
fvar92: D14
fvar93: D15
fvar94: D16
fvar95: D17
fvar122: D18
fvar123: D19
fvar124: D20
fvar125: D21
fvar126: D22
fvar127: D23
fvar134: D24
fvar135: D25
fvar138: D26
fvar139: D27
fvar164: D28
fvar165: D29
fvar174: D30
fvar175: D31
fvar196: D32
fvar197: D33
fvar198: D34
fvar199: D35
fvar204: D36
fvar230: D37
fvar231: D38
fvar262: D39
fvar263: D40
fvar326: D41
fvar327: D42
fvar331: D43
fvar332: D44
fvar349: D45
fvar350: D46
fvar351: D47
fvar362: D48
fvar363: D49
fvar364: D50
fvar373: D51
fvar374: D52
fvar393: D53
fvar396: D54
fvar397: D55
fvar398: D56
fvar399: D57
fvar400: D58
fvar405: D59
fvar406: D60
fvar427: D61
fvar428: D62
fvar438: D63
fvar439: D64
fvar473: D65
fvar474: D66
fvar476: D67
fvar477: D68
fvar478: D69
fvar479: D70
fvar541: D71
fvar542: D72
fvar551: D73
fvar564: D74
fvar565: D75
fvar614: D76
fvar615: D77
fvar646: D78
fvar647: D79
fvar666: D80
fvar667: D81
fvar670: D82
fvar671: D83
fvar694: D84
fvar695: D85
fvar708: D86
fvar709: D87
fvar710: D88
fvar711: D89
fvar732: D90
fvar733: D91
fvar746: D92
fvar747: D93
fvar758: D94
fvar759: D95
fvar774: D96
fvar775: D97
fvar798: D98
fvar799: D99
fvar808: D100
fvar809: D101
fvar812: D102
fvar813: D103
fvar814: D104
fvar815: D105
fvar854: D106
fvar855: D107
fvar894: D108
fvar895: D109
fvar922: D110
fvar923: D111
fvar988: D112
fvar989: D113
fvar1006: D114
fvar1007: D115
fvar1022: D116
fvar1023: D117
fvar1042: D118
fvar1043: D119
fvar1046: D120
fvar1047: D121
fvar1068: D122
fvar1069: D123
fvar1086: D124
fvar1087: D125
fvar1096: D126
fvar1101: D127
fvar1102: D128
fvar1121: D129
fvar1126: D130
fvar1133: D131
fvar1158: D132
fvar1167: D133
2/422[[1, 3, 5, 7], [0, 2, 4, 6], [9, 11], [8, 10], [17, 19, 13, 15], [16, 18, 12, 14], [21, 23], [20, 22], [33, 35, 37, 39, 41, 43, 45, 47, 49, 51, 53, 55, 25, 27, 29, 31], [32, 34, 36, 38, 40, 42, 44, 46, 48, 50, 52, 54, 24, 26, 28, 30], [57, 59], [56, 58], [65, 67, 69, 71, 73, 75, 61, 63], [64, 66, 68, 70, 72, 74, 60, 62], [81, 83, 77, 79], [80, 82, 76, 78], [97, 99, 85, 87, 89, 91, 93, 95], [96, 98, 84, 86, 88, 90, 92, 94], [101], [100], [103], [102], [105, 107, 109, 111], [104, 106, 108, 110], [113], [112], [115], [114], [129, 130, 117, 119, 121, 123, 125, 127], [128, 131, 116, 118, 120, 122, 124, 126], [133, 135], [132, 134], [137, 139], [136, 138], [141], [140], [145, 147, 148, 143], [144, 146, 149, 142], [151], [150], [153, 155, 157, 159], [152, 154, 156, 158], [161], [160], [163, 165], [162, 164], [167, 169, 171, 173], [166, 168, 170, 172], [177, 175], [176, 174], [179, 181, 183, 184], [178, 180, 182, 185], [193, 187, 189, 191], [192, 186, 188, 190], [195, 197], [194, 196], [201, 199], [200, 198], [203], [202], [208, 210, 212, 206], [209, 211, 205, 207], [214, 216, 218, 220], [213, 215, 217, 219], [224, 226, 228, 222], [225, 227, 221, 223], [232, 230], [229, 231], [240, 234, 236, 238], [233, 235, 237, 239], [242], [241], [244, 246, 248, 250], [243, 245, 247, 249], [256, 258, 252, 254], [257, 251, 253, 255], [260], [259], [264, 262], [261, 263], [266], [265], [272, 274, 268, 270], [273, 267, 269, 271], [276], [275], [278, 280, 282, 284], [277, 279, 281, 283], [288, 290, 292, 286], [289, 291, 285, 287], [322, 323, 324, 294, 296, 298, 300, 302, 304, 306, 308, 310, 312, 314, 317, 319], [320, 321, 293, 295, 297, 299, 301, 303, 305, 307, 309, 311, 313, 315, 316, 318], [328, 326], [325, 327], [330, 332], [329, 331], [336, 338, 340, 334], [337, 339, 333, 335], [342, 344, 346, 348], [341, 343, 345, 347], [352, 354, 356, 358, 360, 362, 364, 350], [353, 355, 357, 359, 361, 363, 349, 351], [366], [365], [368], [367], [370], [369], [372, 374], [371, 373], [376], [375], [378, 380, 382, 383], [384, 377, 379, 381], [386, 388, 390, 392, 394, 396, 398, 400], [385, 387, 389, 391, 393, 395, 397, 399], [402], [401], [404, 406], [403, 405], [408, 410, 412, 414], [407, 409, 411, 413], [416], [415], [418, 420, 422, 424], [417, 419, 421, 423], [426, 428], [425, 427], [432, 434, 436, 430], [433, 435, 429, 431], [440, 438], [437, 439], [442], [441], [444], [443], [448, 450, 452, 446], [449, 451, 445, 447], [454], [453], [456, 458, 460, 461], [455, 457, 459, 462], [464, 466, 468, 470], [465, 467, 469, 463], [480, 482, 483, 486, 472, 474, 476, 478], [481, 484, 485, 471, 473, 475, 477, 479], [512, 514, 515, 516, 488, 490, 492, 494, 496, 498, 500, 502, 504, 506, 508, 510], [513, 517, 518, 487, 489, 491, 493, 495, 497, 499, 501, 503, 505, 507, 509, 511], [520, 522, 524, 526], [519, 521, 523, 525], [528], [527], [530], [529], [532, 534, 536, 538], [531, 533, 535, 537], [540, 542], [539, 541], [544, 546, 548, 550], [545, 547, 549, 543], [553, 555, 557, 559], [552, 554, 556, 558], [561], [560], [563, 565], [562, 564], [567, 569, 571, 572], [566, 568, 570, 573], [577, 579, 581, 575], [576, 578, 580, 574], [609, 611, 613, 583, 585, 587, 589, 591, 593, 595, 597, 599, 601, 603, 605, 607], [608, 610, 612, 582, 584, 586, 588, 590, 592, 594, 596, 598, 600, 602, 604, 606], [617, 615], [616, 614], [624, 619, 621, 623], [625, 618, 620, 622], [627, 629, 631, 633], [626, 628, 630, 632], [635], [634], [641, 643, 637, 639], [640, 642, 636, 638], [645, 647], [644, 646], [649, 651, 653, 655], [648, 650, 652, 654], [657, 659, 661, 663], [656, 658, 660, 662], [665, 667], [664, 666], [669, 671], [668, 670], [673, 675, 677, 679], [672, 674, 676, 678], [681], [680], [683], [682], [689, 690, 685, 687], [688, 691, 684, 686], [693, 695], [692, 694], [697], [696], [705, 699, 701, 703], [704, 698, 700, 702], [707, 709], [706, 708], [713, 711], [712, 710], [721, 715, 717, 719], [720, 714, 716, 718], [723, 725, 727, 729], [722, 724, 726, 728], [731, 733], [730, 732], [737, 739, 741, 735], [736, 738, 740, 734], [743], [742], [745, 747], [744, 746], [753, 755, 749, 751], [752, 754, 748, 750], [757], [756], [761, 759], [760, 758], [763], [762], [765], [764], [769, 771, 772, 767], [768, 770, 773, 766], [777, 775], [776, 774], [785, 779, 781, 783], [784, 778, 780, 782], [787], [786], [789, 791, 793, 795], [788, 790, 792, 794], [797, 799], [796, 798], [801, 803, 805, 807, 809, 811, 813, 815], [800, 802, 804, 806, 808, 810, 812, 814], [817], [816], [819, 821, 823, 824], [818, 820, 822, 825], [827], [826], [833, 835, 829, 831], [832, 834, 828, 830], [837], [836], [839, 841, 843, 845], [838, 840, 842, 844], [849, 851, 853, 847], [848, 850, 852, 846], [857, 855], [856, 854], [864, 859, 861, 863], [865, 858, 860, 862], [867, 869, 871, 872], [866, 868, 870, 873], [881, 875, 877, 879], [880, 874, 876, 878], [883], [882], [885, 887, 889, 891], [884, 886, 888, 890], [893, 895], [892, 894], [897, 899, 901, 903], [896, 898, 900, 902], [905, 907, 909, 911], [904, 906, 908, 910], [913, 915, 917, 919], [912, 914, 916, 918], [921, 923], [920, 922], [925], [924], [927], [926], [929, 931, 933, 935], [928, 930, 932, 934], [937, 939, 941, 942], [936, 938, 940, 943], [945, 947, 949, 951], [944, 946, 948, 950], [953], [952], [955], [954], [961, 963, 957, 959], [960, 962, 956, 958], [965, 967, 969, 971], [964, 966, 968, 970], [973], [972], [977, 979, 981, 975], [976, 978, 980, 974], [983], [982], [985], [984], [987, 989], [986, 988], [991], [990], [993], [992], [995], [994], [997, 999, 1001, 1003], [996, 998, 1000, 1002], [1005, 1007], [1004, 1006], [1009], [1008], [1011, 1013, 1015, 1017], [1010, 1012, 1014, 1016], [1019], [1018], [1021, 1023], [1020, 1022], [1025, 1027, 1029, 1031], [1024, 1026, 1028, 1030], [1033], [1032], [1035], [1034], [1037], [1036], [1039], [1038], [1041, 1043], [1040, 1042], [1045], [1044], [1049, 1047], [1048, 1046], [1057, 1051, 1053, 1055], [1056, 1050, 1052, 1054], [1059, 1061, 1063, 1065], [1058, 1060, 1062, 1064], [1067, 1069], [1066, 1068], [1071], [1070], [1073], [1072], [1075, 1077, 1079, 1081], [1074, 1076, 1078, 1080], [1083], [1082], [1085, 1087], [1084, 1086], [1089], [1088], [1091], [1090], [1093], [1092], [1095], [1094], [1098], [1097], [1100, 1102], [1099, 1101], [1104, 1106, 1108, 1110], [1105, 1107, 1109, 1103], [1112, 1114, 1116, 1118], [1111, 1113, 1115, 1117], [1120], [1119], [1123], [1122], [1125], [1124], [1128], [1127], [1130], [1129], [1132], [1131], [1135], [1134], [1137], [1136], [1139], [1138], [1141], [1140], [1143], [1142], [1145], [1144], [1147], [1146], [1149], [1148], [1151], [1150], [1153], [1152], [1155], [1154], [1157], [1156], [1160], [1159], [1162], [1161], [1164], [1163], [1166], [1165], [1169], [1168]]
1/422

In [40]:
iofvars = sorted(normdict.keys(), key = lambda x: int(str(x)[1:]))

In [27]:
for x in sorted(subs_rules.keys(), key = lambda x: int(str(x)[1:])):
    print(str(x)+': ' +str(sympy.simplify(subs_rules[x])))

C33: 0
C34: 0
C35: -V**2*f**2/J**4
C36: -V**2*f**2/J**4

C26: V**2*f**2/J**4
C27: 0
C28: 0
C29: 0
C30: 0
C31: 0
C32: -V**2*f**2/J**4
C21: 0
C22: 0
C23: 2*I*V**3*f/(3*J**4)
C24: 0
C25: -2*V**2*f**2/(3*J**4)
C8: 0
C9: 0
C10: 0
C11: 0
C12: 0
C13: 0
C14: 0
C15: 0
C16: 0
C17: -I*V*f**3/(3*J**4)
C18: 0
C19: 0
C20: -V**2*f**2/(3*J**4)
C2: 0
C3: 0
C4: 0
C5: I*V**3*f/(3*J**4)
C6: 0
C7: V**2*f**2/(3*J**4)C0: 0
C1: 0

In [28]:
for x in sorted(normdict.keys(), key = lambda x: int(str(x)[1:])):
    print(str(x)+': ' +str(normdict[x]))
C0: 0
C1: 0
C2: 0
C3: 0
C4: 0
C5: I*V**3*f/(3*J**4)
C6: 0
C7: V**2*f**2/(3*J**4)
C8: 0
C9: 0
C10: 0
C11: 0
C12: 0
C13: 0
C14: 0
C15: 0
C16: 0
C17: -I*V*f**3/(3*J**4)
C18: 0
C19: 0
C20: -V**2*f**2/(3*J**4)
C21: 0
C22: 0
C23: 2*I*V**3*f/(3*J**4)
C24: 0
C25: -2*V**2*f**2/(3*J**4)
C26: V**2*f**2/J**4
C27: 0
C28: 0
C29: 0
C30: 0
C31: 0
C32: -V**2*f**2/J**4
C33: 0
C34: 0
C35: -V**2*f**2/J**4
C36: -V**2*f**2/J**4


In [29]:
orders.update(zip(iofvars,[5]*len(iofvars)))
p.orders = orders
psi = substitute_group(psi,normdict)
p(psi)
{+1⋅a1
+f/J⋅a2
−i⋅V/J⋅b1⋅a2⋅a3
−i⋅V⋅f/J^2⋅a1⋅b1⋅a3
+i⋅V⋅f⋅(-3⋅J^2 - 2⋅V^2 + 2⋅f^2)/(3⋅J^4)⋅a2⋅b2⋅a3
−i⋅V⋅f⋅(3⋅J^2 + 2⋅V^2 + f^2)/(3⋅J^4)⋅b1⋅a2⋅a4
+f^2⋅(J^2 - 2⋅V^2/3)/J^4⋅a3
−i⋅V⋅f⋅(3⋅J^2 + f^2)/(3⋅J^4)⋅b2⋅a3⋅a4
−V^2⋅(J^2 + 4⋅f^2/3)/J^4⋅b1⋅a2⋅b3⋅a4⋅a5
+i⋅V⋅f^2/J^3⋅a1⋅b2⋅a3
+V^2⋅f/(3⋅J^3)⋅a2⋅a3⋅b3⋅a4⋅b4
+f⋅(V^2 + f^2)/J^3⋅a4
−V^2⋅f/J^3⋅b1⋅a2⋅b3⋅a4⋅a6
+V^2⋅f/(3⋅J^3)⋅b1⋅a3⋅b3⋅a4⋅a5
+i⋅V⋅f^2/J^3⋅a1⋅b1⋅a2
+2⋅V^2⋅f/(3⋅J^3)⋅b1⋅b2⋅b3⋅a4⋅b4
−V^2⋅f/J^3⋅b1⋅a2⋅b4⋅a5⋅a6
+2⋅i⋅V⋅f^2/(3⋅J^3)⋅b1⋅a3⋅a4
−i⋅V⋅f^2/J^3⋅b1⋅a2⋅a5
−V^2⋅f/J^3⋅a1⋅b1⋅b3⋅a4⋅a5
−i⋅V⋅f^2/J^3⋅a1⋅b1⋅a4
+i⋅V^3/J^3⋅b1⋅a2⋅b3⋅a4⋅b5⋅a6⋅a7
−V^2⋅f/J^3⋅b1⋅a2⋅a4⋅b4⋅a5
−4⋅i⋅V⋅f^2/(3⋅J^3)⋅a2⋅b2⋅a4
−V^2⋅f/J^3⋅a2⋅b2⋅a3⋅b3⋅a4
−i⋅V⋅f^2/J^3⋅a3⋅b3⋅a4
−2⋅V^2⋅f/(3⋅J^3)⋅a2⋅b2⋅b3⋅a4⋅a5
+V^2⋅f/(3⋅J^3)⋅b1⋅a2⋅b2⋅a4⋅a5
+i⋅V⋅f^2/(3⋅J^3)⋅b1⋅b2⋅b3
−V^2⋅f/J^3⋅b2⋅a3⋅b4⋅a5⋅a6
−i⋅V⋅f^2/J^3⋅b3⋅a4⋅a5
−V^2⋅f/(3⋅J^3)⋅b1⋅a2⋅b2⋅b3⋅b4
−i⋅V⋅f^2/J^3⋅b2⋅a3⋅a5
−i⋅V⋅f^2/(3⋅J^3)⋅a2⋅a3⋅b3
−2⋅V^2⋅f/(3⋅J^3)⋅b1⋅a2⋅a3⋅b3⋅a5
−V^2⋅f/J^3⋅a1⋅b1⋅a2⋅b2⋅a4
−2⋅V^2⋅f/(3⋅J^3)⋅b1⋅a2⋅a3⋅a4⋅b4
+2⋅i⋅V^3⋅f/(3⋅J^4)⋅b1⋅a2⋅b3⋅a4⋅a5⋅b5⋅a7
+i⋅V⋅f^3/(3⋅J^4)⋅a1⋅b2⋅a4
−2⋅V^2⋅f^2/(3⋅J^4)⋅a1⋅b1⋅a3⋅b3⋅a5
+2⋅V^2⋅f^2/(9⋅J^4)⋅b1⋅a3⋅a4⋅b4⋅a5
+i⋅V^3⋅f/J^4⋅b1⋅a2⋅b4⋅a5⋅b6⋅a7⋅a8
−2⋅i⋅V^3⋅f/(3⋅J^4)⋅b1⋅b2⋅a3⋅b3⋅b4⋅a5⋅b5
+2⋅i⋅V^3⋅f/(3⋅J^4)⋅b1⋅a2⋅a4⋅b4⋅b5⋅a6⋅a7
+V^2⋅f^2/(3⋅J^4)⋅a1⋅b1⋅b2⋅a4⋅a5
−V^2⋅f^2/(9⋅J^4)⋅b1⋅b2⋅a3⋅a4⋅a5
+4⋅i⋅V^3⋅f/(9⋅J^4)⋅b1⋅a2⋅a3⋅a4⋅b5⋅a6⋅b6
−2⋅V^2⋅f^2/(3⋅J^4)⋅a3⋅b3⋅b4⋅a5⋅a6
+2⋅i⋅V^3⋅f/(3⋅J^4)⋅a2⋅b2⋅a3⋅b3⋅b4⋅a5⋅a6
+V^2⋅f^2/(3⋅J^4)⋅b1⋅a2⋅b3⋅b4⋅b5
+7⋅i⋅V^3⋅f/(9⋅J^4)⋅a2⋅b2⋅b3⋅a4⋅b5⋅a6⋅a7
−V^2⋅f^2/J^4⋅a1⋅b1⋅a2⋅b2⋅a5
−V^2⋅f^2/J^4⋅b2⋅a3⋅b4⋅a5⋅a7
−2⋅i⋅V^3⋅f/(3⋅J^4)⋅a1⋅a2⋅b2⋅a3⋅b3⋅a4⋅b4
+V^2⋅f^2/(3⋅J^4)⋅a1⋅b1⋅b2⋅a3⋅a4
−i⋅V^3⋅f/(3⋅J^4)⋅b1⋅a2⋅a4⋅a5⋅b5⋅a6⋅b6
−V^2⋅f^2/J^4⋅a1⋅b1⋅b3⋅a4⋅a6
−V^2⋅f^2/J^4⋅a1⋅b1⋅a4⋅b4⋅a5
+V^2⋅f^2/(3⋅J^4)⋅b1⋅a2⋅b2⋅a3⋅a5
−i⋅V^3⋅f/(3⋅J^4)⋅b1⋅a2⋅b3⋅a5⋅b5⋅a6⋅a7
−5⋅V^2⋅f^2/(9⋅J^4)⋅b1⋅a2⋅b2⋅b3⋅b5
+i⋅V^3⋅f/J^4⋅b2⋅a3⋅b4⋅a5⋅b6⋅a7⋅a8
+i⋅V^3⋅f/(3⋅J^4)⋅a1⋅b1⋅b2⋅a3⋅b3⋅a4⋅a5
−i⋅V^3⋅f/(3⋅J^4)⋅b1⋅a2⋅b3⋅a4⋅b4⋅a6⋅a7
+V^2⋅f^2/(3⋅J^4)⋅a1⋅a2⋅b2⋅a3⋅b3
+2⋅i⋅V^3⋅f/(3⋅J^4)⋅b1⋅a2⋅b3⋅a4⋅a5⋅a6⋅b6
−2⋅V^2⋅f^2/(3⋅J^4)⋅a1⋅b1⋅a3⋅a4⋅b4
−i⋅V⋅f^3/J^4⋅a1⋅b1⋅a5
−i⋅V^3⋅f/(3⋅J^4)⋅a2⋅b2⋅a3⋅a4⋅b4⋅a5⋅b5
+i⋅V⋅f⋅(5⋅V^2 + 6⋅f^2)/(9⋅J^4)⋅b2⋅a4⋅a5
−V^2⋅f^2/(3⋅J^4)⋅b2⋅a3⋅b3⋅b4⋅b5
+2⋅V^2⋅f^2/(3⋅J^4)⋅b1⋅a2⋅b3⋅a5⋅a6
+V^2⋅f^2/J^4⋅a1⋅b2⋅a3⋅b3⋅a4
+2⋅V^2⋅f^2/(9⋅J^4)⋅b1⋅a2⋅b2⋅a4⋅a6
−V^2⋅f^2/(3⋅J^4)⋅a1⋅b1⋅b2⋅b3⋅b4
−14⋅V^2⋅f^2/(9⋅J^4)⋅a2⋅b2⋅b4⋅a5⋅a6
+2⋅i⋅V^3⋅f/(3⋅J^4)⋅a1⋅a4⋅b4
−V^2⋅f^2/J^4⋅a1⋅b1⋅b4⋅a5⋅a6
−V^2⋅f^2/J^4⋅b1⋅a2⋅b4⋅a5⋅a7
−2⋅i⋅V^3⋅f/(3⋅J^4)⋅b1⋅a2⋅b3⋅b4⋅b5⋅a6⋅b6
−V^2⋅f^2/J^4⋅a3⋅b3⋅a4⋅b4⋅a5
+V^2⋅f^2/(3⋅J^4)⋅b2⋅a4⋅b4⋅a5⋅a6
+V^2⋅f^2/J^4⋅a1⋅b1⋅a2⋅b3⋅a4
−i⋅V⋅f^3/J^4⋅b3⋅a4⋅a6
+2⋅i⋅V⋅f^3/(3⋅J^4)⋅a2⋅b3⋅a4
−V^2⋅f^2/J^4⋅b1⋅a2⋅a5⋅b5⋅a6
+V^4/J^4⋅b1⋅a2⋅b3⋅a4⋅b5⋅a6⋅b7⋅a8⋅a9
+5⋅i⋅V^3⋅f/(9⋅J^4)⋅b1⋅a2⋅b2⋅b3⋅a4⋅b4⋅b5
−7⋅V^2⋅f^2/(9⋅J^4)⋅a2⋅b2⋅a3⋅b3⋅a5
+2⋅V^2⋅f^2/(3⋅J^4)⋅b2⋅b3⋅b4⋅a5⋅b5
+i⋅V^3⋅f/J^4⋅a1⋅b1⋅a2⋅b2⋅b4⋅a5⋅a6
−7⋅V^2⋅f^2/(9⋅J^4)⋅b1⋅a2⋅a3⋅b3⋅a6
+i⋅V^3⋅f/J^4⋅b1⋅a2⋅b3⋅a4⋅b6⋅a7⋅a8
+i⋅V⋅f⋅(4⋅V^2 - f^2)/(9⋅J^4)⋅b1⋅b2⋅b4
+i⋅V⋅f^3/J^4⋅a1⋅a2⋅b2
−7⋅V^2⋅f^2/(9⋅J^4)⋅a2⋅b2⋅a3⋅a4⋅b4
−i⋅V^3⋅f/(3⋅J^4)⋅b1⋅a2⋅b2⋅a3⋅a4⋅b4⋅a5
+V^2⋅f^2/(3⋅J^4)⋅b2⋅a3⋅b3⋅a4⋅a5
−i⋅V⋅f⋅(V^2 + f^2)/J^4⋅b1⋅a2⋅a6
+4⋅V^2⋅f^2/(9⋅J^4)⋅b1⋅a3⋅b4⋅a5⋅a6
+i⋅V^3⋅f/J^4⋅b1⋅a2⋅b3⋅a4⋅b5⋅a6⋅a8
+5⋅i⋅V^3⋅f/(9⋅J^4)⋅b1⋅a2⋅b2⋅b3⋅b5⋅a6⋅b6
−2⋅V^2⋅f^2/(3⋅J^4)⋅b2⋅a3⋅a4⋅b4⋅a6
−5⋅i⋅V^3⋅f/(9⋅J^4)⋅a2⋅a3⋅b3⋅a4⋅b5⋅a6⋅b6
+i⋅V^3⋅f/J^4⋅b1⋅a2⋅a4⋅b4⋅a5⋅b5⋅a6
−V^2⋅f^2/J^4⋅b2⋅a3⋅a5⋅b5⋅a6
−V^2⋅f^2/(3⋅J^4)⋅b1⋅a2⋅a4⋅a5⋅b5
+V^2⋅f^2/(3⋅J^4)⋅b2⋅a3⋅b3⋅a5⋅a6
+i⋅V⋅f⋅(5⋅V^2 + 4⋅f^2)/(9⋅J^4)⋅b1⋅a3⋅a5
+f^2⋅(2⋅V^2 + f^2)/J^4⋅a5
+i⋅V⋅f⋅(-2⋅V^2 + 3⋅f^2)/(9⋅J^4)⋅b2⋅b3⋅b4
+i⋅V^3⋅f/(3⋅J^4)⋅b1⋅a2⋅b3⋅a4⋅b4⋅b5⋅b6
−i⋅V^3⋅f/(3⋅J^4)⋅b1⋅b2⋅a3⋅a4⋅b4⋅a5⋅a6
+V^2⋅f^2/(3⋅J^4)⋅b1⋅a2⋅a3⋅b4⋅a5
+i⋅V⋅f^3/(3⋅J^4)⋅a1⋅a3⋅b3
−i⋅V⋅f⋅(4⋅V^2 + 3⋅f^2)/(9⋅J^4)⋅a3⋅a4⋅b4
−4⋅V^2⋅f^2/(9⋅J^4)⋅b1⋅a2⋅a3⋅a4⋅b5
+5⋅V^2⋅f^2/(9⋅J^4)⋅a2⋅a3⋅b3⋅b4⋅a5
−7⋅V^2⋅f^2/(9⋅J^4)⋅a2⋅b2⋅b3⋅a4⋅a6
−V^2⋅f^2/J^4⋅b2⋅a3⋅b5⋅a6⋅a7
+i⋅V^3⋅f/J^4⋅b1⋅a2⋅b3⋅a4⋅a6⋅b6⋅a7
−V^2⋅f^2/J^4⋅b3⋅a4⋅b5⋅a6⋅a7
−i⋅V⋅f⋅(7⋅V^2 + 12⋅f^2)/(9⋅J^4)⋅a3⋅b3⋅a5
+i⋅V^3⋅f/J^4⋅a2⋅b2⋅a3⋅b3⋅a4⋅b4⋅a5
+2⋅V^2⋅f^2/(9⋅J^4)⋅b1⋅a3⋅b3⋅a4⋅a6
−2⋅i⋅V^3⋅f/(9⋅J^4)⋅b1⋅a3⋅b3⋅a4⋅b5⋅a6⋅a7
+4⋅V^2⋅f^2/(9⋅J^4)⋅b1⋅b2⋅b3⋅b4⋅a5
+i⋅V⋅f⋅(2⋅V^2 + f^2)/(9⋅J^4)⋅a2⋅a3⋅b4
+4⋅V^2⋅f^2/(9⋅J^4)⋅b1⋅b2⋅b3⋅a4⋅b5
−2⋅V^2⋅f^2/(3⋅J^4)⋅b2⋅a3⋅a4⋅a5⋅b5
−V^2⋅f^2/J^4⋅b1⋅a2⋅b5⋅a6⋅a7
+5⋅V^2⋅f^2/(9⋅J^4)⋅a2⋅a3⋅b3⋅a4⋅b5
+i⋅V^3⋅f/J^4⋅a1⋅b1⋅b3⋅a4⋅b5⋅a6⋅a7
+V^2⋅f^2/J^4⋅a1⋅b1⋅a2⋅b2⋅a3
−V^2⋅f^2/(3⋅J^4)⋅a1⋅a3⋅b3⋅a4⋅b4
−7⋅i⋅V⋅f⋅(V^2 + 2⋅f^2)/(9⋅J^4)⋅a2⋅b2⋅a5
−V^2⋅f^2/J^4⋅b1⋅a2⋅b3⋅a4⋅a7
−i⋅V⋅f^3/J^4⋅a4⋅b4⋅a5
+V^2⋅f^2/J^4⋅b1⋅a2⋅a3⋅b3⋅a4
+i⋅V^3⋅f/J^4⋅a1⋅b1⋅a2⋅b2⋅a3⋅b3⋅a5
+7⋅i⋅V^3⋅f/(9⋅J^4)⋅b1⋅a2⋅a3⋅b3⋅a4⋅b4⋅a6
−i⋅V⋅f⋅(V^2 + f^2)/J^4⋅b4⋅a5⋅a6
−V^2⋅f^2/(9⋅J^4)⋅b1⋅b2⋅b4⋅a5⋅b5
−4⋅i⋅V^3⋅f/(9⋅J^4)⋅b1⋅b2⋅b3⋅a4⋅b5⋅a6⋅b6
+V^2⋅f^2/(3⋅J^4)⋅a3⋅a4⋅b4⋅a5⋅b5
−2⋅i⋅V^3⋅f/(9⋅J^4)⋅b1⋅a2⋅b2⋅a4⋅b5⋅a6⋅a7
+2⋅V^2⋅f^2/(3⋅J^4)⋅a1⋅b2⋅b3⋅a4⋅a5
−i⋅V^3⋅f/(3⋅J^4)⋅a1⋅b3⋅a5
−4⋅V^2⋅f^2/(3⋅J^4)⋅b1⋅a2⋅a4⋅b4⋅a6
+V^2⋅f^2/(9⋅J^4)⋅a2⋅a3⋅b4⋅a5⋅b5
+7⋅V^2⋅f^2/(9⋅J^4)⋅b1⋅b2⋅a3⋅b3⋅b4
+7⋅i⋅V^3⋅f/(9⋅J^4)⋅b1⋅a2⋅a3⋅b3⋅b5⋅a6⋅a7
−2⋅i⋅V^3⋅f/(9⋅J^4)⋅b1⋅a2⋅b2⋅b3⋅a4⋅a5⋅a6
+i⋅V^3⋅f/(3⋅J^4)⋅a2⋅b4⋅a5
−7⋅V^2⋅f^2/(9⋅J^4)⋅a2⋅b2⋅a4⋅b4⋅a5
−i⋅V⋅f^3/J^4⋅b2⋅a3⋅a6
+4⋅i⋅V^3⋅f/(9⋅J^4)⋅b1⋅a2⋅a3⋅b3⋅a4⋅a5⋅b5}


In [41]:
p(multiply_groups(psi,psi))
{+1 + V^2/J^2 + f^2/J^2 + V^4/J^4 + 4⋅V^2⋅f^2/J^4 + f^4/J^4 + V^6/J^6 + 140⋅V^4⋅f^2/(9⋅J^6) + 91⋅V^2⋅f^4/(9⋅J^6) + f^6/J^6 + V^8/J^8 + 1892⋅V^6⋅f^2/(81⋅J^8) + 427⋅V^4⋅f^4/(9⋅J^8) + 1411⋅V^2⋅f^6/(81⋅J^8) + f^8/J^8
+4⋅i⋅V^3⋅f^2/(3⋅J^5) + 4⋅i⋅V^5⋅f^2/(9⋅J^7)⋅b1⋅b3⋅b4⋅b5⋅a6⋅b6
−2⋅i⋅V^3⋅f^2/J^5⋅b1⋅a2⋅b2⋅a5⋅b5⋅a6
−10⋅i⋅V^3⋅f^2/(9⋅J^5) + 20⋅i⋅V^5⋅f^2/(9⋅J^7) + 8⋅i⋅V^3⋅f^4/(9⋅J^7)⋅b1⋅b2⋅b3⋅b5⋅a6⋅b6
−8⋅V^4⋅f/(9⋅J^5) - 16⋅V^4⋅f^3/(27⋅J^7)⋅a4⋅b5⋅a6⋅b6
−2⋅V^4⋅f/J^5 + 56⋅V^4⋅f^3/(27⋅J^7)⋅b1⋅a2⋅b2⋅a3⋅b3⋅b5⋅a6⋅a7
−2⋅i⋅V^3⋅f^2/(3⋅J^5) - 4⋅i⋅V^5⋅f^2/(3⋅J^7) + 22⋅i⋅V^3⋅f^4/(27⋅J^7)⋅b1⋅a2⋅a4⋅b4⋅a5⋅b5
+4⋅V^4⋅f/(9⋅J^5) + 4⋅V^6⋅f/(3⋅J^7) + 172⋅V^4⋅f^3/(27⋅J^7) + 2⋅V^2⋅f^5/J^7⋅b3⋅b5⋅a6⋅a7
+4⋅i⋅V^3⋅f^2/(3⋅J^5) - 4⋅i⋅V^5⋅f^2/(27⋅J^7) + 74⋅i⋅V^3⋅f^4/(27⋅J^7)⋅b2⋅a3⋅b3⋅b4⋅a5⋅a6
−10⋅V^2⋅f^3/(9⋅J^5) - 8⋅V^4⋅f^3/(9⋅J^7) - 2⋅V^2⋅f^5/(3⋅J^7)⋅b2⋅b4⋅a5⋅a6
−2⋅V^2⋅f^3/(3⋅J^5) + 100⋅V^4⋅f^3/(27⋅J^7) + 34⋅V^2⋅f^5/(9⋅J^7)⋅b1⋅a2⋅b2⋅a4
+4⋅V^2⋅f^3/(9⋅J^5) + 22⋅V^4⋅f^3/(9⋅J^7) - 56⋅V^2⋅f^5/(27⋅J^7)⋅b2⋅a3⋅b3⋅a5
−10⋅i⋅V^3⋅f^2/(9⋅J^5) + 4⋅i⋅V^5⋅f^2/(9⋅J^7) - 14⋅i⋅V^3⋅f^4/(9⋅J^7)⋅b1⋅b2⋅b3⋅a4⋅b4⋅b5
−8⋅i⋅V^3⋅f^2/(3⋅J^5) - 2⋅i⋅V⋅f^4/J^5 - 202⋅i⋅V^5⋅f^2/(27⋅J^7) - 142⋅i⋅V^3⋅f^4/(9⋅J^7) - 8⋅i⋅V⋅f^6/(3⋅J^7)⋅b1⋅a2
−2⋅i⋅V^3⋅f^2/J^5⋅b1⋅b3⋅a4⋅a6⋅b6⋅a7
+2⋅i⋅V^3⋅f^2/J^5 - 50⋅i⋅V^5⋅f^2/(27⋅J^7) + 20⋅i⋅V^3⋅f^4/(27⋅J^7)⋅b1⋅a2⋅b2⋅a3⋅b4⋅a5
+8⋅i⋅V^3⋅f^2/(9⋅J^5) + 4⋅i⋅V^5⋅f^2/(3⋅J^7) + 28⋅i⋅V^3⋅f^4/(27⋅J^7)⋅a2⋅b2⋅a3⋅b3⋅a4⋅b5
−2⋅V^4⋅f/J^5⋅b1⋅a2⋅b2⋅b4⋅a5⋅b6⋅a7⋅a8
+4⋅V^4⋅f/(9⋅J^5) + 158⋅V^4⋅f^3/(27⋅J^7) + 2⋅V^2⋅f^5/J^7⋅b3⋅a4⋅b4⋅a6
−2⋅V^2⋅f^3/J^5 + 106⋅V^4⋅f^3/(27⋅J^7) + 8⋅V^2⋅f^5/(3⋅J^7)⋅b1⋅a3⋅b3⋅a4
+2⋅V^2⋅f^3/(3⋅J^5) + 28⋅V^4⋅f^3/(27⋅J^7)⋅b1⋅a4⋅a5⋅b5
+10⋅V^2⋅f^3/(9⋅J^5) + 16⋅V^4⋅f^3/(9⋅J^7)⋅a3⋅b3⋅a4⋅b5
−4⋅V^4⋅f/(3⋅J^5) - 2⋅V^2⋅f^3/(3⋅J^5) + 22⋅V^4⋅f^3/(27⋅J^7) + 4⋅V^2⋅f^5/(3⋅J^7)⋅b1⋅a3⋅b4⋅a5
+8⋅i⋅V^3⋅f^2/(9⋅J^5) - 16⋅i⋅V^5⋅f^2/(27⋅J^7) + 104⋅i⋅V^3⋅f^4/(27⋅J^7)⋅a2⋅b2⋅a3⋅b3⋅b4⋅a5
−2⋅V^4⋅f/J^5⋅b1⋅b3⋅a4⋅b5⋅a6⋅b7⋅a8⋅a9
−2⋅i⋅V^3⋅f^2/J^5⋅b1⋅a4⋅b4⋅a5⋅b5⋅a6
−14⋅V^2⋅f^3/(9⋅J^5) - 16⋅V^4⋅f^3/(9⋅J^7) - 40⋅V^2⋅f^5/(27⋅J^7)⋅b2⋅a3⋅a4⋅b4
−4⋅V^2⋅f^3/(3⋅J^5) - 94⋅V^4⋅f^3/(27⋅J^7) - 26⋅V^2⋅f^5/(9⋅J^7)⋅b1⋅a2⋅a3⋅b3
−2⋅V^2⋅f^3/(3⋅J^5) - 4⋅V^4⋅f^3/J^7 + 8⋅V^2⋅f^5/(9⋅J^7)⋅a2⋅b3⋅a4⋅b4
+8⋅V^2⋅f^3/(3⋅J^5) - 22⋅V^4⋅f^3/(9⋅J^7)⋅b1⋅a4⋅b4⋅a6
+2⋅i⋅V^3⋅f^2/(3⋅J^5) + 2⋅i⋅V^5⋅f^2/(9⋅J^7)⋅b1⋅b3⋅a5⋅b5⋅a6⋅a7
+2⋅V^2⋅f^3/J^5 - 20⋅V^4⋅f^3/(9⋅J^7) - 4⋅V^2⋅f^5/(9⋅J^7)⋅b1⋅a2⋅b2⋅a6
+14⋅i⋅V^3⋅f^2/(9⋅J^5) - 2⋅i⋅V^5⋅f^2/(9⋅J^7) - 2⋅i⋅V^3⋅f^4/J^7⋅b2⋅b3⋅a4⋅b5⋅a6⋅a7
−4⋅V^4⋅f/(3⋅J^5) - 14⋅V^2⋅f^3/(9⋅J^5) + 34⋅V^4⋅f^3/(27⋅J^7) + 4⋅V^2⋅f^5/(3⋅J^7)⋅b2⋅a4⋅b4⋅a5
+2⋅V^2⋅f^3/J^5 + 26⋅V^4⋅f^3/(9⋅J^7)⋅b1⋅b3⋅a4⋅a5
+2⋅V^2⋅f^3/J^5 - 50⋅V^4⋅f^3/(27⋅J^7)⋅b1⋅b5⋅a6⋅a7
−14⋅i⋅V^3⋅f^2/(9⋅J^5) + 4⋅i⋅V^5⋅f^2/(3⋅J^7) + 4⋅i⋅V^3⋅f^4/(9⋅J^7)⋅b1⋅a3⋅b3⋅b5⋅a6⋅a7
−8⋅V^4⋅f/(9⋅J^5) - 8⋅V^4⋅f^3/(27⋅J^7)⋅b3⋅a4⋅a5⋅b5
−14⋅V^2⋅f^3/(9⋅J^5) + 2⋅V^4⋅f^3/J^7 + 2⋅V^2⋅f^5/J^7⋅b2⋅b3⋅a4⋅a6
+8⋅V^4⋅f/(9⋅J^5) + 28⋅V^4⋅f^3/(27⋅J^7)⋅a2⋅b2⋅a3⋅b3⋅a4⋅b5⋅a6⋅b6
−4⋅i⋅V^3⋅f^2/(3⋅J^5) + 28⋅i⋅V^5⋅f^2/(27⋅J^7)⋅b1⋅a4⋅b4⋅b5⋅a6⋅a7
−2⋅i⋅V^3⋅f^2/(3⋅J^5) + 4⋅i⋅V^5⋅f^2/(3⋅J^7) + 22⋅i⋅V^3⋅f^4/(9⋅J^7)⋅b1⋅a2⋅b2⋅b3⋅b4⋅b5
−4⋅i⋅V^3⋅f^2/(9⋅J^5) - 4⋅i⋅V^5⋅f^2/J^7 - 124⋅i⋅V^3⋅f^4/(27⋅J^7)⋅b1⋅b2⋅a3⋅b3⋅a4⋅a6
+2⋅V^2⋅f^3/J^5⋅b1⋅b3⋅a4⋅a7
−2⋅V^4⋅f/J^5 + 32⋅V^4⋅f^3/(27⋅J^7)⋅b1⋅a2⋅b2⋅a3⋅b3⋅a4⋅b4⋅a6
+2⋅i⋅V^3⋅f^2/(3⋅J^5) - 40⋅i⋅V^5⋅f^2/(27⋅J^7)⋅b1⋅a4⋅a5⋅b5⋅a6⋅b6
+2⋅i⋅V^3⋅f^2/J^5 - 68⋅i⋅V^5⋅f^2/(27⋅J^7) - 38⋅i⋅V^3⋅f^4/(27⋅J^7)⋅b2⋅a3⋅b3⋅a4⋅b4⋅a5
+8⋅i⋅V^3⋅f^2/(3⋅J^5) + 22⋅i⋅V^5⋅f^2/(9⋅J^7) + 52⋅i⋅V^3⋅f^4/(27⋅J^7)⋅b1⋅a2⋅b2⋅b3⋅a4⋅a5
−2⋅i⋅V^3⋅f^2/J^5⋅b1⋅b3⋅a4⋅b5⋅a6⋅a8
+2⋅i⋅V^3⋅f^2/(3⋅J^5)⋅b1⋅b3⋅a4⋅b4⋅a6⋅a7
−26⋅i⋅V^3⋅f^2/(9⋅J^5) - 10⋅i⋅V⋅f^4/(9⋅J^5) - 8⋅i⋅V^5⋅f^2/(9⋅J^7) - 76⋅i⋅V^3⋅f^4/(27⋅J^7) - 4⋅i⋅V⋅f^6/(3⋅J^7)⋅b2⋅a5
+10⋅V^2⋅f^3/(9⋅J^5) - 16⋅V^4⋅f^3/(9⋅J^7) - 8⋅V^2⋅f^5/(9⋅J^7)⋅b1⋅b2⋅b3⋅b5
−10⋅i⋅V^3⋅f^2/(9⋅J^5) - 4⋅i⋅V^5⋅f^2/(9⋅J^7)⋅a3⋅b3⋅a4⋅b5⋅a6⋅b6
+4⋅i⋅V^3⋅f^2/(3⋅J^5) - 2⋅i⋅V⋅f^4/(3⋅J^5) + 62⋅i⋅V^5⋅f^2/(27⋅J^7) + 80⋅i⋅V^3⋅f^4/(27⋅J^7)⋅b1⋅a4
+2⋅V^2⋅f^3/J^5⋅b1⋅a5⋅b5⋅a6
+4⋅i⋅V^3⋅f^2/(3⋅J^5) + 2⋅i⋅V^5⋅f^2/(3⋅J^7) - 16⋅i⋅V^3⋅f^4/(27⋅J^7)⋅b1⋅a2⋅b3⋅b4⋅a5⋅a6
−2⋅i⋅V^3⋅f^2/J^5⋅b1⋅b4⋅a5⋅b6⋅a7⋅a8
−2⋅i⋅V^3⋅f^2/J^5 - 2⋅i⋅V⋅f^4/(3⋅J^5) - 202⋅i⋅V^5⋅f^2/(27⋅J^7) - 368⋅i⋅V^3⋅f^4/(27⋅J^7) - 2⋅i⋅V⋅f^6/J^7⋅b3⋅a4
+2⋅i⋅V^3⋅f^2/J^5 - 46⋅i⋅V^5⋅f^2/(27⋅J^7) + 74⋅i⋅V^3⋅f^4/(27⋅J^7)⋅b1⋅a2⋅b2⋅a3⋅b3⋅a4
+10⋅i⋅V^3⋅f^2/(9⋅J^5) - 104⋅i⋅V^5⋅f^2/(27⋅J^7) + 8⋅i⋅V^3⋅f^4/(9⋅J^7)⋅b1⋅b2⋅a3⋅b4⋅a5⋅a6
+4⋅i⋅V^3⋅f^2/(9⋅J^5) - 46⋅i⋅V^5⋅f^2/(9⋅J^7) - 16⋅i⋅V^3⋅f^4/(3⋅J^7)⋅b1⋅b2⋅b3⋅a4⋅a5⋅a6
−2⋅i⋅V^3⋅f^2/J^5 + 2⋅i⋅V⋅f^4/(3⋅J^5) - 92⋅i⋅V^5⋅f^2/(27⋅J^7) - 8⋅i⋅V^3⋅f^4/(27⋅J^7) + 4⋅i⋅V⋅f^6/(3⋅J^7)⋅a2⋅b3
+2⋅i⋅V^3⋅f^2/J^5 + 170⋅i⋅V^5⋅f^2/(27⋅J^7) + 280⋅i⋅V^3⋅f^4/(27⋅J^7)⋅b1⋅a2⋅b3⋅a4⋅b4⋅a5
+2⋅i⋅V^3⋅f^2/(9⋅J^5) + 64⋅i⋅V^5⋅f^2/(27⋅J^7) + 16⋅i⋅V^3⋅f^4/(27⋅J^7)⋅b1⋅b2⋅a3⋅a4⋅b4⋅a5
−4⋅V^4⋅f/(9⋅J^5) - 4⋅V^6⋅f/(3⋅J^7) - 124⋅V^4⋅f^3/(27⋅J^7)⋅b1⋅b2⋅a3⋅b3⋅a4⋅b5⋅a6⋅a7
+14⋅V^2⋅f^3/(9⋅J^5) - 4⋅V^4⋅f^3/(9⋅J^7) - 4⋅V^2⋅f^5/(9⋅J^7)⋅b1⋅a3⋅b3⋅a6
−8⋅V^4⋅f/(9⋅J^5) - 2⋅V^2⋅f^3/J^5 - 10⋅V^4⋅f^3/(9⋅J^7) - 112⋅V^2⋅f^5/(27⋅J^7)⋅b1⋅a2⋅a4⋅b4
−4⋅i⋅V^3⋅f^2/(3⋅J^5) + 8⋅i⋅V^5⋅f^2/(3⋅J^7) + 4⋅i⋅V^3⋅f^4/(3⋅J^7)⋅b1⋅a2⋅b2⋅a4⋅b4⋅a6
−8⋅V^4⋅f/(9⋅J^5) + 2⋅V^2⋅f^3/(9⋅J^5) + 32⋅V^4⋅f^3/(9⋅J^7) + 8⋅V^2⋅f^5/(3⋅J^7)⋅a2⋅b2⋅a3⋅b4
−4⋅V^2⋅f^3/(3⋅J^5) + 4⋅V^4⋅f^3/(3⋅J^7)⋅b1⋅b3⋅a5⋅a6
−2⋅i⋅V^3⋅f^2/J^5 - 8⋅i⋅V^5⋅f^2/(9⋅J^7) + 80⋅i⋅V^3⋅f^4/(27⋅J^7)⋅b1⋅a2⋅a3⋅b3⋅a4⋅b4
−4⋅i⋅V^3⋅f^2/(3⋅J^5) - 4⋅i⋅V^5⋅f^2/(9⋅J^7) - 2⋅i⋅V^3⋅f^4/(9⋅J^7)⋅b1⋅a2⋅b2⋅a4⋅a5⋅b5
+4⋅V^4⋅f/(3⋅J^5) - 118⋅V^4⋅f^3/(27⋅J^7) - 14⋅V^2⋅f^5/(3⋅J^7)⋅a2⋅b2⋅b4⋅a5
−8⋅i⋅V^3⋅f^2/(9⋅J^5) - 28⋅i⋅V^5⋅f^2/(27⋅J^7) + 56⋅i⋅V^3⋅f^4/(27⋅J^7)⋅a4⋅b5
−2⋅i⋅V^3⋅f^2/(9⋅J^5) + 44⋅i⋅V^5⋅f^2/(27⋅J^7) + 10⋅i⋅V^3⋅f^4/(9⋅J^7)⋅a2⋅b2⋅a3⋅b4⋅a5⋅b5
−8⋅V^2⋅f^3/(3⋅J^5) - 106⋅V^4⋅f^3/(27⋅J^7) - 8⋅V^2⋅f^5/(3⋅J^7)⋅a2⋅b2⋅b3⋅a4
−2⋅V^2⋅f^3/(3⋅J^5) - 98⋅V^4⋅f^3/(27⋅J^7)⋅b1⋅b3⋅b4⋅b5
−10⋅i⋅V^3⋅f^2/(3⋅J^5) - 2⋅i⋅V⋅f^4/(3⋅J^5) - 2⋅i⋅V^5⋅f^2/J^7 - 16⋅i⋅V^3⋅f^4/(3⋅J^7) - 8⋅i⋅V⋅f^6/(3⋅J^7)⋅b2⋅a3
−2⋅i⋅V^3⋅f^2/(3⋅J^5)⋅b1⋅b3⋅a4⋅b4⋅b5⋅b6
+4⋅V^4⋅f/(9⋅J^5) - 16⋅V^2⋅f^3/(9⋅J^5) + 46⋅V^4⋅f^3/(9⋅J^7) - 8⋅V^2⋅f^5/(9⋅J^7)⋅b1⋅b2⋅a3⋅a5
+8⋅V^2⋅f^3/(9⋅J^5) - 14⋅V^4⋅f^3/(9⋅J^7)⋅b1⋅a3⋅a4⋅b5
−2⋅i⋅V^3⋅f^2/(3⋅J^5) + 28⋅i⋅V^5⋅f^2/(27⋅J^7) - 50⋅i⋅V^3⋅f^4/(27⋅J^7)⋅b2⋅a3⋅a4⋅b4⋅a5⋅b5
−4⋅i⋅V^3⋅f^2/(3⋅J^5)⋅b1⋅b3⋅a4⋅a5⋅a6⋅b6
−2⋅i⋅V^3⋅f^2/J^5 + 92⋅i⋅V^3⋅f^4/(27⋅J^7)⋅b1⋅a2⋅b2⋅a3⋅b3⋅a6
+16⋅i⋅V^3⋅f^2/(9⋅J^5) + 2⋅i⋅V⋅f^4/(9⋅J^5) - 8⋅i⋅V^5⋅f^2/(9⋅J^7) + 112⋅i⋅V^3⋅f^4/(27⋅J^7) + 2⋅i⋅V⋅f^6/(3⋅J^7)⋅a3⋅b4
+4⋅V^4⋅f/(9⋅J^5) + 34⋅V^4⋅f^3/(9⋅J^7) + 70⋅V^2⋅f^5/(27⋅J^7)⋅b1⋅a2⋅b3⋅a5
+2⋅V^2⋅f^3/J^5⋅b1⋅b4⋅a5⋅a7
+2⋅i⋅V^3⋅f^2/(3⋅J^5) + 2⋅i⋅V^5⋅f^2/J^7 + 4⋅i⋅V^3⋅f^4/(3⋅J^7)⋅b1⋅a2⋅b2⋅b3⋅a5⋅a6
−2⋅i⋅V^3⋅f^2/(3⋅J^5) - 16⋅i⋅V^5⋅f^2/(3⋅J^7) - 350⋅i⋅V^3⋅f^4/(27⋅J^7) - 2⋅i⋅V⋅f^6/J^7⋅b4⋅a5
−2⋅i⋅V^3⋅f^2/J^5⋅b1⋅b3⋅a4⋅b6⋅a7⋅a8
+4⋅i⋅V^3⋅f^2/(9⋅J^5) + 4⋅i⋅V^5⋅f^2/(27⋅J^7) + 136⋅i⋅V^3⋅f^4/(27⋅J^7) + 2⋅i⋅V⋅f^6/J^7⋅b3⋅a6
−14⋅i⋅V^3⋅f^2/(9⋅J^5) + 20⋅i⋅V^5⋅f^2/(9⋅J^7) - 2⋅i⋅V^3⋅f^4/(9⋅J^7)⋅b1⋅a3⋅b3⋅a4⋅b4⋅a6
−4⋅V^2⋅f^3/(9⋅J^5) + 26⋅V^4⋅f^3/(9⋅J^7) + 2⋅V^2⋅f^5/J^7⋅b1⋅b2⋅a4⋅a6
+4⋅V^4⋅f/(3⋅J^5) + 10⋅V^2⋅f^3/(9⋅J^5) - 16⋅V^4⋅f^3/(27⋅J^7) - 8⋅V^2⋅f^5/(3⋅J^7)⋅a3⋅b3⋅b4⋅a5
−8⋅i⋅V^3⋅f^2/(9⋅J^5) + 2⋅i⋅V^5⋅f^2/(9⋅J^7) - 8⋅i⋅V^3⋅f^4/(9⋅J^7)⋅b1⋅a3⋅b3⋅a4⋅a5⋅b5
+2⋅V^2⋅f^3/(9⋅J^5) + 2⋅V^4⋅f^3/(3⋅J^7) - 2⋅V^2⋅f^5/(3⋅J^7)⋅a3⋅b4⋅a5⋅b5
−2⋅i⋅V^3⋅f^2/J^5 + 8⋅i⋅V^5⋅f^2/(9⋅J^7) + 4⋅i⋅V^3⋅f^4/(9⋅J^7)⋅b1⋅a2⋅b2⋅b5⋅a6⋅a7
+2⋅i⋅V^3⋅f^2/J^5 + 2⋅i⋅V⋅f^4/J^5 - 40⋅i⋅V^5⋅f^2/(27⋅J^7) - 50⋅i⋅V^3⋅f^4/(27⋅J^7)⋅b1⋅a6
+4⋅i⋅V^3⋅f^2/(9⋅J^5) - 2⋅i⋅V^5⋅f^2/J^7 - 2⋅i⋅V^3⋅f^4/J^7⋅b1⋅b2⋅a4⋅b5⋅a6⋅a7
−4⋅i⋅V^3⋅f^2/(3⋅J^5)⋅b1⋅b3⋅a4⋅a5⋅b5⋅a7
−2⋅i⋅V^3⋅f^2/J^5⋅b1⋅a2⋅b2⋅b4⋅a5⋅a7
−8⋅i⋅V^3⋅f^2/(9⋅J^5) + 14⋅i⋅V^5⋅f^2/(9⋅J^7)⋅b1⋅a3⋅a4⋅b5⋅a6⋅b6
+8⋅i⋅V^3⋅f^3/(9⋅J^6) - 236⋅i⋅V^5⋅f^3/(81⋅J^8) - 200⋅i⋅V^3⋅f^5/(81⋅J^8)⋅b1⋅a2⋅b3⋅a4⋅a5⋅b5
+4⋅V^4⋅f^2/(3⋅J^6) - 86⋅V^6⋅f^2/(81⋅J^8) - 76⋅V^4⋅f^4/(81⋅J^8)⋅b1⋅a2⋅b2⋅a3⋅b3⋅b4⋅a5⋅a6
+20⋅V^4⋅f^2/(9⋅J^6) + 392⋅V^6⋅f^2/(81⋅J^8) + 38⋅V^4⋅f^4/(27⋅J^8) - 4⋅V^2⋅f^6/(27⋅J^8)⋅b1⋅b2⋅a3⋅a4
+2⋅V^4⋅f^2/(3⋅J^6) + 8⋅V^4⋅f^4/(9⋅J^8)⋅b1⋅a2⋅b2⋅a3⋅b3⋅b4⋅a6⋅a7
+2⋅V^4⋅f^2/J^6 + 196⋅V^4⋅f^4/(27⋅J^8)⋅b1⋅a2⋅b2⋅a3⋅b4⋅a5⋅b5⋅a6
−2⋅V^4⋅f^2/J^6 - 2⋅V^6⋅f^2/(3⋅J^8) + 2⋅V^4⋅f^4/(3⋅J^8)⋅b1⋅a2⋅a3⋅b3⋅a4⋅b5⋅a6⋅b6
−2⋅i⋅V^3⋅f^3/(3⋅J^6) - 40⋅i⋅V^5⋅f^3/(27⋅J^8) - 172⋅i⋅V^3⋅f^5/(81⋅J^8)⋅b1⋅b2⋅a3⋅a4⋅a5⋅b5
−10⋅V^4⋅f^2/(3⋅J^6) - 38⋅V^6⋅f^2/(27⋅J^8) - 2⋅V^4⋅f^4/(3⋅J^8) + 8⋅V^2⋅f^6/(9⋅J^8)⋅a1⋅b2⋅b4⋅a5
−2⋅V^4⋅f^2/J^6 - 10⋅V^6⋅f^2/(3⋅J^8) + 4⋅V^4⋅f^4/(3⋅J^8)⋅b1⋅b2⋅a3⋅b3⋅a4⋅b6⋅a7⋅a8
+2⋅V^4⋅f^2/(9⋅J^6) + 58⋅V^6⋅f^2/(27⋅J^8) - 118⋅V^4⋅f^4/(81⋅J^8) - 2⋅V^2⋅f^6/J^8⋅a2⋅a3⋅a5⋅a6
+2⋅V^2⋅f^4/(3⋅J^6) - 8⋅V^6⋅f^2/(3⋅J^8) - 706⋅V^4⋅f^4/(81⋅J^8)⋅a4⋅b4⋅a5⋅b5
−4⋅i⋅V^3⋅f^3/(3⋅J^6) + 14⋅i⋅V^5⋅f^3/(27⋅J^8) + 2⋅i⋅V^3⋅f^5/(3⋅J^8)⋅a1⋅b1⋅b2⋅a4⋅a5⋅b5
+14⋅i⋅V^3⋅f^3/(9⋅J^6) + 16⋅i⋅V^5⋅f^3/(3⋅J^8) + 134⋅i⋅V^3⋅f^5/(27⋅J^8)⋅a1⋅b1⋅a2⋅b2⋅a4⋅b4
−22⋅V^4⋅f^2/(9⋅J^6) - 10⋅V^2⋅f^4/(3⋅J^6) - 202⋅V^6⋅f^2/(81⋅J^8) - 536⋅V^4⋅f^4/(81⋅J^8) - 196⋅V^2⋅f^6/(81⋅J^8)⋅b1⋅a2⋅b4⋅a5
+10⋅V^4⋅f^2/(9⋅J^6) + 76⋅V^6⋅f^2/(27⋅J^8) + 512⋅V^4⋅f^4/(27⋅J^8) + 16⋅V^2⋅f^6/(3⋅J^8)⋅a3⋅b3⋅b4⋅a6
+4⋅V^4⋅f^2/(3⋅J^6) + 50⋅V^6⋅f^2/(81⋅J^8) + 4⋅V^4⋅f^4/(9⋅J^8)⋅b3⋅a5⋅a6⋅b6
+2⋅i⋅V⋅f^5/(3⋅J^6) + 412⋅i⋅V^5⋅f^3/(81⋅J^8) + 410⋅i⋅V^3⋅f^5/(81⋅J^8) + 4⋅i⋅V⋅f^7/(3⋅J^8)⋅b2⋅a4
+2⋅V^4⋅f^2/J^6 + 2⋅V^6⋅f^2/(3⋅J^8) - 170⋅V^4⋅f^4/(81⋅J^8)⋅b1⋅a2⋅b2⋅a3⋅b3⋅a4⋅b4⋅a5
−2⋅i⋅V^5⋅f/(9⋅J^6) + 128⋅i⋅V^5⋅f^3/(81⋅J^8) + 4⋅i⋅V^3⋅f^5/(3⋅J^8)⋅a3⋅a4⋅a5⋅b5⋅a6⋅a7
+4⋅V^4⋅f^2/(3⋅J^6) + 154⋅V^6⋅f^2/(81⋅J^8) + 2⋅V^4⋅f^4/J^8⋅a2⋅b2⋅a3⋅b3⋅a4⋅b4⋅a5⋅b5
+28⋅V^4⋅f^2/(9⋅J^6) - 2⋅V^2⋅f^4/J^6 + 92⋅V^6⋅f^2/(27⋅J^8) + 266⋅V^4⋅f^4/(81⋅J^8) - 232⋅V^2⋅f^6/(81⋅J^8)⋅b2⋅a3⋅b4⋅a5
−8⋅V^4⋅f^2/(3⋅J^6) - 2⋅V^2⋅f^4/(3⋅J^6) - 20⋅V^6⋅f^2/(27⋅J^8) + 8⋅V^4⋅f^4/(9⋅J^8) + 2⋅V^2⋅f^6/(3⋅J^8)⋅b1⋅a3⋅b3⋅a5
+10⋅i⋅V^3⋅f^3/(3⋅J^6) - 2⋅i⋅V⋅f^5/(3⋅J^6) + 4⋅i⋅V^5⋅f^3/(3⋅J^8) + 86⋅i⋅V^3⋅f^5/(27⋅J^8)⋅a1⋅b3
−2⋅V^4⋅f^2/(3⋅J^6) - 8⋅V^2⋅f^4/(9⋅J^6) - 2⋅V^6⋅f^2/(3⋅J^8) + 34⋅V^4⋅f^4/(81⋅J^8)⋅b1⋅b4⋅a5⋅a6
+22⋅i⋅V^3⋅f^3/(9⋅J^6) + 302⋅i⋅V^5⋅f^3/(27⋅J^8) + 86⋅i⋅V^3⋅f^5/(9⋅J^8)⋅a2⋅b2⋅a3⋅b3⋅a4⋅b4
+4⋅V^4⋅f^2/(3⋅J^6)⋅a1⋅a2⋅a3⋅b3⋅a4⋅a5⋅b5⋅a7
−10⋅V^4⋅f^2/(3⋅J^6) - 10⋅V^2⋅f^4/(3⋅J^6) - 326⋅V^6⋅f^2/(81⋅J^8) - 508⋅V^4⋅f^4/(27⋅J^8) - 158⋅V^2⋅f^6/(27⋅J^8)⋅a2⋅b2⋅a3⋅b3
+4⋅V^4⋅f^2/(3⋅J^6) + 4⋅V^4⋅f^4/(3⋅J^8)⋅a1⋅a2⋅a3⋅a4⋅b4⋅b5⋅a6⋅a7
−2⋅i⋅V^3⋅f^3/J^6 + 4⋅i⋅V^5⋅f^3/(3⋅J^8) + 82⋅i⋅V^3⋅f^5/(27⋅J^8)⋅a1⋅b1⋅b2⋅a3⋅b3⋅a6
+4⋅V^4⋅f^2/(9⋅J^6) - 8⋅V^6⋅f^2/(9⋅J^8) + 32⋅V^4⋅f^4/(9⋅J^8) + 8⋅V^2⋅f^6/(27⋅J^8)⋅a1⋅b1⋅b3⋅a5
+10⋅i⋅V^3⋅f^3/(9⋅J^6) - 20⋅i⋅V^5⋅f^3/(27⋅J^8)⋅a2⋅b3⋅a4⋅b5⋅a6⋅b6
−2⋅V^4⋅f^2/J^6 - 112⋅V^6⋅f^2/(81⋅J^8) - 56⋅V^4⋅f^4/(9⋅J^8)⋅b4⋅a5⋅b5⋅a6
−2⋅i⋅V^3⋅f^3/J^6 - 64⋅i⋅V^5⋅f^3/(27⋅J^8) - 16⋅i⋅V^3⋅f^5/(9⋅J^8)⋅b1⋅a2⋅a3⋅b3⋅a4⋅b5
+2⋅i⋅V^3⋅f^3/(9⋅J^6) + 4⋅i⋅V^5⋅f^3/(9⋅J^8)⋅a1⋅b2⋅a3⋅b4⋅a5⋅b5
+4⋅i⋅V^5⋅f/(3⋅J^6) + 40⋅i⋅V^3⋅f^3/(9⋅J^6) - 2⋅i⋅V⋅f^5/(3⋅J^6) + 344⋅i⋅V^5⋅f^3/(81⋅J^8) + 428⋅i⋅V^3⋅f^5/(81⋅J^8)⋅b3⋅a5
+4⋅i⋅V^3⋅f^3/(3⋅J^6) - 604⋅i⋅V^5⋅f^3/(81⋅J^8) - 526⋅i⋅V^3⋅f^5/(81⋅J^8)⋅b1⋅b2⋅a3⋅b3⋅a5⋅a6
+22⋅V^4⋅f^2/(9⋅J^6) + 16⋅V^2⋅f^4/(9⋅J^6) + 52⋅V^6⋅f^2/(27⋅J^8) - 292⋅V^4⋅f^4/(81⋅J^8) + 28⋅V^2⋅f^6/(27⋅J^8)⋅b1⋅a2⋅a3⋅b4
+2⋅V^4⋅f^2/J^6 + 4⋅V^6⋅f^2/(3⋅J^8) + 2⋅V^4⋅f^4/(3⋅J^8)⋅b3⋅b6⋅a7⋅a8
−2⋅i⋅V^3⋅f^3/(9⋅J^6) - 250⋅i⋅V^5⋅f^3/(81⋅J^8) - 512⋅i⋅V^3⋅f^5/(81⋅J^8)⋅b1⋅a2⋅b2⋅a3⋅b3⋅a5
+2⋅i⋅V^3⋅f^3/J^6 + 92⋅i⋅V^5⋅f^3/(27⋅J^8) - 2⋅i⋅V^3⋅f^5/J^8⋅a1⋅a2⋅a3⋅b5⋅a6⋅a7
−2⋅i⋅V^5⋅f/J^6⋅a1⋅a2⋅a3⋅b3⋅a4⋅b5⋅a6⋅b7⋅a8⋅a9
+2⋅V^2⋅f^4/J^6 - 10⋅V^6⋅f^2/(27⋅J^8) - 44⋅V^4⋅f^4/(27⋅J^8) - 2⋅V^2⋅f^6/J^8⋅a1⋅b1⋅b2⋅a6
−4⋅V^4⋅f^2/(9⋅J^6) - 4⋅V^2⋅f^4/(3⋅J^6) + 16⋅V^6⋅f^2/(9⋅J^8) + 160⋅V^4⋅f^4/(27⋅J^8) + 2⋅V^2⋅f^6/J^8⋅a2⋅a3⋅b3⋅b4
+2⋅i⋅V^3⋅f^3/(9⋅J^6) + 2⋅i⋅V^5⋅f^3/(27⋅J^8) - 2⋅i⋅V^3⋅f^5/(9⋅J^8)⋅a1⋅b1⋅a2⋅b4⋅a5⋅b5
+10⋅V^4⋅f^2/(9⋅J^6) + 10⋅V^6⋅f^2/(9⋅J^8) + 22⋅V^4⋅f^4/(27⋅J^8)⋅a1⋅b1⋅a2⋅b3⋅a4⋅b5⋅a6⋅b6
−2⋅i⋅V^3⋅f^3/J^6 + 2⋅i⋅V^3⋅f^5/J^8⋅a1⋅b1⋅b2⋅b4⋅a5⋅a7
+4⋅V^4⋅f^2/(3⋅J^6) + 4⋅V^2⋅f^4/(9⋅J^6) + 34⋅V^6⋅f^2/(27⋅J^8) + 50⋅V^4⋅f^4/(9⋅J^8) + 40⋅V^2⋅f^6/(27⋅J^8)⋅b1⋅a3⋅a4⋅b4
+4⋅V^4⋅f^2/J^6 + 2⋅V^2⋅f^4/J^6 + 2⋅V^6⋅f^2/(3⋅J^8) + 38⋅V^4⋅f^4/(9⋅J^8) - 4⋅V^2⋅f^6/(3⋅J^8)⋅b1⋅b2⋅a3⋅a6
−2⋅i⋅V^5⋅f/(3⋅J^6) + 2⋅i⋅V^3⋅f^3/(3⋅J^6) + 152⋅i⋅V^5⋅f^3/(27⋅J^8) + 110⋅i⋅V^3⋅f^5/(81⋅J^8)⋅b1⋅b2⋅a3⋅b3⋅b4⋅b5
−2⋅V^4⋅f^2/J^6 - 4⋅V^2⋅f^4/(3⋅J^6) + 2⋅V^6⋅f^2/(9⋅J^8) + 202⋅V^4⋅f^4/(81⋅J^8) + 2⋅V^2⋅f^6/J^8⋅b3⋅b4⋅a5⋅a6
+4⋅i⋅V^3⋅f^3/(3⋅J^6) - 2⋅i⋅V^5⋅f^3/(9⋅J^8) - 116⋅i⋅V^3⋅f^5/(27⋅J^8)⋅a1⋅b1⋅b3⋅b4⋅a5⋅a6
−2⋅V^2⋅f^4/(3⋅J^6) - 10⋅V^6⋅f^2/(9⋅J^8) + 28⋅V^4⋅f^4/(9⋅J^8) + 4⋅V^2⋅f^6/(3⋅J^8)⋅a1⋅b1⋅b2⋅a4
+2⋅i⋅V^5⋅f/(3⋅J^6) + 572⋅i⋅V^5⋅f^3/(81⋅J^8) + 6⋅i⋅V^3⋅f^5/J^8⋅b5⋅a7
−2⋅i⋅V^3⋅f^3/J^6 + 4⋅i⋅V^5⋅f^3/(3⋅J^8)⋅b2⋅b4⋅a5⋅b6⋅a7⋅a8
−2⋅i⋅V^5⋅f/J^6 - 56⋅i⋅V^5⋅f^3/(27⋅J^8) + 8⋅i⋅V^3⋅f^5/(9⋅J^8)⋅a1⋅b2⋅b3⋅a4⋅b4⋅a6
−10⋅V^4⋅f^2/(9⋅J^6) + 2⋅V^2⋅f^4/(3⋅J^6) - 64⋅V^6⋅f^2/(27⋅J^8) - 160⋅V^4⋅f^4/(27⋅J^8) - 4⋅V^2⋅f^6/(3⋅J^8)⋅b2⋅b3⋅b4⋅b5
−4⋅V^4⋅f^2/(9⋅J^6) + 2⋅V^2⋅f^4/J^6 - 10⋅V^6⋅f^2/(27⋅J^8) - 4⋅V^4⋅f^4/(9⋅J^8)⋅b2⋅b5⋅a6⋅a7
+2⋅V^4⋅f^2/J^6⋅a1⋅a2⋅a3⋅b3⋅a4⋅b6⋅a7⋅a8
+8⋅i⋅V^5⋅f/(9⋅J^6) + 200⋅i⋅V^5⋅f^3/(81⋅J^8)⋅a3⋅b3⋅a5⋅b5⋅a6⋅b6
−4⋅V^4⋅f^2/(3⋅J^6) - 4⋅V^4⋅f^4/(9⋅J^8)⋅b1⋅a2⋅b2⋅a3⋅b3⋅a5⋅a6⋅b6
−4⋅i⋅V^5⋅f/(3⋅J^6) - 488⋅i⋅V^5⋅f^3/(81⋅J^8)⋅a6⋅b6
−8⋅V^4⋅f^2/(9⋅J^6) - 2⋅V^2⋅f^4/J^6 - 2⋅V^6⋅f^2/J^8 - 2⋅V^4⋅f^4/J^8 - 110⋅V^2⋅f^6/(27⋅J^8)⋅a1⋅b1⋅a4⋅b4
−10⋅i⋅V^3⋅f^3/(9⋅J^6) - 22⋅i⋅V^5⋅f^3/(27⋅J^8) + 10⋅i⋅V^3⋅f^5/(27⋅J^8)⋅a1⋅a2⋅b2⋅a3⋅b3⋅b5
+2⋅i⋅V^5⋅f/(3⋅J^6) + 20⋅i⋅V^5⋅f^3/(81⋅J^8) - 4⋅i⋅V^3⋅f^5/(3⋅J^8)⋅b2⋅a4⋅b4⋅b5⋅a6⋅a7
+14⋅i⋅V^3⋅f^3/(9⋅J^6) - 2⋅i⋅V⋅f^5/(9⋅J^6) + 34⋅i⋅V^5⋅f^3/(27⋅J^8) + 112⋅i⋅V^3⋅f^5/(27⋅J^8)⋅a2⋅b4
−4⋅i⋅V^3⋅f^3/J^6 - 8⋅i⋅V⋅f^5/(9⋅J^6) + 106⋅i⋅V^5⋅f^3/(27⋅J^8) + 16⋅i⋅V^3⋅f^5/(9⋅J^8)⋅b1⋅a5
+8⋅i⋅V^3⋅f^3/(9⋅J^6) + 20⋅i⋅V^5⋅f^3/(27⋅J^8) + 2⋅i⋅V^3⋅f^5/(3⋅J^8)⋅b1⋅a2⋅a4⋅b5⋅a6⋅b6
+4⋅V^4⋅f^2/(3⋅J^6) - 98⋅V^6⋅f^2/(81⋅J^8) - 14⋅V^4⋅f^4/(9⋅J^8)⋅b3⋅a5⋅b5⋅a7
−2⋅i⋅V^3⋅f^3/J^6 - 10⋅i⋅V^5⋅f^3/(3⋅J^8) + 4⋅i⋅V^3⋅f^5/(3⋅J^8)⋅b1⋅b2⋅a3⋅b3⋅a4⋅a7
+2⋅V^4⋅f^2/J^6⋅a1⋅a2⋅a3⋅b3⋅a4⋅a6⋅b6⋅a7
−10⋅V^4⋅f^2/(9⋅J^6) - 10⋅V^2⋅f^4/(9⋅J^6) + 56⋅V^6⋅f^2/(81⋅J^8) + 28⋅V^4⋅f^4/(27⋅J^8) + 16⋅V^2⋅f^6/(27⋅J^8)⋅a2⋅b3⋅b4⋅a5
+2⋅i⋅V^3⋅f^3/J^6 + 538⋅i⋅V^5⋅f^3/(81⋅J^8) + 550⋅i⋅V^3⋅f^5/(81⋅J^8)⋅b1⋅a2⋅b2⋅a3⋅a5⋅b5
−2⋅V^4⋅f^2/(3⋅J^6)⋅a1⋅a2⋅a3⋅b3⋅a4⋅b4⋅a6⋅a7
−6⋅i⋅V^3⋅f^3/J^6 - 4⋅i⋅V⋅f^5/(3⋅J^6) - 1240⋅i⋅V^5⋅f^3/(81⋅J^8) - 20⋅i⋅V^3⋅f^5/J^8 - 28⋅i⋅V⋅f^7/(9⋅J^8)⋅a2⋅b2
−20⋅V^4⋅f^2/(9⋅J^6) - 16⋅V^2⋅f^4/(9⋅J^6) - 14⋅V^6⋅f^2/(3⋅J^8) - 328⋅V^4⋅f^4/(27⋅J^8) - 98⋅V^2⋅f^6/(27⋅J^8)⋅a2⋅b2⋅a4⋅b4
+2⋅i⋅V^5⋅f/(3⋅J^6) - 380⋅i⋅V^5⋅f^3/(27⋅J^8) - 1090⋅i⋅V^3⋅f^5/(81⋅J^8)⋅a2⋅b2⋅a3⋅b3⋅b4⋅a6
+4⋅V^4⋅f^2/(3⋅J^6) + 34⋅V^6⋅f^2/(9⋅J^8) + 1556⋅V^4⋅f^4/(81⋅J^8) + 52⋅V^2⋅f^6/(9⋅J^8)⋅a2⋅b2⋅b4⋅a6
−2⋅V^4⋅f^2/(9⋅J^6) + 16⋅V^6⋅f^2/(3⋅J^8) + 638⋅V^4⋅f^4/(81⋅J^8) + 2⋅V^2⋅f^6/J^8⋅b1⋅b2⋅a5⋅a6
−2⋅V^4⋅f^2/J^6 + 2⋅V^4⋅f^4/J^8⋅a1⋅b1⋅b2⋅b4⋅a5⋅b6⋅a7⋅a8
−2⋅V^4⋅f^2/(3⋅J^6) - 10⋅V^6⋅f^2/(27⋅J^8) - 28⋅V^4⋅f^4/(27⋅J^8)⋅a1⋅b1⋅a2⋅b2⋅a4⋅b4⋅a5⋅b5
−2⋅i⋅V^3⋅f^3/(3⋅J^6) + 14⋅i⋅V^5⋅f^3/(27⋅J^8) + 22⋅i⋅V^3⋅f^5/(27⋅J^8)⋅a1⋅b1⋅b2⋅a3⋅b3⋅a4
+10⋅V^4⋅f^2/(9⋅J^6) - 2⋅V^6⋅f^2/(3⋅J^8) + 200⋅V^4⋅f^4/(81⋅J^8)⋅b1⋅a3⋅a5⋅b5
+2⋅V^4⋅f^2/J^6 + 8⋅V^6⋅f^2/(27⋅J^8) + 190⋅V^4⋅f^4/(27⋅J^8)⋅a1⋅b1⋅a2⋅b2⋅b3⋅a4⋅b4⋅a5
+4⋅i⋅V^5⋅f/(9⋅J^6) - 8⋅i⋅V^3⋅f^3/(9⋅J^6) - 22⋅i⋅V^5⋅f^3/(81⋅J^8) - 14⋅i⋅V^3⋅f^5/(27⋅J^8)⋅b1⋅a3⋅b3⋅a4⋅b4⋅a5
−2⋅V^4⋅f^2/(3⋅J^6) - 2⋅V^2⋅f^4/(9⋅J^6) + 2⋅V^4⋅f^4/(81⋅J^8)⋅a2⋅b4⋅a5⋅b5
−2⋅i⋅V^5⋅f/(9⋅J^6) + 82⋅i⋅V^5⋅f^3/(81⋅J^8) + 20⋅i⋅V^3⋅f^5/(9⋅J^8)⋅a2⋅a3⋅a5⋅b5⋅a6⋅a7
−4⋅V^4⋅f^2/(9⋅J^6) - 2⋅V^2⋅f^4/(3⋅J^6) + 8⋅V^6⋅f^2/(9⋅J^8) + 110⋅V^4⋅f^4/(27⋅J^8) + 2⋅V^2⋅f^6/J^8⋅b2⋅b3⋅a5⋅a6
+2⋅V^4⋅f^2/J^6⋅a1⋅a2⋅a3⋅b3⋅a4⋅b5⋅a6⋅a8
+2⋅V^4⋅f^2/J^6 - 22⋅V^4⋅f^4/(27⋅J^8) - 4⋅V^2⋅f^6/(3⋅J^8)⋅a1⋅b2⋅b3⋅a6
+2⋅i⋅V^3⋅f^3/J^6 + 8⋅i⋅V^5⋅f^3/(9⋅J^8) + 170⋅i⋅V^3⋅f^5/(27⋅J^8)⋅a1⋅a2⋅a3⋅b3⋅a4⋅a5
−2⋅V^4⋅f^2/J^6 - 4⋅V^4⋅f^4/(3⋅J^8)⋅b1⋅a2⋅b2⋅a3⋅b3⋅a4⋅b4⋅a7
−2⋅V^4⋅f^2/(3⋅J^6) + 110⋅V^6⋅f^2/(81⋅J^8) + 50⋅V^4⋅f^4/(27⋅J^8)⋅b1⋅a2⋅b2⋅a3⋅a5⋅b5⋅a6⋅b6
−2⋅V^4⋅f^2/J^6 - 2⋅V^2⋅f^4/J^6 - 4⋅V^6⋅f^2/(27⋅J^8) - 122⋅V^4⋅f^4/(27⋅J^8) + 2⋅V^2⋅f^6/J^8⋅a1⋅a2⋅a3⋅a6
−4⋅i⋅V^5⋅f/(3⋅J^6) - 356⋅i⋅V^5⋅f^3/(81⋅J^8) - 4⋅i⋅V^3⋅f^5/(3⋅J^8)⋅a3⋅b3⋅b4⋅b5⋅a6⋅a7
−16⋅i⋅V^3⋅f^3/(9⋅J^6) - 64⋅i⋅V^5⋅f^3/(81⋅J^8) - 22⋅i⋅V^3⋅f^5/(27⋅J^8)⋅a2⋅b2⋅a4⋅b4⋅a5⋅b5
−8⋅i⋅V^5⋅f/(9⋅J^6) + 28⋅i⋅V^3⋅f^3/(9⋅J^6) + 388⋅i⋅V^5⋅f^3/(81⋅J^8) + 56⋅i⋅V^3⋅f^5/(9⋅J^8)⋅a2⋅b2⋅b3⋅a4⋅b4⋅a5
+2⋅i⋅V^5⋅f/J^6 + 2⋅i⋅V^5⋅f^3/J^8⋅b1⋅a2⋅b2⋅a3⋅b3⋅a4⋅b4⋅b6⋅a7⋅a8
+4⋅i⋅V^5⋅f/(3⋅J^6) + 274⋅i⋅V^5⋅f^3/(81⋅J^8)⋅a4⋅b4⋅a5⋅b5⋅a6⋅b6
−10⋅V^4⋅f^2/(3⋅J^6) - 2⋅V^2⋅f^4/(3⋅J^6) - 46⋅V^6⋅f^2/(9⋅J^8) - 530⋅V^4⋅f^4/(27⋅J^8) - 44⋅V^2⋅f^6/(9⋅J^8)⋅a1⋅b1⋅a2⋅b2
+4⋅V^4⋅f^2/(3⋅J^6) - 152⋅V^6⋅f^2/(81⋅J^8) - 86⋅V^4⋅f^4/(27⋅J^8)⋅b1⋅a2⋅b2⋅a3⋅b4⋅b5⋅a6⋅a7
−8⋅V^4⋅f^2/(9⋅J^6) - 8⋅V^6⋅f^2/(27⋅J^8) - 128⋅V^4⋅f^4/(81⋅J^8)⋅a2⋅b2⋅a5⋅b5
−2⋅i⋅V^3⋅f^3/(3⋅J^6) - 176⋅i⋅V^5⋅f^3/(27⋅J^8) - 140⋅i⋅V^3⋅f^5/(27⋅J^8)⋅b2⋅b3⋅a4⋅b4⋅a5⋅a6
−2⋅V^4⋅f^2/J^6 - 2⋅V^6⋅f^2/(3⋅J^8) + 68⋅V^4⋅f^4/(81⋅J^8)⋅b1⋅b2⋅a3⋅a4⋅b4⋅a5⋅b5⋅a6
−4⋅i⋅V^5⋅f/(3⋅J^6) - 10⋅i⋅V^5⋅f^3/(81⋅J^8) + 164⋅i⋅V^3⋅f^5/(81⋅J^8)⋅a2⋅b2⋅a3⋅a4⋅b4⋅b5
−2⋅V^4⋅f^2/(9⋅J^6) - 4⋅V^2⋅f^4/(3⋅J^6) + 38⋅V^6⋅f^2/(27⋅J^8) + 442⋅V^4⋅f^4/(81⋅J^8) + 14⋅V^2⋅f^6/(27⋅J^8)⋅b2⋅b3⋅a4⋅a5
−6⋅i⋅V^3⋅f^3/J^6 - 2⋅i⋅V⋅f^5/(3⋅J^6) - 1094⋅i⋅V^5⋅f^3/(81⋅J^8) - 1100⋅i⋅V^3⋅f^5/(81⋅J^8) - 2⋅i⋅V⋅f^7/J^8⋅a4⋅b4
+2⋅i⋅V^5⋅f/(9⋅J^6) - 230⋅i⋅V^5⋅f^3/(81⋅J^8) - 20⋅i⋅V^3⋅f^5/(9⋅J^8)⋅b1⋅b2⋅a5⋅b5⋅a6⋅a7
+2⋅i⋅V^5⋅f/(9⋅J^6) - 52⋅i⋅V^5⋅f^3/(81⋅J^8) - 4⋅i⋅V^3⋅f^5/(3⋅J^8)⋅b2⋅b3⋅a5⋅b5⋅a6⋅a7
−2⋅i⋅V^3⋅f^3/J^6 - 10⋅i⋅V^5⋅f^3/(3⋅J^8) + 4⋅i⋅V^3⋅f^5/(3⋅J^8)⋅b1⋅b2⋅a3⋅b4⋅a5⋅a7
+2⋅i⋅V^5⋅f/J^6 + 4⋅i⋅V^7⋅f/(3⋅J^8) - 4⋅i⋅V^5⋅f^3/(3⋅J^8)⋅b1⋅b2⋅a3⋅b3⋅a4⋅b5⋅a6⋅b7⋅a8⋅a9
−8⋅i⋅V^3⋅f^3/(9⋅J^6) - 34⋅i⋅V^5⋅f^3/(9⋅J^8) - 10⋅i⋅V^3⋅f^5/(9⋅J^8)⋅a1⋅b2⋅a3⋅b3⋅a4⋅b5
−2⋅i⋅V^5⋅f/J^6 - 22⋅i⋅V^3⋅f^3/(9⋅J^6) - 52⋅i⋅V^5⋅f^3/(81⋅J^8) - 88⋅i⋅V^3⋅f^5/(81⋅J^8)⋅b1⋅a2⋅b3⋅a4⋅b4⋅a6
+2⋅V^4⋅f^2/J^6 + 4⋅V^6⋅f^2/(3⋅J^8) + 2⋅V^4⋅f^4/(3⋅J^8)⋅b3⋅b5⋅a6⋅a8
+10⋅V^4⋅f^2/(9⋅J^6) + 4⋅V^2⋅f^4/(3⋅J^6) + 8⋅V^6⋅f^2/(9⋅J^8) - 8⋅V^4⋅f^4/(27⋅J^8)⋅b2⋅a4⋅a5⋅b5
−4⋅i⋅V^5⋅f/(3⋅J^6) - 8⋅i⋅V^3⋅f^3/(3⋅J^6) - 56⋅i⋅V^5⋅f^3/(81⋅J^8) - 8⋅i⋅V^3⋅f^5/(81⋅J^8)⋅b1⋅b2⋅a3⋅a4⋅b4⋅a6
−4⋅i⋅V^5⋅f/(3⋅J^6) - 4⋅i⋅V^3⋅f^3/J^6 - 52⋅i⋅V^5⋅f^3/(9⋅J^8) - 62⋅i⋅V^3⋅f^5/(27⋅J^8)⋅b1⋅b2⋅a3⋅b3⋅a4⋅a5
−8⋅i⋅V^3⋅f^3/(3⋅J^6) - 2⋅i⋅V⋅f^5/J^6 - 292⋅i⋅V^5⋅f^3/(27⋅J^8) - 18⋅i⋅V^3⋅f^5/J^8 - 2⋅i⋅V⋅f^7/J^8⋅a1⋅b1
+2⋅i⋅V^3⋅f^3/J^6 - 2⋅i⋅V^3⋅f^5/J^8⋅a1⋅a2⋅a3⋅b4⋅a5⋅a7
+2⋅V^2⋅f^4/J^6 + 4⋅V^6⋅f^2/(9⋅J^8) + 28⋅V^4⋅f^4/(81⋅J^8)⋅b2⋅a3⋅b3⋅a6
−4⋅V^4⋅f^2/(3⋅J^6) + 2⋅V^2⋅f^4/(3⋅J^6) - 76⋅V^6⋅f^2/(27⋅J^8) - 8⋅V^4⋅f^4/(27⋅J^8) - 2⋅V^2⋅f^6/(9⋅J^8)⋅a1⋅a2⋅a3⋅a4
+10⋅i⋅V^3⋅f^3/(9⋅J^6) - 10⋅i⋅V^5⋅f^3/(9⋅J^8) + 22⋅i⋅V^3⋅f^5/(27⋅J^8)⋅a1⋅b1⋅a2⋅b3⋅a4⋅b5
−16⋅V^4⋅f^2/(9⋅J^6) - 100⋅V^6⋅f^2/(27⋅J^8) - 62⋅V^4⋅f^4/(27⋅J^8)⋅a3⋅b3⋅a5⋅b5
+4⋅V^4⋅f^2/(9⋅J^6) - 14⋅V^6⋅f^2/(9⋅J^8) - 2⋅V^4⋅f^4/(3⋅J^8)⋅a1⋅a2⋅b2⋅a3⋅b3⋅a4⋅a5⋅a6
−2⋅i⋅V^3⋅f^3/(3⋅J^6) - 8⋅i⋅V^5⋅f^3/(9⋅J^8) + 2⋅i⋅V^3⋅f^5/(27⋅J^8)⋅a1⋅b1⋅a4⋅b4⋅a5⋅b5
+2⋅V^4⋅f^2/J^6 - 2⋅V^4⋅f^4/J^8⋅a1⋅a2⋅a3⋅b4⋅a5⋅b6⋅a7⋅a8
−8⋅V^2⋅f^4/(9⋅J^6) + 22⋅V^6⋅f^2/(81⋅J^8) - 4⋅V^4⋅f^4/(81⋅J^8) + 2⋅V^2⋅f^6/(3⋅J^8)⋅b1⋅a2⋅a4⋅b5
+8⋅i⋅V^5⋅f/(9⋅J^6) + 8⋅i⋅V^3⋅f^3/(9⋅J^6) + 64⋅i⋅V^5⋅f^3/(27⋅J^8)⋅a3⋅b5
−4⋅V^4⋅f^2/(3⋅J^6) + 8⋅V^4⋅f^4/(9⋅J^8)⋅b1⋅a2⋅b2⋅a3⋅b3⋅a5⋅b5⋅a7
+4⋅V^4⋅f^2/(3⋅J^6) - 2⋅V^6⋅f^2/(27⋅J^8) - 58⋅V^4⋅f^4/(81⋅J^8)⋅b1⋅b2⋅a3⋅b3⋅b4⋅b5⋅a6⋅b6
−4⋅i⋅V^3⋅f^3/(9⋅J^6) + 208⋅i⋅V^5⋅f^3/(81⋅J^8) - 10⋅i⋅V^3⋅f^5/(27⋅J^8)⋅b1⋅a3⋅a4⋅b4⋅a5⋅b5
−2⋅V^4⋅f^2/(3⋅J^6) + 86⋅V^6⋅f^2/(81⋅J^8) + 682⋅V^4⋅f^4/(81⋅J^8)⋅b1⋅a2⋅b2⋅a3⋅a4⋅b4⋅a5⋅b5
+4⋅i⋅V^5⋅f/(9⋅J^6) + 4⋅i⋅V^3⋅f^3/(9⋅J^6) - 232⋅i⋅V^5⋅f^3/(81⋅J^8) - 206⋅i⋅V^3⋅f^5/(81⋅J^8)⋅b1⋅a2⋅b2⋅a4⋅b4⋅a5
−2⋅V^4⋅f^2/(3⋅J^6) + 4⋅V^6⋅f^2/(27⋅J^8) + 8⋅V^4⋅f^4/(9⋅J^8)⋅a1⋅a2⋅a3⋅a4⋅a5⋅b5⋅a6⋅b6
+2⋅i⋅V^3⋅f^3/J^6 + 62⋅i⋅V^5⋅f^3/(27⋅J^8) + 22⋅i⋅V^3⋅f^5/(9⋅J^8)⋅b1⋅a2⋅b2⋅b3⋅a4⋅a6
+2⋅V^4⋅f^2/(3⋅J^6) - 56⋅V^6⋅f^2/(27⋅J^8) - 352⋅V^4⋅f^4/(81⋅J^8)⋅b1⋅b2⋅a3⋅b3⋅a5⋅b5⋅a6⋅a7
−2⋅i⋅V^3⋅f^3/(3⋅J^6) - 46⋅i⋅V^5⋅f^3/(27⋅J^8) + 2⋅i⋅V^3⋅f^5/(3⋅J^8)⋅a1⋅b1⋅b2⋅b3⋅b4⋅b5
+2⋅i⋅V^5⋅f/(3⋅J^6) + 50⋅i⋅V^5⋅f^3/(81⋅J^8) + 4⋅i⋅V^3⋅f^5/(9⋅J^8)⋅b1⋅a3⋅b4⋅b5⋅a6⋅a7
−2⋅i⋅V^5⋅f/J^6 - 338⋅i⋅V^5⋅f^3/(81⋅J^8) - 2⋅i⋅V^3⋅f^5/J^8⋅b3⋅a4⋅b4⋅a5⋅b5⋅a7
−2⋅V^4⋅f^2/(3⋅J^6) - 10⋅V^2⋅f^4/(9⋅J^6) - 92⋅V^6⋅f^2/(27⋅J^8) - 28⋅V^4⋅f^4/(9⋅J^8) - 10⋅V^2⋅f^6/(27⋅J^8)⋅a2⋅a3⋅a4⋅a5
+8⋅i⋅V^3⋅f^3/(3⋅J^6)⋅a1⋅a2⋅a3⋅a4⋅b4⋅a6
−46⋅V^4⋅f^2/(9⋅J^6) - 2⋅V^2⋅f^4/J^6 - 238⋅V^6⋅f^2/(81⋅J^8) - 710⋅V^4⋅f^4/(81⋅J^8) - 22⋅V^2⋅f^6/(9⋅J^8)⋅b3⋅a4⋅b4⋅a5
−2⋅i⋅V^5⋅f/J^6 - 2⋅i⋅V^5⋅f^3/J^8⋅b3⋅a4⋅b4⋅b6⋅a7⋅a8
−2⋅i⋅V^3⋅f^3/(3⋅J^6) - 94⋅i⋅V^5⋅f^3/(27⋅J^8) - 2⋅i⋅V^3⋅f^5/(3⋅J^8)⋅a1⋅a2⋅a3⋅b3⋅b4⋅b5
−2⋅V^4⋅f^2/J^6 - 4⋅V^6⋅f^2/(3⋅J^8) + 4⋅V^4⋅f^4/(3⋅J^8)⋅b1⋅b2⋅a3⋅b3⋅a4⋅a6⋅b6⋅a7
+4⋅i⋅V^3⋅f^3/(9⋅J^6) - 8⋅i⋅V^5⋅f^3/(27⋅J^8) + 4⋅i⋅V^3⋅f^5/(3⋅J^8)⋅b1⋅b3⋅a4⋅b5⋅a6⋅a7
−4⋅i⋅V^3⋅f^3/(3⋅J^6) + 14⋅i⋅V^5⋅f^3/(3⋅J^8) + 148⋅i⋅V^3⋅f^5/(27⋅J^8)⋅a1⋅b1⋅a3⋅b3⋅a4⋅b4
−4⋅V^4⋅f^2/(3⋅J^6) + 8⋅V^4⋅f^4/(9⋅J^8)⋅b1⋅b2⋅a3⋅b3⋅a4⋅a5⋅b5⋅a7
−10⋅i⋅V^5⋅f/(9⋅J^6) - 194⋅i⋅V^5⋅f^3/(81⋅J^8)⋅b1⋅a3⋅a5⋅b5⋅a6⋅b6
−10⋅i⋅V^5⋅f/(9⋅J^6) - 134⋅i⋅V^5⋅f^3/(81⋅J^8)⋅b2⋅a4⋅a5⋅b5⋅a6⋅b6
−10⋅V^4⋅f^2/(9⋅J^6) - 20⋅V^6⋅f^2/(9⋅J^8) - 14⋅V^4⋅f^4/(3⋅J^8) - 2⋅V^2⋅f^6/J^8⋅a3⋅a4⋅a5⋅a6
+2⋅V^4⋅f^2/J^6 + 22⋅V^4⋅f^4/(9⋅J^8)⋅b1⋅a2⋅b2⋅a3⋅b3⋅a4⋅b5⋅a6
−2⋅V^4⋅f^2/(3⋅J^6) - 74⋅V^6⋅f^2/(27⋅J^8) - 584⋅V^4⋅f^4/(81⋅J^8) - 20⋅V^2⋅f^6/(9⋅J^8)⋅b1⋅a3⋅b4⋅a6
−2⋅i⋅V^3⋅f^3/J^6 + 2⋅i⋅V^3⋅f^5/J^8⋅a1⋅b1⋅b2⋅a5⋅b5⋅a6
+8⋅V^4⋅f^2/(9⋅J^6) - 2⋅V^2⋅f^4/(9⋅J^6) + 16⋅V^4⋅f^4/(9⋅J^8) - 2⋅V^2⋅f^6/(9⋅J^8)⋅a1⋅b2⋅a3⋅b4
−16⋅V^4⋅f^2/(9⋅J^6) - 2⋅V^2⋅f^4/(9⋅J^6) - 14⋅V^6⋅f^2/(9⋅J^8) - 10⋅V^4⋅f^4/(9⋅J^8) + 2⋅V^2⋅f^6/(9⋅J^8)⋅a1⋅b1⋅a2⋅b4
−2⋅V^4⋅f^2/J^6 - 10⋅V^6⋅f^2/(3⋅J^8) + 4⋅V^4⋅f^4/(3⋅J^8)⋅b1⋅b2⋅a3⋅b4⋅a5⋅b6⋅a7⋅a8
+8⋅i⋅V^3⋅f^3/(3⋅J^6) - 22⋅i⋅V^5⋅f^3/(27⋅J^8) - 34⋅i⋅V^3⋅f^5/(27⋅J^8)⋅a1⋅b1⋅b2⋅b3⋅a4⋅a5
+4⋅i⋅V^3⋅f^3/(3⋅J^6) + 214⋅i⋅V^5⋅f^3/(81⋅J^8) + 2⋅i⋅V^3⋅f^5/J^8⋅a2⋅a3⋅b3⋅b4⋅a5⋅b5
−2⋅V^4⋅f^2/(9⋅J^6) - 2⋅V^2⋅f^4/(3⋅J^6) - 128⋅V^6⋅f^2/(27⋅J^8) - 1426⋅V^4⋅f^4/(81⋅J^8) - 136⋅V^2⋅f^6/(27⋅J^8)⋅a3⋅b3⋅a4⋅b4
+2⋅V^4⋅f^2/J^6 + 10⋅V^6⋅f^2/(27⋅J^8) + 10⋅V^4⋅f^4/(9⋅J^8)⋅b1⋅a2⋅b2⋅b3⋅a4⋅b5⋅a6⋅a7
+4⋅i⋅V^5⋅f/(3⋅J^6) + 2⋅i⋅V^3⋅f^3/J^6 - 20⋅i⋅V^5⋅f^3/(9⋅J^8) - 8⋅i⋅V^3⋅f^5/(27⋅J^8)⋅a1⋅b1⋅b2⋅a3⋅b4⋅a5
+2⋅i⋅V^3⋅f^3/(3⋅J^6) - 16⋅i⋅V^5⋅f^3/(27⋅J^8) - 4⋅i⋅V^3⋅f^5/(9⋅J^8)⋅a1⋅a2⋅a3⋅a4⋅a5⋅b5
−8⋅i⋅V^5⋅f/(9⋅J^6) + 16⋅i⋅V^3⋅f^3/(9⋅J^6) + 526⋅i⋅V^5⋅f^3/(81⋅J^8) + 278⋅i⋅V^3⋅f^5/(81⋅J^8)⋅b1⋅a2⋅a3⋅b3⋅b4⋅a5
−8⋅V^4⋅f^2/(9⋅J^6) + 2⋅V^6⋅f^2/(3⋅J^8) - 10⋅V^4⋅f^4/(9⋅J^8)⋅a1⋅b2⋅a3⋅b3⋅a4⋅b5⋅a6⋅b6
−2⋅V^4⋅f^2/(3⋅J^6) + 10⋅V^4⋅f^4/(9⋅J^8)⋅b1⋅a2⋅b2⋅a3⋅b3⋅b4⋅b5⋅b6
−4⋅V^2⋅f^4/(9⋅J^6) - 20⋅V^6⋅f^2/(81⋅J^8) - 256⋅V^4⋅f^4/(81⋅J^8) - 4⋅V^2⋅f^6/(3⋅J^8)⋅b1⋅b3⋅a4⋅a6
+2⋅V^4⋅f^2/(3⋅J^6) - 220⋅V^6⋅f^2/(81⋅J^8) - 244⋅V^4⋅f^4/(81⋅J^8)⋅b1⋅b2⋅a3⋅a4⋅a5⋅b5⋅a6⋅b6
−2⋅V^4⋅f^2/(3⋅J^6) + 4⋅V^4⋅f^4/(9⋅J^8)⋅b1⋅b2⋅a3⋅b3⋅a4⋅b4⋅b5⋅b6
−10⋅V^4⋅f^2/(9⋅J^6) - 2⋅V^6⋅f^2/(9⋅J^8) + 10⋅V^4⋅f^4/(27⋅J^8)⋅a1⋅a2⋅b2⋅a3⋅b3⋅b5⋅a6⋅b6
−20⋅V^4⋅f^2/(9⋅J^6) - 4⋅V^2⋅f^4/(9⋅J^6) - 44⋅V^6⋅f^2/(81⋅J^8) + 26⋅V^4⋅f^4/(27⋅J^8) - 4⋅V^2⋅f^6/(27⋅J^8)⋅b1⋅a4⋅b4⋅a5
+2⋅i⋅V^3⋅f^3/J^6⋅a1⋅a2⋅a3⋅b3⋅a4⋅a7
−4⋅V^4⋅f^2/(3⋅J^6) - 20⋅V^6⋅f^2/(27⋅J^8)⋅a1⋅a2⋅a3⋅b3⋅b4⋅b5⋅a6⋅b6
+2⋅V^2⋅f^4/J^6 + 4⋅V^6⋅f^2/(27⋅J^8) - 4⋅V^4⋅f^4/(3⋅J^8)⋅b2⋅b4⋅a5⋅a7
−32⋅V^4⋅f^2/(9⋅J^6) - 32⋅V^2⋅f^4/(9⋅J^6) - 56⋅V^6⋅f^2/(27⋅J^8) - 62⋅V^4⋅f^4/(81⋅J^8) + 58⋅V^2⋅f^6/(27⋅J^8)⋅b1⋅a2⋅b2⋅a5
−4⋅V^4⋅f^2/(3⋅J^6) + 4⋅V^2⋅f^4/(3⋅J^6) - 50⋅V^6⋅f^2/(27⋅J^8) - 194⋅V^4⋅f^4/(27⋅J^8) - 2⋅V^2⋅f^6/(3⋅J^8)⋅b2⋅a4⋅b4⋅a6
−2⋅V^4⋅f^2/(3⋅J^6) - 4⋅V^6⋅f^2/(27⋅J^8) + 26⋅V^4⋅f^4/(9⋅J^8)⋅a1⋅a2⋅a3⋅b3⋅a5⋅b5⋅a6⋅a7
−2⋅V^4⋅f^2/J^6 + 4⋅V^6⋅f^2/(9⋅J^8) + 160⋅V^4⋅f^4/(27⋅J^8)⋅a1⋅b1⋅b2⋅a3⋅b3⋅a4⋅b4⋅a6
−4⋅i⋅V^3⋅f^3/(3⋅J^6) + 218⋅i⋅V^5⋅f^3/(81⋅J^8) + 2⋅i⋅V^3⋅f^5/(3⋅J^8)⋅b1⋅a3⋅b3⋅b4⋅a5⋅a6
+4⋅i⋅V^3⋅f^3/(3⋅J^6) - 152⋅i⋅V^5⋅f^3/(81⋅J^8) - 28⋅i⋅V^3⋅f^5/(9⋅J^8)⋅a2⋅b2⋅b3⋅b4⋅a5⋅a6
+2⋅i⋅V^3⋅f^3/J^6 + 4⋅i⋅V^5⋅f^3/(9⋅J^8) - 2⋅i⋅V^3⋅f^5/J^8⋅a1⋅a2⋅a3⋅a5⋅b5⋅a6
+4⋅i⋅V^3⋅f^3/(9⋅J^6) + 2⋅i⋅V^5⋅f^3/(27⋅J^8) - 50⋅i⋅V^3⋅f^5/(27⋅J^8)⋅a1⋅a2⋅b2⋅a3⋅a4⋅a6
+2⋅i⋅V^3⋅f^3/J^6 + 2⋅i⋅V^5⋅f^3/(9⋅J^8) + 2⋅i⋅V^3⋅f^5/(3⋅J^8)⋅b3⋅a7
−2⋅V^4⋅f^2/J^6 + 2⋅V^2⋅f^4/(3⋅J^6) - 2⋅V^6⋅f^2/(3⋅J^8) - 22⋅V^4⋅f^4/(27⋅J^8) - 4⋅V^2⋅f^6/(9⋅J^8)⋅a1⋅b3⋅a4⋅b4
−2⋅V^4⋅f^2/J^6 + 8⋅V^6⋅f^2/(9⋅J^8) - 292⋅V^4⋅f^4/(81⋅J^8)⋅b3⋅a4⋅b5⋅a6
−2⋅i⋅V^3⋅f^3/J^6 + 10⋅i⋅V^5⋅f^3/(81⋅J^8) + 242⋅i⋅V^3⋅f^5/(81⋅J^8)⋅b2⋅a3⋅b3⋅a4⋅b4⋅a6
+2⋅V^4⋅f^2/J^6 + 22⋅V^2⋅f^4/(9⋅J^6) - 130⋅V^6⋅f^2/(81⋅J^8) - 188⋅V^4⋅f^4/(81⋅J^8) - 2⋅V^2⋅f^6/(3⋅J^8)⋅b1⋅a2⋅b3⋅a6
−4⋅i⋅V^3⋅f^3/(3⋅J^6) + 44⋅i⋅V^5⋅f^3/(9⋅J^8) + 32⋅i⋅V^3⋅f^5/(9⋅J^8)⋅a1⋅a2⋅a3⋅b3⋅a5⋅a6
+2⋅V^4⋅f^2/J^6 - 4⋅V^6⋅f^2/(3⋅J^8) + 4⋅V^4⋅f^4/(3⋅J^8)⋅b3⋅a4⋅b4⋅a7
+2⋅i⋅V^3⋅f^3/J^6 + 56⋅i⋅V^5⋅f^3/(9⋅J^8) + 182⋅i⋅V^3⋅f^5/(27⋅J^8)⋅a1⋅b1⋅b3⋅a4⋅b4⋅a5
−2⋅V^4⋅f^2/J^6 + 8⋅V^6⋅f^2/(9⋅J^8) + 64⋅V^4⋅f^4/(27⋅J^8)⋅a1⋅b1⋅b2⋅a3⋅b3⋅b5⋅a6⋅a7
+2⋅V^4⋅f^2/(3⋅J^6) - 8⋅V^6⋅f^2/(9⋅J^8) + 2⋅V^4⋅f^4/(9⋅J^8)⋅a5⋅b5⋅a6⋅b6
−2⋅V^4⋅f^2/J^6 - 2⋅V^4⋅f^4/(3⋅J^8)⋅b1⋅a2⋅b2⋅a3⋅b3⋅b6⋅a7⋅a8
−8⋅i⋅V^3⋅f^3/(9⋅J^6) + 112⋅i⋅V^5⋅f^3/(27⋅J^8) - 32⋅i⋅V^3⋅f^5/(27⋅J^8)⋅a1⋅b2⋅a3⋅b3⋅b4⋅a5
+2⋅V^4⋅f^2/(3⋅J^6) - 344⋅V^6⋅f^2/(81⋅J^8) - 10⋅V^4⋅f^4/(9⋅J^8)⋅b3⋅b4⋅b5⋅b6
+8⋅i⋅V^5⋅f/(9⋅J^6) + 230⋅i⋅V^5⋅f^3/(81⋅J^8)⋅a2⋅b2⋅a5⋅b5⋅a6⋅b6
+8⋅V^4⋅f^2/(9⋅J^6) + 2⋅V^6⋅f^2/(3⋅J^8) - 4⋅V^4⋅f^4/(9⋅J^8)⋅a3⋅b5⋅a6⋅b6
−2⋅i⋅V^5⋅f/J^6 - 8⋅i⋅V^5⋅f^3/(27⋅J^8) + 4⋅i⋅V^3⋅f^5/(3⋅J^8)⋅a1⋅b2⋅b3⋅b5⋅a6⋅a7
−2⋅V^4⋅f^2/(3⋅J^6) - 196⋅V^6⋅f^2/(81⋅J^8) - 328⋅V^4⋅f^4/(27⋅J^8)⋅b1⋅b2⋅a3⋅b3⋅a4⋅b4⋅a5⋅a6
−4⋅i⋅V^5⋅f/(9⋅J^6) - 4⋅i⋅V^3⋅f^3/(9⋅J^6) + 2⋅i⋅V⋅f^5/J^6 + 22⋅i⋅V^5⋅f^3/(27⋅J^8) - 14⋅i⋅V^3⋅f^5/(9⋅J^8)⋅b2⋅a6
−2⋅i⋅V^3⋅f^3/J^6 - 2⋅i⋅V^3⋅f^5/(3⋅J^8)⋅b2⋅a3⋅b3⋅b5⋅a6⋅a7
+4⋅V^4⋅f^2/(3⋅J^6) - 8⋅V^6⋅f^2/(27⋅J^8) - 158⋅V^4⋅f^4/(27⋅J^8)⋅a1⋅b1⋅a2⋅b2⋅b3⋅b4⋅a5⋅a6
−2⋅i⋅V^5⋅f/(3⋅J^6) - 454⋅i⋅V^5⋅f^3/(81⋅J^8) - 2⋅i⋅V^3⋅f^5/J^8⋅b3⋅b4⋅a5⋅b5⋅a6⋅a7
−4⋅i⋅V^3⋅f^3/(9⋅J^6) + 10⋅i⋅V^5⋅f^3/(9⋅J^8) - 26⋅i⋅V^3⋅f^5/(27⋅J^8)⋅a1⋅b1⋅a2⋅b2⋅b3⋅a5
−2⋅V^4⋅f^2/J^6 - 4⋅V^6⋅f^2/(3⋅J^8) + 4⋅V^4⋅f^4/(3⋅J^8)⋅b1⋅b2⋅a3⋅b3⋅a4⋅b5⋅a6⋅a8
−4⋅i⋅V^3⋅f^3/J^6 - 2⋅i⋅V⋅f^5/J^6 - 1300⋅i⋅V^5⋅f^3/(81⋅J^8) - 1334⋅i⋅V^3⋅f^5/(81⋅J^8) - 8⋅i⋅V⋅f^7/(3⋅J^8)⋅a3⋅b3
−10⋅V^2⋅f^4/(9⋅J^6) + 116⋅V^6⋅f^2/(81⋅J^8) + 220⋅V^4⋅f^4/(81⋅J^8)⋅a2⋅b3⋅a4⋅b5
+4⋅i⋅V^5⋅f/(3⋅J^6) + 10⋅i⋅V^3⋅f^3/(9⋅J^6) + 4⋅i⋅V^5⋅f^3/(27⋅J^8) - 86⋅i⋅V^3⋅f^5/(27⋅J^8)⋅a1⋅b1⋅a2⋅b3⋅b4⋅a5
−2⋅i⋅V^3⋅f^3/J^6 - 16⋅i⋅V^5⋅f^3/(27⋅J^8) + 2⋅i⋅V^3⋅f^5/J^8⋅a1⋅b1⋅b2⋅b5⋅a6⋅a7
+2⋅i⋅V^5⋅f/J^6 - 304⋅i⋅V^5⋅f^3/(81⋅J^8)⋅b1⋅a2⋅b2⋅a3⋅b3⋅a4⋅b4⋅a5⋅b5⋅a7
+4⋅V^4⋅f^2/(3⋅J^6)⋅a1⋅a2⋅a3⋅b3⋅a4⋅a5⋅a6⋅b6
+8⋅V^4⋅f^2/(9⋅J^6) - 4⋅V^2⋅f^4/(9⋅J^6) - 2⋅V^6⋅f^2/(3⋅J^8) + 46⋅V^4⋅f^4/(27⋅J^8) + 4⋅V^2⋅f^6/(27⋅J^8)⋅b1⋅b2⋅a4⋅a5
+2⋅i⋅V^3⋅f^3/J^6 + 4⋅i⋅V⋅f^5/(3⋅J^6) + 442⋅i⋅V^5⋅f^3/(81⋅J^8) + 152⋅i⋅V^3⋅f^5/(27⋅J^8) + 8⋅i⋅V⋅f^7/(9⋅J^8)⋅b1⋅a3
−2⋅V^4⋅f^2/J^6 - 2⋅V^4⋅f^4/(3⋅J^8)⋅b1⋅a2⋅b2⋅a3⋅b3⋅a6⋅b6⋅a7
+2⋅V^2⋅f^4/J^6 - 44⋅V^4⋅f^4/(27⋅J^8)⋅b2⋅a5⋅b5⋅a6
−4⋅V^4⋅f^2/(3⋅J^6) - 2⋅V^6⋅f^2/(9⋅J^8) + 32⋅V^4⋅f^4/(9⋅J^8)⋅b4⋅b5⋅a6⋅a7
+10⋅V^4⋅f^2/(9⋅J^6) + 10⋅V^2⋅f^4/(9⋅J^6) - 62⋅V^6⋅f^2/(27⋅J^8) + 2⋅V^4⋅f^4/(27⋅J^8) + 8⋅V^2⋅f^6/(9⋅J^8)⋅a2⋅b2⋅b3⋅a5
−10⋅V^4⋅f^2/(9⋅J^6) - 2⋅V^6⋅f^2/(9⋅J^8) - 10⋅V^4⋅f^4/(9⋅J^8)⋅a1⋅a2⋅b2⋅a3⋅b3⋅a4⋅b4⋅b5
+4⋅V^4⋅f^2/(9⋅J^6) + 2⋅V^6⋅f^2/(9⋅J^8) - 50⋅V^4⋅f^4/(27⋅J^8)⋅a1⋅a2⋅b2⋅a3⋅a4⋅b5⋅a6⋅a7
−2⋅i⋅V^3⋅f^3/J^6 - 122⋅i⋅V^5⋅f^3/(81⋅J^8) + 4⋅i⋅V^3⋅f^5/(3⋅J^8)⋅b1⋅b2⋅a3⋅a5⋅b5⋅a6
−2⋅i⋅V^3⋅f^3/J^6 - 440⋅i⋅V^5⋅f^3/(81⋅J^8) - 400⋅i⋅V^3⋅f^5/(81⋅J^8)⋅a5⋅b5
+2⋅i⋅V^5⋅f/J^6 + 2⋅i⋅V^5⋅f^3/(3⋅J^8)⋅b1⋅a2⋅b2⋅a3⋅b3⋅b5⋅a6⋅b7⋅a8⋅a9
+2⋅V^4⋅f^2/J^6 + 4⋅V^4⋅f^4/(9⋅J^8)⋅a1⋅a2⋅a3⋅a4⋅b4⋅a5⋅b5⋅a6
−2⋅i⋅V^3⋅f^3/(9⋅J^6) + 94⋅i⋅V^5⋅f^3/(81⋅J^8) + 16⋅i⋅V^3⋅f^5/(27⋅J^8)⋅a2⋅a3⋅a4⋅b4⋅a5⋅a6
−4⋅V^4⋅f^2/J^6 - 22⋅V^2⋅f^4/(9⋅J^6) + 8⋅V^6⋅f^2/(9⋅J^8) - 1088⋅V^4⋅f^4/(81⋅J^8) - 14⋅V^2⋅f^6/(3⋅J^8)⋅b1⋅a2⋅b3⋅a4
−2⋅i⋅V^5⋅f/J^6 - 22⋅i⋅V^3⋅f^3/(9⋅J^6) - 28⋅i⋅V^5⋅f^3/(27⋅J^8)⋅b1⋅a2⋅b3⋅b5⋅a6⋅a7
−2⋅V^4⋅f^2/J^6 + 8⋅V^2⋅f^4/(3⋅J^6) - 4⋅V^6⋅f^2/(27⋅J^8) - 58⋅V^4⋅f^4/(9⋅J^8) + 22⋅V^2⋅f^6/(9⋅J^8)⋅a1⋅b2⋅b3⋅a4
−2⋅i⋅V^5⋅f/J^6 - 2⋅i⋅V^3⋅f^3/J^6 - 146⋅i⋅V^5⋅f^3/(27⋅J^8) + 4⋅i⋅V^3⋅f^5/(3⋅J^8)⋅b1⋅b2⋅a3⋅b5⋅a6⋅a7
−22⋅V^4⋅f^2/(9⋅J^6) + 2⋅V^2⋅f^4/(9⋅J^6) - 4⋅V^6⋅f^2/(3⋅J^8) - 38⋅V^4⋅f^4/(27⋅J^8) + 8⋅V^2⋅f^6/(9⋅J^8)⋅b1⋅b2⋅b3⋅b4
−2⋅i⋅V^5⋅f/J^6 - 4⋅i⋅V^7⋅f/(3⋅J^8) - 2⋅i⋅V^5⋅f^3/(3⋅J^8)⋅b3⋅b5⋅a6⋅b7⋅a8⋅a9
−2⋅i⋅V^3⋅f^3/J^6 + 2⋅i⋅V^5⋅f^3/(9⋅J^8) - 2⋅i⋅V^3⋅f^5/(3⋅J^8)⋅b1⋅a2⋅b2⋅a3⋅b3⋅a7
+14⋅i⋅V^3⋅f^3/(9⋅J^6) - 2⋅i⋅V^5⋅f^3/(9⋅J^8) - 94⋅i⋅V^3⋅f^5/(27⋅J^8)⋅b1⋅a2⋅b2⋅b4⋅a5⋅a6
−4⋅V^4⋅f^2/(3⋅J^6) - 4⋅V^6⋅f^2/(9⋅J^8) + 8⋅V^4⋅f^4/(9⋅J^8)⋅b1⋅b2⋅a3⋅b3⋅a4⋅a5⋅a6⋅b6
+2⋅i⋅V^3⋅f^3/(9⋅J^6) - 374⋅i⋅V^5⋅f^3/(81⋅J^8) - 148⋅i⋅V^3⋅f^5/(27⋅J^8)⋅b1⋅b2⋅a4⋅b4⋅a5⋅a6
+8⋅i⋅V^3⋅f^3/(9⋅J^6) - 20⋅i⋅V^5⋅f^3/(27⋅J^8) - 52⋅i⋅V^3⋅f^5/(27⋅J^8)⋅b1⋅a2⋅a3⋅b4⋅a5⋅b5
+2⋅V^4⋅f^2/(3⋅J^6) + 2⋅V^6⋅f^2/(9⋅J^8) - 4⋅V^4⋅f^4/(9⋅J^8)⋅b1⋅b2⋅a3⋅b3⋅a4⋅b4⋅a6⋅a7
+4⋅i⋅V^3⋅f^3/(3⋅J^6) + 116⋅i⋅V^5⋅f^3/(27⋅J^8) + 40⋅i⋅V^3⋅f^5/(27⋅J^8)⋅a3⋅b3⋅a4⋅b4⋅a5⋅b5
−16⋅V^4⋅f^2/(9⋅J^6) - 16⋅V^2⋅f^4/(9⋅J^6) - 62⋅V^6⋅f^2/(81⋅J^8) - 364⋅V^4⋅f^4/(81⋅J^8) - 16⋅V^2⋅f^6/(81⋅J^8)⋅b1⋅a2⋅b2⋅a3
+2⋅V^4⋅f^2/(3⋅J^6)⋅a1⋅a2⋅a3⋅b3⋅a4⋅b4⋅b5⋅b6
−2⋅V^4⋅f^2/(3⋅J^6) + 52⋅V^6⋅f^2/(81⋅J^8) + 4⋅V^4⋅f^4/(9⋅J^8)⋅b3⋅b4⋅a6⋅a7
−4⋅V^4⋅f^2/(3⋅J^6) + 70⋅V^6⋅f^2/(81⋅J^8) - 188⋅V^4⋅f^4/(81⋅J^8)⋅b1⋅b2⋅a3⋅a4⋅b4⋅b5⋅a6⋅a7
+2⋅i⋅V^3⋅f^3/(3⋅J^6) + 22⋅i⋅V^5⋅f^3/(9⋅J^8) - 2⋅i⋅V^3⋅f^5/(3⋅J^8)⋅a1⋅b1⋅b2⋅b3⋅a5⋅a6
−4⋅i⋅V^3⋅f^3/(3⋅J^6) + 292⋅i⋅V^5⋅f^3/(81⋅J^8) + 20⋅i⋅V^3⋅f^5/(9⋅J^8)⋅b1⋅b2⋅b3⋅b4⋅a5⋅b5
−4⋅i⋅V^3⋅f^3/(3⋅J^6) + 10⋅i⋅V^5⋅f^3/(3⋅J^8) + 4⋅i⋅V^3⋅f^5/J^8⋅a1⋅b1⋅b2⋅a4⋅b4⋅a6
+2⋅V^4⋅f^2/J^6 + 4⋅V^6⋅f^2/(9⋅J^8) + 2⋅V^4⋅f^4/(3⋅J^8)⋅b3⋅a6⋅b6⋅a7
+26⋅i⋅V^3⋅f^3/(9⋅J^6) + 196⋅i⋅V^5⋅f^3/(81⋅J^8) + 98⋅i⋅V^3⋅f^5/(81⋅J^8)⋅b1⋅a2⋅b2⋅a3⋅a4⋅b4
−2⋅V^4⋅f^2/J^6 - 2⋅V^4⋅f^4/(3⋅J^8)⋅b1⋅a2⋅b2⋅a3⋅b3⋅b5⋅a6⋅a8
−2⋅V^4⋅f^2/J^6 - 2⋅V^2⋅f^4/(3⋅J^6) - 58⋅V^6⋅f^2/(27⋅J^8) - 104⋅V^4⋅f^4/(9⋅J^8) - 4⋅V^2⋅f^6/J^8⋅a1⋅b1⋅a3⋅b3
+14⋅V^4⋅f^2/(9⋅J^6) - 10⋅V^2⋅f^4/(9⋅J^6) + 208⋅V^6⋅f^2/(81⋅J^8) + 364⋅V^4⋅f^4/(81⋅J^8) - 8⋅V^2⋅f^6/(9⋅J^8)⋅b2⋅a3⋅b3⋅a4
−4⋅i⋅V^5⋅f/(3⋅J^6) - 182⋅i⋅V^5⋅f^3/(81⋅J^8) + 4⋅i⋅V^3⋅f^5/(9⋅J^8)⋅a2⋅b2⋅b4⋅b5⋅a6⋅a7
−2⋅i⋅V^3⋅f^4/J^7⋅b2⋅a3⋅b3⋅a4⋅b4⋅a7
−16⋅i⋅V^5⋅f^2/(9⋅J^7) - 8⋅i⋅V^3⋅f^4/(9⋅J^7)⋅b1⋅a2⋅a3⋅b5⋅a6⋅b6
−2⋅V^4⋅f^3/(3⋅J^7)⋅b1⋅a3⋅b4⋅a7
−14⋅V^4⋅f^3/(9⋅J^7) + 4⋅V^2⋅f^5/(3⋅J^7)⋅a1⋅a3⋅b3⋅b4
−4⋅i⋅V^5⋅f^2/(3⋅J^7)⋅b1⋅b2⋅a5⋅b5⋅a6⋅a8
−4⋅i⋅V^5⋅f^2/(3⋅J^7) - 4⋅i⋅V^3⋅f^4/(3⋅J^7)⋅b1⋅a2⋅b3⋅a5⋅a6⋅b6
+2⋅V^4⋅f^3/J^7⋅a1⋅b1⋅b2⋅a3⋅b3⋅a4⋅b5⋅a6
+16⋅i⋅V^5⋅f^2/(27⋅J^7)⋅a2⋅b3⋅a5⋅b5⋅a6⋅b6
+4⋅V^6⋅f/(9⋅J^7) - 8⋅V^4⋅f^3/(9⋅J^7)⋅b1⋅a3⋅b3⋅a4⋅b4⋅b5⋅a6⋅a7
−2⋅i⋅V^5⋅f^2/J^7⋅a1⋅b1⋅a2⋅a3⋅a4⋅b4⋅a5⋅b6⋅a7⋅a8
−4⋅V^6⋅f/(3⋅J^7)⋅a3⋅b3⋅b4⋅b5⋅a6⋅b7⋅a8⋅a9
−8⋅V^4⋅f^3/(9⋅J^7)⋅a1⋅b1⋅a2⋅b2⋅a4⋅b5⋅a6⋅b6
−4⋅i⋅V^5⋅f^2/(3⋅J^7)⋅b1⋅b2⋅a3⋅a5⋅a6⋅b6
−4⋅i⋅V^5⋅f^2/(3⋅J^7)⋅b1⋅b2⋅a5⋅a6⋅b6⋅a7
+2⋅V^6⋅f/J^7⋅b5⋅a6⋅b6⋅a8
+8⋅i⋅V^5⋅f^2/(9⋅J^7) + 4⋅i⋅V^3⋅f^4/(3⋅J^7)⋅b1⋅a2⋅a3⋅a4⋅b4⋅b5
−2⋅i⋅V^5⋅f^2/(9⋅J^7)⋅a2⋅a4⋅a5⋅b5⋅a6⋅a7
−2⋅i⋅V^5⋅f^2/J^7⋅b1⋅a2⋅b2⋅a3⋅b3⋅a4⋅b4⋅a5⋅b6⋅a7
−2⋅i⋅V^5⋅f^2/J^7⋅a1⋅b2⋅b3⋅a6⋅b6⋅a7
−2⋅i⋅V^5⋅f^2/J^7⋅b1⋅b2⋅a3⋅a6⋅b6⋅a7
−4⋅i⋅V^3⋅f^4/(3⋅J^7)⋅b1⋅b2⋅a4⋅b4⋅a5⋅a7
−8⋅i⋅V^5⋅f^2/(9⋅J^7)⋅a1⋅b2⋅a3⋅b5⋅a6⋅b6
−8⋅V^6⋅f/(9⋅J^7)⋅b1⋅a2⋅a3⋅b3⋅b4⋅b5⋅a6⋅a7
−4⋅i⋅V^5⋅f^2/(3⋅J^7)⋅a2⋅b2⋅b4⋅a6⋅b6⋅a7
+10⋅i⋅V^5⋅f^2/(9⋅J^7)⋅a1⋅b3⋅a4⋅b5⋅a6⋅b6
−4⋅V^4⋅f^3/(3⋅J^7)⋅a1⋅b1⋅a2⋅b3⋅a4⋅b4⋅a5⋅b5
+38⋅i⋅V^5⋅f^2/(9⋅J^7)⋅a1⋅b2⋅b3⋅a4⋅b4⋅a5
+8⋅V^4⋅f^3/(9⋅J^7)⋅a3⋅b3⋅b5⋅a6
−4⋅i⋅V^5⋅f^2/(3⋅J^7)⋅a1⋅b1⋅a2⋅b3⋅b4⋅a6
−8⋅V^4⋅f^3/(3⋅J^7)⋅b1⋅a2⋅a3⋅b3⋅a4⋅b4⋅a5⋅b5
+100⋅V^4⋅f^3/(27⋅J^7)⋅b1⋅a2⋅b2⋅a3⋅b3⋅a4⋅a5⋅b5
+8⋅V^4⋅f^3/(3⋅J^7)⋅b1⋅a2⋅b2⋅a3⋅a4⋅b4⋅b5⋅a6
−92⋅V^4⋅f^3/(27⋅J^7) - 4⋅V^2⋅f^5/(3⋅J^7)⋅b2⋅a3⋅a5⋅b5
+2⋅i⋅V^5⋅f^2/(3⋅J^7)⋅b1⋅a3⋅b4⋅a6⋅b6⋅a7
+8⋅i⋅V^5⋅f^2/(3⋅J^7) - 8⋅i⋅V^3⋅f^4/(9⋅J^7)⋅a1⋅a2⋅b2⋅a3⋅b3⋅b4
+2⋅i⋅V^5⋅f^2/(3⋅J^7)⋅b2⋅a4⋅b4⋅b5⋅a6⋅a8
−8⋅V^4⋅f^3/(3⋅J^7)⋅b1⋅a2⋅b3⋅b4⋅a5⋅b5⋅a6⋅a7
−4⋅i⋅V^5⋅f^2/(3⋅J^7)⋅a2⋅b2⋅b4⋅b5⋅a6⋅a8
+4⋅V^4⋅f^3/(9⋅J^7)⋅a2⋅b2⋅b5⋅a6
+4⋅i⋅V^3⋅f^4/(9⋅J^7)⋅a1⋅b1⋅b2⋅b4⋅a5⋅a6
+2⋅i⋅V^5⋅f^2/(3⋅J^7) + 10⋅i⋅V^3⋅f^4/(9⋅J^7)⋅a1⋅b1⋅a3⋅b4⋅a5⋅b5
−10⋅V^4⋅f^3/(9⋅J^7)⋅a1⋅b3⋅a4⋅b5
−8⋅V^4⋅f^3/(3⋅J^7)⋅b1⋅a2⋅b2⋅a3⋅b3⋅a4⋅b5⋅a7
+4⋅i⋅V^5⋅f^2/(3⋅J^7)⋅a3⋅a4⋅a5⋅a6⋅b6⋅a7
+2⋅V^4⋅f^3/J^7 + 2⋅V^2⋅f^5/J^7⋅b1⋅a2⋅b3⋅a7
−4⋅i⋅V^5⋅f^2/(9⋅J^7) + 56⋅i⋅V^3⋅f^4/(9⋅J^7)⋅a1⋅b1⋅a2⋅b2⋅b4⋅a5
+2⋅i⋅V^5⋅f^2/J^7⋅a1⋅a2⋅a5⋅a6⋅b6⋅a7
+2⋅i⋅V^5⋅f^2/(3⋅J^7)⋅b2⋅b3⋅a5⋅a6⋅b6⋅a7
+4⋅i⋅V^5⋅f^2/(3⋅J^7)⋅b1⋅b2⋅b3⋅b4⋅b5⋅a6
−4⋅i⋅V^3⋅f^4/(3⋅J^7)⋅b1⋅b2⋅a4⋅a5⋅b5⋅a6
−8⋅i⋅V^3⋅f^4/(9⋅J^7)⋅a1⋅b1⋅a2⋅b2⋅a4⋅b5
+4⋅i⋅V^5⋅f^2/(3⋅J^7) + 10⋅i⋅V^3⋅f^4/(9⋅J^7)⋅a2⋅a3⋅b3⋅b5⋅a6⋅b6
−2⋅i⋅V^5⋅f^2/J^7 - 2⋅i⋅V^3⋅f^4/J^7⋅b1⋅a2⋅b3⋅b6⋅a7⋅a8
−2⋅V^4⋅f^3/J^7⋅b2⋅a3⋅b3⋅a4⋅b4⋅a5⋅b5⋅a7
+28⋅i⋅V^5⋅f^2/(27⋅J^7) - 4⋅i⋅V^3⋅f^4/(27⋅J^7)⋅a2⋅b5
−8⋅V^4⋅f^3/(9⋅J^7)⋅b1⋅a2⋅a3⋅b3⋅a5⋅b5⋅a6⋅b6
−22⋅i⋅V^5⋅f^2/(9⋅J^7)⋅a3⋅b3⋅b4⋅a5⋅b5⋅a7
−4⋅V^4⋅f^3/(3⋅J^7)⋅b3⋅a4⋅a6⋅b6
+4⋅i⋅V^5⋅f^2/(3⋅J^7)⋅a3⋅a4⋅a5⋅b5⋅a6⋅a8
−2⋅i⋅V^5⋅f^2/J^7⋅b1⋅b2⋅a3⋅b6⋅a7⋅a8
+2⋅V^4⋅f^3/J^7⋅a1⋅a2⋅a4⋅b4⋅a5⋅b6⋅a7⋅a8
+4⋅i⋅V^5⋅f^2/(9⋅J^7)⋅a3⋅b3⋅a4⋅b4⋅b5⋅a6
+2⋅V^4⋅f^3/(9⋅J^7)⋅a1⋅a2⋅b3⋅b5
+14⋅i⋅V^3⋅f^4/(9⋅J^7)⋅a1⋅b1⋅a2⋅a3⋅a4⋅a6
+4⋅i⋅V^3⋅f^4/(3⋅J^7)⋅a1⋅a2⋅b2⋅b3⋅a4⋅b5
−8⋅i⋅V^5⋅f^2/(9⋅J^7)⋅a2⋅b2⋅b4⋅a5⋅b5⋅a7
+2⋅i⋅V^3⋅f^4/J^7⋅b1⋅a2⋅b3⋅a4⋅b5⋅a6
+2⋅i⋅V^5⋅f^2/J^7⋅a1⋅a2⋅a5⋅b5⋅a6⋅a8
+8⋅V^4⋅f^3/(9⋅J^7)⋅a1⋅b1⋅b2⋅b3⋅a4⋅b5⋅a6⋅a7
+4⋅V^6⋅f/(3⋅J^7)⋅a4⋅b4⋅b6⋅a7
−10⋅V^4⋅f^3/(9⋅J^7)⋅b2⋅a4⋅b5⋅a6
−2⋅V^6⋅f/J^7⋅b1⋅b2⋅a3⋅b4⋅a5⋅b5⋅a6⋅a7
+2⋅i⋅V^5⋅f^2/(3⋅J^7)⋅b1⋅b2⋅a3⋅a4⋅b5⋅a6
+4⋅V^4⋅f^3/(3⋅J^7)⋅a1⋅a2⋅b2⋅b3⋅a4⋅b5⋅a6⋅b6
−8⋅V^4⋅f^3/(9⋅J^7)⋅a2⋅b2⋅b3⋅a4⋅b4⋅a5⋅b5⋅a6
−4⋅i⋅V^5⋅f^2/(3⋅J^7) - 4⋅i⋅V^3⋅f^4/(3⋅J^7)⋅b1⋅a2⋅b3⋅a5⋅b5⋅a7
−4⋅i⋅V^5⋅f^2/(3⋅J^7)⋅a1⋅b2⋅b3⋅a5⋅b5⋅a7
+2⋅V^6⋅f/(3⋅J^7)⋅a1⋅a2⋅b2⋅a3⋅a5⋅b5⋅a6⋅a7
−8⋅i⋅V^5⋅f^2/(3⋅J^7) - 22⋅i⋅V^3⋅f^4/(9⋅J^7)⋅b1⋅a2⋅a3⋅b3⋅b4⋅a6
−4⋅i⋅V^5⋅f^2/(3⋅J^7)⋅b1⋅b2⋅a3⋅a5⋅b5⋅a7
−16⋅i⋅V^5⋅f^2/(27⋅J^7)⋅a2⋅b3⋅b4⋅b5⋅a6⋅a7
−10⋅V^4⋅f^3/(3⋅J^7) - 2⋅V^2⋅f^5/J^7⋅a1⋅a2⋅a4⋅a6
+2⋅i⋅V^5⋅f^2/(3⋅J^7)⋅a1⋅b2⋅b3⋅b4⋅a6⋅a7
+2⋅i⋅V^5⋅f^2/J^7 + 2⋅i⋅V^3⋅f^4/J^7⋅b1⋅a2⋅b4⋅a5⋅b5⋅a6
+8⋅i⋅V^5⋅f^2/(9⋅J^7)⋅a1⋅b2⋅a3⋅b3⋅a5⋅b5
−2⋅i⋅V^3⋅f^4/J^7⋅b2⋅b3⋅a4⋅b4⋅a5⋅a7
−2⋅V^4⋅f^3/J^7⋅b1⋅b2⋅a3⋅b3⋅a4⋅b4⋅a5⋅a7
+4⋅i⋅V^3⋅f^4/(3⋅J^7)⋅a2⋅a3⋅a4⋅b4⋅a5⋅a7
−16⋅V^4⋅f^3/(3⋅J^7) - 4⋅V^2⋅f^5/J^7⋅a1⋅b1⋅b4⋅a5
+2⋅V^6⋅f/(3⋅J^7)⋅b1⋅b2⋅a3⋅b3⋅b4⋅a5⋅a6⋅a7
+20⋅i⋅V^3⋅f^4/(9⋅J^7)⋅a1⋅b1⋅a2⋅a3⋅b3⋅b5
+4⋅V^4⋅f^3/J^7 + 14⋅V^2⋅f^5/(9⋅J^7)⋅a1⋅b1⋅a3⋅b4
−14⋅i⋅V^5⋅f^2/(9⋅J^7)⋅a1⋅b2⋅a5⋅b5⋅a6⋅b6
+2⋅i⋅V^5⋅f^2/J^7⋅a1⋅b1⋅b2⋅a3⋅b3⋅a4⋅b4⋅b6⋅a7⋅a8
+4⋅V^6⋅f/(3⋅J^7)⋅a1⋅b1⋅a2⋅b3⋅b4⋅b5⋅a6⋅a7
+16⋅V^4⋅f^3/(3⋅J^7) + 50⋅V^2⋅f^5/(9⋅J^7)⋅a2⋅b2⋅b3⋅a6
+4⋅i⋅V^5⋅f^2/(3⋅J^7) + 2⋅i⋅V^3⋅f^4/(9⋅J^7)⋅a1⋅a2⋅b2⋅b3⋅b4⋅a5
+4⋅V^4⋅f^3/(3⋅J^7)⋅a1⋅b1⋅a2⋅b2⋅a3⋅b4⋅a5⋅b5
+2⋅V^6⋅f/(3⋅J^7)⋅a2⋅b2⋅a3⋅b3⋅b4⋅a5⋅b5⋅a7
−4⋅V^4⋅f^3/(3⋅J^7)⋅a1⋅b2⋅a3⋅b3⋅a4⋅b4⋅a5⋅b5
−20⋅V^4⋅f^3/(3⋅J^7)⋅a1⋅b1⋅a2⋅b2⋅b3⋅a4⋅b4⋅a6
+2⋅V^6⋅f/(3⋅J^7)⋅b1⋅b3⋅a4⋅b4⋅a5⋅b5⋅a6⋅a7
+4⋅i⋅V^5⋅f^2/(9⋅J^7) + 26⋅i⋅V^3⋅f^4/(9⋅J^7)⋅a1⋅b1⋅b2⋅a3⋅a4⋅b4
−4⋅V^4⋅f^3/(3⋅J^7)⋅a4⋅b4⋅b5⋅a6
+4⋅i⋅V^5⋅f^2/(3⋅J^7) + 4⋅i⋅V^3⋅f^4/(3⋅J^7)⋅b1⋅a2⋅a3⋅b3⋅a5⋅b5
+10⋅V^4⋅f^3/(9⋅J^7) + 4⋅V^2⋅f^5/(9⋅J^7)⋅a1⋅b2⋅a4⋅b4
−2⋅i⋅V^5⋅f^2/J^7⋅b1⋅a2⋅b2⋅a3⋅b3⋅a4⋅b4⋅a5⋅b5⋅a6
+2⋅V^6⋅f/J^7⋅a1⋅a2⋅a5⋅b5⋅a6⋅b7⋅a8⋅a9
+8⋅V^4⋅f^3/(3⋅J^7)⋅a3⋅b3⋅b4⋅a7
+4⋅V^6⋅f/(3⋅J^7)⋅a2⋅b2⋅a3⋅a4⋅b4⋅a5⋅a6⋅a7
−10⋅V^6⋅f/(9⋅J^7)⋅b1⋅a3⋅b6⋅a7
+4⋅V^4⋅f^3/(3⋅J^7)⋅a1⋅b1⋅b2⋅a3⋅b3⋅b4⋅a5⋅a6
−4⋅V^4⋅f^3/(3⋅J^7)⋅a1⋅a2⋅b2⋅a3⋅b3⋅b4⋅a5⋅b5
−6⋅i⋅V^5⋅f^2/J^7 - 56⋅i⋅V^3⋅f^4/(9⋅J^7)⋅a2⋅b2⋅b3⋅a4⋅b4⋅a6
+2⋅V^4⋅f^3/(3⋅J^7)⋅a1⋅b1⋅a2⋅a3⋅b3⋅a4⋅b4⋅b5
+56⋅i⋅V^5⋅f^2/(27⋅J^7)⋅b2⋅a3⋅a5⋅b5⋅a6⋅b6
−16⋅V^4⋅f^3/(9⋅J^7)⋅b1⋅b2⋅b3⋅a4⋅b4⋅b5⋅a6⋅b6
+2⋅i⋅V^5⋅f^2/J^7⋅b1⋅a2⋅b2⋅a3⋅b3⋅a4⋅b4⋅a5⋅b5⋅a8
−4⋅i⋅V^3⋅f^4/(3⋅J^7)⋅b1⋅a3⋅b3⋅b4⋅a5⋅a7
−4⋅i⋅V^3⋅f^4/(3⋅J^7)⋅a2⋅b2⋅b3⋅b4⋅a5⋅a7
−2⋅V^6⋅f/(3⋅J^7)⋅a2⋅a3⋅a5⋅b5⋅a6⋅b7⋅a8⋅a9
+2⋅i⋅V^5⋅f^2/J^7⋅a1⋅b2⋅b4⋅a5⋅b5⋅a6
+2⋅i⋅V^5⋅f^2/(3⋅J^7)⋅b2⋅b3⋅a5⋅b5⋅a6⋅a8
−4⋅V^4⋅f^3/J^7 - 46⋅V^2⋅f^5/(9⋅J^7)⋅a1⋅b1⋅b3⋅a4
−40⋅i⋅V^5⋅f^2/(9⋅J^7) - 50⋅i⋅V^3⋅f^4/(9⋅J^7)⋅a2⋅b2⋅b3⋅b5⋅a6⋅a7
−2⋅V^6⋅f/J^7 - 4⋅V^4⋅f^3/J^7⋅b1⋅a2⋅b3⋅a4⋅b4⋅a5⋅b5⋅a7
+10⋅V^6⋅f/(9⋅J^7) + 16⋅V^4⋅f^3/(9⋅J^7)⋅b1⋅a2⋅b2⋅b3⋅a5⋅b5⋅a6⋅a7
−4⋅i⋅V^3⋅f^4/(3⋅J^7)⋅a1⋅a3⋅b3⋅b4⋅a5⋅b5
−44⋅i⋅V^5⋅f^2/(27⋅J^7) - 2⋅i⋅V^3⋅f^4/(3⋅J^7)⋅b1⋅a2⋅a5⋅b5⋅a6⋅b6
+4⋅V^4⋅f^3/(3⋅J^7)⋅a1⋅a2⋅b3⋅a4⋅b4⋅b5⋅a6⋅b6
−40⋅i⋅V^5⋅f^2/(9⋅J^7) + 2⋅i⋅V^3⋅f^4/(9⋅J^7) + 2⋅i⋅V⋅f^6/(3⋅J^7)⋅a1⋅b2
−2⋅i⋅V^5⋅f^2/J^7 - 2⋅i⋅V^3⋅f^4/J^7⋅b1⋅a2⋅b3⋅a6⋅b6⋅a7
−4⋅i⋅V^5⋅f^2/(3⋅J^7)⋅a3⋅b3⋅b4⋅a6⋅b6⋅a7
+4⋅i⋅V^3⋅f^4/J^7⋅b1⋅a2⋅b2⋅a3⋅b5⋅a6
−2⋅i⋅V^5⋅f^2/(3⋅J^7)⋅a2⋅a3⋅a5⋅b6⋅a7⋅a8
−8⋅V^4⋅f^3/(3⋅J^7)⋅a3⋅a4⋅a5⋅a7
+2⋅i⋅V^5⋅f^2/(9⋅J^7)⋅b2⋅b4⋅a5⋅b5⋅a6⋅a7
−8⋅i⋅V^5⋅f^2/(9⋅J^7)⋅a2⋅b2⋅a4⋅b5⋅a6⋅b6
+2⋅V^6⋅f/(3⋅J^7)⋅b2⋅a3⋅b3⋅b4⋅a5⋅b5⋅a6⋅a7
+4⋅i⋅V^5⋅f^2/(9⋅J^7)⋅b2⋅a4⋅b4⋅a5⋅a6⋅b6
−4⋅i⋅V^3⋅f^4/J^7⋅b1⋅a2⋅b2⋅a3⋅b4⋅a7
+2⋅V^6⋅f/J^7 + 8⋅V^4⋅f^3/(3⋅J^7)⋅b3⋅a4⋅b5⋅a7
+2⋅i⋅V^5⋅f^2/(9⋅J^7)⋅a1⋅a3⋅a5⋅b5⋅a6⋅a7
−2⋅i⋅V^5⋅f^2/(3⋅J^7)⋅a1⋅b1⋅a2⋅a4⋅a5⋅a6
+8⋅i⋅V^5⋅f^2/(9⋅J^7) + 2⋅i⋅V^3⋅f^4/(9⋅J^7)⋅a1⋅a2⋅a3⋅b4⋅a5⋅a6
−2⋅i⋅V^5⋅f^2/J^7⋅b3⋅a4⋅b4⋅a5⋅b5⋅a8
+4⋅i⋅V^5⋅f^2/(9⋅J^7) - 2⋅i⋅V^3⋅f^4/J^7⋅b2⋅b3⋅a4⋅a5⋅b5⋅a6
−62⋅V^4⋅f^3/(27⋅J^7)⋅a2⋅a4⋅a5⋅a6
−2⋅V^6⋅f/(3⋅J^7)⋅b4⋅a6⋅b6⋅a7
−8⋅i⋅V^5⋅f^2/(3⋅J^7) - 2⋅i⋅V^3⋅f^4/J^7⋅a2⋅a3⋅b3⋅a4⋅a5⋅a6
−8⋅V^4⋅f^3/(9⋅J^7)⋅a1⋅b1⋅a2⋅b2⋅b3⋅a4⋅a5⋅b5
−64⋅V^4⋅f^3/(9⋅J^7)⋅a1⋅b1⋅a2⋅b2⋅b3⋅b5⋅a6⋅a7
+2⋅V^4⋅f^3/(9⋅J^7)⋅a1⋅b2⋅a5⋅b5
−4⋅i⋅V^5⋅f^2/(3⋅J^7) - 4⋅i⋅V^3⋅f^4/(3⋅J^7)⋅a2⋅b2⋅b3⋅a5⋅b5⋅a6
+14⋅V^6⋅f/(9⋅J^7) + 26⋅V^4⋅f^3/(9⋅J^7)⋅b1⋅a2⋅a3⋅a4⋅a5⋅b5⋅a6⋅a7
+2⋅i⋅V^3⋅f^4/J^7⋅a1⋅a2⋅a4⋅b4⋅a5⋅a7
−4⋅V^4⋅f^3/(3⋅J^7)⋅b2⋅a4⋅b4⋅a7
−4⋅i⋅V^5⋅f^2/(9⋅J^7)⋅a2⋅a4⋅b4⋅b5⋅a6⋅b6
+4⋅i⋅V^5⋅f^2/(3⋅J^7)⋅a1⋅b2⋅a3⋅a4⋅b4⋅b5
−8⋅V^4⋅f^3/(9⋅J^7)⋅a2⋅a3⋅b3⋅a4⋅b4⋅b5⋅a6⋅b6
+4⋅V^6⋅f/(3⋅J^7)⋅a1⋅b1⋅b2⋅a3⋅b4⋅b5⋅a6⋅a7
−2⋅i⋅V^5⋅f^2/(3⋅J^7) + 4⋅i⋅V^3⋅f^4/J^7⋅b4⋅a7
−10⋅V^6⋅f/(9⋅J^7)⋅b2⋅b4⋅a6⋅a7
+2⋅i⋅V^5⋅f^2/(3⋅J^7) + 2⋅i⋅V^3⋅f^4/J^7⋅a1⋅a2⋅a4⋅b5⋅a6⋅a7
+2⋅i⋅V^5⋅f^2/J^7⋅a1⋅b1⋅b2⋅a3⋅b3⋅a4⋅b4⋅a5⋅b5⋅a7
−4⋅i⋅V^5⋅f^2/(3⋅J^7)⋅a3⋅a4⋅b4⋅a5⋅b5⋅b6
−4⋅V^4⋅f^3/(3⋅J^7)⋅b1⋅a2⋅b2⋅a3⋅b3⋅a5⋅b5⋅a6
−4⋅i⋅V^5⋅f^2/(3⋅J^7)⋅a2⋅b2⋅b4⋅b6⋅a7⋅a8
−2⋅i⋅V^5⋅f^2/(3⋅J^7)⋅a1⋅a2⋅b4⋅a5⋅b5⋅b6
−14⋅i⋅V^5⋅f^2/(9⋅J^7)⋅a1⋅a2⋅b3⋅b5⋅a6⋅b6
+2⋅i⋅V^5⋅f^2/(3⋅J^7)⋅b1⋅a3⋅b4⋅b5⋅a6⋅a8
+4⋅V^4⋅f^3/(3⋅J^7)⋅b1⋅a2⋅b2⋅a3⋅b3⋅a4⋅a6⋅b6
−4⋅i⋅V^3⋅f^4/(3⋅J^7)⋅a2⋅b3⋅a4⋅b4⋅a5⋅b5
−8⋅i⋅V^5⋅f^2/(9⋅J^7) + 16⋅i⋅V^3⋅f^4/(9⋅J^7)⋅a1⋅a2⋅a3⋅a4⋅b4⋅a5
−16⋅V^4⋅f^3/(9⋅J^7) - 10⋅V^2⋅f^5/(9⋅J^7)⋅a2⋅a3⋅b3⋅b5
+2⋅i⋅V^5⋅f^2/(3⋅J^7) + 2⋅i⋅V^3⋅f^4/(3⋅J^7)⋅b1⋅a2⋅b3⋅b4⋅a6⋅a7
+4⋅i⋅V^5⋅f^2/(3⋅J^7) + 44⋅i⋅V^3⋅f^4/(9⋅J^7)⋅a1⋅b1⋅a2⋅b2⋅b3⋅a4
+4⋅i⋅V^5⋅f^2/(9⋅J^7) - 10⋅i⋅V^3⋅f^4/(9⋅J^7)⋅a2⋅a3⋅b3⋅a4⋅b4⋅b5
+2⋅i⋅V^5⋅f^2/J^7⋅b5⋅a8
+26⋅V^4⋅f^3/(9⋅J^7)⋅b1⋅a2⋅b2⋅b3⋅a4⋅b4⋅a5⋅a6
+2⋅i⋅V^3⋅f^4/J^7⋅a1⋅a2⋅a4⋅a5⋅b5⋅a6
+2⋅i⋅V^5⋅f^2/(3⋅J^7)⋅b1⋅b2⋅a3⋅b4⋅a6⋅a7
+2⋅V^6⋅f/(3⋅J^7)⋅a1⋅b1⋅a2⋅a4⋅a5⋅b5⋅a6⋅a7
+2⋅V^4⋅f^3/(9⋅J^7)⋅a1⋅b1⋅a2⋅a3⋅b3⋅a4⋅a5⋅a6
−8⋅i⋅V^5⋅f^2/(9⋅J^7)⋅a3⋅b3⋅b4⋅a5⋅a6⋅b6
+20⋅V^4⋅f^3/(9⋅J^7)⋅a1⋅b1⋅a2⋅a3⋅b3⋅b5⋅a6⋅b6
−4⋅V^6⋅f/(3⋅J^7)⋅b1⋅b2⋅a5⋅b5⋅a6⋅b7⋅a8⋅a9
−2⋅V^6⋅f/J^7⋅b1⋅b2⋅a3⋅b5⋅a6⋅b7⋅a8⋅a9
−2⋅i⋅V^5⋅f^2/J^7⋅a1⋅b2⋅b3⋅b5⋅a6⋅a8
−8⋅i⋅V^5⋅f^2/(9⋅J^7)⋅a2⋅b2⋅b4⋅a5⋅a6⋅b6
−4⋅i⋅V^5⋅f^2/(3⋅J^7)⋅b1⋅b2⋅a5⋅b6⋅a7⋅a8
−4⋅i⋅V^5⋅f^2/J^7 - 4⋅i⋅V^3⋅f^4/J^7⋅b5⋅a6
+4⋅i⋅V^5⋅f^2/(3⋅J^7)⋅b2⋅b3⋅a5⋅b6⋅a7⋅a8
−4⋅i⋅V^5⋅f^2/(3⋅J^7)⋅a1⋅b2⋅b3⋅a5⋅a6⋅b6
+2⋅i⋅V^5⋅f^2/(3⋅J^7)⋅a1⋅a2⋅b2⋅a3⋅a5⋅a6
+2⋅V^4⋅f^3/(9⋅J^7)⋅a1⋅b1⋅b2⋅a3⋅b3⋅a4⋅b4⋅a5
+4⋅i⋅V^5⋅f^2/(3⋅J^7)⋅b2⋅a4⋅b4⋅b6⋅a7⋅a8
−8⋅i⋅V^3⋅f^4/(9⋅J^7)⋅a1⋅a3⋅a4⋅b4⋅a5⋅a6
+4⋅i⋅V^5⋅f^2/(3⋅J^7) - 8⋅i⋅V^3⋅f^4/(3⋅J^7)⋅a1⋅b1⋅b2⋅a3⋅b4⋅a6
+32⋅V^4⋅f^3/(9⋅J^7) + 4⋅V^2⋅f^5/J^7⋅a1⋅b1⋅b3⋅a6
−2⋅V^4⋅f^3/J^7⋅b1⋅a2⋅b3⋅a4⋅b4⋅b6⋅a7⋅a8
−2⋅i⋅V^5⋅f^2/(3⋅J^7)⋅a2⋅a3⋅a5⋅b5⋅a6⋅a8
−2⋅V^6⋅f/(3⋅J^7)⋅b3⋅a5⋅b6⋅a7
+4⋅V^4⋅f^3/(3⋅J^7) + 2⋅V^2⋅f^5/J^7⋅a1⋅b2⋅a3⋅b3
+8⋅V^4⋅f^3/(3⋅J^7)⋅a1⋅a2⋅b3⋅a4⋅a5⋅b5⋅a6⋅a7
+10⋅i⋅V^5⋅f^2/(9⋅J^7) - 32⋅i⋅V^3⋅f^4/(9⋅J^7)⋅a1⋅b1⋅a2⋅b2⋅a3⋅b4
+8⋅i⋅V^3⋅f^4/(3⋅J^7)⋅a1⋅a2⋅a3⋅b3⋅a4⋅a6
+2⋅V^4⋅f^3/(9⋅J^7)⋅a1⋅b1⋅b2⋅a3⋅a4⋅b4⋅a5⋅b5
−4⋅i⋅V^5⋅f^2/(9⋅J^7)⋅b1⋅b2⋅b4⋅a5⋅a6⋅a7
+2⋅V^4⋅f^3/J^7⋅a1⋅b1⋅a2⋅a3⋅a4⋅a5⋅b5⋅a6
+2⋅i⋅V^5⋅f^2/(9⋅J^7)⋅b2⋅b3⋅b4⋅a5⋅a6⋅a7
−2⋅V^6⋅f/J^7⋅b3⋅a4⋅b4⋅a5⋅b5⋅b7⋅a8⋅a9
+4⋅V^4⋅f^3/J^7⋅b4⋅a5⋅b5⋅a7
+2⋅V^6⋅f/J^7⋅b1⋅a2⋅b2⋅a3⋅b3⋅a4⋅b4⋅a5⋅b5⋅b7⋅a8⋅a9
+20⋅V^4⋅f^3/(9⋅J^7) + 20⋅V^2⋅f^5/(9⋅J^7)⋅a1⋅a3⋅a4⋅a5
+8⋅i⋅V^5⋅f^2/(9⋅J^7)⋅b2⋅a4⋅b4⋅a5⋅b5⋅a7
+2⋅V^6⋅f/(3⋅J^7)⋅b1⋅a3⋅b4⋅b5⋅a6⋅b7⋅a8⋅a9
−2⋅V^4⋅f^3/(9⋅J^7)⋅b1⋅a2⋅b2⋅a4⋅a5⋅b5⋅a6⋅b6
+2⋅i⋅V^5⋅f^2/J^7⋅b1⋅b2⋅a3⋅b3⋅a4⋅b4⋅a5⋅b6⋅a7⋅a8
−14⋅V^6⋅f/(9⋅J^7) - 32⋅V^4⋅f^3/(9⋅J^7)⋅b1⋅b2⋅b3⋅a4⋅a5⋅b5⋅a6⋅a7
−2⋅V^6⋅f/J^7⋅b3⋅b4⋅a5⋅b5⋅a6⋅b7⋅a8⋅a9
−4⋅V^4⋅f^3/(3⋅J^7)⋅a2⋅b2⋅b3⋅b4⋅a5⋅b6⋅a7⋅a8
−2⋅V^4⋅f^3/J^7⋅a1⋅b1⋅b2⋅a3⋅b3⋅a4⋅b4⋅a7
+14⋅i⋅V^5⋅f^2/(3⋅J^7) + 50⋅i⋅V^3⋅f^4/(9⋅J^7)⋅b1⋅a2⋅a3⋅a4⋅a5⋅a6
+4⋅V^4⋅f^3/(3⋅J^7)⋅a2⋅a3⋅a4⋅b4⋅a5⋅b6⋅a7⋅a8
−44⋅i⋅V^5⋅f^2/(27⋅J^7)⋅b2⋅a3⋅b4⋅b5⋅a6⋅a7
−4⋅V^6⋅f/(9⋅J^7)⋅b2⋅a5⋅b5⋅a7
+8⋅V^6⋅f/(9⋅J^7)⋅a3⋅b3⋅b6⋅a7
+68⋅i⋅V^5⋅f^2/(27⋅J^7) + 4⋅i⋅V^3⋅f^4/(3⋅J^7)⋅b1⋅a2⋅b4⋅b5⋅a6⋅a7
+4⋅V^6⋅f/(3⋅J^7)⋅a5⋅b5⋅b6⋅a7
+2⋅i⋅V^5⋅f^2/J^7 - 28⋅i⋅V^3⋅f^4/(9⋅J^7)⋅a1⋅b2⋅a3⋅b3⋅a4⋅b4
−4⋅i⋅V^5⋅f^2/(3⋅J^7)⋅a2⋅b2⋅a3⋅b3⋅b5⋅a6
−4⋅i⋅V^5⋅f^2/(3⋅J^7)⋅b1⋅a2⋅b2⋅a3⋅b3⋅a4⋅b4⋅b5⋅a6⋅a7
−80⋅i⋅V^5⋅f^2/(27⋅J^7)⋅b3⋅a4⋅a5⋅b5⋅a6⋅b6
−32⋅V^4⋅f^3/(9⋅J^7)⋅b1⋅a2⋅b2⋅a4⋅b4⋅a5⋅b5⋅a6
−2⋅i⋅V^5⋅f^2/(9⋅J^7) + 2⋅i⋅V^3⋅f^4/J^7⋅a2⋅a3⋅a4⋅b5⋅a6⋅a7
+8⋅V^6⋅f/(9⋅J^7)⋅a2⋅b2⋅b6⋅a7
+2⋅V^6⋅f/J^7 + 2⋅V^4⋅f^3/J^7⋅b3⋅b4⋅a5⋅a7
+2⋅i⋅V^5⋅f^2/(3⋅J^7)⋅b1⋅a2⋅b2⋅a3⋅b3⋅a4⋅a5⋅b5⋅a6⋅b6
−8⋅V^6⋅f/(9⋅J^7)⋅a3⋅a5⋅a6⋅a7
+26⋅V^4⋅f^3/(9⋅J^7) - 28⋅V^2⋅f^5/(9⋅J^7)⋅a1⋅b1⋅b2⋅a3
−4⋅i⋅V^5⋅f^2/J^7 - 4⋅i⋅V^3⋅f^4/J^7⋅a1⋅b1⋅b3⋅a4⋅b4⋅a6
+40⋅V^4⋅f^3/(9⋅J^7)⋅b1⋅a2⋅a3⋅b3⋅b4⋅a5⋅b5⋅a6
+2⋅i⋅V^5⋅f^2/J^7⋅b3⋅a4⋅b4⋅a5⋅b5⋅a6
−2⋅V^6⋅f/J^7⋅a1⋅b2⋅b3⋅a4⋅b4⋅a5⋅b5⋅a7
+4⋅i⋅V^5⋅f^2/(9⋅J^7) + 4⋅i⋅V^3⋅f^4/(3⋅J^7)⋅a1⋅b1⋅a2⋅b3⋅a4⋅b4
+28⋅V^4⋅f^3/(27⋅J^7) + 4⋅V^2⋅f^5/(3⋅J^7)⋅b1⋅a2⋅b4⋅a6
−8⋅i⋅V^5⋅f^2/(3⋅J^7) - 16⋅i⋅V^3⋅f^4/(9⋅J^7)⋅a1⋅b4
+4⋅V^4⋅f^3/(3⋅J^7)⋅b1⋅a2⋅a4⋅b4⋅a5⋅b5⋅a6⋅b6
−4⋅V^4⋅f^3/J^7⋅b1⋅a2⋅b2⋅a3⋅b4⋅b6⋅a7⋅a8
+14⋅V^4⋅f^3/(9⋅J^7)⋅a1⋅b1⋅a2⋅a3⋅a4⋅b5⋅a6⋅a7
+2⋅i⋅V^5⋅f^2/(9⋅J^7)⋅a2⋅a3⋅b4⋅a5⋅b5⋅b6
+4⋅V^4⋅f^3/(9⋅J^7)⋅a1⋅b3⋅b4⋅a5
+152⋅V^4⋅f^3/(27⋅J^7) + 8⋅V^2⋅f^5/(3⋅J^7)⋅b2⋅a3⋅b4⋅a6
−8⋅V^4⋅f^3/(9⋅J^7)⋅b1⋅a3⋅b3⋅a4⋅b4⋅a5⋅b5⋅a6
−28⋅i⋅V^5⋅f^2/(9⋅J^7)⋅a1⋅b2⋅a3⋅b3⋅b4⋅a6
+2⋅V^4⋅f^3/J^7⋅a1⋅b1⋅a2⋅a3⋅a4⋅b4⋅a5⋅a7
−4⋅V^4⋅f^3/(3⋅J^7)⋅b1⋅a2⋅a6⋅b6
+2⋅V^4⋅f^3/J^7⋅a1⋅b2⋅b3⋅a7
−32⋅i⋅V^5⋅f^2/(9⋅J^7) - 4⋅i⋅V^3⋅f^4/J^7⋅a1⋅b1⋅b3⋅b5⋅a6⋅a7
−2⋅i⋅V^5⋅f^2/J^7⋅b3⋅b4⋅a5⋅b5⋅a6⋅a8
−64⋅i⋅V^3⋅f^4/(9⋅J^7)⋅a1⋅b1⋅a2⋅b2⋅b3⋅a6
+2⋅V^4⋅f^3/(3⋅J^7)⋅a2⋅a3⋅a5⋅a7
+58⋅V^4⋅f^3/(27⋅J^7)⋅a2⋅b3⋅b4⋅a6
−2⋅i⋅V^5⋅f^2/(3⋅J^7)⋅a2⋅a3⋅a5⋅a6⋅b6⋅a7
−4⋅V^4⋅f^3/(3⋅J^7) - 16⋅V^2⋅f^5/(9⋅J^7)⋅a1⋅b1⋅b2⋅a5
+2⋅i⋅V^5⋅f^2/(3⋅J^7) + 10⋅i⋅V^3⋅f^4/(9⋅J^7)⋅b1⋅b3⋅a4⋅b4⋅a5⋅a6
+8⋅V^4⋅f^3/(9⋅J^7)⋅a1⋅b2⋅a3⋅b5
+2⋅i⋅V^5⋅f^2/(3⋅J^7)⋅b2⋅a4⋅b4⋅a6⋅b6⋅a7
+2⋅i⋅V^3⋅f^4/(9⋅J^7)⋅a1⋅b1⋅a3⋅b3⋅a4⋅b5
+2⋅i⋅V^5⋅f^2/J^7 + 10⋅i⋅V^3⋅f^4/(3⋅J^7)⋅a1⋅a2⋅b3⋅a4⋅a5⋅a6
+4⋅V^6⋅f/(9⋅J^7) - 4⋅V^4⋅f^3/(3⋅J^7)⋅b1⋅a2⋅b2⋅a4⋅b4⋅b5⋅a6⋅a7
+2⋅i⋅V^5⋅f^2/(3⋅J^7)⋅a1⋅a2⋅b4⋅a5⋅a6⋅a7
−8⋅i⋅V^5⋅f^2/(3⋅J^7)⋅a3⋅b3⋅b4⋅b6⋅a7⋅a8
+8⋅i⋅V^3⋅f^4/(9⋅J^7)⋅a1⋅b2⋅a4⋅b4⋅a5⋅b5
+20⋅V^4⋅f^3/(9⋅J^7) + 8⋅V^2⋅f^5/(9⋅J^7)⋅b1⋅a2⋅a3⋅b5
+2⋅V^6⋅f/(3⋅J^7)⋅b2⋅b3⋅a5⋅b5⋅a6⋅b7⋅a8⋅a9
−10⋅V^6⋅f/(9⋅J^7)⋅b2⋅a4⋅b6⋅a7
+8⋅V^4⋅f^3/(9⋅J^7)⋅a2⋅b2⋅a4⋅b5
−2⋅i⋅V^5⋅f^2/(3⋅J^7)⋅a1⋅b2⋅b3⋅b4⋅b5⋅b6
+8⋅i⋅V^3⋅f^4/(9⋅J^7)⋅a1⋅b1⋅b2⋅b3⋅a4⋅a6
+4⋅V^4⋅f^3/(3⋅J^7)⋅b1⋅b2⋅a5⋅a7
−2⋅V^4⋅f^3/J^7⋅b1⋅b2⋅a3⋅b3⋅a4⋅a5⋅b5⋅a6
+4⋅i⋅V^5⋅f^2/(3⋅J^7)⋅a5⋅b6
−2⋅i⋅V^5⋅f^2/(3⋅J^7) - 2⋅i⋅V^3⋅f^4/(3⋅J^7)⋅b1⋅a2⋅b3⋅b4⋅b5⋅b6
−4⋅V^4⋅f^3/(3⋅J^7)⋅b1⋅a3⋅b3⋅b4⋅a5⋅b6⋅a7⋅a8
−2⋅i⋅V^5⋅f^2/J^7⋅a1⋅b2⋅b3⋅b6⋅a7⋅a8
+2⋅i⋅V^5⋅f^2/(3⋅J^7) - 4⋅i⋅V^3⋅f^4/(3⋅J^7)⋅b1⋅a3⋅b3⋅a5⋅b5⋅a6
−2⋅i⋅V^5⋅f^2/J^7⋅a1⋅a2⋅b3⋅b4⋅b5⋅a6
−2⋅i⋅V^5⋅f^2/(3⋅J^7)⋅b1⋅b2⋅a3⋅b4⋅b5⋅b6
+8⋅i⋅V^5⋅f^2/(3⋅J^7)⋅a3⋅a4⋅a5⋅b6⋅a7⋅a8
+2⋅i⋅V^3⋅f^4/(3⋅J^7)⋅a1⋅a2⋅b3⋅a4⋅b4⋅b5
+8⋅V^4⋅f^3/(27⋅J^7) - 2⋅V^2⋅f^5/(3⋅J^7)⋅b1⋅a2⋅a5⋅b5
−8⋅V^6⋅f/(9⋅J^7) - 8⋅V^4⋅f^3/(9⋅J^7)⋅a2⋅b2⋅b3⋅a4⋅b4⋅b5⋅a6⋅a7
+2⋅V^4⋅f^3/(9⋅J^7)⋅a1⋅b1⋅a3⋅b3⋅a4⋅b5⋅a6⋅b6
+4⋅i⋅V^5⋅f^2/(9⋅J^7)⋅b1⋅a3⋅b4⋅a5⋅b5⋅a7
−14⋅V^4⋅f^3/(9⋅J^7)⋅b1⋅a3⋅b5⋅a6
−2⋅i⋅V^5⋅f^2/J^7 - 2⋅i⋅V^3⋅f^4/J^7⋅b1⋅a2⋅b3⋅b5⋅a6⋅a8
+4⋅i⋅V^5⋅f^2/(9⋅J^7)⋅b1⋅a3⋅b4⋅a5⋅a6⋅b6
−4⋅i⋅V^5⋅f^2/(3⋅J^7)⋅a3⋅b4⋅a5⋅b5⋅a6⋅b6
−2⋅V^6⋅f/J^7 - 2⋅V^4⋅f^3/J^7⋅b1⋅a2⋅b3⋅b5⋅a6⋅b7⋅a8⋅a9
+2⋅i⋅V^3⋅f^4/J^7⋅b2⋅a3⋅b3⋅a4⋅b5⋅a6
−2⋅V^4⋅f^3/J^7⋅a1⋅a2⋅a5⋅a7
−2⋅i⋅V^5⋅f^2/J^7⋅b1⋅b2⋅a3⋅b5⋅a6⋅a8
+2⋅i⋅V^5⋅f^2/J^7⋅a1⋅a2⋅a5⋅b6⋅a7⋅a8
−8⋅i⋅V^5⋅f^2/(9⋅J^7) - 8⋅i⋅V^3⋅f^4/(9⋅J^7)⋅a2⋅b2⋅b3⋅a4⋅a5⋅b5
−4⋅V^4⋅f^3/(3⋅J^7)⋅b2⋅b3⋅a5⋅a7
−20⋅V^4⋅f^3/(9⋅J^7)⋅a2⋅b3⋅a5⋅b5
−4⋅i⋅V^5⋅f^2/(9⋅J^7) - 4⋅i⋅V^3⋅f^4/(3⋅J^7)⋅a1⋅a2⋅b2⋅a3⋅a4⋅a5
+10⋅i⋅V^5⋅f^2/(9⋅J^7) + 4⋅i⋅V^3⋅f^4/(9⋅J^7)⋅a1⋅a2⋅b2⋅b4⋅a5⋅b5
−2⋅i⋅V^5⋅f^2/J^7⋅b3⋅b4⋅a5⋅b6⋅a7⋅a8
−2⋅i⋅V^5⋅f^2/(9⋅J^7)⋅a2⋅a3⋅b4⋅a5⋅a6⋅a7
+22⋅V^4⋅f^3/(9⋅J^7) - 2⋅V^2⋅f^5/(3⋅J^7)⋅a1⋅b2⋅b3⋅a5
+86⋅i⋅V^5⋅f^2/(27⋅J^7)⋅b3⋅a4⋅b4⋅b5⋅a6⋅a7
−2⋅i⋅V^3⋅f^4/J^7⋅b1⋅a2⋅b3⋅a4⋅b4⋅a7
−8⋅V^4⋅f^3/(9⋅J^7) - 2⋅V^2⋅f^5/(9⋅J^7)⋅a1⋅a2⋅a3⋅a5
+4⋅i⋅V^5⋅f^2/(9⋅J^7)⋅b1⋅b2⋅b4⋅a5⋅b5⋅b6
−4⋅i⋅V^5⋅f^2/(3⋅J^7)⋅b2⋅b3⋅b4⋅a5⋅b5⋅b6
+2⋅i⋅V^5⋅f^2/(3⋅J^7)⋅a2⋅a3⋅b3⋅b4⋅b5⋅a6
+2⋅i⋅V^5⋅f^2/(9⋅J^7) + 26⋅i⋅V^3⋅f^4/(9⋅J^7)⋅a1⋅b1⋅a3⋅b3⋅b4⋅a5
−4⋅V^4⋅f^3/J^7⋅b1⋅a2⋅b2⋅a3⋅b4⋅a5⋅b5⋅a7
+2⋅V^6⋅f/J^7⋅b5⋅b7⋅a8⋅a9
−2⋅i⋅V^5⋅f^2/J^7⋅b3⋅b4⋅a5⋅a6⋅b6⋅a7
+8⋅V^4⋅f^3/(3⋅J^7)⋅b1⋅a2⋅b5⋅a7
+8⋅V^2⋅f^5/(3⋅J^7)⋅a1⋅b1⋅a2⋅b3
−4⋅i⋅V^5⋅f^2/(3⋅J^7)⋅a3⋅b3⋅b4⋅b5⋅a6⋅a8
+4⋅i⋅V^5⋅f^2/(9⋅J^7) - 4⋅i⋅V^3⋅f^4/(9⋅J^7)⋅a1⋅b1⋅b2⋅a4⋅b4⋅a5
+4⋅V^4⋅f^3/(3⋅J^7)⋅b1⋅a2⋅a3⋅a4⋅b4⋅b5⋅a6⋅b6
+2⋅i⋅V^5⋅f^2/J^7 - 26⋅i⋅V^3⋅f^4/(27⋅J^7)⋅b1⋅a2⋅b2⋅a3⋅a4⋅b5
+2⋅i⋅V^5⋅f^2/J^7⋅b3⋅a4⋅b4⋅a5⋅b6⋅a7
+14⋅V^6⋅f/(9⋅J^7)⋅a3⋅b4⋅b5⋅a7
+8⋅i⋅V^5⋅f^2/(3⋅J^7)⋅a1⋅b2⋅b4⋅b5⋅a6⋅a7
+4⋅V^4⋅f^3/(3⋅J^7)⋅a2⋅b2⋅b4⋅a7
+2⋅i⋅V^5⋅f^2/(3⋅J^7)⋅b1⋅a3⋅b4⋅b6⋅a7⋅a8
−2⋅V^6⋅f/J^7⋅b3⋅a4⋅b4⋅a5⋅b5⋅a6⋅b6⋅a8
+46⋅V^4⋅f^3/(27⋅J^7)⋅b1⋅a2⋅b2⋅a3⋅a4⋅b5⋅a6⋅b6
−2⋅V^6⋅f/J^7⋅a1⋅b2⋅b3⋅b5⋅a6⋅b7⋅a8⋅a9
+2⋅V^6⋅f/(3⋅J^7)⋅b2⋅a4⋅b4⋅b5⋅a6⋅b7⋅a8⋅a9
−2⋅V^4⋅f^3/J^7⋅b2⋅a3⋅b3⋅a4⋅b4⋅b6⋅a7⋅a8
−2⋅V^4⋅f^3/J^7⋅b2⋅b3⋅a4⋅b4⋅a5⋅b6⋅a7⋅a8
−8⋅V^4⋅f^3/(9⋅J^7)⋅a1⋅a2⋅b2⋅a3⋅a4⋅b4⋅a5⋅a6
+4⋅V^6⋅f/(3⋅J^7)⋅a3⋅a4⋅a5⋅b5⋅a6⋅b7⋅a8⋅a9
−4⋅V^6⋅f/(3⋅J^7)⋅a2⋅b2⋅b4⋅b5⋅a6⋅b7⋅a8⋅a9
+4⋅i⋅V^5⋅f^2/(9⋅J^7)⋅a3⋅a4⋅b4⋅a5⋅a6⋅a7
+2⋅V^6⋅f/J^7⋅a1⋅b2⋅a3⋅a4⋅a5⋅b5⋅a6⋅a7
+4⋅i⋅V^3⋅f^4/(3⋅J^7)⋅a1⋅b1⋅b2⋅a3⋅a5⋅b5
+2⋅V^6⋅f/J^7⋅b1⋅a2⋅b2⋅a3⋅b3⋅a4⋅b4⋅a5⋅b5⋅a6⋅b6⋅a8
+2⋅V^4⋅f^3/J^7⋅b1⋅b2⋅a3⋅a7
−10⋅V^6⋅f/(9⋅J^7) - 16⋅V^4⋅f^3/(9⋅J^7)⋅a2⋅a3⋅b3⋅a4⋅a5⋅b5⋅a6⋅a7
−4⋅V^6⋅f/(3⋅J^7)⋅b1⋅b2⋅a3⋅a4⋅b4⋅a5⋅b5⋅a7
+4⋅i⋅V^3⋅f^4/(3⋅J^7)⋅a2⋅a3⋅a4⋅a5⋅b5⋅a6
−4⋅V^4⋅f^3/(3⋅J^7)⋅b1⋅b2⋅a4⋅b4⋅a5⋅b6⋅a7⋅a8
−4⋅V^4⋅f^3/(27⋅J^7)⋅a2⋅b5⋅a6⋅b6
+2⋅i⋅V^5⋅f^2/J^7⋅a1⋅b2⋅a3⋅a4⋅a5⋅a6
−8⋅V^4⋅f^3/(9⋅J^7) - 4⋅V^2⋅f^5/(9⋅J^7)⋅a1⋅a2⋅b2⋅b4
+2⋅i⋅V^5⋅f^2/(3⋅J^7) + 26⋅i⋅V^3⋅f^4/(9⋅J^7)⋅a1⋅b1⋅b2⋅a3⋅b3⋅a5
+4⋅V^4⋅f^3/J^7⋅b4⋅b6⋅a7⋅a8
−2⋅V^4⋅f^3/(3⋅J^7) - 2⋅V^2⋅f^5/J^7⋅a2⋅a3⋅a4⋅a6
−2⋅V^4⋅f^3/(9⋅J^7)⋅a1⋅a3⋅a5⋅a6
+22⋅V^4⋅f^3/(9⋅J^7)⋅a1⋅b1⋅a2⋅b2⋅a3⋅b3⋅b4⋅a5
+8⋅V^4⋅f^3/(3⋅J^7)⋅a1⋅a2⋅a3⋅b3⋅a4⋅b5⋅a6⋅a7
+2⋅V^4⋅f^3/(3⋅J^7)⋅b3⋅a5⋅b5⋅a6
−2⋅i⋅V^5⋅f^2/J^7⋅b6⋅a7
−2⋅i⋅V^5⋅f^3/(9⋅J^8) + 2⋅i⋅V^3⋅f^5/J^8⋅a1⋅b1⋅b2⋅a3⋅b5⋅a6
+2⋅i⋅V^7⋅f/(3⋅J^8)⋅b3⋅a5⋅b6⋅b7⋅a8⋅a9
−2⋅V^6⋅f^2/J^8⋅a1⋅a2⋅a7⋅a8
+2⋅i⋅V^5⋅f^3/(9⋅J^8)⋅b1⋅a3⋅b3⋅a4⋅b6⋅a7
+8⋅V^6⋅f^2/(3⋅J^8)⋅a5⋅b5⋅b6⋅a8
−2⋅i⋅V^5⋅f^3/J^8 - 2⋅i⋅V^3⋅f^5/J^8⋅b2⋅a3⋅b4⋅a5⋅b5⋅a7
+8⋅V^6⋅f^2/(9⋅J^8)⋅a3⋅a4⋅b4⋅a5⋅b5⋅a6⋅a7⋅a8
+4⋅V^4⋅f^4/(3⋅J^8)⋅b1⋅a2⋅a5⋅b6
+2⋅V^6⋅f^2/J^8⋅a1⋅a2⋅b5⋅b6
−20⋅V^6⋅f^2/(27⋅J^8) - 2⋅V^4⋅f^4/(9⋅J^8)⋅b2⋅b3⋅a6⋅a7
−2⋅i⋅V^5⋅f^3/J^8⋅a1⋅b2⋅b4⋅b6⋅a7⋅a8
−20⋅V^6⋅f^2/(27⋅J^8) - 16⋅V^4⋅f^4/(27⋅J^8)⋅a2⋅a3⋅a4⋅b4⋅a5⋅b5⋅a6⋅a7
−4⋅i⋅V^5⋅f^3/(9⋅J^8)⋅a1⋅a2⋅b2⋅b3⋅a6⋅b6
−8⋅i⋅V^5⋅f^3/(27⋅J^8)⋅a2⋅a3⋅b3⋅b4⋅a6⋅b6
−4⋅i⋅V^5⋅f^3/(3⋅J^8)⋅a1⋅a2⋅b2⋅b3⋅b5⋅a7
−356⋅i⋅V^5⋅f^3/(81⋅J^8) + 4⋅i⋅V^3⋅f^5/(3⋅J^8)⋅b2⋅a3⋅a4⋅b4⋅b5⋅a6
+2⋅V^4⋅f^4/J^8⋅a1⋅b1⋅b2⋅b3⋅a4⋅b5⋅a6⋅a8
−86⋅i⋅V^5⋅f^3/(27⋅J^8) - 2⋅i⋅V^3⋅f^5/J^8⋅b1⋅a2⋅b4⋅a5⋅b5⋅a7
−58⋅i⋅V^5⋅f^3/(81⋅J^8)⋅b2⋅b3⋅b4⋅b5⋅a6⋅b6
−2⋅i⋅V^7⋅f/(3⋅J^8)⋅b1⋅b3⋅a4⋅b4⋅a5⋅b5⋅a6⋅b7⋅a8⋅a9
+2⋅V^4⋅f^4/(3⋅J^8)⋅a1⋅b2⋅b3⋅b4⋅a5⋅b6⋅a7⋅a8
−8⋅i⋅V^5⋅f^3/(3⋅J^8) + 2⋅i⋅V^3⋅f^5/(9⋅J^8)⋅a2⋅b2⋅b3⋅a4⋅b5⋅a6
+4⋅i⋅V^5⋅f^3/J^8⋅b1⋅a2⋅b2⋅a3⋅b4⋅a5⋅b5⋅a6⋅b6⋅a8
+82⋅i⋅V^5⋅f^3/(27⋅J^8)⋅a3⋅b3⋅a4⋅a5⋅a6⋅a7
+2⋅V^6⋅f^2/J^8⋅b3⋅b4⋅a5⋅a8
+2⋅V^4⋅f^4/J^8⋅b1⋅a2⋅b2⋅a3⋅b3⋅a4⋅b6⋅a7
−14⋅V^6⋅f^2/(3⋅J^8) - 110⋅V^4⋅f^4/(27⋅J^8)⋅a2⋅b2⋅b3⋅a4⋅b4⋅a5⋅b5⋅a7
+2⋅V^4⋅f^4/J^8⋅a1⋅b2⋅b4⋅a7
−68⋅i⋅V^5⋅f^3/(27⋅J^8) - 8⋅i⋅V^3⋅f^5/(9⋅J^8)⋅a2⋅a3⋅b3⋅a4⋅a5⋅a7
+2⋅V^6⋅f^2/(3⋅J^8)⋅a1⋅a2⋅b2⋅a3⋅a5⋅b5⋅a6⋅a8
+4⋅i⋅V^5⋅f^3/(27⋅J^8)⋅a1⋅a2⋅b2⋅a3⋅b3⋅a4⋅a5⋅b5⋅a6⋅a7
+4⋅i⋅V^5⋅f^3/(9⋅J^8)⋅b1⋅a2⋅b2⋅b3⋅b4⋅b6
−14⋅V^4⋅f^4/(3⋅J^8)⋅a1⋅b1⋅b2⋅b3⋅a4⋅b4⋅a5⋅a6
−4⋅V^6⋅f^2/(3⋅J^8)⋅a1⋅b2⋅a3⋅b4⋅a5⋅b5⋅a6⋅b6
−14⋅V^6⋅f^2/(27⋅J^8) + 10⋅V^4⋅f^4/(9⋅J^8)⋅b1⋅a2⋅a3⋅a4⋅b4⋅a5⋅a6⋅a7
+8⋅i⋅V^5⋅f^3/(9⋅J^8)⋅b1⋅a2⋅b2⋅b3⋅b4⋅a5⋅a6⋅b6⋅a7⋅a8
−28⋅i⋅V^5⋅f^3/(27⋅J^8)⋅a2⋅a3⋅b3⋅a5⋅a6⋅a7
−8⋅i⋅V^5⋅f^3/(9⋅J^8)⋅a1⋅b1⋅b2⋅a3⋅b3⋅a4⋅a5⋅b5⋅a6⋅b6
−8⋅i⋅V^7⋅f/(9⋅J^8)⋅a3⋅b3⋅b6⋅b7⋅a8⋅a9
+68⋅i⋅V^5⋅f^3/(27⋅J^8) - 4⋅i⋅V^3⋅f^5/(3⋅J^8)⋅a3⋅b3⋅b4⋅a5⋅b5⋅a6
+4⋅V^4⋅f^4/J^8⋅a1⋅b1⋅b5⋅a7
−8⋅i⋅V^5⋅f^3/(3⋅J^8)⋅a1⋅a2⋅a3⋅b3⋅a4⋅b4⋅a5⋅b5⋅a6⋅a7
−2⋅V^4⋅f^4/(3⋅J^8)⋅a1⋅a2⋅b2⋅a3⋅a4⋅a5⋅b5⋅a6
−8⋅V^6⋅f^2/(9⋅J^8)⋅a3⋅b3⋅a4⋅b4⋅b5⋅b6⋅a7⋅a8
+28⋅V^6⋅f^2/(27⋅J^8) - 14⋅V^4⋅f^4/(9⋅J^8)⋅b1⋅a2⋅b2⋅a4⋅b4⋅a5⋅b5⋅a7
+20⋅i⋅V^5⋅f^3/(3⋅J^8)⋅a1⋅b1⋅a2⋅b2⋅b3⋅a4⋅b4⋅a5⋅b5⋅a7
+314⋅i⋅V^5⋅f^3/(81⋅J^8) + 416⋅i⋅V^3⋅f^5/(81⋅J^8)⋅b1⋅a2⋅b2⋅a3⋅b4⋅a6
−4⋅V^6⋅f^2/(9⋅J^8) + 254⋅V^4⋅f^4/(27⋅J^8)⋅a1⋅b1⋅a2⋅b2⋅a3⋅b3⋅a4⋅b4
−148⋅V^6⋅f^2/(81⋅J^8) - 280⋅V^4⋅f^4/(81⋅J^8)⋅a2⋅b2⋅a3⋅b3⋅b4⋅b5⋅a6⋅a7
+2⋅V^6⋅f^2/(3⋅J^8)⋅b1⋅b2⋅a3⋅b3⋅b4⋅a5⋅a6⋅a8
−16⋅i⋅V^5⋅f^3/(9⋅J^8)⋅b1⋅a2⋅a3⋅b3⋅b4⋅a5⋅b5⋅b6⋅a7⋅a8
+20⋅i⋅V^5⋅f^3/(9⋅J^8) + 2⋅i⋅V^3⋅f^5/J^8⋅a1⋅a2⋅a5⋅b5⋅a6⋅a7
+2⋅i⋅V^5⋅f^3/(3⋅J^8)⋅b1⋅b2⋅a4⋅b4⋅a6⋅a7
+2⋅V^6⋅f^2/(3⋅J^8) + 124⋅V^4⋅f^4/(27⋅J^8)⋅b1⋅a2⋅a3⋅b3⋅a4⋅b4⋅b5⋅a6
−10⋅i⋅V^7⋅f/(9⋅J^8) - 4⋅i⋅V^5⋅f^3/(3⋅J^8)⋅b1⋅a2⋅b2⋅b3⋅a5⋅b5⋅a6⋅b7⋅a8⋅a9
−8⋅i⋅V^5⋅f^3/(9⋅J^8)⋅b1⋅a2⋅a3⋅a4⋅b4⋅a5⋅a6⋅b6⋅a7⋅a8
+20⋅i⋅V^5⋅f^3/(27⋅J^8)⋅b1⋅a2⋅a3⋅b4⋅a6⋅b6
+4⋅i⋅V^5⋅f^3/(3⋅J^8)⋅b1⋅a2⋅b2⋅a4⋅a5⋅b6
−56⋅i⋅V^5⋅f^3/(27⋅J^8) + 38⋅i⋅V^3⋅f^5/(27⋅J^8)⋅a1⋅a2⋅b2⋅b3⋅a4⋅b4
+134⋅i⋅V^5⋅f^3/(81⋅J^8)⋅b1⋅a4⋅b4⋅a5⋅b5⋅a7
−22⋅i⋅V^5⋅f^3/(27⋅J^8) + 4⋅i⋅V^3⋅f^5/(9⋅J^8)⋅a1⋅b1⋅a2⋅a3⋅b4⋅b5
−4⋅V^6⋅f^2/(9⋅J^8) + 10⋅V^4⋅f^4/(9⋅J^8)⋅a1⋅a4⋅b4⋅b5
−4⋅i⋅V^5⋅f^3/(3⋅J^8)⋅a1⋅a2⋅a3⋅b3⋅a6⋅a7
−2⋅i⋅V^5⋅f^3/(3⋅J^8) + 2⋅i⋅V^3⋅f^5/(3⋅J^8)⋅a1⋅b2⋅b3⋅a5⋅b5⋅a6
−2⋅i⋅V^7⋅f/(3⋅J^8)⋅a1⋅b1⋅a2⋅a4⋅a5⋅b5⋅a6⋅b7⋅a8⋅a9
−2⋅V^4⋅f^4/(9⋅J^8)⋅a1⋅b1⋅a2⋅b2⋅b3⋅b4⋅a6⋅a7
−4⋅i⋅V^7⋅f/(3⋅J^8)⋅b3⋅b4⋅a7⋅b7⋅a8⋅a9
−28⋅i⋅V^5⋅f^3/(27⋅J^8)⋅b1⋅b2⋅b3⋅b4⋅a6⋅b6
+2⋅i⋅V^7⋅f/J^8⋅b1⋅b2⋅a3⋅b4⋅a5⋅b5⋅a6⋅b7⋅a8⋅a9
−2⋅V^4⋅f^4/(3⋅J^8)⋅a1⋅a2⋅b2⋅a3⋅a4⋅b4⋅a5⋅a7
+10⋅V^6⋅f^2/(9⋅J^8) + 4⋅V^4⋅f^4/(3⋅J^8)⋅b1⋅a2⋅b2⋅b3⋅a5⋅a6⋅b6⋅a7
−10⋅V^6⋅f^2/(9⋅J^8) - 650⋅V^4⋅f^4/(81⋅J^8) - 2⋅V^2⋅f^6/J^8⋅b1⋅a2⋅b5⋅a6
−140⋅V^6⋅f^2/(81⋅J^8)⋅b1⋅a4⋅b6⋅a7
+10⋅V^6⋅f^2/(9⋅J^8)⋅b2⋅b3⋅b4⋅a5⋅b5⋅a6⋅a7⋅a8
−328⋅V^6⋅f^2/(81⋅J^8) - 2⋅V^4⋅f^4/J^8⋅b3⋅a4⋅b6⋅a7
+8⋅V^6⋅f^2/(9⋅J^8) + 164⋅V^4⋅f^4/(27⋅J^8)⋅a1⋅b1⋅b2⋅a3⋅b3⋅a4⋅a5⋅b5
−2⋅V^6⋅f^2/(3⋅J^8)⋅a2⋅b2⋅a3⋅b3⋅b4⋅a5⋅b6⋅a7
+20⋅i⋅V^5⋅f^3/(9⋅J^8)⋅b1⋅a2⋅b2⋅a4⋅b4⋅a5⋅b5⋅a6⋅b6⋅a7
−14⋅V^6⋅f^2/(27⋅J^8) + 40⋅V^4⋅f^4/(27⋅J^8)⋅a1⋅b1⋅a2⋅a3⋅a4⋅b4⋅a5⋅a6
−4⋅i⋅V^5⋅f^3/J^8⋅b4⋅b5⋅a6⋅b6⋅a7⋅a8
+4⋅V^6⋅f^2/(9⋅J^8)⋅b2⋅b3⋅a4⋅b4⋅a6⋅b6⋅a7⋅a8
−4⋅V^4⋅f^4/J^8⋅a1⋅b1⋅b2⋅a3⋅b3⋅a4⋅b5⋅a7
+10⋅V^6⋅f^2/(9⋅J^8)⋅a1⋅b2⋅a3⋅b3⋅a4⋅b4⋅b5⋅a6
+4⋅V^6⋅f^2/(9⋅J^8) + 2⋅V^4⋅f^4/(9⋅J^8)⋅b1⋅a3⋅b3⋅a4⋅b4⋅b6⋅a7⋅a8
+4⋅i⋅V^5⋅f^3/(3⋅J^8)⋅a1⋅a2⋅b3⋅a4⋅b4⋅b6
−8⋅V^6⋅f^2/(3⋅J^8)⋅a1⋅b2⋅a3⋅b3⋅b4⋅b6⋅a7⋅a8
+2⋅V^4⋅f^4/(3⋅J^8)⋅a1⋅b1⋅b2⋅a3⋅b3⋅b4⋅a5⋅a7
−2⋅V^6⋅f^2/J^8⋅a1⋅b2⋅b3⋅a4⋅b4⋅a5⋅b5⋅a8
−56⋅i⋅V^5⋅f^3/(27⋅J^8)⋅b1⋅b2⋅b3⋅a4⋅b4⋅b6
−28⋅V^6⋅f^2/(81⋅J^8) - 8⋅V^4⋅f^4/(9⋅J^8)⋅b1⋅a5⋅b5⋅a7
+896⋅i⋅V^5⋅f^3/(81⋅J^8) + 1144⋅i⋅V^3⋅f^5/(81⋅J^8) + 2⋅i⋅V⋅f^7/J^8⋅b4⋅a6
−4⋅i⋅V^7⋅f/(9⋅J^8) - 2⋅i⋅V^5⋅f^3/(9⋅J^8)⋅b1⋅a3⋅b3⋅a4⋅b4⋅b5⋅a6⋅b7⋅a8⋅a9
+2⋅i⋅V^5⋅f^3/(3⋅J^8)⋅a1⋅b1⋅a2⋅a3⋅a4⋅b5⋅a6⋅b7⋅a8⋅a9
+202⋅i⋅V^5⋅f^3/(27⋅J^8) + 16⋅i⋅V^3⋅f^5/(3⋅J^8)⋅a1⋅b1⋅a3⋅a4⋅a5⋅a6
−44⋅V^6⋅f^2/(27⋅J^8) - 22⋅V^4⋅f^4/(9⋅J^8)⋅b1⋅a2⋅a3⋅b4⋅a5⋅b5⋅a6⋅b6
+6⋅i⋅V^5⋅f^3/J^8⋅b6⋅a8
+4⋅V^6⋅f^2/(9⋅J^8) - 2⋅V^4⋅f^4/(3⋅J^8)⋅b1⋅a2⋅b2⋅a4⋅b4⋅b5⋅a6⋅a8
−2⋅V^6⋅f^2/(9⋅J^8) + 8⋅V^4⋅f^4/(27⋅J^8) + 4⋅V^2⋅f^6/(3⋅J^8)⋅a1⋅a3⋅a4⋅a6
+8⋅i⋅V^5⋅f^3/(3⋅J^8) + 4⋅i⋅V^3⋅f^5/(3⋅J^8)⋅b1⋅a2⋅b3⋅a4⋅a6⋅b6
+38⋅i⋅V^5⋅f^3/(27⋅J^8)⋅b1⋅a2⋅b2⋅a5⋅b5⋅a7
−2⋅V^6⋅f^2/(3⋅J^8) - 4⋅V^4⋅f^4/(3⋅J^8)⋅b1⋅b6⋅a7⋅a8
−56⋅i⋅V^5⋅f^3/(27⋅J^8)⋅b1⋅a3⋅a4⋅b4⋅a6⋅b6
−2⋅V^6⋅f^2/(3⋅J^8)⋅a2⋅b2⋅a3⋅a4⋅a6⋅b6⋅a7⋅a8
−2⋅i⋅V^5⋅f^3/(3⋅J^8)⋅a1⋅b1⋅a2⋅a3⋅b3⋅a4⋅a5⋅b6⋅a7⋅a8
+2⋅i⋅V^3⋅f^5/(3⋅J^8)⋅a1⋅b2⋅b3⋅b4⋅a5⋅a7
+2⋅i⋅V^5⋅f^3/(3⋅J^8)⋅a1⋅a2⋅b2⋅a3⋅a4⋅b4⋅a5⋅b6⋅a7⋅a8
−62⋅V^6⋅f^2/(81⋅J^8) - 10⋅V^4⋅f^4/(81⋅J^8)⋅b2⋅a3⋅b3⋅a4⋅b4⋅b5⋅a6⋅a7
−28⋅V^6⋅f^2/(27⋅J^8) - 136⋅V^4⋅f^4/(27⋅J^8)⋅b1⋅b2⋅b3⋅a4⋅b4⋅a5⋅a6⋅a7
−10⋅i⋅V^5⋅f^3/(3⋅J^8)⋅b1⋅a2⋅b2⋅a3⋅a4⋅a5⋅a6⋅b6⋅a7⋅a8
+2⋅V^4⋅f^4/(3⋅J^8)⋅a1⋅b1⋅a2⋅b2⋅b3⋅a6⋅b6⋅a7
+14⋅i⋅V^7⋅f/(9⋅J^8)⋅a3⋅a4⋅a7⋅b7⋅a8⋅a9
−2⋅i⋅V^3⋅f^5/(3⋅J^8)⋅a1⋅a3⋅a4⋅b4⋅a5⋅a7
+8⋅i⋅V^5⋅f^3/(9⋅J^8)⋅b1⋅a3⋅b3⋅b4⋅b5⋅b6
+34⋅i⋅V^5⋅f^3/(81⋅J^8)⋅a2⋅b4⋅a5⋅b5⋅a6⋅b6
−16⋅i⋅V^5⋅f^3/(81⋅J^8)⋅b1⋅b2⋅a3⋅a4⋅a6⋅b6
+2⋅i⋅V^5⋅f^3/(3⋅J^8)⋅b1⋅b2⋅a4⋅a5⋅b5⋅a7
+4⋅i⋅V^5⋅f^3/(9⋅J^8) - 4⋅i⋅V^3⋅f^5/(27⋅J^8)⋅a1⋅b1⋅b2⋅a3⋅a4⋅b5
−8⋅V^6⋅f^2/(9⋅J^8)⋅a3⋅a5⋅a6⋅a8
−20⋅i⋅V^5⋅f^3/(27⋅J^8)⋅a1⋅a4⋅a5⋅b5⋅a6⋅a7
−14⋅V^4⋅f^4/(9⋅J^8)⋅a2⋅a4⋅a5⋅a7
−10⋅V^6⋅f^2/(9⋅J^8) - 22⋅V^4⋅f^4/(9⋅J^8)⋅b1⋅a3⋅b5⋅a7
+44⋅V^6⋅f^2/(27⋅J^8) + 32⋅V^4⋅f^4/(27⋅J^8)⋅b1⋅a3⋅b3⋅b4⋅a5⋅b5⋅a6⋅a7
+4⋅V^6⋅f^2/(3⋅J^8)⋅a1⋅b1⋅b2⋅a3⋅b4⋅a6⋅b6⋅a7
−2⋅i⋅V^5⋅f^3/J^8⋅b3⋅a4⋅b5⋅a6⋅b6⋅a8
+10⋅V^6⋅f^2/(9⋅J^8) + 4⋅V^4⋅f^4/(3⋅J^8)⋅b1⋅a2⋅b2⋅b3⋅a5⋅b5⋅a6⋅a8
−4⋅V^6⋅f^2/(9⋅J^8)⋅a2⋅b2⋅a3⋅b3⋅a4⋅b4⋅a6⋅b6
+266⋅i⋅V^5⋅f^3/(27⋅J^8) + 220⋅i⋅V^3⋅f^5/(27⋅J^8)⋅a1⋅b1⋅a2⋅b2⋅a3⋅b3
+8⋅V^6⋅f^2/(9⋅J^8)⋅a3⋅b3⋅b6⋅a8
+2⋅V^4⋅f^4/(3⋅J^8)⋅a1⋅b1⋅a2⋅b2⋅b3⋅b6⋅a7⋅a8
−4⋅i⋅V^5⋅f^3/(3⋅J^8)⋅b1⋅a2⋅a3⋅b3⋅a5⋅b6
−2⋅V^6⋅f^2/(9⋅J^8) + 200⋅V^4⋅f^4/(81⋅J^8) - 2⋅V^2⋅f^6/(9⋅J^8)⋅a2⋅a3⋅b4⋅b5
+4⋅i⋅V^5⋅f^3/(27⋅J^8)⋅a1⋅b1⋅b4⋅b5⋅a6⋅a7
−68⋅i⋅V^5⋅f^3/(27⋅J^8) - 44⋅i⋅V^3⋅f^5/(27⋅J^8)⋅a1⋅b1⋅a2⋅a3⋅b3⋅b4
−2⋅i⋅V^7⋅f/J^8⋅a1⋅b2⋅a3⋅a4⋅a5⋅b5⋅a6⋅b7⋅a8⋅a9
+8⋅i⋅V^5⋅f^3/(9⋅J^8)⋅b1⋅a2⋅a3⋅a4⋅b4⋅b6
+2⋅i⋅V^7⋅f/J^8⋅a1⋅a2⋅a7⋅b7⋅a8⋅a9
−4⋅i⋅V^7⋅f/(9⋅J^8) + 2⋅i⋅V^5⋅f^3/(3⋅J^8)⋅b1⋅a2⋅b2⋅a4⋅b4⋅b5⋅a6⋅b7⋅a8⋅a9
+4⋅V^6⋅f^2/(3⋅J^8) - 2⋅V^4⋅f^4/J^8⋅a1⋅b1⋅b2⋅a3⋅b4⋅b6⋅a7⋅a8
+2⋅V^6⋅f^2/(3⋅J^8)⋅b1⋅b2⋅a3⋅a4⋅b5⋅b6⋅a7⋅a8
+2⋅i⋅V^5⋅f^3/(9⋅J^8)⋅a2⋅b2⋅b3⋅a4⋅b6⋅a7
+8⋅V^6⋅f^2/(3⋅J^8) + 4⋅V^4⋅f^4/(3⋅J^8)⋅b3⋅a4⋅a5⋅b6
+172⋅V^6⋅f^2/(81⋅J^8)⋅b2⋅a3⋅b6⋅a7
−14⋅i⋅V^5⋅f^3/(27⋅J^8)⋅a2⋅b2⋅a4⋅a5⋅b5⋅b6
−44⋅i⋅V^5⋅f^3/(27⋅J^8)⋅a2⋅b2⋅a3⋅a4⋅a6⋅a7
+10⋅i⋅V^5⋅f^3/(3⋅J^8) + 2⋅i⋅V^3⋅f^5/(3⋅J^8)⋅b1⋅a2⋅b2⋅b3⋅a5⋅a7
+16⋅i⋅V^5⋅f^3/(27⋅J^8) - 4⋅i⋅V^3⋅f^5/(3⋅J^8)⋅a1⋅a3⋅a4⋅b5⋅a6⋅a7
−2⋅i⋅V^5⋅f^3/J^8⋅b1⋅a2⋅b5⋅b7⋅a8⋅a9
+16⋅V^6⋅f^2/(9⋅J^8)⋅b4⋅a5⋅b6⋅a7
+8⋅V^6⋅f^2/(9⋅J^8)⋅a2⋅b2⋅b6⋅a8
−8⋅V^6⋅f^2/(27⋅J^8) + 10⋅V^4⋅f^4/(9⋅J^8)⋅a1⋅a2⋅b2⋅b3⋅a5⋅b5⋅a6⋅b6
−20⋅V^6⋅f^2/(27⋅J^8) + 2⋅V^4⋅f^4/(9⋅J^8)⋅a1⋅b1⋅a2⋅b2⋅a5⋅b5⋅a6⋅b6
−80⋅i⋅V^5⋅f^3/(27⋅J^8) - 4⋅i⋅V^3⋅f^5/(3⋅J^8)⋅b2⋅a4⋅b4⋅a5⋅b5⋅a6
−56⋅V^6⋅f^2/(81⋅J^8) - 14⋅V^4⋅f^4/(3⋅J^8)⋅a4⋅a5⋅a6⋅a7
+40⋅i⋅V^5⋅f^3/(27⋅J^8)⋅a1⋅b3⋅a5⋅b5⋅a6⋅b6
−386⋅i⋅V^5⋅f^3/(81⋅J^8)⋅b1⋅a2⋅b2⋅a3⋅b3⋅a4⋅b4⋅a5⋅a6⋅b6
+4⋅i⋅V^5⋅f^3/(27⋅J^8)⋅a2⋅a3⋅b3⋅b4⋅b5⋅a7
+38⋅i⋅V^5⋅f^3/(27⋅J^8)⋅b1⋅a2⋅a3⋅a5⋅a6⋅a7
+14⋅V^4⋅f^4/(9⋅J^8)⋅b1⋅b3⋅a5⋅a7
+4⋅i⋅V^5⋅f^3/(3⋅J^8)⋅b1⋅a2⋅b2⋅a3⋅a4⋅b4⋅b5⋅b6⋅a7⋅a8
+4⋅i⋅V^7⋅f/(9⋅J^8)⋅b2⋅a5⋅b5⋅b7⋅a8⋅a9
−4⋅V^4⋅f^4/(3⋅J^8)⋅b1⋅a2⋅b2⋅a3⋅b3⋅a4⋅a5⋅b6
+4⋅V^4⋅f^4/(9⋅J^8)⋅a1⋅b1⋅a2⋅b2⋅b3⋅a5⋅a6⋅b6
+8⋅V^6⋅f^2/(9⋅J^8) + 32⋅V^4⋅f^4/(27⋅J^8)⋅a1⋅b1⋅b2⋅a3⋅a4⋅b5⋅a6⋅b6
+8⋅V^6⋅f^2/(9⋅J^8) + 218⋅V^4⋅f^4/(27⋅J^8)⋅a1⋅b1⋅a2⋅b2⋅a3⋅a4⋅a5⋅a6
−116⋅i⋅V^5⋅f^3/(81⋅J^8)⋅b2⋅a3⋅b3⋅a4⋅a6⋅b6
+8⋅V^4⋅f^4/(3⋅J^8) + 2⋅V^2⋅f^6/J^8⋅b1⋅a2⋅b4⋅a7
−28⋅i⋅V^5⋅f^3/(9⋅J^8)⋅a1⋅b3⋅b4⋅a5⋅b5⋅a6
−2⋅V^4⋅f^4/(27⋅J^8)⋅a1⋅b1⋅a2⋅b2⋅a3⋅b5⋅a6⋅b6
+14⋅V^4⋅f^4/(3⋅J^8)⋅a1⋅a2⋅b3⋅a4⋅b4⋅a5⋅a6⋅a7
−44⋅i⋅V^5⋅f^3/(27⋅J^8)⋅a1⋅a4⋅b4⋅b5⋅a6⋅b6
−2⋅V^6⋅f^2/(3⋅J^8) - 128⋅V^4⋅f^4/(81⋅J^8)⋅b1⋅a4⋅b5⋅a6
+8⋅V^6⋅f^2/(9⋅J^8)⋅a1⋅b1⋅b2⋅a3⋅b4⋅a5⋅a6⋅b6
+16⋅i⋅V^5⋅f^3/(27⋅J^8)⋅a1⋅b1⋅a2⋅b2⋅a3⋅a4⋅b4⋅b5⋅a6⋅b6
−2⋅i⋅V^5⋅f^3/J^8⋅a1⋅b2⋅b4⋅a5⋅b5⋅a7
+2⋅i⋅V^5⋅f^3/(3⋅J^8)⋅b1⋅a2⋅b2⋅a3⋅b3⋅a4⋅b4⋅a6⋅b6⋅a7
+64⋅i⋅V^5⋅f^3/(27⋅J^8) + 8⋅i⋅V^3⋅f^5/(3⋅J^8)⋅b1⋅a2⋅a4⋅b4⋅b5⋅a6
−2⋅i⋅V^5⋅f^3/J^8⋅b2⋅b3⋅a4⋅b6⋅a7⋅a8
+2⋅V^6⋅f^2/(3⋅J^8)⋅a2⋅b2⋅a3⋅b3⋅b4⋅a5⋅b5⋅a8
+4⋅i⋅V^5⋅f^3/(9⋅J^8)⋅b1⋅a2⋅b2⋅a3⋅a4⋅b6
+4⋅V^4⋅f^4/(3⋅J^8)⋅a1⋅b1⋅a3⋅b3⋅b4⋅a5⋅b5⋅a6
+22⋅V^6⋅f^2/(27⋅J^8) - 2⋅V^4⋅f^4/(3⋅J^8)⋅a1⋅b1⋅b2⋅a4⋅a5⋅b5⋅a6⋅b6
+2⋅i⋅V^5⋅f^3/(3⋅J^8)⋅a2⋅b2⋅b3⋅b4⋅a6⋅a7
+14⋅V^6⋅f^2/(9⋅J^8)⋅a3⋅b3⋅a4⋅a5⋅a6⋅b6⋅a7⋅a8
−10⋅i⋅V^5⋅f^3/(27⋅J^8)⋅b1⋅a2⋅b2⋅b4⋅b5⋅b6
+2⋅i⋅V^5⋅f^3/J^8⋅b1⋅a2⋅b2⋅a3⋅b3⋅a4⋅b5⋅a6⋅b6⋅a8
+2⋅i⋅V^5⋅f^3/(3⋅J^8)⋅a2⋅a3⋅a4⋅b4⋅a6⋅a7
−2⋅V^6⋅f^2/(3⋅J^8) - 46⋅V^4⋅f^4/(27⋅J^8)⋅a2⋅b2⋅a3⋅b5
−2⋅V^4⋅f^4/(3⋅J^8)⋅a1⋅b1⋅a3⋅b3⋅a4⋅b4⋅a5⋅b5
−20⋅V^6⋅f^2/(27⋅J^8)⋅b2⋅a4⋅a6⋅b6
−2⋅i⋅V^5⋅f^3/(3⋅J^8)⋅b3⋅b4⋅a6⋅b6⋅a7⋅a8
+14⋅i⋅V^5⋅f^3/(9⋅J^8)⋅b1⋅a3⋅b5⋅b6⋅a7⋅a8
−26⋅i⋅V^5⋅f^3/(9⋅J^8)⋅a1⋅b1⋅b2⋅a3⋅b3⋅a4⋅b4⋅a5⋅b5⋅a6
+4⋅V^4⋅f^4/(3⋅J^8)⋅a1⋅b1⋅b2⋅a3⋅a4⋅b4⋅b5⋅a6
+2⋅i⋅V^7⋅f/(3⋅J^8)⋅b4⋅b5⋅a7⋅b7⋅a8⋅a9
−10⋅V^6⋅f^2/(9⋅J^8) - 8⋅V^4⋅f^4/(9⋅J^8)⋅a2⋅a3⋅b3⋅a4⋅a5⋅a6⋅b6⋅a7
−14⋅i⋅V^5⋅f^3/(9⋅J^8)⋅a2⋅b3⋅b4⋅b6⋅a7⋅a8
−322⋅i⋅V^5⋅f^3/(27⋅J^8) - 100⋅i⋅V^3⋅f^5/(9⋅J^8)⋅a1⋅b1⋅a2⋅b2⋅b4⋅a6
−134⋅i⋅V^5⋅f^3/(81⋅J^8)⋅b1⋅b3⋅b4⋅a5⋅a6⋅a7
+2⋅i⋅V^5⋅f^3/(9⋅J^8)⋅b1⋅a2⋅b2⋅a4⋅b6⋅a7
−2⋅i⋅V^7⋅f/(3⋅J^8)⋅a4⋅a5⋅a7⋅b7⋅a8⋅a9
−140⋅i⋅V^5⋅f^3/(81⋅J^8)⋅b1⋅b2⋅b4⋅b5⋅a6⋅b6
+2⋅V^4⋅f^4/J^8⋅b1⋅a2⋅b5⋅a8
−2⋅V^6⋅f^2/(3⋅J^8)⋅a1⋅a2⋅b2⋅a3⋅b3⋅b4⋅b5⋅a6
−8⋅V^6⋅f^2/(9⋅J^8)⋅a1⋅b1⋅a2⋅b4⋅a5⋅b5⋅a6⋅b6
−20⋅i⋅V^5⋅f^3/(9⋅J^8)⋅a3⋅b3⋅b5⋅b6⋅a7⋅a8
+2⋅V^6⋅f^2/(3⋅J^8)⋅a1⋅b1⋅a2⋅a4⋅a5⋅b5⋅a6⋅a8
+4⋅i⋅V^5⋅f^3/J^8⋅a1⋅b1⋅a2⋅b2⋅b3⋅b4⋅a5⋅b5⋅a6⋅a7
+32⋅V^6⋅f^2/(27⋅J^8) + 4⋅V^4⋅f^4/(9⋅J^8)⋅a1⋅b1⋅a2⋅a3⋅b4⋅b5⋅a6⋅b6
+28⋅V^6⋅f^2/(27⋅J^8) + 52⋅V^4⋅f^4/(27⋅J^8)⋅b1⋅a3⋅b3⋅a4⋅b4⋅a5⋅b5⋅a7
+10⋅i⋅V^7⋅f/(9⋅J^8)⋅b2⋅b4⋅a6⋅b7⋅a8⋅a9
−14⋅V^6⋅f^2/(9⋅J^8)⋅a1⋅b2⋅a3⋅a4⋅b4⋅a5⋅b5⋅b6
+2⋅V^4⋅f^4/J^8⋅b1⋅a2⋅b2⋅b3⋅a4⋅b4⋅a5⋅a7
+14⋅V^6⋅f^2/(9⋅J^8) + 2⋅V^4⋅f^4/(3⋅J^8)⋅b1⋅a2⋅b2⋅a4⋅b4⋅b6⋅a7⋅a8
+4⋅i⋅V^5⋅f^3/(3⋅J^8)⋅b3⋅a4⋅a5⋅b5⋅b6⋅a7
+52⋅i⋅V^5⋅f^3/(27⋅J^8)⋅a2⋅b2⋅a4⋅b4⋅a6⋅b6
−2⋅V^4⋅f^4/J^8⋅b1⋅a2⋅b3⋅b4⋅a5⋅b5⋅a6⋅a8
−14⋅V^6⋅f^2/(9⋅J^8) - 28⋅V^4⋅f^4/(9⋅J^8)⋅b1⋅b2⋅b3⋅a4⋅a5⋅a6⋅b6⋅a7
+32⋅i⋅V^5⋅f^3/(27⋅J^8)⋅b1⋅a2⋅b2⋅b4⋅a6⋅a7
−2⋅i⋅V^5⋅f^3/(9⋅J^8)⋅b1⋅a4⋅b4⋅b6⋅a7⋅a8
−2⋅i⋅V^5⋅f^3/(3⋅J^8)⋅a1⋅a2⋅a4⋅b4⋅a6⋅a7
+188⋅i⋅V^5⋅f^3/(81⋅J^8)⋅b1⋅b4⋅a5⋅b5⋅a6⋅a7
−4⋅V^4⋅f^4/(27⋅J^8)⋅a3⋅b4⋅b5⋅a6
−16⋅V^6⋅f^2/(81⋅J^8)⋅a2⋅a5⋅b5⋅b6
−8⋅V^6⋅f^2/(9⋅J^8)⋅a1⋅b2⋅b6⋅a7
−4⋅i⋅V^5⋅f^3/(3⋅J^8)⋅b1⋅a2⋅a5⋅b5⋅b6⋅a7
−4⋅i⋅V^5⋅f^3/(9⋅J^8)⋅a2⋅b2⋅b5⋅b6⋅a7⋅a8
+50⋅V^6⋅f^2/(27⋅J^8) + 38⋅V^4⋅f^4/(27⋅J^8)⋅a2⋅a3⋅b3⋅a4⋅b4⋅a5⋅b5⋅b6
−14⋅V^6⋅f^2/(9⋅J^8) - 8⋅V^4⋅f^4/(9⋅J^8)⋅a1⋅b2⋅b3⋅a4⋅a5⋅b5⋅a6⋅b6
−4⋅i⋅V^5⋅f^3/J^8⋅a1⋅a2⋅b3⋅a4⋅b4⋅a5⋅a6⋅b6⋅a7⋅a8
−8⋅V^6⋅f^2/(9⋅J^8)⋅a2⋅b2⋅a3⋅b3⋅a4⋅a5⋅a6⋅a7
+14⋅i⋅V^5⋅f^3/(9⋅J^8)⋅a2⋅a4⋅a5⋅b6⋅a7⋅a8
+4⋅i⋅V^5⋅f^3/(3⋅J^8)⋅a1⋅b2⋅b3⋅a4⋅b5⋅a7
−56⋅i⋅V^5⋅f^3/(27⋅J^8) - 2⋅i⋅V^3⋅f^5/(9⋅J^8)⋅a1⋅b1⋅a2⋅b2⋅a5⋅b5
−28⋅V^6⋅f^2/(27⋅J^8) + 20⋅V^4⋅f^4/(9⋅J^8)⋅a1⋅b1⋅a2⋅a3⋅a5⋅b5⋅a6⋅a7
−28⋅V^6⋅f^2/(27⋅J^8) - 2⋅V^4⋅f^4/J^8⋅b2⋅b3⋅a4⋅b4⋅a5⋅b5⋅a6⋅a7
+4⋅i⋅V^7⋅f/(3⋅J^8)⋅a5⋅a6⋅a7⋅b7⋅a8⋅a9
−10⋅i⋅V^5⋅f^3/(3⋅J^8) - 2⋅i⋅V^3⋅f^5/J^8⋅b1⋅a2⋅b4⋅b6⋅a7⋅a8
+4⋅i⋅V^5⋅f^3/(27⋅J^8)⋅a3⋅b3⋅a4⋅a5⋅b5⋅b6
−2⋅i⋅V^5⋅f^3/(3⋅J^8)⋅b1⋅a3⋅b3⋅b4⋅a6⋅a7
−76⋅i⋅V^5⋅f^3/(27⋅J^8)⋅b1⋅b2⋅b3⋅b4⋅b5⋅a7
−8⋅V^6⋅f^2/(9⋅J^8) + 2⋅V^4⋅f^4/(9⋅J^8)⋅a2⋅b2⋅b3⋅a4⋅b4⋅a6⋅b6⋅a7
−16⋅i⋅V^5⋅f^3/(27⋅J^8)⋅a2⋅a3⋅b3⋅a4⋅b4⋅b6
+44⋅V^6⋅f^2/(27⋅J^8)⋅a3⋅b4⋅a5⋅b6
−10⋅i⋅V^5⋅f^3/(9⋅J^8)⋅a1⋅b1⋅a2⋅a3⋅b3⋅a4⋅b4⋅a5⋅b5⋅b6
−2⋅i⋅V^7⋅f/J^8⋅b3⋅b4⋅a5⋅b7⋅a8⋅a9
+4⋅V^6⋅f^2/(9⋅J^8) - 2⋅V^4⋅f^4/(3⋅J^8)⋅b1⋅a2⋅b2⋅a4⋅b4⋅a6⋅b6⋅a7
+2⋅V^4⋅f^4/J^8⋅a1⋅a2⋅b3⋅a4⋅a5⋅b5⋅a6⋅a8
−34⋅i⋅V^5⋅f^3/(9⋅J^8)⋅b1⋅b2⋅a6⋅b6⋅a7⋅a8
−4⋅i⋅V^5⋅f^3/(3⋅J^8)⋅b2⋅a3⋅a4⋅b5⋅a6⋅b6
+10⋅i⋅V^7⋅f/(9⋅J^8) + 8⋅i⋅V^5⋅f^3/(9⋅J^8)⋅a2⋅a3⋅b3⋅a4⋅a5⋅b5⋅a6⋅b7⋅a8⋅a9
+2⋅V^6⋅f^2/(3⋅J^8)⋅b1⋅b3⋅a4⋅b4⋅a5⋅b5⋅a6⋅a8
+10⋅i⋅V^5⋅f^3/(27⋅J^8) + 2⋅i⋅V^3⋅f^5/(9⋅J^8)⋅a1⋅a3⋅b3⋅a4⋅b4⋅b5
+236⋅i⋅V^5⋅f^3/(81⋅J^8)⋅b3⋅a4⋅b4⋅a5⋅a6⋅b6
+8⋅V^6⋅f^2/(9⋅J^8) + 2⋅V^4⋅f^4/J^8⋅a1⋅b3⋅b4⋅a6
+4⋅V^4⋅f^4/(3⋅J^8)⋅a1⋅b1⋅b2⋅b3⋅a4⋅a5⋅a6⋅b6
+2⋅V^6⋅f^2/(3⋅J^8) + 4⋅V^4⋅f^4/(3⋅J^8)⋅a1⋅a2⋅b4⋅b5
−4⋅V^4⋅f^4/(3⋅J^8)⋅a1⋅b1⋅a2⋅b2⋅b3⋅a4⋅b5⋅a6
+8⋅i⋅V^5⋅f^3/(9⋅J^8)⋅a1⋅b1⋅a2⋅b2⋅a4⋅b4⋅a5⋅b5⋅a6⋅b6
+4⋅i⋅V^5⋅f^3/(9⋅J^8)⋅a3⋅b3⋅a4⋅b4⋅a6⋅b6
+2⋅i⋅V^5⋅f^3/(3⋅J^8)⋅a1⋅a2⋅b2⋅a3⋅a5⋅a7
+4⋅V^6⋅f^2/(9⋅J^8) + 8⋅V^4⋅f^4/(9⋅J^8)⋅a1⋅b3⋅a5⋅b5
+4⋅i⋅V^5⋅f^3/(3⋅J^8)⋅a1⋅a2⋅b3⋅b4⋅a6⋅b6
+14⋅V^6⋅f^2/(9⋅J^8) + 2⋅V^4⋅f^4/(27⋅J^8)⋅b1⋅a3⋅a4⋅b4⋅a5⋅b5⋅a6⋅b6
−4⋅V^6⋅f^2/(9⋅J^8) - 76⋅V^4⋅f^4/(27⋅J^8)⋅a2⋅b2⋅b3⋅b4⋅a5⋅b5⋅a6⋅a7
−70⋅i⋅V^5⋅f^3/(27⋅J^8) - 10⋅i⋅V^3⋅f^5/(9⋅J^8)⋅a1⋅a2⋅b2⋅a4⋅a5⋅a6
+2⋅i⋅V^5⋅f^3/(3⋅J^8)⋅a2⋅a3⋅a4⋅a5⋅b5⋅a7
−2⋅V^4⋅f^4/(9⋅J^8)⋅b1⋅a3⋅b3⋅a7
+2⋅i⋅V^5⋅f^3/J^8⋅b1⋅a2⋅b2⋅a3⋅b3⋅a4⋅b5⋅b7⋅a8⋅a9
−20⋅V^6⋅f^2/(9⋅J^8)⋅a1⋅b2⋅a3⋅b3⋅b4⋅a5⋅b5⋅a7
+118⋅i⋅V^5⋅f^3/(81⋅J^8) + 10⋅i⋅V^3⋅f^5/(81⋅J^8)⋅a2⋅b2⋅a3⋅b3⋅a5⋅b5
−232⋅i⋅V^5⋅f^3/(81⋅J^8) - 4⋅i⋅V^3⋅f^5/J^8⋅b1⋅a2⋅b2⋅a3⋅b5⋅a7
+4⋅i⋅V^5⋅f^3/J^8⋅a1⋅a2⋅a6⋅b6⋅a7⋅a8
+2⋅i⋅V^3⋅f^5/J^8⋅a1⋅b1⋅b2⋅b3⋅a4⋅a7
−4⋅V^4⋅f^4/(9⋅J^8)⋅a1⋅a2⋅b2⋅b3⋅b4⋅a5⋅b5⋅a6
−2⋅V^6⋅f^2/(9⋅J^8)⋅a2⋅b2⋅a3⋅b3⋅a4⋅b4⋅b5⋅a7
+68⋅i⋅V^5⋅f^3/(27⋅J^8) + 2⋅i⋅V^3⋅f^5/(3⋅J^8)⋅a1⋅a2⋅b2⋅b3⋅b4⋅a6
+94⋅i⋅V^5⋅f^3/(27⋅J^8) + 40⋅i⋅V^3⋅f^5/(27⋅J^8)⋅a1⋅b1⋅a2⋅a3⋅a4⋅a5
+2⋅i⋅V^5⋅f^3/(3⋅J^8)⋅a1⋅b1⋅b3⋅a4⋅b5⋅a6
−2⋅V^6⋅f^2/J^8⋅b1⋅b2⋅a3⋅b4⋅a5⋅b5⋅a6⋅a8
+4⋅i⋅V^5⋅f^3/(3⋅J^8) - 2⋅i⋅V^3⋅f^5/J^8⋅a1⋅b1⋅b2⋅a3⋅b4⋅a7
−14⋅i⋅V^7⋅f/(9⋅J^8)⋅b1⋅b2⋅a7⋅b7⋅a8⋅a9
+2⋅i⋅V^5⋅f^3/(3⋅J^8)⋅a1⋅b1⋅a2⋅a3⋅a6⋅a7
+4⋅i⋅V^5⋅f^3/(3⋅J^8)⋅a1⋅a2⋅a3⋅b3⋅b5⋅b6
+2⋅i⋅V^5⋅f^3/(9⋅J^8)⋅b1⋅a2⋅a3⋅b3⋅b6⋅a7
−10⋅V^4⋅f^4/(9⋅J^8)⋅a2⋅a3⋅a4⋅a7
+8⋅V^6⋅f^2/(9⋅J^8)⋅a4⋅b5⋅b6⋅a7
−4⋅i⋅V^5⋅f^3/J^8⋅b4⋅a5⋅b5⋅a6⋅b6⋅a8
−4⋅V^6⋅f^2/(9⋅J^8) - 10⋅V^4⋅f^4/(9⋅J^8)⋅a2⋅a3⋅b5⋅b6
−16⋅i⋅V^5⋅f^3/(9⋅J^8)⋅a3⋅b3⋅b5⋅a6⋅b6⋅a7
+44⋅i⋅V^5⋅f^3/(27⋅J^8) - 2⋅i⋅V^3⋅f^5/(27⋅J^8)⋅a1⋅b1⋅a2⋅b2⋅a3⋅b5
+118⋅V^6⋅f^2/(81⋅J^8) + 100⋅V^4⋅f^4/(81⋅J^8)⋅a2⋅b2⋅a3⋅b3⋅a5⋅b5⋅a6⋅b6
+4⋅V^4⋅f^4/(9⋅J^8)⋅a1⋅b1⋅a2⋅b2⋅b3⋅a5⋅b5⋅a7
+4⋅i⋅V^5⋅f^3/J^8⋅a1⋅b2⋅a3⋅b3⋅b5⋅a6
−4⋅i⋅V^5⋅f^3/(3⋅J^8)⋅b1⋅a2⋅b2⋅a3⋅b3⋅a4⋅a5⋅b5⋅b6⋅a7
+40⋅i⋅V^5⋅f^3/(27⋅J^8)⋅a1⋅a2⋅b2⋅a3⋅b3⋅a4⋅b4⋅b5⋅a6⋅b6
+8⋅i⋅V^5⋅f^3/(27⋅J^8)⋅a1⋅b3⋅b4⋅b5⋅a6⋅a7
−2⋅V^4⋅f^4/(3⋅J^8)⋅a1⋅b1⋅a2⋅a3⋅a4⋅a6⋅b6⋅a7
+8⋅i⋅V^7⋅f/(9⋅J^8)⋅a3⋅a5⋅a6⋅b7⋅a8⋅a9
+2⋅i⋅V^5⋅f^3/(3⋅J^8)⋅b2⋅a3⋅b3⋅b4⋅a5⋅a7
+2⋅V^6⋅f^2/(9⋅J^8)⋅a1⋅a2⋅b2⋅a3⋅b4⋅a5⋅a6⋅a7
+4⋅V^6⋅f^2/(3⋅J^8)⋅a1⋅b1⋅a2⋅b3⋅b4⋅b5⋅a6⋅a8
+40⋅i⋅V^5⋅f^3/(27⋅J^8)⋅b1⋅a2⋅b2⋅a5⋅a6⋅b6
+14⋅V^4⋅f^4/(9⋅J^8)⋅a2⋅b3⋅b4⋅a7
+2⋅V^6⋅f^2/J^8⋅a1⋅b2⋅a3⋅a4⋅a5⋅a6⋅b6⋅a7
−32⋅i⋅V^5⋅f^3/(27⋅J^8)⋅b2⋅b3⋅a4⋅b4⋅b5⋅b6
−86⋅V^6⋅f^2/(27⋅J^8)⋅a3⋅b4⋅b6⋅a7
−22⋅i⋅V^5⋅f^3/(27⋅J^8) + 16⋅i⋅V^3⋅f^5/(27⋅J^8)⋅a1⋅a2⋅b3⋅b4⋅a5⋅b5
+8⋅V^6⋅f^2/(27⋅J^8)⋅a3⋅b3⋅a6⋅b6
+8⋅i⋅V^5⋅f^3/(9⋅J^8) + 10⋅i⋅V^3⋅f^5/(9⋅J^8)⋅a1⋅a2⋅b2⋅b3⋅a5⋅b5
+14⋅V^6⋅f^2/(9⋅J^8)⋅b1⋅b2⋅a7⋅a8
+34⋅i⋅V^5⋅f^3/(9⋅J^8)⋅a1⋅b1⋅a2⋅b2⋅a3⋅b3⋅b4⋅b5⋅a6⋅a7
+14⋅i⋅V^7⋅f/(9⋅J^8) + 28⋅i⋅V^5⋅f^3/(9⋅J^8)⋅b1⋅b2⋅b3⋅a4⋅a5⋅b5⋅a6⋅b7⋅a8⋅a9
−2⋅i⋅V^5⋅f^3/J^8 - 2⋅i⋅V^3⋅f^5/J^8⋅b1⋅a2⋅b3⋅b4⋅a5⋅a7
+4⋅i⋅V^7⋅f/(3⋅J^8)⋅b1⋅b2⋅a3⋅a4⋅b4⋅a5⋅b5⋅b7⋅a8⋅a9
−46⋅V^6⋅f^2/(27⋅J^8) - 8⋅V^4⋅f^4/(3⋅J^8)⋅b2⋅a4⋅b5⋅a7
+8⋅i⋅V^5⋅f^3/(3⋅J^8)⋅b1⋅a2⋅b2⋅a3⋅b3⋅a5⋅b5⋅a6⋅b6⋅a7
+4⋅i⋅V^5⋅f^3/J^8⋅a1⋅b1⋅a2⋅b3⋅b5⋅a6
+14⋅V^6⋅f^2/(9⋅J^8) + 8⋅V^4⋅f^4/(3⋅J^8)⋅b1⋅a2⋅a3⋅a4⋅a5⋅b5⋅a6⋅a8
+2⋅V^6⋅f^2/(3⋅J^8) + 4⋅V^4⋅f^4/(3⋅J^8)⋅b1⋅b3⋅a4⋅b4⋅a5⋅b6⋅a7⋅a8
−2⋅i⋅V^5⋅f^3/J^8⋅b1⋅a2⋅b2⋅b3⋅a4⋅b4⋅a5⋅b6⋅a7⋅a8
+2⋅V^6⋅f^2/J^8⋅a1⋅b1⋅b2⋅a3⋅b3⋅a4⋅b4⋅a5⋅b5⋅a6⋅b6⋅a8
−2⋅V^4⋅f^4/(3⋅J^8)⋅a1⋅b1⋅a2⋅a3⋅a4⋅b5⋅a6⋅a8
+2⋅i⋅V^5⋅f^3/(3⋅J^8)⋅a1⋅b2⋅a3⋅a4⋅a5⋅a7
−2⋅i⋅V^5⋅f^3/(3⋅J^8)⋅b1⋅a2⋅b2⋅a3⋅b3⋅b4⋅a6⋅b6⋅a7⋅a8
−40⋅i⋅V^5⋅f^3/(27⋅J^8) - 28⋅i⋅V^3⋅f^5/(9⋅J^8)⋅b1⋅b2⋅b3⋅a4⋅a5⋅a7
−28⋅V^6⋅f^2/(9⋅J^8)⋅b5⋅a6⋅b6⋅a7
+314⋅V^6⋅f^2/(81⋅J^8) + 8⋅V^4⋅f^4/J^8⋅a4⋅b4⋅b5⋅a7
+2⋅V^6⋅f^2/J^8 + 2⋅V^4⋅f^4/J^8⋅b1⋅a2⋅b3⋅a4⋅b4⋅a5⋅b6⋅a7
−2⋅i⋅V^5⋅f^3/J^8⋅a1⋅b1⋅b2⋅b3⋅a4⋅b5⋅a6⋅b7⋅a8⋅a9
+2⋅i⋅V^5⋅f^3/J^8⋅b1⋅a2⋅b3⋅a4⋅b4⋅a5⋅b5⋅a6⋅b6⋅a8
+14⋅V^6⋅f^2/(9⋅J^8)⋅a3⋅b4⋅b5⋅a8
−8⋅V^6⋅f^2/(27⋅J^8) - 4⋅V^4⋅f^4/(9⋅J^8)⋅b1⋅a2⋅a3⋅b3⋅b4⋅a5⋅a6⋅b6
+2⋅V^4⋅f^4/(9⋅J^8)⋅b1⋅a4⋅b4⋅a7
−2⋅i⋅V^7⋅f/J^8⋅b5⋅b6⋅a7⋅b7⋅a8⋅a9
−40⋅V^6⋅f^2/(81⋅J^8)⋅a2⋅b4⋅a6⋅b6
+4⋅V^6⋅f^2/(3⋅J^8)⋅a2⋅b2⋅a3⋅a4⋅b4⋅a5⋅a6⋅a8
+28⋅V^6⋅f^2/(27⋅J^8) + 2⋅V^4⋅f^4/(3⋅J^8)⋅a1⋅a2⋅b2⋅b3⋅b4⋅b5⋅a6⋅a7
+26⋅i⋅V^5⋅f^3/(27⋅J^8)⋅a2⋅b2⋅a3⋅a4⋅b5⋅b6
+8⋅i⋅V^7⋅f/(9⋅J^8) + 2⋅i⋅V^5⋅f^3/(3⋅J^8)⋅b1⋅a2⋅a3⋅b3⋅b4⋅b5⋅a6⋅b7⋅a8⋅a9
+16⋅i⋅V^5⋅f^3/(27⋅J^8) + 2⋅i⋅V^3⋅f^5/(9⋅J^8)⋅b1⋅a3⋅b3⋅a4⋅b4⋅a7
+4⋅i⋅V^5⋅f^3/(3⋅J^8)⋅a1⋅a2⋅b2⋅a4⋅a6⋅a7
+2⋅V^6⋅f^2/(3⋅J^8) - 8⋅V^4⋅f^4/(9⋅J^8)⋅a1⋅a3⋅b3⋅a4⋅a5⋅b5⋅a6⋅a7
+20⋅V^6⋅f^2/(9⋅J^8) - 8⋅V^4⋅f^4/(9⋅J^8)⋅a1⋅b2⋅b3⋅a4⋅b4⋅b5⋅a6⋅a7
−2⋅i⋅V^5⋅f^3/(3⋅J^8)⋅a1⋅b1⋅b3⋅a4⋅b4⋅a7
−2⋅i⋅V^5⋅f^3/(3⋅J^8)⋅a1⋅b1⋅a2⋅a4⋅a5⋅a7
−4⋅i⋅V^5⋅f^3/(9⋅J^8)⋅b1⋅a3⋅b3⋅a4⋅b4⋅a5⋅b5⋅a6⋅b6⋅a7
+4⋅V^6⋅f^2/(9⋅J^8) + 2⋅V^4⋅f^4/(9⋅J^8)⋅b1⋅a3⋅b3⋅a4⋅b4⋅b5⋅a6⋅a8
−2⋅V^4⋅f^4/(3⋅J^8)⋅b1⋅a2⋅b2⋅a7
−8⋅i⋅V^5⋅f^3/(9⋅J^8)⋅a1⋅a2⋅a3⋅a4⋅a6⋅b6
−4⋅V^4⋅f^4/J^8⋅a1⋅b1⋅b3⋅b4⋅a5⋅b5⋅a6⋅a7
+4⋅i⋅V^5⋅f^3/(3⋅J^8)⋅b1⋅b5⋅a6⋅b7⋅a8⋅a9
+2⋅i⋅V^7⋅f/J^8⋅b3⋅a4⋅b4⋅a5⋅b5⋅a6⋅b6⋅a7⋅b7⋅a9
−16⋅V^6⋅f^2/(81⋅J^8)⋅a2⋅a5⋅a6⋅a7
+2⋅V^6⋅f^2/(3⋅J^8)⋅a4⋅a5⋅a7⋅a8
+16⋅i⋅V^5⋅f^3/(9⋅J^8)⋅b2⋅a4⋅b5⋅b6⋅a7⋅a8
+176⋅i⋅V^5⋅f^3/(27⋅J^8) + 26⋅i⋅V^3⋅f^5/(9⋅J^8)⋅b1⋅a2⋅a3⋅b3⋅b5⋅a6
−8⋅i⋅V^5⋅f^3/(9⋅J^8)⋅a1⋅a2⋅b2⋅b3⋅a4⋅b4⋅a5⋅b5⋅a6⋅b6
−28⋅i⋅V^5⋅f^3/(27⋅J^8)⋅b1⋅a2⋅b4⋅a5⋅a6⋅b6
−50⋅V^6⋅f^2/(81⋅J^8)⋅a4⋅b4⋅a6⋅b6
+80⋅i⋅V^5⋅f^3/(27⋅J^8) + 154⋅i⋅V^3⋅f^5/(27⋅J^8)⋅a1⋅a2⋅a4⋅b4⋅a5⋅a6
+80⋅V^6⋅f^2/(27⋅J^8) + 10⋅V^4⋅f^4/(3⋅J^8)⋅a1⋅b1⋅a3⋅a4⋅a5⋅b5⋅a6⋅a7
−2⋅i⋅V^7⋅f/(3⋅J^8)⋅b2⋅a3⋅b3⋅b4⋅a5⋅b5⋅a6⋅b7⋅a8⋅a9
+44⋅i⋅V^5⋅f^3/(81⋅J^8)⋅a2⋅b3⋅a4⋅b4⋅b5⋅a6
+16⋅V^6⋅f^2/(27⋅J^8) + 58⋅V^4⋅f^4/(27⋅J^8)⋅a1⋅b1⋅a2⋅a3⋅b3⋅b4⋅a5⋅b5
−4⋅V^6⋅f^2/(3⋅J^8)⋅b4⋅b5⋅a7⋅a8
+28⋅V^6⋅f^2/(27⋅J^8) + 46⋅V^4⋅f^4/(27⋅J^8)⋅a2⋅a3⋅b3⋅b4⋅a5⋅b5⋅a6⋅b6
−4⋅i⋅V^5⋅f^3/(27⋅J^8)⋅b1⋅a2⋅a3⋅a5⋅b5⋅b6
+14⋅i⋅V^5⋅f^3/(27⋅J^8)⋅a1⋅b2⋅a4⋅b5⋅a6⋅b6
+316⋅V^4⋅f^4/(81⋅J^8)⋅b1⋅a2⋅b3⋅a4⋅b4⋅a5⋅b5⋅a6
−2⋅V^4⋅f^4/(3⋅J^8)⋅a1⋅b1⋅a2⋅b2⋅b4⋅a5⋅b5⋅a6
−2⋅i⋅V^7⋅f/J^8 - 2⋅i⋅V^5⋅f^3/J^8⋅b3⋅a4⋅b5⋅b7⋅a8⋅a9
−8⋅i⋅V^5⋅f^3/(3⋅J^8)⋅a1⋅b2⋅a3⋅b3⋅b4⋅a7
+4⋅V^4⋅f^4/(3⋅J^8)⋅a1⋅b1⋅a2⋅b2⋅b3⋅a4⋅b4⋅a7
−40⋅i⋅V^5⋅f^3/(81⋅J^8)⋅a2⋅b3⋅b4⋅a5⋅a6⋅b6
−4⋅i⋅V^5⋅f^3/(9⋅J^8)⋅a2⋅b2⋅b3⋅b4⋅b5⋅b6
−2⋅i⋅V^7⋅f/(3⋅J^8)⋅a1⋅a2⋅b2⋅a3⋅a5⋅b5⋅a6⋅b7⋅a8⋅a9
−6⋅i⋅V^5⋅f^3/J^8⋅a3⋅b3⋅a4⋅b4⋅b5⋅a7
+4⋅i⋅V^5⋅f^3/J^8⋅b1⋅a2⋅b2⋅a3⋅b3⋅a4⋅b4⋅a5⋅b6⋅a8
+4⋅i⋅V^5⋅f^3/(3⋅J^8)⋅a1⋅b1⋅a2⋅b2⋅a3⋅b3⋅b4⋅a5⋅b5⋅a6
+4⋅V^6⋅f^2/(3⋅J^8)⋅a1⋅b1⋅b2⋅a3⋅b3⋅a5⋅b5⋅a6
−28⋅i⋅V^5⋅f^3/(27⋅J^8)⋅b1⋅b2⋅b3⋅a5⋅b5⋅b6
−26⋅i⋅V^5⋅f^3/(27⋅J^8) + 8⋅i⋅V^3⋅f^5/(9⋅J^8)⋅a2⋅b2⋅b4⋅a5⋅b5⋅a6
+2⋅V^4⋅f^4/(3⋅J^8)⋅b1⋅a2⋅b2⋅a3⋅a4⋅a5⋅b5⋅b6
−10⋅i⋅V^5⋅f^3/(3⋅J^8) - 2⋅i⋅V^3⋅f^5/J^8⋅b2⋅a3⋅b4⋅b6⋅a7⋅a8
−20⋅V^6⋅f^2/(9⋅J^8) - 38⋅V^4⋅f^4/(9⋅J^8) - 2⋅V^2⋅f^6/J^8⋅a1⋅a2⋅a5⋅a6
+2⋅V^6⋅f^2/(3⋅J^8)⋅b2⋅a3⋅b3⋅b4⋅a5⋅b5⋅a6⋅a8
−4⋅i⋅V^5⋅f^3/(3⋅J^8)⋅a1⋅a2⋅b2⋅a4⋅b5⋅b6
+2⋅i⋅V^5⋅f^3/(27⋅J^8)⋅a2⋅b2⋅a3⋅b5⋅a6⋅b6
+14⋅V^6⋅f^2/(9⋅J^8) + 8⋅V^4⋅f^4/(3⋅J^8)⋅b1⋅a2⋅a3⋅a4⋅a5⋅a6⋅b6⋅a7
−8⋅V^6⋅f^2/(27⋅J^8) + 14⋅V^4⋅f^4/(27⋅J^8)⋅a1⋅a2⋅b2⋅b5
+4⋅V^4⋅f^4/(3⋅J^8)⋅a1⋅b1⋅b2⋅b3⋅a4⋅a5⋅b5⋅a7
−32⋅V^6⋅f^2/(9⋅J^8) - 4⋅V^4⋅f^4/J^8⋅a1⋅b1⋅b3⋅a4⋅b4⋅a5⋅b5⋅a7
+2⋅i⋅V^3⋅f^5/(3⋅J^8)⋅a1⋅b1⋅a2⋅b2⋅b3⋅a7
−4⋅i⋅V^5⋅f^3/(27⋅J^8) - 4⋅i⋅V^3⋅f^5/(9⋅J^8)⋅a1⋅b2⋅b3⋅a4⋅a5⋅b5
−20⋅V^4⋅f^4/(3⋅J^8)⋅b1⋅a2⋅b2⋅a3⋅a4⋅b4⋅b5⋅a7
−4⋅i⋅V^5⋅f^3/(3⋅J^8)⋅a1⋅b1⋅a2⋅b3⋅b4⋅a7
+20⋅i⋅V^5⋅f^3/(9⋅J^8)⋅b1⋅a3⋅b5⋅a6⋅b6⋅a7
+2⋅V^4⋅f^4/(3⋅J^8)⋅a1⋅b1⋅a2⋅b2⋅b3⋅b5⋅a6⋅a8
−4⋅i⋅V^5⋅f^3/(3⋅J^8)⋅a1⋅b1⋅a2⋅b2⋅b3⋅a4⋅b4⋅b6⋅a7⋅a8
+16⋅i⋅V^5⋅f^3/(27⋅J^8)⋅a2⋅b2⋅a4⋅b4⋅b5⋅a7
−8⋅i⋅V^5⋅f^3/(9⋅J^8)⋅a2⋅b2⋅b3⋅a5⋅a6⋅b6
−2⋅i⋅V^3⋅f^5/(3⋅J^8)⋅a1⋅a3⋅a4⋅a5⋅b5⋅a6
−4⋅i⋅V^5⋅f^3/(27⋅J^8)⋅a1⋅b1⋅a3⋅b5⋅a6⋅b6
+8⋅V^6⋅f^2/(9⋅J^8)⋅a1⋅b1⋅a2⋅b3⋅b4⋅a5⋅a6⋅b6
+22⋅i⋅V^5⋅f^3/(27⋅J^8)⋅b1⋅a3⋅a4⋅a5⋅b5⋅b6
−2⋅i⋅V^5⋅f^3/(3⋅J^8)⋅b3⋅a5⋅b5⋅b6⋅a7⋅a8
−2⋅V^6⋅f^2/(9⋅J^8)⋅a1⋅a2⋅b2⋅a3⋅b4⋅a5⋅b5⋅b6
−20⋅V^6⋅f^2/(27⋅J^8)⋅a1⋅b1⋅a3⋅a4⋅b4⋅b5⋅a6⋅b6
−76⋅V^6⋅f^2/(81⋅J^8) - 2⋅V^4⋅f^4/J^8⋅b1⋅a2⋅b6⋅a7
−134⋅i⋅V^5⋅f^3/(27⋅J^8)⋅a1⋅b1⋅a2⋅b2⋅a3⋅a4⋅a5⋅b5⋅a6⋅a7
−4⋅i⋅V^5⋅f^3/(3⋅J^8)⋅b1⋅a2⋅a4⋅b4⋅b6⋅a7
+8⋅i⋅V^5⋅f^3/(3⋅J^8)⋅a4⋅a5⋅a6⋅b6⋅a7⋅a8
+22⋅V^6⋅f^2/(9⋅J^8) + 10⋅V^4⋅f^4/(3⋅J^8)⋅b1⋅a2⋅a3⋅a4⋅a5⋅b6⋅a7⋅a8
+16⋅V^6⋅f^2/(27⋅J^8) - 10⋅V^4⋅f^4/(9⋅J^8)⋅a1⋅a2⋅b2⋅a4⋅a5⋅b5⋅a6⋅a7
+2⋅i⋅V^5⋅f^3/(3⋅J^8)⋅a1⋅a2⋅a4⋅b4⋅b5⋅b6
−22⋅V^4⋅f^4/(9⋅J^8)⋅a1⋅b1⋅a2⋅b2⋅a3⋅b3⋅a5⋅b5
+26⋅V^4⋅f^4/(27⋅J^8)⋅a1⋅a3⋅b3⋅b5
−26⋅i⋅V^5⋅f^3/(27⋅J^8)⋅b1⋅b2⋅a3⋅b3⋅b5⋅b6
+44⋅i⋅V^5⋅f^3/(81⋅J^8)⋅b1⋅a2⋅b2⋅a3⋅a4⋅b4⋅a5⋅b5⋅a6⋅b6
−2⋅V^4⋅f^4/(3⋅J^8)⋅a2⋅a3⋅a6⋅a7
−16⋅i⋅V^5⋅f^3/(27⋅J^8)⋅a1⋅b1⋅a5⋅b5⋅a6⋅b6
−116⋅i⋅V^5⋅f^3/(81⋅J^8)⋅b1⋅b3⋅b4⋅a5⋅b5⋅b6
−64⋅i⋅V^5⋅f^3/(27⋅J^8) + 20⋅i⋅V^3⋅f^5/(9⋅J^8)⋅a1⋅b1⋅a2⋅a3⋅a5⋅a6
−2⋅V^6⋅f^2/(3⋅J^8)⋅a1⋅b1⋅a2⋅a4⋅a5⋅b6⋅a7⋅a8
+2⋅V^6⋅f^2/(9⋅J^8) - 16⋅V^4⋅f^4/(9⋅J^8)⋅b1⋅a2⋅b2⋅b3⋅b4⋅a5⋅a6⋅a7
+2⋅i⋅V^5⋅f^3/(9⋅J^8)⋅a2⋅b2⋅b3⋅b6⋅a7⋅a8
−22⋅i⋅V^5⋅f^3/(27⋅J^8) + 8⋅i⋅V^3⋅f^5/(9⋅J^8)⋅b1⋅a3⋅b4⋅a5⋅b5⋅a6
+158⋅i⋅V^5⋅f^3/(81⋅J^8) + 406⋅i⋅V^3⋅f^5/(81⋅J^8)⋅b2⋅a3⋅b3⋅a4⋅a5⋅b5
−4⋅i⋅V^7⋅f/(9⋅J^8)⋅a2⋅a3⋅a7⋅b7⋅a8⋅a9
+2⋅i⋅V^5⋅f^3/J^8⋅b1⋅a2⋅b3⋅b4⋅a5⋅b5⋅a6⋅b7⋅a8⋅a9
+76⋅i⋅V^5⋅f^3/(81⋅J^8)⋅a2⋅b2⋅a3⋅b3⋅a6⋅b6
−8⋅i⋅V^5⋅f^3/(27⋅J^8)⋅a1⋅a2⋅b2⋅b5⋅a6⋅b6
−2⋅V^6⋅f^2/(3⋅J^8)⋅a1⋅b2⋅a3⋅a4⋅b4⋅a5⋅a6⋅a7
−8⋅i⋅V^7⋅f/(9⋅J^8)⋅a2⋅b2⋅b6⋅b7⋅a8⋅a9
−20⋅V^4⋅f^4/(81⋅J^8)⋅b2⋅a3⋅b3⋅a4⋅b4⋅a5⋅b5⋅a6
−22⋅V^6⋅f^2/(9⋅J^8) - 10⋅V^4⋅f^4/(3⋅J^8)⋅b1⋅a2⋅a3⋅b3⋅b4⋅b6⋅a7⋅a8
+4⋅i⋅V^5⋅f^3/(3⋅J^8)⋅a1⋅b1⋅a2⋅a3⋅a4⋅b4⋅a5⋅b5⋅a6⋅a7
−4⋅i⋅V^5⋅f^3/(3⋅J^8)⋅a4⋅b4⋅b5⋅a6⋅b6⋅a7
+244⋅i⋅V^5⋅f^3/(81⋅J^8) + 4⋅i⋅V^3⋅f^5/(3⋅J^8)⋅b1⋅b3⋅a4⋅a5⋅b5⋅a6
−28⋅V^6⋅f^2/(27⋅J^8) - 22⋅V^4⋅f^4/(81⋅J^8)⋅a2⋅b2⋅a3⋅a4⋅b4⋅b5⋅a6⋅b6
+10⋅i⋅V^5⋅f^3/(9⋅J^8)⋅a2⋅a3⋅a4⋅b6⋅a7⋅a8
+20⋅V^6⋅f^2/(27⋅J^8)⋅a3⋅b3⋅a4⋅b4⋅a5⋅b5⋅a6⋅b6
+52⋅V^4⋅f^4/(27⋅J^8)⋅a1⋅b1⋅a5⋅b5
−2⋅V^6⋅f^2/(9⋅J^8) + 386⋅V^4⋅f^4/(81⋅J^8) + 4⋅V^2⋅f^6/(3⋅J^8)⋅b2⋅a3⋅a4⋅b5
+4⋅i⋅V^5⋅f^3/(3⋅J^8)⋅a1⋅b2⋅a4⋅b4⋅b5⋅a6
−2⋅V^4⋅f^4/(9⋅J^8)⋅a1⋅b1⋅a2⋅a3⋅a4⋅b4⋅b5⋅b6
+14⋅i⋅V^5⋅f^3/(3⋅J^8)⋅a1⋅a2⋅b3⋅b4⋅b5⋅a7
−70⋅V^6⋅f^2/(81⋅J^8) - 4⋅V^4⋅f^4/(9⋅J^8)⋅b1⋅b4⋅b5⋅b6
−4⋅i⋅V^5⋅f^3/(3⋅J^8)⋅b3⋅a5⋅b5⋅a6⋅b6⋅a7
+2⋅i⋅V^7⋅f/(3⋅J^8)⋅b4⋅a6⋅b6⋅b7⋅a8⋅a9
+2⋅V^6⋅f^2/(3⋅J^8)⋅a1⋅b1⋅a2⋅b3⋅a4⋅b4⋅b5⋅a6
+4⋅V^6⋅f^2/(3⋅J^8)⋅b3⋅b4⋅a7⋅a8
+10⋅V^6⋅f^2/(9⋅J^8)⋅a1⋅b1⋅b2⋅b3⋅a5⋅b5⋅a6⋅a7
−4⋅V^6⋅f^2/(3⋅J^8)⋅a1⋅b1⋅a2⋅b3⋅b4⋅b6⋅a7⋅a8
−2⋅V^4⋅f^4/(3⋅J^8)⋅a1⋅a3⋅a4⋅b4⋅a5⋅b6⋅a7⋅a8
−8⋅V^6⋅f^2/(27⋅J^8) - 16⋅V^4⋅f^4/(9⋅J^8)⋅a3⋅a4⋅a6⋅a7
+2⋅i⋅V^5⋅f^3/(3⋅J^8)⋅b1⋅a2⋅b4⋅a6⋅b6⋅a7
−4⋅V^4⋅f^4/(3⋅J^8)⋅b1⋅a6⋅b6⋅a7
+68⋅V^6⋅f^2/(27⋅J^8) + 296⋅V^4⋅f^4/(81⋅J^8)⋅a2⋅b2⋅a3⋅a4⋅a5⋅b5⋅a6⋅a7
+2⋅i⋅V^3⋅f^5/(3⋅J^8)⋅a1⋅b1⋅a3⋅a4⋅b4⋅b5
−20⋅i⋅V^5⋅f^3/(27⋅J^8) + 2⋅i⋅V^3⋅f^5/(9⋅J^8)⋅a2⋅b2⋅b3⋅a4⋅b4⋅a7
−4⋅i⋅V^5⋅f^3/(3⋅J^8)⋅b1⋅a2⋅b2⋅a3⋅a4⋅b4⋅b5⋅a6⋅b6⋅a7
+10⋅i⋅V^5⋅f^3/(3⋅J^8) + 10⋅i⋅V^3⋅f^5/(3⋅J^8)⋅b1⋅a2⋅a3⋅a4⋅a5⋅a7
−4⋅i⋅V^7⋅f/(3⋅J^8)⋅a1⋅b1⋅b2⋅a3⋅b4⋅b5⋅a6⋅b7⋅a8⋅a9
−2⋅i⋅V^5⋅f^3/(3⋅J^8) - 4⋅i⋅V^3⋅f^5/(3⋅J^8)⋅b1⋅a7
−16⋅i⋅V^5⋅f^3/(9⋅J^8)⋅a1⋅b1⋅b2⋅a3⋅b3⋅a4⋅b4⋅b5⋅a6⋅a7
−134⋅i⋅V^5⋅f^3/(81⋅J^8)⋅a2⋅a4⋅b4⋅a5⋅a6⋅a7
−188⋅i⋅V^5⋅f^3/(81⋅J^8)⋅b1⋅a2⋅b2⋅a3⋅a6⋅b6
−2⋅V^4⋅f^4/(9⋅J^8)⋅a2⋅b2⋅b3⋅a7
+2⋅i⋅V^5⋅f^3/J^8⋅a1⋅a2⋅a4⋅b6⋅a7⋅a8
−14⋅V^6⋅f^2/(9⋅J^8)⋅a3⋅b3⋅b4⋅a5⋅b5⋅a6⋅b6⋅a8
−4⋅V^4⋅f^4/(9⋅J^8)⋅a1⋅b1⋅a2⋅a3⋅a4⋅a5⋅a6⋅b6
−2⋅i⋅V^7⋅f/(3⋅J^8)⋅b1⋅b2⋅a3⋅b3⋅b4⋅a5⋅a6⋅b7⋅a8⋅a9
−4⋅i⋅V^5⋅f^3/J^8⋅a1⋅a2⋅a3⋅a4⋅b5⋅a7
−2⋅V^4⋅f^4/J^8⋅b1⋅a2⋅b3⋅b4⋅a5⋅b6⋅a7⋅a8
+4⋅V^6⋅f^2/(3⋅J^8)⋅a4⋅b4⋅b6⋅a8
+10⋅i⋅V^7⋅f/(9⋅J^8)⋅b2⋅a4⋅b6⋅b7⋅a8⋅a9
−2⋅V^4⋅f^4/(3⋅J^8)⋅a1⋅b1⋅b2⋅a4⋅b4⋅a5⋅b5⋅a6
+4⋅i⋅V^5⋅f^3/(3⋅J^8)⋅a1⋅b1⋅a2⋅a3⋅b5⋅b6
+2⋅i⋅V^5⋅f^3/J^8⋅b2⋅b3⋅a4⋅a5⋅b5⋅a7
+20⋅V^6⋅f^2/(9⋅J^8) + 32⋅V^4⋅f^4/(9⋅J^8)⋅a1⋅a4⋅a5⋅a6
−4⋅V^6⋅f^2/(3⋅J^8)⋅b1⋅b2⋅a3⋅b3⋅a6⋅b6⋅a7⋅a8
−4⋅i⋅V^7⋅f/(3⋅J^8)⋅a2⋅b2⋅a3⋅a4⋅b4⋅a5⋅a6⋅b7⋅a8⋅a9
+4⋅i⋅V^5⋅f^3/(9⋅J^8)⋅b1⋅a3⋅b3⋅a5⋅a6⋅b6
−74⋅i⋅V^5⋅f^3/(81⋅J^8)⋅b1⋅a2⋅b2⋅a3⋅b3⋅b4⋅a5⋅b5⋅a6⋅a7
−4⋅V^6⋅f^2/(27⋅J^8)⋅b1⋅a2⋅b2⋅b4⋅a5⋅b5⋅a6⋅a7
+140⋅V^6⋅f^2/(81⋅J^8) - 56⋅V^4⋅f^4/(27⋅J^8) - 2⋅V^2⋅f^6/J^8⋅b2⋅a3⋅b5⋅a6
+2⋅V^6⋅f^2/(3⋅J^8)⋅b2⋅a3⋅b3⋅b4⋅a5⋅a6⋅b6⋅a7
−4⋅i⋅V^5⋅f^3/(9⋅J^8)⋅b1⋅a3⋅b3⋅a4⋅b4⋅a5⋅b5⋅b6⋅a7⋅a8
−2⋅V^6⋅f^2/J^8⋅b3⋅b4⋅a5⋅b5⋅a6⋅b6⋅a7⋅a8
+58⋅i⋅V^5⋅f^3/(27⋅J^8)⋅b2⋅b3⋅a4⋅b4⋅a6⋅a7
−10⋅V^6⋅f^2/(9⋅J^8)⋅b1⋅a3⋅b6⋅a8
−4⋅V^6⋅f^2/(3⋅J^8)⋅a2⋅b2⋅a3⋅b3⋅b5⋅b6⋅a7⋅a8
−10⋅V^6⋅f^2/(9⋅J^8)⋅b2⋅b4⋅a6⋅a8
+2⋅V^6⋅f^2/(3⋅J^8) + 140⋅V^4⋅f^4/(27⋅J^8)⋅b1⋅a2⋅b2⋅b3⋅a4⋅a5⋅b5⋅a6
+364⋅i⋅V^5⋅f^3/(81⋅J^8)⋅b1⋅b2⋅a3⋅b3⋅a4⋅b4⋅a5⋅b5⋅a6⋅a7
+8⋅V^6⋅f^2/(9⋅J^8) - 2⋅V^4⋅f^4/J^8⋅a1⋅b1⋅b2⋅a3⋅b4⋅a5⋅b5⋅a7
+2⋅V^6⋅f^2/J^8⋅b3⋅a4⋅b4⋅a5⋅b5⋅a6⋅b6⋅a7
−8⋅i⋅V^5⋅f^3/(27⋅J^8)⋅b1⋅b2⋅b3⋅a5⋅a6⋅a7
−4⋅V^6⋅f^2/(9⋅J^8) + 40⋅V^4⋅f^4/(27⋅J^8) + 8⋅V^2⋅f^6/(9⋅J^8)⋅a1⋅a2⋅b2⋅b3
−4⋅i⋅V^5⋅f^3/(9⋅J^8)⋅a2⋅b2⋅b3⋅a4⋅b4⋅a5⋅b5⋅b6⋅a7⋅a8
+2⋅V^4⋅f^4/(3⋅J^8)⋅a1⋅b1⋅a2⋅a3⋅b3⋅a4⋅a5⋅a7
−8⋅i⋅V^5⋅f^3/(9⋅J^8)⋅a1⋅b1⋅a2⋅b2⋅a6⋅b6
−2⋅V^6⋅f^2/J^8 - 16⋅V^4⋅f^4/(9⋅J^8)⋅b1⋅a2⋅a3⋅a4⋅b4⋅a5⋅b5⋅b6
−4⋅i⋅V^5⋅f^3/(9⋅J^8)⋅a1⋅b1⋅a2⋅b2⋅a3⋅b3⋅a5⋅b5⋅a6⋅b6
−50⋅V^6⋅f^2/(27⋅J^8) - 14⋅V^4⋅f^4/(9⋅J^8)⋅b1⋅a2⋅b2⋅b3⋅b4⋅a5⋅b5⋅b6
−16⋅V^6⋅f^2/(27⋅J^8) - 4⋅V^4⋅f^4/(9⋅J^8)⋅a1⋅b1⋅a2⋅b2⋅b4⋅b5⋅a6⋅a7
+20⋅i⋅V^5⋅f^3/(9⋅J^8)⋅b1⋅a2⋅b2⋅a4⋅b4⋅a5⋅b5⋅b6⋅a7⋅a8
+2⋅i⋅V^5⋅f^3/J^8⋅b2⋅a3⋅b3⋅a4⋅b4⋅a5⋅b5⋅a6⋅b6⋅a8
+2⋅i⋅V^5⋅f^3/(3⋅J^8)⋅b1⋅a2⋅b3⋅a5⋅b6⋅a7
−14⋅V^6⋅f^2/(9⋅J^8) - 28⋅V^4⋅f^4/(9⋅J^8)⋅b1⋅b2⋅b3⋅a4⋅a5⋅b5⋅a6⋅a8
−2⋅V^4⋅f^4/J^8⋅b1⋅a2⋅b3⋅b4⋅a5⋅a6⋅b6⋅a7
−4⋅i⋅V^7⋅f/(3⋅J^8)⋅a1⋅b1⋅a2⋅b3⋅b4⋅b5⋅a6⋅b7⋅a8⋅a9
−4⋅V^6⋅f^2/(9⋅J^8) - 4⋅V^4⋅f^4/(9⋅J^8)⋅b1⋅a2⋅b2⋅a4⋅b4⋅a5⋅a6⋅b6
+38⋅i⋅V^5⋅f^3/(9⋅J^8)⋅b1⋅b2⋅b3⋅a4⋅b4⋅a5⋅a6⋅b6⋅a7⋅a8
−4⋅V^6⋅f^2/(3⋅J^8) + 2⋅V^4⋅f^4/J^8⋅a1⋅a2⋅b3⋅a4⋅a5⋅b6⋅a7⋅a8
+2⋅V^6⋅f^2/J^8⋅a1⋅b2⋅a3⋅a4⋅a5⋅b5⋅a6⋅a8
−10⋅V^6⋅f^2/(9⋅J^8) - 8⋅V^4⋅f^4/(9⋅J^8)⋅a2⋅a3⋅b3⋅a4⋅a5⋅b6⋅a7⋅a8
+4⋅V^6⋅f^2/(9⋅J^8)⋅b2⋅a4⋅b4⋅a5⋅b5⋅a6⋅b6⋅a8
+14⋅V^4⋅f^4/(3⋅J^8)⋅b1⋅b2⋅a6⋅a7
+16⋅V^4⋅f^4/(9⋅J^8)⋅a1⋅a2⋅b2⋅b3⋅a4⋅b4⋅a5⋅b5
+14⋅V^6⋅f^2/(9⋅J^8) + 2⋅V^4⋅f^4/(3⋅J^8)⋅b1⋅a2⋅b2⋅b3⋅a5⋅b6⋅a7⋅a8
−4⋅i⋅V^5⋅f^3/J^8⋅b3⋅a4⋅b4⋅a5⋅b6⋅a8
−10⋅V^6⋅f^2/(9⋅J^8) - 8⋅V^4⋅f^4/(9⋅J^8)⋅a2⋅a3⋅b3⋅a4⋅a5⋅b5⋅a6⋅a8
−2⋅i⋅V^7⋅f/J^8⋅b1⋅a2⋅b2⋅a3⋅b3⋅a4⋅b4⋅a5⋅b5⋅a6⋅b6⋅a7⋅b7⋅a9
−16⋅i⋅V^5⋅f^3/(9⋅J^8)⋅a2⋅b2⋅b5⋅a6⋅b6⋅a7
−8⋅i⋅V^5⋅f^3/(3⋅J^8)⋅a4⋅b4⋅b5⋅b6⋅a7⋅a8
−4⋅V^4⋅f^4/(3⋅J^8)⋅a1⋅a2⋅b3⋅b4⋅a5⋅b5⋅a6⋅b6
−4⋅i⋅V^7⋅f/(3⋅J^8)⋅a4⋅b4⋅b6⋅b7⋅a8⋅a9
+4⋅i⋅V^7⋅f/(9⋅J^8)⋅b2⋅b3⋅a7⋅b7⋅a8⋅a9
+28⋅i⋅V^5⋅f^3/(9⋅J^8) + 2⋅i⋅V^3⋅f^5/(9⋅J^8)⋅b1⋅a3⋅b3⋅a4⋅b5⋅a6
+2⋅V^6⋅f^2/(3⋅J^8)⋅b1⋅b3⋅a4⋅b4⋅a5⋅a6⋅b6⋅a7
+2⋅V^6⋅f^2/(3⋅J^8)⋅a1⋅b2⋅a3⋅a4⋅a5⋅b6⋅a7⋅a8
−4⋅i⋅V^5⋅f^3/J^8⋅b1⋅a2⋅b2⋅a3⋅b6⋅a8
−10⋅i⋅V^5⋅f^3/(27⋅J^8)⋅b1⋅b2⋅a3⋅b3⋅a6⋅a7
+10⋅V^4⋅f^4/(3⋅J^8)⋅a1⋅a2⋅a4⋅b4⋅a5⋅b5⋅a6⋅a7
+2⋅V^6⋅f^2/(3⋅J^8)⋅b2⋅a3⋅b3⋅b4⋅a5⋅b6⋅a7⋅a8
+86⋅V^4⋅f^4/(9⋅J^8)⋅a1⋅a2⋅a3⋅b3⋅a4⋅b4⋅a5⋅a6
−2⋅V^6⋅f^2/(3⋅J^8) - 8⋅V^4⋅f^4/(27⋅J^8)⋅a2⋅a3⋅b3⋅a4⋅b4⋅a5⋅a6⋅a7
+2⋅V^6⋅f^2/(3⋅J^8)⋅a1⋅b1⋅a2⋅a4⋅a5⋅a6⋅b6⋅a7
−4⋅V^4⋅f^4/J^8⋅a1⋅a2⋅a6⋅a7
−26⋅i⋅V^5⋅f^3/(27⋅J^8)⋅b1⋅a2⋅a3⋅b4⋅b5⋅a7
+28⋅V^6⋅f^2/(81⋅J^8)⋅a2⋅b4⋅b5⋅a7
+2⋅i⋅V^5⋅f^3/(3⋅J^8) + 2⋅i⋅V^3⋅f^5/(3⋅J^8)⋅b1⋅a2⋅b2⋅a4⋅b4⋅a7
+2⋅V^4⋅f^4/J^8⋅a1⋅a2⋅b3⋅a4⋅a5⋅a6⋅b6⋅a7
−38⋅V^6⋅f^2/(27⋅J^8) - 322⋅V^4⋅f^4/(81⋅J^8) + 2⋅V^2⋅f^6/(9⋅J^8)⋅b1⋅b2⋅b4⋅b5
−2⋅i⋅V^7⋅f/(3⋅J^8)⋅a2⋅b2⋅a3⋅b3⋅b4⋅a5⋅b5⋅b7⋅a8⋅a9
−8⋅V^4⋅f^4/(3⋅J^8)⋅a1⋅b2⋅b5⋅a6
+4⋅i⋅V^5⋅f^3/J^8⋅b1⋅a2⋅b2⋅a3⋅b4⋅b5⋅a6⋅b6⋅a7⋅a8
−8⋅i⋅V^5⋅f^3/(27⋅J^8)⋅b1⋅a3⋅b3⋅a4⋅a5⋅b6
+76⋅i⋅V^5⋅f^3/(9⋅J^8) + 464⋅i⋅V^3⋅f^5/(81⋅J^8)⋅a2⋅b2⋅a3⋅a4⋅a5⋅a6
+2⋅V^6⋅f^2/J^8 + 2⋅V^4⋅f^4/J^8⋅b3⋅a4⋅b5⋅a8
+2⋅V^4⋅f^4/J^8⋅a1⋅b1⋅b2⋅b3⋅a4⋅b6⋅a7⋅a8
−74⋅V^6⋅f^2/(27⋅J^8) - 110⋅V^4⋅f^4/(27⋅J^8)⋅b1⋅b2⋅a4⋅b4⋅a5⋅b5⋅a6⋅a7
+86⋅i⋅V^5⋅f^3/(81⋅J^8) - 2⋅i⋅V^3⋅f^5/(3⋅J^8)⋅b2⋅a3⋅b3⋅a5⋅b5⋅a6
−2⋅i⋅V^3⋅f^5/(3⋅J^8)⋅a1⋅b1⋅a2⋅a3⋅a4⋅a7
+2⋅V^6⋅f^2/J^8⋅a1⋅b1⋅a2⋅a3⋅a6⋅b6⋅a7⋅a8
−8⋅V^6⋅f^2/(3⋅J^8) - 14⋅V^4⋅f^4/(9⋅J^8)⋅b1⋅a2⋅a3⋅b3⋅b4⋅a5⋅b5⋅a7
+146⋅V^6⋅f^2/(81⋅J^8) + 172⋅V^4⋅f^4/(81⋅J^8)⋅b2⋅a3⋅b3⋅a4⋅a5⋅b5⋅a6⋅b6
+94⋅V^6⋅f^2/(27⋅J^8) + 8⋅V^4⋅f^4/(9⋅J^8)⋅a3⋅a4⋅b5⋅b6
+8⋅i⋅V^7⋅f/(9⋅J^8) - 2⋅i⋅V^5⋅f^3/(9⋅J^8)⋅a2⋅b2⋅b3⋅a4⋅b4⋅b5⋅a6⋅b7⋅a8⋅a9
−4⋅V^6⋅f^2/(3⋅J^8)⋅b4⋅a6⋅b6⋅a8
+32⋅V^6⋅f^2/(81⋅J^8)⋅a2⋅b3⋅b6⋅a7
−32⋅V^6⋅f^2/(9⋅J^8) - 484⋅V^4⋅f^4/(27⋅J^8)⋅a1⋅b1⋅a2⋅b2⋅a3⋅b3⋅b4⋅a6
−2⋅i⋅V^5⋅f^3/(27⋅J^8)⋅a1⋅a3⋅b3⋅b5⋅a6⋅b6
+2⋅V^6⋅f^2/(3⋅J^8)⋅a1⋅a2⋅b2⋅a3⋅a5⋅b6⋅a7⋅a8
−206⋅i⋅V^5⋅f^3/(81⋅J^8)⋅a2⋅b3⋅b4⋅a5⋅b5⋅a7
−50⋅i⋅V^5⋅f^3/(27⋅J^8) - 4⋅i⋅V^3⋅f^5/(9⋅J^8)⋅a1⋅a3⋅b3⋅a4⋅a5⋅a6
−8⋅V^6⋅f^2/(9⋅J^8) + 2⋅V^4⋅f^4/(9⋅J^8)⋅a2⋅b2⋅b3⋅a4⋅b4⋅b5⋅a6⋅a8
+10⋅V^6⋅f^2/(9⋅J^8)⋅b2⋅b3⋅a4⋅a5⋅b5⋅b6⋅a7⋅a8
−4⋅i⋅V^5⋅f^3/(3⋅J^8)⋅a1⋅b1⋅a2⋅a3⋅b3⋅b4⋅a5⋅b5⋅a6⋅b6
+2⋅V^6⋅f^2/(9⋅J^8) - 130⋅V^4⋅f^4/(27⋅J^8) - 46⋅V^2⋅f^6/(27⋅J^8)⋅a1⋅a2⋅a4⋅a5
+40⋅i⋅V^5⋅f^3/(81⋅J^8)⋅b1⋅a4⋅b4⋅a5⋅a6⋅b6
−32⋅V^6⋅f^2/(27⋅J^8) + 4⋅V^4⋅f^4/(27⋅J^8)⋅a2⋅b2⋅b3⋅a4⋅b4⋅a5⋅a6⋅b6
+2⋅i⋅V^7⋅f/J^8⋅b7⋅a9
+2⋅i⋅V^5⋅f^3/(3⋅J^8)⋅a1⋅a2⋅a4⋅a5⋅b5⋅a7
−8⋅V^6⋅f^2/(9⋅J^8) + 2⋅V^4⋅f^4/(9⋅J^8)⋅a2⋅b2⋅b3⋅a4⋅b4⋅b6⋅a7⋅a8
+26⋅V^6⋅f^2/(9⋅J^8) + 368⋅V^4⋅f^4/(27⋅J^8) + 4⋅V^2⋅f^6/J^8⋅a1⋅b1⋅b4⋅a6
+2⋅V^4⋅f^4/J^8⋅a1⋅b1⋅b2⋅b3⋅a4⋅a6⋅b6⋅a7
+8⋅i⋅V^5⋅f^3/(81⋅J^8)⋅a3⋅a4⋅b4⋅b5⋅a6⋅b6
+20⋅V^6⋅f^2/(27⋅J^8) - 8⋅V^4⋅f^4/(27⋅J^8)⋅a1⋅b1⋅a3⋅b5
−2⋅V^6⋅f^2/(9⋅J^8)⋅a1⋅b1⋅a2⋅a4⋅b4⋅a5⋅b5⋅b6
+2⋅i⋅V^5⋅f^3/(3⋅J^8) - 8⋅i⋅V^3⋅f^5/(3⋅J^8)⋅b1⋅a2⋅b3⋅a4⋅b5⋅a7
−8⋅V^6⋅f^2/(27⋅J^8) + 2⋅V^4⋅f^4/(27⋅J^8)⋅a2⋅b2⋅a4⋅b4⋅a5⋅b5⋅a6⋅b6
+4⋅i⋅V^5⋅f^3/(3⋅J^8)⋅a1⋅b2⋅b3⋅a4⋅a6⋅b6
−20⋅i⋅V^5⋅f^3/(27⋅J^8)⋅b1⋅a3⋅a4⋅b4⋅b5⋅a7
+2⋅i⋅V^7⋅f/J^8 + 2⋅i⋅V^5⋅f^3/J^8⋅b1⋅a2⋅b3⋅a4⋅b4⋅a5⋅b5⋅b7⋅a8⋅a9
+2⋅i⋅V^5⋅f^3/(81⋅J^8)⋅a2⋅b2⋅a3⋅b3⋅a4⋅b4⋅a5⋅b5⋅a6⋅b6
+8⋅i⋅V^5⋅f^3/(3⋅J^8)⋅a1⋅a2⋅b4⋅b5⋅a6⋅b6
+2⋅i⋅V^5⋅f^3/(3⋅J^8) + 4⋅i⋅V^3⋅f^5/(3⋅J^8)⋅b1⋅b3⋅a4⋅b4⋅a5⋅a7
+2⋅V^6⋅f^2/(3⋅J^8)⋅a1⋅a2⋅b2⋅a3⋅a5⋅a6⋅b6⋅a7
−70⋅V^6⋅f^2/(81⋅J^8) + 4⋅V^4⋅f^4/(9⋅J^8)⋅b1⋅b4⋅a6⋅a7
+334⋅i⋅V^5⋅f^3/(81⋅J^8)⋅b1⋅b2⋅a3⋅a4⋅b5⋅a7
−40⋅V^6⋅f^2/(27⋅J^8) - 4⋅V^4⋅f^4/(3⋅J^8)⋅a1⋅b1⋅a3⋅b3⋅b4⋅b5⋅a6⋅a7
−22⋅i⋅V^5⋅f^3/(27⋅J^8) - 4⋅i⋅V^3⋅f^5/(3⋅J^8)⋅b1⋅a2⋅b3⋅a5⋅b5⋅a6
+2⋅i⋅V^7⋅f/J^8⋅a1⋅b2⋅b3⋅a4⋅b4⋅a5⋅b5⋅b7⋅a8⋅a9
−16⋅i⋅V^5⋅f^3/(27⋅J^8)⋅b1⋅a3⋅a4⋅a5⋅a6⋅a7
−4⋅V^6⋅f^2/(9⋅J^8)⋅b2⋅b3⋅a7⋅a8
−16⋅i⋅V^5⋅f^3/(9⋅J^8)⋅b1⋅a2⋅a3⋅b3⋅b4⋅a5⋅b5⋅a6⋅b6⋅a7
−2⋅V^4⋅f^4/(3⋅J^8)⋅a1⋅b1⋅b2⋅b3⋅a4⋅b4⋅a6⋅a7
−2⋅V^4⋅f^4/(3⋅J^8)⋅a1⋅b1⋅a2⋅a3⋅a4⋅b6⋅a7⋅a8
−250⋅V^4⋅f^4/(81⋅J^8)⋅a2⋅b3⋅b5⋅a6
−4⋅i⋅V^7⋅f/(3⋅J^8)⋅a5⋅b5⋅b6⋅b7⋅a8⋅a9
−4⋅V^6⋅f^2/(3⋅J^8) - 194⋅V^4⋅f^4/(81⋅J^8)⋅a2⋅b2⋅a3⋅b3⋅b4⋅a5⋅b5⋅a6
−4⋅V^6⋅f^2/(3⋅J^8)⋅b1⋅b2⋅a3⋅a4⋅b4⋅a5⋅b5⋅a8
−2⋅V^6⋅f^2/J^8⋅b1⋅a2⋅b2⋅a3⋅b3⋅a4⋅b4⋅a5⋅b5⋅a6⋅b6⋅a7
−2⋅i⋅V^5⋅f^3/J^8 - 10⋅i⋅V^3⋅f^5/(3⋅J^8)⋅b1⋅a2⋅a3⋅b3⋅b4⋅a7
+16⋅V^4⋅f^4/(3⋅J^8)⋅b1⋅a2⋅b2⋅a3⋅a4⋅a5⋅a6⋅a7
−10⋅V^6⋅f^2/(9⋅J^8) + 10⋅V^4⋅f^4/(27⋅J^8)⋅a1⋅b2⋅a4⋅b5
+8⋅V^6⋅f^2/(9⋅J^8) + 32⋅V^4⋅f^4/(9⋅J^8)⋅a2⋅b2⋅b5⋅a7
+46⋅i⋅V^5⋅f^3/(81⋅J^8)⋅a2⋅a3⋅b4⋅b5⋅a6⋅b6
+2⋅V^4⋅f^4/(3⋅J^8)⋅a1⋅b1⋅b2⋅b3⋅a4⋅b4⋅b5⋅b6
+4⋅i⋅V^5⋅f^3/(9⋅J^8)⋅a4⋅b6
+2⋅V^4⋅f^4/(9⋅J^8)⋅a1⋅b1⋅a2⋅b2⋅b3⋅b4⋅b5⋅b6
+4⋅i⋅V^5⋅f^3/(3⋅J^8) + 2⋅i⋅V^3⋅f^5/(9⋅J^8)⋅a1⋅b3⋅a4⋅b4⋅a5⋅b5
+2⋅V^4⋅f^4/J^8⋅b2⋅b3⋅a4⋅a7
+20⋅i⋅V^5⋅f^3/(27⋅J^8)⋅a2⋅b2⋅a4⋅a5⋅a6⋅a7
−14⋅V^6⋅f^2/(9⋅J^8)⋅a3⋅a4⋅a7⋅a8
−2⋅i⋅V^5⋅f^3/(3⋅J^8)⋅a1⋅b1⋅a2⋅b2⋅b3⋅b5⋅a6⋅b7⋅a8⋅a9
−8⋅i⋅V^5⋅f^3/(27⋅J^8)⋅a2⋅b2⋅b3⋅a4⋅a5⋅b6
−14⋅V^6⋅f^2/(9⋅J^8) - 8⋅V^4⋅f^4/(9⋅J^8)⋅b1⋅b2⋅b5⋅b6
−8⋅V^6⋅f^2/(3⋅J^8)⋅a5⋅a6⋅a7⋅a8
+10⋅V^4⋅f^4/(3⋅J^8) + 2⋅V^2⋅f^6/J^8⋅b2⋅a3⋅b4⋅a7
−4⋅i⋅V^5⋅f^3/(9⋅J^8)⋅a2⋅b2⋅b3⋅a4⋅b4⋅a5⋅b5⋅a6⋅b6⋅a7
−4⋅i⋅V^5⋅f^3/J^8⋅a1⋅b1⋅a2⋅b2⋅b5⋅a7
−8⋅i⋅V^5⋅f^3/(3⋅J^8) + 2⋅i⋅V^3⋅f^5/J^8⋅a1⋅a2⋅b3⋅a4⋅a5⋅a7
−2⋅i⋅V^7⋅f/J^8⋅b5⋅a6⋅b6⋅a7⋅b7⋅a9
−2⋅i⋅V^5⋅f^3/(3⋅J^8)⋅b3⋅a4⋅b4⋅a6⋅b6⋅a7
+8⋅V^6⋅f^2/(9⋅J^8)⋅a1⋅b1⋅a2⋅b3⋅b4⋅a5⋅b5⋅a7
+2⋅V^6⋅f^2/J^8⋅b5⋅b6⋅a7⋅a8
+20⋅i⋅V^5⋅f^3/(81⋅J^8) - 4⋅i⋅V^3⋅f^5/J^8⋅b2⋅a3⋅b3⋅a4⋅b5⋅a7
+4⋅V^6⋅f^2/(9⋅J^8)⋅a2⋅a3⋅a7⋅a8
−2⋅i⋅V^5⋅f^3/J^8⋅b1⋅a2⋅b5⋅a6⋅b6⋅a8
+2⋅i⋅V^5⋅f^3/(3⋅J^8)⋅b1⋅a2⋅b2⋅b6⋅a7⋅a8
−2⋅V^4⋅f^4/J^8⋅b1⋅a2⋅b2⋅a3⋅b3⋅a4⋅b5⋅a8
−266⋅V^6⋅f^2/(81⋅J^8) - 470⋅V^4⋅f^4/(81⋅J^8)⋅b1⋅a2⋅b3⋅a4⋅a5⋅b5⋅a6⋅b6
+2⋅V^6⋅f^2/(9⋅J^8)⋅a1⋅b1⋅a2⋅a4⋅b4⋅a5⋅a6⋅a7
−14⋅i⋅V^7⋅f/(9⋅J^8) - 8⋅i⋅V^5⋅f^3/(3⋅J^8)⋅b1⋅a2⋅a3⋅a4⋅a5⋅b5⋅a6⋅b7⋅a8⋅a9
−8⋅i⋅V^5⋅f^3/(9⋅J^8)⋅b2⋅b3⋅a6⋅b6⋅a7⋅a8
+40⋅V^6⋅f^2/(81⋅J^8) - 8⋅V^4⋅f^4/(9⋅J^8)⋅b1⋅a5⋅a6⋅b6
+2⋅V^6⋅f^2/J^8 + 52⋅V^4⋅f^4/(27⋅J^8)⋅b1⋅b2⋅b3⋅a4⋅b4⋅a5⋅b5⋅b6
−32⋅V^6⋅f^2/(27⋅J^8) - 4⋅V^4⋅f^4/(3⋅J^8)⋅a1⋅b1⋅b2⋅b3⋅b4⋅b5⋅a6⋅b6
−238⋅i⋅V^5⋅f^3/(81⋅J^8)⋅a2⋅b2⋅a3⋅b4⋅b5⋅a6
−2⋅i⋅V^5⋅f^3/(3⋅J^8)⋅a1⋅b1⋅b2⋅a3⋅b3⋅b4⋅a5⋅b6⋅a7⋅a8
−10⋅V^6⋅f^2/(9⋅J^8)⋅b2⋅a4⋅b6⋅a8
+16⋅i⋅V^5⋅f^3/(9⋅J^8)⋅a2⋅a3⋅a6⋅b6⋅a7⋅a8
−28⋅V^6⋅f^2/(27⋅J^8) - 88⋅V^4⋅f^4/(27⋅J^8) - 2⋅V^2⋅f^6/(3⋅J^8)⋅a3⋅a4⋅b4⋅b5
−2⋅V^6⋅f^2/(3⋅J^8)⋅b3⋅a5⋅b6⋅a8
−2⋅i⋅V^5⋅f^3/J^8⋅a1⋅a2⋅b3⋅a4⋅a5⋅b5⋅a6⋅b7⋅a8⋅a9
−10⋅i⋅V^5⋅f^3/(9⋅J^8)⋅b1⋅b2⋅a4⋅b6⋅a7⋅a8
+2⋅V^4⋅f^4/(9⋅J^8)⋅a1⋅b1⋅a2⋅a3⋅a4⋅b4⋅a6⋅a7
+94⋅V^6⋅f^2/(27⋅J^8) + 16⋅V^4⋅f^4/(3⋅J^8)⋅a3⋅b3⋅b5⋅a7
+20⋅i⋅V^5⋅f^3/(9⋅J^8)⋅b2⋅a4⋅b5⋅a6⋅b6⋅a7
−4⋅V^6⋅f^2/(9⋅J^8)⋅b2⋅a5⋅b5⋅a8
+40⋅V^6⋅f^2/(27⋅J^8)⋅a1⋅b1⋅b2⋅a4⋅b4⋅b5⋅a6⋅a7
−2⋅i⋅V^5⋅f^3/(9⋅J^8)⋅a2⋅a3⋅b3⋅a4⋅b4⋅a5⋅a6⋅b6⋅a7⋅a8
+2⋅V^6⋅f^2/J^8⋅a1⋅b2⋅b3⋅a4⋅b4⋅a5⋅b6⋅a7
+8⋅i⋅V^5⋅f^3/(9⋅J^8)⋅a3⋅a4⋅a6⋅b6⋅a7⋅a8
+2⋅i⋅V^5⋅f^3/(9⋅J^8)⋅a1⋅b1⋅a2⋅a3⋅b3⋅a4⋅b4⋅a5⋅a6⋅a7
+236⋅V^6⋅f^2/(81⋅J^8) + 182⋅V^4⋅f^4/(81⋅J^8)⋅b1⋅a2⋅b3⋅a4⋅b4⋅b5⋅a6⋅a7
+26⋅V^6⋅f^2/(27⋅J^8)⋅b2⋅a5⋅b6⋅a7
−112⋅i⋅V^5⋅f^3/(81⋅J^8)⋅a2⋅b2⋅a3⋅b3⋅b5⋅a7
+16⋅V^4⋅f^4/(9⋅J^8)⋅a1⋅b1⋅a2⋅b2⋅a3⋅a4⋅b4⋅b5
+8⋅V^6⋅f^2/(9⋅J^8) + 128⋅V^4⋅f^4/(27⋅J^8) - 16⋅V^2⋅f^6/(27⋅J^8)⋅a1⋅a2⋅b3⋅b4
−2⋅V^6⋅f^2/J^8⋅b1⋅b2⋅a3⋅b4⋅a5⋅a6⋅b6⋅a7
+10⋅V^4⋅f^4/(9⋅J^8)⋅b1⋅b2⋅a4⋅a7
+2⋅i⋅V^5⋅f^3/(9⋅J^8)⋅b1⋅a3⋅b3⋅b6⋅a7⋅a8
−278⋅i⋅V^5⋅f^3/(27⋅J^8) - 20⋅i⋅V^3⋅f^5/(3⋅J^8)⋅a1⋅b1⋅a3⋅b3⋅b4⋅a6
−14⋅V^6⋅f^2/(9⋅J^8) - 28⋅V^4⋅f^4/(9⋅J^8)⋅b1⋅b2⋅b3⋅a4⋅a5⋅b6⋅a7⋅a8
−2⋅V^6⋅f^2/(3⋅J^8)⋅a1⋅b1⋅b3⋅a4⋅b4⋅b6⋅a7⋅a8
+2⋅V^6⋅f^2/(3⋅J^8) + 4⋅V^4⋅f^4/(27⋅J^8)⋅b1⋅a3⋅b3⋅a4⋅b4⋅a5⋅a6⋅b6
+28⋅i⋅V^5⋅f^3/(81⋅J^8)⋅a2⋅a4⋅b4⋅a5⋅b5⋅b6
−4⋅V^4⋅f^4/(3⋅J^8)⋅b1⋅b5⋅a6⋅a8
+4⋅i⋅V^5⋅f^3/(3⋅J^8)⋅b1⋅a2⋅b2⋅a3⋅b3⋅a5⋅b5⋅b6⋅a7⋅a8
−8⋅V^6⋅f^2/(9⋅J^8) - 2⋅V^4⋅f^4/(3⋅J^8)⋅b1⋅a2⋅a3⋅b3⋅b4⋅a6⋅b6⋅a7
−14⋅i⋅V^5⋅f^3/(9⋅J^8)⋅b1⋅b3⋅a5⋅b6⋅a7⋅a8
−2⋅V^6⋅f^2/J^8 - 2⋅V^4⋅f^4/J^8⋅b1⋅a2⋅b3⋅a4⋅b4⋅a5⋅b5⋅a8
+46⋅V^6⋅f^2/(27⋅J^8) + 10⋅V^4⋅f^4/(9⋅J^8)⋅b2⋅b3⋅b5⋅b6
−14⋅i⋅V^7⋅f/(9⋅J^8)⋅a3⋅b4⋅b5⋅b7⋅a8⋅a9
−8⋅i⋅V^5⋅f^3/(27⋅J^8)⋅a2⋅a3⋅b3⋅a5⋅b5⋅b6
+10⋅i⋅V^7⋅f/(9⋅J^8)⋅b1⋅a3⋅b6⋅b7⋅a8⋅a9
−2⋅V^4⋅f^4/J^8⋅a1⋅a2⋅a4⋅a7
+4⋅V^6⋅f^2/(9⋅J^8)⋅a2⋅b2⋅a3⋅b3⋅a4⋅a5⋅b5⋅b6
+4⋅V^6⋅f^2/(3⋅J^8)⋅b1⋅b2⋅a3⋅a4⋅b4⋅a5⋅b6⋅a7
−128⋅V^6⋅f^2/(81⋅J^8) - 2⋅V^4⋅f^4/(3⋅J^8)⋅a4⋅a5⋅b5⋅b6
+4⋅V^6⋅f^2/(9⋅J^8) + 2⋅V^4⋅f^4/(9⋅J^8)⋅b1⋅a3⋅b3⋅a4⋅b4⋅a6⋅b6⋅a7
+8⋅V^6⋅f^2/(3⋅J^8) + 80⋅V^4⋅f^4/(27⋅J^8)⋅b1⋅b2⋅b3⋅b4⋅a5⋅b5⋅a6⋅b6
−4⋅V^4⋅f^4/(9⋅J^8)⋅a1⋅b1⋅a2⋅a3⋅a4⋅a5⋅b5⋅a7
−4⋅i⋅V^5⋅f^3/(9⋅J^8)⋅a1⋅a2⋅b2⋅b4⋅b5⋅a6
−62⋅i⋅V^5⋅f^3/(27⋅J^8) - 10⋅i⋅V^3⋅f^5/(9⋅J^8)⋅b1⋅a2⋅b2⋅a4⋅b5⋅a6
+4⋅V^6⋅f^2/(3⋅J^8)⋅a1⋅b1⋅b2⋅a3⋅b4⋅b5⋅a6⋅a8
+4⋅V^6⋅f^2/(3⋅J^8)⋅a1⋅b1⋅a2⋅b3⋅b4⋅a6⋅b6⋅a7
−8⋅V^6⋅f^2/(9⋅J^8) - 2⋅V^4⋅f^4/(3⋅J^8)⋅a1⋅a2⋅b3⋅a4⋅b4⋅a5⋅b5⋅b6
−8⋅V^6⋅f^2/(9⋅J^8) - 2⋅V^4⋅f^4/(3⋅J^8)⋅b1⋅a2⋅a3⋅b3⋅b4⋅b5⋅a6⋅a8}


In [30]:
p(psi5)
print('\n')

{−D51⋅a1⋅b1⋅b3⋅a4⋅b6⋅a7⋅a8
+D44 - 2⋅V^2⋅f^3/(3⋅J^5)⋅a1⋅a2⋅b3⋅a4⋅b4
+V^2⋅f^3/(3⋅J^5)⋅b2⋅a3⋅a4⋅b5⋅a6
−D118⋅a1⋅b1⋅b2⋅a3⋅b3⋅a4⋅a6
+8⋅i⋅V^3⋅f^2/(9⋅J^5) + 14⋅i⋅V⋅f^4/(27⋅J^5)⋅b1⋅a3⋅a6
+4⋅V^4⋅f/(27⋅J^5)⋅a2⋅a5⋅b5⋅a6⋅b6
−16⋅V^4⋅f/(9⋅J^5) - 5⋅V^2⋅f^3/(9⋅J^5)⋅b1⋅a2⋅b4⋅a5⋅a6
+D111 + 2⋅V^2⋅f^3/(9⋅J^5)⋅a1⋅b2⋅a4⋅b4⋅a5
−D3⋅a1⋅b2⋅a3⋅b3⋅b4⋅a5⋅a6
−V^2⋅f^3/J^5⋅b2⋅a3⋅b5⋅a6⋅a8
−28⋅i⋅V^3⋅f^2/(135⋅J^5)⋅b1⋅a2⋅a3⋅b3⋅b4⋅a6⋅a7
−D12 + D14 + D16⋅a1⋅a2⋅b3⋅a4⋅a5⋅b5⋅a7
−28⋅i⋅V^3⋅f^2/(135⋅J^5)⋅b1⋅a2⋅b2⋅a4⋅a5⋅a6⋅b6
−4⋅V^4⋅f/(9⋅J^5) - V^2⋅f^3/(3⋅J^5)⋅b1⋅a2⋅a5⋅a6⋅b6
+i⋅V^3⋅f^2/J^5⋅b2⋅a3⋅b4⋅a5⋅a7⋅b7⋅a8
+i⋅V^3⋅f^2/(3⋅J^5)⋅b2⋅a3⋅b4⋅a5⋅b5⋅b6⋅b7
+D45⋅a1⋅b1⋅b2⋅b3⋅b5⋅a6⋅a7
+83⋅i⋅V^3⋅f^2/(135⋅J^5)⋅a2⋅a3⋅b3⋅a4⋅a5⋅a6⋅a7
+14⋅V^4⋅f/(27⋅J^5)⋅b1⋅a2⋅b2⋅a3⋅b3⋅a5⋅b5⋅a6⋅a7
+5⋅V^2⋅f^3/(9⋅J^5)⋅a3⋅a4⋅b4⋅b5⋅a6
−14⋅i⋅V^3⋅f^2/(27⋅J^5)⋅b1⋅b2⋅a3⋅b3⋅a4⋅b4⋅b5
−D54⋅a1⋅b1⋅a2⋅a3⋅b3⋅b4⋅b5
−7⋅i⋅V^3⋅f^2/(27⋅J^5)⋅b1⋅a3⋅b3⋅a4⋅a6⋅b6⋅a7
+2⋅V^4⋅f/(3⋅J^5)⋅b1⋅b2⋅a3⋅b3⋅b5
−19⋅i⋅V^3⋅f^2/(27⋅J^5)⋅b1⋅a2⋅b2⋅a5⋅b5⋅a6⋅a7
−D124⋅a1⋅b1⋅b3⋅a4⋅a7
+i⋅V^3⋅f^2/(9⋅J^5)⋅b1⋅b2⋅b3⋅a4⋅b4⋅a5⋅b5
−2⋅i⋅V^3⋅f^2/(15⋅J^5)⋅a2⋅a3⋅b3⋅a4⋅b4⋅a6⋅b6
−i⋅V^3⋅f^2/(27⋅J^5)⋅b1⋅b2⋅b4⋅a5⋅b6⋅a7⋅b7
−D116⋅a1⋅a2⋅a5⋅b5⋅a6
−D61⋅a1⋅b2⋅a3⋅a4⋅a5
−4⋅i⋅V^3⋅f^2/(9⋅J^5)⋅b1⋅a2⋅b3⋅b4⋅b5⋅a6⋅b7
+7⋅V^4⋅f/(9⋅J^5)⋅a2⋅b2⋅a3⋅b3⋅a4⋅b4⋅b5⋅a6⋅a7
−D96⋅a1⋅a3⋅b4⋅a5⋅b5
−D31⋅a1⋅b3⋅b5⋅a6⋅a7
−D0⋅a1⋅a2⋅a4
−D69⋅a1⋅a2⋅b2⋅b3⋅b5
−D2⋅a1⋅b2⋅a3⋅a4⋅b4⋅a5⋅a6
−V^2⋅f^3/J^5⋅a4⋅b4⋅a5⋅b5⋅a6
+2⋅i⋅V^3⋅f^2/(3⋅J^5) + 2⋅i⋅V⋅f^4/(27⋅J^5)⋅a2⋅a4⋅b4
−4⋅V^4⋅f/(9⋅J^5)⋅b1⋅a2⋅b3⋅b4⋅b5⋅a6⋅b7⋅a8⋅b8
−D44⋅a1⋅b1⋅b3⋅a4⋅a5
+D92 + V^4⋅f/J^5⋅a1⋅b1⋅a2⋅a3⋅b4⋅a5⋅b6⋅a7⋅b7
+14⋅V^2⋅f^3/(27⋅J^5)⋅b1⋅a2⋅b2⋅b4⋅b5
−D42⋅a1⋅b1⋅b3⋅b4⋅a5⋅b5⋅a6
+62⋅V^4⋅f/(135⋅J^5) + 3⋅V^2⋅f^3/(5⋅J^5)⋅b1⋅b2⋅a4⋅b4⋅b5
−28⋅i⋅V^3⋅f^2/(135⋅J^5)⋅a2⋅b2⋅a4⋅a5⋅b5⋅a6⋅b6
−D52⋅a1⋅b1⋅b3⋅a4⋅b6⋅a7⋅b7
−D112⋅a1⋅b1⋅a2⋅b2⋅b3
+4⋅V^4⋅f/(27⋅J^5)⋅b1⋅a2⋅a3⋅b3⋅a4⋅b4⋅a5⋅a6⋅b6
+17⋅i⋅V^3⋅f^2/(135⋅J^5)⋅b1⋅a3⋅b3⋅a4⋅b4⋅a6⋅a7
+i⋅V^3⋅f^2/J^5⋅b2⋅a3⋅b4⋅a5⋅b7⋅a8⋅a9
−14⋅i⋅V^3⋅f^2/(27⋅J^5)⋅b1⋅b2⋅b3⋅a4⋅b5⋅b6⋅a7
−D32⋅a1⋅b1⋅b5⋅a6⋅b6
−D2⋅a1⋅b2⋅a3⋅b3⋅b4⋅a5⋅b5
−2⋅i⋅V^3⋅f^2/(9⋅J^5)⋅b1⋅b2⋅a3⋅a4⋅b4⋅a5⋅a7
+83⋅V^4⋅f/(135⋅J^5) + 2⋅V^2⋅f^3/(5⋅J^5)⋅b1⋅a3⋅a4⋅b4⋅a6
−D117⋅a1⋅a2⋅b4⋅b5⋅a6
−D38⋅a1⋅b1⋅a2⋅a3⋅b5⋅a6⋅a7
−D17⋅a1⋅b1⋅b3⋅a4⋅a5⋅b5⋅a7
+D4 - 4⋅i⋅V^3⋅f^2/(9⋅J^5)⋅a1⋅a2⋅b2⋅a3⋅b4⋅a5⋅b5
+D123 + V^2⋅f^3/(3⋅J^5)⋅a1⋅a2⋅b2⋅b4⋅a5
−i⋅V^3⋅f^2/(3⋅J^5)⋅b1⋅a2⋅a5⋅a6⋅b6⋅a7⋅b7
−V^2⋅f^3/J^5⋅b2⋅a3⋅b4⋅a5⋅a8
−5⋅V^4⋅f/(9⋅J^5)⋅b1⋅b2⋅a3⋅b3⋅a4⋅a5⋅b5⋅a6⋅a7
−D108⋅a1⋅a2⋅b2⋅a3⋅b3⋅a4⋅b5⋅a6⋅a7
−2⋅V^4⋅f/(9⋅J^5) + V^2⋅f^3/(3⋅J^5)⋅b1⋅a2⋅b4⋅b5⋅b6
−20⋅V^4⋅f/(27⋅J^5) - 7⋅V^2⋅f^3/(9⋅J^5)⋅a3⋅b3⋅a4⋅b4⋅a6
+D128 - 5⋅i⋅V^3⋅f^2/(9⋅J^5)⋅a1⋅b1⋅b2⋅a3⋅a4⋅b4⋅a5
−D6⋅a1⋅a2⋅b3⋅b4⋅a6
−D64⋅a1⋅a2⋅b4⋅a5⋅a7
−62⋅i⋅V^3⋅f^2/(135⋅J^5)⋅a2⋅b2⋅b3⋅b4⋅b5⋅a6⋅b6
+D60 + i⋅V^3⋅f^2/J^5⋅a1⋅a2⋅b3⋅a4⋅b5⋅b6⋅a7
+D95 + V^4⋅f/J^5⋅a1⋅b1⋅a2⋅b2⋅a3⋅b3⋅b5⋅a6⋅a7
+2⋅i⋅V^3⋅f^2/(3⋅J^5) + 2⋅i⋅V⋅f^4/(27⋅J^5)⋅b1⋅a4⋅a5
+2⋅V^4⋅f/(9⋅J^5)⋅b1⋅a2⋅a3⋅a6⋅b6
+i⋅V^3⋅f^2/J^5⋅b1⋅a2⋅b3⋅a4⋅b6⋅a7⋅a9
−D46⋅a1⋅b1⋅a3⋅a4⋅b5⋅a6⋅b6
+D76 + i⋅V^3⋅f^2/J^5⋅a1⋅b1⋅a2⋅b2⋅a3⋅b3⋅a6
−D59⋅a1⋅b1⋅b3⋅a4⋅b5⋅b6⋅a7
−D86⋅a1⋅b1⋅b4⋅a5⋅b6⋅a7⋅a8
−i⋅V^3⋅f^2/(3⋅J^5)⋅b2⋅a3⋅b3⋅a4⋅a5⋅b5⋅a6
−i⋅V^5/J^5⋅b1⋅a2⋅b3⋅a4⋅b5⋅a6⋅b7⋅a8⋅b9⋅a10⋅a11
−2⋅i⋅V^3⋅f^2/(3⋅J^5)⋅b1⋅a2⋅b4⋅b5⋅b6⋅a7⋅b7
+7⋅V^4⋅f/(9⋅J^5)⋅b1⋅a2⋅b3⋅a4⋅a5⋅b5⋅a6⋅b6⋅a8
−D10 + D6 + D8 - V^2⋅f^3/J^5⋅a1⋅b1⋅a4⋅b4⋅a6
+16⋅i⋅V^3⋅f^2/(27⋅J^5) + 11⋅i⋅V⋅f^4/(27⋅J^5)⋅a2⋅a3⋅b3
−5⋅V^4⋅f/(9⋅J^5) - 2⋅V^2⋅f^3/(27⋅J^5)⋅b1⋅a2⋅a3⋅b3⋅a5
+14⋅i⋅V^3⋅f^2/(27⋅J^5)⋅b1⋅a2⋅a3⋅b3⋅a4⋅a5⋅b6
+D27 - i⋅V^3⋅f^2/(3⋅J^5)⋅a1⋅b1⋅a2⋅b2⋅b3⋅a4⋅a5
+i⋅V^3⋅f^2/(9⋅J^5)⋅b1⋅a2⋅b3⋅b4⋅a5⋅a6⋅a7
−i⋅V^3⋅f^2/(3⋅J^5)⋅a3⋅b3⋅a4⋅a5⋅b5⋅a6⋅b6
+V^2⋅f^3/(27⋅J^5)⋅b1⋅b3⋅b4⋅a5⋅b5
+17⋅i⋅V^3⋅f^2/(135⋅J^5)⋅b1⋅a3⋅b3⋅a5⋅b5⋅a6⋅a7
−D123⋅a1⋅b1⋅a3⋅b4⋅a5
+13⋅V^2⋅f^3/(27⋅J^5)⋅a2⋅a3⋅b3⋅a4⋅b6
−D129⋅a1⋅b2⋅a3
+20⋅i⋅V^3⋅f^2/(27⋅J^5)⋅a2⋅b2⋅b3⋅a4⋅b5⋅a6⋅a8
+4⋅V^4⋅f/(27⋅J^5) + V^2⋅f^3/(27⋅J^5)⋅b1⋅b2⋅b5⋅a6⋅b6
−i⋅V^3⋅f^2/(3⋅J^5)⋅b1⋅a2⋅b3⋅a4⋅b5⋅b6⋅b7
−2⋅i⋅V^3⋅f^2/J^5 - i⋅V⋅f^4/J^5⋅b5⋅a6⋅a7
+7⋅V^4⋅f/(9⋅J^5)⋅b1⋅a2⋅a4⋅b4⋅b5⋅a6⋅b7⋅a8⋅a9
−D68 + 5⋅V^2⋅f^3/(9⋅J^5)⋅a1⋅a2⋅a3⋅a4⋅a6
+D14⋅a1⋅b1⋅b3⋅a4⋅a5⋅b5⋅b6
−D5⋅a1⋅a2⋅b2⋅a3⋅b4⋅a5⋅a6
+V^4⋅f/J^5⋅b1⋅a2⋅b3⋅a4⋅b5⋅a6⋅b8⋅a9⋅a10
+17⋅V^4⋅f/(27⋅J^5) + 14⋅V^2⋅f^3/(27⋅J^5)⋅b1⋅a3⋅b5⋅a6⋅a7
−D76⋅a1⋅b1⋅a2⋅b2⋅a3⋅a4⋅b5
−5⋅i⋅V^3⋅f^2/(9⋅J^5)⋅a2⋅b2⋅a3⋅a4⋅b4⋅a5⋅b6
+V^2⋅f^3/(3⋅J^5)⋅b3⋅a4⋅b4⋅a6⋅a7
−D18 - D20 - D22 - 2⋅i⋅V^3⋅f^2/(3⋅J^5)⋅a1⋅b1⋅b2⋅b3⋅a4⋅b4⋅b5
+2⋅V^2⋅f^3/(3⋅J^5)⋅b3⋅b4⋅b5⋅a6⋅b6
−7⋅V^2⋅f^3/(9⋅J^5)⋅b2⋅a3⋅a4⋅b4⋅a7
+2⋅V^2⋅f^3/(9⋅J^5)⋅b2⋅a3⋅b3⋅a5⋅a7
−2⋅i⋅V^3⋅f^2/(9⋅J^5)⋅b1⋅a2⋅b3⋅a4⋅b4⋅a6⋅a8
+V^2⋅f^3/(3⋅J^5)⋅b3⋅a5⋅b5⋅a6⋅a7
−2⋅i⋅V^3⋅f^2/(9⋅J^5)⋅b2⋅a3⋅b3⋅a5⋅b6⋅a7⋅a8
−D100 + 2⋅i⋅V^3⋅f^2/(3⋅J^5)⋅a1⋅a2⋅a4⋅a5⋅b5⋅a6⋅a7
−V^4⋅f/(3⋅J^5)⋅b1⋅a2⋅b3⋅a4⋅b5⋅a6⋅b6⋅a8⋅a9
+D24 + 2⋅V^2⋅f^3/(9⋅J^5)⋅a1⋅b2⋅b3⋅a4⋅a6
+5⋅V^4⋅f/(9⋅J^5) + 4⋅V^2⋅f^3/(9⋅J^5)⋅b1⋅a2⋅b3⋅a5⋅a7
−82⋅i⋅V^3⋅f^2/(135⋅J^5)⋅b1⋅a2⋅a3⋅a4⋅a5⋅a6⋅a7
−D77⋅a1⋅b1⋅a2⋅b2⋅a3⋅b3⋅b5
−2⋅V^4⋅f/(9⋅J^5)⋅a2⋅b2⋅a3⋅b3⋅a4⋅a5⋅b5⋅a6⋅b6
−D131⋅a1⋅b4⋅a5
−V^4⋅f/(3⋅J^5)⋅b1⋅a2⋅a4⋅b4⋅a5⋅a6⋅b6⋅a7⋅b7
−D87⋅a1⋅b1⋅b4⋅a5⋅b6⋅a7⋅b7
+14⋅V^2⋅f^3/(27⋅J^5)⋅b1⋅a3⋅a5⋅b5⋅a6
−D17 - 2⋅i⋅V^3⋅f^2/(3⋅J^5)⋅a1⋅a2⋅b3⋅a4⋅b4⋅a6⋅b6
−D37⋅a1⋅b1⋅a2⋅a3⋅b5⋅a6⋅b6
−17⋅V^4⋅f/(135⋅J^5) + 8⋅V^2⋅f^3/(45⋅J^5)⋅a2⋅a3⋅b3⋅a5⋅b5
−8⋅V^4⋅f/(15⋅J^5) - 8⋅V^2⋅f^3/(5⋅J^5)⋅a2⋅b2⋅a4⋅b4⋅a6
−D1⋅a1⋅a2⋅b3
+16⋅V^2⋅f^3/(27⋅J^5)⋅b1⋅a2⋅b2⋅a5⋅a6
+i⋅V^3⋅f^2/J^5⋅b1⋅a2⋅b4⋅a5⋅b7⋅a8⋅a9
−7⋅V^4⋅f/(27⋅J^5)⋅b1⋅a2⋅b2⋅a4⋅b5⋅a6⋅b7⋅a8⋅a9
−D18⋅a1⋅b1⋅a3⋅b3⋅a4⋅b4⋅a6
−D65 - 7⋅V^2⋅f^3/(9⋅J^5)⋅a1⋅b1⋅a3⋅b3⋅a6
−2⋅i⋅V^3⋅f^2/(9⋅J^5)⋅b2⋅a4⋅b4⋅a5⋅b6⋅a7⋅a8
+D31 + 2⋅V^4⋅f/(9⋅J^5)⋅a1⋅a4⋅b5⋅a6⋅b6
+i⋅V^3⋅f^2/J^5⋅b1⋅a2⋅a5⋅b5⋅a6⋅b6⋅a7
+D39 - 2⋅i⋅V^3⋅f^2/(9⋅J^5)⋅a1⋅b2⋅b3⋅a4⋅b5⋅a6⋅a7
−2⋅V^2⋅f^3/(9⋅J^5)⋅a2⋅b2⋅a3⋅b4⋅a5
−D82⋅a1⋅b1⋅a2⋅b2⋅a3⋅b3⋅a4⋅b4⋅b5
+17⋅i⋅V^3⋅f^2/(135⋅J^5)⋅b1⋅a3⋅a4⋅a5⋅b5⋅a6⋅b6
−D52⋅a1⋅a2⋅b3⋅a4⋅b6⋅a7⋅a8
+2⋅i⋅V^3⋅f^2/(27⋅J^5) + i⋅V⋅f^4/(9⋅J^5)⋅a3⋅a4⋅b5
+14⋅V^2⋅f^3/(27⋅J^5)⋅b1⋅b2⋅b3⋅a4⋅b6
−28⋅i⋅V^3⋅f^2/(135⋅J^5)⋅b1⋅a3⋅b3⋅a4⋅a5⋅a6⋅b6
−D110⋅a1⋅b2⋅b3⋅b4⋅a5
−D127⋅a1⋅a2⋅b2⋅a3⋅a4⋅b4⋅a5
−2⋅V^4⋅f/(9⋅J^5)⋅b1⋅a2⋅a3⋅b3⋅b4⋅a5⋅b5⋅a6⋅a7
−13⋅V^2⋅f^3/(27⋅J^5)⋅b1⋅a2⋅b2⋅b3⋅b6
−17⋅V^4⋅f/(27⋅J^5)⋅b1⋅a2⋅b2⋅b3⋅a4⋅b4⋅a5⋅a6⋅a7
+D65 - D68 + D70 + V^2⋅f^3/(9⋅J^5)⋅a1⋅b1⋅a3⋅a4⋅b5
−D106⋅a1⋅b1⋅a2⋅b2⋅b5
−D19 + D21 - D23⋅a1⋅b1⋅b2⋅b3⋅a4⋅b4⋅a6
−D93⋅a1⋅b1⋅a2⋅b2⋅b4⋅a5⋅b6⋅a7⋅b7
+i⋅V^3⋅f^2/J^5⋅b2⋅a3⋅b5⋅a6⋅b7⋅a8⋅a9
−2⋅i⋅V^3⋅f^2/(3⋅J^5)⋅b2⋅b3⋅a4⋅b4⋅b5⋅a6⋅b6
−D55⋅a1⋅b1⋅a2⋅b2⋅a4⋅b4⋅a6
−D66⋅a1⋅a2⋅b2⋅a4⋅a6
−D22 - 2⋅i⋅V^3⋅f^2/(9⋅J^5)⋅a1⋅b1⋅b2⋅b3⋅a4⋅a5⋅a6
−40⋅V^2⋅f^3/(27⋅J^5)⋅a2⋅b2⋅a5⋅b5⋅a6
+D101⋅a1⋅a2⋅a4⋅a5⋅b5⋅a6⋅b6
−7⋅i⋅V^3⋅f^2/(27⋅J^5)⋅b1⋅b4⋅b5
+V^4⋅f/(9⋅J^5)⋅b1⋅a2⋅b2⋅a4⋅b4⋅a5⋅b5⋅a6⋅a7
−D9⋅a1⋅a2⋅b3⋅a5⋅a6
−D126⋅a1⋅b3⋅a4
−14⋅V^2⋅f^3/(9⋅J^5)⋅b2⋅a3⋅b4⋅a5⋅a6
−D104 - i⋅V^3⋅f^2/(3⋅J^5)⋅a1⋅b1⋅b3⋅a5⋅b5⋅a6⋅a7
−13⋅i⋅V^3⋅f^2/(9⋅J^5) - 4⋅i⋅V⋅f^4/(3⋅J^5)⋅a4⋅b4⋅a6
+7⋅i⋅V^3⋅f^2/(9⋅J^5)⋅b1⋅a2⋅b3⋅a4⋅a5⋅b5⋅a8
+14⋅i⋅V^3⋅f^2/(9⋅J^5)⋅b1⋅a2⋅a4⋅b4⋅b6⋅a7⋅a8
+2⋅V^4⋅f/(3⋅J^5)⋅b1⋅a2⋅b3⋅a4⋅b5⋅a6⋅a7⋅b7⋅a9
−D26⋅a1⋅b1⋅a2⋅b2⋅b3⋅a4⋅b4
−4⋅i⋅V^3⋅f^2/(9⋅J^5)⋅b1⋅a2⋅b3⋅b4⋅b5⋅b6⋅a7
−D21⋅a1⋅b1⋅a3⋅b3⋅a4⋅b4⋅b5
−i⋅V^3⋅f^2/J^5 - i⋅V⋅f^4/J^5⋅b4⋅a5⋅a7
−D115⋅a1⋅b1⋅a2⋅a4⋅b4⋅a5⋅b5
−D40⋅a1⋅b2⋅b3⋅a4⋅b5⋅a6⋅b6
+D13 - D15 + D17 + i⋅V^3⋅f^2/(3⋅J^5)⋅a1⋅b1⋅b3⋅a4⋅b4⋅a6⋅a7
−10⋅V^4⋅f/(27⋅J^5)⋅b1⋅a2⋅b2⋅a3⋅a4⋅b4⋅b5⋅a6⋅a7
−14⋅i⋅V^3⋅f^2/(27⋅J^5)⋅b1⋅a2⋅b2⋅a3⋅a4⋅a5⋅b5
−D11 - D7 + D9⋅a1⋅b1⋅a4⋅a5⋅a6
+2⋅i⋅V^3⋅f^2/(3⋅J^5)⋅b2⋅a3⋅a5⋅b5⋅b6⋅a7⋅a8
+D7⋅a1⋅a2⋅a4⋅a5⋅b5
−i⋅V^3⋅f^2/J^5 - i⋅V⋅f^4/J^5⋅b2⋅a3⋅a7
−2⋅V^4⋅f/(3⋅J^5) - 23⋅V^2⋅f^3/(9⋅J^5)⋅b1⋅a2⋅b3⋅a4⋅a6
−D121⋅a1⋅b1⋅b5
+17⋅i⋅V^3⋅f^2/(27⋅J^5)⋅a2⋅b2⋅a3⋅b3⋅a4⋅a5⋅b5
+14⋅i⋅V^3⋅f^2/(27⋅J^5)⋅b1⋅a2⋅a3⋅a4⋅b5⋅a6⋅b7
−20⋅V^2⋅f^3/(27⋅J^5)⋅b1⋅a2⋅a3⋅b3⋅a7
+2⋅i⋅V^3⋅f^2/(27⋅J^5)⋅b1⋅a2⋅a3⋅b4⋅b5⋅a6⋅a7
−D107⋅a1⋅b1⋅a2⋅a3⋅b5
−D43⋅a1⋅b1⋅b3⋅a4⋅b4
−28⋅V^4⋅f/(135⋅J^5) + 22⋅V^2⋅f^3/(45⋅J^5)⋅b1⋅b2⋅b3⋅b4⋅a6
+V^4⋅f/J^5⋅b1⋅a2⋅b3⋅a4⋅a6⋅b6⋅a7⋅b7⋅a8
+8⋅i⋅V^3⋅f^2/(27⋅J^5)⋅b1⋅a2⋅a3⋅a5⋅b5⋅a6⋅b6
+D54 - D56 - D58⋅a1⋅b1⋅a2⋅b2⋅a4⋅b4⋅b5
+D71 + i⋅V^3⋅f^2/J^5⋅a1⋅b1⋅a2⋅a3⋅b4⋅a5⋅b6
+14⋅V^4⋅f/(27⋅J^5) + 14⋅V^2⋅f^3/(9⋅J^5)⋅a2⋅a3⋅b3⋅a4⋅b4
−i⋅V^3⋅f^2/(3⋅J^5)⋅b1⋅a2⋅b2⋅a3⋅b3⋅a4⋅a5
+D23⋅a1⋅b1⋅b2⋅b3⋅a4⋅a5⋅b5
+4⋅i⋅V^3⋅f^2/(9⋅J^5)⋅b2⋅a3⋅a4⋅a5⋅b6⋅a7⋅b7
+8⋅V^4⋅f/(9⋅J^5) + 2⋅V^2⋅f^3/(3⋅J^5)⋅a2⋅b3⋅a4⋅b4⋅a5
+62⋅i⋅V^3⋅f^2/(135⋅J^5)⋅a2⋅b2⋅b3⋅a4⋅a5⋅a6⋅b6
−D11⋅a1⋅b1⋅b3⋅a5⋅b5
−D79⋅a1⋅a3⋅a5
−i⋅V^3⋅f^2/(3⋅J^5)⋅b1⋅a2⋅b3⋅a4⋅a5⋅b6⋅a7
+23⋅i⋅V^3⋅f^2/(27⋅J^5) - 2⋅i⋅V⋅f^4/(27⋅J^5)⋅b1⋅b2⋅b3
+2⋅i⋅V^3⋅f^2/(3⋅J^5)⋅b1⋅a2⋅b4⋅a5⋅a6⋅b6⋅a8
−D15⋅a1⋅a2⋅b3⋅a4⋅a5⋅a6⋅a7
+D105⋅a1⋅b1⋅b3⋅a5⋅b5⋅a6⋅b6
+D28 + 2⋅V^4⋅f/(9⋅J^5) + V^2⋅f^3/J^5⋅a1⋅b1⋅a2⋅b3⋅a5
−V^2⋅f^3/(27⋅J^5)⋅a2⋅a3⋅b4⋅a5⋅b6
+14⋅i⋅V^3⋅f^2/(27⋅J^5)⋅b1⋅a2⋅b2⋅a3⋅b3⋅b4⋅b5
−2⋅V^4⋅f/(15⋅J^5) + 2⋅V^2⋅f^3/(45⋅J^5)⋅b1⋅a3⋅b3⋅b4⋅b5
−20⋅i⋅V^3⋅f^2/(27⋅J^5)⋅b1⋅a2⋅b2⋅a3⋅a4⋅b4⋅a6
−D24⋅a1⋅a3⋅b3⋅a4⋅b5
−2⋅i⋅V^3⋅f^2/(3⋅J^5)⋅b1⋅a2⋅b3⋅a4⋅b5⋅a7⋅a8
+2⋅V^2⋅f^3/(3⋅J^5)⋅b1⋅a2⋅a4⋅b5⋅a6
−D70⋅a1⋅a2⋅a3⋅b3⋅b5
+i⋅V^3⋅f^2/J^5⋅b1⋅a2⋅b3⋅a4⋅a7⋅b7⋅a8
+7⋅V^4⋅f/(27⋅J^5) - V^2⋅f^3/(9⋅J^5)⋅b2⋅b3⋅a4⋅a5⋅a6
−2⋅V^2⋅f^3/(27⋅J^5)⋅b1⋅a2⋅a3⋅a5⋅b5
−D114⋅a1⋅b1⋅a2⋅a4⋅b4⋅a5⋅a6
+2⋅i⋅V^3⋅f^2/(3⋅J^5) + i⋅V⋅f^4/(27⋅J^5)⋅b1⋅b2⋅b5
+V^2⋅f^3/(27⋅J^5)⋅b1⋅b2⋅b4⋅a5⋅b6
+D124 - V^2⋅f^3/J^5⋅a1⋅a2⋅b3⋅a4⋅b6
−D50 - 7⋅i⋅V^3⋅f^2/(9⋅J^5)⋅a1⋅a2⋅b2⋅a4⋅b5⋅a6⋅b6
+V^2⋅f^3/(27⋅J^5)⋅b1⋅b2⋅b4⋅b5⋅a6
+5⋅i⋅V^3⋅f^2/(9⋅J^5)⋅b2⋅a3⋅b3⋅b4⋅b6⋅a7⋅b7
+V^4⋅f/(3⋅J^5)⋅a2⋅b2⋅a3⋅a4⋅b5
−D8 - 2⋅V^2⋅f^3/(3⋅J^5)⋅a1⋅a2⋅a4⋅b4⋅b5
−17⋅i⋅V^3⋅f^2/(135⋅J^5)⋅b1⋅a2⋅b2⋅a4⋅b4⋅b5⋅b6
+D98 + i⋅V^3⋅f^2/J^5⋅a1⋅a2⋅b3⋅a4⋅b5⋅a6⋅b7
−D64⋅a1⋅b1⋅b4⋅a5⋅b6
−D28⋅a1⋅b1⋅a2⋅a4⋅b4
−D85⋅a1⋅a2⋅b2⋅b3⋅a4
+2⋅V^2⋅f^3/(3⋅J^5)⋅b2⋅a3⋅b4⋅a6⋅a7
−2⋅V^4⋅f/(9⋅J^5)⋅b1⋅a2⋅b3⋅a4⋅b4⋅b5⋅a6⋅a7⋅a8
−4⋅V^4⋅f/(27⋅J^5)⋅b1⋅a2⋅b2⋅a3⋅a4⋅a5⋅b5⋅a6⋅b6
+20⋅i⋅V^3⋅f^2/(27⋅J^5)⋅a2⋅b2⋅a4⋅b4⋅a5⋅b5⋅a6
−13⋅V^4⋅f/(27⋅J^5) + 7⋅V^2⋅f^3/(9⋅J^5)⋅b2⋅b3⋅a4⋅b4⋅b5
−2⋅i⋅V^3⋅f^2/(15⋅J^5)⋅b1⋅a3⋅b3⋅a4⋅a5⋅b5⋅a7
−2⋅V^4⋅f/(3⋅J^5)⋅b1⋅a2⋅b3⋅a4⋅b5⋅b6⋅b7⋅a8⋅b8
+20⋅i⋅V^3⋅f^2/(27⋅J^5)⋅b1⋅a2⋅a3⋅b3⋅b6⋅a7⋅a8
−D72⋅a1⋅b1⋅a2⋅a3⋅b4⋅a5⋅a7
−i⋅V^3⋅f^2/(3⋅J^5)⋅b2⋅a3⋅b4⋅a6⋅b6⋅a7⋅a8
+i⋅V^3⋅f^2/J^5⋅b2⋅a3⋅a5⋅b5⋅a6⋅b6⋅a7
+5⋅V^4⋅f/(9⋅J^5)⋅b1⋅a2⋅b3⋅a4⋅b4⋅b5⋅b7⋅a8⋅b8
−14⋅i⋅V^3⋅f^2/(27⋅J^5)⋅b1⋅b2⋅b3⋅b4⋅a5⋅b5⋅a6
−D10⋅a1⋅b1⋅b3⋅b4⋅b5
−D66 + D67 + D69⋅a1⋅b1⋅b2⋅a4⋅b5
−5⋅V^4⋅f/(9⋅J^5) - 40⋅V^2⋅f^3/(27⋅J^5)⋅b1⋅a2⋅b2⋅b3⋅b4
−82⋅V^4⋅f/(135⋅J^5) - 32⋅V^2⋅f^3/(45⋅J^5)⋅a2⋅b2⋅a4⋅a5⋅b5
+2⋅V^2⋅f^3/(9⋅J^5)⋅b2⋅a4⋅b4⋅a5⋅a7
−D32⋅a1⋅a2⋅b5⋅a6⋅a7
−2⋅i⋅V^3⋅f^2/(9⋅J^5)⋅b1⋅a2⋅a3⋅b3⋅a4⋅b5⋅a6
−D111⋅a1⋅a3⋅b3⋅b4⋅a5
+i⋅V^3⋅f^2/J^5⋅b1⋅a2⋅b3⋅a4⋅b7⋅a8⋅a9
+D12⋅a1⋅a2⋅b3⋅a4⋅a5⋅a6⋅b6
+7⋅i⋅V^3⋅f^2/(9⋅J^5)⋅b2⋅a3⋅a4⋅b4⋅a5⋅b5⋅a7
−13⋅V^4⋅f/(27⋅J^5)⋅a2⋅a3⋅b3⋅a4⋅b5⋅a6⋅b7⋅a8⋅b8
−D13⋅a1⋅a2⋅b3⋅a4⋅b4⋅b5⋅a7
−4⋅V^2⋅f^3/(27⋅J^5)⋅a2⋅a4⋅b4⋅a5⋅b5
−34⋅V^4⋅f/(27⋅J^5) - 40⋅V^2⋅f^3/(27⋅J^5)⋅a2⋅b2⋅b5⋅a6⋅a7
−D109⋅a1⋅b1⋅b2⋅a3⋅b3⋅a4⋅b5⋅a6⋅a7
−2⋅i⋅V^3⋅f^2/J^5 - 40⋅i⋅V⋅f^4/(27⋅J^5)⋅a2⋅b2⋅a6
−D100 + D102 + D104 + i⋅V^3⋅f^2/(3⋅J^5)⋅a1⋅b1⋅a4⋅a5⋅b5⋅a6⋅b6
−5⋅i⋅V^3⋅f^2/(9⋅J^5)⋅a3⋅a4⋅b4⋅a5⋅b6⋅a7⋅b7
−D47⋅a1⋅b1⋅b2⋅a4⋅b5⋅a6⋅b6
−D82⋅a1⋅b1⋅a2⋅b2⋅a3⋅b3⋅a4⋅a5⋅a6
+7⋅i⋅V^3⋅f^2/(9⋅J^5)⋅a3⋅b3⋅b4⋅a5⋅b6⋅a7⋅a8
+2⋅V^2⋅f^3/(3⋅J^5)⋅b1⋅a2⋅b2⋅a3⋅a4
−i⋅V^3⋅f^2/(3⋅J^5)⋅b2⋅a3⋅a5⋅a6⋅b6⋅a7⋅b7
−D67⋅a1⋅b1⋅b2⋅b3⋅a6
+7⋅V^4⋅f/(9⋅J^5)⋅b1⋅a2⋅b3⋅a4⋅a5⋅b5⋅b7⋅a8⋅a9
−D80⋅a1⋅a2⋅b3⋅a4⋅b5⋅a6⋅b7⋅a8⋅a9
−D60⋅a1⋅b1⋅b3⋅a4⋅a6⋅b6⋅a7
+D19 - D21 + D23⋅a1⋅a2⋅a3⋅b3⋅a4⋅a5⋅b5
−D119⋅a1⋅b1⋅b2⋅a3⋅b3⋅a4⋅b5
+D49⋅a1⋅a2⋅b2⋅a4⋅b5⋅a6⋅a7
−D73⋅a1⋅b1⋅a2⋅b2⋅a3⋅b3⋅a4
−D112⋅a1⋅b1⋅a2⋅a3⋅a4
−128⋅i⋅V^3⋅f^2/(135⋅J^5)⋅b1⋅a2⋅a3⋅a4⋅b4⋅b5⋅a7
−13⋅i⋅V^3⋅f^2/(27⋅J^5)⋅a2⋅a3⋅b3⋅b4⋅a5⋅b5⋅a6
+D81 + V^4⋅f/J^5⋅a1⋅b1⋅b3⋅a4⋅b5⋅a6⋅b7⋅a8⋅a9
+V^4⋅f/(3⋅J^5)⋅b1⋅a2⋅a4⋅b6⋅a7
+8⋅V^4⋅f/(9⋅J^5) + 17⋅V^2⋅f^3/(9⋅J^5)⋅b2⋅a3⋅a4⋅b4⋅a5
−i⋅V^3⋅f^2/(3⋅J^5)⋅b1⋅a2⋅b4⋅a5⋅b5⋅a6⋅a7
+3⋅V^2⋅f^3/J^5 + f^5/J^5⋅a6
−D55 - 2⋅i⋅V^3⋅f^2/(3⋅J^5)⋅a1⋅b1⋅a2⋅a3⋅b3⋅a5⋅b5
+D120 - i⋅V^3⋅f^2/J^5 - i⋅V⋅f^4/J^5⋅a1⋅b1⋅a6
+5⋅V^4⋅f/(9⋅J^5) + 2⋅V^2⋅f^3/(3⋅J^5)⋅b1⋅a2⋅b4⋅a6⋅a7
−D36⋅a1⋅b1⋅a2⋅b2⋅a3⋅b4⋅a5
−D83⋅a1⋅b1⋅a2⋅b2⋅a3⋅b3⋅a4⋅a5⋅b5
−D34⋅a1⋅b3⋅a4⋅a5⋅a6
−D93⋅a1⋅b1⋅a2⋅a3⋅b4⋅a5⋅b6⋅a7⋅a8
−V^2⋅f^3/J^5⋅b3⋅a4⋅b5⋅a6⋅a8
+13⋅V^4⋅f/(27⋅J^5)⋅b1⋅a2⋅b2⋅b3⋅a4⋅b4⋅b6⋅a7⋅b7
−D102⋅a1⋅a2⋅b3⋅a5⋅b5⋅a6⋅b6
−V^4⋅f/J^5 - V^2⋅f^3/J^5⋅b1⋅a2⋅b3⋅a4⋅a8
−2⋅i⋅V^3⋅f^2/(9⋅J^5)⋅b1⋅a2⋅b3⋅a5⋅b5⋅a6⋅a8
+4⋅i⋅V^3⋅f^2/(45⋅J^5)⋅b1⋅a2⋅a3⋅a4⋅b4⋅a6⋅b6
−V^2⋅f^3/J^5⋅b3⋅a4⋅b6⋅a7⋅a8
−D78⋅a1⋅a3⋅b4
+2⋅i⋅V^3⋅f^2/(3⋅J^5)⋅b1⋅a2⋅a5⋅b5⋅b6⋅a7⋅a8
+D45 - D47 - D49⋅a1⋅b1⋅a3⋅a4⋅b5⋅a6⋅a7
+D96 + 4⋅V^2⋅f^3/(9⋅J^5)⋅a1⋅b2⋅b4⋅a5⋅a6
−D102 + 2⋅i⋅V^3⋅f^2/(3⋅J^5)⋅a1⋅b1⋅a4⋅b4⋅b5⋅a6⋅a7
−V^4⋅f/(9⋅J^5)⋅b1⋅a2⋅b2⋅a6⋅a7
−D130⋅a1⋅b1⋅a2
+D16⋅a1⋅a2⋅b3⋅a4⋅b4⋅b5⋅b6
+8⋅i⋅V^3⋅f^2/(15⋅J^5)⋅a2⋅b2⋅a4⋅b4⋅b5⋅a6⋅a7
−11⋅i⋅V^3⋅f^2/(9⋅J^5) - 2⋅i⋅V⋅f^4/(9⋅J^5)⋅b1⋅a2⋅a5
−2⋅i⋅V^3⋅f^2/(9⋅J^5)⋅b2⋅a3⋅b3⋅b4⋅a5⋅a6⋅a7
+D74 + 2⋅V^4⋅f/(9⋅J^5) + 7⋅V^2⋅f^3/(9⋅J^5)⋅a1⋅b1⋅b2⋅a3⋅a5
−D34⋅a1⋅b3⋅a4⋅b4⋅b5
+83⋅i⋅V^3⋅f^2/(135⋅J^5)⋅b1⋅a2⋅b2⋅b3⋅a5⋅b5⋅b6
+V^4⋅f/(3⋅J^5) - V^2⋅f^3/J^5⋅b1⋅b2⋅a3⋅a4⋅a6
−128⋅i⋅V^3⋅f^2/(135⋅J^5)⋅b1⋅b2⋅a4⋅a5⋅b5⋅a6⋅a7
−4⋅i⋅V^3⋅f^2/(45⋅J^5)⋅b1⋅b2⋅b3⋅a4⋅b4⋅a6⋅b6
−4⋅i⋅V^3⋅f^2/(9⋅J^5)⋅a2⋅b2⋅b3⋅a4⋅b4⋅a5⋅a6
−i⋅V^3⋅f^2/(3⋅J^5)⋅b1⋅a2⋅b3⋅a4⋅b4⋅a5⋅a7
−D61⋅a1⋅b2⋅a3⋅b3⋅b4
−D13 + 2⋅i⋅V^3⋅f^2/(3⋅J^5)⋅a1⋅b1⋅b3⋅a4⋅a5⋅a6⋅b6
−D54 + D56 + D58⋅a1⋅b1⋅a2⋅a3⋅b3⋅a5⋅a6
−D99⋅a1⋅a2⋅b3⋅a4⋅b5⋅a6⋅a8
+13⋅i⋅V^3⋅f^2/(27⋅J^5)⋅b1⋅a2⋅b2⋅b3⋅a4⋅b4⋅b6
−D103⋅a1⋅a2⋅b3⋅b4⋅b5⋅a6⋅b6
−5⋅i⋅V^3⋅f^2/(9⋅J^5)⋅b1⋅a2⋅a4⋅a5⋅b5⋅b6⋅a7
−D75⋅a1⋅a2⋅b2⋅a3⋅a5
+4⋅V^4⋅f/(9⋅J^5)⋅b1⋅a2⋅b3⋅a4⋅a5⋅a6⋅b7⋅a8⋅b8
−D110⋅a1⋅a3⋅a4⋅b4⋅a5
−V^2⋅f^3/(3⋅J^5)⋅b3⋅a4⋅b4⋅b5⋅b6
+4⋅i⋅V^3⋅f^2/(3⋅J^5)⋅b1⋅a2⋅b3⋅a4⋅a6⋅b6⋅a8
−V^2⋅f^3/J^5⋅b1⋅a2⋅b4⋅a5⋅a8
−D101 - D103 + D105⋅a1⋅a2⋅b3⋅a5⋅b5⋅a6⋅a7
−D97⋅a1⋅a3⋅b4⋅a5⋅a6
−5⋅V^2⋅f^3/(9⋅J^5)⋅b2⋅a3⋅b3⋅b4⋅b6
+8⋅i⋅V^3⋅f^2/(15⋅J^5)⋅b1⋅a2⋅a3⋅b3⋅a5⋅b5⋅a7
−4⋅i⋅V^3⋅f^2/(9⋅J^5)⋅b1⋅b2⋅a3⋅b3⋅b4⋅a5⋅b6
−V^4⋅f/(3⋅J^5)⋅b1⋅a2⋅b3⋅b4⋅a5⋅a6⋅b6⋅a7⋅a8
−D27⋅a1⋅b1⋅a2⋅a3⋅b3⋅a4⋅b4
−V^2⋅f^3/J^5⋅b3⋅a4⋅a6⋅b6⋅a7
−D100 + D102 + D104 + 2⋅i⋅V^3⋅f^2/(3⋅J^5)⋅a1⋅a2⋅b3⋅b4⋅b5⋅a6⋅a7
+4⋅V^4⋅f/(9⋅J^5) - V^2⋅f^3/(9⋅J^5)⋅b1⋅a2⋅b3⋅b4⋅b6
+16⋅i⋅V^3⋅f^2/(27⋅J^5) - 4⋅i⋅V⋅f^4/(27⋅J^5)⋅b1⋅a3⋅a4
−i⋅V^3⋅f^2/J^5⋅b1⋅a2⋅b3⋅a4⋅a5⋅b5⋅a6
+11⋅V^2⋅f^3/(9⋅J^5)⋅b2⋅a3⋅b3⋅a4⋅a6
+7⋅V^4⋅f/(9⋅J^5)⋅a2⋅b2⋅a3⋅b3⋅b4⋅a5⋅b6⋅a7⋅a8
−2⋅V^2⋅f^3/(3⋅J^5)⋅a4⋅b4⋅b5⋅a6⋅a7
+2⋅V^2⋅f^3/(9⋅J^5)⋅b2⋅a4⋅a5⋅b5⋅a6
+7⋅i⋅V^3⋅f^2/(9⋅J^5)⋅a2⋅b2⋅a3⋅b3⋅b4⋅a5⋅a7
+D51 + i⋅V^3⋅f^2/J^5⋅a1⋅a2⋅b3⋅a4⋅b6⋅a7⋅b7
−D38⋅a1⋅b1⋅a2⋅b2⋅b5⋅a6⋅b6
−D132⋅a1⋅b1⋅a2⋅b3⋅a4⋅b4⋅a5
−82⋅i⋅V^3⋅f^2/(135⋅J^5)⋅b1⋅b2⋅b3⋅a4⋅a5⋅b5⋅b6
−D79⋅a1⋅b2⋅b4
−D57 + i⋅V^3⋅f^2/(3⋅J^5)⋅a1⋅b1⋅a2⋅b2⋅b3⋅b4⋅b5
+13⋅i⋅V^3⋅f^2/(27⋅J^5)⋅b1⋅a2⋅b2⋅b3⋅b5⋅b6⋅a7
−4⋅V^4⋅f/(9⋅J^5)⋅b1⋅b2⋅a3⋅b3⋅a4⋅b4⋅b5⋅a6⋅b6
−7⋅i⋅V^3⋅f^2/(27⋅J^5)⋅b1⋅a2⋅b2⋅a4⋅a6⋅b6⋅a7
−4⋅i⋅V^3⋅f^2/(9⋅J^5)⋅b1⋅a2⋅b3⋅a5⋅b6⋅a7⋅a8
+7⋅i⋅V^3⋅f^2/(9⋅J^5)⋅b1⋅a2⋅a4⋅b4⋅a6⋅b6⋅a7
+2⋅i⋅V^3⋅f^2/(9⋅J^5)⋅b1⋅a3⋅b3⋅a4⋅b4⋅a5⋅a6
−D62⋅a1⋅b2⋅a3⋅a4⋅b4
−D89⋅a1⋅b3⋅b5
+8⋅V^4⋅f/(9⋅J^5) + 8⋅V^2⋅f^3/(9⋅J^5)⋅b1⋅a2⋅b2⋅a3⋅a6
+D41 + i⋅V^3⋅f^2/J^5⋅a1⋅b1⋅a4⋅b4⋅a5⋅b5⋅a6
−10⋅i⋅V^3⋅f^2/(9⋅J^5) - i⋅V⋅f^4/(3⋅J^5)⋅a4⋅a5⋅b5
−D39⋅a1⋅a3⋅b3⋅a4⋅b5⋅a6⋅b6
−V^2⋅f^3/J^5⋅b2⋅a3⋅b6⋅a7⋅a8
+i⋅V^3⋅f^2/J^5⋅b1⋅a2⋅b4⋅a5⋅b6⋅a7⋅a9
+D109 - 2⋅V^4⋅f/(9⋅J^5)⋅a1⋅a2⋅b2⋅a3⋅b3⋅a4⋅b5⋅a6⋅b6
+D65 - D68 + D70 + 5⋅V^2⋅f^3/(9⋅J^5)⋅a1⋅a2⋅b2⋅b3⋅a6
+D118 - 2⋅i⋅V^3⋅f^2/(9⋅J^5)⋅a1⋅a2⋅b2⋅a3⋅b3⋅a4⋅b5
−2⋅i⋅V^3⋅f^2/(9⋅J^5)⋅b1⋅a2⋅a3⋅b4⋅a5⋅b5⋅a6
−2⋅V^2⋅f^3/(3⋅J^5)⋅b3⋅a4⋅a5⋅b5⋅a7
+28⋅i⋅V^3⋅f^2/(135⋅J^5)⋅b1⋅a3⋅b3⋅b4⋅b5⋅a6⋅b6
−4⋅i⋅V^3⋅f^2/(45⋅J^5)⋅b1⋅b2⋅b3⋅a5⋅b5⋅a6⋅b6
+34⋅V^4⋅f/(27⋅J^5)⋅b1⋅a2⋅a3⋅b3⋅a4⋅b4⋅a5⋅b5⋅a7
+4⋅i⋅V^3⋅f^2/(9⋅J^5)⋅b2⋅a3⋅a4⋅b4⋅a5⋅a6⋅b6
−D113⋅a1⋅b1⋅a2⋅b2⋅a4
−D26⋅a1⋅b1⋅a2⋅a3⋅b3⋅a4⋅a5
−i⋅V^3⋅f^2/(9⋅J^5)⋅b1⋅a2⋅a4⋅a5⋅b6⋅a7⋅b7
+D33 - V^2⋅f^3/J^5⋅a1⋅b1⋅b5⋅a6⋅a7
+2⋅i⋅V^3⋅f^2/(3⋅J^5)⋅a3⋅b3⋅a4⋅b4⋅b5⋅a6⋅a7
−D29⋅a1⋅b1⋅a2⋅a4⋅a5
−14⋅i⋅V^3⋅f^2/(27⋅J^5)⋅b1⋅b2⋅b3⋅a4⋅b5⋅a6⋅b7
−D91⋅a1⋅b1⋅a2⋅b2⋅b4⋅b5⋅a6
+D53 + D55 - D57 + i⋅V^3⋅f^2/(3⋅J^5)⋅a1⋅b1⋅a2⋅b2⋅b3⋅a5⋅a6
−7⋅V^4⋅f/(9⋅J^5) - 14⋅V^2⋅f^3/(9⋅J^5)⋅b1⋅a2⋅a4⋅b4⋅a7
−i⋅V⋅f^4/J^5⋅b3⋅a4⋅a7
−i⋅V^3⋅f^2/(3⋅J^5)⋅b1⋅a2⋅b4⋅a5⋅b5⋅a7⋅a8
−34⋅V^4⋅f/(27⋅J^5) - 14⋅V^2⋅f^3/(9⋅J^5)⋅a3⋅b3⋅b5⋅a6⋅a7
+i⋅V^3⋅f^2/J^5⋅b1⋅a2⋅b4⋅a5⋅a7⋅b7⋅a8
+D37 + i⋅V^3⋅f^2/J^5⋅a1⋅b1⋅a2⋅b2⋅b5⋅a6⋅a7
+2⋅V^4⋅f/(3⋅J^5)⋅b1⋅a2⋅b3⋅a4⋅a6⋅b6⋅b7⋅a8⋅a9
−V^2⋅f^3/(27⋅J^5)⋅a2⋅a3⋅b4⋅b5⋅a6
−7⋅V^2⋅f^3/(9⋅J^5)⋅a3⋅b3⋅a5⋅b5⋅a6
+4⋅V^2⋅f^3/(27⋅J^5)⋅b1⋅a2⋅a3⋅b4⋅a6
+D58⋅a1⋅b1⋅a2⋅b2⋅b3⋅b4⋅a6
+32⋅i⋅V^3⋅f^2/(9⋅J^5)⋅b1⋅a2⋅b3⋅a4⋅b5⋅a6⋅a7
−4⋅i⋅V^3⋅f^2/(9⋅J^5)⋅b2⋅b3⋅b4⋅a5⋅b6⋅a7⋅b7
−11⋅i⋅V^3⋅f^2/(27⋅J^5)⋅b1⋅a2⋅b2⋅b4⋅b5⋅a6⋅b6
−82⋅i⋅V^3⋅f^2/(135⋅J^5)⋅b1⋅b2⋅a4⋅b4⋅b5⋅a6⋅b6
+D63 - V^2⋅f^3/J^5⋅a1⋅a2⋅b4⋅a5⋅b6
−D4⋅a1⋅b1⋅b2⋅a3⋅b4⋅a5⋅a6
−D128⋅a1⋅a2⋅b2⋅a3⋅b3⋅b4⋅a5
+V^4⋅f/J^5⋅b2⋅a3⋅b4⋅a5⋅b6⋅a7⋅b8⋅a9⋅a10
−D125⋅a1⋅b1⋅b3⋅a4⋅b6
−D40⋅a1⋅a3⋅b3⋅a4⋅b5⋅a6⋅a7
+5⋅V^2⋅f^3/(9⋅J^5)⋅a3⋅a4⋅b4⋅a5⋅b6
−14⋅V^2⋅f^3/(27⋅J^5)⋅b1⋅a2⋅a3⋅a4⋅b6
−16⋅V^4⋅f/(9⋅J^5) + V^2⋅f^3/J^5⋅a2⋅b2⋅a3⋅b3⋅a4
−D119⋅a1⋅a2⋅b2⋅a3⋅b3⋅a4⋅a6
+7⋅i⋅V^3⋅f^2/(9⋅J^5) + 14⋅i⋅V⋅f^4/(27⋅J^5)⋅a2⋅b3⋅a5
−112⋅i⋅V^3⋅f^2/(135⋅J^5)⋅a2⋅a3⋅a4⋅a5⋅b5⋅a6⋅a7
−D30⋅a1⋅b3⋅b5⋅a6⋅b6
−17⋅V^4⋅f/(27⋅J^5) - V^2⋅f^3/(9⋅J^5)⋅b2⋅b3⋅b5⋅a6⋅b6
−D77⋅a1⋅b1⋅a2⋅b2⋅a3⋅a4⋅a6
+8⋅i⋅V^3⋅f^2/(9⋅J^5) + 2⋅i⋅V⋅f^4/(3⋅J^5)⋅b3⋅a5⋅a6
+13⋅V^4⋅f/(27⋅J^5)⋅b1⋅a2⋅b2⋅b3⋅b5⋅a6⋅b7⋅a8⋅b8
−D121⋅a1⋅a2⋅a6
−D14⋅a1⋅a2⋅b3⋅a4⋅b4⋅a6⋅a7
+17⋅V^4⋅f/(27⋅J^5) + 4⋅V^2⋅f^3/(9⋅J^5)⋅b2⋅a4⋅b5⋅a6⋅a7
−D57⋅a1⋅b1⋅a2⋅a3⋅a4⋅a5⋅a6
−83⋅i⋅V^3⋅f^2/(135⋅J^5)⋅a2⋅a3⋅b3⋅b4⋅b5⋅a6⋅a7
+D103⋅a1⋅b1⋅a4⋅a5⋅b5⋅a6⋅a7
−i⋅V^3⋅f^2/(3⋅J^5)⋅b2⋅a3⋅b4⋅a5⋅b5⋅a7⋅a8
−D20⋅a1⋅b1⋅a3⋅b3⋅a4⋅a5⋅b5
+D56⋅a1⋅b1⋅a2⋅b2⋅b3⋅a5⋅b5
−V^4⋅f/(3⋅J^5)⋅b1⋅a2⋅b3⋅a4⋅b4⋅a5⋅a6⋅b6⋅a7
+2⋅V^4⋅f/(3⋅J^5)⋅b1⋅a2⋅b3⋅a4⋅b5⋅a6⋅a7⋅a8⋅b8
−5⋅i⋅V^3⋅f^2/(9⋅J^5) - i⋅V⋅f^4/(3⋅J^5)⋅b3⋅a4⋅a5
+7⋅i⋅V^3⋅f^2/(9⋅J^5)⋅b2⋅a3⋅a4⋅b4⋅b6⋅a7⋅a8
−40⋅V^2⋅f^3/(27⋅J^5)⋅a2⋅b2⋅b4⋅a5⋅a7
+13⋅i⋅V^3⋅f^2/(27⋅J^5)⋅b1⋅a2⋅b2⋅b3⋅b6⋅a7⋅b7
−7⋅i⋅V^3⋅f^2/(9⋅J^5)⋅b1⋅a2⋅b2⋅a4⋅b4⋅a5⋅a6
+D3 - i⋅V^3⋅f^2/(3⋅J^5)⋅a1⋅b2⋅a3⋅a4⋅b4⋅a5⋅b5
+8⋅i⋅V^3⋅f^2/(15⋅J^5)⋅a2⋅b2⋅b3⋅a4⋅a5⋅b5⋅a7
−D94⋅a1⋅b1⋅a2⋅b2⋅a3⋅b3⋅b5⋅a6⋅b6
+D78 + 5⋅i⋅V^3⋅f^2/(9⋅J^5) + 4⋅i⋅V⋅f^4/(9⋅J^5)⋅a1⋅b2⋅a5
+4⋅V^2⋅f^3/(9⋅J^5)⋅b2⋅b3⋅b4⋅b5⋅a6
−i⋅V^3⋅f^2/(3⋅J^5)⋅b2⋅b3⋅a4⋅a5⋅b5⋅a6⋅a7
−D5⋅a1⋅b1⋅b2⋅a3⋅b4⋅a5⋅b5
+16⋅i⋅V^3⋅f^2/(27⋅J^5)⋅a2⋅b4⋅a6
−D53 + 2⋅i⋅V^3⋅f^2/(3⋅J^5)⋅a1⋅b1⋅a2⋅b2⋅a4⋅a5⋅b5
+17⋅V^4⋅f/(27⋅J^5) - V^2⋅f^3/(27⋅J^5)⋅a2⋅a3⋅b5⋅a6⋅b6
+7⋅i⋅V^3⋅f^2/(9⋅J^5)⋅b1⋅a2⋅a4⋅b4⋅b5⋅a6⋅a8
+10⋅i⋅V^3⋅f^2/(9⋅J^5) - i⋅V⋅f^4/(27⋅J^5)⋅a2⋅a3⋅b5
−V^4⋅f/(3⋅J^5)⋅b1⋅a2⋅b3⋅a4⋅a6⋅a7⋅b7⋅a8⋅b8
−14⋅i⋅V^3⋅f^2/(27⋅J^5)⋅b1⋅a3⋅b4⋅a5⋅b6⋅a7⋅a8
−7⋅V^4⋅f/(27⋅J^5)⋅b1⋅a2⋅b2⋅b3⋅a4⋅a5⋅b6⋅a7⋅a8
−2⋅i⋅V^3⋅f^2/(15⋅J^5)⋅a2⋅a3⋅b3⋅a5⋅b5⋅a6⋅b6
−2⋅V^4⋅f/(9⋅J^5)⋅b1⋅a2⋅b3⋅a4⋅b4⋅a6⋅b7⋅a8⋅a9
−D41⋅a1⋅a2⋅b3⋅b4⋅a5⋅b5⋅a6
+7⋅V^2⋅f^3/(27⋅J^5)⋅b1⋅a3⋅b3⋅a4⋅a7
−i⋅V^3⋅f^2/(9⋅J^5)⋅a2⋅a3⋅b3⋅a4⋅b4⋅a5⋅b5
−V^2⋅f^3/J^5⋅a2
−2⋅V^4⋅f/(15⋅J^5) + 37⋅V^2⋅f^3/(45⋅J^5)⋅a2⋅a3⋅a4⋅a5⋅a6
+32⋅i⋅V^3⋅f^2/(27⋅J^5) + 4⋅i⋅V⋅f^4/(9⋅J^5)⋅b2⋅a4⋅a6
−V^4⋅f/J^5 - V^2⋅f^3/J^5⋅b1⋅a2⋅b6⋅a7⋅a8
+2⋅i⋅V^3⋅f^2/(9⋅J^5)⋅b1⋅a2⋅a3⋅a4⋅b4⋅a5⋅b5
+4⋅i⋅V^3⋅f^2/(9⋅J^5)⋅b1⋅a2⋅b3⋅a4⋅a5⋅a6⋅b7
+D9⋅a1⋅b1⋅a4⋅b4⋅b5
+2⋅V^4⋅f/(3⋅J^5)⋅b1⋅a2⋅a4⋅b4⋅a5⋅b5⋅b6⋅a7⋅a8
+4⋅V^4⋅f/(9⋅J^5)⋅b1⋅a2⋅b3⋅a4⋅a5⋅b5⋅a6⋅a7⋅b7
−D19⋅a1⋅b1⋅a3⋅b3⋅a4⋅a5⋅a6
+28⋅V^4⋅f/(27⋅J^5) + 20⋅V^2⋅f^3/(9⋅J^5)⋅b1⋅b2⋅b3⋅a4⋅b4
−5⋅V^4⋅f/(9⋅J^5)⋅a2⋅b2⋅a3⋅a4⋅b4⋅a5⋅b6⋅a7⋅b7
+28⋅V^4⋅f/(135⋅J^5) + 13⋅V^2⋅f^3/(45⋅J^5)⋅b1⋅a3⋅a4⋅a5⋅b5
+20⋅i⋅V^3⋅f^2/(27⋅J^5)⋅b1⋅a2⋅a3⋅b3⋅b5⋅a6⋅a8
+D107 - V^2⋅f^3/J^5⋅a1⋅b1⋅a2⋅b2⋅a6
+D67⋅a1⋅a2⋅a3⋅a4⋅b5
+D12 - D14 - D16⋅a1⋅b1⋅b3⋅a4⋅b4⋅a6⋅b6
+40⋅i⋅V^3⋅f^2/(27⋅J^5)⋅a2⋅b2⋅b4⋅a5⋅b6⋅a7⋅a8
−D65⋅a1⋅a2⋅b2⋅a4⋅b5
−D46 - D48 - D50 - 11⋅i⋅V^3⋅f^2/(9⋅J^5)⋅a1⋅a2⋅a3⋅a4⋅b5⋅a6⋅a7
+D117 - V^2⋅f^3/J^5⋅a1⋅b1⋅a5⋅b5⋅a6
+7⋅i⋅V^3⋅f^2/(9⋅J^5)⋅b1⋅a2⋅a4⋅b4⋅a5⋅b5⋅a7
−2⋅V^4⋅f/(3⋅J^5) - 16⋅V^2⋅f^3/(9⋅J^5)⋅b1⋅a2⋅a4⋅b4⋅a5
−13⋅i⋅V^3⋅f^2/(27⋅J^5)⋅a2⋅a3⋅b3⋅a4⋅b5⋅b6⋅a7
−D104⋅a1⋅a2⋅a4⋅b4⋅b5⋅a6⋅b6
−83⋅i⋅V^3⋅f^2/(135⋅J^5)⋅a2⋅a3⋅b3⋅a4⋅a5⋅b5⋅b6
−14⋅V^4⋅f/(27⋅J^5) - 7⋅V^2⋅f^3/(9⋅J^5)⋅a3⋅b3⋅a4⋅a5⋅b5
−D10 + D6 + D8 + V^2⋅f^3/(3⋅J^5)⋅a1⋅a2⋅b3⋅a5⋅b5
+V^4⋅f/J^5⋅a2⋅b2⋅a3⋅b3⋅a4⋅b4⋅a5⋅b5⋅a6
−V^4⋅f/J^5 - V^2⋅f^3/J^5⋅b4⋅a5⋅b6⋅a7⋅a8
−D18 - 7⋅i⋅V^3⋅f^2/(9⋅J^5)⋅a1⋅a2⋅b2⋅b3⋅a4⋅a5⋅b5
+D54⋅a1⋅b1⋅a2⋅b2⋅a4⋅a5⋅a6
−D108⋅a1⋅b1⋅b2⋅a3⋅b3⋅a4⋅b5⋅a6⋅b6
−D42⋅a1⋅a2⋅a4⋅b4⋅a5⋅b5⋅a6
−D84⋅a1⋅a2⋅a3⋅b3⋅a4
−D25⋅a1⋅b2⋅b3⋅a4⋅b5
−4⋅V^2⋅f^3/(3⋅J^5)⋅b2⋅a3⋅a5⋅b5⋅a7
−2⋅i⋅V^3⋅f^2/(9⋅J^5)⋅b1⋅b2⋅a3⋅a4⋅a5⋅b5⋅a6
−2⋅i⋅V^3⋅f^2/J^5⋅b1⋅a2⋅a3⋅b3⋅a4⋅b4⋅a5
−D114⋅a1⋅b1⋅a2⋅b3⋅b4⋅a5⋅b5
−D43⋅a1⋅a2⋅b3⋅a4⋅a5
+2⋅i⋅V^3⋅f^2/(3⋅J^5)⋅b1⋅a2⋅b4⋅a5⋅a6⋅a7⋅b7
−7⋅i⋅V^3⋅f^2/(27⋅J^5)⋅b1⋅a3⋅b3⋅a4⋅b6⋅a7⋅a8
−7⋅V^4⋅f/(27⋅J^5)⋅b1⋅a3⋅b3⋅a4⋅b5⋅a6⋅b7⋅a8⋅a9
−D50⋅a1⋅b1⋅a3⋅b3⋅b5⋅a6⋅a7
+D88 + 2⋅i⋅V^3⋅f^2/(9⋅J^5)⋅a1⋅b3⋅a6
−16⋅V^4⋅f/(27⋅J^5) + 2⋅V^2⋅f^3/(9⋅J^5)⋅a2⋅b2⋅b3⋅a4⋅a5
−7⋅i⋅V^3⋅f^2/(9⋅J^5)⋅b1⋅a2⋅b3⋅b4⋅a5⋅b5⋅b6
−D6 - V^2⋅f^3/(3⋅J^5)⋅a1⋅b1⋅a4⋅a5⋅b5
+D66⋅a1⋅b1⋅a3⋅b3⋅b5
+10⋅V^4⋅f/(27⋅J^5)⋅b1⋅a2⋅b2⋅a3⋅b3⋅b4⋅b5⋅a6⋅b6
−D80⋅a1⋅b1⋅b3⋅a4⋅b5⋅a6⋅b7⋅a8⋅b8
−2⋅V^4⋅f/(3⋅J^5) - 7⋅V^2⋅f^3/(9⋅J^5)⋅a2⋅b2⋅a3⋅b3⋅a6
−D120⋅a1⋅a2⋅b5
−D10 - V^2⋅f^3/(3⋅J^5)⋅a1⋅a2⋅a4⋅a5⋅a6
−D30⋅a1⋅a4⋅b5⋅a6⋅a7
+8⋅V^2⋅f^3/(27⋅J^5)⋅a2⋅b3⋅b4⋅a5⋅a6
+28⋅i⋅V^3⋅f^2/(135⋅J^5)⋅b1⋅a2⋅a3⋅b3⋅b4⋅b5⋅b6
−83⋅i⋅V^3⋅f^2/(135⋅J^5)⋅b1⋅a2⋅b2⋅b3⋅a5⋅a6⋅a7
−D81⋅a1⋅a2⋅b3⋅a4⋅b5⋅a6⋅b7⋅a8⋅b8
+V^4⋅f/(9⋅J^5)⋅b1⋅a2⋅b2⋅b5⋅b6
−D18 - D20 - D22 - 11⋅i⋅V^3⋅f^2/(9⋅J^5)⋅a1⋅a2⋅a3⋅b3⋅a4⋅a5⋅a6
−D22⋅a1⋅a2⋅a3⋅b3⋅a4⋅b4⋅b5
−2⋅V^4⋅f/(3⋅J^5)⋅b1⋅a2⋅b3⋅b4⋅a5⋅b5⋅b6⋅a7⋅b7
+5⋅i⋅V^3⋅f^2/(9⋅J^5)⋅a3⋅b3⋅a4
+10⋅V^4⋅f/(27⋅J^5)⋅a2⋅b4⋅b5⋅a6⋅a7
−D23⋅a1⋅a2⋅a3⋅b3⋅a4⋅b4⋅a6
+128⋅i⋅V^3⋅f^2/(135⋅J^5)⋅b1⋅b2⋅b3⋅a4⋅b4⋅b5⋅a7
−17⋅i⋅V^3⋅f^2/(27⋅J^5)⋅b1⋅a5⋅a6
+i⋅V^3⋅f^2/J^5⋅b1⋅b2⋅a3⋅a4⋅b5⋅a6⋅a7
−8⋅i⋅V^3⋅f^2/(9⋅J^5)⋅b2⋅a3⋅b3⋅a4⋅b5⋅a6⋅a7
+14⋅V^4⋅f/(27⋅J^5)⋅b1⋅a2⋅a3⋅a4⋅b5⋅a6⋅b7⋅a8⋅b8
−7⋅i⋅V^3⋅f^2/(27⋅J^5)⋅b1⋅a2⋅b2⋅b3⋅a4⋅a5⋅a7
+4⋅V^4⋅f/(45⋅J^5) + 2⋅V^2⋅f^3/(45⋅J^5)⋅b1⋅b2⋅b3⋅a5⋅b5
−D45⋅a1⋅a2⋅a3⋅a4⋅b5⋅a6⋅b6
+D69⋅a1⋅b1⋅a3⋅a4⋅a6
−2⋅i⋅V^3⋅f^2/(9⋅J^5)⋅b1⋅a2⋅b3⋅a5⋅a6⋅b6⋅a7
−2⋅i⋅V^3⋅f^2/(9⋅J^5) - 5⋅i⋅V⋅f^4/(9⋅J^5)⋅b2⋅a3⋅a5
+17⋅V^4⋅f/(27⋅J^5)⋅b1⋅a2⋅b2⋅b3⋅a4⋅b4⋅a5⋅b5⋅b6
−7⋅i⋅V^3⋅f^2/(27⋅J^5)⋅b1⋅a2⋅b2⋅a4⋅b5⋅a6⋅a8
−D105⋅a1⋅a2⋅a4⋅b4⋅b5⋅a6⋅a7
+2⋅i⋅V^3⋅f^2/(3⋅J^5)⋅b2⋅a3⋅b4⋅a5⋅a6⋅b6⋅a8
+5⋅V^4⋅f/(3⋅J^5) - 2⋅V^2⋅f^3/(27⋅J^5)⋅b1⋅a2⋅b2⋅a4⋅a5
−14⋅V^4⋅f/(9⋅J^5) - 38⋅V^2⋅f^3/(27⋅J^5)⋅b1⋅a2⋅a3⋅a4⋅b4
+i⋅V^3⋅f^2/(27⋅J^5)⋅a2⋅a3⋅b4⋅a5⋅b6⋅a7⋅b7
+D85 + 7⋅V^2⋅f^3/(3⋅J^5)⋅a1⋅b1⋅a3⋅b3⋅a4
−17⋅V^4⋅f/(135⋅J^5) - 17⋅V^2⋅f^3/(45⋅J^5)⋅b1⋅a3⋅b3⋅a5⋅a6
−5⋅i⋅V^3⋅f^2/(9⋅J^5)⋅b1⋅a2⋅a4⋅a5⋅b5⋅a6⋅b7
+V^2⋅f^3/(3⋅J^5)⋅a4⋅a5⋅b5⋅a6⋅b6
−2⋅V^4⋅f/(9⋅J^5)⋅b1⋅b2⋅a3⋅a4⋅b4⋅a5⋅b6⋅a7⋅a8
−14⋅i⋅V^3⋅f^2/(27⋅J^5)⋅b1⋅b2⋅b3⋅a4⋅b6⋅a7⋅b7
−10⋅V^4⋅f/(27⋅J^5)⋅b1⋅b4⋅b5⋅a6⋅b6
−7⋅V^4⋅f/(9⋅J^5) - 4⋅V^2⋅f^3/(3⋅J^5)⋅b1⋅a2⋅a5⋅b5⋅a7
+7⋅i⋅V^3⋅f^2/(9⋅J^5)⋅a2⋅b2⋅a3⋅b3⋅b5⋅a6⋅a7
+V^4⋅f/(3⋅J^5) + V^2⋅f^3/(3⋅J^5)⋅b3⋅a4⋅b4⋅a5⋅a6
−D29⋅a1⋅b1⋅a2⋅b3⋅b4
−14⋅V^4⋅f/(27⋅J^5)⋅b1⋅a5⋅b5⋅a6⋅a7
−D94⋅a1⋅b1⋅a2⋅b2⋅a3⋅a4⋅b5⋅a6⋅a7
−13⋅i⋅V^3⋅f^2/(27⋅J^5)⋅a2⋅a3⋅b3⋅a4⋅b6⋅a7⋅b7
−D49⋅a1⋅b1⋅a3⋅b3⋅b5⋅a6⋅b6
+17⋅i⋅V^3⋅f^2/(135⋅J^5)⋅b1⋅a2⋅b2⋅a4⋅b4⋅a6⋅a7
+V^2⋅f^3/(3⋅J^5)⋅b2⋅a3⋅b4⋅b5⋅b6
+i⋅V^3⋅f^2/J^5⋅b1⋅a2⋅b3⋅a4⋅b5⋅a6⋅a9
+10⋅V^4⋅f/(9⋅J^5) - V^2⋅f^3/J^5⋅a4
+5⋅V^2⋅f^3/(27⋅J^5)⋅b1⋅a4⋅b4⋅a5⋅a6
−D63⋅a1⋅b1⋅b4⋅a5⋅a7
−D20 - 4⋅i⋅V^3⋅f^2/(9⋅J^5)⋅a1⋅a2⋅b2⋅b3⋅a4⋅b4⋅a6
+20⋅i⋅V^3⋅f^2/(27⋅J^5)⋅b1⋅a2⋅a3⋅b3⋅a6⋅b6⋅a7
+32⋅V^4⋅f/(27⋅J^5) + V^2⋅f^3/(3⋅J^5)⋅b1⋅a3⋅b3⋅a4⋅a5
−112⋅i⋅V^3⋅f^2/(135⋅J^5)⋅b1⋅a2⋅b2⋅b3⋅b4⋅b5⋅a7
+2⋅V^4⋅f/(9⋅J^5)⋅b1⋅a2⋅a3⋅b5⋅a7
−D15 + i⋅V^3⋅f^2/(3⋅J^5)⋅a1⋅b1⋅b3⋅a4⋅b4⋅b5⋅b6
−D95⋅a1⋅b1⋅a2⋅b2⋅a3⋅a4⋅b5⋅a6⋅b6
−28⋅i⋅V^3⋅f^2/(135⋅J^5)⋅a2⋅b2⋅b3⋅a4⋅b4⋅a6⋅a7
+20⋅i⋅V^3⋅f^2/(27⋅J^5)⋅a2⋅b2⋅b3⋅a4⋅a6⋅b6⋅a7
−D84⋅a1⋅b1⋅b2⋅b3⋅a4
−7⋅V^2⋅f^3/(9⋅J^5)⋅a3⋅b3⋅b4⋅a5⋅a7
+20⋅V^4⋅f/(27⋅J^5)⋅b1⋅a2⋅a3⋅b3⋅a4⋅b4⋅b6⋅a7⋅a8
+28⋅i⋅V^3⋅f^2/(27⋅J^5)⋅b1⋅a2⋅b2⋅a3⋅b3⋅a5⋅a6
+16⋅i⋅V^3⋅f^2/(9⋅J^5) + 2⋅i⋅V⋅f^4/(3⋅J^5)⋅a3⋅b4⋅a5
−D0⋅a1⋅b1⋅b3
+83⋅V^4⋅f/(135⋅J^5) + 28⋅V^2⋅f^3/(45⋅J^5)⋅a2⋅a3⋅a4⋅b4⋅b5
+128⋅V^4⋅f/(135⋅J^5) + 28⋅V^2⋅f^3/(45⋅J^5)⋅a2⋅b2⋅b3⋅a5⋅a6
−D106⋅a1⋅b1⋅a2⋅a3⋅a6
−D16⋅a1⋅b1⋅b3⋅a4⋅a5⋅a6⋅a7
−112⋅V^4⋅f/(135⋅J^5) + 11⋅V^2⋅f^3/(15⋅J^5)⋅a2⋅a3⋅b3⋅b4⋅a6
−D53⋅a1⋅b1⋅a2⋅a3⋅b3⋅b4⋅a6
−D70 + 2⋅V^2⋅f^3/(9⋅J^5)⋅a1⋅b1⋅b2⋅a4⋅a6
−4⋅i⋅V^3⋅f^2/(9⋅J^5)⋅b1⋅b2⋅a3⋅b3⋅b4⋅b5⋅a6
−5⋅i⋅V^3⋅f^2/(9⋅J^5)⋅a2⋅b2⋅a3⋅a4⋅b4⋅b5⋅a6
−V^4⋅f/(3⋅J^5)⋅b1⋅a2⋅b3⋅a4⋅b5⋅a7⋅b7⋅a8⋅a9
−D33⋅a1⋅a2⋅b5⋅a6⋅b6
−55⋅i⋅V^3⋅f^2/(27⋅J^5) - 14⋅i⋅V⋅f^4/(9⋅J^5)⋅a3⋅b3⋅a6
+5⋅i⋅V^3⋅f^2/(9⋅J^5)⋅b2⋅a3⋅b3⋅b4⋅a5⋅b5⋅b6
+D11 + D7 - D9⋅a1⋅a2⋅b3⋅b4⋅b5
+i⋅V^3⋅f^2/(9⋅J^5)⋅b1⋅a2⋅b3⋅b4⋅b6⋅a7⋅b7
−14⋅i⋅V^3⋅f^2/(27⋅J^5) + 5⋅i⋅V⋅f^4/(27⋅J^5)⋅a2⋅b2⋅a4
−D100⋅a1⋅b1⋅b3⋅b4⋅b5⋅a6⋅b6
−4⋅V^4⋅f/(27⋅J^5) + V^2⋅f^3/(9⋅J^5)⋅a3⋅a4⋅b5⋅a6⋅b6
−D98⋅a1⋅b1⋅b3⋅a4⋅b5⋅a6⋅a8
+82⋅i⋅V^3⋅f^2/(135⋅J^5)⋅b1⋅a2⋅a3⋅a4⋅a5⋅b5⋅b6
−D35⋅a1⋅b3⋅a4⋅b4⋅a6
−D68⋅a1⋅b1⋅b2⋅b3⋅b5
−2⋅V^2⋅f^3/(3⋅J^5)⋅b3⋅a4⋅a5⋅a6⋅b6
−D25⋅a1⋅a3⋅b3⋅a4⋅a6
−D48 - 2⋅i⋅V^3⋅f^2/(9⋅J^5)⋅a1⋅b1⋅b2⋅a4⋅b5⋅a6⋅a7
+4⋅V^2⋅f^3/(9⋅J^5)⋅b2⋅b3⋅b4⋅a5⋅b6
−i⋅V^3⋅f^2/J^5 - i⋅V⋅f^4/J^5⋅a5⋅b5⋅a6
−4⋅V^2⋅f^3/(9⋅J^5)⋅b2⋅a3⋅a4⋅a5⋅b6
+62⋅i⋅V^3⋅f^2/(135⋅J^5)⋅b1⋅a2⋅a3⋅b3⋅a5⋅a6⋅b6
−D122⋅a1⋅a2⋅a3⋅b4⋅a5
+D113 + V^2⋅f^3/J^5⋅a1⋅b1⋅a2⋅a3⋅b3
−2⋅i⋅V^3⋅f^2/(15⋅J^5)⋅b1⋅a2⋅b2⋅a4⋅a5⋅b5⋅a7
+D66 - D67 - D69⋅a1⋅a2⋅a3⋅b3⋅a6
−17⋅i⋅V^3⋅f^2/(135⋅J^5)⋅b1⋅a3⋅b3⋅a4⋅b4⋅b5⋅b6
+17⋅i⋅V^3⋅f^2/(27⋅J^5)⋅a2⋅b2⋅a3⋅b3⋅a4⋅b4⋅a6
+V^4⋅f/J^5⋅b1⋅a2⋅b4⋅a5⋅b6⋅a7⋅b8⋅a9⋅a10
+D101 + D103 - D105⋅a1⋅b1⋅a4⋅b4⋅b5⋅a6⋅b6
+D19⋅a1⋅a2⋅b2⋅b3⋅a4⋅b4⋅b5
−D125⋅a1⋅a2⋅b3⋅a4⋅a7
−7⋅i⋅V^3⋅f^2/(27⋅J^5)⋅b1⋅a2⋅b2⋅a4⋅b6⋅a7⋅a8
+D115 - i⋅V^3⋅f^2/(3⋅J^5)⋅a1⋅b1⋅a2⋅b3⋅b4⋅a5⋅a6
+2⋅V^4⋅f/(9⋅J^5) + V^2⋅f^3/(9⋅J^5)⋅b1⋅a2⋅a4⋅a5⋅b6
+D11⋅a1⋅a2⋅a4⋅b4⋅a6
−D12⋅a1⋅b1⋅b3⋅a4⋅b4⋅b5⋅a7
−D8⋅a1⋅b1⋅b3⋅a5⋅a6
+D35 + 2⋅V^4⋅f/(9⋅J^5)⋅a1⋅b3⋅a4⋅a5⋅b5
+7⋅i⋅V^3⋅f^2/(9⋅J^5)⋅b1⋅a2⋅a4⋅b4⋅a5⋅a6⋅b6
−20⋅V^2⋅f^3/(27⋅J^5)⋅a2⋅b2⋅b3⋅a4⋅a7
−D91⋅a1⋅b1⋅a2⋅a3⋅a5⋅b5⋅a6
−D133⋅a1⋅b2⋅a3⋅b3⋅a4⋅b4⋅a5
+7⋅i⋅V^3⋅f^2/(9⋅J^5)⋅a2⋅b2⋅a3⋅b3⋅a5⋅b5⋅a6
−5⋅V^4⋅f/(9⋅J^5)⋅b1⋅a2⋅a4⋅a5⋅b5⋅a6⋅b7⋅a8⋅b8
+112⋅i⋅V^3⋅f^2/(135⋅J^5)⋅a2⋅a3⋅b3⋅a4⋅b4⋅b5⋅a7
−D89⋅a1⋅a4⋅a6
−2⋅V^4⋅f/(9⋅J^5)⋅b1⋅a2⋅a3⋅a4⋅b4⋅a5⋅b5⋅a6⋅b6
+14⋅V^4⋅f/(27⋅J^5)⋅b1⋅a2⋅a3⋅b3⋅a4⋅a5⋅b6⋅a7⋅b7
+5⋅V^4⋅f/(9⋅J^5)⋅b1⋅a2⋅b3⋅a4⋅b4⋅b5⋅a6⋅b6⋅b7
−D116⋅a1⋅b1⋅b4⋅b5⋅a6
+V^4⋅f/J^5⋅b1⋅a2⋅a4⋅b4⋅a5⋅b5⋅a6⋅b6⋅a7
+13⋅i⋅V^3⋅f^2/(27⋅J^5)⋅b1⋅a2⋅b2⋅b3⋅b5⋅a6⋅b7
+V^4⋅f/J^5⋅b1⋅a2⋅b3⋅a4⋅b5⋅a6⋅b7⋅a8⋅a10
−D59⋅a1⋅a2⋅b3⋅a4⋅a6⋅b6⋅a7
−D48⋅a1⋅a2⋅a3⋅b3⋅b5⋅a6⋅b6
−D92⋅a1⋅b1⋅a2⋅b2⋅b4⋅a5⋅b6⋅a7⋅a8
+V^4⋅f/(3⋅J^5)⋅b1⋅a2⋅b3⋅a4⋅b5⋅a6⋅b6⋅b7⋅b8
−8⋅i⋅V^3⋅f^2/(9⋅J^5)⋅b1⋅a2⋅b2⋅a3⋅b5⋅a6⋅a7
+V^4⋅f/J^5⋅b1⋅a2⋅b3⋅a4⋅b5⋅a6⋅a8⋅b8⋅a9
+26⋅i⋅V^3⋅f^2/(27⋅J^5)⋅b1⋅b2⋅a3⋅b3⋅a4⋅a5⋅a6
+i⋅V^3⋅f^2/(3⋅J^5)⋅b1⋅a2⋅b3⋅a4⋅a6⋅a7⋅b7
−D7⋅a1⋅b1⋅b3⋅b4⋅a6
−5⋅i⋅V^3⋅f^2/(9⋅J^5)⋅b1⋅a2⋅b2⋅b3⋅b4⋅a5⋅b5
−D101⋅a1⋅b1⋅b3⋅b4⋅b5⋅a6⋅a7
+20⋅i⋅V^3⋅f^2/(27⋅J^5)⋅a2⋅b2⋅b3⋅a4⋅b6⋅a7⋅a8
−D99⋅a1⋅b1⋅b3⋅a4⋅b5⋅a6⋅b7
+D86 + i⋅V^3⋅f^2/J^5⋅a1⋅a2⋅b4⋅a5⋅b6⋅a7⋅b7
−V^4⋅f/(9⋅J^5)⋅b1⋅a2⋅b2⋅b3⋅b4⋅a5⋅b5⋅a6⋅b6
−D122⋅a1⋅b1⋅b2⋅b4⋅a5
+7⋅V^2⋅f^3/(27⋅J^5)⋅b1⋅a2⋅b2⋅a4⋅a7
+V^4⋅f/J^5⋅b1⋅a2⋅b3⋅a4⋅b6⋅a7⋅b8⋅a9⋅a10
−5⋅i⋅V^3⋅f^2/(9⋅J^5) + i⋅V⋅f^4/(3⋅J^5)⋅b3⋅b4⋅b5
+14⋅i⋅V^3⋅f^2/(27⋅J^5)⋅b1⋅a2⋅a3⋅a4⋅b5⋅b6⋅a7
+i⋅V^3⋅f^2/(3⋅J^5)⋅a3⋅b5⋅a6
+D83 + V^4⋅f/J^5⋅a1⋅b1⋅a2⋅b2⋅a3⋅b3⋅a4⋅b4⋅a6
+14⋅V^2⋅f^3/(27⋅J^5)⋅b1⋅a3⋅b4⋅a5⋅a7
−82⋅V^4⋅f/(135⋅J^5) + 43⋅V^2⋅f^3/(45⋅J^5)⋅b1⋅b2⋅a4⋅a5⋅a6
−D71⋅a1⋅b1⋅a2⋅b2⋅b4⋅a5⋅a7
−4⋅V^4⋅f/(9⋅J^5)⋅b1⋅b2⋅a3⋅b3⋅b4⋅a5⋅b6⋅a7⋅b7
−4⋅i⋅V^3⋅f^2/(9⋅J^5)⋅b1⋅a2⋅a3⋅b3⋅b4⋅a5⋅a6
−V^2⋅f^3/(3⋅J^5)⋅b2⋅a3⋅a5⋅a6⋅b6
−V^2⋅f^3/J^5⋅b1⋅a2⋅b5⋅a6⋅a8
−2⋅i⋅V^3⋅f^2/(3⋅J^5)⋅b2⋅a3⋅b4⋅b5⋅b6⋅a7⋅b7
−D56⋅a1⋅b1⋅a2⋅a3⋅a4⋅b4⋅a6
+i⋅V^3⋅f^2/J^5⋅b1⋅a2⋅b5⋅a6⋅b7⋅a8⋅a9
+82⋅i⋅V^3⋅f^2/(135⋅J^5)⋅b1⋅b2⋅b3⋅a4⋅a5⋅a6⋅a7
+D62 + 5⋅V^2⋅f^3/(9⋅J^5)⋅a1⋅b2⋅a3⋅b3⋅a5
−D127⋅a1⋅b1⋅b2⋅a3⋅b3⋅b4⋅a5
−2⋅i⋅V^3⋅f^2/J^5 - i⋅V⋅f^4/J^5⋅b1⋅a2⋅a7
+i⋅V^3⋅f^2/J^5⋅b3⋅a4⋅b5⋅a6⋅b7⋅a8⋅a9
−D74⋅a1⋅a2⋅b2⋅a3⋅b4
−D46 - 4⋅i⋅V^3⋅f^2/(9⋅J^5)⋅a1⋅a2⋅b2⋅b3⋅b5⋅a6⋅a7
−7⋅i⋅V^3⋅f^2/(27⋅J^5)⋅b1⋅a3⋅a4⋅b4⋅a5⋅b5⋅a6
+D1 + i⋅V^3⋅f^2/(3⋅J^5)⋅a1⋅b1⋅a4
+D47⋅a1⋅a2⋅a3⋅b3⋅b5⋅a6⋅a7
+D53 + D55 - D57 + 2⋅i⋅V^3⋅f^2/(3⋅J^5)⋅a1⋅b1⋅a2⋅a3⋅a4⋅b4⋅b5
−82⋅i⋅V^3⋅f^2/(135⋅J^5)⋅b1⋅b2⋅b3⋅b4⋅b5⋅a6⋅a7
+i⋅V⋅f^4/J^5⋅b1⋅a2⋅a3
−13⋅i⋅V^3⋅f^2/(27⋅J^5)⋅a2⋅a3⋅b3⋅a4⋅b5⋅a6⋅b7
+i⋅V^3⋅f^2/J^5⋅a3⋅b3⋅a4⋅b4⋅a5⋅b5⋅a6
+2⋅i⋅V^3⋅f^2/(3⋅J^5) + 4⋅i⋅V⋅f^4/(27⋅J^5)⋅b1⋅b3⋅b4
+5⋅i⋅V^3⋅f^2/(9⋅J^5)⋅b1⋅a2⋅b3⋅a4⋅b4⋅b5⋅b7
+20⋅i⋅V^3⋅f^2/(27⋅J^5)⋅b1⋅a2⋅a3⋅b3⋅a4⋅b4⋅a7
−D87⋅a1⋅a2⋅b4⋅a5⋅b6⋅a7⋅a8
−D97⋅a1⋅b2⋅b4⋅a5⋅b5
+D13 - D15 + D17 + 2⋅i⋅V^3⋅f^2/(3⋅J^5)⋅a1⋅a2⋅b3⋅a4⋅a5⋅b5⋅b6
−5⋅i⋅V^3⋅f^2/(27⋅J^5) - i⋅V⋅f^4/(9⋅J^5)⋅b2⋅b3⋅b5
−D46 - D48 - D50 - 2⋅i⋅V^3⋅f^2/(3⋅J^5)⋅a1⋅b1⋅b2⋅b3⋅b5⋅a6⋅b6
−D72⋅a1⋅b1⋅a2⋅b2⋅b4⋅a5⋅b6
+10⋅i⋅V^3⋅f^2/(27⋅J^5)⋅a2⋅a5⋅b5
−i⋅V^3⋅f^2/(3⋅J^5)⋅b1⋅a2⋅b4⋅a6⋅b6⋅a7⋅a8
−D75⋅a1⋅b1⋅b2⋅a3⋅b4
+2⋅i⋅V^3⋅f^2/(15⋅J^5)⋅b1⋅a2⋅b2⋅b3⋅b4⋅a6⋅b6
+i⋅V^3⋅f^2/(3⋅J^5)⋅b1⋅a2⋅b4⋅a5⋅b5⋅b6⋅b7
+28⋅i⋅V^3⋅f^2/(135⋅J^5)⋅a2⋅b2⋅b3⋅a4⋅b4⋅b5⋅b6
−28⋅V^4⋅f/(135⋅J^5) + 2⋅V^2⋅f^3/(45⋅J^5)⋅a2⋅b2⋅b3⋅b4⋅b5
−7⋅i⋅V^3⋅f^2/(27⋅J^5)⋅b1⋅a3⋅b3⋅a4⋅b5⋅a6⋅a8
−28⋅i⋅V^3⋅f^2/(135⋅J^5)⋅a2⋅b2⋅b3⋅a5⋅b5⋅a6⋅a7
−14⋅V^4⋅f/(27⋅J^5)⋅b1⋅b2⋅b3⋅a4⋅b5⋅a6⋅b7⋅a8⋅b8
−83⋅i⋅V^3⋅f^2/(135⋅J^5)⋅a2⋅a3⋅a4⋅b4⋅b5⋅a6⋅b6
+V^4⋅f/(3⋅J^5)⋅a2⋅b2⋅a3⋅b5⋅a6
−D45 + D47 + D49⋅a1⋅a2⋅b2⋅b3⋅b5⋅a6⋅b6
+14⋅i⋅V^3⋅f^2/(27⋅J^5)⋅b1⋅a2⋅a3⋅a4⋅b6⋅a7⋅b7
+2⋅i⋅V^3⋅f^2/(3⋅J^5)⋅b2⋅a3⋅b4⋅a5⋅a6⋅a7⋅b7
+20⋅V^4⋅f/(27⋅J^5)⋅b1⋅a2⋅a3⋅b3⋅b5⋅a6⋅b7⋅a8⋅a9
+D90 + i⋅V^3⋅f^2/J^5⋅a1⋅b1⋅a2⋅a3⋅b4⋅b5⋅a6
+20⋅V^4⋅f/(27⋅J^5)⋅a2⋅b2⋅b3⋅a4⋅b5⋅a6⋅b7⋅a8⋅a9
−V^2⋅f^3/J^5⋅b1⋅a2⋅a6⋅b6⋅a7
−2⋅V^4⋅f/(9⋅J^5)⋅b1⋅a2⋅b3⋅a5⋅b5⋅a6⋅b7⋅a8⋅a9
−D88⋅a1⋅a4⋅b5
−D90⋅a1⋅b1⋅a2⋅b2⋅a5⋅b5⋅a6
+D21⋅a1⋅a2⋅b2⋅b3⋅a4⋅a5⋅a6
−V^2⋅f^3/J^5⋅b2⋅a3⋅a6⋅b6⋅a7
−D58⋅a1⋅b1⋅a2⋅a3⋅a4⋅a5⋅b5
+i⋅V^3⋅f^2/J^5⋅b2⋅a3⋅b4⋅a5⋅b6⋅a7⋅a9
−2⋅i⋅V^3⋅f^2/(15⋅J^5)⋅b1⋅a3⋅a4⋅b4⋅b5⋅a6⋅a7}




In [31]:
p(c(H,psi+psi5))
{−2⋅D106⋅V + 2⋅i⋅D54⋅f - 2⋅i⋅D56⋅f - 2⋅i⋅D58⋅f⋅a1⋅b1⋅a2⋅b2⋅a4⋅b4⋅a5
−2⋅D64⋅V - 2⋅i⋅D87⋅f⋅a1⋅b1⋅b4⋅a5⋅a6⋅a7⋅b7
−2⋅i⋅D81⋅f - 2⋅i⋅V^4⋅f^2/J^5⋅a1⋅b1⋅b3⋅b4⋅b5⋅a6⋅b7⋅a8⋅a9
−6⋅V^3⋅f^3/J^5 - 2⋅V⋅f^5/J^5⋅b6⋅a7⋅b7
−2⋅D16⋅V - 2⋅i⋅D94⋅f⋅a1⋅b1⋅a2⋅b2⋅a3⋅a4⋅a5⋅a6⋅a7
+4⋅i⋅V^4⋅f^2/(9⋅J^5)⋅b2⋅a3⋅b3⋅a4⋅b4⋅b5⋅b6⋅a7⋅a8
+14⋅V^5⋅f/(9⋅J^5) + 56⋅V^3⋅f^3/(15⋅J^5)⋅b1⋅b2⋅a3⋅b3⋅a5⋅b5⋅a7
+116⋅i⋅V^4⋅f^2/(135⋅J^5) - 22⋅i⋅V^2⋅f^4/(27⋅J^5)⋅b1⋅b2⋅b4⋅b5⋅b6
+2⋅V^3⋅f^3/(3⋅J^5)⋅a2⋅a3⋅b4⋅a5⋅b5⋅a7⋅a8
+4⋅i⋅V^4⋅f^2/(9⋅J^5)⋅b1⋅b2⋅b3⋅a4⋅b4⋅a5⋅b6⋅a7⋅a8
−2⋅V^3⋅f^3/J^5⋅a1⋅a2⋅b4⋅a5⋅b7⋅a8⋅a9
+56⋅i⋅V^4⋅f^2/(135⋅J^5)⋅a2⋅b2⋅b3⋅a4⋅b4⋅a5⋅b5⋅b6⋅a7
+296⋅i⋅V^4⋅f^2/(135⋅J^5)⋅b1⋅a2⋅b2⋅b3⋅a5⋅a6⋅b7⋅a8⋅b8
−38⋅V^3⋅f^3/(27⋅J^5)⋅b1⋅a2⋅b2⋅a5⋅b5⋅a6⋅b7
+40⋅i⋅V^4⋅f^2/(27⋅J^5) + 2⋅i⋅V^2⋅f^4/J^5⋅b1⋅b2⋅a6⋅b6⋅a7
+2⋅D103⋅V⋅a1⋅b1⋅b4⋅a6⋅a7
−4⋅i⋅V^4⋅f^2/(3⋅J^5)⋅a3⋅b3⋅a4⋅b4⋅b5⋅a6⋅b7⋅a8⋅b8
−2⋅i⋅D11⋅f - 2⋅i⋅D7⋅f + 2⋅i⋅D9⋅f⋅b1⋅a2⋅b3⋅b4⋅b5
+28⋅V^3⋅f^3/(9⋅J^5)⋅b2⋅b3⋅b4⋅a5⋅a6⋅a7⋅b7
−2⋅V^3⋅f^3/J^5⋅b3⋅a4⋅a5⋅b5⋅a6⋅a7⋅a8
−4⋅V^3⋅f^3/(9⋅J^5)⋅b2⋅a3⋅b3⋅b5⋅a6⋅b6⋅a7
+2⋅D113⋅V + 2⋅i⋅D73⋅f - 2⋅D83⋅V⋅a1⋅b1⋅a2⋅b2⋅a3⋅b3⋅b4
+14⋅V^3⋅f^3/(9⋅J^5)⋅b2⋅a3⋅a4⋅b4⋅a5⋅b5⋅b7
+4⋅V^3⋅f^3/(9⋅J^5)⋅a1⋅b2⋅a3⋅a4⋅b4⋅a5⋅a7
+40⋅V^3⋅f^3/(27⋅J^5)⋅a2⋅b2⋅b3⋅a4⋅b5⋅a6⋅b8
+2⋅D124⋅V + 2⋅i⋅D17⋅f⋅a1⋅b1⋅b3⋅b4⋅a5⋅b5⋅a7
−46⋅i⋅V^4⋅f^2/(27⋅J^5)⋅a2⋅b4⋅b5⋅a6⋅b7
+2⋅i⋅D16⋅f - 2⋅i⋅D59⋅f⋅a1⋅b1⋅b3⋅a4⋅a5⋅b6⋅a7
−2⋅i⋅V^4⋅f^2/J^5⋅b1⋅a2⋅b4⋅b5⋅b6⋅a7⋅b8⋅a9⋅a10
−22⋅i⋅V^2⋅f^4/(9⋅J^5)⋅b2⋅b3⋅b4⋅b5⋅b6
−154⋅i⋅V^4⋅f^2/(45⋅J^5) - 4⋅i⋅V^2⋅f^4/(3⋅J^5)⋅b1⋅b2⋅b4⋅a6⋅a7
+2⋅i⋅V^4⋅f^2/J^5⋅b1⋅a2⋅b3⋅a4⋅a5⋅b5⋅a6⋅a7⋅a9
−2⋅D25⋅V + 2⋅i⋅D89⋅f⋅a1⋅b4⋅a6
+2⋅D64⋅V⋅a1⋅a2⋅b4⋅a5⋅a6⋅b6⋅b7
−2⋅i⋅D59⋅f⋅a1⋅a2⋅a3⋅a4⋅a6⋅b6⋅a7
−14⋅i⋅V^4⋅f^2/(27⋅J^5)⋅b1⋅a3⋅b3⋅a4⋅a5⋅b5⋅a6⋅a7⋅a8
−2⋅i⋅V^4⋅f^2/(3⋅J^5)⋅b2⋅a3⋅a4⋅b6⋅b7
+2⋅D118⋅V + 2⋅D53⋅V - 2⋅i⋅D70⋅f + 64⋅i⋅V^4⋅f^2/(27⋅J^5) + 4⋅i⋅V^2⋅f^4/(3⋅J^5)⋅a1⋅b1⋅a2⋅a4⋅a6
+2⋅V^3⋅f^3/J^5⋅b1⋅b2⋅b4⋅a5⋅b7⋅a8⋅a9
+2⋅D70⋅V - 4⋅V^3⋅f^3/(9⋅J^5)⋅a1⋅b1⋅b2⋅a4⋅b6⋅a7⋅b7
+14⋅i⋅V^4⋅f^2/(27⋅J^5)⋅b1⋅a2⋅b2⋅a4⋅b5⋅b6⋅b7⋅a8⋅a9
−8⋅V^3⋅f^3/(3⋅J^5)⋅a1⋅b1⋅a2⋅a3⋅a5⋅b5⋅a7
+14⋅V^5⋅f/(27⋅J^5)⋅b1⋅a3⋅b3⋅a4⋅b5⋅a6⋅b7⋅a8⋅b9⋅a10⋅b10
+2⋅i⋅D116⋅f + 2⋅i⋅D64⋅f⋅a1⋅b1⋅b4⋅b5⋅b6
−2⋅i⋅D13⋅f + 2⋅i⋅D15⋅f - 2⋅i⋅D17⋅f + 2⋅V^3⋅f^3/(3⋅J^5)⋅a1⋅b1⋅b3⋅a4⋅b4⋅a6⋅b7
+4⋅V^3⋅f^3/(3⋅J^5)⋅b1⋅b2⋅b4⋅a5⋅a6⋅b6⋅a8
+2⋅D17⋅V⋅a1⋅b1⋅b3⋅a4⋅a5⋅b5⋅b7⋅a8⋅b8
−4⋅i⋅V^2⋅f^4/(9⋅J^5)⋅b2⋅a3⋅b3⋅a5⋅b7
+2⋅i⋅D112⋅f + 2⋅D5⋅V - 2⋅i⋅D75⋅f - 2⋅i⋅D84⋅f⋅a1⋅b1⋅b2⋅a3⋅a4
+2⋅i⋅D50⋅f⋅a1⋅b1⋅a3⋅b3⋅b5⋅a6⋅b7
−2⋅i⋅V^4⋅f^2/J^5 - 8⋅i⋅V^2⋅f^4/J^5 - 2⋅i⋅f^6/J^5⋅b6
−2⋅i⋅V^4⋅f^2/(3⋅J^5) - 4⋅i⋅V^2⋅f^4/(3⋅J^5)⋅b2⋅b3⋅b4⋅a6⋅a7
−2⋅V^3⋅f^3/J^5⋅b1⋅a2⋅a3⋅a4⋅b5⋅a6⋅a9
+4⋅i⋅V^4⋅f^2/(9⋅J^5)⋅b1⋅b2⋅a3⋅a4⋅b4⋅a5⋅b7⋅a8⋅b8
−2⋅i⋅V^4⋅f^2/(135⋅J^5)⋅b1⋅a3⋅b4⋅a6⋅b6
+2⋅V^5⋅f/J^5 + 32⋅V^3⋅f^3/(9⋅J^5)⋅b1⋅a2⋅b3⋅b4⋅a5⋅b5⋅a8
−14⋅i⋅V^4⋅f^2/(27⋅J^5)⋅b1⋅a3⋅b3⋅a4⋅a5⋅a6⋅b7⋅a8⋅a9
+2⋅i⋅D93⋅f⋅a1⋅b1⋅a2⋅a3⋅b4⋅a5⋅b6⋅b7⋅a8
−2⋅i⋅V^4⋅f^2/J^5⋅b1⋅a2⋅b3⋅a4⋅a7⋅b7⋅b8⋅a9⋅b9
−2⋅i⋅D6⋅f + 2⋅i⋅D68⋅f - 22⋅i⋅V^2⋅f^4/(27⋅J^5)⋅a1⋅a2⋅a3⋅b4⋅a6
+4⋅i⋅V^4⋅f^2/(9⋅J^5)⋅b1⋅a2⋅b3⋅a4⋅b4⋅a5⋅b5⋅b6⋅a8
−2⋅D91⋅V⋅b2⋅a3⋅a5⋅b5⋅a6
+2⋅i⋅V^4⋅f^2/(3⋅J^5)⋅b2⋅a3⋅a4⋅a7⋅a8
−34⋅V^5⋅f/(135⋅J^5) + 148⋅V^3⋅f^3/(135⋅J^5)⋅b2⋅a5⋅b5
−2⋅i⋅D16⋅f + 2⋅i⋅D45⋅f - 2⋅i⋅D47⋅f - 2⋅i⋅D49⋅f⋅a1⋅b1⋅a3⋅a4⋅a5⋅a6⋅a7
−2⋅i⋅D45⋅f⋅a1⋅b1⋅b2⋅b3⋅b5⋅a6⋅b7
+2⋅D38⋅V⋅a1⋅b1⋅a2⋅a3⋅b5⋅a6⋅b7⋅a8⋅b8
+94⋅i⋅V^4⋅f^2/(27⋅J^5) + 14⋅i⋅V^2⋅f^4/(9⋅J^5)⋅a3⋅b3⋅a4⋅b4⋅b6
−2⋅D16⋅V + 2⋅i⋅D9⋅f⋅a1⋅a2⋅b3⋅a5⋅b6
+4⋅i⋅V^4⋅f^2/(3⋅J^5)⋅b1⋅a2⋅b3⋅a4⋅a5⋅a6⋅a7⋅b7⋅a9
+14⋅V^5⋅f/(27⋅J^5)⋅b1⋅a2⋅b2⋅a4⋅b5⋅a6⋅b7⋅a8⋅b9⋅a10⋅b10
+2⋅D19⋅V - 2⋅D21⋅V + 2⋅D23⋅V⋅a1⋅b1⋅b2⋅b3⋅a4⋅b4⋅b6⋅a7⋅b7
+10⋅V^3⋅f^3/(27⋅J^5)⋅b1⋅a2⋅b3⋅a4⋅b4⋅a5⋅b5
−40⋅V^5⋅f/(27⋅J^5) - 2⋅V^3⋅f^3/J^5⋅a3⋅a4⋅b5⋅a6⋅b7⋅a8⋅a9
−2⋅D106⋅V - 2⋅i⋅D38⋅f⋅a1⋅b1⋅a2⋅b2⋅a5⋅a6⋅b6
−10⋅i⋅V^4⋅f^2/(3⋅J^5) - 2⋅i⋅V^2⋅f^4/J^5⋅b1⋅a2⋅a6⋅a7⋅a8
−296⋅V^3⋅f^3/(135⋅J^5)⋅b1⋅a2⋅b2⋅b3⋅a5⋅a6⋅b7
−2⋅D125⋅V - 2⋅i⋅D52⋅f⋅a1⋅b1⋅b3⋅a4⋅a6⋅a7⋅b7
−2⋅D31⋅V + 2⋅i⋅D50⋅f - 122⋅V^5⋅f/(27⋅J^5) - 136⋅V^3⋅f^3/(135⋅J^5)⋅b1⋅a2⋅b2⋅a4⋅b5⋅a6⋅b6
+2⋅V^3⋅f^3/J^5⋅a4⋅b4⋅a5⋅b5⋅b6⋅a7⋅b7
−4⋅V^3⋅f^3/(15⋅J^5)⋅b1⋅a3⋅b3⋅a4⋅a5⋅b5⋅b7
+4⋅i⋅V^2⋅f^4/(3⋅J^5)⋅b3⋅a4⋅a5⋅b5⋅b7
+2⋅i⋅V^2⋅f^4/J^5⋅b1⋅b2⋅b4⋅a5⋅a8
−2⋅i⋅D3⋅f - 8⋅V^3⋅f^3/(9⋅J^5)⋅a1⋅b2⋅b3⋅a4⋅b4⋅a5⋅b5
−14⋅V^3⋅f^3/(27⋅J^5)⋅b1⋅a2⋅b2⋅b4⋅b6⋅a7⋅a8
−14⋅i⋅V^4⋅f^2/(27⋅J^5)⋅b1⋅a2⋅b2⋅a4⋅b5⋅a6⋅a7⋅a8⋅a9
+2⋅V^3⋅f^3/J^5⋅b2⋅a3⋅b5⋅b6⋅a7⋅b7⋅a8
+2⋅i⋅D127⋅f + 2⋅i⋅D19⋅f - 2⋅D34⋅V - 2⋅D69⋅V + 2⋅D75⋅V⋅a1⋅a2⋅b2⋅a3⋅a4⋅b4⋅b5
+2⋅i⋅D109⋅f + 26⋅i⋅V^4⋅f^2/(27⋅J^5)⋅a1⋅b1⋅b2⋅a3⋅b3⋅a4⋅b5⋅a6⋅b7
+2⋅V^5⋅f/J^5⋅b1⋅a2⋅b3⋅a4⋅b5⋅a6⋅a7⋅b7⋅a8⋅a9⋅a10
+2⋅i⋅D54⋅f - 2⋅i⋅D56⋅f - 2⋅i⋅D58⋅f⋅a1⋅b1⋅a2⋅a3⋅b3⋅a5⋅b6
−2⋅i⋅D110⋅f + 2⋅i⋅D122⋅f + 2⋅i⋅D61⋅f⋅a1⋅b2⋅a3⋅b4⋅a5
+158⋅i⋅V^4⋅f^2/(45⋅J^5) + 142⋅i⋅V^2⋅f^4/(135⋅J^5)⋅a2⋅b2⋅b4⋅a5⋅b5
−2⋅D108⋅V + 2⋅i⋅D40⋅f⋅b1⋅a3⋅b3⋅a4⋅b5⋅a6⋅a7
+194⋅V^3⋅f^3/(135⋅J^5)⋅b1⋅a2⋅b2⋅b4⋅a5⋅a6⋅b6
−2⋅i⋅V^4⋅f^2/J^5 - 32⋅i⋅V^2⋅f^4/(9⋅J^5)⋅a3⋅b3⋅a4⋅a5⋅a7
+56⋅i⋅V^4⋅f^2/(135⋅J^5) + 2⋅i⋅V^2⋅f^4/(3⋅J^5)⋅a3⋅a5⋅b5⋅a6⋅a7
+2⋅V^3⋅f^3/J^5⋅b1⋅a2⋅b5⋅b6⋅b7⋅a8⋅a9
+20⋅i⋅V^4⋅f^2/(9⋅J^5)⋅b1⋅b2⋅a3⋅b3⋅a4⋅a5⋅b5⋅a6⋅b7
−14⋅i⋅V^4⋅f^2/(9⋅J^5)⋅a3⋅b3⋅b4⋅a5⋅b6⋅a7⋅b8⋅a9⋅b9
−68⋅i⋅V^4⋅f^2/(27⋅J^5)⋅b1⋅a2⋅a3⋅b3⋅a4⋅b4⋅a5⋅b5⋅b7
−2⋅V^5⋅f/J^5 - 176⋅V^3⋅f^3/(135⋅J^5)⋅b1⋅b3⋅a4⋅b4⋅b5⋅a6⋅a7
+2⋅V^5⋅f/J^5⋅b1⋅a2⋅b3⋅a4⋅b5⋅a6⋅b7⋅a8⋅a9⋅a10⋅a11
−2⋅i⋅D46⋅f + 286⋅V^3⋅f^3/(135⋅J^5)⋅a1⋅a2⋅b2⋅b3⋅a5⋅a6⋅a7
+2⋅i⋅D93⋅f⋅a1⋅b1⋅b2⋅a3⋅b4⋅a5⋅b6⋅a7⋅a8
+2⋅i⋅V^4⋅f^2/(3⋅J^5)⋅b1⋅b2⋅b3⋅b4⋅a5⋅a6⋅b6⋅a7⋅a8
−14⋅V^5⋅f/(9⋅J^5)⋅b1⋅a2⋅b3⋅a4⋅a5⋅b5⋅b7⋅a8⋅b9⋅a10⋅b10
+28⋅V^3⋅f^3/(27⋅J^5)⋅a1⋅a3⋅b4⋅a5⋅b6⋅a7⋅a8
−2⋅i⋅V^2⋅f^4/J^5⋅b3⋅a4⋅a5⋅a6⋅a8
+2⋅i⋅D42⋅f⋅b1⋅a2⋅a4⋅b4⋅a5⋅b5⋅a6
+4⋅i⋅V^4⋅f^2/(15⋅J^5)⋅a1⋅b1⋅b2⋅a3⋅b3⋅a4⋅b4⋅a6⋅b6
−56⋅i⋅V^4⋅f^2/(135⋅J^5)⋅a2⋅b2⋅b3⋅b6⋅a7
+56⋅i⋅V^4⋅f^2/(135⋅J^5)⋅a2⋅b2⋅a3⋅a6⋅a7
+2⋅i⋅D93⋅f⋅a1⋅b1⋅a2⋅a3⋅b4⋅b5⋅b6⋅a7⋅a8
−4⋅i⋅V^4⋅f^2/(9⋅J^5)⋅b1⋅a2⋅a3⋅a4⋅b4⋅a6⋅b7⋅a8⋅a9
+2⋅D19⋅V - 2⋅D21⋅V + 2⋅D23⋅V⋅a2⋅b3⋅a4⋅b4⋅a6
+4⋅V^5⋅f/(9⋅J^5) - 8⋅V^3⋅f^3/(9⋅J^5)⋅b1⋅a2⋅a4⋅a5⋅a6⋅a7⋅b7
+2⋅D113⋅V + 140⋅V^3⋅f^3/(27⋅J^5) + 22⋅V⋅f^5/(27⋅J^5)⋅b2⋅a3⋅b3
+2⋅i⋅D33⋅f + 140⋅i⋅V^4⋅f^2/(27⋅J^5) + 32⋅i⋅V^2⋅f^4/(27⋅J^5)⋅b1⋅a2⋅b5⋅a6⋅b6
+4⋅V^3⋅f^3/(9⋅J^5)⋅a1⋅a2⋅b3⋅a5⋅a6⋅b6⋅a7
+2⋅V^3⋅f^3/J^5⋅b2⋅a3⋅b5⋅a6⋅b7⋅b8⋅a9
−2⋅i⋅V^4⋅f^2/(3⋅J^5)⋅b1⋅a2⋅a3⋅b4⋅a5⋅a6⋅b6⋅a7⋅a8
+2⋅D0⋅V + 2⋅D2⋅V - 2⋅i⋅D61⋅f - 2⋅D79⋅V + 2⋅i⋅D84⋅f⋅a1⋅b2⋅a3⋅b3⋅a4
+2⋅i⋅V^4⋅f^2/J^5⋅b1⋅a2⋅a3⋅a4⋅b5⋅a6⋅b7⋅a8⋅a10
−2⋅i⋅V^4⋅f^2/J^5⋅b1⋅a2⋅b3⋅a4⋅b5⋅a6⋅b7⋅a8⋅b10
−2⋅D46⋅V - 58⋅i⋅V^4⋅f^2/(27⋅J^5)⋅a1⋅a2⋅b2⋅b3⋅a4⋅b4⋅a5⋅a6⋅a7
−124⋅i⋅V^4⋅f^2/(27⋅J^5)⋅b1⋅b2⋅a3⋅b3⋅a4⋅b4⋅b6⋅a7⋅a8
+224⋅i⋅V^4⋅f^2/(135⋅J^5)⋅a2⋅a3⋅a4⋅a5⋅b5⋅a6⋅b7⋅a8⋅b8
−14⋅i⋅V^4⋅f^2/(9⋅J^5)⋅b1⋅b2⋅a3⋅b3⋅a4⋅b4⋅b5⋅a6⋅a8
−4⋅V^3⋅f^3/(15⋅J^5)⋅b1⋅a3⋅a4⋅b4⋅b5⋅b6⋅a7
−14⋅i⋅V^4⋅f^2/(9⋅J^5)⋅a2⋅b2⋅a3⋅b3⋅b4⋅a5⋅b6⋅b7⋅a8
−10⋅V^5⋅f/(9⋅J^5) - 56⋅V^3⋅f^3/(135⋅J^5)⋅b1⋅a2⋅a3⋅b3⋅b4⋅b6⋅a7
−2⋅D101⋅V - 2⋅D103⋅V + 2⋅D105⋅V⋅a1⋅a2⋅a3⋅a4⋅b4⋅a5⋅b5⋅a6⋅a7
−886⋅V^3⋅f^3/(135⋅J^5)⋅b2⋅a3⋅b3⋅a4⋅a5⋅b5⋅b6
−40⋅i⋅V^4⋅f^2/(27⋅J^5) - 2⋅i⋅V^2⋅f^4/J^5⋅a3⋅a4⋅b6⋅a7⋅a8
+2⋅D14⋅V⋅a1⋅a2⋅a3⋅a6⋅a7
−4⋅i⋅V^2⋅f^4/(9⋅J^5)⋅b2⋅a3⋅b3⋅b5⋅a7
+296⋅i⋅V^4⋅f^2/(135⋅J^5)⋅b1⋅a2⋅b2⋅a3⋅b3⋅b4⋅a5⋅a6⋅b6
+2⋅i⋅D120⋅f - 32⋅V^5⋅f/(9⋅J^5) - 8⋅V^3⋅f^3/J^5 - 14⋅V⋅f^5/(27⋅J^5)⋅b1⋅a2⋅b5
−10⋅i⋅V^4⋅f^2/(9⋅J^5) + 10⋅i⋅V^2⋅f^4/(3⋅J^5)⋅b3⋅b4⋅a5⋅a6⋅b6
−4⋅V^5⋅f/(9⋅J^5) + 100⋅V^3⋅f^3/(27⋅J^5)⋅b1⋅b2⋅a3⋅b3⋅a4⋅a5⋅b6
+2⋅V^5⋅f/J^5⋅b1⋅a2⋅b3⋅a4⋅a5⋅a6⋅b7⋅a8⋅b9⋅a10⋅a11
+2⋅D113⋅V + 2⋅i⋅D53⋅f - 2⋅D83⋅V + 4⋅V^3⋅f^3/(3⋅J^5)⋅a1⋅b1⋅a2⋅b2⋅b4⋅a5⋅b5
−4⋅i⋅V^4⋅f^2/(15⋅J^5)⋅b1⋅b4⋅a5⋅b5⋅a7
+14⋅i⋅V^4⋅f^2/(27⋅J^5)⋅a1⋅a4⋅b5⋅a6⋅a8
−14⋅V^3⋅f^3/(27⋅J^5)⋅b1⋅a3⋅b3⋅a4⋅b6⋅a7⋅b8
+2⋅i⋅D42⋅f⋅a1⋅b2⋅a4⋅b4⋅a5⋅b5⋅a6
+2⋅D119⋅V⋅a1⋅a2⋅b2⋅a3⋅b3⋅a4⋅b6⋅a7⋅b7
+2⋅i⋅D101⋅f + 2⋅i⋅D99⋅f⋅a1⋅b1⋅b3⋅b4⋅b5⋅a6⋅b7
−2⋅V^3⋅f^3/(3⋅J^5)⋅a1⋅a2⋅b4⋅a5⋅b5⋅b6⋅b7
−368⋅i⋅V^4⋅f^2/(135⋅J^5) - 242⋅i⋅V^2⋅f^4/(135⋅J^5)⋅b1⋅b2⋅b3⋅b4⋅b6
+14⋅V^5⋅f/(9⋅J^5)⋅b1⋅a2⋅b3⋅a4⋅a5⋅b5⋅a6⋅b6⋅a7⋅a8⋅a9
−14⋅i⋅V^4⋅f^2/(27⋅J^5)⋅a1⋅a2⋅b2⋅a4⋅b5⋅a6⋅b7⋅a8⋅a9
+2⋅D119⋅V⋅a1⋅a2⋅b2⋅a3⋅b3⋅a4⋅a5⋅b5⋅b6
−2⋅V^5⋅f/J^5 - 586⋅V^3⋅f^3/(135⋅J^5)⋅b2⋅a3⋅b3⋅b4⋅b5⋅a6⋅a7
+40⋅V^3⋅f^3/(27⋅J^5) + 2⋅V⋅f^5/J^5⋅a3⋅a4⋅a7
+2⋅i⋅D13⋅f - 256⋅V^3⋅f^3/(135⋅J^5)⋅a1⋅b2⋅b3⋅a4⋅b4⋅b5⋅a7
−2⋅D16⋅V⋅a1⋅a2⋅a3⋅b5⋅b6
+10⋅i⋅V^2⋅f^4/(3⋅J^5)⋅b3⋅b4⋅a5⋅b5⋅a7
−40⋅i⋅V^4⋅f^2/(27⋅J^5)⋅a2⋅b2⋅b3⋅a4⋅b5⋅a6⋅b7⋅a8⋅b9
+2⋅i⋅V^4⋅f^2/J^5⋅b1⋅a2⋅a3⋅a4⋅a6⋅b6⋅a7⋅b7⋅a8
+2⋅i⋅D99⋅f⋅a1⋅a2⋅b3⋅a4⋅b5⋅b6⋅a8
−2⋅i⋅D108⋅f - 2⋅D119⋅V⋅a1⋅b1⋅b2⋅a3⋅b3⋅a4⋅a5⋅a6⋅b6
−4⋅V^5⋅f/(9⋅J^5) + 10⋅V^3⋅f^3/(3⋅J^5)⋅b1⋅a2⋅b4⋅b5⋅a6⋅a7⋅b7
−34⋅i⋅V^4⋅f^2/(135⋅J^5)⋅b1⋅a2⋅b2⋅a4⋅b4⋅b5⋅a6⋅a7⋅b7
−4⋅i⋅V^4⋅f^2/(3⋅J^5)⋅b1⋅b2⋅a3⋅b3⋅a5⋅b5⋅b6⋅a7⋅a8
+10⋅i⋅V^4⋅f^2/(3⋅J^5)⋅b1⋅a2⋅b3⋅a4⋅a6⋅b6⋅a7⋅a8⋅a9
+2⋅i⋅V^4⋅f^2/J^5⋅a1⋅b1⋅a2⋅a3⋅b4⋅a5⋅b6⋅a7⋅a9
−2⋅D118⋅V - 2⋅D53⋅V + 2⋅i⋅D70⋅f - 32⋅i⋅V^4⋅f^2/(27⋅J^5) - 4⋅i⋅V^2⋅f^4/(9⋅J^5)⋅a1⋅b1⋅b2⋅b4⋅a6
−2⋅D5⋅V + 2⋅i⋅D97⋅f⋅b1⋅a3⋅b4⋅a5⋅a6
+2⋅i⋅D115⋅f - 2⋅i⋅D4⋅f + 2⋅i⋅D57⋅f + 2⋅i⋅D71⋅f + 2⋅i⋅D90⋅f - 2⋅D92⋅V - 2⋅V^5⋅f/J^5 - 58⋅V^3⋅f^3/(9⋅J^5)⋅a1⋅b1⋅a2⋅a3⋅b4⋅a5⋅a6
+2⋅i⋅D14⋅f - 2⋅D69⋅V⋅a1⋅b1⋅a3⋅a4⋅a5⋅b5⋅b6
−2⋅D119⋅V + 2⋅i⋅D66⋅f⋅a1⋅a2⋅b2⋅b4⋅a6
+2⋅i⋅D38⋅f + 2⋅i⋅D45⋅f⋅a1⋅b1⋅b2⋅a3⋅b5⋅a6⋅a7
+2⋅V^3⋅f^3/J^5⋅b2⋅b3⋅b4⋅a5⋅b7⋅a8⋅a9
−2⋅D45⋅V + 2⋅D47⋅V + 2⋅D49⋅V - 2⋅i⋅D80⋅f⋅a1⋅b1⋅a3⋅a4⋅b5⋅a6⋅b7⋅a8⋅b8
+14⋅i⋅V^4⋅f^2/(9⋅J^5)⋅b1⋅a2⋅b2⋅a4⋅b4⋅a5⋅b6⋅a7⋅b7
+2⋅i⋅D52⋅f⋅b1⋅a2⋅b3⋅a4⋅b6⋅a7⋅a8
−2⋅V^3⋅f^3/(3⋅J^5)⋅b2⋅b3⋅a4⋅a5⋅b5⋅b6⋅a7
+26⋅i⋅V^4⋅f^2/(9⋅J^5) + 14⋅i⋅V^2⋅f^4/(3⋅J^5)⋅a4⋅b4⋅a5⋅b5⋅b6
+2⋅i⋅D12⋅f - 2⋅i⋅D14⋅f - 2⋅i⋅D16⋅f⋅a1⋅b1⋅a3⋅a4⋅b4⋅a6⋅b6
−2⋅i⋅V^4⋅f^2/J^5⋅b2⋅a3⋅b4⋅a5⋅a7⋅b7⋅b8⋅a9⋅b9
+2⋅D15⋅V - 2⋅i⋅V^4⋅f^2/(3⋅J^5)⋅a1⋅b1⋅a3⋅b5⋅b6
−224⋅i⋅V^4⋅f^2/(135⋅J^5)⋅a2⋅a3⋅b3⋅a4⋅b4⋅b5⋅b7⋅a8⋅b8
−4⋅i⋅V^4⋅f^2/(9⋅J^5)⋅b1⋅a2⋅b3⋅a4⋅b4⋅a5⋅a6⋅a7⋅a8
−424⋅i⋅V^4⋅f^2/(135⋅J^5)⋅b1⋅b2⋅b3⋅a4⋅a5⋅b5⋅a6⋅a7⋅b7
+2⋅i⋅V^4⋅f^2/J^5⋅a1⋅b1⋅a2⋅a3⋅b4⋅a5⋅b7⋅a8⋅a9
+2⋅D71⋅V + 2⋅i⋅D92⋅f + 16⋅i⋅V^4⋅f^2/(3⋅J^5)⋅a1⋅b1⋅a2⋅a3⋅b4⋅a5⋅a6⋅a7⋅b7
−10⋅i⋅V^4⋅f^2/(9⋅J^5) + 110⋅i⋅V^2⋅f^4/(27⋅J^5)⋅b1⋅b2⋅a3⋅a4⋅b6
−346⋅i⋅V^4⋅f^2/(135⋅J^5)⋅b1⋅b2⋅a4⋅b6⋅a7
−2⋅i⋅V^4⋅f^2/J^5⋅b1⋅a2⋅b3⋅b4⋅a5⋅b5⋅a7⋅b7⋅a8
−40⋅i⋅V^4⋅f^2/(27⋅J^5)⋅b1⋅a2⋅a3⋅b3⋅a4⋅b4⋅b7⋅a8⋅b8
+2⋅V^3⋅f^3/J^5⋅b2⋅a3⋅b4⋅a5⋅b8⋅a9⋅b9
−4⋅i⋅V^4⋅f^2/(9⋅J^5)⋅b1⋅a2⋅b3⋅a4⋅b4⋅a6⋅a7⋅a8⋅a9
+2⋅D125⋅V⋅a1⋅a2⋅b3⋅a4⋅b7⋅a8⋅b8
+4⋅i⋅V^4⋅f^2/(3⋅J^5) + 2⋅i⋅V^2⋅f^4/J^5⋅b2⋅a3⋅b4⋅b5⋅a8
+40⋅V^5⋅f/(27⋅J^5) + 28⋅V^3⋅f^3/(9⋅J^5)⋅b1⋅b2⋅a4⋅b4⋅b6⋅a7⋅a8
−2⋅i⋅V^4⋅f^2/J^5⋅b1⋅a2⋅b4⋅b5⋅a6⋅b6⋅b7⋅a8⋅a9
+4⋅i⋅V^2⋅f^4/(3⋅J^5)⋅a4⋅b4⋅b5⋅b6⋅a7
+14⋅V^3⋅f^3/(9⋅J^5)⋅b1⋅b2⋅b3⋅a4⋅a5⋅b5⋅a8
+2⋅i⋅D70⋅f - 4⋅i⋅V^2⋅f^4/(9⋅J^5)⋅a1⋅b1⋅b2⋅a4⋅b6
+14⋅V^3⋅f^3/(3⋅J^5)⋅b2⋅a3⋅a5⋅b5⋅a6⋅b6⋅b7
+28⋅V^5⋅f/(9⋅J^5) + 2⋅V^3⋅f^3/(9⋅J^5)⋅b1⋅a2⋅b3⋅b4⋅a6⋅a7⋅b7
−2⋅V^3⋅f^3/(3⋅J^5)⋅b2⋅a3⋅b4⋅a6⋅b6⋅a7⋅b8
−2⋅i⋅D21⋅f + 2⋅D66⋅V⋅a1⋅b1⋅a3⋅b3⋅a4⋅b4⋅a5
−2⋅D50⋅V⋅a1⋅b1⋅a3⋅b3⋅a4⋅b4⋅a5⋅a6⋅a7
−2⋅i⋅V^4⋅f^2/(3⋅J^5)⋅a1⋅b1⋅a2⋅a3⋅b4⋅a5⋅b5⋅a7⋅a8
−40⋅V^5⋅f/(27⋅J^5)⋅b1⋅a2⋅a3⋅b3⋅b5⋅a6⋅b7⋅a8⋅b9⋅a10⋅b10
−2⋅D11⋅V⋅a1⋅b1⋅a3⋅a4⋅b4⋅a5⋅b5
−4⋅V^3⋅f^3/J^5 - 2⋅V⋅f^5/J^5⋅b5⋅b6⋅a7
−2⋅i⋅D24⋅f + 478⋅i⋅V^4⋅f^2/(135⋅J^5) + 1172⋅i⋅V^2⋅f^4/(135⋅J^5)⋅b1⋅b2⋅b3⋅a4⋅a6
+2⋅D116⋅V + 2⋅i⋅D87⋅f⋅a1⋅b1⋅b4⋅b5⋅b6⋅a7⋅b7
−4⋅i⋅V^4⋅f^2/J^5 - 10⋅i⋅V^2⋅f^4/(3⋅J^5)⋅a4⋅b4⋅a5⋅a6⋅a7
+2⋅i⋅D71⋅f⋅a1⋅b1⋅a2⋅b2⋅b4⋅b5⋅a7
−14⋅V^3⋅f^3/(27⋅J^5)⋅b1⋅a3⋅b3⋅a4⋅b5⋅a6⋅b8
−2⋅D88⋅V - 38⋅i⋅V^4⋅f^2/(27⋅J^5)⋅a1⋅b3⋅b6⋅a7⋅b7
−16⋅V^5⋅f/(9⋅J^5)⋅b1⋅a2⋅a4⋅b6⋅b7⋅a8⋅b8
−2⋅D13⋅V + 2⋅D15⋅V - 2⋅D17⋅V - 2⋅i⋅V^4⋅f^2/(3⋅J^5)⋅a1⋅b1⋅a3⋅a6⋅a7
+2⋅i⋅V^4⋅f^2/J^5 + 4⋅i⋅V^2⋅f^4/J^5⋅b2⋅a3⋅a6⋅b6⋅b7
+40⋅i⋅V^4⋅f^2/(27⋅J^5) + 40⋅i⋅V^2⋅f^4/(27⋅J^5)⋅a2⋅b2⋅b3⋅a4⋅b7
−104⋅i⋅V^4⋅f^2/(27⋅J^5) - 28⋅i⋅V^2⋅f^4/(9⋅J^5)⋅a3⋅b3⋅a5⋅a6⋅a7
−40⋅V^5⋅f/(27⋅J^5)⋅a2⋅b2⋅b3⋅a4⋅b5⋅a6⋅b7⋅a8⋅b9⋅a10⋅b10
−92⋅i⋅V^4⋅f^2/(27⋅J^5)⋅b1⋅a2⋅a3⋅a4⋅b5⋅b6⋅b7⋅a8⋅b8
−2⋅i⋅D39⋅f + 28⋅V^5⋅f/(27⋅J^5) + 1778⋅V^3⋅f^3/(135⋅J^5)⋅b1⋅b2⋅b3⋅a4⋅b5⋅a6⋅a7
+2⋅V^3⋅f^3/(3⋅J^5)⋅b1⋅b2⋅b4⋅a5⋅b5⋅b6⋅b7
+4⋅i⋅V^4⋅f^2/J^5 + 94⋅i⋅V^2⋅f^4/(27⋅J^5)⋅b1⋅b2⋅a3⋅b3⋅a7
−406⋅i⋅V^4⋅f^2/(135⋅J^5)⋅b1⋅b2⋅b3⋅a4⋅b4⋅b5⋅b7⋅a8⋅b8
+2⋅D21⋅V + 2⋅i⋅D34⋅f⋅b1⋅b3⋅a4⋅a5⋅a6
+2⋅D89⋅V⋅a1⋅b4⋅a5⋅b5⋅a6
+14⋅V^3⋅f^3/(9⋅J^5)⋅b1⋅b2⋅a4⋅b4⋅a6⋅b6⋅a7
+146⋅V^3⋅f^3/(135⋅J^5)⋅a2⋅b2⋅a3⋅a5⋅b5⋅a6⋅a7
−2⋅i⋅V^4⋅f^2/J^5 - 2⋅i⋅V^2⋅f^4/J^5⋅a1⋅a2⋅b6⋅a7⋅a8
+4⋅i⋅V^4⋅f^2/J^5⋅b1⋅a2⋅b3⋅a4⋅b4⋅b5⋅a6⋅b6⋅a7
+2⋅D71⋅V + 10⋅i⋅V^4⋅f^2/(3⋅J^5) + 152⋅i⋅V^2⋅f^4/(27⋅J^5)⋅b2⋅a3⋅b4⋅a5⋅b6
−2⋅i⋅V^4⋅f^2/(3⋅J^5)⋅a1⋅a2⋅b3⋅a4⋅a6⋅a7⋅b7⋅a8⋅b8
−2⋅i⋅V^4⋅f^2/J^5⋅b1⋅a2⋅b3⋅a4⋅b5⋅b6⋅b8⋅a9⋅a10
−2⋅i⋅D19⋅f + 2⋅D34⋅V⋅b1⋅a2⋅b2⋅b3⋅a4⋅b4⋅b5
−14⋅V^3⋅f^3/(27⋅J^5)⋅b1⋅a3⋅b3⋅b4⋅b6⋅a7⋅a8
+2⋅i⋅D105⋅f⋅a1⋅b2⋅a4⋅b4⋅b5⋅a6⋅a7
−2⋅i⋅D49⋅f⋅a1⋅a2⋅b2⋅a4⋅b5⋅a6⋅b7
−2⋅i⋅V^4⋅f^2/(3⋅J^5)⋅b1⋅a2⋅b3⋅a4⋅a5⋅b5⋅b6⋅a7⋅b7
+2⋅i⋅D30⋅f - 2⋅D40⋅V⋅a1⋅b4⋅b5⋅a6⋅a7
−2⋅i⋅V^4⋅f^2/J^5⋅b1⋅a2⋅b3⋅b4⋅a5⋅b5⋅b6⋅a7⋅a9
−14⋅V^3⋅f^3/(27⋅J^5)⋅a1⋅a4⋅a7
+2⋅i⋅D40⋅f⋅a1⋅a3⋅b3⋅a4⋅b5⋅a6⋅b7
−2⋅D77⋅V - 2⋅i⋅D94⋅f⋅a1⋅b1⋅a2⋅b2⋅a3⋅b3⋅a5⋅a6⋅b6
+28⋅V^3⋅f^3/(27⋅J^5)⋅b1⋅a3⋅b4⋅a5⋅a6⋅a7⋅a8
+2⋅i⋅D52⋅f⋅a1⋅a2⋅b3⋅b4⋅b6⋅a7⋅a8
−14⋅V^3⋅f^3/(9⋅J^5)⋅a3⋅b3⋅b4⋅a5⋅a6⋅a7⋅a8
−616⋅i⋅V^4⋅f^2/(135⋅J^5) - 8⋅i⋅V^2⋅f^4/(9⋅J^5)⋅b1⋅a2⋅b3⋅b5⋅a7
+14⋅i⋅V^4⋅f^2/(9⋅J^5)⋅a1⋅b1⋅a2⋅a3⋅a4⋅b4⋅b6⋅a7⋅a8
−2⋅i⋅D53⋅f - 2⋅i⋅D55⋅f + 2⋅i⋅D57⋅f + 2⋅V^3⋅f^3/(3⋅J^5)⋅a1⋅b1⋅a2⋅b2⋅b3⋅a5⋅b6
+20⋅V^5⋅f/(9⋅J^5)⋅b1⋅a2⋅b2⋅b3⋅a4⋅b4⋅a5⋅a6⋅b7⋅a8⋅b8
−2⋅D11⋅V + 2⋅i⋅D42⋅f⋅a1⋅a2⋅a4⋅b4⋅a5⋅b5⋅b6
−2⋅V^5⋅f/(3⋅J^5)⋅b1⋅a2⋅a4⋅b4⋅b5⋅a7⋅b7
−56⋅i⋅V^4⋅f^2/(27⋅J^5)⋅b1⋅a2⋅a3⋅b4⋅b5⋅a6⋅b7⋅a8⋅b8
+2⋅i⋅D100⋅f - 2⋅i⋅D102⋅f - 2⋅i⋅D104⋅f - 2⋅i⋅D60⋅f + 38⋅V^3⋅f^3/(9⋅J^5)⋅a1⋅a2⋅b3⋅b4⋅b5⋅b6⋅a7
−4⋅i⋅V^4⋅f^2/(3⋅J^5)⋅b1⋅b2⋅a3⋅b3⋅b4⋅a5⋅a6⋅b6⋅a8
+14⋅i⋅V^4⋅f^2/(9⋅J^5)⋅a1⋅b1⋅a2⋅a3⋅a4⋅b4⋅a5⋅b5⋅a7
−2⋅i⋅D96⋅f + 794⋅i⋅V^4⋅f^2/(135⋅J^5) - 208⋅i⋅V^2⋅f^4/(135⋅J^5)⋅b1⋅b2⋅b4⋅a5⋅a6
−32⋅i⋅V^4⋅f^2/(9⋅J^5)⋅b1⋅a2⋅b3⋅b4⋅a5⋅b5⋅b7⋅a8⋅a9
−38⋅i⋅V^4⋅f^2/(9⋅J^5)⋅b1⋅a2⋅b3⋅b4⋅a5⋅b5⋅a6⋅a7⋅b7
+2⋅D52⋅V⋅a1⋅a2⋅b3⋅a4⋅b6⋅a7⋅b8⋅a9⋅b9
+2⋅V^3⋅f^3/J^5⋅b3⋅a4⋅b5⋅b6⋅a7⋅b7⋅a8
+2⋅i⋅D116⋅f + 2⋅D121⋅V⋅a1⋅a2⋅a5⋅b5⋅b6
−2⋅V^3⋅f^3/(3⋅J^5)⋅b2⋅b3⋅b4⋅a6⋅b6⋅a7⋅a8
−16⋅V^5⋅f/(9⋅J^5) - 34⋅V^3⋅f^3/(9⋅J^5)⋅b1⋅a2⋅b4⋅a5⋅b5⋅b6⋅a7
−2⋅D130⋅V + 32⋅i⋅V^4⋅f^2/(27⋅J^5) + 76⋅i⋅V^2⋅f^4/(27⋅J^5)⋅b2
−2⋅V^5⋅f/J^5⋅b1⋅b2⋅b3⋅a4⋅b5⋅a6⋅b7⋅a8⋅b9⋅a10⋅a11
+2⋅D60⋅V⋅a1⋅b1⋅b3⋅b4⋅a5⋅b5⋅a6⋅b6⋅a7
+2⋅i⋅D74⋅f + 2⋅D78⋅V - 22⋅i⋅V^4⋅f^2/(27⋅J^5) - 4⋅i⋅V^2⋅f^4/J^5⋅b1⋅a2⋅b2⋅a3⋅b4
+2⋅i⋅D0⋅f + 2⋅D61⋅V + 2⋅D7⋅V - 2⋅i⋅D79⋅f - 2⋅D84⋅V⋅a1⋅a2⋅b4
+2⋅D101⋅V⋅a1⋅a2⋅b4⋅a6⋅b6
+4⋅V^5⋅f/(9⋅J^5) + 8⋅V^3⋅f^3/(9⋅J^5)⋅b1⋅a2⋅b3⋅a5⋅a6⋅a7⋅a8
−2⋅V^3⋅f^3/(3⋅J^5)⋅b1⋅a2⋅b4⋅a5⋅b5⋅a7⋅b8
−20⋅V^5⋅f/(9⋅J^5) + 38⋅V^3⋅f^3/(9⋅J^5)⋅b2⋅b3⋅a4⋅b4⋅a5⋅a6⋅b6
−14⋅i⋅V^4⋅f^2/(9⋅J^5)⋅a2⋅b2⋅a3⋅b3⋅b4⋅a5⋅b7⋅a8⋅b8
−20⋅i⋅V^4⋅f^2/(9⋅J^5) - 8⋅i⋅V^2⋅f^4/(9⋅J^5)⋅b2⋅a4⋅b5⋅a6⋅b7
−2⋅i⋅V^4⋅f^2/(3⋅J^5)⋅b1⋅a2⋅b5⋅a7⋅b7
+2⋅V^3⋅f^3/J^5⋅b3⋅b4⋅a5⋅b5⋅a6⋅b6⋅a7
−2⋅D65⋅V + 2⋅D68⋅V - 2⋅D70⋅V - 56⋅V^3⋅f^3/(27⋅J^5)⋅a1⋅a2⋅b2⋅b3⋅b6⋅a7⋅b7
+2⋅D91⋅V⋅a1⋅b1⋅a2⋅a3⋅a5⋅b5⋅b6⋅a7⋅b7
−2⋅i⋅D117⋅f - 2⋅D120⋅V + 2⋅i⋅V^4⋅f^2/J^5 + 4⋅i⋅V^2⋅f^4/J^5⋅a1⋅b1⋅a5⋅b5⋅b6
−2⋅i⋅D18⋅f + 2⋅D35⋅V + 2⋅i⋅D4⋅f - 2⋅D74⋅V + 116⋅V^5⋅f/(135⋅J^5) + 548⋅V^3⋅f^3/(135⋅J^5)⋅a1⋅a2⋅b2⋅a3⋅a4⋅a5⋅b5
+2⋅i⋅D10⋅f - 694⋅i⋅V^4⋅f^2/(135⋅J^5) + 136⋅i⋅V^2⋅f^4/(45⋅J^5)⋅b1⋅a2⋅a4⋅a5⋅a6
−2⋅D58⋅V - 2⋅i⋅D69⋅f - 2⋅i⋅D7⋅f⋅a1⋅b1⋅a3⋅b4⋅a6
+154⋅V^3⋅f^3/(135⋅J^5)⋅b1⋅a2⋅b2⋅b3⋅a4⋅b5⋅a7
+32⋅i⋅V^4⋅f^2/(9⋅J^5) + 8⋅i⋅V^2⋅f^4/(3⋅J^5)⋅b1⋅a2⋅a5⋅b5⋅b7
−4⋅V^3⋅f^3/(3⋅J^5)⋅b2⋅a3⋅b4⋅a6⋅b7⋅a8⋅b8
+2⋅i⋅D117⋅f - 2⋅i⋅D96⋅f - 22⋅i⋅V^2⋅f^4/(27⋅J^5)⋅a1⋅b2⋅b4⋅b5⋅a6
+14⋅i⋅V^4⋅f^2/(27⋅J^5)⋅b1⋅a3⋅b3⋅a4⋅a6⋅b6⋅b7⋅a8⋅b8
+2⋅D92⋅V⋅a1⋅b1⋅a2⋅b2⋅b4⋅a5⋅b6⋅a7⋅b8⋅a9⋅b9
−14⋅i⋅V^4⋅f^2/(9⋅J^5)⋅b1⋅a2⋅a4⋅b4⋅b5⋅b6⋅a7⋅b7⋅a8
−40⋅V^3⋅f^3/(27⋅J^5)⋅a1⋅a2⋅a3⋅b3⋅b6⋅a7⋅a8
+2⋅i⋅D93⋅f⋅a1⋅b1⋅a2⋅b3⋅b4⋅a5⋅b6⋅a7⋅a8
+2⋅i⋅D35⋅f - 26⋅i⋅V^4⋅f^2/(27⋅J^5)⋅a1⋅b3⋅a4⋅b4⋅b6
+2⋅i⋅V^4⋅f^2/J^5⋅b1⋅a2⋅b3⋅a4⋅a6⋅a7⋅b8⋅a9⋅a10
−14⋅V^5⋅f/(27⋅J^5) + 2⋅V^3⋅f^3/J^5⋅b2⋅b3⋅a4⋅a5⋅b6⋅a7⋅b7
+2⋅D0⋅V + 2⋅D19⋅V + 2⋅D2⋅V - 2⋅D21⋅V + 2⋅D23⋅V - 2⋅i⋅D7⋅f - 2⋅i⋅D97⋅f⋅a1⋅a2⋅b4⋅a5⋅b5
−88⋅i⋅V^4⋅f^2/(27⋅J^5)⋅a2⋅b2⋅a3⋅b3⋅a4⋅b4⋅a5⋅b5⋅b6
+2⋅i⋅D102⋅f + 4⋅V^3⋅f^3/(3⋅J^5)⋅a1⋅b1⋅a4⋅b4⋅b5⋅a6⋅b7
+2⋅D87⋅V⋅a1⋅b2⋅a3⋅b3⋅b4⋅a5⋅b6⋅a7⋅a8
+4⋅V^3⋅f^3/(3⋅J^5)⋅a1⋅a2⋅b3⋅a4⋅b5⋅a7⋅a8
+2⋅D59⋅V + 2⋅i⋅D80⋅f⋅a1⋅b1⋅b3⋅a4⋅b5⋅b6⋅b7⋅a8⋅b8
−2⋅i⋅D31⋅f + 2⋅D46⋅V + 106⋅i⋅V^4⋅f^2/(27⋅J^5) + 28⋅i⋅V^2⋅f^4/(27⋅J^5)⋅a1⋅a3⋅b5⋅a6⋅a7
−2⋅i⋅V^4⋅f^2/(3⋅J^5) - 2⋅i⋅V^2⋅f^4/(3⋅J^5)⋅b4⋅a5⋅b5⋅a6⋅b6
+2⋅D58⋅V⋅a1⋅b1⋅a2⋅b2⋅b3⋅a4⋅a5⋅b5⋅a6
+2⋅D20⋅V + 50⋅i⋅V^4⋅f^2/(27⋅J^5)⋅a1⋅a2⋅b2⋅b3⋅a4⋅b4⋅b6⋅a7⋅b7
−2⋅i⋅D122⋅f + 2⋅D127⋅V - 2⋅D26⋅V + 2⋅i⋅D29⋅f⋅a1⋅b1⋅a2⋅b4⋅a5
+4⋅V^3⋅f^3/(9⋅J^5)⋅b1⋅a2⋅a3⋅a5⋅b5⋅a6⋅a8
−8⋅V^3⋅f^3/J^5 - 4⋅V⋅f^5/J^5⋅a5⋅b5⋅b6
+2⋅D14⋅V⋅a1⋅a2⋅b3⋅a4⋅b4⋅a5⋅b5⋅b6⋅a7
+34⋅i⋅V^4⋅f^2/(27⋅J^5)⋅b1⋅a5⋅b6⋅a7⋅b7
−2⋅D1⋅V + 2⋅i⋅D44⋅f - 2⋅i⋅D62⋅f - 28⋅i⋅V^4⋅f^2/(9⋅J^5) - 112⋅i⋅V^2⋅f^4/(27⋅J^5)⋅a1⋅a2⋅a3⋅a4⋅b4
+4⋅V^3⋅f^3/(3⋅J^5)⋅b1⋅a2⋅a3⋅a4⋅b5⋅a7⋅a8
−4⋅i⋅V^4⋅f^2/(3⋅J^5)⋅b1⋅a2⋅b4⋅a5⋅a6⋅b6⋅a7⋅b7⋅b8
−14⋅i⋅V^4⋅f^2/(9⋅J^5) - 2⋅i⋅V^2⋅f^4/J^5⋅b1⋅a2⋅a5⋅a6⋅a8
−28⋅i⋅V^4⋅f^2/(9⋅J^5)⋅b1⋅b2⋅a3⋅b3⋅b4⋅a5⋅a6⋅a7⋅b7
−2⋅i⋅D80⋅f⋅a1⋅a2⋅b3⋅a4⋅a5⋅a6⋅b7⋅a8⋅a9
−2⋅V^3⋅f^3/(3⋅J^5)⋅b2⋅b3⋅a4⋅a5⋅b5⋅a6⋅b7
−2⋅i⋅V^4⋅f^2/J^5⋅b1⋅a2⋅b3⋅a4⋅b5⋅b6⋅a8⋅b8⋅a9
−2⋅i⋅D46⋅f - 2⋅i⋅D48⋅f - 2⋅i⋅D50⋅f - 2⋅D68⋅V + 4⋅V^3⋅f^3/(3⋅J^5)⋅a1⋅b1⋅b2⋅b3⋅a5⋅a6⋅b6
−2⋅i⋅D105⋅f - 2⋅D32⋅V⋅a1⋅a2⋅a4⋅b4⋅a5⋅a6⋅a7
+14⋅V^3⋅f^3/(9⋅J^5)⋅b2⋅a3⋅a4⋅b5⋅b6⋅a7⋅b7
+2⋅i⋅D86⋅f⋅a1⋅b1⋅b4⋅a5⋅b6⋅b7⋅a8
+14⋅i⋅V^4⋅f^2/(27⋅J^5)⋅a1⋅b3⋅a4⋅a5⋅a7
+2⋅D106⋅V - 2⋅i⋅D19⋅f + 2⋅i⋅D21⋅f - 2⋅i⋅D23⋅f + 2⋅i⋅D56⋅f⋅a1⋅b1⋅a2⋅b3⋅a4⋅b4⋅a6
+14⋅i⋅V^4⋅f^2/(27⋅J^5)⋅b1⋅a2⋅b2⋅a4⋅b5⋅b6⋅a7⋅b7⋅a8
+2⋅V^5⋅f/J^5 + 14⋅V^3⋅f^3/(9⋅J^5)⋅b1⋅a2⋅a4⋅b4⋅a5⋅b5⋅b7
+20⋅V^5⋅f/(9⋅J^5)⋅b1⋅b2⋅a3⋅b3⋅a4⋅a5⋅b5⋅a6⋅b7⋅a8⋅b8
−2⋅i⋅V^4⋅f^2/J^5⋅a3⋅b3⋅a4⋅b4⋅a5⋅b5⋅b6⋅a7⋅b7
+2⋅i⋅D22⋅f + 314⋅V^5⋅f/(135⋅J^5) - 218⋅V^3⋅f^3/(135⋅J^5)⋅b1⋅a2⋅a3⋅b3⋅a4⋅b4⋅b5
−16⋅V^3⋅f^3/(15⋅J^5)⋅a1⋅a2⋅a3⋅b3⋅a5⋅b5⋅a7
−2⋅i⋅D80⋅f⋅a1⋅a2⋅b3⋅a4⋅b5⋅a6⋅a7⋅a8⋅a9
+2⋅D48⋅V + 736⋅i⋅V^4⋅f^2/(135⋅J^5) + 8⋅i⋅V^2⋅f^4/(9⋅J^5)⋅a2⋅a4⋅b5⋅a6⋅a7
−2⋅i⋅V^2⋅f^4/(3⋅J^5)⋅b3⋅a5⋅b5⋅a6⋅b7
−40⋅i⋅V^4⋅f^2/(27⋅J^5)⋅a2⋅b2⋅b3⋅a4⋅b5⋅a6⋅a7⋅b7⋅b8
+2⋅i⋅D105⋅f⋅b1⋅a2⋅a4⋅b4⋅b5⋅a6⋅a7
+2⋅D129⋅V - 2⋅i⋅D44⋅f + 2⋅i⋅D62⋅f + 56⋅i⋅V^4⋅f^2/(27⋅J^5) + 52⋅i⋅V^2⋅f^4/(9⋅J^5)⋅a1⋅b2⋅b3⋅a4⋅b4
+2⋅V^3⋅f^3/J^5⋅b3⋅b4⋅a5⋅b5⋅b6⋅a7⋅a8
+2⋅i⋅D112⋅f + 2⋅D114⋅V - 2⋅i⋅D29⋅f - 2⋅i⋅D84⋅f⋅a1⋅b1⋅a2⋅b3⋅a4
+20⋅i⋅V^4⋅f^2/(9⋅J^5)⋅b1⋅b2⋅a3⋅b3⋅a4⋅a5⋅b5⋅b6⋅a7
+2⋅i⋅D3⋅f + 764⋅V^5⋅f/(135⋅J^5) + 272⋅V^3⋅f^3/(135⋅J^5)⋅b1⋅b2⋅a3⋅b3⋅b4⋅a5⋅a6
+76⋅i⋅V^4⋅f^2/(27⋅J^5) + 4⋅i⋅V^2⋅f^4/(9⋅J^5)⋅a2⋅a4⋅a5⋅b5⋅a6
+74⋅V^3⋅f^3/(27⋅J^5)⋅b1⋅a2⋅a3⋅a4⋅b5⋅b6⋅b7
−2⋅D57⋅V + 2⋅i⋅V^4⋅f^2/(3⋅J^5)⋅a1⋅b1⋅a2⋅b2⋅b3⋅b4⋅a5⋅a6⋅b6
+14⋅V^3⋅f^3/(27⋅J^5)⋅b1⋅a2⋅b2⋅a4⋅a6⋅a7⋅a8
+2⋅i⋅V^4⋅f^2/J^5⋅a1⋅a2⋅b4⋅a5⋅b6⋅a7⋅b8⋅a9⋅a10
−4⋅V^3⋅f^3/(9⋅J^5)⋅b1⋅b2⋅b3⋅a5⋅a6⋅b6⋅a7
+164⋅V^3⋅f^3/(135⋅J^5)⋅b2⋅a3⋅b3⋅a4⋅b4⋅b5⋅a7
+14⋅V^3⋅f^3/(9⋅J^5)⋅a3⋅b3⋅b4⋅b5⋅a6⋅b6⋅a7
−14⋅i⋅V^4⋅f^2/(27⋅J^5)⋅b1⋅a2⋅b2⋅a3⋅a4⋅a5⋅b6⋅a7⋅a8
−68⋅i⋅V^4⋅f^2/(15⋅J^5)⋅b1⋅a2⋅a3⋅b3⋅a4⋅a5⋅b5⋅a6⋅a7
−406⋅V^3⋅f^3/(135⋅J^5)⋅b1⋅b2⋅a4⋅a5⋅b5⋅b6⋅a7
+4⋅V^3⋅f^3/(3⋅J^5)⋅b1⋅a2⋅a5⋅b5⋅b6⋅b7⋅a8
+14⋅i⋅V^4⋅f^2/(9⋅J^5) + 2⋅i⋅V^2⋅f^4/J^5⋅b2⋅b3⋅b6⋅a7⋅a8
+4⋅i⋅V^4⋅f^2/(9⋅J^5)⋅b1⋅b2⋅b3⋅a5⋅b5⋅a6⋅b7⋅a8⋅a9
+2⋅D38⋅V⋅a1⋅b1⋅a2⋅b3⋅a4⋅b4⋅b5⋅a6⋅a7
−2⋅D11⋅V + 2⋅i⋅D23⋅f⋅a1⋅b2⋅a3⋅b3⋅a4⋅b4⋅a6
+20⋅i⋅V^4⋅f^2/(9⋅J^5)⋅b2⋅a3⋅b3⋅b4⋅a5⋅b5⋅a6⋅a7⋅b7
−2⋅D53⋅V - 2⋅D55⋅V + 2⋅D57⋅V - 2⋅i⋅V^4⋅f^2/(3⋅J^5)⋅a1⋅b1⋅a2⋅b2⋅b3⋅a5⋅b6⋅a7⋅b7
−4⋅V^3⋅f^3/(9⋅J^5)⋅b1⋅a2⋅b3⋅a4⋅b4⋅b6⋅a8
−2⋅D104⋅V - 2⋅i⋅V^4⋅f^2/(3⋅J^5)⋅a1⋅b1⋅a2⋅b2⋅a3⋅a5⋅b5⋅a6⋅a7
+2⋅V^5⋅f/(9⋅J^5) - 4⋅V^3⋅f^3/(15⋅J^5)⋅b1⋅a2⋅b2⋅b3⋅a4⋅a6⋅b6
−2⋅i⋅D27⋅f - 2⋅i⋅D57⋅f - 2⋅D65⋅V + 2⋅D68⋅V - 2⋅D70⋅V + 2⋅i⋅D76⋅f - 14⋅V^3⋅f^3/(9⋅J^5)⋅a1⋅b1⋅a2⋅b2⋅b3⋅a4⋅b5
+406⋅i⋅V^4⋅f^2/(135⋅J^5)⋅b1⋅b2⋅a4⋅a5⋅b5⋅a6⋅b7⋅a8⋅b8
−32⋅V^3⋅f^3/(9⋅J^5) - 2⋅V⋅f^5/J^5⋅b2⋅b3⋅a7
−20⋅V^3⋅f^3/(9⋅J^5)⋅b2⋅a3⋅b3⋅b4⋅a6⋅a7⋅b7
+40⋅V^3⋅f^3/(27⋅J^5)⋅b1⋅a2⋅a3⋅b3⋅b5⋅b6⋅a8
−2⋅D54⋅V⋅a1⋅b1⋅a2⋅a3⋅b3⋅b4⋅a5⋅a6⋅b6
+2⋅V^3⋅f^3/J^5⋅b2⋅a3⋅b4⋅a5⋅b7⋅b8⋅a9
+28⋅i⋅V^4⋅f^2/(9⋅J^5)⋅b1⋅a2⋅b3⋅a4⋅a5⋅a6⋅a7⋅a8⋅b8
+2⋅D11⋅V + 2⋅D7⋅V - 2⋅i⋅D87⋅f - 2⋅D9⋅V⋅a1⋅b1⋅a4⋅a5⋅b6⋅a7⋅b7
−2⋅i⋅V^4⋅f^2/(3⋅J^5)⋅a1⋅a2⋅b3⋅b4⋅a5⋅a6⋅b6⋅a7⋅a8
−2⋅V^3⋅f^3/J^5⋅b1⋅a2⋅a3⋅a4⋅b7⋅a8⋅a9
−20⋅i⋅V^4⋅f^2/(9⋅J^5) - 28⋅i⋅V^2⋅f^4/(27⋅J^5)⋅b1⋅a3⋅b5⋅b6⋅a7
+14⋅i⋅V^4⋅f^2/(27⋅J^5)⋅b1⋅a2⋅b2⋅b4⋅a5⋅b5⋅b6⋅a7⋅a8
−2⋅i⋅V^4⋅f^2/J^5⋅b2⋅a3⋅b5⋅a6⋅b7⋅a8⋅b9⋅a10⋅b10
+2⋅i⋅D10⋅f + 2⋅D3⋅V - 2⋅i⋅D6⋅f - 2⋅i⋅D8⋅f - 22⋅i⋅V^4⋅f^2/(45⋅J^5) - 26⋅i⋅V^2⋅f^4/(45⋅J^5)⋅a1⋅b2⋅b3⋅a5⋅b5
−14⋅i⋅V^4⋅f^2/(9⋅J^5)⋅b1⋅a2⋅a3⋅b5⋅b7
−2⋅i⋅V^4⋅f^2/(3⋅J^5)⋅b1⋅a2⋅b3⋅a4⋅a5⋅a7⋅b7⋅a8⋅a9
−2⋅D103⋅V⋅a1⋅b1⋅a3⋅b3⋅b4⋅a5⋅b5⋅a6⋅a7
+2⋅i⋅D13⋅f - 10⋅V^3⋅f^3/(9⋅J^5)⋅a1⋅a2⋅b3⋅a4⋅b4⋅b5⋅b7
−2⋅D128⋅V - 2⋅D46⋅V - 2⋅D48⋅V - 2⋅D50⋅V + 136⋅i⋅V^4⋅f^2/(135⋅J^5)⋅a1⋅b1⋅b2⋅a3⋅a4⋅b4⋅b5⋅a6⋅b6
+14⋅i⋅V^4⋅f^2/(27⋅J^5)⋅b1⋅a2⋅b2⋅b3⋅a4⋅a5⋅a6⋅b6⋅b7
−4⋅i⋅V^4⋅f^2/(9⋅J^5)⋅a1⋅b1⋅a2⋅a4⋅b4⋅a5⋅b6⋅a7⋅a8
+2⋅i⋅D115⋅f + 8⋅V^3⋅f^3/(27⋅J^5)⋅a1⋅b1⋅b2⋅a4⋅b4⋅a5⋅b5
+4⋅i⋅V^4⋅f^2/(15⋅J^5)⋅b1⋅a3⋅a4⋅b4⋅b5⋅a6⋅b7⋅a8⋅b8
−44⋅V^3⋅f^3/(9⋅J^5) - 8⋅V⋅f^5/(3⋅J^5)⋅a4⋅b4⋅b6
+14⋅i⋅V^4⋅f^2/(27⋅J^5)⋅b1⋅a2⋅b2⋅a3⋅b3⋅b4⋅a6⋅b6⋅a7
−346⋅V^5⋅f/(135⋅J^5) - 644⋅V^3⋅f^3/(135⋅J^5)⋅a2⋅b2⋅b3⋅a4⋅b4⋅b5⋅a6
−2⋅i⋅V^4⋅f^2/J^5⋅b1⋅a2⋅b3⋅b4⋅b6⋅a7⋅b8⋅a9⋅a10
+2⋅i⋅V^4⋅f^2/(9⋅J^5)⋅a1⋅a2⋅b2⋅b5⋅b6
+2⋅i⋅D129⋅f - 56⋅V^5⋅f/(27⋅J^5) - 166⋅V^3⋅f^3/(27⋅J^5) + 58⋅V⋅f^5/(27⋅J^5)⋅b1⋅b2⋅a3
+14⋅V^5⋅f/(9⋅J^5) + 236⋅V^3⋅f^3/(135⋅J^5)⋅b1⋅a2⋅a3⋅b3⋅a4⋅a6⋅a7
+2⋅i⋅V^4⋅f^2/J^5⋅b1⋅a2⋅b3⋅a4⋅a5⋅a6⋅b7⋅a8⋅a10
−2⋅i⋅D48⋅f - 2⋅D70⋅V - 124⋅V^3⋅f^3/(135⋅J^5)⋅a1⋅a2⋅a3⋅b3⋅a5⋅a6⋅b6
+2⋅i⋅D116⋅f⋅a1⋅b2⋅a5⋅b5⋅a6
+2⋅i⋅D51⋅f⋅a1⋅b1⋅b3⋅a4⋅b6⋅b7⋅a8
−2⋅i⋅V^4⋅f^2/J^5⋅b1⋅b2⋅b4⋅a5⋅b6⋅a7⋅b8⋅a9⋅a10
−2⋅i⋅V^4⋅f^2/J^5⋅b1⋅a2⋅b3⋅b4⋅b5⋅a6⋅a8⋅b8⋅a9
+2⋅i⋅D19⋅f - 2⋅i⋅D21⋅f + 2⋅i⋅D23⋅f⋅a1⋅b1⋅b2⋅b3⋅a4⋅b4⋅b6
−2⋅D54⋅V⋅b2⋅a3⋅b3⋅b4⋅b5
+56⋅V^5⋅f/(135⋅J^5) - 242⋅V^3⋅f^3/(135⋅J^5)⋅b1⋅b2⋅b3⋅b4⋅b6⋅a7⋅b7
−2⋅i⋅V^4⋅f^2/J^5⋅b1⋅a2⋅b3⋅b4⋅a6⋅b6⋅a7⋅b7⋅a8
−2⋅i⋅D15⋅f - 2⋅V^3⋅f^3/(3⋅J^5)⋅a1⋅b1⋅b3⋅a4⋅b4⋅a5⋅b6
−2⋅i⋅D103⋅f + 2⋅D11⋅V - 2⋅i⋅D12⋅f + 2⋅D7⋅V - 2⋅D9⋅V⋅a1⋅a2⋅b3⋅b4⋅a5⋅a6⋅b6
+644⋅V^5⋅f/(135⋅J^5) + 92⋅V^3⋅f^3/(135⋅J^5)⋅a2⋅b2⋅a3⋅b3⋅b4⋅a5⋅b5
+2⋅D12⋅V - 2⋅D14⋅V - 2⋅D16⋅V⋅a1⋅a2⋅b3⋅a4⋅a5⋅b5⋅a6⋅b6⋅b7
+2⋅i⋅D97⋅f⋅b1⋅b2⋅b4⋅a5⋅b5
+2⋅i⋅D61⋅f⋅b1⋅b2⋅a3⋅b3⋅b4
+14⋅V^3⋅f^3/(27⋅J^5)⋅b1⋅a2⋅a3⋅b4⋅b6⋅a7⋅b7
+2⋅D19⋅V + 2⋅D2⋅V - 2⋅D21⋅V + 2⋅D23⋅V - 2⋅i⋅D7⋅f - 2⋅D79⋅V - 2⋅i⋅D97⋅f⋅a1⋅b2⋅a4⋅a5⋅b5
+2⋅D46⋅V + 50⋅i⋅V^4⋅f^2/(27⋅J^5)⋅a1⋅a2⋅b2⋅b3⋅b5⋅a6⋅b7⋅a8⋅b8
+2⋅D98⋅V⋅a1⋅b1⋅b3⋅a4⋅b5⋅b6⋅a7⋅b7⋅a8
+2⋅i⋅D11⋅f - 2⋅i⋅D64⋅f + 2⋅i⋅D7⋅f - 2⋅i⋅D9⋅f⋅a1⋅b1⋅a4⋅a5⋅b6
+92⋅i⋅V^4⋅f^2/(27⋅J^5)⋅b1⋅b2⋅b3⋅a4⋅b5⋅b6⋅b7⋅a8⋅b8
+2⋅D123⋅V + 2⋅i⋅D131⋅f + 28⋅V^5⋅f/(9⋅J^5) + 86⋅V^3⋅f^3/(27⋅J^5) + 4⋅V⋅f^5/(27⋅J^5)⋅b1⋅b4⋅a5
−406⋅V^5⋅f/(135⋅J^5) - 56⋅V^3⋅f^3/(45⋅J^5)⋅a2⋅b2⋅b3⋅a5⋅b6⋅a7⋅b7
+110⋅V^3⋅f^3/(27⋅J^5)⋅b1⋅b2⋅a3⋅a4⋅b5⋅a6⋅b7
−94⋅i⋅V^4⋅f^2/(27⋅J^5)⋅b1⋅b2⋅a3⋅b3⋅b5⋅a6⋅b7⋅a8⋅a9
−2⋅V^5⋅f/(3⋅J^5)⋅b1⋅a2⋅b3⋅b4⋅a5⋅b7⋅a8
−406⋅i⋅V^4⋅f^2/(135⋅J^5)⋅b1⋅a2⋅a3⋅a4⋅b4⋅a5⋅a6⋅b6⋅a7
−4⋅V^3⋅f^3/(15⋅J^5)⋅b2⋅a3⋅b3⋅a4⋅b4⋅a6⋅b6
+2⋅i⋅D32⋅f⋅a1⋅a2⋅b5⋅a6⋅b7
−2⋅i⋅V^4⋅f^2/(9⋅J^5)⋅a1⋅a2⋅b2⋅a6⋅a7
−2⋅D38⋅V⋅b2⋅a3⋅b5⋅a6⋅a7
+2⋅i⋅D16⋅f⋅a1⋅a2⋅b3⋅a4⋅b4⋅a5⋅b6
−4⋅V^3⋅f^3/(9⋅J^5)⋅b2⋅a4⋅b4⋅a5⋅b6⋅a7⋅b8
−4⋅V^3⋅f^3/(15⋅J^5)⋅b1⋅a2⋅b2⋅a4⋅a5⋅b5⋅b7
+14⋅V^5⋅f/(27⋅J^5)⋅b1⋅a2⋅b2⋅b3⋅a4⋅a5⋅b6⋅a7⋅b8⋅a9⋅b9
+2⋅i⋅V^4⋅f^2/J^5⋅b1⋅a2⋅b3⋅a4⋅a5⋅a6⋅a8⋅b8⋅a9
−28⋅V^5⋅f/(27⋅J^5)⋅b1⋅b6⋅a7
+40⋅i⋅V^4⋅f^2/(27⋅J^5)⋅a1⋅a2⋅a3⋅b3⋅a4⋅b4⋅b6⋅a7⋅a8
+224⋅i⋅V^4⋅f^2/(135⋅J^5) + 14⋅i⋅V^2⋅f^4/(27⋅J^5)⋅b1⋅a2⋅a3⋅b4⋅b6
+2⋅i⋅D103⋅f + 2⋅D110⋅V + 2⋅i⋅D40⋅f⋅a1⋅b2⋅b3⋅b4⋅b5⋅a6⋅b6
+4⋅i⋅V^4⋅f^2/(9⋅J^5)⋅b1⋅b2⋅a3⋅a4⋅b4⋅a5⋅b6⋅a7⋅b8
+110⋅i⋅V^4⋅f^2/(27⋅J^5) + 28⋅i⋅V^2⋅f^4/(9⋅J^5)⋅a3⋅b3⋅b6⋅a7⋅b7
−40⋅i⋅V^2⋅f^4/(27⋅J^5)⋅a1⋅a2⋅a3⋅b3⋅a7
−40⋅V^5⋅f/(27⋅J^5)⋅b1⋅a2⋅a3⋅b3⋅a4⋅b4⋅b6⋅a7⋅b8⋅a9⋅b9
−2⋅i⋅D47⋅f - 2⋅D66⋅V + 2⋅D67⋅V + 2⋅D69⋅V⋅a1⋅b1⋅b2⋅a4⋅a5⋅a6⋅b6
+52⋅V^3⋅f^3/(27⋅J^5)⋅a2⋅a3⋅b3⋅a4⋅a6⋅a7⋅b7
−2⋅V^3⋅f^3/J^5⋅b2⋅a3⋅b4⋅a5⋅b5⋅b6⋅a7
−644⋅V^5⋅f/(135⋅J^5) - 62⋅V^3⋅f^3/(135⋅J^5) + 10⋅V⋅f^5/(27⋅J^5)⋅a2⋅b2⋅b4
−2⋅i⋅V^4⋅f^2/J^5⋅b1⋅a2⋅b3⋅a4⋅b6⋅b7⋅b8⋅a9⋅a10
−68⋅V^5⋅f/(27⋅J^5) - 544⋅V^3⋅f^3/(135⋅J^5)⋅a2⋅b2⋅a4⋅b4⋅a5⋅a6⋅a7
−2⋅D106⋅V⋅b2⋅a3⋅a6
+2⋅V^3⋅f^3/(3⋅J^5)⋅b2⋅b3⋅b4⋅a5⋅b5⋅b6⋅b7
+46⋅V^5⋅f/(27⋅J^5)⋅b1⋅a2⋅b2⋅a3⋅a4⋅b4⋅b5⋅a6⋅b7⋅a8⋅b8
+2⋅i⋅V^4⋅f^2/J^5⋅a1⋅b1⋅a2⋅a3⋅b4⋅a5⋅a7⋅b7⋅a8
+2⋅i⋅V^4⋅f^2/J^5⋅a1⋅b1⋅a2⋅a3⋅b5⋅a6⋅b7⋅a8⋅a9
−6⋅V^3⋅f^3/J^5 - 2⋅V⋅f^5/J^5⋅b1⋅a2⋅b7
+4⋅V^3⋅f^3/(9⋅J^5)⋅a2⋅a3⋅b3⋅a5⋅b6⋅a7⋅a8
−2⋅i⋅D72⋅f⋅a1⋅b1⋅a2⋅a3⋅a4⋅a5⋅a7
+2⋅i⋅V^4⋅f^2/J^5⋅b1⋅a2⋅a3⋅b3⋅a4⋅a5⋅b6⋅a7⋅a9
+2⋅V^3⋅f^3/(3⋅J^5)⋅b2⋅a3⋅a4⋅a5⋅b5⋅a7⋅a8
−2⋅i⋅V^4⋅f^2/J^5⋅b1⋅b2⋅a3⋅b3⋅a5⋅b5⋅a6⋅b6⋅a7
−2⋅D59⋅V + 2⋅i⋅D94⋅f⋅a1⋅b1⋅a2⋅b2⋅a3⋅a4⋅b5⋅b6⋅a7
+2⋅i⋅D43⋅f⋅b1⋅a2⋅b3⋅a4⋅a5
+14⋅i⋅V^4⋅f^2/(27⋅J^5)⋅b1⋅a2⋅b2⋅a4⋅b5⋅a6⋅b7⋅a8⋅b9
+2⋅i⋅D0⋅f⋅b1⋅a2⋅a4
−2⋅D65⋅V + 2⋅i⋅D88⋅f + 4⋅V^5⋅f/(15⋅J^5) + 238⋅V^3⋅f^3/(135⋅J^5) + 4⋅V⋅f^5/(27⋅J^5)⋅b1⋅a4⋅b5
−14⋅i⋅V^4⋅f^2/(9⋅J^5)⋅a2⋅b2⋅a3⋅b3⋅b5⋅a6⋅b7⋅a8⋅b8
+2⋅V^3⋅f^3/J^5⋅b2⋅a3⋅b4⋅a5⋅b7⋅a8⋅b9
−2⋅i⋅V^4⋅f^2/(3⋅J^5)⋅b1⋅a2⋅a4⋅a5⋅b5⋅a6⋅b6⋅a7⋅a8
+10⋅V^3⋅f^3/(3⋅J^5)⋅b2⋅a3⋅b4⋅b5⋅a6⋅b6⋅a8
+8⋅i⋅V^4⋅f^2/(9⋅J^5)⋅b1⋅a2⋅b3⋅a5⋅b6⋅a7⋅b8⋅a9⋅b9
−32⋅i⋅V^4⋅f^2/(27⋅J^5)⋅b1⋅a2⋅b2⋅b6⋅a7
+2⋅i⋅D110⋅f⋅b1⋅b2⋅b3⋅b4⋅a5
−4⋅V^3⋅f^3/(9⋅J^5)⋅b1⋅b2⋅b3⋅a4⋅b4⋅a6⋅a8
+2⋅D20⋅V + 2⋅i⋅D65⋅f - 2⋅i⋅D68⋅f + 2⋅i⋅D70⋅f + 2⋅D88⋅V + 44⋅i⋅V^4⋅f^2/(9⋅J^5) + 106⋅i⋅V^2⋅f^4/(27⋅J^5)⋅a1⋅a2⋅b2⋅a3⋅a6
+2⋅V^3⋅f^3/(27⋅J^5)⋅b2⋅a3⋅b3⋅a4⋅b4⋅a5⋅b5
+14⋅V^3⋅f^3/(9⋅J^5)⋅a2⋅b2⋅a3⋅b3⋅b4⋅b5⋅a7
−2⋅D112⋅V - 2⋅i⋅D26⋅f - 2⋅D43⋅V⋅a1⋅b1⋅a2⋅b2⋅a3⋅a4⋅b4
−2⋅i⋅D107⋅f - 2⋅D90⋅V + 2⋅i⋅V^2⋅f^4/J^5⋅a1⋅b1⋅a2⋅b2⋅b6
+2⋅V^3⋅f^3/J^5⋅b1⋅b2⋅a3⋅b3⋅b4⋅a5⋅a8
−34⋅i⋅V^4⋅f^2/(135⋅J^5)⋅b1⋅a3⋅b3⋅a5⋅b5⋅a6⋅b7⋅a8⋅b8
+94⋅V^3⋅f^3/(135⋅J^5)⋅b1⋅a3⋅b3⋅a4⋅b4⋅a5⋅b6
−2⋅i⋅V^4⋅f^2/J^5⋅b1⋅b2⋅b3⋅a4⋅b5⋅a6⋅b8⋅a9⋅a10
+2⋅i⋅D15⋅f + 2⋅i⋅D98⋅f - 26⋅V^3⋅f^3/(9⋅J^5)⋅a1⋅a2⋅b3⋅a4⋅a5⋅a6⋅b7
+4⋅V^5⋅f/(9⋅J^5)⋅b1⋅a2⋅a3⋅a6⋅b7⋅a8⋅a9
−2⋅i⋅D100⋅f + 2⋅i⋅D102⋅f + 2⋅i⋅D104⋅f + 2⋅i⋅D15⋅f - 14⋅V^3⋅f^3/(9⋅J^5)⋅a1⋅a2⋅b3⋅b4⋅a5⋅a6⋅a7
+4⋅i⋅V^4⋅f^2/(9⋅J^5)⋅b1⋅a2⋅b3⋅a4⋅b4⋅a6⋅a7⋅b7⋅b8
−2⋅D58⋅V⋅a1⋅b1⋅a2⋅b2⋅b3⋅b4⋅b6⋅a7⋅b7
+2⋅D113⋅V + 2⋅i⋅D130⋅f + 4⋅V^3⋅f^3/J^5⋅a1⋅b1⋅b2
+2⋅i⋅D80⋅f⋅b1⋅a2⋅b3⋅a4⋅b5⋅a6⋅b7⋅a8⋅a9
+2⋅V^3⋅f^3/(3⋅J^5)⋅a2⋅a3⋅a5⋅a6⋅b6⋅a7⋅b7
+2⋅i⋅V^4⋅f^2/(3⋅J^5)⋅b1⋅b2⋅b3⋅a4⋅b5⋅a7⋅b7⋅a8⋅a9
+2⋅i⋅D115⋅f - 2⋅i⋅D22⋅f + 2⋅i⋅D57⋅f + 14⋅V^5⋅f/(27⋅J^5) + 8⋅V^3⋅f^3/(9⋅J^5)⋅a1⋅b1⋅a2⋅b3⋅a4⋅a5⋅a6
−20⋅i⋅V^4⋅f^2/(9⋅J^5) - 28⋅i⋅V^2⋅f^4/(27⋅J^5)⋅b1⋅a3⋅b5⋅a6⋅b7
−10⋅V^3⋅f^3/(27⋅J^5)⋅b1⋅a4⋅b4⋅a5⋅b6⋅a7⋅b7
−676⋅i⋅V^4⋅f^2/(135⋅J^5) - 8⋅i⋅V^2⋅f^4/(9⋅J^5)⋅b2⋅b4⋅b5⋅a6⋅a7
−4⋅V^3⋅f^3/(9⋅J^5)⋅b2⋅a4⋅b4⋅a5⋅b7⋅a8⋅b8
−14⋅i⋅V^4⋅f^2/(27⋅J^5) + 4⋅i⋅V^2⋅f^4/(9⋅J^5)⋅b2⋅b3⋅a4⋅b5⋅a6
+14⋅i⋅V^4⋅f^2/(9⋅J^5)⋅b1⋅a2⋅a4⋅b4⋅b5⋅a6⋅a7⋅a8⋅a9
−2⋅i⋅D102⋅f - 16⋅V^3⋅f^3/(27⋅J^5)⋅a1⋅a2⋅a3⋅a5⋅b5⋅a6⋅b6
+80⋅V^3⋅f^3/(27⋅J^5)⋅b1⋅a2⋅a3⋅b3⋅a6⋅b6⋅b7
−2⋅i⋅V^4⋅f^2/J^5 - 2⋅i⋅V^2⋅f^4/J^5⋅a1⋅b1⋅a2⋅a3⋅a7
−14⋅i⋅V^4⋅f^2/(27⋅J^5)⋅a1⋅a2⋅b2⋅a3⋅b3⋅a4⋅b5⋅a6⋅a8
−2⋅i⋅D12⋅f⋅b1⋅a2⋅b3⋅a4⋅a5⋅a6⋅b6
−2⋅D100⋅V + 22⋅i⋅V^4⋅f^2/(9⋅J^5) + 4⋅i⋅V^2⋅f^4/(3⋅J^5)⋅a1⋅a2⋅b4⋅a6⋅a7
+2⋅i⋅V^4⋅f^2/(3⋅J^5)⋅b2⋅b3⋅a4⋅b4⋅a5⋅a6⋅b6⋅a7⋅b7
+224⋅V^3⋅f^3/(135⋅J^5)⋅a2⋅a3⋅b3⋅a4⋅b4⋅b5⋅b7
−2⋅i⋅D65⋅f + 2⋅i⋅D68⋅f - 2⋅i⋅D70⋅f - 2⋅D88⋅V - 1036⋅i⋅V^4⋅f^2/(135⋅J^5) - 44⋅i⋅V^2⋅f^4/(9⋅J^5)⋅b1⋅a2⋅b2⋅b3⋅a6
+16⋅V^5⋅f/(15⋅J^5) + 632⋅V^3⋅f^3/(135⋅J^5)⋅a2⋅b2⋅a4⋅b4⋅a5⋅b5⋅b6
+2⋅i⋅V^4⋅f^2/(3⋅J^5)⋅b1⋅a2⋅b4⋅a5⋅b5⋅a6⋅b6⋅b7⋅a8
+2⋅D127⋅V⋅a2⋅a3⋅b3⋅b4⋅a5
−2⋅i⋅D122⋅f + 2⋅D127⋅V - 2⋅D26⋅V + 2⋅i⋅D29⋅f + 2⋅D47⋅V - 2⋅i⋅D66⋅f + 2⋅i⋅D67⋅f + 2⋅i⋅D69⋅f⋅a1⋅b1⋅b2⋅a4⋅a5
+2⋅i⋅D114⋅f⋅a1⋅b1⋅a2⋅a4⋅b4⋅a5⋅b6
−2⋅D120⋅V + 2⋅i⋅V^4⋅f^2/J^5 + 2⋅i⋅V^2⋅f^4/J^5⋅a1⋅b1⋅b6⋅a7⋅b7
+2⋅i⋅V^4⋅f^2/(3⋅J^5)⋅b1⋅b2⋅a3⋅b3⋅b4⋅a6⋅b6⋅a7⋅a8
+46⋅i⋅V^4⋅f^2/(27⋅J^5)⋅b1⋅a2⋅b2⋅a3⋅a4⋅b4⋅b5⋅a6⋅b7
−2⋅V^5⋅f/(9⋅J^5)⋅a1⋅b5⋅b6
−2⋅D38⋅V⋅a1⋅b1⋅a2⋅a3⋅a4⋅b4⋅a5⋅a6⋅a7
+34⋅V^3⋅f^3/(135⋅J^5)⋅b1⋅a2⋅b2⋅a4⋅b4⋅a6⋅b7
−2⋅i⋅D128⋅f + 2⋅i⋅D132⋅f - 2⋅i⋅D18⋅f - 2⋅i⋅D20⋅f - 2⋅i⋅D22⋅f - 2⋅D68⋅V - 2⋅D74⋅V - 20⋅V^5⋅f/(9⋅J^5) - 8⋅V^3⋅f^3/(3⋅J^5)⋅a1⋅b1⋅b2⋅b3⋅a4⋅b4⋅a5
−2⋅V^5⋅f/J^5⋅b1⋅a2⋅b3⋅b4⋅b5⋅a6⋅b7⋅a8⋅b9⋅a10⋅a11
+2⋅D64⋅V⋅a1⋅a2⋅b4⋅a5⋅b7⋅a8⋅b8
−2⋅i⋅D103⋅f⋅a1⋅b1⋅a4⋅a5⋅b5⋅b6⋅a7
−2⋅V^5⋅f/(3⋅J^5)⋅b1⋅a2⋅b3⋅a4⋅a5⋅a6⋅b6⋅a7⋅b7⋅a8⋅a9
+2⋅V^3⋅f^3/J^5⋅b1⋅a2⋅b4⋅a5⋅b7⋅b8⋅a9
+2⋅i⋅D59⋅f⋅a1⋅a2⋅b3⋅b4⋅a6⋅b6⋅a7
+2⋅D111⋅V - 2⋅i⋅D131⋅f - 2⋅D31⋅V - 2⋅i⋅D88⋅f - 34⋅V^5⋅f/(9⋅J^5) - 32⋅V^3⋅f^3/(27⋅J^5) - 4⋅V⋅f^5/(27⋅J^5)⋅a1⋅a4⋅a5
+14⋅V^3⋅f^3/(9⋅J^5)⋅b2⋅a3⋅a4⋅b4⋅b6⋅b7⋅a8
−2⋅V^3⋅f^3/J^5⋅b3⋅a4⋅b5⋅a6⋅a7⋅a8⋅a9
+2⋅i⋅D119⋅f + 2⋅i⋅D127⋅f + 2⋅i⋅D54⋅f + 2⋅D66⋅V - 2⋅D67⋅V - 2⋅D69⋅V⋅a1⋅b1⋅b2⋅a3⋅b3⋅b4⋅b5
+2⋅V^3⋅f^3/J^5⋅b1⋅b2⋅b3⋅a4⋅b5⋅a6⋅a9
+80⋅V^3⋅f^3/(27⋅J^5)⋅a2⋅b2⋅b4⋅b5⋅a6⋅b6⋅a7
+10⋅V^3⋅f^3/(9⋅J^5)⋅b1⋅b2⋅a3⋅b3⋅a4⋅b5⋅a6
+2⋅V^3⋅f^3/J^5⋅b2⋅a3⋅b4⋅a5⋅b6⋅a7⋅b9
−2⋅i⋅D124⋅f + 2⋅D13⋅V - 2⋅D15⋅V + 2⋅D17⋅V - 2⋅D41⋅V + 2⋅i⋅D6⋅f + 20⋅i⋅V^4⋅f^2/(9⋅J^5) + 16⋅i⋅V^2⋅f^4/(9⋅J^5)⋅a1⋅a2⋅b3⋅b4⋅b6
−2⋅i⋅D77⋅f + 2⋅D82⋅V + 2⋅D94⋅V⋅a1⋅b1⋅a2⋅b2⋅a3⋅b3⋅a5
+2⋅i⋅D2⋅f⋅a1⋅b2⋅a3⋅a4⋅b4⋅a5⋅b6
+4⋅V^5⋅f/(9⋅J^5)⋅b1⋅a2⋅b3⋅a4⋅b4⋅b5⋅a6⋅a7⋅b8⋅a9⋅b9
+2⋅D125⋅V - 2⋅i⋅D14⋅f + 2⋅i⋅D42⋅f + 2⋅D7⋅V⋅a1⋅b1⋅b3⋅b4⋅a5⋅b5⋅b6
+28⋅V^3⋅f^3/(9⋅J^5)⋅b1⋅a2⋅a4⋅b4⋅b6⋅a7⋅b8
+2⋅i⋅D91⋅f⋅a1⋅b1⋅a2⋅b3⋅a5⋅b5⋅a6
+2⋅i⋅D108⋅f⋅a1⋅a2⋅b2⋅a3⋅b3⋅a4⋅b5⋅b6⋅a7
+2⋅V^5⋅f/J^5 + 2⋅V^3⋅f^3/J^5⋅b1⋅a2⋅b6⋅a7⋅b8⋅a9⋅b9
−2⋅i⋅D1⋅f - 2⋅i⋅D129⋅f - 2⋅D44⋅V + 4⋅V^3⋅f^3/(3⋅J^5) - 2⋅V⋅f^5/J^5⋅a1⋅a2⋅a3
−14⋅i⋅V^4⋅f^2/(9⋅J^5)⋅b1⋅b2⋅a3⋅b3⋅a4⋅b4⋅a6⋅b6⋅a7
−182⋅V^3⋅f^3/(27⋅J^5)⋅b2⋅a3⋅b3⋅b4⋅a5⋅b5⋅a6
−4⋅V^5⋅f/(9⋅J^5) + 64⋅V^3⋅f^3/(135⋅J^5)⋅b1⋅a2⋅a3⋅b3⋅b4⋅a5⋅b6
−16⋅i⋅V^4⋅f^2/(9⋅J^5) - 22⋅i⋅V^2⋅f^4/(9⋅J^5)⋅b3⋅a4⋅b4⋅a5⋅b6
+2⋅D17⋅V⋅a1⋅b1⋅b3⋅a4⋅a5⋅b5⋅a6⋅b6⋅b7
+2⋅i⋅D13⋅f - 2⋅i⋅D15⋅f + 2⋅i⋅D17⋅f - 2⋅V^3⋅f^3/(3⋅J^5)⋅a1⋅b1⋅a3⋅a4⋅b4⋅a6⋅a7
+2⋅i⋅D48⋅f - 4⋅V^3⋅f^3/(9⋅J^5)⋅a1⋅b1⋅b2⋅a4⋅b5⋅b6⋅a7
−40⋅i⋅V^4⋅f^2/(27⋅J^5)⋅b1⋅a2⋅a3⋅b3⋅a4⋅b4⋅b6⋅a7⋅b8
+4⋅V^5⋅f/(3⋅J^5) + 14⋅V^3⋅f^3/(9⋅J^5)⋅a2⋅b2⋅a3⋅b3⋅b6⋅a7⋅b7
+14⋅i⋅V^4⋅f^2/(27⋅J^5)⋅b1⋅a3⋅b3⋅a4⋅b5⋅b6⋅b7⋅a8⋅a9
+2⋅i⋅V^2⋅f^4/J^5⋅b3⋅a4⋅b6⋅b7⋅a8
+2⋅D106⋅V + 2⋅i⋅D91⋅f⋅a1⋅b1⋅a2⋅a3⋅a5⋅b5⋅b6
−2⋅D116⋅V + 2⋅i⋅D121⋅f⋅a1⋅a2⋅b6
+2⋅D84⋅V⋅a2⋅b3⋅a4
−4⋅V^3⋅f^3/(3⋅J^5)⋅a3⋅b3⋅b4⋅a5⋅b5⋅a6⋅b6
−4⋅V^3⋅f^3/(9⋅J^5)⋅b1⋅a2⋅b3⋅a4⋅b4⋅a6⋅b8
−2⋅V^3⋅f^3/J^5⋅a1⋅a2⋅b3⋅a4⋅a7⋅b7⋅a8
−2⋅V^5⋅f/J^5⋅b1⋅a2⋅b3⋅a4⋅b5⋅a6⋅a8⋅b8⋅b9⋅a10⋅b10
+2⋅i⋅D106⋅f + 2⋅D19⋅V - 2⋅D21⋅V + 2⋅D23⋅V - 2⋅i⋅D67⋅f⋅a1⋅b1⋅b2⋅a3⋅a6
+34⋅V^3⋅f^3/(135⋅J^5)⋅a1⋅a3⋅b3⋅a4⋅b4⋅b5⋅b6
−2⋅D10⋅V + 2⋅i⋅D36⋅f - 2⋅i⋅D57⋅f + 2⋅i⋅D76⋅f - 2⋅V^3⋅f^3/(3⋅J^5)⋅a1⋅b1⋅a2⋅b2⋅a3⋅b4⋅b5
+2⋅i⋅D82⋅f - 2⋅D91⋅V⋅a1⋅b1⋅a2⋅b2⋅a3⋅b3⋅a4⋅b5⋅a6
+2⋅D50⋅V⋅a1⋅b1⋅a3⋅b3⋅b5⋅a6⋅b7⋅a8⋅b8
−2⋅i⋅V^4⋅f^2/(45⋅J^5) + 32⋅i⋅V^2⋅f^4/(135⋅J^5)⋅b1⋅b2⋅a3⋅a5⋅b5
−2⋅i⋅V^4⋅f^2/(3⋅J^5)⋅b1⋅a2⋅b4⋅b7⋅a8
+2⋅i⋅D18⋅f - 2⋅D35⋅V - 266⋅V^5⋅f/(135⋅J^5) - 226⋅V^3⋅f^3/(45⋅J^5)⋅b1⋅a2⋅b2⋅b3⋅a4⋅a5⋅b5
+2⋅V^5⋅f/(3⋅J^5)⋅b1⋅b2⋅a3⋅b3⋅a4⋅b4⋅a5⋅a6⋅b6⋅a7⋅b7
+14⋅V^5⋅f/(9⋅J^5) + 526⋅V^3⋅f^3/(135⋅J^5)⋅b1⋅a2⋅a3⋅a4⋅b4⋅a5⋅a7
+16⋅V^5⋅f/(9⋅J^5)⋅b1⋅a2⋅b3⋅a4⋅b4⋅a5⋅a6⋅b6⋅b7⋅a8⋅b8
−28⋅i⋅V^4⋅f^2/(9⋅J^5)⋅b1⋅a2⋅b3⋅b4⋅b5⋅a6⋅a7⋅a8⋅b8
−2⋅i⋅V^4⋅f^2/J^5 - 2⋅i⋅V^2⋅f^4/J^5⋅a1⋅a2⋅b3⋅a4⋅a8
+14⋅V^3⋅f^3/(27⋅J^5)⋅a1⋅a3⋅b3⋅a4⋅a6⋅b6⋅a7
+82⋅i⋅V^4⋅f^2/(27⋅J^5) + 28⋅i⋅V^2⋅f^4/(9⋅J^5)⋅b1⋅b2⋅a4⋅b4⋅a7
+224⋅i⋅V^4⋅f^2/(135⋅J^5) - 4⋅i⋅V^2⋅f^4/(9⋅J^5)⋅b2⋅a4⋅b4⋅b5⋅a7
+40⋅V^3⋅f^3/(27⋅J^5)⋅b1⋅a2⋅a3⋅b3⋅b6⋅a7⋅b8
−2⋅D28⋅V + 2⋅i⋅D37⋅f - 2⋅i⋅D46⋅f - 2⋅i⋅D48⋅f - 2⋅i⋅D50⋅f - 46⋅V^5⋅f/(27⋅J^5) - 8⋅V^3⋅f^3/(9⋅J^5)⋅a1⋅b1⋅a2⋅b3⋅b5⋅a6⋅b6
+2⋅D40⋅V⋅a1⋅a3⋅b3⋅a4⋅b5⋅a6⋅b7⋅a8⋅b8
+2⋅i⋅D110⋅f - 2⋅D127⋅V - 2⋅i⋅D34⋅f + 2⋅D79⋅V - 2⋅D89⋅V⋅a1⋅b3⋅a4⋅b4⋅a5
+74⋅i⋅V^4⋅f^2/(27⋅J^5)⋅b1⋅a2⋅b2⋅a3⋅b5⋅a6⋅b7⋅a8⋅b8
+2⋅i⋅D2⋅f⋅a1⋅b2⋅b3⋅a4⋅b4⋅a5⋅a6
+2⋅i⋅D100⋅f + 40⋅V^5⋅f/(9⋅J^5) + 1006⋅V^3⋅f^3/(135⋅J^5)⋅b1⋅a2⋅a4⋅a5⋅b5⋅a6⋅a7
+56⋅i⋅V^4⋅f^2/(135⋅J^5)⋅a2⋅b2⋅b3⋅a4⋅b4⋅b5⋅a6⋅a7⋅b7
−2⋅D27⋅V - 64⋅i⋅V^4⋅f^2/(27⋅J^5) - 88⋅i⋅V^2⋅f^4/(27⋅J^5)⋅b2⋅a3⋅b3⋅a4⋅b4
+2⋅i⋅V^4⋅f^2/J^5⋅b1⋅a2⋅b3⋅a4⋅b5⋅a6⋅b6⋅b7⋅a8
−296⋅i⋅V^4⋅f^2/(135⋅J^5)⋅a2⋅a3⋅b3⋅a4⋅a5⋅b5⋅a6⋅a7⋅b7
+2⋅V^3⋅f^3/J^5⋅b3⋅a4⋅b5⋅a6⋅a7⋅b7⋅b8
−2⋅D125⋅V + 2⋅i⋅D14⋅f - 2⋅i⋅D42⋅f - 2⋅D7⋅V⋅a1⋅b1⋅b3⋅a4⋅a5⋅b5⋅a6
−2⋅D15⋅V + 2⋅i⋅V^4⋅f^2/(3⋅J^5)⋅a1⋅b1⋅a2⋅b2⋅a3⋅a4⋅b4⋅b5⋅b6
+4⋅i⋅V^4⋅f^2/J^5 + 160⋅i⋅V^2⋅f^4/(27⋅J^5)⋅a2⋅b2⋅a5⋅b5⋅b6
−16⋅i⋅V^4⋅f^2/(15⋅J^5) - 8⋅i⋅V^2⋅f^4/(9⋅J^5)⋅a3⋅a4⋅a5⋅a6⋅b6
−14⋅V^3⋅f^3/(27⋅J^5)⋅b1⋅a2⋅b2⋅a4⋅b6⋅b7⋅a8
+2⋅V^3⋅f^3/J^5⋅b1⋅a2⋅b4⋅a5⋅b6⋅b7⋅a9
−2⋅i⋅D13⋅f + 256⋅V^3⋅f^3/(135⋅J^5)⋅a1⋅a2⋅a3⋅a4⋅b4⋅b5⋅a7
−2⋅i⋅D81⋅f - 2⋅i⋅V^4⋅f^2/J^5⋅a1⋅b1⋅b3⋅a4⋅b5⋅a6⋅b7⋅a8⋅b9
−2⋅i⋅D66⋅f + 2⋅i⋅D67⋅f + 2⋅i⋅D69⋅f⋅b1⋅a2⋅a3⋅b3⋅a6
−2⋅i⋅V^4⋅f^2/J^5⋅b1⋅a2⋅b3⋅b4⋅b5⋅a6⋅b7⋅a8⋅a10
−2⋅i⋅D120⋅f + 2⋅D33⋅V - 2⋅D62⋅V + 2⋅i⋅D78⋅f + 2⋅D8⋅V + 14⋅V^3⋅f^3/(9⋅J^5) - 4⋅V⋅f^5/(9⋅J^5)⋅a1⋅a2⋅a5
+2⋅i⋅V^4⋅f^2/J^5 + 2⋅i⋅V^2⋅f^4/J^5⋅b2⋅a3⋅b7⋅a8⋅b8
−4⋅V^3⋅f^3/(15⋅J^5)⋅b1⋅a3⋅a4⋅b4⋅b5⋅a6⋅b7
+68⋅i⋅V^4⋅f^2/(27⋅J^5) + 80⋅i⋅V^2⋅f^4/(27⋅J^5)⋅a2⋅b2⋅b5⋅b6⋅a7
+10⋅i⋅V^4⋅f^2/(27⋅J^5)⋅a1⋅a5⋅b5⋅a6⋅a7
+2⋅i⋅V^4⋅f^2/(3⋅J^5)⋅b1⋅a2⋅b3⋅b4⋅a6⋅a7⋅b7⋅a8⋅b8
−2⋅i⋅D45⋅f + 2⋅i⋅D47⋅f + 2⋅i⋅D49⋅f - 2⋅D69⋅V⋅a1⋅a2⋅b2⋅b3⋅a5⋅a6⋅b6
+4⋅i⋅V^4⋅f^2/J^5 + 2⋅i⋅V^2⋅f^4/J^5⋅b1⋅a2⋅b7⋅a8⋅b8
+2⋅i⋅V^4⋅f^2/(3⋅J^5)⋅b1⋅a2⋅b3⋅a4⋅a5⋅a6⋅b6⋅b7⋅b8
−484⋅i⋅V^4⋅f^2/(135⋅J^5) - 80⋅i⋅V^2⋅f^4/(27⋅J^5)⋅a2⋅b2⋅a5⋅a6⋅a7
−16⋅i⋅V^4⋅f^2/(15⋅J^5) - 4⋅i⋅V^2⋅f^4/(3⋅J^5)⋅a3⋅a4⋅a5⋅b5⋅a7
−14⋅V^5⋅f/(9⋅J^5)⋅b1⋅a2⋅b3⋅a4⋅a5⋅b5⋅a6⋅b6⋅a7⋅b7⋅b8
−40⋅V^3⋅f^3/(27⋅J^5)⋅a2⋅b2⋅b3⋅a4⋅a5⋅a6⋅a8
−2⋅D55⋅V - 82⋅i⋅V^4⋅f^2/(45⋅J^5) - 16⋅i⋅V^2⋅f^4/(45⋅J^5)⋅b2⋅a3⋅b3⋅a5⋅b5
+68⋅V^5⋅f/(45⋅J^5) + 182⋅V^3⋅f^3/(45⋅J^5)⋅b1⋅b2⋅a4⋅b4⋅a5⋅a6⋅b6
+2⋅i⋅D81⋅f + 2⋅i⋅V^4⋅f^2/J^5⋅a1⋅b1⋅b3⋅a4⋅b5⋅a6⋅a7⋅a8⋅a9
+2⋅i⋅D125⋅f⋅a1⋅b2⋅b3⋅a4⋅a7
+56⋅i⋅V^4⋅f^2/(135⋅J^5)⋅b1⋅a2⋅a3⋅b3⋅b4⋅b5⋅a6⋅a7⋅b7
+2⋅i⋅V^4⋅f^2/(3⋅J^5)⋅b1⋅a2⋅b4⋅a5⋅b5⋅b6⋅a7⋅a8⋅b8
+2⋅i⋅D20⋅f + 2⋅D6⋅V - 2⋅D85⋅V - 4⋅V^3⋅f^3/J^5⋅a1⋅b1⋅a3⋅b3⋅b4⋅a5⋅b5
−28⋅V^3⋅f^3/(9⋅J^5)⋅b2⋅a3⋅a4⋅a5⋅a6⋅a7⋅b7
−2⋅D57⋅V - 14⋅i⋅V^4⋅f^2/(135⋅J^5) - 26⋅i⋅V^2⋅f^4/(5⋅J^5)⋅b2⋅a3⋅a4⋅a5⋅a6
+2⋅D71⋅V⋅a1⋅b1⋅a2⋅b2⋅b4⋅a5⋅b7⋅a8⋅b8
+2⋅V^5⋅f/J^5 + 2⋅V^3⋅f^3/J^5⋅b4⋅a5⋅b6⋅a7⋅b8⋅a9⋅b9
+2⋅i⋅D34⋅f⋅a1⋅b3⋅a4⋅b5⋅a6
−14⋅V^3⋅f^3/(27⋅J^5)⋅b1⋅a3⋅b3⋅a4⋅b5⋅b6⋅a8
−2⋅i⋅D54⋅f - 2⋅i⋅D72⋅f - 2⋅D82⋅V - 2⋅i⋅D91⋅f + 2⋅D93⋅V⋅a1⋅b1⋅a2⋅b2⋅b4⋅a5⋅a6
−2⋅i⋅V^4⋅f^2/(3⋅J^5)⋅a1⋅a2⋅a4⋅b4⋅a5⋅a6⋅b6⋅a7⋅b7
−572⋅V^3⋅f^3/(135⋅J^5)⋅b1⋅b2⋅a3⋅a4⋅b4⋅b5⋅a7
+2⋅D28⋅V + 40⋅V^5⋅f/(9⋅J^5) + 160⋅V^3⋅f^3/(27⋅J^5) + 4⋅V⋅f^5/(27⋅J^5)⋅b2⋅b3⋅a5
+2⋅D14⋅V + 2⋅D77⋅V⋅a1⋅b1⋅a2⋅b2⋅a3⋅a4⋅a5⋅b5⋅b6
−2⋅i⋅D25⋅f + 2⋅i⋅D61⋅f - 2⋅i⋅D67⋅f⋅a1⋅b2⋅a3⋅a4⋅b5
+2⋅D115⋅V + 2⋅i⋅V^4⋅f^2/(9⋅J^5)⋅a1⋅b1⋅b2⋅a3⋅b3⋅a4⋅b4⋅a5⋅b5
+14⋅V^5⋅f/(27⋅J^5) + 28⋅V^3⋅f^3/(27⋅J^5)⋅b1⋅a3⋅a4⋅a5⋅b6⋅a7⋅a8
+2⋅i⋅V^4⋅f^2/J^5⋅b1⋅a2⋅b3⋅a4⋅b5⋅a6⋅a8⋅a9⋅a10
−4⋅i⋅V^4⋅f^2/(9⋅J^5)⋅a1⋅b1⋅a2⋅a3⋅b3⋅a5⋅b6⋅a7⋅a8
+4⋅V^3⋅f^3/(3⋅J^5)⋅b2⋅b3⋅b4⋅a5⋅a6⋅b6⋅a8
−2⋅V^3⋅f^3/J^5⋅b2⋅a3⋅a4⋅b4⋅a5⋅a6⋅a8
−56⋅V^5⋅f/(135⋅J^5) + 52⋅V^3⋅f^3/(27⋅J^5)⋅a2⋅b2⋅b3⋅b4⋅a5⋅a6⋅b6
−2⋅i⋅D60⋅f - 2⋅i⋅D98⋅f + 14⋅V^3⋅f^3/(3⋅J^5)⋅a1⋅a2⋅b3⋅a4⋅b5⋅b6⋅b7
+2⋅D118⋅V + 682⋅i⋅V^4⋅f^2/(135⋅J^5) + 778⋅i⋅V^2⋅f^4/(135⋅J^5)⋅a2⋅a3⋅b3⋅a4⋅a6
+2⋅D55⋅V⋅a1⋅b1⋅a2⋅b2⋅a4⋅b4⋅a5⋅b5⋅b6
+68⋅V^5⋅f/(27⋅J^5) + 80⋅V^3⋅f^3/(27⋅J^5)⋅a2⋅b2⋅b5⋅a6⋅b7⋅a8⋅b8
−56⋅V^3⋅f^3/(135⋅J^5)⋅a1⋅a2⋅a3⋅b3⋅b4⋅b5⋅b6
−2⋅i⋅D100⋅f + 2⋅D123⋅V + 2⋅i⋅D46⋅f⋅a1⋅b1⋅a3⋅b4⋅b5⋅a6⋅b6
+14⋅V^5⋅f/(27⋅J^5)⋅b1⋅a2⋅b2⋅a3⋅b3⋅b4⋅b5⋅a6⋅b7⋅a8⋅a9
−2⋅i⋅V^4⋅f^2/J^5⋅b1⋅b2⋅b3⋅a4⋅b5⋅a6⋅b7⋅a8⋅a10
+856⋅i⋅V^4⋅f^2/(135⋅J^5) + 116⋅i⋅V^2⋅f^4/(45⋅J^5)⋅a2⋅b2⋅a3⋅a5⋅a6
−2⋅i⋅D17⋅f + 52⋅V^3⋅f^3/(45⋅J^5)⋅a1⋅a2⋅a3⋅a4⋅b4⋅a6⋅b6
+2⋅i⋅D110⋅f - 2⋅D19⋅V - 2⋅i⋅D34⋅f + 2⋅D79⋅V - 2⋅D89⋅V⋅a1⋅a3⋅a4⋅b4⋅b5
−2⋅i⋅D49⋅f⋅a1⋅a2⋅b2⋅a4⋅b5⋅b6⋅a7
+52⋅i⋅V^4⋅f^2/(27⋅J^5)⋅b1⋅a2⋅b2⋅b3⋅b5⋅a6⋅a7⋅a8⋅b8
+2⋅i⋅D18⋅f - 2⋅i⋅D4⋅f + 2⋅D85⋅V + 2⋅D96⋅V - 34⋅V^3⋅f^3/(27⋅J^5)⋅a1⋅a2⋅b2⋅b3⋅b4⋅a5⋅b5
+2⋅D112⋅V - 2⋅i⋅D114⋅f - 2⋅i⋅D5⋅f + 2⋅i⋅D58⋅f⋅a1⋅b1⋅a2⋅a3⋅b4⋅a5⋅b5
−2⋅D72⋅V - 2⋅i⋅D93⋅f⋅a1⋅b1⋅a2⋅b2⋅b4⋅a5⋅a6⋅a7⋅b7
−2⋅V^3⋅f^3/(3⋅J^5)⋅b3⋅a4⋅b4⋅a5⋅b5⋅b6⋅a7
+2⋅D104⋅V - 2⋅D120⋅V - 2⋅i⋅D33⋅f - 8⋅i⋅V^4⋅f^2/(9⋅J^5) - 2⋅i⋅V^2⋅f^4/(3⋅J^5)⋅a1⋅a2⋅a5⋅a6⋅b6
−2⋅i⋅V^4⋅f^2/J^5 - 2⋅i⋅V^2⋅f^4/J^5⋅b4⋅a5⋅a6⋅a7⋅a8
+20⋅i⋅V^4⋅f^2/(9⋅J^5)⋅b1⋅a2⋅b2⋅b3⋅a4⋅b4⋅a5⋅b6⋅a7
+2⋅D10⋅V + 2⋅i⋅D18⋅f + 2⋅i⋅D20⋅f + 2⋅i⋅D22⋅f - 2⋅i⋅D3⋅f + 2⋅D96⋅V⋅a1⋅a2⋅a3⋅b3⋅b4⋅a5⋅a6
+2⋅i⋅D62⋅f + 62⋅i⋅V^4⋅f^2/(9⋅J^5) + 64⋅i⋅V^2⋅f^4/(9⋅J^5)⋅b1⋅b2⋅a3⋅a4⋅b4
+2⋅i⋅D4⋅f - 2⋅i⋅D90⋅f + 56⋅V^3⋅f^3/(27⋅J^5)⋅a1⋅b1⋅b2⋅a3⋅b4⋅b5⋅a6
+2⋅D13⋅V + 10⋅i⋅V^4⋅f^2/(9⋅J^5) + 8⋅i⋅V^2⋅f^4/(9⋅J^5)⋅a1⋅a2⋅b3⋅a5⋅a7
−2⋅V^3⋅f^3/J^5⋅a2⋅a3⋅b4⋅a5⋅a7⋅b7⋅a8
+2⋅D95⋅V + 2⋅V^5⋅f/J^5⋅a1⋅b1⋅a2⋅b2⋅a3⋅b3⋅a4⋅b4⋅a5⋅a6⋅a7
+2⋅D90⋅V + 10⋅i⋅V^4⋅f^2/(3⋅J^5) + 110⋅i⋅V^2⋅f^4/(27⋅J^5)⋅b2⋅a3⋅b4⋅b5⋅a6
+14⋅V^3⋅f^3/(27⋅J^5)⋅b1⋅b4⋅a7
+2⋅V^3⋅f^3/J^5⋅b3⋅a4⋅b5⋅b6⋅b7⋅a8⋅a9
−20⋅V^3⋅f^3/(9⋅J^5)⋅a3⋅a4⋅b4⋅b5⋅b6⋅a7⋅b7
+14⋅i⋅V^4⋅f^2/(27⋅J^5)⋅b1⋅a3⋅b3⋅b4⋅a5⋅b5⋅b6⋅a7⋅a8
+2⋅V^3⋅f^3/J^5⋅b1⋅b2⋅b3⋅a4⋅b7⋅a8⋅a9
−2⋅i⋅D109⋅f + 2⋅D39⋅V + 28⋅i⋅V^4⋅f^2/(27⋅J^5)⋅b1⋅a2⋅b2⋅a3⋅b3⋅a4⋅b5⋅a6⋅b6
+2⋅i⋅V^4⋅f^2/(3⋅J^5)⋅b1⋅a2⋅b3⋅a4⋅b5⋅a6⋅b6⋅b8⋅a9
+2⋅i⋅V^4⋅f^2/J^5 + 2⋅i⋅V^2⋅f^4/J^5⋅b1⋅b2⋅b3⋅a4⋅a8
−2⋅D31⋅V - 2⋅i⋅D46⋅f + 34⋅V^5⋅f/(27⋅J^5) + 100⋅V^3⋅f^3/(27⋅J^5)⋅a1⋅a2⋅b2⋅a3⋅b5⋅a6⋅a7
−74⋅V^3⋅f^3/(27⋅J^5)⋅b1⋅b2⋅b3⋅a4⋅b5⋅b6⋅b7
+2⋅i⋅D13⋅f - 2⋅i⋅D15⋅f + 2⋅i⋅D17⋅f + 2⋅D68⋅V - 494⋅V^3⋅f^3/(135⋅J^5)⋅a1⋅a2⋅a3⋅a4⋅a5⋅b5⋅b6
+118⋅i⋅V^4⋅f^2/(135⋅J^5) - 26⋅i⋅V^2⋅f^4/(45⋅J^5)⋅a2⋅b2⋅b3⋅a4⋅b5
+34⋅V^5⋅f/(135⋅J^5) + 34⋅V^3⋅f^3/(45⋅J^5)⋅b1⋅a3⋅b3⋅a5⋅b6⋅a7⋅b7
+4⋅i⋅V^4⋅f^2/(9⋅J^5)⋅b1⋅b2⋅a3⋅a4⋅b4⋅a5⋅a6⋅b6⋅b7
+2⋅i⋅D59⋅f⋅b1⋅a2⋅b3⋅a4⋅a6⋅b6⋅a7
+2⋅i⋅D72⋅f + 2⋅i⋅D91⋅f⋅a1⋅b1⋅a2⋅b2⋅b4⋅b5⋅b6
+14⋅V^3⋅f^3/(27⋅J^5)⋅b1⋅a3⋅b3⋅a4⋅a5⋅a6⋅a8
−2⋅V^3⋅f^3/J^5⋅a1⋅b1⋅a2⋅a3⋅a6⋅b6⋅a7
−2⋅i⋅D93⋅f⋅a1⋅b1⋅a2⋅a3⋅a4⋅a5⋅b6⋅a7⋅a8
+2⋅i⋅D80⋅f⋅a1⋅a2⋅b3⋅a4⋅b5⋅a6⋅b7⋅a8⋅b9
+2⋅i⋅D40⋅f⋅b1⋅b2⋅b3⋅a4⋅b5⋅a6⋅b6
+2⋅D128⋅V + 2⋅D18⋅V + 2⋅D20⋅V + 2⋅D22⋅V - 2⋅i⋅D28⋅f + 2⋅D46⋅V + 2⋅D48⋅V + 2⋅D50⋅V - 2⋅i⋅D68⋅f - 2⋅i⋅D74⋅f - 8⋅i⋅V^4⋅f^2/(9⋅J^5) - 124⋅i⋅V^2⋅f^4/(27⋅J^5)⋅a1⋅b1⋅b2⋅b3⋅a5
+2⋅i⋅D46⋅f - 50⋅V^3⋅f^3/(27⋅J^5)⋅a1⋅a2⋅b2⋅b3⋅b5⋅b6⋅a7
−188⋅V^3⋅f^3/(27⋅J^5) - 80⋅V⋅f^5/(27⋅J^5)⋅a2⋅b2⋅b6
+16⋅V^5⋅f/(15⋅J^5) + 16⋅V^3⋅f^3/(5⋅J^5)⋅a2⋅b2⋅a4⋅b4⋅b6⋅a7⋅b7
+10⋅i⋅V^2⋅f^4/(27⋅J^5)⋅a2⋅b3⋅b4⋅a5⋅b6
+2⋅i⋅D122⋅f⋅b1⋅a2⋅a3⋅b4⋅a5
−4⋅V^5⋅f/(3⋅J^5)⋅b1⋅b2⋅a3⋅b3⋅a4⋅b4⋅a5⋅b5⋅b6⋅a7⋅a8
−2⋅D112⋅V⋅b2⋅a3⋅a4
−2⋅V^5⋅f/(9⋅J^5)⋅b1⋅a2⋅b2⋅a4⋅b4⋅a5⋅b5⋅a6⋅b7⋅a8⋅b8
−2⋅i⋅D0⋅f + 2⋅D112⋅V + 2⋅D43⋅V⋅a1⋅b1⋅a3
+2⋅V^3⋅f^3/J^5⋅b1⋅a2⋅b5⋅a6⋅b7⋅a8⋅b9
+2⋅i⋅D100⋅f - 2⋅i⋅D102⋅f - 2⋅i⋅D104⋅f - 2⋅i⋅D98⋅f + 38⋅V^3⋅f^3/(9⋅J^5)⋅a1⋅a2⋅b3⋅b4⋅b5⋅a6⋅b7
+2⋅i⋅V^4⋅f^2/J^5 + 2⋅i⋅V^2⋅f^4/J^5⋅b1⋅a2⋅b6⋅a7⋅b8
+34⋅V^3⋅f^3/(135⋅J^5)⋅b1⋅a3⋅b3⋅a4⋅b4⋅b6⋅a7
+2⋅D35⋅V - 34⋅V^5⋅f/(27⋅J^5)⋅a1⋅b3⋅a4⋅b4⋅a5⋅b5⋅b6
−2⋅V^3⋅f^3/J^5⋅b1⋅a2⋅b4⋅a5⋅a6⋅a7⋅a9
−2⋅D101⋅V - 2⋅D103⋅V + 2⋅D105⋅V⋅a1⋅a2⋅b3⋅b6⋅a7
+344⋅i⋅V^4⋅f^2/(135⋅J^5) + 16⋅i⋅V^2⋅f^4/(5⋅J^5)⋅a2⋅b2⋅a4⋅b4⋅b6
+2⋅i⋅V^4⋅f^2/J^5 + 2⋅i⋅V^2⋅f^4/J^5⋅b1⋅a2⋅b6⋅b7⋅a8
+2⋅i⋅D121⋅f⋅b1⋅a2⋅a6
−296⋅i⋅V^4⋅f^2/(135⋅J^5) + 6⋅i⋅V^2⋅f^4/(5⋅J^5)⋅a2⋅b2⋅a3⋅b4⋅b5
+46⋅V^3⋅f^3/(135⋅J^5)⋅b2⋅a3⋅a4⋅a5⋅b5⋅a6⋅a7
+40⋅i⋅V^4⋅f^2/(27⋅J^5)⋅b1⋅a2⋅a3⋅b3⋅a4⋅b4⋅a5⋅a6⋅a8
+14⋅i⋅V^4⋅f^2/(27⋅J^5)⋅b1⋅a3⋅b3⋅a4⋅b5⋅a6⋅b7⋅a8⋅b9
+14⋅i⋅V^4⋅f^2/(27⋅J^5)⋅b1⋅a3⋅b3⋅a4⋅b6⋅a7⋅b8⋅a9⋅b9
+2⋅i⋅D52⋅f⋅a1⋅b2⋅b3⋅a4⋅b6⋅a7⋅a8
−4⋅V^3⋅f^3/(3⋅J^5)⋅b1⋅a2⋅a4⋅a5⋅a6⋅b6⋅a8
−2⋅D1⋅V - 2⋅D20⋅V - 2⋅i⋅D85⋅f - 2⋅i⋅V^4⋅f^2/(3⋅J^5) - 14⋅i⋅V^2⋅f^4/(3⋅J^5)⋅a1⋅b1⋅a3⋅b3⋅b4
−2⋅i⋅D64⋅f⋅a1⋅a2⋅a4⋅a5⋅a7
−212⋅i⋅V^4⋅f^2/(45⋅J^5) - 4⋅i⋅V^2⋅f^4/(3⋅J^5)⋅b2⋅a4⋅a5⋅b5⋅b6
+2⋅D8⋅V⋅a1⋅b1⋅b3⋅a5⋅b6⋅a7⋅b7
+14⋅V^3⋅f^3/(9⋅J^5)⋅a3⋅b3⋅a5⋅b5⋅b6⋅a7⋅b7
+2⋅D101⋅V + 2⋅D103⋅V - 2⋅D105⋅V⋅a1⋅a2⋅b3⋅a5⋅b5⋅a6⋅b7⋅a8⋅b8
−224⋅i⋅V^4⋅f^2/(135⋅J^5)⋅a1⋅b1⋅b2⋅a3⋅b3⋅a4⋅b4⋅b5⋅a7
+14⋅V^3⋅f^3/(9⋅J^5)⋅b1⋅a2⋅b3⋅a4⋅a5⋅b5⋅b8
+2⋅i⋅D59⋅f⋅a1⋅b2⋅b3⋅a4⋅a6⋅b6⋅a7
−2⋅i⋅D30⋅f⋅a1⋅a4⋅a5⋅a6⋅a7
−2⋅i⋅D10⋅f + 2⋅D100⋅V + 2⋅i⋅D123⋅f - 2⋅D36⋅V + 2⋅i⋅D44⋅f⋅a1⋅b1⋅b3⋅b4⋅a5
+2⋅i⋅D133⋅f + 32⋅V^5⋅f/(9⋅J^5) + 16⋅V^3⋅f^3/(27⋅J^5)⋅b1⋅b2⋅a3⋅b3⋅a4⋅b4⋅a5
−14⋅i⋅V^4⋅f^2/(9⋅J^5)⋅b1⋅a2⋅a4⋅b4⋅b5⋅a6⋅a7⋅b7⋅b8
+2⋅i⋅D59⋅f + 2⋅i⋅D99⋅f⋅a1⋅b1⋅b3⋅a4⋅b5⋅b6⋅b7
−8⋅V^3⋅f^3/(9⋅J^5)⋅b1⋅a2⋅b3⋅a5⋅b6⋅b7⋅a8
−2⋅D107⋅V + 2⋅V^3⋅f^3/J^5⋅a1⋅b1⋅a2⋅b2⋅b6⋅a7⋅b7
+2⋅V^3⋅f^3/J^5⋅b3⋅a4⋅b5⋅a6⋅b7⋅b8⋅a9
−74⋅V^5⋅f/(27⋅J^5) - 74⋅V^3⋅f^3/(27⋅J^5)⋅b1⋅a2⋅b2⋅a3⋅b6⋅a7⋅b7
+4⋅i⋅V^4⋅f^2/(15⋅J^5)⋅b1⋅a2⋅b2⋅a3⋅b3⋅b4⋅a5⋅b5⋅a7
−2⋅i⋅D109⋅f + 2⋅D128⋅V + 2⋅D50⋅V + 142⋅i⋅V^4⋅f^2/(45⋅J^5)⋅a1⋅a2⋅b2⋅a3⋅b3⋅b4⋅b5⋅a6⋅b6
−2⋅i⋅V^4⋅f^2/(3⋅J^5)⋅b2⋅a3⋅a4⋅a5⋅b5⋅a6⋅b6⋅a7⋅a8
−2⋅i⋅D11⋅f - 2⋅D42⋅V⋅a1⋅a2⋅a4⋅b4⋅b6
+4⋅i⋅V^4⋅f^2/(45⋅J^5)⋅b1⋅a2⋅b2⋅b3⋅a4⋅a5⋅b5⋅a6⋅b6
+74⋅V^3⋅f^3/(27⋅J^5)⋅b1⋅b2⋅b3⋅a4⋅a6⋅a7⋅b7
+2⋅i⋅D21⋅f - 2⋅D34⋅V - 2⋅i⋅D5⋅f⋅a1⋅a2⋅b2⋅a3⋅a4⋅a5⋅a6
+2⋅D65⋅V + 14⋅V^3⋅f^3/(9⋅J^5)⋅a1⋅b1⋅a3⋅b3⋅a5⋅b5⋅b6
+40⋅V^3⋅f^3/(27⋅J^5)⋅a2⋅b2⋅b3⋅b4⋅a6⋅b6⋅a7
+2⋅i⋅D97⋅f⋅a1⋅a3⋅b4⋅b5⋅a6
+2⋅V^3⋅f^3/(3⋅J^5)⋅a1⋅a2⋅b4⋅a5⋅b5⋅a7⋅a8
−2⋅i⋅V^4⋅f^2/J^5⋅b1⋅a2⋅b3⋅a4⋅b6⋅b7⋅a8⋅b8⋅a9
+2⋅V^3⋅f^3/J^5⋅b1⋅a2⋅b3⋅a4⋅b6⋅b7⋅a9
−2⋅i⋅D4⋅f + 2⋅D96⋅V - 56⋅V^3⋅f^3/(27⋅J^5)⋅b1⋅a2⋅b2⋅a3⋅b4⋅a5⋅b5
+2⋅D30⋅V - 2⋅i⋅D49⋅f⋅b1⋅a2⋅b2⋅a4⋅b5⋅a6⋅a7
−2⋅D66⋅V + 2⋅D67⋅V + 2⋅D69⋅V⋅a1⋅a2⋅a3⋅b3⋅b6⋅a7⋅b7
−4⋅i⋅V^4⋅f^2/(3⋅J^5)⋅b1⋅a2⋅a4⋅b4⋅a5⋅b5⋅b6⋅a7⋅b8
+2⋅i⋅D9⋅f⋅a1⋅a2⋅b3⋅b5⋅a6
+2⋅i⋅D17⋅f⋅a1⋅b1⋅b3⋅a4⋅a5⋅b5⋅b7
−2⋅i⋅D98⋅f⋅a1⋅b1⋅a3⋅a4⋅b5⋅a6⋅a8
+10⋅V^3⋅f^3/(27⋅J^5)⋅a2⋅b3⋅b4⋅a5⋅b6⋅a7⋅b7
+4⋅i⋅V^4⋅f^2/(9⋅J^5)⋅b1⋅a2⋅b3⋅a5⋅b5⋅b6⋅a7⋅b7⋅a8
+10⋅V^3⋅f^3/(3⋅J^5)⋅b1⋅a2⋅b4⋅b5⋅a6⋅b6⋅a8
+2⋅i⋅D112⋅f - 2⋅i⋅D29⋅f - 2⋅D58⋅V - 2⋅i⋅D75⋅f⋅a1⋅b1⋅a2⋅a3⋅b4
−2⋅i⋅V^2⋅f^4/J^5⋅a2⋅a3⋅b6⋅a7⋅a8
+4⋅i⋅V^4⋅f^2/(3⋅J^5)⋅b1⋅a2⋅a3⋅a4⋅b5⋅a6⋅a7⋅b7⋅a9
−2⋅V^3⋅f^3/J^5⋅b1⋅a2⋅b4⋅a5⋅a7⋅a8⋅a9
+2⋅V^3⋅f^3/(3⋅J^5)⋅b1⋅a2⋅a4⋅a6⋅b6⋅a7⋅a8
−2⋅i⋅D118⋅f + 2⋅D24⋅V - 10⋅V^3⋅f^3/(9⋅J^5)⋅b1⋅a2⋅b2⋅a3⋅b3⋅a4⋅b5
+56⋅V^5⋅f/(135⋅J^5) + 638⋅V^3⋅f^3/(135⋅J^5) + 8⋅V⋅f^5/(9⋅J^5)⋅a3⋅b4⋅b5
+4⋅V^3⋅f^3/(3⋅J^5)⋅b1⋅b2⋅a5⋅b5⋅b6⋅a7⋅a8
−2⋅D60⋅V⋅a1⋅b1⋅a2⋅b2⋅a3⋅a4⋅a6⋅b6⋅a7
+4⋅V^3⋅f^3/(3⋅J^5)⋅b1⋅a2⋅b4⋅a5⋅a6⋅b6⋅b8
−56⋅i⋅V^4⋅f^2/(27⋅J^5)⋅b1⋅a2⋅b2⋅a3⋅b3⋅a4⋅b4⋅b5⋅a6
+2⋅D2⋅V⋅a1⋅b2⋅a3⋅a4⋅b4⋅a5⋅b6⋅a7⋅b7
+4⋅i⋅V^4⋅f^2/(3⋅J^5)⋅b1⋅a2⋅a3⋅a4⋅a6⋅b6⋅b7⋅a8⋅a9
−2⋅i⋅V^4⋅f^2/J^5⋅b1⋅a2⋅b4⋅a5⋅b6⋅a7⋅b8⋅a9⋅b10
+2⋅i⋅D45⋅f⋅a1⋅b1⋅b2⋅b3⋅a5⋅a6⋅a7
+2⋅D120⋅V - 2⋅D133⋅V - 2⋅i⋅D62⋅f + 2⋅i⋅D70⋅f + 4⋅i⋅V^4⋅f^2/(3⋅J^5) - 10⋅i⋅V^2⋅f^4/(9⋅J^5)⋅a1⋅b2⋅a3⋅b3⋅b5
+14⋅V^5⋅f/(9⋅J^5) + 2⋅V^3⋅f^3/J^5⋅b1⋅a2⋅b3⋅b4⋅b7⋅a8⋅a9
−22⋅i⋅V^4⋅f^2/(9⋅J^5)⋅b1⋅a2⋅a4⋅b6⋅b7
+2⋅i⋅D23⋅f⋅b1⋅a2⋅a3⋅b3⋅a4⋅b4⋅a6
−2⋅D66⋅V + 2⋅D67⋅V + 2⋅D69⋅V⋅a1⋅a2⋅a3⋅b3⋅a5⋅b5⋅b6
+2⋅V^3⋅f^3/J^5⋅b1⋅a2⋅b5⋅a6⋅b7⋅b8⋅a9
−2⋅i⋅D101⋅f⋅a1⋅a2⋅b4⋅a5⋅b5⋅a6⋅b6
−4⋅V^5⋅f/(9⋅J^5) - 56⋅V^3⋅f^3/(135⋅J^5)⋅a2⋅b2⋅b4⋅a5⋅b5⋅a6⋅b6
+4⋅i⋅V^4⋅f^2/(9⋅J^5)⋅b2⋅a4⋅b4⋅a5⋅b6⋅a7⋅b8⋅a9⋅b9
+2⋅V^5⋅f/(9⋅J^5) + 34⋅V^3⋅f^3/(135⋅J^5)⋅b1⋅a3⋅b4⋅a5⋅b5⋅a6⋅b6
−4⋅V^3⋅f^3/(9⋅J^5)⋅b2⋅a4⋅a5⋅b5⋅b6⋅a7⋅b7
−28⋅V^3⋅f^3/(9⋅J^5)⋅a1⋅a2⋅a4⋅b4⋅b6⋅a7⋅a8
−2⋅i⋅D39⋅f - 2⋅i⋅D60⋅f + 70⋅V^3⋅f^3/(27⋅J^5)⋅a1⋅b2⋅b3⋅a4⋅b5⋅b6⋅a7
−122⋅i⋅V^4⋅f^2/(45⋅J^5) - 4⋅i⋅V^2⋅f^4/(5⋅J^5)⋅b1⋅a3⋅a4⋅b4⋅b6
+28⋅i⋅V^4⋅f^2/(9⋅J^5)⋅b1⋅a2⋅b3⋅b4⋅b5⋅b6⋅b7⋅a8⋅b8
−2⋅D33⋅V + 2⋅V^3⋅f^3/J^5⋅a1⋅b1⋅b5⋅a6⋅b7⋅a8⋅b8
−2⋅V^3⋅f^3/(3⋅J^5)⋅b2⋅b3⋅a5⋅a6⋅b6⋅a7⋅b7
+2⋅i⋅D118⋅f - 26⋅V^3⋅f^3/(27⋅J^5)⋅a1⋅b1⋅b2⋅a3⋅b3⋅a4⋅b6
−10⋅V^3⋅f^3/(3⋅J^5)⋅b2⋅a3⋅a5⋅b5⋅a6⋅a7⋅a8
−2⋅i⋅V^4⋅f^2/J^5⋅b1⋅a2⋅b3⋅a4⋅a5⋅a6⋅b6⋅a7⋅a8
−14⋅i⋅V^4⋅f^2/(9⋅J^5)⋅b1⋅b2⋅b3⋅a4⋅a5⋅b5⋅a6⋅b6⋅a8
+224⋅i⋅V^4⋅f^2/(135⋅J^5)⋅b1⋅a2⋅b2⋅b3⋅b4⋅b5⋅b7⋅a8⋅b8
−2⋅D72⋅V + 2⋅i⋅D82⋅f⋅a1⋅b1⋅a2⋅b2⋅a3⋅b3⋅a4⋅a5⋅b6
+14⋅i⋅V^4⋅f^2/(27⋅J^5)⋅b1⋅a3⋅a4⋅b4⋅a5⋅b5⋅b6⋅a7⋅b7
+2⋅i⋅D98⋅f⋅a1⋅b1⋅b3⋅a4⋅b5⋅a6⋅b8
+2⋅V^3⋅f^3/(3⋅J^5)⋅a1⋅a2⋅a5⋅a6⋅b6⋅a7⋅b7
−2⋅D12⋅V⋅a1⋅b1⋅a2⋅b2⋅a3⋅a4⋅b4⋅b5⋅a7
+2⋅i⋅D2⋅f⋅b1⋅b2⋅a3⋅b3⋅b4⋅a5⋅b5
+2⋅i⋅D89⋅f⋅a1⋅a4⋅b6
−2⋅V^5⋅f/J^5⋅b1⋅a2⋅a4⋅b4⋅a5⋅b5⋅a6⋅b6⋅b7⋅a8⋅b8
−2⋅V^3⋅f^3/(3⋅J^5)⋅b3⋅a4⋅b4⋅b5⋅a6⋅a7⋅b7
−2⋅i⋅V^4⋅f^2/J^5⋅b1⋅b2⋅b3⋅a4⋅a6⋅b6⋅a7⋅b7⋅a8
−34⋅i⋅V^4⋅f^2/(135⋅J^5)⋅b1⋅a3⋅b3⋅a4⋅b4⋅b5⋅a6⋅a7⋅b7
−14⋅V^3⋅f^3/(27⋅J^5)⋅b1⋅a3⋅b3⋅b4⋅a6⋅b6⋅a7
−2⋅D86⋅V⋅a1⋅b1⋅a3⋅b3⋅a4⋅a5⋅b6⋅a7⋅a8
−2⋅D41⋅V - 2⋅i⋅V^4⋅f^2/J^5⋅a1⋅b1⋅a4⋅b4⋅a5⋅b5⋅b6⋅a7⋅b7
+40⋅V^3⋅f^3/(27⋅J^5)⋅a2⋅b2⋅b3⋅b4⋅b6⋅a7⋅a8
−2⋅i⋅D31⋅f + 166⋅i⋅V^4⋅f^2/(135⋅J^5)⋅a1⋅b3⋅a5⋅a6⋅a7
+2⋅i⋅D71⋅f⋅a1⋅b1⋅a2⋅b2⋅b4⋅a5⋅b7
+2⋅i⋅V^4⋅f^2/(3⋅J^5)⋅b1⋅a2⋅a4⋅a7⋅a8
+2⋅D52⋅V⋅a1⋅a2⋅b3⋅b4⋅a5⋅b5⋅b6⋅a7⋅a8
+2⋅D45⋅V⋅a1⋅b1⋅b2⋅b3⋅a4⋅b4⋅a5⋅a6⋅a7
−2⋅V^5⋅f/J^5⋅b2⋅a3⋅b4⋅a5⋅b6⋅a7⋅b8⋅a9⋅b10⋅a11⋅b11
−14⋅V^3⋅f^3/(27⋅J^5)⋅b1⋅a2⋅b2⋅a3⋅b3⋅b4⋅a7
−2⋅V^3⋅f^3/(3⋅J^5)⋅b1⋅b2⋅b4⋅a5⋅b5⋅a7⋅a8
−14⋅V^5⋅f/(9⋅J^5)⋅b1⋅a2⋅a3⋅b5⋅b7⋅a8⋅b8
−14⋅i⋅V^4⋅f^2/(27⋅J^5)⋅a1⋅a2⋅b2⋅a3⋅b3⋅a4⋅b6⋅a7⋅a8
−4⋅i⋅V^4⋅f^2/(15⋅J^5) - 14⋅i⋅V^2⋅f^4/(27⋅J^5)⋅b1⋅a2⋅b2⋅b4⋅a7
+2⋅D119⋅V + 2⋅i⋅D29⋅f + 2⋅D54⋅V - 2⋅i⋅D66⋅f + 2⋅i⋅D67⋅f + 2⋅i⋅D69⋅f⋅a1⋅b1⋅a2⋅a4⋅b5
+2⋅i⋅D126⋅f + 2⋅D35⋅V - 2⋅D74⋅V + 2⋅i⋅D78⋅f + 14⋅V^5⋅f/(9⋅J^5) + 44⋅V^3⋅f^3/(27⋅J^5) - 8⋅V⋅f^5/(27⋅J^5)⋅a1⋅b3⋅b4
+2⋅i⋅D20⋅f - 50⋅V^3⋅f^3/(27⋅J^5)⋅a1⋅a2⋅b2⋅b3⋅a4⋅b4⋅b6
+14⋅i⋅V^4⋅f^2/(27⋅J^5)⋅b1⋅a3⋅b3⋅a4⋅b5⋅a6⋅b7⋅b8⋅a9
+14⋅i⋅V^4⋅f^2/(27⋅J^5) + 28⋅i⋅V^2⋅f^4/(27⋅J^5)⋅b1⋅a3⋅a4⋅a5⋅a7
−40⋅i⋅V^4⋅f^2/(27⋅J^5)⋅b1⋅a2⋅a3⋅b3⋅b5⋅a6⋅b7⋅a8⋅b9
+2⋅i⋅D58⋅f - 2⋅D69⋅V + 2⋅i⋅D77⋅f⋅a1⋅b1⋅a2⋅b2⋅b3⋅a4⋅a6
+2⋅D31⋅V + 2⋅i⋅D46⋅f - 38⋅V^5⋅f/(9⋅J^5) - 926⋅V^3⋅f^3/(135⋅J^5)⋅b1⋅a2⋅b2⋅b3⋅b5⋅a6⋅a7
+2⋅i⋅D40⋅f⋅a1⋅a3⋅b3⋅a4⋅b5⋅b6⋅a7
+4⋅i⋅V^4⋅f^2/(9⋅J^5)⋅b1⋅a2⋅b3⋅a5⋅b5⋅a6⋅b7⋅b8⋅a9
+2⋅D100⋅V - 2⋅D102⋅V - 2⋅D104⋅V + 2⋅i⋅D81⋅f - 20⋅i⋅V^4⋅f^2/(9⋅J^5)⋅a1⋅a2⋅b3⋅b4⋅b5⋅a6⋅b7⋅a8⋅b8
−2⋅i⋅V^4⋅f^2/J^5⋅b2⋅a3⋅b4⋅a5⋅b6⋅a7⋅a8⋅b8⋅b9
+224⋅V^5⋅f/(135⋅J^5) - 86⋅V^3⋅f^3/(15⋅J^5)⋅a2⋅a3⋅b3⋅b4⋅a5⋅b5⋅b6
−2⋅i⋅V^4⋅f^2/J^5⋅b1⋅a2⋅a5⋅b5⋅a6⋅b6⋅b7⋅a8⋅b8
−2⋅i⋅V^4⋅f^2/J^5⋅b2⋅a3⋅b4⋅a5⋅b6⋅a7⋅b9⋅a10⋅b10
−4⋅i⋅V^4⋅f^2/(3⋅J^5)⋅b1⋅a2⋅b4⋅a5⋅a6⋅b6⋅b8⋅a9⋅b9
+2⋅i⋅D94⋅f - 2⋅D99⋅V⋅a1⋅b1⋅a2⋅b2⋅a3⋅a4⋅b5⋅a6⋅b7
−2⋅D107⋅V + 2⋅i⋅D128⋅f - 2⋅i⋅D132⋅f + 2⋅D28⋅V + 2⋅i⋅D53⋅f + 2⋅i⋅D55⋅f - 2⋅i⋅D57⋅f + 20⋅V^5⋅f/(9⋅J^5) + 50⋅V^3⋅f^3/(9⋅J^5)⋅a1⋅b1⋅a2⋅a3⋅a4⋅b4⋅a5
−122⋅V^3⋅f^3/(27⋅J^5)⋅b2⋅a3⋅b3⋅a4⋅b6⋅a7⋅b7
+2⋅i⋅D5⋅f⋅a1⋅a2⋅b2⋅a3⋅b4⋅b5⋅a6
+424⋅i⋅V^4⋅f^2/(135⋅J^5)⋅b1⋅a2⋅a3⋅a4⋅a5⋅b5⋅a6⋅a7⋅b7
+2⋅i⋅V^4⋅f^2/(3⋅J^5)⋅b1⋅a2⋅b3⋅a4⋅b5⋅a6⋅b6⋅a8⋅b9
+14⋅V^3⋅f^3/(9⋅J^5)⋅a3⋅b3⋅b4⋅b5⋅b6⋅a7⋅a8
+14⋅V^3⋅f^3/(9⋅J^5)⋅b1⋅a2⋅a4⋅b4⋅b5⋅b6⋅a8
−2⋅D101⋅V - 2⋅D103⋅V + 2⋅D105⋅V - 2⋅D121⋅V + 2⋅i⋅D9⋅f⋅a1⋅b1⋅a4⋅b4⋅a5
−2⋅V^3⋅f^3/J^5⋅a2⋅a3⋅a5⋅b5⋅a6⋅b6⋅a7
−34⋅i⋅V^4⋅f^2/(135⋅J^5)⋅b1⋅a3⋅b3⋅a4⋅b4⋅a5⋅b5⋅b6⋅a7
−2⋅V^3⋅f^3/J^5⋅a1⋅b1⋅a2⋅a3⋅b4⋅a5⋅a8
+4⋅V^3⋅f^3/J^5⋅b1⋅a2⋅b4⋅a5⋅a7⋅b7⋅b8
+14⋅V^3⋅f^3/(9⋅J^5)⋅b1⋅a2⋅a4⋅b4⋅b5⋅a6⋅b8
+68⋅i⋅V^4⋅f^2/(27⋅J^5) + 28⋅i⋅V^2⋅f^4/(9⋅J^5)⋅a3⋅b3⋅b5⋅b6⋅a7
+2⋅i⋅D11⋅f + 2⋅i⋅D122⋅f - 2⋅i⋅D67⋅f + 2⋅i⋅D7⋅f - 2⋅i⋅D9⋅f⋅a1⋅a2⋅a3⋅b4⋅b5
+2⋅i⋅D114⋅f⋅a1⋅b1⋅b2⋅a4⋅b4⋅a5⋅a6
+2⋅D81⋅V + 2⋅V^5⋅f/J^5⋅a1⋅b1⋅a2⋅b2⋅a3⋅a4⋅b5⋅a6⋅b7⋅a8⋅a9
+44⋅V^3⋅f^3/(9⋅J^5) + 8⋅V⋅f^5/(9⋅J^5)⋅b2⋅a4⋅b6
−2⋅i⋅D11⋅f⋅b1⋅a2⋅a4⋅b4⋅a6
−40⋅i⋅V^4⋅f^2/(9⋅J^5) - 8⋅i⋅V^2⋅f^4/(9⋅J^5)⋅b2⋅a4⋅b6⋅a7⋅b7
+2⋅i⋅V^2⋅f^4/J^5⋅b1⋅a2⋅b5⋅a6⋅b8
−2⋅i⋅V^4⋅f^2/J^5⋅b2⋅a3⋅b4⋅a5⋅b6⋅a7⋅b8⋅b9⋅a10
−38⋅i⋅V^4⋅f^2/(9⋅J^5)⋅b1⋅a2⋅b3⋅b4⋅a5⋅b5⋅a6⋅b6⋅a8
+296⋅i⋅V^4⋅f^2/(135⋅J^5)⋅a2⋅a3⋅b3⋅b4⋅b5⋅a6⋅b7⋅a8⋅b8
−26⋅V^3⋅f^3/(9⋅J^5)⋅b1⋅a2⋅a4⋅a5⋅b5⋅b6⋅b7
−20⋅V^5⋅f/(9⋅J^5) - 236⋅V^3⋅f^3/(135⋅J^5)⋅b1⋅b2⋅a3⋅b3⋅b4⋅a6⋅a7
+2⋅i⋅D47⋅f⋅a1⋅a2⋅a3⋅b3⋅a5⋅a6⋅a7
+122⋅i⋅V^4⋅f^2/(27⋅J^5)⋅a2⋅b2⋅a3⋅b3⋅a4⋅a5⋅b6⋅a7⋅a8
−2⋅V^3⋅f^3/J^5⋅a2⋅a3⋅b4⋅a5⋅b7⋅a8⋅a9
+2⋅D118⋅V + 26⋅i⋅V^4⋅f^2/(27⋅J^5)⋅a1⋅b1⋅b2⋅a3⋅b3⋅b4⋅a5⋅b5⋅a6
−2⋅i⋅D80⋅f⋅a1⋅a2⋅a3⋅a4⋅b5⋅a6⋅b7⋅a8⋅a9
+2⋅D109⋅V + 26⋅V^5⋅f/(27⋅J^5)⋅a1⋅b1⋅b2⋅a3⋅b3⋅a4⋅b5⋅a6⋅b7⋅a8⋅b8
−56⋅V^3⋅f^3/(135⋅J^5)⋅a2⋅b2⋅b3⋅a5⋅b5⋅b6⋅a7
+4⋅i⋅V^4⋅f^2/(9⋅J^5)⋅b1⋅a2⋅b3⋅a4⋅b4⋅a6⋅b7⋅b8⋅a9
−4⋅V^5⋅f/(9⋅J^5)⋅b1⋅b2⋅a3⋅b5⋅b6⋅a7⋅a8
+2⋅D10⋅V + 2⋅i⋅D86⋅f - 10⋅V^3⋅f^3/(9⋅J^5)⋅a1⋅a2⋅a4⋅a5⋅b6⋅a7⋅b7
−4⋅i⋅V^4⋅f^2/(15⋅J^5)⋅b2⋅a4⋅b4⋅a6⋅b6
−2⋅V^5⋅f/J^5⋅a2⋅b2⋅a3⋅b3⋅a4⋅b4⋅a5⋅b5⋅b6⋅a7⋅b7
+2⋅V^3⋅f^3/J^5⋅b2⋅a3⋅b4⋅b5⋅b6⋅a7⋅a9
+2⋅i⋅V^4⋅f^2/J^5⋅b2⋅a3⋅b4⋅a5⋅b6⋅a7⋅a8⋅a9⋅a10
−16⋅V^5⋅f/(9⋅J^5) - 4⋅V^3⋅f^3/(3⋅J^5)⋅b1⋅a2⋅b3⋅b5⋅a6⋅b6⋅a7
−2⋅i⋅V^4⋅f^2/J^5⋅b1⋅a2⋅b4⋅a5⋅b6⋅a7⋅b8⋅b9⋅a10
−28⋅V^3⋅f^3/(27⋅J^5)⋅b1⋅a3⋅b4⋅a5⋅b6⋅b7⋅a8
+28⋅i⋅V^2⋅f^4/(27⋅J^5)⋅a1⋅a3⋅b4⋅a5⋅a7
−4⋅i⋅V^4⋅f^2/(3⋅J^5)⋅b1⋅a2⋅a4⋅b4⋅a5⋅b5⋅b6⋅b7⋅a8
+56⋅V^3⋅f^3/(27⋅J^5)⋅b1⋅a2⋅a3⋅b4⋅b5⋅b6⋅a7
+2⋅D101⋅V + 2⋅i⋅D80⋅f⋅a1⋅b1⋅b3⋅b4⋅b5⋅a6⋅b7⋅a8⋅b8
−2⋅D109⋅V + 2⋅i⋅D118⋅f + 2⋅D123⋅V - 2⋅i⋅D128⋅f + 76⋅V^5⋅f/(27⋅J^5) + 22⋅V^3⋅f^3/(9⋅J^5)⋅a1⋅a2⋅b2⋅a3⋅b3⋅a4⋅a5
+4⋅i⋅V^4⋅f^2/(3⋅J^5)⋅b1⋅a2⋅b3⋅a4⋅b5⋅a7⋅b8⋅a9⋅b9
−224⋅i⋅V^4⋅f^2/(135⋅J^5)⋅b1⋅a2⋅b2⋅b3⋅b4⋅a5⋅a6⋅b6⋅a7
−2⋅V^3⋅f^3/(3⋅J^5)⋅b2⋅a3⋅b4⋅a5⋅b5⋅a6⋅b7
+56⋅V^3⋅f^3/(27⋅J^5)⋅b1⋅a2⋅b2⋅a3⋅b3⋅a5⋅b6
−2⋅V^3⋅f^3/J^5 - 2⋅V⋅f^5/J^5⋅b4⋅a5⋅b7
−314⋅i⋅V^4⋅f^2/(135⋅J^5) - 34⋅i⋅V^2⋅f^4/(45⋅J^5)⋅a1⋅a3⋅b3⋅a5⋅a6
+2⋅i⋅V^2⋅f^4/J^5⋅b3⋅a4⋅b7⋅a8⋅b8
+2⋅D22⋅V + 2⋅D48⋅V + 2⋅i⋅D62⋅f - 2⋅i⋅D70⋅f + 2⋅D78⋅V + 50⋅i⋅V^2⋅f^4/(27⋅J^5)⋅a1⋅a2⋅a3⋅b3⋅a5
+2⋅i⋅D10⋅f - 2⋅i⋅D6⋅f - 2⋅i⋅D8⋅f + 28⋅i⋅V^4⋅f^2/(45⋅J^5) - 58⋅i⋅V^2⋅f^4/(135⋅J^5)⋅b1⋅a2⋅b3⋅a5⋅b5
−2⋅V^3⋅f^3/J^5⋅b1⋅a2⋅b3⋅a4⋅a6⋅a7⋅a9
+2⋅i⋅D32⋅f⋅b1⋅a2⋅b5⋅a6⋅a7
−14⋅V^3⋅f^3/(9⋅J^5)⋅a1⋅a2⋅a4⋅b4⋅b5⋅a6⋅a8
+28⋅i⋅V^4⋅f^2/(9⋅J^5)⋅a2⋅b2⋅a3⋅b3⋅a4⋅b4⋅a5⋅a6⋅a7
+4⋅i⋅V^2⋅f^4/(9⋅J^5)⋅a2⋅a4⋅b4⋅a5⋅a7
+2⋅i⋅V^4⋅f^2/J^5⋅b2⋅a3⋅b4⋅a5⋅a6⋅b6⋅a7⋅a8⋅a9
−14⋅i⋅V^4⋅f^2/(9⋅J^5)⋅b1⋅a2⋅b3⋅a4⋅a5⋅b5⋅b7⋅a8⋅b9
−32⋅V^3⋅f^3/(9⋅J^5)⋅b1⋅a2⋅a4⋅b4⋅a5⋅a6⋅a8
+40⋅V^3⋅f^3/(27⋅J^5)⋅b1⋅a2⋅a3⋅b3⋅b7⋅a8⋅b8
+40⋅V^3⋅f^3/(27⋅J^5)⋅a2⋅a3⋅b4⋅b5⋅b6⋅a7⋅b7
+2⋅i⋅D18⋅f + 2⋅i⋅D20⋅f + 2⋅i⋅D22⋅f - 784⋅V^5⋅f/(135⋅J^5) - 442⋅V^3⋅f^3/(135⋅J^5)⋅b1⋅a2⋅a3⋅b3⋅a4⋅a5⋅a6
−14⋅V^3⋅f^3/(9⋅J^5)⋅a1⋅a2⋅a4⋅b4⋅a6⋅b6⋅a7
+2⋅i⋅V^4⋅f^2/J^5⋅a2⋅a3⋅b4⋅a5⋅b6⋅a7⋅b8⋅a9⋅a10
−224⋅V^3⋅f^3/(135⋅J^5)⋅a2⋅a3⋅a4⋅a5⋅b5⋅b6⋅a7
+2⋅i⋅D30⋅f⋅a1⋅a4⋅b5⋅a6⋅b7
+2⋅i⋅D109⋅f + 26⋅i⋅V^4⋅f^2/(27⋅J^5)⋅a1⋅b1⋅b2⋅a3⋅b3⋅a4⋅b5⋅b6⋅a7
+2⋅D110⋅V + 2⋅i⋅D127⋅f⋅b1⋅a2⋅b2⋅a3⋅a4⋅b4⋅a5
−4⋅V^3⋅f^3/(9⋅J^5)⋅b2⋅a3⋅b3⋅b5⋅b6⋅a7⋅a8
+2⋅D70⋅V + 224⋅V^5⋅f/(135⋅J^5) - 356⋅V^3⋅f^3/(45⋅J^5) - 8⋅V⋅f^5/(9⋅J^5)⋅a2⋅a4⋅a6
−2⋅D46⋅V - 256⋅i⋅V^4⋅f^2/(135⋅J^5)⋅a1⋅a2⋅b2⋅a3⋅a4⋅b4⋅b5⋅a6⋅a7
+2⋅i⋅V^2⋅f^4/J^5⋅b2⋅b3⋅b5⋅a6⋅a8
+8⋅V^3⋅f^3/(9⋅J^5)⋅b1⋅a2⋅b3⋅a4⋅a5⋅b6⋅b7
−2⋅i⋅D15⋅f - 2⋅V^3⋅f^3/(3⋅J^5)⋅a1⋅b1⋅a3⋅a4⋅b4⋅b5⋅b6
+2⋅i⋅D113⋅f - 2⋅D53⋅V - 2⋅D73⋅V + 4⋅i⋅V^4⋅f^2/(3⋅J^5)⋅a1⋅b1⋅a2⋅b2⋅b4
−34⋅i⋅V^4⋅f^2/(9⋅J^5)⋅b1⋅b2⋅a3⋅b3⋅a4⋅b4⋅a5⋅a6⋅b6
−14⋅V^5⋅f/(9⋅J^5)⋅b1⋅a2⋅b3⋅a4⋅a5⋅b5⋅a6⋅b6⋅b8⋅a9⋅b9
+2⋅i⋅V^4⋅f^2/(3⋅J^5)⋅b1⋅a2⋅b3⋅b4⋅b5⋅a6⋅b6⋅a7⋅a8
−14⋅i⋅V^4⋅f^2/(27⋅J^5) - 14⋅i⋅V^2⋅f^4/(27⋅J^5)⋅b1⋅a2⋅b2⋅a4⋅b7
+2⋅i⋅D38⋅f⋅a1⋅b1⋅a2⋅a3⋅b5⋅a6⋅b7
+4⋅i⋅V^4⋅f^2/(3⋅J^5)⋅a1⋅a2⋅b3⋅a4⋅b5⋅a6⋅a7⋅b7⋅a9
−424⋅V^3⋅f^3/(135⋅J^5)⋅b1⋅b2⋅b3⋅b4⋅b5⋅b6⋅a7
+80⋅V^3⋅f^3/(27⋅J^5)⋅a2⋅b2⋅b4⋅a5⋅b6⋅a7⋅b8
−2⋅i⋅V^4⋅f^2/J^5⋅b2⋅b3⋅a4⋅b4⋅a5⋅b5⋅a6⋅b6⋅a7
−2⋅i⋅D99⋅f⋅a1⋅a2⋅b3⋅a4⋅a5⋅a6⋅a8
−2⋅i⋅D30⋅f + 2⋅D45⋅V - 2⋅D47⋅V - 2⋅D49⋅V + 2⋅D79⋅V⋅a1⋅a3⋅b5⋅a6⋅b6
−2⋅V^3⋅f^3/J^5⋅b1⋅a2⋅a4⋅a5⋅b6⋅a7⋅a9
−2⋅D119⋅V + 2⋅i⋅D122⋅f - 2⋅D54⋅V + 2⋅i⋅D66⋅f - 2⋅i⋅D67⋅f - 2⋅i⋅D69⋅f⋅a1⋅b1⋅b2⋅b4⋅b5
−148⋅V^3⋅f^3/(27⋅J^5) - 2⋅V⋅f^5/J^5⋅b1⋅b2⋅a7
+4⋅V^3⋅f^3/(9⋅J^5)⋅a2⋅a4⋅b4⋅a5⋅b6⋅a7⋅a8
+80⋅V^3⋅f^3/(27⋅J^5)⋅a2⋅b2⋅b4⋅b5⋅b6⋅a7⋅a8
+2⋅D115⋅V - 8⋅i⋅V^4⋅f^2/(27⋅J^5) + 122⋅i⋅V^2⋅f^4/(27⋅J^5)⋅b2⋅b3⋅b4⋅a5⋅a6
−14⋅i⋅V^4⋅f^2/(9⋅J^5)⋅a2⋅b2⋅a3⋅b3⋅b4⋅b5⋅a6⋅b6⋅a7
+2⋅D53⋅V + 10⋅i⋅V^4⋅f^2/(9⋅J^5)⋅a1⋅b1⋅a2⋅a3⋅b3⋅b4⋅a5⋅b5⋅b6
−406⋅i⋅V^4⋅f^2/(135⋅J^5)⋅b1⋅b2⋅b3⋅a4⋅b4⋅b5⋅a6⋅b6⋅b7
−20⋅i⋅V^4⋅f^2/(9⋅J^5)⋅b1⋅a2⋅a4⋅a5⋅b5⋅a6⋅a7⋅a8⋅b8
−424⋅i⋅V^4⋅f^2/(135⋅J^5)⋅b1⋅b2⋅b3⋅a4⋅a5⋅a6⋅b7⋅a8⋅b8
−94⋅V^3⋅f^3/(27⋅J^5)⋅a2⋅b2⋅a3⋅a4⋅b6⋅a7⋅a8
+2⋅D12⋅V⋅a1⋅b1⋅a3⋅b5⋅a7
−2⋅i⋅V^4⋅f^2/J^5⋅b3⋅a4⋅b5⋅a6⋅b7⋅a8⋅b9⋅a10⋅b10
+2⋅D67⋅V⋅a1⋅b1⋅b2⋅b3⋅b6⋅a7⋅b7
+2⋅V^5⋅f/J^5 + 8⋅V^3⋅f^3/(3⋅J^5)⋅b1⋅a2⋅b3⋅a4⋅a6⋅b6⋅b8
+2⋅D119⋅V⋅a1⋅a2⋅b2⋅a3⋅b3⋅b4⋅a5⋅b5⋅a6
−2⋅i⋅D101⋅f - 2⋅i⋅D103⋅f + 2⋅i⋅D105⋅f⋅a1⋅a2⋅a3⋅a5⋅b5⋅a6⋅a7
+4⋅V^3⋅f^3/(9⋅J^5)⋅a1⋅a2⋅b3⋅a4⋅b4⋅a6⋅a8
+2⋅D65⋅V + 14⋅V^3⋅f^3/(9⋅J^5)⋅a1⋅b1⋅a3⋅b3⋅b6⋅a7⋅b7
+88⋅V^3⋅f^3/(27⋅J^5)⋅a2⋅b4⋅b6
+212⋅i⋅V^4⋅f^2/(45⋅J^5) - 22⋅i⋅V^2⋅f^4/(27⋅J^5)⋅a2⋅a3⋅a5⋅a6⋅b6
−2⋅i⋅V^4⋅f^2/J^5⋅b1⋅b2⋅b3⋅a4⋅b5⋅a6⋅a8⋅b8⋅a9
+104⋅V^3⋅f^3/(135⋅J^5)⋅b1⋅b2⋅a3⋅a5⋅b5⋅a6⋅b6
−2⋅i⋅D62⋅f + 160⋅i⋅V^4⋅f^2/(27⋅J^5) - 14⋅i⋅V^2⋅f^4/(27⋅J^5)⋅b1⋅b2⋅a3⋅b3⋅a5
−14⋅i⋅V^4⋅f^2/(27⋅J^5)⋅b1⋅a2⋅b2⋅b3⋅a4⋅a5⋅a6⋅a7⋅a8
−94⋅V^3⋅f^3/(27⋅J^5)⋅a2⋅b2⋅a3⋅a4⋅a6⋅b6⋅a7
+2⋅i⋅D10⋅f - 2⋅D18⋅V - 2⋅D20⋅V - 2⋅D22⋅V + 2⋅D3⋅V + 2⋅i⋅D96⋅f - 494⋅i⋅V^4⋅f^2/(135⋅J^5) + 52⋅i⋅V^2⋅f^4/(15⋅J^5)⋅a1⋅b2⋅a4⋅a5⋅a6
+2⋅i⋅D25⋅f⋅b1⋅b2⋅b3⋅a4⋅b5
+40⋅V^3⋅f^3/(27⋅J^5)⋅b1⋅a2⋅a3⋅b3⋅a4⋅b4⋅b7
−2⋅D12⋅V + 2⋅D14⋅V + 2⋅D16⋅V⋅a1⋅b1⋅a3⋅a6⋅b6
+14⋅i⋅V^4⋅f^2/(27⋅J^5)⋅a1⋅a4⋅b6⋅a7⋅a8
+2⋅i⋅D107⋅f - 2⋅D132⋅V - 2⋅i⋅D28⋅f + 2⋅D53⋅V + 2⋅D55⋅V - 2⋅D57⋅V - 2⋅i⋅D68⋅f + 14⋅i⋅V^4⋅f^2/(27⋅J^5) - 20⋅i⋅V^2⋅f^4/(9⋅J^5)⋅a1⋅b1⋅a2⋅b3⋅b5
+2⋅V^5⋅f/J^5 + 406⋅V^3⋅f^3/(135⋅J^5)⋅b1⋅a2⋅b2⋅a3⋅a5⋅a6⋅a7
+2⋅V^5⋅f/J^5⋅a1⋅a2⋅b3⋅a4⋅b5⋅a6⋅b7⋅a8⋅b9⋅a10⋅a11
+2⋅D105⋅V⋅a1⋅b1⋅a3⋅a4⋅b4⋅a5⋅b5⋅a6⋅b6
−40⋅V^3⋅f^3/(27⋅J^5)⋅a2⋅a3⋅b4⋅a5⋅a6⋅a7⋅b7
+2⋅D121⋅V⋅a1⋅a2⋅b6⋅a7⋅b7
−2⋅D22⋅V - 2⋅D48⋅V + 8⋅i⋅V^4⋅f^2/(27⋅J^5)⋅a1⋅a2⋅a3⋅b3⋅a4⋅b4⋅a5⋅a6⋅b6
+2⋅D111⋅V - 2⋅i⋅D133⋅f - 2⋅i⋅D22⋅f - 2⋅D70⋅V + 40⋅V^3⋅f^3/(9⋅J^5)⋅a1⋅a2⋅a3⋅b3⋅a4⋅b4⋅a5
+4⋅i⋅V^4⋅f^2/(9⋅J^5)⋅b1⋅a2⋅b3⋅a5⋅b5⋅a6⋅b7⋅a8⋅b9
−2⋅V^5⋅f/J^5⋅b1⋅a2⋅b3⋅a4⋅b5⋅b6⋅b7⋅a8⋅b9⋅a10⋅a11
−2⋅D72⋅V⋅b2⋅a3⋅b4⋅a5⋅a7
−2⋅i⋅V^4⋅f^2/(3⋅J^5)⋅b1⋅a2⋅a3⋅a4⋅b5⋅a7⋅b7⋅a8⋅a9
−28⋅i⋅V^4⋅f^2/(27⋅J^5)⋅b1⋅a2⋅b2⋅a3⋅b3⋅a5⋅b5⋅a6⋅b7
+2⋅i⋅D67⋅f⋅a1⋅b1⋅b2⋅b3⋅b6
+2⋅i⋅V^4⋅f^2/J^5 + 2⋅i⋅V^2⋅f^4/J^5⋅b4⋅b5⋅b6⋅a7⋅a8
−2⋅V^3⋅f^3/(3⋅J^5)⋅b2⋅a3⋅b4⋅a5⋅b5⋅a7⋅b8
+40⋅i⋅V^4⋅f^2/(27⋅J^5)⋅b1⋅a2⋅a3⋅b3⋅a5⋅a6⋅b7⋅a8⋅a9
−8⋅i⋅V^2⋅f^4/(3⋅J^5)⋅a2⋅a3⋅a5⋅b5⋅a7
−40⋅i⋅V^4⋅f^2/(27⋅J^5)⋅a2⋅b2⋅b3⋅b4⋅b5⋅a6⋅b7⋅a8⋅a9
+2⋅V^5⋅f/(3⋅J^5)⋅b1⋅a2⋅b3⋅a4⋅b5⋅a6⋅b6⋅a7⋅b7⋅b8⋅a9
+74⋅i⋅V^4⋅f^2/(27⋅J^5)⋅b1⋅a2⋅b2⋅b3⋅a4⋅b4⋅a5⋅b5⋅a6
+40⋅V^5⋅f/(27⋅J^5) + 14⋅V^3⋅f^3/(9⋅J^5)⋅a3⋅b3⋅a4⋅b4⋅b6⋅a7⋅b7
+2⋅D19⋅V - 2⋅D45⋅V + 2⋅D47⋅V + 2⋅D49⋅V⋅a1⋅a2⋅b2⋅b3⋅a4⋅b4⋅a5⋅a6⋅b6
−34⋅i⋅V^4⋅f^2/(135⋅J^5)⋅a1⋅a4⋅b4⋅a6⋅a7
+2⋅D42⋅V⋅a1⋅a2⋅a4⋅b4⋅a5⋅b5⋅b6⋅a7⋅b7
−406⋅V^3⋅f^3/(135⋅J^5)⋅b1⋅a2⋅a3⋅a4⋅b4⋅b5⋅b7
−2⋅i⋅D10⋅f + 2⋅i⋅D6⋅f + 2⋅i⋅D8⋅f + 14⋅i⋅V^2⋅f^4/(27⋅J^5)⋅a1⋅a2⋅a3⋅a5⋅b5
+2⋅D33⋅V + 2⋅i⋅D48⋅f - 2⋅D62⋅V - 10⋅V^3⋅f^3/(9⋅J^5)⋅a1⋅b2⋅a3⋅b3⋅b5⋅a6⋅b6
+14⋅V^3⋅f^3/(27⋅J^5)⋅b1⋅a2⋅b2⋅a4⋅a5⋅a6⋅a8
−2⋅i⋅D118⋅f + 2⋅i⋅D128⋅f + 2⋅D65⋅V - 4⋅V^5⋅f/(15⋅J^5) - 188⋅V^3⋅f^3/(135⋅J^5)⋅a1⋅a2⋅b2⋅a3⋅b3⋅b4⋅b5
+14⋅i⋅V^4⋅f^2/(27⋅J^5)⋅b1⋅a2⋅b2⋅b3⋅a4⋅b5⋅a6⋅b6⋅a7
−14⋅i⋅V^4⋅f^2/(27⋅J^5)⋅b1⋅b4⋅b5⋅a6⋅a8
−4⋅i⋅V^4⋅f^2/(3⋅J^5)⋅b1⋅a2⋅a5⋅b5⋅b6⋅a7⋅b8⋅a9⋅b9
−2⋅V^3⋅f^3/J^5⋅a1⋅a2⋅b4⋅a5⋅a7⋅b7⋅a8
−406⋅V^3⋅f^3/(135⋅J^5)⋅b1⋅b2⋅a4⋅a5⋅b5⋅a6⋅b7
−4⋅V^5⋅f/(9⋅J^5)⋅b1⋅a2⋅b3⋅b6⋅b7⋅a8⋅a9
−598⋅V^3⋅f^3/(135⋅J^5)⋅b1⋅b2⋅a3⋅a4⋅a5⋅a6⋅a7
+2⋅i⋅V^4⋅f^2/(3⋅J^5)⋅b2⋅a3⋅a4⋅b4⋅b5⋅a6⋅b6⋅a7⋅b7
−2⋅D66⋅V + 2⋅i⋅D89⋅f⋅b1⋅a4⋅a6
−2⋅i⋅D13⋅f - 2⋅i⋅D46⋅f + 2⋅D65⋅V - 2⋅D68⋅V + 2⋅D70⋅V - 10⋅V^3⋅f^3/(9⋅J^5)⋅a1⋅b1⋅a3⋅a4⋅a5⋅a6⋅b6
−2⋅i⋅V^4⋅f^2/J^5⋅b1⋅a2⋅b4⋅a5⋅b6⋅a7⋅a8⋅b8⋅b9
+2⋅V^5⋅f/J^5 + 4⋅V^3⋅f^3/J^5⋅b1⋅a2⋅b3⋅a4⋅a7⋅b7⋅b8
−2⋅D49⋅V⋅a1⋅a2⋅b2⋅a4⋅b5⋅a6⋅b7⋅a8⋅b8
−52⋅V^3⋅f^3/(27⋅J^5)⋅b1⋅a2⋅b2⋅b3⋅a6⋅a7⋅b7
+2⋅i⋅D102⋅f + 8⋅V^3⋅f^3/(45⋅J^5)⋅a1⋅b2⋅b3⋅a5⋅b5⋅a6⋅b6
−2⋅V^3⋅f^3/(3⋅J^5)⋅b2⋅b3⋅b4⋅a5⋅b5⋅a7⋅a8
+2⋅i⋅D75⋅f + 2⋅D79⋅V⋅b1⋅a2⋅b2⋅a3⋅a5
−2⋅D31⋅V + 34⋅V^5⋅f/(27⋅J^5)⋅a1⋅b3⋅a4⋅b4⋅a5⋅a6⋅a7
−2⋅i⋅V^4⋅f^2/J^5⋅b1⋅a2⋅b3⋅a4⋅b6⋅a7⋅b8⋅b9⋅a10
+2⋅i⋅D58⋅f - 2⋅D7⋅V + 2⋅i⋅D77⋅f⋅a1⋅b1⋅a2⋅b2⋅a3⋅b4⋅a6
+2⋅D117⋅V - 2⋅i⋅D120⋅f - 4⋅V^3⋅f^3/J^5 - 2⋅V⋅f^5/J^5⋅a1⋅b1⋅b6
−2⋅i⋅D54⋅f - 2⋅i⋅D72⋅f⋅a1⋅b1⋅a2⋅b2⋅a4⋅a5⋅b6
−2⋅i⋅D45⋅f⋅a1⋅b1⋅b2⋅b3⋅b5⋅b6⋅a7
−2⋅i⋅D33⋅f + 2⋅i⋅V^2⋅f^4/J^5⋅a1⋅b1⋅b5⋅b6⋅a7
−46⋅i⋅V^4⋅f^2/(27⋅J^5)⋅a2⋅b4⋅b5⋅b6⋅a7
+2⋅i⋅D93⋅f⋅a1⋅b1⋅a2⋅a3⋅b4⋅a5⋅b6⋅a7⋅b8
−2⋅i⋅D21⋅f + 2⋅D34⋅V⋅b1⋅a2⋅b2⋅b3⋅a4⋅a5⋅a6
−112⋅V^5⋅f/(45⋅J^5) - 178⋅V^3⋅f^3/(135⋅J^5)⋅b1⋅a3⋅a4⋅b4⋅a5⋅b5⋅b6
+2⋅i⋅D124⋅f - 2⋅D13⋅V + 2⋅D15⋅V - 2⋅D17⋅V + 2⋅i⋅D24⋅f + 2⋅D41⋅V - 2⋅D51⋅V - 2⋅i⋅D6⋅f + 2⋅i⋅D68⋅f - 14⋅i⋅V^4⋅f^2/(3⋅J^5) - 70⋅i⋅V^2⋅f^4/(9⋅J^5)⋅a1⋅a2⋅b3⋅a4⋅a6
−40⋅i⋅V^4⋅f^2/(27⋅J^5)⋅a2⋅b2⋅b3⋅b4⋅a5⋅b5⋅b6⋅a7⋅a8
−2⋅i⋅D7⋅f⋅b1⋅a2⋅a4⋅a5⋅b5
−2⋅D39⋅V + 2⋅i⋅D81⋅f - 16⋅i⋅V^4⋅f^2/(27⋅J^5)⋅a1⋅b2⋅b3⋅a4⋅b5⋅a6⋅b7⋅a8⋅b8
+20⋅i⋅V^4⋅f^2/(9⋅J^5)⋅b1⋅a2⋅b3⋅a4⋅b4⋅b5⋅a7⋅a8⋅b8
−2⋅i⋅D111⋅f + 4⋅i⋅V^4⋅f^2/(5⋅J^5) + 592⋅i⋅V^2⋅f^4/(135⋅J^5)⋅b1⋅b2⋅a4⋅b4⋅a5
−4⋅V^5⋅f/(3⋅J^5)⋅b1⋅a2⋅a4⋅b4⋅a5⋅b5⋅b6⋅a7⋅b8⋅a9⋅b9
+4⋅i⋅V^4⋅f^2/(9⋅J^5)⋅b2⋅a3⋅b3⋅a5⋅b6⋅a7⋅b8⋅a9⋅b9
+4⋅i⋅V^4⋅f^2/J^5 + 80⋅i⋅V^2⋅f^4/(27⋅J^5)⋅a2⋅b2⋅b6⋅a7⋅b7
−28⋅V^3⋅f^3/(27⋅J^5)⋅b1⋅a3⋅b4⋅b5⋅a6⋅b6⋅a7
−28⋅i⋅V^4⋅f^2/(9⋅J^5)⋅b1⋅a2⋅a4⋅b4⋅b6⋅a7⋅b8⋅a9⋅b9
−28⋅V^3⋅f^3/(27⋅J^5)⋅b1⋅a3⋅b3⋅a4⋅a6⋅b6⋅b7
−16⋅i⋅V^4⋅f^2/(9⋅J^5) - 122⋅i⋅V^2⋅f^4/(27⋅J^5)⋅b2⋅a3⋅b3⋅a4⋅b6
−2⋅i⋅V^4⋅f^2/(3⋅J^5)⋅a1⋅b1⋅a2⋅a3⋅b4⋅a6⋅b6⋅a7⋅a8
+28⋅V^3⋅f^3/(27⋅J^5)⋅a1⋅a2⋅b2⋅a3⋅a5⋅b5⋅a6
−2⋅D100⋅V + 2⋅D36⋅V + 2⋅i⋅D95⋅f⋅a1⋅b1⋅a2⋅b2⋅a3⋅b4⋅b5⋅a6⋅b6
+2⋅D72⋅V⋅a1⋅b1⋅a2⋅a3⋅b4⋅a5⋅b7⋅a8⋅b8
−2⋅i⋅D93⋅f⋅a1⋅b1⋅a2⋅a3⋅b4⋅a5⋅a6⋅a7⋅a8
+2⋅i⋅D46⋅f + 2⋅i⋅D48⋅f + 2⋅i⋅D50⋅f + 2⋅i⋅D98⋅f - 148⋅V^3⋅f^3/(27⋅J^5)⋅a1⋅a2⋅a3⋅a4⋅b5⋅a6⋅b7
−424⋅V^3⋅f^3/(135⋅J^5)⋅b1⋅b2⋅b3⋅b4⋅b5⋅a6⋅b7
+14⋅V^3⋅f^3/(9⋅J^5)⋅a2⋅b2⋅a3⋅b3⋅b4⋅a5⋅b7
−14⋅V^3⋅f^3/(9⋅J^5)⋅a1⋅a2⋅b3⋅a4⋅a5⋅b5⋅a8
−4⋅V^3⋅f^3/(3⋅J^5)⋅b2⋅a3⋅a4⋅a5⋅a6⋅b6⋅a8
−2⋅D101⋅V - 2⋅D103⋅V + 2⋅D105⋅V - 2⋅D121⋅V - 2⋅i⋅D32⋅f⋅a1⋅b1⋅a5⋅a6⋅b6
+2⋅D111⋅V + 2⋅i⋅D128⋅f - 110⋅V^5⋅f/(27⋅J^5) - 14⋅V^3⋅f^3/(9⋅J^5)⋅b1⋅a2⋅b2⋅a3⋅b3⋅b4⋅a5
+2⋅V^3⋅f^3/J^5⋅b2⋅a3⋅a6⋅b6⋅b7⋅a8⋅b8
−2⋅D82⋅V - 2⋅D94⋅V⋅a1⋅b1⋅a2⋅b2⋅a3⋅b3⋅a4⋅b4⋅a5⋅a6⋅b6
+2⋅i⋅D16⋅f⋅a1⋅a2⋅a3⋅a4⋅b4⋅b5⋅b6
−2⋅D21⋅V - 2⋅D49⋅V⋅a1⋅b1⋅a3⋅b3⋅a4⋅b4⋅a5⋅a6⋅b6
+14⋅i⋅V^2⋅f^4/(9⋅J^5)⋅b2⋅a3⋅a4⋅b4⋅b7
+2⋅V^3⋅f^3/J^5⋅b1⋅a2⋅b3⋅b4⋅b5⋅a6⋅a9
+2⋅i⋅V^4⋅f^2/J^5 + 2⋅i⋅V^2⋅f^4/J^5⋅a5⋅b5⋅b6⋅a7⋅b7
−4⋅V^3⋅f^3/(9⋅J^5)⋅b1⋅b2⋅a3⋅a4⋅b4⋅a5⋅b7
+454⋅V^3⋅f^3/(135⋅J^5)⋅b1⋅b2⋅a3⋅b4⋅b5⋅a6⋅a7
−40⋅i⋅V^4⋅f^2/(27⋅J^5)⋅b1⋅a2⋅a3⋅b3⋅a6⋅b6⋅b7⋅a8⋅b8
+2⋅i⋅D34⋅f⋅a1⋅b3⋅a4⋅a5⋅b6
+2⋅i⋅D124⋅f - 2⋅D60⋅V⋅a1⋅b1⋅b3⋅a4⋅b7
+2⋅D48⋅V + 4⋅i⋅V^4⋅f^2/(9⋅J^5)⋅a1⋅b1⋅b2⋅a4⋅b5⋅a6⋅b7⋅a8⋅b8
+4⋅i⋅V^4⋅f^2/(15⋅J^5) - 352⋅i⋅V^2⋅f^4/(135⋅J^5)⋅a2⋅a3⋅a4⋅a5⋅b6
+16⋅i⋅V^4⋅f^2/(9⋅J^5)⋅b1⋅a2⋅b3⋅a4⋅b4⋅a5⋅b7⋅a8⋅b8
−14⋅i⋅V^4⋅f^2/(9⋅J^5)⋅b1⋅a2⋅a4⋅b4⋅a5⋅b5⋅b7⋅a8⋅b8
−2⋅i⋅D39⋅f - 2⋅i⋅D98⋅f + 70⋅V^3⋅f^3/(27⋅J^5)⋅a1⋅b2⋅b3⋅a4⋅b5⋅a6⋅b7
−2⋅V^5⋅f/(3⋅J^5) + 538⋅V^3⋅f^3/(135⋅J^5)⋅b1⋅b2⋅a3⋅a4⋅a5⋅b5⋅b6
−34⋅i⋅V^4⋅f^2/(27⋅J^5) + 32⋅i⋅V^2⋅f^4/(27⋅J^5)⋅a1⋅a2⋅b2⋅a5⋅a6
+2⋅i⋅V^4⋅f^2/J^5⋅b1⋅a2⋅b4⋅a5⋅b6⋅a7⋅a8⋅a9⋅a10
−74⋅i⋅V^4⋅f^2/(27⋅J^5) - 28⋅i⋅V^2⋅f^4/(27⋅J^5)⋅b1⋅a3⋅b6⋅a7⋅b7
−2⋅i⋅D12⋅f⋅a1⋅b1⋅a3⋅a4⋅b4⋅b5⋅a7
−316⋅i⋅V^4⋅f^2/(135⋅J^5) - 2⋅i⋅V^2⋅f^4/(9⋅J^5)⋅a3⋅b4⋅b5⋅a6⋅b6
−2⋅D116⋅V + 2⋅i⋅D19⋅f⋅a1⋅b1⋅a3⋅b3⋅a4⋅b5⋅a6
+2⋅D47⋅V⋅a2⋅a4⋅b5⋅a6⋅b6
−4⋅i⋅V^4⋅f^2/(3⋅J^5)⋅b1⋅b2⋅b3⋅a4⋅b5⋅a6⋅a7⋅b7⋅a9
−4⋅i⋅V^4⋅f^2/(3⋅J^5)⋅b1⋅a2⋅b3⋅a4⋅a6⋅b6⋅b7⋅b8⋅a9
+4⋅i⋅V^2⋅f^4/J^5⋅b3⋅a4⋅a6⋅b6⋅b7
−2⋅D101⋅V⋅a1⋅a2⋅a3⋅b3⋅b4⋅a5⋅b5⋅a6⋅b6
+712⋅i⋅V^4⋅f^2/(135⋅J^5)⋅b1⋅a2⋅b2⋅b3⋅a4⋅b4⋅b5⋅a6⋅a7
+2⋅D127⋅V - 2⋅D45⋅V + 2⋅D47⋅V + 2⋅D49⋅V⋅a1⋅a2⋅b2⋅a3⋅a4⋅b4⋅b5⋅a6⋅b6
−2⋅i⋅D110⋅f - 2⋅i⋅D25⋅f + 2⋅D40⋅V + 2⋅i⋅D43⋅f + 2⋅i⋅D61⋅f⋅a1⋅b2⋅b3⋅a4⋅a5
+14⋅V^3⋅f^3/(9⋅J^5)⋅a2⋅b2⋅a3⋅b3⋅b5⋅b6⋅a7
+14⋅i⋅V^4⋅f^2/(27⋅J^5)⋅b1⋅a3⋅b3⋅a4⋅b5⋅a6⋅b8⋅a9⋅b9
−2⋅i⋅D101⋅f⋅b1⋅a2⋅a4⋅a5⋅b5⋅a6⋅b6
+224⋅i⋅V^4⋅f^2/(135⋅J^5) - 428⋅i⋅V^2⋅f^4/(135⋅J^5)⋅b1⋅b2⋅a4⋅b5⋅a6
−2⋅i⋅V^2⋅f^4/J^5⋅b2⋅a3⋅a4⋅a5⋅a8
−4⋅V^5⋅f/(3⋅J^5)⋅b1⋅a2⋅b3⋅b4⋅a5⋅b5⋅a6⋅b6⋅b7⋅a8⋅a9
+2⋅i⋅D86⋅f⋅a1⋅b1⋅b4⋅a5⋅b6⋅a7⋅b8
−424⋅V^3⋅f^3/(135⋅J^5)⋅b1⋅a2⋅a3⋅a4⋅a5⋅a6⋅b7
+2⋅D56⋅V⋅a1⋅b1⋅a2⋅a3⋅a4⋅b4⋅b6⋅a7⋅b7
−214⋅V^3⋅f^3/(135⋅J^5)⋅b1⋅a2⋅a3⋅b4⋅a5⋅a6⋅a7
+40⋅V^3⋅f^3/(27⋅J^5)⋅b1⋅a2⋅a3⋅b3⋅b5⋅a6⋅b8
+34⋅i⋅V^4⋅f^2/(135⋅J^5)⋅b1⋅a3⋅b3⋅b6⋅a7
−74⋅V^3⋅f^3/(27⋅J^5)⋅b1⋅a2⋅b2⋅a3⋅b5⋅b6⋅a7
−28⋅V^3⋅f^3/(27⋅J^5)⋅b1⋅a3⋅b4⋅a5⋅b7⋅a8⋅b8
−14⋅i⋅V^2⋅f^4/(9⋅J^5)⋅a2⋅a3⋅a4⋅b4⋅a7
+8⋅V^5⋅f/(27⋅J^5) - 34⋅V^3⋅f^3/(135⋅J^5)⋅a1⋅a3⋅a4⋅a5⋅b5⋅a6⋅b6
+296⋅V^3⋅f^3/(135⋅J^5)⋅a2⋅a3⋅b3⋅a4⋅a5⋅b6⋅a7
+2⋅D56⋅V⋅a1⋅b1⋅a2⋅a3⋅a4⋅b4⋅a5⋅b5⋅b6
−2⋅D17⋅V⋅a1⋅b1⋅a2⋅b2⋅a3⋅a4⋅a5⋅b5⋅a7
−92⋅V^3⋅f^3/(27⋅J^5)⋅b1⋅a2⋅b2⋅a3⋅a4⋅b4⋅b6
+2⋅D31⋅V - 26⋅V^5⋅f/(27⋅J^5)⋅a1⋅b3⋅b5⋅a6⋅b7⋅a8⋅b8
−28⋅V^3⋅f^3/(9⋅J^5)⋅b2⋅b3⋅b4⋅b5⋅b6⋅a7⋅b7
+2⋅i⋅D51⋅f⋅a1⋅b1⋅b3⋅b4⋅b6⋅a7⋅a8
+4⋅i⋅V^4⋅f^2/(15⋅J^5)⋅b1⋅a2⋅b2⋅a4⋅a5⋅b5⋅b7⋅a8⋅b8
−80⋅i⋅V^4⋅f^2/(27⋅J^5)⋅a2⋅b2⋅b4⋅a5⋅b6⋅a7⋅b8⋅a9⋅b9
+34⋅V^5⋅f/(135⋅J^5) + 196⋅V^3⋅f^3/(135⋅J^5)⋅b1⋅a3⋅b3⋅a4⋅b4⋅b5⋅a6
−28⋅V^3⋅f^3/(27⋅J^5)⋅b1⋅a3⋅a5⋅b5⋅b6⋅a7⋅b7
+8⋅i⋅V^2⋅f^4/(9⋅J^5)⋅b2⋅a3⋅a4⋅b5⋅b6
−2⋅D20⋅V + 2⋅i⋅D35⋅f - 242⋅i⋅V^4⋅f^2/(45⋅J^5) - 248⋅i⋅V^2⋅f^4/(135⋅J^5)⋅b1⋅b3⋅a4⋅b4⋅a6
+34⋅V^3⋅f^3/(135⋅J^5)⋅b1⋅a3⋅b3⋅a5⋅b5⋅b6⋅a7
−2⋅V^3⋅f^3/J^5⋅a1⋅a2⋅a5⋅b5⋅a6⋅b6⋅a7
−2⋅D11⋅V + 2⋅i⋅D56⋅f⋅a1⋅b1⋅a2⋅b2⋅a3⋅a5⋅b5
−2⋅i⋅V^4⋅f^2/J^5⋅b2⋅a3⋅b4⋅a5⋅b6⋅b7⋅a8⋅b8⋅a9
−2⋅V^3⋅f^3/J^5⋅a1⋅b1⋅a2⋅a3⋅b6⋅a7⋅a8
−2⋅D2⋅V + 2⋅i⋅D9⋅f⋅a1⋅b2⋅b3⋅a5⋅a6
−2⋅i⋅V^4⋅f^2/J^5⋅b1⋅a2⋅b3⋅a4⋅b6⋅a7⋅b9⋅a10⋅b10
−14⋅V^5⋅f/(9⋅J^5)⋅b1⋅a2⋅a4⋅b4⋅b5⋅a6⋅b7⋅a8⋅b9⋅a10⋅b10
−2⋅i⋅D101⋅f - 2⋅i⋅D45⋅f + 2⋅i⋅D47⋅f + 2⋅i⋅D49⋅f⋅a1⋅b1⋅a3⋅b4⋅b5⋅a6⋅a7
+14⋅i⋅V^4⋅f^2/(27⋅J^5)⋅b1⋅a2⋅b2⋅a4⋅b5⋅a6⋅b8⋅a9⋅b9
−14⋅i⋅V^4⋅f^2/(27⋅J^5) + 2⋅i⋅V^2⋅f^4/J^5⋅b2⋅b3⋅a4⋅a5⋅b6
−2⋅i⋅D14⋅f⋅a1⋅a2⋅a3⋅a4⋅b4⋅a6⋅a7
−2⋅D28⋅V + 28⋅V^5⋅f/(27⋅J^5) + 40⋅V^3⋅f^3/(9⋅J^5) + 4⋅V⋅f^5/(27⋅J^5)⋅b2⋅a4⋅b4
−34⋅i⋅V^4⋅f^2/(135⋅J^5)⋅b1⋅a2⋅b2⋅a4⋅b4⋅a6⋅b7⋅a8⋅b8
+2⋅V^3⋅f^3/(3⋅J^5)⋅a3⋅a4⋅b4⋅a5⋅b5⋅a6⋅a7
+2⋅D12⋅V - 2⋅D14⋅V - 2⋅D16⋅V⋅a1⋅a2⋅b3⋅a4⋅a5⋅b5⋅b7⋅a8⋅b8
−2⋅i⋅D21⋅f + 2⋅i⋅D5⋅f + 2⋅D97⋅V⋅a1⋅a2⋅b2⋅b3⋅b4⋅a5⋅a6
−2⋅D60⋅V + 2⋅i⋅D81⋅f - 10⋅i⋅V^4⋅f^2/(3⋅J^5)⋅a1⋅a2⋅b3⋅a4⋅b5⋅b6⋅b7⋅a8⋅b8
+2⋅i⋅D48⋅f + 46⋅V^5⋅f/(27⋅J^5) + 154⋅V^3⋅f^3/(135⋅J^5)⋅b1⋅a2⋅a3⋅b3⋅b5⋅a6⋅b6
+2⋅D66⋅V - 2⋅D67⋅V - 2⋅D69⋅V⋅a2⋅a4⋅b5
+2⋅i⋅D10⋅f + 2⋅D41⋅V - 2⋅i⋅D6⋅f - 2⋅i⋅D8⋅f + 2⋅i⋅V^4⋅f^2/J^5 + 2⋅i⋅V^2⋅f^4/J^5⋅a1⋅b1⋅a4⋅b4⋅b6
+2⋅i⋅D12⋅f⋅a1⋅b1⋅b3⋅a4⋅b4⋅b5⋅b7
+4⋅i⋅V^2⋅f^4/(3⋅J^5)⋅b2⋅a3⋅a4⋅a6⋅a7
+2⋅i⋅D31⋅f - 26⋅i⋅V^4⋅f^2/(27⋅J^5)⋅a1⋅b3⋅b5⋅a6⋅b7
−2⋅V^5⋅f/J^5⋅b1⋅a2⋅b3⋅a4⋅b5⋅a6⋅b7⋅a8⋅b9⋅b10⋅a11
+2⋅D35⋅V - 26⋅V^5⋅f/(27⋅J^5)⋅a1⋅b3⋅a4⋅b4⋅b6⋅a7⋅b7
+2⋅D110⋅V + 2⋅i⋅D127⋅f + 2⋅i⋅D19⋅f - 2⋅D69⋅V + 2⋅D75⋅V⋅a1⋅a2⋅b2⋅b3⋅a4⋅b4⋅a5
+80⋅V^3⋅f^3/(27⋅J^5)⋅a2⋅b2⋅b3⋅a4⋅a6⋅b6⋅b7
−2⋅i⋅D19⋅f - 2⋅i⋅D2⋅f + 2⋅i⋅D21⋅f - 2⋅i⋅D23⋅f - 2⋅D7⋅V + 2⋅D84⋅V - 2⋅D97⋅V⋅a1⋅a2⋅a3⋅b3⋅b4⋅a5⋅b5
+4⋅V^3⋅f^3/(9⋅J^5)⋅b2⋅b5⋅a7
−4⋅V^3⋅f^3/(9⋅J^5)⋅b2⋅a4⋅b4⋅b5⋅b6⋅a7⋅a8
−2⋅V^3⋅f^3/J^5⋅b2⋅a3⋅b5⋅a6⋅a7⋅a8⋅a9
−14⋅i⋅V^4⋅f^2/(9⋅J^5)⋅b1⋅a2⋅b3⋅a4⋅a5⋅b5⋅a6⋅b6⋅b8
+28⋅i⋅V^4⋅f^2/(9⋅J^5) + 28⋅i⋅V^2⋅f^4/(9⋅J^5)⋅b1⋅a2⋅a4⋅b4⋅b7
+2⋅V^3⋅f^3/J^5⋅b1⋅a2⋅a6⋅b6⋅b7⋅a8⋅b8
−40⋅V^3⋅f^3/(27⋅J^5)⋅a1⋅a2⋅a3⋅b3⋅b5⋅a6⋅a8
−376⋅i⋅V^4⋅f^2/(135⋅J^5)⋅b1⋅b2⋅a3⋅b5⋅a7
+2⋅i⋅V^4⋅f^2/J^5 + 32⋅i⋅V^2⋅f^4/(9⋅J^5)⋅b2⋅b3⋅a4⋅b4⋅a7
−2⋅D122⋅V - 2⋅i⋅D127⋅f + 2⋅i⋅D26⋅f + 2⋅D29⋅V - 2⋅i⋅D54⋅f⋅a1⋅b1⋅a2⋅a3⋅b3⋅b4⋅a5
+80⋅V^3⋅f^3/(27⋅J^5)⋅a2⋅b2⋅b4⋅a5⋅b7⋅a8⋅b8
+2⋅i⋅V^4⋅f^2/(3⋅J^5)⋅b2⋅a3⋅b4⋅a5⋅b5⋅a7⋅b8⋅a9⋅b9
+2⋅i⋅V^4⋅f^2/J^5⋅b1⋅a2⋅a3⋅a4⋅b5⋅a6⋅a8⋅b8⋅a9
−40⋅V^3⋅f^3/(27⋅J^5)⋅b1⋅b2⋅b4⋅b5⋅b6⋅a7⋅b7
+2⋅V^3⋅f^3/J^5⋅b2⋅b3⋅a4⋅b4⋅b5⋅a6⋅a8
+2⋅V^3⋅f^3/J^5⋅b2⋅b3⋅a5⋅b5⋅a6⋅b6⋅a7
−2⋅D30⋅V - 2⋅i⋅D45⋅f + 2⋅i⋅D47⋅f + 2⋅i⋅D49⋅f + 2⋅D75⋅V⋅a1⋅a2⋅b2⋅a3⋅b5⋅a6⋅b6
+2⋅D109⋅V - 2⋅i⋅D48⋅f + 34⋅V^5⋅f/(27⋅J^5) + 4⋅V^3⋅f^3/(3⋅J^5)⋅a1⋅b1⋅a2⋅a4⋅b5⋅a6⋅a7
−2⋅i⋅D49⋅f + 2⋅D66⋅V⋅a1⋅b1⋅a3⋅b3⋅a5⋅a6⋅b6
−2⋅D51⋅V⋅a1⋅b1⋅a2⋅b2⋅a3⋅a4⋅b6⋅a7⋅a8
+2⋅i⋅D51⋅f⋅a1⋅b1⋅b3⋅a4⋅b6⋅a7⋅b8
−2⋅V^5⋅f/J^5⋅b1⋅a2⋅b3⋅a4⋅b5⋅a6⋅b7⋅b8⋅b9⋅a10⋅a11
−88⋅V^5⋅f/(27⋅J^5) - 16⋅V^3⋅f^3/(9⋅J^5) - 2⋅V⋅f^5/(3⋅J^5)⋅b4⋅a5⋅b5
−2⋅i⋅D12⋅f + 2⋅i⋅D14⋅f + 2⋅i⋅D16⋅f⋅a1⋅a2⋅a3⋅a4⋅a5⋅b5⋅a7
−4⋅i⋅V^4⋅f^2/(3⋅J^5)⋅b2⋅a3⋅b4⋅a5⋅a6⋅b6⋅a7⋅b7⋅b8
−2⋅D53⋅V - 2⋅D55⋅V + 2⋅D57⋅V - 2⋅i⋅D8⋅f - 2⋅i⋅V^4⋅f^2/(3⋅J^5)⋅a1⋅b1⋅a3⋅a5⋅a6
+2⋅i⋅V^2⋅f^4/J^5⋅b2⋅a3⋅b6⋅a7⋅b8
+2⋅i⋅D105⋅f⋅a1⋅a2⋅a4⋅b4⋅b5⋅b6⋅a7
−34⋅V^3⋅f^3/(27⋅J^5)⋅b1⋅a5⋅b6
+58⋅i⋅V^4⋅f^2/(45⋅J^5)⋅a1⋅a2⋅b2⋅a3⋅b3⋅a5⋅b5⋅a6⋅a7
+4⋅V^5⋅f/(9⋅J^5) - 274⋅V^3⋅f^3/(135⋅J^5)⋅b1⋅b2⋅a3⋅b3⋅b4⋅b5⋅b6
+34⋅V^3⋅f^3/(135⋅J^5)⋅b1⋅a3⋅b3⋅a4⋅b4⋅a6⋅b7
−2⋅V^3⋅f^3/J^5⋅b1⋅a2⋅a3⋅a4⋅a7⋅b7⋅a8
−2⋅i⋅D66⋅f + 2⋅i⋅D67⋅f + 2⋅i⋅D69⋅f⋅a1⋅a2⋅a3⋅b3⋅b6
+4⋅V^3⋅f^3/(15⋅J^5)⋅a1⋅a2⋅b2⋅a4⋅a5⋅b5⋅a7
−2⋅i⋅V^4⋅f^2/(3⋅J^5)⋅a1⋅a2⋅b3⋅a4⋅b5⋅a6⋅b6⋅a8⋅a9
+16⋅i⋅V^4⋅f^2/(9⋅J^5)⋅b2⋅a3⋅b3⋅a4⋅a5⋅b5⋅b6⋅a7⋅b7
+2⋅V^3⋅f^3/J^5⋅b1⋅a2⋅b3⋅a4⋅b7⋅b8⋅a9
+2⋅D13⋅V - 2⋅D15⋅V + 2⋅D17⋅V + 2⋅i⋅V^4⋅f^2/(3⋅J^5)⋅a1⋅b1⋅a2⋅b2⋅a3⋅a4⋅b4⋅a6⋅a7
+2⋅i⋅D99⋅f⋅a1⋅a2⋅b3⋅b4⋅b5⋅a6⋅a8
+2⋅D87⋅V⋅a1⋅a2⋅b4⋅a5⋅b6⋅a7⋅b8⋅a9⋅b9
−14⋅i⋅V^4⋅f^2/(9⋅J^5)⋅a2⋅b2⋅a3⋅b3⋅b4⋅b5⋅b6⋅a7⋅a8
−2⋅i⋅D16⋅f⋅a1⋅b2⋅b3⋅a4⋅b4⋅b5⋅b6
+2⋅i⋅D52⋅f⋅a1⋅a2⋅b3⋅a4⋅b6⋅a7⋅b8
−2⋅i⋅D81⋅f - 2⋅i⋅V^4⋅f^2/J^5⋅a1⋅b1⋅b3⋅a4⋅b5⋅b6⋅b7⋅a8⋅a9
+2⋅i⋅D39⋅f + 2⋅i⋅D46⋅f + 2⋅i⋅D48⋅f + 2⋅i⋅D50⋅f - 4⋅V^3⋅f^3/J^5⋅a1⋅b2⋅a3⋅a4⋅b5⋅a6⋅a7
−2⋅D81⋅V - 2⋅V^5⋅f/J^5⋅a1⋅b1⋅b3⋅a4⋅b5⋅a6⋅b7⋅a8⋅b9⋅a10⋅b10
+2⋅D18⋅V⋅a1⋅b1⋅a3⋅b3⋅a4⋅b4⋅b6⋅a7⋅b7
−40⋅i⋅V^4⋅f^2/(27⋅J^5)⋅a2⋅b2⋅b3⋅a4⋅b5⋅a6⋅b8⋅a9⋅b9
+56⋅i⋅V^4⋅f^2/(135⋅J^5)⋅a2⋅b2⋅b3⋅a5⋅b5⋅a6⋅b7⋅a8⋅b8
−2⋅i⋅V^2⋅f^4/J^5⋅b2⋅a3⋅a5⋅a6⋅a8
−436⋅V^3⋅f^3/(135⋅J^5)⋅b1⋅a2⋅b2⋅b3⋅a5⋅b5⋅a6
−2⋅i⋅D102⋅f + 2⋅D33⋅V - 10⋅V^3⋅f^3/(3⋅J^5)⋅a1⋅b1⋅a4⋅b4⋅a5⋅a6⋅a7
+14⋅i⋅V^4⋅f^2/(27⋅J^5)⋅b1⋅a2⋅b2⋅a4⋅b5⋅a6⋅a7⋅b7⋅b8
−4⋅i⋅V^4⋅f^2/(9⋅J^5)⋅a1⋅a2⋅b3⋅a4⋅b4⋅a6⋅b7⋅a8⋅a9
+2⋅i⋅D65⋅f + 14⋅i⋅V^2⋅f^4/(9⋅J^5)⋅a1⋅b1⋅a3⋅b3⋅b6
−8⋅V^5⋅f/(27⋅J^5) + 34⋅V^3⋅f^3/(135⋅J^5)⋅b1⋅b3⋅a4⋅a5⋅b5⋅a6⋅b6
−2⋅D29⋅V⋅b2⋅b3⋅b4
−14⋅V^3⋅f^3/(9⋅J^5)⋅a1⋅b1⋅a2⋅a3⋅a4⋅b4⋅a7
−2⋅i⋅V^4⋅f^2/(3⋅J^5)⋅a1⋅a2⋅b3⋅a4⋅b5⋅a7⋅b7⋅a8⋅a9
−2⋅D27⋅V + 2⋅D46⋅V + 2⋅i⋅D95⋅f + 2⋅i⋅V^4⋅f^2/(3⋅J^5)⋅a1⋅b1⋅a2⋅b2⋅b3⋅a4⋅b5⋅a6⋅b6
+2⋅i⋅D124⋅f - 2⋅D17⋅V⋅a1⋅b1⋅b3⋅b4⋅a7
+16⋅i⋅V^4⋅f^2/(9⋅J^5)⋅b1⋅a2⋅b4⋅a5⋅b5⋅a6⋅b7⋅a8⋅b8
−26⋅i⋅V^4⋅f^2/(9⋅J^5) - 4⋅i⋅V^2⋅f^4/(3⋅J^5)⋅b3⋅a5⋅b6⋅a7⋅b7
−2⋅D127⋅V - 2⋅D19⋅V - 2⋅i⋅D69⋅f + 2⋅i⋅D75⋅f - 2⋅D89⋅V⋅a1⋅a2⋅b2⋅a3⋅b5
+4⋅V^3⋅f^3/(3⋅J^5)⋅b2⋅b3⋅a5⋅b5⋅b6⋅a7⋅a8
−4⋅i⋅V^4⋅f^2/(15⋅J^5)⋅a1⋅b3⋅b4⋅a6⋅b6
−40⋅V^3⋅f^3/(27⋅J^5)⋅b1⋅a2⋅a3⋅b3⋅a6⋅a7⋅a8
+2⋅i⋅D13⋅f - 40⋅V^5⋅f/(9⋅J^5) - 872⋅V^3⋅f^3/(135⋅J^5)⋅b1⋅a2⋅b3⋅a4⋅b4⋅b5⋅a7
+2⋅i⋅V^4⋅f^2/J^5⋅a1⋅a2⋅b3⋅a4⋅b5⋅a6⋅b8⋅a9⋅a10
+14⋅i⋅V^2⋅f^4/(27⋅J^5)⋅a1⋅a3⋅b3⋅a4⋅a7
+2⋅i⋅D22⋅f - 4⋅V^3⋅f^3/(9⋅J^5)⋅a1⋅b1⋅b2⋅b3⋅a4⋅a5⋅b6
−14⋅V^3⋅f^3/(27⋅J^5)⋅b1⋅a2⋅b2⋅b3⋅a4⋅a5⋅b7
+2⋅i⋅D105⋅f⋅a1⋅b1⋅a3⋅a5⋅b5⋅a6⋅b6
−2⋅i⋅D124⋅f⋅a1⋅b1⋅a3⋅a4⋅a7
+2⋅D45⋅V⋅a1⋅b1⋅b2⋅a3⋅a4⋅b4⋅b5⋅a6⋅a7
+2⋅D114⋅V⋅a1⋅b1⋅a2⋅a4⋅b4⋅a5⋅b6⋅a7⋅b7
+26⋅i⋅V^4⋅f^2/(9⋅J^5) + 8⋅i⋅V^2⋅f^4/(3⋅J^5)⋅a4⋅b4⋅b6⋅a7⋅b7
+14⋅i⋅V^4⋅f^2/(9⋅J^5)⋅a1⋅a2⋅a4⋅b4⋅b5⋅a6⋅b7⋅a8⋅a9
+2⋅D98⋅V⋅a1⋅b1⋅b3⋅a4⋅b5⋅a6⋅b8⋅a9⋅b9
−2⋅i⋅D126⋅f - 2⋅i⋅D78⋅f + 2⋅D85⋅V + 2⋅D96⋅V - 68⋅V^3⋅f^3/(27⋅J^5) + 8⋅V⋅f^5/(27⋅J^5)⋅a1⋅a3⋅a4
−38⋅i⋅V^4⋅f^2/(9⋅J^5) - 34⋅i⋅V^2⋅f^4/(9⋅J^5)⋅b3⋅a4⋅b4⋅b5⋅a6
+536⋅i⋅V^4⋅f^2/(135⋅J^5) + 4⋅i⋅V^2⋅f^4/(3⋅J^5)⋅b1⋅a2⋅a4⋅a6⋅a7
+4⋅i⋅V^2⋅f^4/(3⋅J^5)⋅a4⋅b4⋅b5⋅a6⋅b7
+2⋅i⋅D31⋅f - 2⋅D46⋅V - 566⋅i⋅V^4⋅f^2/(135⋅J^5) - 28⋅i⋅V^2⋅f^4/(27⋅J^5)⋅b1⋅b3⋅b5⋅a6⋅a7
+2⋅i⋅D5⋅f + 2⋅D97⋅V⋅b1⋅a2⋅b2⋅a3⋅b4⋅a5⋅a6
−8⋅V^3⋅f^3/(9⋅J^5)⋅b1⋅a2⋅b3⋅b5⋅b6⋅a7⋅a8
+2⋅D25⋅V⋅a1⋅a3⋅b3⋅a4⋅b6⋅a7⋅b7
+68⋅i⋅V^4⋅f^2/(27⋅J^5) + 28⋅i⋅V^2⋅f^4/(9⋅J^5)⋅a3⋅b3⋅b5⋅a6⋅b7
−34⋅i⋅V^4⋅f^2/(135⋅J^5)⋅a1⋅a2⋅b2⋅a3⋅b3⋅a4⋅b4⋅b5⋅b6
+2⋅D12⋅V⋅a1⋅b1⋅b3⋅a4⋅b4⋅b5⋅a6⋅b6⋅b7
−2⋅i⋅D50⋅f - 2⋅D65⋅V + 266⋅V^3⋅f^3/(135⋅J^5)⋅a1⋅a2⋅b2⋅a4⋅a5⋅a6⋅b6
−2⋅i⋅D45⋅f + 2⋅i⋅D47⋅f + 2⋅i⋅D49⋅f - 2⋅i⋅D99⋅f⋅a1⋅b1⋅a3⋅a4⋅b5⋅a6⋅b7
+466⋅V^3⋅f^3/(135⋅J^5)⋅b2⋅a3⋅b3⋅a4⋅a5⋅a6⋅a7
−28⋅i⋅V^2⋅f^4/(27⋅J^5)⋅b1⋅b3⋅b4⋅a5⋅a7
+2⋅i⋅D69⋅f + 2⋅D89⋅V⋅b1⋅a2⋅b2⋅b3⋅b5
+2⋅i⋅D91⋅f⋅a1⋅b1⋅b2⋅a3⋅a5⋅b5⋅a6
+2⋅D37⋅V + 2⋅i⋅V^4⋅f^2/J^5⋅a1⋅b1⋅a2⋅b2⋅a4⋅b4⋅a5⋅a6⋅a7
+224⋅i⋅V^4⋅f^2/(135⋅J^5)⋅a1⋅b1⋅b2⋅a3⋅a4⋅a5⋅b5⋅a6⋅a7
+68⋅V^5⋅f/(27⋅J^5) + 176⋅V^3⋅f^3/(135⋅J^5)⋅b1⋅a3⋅a4⋅b4⋅a5⋅a6⋅a7
+2⋅i⋅D119⋅f + 2⋅D25⋅V⋅b1⋅a2⋅b2⋅a3⋅b3⋅a4⋅a6
+2⋅D100⋅V - 16⋅i⋅V^4⋅f^2/(9⋅J^5)⋅a1⋅a2⋅a3⋅b3⋅b4⋅a5⋅b5⋅a6⋅a7
+2⋅D89⋅V⋅a1⋅a4⋅a5⋅b5⋅b6
−14⋅V^5⋅f/(27⋅J^5)⋅b1⋅b4⋅b5⋅a6⋅b7⋅a8⋅a9
−4⋅i⋅V^2⋅f^4/(3⋅J^5)⋅b2⋅a3⋅b4⋅b6⋅a7
+32⋅i⋅V^4⋅f^2/(9⋅J^5)⋅b1⋅a2⋅a4⋅b4⋅a5⋅a6⋅b7⋅a8⋅a9
+2⋅i⋅V^4⋅f^2/(3⋅J^5)⋅b1⋅a2⋅b3⋅a4⋅b6⋅a7⋅b7⋅a8⋅b8
+14⋅V^5⋅f/(9⋅J^5) + 14⋅V^3⋅f^3/(3⋅J^5)⋅b1⋅a2⋅a4⋅b4⋅a6⋅b6⋅b7
+2⋅D10⋅V - 2⋅i⋅D41⋅f - 2⋅D6⋅V - 2⋅D8⋅V + 4⋅V^3⋅f^3/J^5⋅a1⋅b1⋅a4⋅b4⋅a5⋅b5⋅b6
+4⋅i⋅V^4⋅f^2/J^5 + 4⋅i⋅V^2⋅f^4/J^5⋅b1⋅a2⋅a6⋅b6⋅b7
+2⋅i⋅V^4⋅f^2/J^5⋅a1⋅a2⋅a4⋅b4⋅a5⋅b5⋅a6⋅b6⋅a7
+214⋅V^3⋅f^3/(135⋅J^5)⋅b1⋅b2⋅b3⋅a4⋅a5⋅b6⋅a7
−2⋅D47⋅V⋅a1⋅a2⋅a3⋅b3⋅b5⋅a6⋅b7⋅a8⋅b8
+4⋅i⋅V^4⋅f^2/(9⋅J^5)⋅b1⋅b2⋅a3⋅a4⋅b4⋅a5⋅b6⋅b7⋅a8
+2⋅D72⋅V⋅a1⋅b1⋅a2⋅a3⋅b4⋅b5⋅a6⋅b6⋅a7
+4⋅V^3⋅f^3/(9⋅J^5)⋅a1⋅b1⋅a2⋅a3⋅b3⋅a5⋅a7
−14⋅i⋅V^4⋅f^2/(3⋅J^5)⋅b1⋅a2⋅b3⋅a4⋅a6⋅b6⋅a7⋅b7⋅b8
−110⋅i⋅V^4⋅f^2/(27⋅J^5)⋅b1⋅b2⋅a3⋅a4⋅b5⋅a6⋅b7⋅a8⋅b8
+2⋅V^3⋅f^3/(27⋅J^5)⋅a1⋅a5⋅a6
+2⋅i⋅D100⋅f + 436⋅V^3⋅f^3/(135⋅J^5)⋅a1⋅b2⋅a4⋅a5⋅b5⋅a6⋅a7
+14⋅V^5⋅f/(9⋅J^5) + 28⋅V^3⋅f^3/(9⋅J^5)⋅b1⋅a2⋅a4⋅b4⋅b7⋅a8⋅b8
+2⋅i⋅D104⋅f - 2⋅V^3⋅f^3/(3⋅J^5)⋅a1⋅b1⋅b3⋅a5⋅b5⋅b6⋅a7
−4⋅V^3⋅f^3/(3⋅J^5)⋅b1⋅b2⋅b3⋅a4⋅b5⋅a7⋅a8
+34⋅V^3⋅f^3/(135⋅J^5)⋅a1⋅a2⋅b2⋅a4⋅b4⋅b5⋅b6
+2⋅D118⋅V + 166⋅i⋅V^4⋅f^2/(135⋅J^5)⋅a1⋅b1⋅b2⋅a3⋅b3⋅a4⋅a5⋅b5⋅b6
+14⋅V^3⋅f^3/(27⋅J^5)⋅a1⋅a2⋅b2⋅a4⋅b6⋅a7⋅a8
+2⋅D46⋅V + 2⋅D48⋅V + 2⋅D50⋅V - 536⋅i⋅V^4⋅f^2/(135⋅J^5) - 32⋅i⋅V^2⋅f^4/(27⋅J^5)⋅a2⋅b3⋅b5⋅a6⋅b6
+2⋅i⋅D10⋅f - 2⋅i⋅D117⋅f + 2⋅i⋅V^2⋅f^4/J^5⋅a1⋅a2⋅a4⋅b5⋅a6
−2⋅V^5⋅f/(3⋅J^5) + 110⋅V^3⋅f^3/(27⋅J^5)⋅b1⋅b2⋅a3⋅a4⋅b6⋅a7⋅b7
+2⋅D9⋅V⋅a1⋅a2⋅b3⋅a5⋅b6⋅a7⋅b7
+2⋅i⋅D101⋅f + 2⋅i⋅D103⋅f - 2⋅i⋅D105⋅f⋅a1⋅a2⋅b3⋅a5⋅b5⋅a6⋅b7
−2⋅i⋅D123⋅f + 2⋅D131⋅V - 86⋅i⋅V^4⋅f^2/(27⋅J^5) + 14⋅i⋅V^2⋅f^4/(27⋅J^5)⋅b1⋅a2⋅b2⋅b4⋅a5
−2⋅V^3⋅f^3/(3⋅J^5)⋅a3⋅a6⋅a7
−2⋅i⋅D88⋅f + 38⋅V^3⋅f^3/(27⋅J^5)⋅a1⋅b3⋅b6
−2⋅i⋅V^4⋅f^2/J^5⋅b1⋅a2⋅b4⋅b5⋅a6⋅b6⋅a7⋅b7⋅a8
+28⋅V^5⋅f/(27⋅J^5)⋅b1⋅a2⋅b2⋅a3⋅b3⋅b6⋅a7
−134⋅V^3⋅f^3/(135⋅J^5)⋅a2⋅b3⋅a4⋅a5⋅b5⋅a6⋅a7
+224⋅i⋅V^4⋅f^2/(135⋅J^5)⋅a2⋅a3⋅b3⋅a4⋅b4⋅a5⋅a6⋅b6⋅a7
−2⋅i⋅D37⋅f + 2⋅V^3⋅f^3/J^5⋅a1⋅b1⋅a2⋅b2⋅b5⋅b6⋅a7
+2⋅D51⋅V⋅a1⋅b1⋅b3⋅a4⋅b6⋅a7⋅b8⋅a9⋅b9
−4⋅i⋅V^4⋅f^2/(9⋅J^5)⋅b1⋅b2⋅a3⋅a4⋅b4⋅a5⋅a6⋅a7⋅a8
+94⋅V^3⋅f^3/(27⋅J^5)⋅b1⋅b2⋅a3⋅b3⋅b5⋅a6⋅a8
−2⋅i⋅V^2⋅f^4/J^5⋅b1⋅a2⋅a4⋅a5⋅a8
−296⋅i⋅V^4⋅f^2/(135⋅J^5)⋅a2⋅b2⋅a3⋅b5⋅b6
+2⋅D71⋅V⋅a1⋅b1⋅a2⋅b2⋅b4⋅b5⋅a6⋅b6⋅a7
−20⋅V^5⋅f/(9⋅J^5) - 4⋅V^3⋅f^3/(3⋅J^5)⋅b1⋅a2⋅b4⋅a6⋅b7⋅a8⋅b8
−44⋅i⋅V^4⋅f^2/(27⋅J^5) - 2⋅i⋅V^2⋅f^4/(3⋅J^5)⋅a2⋅b2⋅a3⋅a4⋅a5
−2⋅D54⋅V + 2⋅D56⋅V + 2⋅D58⋅V⋅b2⋅a3⋅b3⋅a5⋅a6
−20⋅V^5⋅f/(9⋅J^5) - 8⋅V^3⋅f^3/(9⋅J^5)⋅b2⋅a4⋅b5⋅a6⋅b7⋅a8⋅b8
+2⋅D30⋅V + 2⋅i⋅D45⋅f - 2⋅i⋅D47⋅f - 2⋅i⋅D49⋅f⋅b1⋅a2⋅b2⋅b3⋅b5⋅a6⋅b6
+364⋅V^3⋅f^3/(135⋅J^5)⋅a2⋅b2⋅a3⋅b4⋅b5⋅a6⋅b6
−2⋅V^3⋅f^3/J^5⋅b2⋅a3⋅a5⋅a6⋅b7⋅a8⋅a9
−2⋅i⋅D1⋅f - 2⋅D6⋅V + 2⋅D85⋅V + 14⋅V^3⋅f^3/(3⋅J^5)⋅a1⋅b1⋅b4
+16⋅V^3⋅f^3/(15⋅J^5)⋅b1⋅a2⋅a3⋅b3⋅a5⋅b5⋅b7
−2⋅i⋅D86⋅f - 2⋅D96⋅V + 32⋅V^3⋅f^3/(27⋅J^5)⋅a1⋅b2⋅b4⋅a5⋅b6⋅a7⋅b7
+2⋅V^5⋅f/J^5⋅a1⋅b1⋅a2⋅a3⋅b4⋅a5⋅b6⋅a7⋅b8⋅a9⋅a10
+2⋅i⋅D30⋅f⋅a1⋅a4⋅b5⋅b6⋅a7
+2⋅D63⋅V⋅a1⋅b1⋅b4⋅a5⋅b7⋅a8⋅b8
+2⋅i⋅V^4⋅f^2/(3⋅J^5)⋅b1⋅a2⋅b3⋅a4⋅b5⋅a7⋅b7⋅b8⋅a9
−28⋅V^3⋅f^3/(27⋅J^5)⋅b1⋅a3⋅b4⋅a5⋅b6⋅a7⋅b8
+2⋅D109⋅V + 80⋅V^5⋅f/(27⋅J^5) + 952⋅V^3⋅f^3/(135⋅J^5)⋅a2⋅a3⋅b3⋅a4⋅b5⋅a6⋅a7
−2⋅i⋅D33⋅f + 2⋅i⋅V^2⋅f^4/J^5⋅a1⋅b1⋅b5⋅a6⋅b7
−10⋅i⋅V^4⋅f^2/(3⋅J^5)⋅b1⋅a2⋅b3⋅a4⋅b5⋅b6⋅a7⋅b7⋅a9
+40⋅i⋅V^4⋅f^2/(27⋅J^5)⋅b1⋅a2⋅a3⋅b3⋅b5⋅a6⋅a7⋅a8⋅a9
+20⋅V^3⋅f^3/(9⋅J^5)⋅a3⋅a4⋅b4⋅a5⋅a6⋅a7⋅b7
+2⋅i⋅D72⋅f⋅a1⋅b1⋅a2⋅a3⋅b4⋅a5⋅b7
−226⋅i⋅V^4⋅f^2/(135⋅J^5)⋅b1⋅b4⋅a5⋅a6⋅b6
−2⋅i⋅D13⋅f + 2⋅i⋅D15⋅f - 2⋅i⋅D17⋅f + 28⋅V^5⋅f/(9⋅J^5) + 1108⋅V^3⋅f^3/(135⋅J^5)⋅b1⋅a2⋅b3⋅a4⋅a5⋅b5⋅b6
−2⋅D55⋅V - 56⋅i⋅V^4⋅f^2/(27⋅J^5)⋅a1⋅b1⋅b2⋅a5⋅b5
+296⋅i⋅V^4⋅f^2/(135⋅J^5)⋅b1⋅a2⋅b2⋅b3⋅a5⋅b5⋅a6⋅a7⋅b7
+2⋅V^3⋅f^3/(3⋅J^5)⋅b2⋅a3⋅a4⋅a6⋅b6⋅a7⋅a8
−2⋅V^3⋅f^3/J^5⋅b2⋅a3⋅a4⋅a5⋅b6⋅a7⋅a9
+2⋅i⋅D125⋅f - 2⋅D59⋅V⋅a1⋅a2⋅b3⋅a4⋅b7
−2⋅i⋅D24⋅f + 2⋅i⋅D6⋅f - 56⋅i⋅V^4⋅f^2/(135⋅J^5) + 8⋅i⋅V^2⋅f^4/(15⋅J^5)⋅a1⋅b2⋅b3⋅b4⋅a6
+2⋅i⋅V^4⋅f^2/(3⋅J^5)⋅b1⋅b2⋅b3⋅a4⋅b5⋅a6⋅b6⋅a8⋅a9
−2⋅i⋅V^4⋅f^2/J^5⋅b2⋅a3⋅b4⋅a5⋅b7⋅a8⋅b9⋅a10⋅b10
+2⋅i⋅D81⋅f + 2⋅i⋅V^4⋅f^2/J^5⋅a1⋅b1⋅b3⋅a4⋅a5⋅a6⋅b7⋅a8⋅a9
−2⋅V^3⋅f^3/J^5⋅a1⋅a2⋅b4⋅a5⋅b6⋅a7⋅a9
+2⋅D32⋅V⋅a1⋅a2⋅b5⋅a6⋅b7⋅a8⋅b8
−2⋅D12⋅V⋅a1⋅b1⋅b3⋅a4⋅b4⋅a5⋅a6⋅b6⋅a7
+2⋅i⋅D53⋅f - 10⋅V^3⋅f^3/(9⋅J^5)⋅a1⋅b1⋅a2⋅a3⋅b3⋅b4⋅b6
+28⋅V^5⋅f/(9⋅J^5) + 214⋅V^3⋅f^3/(135⋅J^5)⋅b1⋅b2⋅a3⋅b3⋅a5⋅a6⋅b6
−2⋅D26⋅V⋅b2⋅a3⋅b3⋅a4⋅a5
+2⋅i⋅D108⋅f⋅a1⋅a2⋅b2⋅a3⋅b3⋅a4⋅b5⋅a6⋅b7
+224⋅i⋅V^4⋅f^2/(135⋅J^5) - 28⋅i⋅V^2⋅f^4/(27⋅J^5)⋅b1⋅a3⋅b4⋅b5⋅a7
+40⋅V^5⋅f/(27⋅J^5) + 158⋅V^3⋅f^3/(135⋅J^5)⋅a2⋅b2⋅b3⋅a4⋅b5⋅a6⋅b6
+4⋅i⋅V^4⋅f^2/(9⋅J^5)⋅a1⋅a2⋅b2⋅a3⋅b3⋅a4⋅b4⋅a5⋅a6
−2⋅D76⋅V - 2⋅i⋅V^4⋅f^2/J^5⋅a1⋅b1⋅a2⋅b2⋅a3⋅b3⋅a5⋅b5⋅b6
+56⋅V^3⋅f^3/(27⋅J^5)⋅b1⋅a2⋅a3⋅b4⋅b5⋅a6⋅b7
+4⋅i⋅V^4⋅f^2/(9⋅J^5)⋅b1⋅a2⋅b3⋅a4⋅b4⋅b5⋅a6⋅a7⋅b8
+2⋅V^3⋅f^3/J^5⋅b3⋅a4⋅b6⋅a7⋅b8⋅a9⋅b9
−2⋅V^3⋅f^3/J^5⋅b1⋅a2⋅a3⋅a4⋅b6⋅a7⋅a9
−14⋅i⋅V^4⋅f^2/(9⋅J^5)⋅b2⋅a3⋅a4⋅b4⋅a5⋅b5⋅a6⋅b6⋅b7
−2⋅i⋅V^4⋅f^2/J^5⋅b1⋅a2⋅b3⋅a4⋅b5⋅a6⋅b8⋅b9⋅a10
+4⋅i⋅V^4⋅f^2/(9⋅J^5)⋅b2⋅a3⋅b3⋅b4⋅a5⋅a6⋅b7⋅a8⋅b8
−4⋅i⋅V^4⋅f^2/(3⋅J^5) - 2⋅i⋅V^2⋅f^4/J^5⋅b2⋅a3⋅a6⋅a7⋅a8
+14⋅V^3⋅f^3/(9⋅J^5)⋅b1⋅b2⋅a4⋅b4⋅b5⋅a6⋅a8
−2⋅i⋅D87⋅f⋅a1⋅a2⋅a4⋅a5⋅b6⋅a7⋅a8
−20⋅i⋅V^4⋅f^2/(9⋅J^5) - 8⋅i⋅V^2⋅f^4/(9⋅J^5)⋅b2⋅a4⋅b5⋅b6⋅a7
+8⋅V^3⋅f^3/(3⋅J^5)⋅b1⋅b2⋅b3⋅a4⋅a6⋅b6⋅a8
−2⋅i⋅V^4⋅f^2/J^5⋅b1⋅b2⋅b3⋅a4⋅b6⋅a7⋅b8⋅a9⋅a10
+58⋅i⋅V^4⋅f^2/(27⋅J^5) + 20⋅i⋅V^2⋅f^4/(9⋅J^5)⋅a3⋅b3⋅b4⋅a5⋅b5
−2⋅i⋅D100⋅f + 2⋅i⋅D102⋅f + 2⋅i⋅D104⋅f + 2⋅i⋅D15⋅f + 2⋅i⋅D39⋅f + 2⋅i⋅D46⋅f + 2⋅i⋅D48⋅f + 2⋅i⋅D50⋅f + 2⋅i⋅D60⋅f + 2⋅D81⋅V + 2⋅i⋅D98⋅f - 130⋅V^3⋅f^3/(9⋅J^5)⋅a1⋅a2⋅b3⋅a4⋅b5⋅a6⋅a7
+92⋅i⋅V^4⋅f^2/(27⋅J^5)⋅b1⋅a2⋅a3⋅b3⋅a4⋅a5⋅a6⋅a7⋅b7
+2⋅V^3⋅f^3/J^5⋅b3⋅b4⋅b5⋅a6⋅b7⋅a8⋅a9
−2⋅i⋅D111⋅f - 2⋅D22⋅V - 2⋅D78⋅V + 2⋅i⋅D8⋅f - 26⋅i⋅V^4⋅f^2/(135⋅J^5) + 6⋅i⋅V^2⋅f^4/(5⋅J^5)⋅a1⋅b2⋅a4⋅b4⋅b5
−2⋅i⋅D109⋅f - 2⋅D48⋅V - 20⋅i⋅V^4⋅f^2/(9⋅J^5)⋅a1⋅b1⋅a2⋅a3⋅b3⋅a4⋅b5⋅a6⋅a7
−8⋅i⋅V^4⋅f^2/(3⋅J^5) - 8⋅i⋅V^2⋅f^4/(9⋅J^5)⋅b1⋅a2⋅b3⋅a5⋅b7
+40⋅V^3⋅f^3/(27⋅J^5)⋅a2⋅b2⋅b3⋅a4⋅b5⋅b6⋅a8
−2⋅D10⋅V - 2⋅i⋅D100⋅f + 2⋅i⋅D13⋅f + 4⋅V^3⋅f^3/(3⋅J^5)⋅a1⋅b1⋅b3⋅b4⋅a5⋅a6⋅b6
−4⋅i⋅V^4⋅f^2/(27⋅J^5)⋅b1⋅a2⋅b3⋅a4⋅b4⋅a5⋅b5⋅a6⋅b6
−2⋅D95⋅V - 2⋅V^5⋅f/J^5⋅a1⋅b1⋅a2⋅b2⋅a3⋅b3⋅b5⋅a6⋅b7⋅a8⋅b8
−2⋅i⋅D98⋅f⋅a1⋅b1⋅b3⋅a4⋅a5⋅a6⋅a8
+2⋅V^5⋅f/(3⋅J^5) - 304⋅V^3⋅f^3/(135⋅J^5)⋅a2⋅b2⋅a3⋅a4⋅a5⋅a6⋅b6
+2⋅D80⋅V⋅a1⋅a2⋅b3⋅a4⋅b5⋅a6⋅b7⋅a8⋅b9⋅a10⋅b10
−2⋅D101⋅V⋅a1⋅b2⋅a3⋅b3⋅a4⋅a5⋅b5⋅a6⋅b6
+14⋅V^3⋅f^3/(9⋅J^5)⋅a2⋅b2⋅a3⋅b3⋅b5⋅a6⋅b7
+14⋅i⋅V^4⋅f^2/(27⋅J^5)⋅b1⋅a2⋅b2⋅b4⋅b5⋅a6⋅b7⋅a8⋅a9
+2⋅D100⋅V - 22⋅i⋅V^4⋅f^2/(9⋅J^5)⋅a1⋅b2⋅a3⋅b3⋅a4⋅a5⋅b5⋅a6⋅a7
+2⋅i⋅V^2⋅f^4/J^5⋅b2⋅a3⋅b6⋅b7⋅a8
−14⋅V^5⋅f/(9⋅J^5) - 80⋅V^3⋅f^3/(27⋅J^5)⋅a2⋅b2⋅a4⋅a5⋅b6⋅a7⋅a8
−16⋅V^5⋅f/(9⋅J^5)⋅a2⋅b2⋅a3⋅b5⋅b6⋅a7⋅b7
+2⋅V^3⋅f^3/J^5⋅b2⋅a3⋅b5⋅a6⋅a7⋅b7⋅b8
−2⋅i⋅V^4⋅f^2/(3⋅J^5) - 4⋅i⋅V^2⋅f^4/(3⋅J^5)⋅b2⋅a3⋅b4⋅a6⋅b7
+2⋅i⋅D105⋅f⋅a1⋅a2⋅a4⋅b4⋅b5⋅a6⋅b7
−2⋅V^5⋅f/J^5 - 32⋅V^3⋅f^3/(9⋅J^5)⋅a3⋅b3⋅a4⋅a5⋅b6⋅a7⋅a8
+2⋅D97⋅V⋅a1⋅a3⋅b4⋅a5⋅b6⋅a7⋅b7
−2⋅D87⋅V⋅a1⋅a2⋅a3⋅b3⋅a4⋅a5⋅b6⋅a7⋅a8
−2⋅D107⋅V - 2⋅i⋅D37⋅f - 2⋅V^3⋅f^3/(3⋅J^5)⋅a1⋅b1⋅a2⋅a3⋅a5⋅a6⋅b6
−2⋅i⋅V^4⋅f^2/(3⋅J^5)⋅b1⋅a2⋅a3⋅a4⋅b5⋅a6⋅b6⋅a8⋅a9
+2⋅D99⋅V⋅a1⋅a2⋅b3⋅a4⋅b5⋅b6⋅a7⋅b7⋅a8
−4⋅V^3⋅f^3/(9⋅J^5)⋅b2⋅a4⋅b4⋅a5⋅a6⋅b6⋅b7
−2⋅D24⋅V + 2⋅i⋅D41⋅f + 16⋅V^3⋅f^3/(27⋅J^5)⋅a1⋅b2⋅b3⋅b4⋅a5⋅b5⋅a6
+4⋅i⋅V^4⋅f^2/(9⋅J^5)⋅b1⋅a2⋅b3⋅a5⋅b5⋅b6⋅b7⋅a8⋅a9
−2⋅i⋅V^4⋅f^2/J^5⋅b1⋅a2⋅b3⋅a4⋅b5⋅a6⋅b8⋅a9⋅b10
−2⋅i⋅V^4⋅f^2/J^5⋅b1⋅a2⋅b4⋅a5⋅b6⋅a7⋅b9⋅a10⋅b10
−2⋅D58⋅V⋅b2⋅a3⋅a4⋅a5⋅b5
+32⋅i⋅V^4⋅f^2/(9⋅J^5) + 2⋅i⋅V^2⋅f^4/J^5⋅b1⋅a2⋅b3⋅b4⋅a8
+2⋅D124⋅V⋅a1⋅b1⋅b3⋅a4⋅b7⋅a8⋅b8
+56⋅V^3⋅f^3/(135⋅J^5)⋅a1⋅a2⋅a3⋅b3⋅b4⋅a6⋅a7
−2⋅i⋅D63⋅f - 2⋅i⋅D96⋅f + 32⋅i⋅V^2⋅f^4/(27⋅J^5)⋅a1⋅b2⋅b4⋅a5⋅b6
+4⋅i⋅V^4⋅f^2/(3⋅J^5)⋅a1⋅a2⋅b3⋅a4⋅a6⋅b6⋅b7⋅a8⋅a9
−2⋅i⋅D19⋅f + 2⋅i⋅D21⋅f - 2⋅i⋅D23⋅f⋅b1⋅a2⋅a3⋅b3⋅a4⋅a5⋅b5
−2⋅D24⋅V - 2⋅i⋅D51⋅f + 70⋅V^3⋅f^3/(27⋅J^5)⋅a1⋅b2⋅b3⋅a4⋅b6⋅a7⋅b7
+14⋅i⋅V^4⋅f^2/(27⋅J^5)⋅b1⋅a2⋅b2⋅b3⋅a4⋅b5⋅b6⋅a7⋅a8
−76⋅i⋅V^4⋅f^2/(135⋅J^5)⋅b2⋅a5⋅b5⋅a6⋅b6
+110⋅i⋅V^4⋅f^2/(27⋅J^5) + 14⋅i⋅V^2⋅f^4/(3⋅J^5)⋅a3⋅b3⋅a5⋅b5⋅b6
−14⋅V^3⋅f^3/(9⋅J^5)⋅a2⋅a3⋅a4⋅b4⋅a5⋅b5⋅a7
−2⋅V^5⋅f/J^5⋅b1⋅a2⋅b3⋅b4⋅a5⋅b5⋅b6⋅a7⋅b8⋅a9⋅a10
+2⋅i⋅D60⋅f⋅a1⋅b1⋅b3⋅b4⋅a6⋅b6⋅a7
−10⋅i⋅V^2⋅f^4/(27⋅J^5)⋅b1⋅a4⋅b4⋅a5⋅b6
−2⋅i⋅D95⋅f - 2⋅i⋅V^4⋅f^2/J^5⋅a1⋅b1⋅a2⋅b2⋅a3⋅b3⋅b5⋅a6⋅b7
+80⋅V^3⋅f^3/(27⋅J^5)⋅a2⋅b2⋅b4⋅a5⋅b6⋅b7⋅a8
+2⋅i⋅D104⋅f - 2⋅V^3⋅f^3/(3⋅J^5)⋅a1⋅b1⋅b3⋅a5⋅b5⋅a6⋅b7
+2⋅D117⋅V - 2⋅i⋅D86⋅f + 10⋅V^3⋅f^3/(3⋅J^5)⋅a1⋅a2⋅b4⋅b5⋅b6⋅a7⋅b7
−56⋅V^3⋅f^3/(135⋅J^5)⋅b1⋅a2⋅a3⋅b3⋅b4⋅a6⋅b7
+2⋅D119⋅V⋅a2⋅a3⋅b3⋅a4⋅b5
+2⋅i⋅D65⋅f + 2⋅D88⋅V - 646⋅i⋅V^4⋅f^2/(135⋅J^5) + 32⋅i⋅V^2⋅f^4/(27⋅J^5)⋅b1⋅a2⋅b2⋅a4⋅b5
+2⋅i⋅D100⋅f - 2⋅i⋅D102⋅f - 2⋅i⋅D104⋅f + 2⋅V^3⋅f^3/(3⋅J^5)⋅a1⋅b1⋅b4⋅a5⋅b5⋅a6⋅b6
+14⋅V^5⋅f/(9⋅J^5) + 124⋅V^3⋅f^3/(27⋅J^5)⋅b1⋅b2⋅a3⋅b3⋅a4⋅b4⋅a7
−296⋅V^3⋅f^3/(135⋅J^5)⋅b1⋅a2⋅b2⋅b3⋅a5⋅b6⋅a7
−4⋅i⋅V^4⋅f^2/(15⋅J^5)⋅b1⋅a2⋅b3⋅a6⋅b6
+2⋅D118⋅V + 2⋅i⋅D24⋅f - 542⋅i⋅V^4⋅f^2/(135⋅J^5) - 26⋅i⋅V^2⋅f^4/(45⋅J^5)⋅b1⋅a3⋅b3⋅a4⋅b5
+14⋅i⋅V^2⋅f^4/(27⋅J^5)⋅a1⋅a2⋅b2⋅a4⋅a7
+2⋅D105⋅V⋅a1⋅b1⋅a2⋅b2⋅a3⋅a5⋅b5⋅a6⋅b6
+2⋅i⋅D117⋅f + 44⋅i⋅V^4⋅f^2/(9⋅J^5) + 14⋅i⋅V^2⋅f^4/(27⋅J^5)⋅b1⋅a2⋅b4⋅b5⋅a6
+2⋅i⋅D108⋅f + 2⋅D40⋅V⋅b1⋅a2⋅b2⋅a3⋅b3⋅a4⋅b5⋅a6⋅a7
+68⋅V^5⋅f/(27⋅J^5) + 28⋅V^3⋅f^3/(9⋅J^5)⋅a3⋅b3⋅b5⋅a6⋅b7⋅a8⋅b8
+52⋅i⋅V^4⋅f^2/(27⋅J^5)⋅b1⋅a2⋅b2⋅b3⋅a4⋅b4⋅a6⋅a7⋅b7
−14⋅i⋅V^4⋅f^2/(9⋅J^5)⋅a2⋅b2⋅a3⋅b3⋅b4⋅a5⋅a6⋅b6⋅b7
−2⋅i⋅D12⋅f⋅a1⋅b1⋅b3⋅a4⋅b4⋅a5⋅a7
−2⋅i⋅D37⋅f + 2⋅V^3⋅f^3/J^5⋅a1⋅b1⋅a2⋅b2⋅b5⋅a6⋅b7
−2⋅i⋅V^4⋅f^2/(45⋅J^5)⋅a1⋅a2⋅b2⋅a3⋅a4⋅a5⋅b5⋅a6⋅b6
−2⋅i⋅D60⋅f + 4⋅V^5⋅f/(3⋅J^5) + 326⋅V^3⋅f^3/(27⋅J^5)⋅b1⋅a2⋅b3⋅a4⋅b5⋅b6⋅a7
−8⋅V^3⋅f^3/(9⋅J^5)⋅b1⋅b5⋅a6
+2⋅D19⋅V - 2⋅D21⋅V + 2⋅D23⋅V⋅a1⋅b1⋅b2⋅b3⋅a4⋅b4⋅a5⋅b5⋅b6
−2⋅i⋅D115⋅f + 2⋅i⋅D22⋅f + 2⋅i⋅D4⋅f - 46⋅V^3⋅f^3/(27⋅J^5)⋅a1⋅b1⋅b2⋅b3⋅b4⋅a5⋅a6
−8⋅V^3⋅f^3/(9⋅J^5)⋅b1⋅a2⋅b3⋅a5⋅b6⋅a7⋅b8
−2⋅i⋅V^4⋅f^2/J^5⋅b2⋅a3⋅b4⋅b5⋅a6⋅b6⋅a7⋅b7⋅a8
+2⋅D105⋅V - 2⋅i⋅D32⋅f⋅a1⋅a2⋅a5⋅a6⋅a7
−14⋅i⋅V^4⋅f^2/(9⋅J^5)⋅b1⋅a2⋅b3⋅a4⋅a5⋅b6⋅b7⋅a8⋅b8
−2⋅D52⋅V⋅a1⋅a2⋅b3⋅a4⋅a5⋅b5⋅a6⋅a7⋅a8
−14⋅i⋅V^4⋅f^2/(9⋅J^5)⋅b1⋅b2⋅b3⋅a4⋅a5⋅b5⋅b7⋅a8⋅a9
+2⋅D13⋅V + 10⋅i⋅V^4⋅f^2/(9⋅J^5)⋅a1⋅a2⋅b3⋅a4⋅b4⋅b5⋅a6⋅b6⋅b7
+2⋅i⋅V^2⋅f^4/J^5⋅b3⋅b4⋅b6⋅a7⋅a8
+2⋅i⋅D61⋅f⋅b1⋅b2⋅a3⋅a4⋅a5
+2⋅i⋅D102⋅f - 4⋅V^5⋅f/(9⋅J^5) + 104⋅V^3⋅f^3/(135⋅J^5)⋅b1⋅a2⋅b3⋅a5⋅b5⋅a6⋅b6
+92⋅i⋅V^4⋅f^2/(27⋅J^5)⋅b1⋅a2⋅b2⋅a3⋅a4⋅b4⋅b6⋅a7⋅b7
+2⋅D54⋅V - 2⋅D56⋅V - 2⋅D58⋅V⋅a1⋅b1⋅a2⋅a3⋅b3⋅a4⋅b4⋅b5⋅a6
−2⋅D1⋅V - 2⋅D20⋅V + 2⋅i⋅D6⋅f - 2⋅i⋅V^4⋅f^2/(3⋅J^5) + 2⋅i⋅V^2⋅f^4/(3⋅J^5)⋅a1⋅b1⋅b4⋅a5⋅b5
+2⋅V^3⋅f^3/J^5⋅b2⋅a3⋅b6⋅a7⋅b8⋅a9⋅b9
+2⋅i⋅D32⋅f⋅a1⋅a2⋅b5⋅b6⋅a7
−2⋅D65⋅V + 2⋅D68⋅V - 2⋅D70⋅V - 316⋅V^3⋅f^3/(135⋅J^5)⋅a1⋅a2⋅b2⋅b3⋅a5⋅b5⋅b6
+2⋅i⋅D125⋅f + 2⋅D14⋅V - 2⋅D42⋅V + 2⋅i⋅D7⋅f⋅a1⋅b1⋅b3⋅b4⋅b6
+2⋅i⋅V^4⋅f^2/J^5 + 2⋅i⋅V^2⋅f^4/J^5⋅b1⋅a2⋅b4⋅a5⋅b8
+4⋅V^3⋅f^3/(3⋅J^5)⋅a4⋅b4⋅b5⋅a6⋅b7⋅a8⋅b8
−2⋅V^5⋅f/(3⋅J^5) - 2⋅V^3⋅f^3/(3⋅J^5)⋅b1⋅a2⋅b5⋅a6⋅b6⋅a7⋅b7
−52⋅V^3⋅f^3/(27⋅J^5)⋅a2⋅a3⋅b3⋅a4⋅b5⋅b6⋅b7
+2⋅i⋅D64⋅f⋅a1⋅b2⋅b4⋅a5⋅a7
+34⋅V^3⋅f^3/(9⋅J^5) + 28⋅V⋅f^5/(27⋅J^5)⋅b1⋅a3⋅b6
+2⋅i⋅D14⋅f⋅a1⋅a2⋅b3⋅a4⋅b4⋅a6⋅b7
−2⋅i⋅V^4⋅f^2/(3⋅J^5)⋅b1⋅b2⋅a3⋅b3⋅b4⋅a5⋅b5⋅b6⋅b7
−40⋅i⋅V^4⋅f^2/(27⋅J^5)⋅a2⋅b2⋅b3⋅a4⋅b5⋅a6⋅b7⋅b8⋅a9
+2⋅i⋅V^2⋅f^4/J^5⋅b2⋅b3⋅a6⋅b6⋅a7
−2⋅i⋅D50⋅f⋅a1⋅b1⋅a3⋅b3⋅a5⋅a6⋅a7
+4⋅V^3⋅f^3/(3⋅J^5)⋅b2⋅a3⋅a5⋅b5⋅b6⋅b7⋅a8
+2⋅V^3⋅f^3/J^5⋅b1⋅a2⋅b4⋅a5⋅b6⋅a7⋅b9
−2⋅i⋅V^4⋅f^2/(9⋅J^5)⋅a1⋅a2⋅b2⋅b3⋅b4⋅a5⋅b5⋅a6⋅b6
+14⋅i⋅V^4⋅f^2/(9⋅J^5)⋅b1⋅a2⋅a3⋅a4⋅a5⋅b5⋅a6⋅b6⋅a8
−14⋅V^3⋅f^3/(27⋅J^5)⋅b1⋅a2⋅b2⋅b4⋅a6⋅b6⋅a7
+8⋅V^3⋅f^3/(9⋅J^5)⋅b1⋅a2⋅a3⋅a5⋅b6⋅a7⋅a8
+2⋅i⋅V^4⋅f^2/(3⋅J^5)⋅a1⋅a2⋅b3⋅a4⋅b5⋅a6⋅b6⋅b7⋅b8
−2⋅i⋅V^4⋅f^2/(3⋅J^5)⋅b2⋅a3⋅b4⋅b7⋅a8
+2⋅i⋅D38⋅f + 2⋅i⋅D45⋅f⋅a1⋅b1⋅a2⋅b3⋅b5⋅a6⋅a7
+4⋅V^3⋅f^3/(9⋅J^5)⋅a1⋅b2⋅a3⋅a4⋅a5⋅b5⋅a6
+4⋅V^3⋅f^3/(9⋅J^5)⋅b2⋅a4⋅b4⋅a5⋅a6⋅a7⋅a8
+2⋅i⋅D48⋅f - 4⋅V^3⋅f^3/(9⋅J^5)⋅a1⋅b1⋅b2⋅a4⋅b5⋅a6⋅b7
+94⋅i⋅V^4⋅f^2/(27⋅J^5)⋅a2⋅b2⋅a3⋅a4⋅b5⋅a6⋅b7⋅a8⋅a9
+94⋅V^3⋅f^3/(27⋅J^5)⋅b1⋅b2⋅a3⋅b3⋅a6⋅b6⋅a7
+14⋅V^3⋅f^3/(9⋅J^5)⋅a3⋅b3⋅b4⋅a5⋅b6⋅b7⋅a8
+2⋅V^3⋅f^3/(3⋅J^5)⋅b1⋅a2⋅a4⋅a5⋅b5⋅a7⋅a8
+46⋅i⋅V^4⋅f^2/(27⋅J^5)⋅b1⋅a2⋅b2⋅a3⋅a4⋅b4⋅b5⋅b6⋅a7
+346⋅i⋅V^4⋅f^2/(135⋅J^5)⋅b1⋅b2⋅b3⋅a4⋅b4⋅a5⋅a6⋅b6⋅a7
+112⋅V^5⋅f/(45⋅J^5) + 68⋅V^3⋅f^3/(45⋅J^5)⋅a2⋅a3⋅a4⋅b4⋅a5⋅a6⋅b6
−16⋅i⋅V^4⋅f^2/(15⋅J^5)⋅a2⋅b2⋅b3⋅a4⋅a5⋅b5⋅a6⋅b6⋅b7
+2⋅D23⋅V + 2⋅i⋅D29⋅f + 2⋅i⋅D75⋅f + 2⋅i⋅D84⋅f⋅a1⋅b1⋅b2⋅b3⋅b4
+14⋅V^3⋅f^3/(27⋅J^5)⋅a1⋅a3⋅b3⋅a4⋅b6⋅a7⋅a8
+2⋅i⋅D27⋅f + 2⋅D28⋅V - 28⋅V^5⋅f/(27⋅J^5) - 28⋅V^3⋅f^3/(9⋅J^5)⋅a1⋅b1⋅b2⋅a3⋅b3⋅a4⋅b4
+2⋅i⋅V^4⋅f^2/J^5⋅b2⋅a3⋅b4⋅a5⋅a6⋅a7⋅b8⋅a9⋅a10
+16⋅V^3⋅f^3/(15⋅J^5)⋅a2⋅b2⋅a4⋅b4⋅b5⋅b6⋅a7
+2⋅D4⋅V + 26⋅i⋅V^4⋅f^2/(135⋅J^5) - 194⋅i⋅V^2⋅f^4/(45⋅J^5)⋅a2⋅a3⋅b4⋅a5⋅a6
−2⋅D104⋅V - 2⋅i⋅V^4⋅f^2/(3⋅J^5)⋅a1⋅b1⋅a3⋅a4⋅b4⋅a5⋅b5⋅a6⋅a7
+2⋅i⋅V^2⋅f^4/J^5⋅b3⋅a4⋅b6⋅a7⋅b8
−4⋅V^3⋅f^3/(3⋅J^5) - 2⋅V⋅f^5/J^5⋅b3⋅b4⋅a7
−2⋅i⋅D80⋅f - 2⋅D99⋅V⋅a1⋅b1⋅b3⋅a4⋅b5⋅a6⋅a7⋅a8⋅b8
−14⋅i⋅V^4⋅f^2/(9⋅J^5)⋅a2⋅b2⋅a3⋅b3⋅a4⋅b4⋅b5⋅a6⋅b7
+2⋅i⋅D64⋅f⋅b1⋅a2⋅b4⋅a5⋅a7
−2⋅D53⋅V - 2⋅i⋅V^4⋅f^2/(3⋅J^5)⋅a1⋅b1⋅a2⋅a3⋅b3⋅a4⋅a5⋅b5⋅a6
+2⋅D32⋅V - 2⋅i⋅D47⋅f⋅a1⋅b2⋅a3⋅b3⋅b5⋅a6⋅a7
+2⋅i⋅D119⋅f + 2⋅D66⋅V⋅a1⋅a2⋅b2⋅a3⋅b3⋅b4⋅a6
−74⋅V^3⋅f^3/(27⋅J^5)⋅b2⋅a3⋅b3⋅a4⋅b5⋅b6⋅a7
+2⋅i⋅D17⋅f - 52⋅V^3⋅f^3/(45⋅J^5)⋅a1⋅b2⋅b3⋅a4⋅b4⋅a6⋅b6
+2⋅i⋅D68⋅f - 334⋅i⋅V^4⋅f^2/(135⋅J^5) - 242⋅i⋅V^2⋅f^4/(27⋅J^5)⋅b1⋅a2⋅a3⋅a4⋅a6
+2⋅i⋅V^4⋅f^2/(3⋅J^5)⋅b1⋅a2⋅b3⋅b4⋅a5⋅a6⋅b6⋅a7⋅b8
−2⋅D83⋅V - 2⋅V^5⋅f/J^5⋅a1⋅b1⋅a2⋅b2⋅a3⋅b3⋅a4⋅b4⋅b6⋅a7⋅b7
−2⋅V^3⋅f^3/J^5 - 2⋅V⋅f^5/J^5⋅b3⋅a4⋅b7
−14⋅V^5⋅f/(9⋅J^5) - 2⋅V^3⋅f^3/J^5⋅b1⋅a2⋅a5⋅a6⋅b7⋅a8⋅a9
+2⋅D25⋅V⋅a1⋅a3⋅b3⋅b4⋅a5⋅b5⋅a6
+2⋅D114⋅V⋅a1⋅b1⋅b2⋅a3⋅b3⋅a4⋅b4⋅a5⋅a6
+4⋅V^3⋅f^3/(15⋅J^5)⋅a1⋅a3⋅b3⋅a4⋅a5⋅b5⋅a7
+2⋅i⋅V^2⋅f^4/J^5⋅b3⋅a4⋅b5⋅b6⋅a8
+20⋅i⋅V^4⋅f^2/(9⋅J^5)⋅a2⋅b2⋅a3⋅a4⋅b4⋅b5⋅b6⋅a7⋅b7
+16⋅i⋅V^4⋅f^2/(15⋅J^5) + 40⋅i⋅V^2⋅f^4/(27⋅J^5)⋅a2⋅b2⋅b3⋅b4⋅a7
+2⋅D57⋅V + 2⋅i⋅D92⋅f + 26⋅i⋅V^4⋅f^2/(9⋅J^5)⋅a1⋅b1⋅a2⋅a3⋅a4⋅a5⋅b6⋅a7⋅b7
+4⋅i⋅V^4⋅f^2/(15⋅J^5)⋅b1⋅b2⋅a3⋅a4⋅b4⋅a5⋅b5⋅a6⋅b6
+2⋅D13⋅V + 4⋅i⋅V^4⋅f^2/(9⋅J^5)⋅a1⋅a2⋅a3⋅b5⋅a7
+4⋅i⋅V^4⋅f^2/(15⋅J^5)⋅a1⋅b1⋅b2⋅a3⋅b3⋅a5⋅b5⋅a6⋅b6
−16⋅i⋅V^4⋅f^2/(15⋅J^5)⋅b1⋅a2⋅a3⋅b3⋅a5⋅b5⋅b7⋅a8⋅b8
−20⋅V^5⋅f/(9⋅J^5) - 8⋅V^3⋅f^3/(9⋅J^5)⋅b1⋅a2⋅b3⋅a5⋅b7⋅a8⋅b8
+2⋅i⋅D101⋅f + 2⋅i⋅D103⋅f - 2⋅i⋅D105⋅f⋅a1⋅b2⋅b3⋅a5⋅b5⋅a6⋅a7
+28⋅i⋅V^2⋅f^4/(27⋅J^5)⋅a1⋅a3⋅a5⋅b5⋅a6
−224⋅V^5⋅f/(135⋅J^5) + 86⋅V^3⋅f^3/(15⋅J^5)⋅a2⋅a3⋅b3⋅a4⋅a5⋅b5⋅a6
−14⋅V^3⋅f^3/(9⋅J^5)⋅a2⋅a3⋅a4⋅b4⋅b6⋅a7⋅a8
+2⋅i⋅D99⋅f⋅a1⋅b2⋅b3⋅a4⋅b5⋅a6⋅a8
−2⋅D30⋅V - 2⋅D34⋅V⋅a1⋅b3⋅a4⋅b4⋅a5⋅a6⋅b6
+2⋅D13⋅V - 2⋅D15⋅V + 2⋅D17⋅V + 2⋅D51⋅V + 38⋅i⋅V^4⋅f^2/(9⋅J^5)⋅a1⋅a2⋅b3⋅a4⋅a5⋅b5⋅a6⋅a7⋅b7
+2⋅V^3⋅f^3/J^5⋅b3⋅a4⋅b5⋅a6⋅b8⋅a9⋅b9
+56⋅i⋅V^4⋅f^2/(135⋅J^5)⋅a2⋅b2⋅b3⋅a4⋅b4⋅a6⋅b7⋅a8⋅b8
+2⋅i⋅V^4⋅f^2/J^5⋅a1⋅a2⋅b3⋅a4⋅b5⋅a6⋅b7⋅a8⋅a10
−32⋅V^3⋅f^3/(27⋅J^5)⋅b1⋅a2⋅b2⋅a5⋅b6⋅a7⋅b7
+2⋅i⋅V^2⋅f^4/J^5⋅b2⋅b3⋅b4⋅a5⋅a8
+2⋅V^3⋅f^3/J^5⋅b1⋅a2⋅b5⋅a6⋅b8⋅a9⋅b9
+28⋅i⋅V^4⋅f^2/(27⋅J^5)⋅b1⋅a3⋅b4⋅a5⋅b6⋅a7⋅b8⋅a9⋅b9
+2⋅i⋅D16⋅f + 2⋅D9⋅V⋅a1⋅a2⋅b3⋅a4⋅b4⋅b5⋅a6
+4⋅i⋅V^4⋅f^2/(9⋅J^5)⋅b1⋅a2⋅b3⋅a5⋅a6⋅b6⋅b7⋅a8⋅b8
+94⋅i⋅V^4⋅f^2/(27⋅J^5) + 2⋅i⋅V^2⋅f^4/J^5⋅b1⋅b2⋅b6⋅a7⋅a8
−2⋅V^3⋅f^3/J^5⋅b2⋅a3⋅a4⋅a5⋅b7⋅a8⋅a9
+2⋅D35⋅V - 2⋅D65⋅V + 2⋅D68⋅V - 2⋅D70⋅V + 2⋅i⋅D88⋅f - 16⋅V^5⋅f/(9⋅J^5) - 46⋅V^3⋅f^3/(9⋅J^5) - 28⋅V⋅f^5/(27⋅J^5)⋅a1⋅a3⋅a6
+2⋅i⋅D116⋅f⋅b1⋅a2⋅a5⋅b5⋅a6
−14⋅i⋅V^4⋅f^2/(27⋅J^5)⋅a1⋅a2⋅b2⋅b3⋅a4⋅a5⋅b6⋅a7⋅a8
+2⋅i⋅D100⋅f + 22⋅V^3⋅f^3/(9⋅J^5)⋅a1⋅a2⋅a4⋅a5⋅b5⋅b6⋅a7
−22⋅V^3⋅f^3/(9⋅J^5)⋅b1⋅a2⋅b4⋅a5⋅b5⋅a6⋅b7
−152⋅V^3⋅f^3/(27⋅J^5) - 28⋅V⋅f^5/(9⋅J^5)⋅a3⋅b3⋅b6
+40⋅i⋅V^4⋅f^2/(27⋅J^5)⋅a1⋅a2⋅a3⋅b3⋅b5⋅a6⋅b7⋅a8⋅a9
+2⋅i⋅V^4⋅f^2/(3⋅J^5)⋅b1⋅b2⋅b3⋅a4⋅a6⋅a7⋅b7⋅a8⋅b8
+4⋅V^3⋅f^3/(9⋅J^5)⋅a1⋅b1⋅a2⋅a4⋅a5⋅b5⋅a6
+2⋅i⋅D55⋅f + 34⋅V^5⋅f/(135⋅J^5) - 76⋅V^3⋅f^3/(45⋅J^5)⋅a1⋅b1⋅b2⋅a3⋅b3⋅a5⋅b5
+4⋅V^3⋅f^3/(3⋅J^5)⋅b1⋅a2⋅b3⋅a4⋅a5⋅a7⋅a8
+4⋅i⋅V^4⋅f^2/(15⋅J^5) - 142⋅i⋅V^2⋅f^4/(135⋅J^5)⋅a2⋅a3⋅a4⋅b5⋅a6
−2⋅i⋅D60⋅f⋅a1⋅b1⋅a3⋅a4⋅a6⋅b6⋅a7
+2⋅D63⋅V⋅a1⋅b1⋅b4⋅a5⋅a6⋅b6⋅b7
+52⋅i⋅V^4⋅f^2/(27⋅J^5)⋅a2⋅a3⋅b3⋅a4⋅b5⋅b6⋅b7⋅a8⋅b8
+38⋅V^3⋅f^3/(9⋅J^5)⋅b2⋅b3⋅a4⋅b4⋅a5⋅b5⋅a7
−14⋅V^3⋅f^3/(27⋅J^5)⋅b1⋅a2⋅b2⋅b4⋅b5⋅a6⋅a8
−2⋅i⋅D108⋅f + 2⋅D26⋅V - 2⋅D47⋅V⋅a1⋅b1⋅a2⋅a3⋅b3⋅a4⋅b5⋅a6⋅b6
+2⋅i⋅D80⋅f⋅a1⋅a2⋅b3⋅a4⋅b5⋅a6⋅b7⋅b8⋅a9
+2⋅D5⋅V⋅a1⋅a2⋅b2⋅a3⋅b4⋅a5⋅b6⋅a7⋅b7
−2⋅i⋅D99⋅f⋅a1⋅a2⋅a3⋅a4⋅b5⋅a6⋅a8
−224⋅i⋅V^4⋅f^2/(135⋅J^5) + 4⋅i⋅V^2⋅f^4/(3⋅J^5)⋅a2⋅a3⋅b4⋅a6⋅a7
−2⋅D2⋅V⋅a1⋅b2⋅a3⋅b5⋅a6
+2⋅i⋅D12⋅f - 2⋅i⋅D14⋅f - 2⋅i⋅D16⋅f⋅a1⋅a2⋅b3⋅a4⋅a5⋅b5⋅b7
−110⋅i⋅V^4⋅f^2/(27⋅J^5)⋅b1⋅b2⋅a3⋅b3⋅a4⋅b4⋅a5⋅b5⋅a7
+2⋅D53⋅V + 2⋅D55⋅V - 2⋅D57⋅V - 226⋅i⋅V^4⋅f^2/(135⋅J^5) - 116⋅i⋅V^2⋅f^4/(45⋅J^5)⋅b2⋅a3⋅a4⋅b4⋅b5
−4⋅V^3⋅f^3/(9⋅J^5)⋅b2⋅a3⋅b3⋅a5⋅b7⋅a8⋅b8
+2⋅i⋅D92⋅f⋅a1⋅b1⋅a2⋅b2⋅b4⋅b5⋅b6⋅a7⋅a8
−224⋅i⋅V^4⋅f^2/(135⋅J^5)⋅a2⋅a3⋅b3⋅a4⋅b4⋅b5⋅a6⋅b6⋅b7
+14⋅V^3⋅f^3/(27⋅J^5)⋅a1⋅a2⋅b2⋅a3⋅b3⋅a4⋅a7
+4⋅V^3⋅f^3/(3⋅J^5)⋅a3⋅b3⋅a4⋅b4⋅b5⋅b6⋅a7
+2⋅D121⋅V - 2⋅i⋅D66⋅f + 2⋅i⋅D67⋅f + 2⋅i⋅D69⋅f⋅a1⋅b2⋅a3⋅b3⋅a6
−56⋅i⋅V^4⋅f^2/(27⋅J^5)⋅b1⋅a2⋅b2⋅a3⋅b3⋅a5⋅b6⋅a7⋅b7
+4⋅i⋅V^4⋅f^2/(9⋅J^5)⋅b1⋅b2⋅b3⋅a4⋅b4⋅b5⋅a6⋅a7⋅a8
+2⋅i⋅V^6/J^5⋅b1⋅a2⋅b3⋅a4⋅b5⋅a6⋅b7⋅a8⋅b9⋅a10⋅b11⋅a12⋅b12
−2⋅D21⋅V⋅a1⋅a2⋅b2⋅b3⋅a4⋅a5⋅b6⋅a7⋅b7
+2⋅i⋅V^4⋅f^2/J^5 + 2⋅i⋅V^2⋅f^4/J^5⋅b2⋅a3⋅b4⋅a5⋅b8
+2⋅V^3⋅f^3/J^5⋅b3⋅a4⋅b5⋅a6⋅b7⋅a8⋅b9
−2⋅V^5⋅f/(3⋅J^5) + 58⋅V^3⋅f^3/(27⋅J^5)⋅b1⋅b2⋅a3⋅b4⋅a5⋅b5⋅a6
−2⋅V^5⋅f/J^5⋅b1⋅a2⋅b3⋅a4⋅b5⋅a6⋅b7⋅a8⋅b9⋅a10⋅b11
−2⋅D100⋅V + 2⋅i⋅V^4⋅f^2/J^5⋅a1⋅a2⋅a4⋅b6⋅a7
−2⋅D24⋅V - 2⋅i⋅D39⋅f + 56⋅V^3⋅f^3/(135⋅J^5)⋅a1⋅a3⋅b3⋅a4⋅a5⋅a6⋅b6
+2⋅D3⋅V - 2⋅D86⋅V - 26⋅i⋅V^4⋅f^2/(9⋅J^5)⋅a1⋅b2⋅a3⋅b3⋅b4⋅a5⋅b6⋅a7⋅b7
−14⋅i⋅V^4⋅f^2/(27⋅J^5) - 28⋅i⋅V^2⋅f^4/(27⋅J^5)⋅b1⋅b3⋅a5⋅b5⋅a6
+14⋅V^5⋅f/(27⋅J^5)⋅a1⋅b3⋅a4⋅a5⋅b6⋅a7⋅a8
−2⋅i⋅V^4⋅f^2/J^5⋅b1⋅a2⋅b3⋅b4⋅a5⋅a6⋅b7⋅a8⋅b8
−14⋅V^3⋅f^3/(9⋅J^5)⋅b1⋅b3⋅a4⋅b4⋅a5⋅b5⋅a6
−466⋅i⋅V^4⋅f^2/(135⋅J^5) - 8⋅i⋅V^2⋅f^4/(9⋅J^5)⋅b1⋅b2⋅b3⋅a5⋅a7
+14⋅V^5⋅f/(27⋅J^5)⋅a1⋅a4⋅b5⋅a6⋅b7⋅a8⋅a9
+296⋅V^3⋅f^3/(135⋅J^5)⋅a2⋅a3⋅b3⋅a4⋅a5⋅a6⋅b7
−56⋅V^3⋅f^3/(135⋅J^5)⋅a2⋅b2⋅b3⋅a4⋅b4⋅b6⋅a7
−4⋅i⋅V^4⋅f^2/(9⋅J^5)⋅a2⋅a3⋅b3⋅a4⋅b4⋅a5⋅b6⋅a7⋅a8
−2⋅D21⋅V - 2⋅i⋅D34⋅f - 2⋅i⋅D97⋅f⋅a1⋅a3⋅a4⋅a5⋅a6
−2⋅D128⋅V + 1472⋅i⋅V^4⋅f^2/(135⋅J^5) + 988⋅i⋅V^2⋅f^4/(135⋅J^5)⋅a2⋅a3⋅a4⋅b4⋅a5
−14⋅i⋅V^4⋅f^2/(27⋅J^5)⋅b1⋅a3⋅b3⋅a4⋅b5⋅a6⋅a7⋅a8⋅a9
−14⋅V^5⋅f/(9⋅J^5)⋅b1⋅b2⋅a3⋅b3⋅a4⋅b4⋅b5⋅a6⋅b7⋅a8⋅a9
−2⋅i⋅D30⋅f - 2⋅D89⋅V⋅a1⋅b3⋅a5⋅a6⋅b6
−2⋅V^3⋅f^3/(3⋅J^5)⋅b1⋅b2⋅b4⋅a6⋅b6⋅a7⋅a8
−2⋅V^3⋅f^3/J^5⋅b1⋅a2⋅a3⋅b3⋅a4⋅a5⋅a8
+2⋅i⋅D30⋅f + 2⋅D49⋅V⋅b1⋅a4⋅b5⋅a6⋅a7
−2⋅i⋅D115⋅f - 2⋅i⋅D71⋅f + 20⋅V^3⋅f^3/(9⋅J^5)⋅a1⋅b1⋅a2⋅b3⋅b4⋅a5⋅b6
−476⋅i⋅V^4⋅f^2/(135⋅J^5)⋅a2⋅b4⋅a5⋅b5⋅b6
−56⋅i⋅V^4⋅f^2/(135⋅J^5) - 26⋅i⋅V^2⋅f^4/(9⋅J^5)⋅a3⋅a4⋅b4⋅b5⋅b6
+424⋅i⋅V^4⋅f^2/(135⋅J^5)⋅b1⋅b2⋅b3⋅b4⋅b5⋅a6⋅b7⋅a8⋅b8
+2⋅V^5⋅f/(9⋅J^5)⋅b1⋅a2⋅b2⋅b5⋅a6⋅a7⋅b7
−4⋅V^3⋅f^3/(3⋅J^5)⋅a2⋅a3⋅b4⋅a5⋅a6⋅b6⋅a8
−2⋅D104⋅V - 2⋅i⋅V^4⋅f^2/(3⋅J^5)⋅a1⋅b1⋅b3⋅b6⋅a7
−10⋅i⋅V^4⋅f^2/(3⋅J^5)⋅b1⋅a2⋅b3⋅a4⋅b5⋅b6⋅a7⋅a8⋅b8
−40⋅i⋅V^4⋅f^2/(27⋅J^5)⋅b1⋅a2⋅a3⋅b3⋅b5⋅a6⋅a7⋅b7⋅b8
+2⋅i⋅D52⋅f + 2⋅D7⋅V⋅a1⋅b1⋅b3⋅b4⋅b6⋅a7⋅b7
−40⋅V^3⋅f^3/(27⋅J^5)⋅a2⋅b2⋅b3⋅a4⋅a6⋅a7⋅a8
+4⋅i⋅V^4⋅f^2/(9⋅J^5)⋅b1⋅a2⋅b3⋅a4⋅b4⋅b5⋅a6⋅b7⋅a8
−2⋅D110⋅V + 2⋅D30⋅V + 2⋅D34⋅V - 2⋅D75⋅V + 2⋅i⋅D79⋅f - 2⋅i⋅D89⋅f⋅a1⋅b3⋅a5
+2⋅i⋅D124⋅f + 2⋅i⋅D68⋅f - 112⋅i⋅V^2⋅f^4/(27⋅J^5)⋅a1⋅a2⋅a3⋅a4⋅b6
−2⋅i⋅D124⋅f - 2⋅i⋅D24⋅f + 70⋅i⋅V^2⋅f^4/(27⋅J^5)⋅a1⋅b2⋅b3⋅a4⋅b6
+2⋅i⋅D87⋅f⋅a1⋅a2⋅b4⋅a5⋅b6⋅b7⋅a8
−2⋅i⋅V^4⋅f^2/(3⋅J^5)⋅a1⋅b1⋅a2⋅a3⋅a5⋅a6⋅b6⋅a7⋅b7
+2⋅i⋅V^4⋅f^2/J^5⋅b1⋅a2⋅b3⋅a4⋅a5⋅a6⋅b8⋅a9⋅a10
+2⋅i⋅D101⋅f + 2⋅i⋅D103⋅f - 2⋅i⋅D105⋅f⋅b1⋅a2⋅b3⋅a5⋅b5⋅a6⋅a7
−2⋅D83⋅V - 2⋅V^5⋅f/J^5⋅a1⋅b1⋅a2⋅b2⋅a3⋅b3⋅a4⋅b4⋅a5⋅b5⋅b6
+4⋅V^3⋅f^3/(9⋅J^5)⋅b1⋅a2⋅b3⋅b4⋅a5⋅b6⋅a7
+68⋅i⋅V^4⋅f^2/(27⋅J^5)⋅a1⋅a2⋅a3⋅b3⋅a4⋅b4⋅a5⋅b5⋅a7
+2⋅D124⋅V + 2⋅i⋅D60⋅f⋅a1⋅b1⋅b3⋅a4⋅a6⋅b6⋅b7
−2⋅i⋅V^4⋅f^2/(3⋅J^5)⋅b1⋅b2⋅b3⋅a4⋅b5⋅a6⋅b6⋅b7⋅b8
−28⋅i⋅V^4⋅f^2/(15⋅J^5) - 56⋅i⋅V^2⋅f^4/(45⋅J^5)⋅a2⋅b2⋅b3⋅b4⋅a5
+2⋅i⋅V^4⋅f^2/(3⋅J^5)⋅b2⋅a3⋅b4⋅a6⋅b6⋅a7⋅b8⋅a9⋅b9
+4⋅V^3⋅f^3/(9⋅J^5)⋅b1⋅a2⋅a3⋅a4⋅b4⋅a6⋅a8
+2⋅i⋅V^4⋅f^2/J^5⋅b2⋅a3⋅a4⋅a5⋅b6⋅a7⋅b8⋅a9⋅a10
+2⋅i⋅V^4⋅f^2/J^5⋅b1⋅a2⋅a3⋅a4⋅b5⋅a6⋅b8⋅a9⋅a10
−2⋅i⋅D78⋅f - 314⋅V^5⋅f/(135⋅J^5) - 184⋅V^3⋅f^3/(45⋅J^5) + 10⋅V⋅f^5/(27⋅J^5)⋅b1⋅b2⋅a5
−106⋅V^3⋅f^3/(135⋅J^5)⋅b1⋅a3⋅b3⋅b4⋅a5⋅b5⋅a7
−2⋅V^3⋅f^3/J^5⋅a1⋅a2⋅b3⋅a4⋅b6⋅a7⋅a9
−34⋅V^5⋅f/(135⋅J^5) - 382⋅V^3⋅f^3/(135⋅J^5)⋅a1⋅a2⋅b2⋅a3⋅b3⋅a5⋅a6
+38⋅i⋅V^4⋅f^2/(27⋅J^5)⋅b1⋅a2⋅b2⋅a5⋅b5⋅a6⋅b7⋅a8⋅b8
+2⋅D106⋅V⋅a1⋅b1⋅a2⋅a3⋅b6⋅a7⋅b7
+326⋅i⋅V^4⋅f^2/(135⋅J^5)⋅a2⋅b4⋅a5⋅a6⋅a7
−4⋅V^3⋅f^3/(9⋅J^5)⋅b2⋅a3⋅b3⋅b4⋅a5⋅a6⋅b7
+56⋅i⋅V^4⋅f^2/(135⋅J^5) + 2⋅i⋅V^2⋅f^4/(3⋅J^5)⋅a3⋅a4⋅b4⋅a6⋅a7
−2⋅i⋅D63⋅f + 160⋅i⋅V^4⋅f^2/(27⋅J^5) + 98⋅i⋅V^2⋅f^4/(27⋅J^5)⋅b1⋅a2⋅b4⋅a5⋅b6
+628⋅i⋅V^4⋅f^2/(135⋅J^5) + 22⋅i⋅V^2⋅f^4/(27⋅J^5)⋅b1⋅b2⋅a5⋅a6⋅b6
+2⋅i⋅D3⋅f - 2⋅D63⋅V + 26⋅V^3⋅f^3/(9⋅J^5)⋅a1⋅b2⋅a3⋅b3⋅b4⋅a5⋅b6
+2⋅i⋅D4⋅f - 2⋅i⋅D71⋅f + 56⋅V^3⋅f^3/(27⋅J^5)⋅a1⋅b1⋅b2⋅a3⋅b4⋅a5⋅b6
+2⋅i⋅D108⋅f - 2⋅D49⋅V⋅a1⋅a2⋅b2⋅a3⋅b3⋅b4⋅b5⋅a6⋅a7
−2⋅D63⋅V⋅a1⋅b1⋅a3⋅b3⋅a4⋅a5⋅a7
−2⋅i⋅D100⋅f + 2⋅i⋅D13⋅f + 2⋅D44⋅V + 2⋅i⋅D46⋅f - 2⋅D95⋅V + 4⋅V^3⋅f^3/(3⋅J^5)⋅a1⋅b1⋅b3⋅a4⋅b5⋅a6⋅b6
+2⋅D104⋅V + 2⋅D133⋅V - 8⋅i⋅V^4⋅f^2/(9⋅J^5)⋅a1⋅b2⋅a3⋅b3⋅a4⋅b4⋅b5⋅a6⋅b6
−2⋅i⋅D47⋅f⋅b1⋅a2⋅a3⋅b3⋅b5⋅a6⋅a7
+14⋅V^5⋅f/(9⋅J^5) + 14⋅V^3⋅f^3/(3⋅J^5)⋅b1⋅a2⋅a5⋅b5⋅a6⋅b6⋅b7
−2⋅D126⋅V - 2⋅D4⋅V - 2⋅i⋅D74⋅f - 2⋅i⋅D85⋅f + 56⋅i⋅V^4⋅f^2/(27⋅J^5) + 28⋅i⋅V^2⋅f^4/(27⋅J^5)⋅a1⋅a2⋅b2⋅a3⋅a4
−2⋅i⋅V^4⋅f^2/J^5⋅b2⋅a3⋅b4⋅b5⋅b6⋅a7⋅b8⋅a9⋅a10
+2⋅V^3⋅f^3/J^5⋅b1⋅a2⋅b3⋅a4⋅b6⋅a7⋅b9
+4⋅i⋅V^4⋅f^2/(9⋅J^5)⋅b1⋅b2⋅a3⋅a4⋅b4⋅b5⋅b6⋅a7⋅a8
+2⋅i⋅D66⋅f + 2⋅D89⋅V⋅b1⋅a2⋅b2⋅a4⋅a6
−2⋅i⋅V^4⋅f^2/J^5⋅b2⋅a3⋅b4⋅a5⋅b6⋅a7⋅b8⋅a9⋅b10
−8⋅V^5⋅f/(27⋅J^5)⋅a1⋅b1⋅b2⋅a5⋅b5⋅a6⋅b6
+224⋅V^3⋅f^3/(135⋅J^5)⋅a1⋅a2⋅b2⋅b3⋅b4⋅b5⋅a7
−2⋅D132⋅V - 28⋅i⋅V^4⋅f^2/(9⋅J^5) - 8⋅i⋅V^2⋅f^4/(3⋅J^5)⋅b2⋅b3⋅a4⋅b4⋅a5
+68⋅i⋅V^4⋅f^2/(27⋅J^5) + 80⋅i⋅V^2⋅f^4/(27⋅J^5)⋅a2⋅b2⋅b5⋅a6⋅b7
+2⋅V^5⋅f/(9⋅J^5)⋅a1⋅b3⋅b4⋅a5⋅b5⋅a6⋅b6
+14⋅V^5⋅f/(9⋅J^5)⋅b1⋅a2⋅a3⋅b3⋅b4⋅a5⋅b5⋅a6⋅b7⋅a8⋅b8
−2⋅i⋅D47⋅f⋅a1⋅a2⋅a3⋅b3⋅b5⋅a6⋅b7
+118⋅i⋅V^4⋅f^2/(45⋅J^5) + 8⋅i⋅V^2⋅f^4/(3⋅J^5)⋅b1⋅b2⋅a5⋅b5⋅a7
+2⋅D86⋅V⋅a1⋅b1⋅b4⋅a5⋅b6⋅a7⋅b8⋅a9⋅b9
−2⋅i⋅V^2⋅f^4/J^5⋅a1⋅a2⋅b4⋅a5⋅a8
−2⋅i⋅D51⋅f⋅a1⋅b1⋅a3⋅a4⋅b6⋅a7⋅a8
+40⋅V^3⋅f^3/(27⋅J^5)⋅b1⋅b2⋅b4⋅a5⋅a6⋅a7⋅b7
+2⋅i⋅V^4⋅f^2/J^5⋅a1⋅a2⋅b3⋅a4⋅a6⋅b6⋅a7⋅b7⋅a8
+2⋅i⋅D97⋅f⋅a1⋅a3⋅b4⋅a5⋅b6
+2⋅i⋅D18⋅f⋅a1⋅b1⋅a3⋅b3⋅a4⋅b4⋅b6
+4⋅i⋅V^4⋅f^2/J^5 + 2⋅i⋅V^2⋅f^4/J^5⋅b5⋅a6⋅b7⋅a8⋅b8
+2⋅D108⋅V + 2⋅D29⋅V - 2⋅i⋅D47⋅f⋅a1⋅b1⋅a2⋅a4⋅b5⋅a6⋅b6
−4⋅V^3⋅f^3/(9⋅J^5)⋅b2⋅a3⋅b3⋅a5⋅a6⋅b6⋅b7
+2⋅i⋅D121⋅f + 2⋅D66⋅V - 2⋅D67⋅V - 2⋅D69⋅V⋅a1⋅b2⋅a6
+14⋅V^3⋅f^3/(9⋅J^5)⋅b2⋅a3⋅a4⋅b4⋅b6⋅a7⋅b8
−706⋅i⋅V^4⋅f^2/(135⋅J^5) - 56⋅i⋅V^2⋅f^4/(45⋅J^5)⋅a2⋅b2⋅b3⋅b5⋅a6
+2⋅V^3⋅f^3/J^5⋅b1⋅b2⋅b4⋅a5⋅b6⋅a7⋅a9
+14⋅V^3⋅f^3/(27⋅J^5)⋅b1⋅a3⋅b3⋅a4⋅a6⋅a7⋅a8
+14⋅i⋅V^4⋅f^2/(9⋅J^5)⋅b1⋅a2⋅a3⋅b3⋅b4⋅a5⋅b5⋅a6⋅b7
+2⋅D0⋅V + 2⋅D19⋅V - 2⋅D21⋅V + 2⋅D23⋅V - 2⋅i⋅D61⋅f - 2⋅D79⋅V + 2⋅i⋅D84⋅f⋅a1⋅a2⋅a3⋅b3⋅b4
+2⋅i⋅D9⋅f⋅b1⋅a2⋅b3⋅a5⋅a6
+2⋅i⋅D51⋅f + 2⋅D68⋅V - 112⋅V^3⋅f^3/(27⋅J^5)⋅a1⋅a2⋅a3⋅a4⋅b6⋅a7⋅b7
+4⋅i⋅V^4⋅f^2/(9⋅J^5)⋅b1⋅a2⋅b3⋅a4⋅b4⋅b6⋅b7⋅a8⋅a9
−2⋅i⋅V^4⋅f^2/J^5⋅b2⋅a3⋅b4⋅a5⋅b6⋅b7⋅b8⋅a9⋅a10
−2⋅i⋅D103⋅f + 2⋅D122⋅V + 2⋅i⋅D45⋅f⋅a1⋅a2⋅a3⋅b4⋅b5⋅a6⋅b6
+14⋅i⋅V^4⋅f^2/(9⋅J^5) + 8⋅i⋅V^2⋅f^4/(3⋅J^5)⋅b2⋅b3⋅a5⋅b5⋅a7
+2⋅i⋅D117⋅f - 2⋅i⋅D63⋅f - 4⋅i⋅V^4⋅f^2/(9⋅J^5) + 8⋅i⋅V^2⋅f^4/(3⋅J^5)⋅a1⋅a2⋅b4⋅b5⋅b6
+2⋅D66⋅V⋅a1⋅a2⋅b2⋅a4⋅a5⋅b5⋅b6
+2⋅D111⋅V - 2⋅D31⋅V + 2⋅i⋅D39⋅f - 32⋅V^5⋅f/(27⋅J^5) - 56⋅V^3⋅f^3/(135⋅J^5)⋅a1⋅a3⋅b3⋅b4⋅b5⋅a6⋅b6
+2⋅D72⋅V⋅a1⋅b1⋅a2⋅a3⋅b4⋅a5⋅a6⋅b6⋅b7
+2⋅i⋅V^4⋅f^2/(3⋅J^5)⋅b1⋅a2⋅b3⋅b4⋅a5⋅a6⋅b6⋅b7⋅a8
−2⋅i⋅D92⋅f⋅a1⋅b1⋅a2⋅b2⋅a4⋅a5⋅b6⋅a7⋅a8
+2⋅i⋅D1⋅f - 28⋅V^5⋅f/(9⋅J^5) - 122⋅V^3⋅f^3/(27⋅J^5) + 58⋅V⋅f^5/(27⋅J^5)⋅b1⋅a2⋅b3
−40⋅V^3⋅f^3/(27⋅J^5)⋅a1⋅a2⋅a3⋅b3⋅a4⋅b4⋅a7
−4⋅V^5⋅f/(15⋅J^5) - 20⋅V^3⋅f^3/(27⋅J^5)⋅b1⋅a3⋅b3⋅b4⋅a5⋅a6⋅b6
+2⋅i⋅D109⋅f + 2⋅D48⋅V + 226⋅i⋅V^4⋅f^2/(135⋅J^5)⋅a1⋅b1⋅b2⋅a3⋅b3⋅b4⋅b5⋅a6⋅a7
−122⋅V^3⋅f^3/(27⋅J^5)⋅a2⋅b2⋅a3⋅b3⋅a4⋅a5⋅a7
−2⋅V^3⋅f^3/J^5 - 2⋅V⋅f^5/J^5⋅b4⋅b5⋅a7
+2⋅D19⋅V - 2⋅D87⋅V⋅a1⋅b1⋅a3⋅b3⋅a4⋅a5⋅b6⋅a7⋅b7
+4⋅V^3⋅f^3/(3⋅J^5)⋅a3⋅b3⋅a4⋅b4⋅b5⋅a6⋅b7
+52⋅V^3⋅f^3/(27⋅J^5)⋅a1⋅a2⋅b2⋅a4⋅b4⋅a5⋅a6
+4⋅i⋅V^4⋅f^2/(9⋅J^5)⋅b1⋅b2⋅a3⋅a4⋅a5⋅b5⋅b6⋅a7⋅b7
−2⋅i⋅D40⋅f + 2⋅i⋅D45⋅f + 2⋅D61⋅V⋅a1⋅b2⋅a3⋅a4⋅b5⋅a6⋅b6
+2⋅i⋅V^2⋅f^4/J^5⋅b1⋅a2⋅b5⋅b6⋅a8
−206⋅i⋅V^4⋅f^2/(135⋅J^5) + 362⋅i⋅V^2⋅f^4/(135⋅J^5)⋅b1⋅b2⋅a3⋅b4⋅a6
+14⋅i⋅V^4⋅f^2/(9⋅J^5) + 10⋅i⋅V^2⋅f^4/(27⋅J^5)⋅a1⋅a4⋅b4⋅a5⋅a6
+2⋅D65⋅V - 2⋅D68⋅V + 2⋅D70⋅V - 2⋅i⋅D88⋅f + 406⋅V^5⋅f/(135⋅J^5) + 266⋅V^3⋅f^3/(45⋅J^5) + 28⋅V⋅f^5/(27⋅J^5)⋅b1⋅b3⋅a6
+2⋅i⋅D101⋅f + 2⋅i⋅D103⋅f - 2⋅i⋅D105⋅f - 2⋅D32⋅V + 2⋅D9⋅V⋅a1⋅b1⋅a4⋅b4⋅a5⋅a6⋅b6
−2⋅i⋅V^2⋅f^4/(3⋅J^5)⋅b3⋅a4⋅b4⋅a6⋅b7
+2⋅V^5⋅f/(9⋅J^5)⋅a1⋅a6⋅a7
−2⋅V^3⋅f^3/J^5⋅b1⋅a2⋅b3⋅a4⋅a5⋅a6⋅a9
−2⋅V^3⋅f^3/(3⋅J^5)⋅b2⋅a3⋅b5⋅a6⋅b6⋅a7⋅b7
−2⋅D13⋅V + 2⋅D15⋅V - 2⋅D17⋅V - 2⋅i⋅V^4⋅f^2/(3⋅J^5)⋅a1⋅b1⋅b3⋅a4⋅b4⋅a5⋅b5⋅b6⋅a7
−2⋅V^5⋅f/(9⋅J^5)⋅a1⋅a4⋅b4⋅a5⋅b5⋅a6⋅a7
−2⋅D127⋅V - 2⋅D19⋅V + 2⋅D45⋅V - 2⋅D47⋅V - 2⋅D49⋅V - 2⋅i⋅D69⋅f + 2⋅i⋅D75⋅f + 2⋅D79⋅V⋅a1⋅a2⋅b2⋅b3⋅a5
−40⋅i⋅V^4⋅f^2/(27⋅J^5)⋅b1⋅a2⋅a3⋅b3⋅a4⋅b4⋅a6⋅b6⋅b7
+10⋅i⋅V^2⋅f^4/(27⋅J^5)⋅a2⋅b3⋅b4⋅b5⋅a6
+14⋅i⋅V^4⋅f^2/(9⋅J^5)⋅b1⋅a2⋅a3⋅a4⋅a5⋅b5⋅b7⋅a8⋅a9
+2⋅i⋅V^4⋅f^2/(3⋅J^5)⋅b1⋅b2⋅a3⋅b3⋅a5⋅a6⋅b6⋅a7⋅b7
−2⋅i⋅V^4⋅f^2/J^5⋅b1⋅a2⋅b4⋅a5⋅a7⋅b7⋅b8⋅a9⋅b9
+2⋅i⋅D56⋅f⋅a1⋅b1⋅a2⋅a3⋅a4⋅b4⋅b6
+2⋅i⋅D80⋅f⋅a1⋅a2⋅b3⋅b4⋅b5⋅a6⋅b7⋅a8⋅a9
+2⋅V^5⋅f/J^5⋅b1⋅a2⋅b3⋅a4⋅b5⋅a6⋅a7⋅a8⋅b9⋅a10⋅a11
+2⋅D102⋅V + 2⋅i⋅D33⋅f - 4⋅i⋅V^4⋅f^2/(3⋅J^5) - 2⋅i⋅V^2⋅f^4/J^5⋅a1⋅b1⋅a5⋅a6⋅a7
−2⋅V^3⋅f^3/J^5⋅a2⋅a3⋅b5⋅a6⋅b7⋅a8⋅a9
−56⋅V^3⋅f^3/(135⋅J^5)⋅a2⋅b2⋅b3⋅a4⋅b4⋅a6⋅b7
−2⋅i⋅D98⋅f + 4⋅V^5⋅f/(3⋅J^5) + 368⋅V^3⋅f^3/(27⋅J^5)⋅b1⋅a2⋅b3⋅a4⋅b5⋅a6⋅b7
−2⋅i⋅D106⋅f + 2⋅D38⋅V - 2⋅D54⋅V + 2⋅D56⋅V + 2⋅D58⋅V⋅a1⋅b1⋅a2⋅b2⋅a5
−8⋅V^3⋅f^3/(3⋅J^5)⋅a1⋅a2⋅b3⋅a4⋅a6⋅b6⋅a8
−28⋅V^5⋅f/(27⋅J^5)⋅b1⋅a2⋅b2⋅a3⋅b3⋅a5⋅b5⋅a6⋅b7⋅a8⋅b8
−4⋅V^3⋅f^3/(15⋅J^5)⋅a1⋅a2⋅b2⋅b3⋅b4⋅a6⋅b6
−2⋅i⋅D111⋅f - 2⋅D131⋅V - 2⋅i⋅D24⋅f + 2⋅D39⋅V + 82⋅i⋅V^4⋅f^2/(27⋅J^5) + 2⋅i⋅V^2⋅f^4/(3⋅J^5)⋅a1⋅a3⋅b3⋅a4⋅a5
+2⋅D126⋅V - 2⋅i⋅D35⋅f + 2⋅D4⋅V + 2⋅i⋅D96⋅f - 2⋅i⋅V^4⋅f^2/(9⋅J^5) + 2⋅i⋅V^2⋅f^4/(27⋅J^5)⋅a1⋅b3⋅b4⋅a5⋅b5
−14⋅V^3⋅f^3/(9⋅J^5)⋅b1⋅a2⋅a3⋅a4⋅a5⋅b5⋅a8
+2⋅V^5⋅f/J^5⋅b1⋅a2⋅a3⋅b3⋅a4⋅a5⋅b6⋅a7⋅b8⋅a9⋅a10
+2⋅D53⋅V + 2⋅D55⋅V - 2⋅D57⋅V + 2⋅i⋅V^4⋅f^2/(3⋅J^5)⋅a1⋅b1⋅a2⋅b2⋅a3⋅a4⋅b4⋅a5⋅a6
+2⋅V^3⋅f^3/J^5⋅b2⋅a3⋅b5⋅a6⋅b8⋅a9⋅b9
−14⋅i⋅V^4⋅f^2/(9⋅J^5)⋅b2⋅a3⋅a4⋅b4⋅b6⋅a7⋅b8⋅a9⋅b9
+56⋅V^3⋅f^3/(27⋅J^5)⋅b1⋅a2⋅b2⋅a3⋅b3⋅b5⋅a6
−4⋅V^5⋅f/(9⋅J^5) + 38⋅V^3⋅f^3/(45⋅J^5)⋅b1⋅a2⋅a3⋅b3⋅a4⋅b5⋅b6
−2⋅i⋅D123⋅f - 2⋅D27⋅V - 2⋅i⋅D44⋅f + 2⋅D46⋅V + 2⋅i⋅D65⋅f - 2⋅i⋅D68⋅f + 2⋅i⋅D70⋅f + 2⋅i⋅V^4⋅f^2/(3⋅J^5) + 2⋅i⋅V^2⋅f^4/(9⋅J^5)⋅a1⋅b1⋅a3⋅a4⋅a5
−2⋅i⋅D16⋅f⋅b1⋅a2⋅b3⋅a4⋅b4⋅b5⋅b6
−2⋅i⋅D81⋅f - 2⋅i⋅V^4⋅f^2/J^5⋅a1⋅b1⋅b3⋅a4⋅b5⋅a6⋅b7⋅b8⋅a9
+2⋅D68⋅V + 406⋅V^5⋅f/(135⋅J^5) + 908⋅V^3⋅f^3/(135⋅J^5) + 32⋅V⋅f^5/(27⋅J^5)⋅a2⋅b3⋅b5
−2⋅i⋅D22⋅f - 2⋅i⋅D4⋅f + 2⋅i⋅D57⋅f + 4⋅V^5⋅f/(15⋅J^5) - 6⋅V^3⋅f^3/(5⋅J^5)⋅a1⋅b1⋅b2⋅a3⋅a4⋅a5⋅a6
−2⋅D29⋅V⋅b2⋅a4⋅a5
−2⋅V^5⋅f/J^5⋅b1⋅a2⋅b3⋅a4⋅a6⋅b6⋅a7⋅b7⋅b8⋅a9⋅b9
+2⋅D90⋅V⋅a1⋅b1⋅a2⋅b2⋅a5⋅b5⋅b6⋅a7⋅b7
−2⋅i⋅V^4⋅f^2/(3⋅J^5)⋅b1⋅a2⋅a3⋅b3⋅a4⋅a6⋅b6⋅a7⋅a8
+2⋅V^3⋅f^3/J^5⋅b3⋅a4⋅a6⋅b6⋅b7⋅a8⋅b8
+2⋅D63⋅V + 2⋅i⋅D86⋅f - 16⋅V^3⋅f^3/(3⋅J^5)⋅a1⋅a2⋅b4⋅a5⋅a6⋅a7⋅b7
+2⋅i⋅V^4⋅f^2/J^5⋅b1⋅a2⋅a3⋅b3⋅a4⋅a5⋅b7⋅a8⋅a9
+2⋅D22⋅V + 166⋅i⋅V^4⋅f^2/(135⋅J^5) - 172⋅i⋅V^2⋅f^4/(135⋅J^5)⋅a2⋅b3⋅a4⋅a5⋅a6
+68⋅V^5⋅f/(27⋅J^5) + 14⋅V^3⋅f^3/(9⋅J^5)⋅b1⋅b2⋅a4⋅b4⋅a5⋅b5⋅a7
−40⋅i⋅V^4⋅f^2/(27⋅J^5)⋅a2⋅b2⋅a4⋅b4⋅a5⋅b5⋅b6⋅a7⋅b7
−4⋅i⋅V^4⋅f^2/(9⋅J^5)⋅a1⋅a2⋅b3⋅a5⋅b5⋅a6⋅b7⋅a8⋅a9
−4⋅i⋅V^4⋅f^2/(9⋅J^5)⋅a1⋅a2⋅b3⋅a4⋅b4⋅b5⋅a6⋅a7⋅a8
−2⋅D74⋅V + 2⋅i⋅D78⋅f + 206⋅V^5⋅f/(135⋅J^5) + 458⋅V^3⋅f^3/(135⋅J^5) - 16⋅V⋅f^5/(27⋅J^5)⋅b1⋅a3⋅b4
+2⋅D124⋅V + 2⋅i⋅D13⋅f - 2⋅i⋅D15⋅f + 2⋅i⋅D17⋅f - 2⋅i⋅D41⋅f - 2⋅D6⋅V - 4⋅V^3⋅f^3/(3⋅J^5)⋅a1⋅a2⋅b3⋅a4⋅a5⋅b5⋅a6
+2⋅i⋅V^4⋅f^2/J^5⋅b1⋅a2⋅b3⋅a4⋅b6⋅a7⋅a8⋅a9⋅a10
+2⋅i⋅D49⋅f⋅a1⋅a2⋅b2⋅a4⋅a5⋅a6⋅a7
−2⋅i⋅D13⋅f + 2⋅i⋅D15⋅f - 2⋅i⋅D17⋅f + 2⋅V^3⋅f^3/(3⋅J^5)⋅a1⋅b1⋅b3⋅a4⋅b4⋅b6⋅a7
−14⋅i⋅V^4⋅f^2/(27⋅J^5)⋅a1⋅a2⋅b2⋅a3⋅a4⋅b4⋅a5⋅b5⋅a6
−28⋅V^3⋅f^3/(27⋅J^5)⋅b1⋅a3⋅b4⋅b5⋅b6⋅a7⋅a8
−16⋅V^5⋅f/(9⋅J^5)⋅b1⋅b2⋅a3⋅b3⋅a4⋅b6⋅a7
−2⋅D114⋅V⋅a1⋅b1⋅a2⋅b5⋅a6
−2⋅i⋅D52⋅f⋅a1⋅a2⋅b3⋅a4⋅a6⋅a7⋅a8
−14⋅V^3⋅f^3/(27⋅J^5)⋅b1⋅a2⋅b2⋅a4⋅b5⋅b6⋅a8
+2⋅D53⋅V + 2⋅D73⋅V + 2⋅i⋅D83⋅f - 4⋅i⋅V^4⋅f^2/(3⋅J^5)⋅a1⋅b1⋅a2⋅b2⋅a3⋅b3⋅b4⋅a5⋅b5
+2⋅i⋅D18⋅f + 2⋅i⋅D20⋅f + 2⋅i⋅D22⋅f + 2⋅D63⋅V - 148⋅V^3⋅f^3/(27⋅J^5)⋅a1⋅a2⋅a3⋅b3⋅a4⋅a5⋅b6
−2⋅i⋅D3⋅f + 8⋅V^5⋅f/(45⋅J^5) - 16⋅V^3⋅f^3/(45⋅J^5)⋅b1⋅b2⋅a3⋅a4⋅b4⋅a5⋅b5
−2⋅D37⋅V - 2⋅i⋅V^4⋅f^2/J^5⋅a1⋅b1⋅a2⋅b2⋅b5⋅a6⋅b7⋅a8⋅b8
+2⋅i⋅D50⋅f⋅a1⋅b1⋅a3⋅b3⋅b5⋅b6⋅a7
+2⋅V^5⋅f/J^5 + 34⋅V^3⋅f^3/(27⋅J^5)⋅a2⋅b2⋅a3⋅b3⋅a4⋅b4⋅b6
+2⋅i⋅D119⋅f⋅a1⋅a2⋅b2⋅a3⋅b3⋅a4⋅b6
+2⋅i⋅D101⋅f + 2⋅i⋅D59⋅f⋅a1⋅b1⋅b3⋅b4⋅b5⋅b6⋅a7
+14⋅i⋅V^4⋅f^2/(9⋅J^5)⋅a2⋅b2⋅a3⋅b3⋅b4⋅a5⋅a6⋅a7⋅a8
−2⋅V^3⋅f^3/J^5⋅b3⋅a4⋅a5⋅a6⋅b7⋅a8⋅a9
+364⋅i⋅V^4⋅f^2/(135⋅J^5) - 278⋅i⋅V^2⋅f^4/(135⋅J^5)⋅b1⋅b2⋅a4⋅a5⋅b6
+2⋅D89⋅V⋅a1⋅a4⋅b6⋅a7⋅b7
+2⋅i⋅D106⋅f - 2⋅D56⋅V - 2⋅i⋅D67⋅f⋅a1⋅b1⋅a2⋅b3⋅a6
−2⋅V^3⋅f^3/(3⋅J^5)⋅b1⋅a2⋅b4⋅a6⋅b6⋅a7⋅b8
−2⋅D13⋅V - 2⋅D76⋅V - 2⋅i⋅D95⋅f + 4⋅i⋅V^4⋅f^2/(3⋅J^5)⋅a1⋅b1⋅a2⋅b2⋅a3⋅a4⋅a5⋅a6⋅b6
+2⋅i⋅D57⋅f + 2⋅i⋅D90⋅f - 4⋅V^3⋅f^3/(3⋅J^5)⋅a1⋅b1⋅a2⋅a3⋅a4⋅b5⋅a6
+52⋅V^3⋅f^3/(27⋅J^5)⋅b1⋅a2⋅b2⋅b3⋅b5⋅b6⋅b7
+4⋅i⋅V^4⋅f^2/(9⋅J^5)⋅b1⋅b2⋅b3⋅a4⋅b4⋅a6⋅b7⋅a8⋅a9
+4⋅i⋅V^4⋅f^2/(15⋅J^5)⋅b1⋅a3⋅b3⋅a4⋅a5⋅b5⋅b7⋅a8⋅b8
+26⋅i⋅V^4⋅f^2/(9⋅J^5) + 14⋅i⋅V^2⋅f^4/(9⋅J^5)⋅a2⋅b2⋅a3⋅b3⋅b6
+2⋅i⋅D84⋅f⋅b1⋅a2⋅a3⋅b3⋅a4
+16⋅V^3⋅f^3/(9⋅J^5)⋅b3⋅b4⋅a5
+2⋅i⋅D38⋅f⋅a1⋅b1⋅a2⋅a3⋅b5⋅b6⋅a7
−4⋅i⋅V^4⋅f^2/(9⋅J^5)⋅b1⋅a2⋅a3⋅a5⋅b5⋅a6⋅b7⋅a8⋅a9
−2⋅i⋅V^4⋅f^2/J^5⋅b1⋅a2⋅b3⋅a4⋅b6⋅a7⋅b8⋅a9⋅b10
−2⋅V^3⋅f^3/J^5⋅b2⋅a3⋅b4⋅a5⋅a6⋅a7⋅a9
+2⋅V^5⋅f/(3⋅J^5)⋅b1⋅a2⋅b3⋅b4⋅a5⋅b5⋅a6⋅a7⋅b7⋅a8⋅b8
−2⋅i⋅D101⋅f⋅a1⋅b2⋅a4⋅a5⋅b5⋅a6⋅b6
−4⋅V^3⋅f^3/(9⋅J^5)⋅b2⋅a3⋅b3⋅a5⋅b6⋅a7⋅b8
−112⋅V^3⋅f^3/(45⋅J^5)⋅b1⋅a2⋅b2⋅a4⋅b4⋅b5⋅a6
−2⋅i⋅D9⋅f⋅a1⋅a2⋅a3⋅a5⋅a6
+2⋅i⋅D14⋅f⋅b1⋅a2⋅b3⋅a4⋅b4⋅a6⋅a7
−2⋅i⋅V^4⋅f^2/J^5⋅b1⋅a2⋅b4⋅a5⋅b6⋅b7⋅b8⋅a9⋅a10
+2⋅i⋅D22⋅f - 4⋅V^3⋅f^3/(9⋅J^5)⋅a1⋅b1⋅b2⋅b3⋅a4⋅b5⋅a6
+2⋅D66⋅V⋅a1⋅a2⋅b2⋅a4⋅b6⋅a7⋅b7
+2⋅V^3⋅f^3/J^5⋅b1⋅a2⋅b4⋅a5⋅b8⋅a9⋅b9
−4⋅V^3⋅f^3/(9⋅J^5)⋅b2⋅a3⋅b3⋅b4⋅a5⋅b6⋅a7
−14⋅i⋅V^4⋅f^2/(9⋅J^5)⋅b1⋅a2⋅a4⋅b4⋅b5⋅b6⋅b7⋅a8⋅a9
−82⋅V^5⋅f/(27⋅J^5) - 316⋅V^3⋅f^3/(135⋅J^5)⋅b2⋅a3⋅a4⋅b4⋅b5⋅a6⋅b6
−4⋅V^5⋅f/(9⋅J^5)⋅a2⋅b2⋅a3⋅b3⋅b4⋅a6⋅b6
+2⋅V^3⋅f^3/J^5⋅b2⋅b3⋅b4⋅a5⋅b6⋅a7⋅a9
+2⋅D71⋅V⋅a1⋅b1⋅a2⋅b2⋅b4⋅a5⋅a6⋅b6⋅b7
−2⋅V^3⋅f^3/(3⋅J^5)⋅b3⋅a4⋅b4⋅a6⋅b7⋅a8⋅b8
−14⋅i⋅V^4⋅f^2/(27⋅J^5)⋅b1⋅b4⋅a6⋅b6⋅a7
−94⋅i⋅V^2⋅f^4/(27⋅J^5)⋅a2⋅b2⋅a3⋅a4⋅a7
−2⋅i⋅D10⋅f - 2⋅D13⋅V + 2⋅i⋅D44⋅f - 2⋅i⋅D65⋅f + 2⋅i⋅D68⋅f - 2⋅i⋅D70⋅f - 2⋅D76⋅V + 4⋅i⋅V^4⋅f^2/(3⋅J^5) - 2⋅i⋅V^2⋅f^4/(9⋅J^5)⋅a1⋅b1⋅b3⋅a4⋅b5
+2⋅i⋅D15⋅f + 2⋅i⋅D60⋅f - 4⋅V^3⋅f^3/(3⋅J^5)⋅a1⋅a2⋅b3⋅a4⋅a5⋅b6⋅a7
−2⋅D124⋅V - 2⋅i⋅D13⋅f + 2⋅i⋅D15⋅f - 2⋅i⋅D17⋅f + 2⋅i⋅D41⋅f + 2⋅D6⋅V + 44⋅V^3⋅f^3/(9⋅J^5)⋅a1⋅a2⋅b3⋅b4⋅a5⋅b5⋅b6
−4⋅V^3⋅f^3/(9⋅J^5)⋅b1⋅a2⋅b3⋅a5⋅b5⋅a6⋅b8
+2⋅i⋅V^4⋅f^2/(3⋅J^5)⋅b1⋅b2⋅a4⋅b4⋅a5⋅a6⋅b6⋅a7⋅b7
−40⋅i⋅V^4⋅f^2/(27⋅J^5)⋅b1⋅a2⋅a3⋅b3⋅b5⋅a6⋅b8⋅a9⋅b9
+2⋅V^3⋅f^3/J^5⋅b2⋅a3⋅b4⋅b5⋅b7⋅a8⋅a9
+40⋅V^3⋅f^3/(27⋅J^5)⋅b1⋅a2⋅a3⋅b3⋅b6⋅b7⋅a8
+20⋅V^5⋅f/(9⋅J^5)⋅b1⋅a2⋅b2⋅b3⋅a4⋅b4⋅a5⋅b5⋅a6⋅a7⋅b7
−2⋅i⋅D124⋅f + 22⋅i⋅V^4⋅f^2/(9⋅J^5) + 242⋅i⋅V^2⋅f^4/(27⋅J^5)⋅b1⋅a2⋅b3⋅a4⋅b6
+2⋅i⋅V^4⋅f^2/J^5⋅b1⋅a2⋅b4⋅a5⋅a6⋅b6⋅a7⋅a8⋅a9
−56⋅V^3⋅f^3/(135⋅J^5)⋅a2⋅b2⋅b3⋅a5⋅b5⋅a6⋅b7
+2⋅D109⋅V - 2⋅D123⋅V + 2⋅i⋅D50⋅f - 32⋅V^5⋅f/(27⋅J^5) - 38⋅V^3⋅f^3/(27⋅J^5)⋅a1⋅a2⋅b2⋅b4⋅b5⋅a6⋅b6
+2⋅D10⋅V + 2⋅i⋅D18⋅f + 2⋅i⋅D20⋅f + 2⋅i⋅D22⋅f - 2⋅i⋅D3⋅f + 2⋅D96⋅V - 76⋅V^3⋅f^3/(27⋅J^5)⋅a1⋅b2⋅a3⋅b3⋅a4⋅a5⋅a6
+2⋅V^3⋅f^3/J^5⋅b2⋅b3⋅b4⋅a5⋅a7⋅b7⋅a8
−2⋅D115⋅V - 2⋅i⋅V^4⋅f^2/(9⋅J^5) + 8⋅i⋅V^2⋅f^4/(27⋅J^5)⋅b2⋅a4⋅b4⋅a5⋅b5
−2⋅i⋅D104⋅f + 2⋅V^3⋅f^3/(3⋅J^5)⋅a1⋅b1⋅a3⋅a5⋅b5⋅a6⋅a7
+2⋅i⋅D87⋅f⋅a1⋅b2⋅b4⋅a5⋅b6⋅a7⋅a8
+14⋅i⋅V^4⋅f^2/(27⋅J^5)⋅b1⋅a2⋅b2⋅a4⋅b6⋅a7⋅b8⋅a9⋅b9
+28⋅V^5⋅f/(27⋅J^5)⋅b1⋅a5⋅b5⋅a6⋅b7⋅a8⋅b8
+14⋅V^3⋅f^3/(9⋅J^5)⋅b2⋅a3⋅a4⋅b4⋅a6⋅b6⋅b7
−4⋅V^5⋅f/(3⋅J^5)⋅b1⋅a2⋅b3⋅a4⋅b5⋅a6⋅a7⋅b7⋅a8⋅b8⋅b9
+224⋅V^5⋅f/(135⋅J^5) - 478⋅V^3⋅f^3/(135⋅J^5)⋅a2⋅a3⋅b3⋅b4⋅b6⋅a7⋅b7
+2⋅D42⋅V + 2⋅D52⋅V⋅a1⋅b1⋅b3⋅b4⋅a5⋅b5⋅b6⋅a7⋅b7
−2⋅V^3⋅f^3/(3⋅J^5)⋅b1⋅a2⋅b4⋅a5⋅b5⋅b7⋅a8
−2⋅D31⋅V + 20⋅V^5⋅f/(27⋅J^5) + 4⋅V^3⋅f^3/(15⋅J^5)⋅a1⋅a3⋅a4⋅b4⋅b5⋅a6⋅a7
−2⋅i⋅V^4⋅f^2/J^5⋅b2⋅b3⋅b4⋅a5⋅b6⋅a7⋅b8⋅a9⋅a10
+2⋅D99⋅V⋅a1⋅a2⋅b3⋅a4⋅b5⋅a6⋅a7⋅b7⋅b8
−2⋅D114⋅V⋅b2⋅b3⋅b4⋅a5⋅b5
+2⋅i⋅D79⋅f⋅b1⋅b2⋅b4
−2⋅D58⋅V⋅a1⋅b1⋅a2⋅b2⋅b3⋅b4⋅a5⋅b5⋅b6
+2⋅D108⋅V⋅a2⋅a3⋅b3⋅a4⋅b5⋅a6⋅b6
−2⋅i⋅V^4⋅f^2/(3⋅J^5)⋅b2⋅a3⋅b5⋅a7⋅b7
−88⋅i⋅V^4⋅f^2/(27⋅J^5)⋅a2⋅b4⋅b6⋅a7⋅b7
+14⋅i⋅V^2⋅f^4/(9⋅J^5)⋅a3⋅b3⋅b4⋅b5⋅a7
−2⋅i⋅D100⋅f + 2⋅i⋅D102⋅f + 2⋅i⋅D104⋅f + 2⋅i⋅D46⋅f + 2⋅i⋅D48⋅f + 2⋅i⋅D50⋅f - 106⋅V^3⋅f^3/(27⋅J^5)⋅a1⋅a2⋅a3⋅b4⋅b5⋅a6⋅a7
+2⋅i⋅D11⋅f + 2⋅D12⋅V - 2⋅i⋅D25⋅f + 2⋅i⋅D43⋅f - 2⋅i⋅D67⋅f + 2⋅i⋅D7⋅f - 2⋅i⋅D9⋅f⋅a1⋅a2⋅b3⋅a4⋅b5
+2⋅i⋅D12⋅f - 2⋅i⋅D14⋅f - 2⋅i⋅D16⋅f⋅b1⋅a2⋅b3⋅a4⋅a5⋅b5⋅a7
−2⋅V^3⋅f^3/(3⋅J^5)⋅b2⋅a3⋅b4⋅a5⋅b5⋅b7⋅a8
+406⋅i⋅V^4⋅f^2/(135⋅J^5)⋅b1⋅a2⋅a3⋅a4⋅b4⋅b5⋅a6⋅b6⋅b7
+2⋅i⋅D111⋅f + 2⋅i⋅D24⋅f + 2⋅D88⋅V - 176⋅i⋅V^4⋅f^2/(135⋅J^5) + 4⋅i⋅V^2⋅f^4/(45⋅J^5)⋅a1⋅a3⋅b3⋅b4⋅b5
+2⋅i⋅D100⋅f - 2⋅i⋅D102⋅f - 2⋅i⋅D104⋅f + 8⋅V^5⋅f/(9⋅J^5) + 1594⋅V^3⋅f^3/(135⋅J^5)⋅b1⋅a2⋅b3⋅b4⋅b5⋅a6⋅a7
+2⋅i⋅D98⋅f⋅a1⋅b1⋅b3⋅a4⋅b5⋅b6⋅a8
−2⋅i⋅V^4⋅f^2/(3⋅J^5)⋅a1⋅b1⋅a2⋅b3⋅a4⋅a5⋅b5⋅a6⋅a7
+2⋅i⋅D87⋅f⋅a1⋅a2⋅b4⋅a5⋅b6⋅a7⋅b8
+2⋅V^5⋅f/J^5⋅b1⋅a2⋅a3⋅a4⋅b5⋅a6⋅b7⋅a8⋅b9⋅a10⋅a11
+16⋅V^3⋅f^3/(3⋅J^5) + 2⋅V⋅f^5/J^5⋅a5⋅a6⋅a7
+2⋅V^5⋅f/(9⋅J^5) + 34⋅V^3⋅f^3/(135⋅J^5)⋅b1⋅a2⋅b2⋅a4⋅b4⋅b6⋅a7
−14⋅i⋅V^4⋅f^2/(9⋅J^5)⋅b2⋅a3⋅a4⋅b4⋅a5⋅b5⋅b7⋅a8⋅b8
+2⋅D20⋅V - 2⋅i⋅D35⋅f + 2⋅D88⋅V + 182⋅i⋅V^4⋅f^2/(45⋅J^5) + 4⋅i⋅V^2⋅f^4/(5⋅J^5)⋅a1⋅a3⋅a4⋅b4⋅a6
−34⋅i⋅V^4⋅f^2/(135⋅J^5)⋅b1⋅a3⋅b3⋅a4⋅b4⋅a6⋅b7⋅a8⋅b8
−2⋅V^5⋅f/J^5⋅b1⋅b2⋅a3⋅b3⋅a4⋅b4⋅a5⋅b5⋅a6⋅b6⋅a7
−14⋅V^5⋅f/(27⋅J^5)⋅a1⋅a2⋅b2⋅a3⋅b3⋅a4⋅b5⋅a6⋅b7⋅a8⋅a9
−2⋅D109⋅V + 2⋅i⋅D48⋅f - 20⋅V^5⋅f/(27⋅J^5) - 4⋅V^3⋅f^3/(9⋅J^5)⋅a1⋅b1⋅b2⋅b4⋅b5⋅a6⋅a7
+556⋅i⋅V^4⋅f^2/(135⋅J^5) + 8⋅i⋅V^2⋅f^4/(9⋅J^5)⋅b1⋅a2⋅a3⋅a5⋅a7
+2⋅i⋅D100⋅f + 2⋅V^3⋅f^3/J^5⋅a1⋅a2⋅b4⋅a5⋅b5⋅a6⋅a7
+2⋅V^3⋅f^3/J^5⋅b1⋅a2⋅b4⋅a5⋅b7⋅a8⋅b9
−2⋅i⋅D58⋅f⋅a1⋅b1⋅a2⋅b2⋅b3⋅b4⋅b6
+2⋅D122⋅V⋅a2⋅b4⋅a5
+2⋅i⋅V^2⋅f^4/J^5⋅b2⋅a3⋅b5⋅b6⋅a8
+4⋅V^3⋅f^3/(3⋅J^5)⋅b2⋅a3⋅b4⋅a5⋅a6⋅b6⋅b8
+14⋅i⋅V^2⋅f^4/(9⋅J^5)⋅a3⋅b3⋅b4⋅a5⋅b7
+14⋅i⋅V^4⋅f^2/(9⋅J^5)⋅b1⋅a2⋅b3⋅a4⋅a5⋅b5⋅a7⋅a8⋅a9
−2⋅D80⋅V + 2⋅D94⋅V⋅a1⋅b1⋅a2⋅b2⋅a3⋅a4⋅b5⋅a6⋅b7⋅a8⋅b8
+358⋅V^3⋅f^3/(135⋅J^5)⋅b1⋅b2⋅b3⋅b4⋅a5⋅a6⋅a7
−4⋅i⋅V^4⋅f^2/(3⋅J^5)⋅b1⋅a2⋅a3⋅a4⋅b4⋅a5⋅b6⋅a7⋅a8
+28⋅V^3⋅f^3/(27⋅J^5)⋅a1⋅a2⋅b2⋅a3⋅b4⋅a5⋅a7
−2⋅i⋅D103⋅f - 2⋅i⋅D12⋅f - 2⋅i⋅D40⋅f + 2⋅D43⋅V + 2⋅i⋅D45⋅f⋅a1⋅a2⋅b3⋅a4⋅b5⋅a6⋅b6
+14⋅i⋅V^4⋅f^2/(27⋅J^5)⋅b1⋅a2⋅b2⋅b3⋅a4⋅a5⋅b7⋅a8⋅b8
−4⋅i⋅V^4⋅f^2/(9⋅J^5)⋅b1⋅a2⋅b3⋅a5⋅b5⋅a6⋅a7⋅a8⋅a9
+14⋅i⋅V^4⋅f^2/(27⋅J^5)⋅b1⋅a3⋅b3⋅a4⋅b5⋅a6⋅a7⋅b7⋅b8
+2⋅V^5⋅f/(3⋅J^5)⋅b1⋅a2⋅b3⋅a4⋅a5⋅b5⋅b6⋅a7⋅b7⋅a8⋅b8
−88⋅V^5⋅f/(27⋅J^5) + 14⋅V^3⋅f^3/(9⋅J^5)⋅a3⋅b3⋅b4
+2⋅D4⋅V - 2⋅i⋅D92⋅f - 56⋅i⋅V^4⋅f^2/(27⋅J^5)⋅a1⋅b1⋅b2⋅a3⋅b4⋅a5⋅b6⋅a7⋅b7
−2⋅i⋅D101⋅f + 2⋅i⋅D16⋅f⋅a1⋅b1⋅b3⋅b4⋅a5⋅a6⋅a7
+2⋅i⋅D16⋅f - 2⋅i⋅D99⋅f⋅a1⋅b1⋅b3⋅a4⋅a5⋅a6⋅b7
−4⋅V^5⋅f/(3⋅J^5)⋅b1⋅a2⋅b3⋅a4⋅a6⋅b6⋅b7⋅a8⋅b9⋅a10⋅b10
+34⋅i⋅V^4⋅f^2/(27⋅J^5) - 10⋅i⋅V^2⋅f^4/(27⋅J^5)⋅b1⋅a4⋅b4⋅b5⋅a6
+2⋅D47⋅V⋅a1⋅a2⋅a3⋅b3⋅a4⋅b4⋅a5⋅a6⋅a7
−4⋅V^3⋅f^3/(9⋅J^5)⋅a1⋅a3⋅b3⋅a4⋅b4⋅a5⋅a6
−2⋅D90⋅V - 2⋅i⋅D92⋅f - 16⋅i⋅V^4⋅f^2/(3⋅J^5)⋅a1⋅b1⋅a2⋅a3⋅b4⋅b5⋅b6⋅a7⋅b7
+34⋅i⋅V^4⋅f^2/(135⋅J^5)⋅a1⋅a2⋅b2⋅a3⋅b3⋅a4⋅b4⋅a6⋅a7
+92⋅i⋅V^4⋅f^2/(27⋅J^5)⋅b1⋅b2⋅b3⋅b4⋅a5⋅b5⋅b6⋅a7⋅b7
+14⋅i⋅V^4⋅f^2/(27⋅J^5)⋅b1⋅a2⋅b2⋅b3⋅a4⋅a5⋅b6⋅a7⋅b8
−2⋅D100⋅V + 2⋅D102⋅V + 2⋅D104⋅V + 2⋅i⋅V^4⋅f^2/(3⋅J^5)⋅a1⋅b1⋅b4⋅a6⋅b6
+2⋅i⋅D6⋅f + 154⋅i⋅V^4⋅f^2/(135⋅J^5) + 752⋅i⋅V^2⋅f^4/(135⋅J^5)⋅b1⋅a2⋅b3⋅b4⋅a6
−2⋅i⋅D38⋅f⋅a1⋅b1⋅a2⋅a3⋅a5⋅a6⋅a7
+2⋅V^3⋅f^3/J^5⋅b2⋅a3⋅b5⋅b6⋅b7⋅a8⋅a9
−2⋅i⋅D71⋅f⋅a1⋅b1⋅a2⋅b2⋅a4⋅a5⋅a7
−2⋅D54⋅V + 2⋅D56⋅V + 2⋅D58⋅V⋅a1⋅b1⋅b2⋅a5⋅a6
−4⋅i⋅V^4⋅f^2/(3⋅J^5)⋅b1⋅a2⋅b3⋅b4⋅a6⋅b6⋅b7⋅a8⋅a9
−26⋅i⋅V^4⋅f^2/(9⋅J^5) - 4⋅i⋅V^2⋅f^4/(3⋅J^5)⋅b1⋅a2⋅b4⋅a6⋅b7
−4⋅V^5⋅f/(3⋅J^5) - 28⋅V^3⋅f^3/(9⋅J^5)⋅b1⋅a2⋅a4⋅b4⋅a6⋅a7⋅a8
+4⋅i⋅V^4⋅f^2/(9⋅J^5)⋅b1⋅b2⋅a3⋅a4⋅b4⋅b5⋅a6⋅b6⋅a7
−2⋅V^5⋅f/J^5⋅b1⋅b2⋅a3⋅b3⋅b4⋅a5⋅b6⋅a7⋅b8⋅a9⋅a10
+146⋅V^3⋅f^3/(135⋅J^5)⋅a2⋅b2⋅a3⋅a4⋅b4⋅a6⋅a7
+2⋅D12⋅V⋅a1⋅b1⋅b3⋅a4⋅b4⋅b5⋅b7⋅a8⋅b8
+2⋅D15⋅V + 2⋅i⋅D8⋅f - 2⋅i⋅V^4⋅f^2/(3⋅J^5)⋅a1⋅b1⋅b3⋅a5⋅b6
+556⋅i⋅V^4⋅f^2/(135⋅J^5)⋅b1⋅b2⋅a3⋅b3⋅b4⋅a5⋅b5⋅a6⋅a7
−296⋅i⋅V^4⋅f^2/(135⋅J^5)⋅a2⋅a3⋅b3⋅a4⋅a5⋅a6⋅b7⋅a8⋅b8
−14⋅i⋅V^4⋅f^2/(9⋅J^5)⋅a2⋅b2⋅a3⋅b3⋅a4⋅b4⋅b5⋅b6⋅a7
−2⋅i⋅D53⋅f - 2⋅i⋅D55⋅f + 2⋅i⋅D57⋅f + 2⋅V^3⋅f^3/(3⋅J^5)⋅a1⋅b1⋅a2⋅b2⋅b3⋅b5⋅a6
+4⋅V^5⋅f/(3⋅J^5) + 38⋅V^3⋅f^3/(9⋅J^5) + 4⋅V⋅f^5/(3⋅J^5)⋅b3⋅b5⋅a6
+80⋅V^3⋅f^3/(27⋅J^5)⋅a2⋅b2⋅a5⋅b5⋅b6⋅a7⋅b7
+406⋅i⋅V^4⋅f^2/(135⋅J^5)⋅b1⋅a2⋅a3⋅a4⋅b4⋅b5⋅b7⋅a8⋅b8
−2⋅i⋅D122⋅f - 2⋅i⋅D43⋅f + 2⋅D45⋅V - 2⋅i⋅D61⋅f + 2⋅i⋅D67⋅f⋅a1⋅a2⋅a3⋅a4⋅a5
+2⋅i⋅D63⋅f⋅a1⋅b1⋅b4⋅b5⋅a7
+56⋅i⋅V^4⋅f^2/(135⋅J^5)⋅b1⋅a2⋅a3⋅b3⋅b4⋅a6⋅b7⋅a8⋅b8
−16⋅i⋅V^4⋅f^2/(15⋅J^5)⋅b1⋅a2⋅a3⋅b3⋅a5⋅b5⋅a6⋅b6⋅b7
−4⋅i⋅V^4⋅f^2/(15⋅J^5)⋅a1⋅a2⋅b2⋅a3⋅b3⋅a4⋅a5⋅b5⋅a7
−2⋅D23⋅V⋅a2⋅b3⋅a4⋅a5⋅b5
+2⋅D19⋅V + 2⋅i⋅D34⋅f⋅b1⋅b3⋅a4⋅b4⋅b5
+4⋅V^3⋅f^3/(3⋅J^5)⋅a1⋅b1⋅a2⋅a3⋅b4⋅a6⋅a7
+4⋅i⋅V^4⋅f^2/(9⋅J^5)⋅b1⋅a2⋅b3⋅a4⋅b4⋅b6⋅a7⋅b7⋅a8
−14⋅i⋅V^4⋅f^2/(27⋅J^5) - 14⋅i⋅V^2⋅f^4/(27⋅J^5)⋅b1⋅a3⋅b3⋅a4⋅b7
−2⋅i⋅D121⋅f + 2⋅D32⋅V - 2⋅D9⋅V⋅a1⋅b1⋅a5
+2⋅i⋅D87⋅f⋅a1⋅a2⋅b4⋅b5⋅b6⋅a7⋅a8
+94⋅i⋅V^4⋅f^2/(135⋅J^5) + 34⋅i⋅V^2⋅f^4/(45⋅J^5)⋅b1⋅a3⋅b3⋅b5⋅a6
+2⋅i⋅D123⋅f + 2⋅D128⋅V + 2⋅D50⋅V - 2⋅i⋅D65⋅f + 56⋅i⋅V^4⋅f^2/(9⋅J^5) + 2⋅i⋅V^2⋅f^4/(3⋅J^5)⋅a1⋅a2⋅b2⋅a4⋅a5
+2⋅i⋅D8⋅f + 328⋅i⋅V^4⋅f^2/(45⋅J^5) + 98⋅i⋅V^2⋅f^4/(15⋅J^5)⋅b1⋅a2⋅a4⋅b4⋅b5
+4⋅V^3⋅f^3/(3⋅J^5)⋅b2⋅a3⋅a5⋅b5⋅b6⋅a7⋅b8
+32⋅V^3⋅f^3/(9⋅J^5) + 2⋅V⋅f^5/J^5⋅a4⋅a5⋅a7
+4⋅V^3⋅f^3/J^5⋅b2⋅a3⋅b4⋅a5⋅a7⋅b7⋅b8
−74⋅V^3⋅f^3/(27⋅J^5)⋅b1⋅a2⋅a3⋅a4⋅a6⋅a7⋅b7
−224⋅V^3⋅f^3/(135⋅J^5)⋅a2⋅a3⋅b4⋅a5⋅b5⋅a6⋅a7
+4⋅i⋅V^4⋅f^2/(3⋅J^5) + 2⋅i⋅V^2⋅f^4/J^5⋅b1⋅a2⋅b4⋅b5⋅a8
+4⋅i⋅V^4⋅f^2/(9⋅J^5)⋅a2⋅a5⋅b6⋅a7⋅a8
+2⋅D11⋅V + 2⋅i⋅D19⋅f + 2⋅D7⋅V - 2⋅D9⋅V⋅a1⋅b1⋅a3⋅b3⋅b4⋅a5⋅a6
−2⋅i⋅D113⋅f + 2⋅D130⋅V - 32⋅i⋅V^4⋅f^2/(27⋅J^5) - 76⋅i⋅V^2⋅f^4/(27⋅J^5)⋅a1⋅b1⋅b2⋅a3⋅b3
+224⋅V^3⋅f^3/(135⋅J^5)⋅b1⋅a2⋅b2⋅a3⋅b4⋅b5⋅a7
−2⋅D124⋅V⋅a1⋅b1⋅a2⋅b2⋅a3⋅a4⋅a7
−4⋅V^5⋅f/(9⋅J^5) - 8⋅V^3⋅f^3/(9⋅J^5)⋅b1⋅b2⋅b3⋅a5⋅b6⋅a7⋅a8
−2⋅i⋅D109⋅f - 166⋅i⋅V^4⋅f^2/(135⋅J^5)⋅a1⋅b1⋅b2⋅a3⋅b3⋅a4⋅a5⋅a6⋅a7
+2⋅i⋅V^4⋅f^2/J^5⋅b2⋅a3⋅a4⋅b4⋅a5⋅a6⋅b7⋅a8⋅a9
+56⋅V^5⋅f/(135⋅J^5) - 262⋅V^3⋅f^3/(45⋅J^5)⋅b1⋅b2⋅b3⋅b4⋅a5⋅b5⋅b6
−14⋅i⋅V^4⋅f^2/(9⋅J^5)⋅b1⋅a2⋅a4⋅b4⋅a6⋅b6⋅b7⋅a8⋅b8
−14⋅V^5⋅f/(9⋅J^5)⋅a2⋅b2⋅a3⋅b3⋅a4⋅b4⋅b5⋅a6⋅b7⋅a8⋅b8
+2⋅i⋅D80⋅f⋅a1⋅b2⋅b3⋅a4⋅b5⋅a6⋅b7⋅a8⋅a9
+2⋅i⋅D114⋅f - 2⋅i⋅D23⋅f + 2⋅i⋅D5⋅f + 2⋅D84⋅V⋅a1⋅b1⋅b2⋅b3⋅b4⋅a5⋅b5
−2⋅i⋅D19⋅f + 2⋅i⋅D21⋅f - 2⋅i⋅D23⋅f + 2⋅i⋅D56⋅f - 2⋅D67⋅V⋅a1⋅b1⋅b2⋅a3⋅a4⋅b4⋅a6
+344⋅V^3⋅f^3/(135⋅J^5)⋅a2⋅b2⋅b3⋅b4⋅a5⋅b5⋅a7
+2⋅i⋅D81⋅f + 2⋅i⋅V^4⋅f^2/J^5⋅a1⋅b1⋅a3⋅a4⋅b5⋅a6⋅b7⋅a8⋅a9
+2⋅i⋅D63⋅f⋅a1⋅b1⋅b4⋅a5⋅b7
−40⋅V^3⋅f^3/(27⋅J^5)⋅b1⋅a2⋅a3⋅b3⋅a5⋅a6⋅a8
−14⋅V^5⋅f/(9⋅J^5)⋅a2⋅b2⋅a3⋅b3⋅b4⋅a5⋅b6⋅a7⋅b8⋅a9⋅b9
−4⋅V^3⋅f^3/(9⋅J^5)⋅b1⋅b2⋅b3⋅a5⋅b5⋅a6⋅a8
−2⋅D101⋅V + 2⋅i⋅D94⋅f⋅a1⋅b1⋅a2⋅b2⋅a3⋅b4⋅b5⋅a6⋅a7
−2⋅i⋅D83⋅f - 2⋅i⋅V^4⋅f^2/J^5⋅a1⋅b1⋅a2⋅b2⋅a3⋅b3⋅a4⋅b4⋅b6
−2⋅D77⋅V - 2⋅i⋅D82⋅f⋅a1⋅b1⋅a2⋅b2⋅a3⋅b3⋅a4⋅b4⋅a5
−32⋅i⋅V^4⋅f^2/(9⋅J^5)⋅b1⋅a2⋅a4⋅b4⋅a5⋅b5⋅a6⋅b6⋅b7
+10⋅V^5⋅f/(9⋅J^5) + 4⋅V^3⋅f^3/(9⋅J^5)⋅b1⋅a2⋅a3⋅a5⋅a6⋅b6⋅a7
+14⋅V^5⋅f/(9⋅J^5) + 8⋅V^3⋅f^3/(3⋅J^5)⋅b1⋅a2⋅b3⋅b4⋅a6⋅b6⋅a8
+2⋅i⋅D55⋅f⋅a1⋅b1⋅a2⋅b2⋅a4⋅b4⋅b6
+4⋅i⋅V^4⋅f^2/(9⋅J^5)⋅b1⋅a2⋅b3⋅a4⋅b4⋅a6⋅b7⋅a8⋅b9
−20⋅V^5⋅f/(9⋅J^5) - 28⋅V^3⋅f^3/(27⋅J^5)⋅b1⋅a3⋅b5⋅a6⋅b7⋅a8⋅b8
−14⋅V^3⋅f^3/(27⋅J^5)⋅b1⋅a2⋅b2⋅a4⋅b5⋅a6⋅b8
−2⋅D102⋅V - 4⋅i⋅V^4⋅f^2/(9⋅J^5)⋅a1⋅a2⋅a3⋅a4⋅b4⋅a5⋅b5⋅a6⋅b6
−22⋅V^3⋅f^3/(9⋅J^5)⋅b1⋅a2⋅b3⋅b4⋅b5⋅b6⋅b7
+40⋅i⋅V^4⋅f^2/(27⋅J^5) + 40⋅i⋅V^2⋅f^4/(27⋅J^5)⋅b1⋅a2⋅a3⋅b3⋅b7
−446⋅V^3⋅f^3/(135⋅J^5)⋅a2⋅b2⋅a3⋅a4⋅b4⋅b5⋅b6
+2⋅i⋅D111⋅f - 2⋅D128⋅V - 592⋅i⋅V^4⋅f^2/(135⋅J^5) - 98⋅i⋅V^2⋅f^4/(135⋅J^5)⋅b1⋅a3⋅b3⋅b4⋅a5
−14⋅V^5⋅f/(9⋅J^5)⋅b1⋅a2⋅a3⋅b5⋅a6⋅b6⋅b7
−2⋅V^5⋅f/J^5⋅b1⋅a2⋅b3⋅a4⋅b6⋅a7⋅b8⋅a9⋅b10⋅a11⋅b11
−2⋅i⋅D11⋅f - 2⋅D56⋅V⋅a1⋅b1⋅a3⋅a5⋅b5
+536⋅i⋅V^4⋅f^2/(135⋅J^5)⋅b1⋅a2⋅b2⋅a3⋅a4⋅b4⋅a5⋅b5⋅b6
−2⋅i⋅V^4⋅f^2/J^5⋅b1⋅b2⋅a4⋅b4⋅a5⋅b5⋅a6⋅b6⋅a7
+2⋅D103⋅V⋅a1⋅b1⋅a4⋅b6⋅a7
+2⋅D99⋅V⋅a1⋅a2⋅b3⋅a4⋅b5⋅a6⋅b8⋅a9⋅b9
−296⋅V^3⋅f^3/(135⋅J^5)⋅a2⋅a3⋅b3⋅b4⋅b5⋅a6⋅b7
−2⋅V^3⋅f^3/J^5⋅b2⋅a3⋅a4⋅a5⋅a7⋅b7⋅a8
+2⋅V^5⋅f/J^5 + 2⋅V^3⋅f^3/J^5⋅b1⋅a2⋅b3⋅a4⋅b8⋅a9⋅b9
−2⋅V^3⋅f^3/J^5⋅b1⋅a2⋅a4⋅a5⋅a7⋅b7⋅a8
−2⋅i⋅V^2⋅f^4/J^5⋅a2⋅a3⋅b4⋅a5⋅a8
−46⋅V^5⋅f/(27⋅J^5)⋅a2⋅b4⋅b5⋅a6⋅b7⋅a8⋅b8
+2⋅i⋅D131⋅f - 2⋅D24⋅V + 2⋅i⋅D88⋅f - 14⋅V^3⋅f^3/(27⋅J^5)⋅a1⋅b4⋅b5
+2⋅i⋅V^4⋅f^2/(9⋅J^5)⋅b1⋅a2⋅b2⋅a6⋅b7
+2⋅D108⋅V - 2⋅i⋅D119⋅f - 2⋅D122⋅V - 2⋅i⋅D127⋅f + 2⋅i⋅D26⋅f + 2⋅D29⋅V⋅a1⋅b1⋅b2⋅a3⋅b3⋅a4⋅a5
+16⋅V^3⋅f^3/(45⋅J^5)⋅b1⋅b2⋅a3⋅a4⋅b4⋅a6⋅b6
+2⋅D18⋅V + 2⋅D20⋅V + 2⋅D22⋅V - 866⋅i⋅V^4⋅f^2/(135⋅J^5) - 268⋅i⋅V^2⋅f^4/(135⋅J^5)⋅a2⋅b3⋅a4⋅b4⋅b5
+14⋅i⋅V^4⋅f^2/(27⋅J^5)⋅b1⋅a2⋅b2⋅b3⋅a4⋅a5⋅b6⋅b7⋅a8
−74⋅V^3⋅f^3/(27⋅J^5)⋅b2⋅a3⋅b3⋅a4⋅b5⋅a6⋅b7
−2⋅i⋅D71⋅f - 2⋅i⋅D90⋅f + 14⋅V^3⋅f^3/(3⋅J^5)⋅a1⋅b1⋅a2⋅a3⋅b4⋅b5⋅b6
+2⋅i⋅V^4⋅f^2/(3⋅J^5)⋅b1⋅a2⋅a3⋅b3⋅a4⋅a5⋅b5⋅b6⋅b7
+2⋅i⋅V^4⋅f^2/J^5⋅a1⋅a2⋅b3⋅a4⋅b5⋅a6⋅a8⋅b8⋅a9
−2⋅i⋅V^2⋅f^4/J^5⋅a2⋅a3⋅a6⋅b6⋅a7
+2⋅D12⋅V⋅a1⋅b1⋅b3⋅a5⋅a7
−2⋅i⋅D15⋅f - 2⋅i⋅D46⋅f - 2⋅i⋅D48⋅f - 2⋅i⋅D50⋅f + 494⋅V^3⋅f^3/(135⋅J^5)⋅a1⋅a2⋅a3⋅a4⋅a5⋅a6⋅a7
+2⋅i⋅D95⋅f + 2⋅i⋅V^4⋅f^2/J^5⋅a1⋅b1⋅a2⋅b2⋅a3⋅b3⋅a5⋅a6⋅a7
+2⋅V^3⋅f^3/J^5⋅b1⋅b2⋅b3⋅a4⋅b6⋅a7⋅a9
−28⋅i⋅V^4⋅f^2/(27⋅J^5)⋅b1⋅a2⋅b2⋅a3⋅b3⋅a5⋅b5⋅b6⋅a7
+14⋅i⋅V^4⋅f^2/(9⋅J^5)⋅b2⋅a3⋅a4⋅b4⋅a5⋅b5⋅a6⋅a7⋅a8
−4⋅V^5⋅f/(3⋅J^5)⋅b1⋅a2⋅b3⋅a4⋅b5⋅a6⋅a7⋅b7⋅b9⋅a10⋅b10
−8⋅V^5⋅f/(27⋅J^5) - 4⋅V^3⋅f^3/(15⋅J^5)⋅b1⋅a2⋅b2⋅a3⋅b4⋅a6⋅b6
+14⋅i⋅V^4⋅f^2/(27⋅J^5)⋅b1⋅a2⋅b2⋅a4⋅b5⋅a6⋅b7⋅b8⋅a9
−2⋅i⋅D76⋅f + 2⋅V^3⋅f^3/J^5⋅a1⋅b1⋅a2⋅b2⋅a3⋅b3⋅b6
+2⋅D17⋅V + 16⋅i⋅V^4⋅f^2/(9⋅J^5)⋅a1⋅a2⋅a3⋅a6⋅b6
+2⋅V^5⋅f/J^5 + 94⋅V^3⋅f^3/(27⋅J^5)⋅b1⋅b2⋅a3⋅b3⋅b6⋅a7⋅a8
+2⋅i⋅D14⋅f⋅a1⋅b2⋅b3⋅a4⋅b4⋅a6⋅a7
+2⋅i⋅D46⋅f - 50⋅V^3⋅f^3/(27⋅J^5)⋅a1⋅a2⋅b2⋅b3⋅b5⋅a6⋅b7
−2⋅D76⋅V - 2⋅i⋅V^4⋅f^2/J^5⋅a1⋅b1⋅a2⋅b2⋅a3⋅b3⋅b6⋅a7⋅b7
+4⋅i⋅V^4⋅f^2/(3⋅J^5)⋅b1⋅a2⋅a3⋅b3⋅a4⋅a5⋅a6⋅b6⋅a8
−2⋅i⋅D115⋅f - 2⋅i⋅D90⋅f + 20⋅V^3⋅f^3/(9⋅J^5)⋅a1⋅b1⋅a2⋅b3⋅b4⋅b5⋅a6
−40⋅V^3⋅f^3/(27⋅J^5)⋅a1⋅a2⋅a3⋅b3⋅a6⋅b6⋅a7
+14⋅i⋅V^4⋅f^2/(27⋅J^5)⋅b1⋅a3⋅b3⋅a4⋅b5⋅b6⋅a7⋅b7⋅a8
+22⋅i⋅V^2⋅f^4/(27⋅J^5)⋅a2⋅a3⋅b4⋅b5⋅b6
+2⋅i⋅V^4⋅f^2/J^5⋅a1⋅a2⋅b3⋅a4⋅b6⋅a7⋅b8⋅a9⋅a10
−4⋅V^3⋅f^3/(3⋅J^5)⋅b1⋅a2⋅b3⋅a4⋅b5⋅b7⋅a8
−2⋅i⋅V^4⋅f^2/J^5⋅b1⋅a2⋅b4⋅a5⋅b7⋅a8⋅b9⋅a10⋅b10
+2⋅D25⋅V⋅a1⋅a3⋅b3⋅a4⋅a5⋅b5⋅b6
+32⋅V^3⋅f^3/(9⋅J^5) + 4⋅V⋅f^5/(3⋅J^5)⋅b3⋅a5⋅b6
−2⋅V^3⋅f^3/J^5⋅b2⋅a3⋅b4⋅a5⋅a7⋅a8⋅a9
+40⋅V^5⋅f/(27⋅J^5)⋅b1⋅a2⋅a3⋅b3⋅a4⋅b4⋅a5⋅a6⋅b7⋅a8⋅a9
+14⋅V^3⋅f^3/(135⋅J^5)⋅b1⋅a2⋅b2⋅b3⋅b4⋅a5⋅a7
+2⋅D14⋅V⋅a1⋅a2⋅b3⋅a4⋅b4⋅a6⋅b7⋅a8⋅b8
+2⋅i⋅D100⋅f + 22⋅V^3⋅f^3/(9⋅J^5)⋅a1⋅a2⋅a4⋅a5⋅b5⋅a6⋅b7
+2⋅V^5⋅f/(3⋅J^5)⋅b1⋅a2⋅b3⋅a4⋅b5⋅a6⋅b6⋅a8⋅b9⋅a10⋅b10
+2⋅i⋅D25⋅f⋅a1⋅a3⋅b3⋅a4⋅b6
+2⋅i⋅D15⋅f + 2⋅i⋅D39⋅f - 104⋅V^3⋅f^3/(135⋅J^5)⋅a1⋅b2⋅b3⋅a4⋅a5⋅a6⋅a7
+2⋅V^5⋅f/(3⋅J^5) - 32⋅V^3⋅f^3/(27⋅J^5) - 10⋅V⋅f^5/(9⋅J^5)⋅b3⋅a4⋅b5
−2⋅i⋅D125⋅f - 2⋅i⋅D69⋅f⋅a1⋅b1⋅a3⋅a4⋅b6
−2⋅V^5⋅f/J^5⋅b1⋅a2⋅b3⋅a4⋅b5⋅a6⋅b7⋅a8⋅a9⋅b9⋅b10
−2⋅i⋅V^4⋅f^2/J^5⋅b1⋅a2⋅b3⋅a4⋅b6⋅a7⋅a8⋅b8⋅b9
+2⋅i⋅D46⋅f + 2⋅i⋅D48⋅f + 2⋅i⋅D50⋅f - 28⋅V^5⋅f/(27⋅J^5) - 2024⋅V^3⋅f^3/(135⋅J^5)⋅b1⋅a2⋅a3⋅a4⋅b5⋅a6⋅a7
+2⋅V^5⋅f/(3⋅J^5)⋅b1⋅a2⋅b3⋅b4⋅a5⋅a6⋅b6⋅a7⋅b8⋅a9⋅b9
+2⋅i⋅D41⋅f + 32⋅V^5⋅f/(9⋅J^5) + 136⋅V^3⋅f^3/(27⋅J^5)⋅b1⋅a2⋅b3⋅b4⋅a5⋅b5⋅a6
+4⋅i⋅V^4⋅f^2/(3⋅J^5)⋅a1⋅b1⋅a2⋅a3⋅a5⋅b5⋅b6⋅a7⋅a8
−82⋅V^5⋅f/(27⋅J^5) - 406⋅V^3⋅f^3/(135⋅J^5)⋅b1⋅a2⋅b2⋅a3⋅a5⋅b5⋅b6
−14⋅i⋅V^4⋅f^2/(9⋅J^5)⋅a2⋅b2⋅a3⋅b3⋅b4⋅a5⋅b6⋅a7⋅b8
+2⋅D117⋅V + 2⋅i⋅D3⋅f + 8⋅V^3⋅f^3/(9⋅J^5)⋅a1⋅b2⋅a3⋅b3⋅b4⋅b5⋅a6
+2⋅i⋅D80⋅f⋅a1⋅a2⋅b3⋅a4⋅b5⋅b6⋅b7⋅a8⋅a9
+64⋅i⋅V^4⋅f^2/(135⋅J^5) - 32⋅i⋅V^2⋅f^4/(27⋅J^5)⋅b1⋅a2⋅b2⋅a5⋅b6
+2⋅D4⋅V + 2⋅i⋅D96⋅f - 62⋅i⋅V^4⋅f^2/(45⋅J^5) - 28⋅i⋅V^2⋅f^4/(135⋅J^5)⋅b1⋅a3⋅b4⋅a5⋅b5
−2⋅V^5⋅f/(3⋅J^5)⋅b1⋅a2⋅b3⋅a4⋅b5⋅b8⋅a9
+2⋅i⋅D99⋅f⋅a1⋅a2⋅b3⋅a4⋅b5⋅a6⋅b8
+2⋅V^3⋅f^3/J^5⋅b1⋅a2⋅b3⋅a4⋅b7⋅a8⋅b9
+4⋅V^5⋅f/(15⋅J^5) - 352⋅V^3⋅f^3/(135⋅J^5)⋅a2⋅a3⋅a4⋅a5⋅b6⋅a7⋅b7
+2⋅D118⋅V - 2⋅i⋅D123⋅f + 2⋅i⋅D65⋅f - 26⋅i⋅V^4⋅f^2/(27⋅J^5) + 10⋅i⋅V^2⋅f^4/(27⋅J^5)⋅a1⋅a2⋅b2⋅b4⋅b5
+2⋅i⋅D54⋅f - 2⋅i⋅D56⋅f - 2⋅i⋅D58⋅f⋅a1⋅b1⋅b2⋅a3⋅b3⋅a5⋅a6
−296⋅V^5⋅f/(135⋅J^5) - 4⋅V^3⋅f^3/(5⋅J^5)⋅b1⋅a3⋅a4⋅b4⋅b6⋅a7⋅b7
−2⋅D74⋅V - 212⋅V^5⋅f/(45⋅J^5) - 998⋅V^3⋅f^3/(135⋅J^5) + 4⋅V⋅f^5/(27⋅J^5)⋅a2⋅a3⋅a5
+4⋅i⋅V^4⋅f^2/(3⋅J^5)⋅b1⋅a2⋅b3⋅a4⋅b4⋅b5⋅b6⋅a7⋅a8
+2⋅D14⋅V - 2⋅D52⋅V⋅a1⋅b1⋅b3⋅a4⋅a5⋅b5⋅a6⋅a7⋅b7
+2⋅i⋅V^2⋅f^4/J^5⋅b2⋅a3⋅b5⋅a6⋅b8
+2⋅i⋅D30⋅f - 2⋅D45⋅V + 2⋅D47⋅V + 2⋅D49⋅V⋅b1⋅b3⋅b5⋅a6⋅b6
+4⋅i⋅V^4⋅f^2/(9⋅J^5)⋅b1⋅a2⋅b3⋅a5⋅b5⋅a6⋅b8⋅a9⋅b9
+2⋅D104⋅V + 2⋅i⋅V^4⋅f^2/(3⋅J^5)⋅a1⋅b1⋅b3⋅a5⋅b5⋅a6⋅b7⋅a8⋅b8
−2⋅D115⋅V - 2⋅i⋅D92⋅f - 20⋅i⋅V^4⋅f^2/(9⋅J^5)⋅a1⋅b1⋅a2⋅b3⋅b4⋅a5⋅b6⋅a7⋅b7
−2⋅V^3⋅f^3/(3⋅J^5)⋅b2⋅a3⋅a4⋅a5⋅b5⋅b6⋅b7
−16⋅V^5⋅f/(9⋅J^5) - 16⋅V^3⋅f^3/(9⋅J^5)⋅b1⋅a2⋅b3⋅a4⋅b4⋅a5⋅b7
−8⋅V^5⋅f/(27⋅J^5) - 4⋅V^3⋅f^3/(15⋅J^5)⋅b2⋅a3⋅b3⋅a5⋅b5⋅a6⋅b6
−2⋅V^3⋅f^3/(3⋅J^5)⋅a2⋅a3⋅b4⋅a5⋅b5⋅b6⋅b7
+2⋅D123⋅V - 2⋅i⋅D27⋅f + 2⋅i⋅D36⋅f - 2⋅i⋅D57⋅f - 4⋅V^3⋅f^3/(3⋅J^5)⋅a1⋅b1⋅a2⋅b2⋅b3⋅b4⋅a5
+2⋅V^5⋅f/(9⋅J^5)⋅b1⋅a2⋅b2⋅a6⋅b7⋅a8⋅b8
+2⋅i⋅D1⋅f + 2⋅i⋅D129⋅f - 2⋅D62⋅V - 46⋅V^3⋅f^3/(27⋅J^5) + 4⋅V⋅f^5/(27⋅J^5)⋅a1⋅b2⋅b3
+2⋅i⋅V^2⋅f^4/J^5⋅b3⋅b4⋅b5⋅a6⋅a8
−4⋅V^3⋅f^3/(3⋅J^5)⋅a1⋅a2⋅a5⋅b5⋅b6⋅a7⋅a8
−2⋅i⋅D103⋅f⋅a1⋅b1⋅b4⋅a5⋅b5⋅a6⋅a7
−2⋅V^3⋅f^3/J^5⋅a1⋅a2⋅b3⋅a4⋅b5⋅a6⋅a9
+20⋅i⋅V^4⋅f^2/(9⋅J^5)⋅b1⋅a2⋅a4⋅a5⋅b5⋅b6⋅b7⋅a8⋅b8
+2⋅i⋅V^4⋅f^2/J^5 + 2⋅i⋅V^2⋅f^4/J^5⋅b4⋅a5⋅b6⋅b7⋅a8
+4⋅V^3⋅f^3/(3⋅J^5)⋅b3⋅a4⋅a5⋅b5⋅a6⋅b6⋅b7
+2⋅i⋅D32⋅f + 2⋅D47⋅V⋅a1⋅b2⋅b5⋅a6⋅a7
−4⋅i⋅V^4⋅f^2/(9⋅J^5)⋅b1⋅a2⋅a3⋅a4⋅b4⋅a5⋅b5⋅a6⋅a8
+2⋅D15⋅V - 2⋅i⋅D81⋅f + 8⋅i⋅V^4⋅f^2/(9⋅J^5)⋅a1⋅a2⋅b3⋅a4⋅a5⋅a6⋅b7⋅a8⋅b8
−2⋅D52⋅V + 2⋅D77⋅V⋅a1⋅b1⋅a2⋅b2⋅a3⋅a4⋅b6⋅a7⋅b7
−4⋅i⋅V^4⋅f^2/(3⋅J^5)⋅b2⋅a3⋅b4⋅a5⋅a6⋅b6⋅b8⋅a9⋅b9
+4⋅i⋅V^4⋅f^2/(15⋅J^5)⋅b1⋅a3⋅b3⋅a4⋅a5⋅b5⋅a6⋅b6⋅b7
+2⋅i⋅V^4⋅f^2/(3⋅J^5)⋅b1⋅a2⋅a3⋅a4⋅b5⋅a6⋅b6⋅b7⋅b8
+224⋅i⋅V^4⋅f^2/(135⋅J^5)⋅b1⋅a2⋅b2⋅b3⋅b4⋅b5⋅a6⋅b6⋅b7
−2⋅D93⋅V⋅b2⋅a3⋅b4⋅a5⋅b6⋅a7⋅a8
+2⋅i⋅D54⋅f - 2⋅i⋅D56⋅f - 2⋅i⋅D58⋅f⋅a1⋅b1⋅a2⋅a3⋅b3⋅b5⋅a6
−2⋅i⋅D45⋅f + 2⋅i⋅D47⋅f + 2⋅i⋅D49⋅f - 2⋅i⋅D59⋅f⋅a1⋅b1⋅a3⋅a4⋅b5⋅b6⋅a7
−2⋅D13⋅V - 2⋅i⋅V^4⋅f^2/(3⋅J^5)⋅a1⋅a2⋅b3⋅a4⋅b4⋅a5⋅a6⋅b6⋅a7
−2⋅D10⋅V + 2⋅i⋅D3⋅f + 2⋅D6⋅V + 2⋅D8⋅V + 8⋅V^3⋅f^3/(9⋅J^5)⋅a1⋅a2⋅a3⋅a4⋅b4⋅a5⋅b5
−2⋅i⋅D81⋅f + 2⋅D98⋅V + 10⋅i⋅V^4⋅f^2/(3⋅J^5)⋅a1⋅a2⋅b3⋅a4⋅b5⋅a6⋅a7⋅a8⋅b8
+2⋅i⋅D110⋅f - 2⋅D127⋅V⋅b1⋅a3⋅a4⋅b4⋅a5
+2⋅V^3⋅f^3/J^5⋅b1⋅b2⋅b4⋅a5⋅a7⋅b7⋅a8
−2⋅i⋅D40⋅f⋅a1⋅a3⋅b3⋅a4⋅a5⋅a6⋅a7
+2⋅D34⋅V⋅a1⋅b3⋅a4⋅a5⋅b6⋅a7⋅b7
+2⋅D10⋅V - 2⋅D6⋅V - 2⋅D8⋅V + 2⋅V^3⋅f^3/J^5⋅a1⋅b1⋅a4⋅b4⋅b6⋅a7⋅b7
+2⋅i⋅D14⋅f⋅a1⋅a2⋅b3⋅a4⋅b4⋅b6⋅a7
+2⋅D21⋅V + 2⋅D49⋅V + 2⋅i⋅D66⋅f⋅a1⋅b1⋅a3⋅b3⋅a5
−2⋅D88⋅V - 226⋅i⋅V^4⋅f^2/(135⋅J^5)⋅a1⋅b3⋅a5⋅b5⋅b6
−4⋅i⋅V^4⋅f^2/(3⋅J^5)⋅b1⋅a2⋅b3⋅b4⋅b5⋅a6⋅a7⋅b7⋅a9
+14⋅V^5⋅f/(9⋅J^5) + 8⋅V^3⋅f^3/(3⋅J^5)⋅b1⋅a2⋅a5⋅b5⋅b7⋅a8⋅b8
+2⋅D30⋅V⋅a1⋅a4⋅b5⋅a6⋅b7⋅a8⋅b8
−2⋅i⋅V^4⋅f^2/J^5⋅b2⋅a3⋅b4⋅b5⋅a6⋅b6⋅b7⋅a8⋅a9
+2⋅D131⋅V - 2⋅i⋅D31⋅f - 2⋅D39⋅V - 10⋅i⋅V^4⋅f^2/(27⋅J^5)⋅a1⋅b4⋅b5⋅a6⋅b6
+4⋅i⋅V^4⋅f^2/(9⋅J^5)⋅b1⋅a2⋅b3⋅a5⋅b5⋅a6⋅a7⋅b7⋅b8
+266⋅i⋅V^4⋅f^2/(135⋅J^5)⋅b1⋅a2⋅a3⋅b3⋅b4⋅a5⋅b5⋅b6⋅a7
+2⋅D12⋅V - 2⋅D14⋅V - 2⋅D16⋅V⋅a1⋅b1⋅a2⋅b2⋅a3⋅a4⋅b4⋅a6⋅b6
+2⋅D67⋅V⋅a1⋅b1⋅b2⋅b3⋅a5⋅b5⋅b6
−2⋅D45⋅V⋅a2⋅b3⋅b5⋅a6⋅a7
+4⋅i⋅V^4⋅f^2/J^5 + 2⋅i⋅V^2⋅f^4/J^5⋅b1⋅a2⋅b3⋅a4⋅b8
−40⋅i⋅V^4⋅f^2/(27⋅J^5)⋅a2⋅b2⋅b3⋅a4⋅b6⋅a7⋅b8⋅a9⋅b9
+2⋅D118⋅V + 26⋅i⋅V^4⋅f^2/(27⋅J^5)⋅a1⋅b1⋅b2⋅a3⋅b3⋅a4⋅b6⋅a7⋅b7
+52⋅i⋅V^4⋅f^2/(27⋅J^5)⋅a2⋅a3⋅b3⋅b4⋅a5⋅b5⋅b6⋅a7⋅b7
−2⋅i⋅D13⋅f + 2⋅i⋅D15⋅f - 2⋅i⋅D17⋅f - 2⋅D24⋅V + 284⋅V^3⋅f^3/(135⋅J^5)⋅a1⋅b2⋅b3⋅a4⋅a5⋅b5⋅b6
+2⋅i⋅D19⋅f - 2⋅D64⋅V⋅a1⋅b1⋅a3⋅b3⋅a4⋅a5⋅b6
+28⋅i⋅V^4⋅f^2/(27⋅J^5)⋅b1⋅a5⋅b5⋅a6⋅b7
+2⋅i⋅V^2⋅f^4/J^5⋅b3⋅a4⋅b5⋅a6⋅b8
+2⋅i⋅D72⋅f⋅a1⋅b1⋅a2⋅b3⋅b4⋅a5⋅a7
+2⋅D132⋅V + 2⋅D37⋅V - 4⋅i⋅V^4⋅f^2/(3⋅J^5)⋅a1⋅b1⋅a2⋅b3⋅a4⋅b4⋅b5⋅a6⋅b6
+110⋅V^3⋅f^3/(27⋅J^5)⋅b1⋅b2⋅a3⋅a4⋅b5⋅b6⋅a7
−406⋅V^3⋅f^3/(135⋅J^5)⋅b1⋅b2⋅b3⋅a4⋅b4⋅a5⋅a7
+2⋅V^3⋅f^3/J^5⋅b1⋅a2⋅b3⋅b4⋅a5⋅a6⋅b7
−2⋅i⋅V^4⋅f^2/J^5⋅b2⋅b3⋅a4⋅b4⋅b5⋅a6⋅b7⋅a8⋅a9
−100⋅i⋅V^4⋅f^2/(27⋅J^5)⋅b1⋅b2⋅a3⋅b3⋅a4⋅a5⋅b6⋅a7⋅b7
+14⋅V^3⋅f^3/(9⋅J^5)⋅b2⋅a3⋅a4⋅b4⋅b7⋅a8⋅b8
−14⋅i⋅V^4⋅f^2/(9⋅J^5) - 8⋅i⋅V^2⋅f^4/(3⋅J^5)⋅a1⋅a2⋅a5⋅b5⋅a7
+40⋅i⋅V^4⋅f^2/(27⋅J^5)⋅a2⋅b2⋅b3⋅a4⋅a5⋅b5⋅a6⋅a7⋅a8
−2⋅i⋅V^4⋅f^2/J^5 - 2⋅i⋅V^2⋅f^4/J^5⋅b1⋅a2⋅a3⋅a4⋅a8
+2⋅D66⋅V⋅a1⋅a2⋅b2⋅b4⋅a5⋅b5⋅a6
−4⋅i⋅V^4⋅f^2/(9⋅J^5)⋅a1⋅b1⋅a2⋅a3⋅b3⋅b4⋅a5⋅a6⋅a7
−2⋅D45⋅V + 2⋅D47⋅V + 2⋅D49⋅V + 2⋅i⋅D94⋅f⋅a1⋅b1⋅a2⋅b2⋅b3⋅a4⋅b5⋅a6⋅a7
−2⋅D13⋅V + 2⋅D15⋅V - 2⋅D17⋅V - 2⋅i⋅V^4⋅f^2/(3⋅J^5)⋅a1⋅b1⋅b3⋅a4⋅b4⋅a6⋅b7⋅a8⋅b8
−8⋅i⋅V^4⋅f^2/(15⋅J^5) - 478⋅i⋅V^2⋅f^4/(135⋅J^5)⋅a2⋅a3⋅b3⋅b4⋅b6
−56⋅i⋅V^4⋅f^2/(135⋅J^5)⋅a2⋅b2⋅a3⋅a4⋅b4⋅a5⋅b5⋅a6⋅a7
−40⋅i⋅V^4⋅f^2/(27⋅J^5)⋅b1⋅a2⋅a3⋅b3⋅a4⋅b4⋅b6⋅b7⋅a8
+4⋅V^5⋅f/(9⋅J^5)⋅b1⋅b2⋅a3⋅a4⋅b4⋅a5⋅b6⋅a7⋅b8⋅a9⋅b9
+14⋅i⋅V^4⋅f^2/(27⋅J^5)⋅b1⋅a3⋅b3⋅b4⋅b5⋅a6⋅b7⋅a8⋅a9
+2⋅D53⋅V + 10⋅i⋅V^4⋅f^2/(9⋅J^5)⋅a1⋅b1⋅a2⋅a3⋅b3⋅b4⋅b6⋅a7⋅b7
+2⋅i⋅V^4⋅f^2/(3⋅J^5)⋅b1⋅a2⋅b3⋅a4⋅b5⋅a7⋅b7⋅a8⋅b9
+2⋅V^3⋅f^3/(3⋅J^5)⋅a2⋅a3⋅b4⋅a6⋅b6⋅a7⋅a8
+14⋅V^3⋅f^3/(27⋅J^5)⋅a1⋅a2⋅b2⋅b3⋅a4⋅a5⋅a7
+2⋅i⋅D100⋅f - 2⋅i⋅D102⋅f - 2⋅i⋅D104⋅f - 2⋅i⋅D39⋅f + 284⋅V^3⋅f^3/(135⋅J^5)⋅a1⋅b2⋅b3⋅b4⋅b5⋅a6⋅a7
+2⋅D64⋅V⋅a1⋅b2⋅a3⋅b3⋅b4⋅a5⋅a7
−40⋅i⋅V^4⋅f^2/(27⋅J^5)⋅b1⋅a2⋅a3⋅b3⋅b5⋅a6⋅b7⋅b8⋅a9
−2⋅i⋅D42⋅f - 2⋅D69⋅V⋅a1⋅b1⋅a3⋅b4⋅a5⋅b5⋅a6
−4⋅V^5⋅f/(9⋅J^5)⋅b1⋅a2⋅a3⋅a4⋅b4⋅a5⋅b5⋅a6⋅b7⋅a8⋅a9
−2⋅D18⋅V - 2⋅i⋅D35⋅f - 286⋅i⋅V^4⋅f^2/(135⋅J^5) - 28⋅i⋅V^2⋅f^4/(135⋅J^5)⋅b1⋅b3⋅a4⋅a5⋅b5
+2⋅i⋅D72⋅f⋅a1⋅b1⋅b2⋅a3⋅b4⋅a5⋅a7
+2⋅D105⋅V⋅a1⋅a2⋅a4⋅b4⋅b5⋅a6⋅b7⋅a8⋅b8
−2⋅i⋅D101⋅f + 2⋅i⋅D16⋅f - 2⋅i⋅D45⋅f + 2⋅i⋅D47⋅f + 2⋅i⋅D49⋅f - 2⋅i⋅D59⋅f + 2⋅D80⋅V - 2⋅D94⋅V - 2⋅i⋅D99⋅f⋅a1⋅b1⋅b3⋅a4⋅b5⋅a6⋅a7
+2⋅V^3⋅f^3/J^5⋅b1⋅a2⋅b3⋅b4⋅b6⋅a7⋅a9
+392⋅V^3⋅f^3/(135⋅J^5)⋅a2⋅a3⋅b3⋅b4⋅a5⋅a6⋅a7
−2⋅i⋅D10⋅f + 2⋅i⋅D123⋅f + 2⋅D57⋅V - 2⋅i⋅D65⋅f + 2⋅i⋅D68⋅f - 2⋅i⋅D70⋅f - 2⋅i⋅V^4⋅f^2/(3⋅J^5) - 2⋅i⋅V^2⋅f^4/(9⋅J^5)⋅a1⋅b1⋅a3⋅b4⋅b5
+40⋅i⋅V^4⋅f^2/(27⋅J^5) + 2⋅i⋅V^2⋅f^4/J^5⋅b1⋅b2⋅b5⋅a6⋅a8
+2⋅i⋅V^4⋅f^2/J^5 + 2⋅i⋅V^2⋅f^4/J^5⋅b4⋅b5⋅a6⋅b6⋅a7
+2⋅D64⋅V⋅a1⋅a2⋅b4⋅b5⋅a6⋅b6⋅a7
+2⋅D104⋅V + 2⋅i⋅D111⋅f - 2⋅D120⋅V + 2⋅D133⋅V - 2⋅i⋅D8⋅f - 4⋅i⋅V^4⋅f^2/(3⋅J^5) - 40⋅i⋅V^2⋅f^4/(9⋅J^5)⋅a1⋅a2⋅a4⋅b4⋅a5
−224⋅i⋅V^4⋅f^2/(135⋅J^5) + 4⋅i⋅V^2⋅f^4/(9⋅J^5)⋅a2⋅a3⋅b3⋅a5⋅a7
+16⋅V^3⋅f^3/(15⋅J^5)⋅a2⋅b2⋅b3⋅a4⋅a5⋅b5⋅b7
+2⋅i⋅D114⋅f⋅a1⋅b1⋅a2⋅a4⋅b4⋅b5⋅a6
−94⋅V^3⋅f^3/(27⋅J^5)⋅a2⋅b2⋅a3⋅a4⋅b5⋅a6⋅a8
−2⋅D103⋅V⋅a1⋅b1⋅a4⋅a5⋅b5⋅a6⋅b7⋅a8⋅b8
+40⋅V^3⋅f^3/(27⋅J^5)⋅a2⋅b2⋅b3⋅a4⋅b6⋅a7⋅b8
−34⋅i⋅V^4⋅f^2/(27⋅J^5)⋅a2⋅b2⋅a3⋅b3⋅a4⋅b4⋅b6⋅a7⋅b7
−14⋅i⋅V^4⋅f^2/(9⋅J^5)⋅b1⋅a2⋅b3⋅a4⋅a5⋅b5⋅b7⋅b8⋅a9
+2⋅i⋅D10⋅f - 2⋅i⋅D117⋅f - 2⋅D18⋅V - 2⋅D20⋅V - 2⋅D22⋅V + 2⋅D3⋅V + 2⋅i⋅D63⋅f - 2⋅D86⋅V + 2⋅i⋅D96⋅f - 8⋅i⋅V^4⋅f^2/J^5 - 14⋅i⋅V^2⋅f^4/(9⋅J^5)⋅a1⋅a2⋅b4⋅a5⋅a6
+4⋅V^3⋅f^3/(3⋅J^5)⋅b1⋅a2⋅a5⋅b5⋅b6⋅a7⋅b8
−4⋅i⋅V^4⋅f^2/J^5⋅b1⋅a2⋅b3⋅a4⋅b5⋅a6⋅a8⋅b8⋅b9
+14⋅i⋅V^4⋅f^2/(9⋅J^5)⋅a1⋅a2⋅b3⋅a4⋅a5⋅b5⋅a6⋅b6⋅a8
−2⋅i⋅D86⋅f + 148⋅V^5⋅f/(27⋅J^5) + 152⋅V^3⋅f^3/(27⋅J^5)⋅b1⋅a2⋅b4⋅a5⋅b6⋅a7⋅b7
−2⋅D38⋅V + 2⋅D54⋅V - 2⋅D56⋅V - 2⋅D58⋅V⋅a1⋅b1⋅a2⋅b2⋅a4⋅b4⋅a5⋅a6⋅b6
+2⋅D91⋅V⋅a1⋅b1⋅a2⋅b3⋅a4⋅b4⋅a5⋅b5⋅a6
−4⋅V^3⋅f^3/(9⋅J^5)⋅b1⋅a2⋅b3⋅a5⋅b5⋅b6⋅a8
+2⋅V^3⋅f^3/J^5⋅b2⋅a3⋅b4⋅b5⋅a7⋅b7⋅a8
−2⋅D18⋅V + 2⋅i⋅D74⋅f + 2⋅D78⋅V + 2⋅i⋅D85⋅f - 4⋅i⋅V^4⋅f^2/(3⋅J^5) - 8⋅i⋅V^2⋅f^4/(3⋅J^5)⋅a1⋅a2⋅b2⋅b3⋅b4
+2⋅i⋅V^4⋅f^2/J^5⋅b1⋅a2⋅a3⋅a4⋅b6⋅a7⋅b8⋅a9⋅a10
−2⋅i⋅D103⋅f⋅a1⋅b1⋅a4⋅a5⋅b5⋅a6⋅b7
−2⋅D110⋅V + 2⋅D34⋅V + 2⋅D69⋅V + 2⋅i⋅D79⋅f - 2⋅i⋅D89⋅f⋅a1⋅a3⋅b5
−2⋅i⋅D52⋅f - 2⋅D69⋅V⋅a1⋅b1⋅a3⋅a4⋅b6⋅a7⋅b7
−56⋅V^5⋅f/(135⋅J^5) + 82⋅V^3⋅f^3/(45⋅J^5)⋅b1⋅b2⋅b3⋅a4⋅a5⋅b5⋅a6
+2⋅i⋅D118⋅f + 2⋅i⋅D53⋅f + 2⋅D70⋅V + 224⋅V^5⋅f/(135⋅J^5) - 86⋅V^3⋅f^3/(45⋅J^5)⋅a1⋅b1⋅b2⋅a3⋅b3⋅b4⋅a6
−2⋅i⋅D119⋅f + 2⋅i⋅D26⋅f - 2⋅i⋅D54⋅f - 2⋅D66⋅V + 2⋅D67⋅V + 2⋅D69⋅V⋅a1⋅b1⋅a2⋅a3⋅b3⋅a4⋅b5
−2⋅i⋅D11⋅f - 2⋅D23⋅V⋅a1⋅b2⋅a4⋅b4⋅a6
−14⋅i⋅V^4⋅f^2/(9⋅J^5) - 80⋅i⋅V^2⋅f^4/(27⋅J^5)⋅a2⋅b2⋅a4⋅a5⋅a7
+40⋅V^5⋅f/(27⋅J^5) + 2⋅V^3⋅f^3/J^5⋅b1⋅b2⋅b5⋅a6⋅b7⋅a8⋅a9
−2⋅i⋅V^2⋅f^4/(3⋅J^5)⋅b3⋅a4⋅b4⋅b6⋅a7
−2⋅i⋅D52⋅f⋅a1⋅a2⋅a3⋅a4⋅b6⋅a7⋅a8
+2⋅i⋅D2⋅f⋅a1⋅b2⋅a3⋅a4⋅b4⋅b5⋅a6
−2⋅i⋅D108⋅f⋅a1⋅a2⋅b2⋅a3⋅b3⋅a4⋅a5⋅a6⋅a7
−40⋅i⋅V^4⋅f^2/(27⋅J^5)⋅a2⋅b2⋅b3⋅a4⋅b5⋅b6⋅b7⋅a8⋅a9
+4⋅i⋅V^4⋅f^2/(3⋅J^5)⋅a1⋅b1⋅a2⋅a3⋅b4⋅a5⋅a6⋅b6⋅a8
−2⋅i⋅V^4⋅f^2/(9⋅J^5)⋅b1⋅a2⋅b2⋅a4⋅b4⋅a5⋅b5⋅a6⋅b7
+44⋅i⋅V^4⋅f^2/(15⋅J^5) + 8⋅i⋅V^2⋅f^4/(9⋅J^5)⋅b2⋅a4⋅a5⋅a6⋅a7
−2⋅V^3⋅f^3/(3⋅J^5)⋅b1⋅b2⋅a5⋅a6⋅b6⋅a7⋅b7
+2⋅D30⋅V + 2⋅i⋅D40⋅f⋅a1⋅a3⋅b3⋅b4⋅b5⋅a6⋅a7
−2⋅i⋅V^4⋅f^2/J^5⋅b1⋅a2⋅b3⋅a4⋅b5⋅a6⋅b7⋅b8⋅a10
+2⋅i⋅D23⋅f⋅a1⋅a2⋅a3⋅b3⋅a4⋅b4⋅b6
+2⋅D54⋅V - 2⋅D56⋅V - 2⋅D58⋅V⋅a1⋅b1⋅a2⋅a3⋅b3⋅a5⋅b6⋅a7⋅b7
+2⋅V^5⋅f/J^5⋅b1⋅a2⋅b3⋅a4⋅a5⋅b5⋅a6⋅a7⋅b8⋅a9⋅a10
−2⋅V^5⋅f/J^5⋅b1⋅a2⋅b4⋅a5⋅b6⋅a7⋅b8⋅a9⋅b10⋅a11⋅b11
−2⋅i⋅D11⋅f + 2⋅i⋅D110⋅f + 2⋅i⋅D25⋅f - 2⋅i⋅D7⋅f + 2⋅i⋅D9⋅f⋅a1⋅b2⋅b3⋅b4⋅b5
+40⋅i⋅V^4⋅f^2/(27⋅J^5)⋅a2⋅b2⋅b3⋅a4⋅b5⋅a6⋅a7⋅a8⋅a9
−4⋅V^3⋅f^3/J^5 - 2⋅V⋅f^5/J^5⋅b2⋅a3⋅b7
+2⋅V^5⋅f/(9⋅J^5) - 38⋅V^3⋅f^3/(27⋅J^5)⋅b1⋅a2⋅b2⋅a5⋅b5⋅b6⋅a7
−8⋅i⋅V^4⋅f^2/(3⋅J^5)⋅b1⋅a2⋅b3⋅a4⋅a6⋅b6⋅b8⋅a9⋅b9
+14⋅V^3⋅f^3/(27⋅J^5)⋅a1⋅a2⋅b2⋅a4⋅b5⋅a6⋅a8
+40⋅i⋅V^4⋅f^2/(27⋅J^5)⋅a2⋅b2⋅b3⋅a4⋅a5⋅a6⋅b7⋅a8⋅a9
−4⋅V^3⋅f^3/(3⋅J^5)⋅a1⋅a2⋅b4⋅a5⋅a6⋅b6⋅a8
+14⋅i⋅V^4⋅f^2/(27⋅J^5)⋅a1⋅a4⋅a6⋅b6⋅a7
+2⋅V^3⋅f^3/J^5⋅b1⋅a2⋅b4⋅b5⋅b6⋅a7⋅a9
+2⋅V^3⋅f^3/J^5⋅b2⋅b3⋅a4⋅b4⋅a6⋅b6⋅a7
+2⋅V^5⋅f/(3⋅J^5)⋅b1⋅a2⋅b3⋅a4⋅a5⋅a8⋅a9
−56⋅i⋅V^4⋅f^2/(135⋅J^5)⋅a2⋅b2⋅b4⋅a6⋅b6
−2⋅D0⋅V - 2⋅i⋅D112⋅f + 2⋅D26⋅V⋅a1⋅b1⋅a2⋅b2⋅a3
−2⋅i⋅V^4⋅f^2/(3⋅J^5)⋅b2⋅b3⋅a4⋅b6⋅a7
+8⋅V^3⋅f^3/(3⋅J^5)⋅b2⋅a3⋅a5⋅b5⋅b7⋅a8⋅b8
+32⋅i⋅V^4⋅f^2/(9⋅J^5)⋅b1⋅a2⋅b3⋅a4⋅b4⋅a5⋅a6⋅b6⋅b7
+2⋅V^3⋅f^3/(3⋅J^5)⋅b4⋅a6⋅b6
+2⋅D42⋅V⋅a1⋅b2⋅a3⋅b3⋅a4⋅b4⋅a5⋅b5⋅a6
−2⋅V^3⋅f^3/J^5⋅a2⋅a3⋅b4⋅a5⋅b6⋅a7⋅a9
+2⋅i⋅D99⋅f⋅b1⋅a2⋅b3⋅a4⋅b5⋅a6⋅a8
+2⋅D125⋅V + 2⋅i⋅D59⋅f⋅a1⋅a2⋅b3⋅a4⋅a6⋅b6⋅b7
+2⋅i⋅D8⋅f⋅a1⋅b1⋅b3⋅b5⋅a6
−2⋅D119⋅V + 2⋅i⋅D25⋅f⋅b1⋅a3⋅b3⋅a4⋅a6
+2⋅D70⋅V - 4⋅V^3⋅f^3/(9⋅J^5)⋅a1⋅b1⋅b2⋅b4⋅a5⋅b5⋅a6
+2⋅D18⋅V + 2⋅i⋅D35⋅f - 2⋅D78⋅V - 2⋅i⋅D96⋅f + 466⋅i⋅V^4⋅f^2/(135⋅J^5) + 26⋅i⋅V^2⋅f^4/(45⋅J^5)⋅a1⋅a3⋅a4⋅a5⋅b5
+2⋅i⋅D66⋅f⋅a1⋅a2⋅b2⋅a4⋅b6
−224⋅V^3⋅f^3/(135⋅J^5)⋅a2⋅a3⋅a4⋅a5⋅b5⋅a6⋅b7
+2⋅D18⋅V⋅a1⋅b1⋅a3⋅b3⋅a4⋅b4⋅a5⋅b5⋅b6
+2⋅i⋅V^4⋅f^2/(3⋅J^5)⋅a1⋅b1⋅a2⋅a3⋅b4⋅a5⋅b5⋅b6⋅b7
−82⋅V^5⋅f/(27⋅J^5) - 52⋅V^3⋅f^3/(45⋅J^5)⋅a2⋅b3⋅a4⋅b4⋅b5⋅a6⋅b6
−4⋅i⋅V^4⋅f^2/(3⋅J^5)⋅b1⋅b2⋅a4⋅b4⋅a5⋅b5⋅b6⋅a7⋅a8
+2⋅i⋅D31⋅f - 26⋅i⋅V^4⋅f^2/(27⋅J^5)⋅a1⋅b3⋅b5⋅b6⋅a7
+2⋅i⋅D23⋅f - 2⋅i⋅D5⋅f + 2⋅i⋅D58⋅f - 2⋅D75⋅V⋅a1⋅b1⋅b2⋅a3⋅a4⋅a5⋅b5
−32⋅i⋅V^4⋅f^2/(9⋅J^5) - 2⋅i⋅V^2⋅f^4/J^5⋅a4⋅a5⋅b6⋅a7⋅a8
−92⋅i⋅V^4⋅f^2/(27⋅J^5)⋅b1⋅b2⋅b3⋅a4⋅b5⋅a6⋅a7⋅a8⋅b8
+424⋅V^3⋅f^3/(135⋅J^5)⋅b1⋅b2⋅b3⋅a4⋅a5⋅a6⋅b7
−40⋅i⋅V^4⋅f^2/(27⋅J^5)⋅a2⋅b2⋅b3⋅b4⋅a5⋅b5⋅a6⋅b6⋅a7
+2⋅i⋅D81⋅f - 368⋅i⋅V^4⋅f^2/(27⋅J^5)⋅b1⋅a2⋅b3⋅a4⋅b5⋅a6⋅b7⋅a8⋅b8
+80⋅i⋅V^2⋅f^4/(27⋅J^5)⋅a2⋅b2⋅b4⋅b5⋅a7
+2⋅D100⋅V - 22⋅i⋅V^4⋅f^2/(9⋅J^5)⋅a1⋅a2⋅a4⋅a5⋅b5⋅a6⋅b7⋅a8⋅b8
+2⋅i⋅D37⋅f - 2⋅V^3⋅f^3/J^5⋅a1⋅b1⋅a2⋅b2⋅a5⋅a6⋅a7
+2⋅D16⋅V - 2⋅i⋅D80⋅f⋅a1⋅b1⋅b3⋅a4⋅a5⋅a6⋅b7⋅a8⋅b8
+2⋅i⋅D12⋅f - 2⋅i⋅D14⋅f - 2⋅i⋅D16⋅f⋅a1⋅b2⋅b3⋅a4⋅a5⋅b5⋅a7
+4⋅V^5⋅f/(9⋅J^5)⋅b1⋅a2⋅b3⋅a5⋅b5⋅a6⋅b7⋅a8⋅b9⋅a10⋅b10
−2⋅i⋅D51⋅f⋅a1⋅b1⋅b3⋅a4⋅a6⋅a7⋅a8
+2⋅V^3⋅f^3/J^5⋅b2⋅a3⋅b5⋅a6⋅b7⋅a8⋅b9
−2⋅i⋅D87⋅f⋅a1⋅a2⋅b4⋅a5⋅a6⋅a7⋅a8
+2⋅i⋅D11⋅f - 2⋅i⋅D116⋅f - 2⋅D19⋅V - 2⋅i⋅D64⋅f + 2⋅i⋅D7⋅f + 2⋅D87⋅V - 2⋅i⋅D9⋅f⋅a1⋅b1⋅b4⋅a5⋅a6
−2⋅i⋅V^4⋅f^2/J^5⋅b1⋅b2⋅a3⋅b3⋅b4⋅a5⋅b7⋅a8⋅a9
+2⋅D103⋅V + 2⋅i⋅D11⋅f - 2⋅i⋅D110⋅f + 2⋅i⋅D122⋅f + 2⋅i⋅D43⋅f + 2⋅i⋅D7⋅f - 2⋅i⋅D9⋅f⋅a1⋅a2⋅b3⋅b4⋅a5
+2⋅V^3⋅f^3/J^5⋅b1⋅a2⋅b3⋅b4⋅a7⋅b7⋅a8
+2⋅D108⋅V⋅a1⋅a2⋅b2⋅a3⋅b3⋅a4⋅b5⋅a6⋅b7⋅a8⋅b8
−40⋅i⋅V^4⋅f^2/(27⋅J^5) - 2⋅i⋅V^2⋅f^4/J^5⋅a3⋅a4⋅a6⋅b6⋅a7
−2⋅D53⋅V - 646⋅i⋅V^4⋅f^2/(135⋅J^5) - 266⋅i⋅V^2⋅f^4/(45⋅J^5)⋅b2⋅a3⋅b3⋅b4⋅a6
+2⋅V^3⋅f^3/J^5⋅b1⋅a2⋅b4⋅b5⋅a7⋅b7⋅a8
−2⋅i⋅D20⋅f - 2⋅D35⋅V + 2⋅D65⋅V - 2⋅D68⋅V + 2⋅D70⋅V + 166⋅V^5⋅f/(135⋅J^5) + 578⋅V^3⋅f^3/(135⋅J^5)⋅a1⋅a2⋅b2⋅a3⋅a4⋅b4⋅a6
−40⋅i⋅V^4⋅f^2/(27⋅J^5)⋅b1⋅a2⋅a3⋅b3⋅b6⋅a7⋅b8⋅a9⋅b9
+2⋅i⋅V^4⋅f^2/(3⋅J^5)⋅b1⋅a2⋅b3⋅a4⋅b5⋅a6⋅b6⋅a7⋅b8
−2⋅i⋅D31⋅f - 2⋅D50⋅V - 202⋅i⋅V^4⋅f^2/(45⋅J^5) - 4⋅i⋅V^2⋅f^4/(27⋅J^5)⋅b1⋅a4⋅b5⋅a6⋅b6
−2⋅D117⋅V + 2⋅V^3⋅f^3/J^5⋅a1⋅b1⋅a5⋅b5⋅b6⋅a7⋅b7
−64⋅i⋅V^4⋅f^2/(135⋅J^5)⋅b1⋅a2⋅b2⋅a4⋅b4⋅a5⋅b5⋅b6⋅a7
−2⋅D92⋅V⋅a1⋅b1⋅a2⋅b2⋅a3⋅b3⋅a4⋅a5⋅b6⋅a7⋅a8
+2⋅D109⋅V + 2⋅i⋅D39⋅f - 32⋅V^5⋅f/(9⋅J^5) - 202⋅V^3⋅f^3/(135⋅J^5)⋅b1⋅a3⋅b3⋅a4⋅b5⋅a6⋅b6
−14⋅i⋅V^4⋅f^2/(9⋅J^5)⋅b1⋅a2⋅a4⋅b4⋅b5⋅a6⋅b7⋅a8⋅b9
+2⋅i⋅D106⋅f - 2⋅D91⋅V⋅a1⋅b1⋅a2⋅a3⋅b6
−2⋅i⋅D63⋅f⋅a1⋅b1⋅a4⋅a5⋅a7
−2⋅D64⋅V⋅a1⋅a2⋅a3⋅b3⋅a4⋅a5⋅a7
+14⋅V^3⋅f^3/(27⋅J^5)⋅b1⋅a2⋅b2⋅a3⋅a4⋅a5⋅a7
−14⋅V^3⋅f^3/(27⋅J^5)⋅b1⋅a2⋅b2⋅a4⋅b7⋅a8⋅b8
+2⋅i⋅D2⋅f⋅b1⋅b2⋅a3⋅a4⋅b4⋅a5⋅a6
−2⋅V^3⋅f^3/J^5⋅b1⋅a2⋅a4⋅a5⋅b7⋅a8⋅a9
+80⋅i⋅V^2⋅f^4/(27⋅J^5)⋅a2⋅b2⋅b4⋅a5⋅b7
−2⋅V^5⋅f/J^5 - 10⋅V^3⋅f^3/(3⋅J^5)⋅b1⋅a2⋅a5⋅b5⋅a6⋅a7⋅a8
+4⋅i⋅V^4⋅f^2/(3⋅J^5)⋅b1⋅a2⋅a4⋅b4⋅b5⋅a6⋅b6⋅a7⋅b7
−28⋅V^3⋅f^3/(27⋅J^5)⋅b1⋅a3⋅b4⋅a5⋅a6⋅b6⋅b7
−2⋅D37⋅V + 2⋅D53⋅V + 2⋅D55⋅V - 2⋅D57⋅V + 20⋅i⋅V^4⋅f^2/(9⋅J^5)⋅a1⋅b1⋅a2⋅a3⋅a4⋅b4⋅a5⋅a6⋅b6
−2⋅i⋅V^2⋅f^4/J^5⋅a1⋅a2⋅b5⋅a6⋅a8
+14⋅V^3⋅f^3/(9⋅J^5)⋅a3⋅b3⋅b4⋅a5⋅a6⋅b6⋅b7
+2⋅V^3⋅f^3/J^5 + 2⋅V⋅f^5/J^5⋅a2⋅a3⋅a7
+2⋅i⋅V^4⋅f^2/(3⋅J^5)⋅b2⋅a3⋅b4⋅a5⋅b5⋅a6⋅b6⋅b7⋅a8
−2⋅D37⋅V + 4⋅i⋅V^4⋅f^2/(27⋅J^5) + 44⋅i⋅V^2⋅f^4/(27⋅J^5)⋅b2⋅a3⋅b5⋅a6⋅b6
+158⋅i⋅V^4⋅f^2/(27⋅J^5) - 64⋅i⋅V^2⋅f^4/(27⋅J^5)⋅a2⋅b2⋅a3⋅b3⋅b4
+116⋅i⋅V^4⋅f^2/(135⋅J^5)⋅a2⋅b2⋅a3⋅b3⋅b4⋅a5⋅b5⋅a6⋅b6
+4⋅i⋅V^4⋅f^2/(9⋅J^5)⋅b1⋅a2⋅a3⋅a6⋅a8
−2⋅V^5⋅f/J^5⋅b1⋅a2⋅b3⋅a4⋅b5⋅b6⋅a7⋅b7⋅b8⋅a9⋅a10
+28⋅i⋅V^4⋅f^2/(9⋅J^5)⋅b1⋅b2⋅a3⋅b3⋅b4⋅b5⋅b6⋅a7⋅b7
−2⋅V^5⋅f/(3⋅J^5)⋅b1⋅a2⋅b3⋅a4⋅a5⋅b7⋅b8
+2⋅i⋅V^4⋅f^2/(3⋅J^5)⋅b1⋅b2⋅a3⋅b3⋅b4⋅a5⋅b5⋅a7⋅a8
−2⋅i⋅D47⋅f⋅a1⋅a2⋅a3⋅b3⋅b5⋅b6⋅a7
+4⋅i⋅V^4⋅f^2/(9⋅J^5)⋅b1⋅a2⋅b3⋅a4⋅b4⋅a6⋅b8⋅a9⋅b9
+2⋅D5⋅V⋅a2⋅a3⋅b4⋅a5⋅b5
+2⋅V^3⋅f^3/J^5⋅b2⋅a3⋅b4⋅a5⋅b6⋅b7⋅a9
−2⋅i⋅D114⋅f + 2⋅i⋅D23⋅f - 2⋅D29⋅V + 2⋅i⋅D58⋅f⋅a1⋅b1⋅a2⋅b3⋅a4⋅a5⋅b5
+14⋅V^3⋅f^3/(27⋅J^5)⋅a1⋅a2⋅b2⋅a4⋅a6⋅b6⋅a7
+4⋅V^3⋅f^3/(9⋅J^5)⋅b2⋅a3⋅b3⋅a5⋅a6⋅a7⋅a8
−20⋅V^5⋅f/(9⋅J^5) - 4⋅V^3⋅f^3/(3⋅J^5)⋅b1⋅a2⋅b3⋅a5⋅a6⋅b6⋅b7
+4⋅V^3⋅f^3/(9⋅J^5)⋅a1⋅a2⋅b3⋅a5⋅b5⋅a6⋅a8
−224⋅i⋅V^4⋅f^2/(135⋅J^5)⋅a2⋅a3⋅a4⋅b6⋅a7
+14⋅V^3⋅f^3/(9⋅J^5)⋅a3⋅b3⋅b4⋅a5⋅b7⋅a8⋅b8
+2⋅D59⋅V⋅a1⋅a2⋅b3⋅b4⋅a5⋅b5⋅a6⋅b6⋅a7
+28⋅i⋅V^4⋅f^2/(9⋅J^5)⋅a2⋅b2⋅b3⋅a4⋅b4⋅a5⋅b6⋅a7⋅b7
+2⋅D20⋅V + 58⋅i⋅V^4⋅f^2/(27⋅J^5)⋅a1⋅a2⋅b2⋅b3⋅a4⋅b4⋅a5⋅b5⋅b6
+2⋅D59⋅V⋅a1⋅a2⋅b3⋅a4⋅a6⋅b6⋅b7⋅a8⋅b8
−2⋅i⋅D67⋅f⋅b1⋅a2⋅a3⋅a4⋅b5
+2⋅D51⋅V⋅a1⋅b1⋅b3⋅b4⋅a5⋅b5⋅b6⋅a7⋅a8
+2⋅V^3⋅f^3/J^5⋅b2⋅b3⋅b5⋅a6⋅b7⋅a8⋅a9
+2⋅i⋅V^4⋅f^2/J^5 + 2⋅i⋅V^2⋅f^4/J^5⋅b4⋅a5⋅a6⋅b6⋅b7
−2⋅i⋅D44⋅f + 140⋅i⋅V^4⋅f^2/(27⋅J^5) + 178⋅i⋅V^2⋅f^4/(27⋅J^5)⋅b1⋅a2⋅b3⋅a4⋅b4
+2⋅i⋅D98⋅f⋅a1⋅b1⋅b3⋅b4⋅b5⋅a6⋅a8
+2⋅D63⋅V⋅a1⋅b1⋅b4⋅b5⋅a6⋅b6⋅a7
+2⋅i⋅D12⋅f + 2⋅D125⋅V - 2⋅i⋅D14⋅f - 2⋅i⋅D16⋅f⋅a1⋅a2⋅b3⋅b4⋅a5⋅b5⋅a7
−2⋅D107⋅V + 2⋅i⋅D90⋅f + 2⋅V^3⋅f^3/J^5⋅a1⋅b1⋅a2⋅b2⋅a5⋅b5⋅b6
−4⋅i⋅V^2⋅f^4/(9⋅J^5)⋅b2⋅a4⋅b4⋅a5⋅b7
−14⋅i⋅V^4⋅f^2/(27⋅J^5)⋅a1⋅a2⋅b2⋅a3⋅b3⋅a4⋅a6⋅b6⋅a7
−2⋅V^5⋅f/(3⋅J^5)⋅b1⋅a2⋅b3⋅a4⋅b6⋅a8⋅b8
−2⋅i⋅V^4⋅f^2/(3⋅J^5)⋅a3⋅b3⋅b4⋅a6⋅b6
−2⋅V^3⋅f^3/(3⋅J^5)⋅b2⋅a3⋅b4⋅a6⋅b6⋅b7⋅a8
−2⋅D108⋅V - 2⋅i⋅D49⋅f⋅a1⋅a2⋅b2⋅b4⋅b5⋅a6⋅a7
−14⋅i⋅V^4⋅f^2/(27⋅J^5)⋅b1⋅a2⋅b2⋅a4⋅a5⋅b5⋅a6⋅a7⋅a8
−2⋅i⋅D19⋅f - 2⋅i⋅D2⋅f + 2⋅i⋅D21⋅f - 2⋅i⋅D23⋅f - 2⋅D61⋅V - 2⋅D7⋅V - 2⋅D97⋅V⋅a1⋅b2⋅a3⋅b3⋅a4⋅a5⋅b5
−4⋅V^3⋅f^3/(3⋅J^5)⋅a2⋅a3⋅a5⋅b5⋅b6⋅a7⋅a8
+2⋅i⋅D52⋅f⋅a1⋅a2⋅b3⋅a4⋅b6⋅b7⋅a8
−52⋅i⋅V^4⋅f^2/(27⋅J^5)⋅b1⋅a2⋅b2⋅b3⋅b5⋅b6⋅b7⋅a8⋅b8
+14⋅i⋅V^4⋅f^2/(27⋅J^5)⋅b1⋅a3⋅b3⋅b4⋅a5⋅b5⋅a6⋅b6⋅a7
+2⋅i⋅D10⋅f + 2⋅i⋅D63⋅f + 4⋅i⋅V^4⋅f^2/(9⋅J^5) - 10⋅i⋅V^2⋅f^4/(9⋅J^5)⋅a1⋅a2⋅a4⋅a5⋅b6
+2⋅i⋅D11⋅f - 2⋅i⋅D116⋅f + 2⋅i⋅D7⋅f - 2⋅i⋅D9⋅f⋅a1⋅b1⋅a4⋅b5⋅a6
−2⋅V^3⋅f^3/J^5⋅a1⋅b1⋅a2⋅a3⋅b5⋅a6⋅a8
+2⋅D110⋅V - 2⋅D30⋅V⋅a1⋅a3⋅a4⋅b4⋅b5⋅a6⋅b6
−14⋅V^5⋅f/(9⋅J^5) - 14⋅V^3⋅f^3/(9⋅J^5)⋅a2⋅b2⋅a3⋅b3⋅a5⋅a6⋅a7
−4⋅V^3⋅f^3/J^5 - 2⋅V⋅f^5/J^5⋅b5⋅a6⋅b7
+40⋅V^5⋅f/(27⋅J^5)⋅b1⋅a2⋅a3⋅b3⋅a4⋅b4⋅a5⋅b5⋅a6⋅a7⋅a8
+2⋅D67⋅V⋅a2⋅b3⋅a6
−8⋅i⋅V^4⋅f^2/(9⋅J^5)⋅b1⋅a2⋅a3⋅b3⋅b4⋅a5⋅b6⋅a7⋅b7
−2⋅i⋅D17⋅f⋅a1⋅b1⋅a3⋅a4⋅a5⋅b5⋅a7
−2⋅i⋅V^2⋅f^4/J^5⋅a1⋅a2⋅a6⋅b6⋅a7
+2⋅i⋅D37⋅f - 2⋅i⋅D46⋅f - 2⋅i⋅D48⋅f - 2⋅i⋅D50⋅f - 2⋅D74⋅V - 46⋅V^5⋅f/(27⋅J^5) - 4⋅V^3⋅f^3/(27⋅J^5)⋅a1⋅b1⋅b2⋅a3⋅b5⋅a6⋅b6
+2⋅D116⋅V⋅a1⋅b2⋅a3⋅b3⋅a5⋅b5⋅a6
−2⋅i⋅D51⋅f + 32⋅V^5⋅f/(9⋅J^5) + 260⋅V^3⋅f^3/(27⋅J^5)⋅b1⋅a2⋅b3⋅a4⋅b6⋅a7⋅b7
−2⋅i⋅V^4⋅f^2/J^5⋅b1⋅a2⋅b3⋅a4⋅b7⋅a8⋅b9⋅a10⋅b10
−106⋅V^3⋅f^3/(135⋅J^5)⋅b1⋅a2⋅b2⋅b4⋅a5⋅b5⋅a7
−40⋅i⋅V^4⋅f^2/(27⋅J^5)⋅a2⋅b2⋅b3⋅a4⋅b5⋅b6⋅a7⋅b7⋅a8
+2⋅i⋅D103⋅f⋅b1⋅a2⋅b3⋅b4⋅b5⋅a6⋅b6
+424⋅i⋅V^4⋅f^2/(135⋅J^5)⋅b1⋅a2⋅a3⋅a4⋅a5⋅a6⋅b7⋅a8⋅b8
−14⋅V^3⋅f^3/(27⋅J^5)⋅b1⋅a3⋅b3⋅a4⋅b6⋅b7⋅a8
+2⋅i⋅V^4⋅f^2/(3⋅J^5)⋅b1⋅a2⋅b3⋅b4⋅b5⋅a6⋅b6⋅a8⋅a9
+40⋅i⋅V^4⋅f^2/(27⋅J^5)⋅b1⋅a2⋅a3⋅b3⋅a4⋅b4⋅a6⋅a7⋅a8
+4⋅V^3⋅f^3/(3⋅J^5)⋅b3⋅a4⋅a5⋅b5⋅b7⋅a8⋅b8
+2⋅D111⋅V + 2⋅i⋅D120⋅f - 2⋅D70⋅V - 2⋅i⋅D78⋅f + 2⋅V^3⋅f^3/(9⋅J^5) + 22⋅V⋅f^5/(27⋅J^5)⋅a1⋅b2⋅b5
−14⋅i⋅V^4⋅f^2/(27⋅J^5)⋅a1⋅a3⋅b3⋅a4⋅b5⋅a6⋅b7⋅a8⋅a9
−2⋅D75⋅V + 2⋅i⋅D79⋅f⋅b1⋅a3⋅a5
−2⋅D108⋅V + 2⋅D122⋅V + 2⋅i⋅D47⋅f⋅a1⋅b1⋅b2⋅b4⋅b5⋅a6⋅b6
−154⋅i⋅V^4⋅f^2/(45⋅J^5) - 56⋅i⋅V^2⋅f^4/(45⋅J^5)⋅a2⋅b2⋅b3⋅a5⋅b6
−4⋅V^5⋅f/(3⋅J^5) - 2⋅V^3⋅f^3/J^5⋅b1⋅a2⋅b3⋅a4⋅a7⋅a8⋅a9
+2⋅V^3⋅f^3/J^5⋅b1⋅b2⋅a5⋅b5⋅a6⋅b6⋅a7
−2⋅V^3⋅f^3/J^5⋅a1⋅a2⋅b3⋅a4⋅b7⋅a8⋅a9
−2⋅V^3⋅f^3/(9⋅J^5)⋅b1⋅a2⋅a4⋅b5⋅b6⋅a7⋅b7
−2⋅D56⋅V⋅b2⋅a3⋅a4⋅b4⋅a6
−32⋅i⋅V^4⋅f^2/(9⋅J^5) - 4⋅i⋅V^2⋅f^4/(3⋅J^5)⋅b1⋅a2⋅b4⋅b6⋅a7
−2⋅D27⋅V + 2⋅i⋅D28⋅f - 4⋅i⋅V^4⋅f^2/(3⋅J^5) - 4⋅i⋅V^2⋅f^4/(27⋅J^5)⋅a1⋅b1⋅b2⋅a4⋅b4
−52⋅i⋅V^4⋅f^2/(27⋅J^5)⋅b1⋅a2⋅a3⋅b4⋅a5⋅b5⋅b6⋅a7⋅b7
−2⋅V^5⋅f/J^5⋅b1⋅a2⋅b3⋅a4⋅b5⋅b6⋅a7⋅b7⋅a8⋅b8⋅a9
−28⋅V^3⋅f^3/(27⋅J^5)⋅b1⋅a2⋅b2⋅a4⋅a6⋅b6⋅b7
+2⋅i⋅D5⋅f⋅a1⋅a2⋅b2⋅a3⋅b4⋅a5⋅b6
+2⋅i⋅D86⋅f⋅a1⋅b1⋅b4⋅b5⋅b6⋅a7⋅a8
+2⋅i⋅D33⋅f - 2⋅D48⋅V - 2⋅D78⋅V - 22⋅i⋅V^4⋅f^2/(27⋅J^5) - 22⋅i⋅V^2⋅f^4/(27⋅J^5)⋅a1⋅b2⋅b5⋅a6⋅b6
−2⋅V^3⋅f^3/(3⋅J^5)⋅b1⋅a2⋅b4⋅a6⋅b6⋅b7⋅a8
−2⋅i⋅D86⋅f⋅a1⋅b1⋅b4⋅a5⋅a6⋅a7⋅a8
+14⋅i⋅V^4⋅f^2/(9⋅J^5)⋅b1⋅a2⋅b2⋅b3⋅b4⋅a5⋅b6⋅a7⋅a8
−406⋅i⋅V^4⋅f^2/(135⋅J^5) - 56⋅i⋅V^2⋅f^4/(27⋅J^5)⋅b1⋅a3⋅a5⋅b5⋅b6
+2⋅i⋅V^4⋅f^2/(3⋅J^5)⋅b2⋅a3⋅b4⋅a5⋅b5⋅b6⋅a7⋅a8⋅b8
+2⋅i⋅V^4⋅f^2/(3⋅J^5)⋅b1⋅a2⋅b3⋅b4⋅b5⋅a7⋅b7⋅a8⋅a9
+14⋅V^3⋅f^3/(9⋅J^5)⋅a3⋅b3⋅b4⋅a5⋅b6⋅a7⋅b8
+2⋅i⋅V^4⋅f^2/(9⋅J^5)⋅a1⋅a2⋅b2⋅a4⋅b4⋅a5⋅b5⋅a6⋅a7
+46⋅i⋅V^4⋅f^2/(9⋅J^5) + 38⋅i⋅V^2⋅f^4/(9⋅J^5)⋅a3⋅a4⋅b4⋅a5⋅a6
+40⋅V^3⋅f^3/(27⋅J^5)⋅a2⋅b2⋅b3⋅a4⋅b7⋅a8⋅b8
−4⋅i⋅V^4⋅f^2/(15⋅J^5)⋅b1⋅b2⋅a3⋅a6⋅b6
−8⋅V^3⋅f^3/(3⋅J^5)⋅b1⋅a2⋅a3⋅a4⋅a6⋅b6⋅a8
+2⋅i⋅D20⋅f + 2⋅D35⋅V - 706⋅V^5⋅f/(135⋅J^5) - 266⋅V^3⋅f^3/(45⋅J^5)⋅b1⋅a2⋅b2⋅b3⋅a4⋅b4⋅a6
−2⋅D53⋅V - 2⋅D55⋅V + 2⋅D57⋅V - 2⋅i⋅V^4⋅f^2/(3⋅J^5)⋅a1⋅b1⋅a2⋅b2⋅b3⋅a4⋅b4⋅b5⋅a6
+2⋅i⋅D104⋅f - 2⋅D111⋅V + 104⋅V^3⋅f^3/(135⋅J^5)⋅a1⋅b2⋅a4⋅b4⋅b5⋅a6⋅b6
−4⋅i⋅V^4⋅f^2/(3⋅J^5)⋅b2⋅b3⋅a4⋅b4⋅a5⋅b5⋅b6⋅a7⋅a8
+14⋅V^3⋅f^3/(27⋅J^5)⋅a1⋅a3⋅b3⋅a4⋅b5⋅a6⋅a8
+2⋅i⋅V^4⋅f^2/(27⋅J^5)⋅b1⋅a2⋅b2⋅a3⋅b4⋅a5⋅b5⋅a6⋅b6
−14⋅V^5⋅f/(9⋅J^5) - 346⋅V^3⋅f^3/(135⋅J^5)⋅b1⋅b2⋅b4⋅a5⋅b5⋅a6⋅a7
+2⋅D93⋅V⋅a1⋅b1⋅a2⋅a3⋅b4⋅a5⋅b6⋅a7⋅b8⋅a9⋅b9
+2⋅i⋅V^4⋅f^2/J^5⋅b1⋅a2⋅a3⋅b3⋅a4⋅a5⋅a7⋅b7⋅a8
+4⋅V^5⋅f/(3⋅J^5) + 28⋅V^3⋅f^3/(9⋅J^5)⋅a2⋅b2⋅a3⋅b3⋅a5⋅b5⋅b6
+124⋅i⋅V^4⋅f^2/(45⋅J^5) + 28⋅i⋅V^2⋅f^4/(27⋅J^5)⋅b1⋅a3⋅a5⋅a6⋅a7
−14⋅V^3⋅f^3/(9⋅J^5)⋅a1⋅a2⋅a4⋅b4⋅a5⋅b5⋅a7
−2⋅i⋅V^4⋅f^2/(3⋅J^5)⋅b1⋅a2⋅a3⋅b3⋅a4⋅a5⋅b5⋅a7⋅a8
+2⋅i⋅D92⋅f⋅a1⋅b1⋅a2⋅b2⋅b4⋅a5⋅b6⋅a7⋅b8
+2⋅D124⋅V + 2⋅i⋅D51⋅f - 14⋅V^3⋅f^3/(3⋅J^5)⋅a1⋅a2⋅b3⋅a4⋅a6⋅a7⋅b7
+2⋅D75⋅V⋅a2⋅a3⋅b4
−2⋅i⋅D125⋅f⋅a1⋅a2⋅a3⋅a4⋅a7
+2⋅V^5⋅f/(3⋅J^5)⋅b1⋅a2⋅b3⋅a4⋅b5⋅a7⋅b7⋅a8⋅b9⋅a10⋅b10
+2⋅D92⋅V + 2⋅V^5⋅f/J^5 + 206⋅V^3⋅f^3/(27⋅J^5)⋅b2⋅a3⋅b4⋅a5⋅b6⋅a7⋅b7
+14⋅i⋅V^4⋅f^2/(9⋅J^5)⋅a1⋅a2⋅b3⋅a4⋅a5⋅b5⋅b7⋅a8⋅a9
−40⋅i⋅V^4⋅f^2/(27⋅J^5)⋅a2⋅b2⋅b3⋅a4⋅a6⋅b6⋅b7⋅a8⋅b8
−28⋅V^5⋅f/(27⋅J^5) - 34⋅V^3⋅f^3/(135⋅J^5)⋅a1⋅a3⋅b3⋅a5⋅b5⋅a6⋅a7
+22⋅V^3⋅f^3/(9⋅J^5)⋅a3⋅b5⋅b6
−2⋅D15⋅V + 2⋅i⋅V^4⋅f^2/(3⋅J^5)⋅a1⋅b1⋅b3⋅a4⋅b4⋅b5⋅a6⋅a7⋅b7
+14⋅V^3⋅f^3/(15⋅J^5)⋅b1⋅a2⋅a3⋅a4⋅a5⋅b5⋅a6
−2⋅V^5⋅f/J^5⋅b1⋅a2⋅b3⋅b4⋅a5⋅b5⋅a6⋅b6⋅a7⋅b7⋅a8
+2⋅i⋅D107⋅f + 2⋅D128⋅V + 2⋅D18⋅V + 2⋅D20⋅V + 2⋅D22⋅V - 2⋅i⋅D68⋅f - 2⋅i⋅D74⋅f - 22⋅i⋅V^4⋅f^2/(9⋅J^5) - 40⋅i⋅V^2⋅f^4/(27⋅J^5)⋅a1⋅b1⋅b2⋅a3⋅b5
+2⋅V^5⋅f/(9⋅J^5) - 176⋅V^3⋅f^3/(135⋅J^5)⋅b1⋅a2⋅b2⋅a4⋅b4⋅a5⋅b6
−2⋅i⋅V^4⋅f^2/J^5⋅b1⋅a2⋅b3⋅a4⋅b5⋅a6⋅b9⋅a10⋅b10
−74⋅V^3⋅f^3/(27⋅J^5)⋅b1⋅a2⋅b2⋅a3⋅b5⋅a6⋅b7
+2⋅D23⋅V⋅a1⋅a2⋅a3⋅b3⋅a4⋅b4⋅b6⋅a7⋅b7
−2⋅i⋅D95⋅f - 2⋅i⋅V^4⋅f^2/J^5⋅a1⋅b1⋅a2⋅b2⋅a3⋅b3⋅b5⋅b6⋅a7
+424⋅V^5⋅f/(135⋅J^5) - 278⋅V^3⋅f^3/(135⋅J^5)⋅b1⋅b2⋅a4⋅a5⋅b6⋅a7⋅b7
−2⋅i⋅V^4⋅f^2/J^5⋅b1⋅a2⋅b4⋅a5⋅b6⋅b7⋅a8⋅b8⋅a9
+4⋅i⋅V^4⋅f^2/(15⋅J^5)⋅b1⋅a2⋅b2⋅a4⋅a5⋅b5⋅a6⋅b6⋅b7
−74⋅i⋅V^4⋅f^2/(27⋅J^5) - 74⋅i⋅V^2⋅f^4/(27⋅J^5)⋅b1⋅a2⋅b2⋅a3⋅b6
−14⋅i⋅V^4⋅f^2/(27⋅J^5)⋅b1⋅b4⋅b6⋅a7⋅a8
−2⋅V^5⋅f/J^5⋅b1⋅a2⋅b3⋅a4⋅b5⋅a6⋅b7⋅b8⋅a9⋅b9⋅a10
+2⋅i⋅V^4⋅f^2/J^5⋅b1⋅a2⋅a4⋅a5⋅b6⋅a7⋅b8⋅a9⋅a10
−2⋅D51⋅V⋅a1⋅b1⋅b3⋅a4⋅a5⋅b5⋅a6⋅a7⋅a8
−2⋅D125⋅V + 2⋅i⋅D77⋅f⋅a1⋅b1⋅a2⋅b2⋅a3⋅a4⋅b6
+2⋅i⋅V^4⋅f^2/J^5 + 8⋅i⋅V^2⋅f^4/(3⋅J^5)⋅b2⋅a3⋅a5⋅b5⋅b7
+2⋅i⋅D46⋅f + 2⋅i⋅D48⋅f + 2⋅i⋅D50⋅f + 2⋅i⋅D60⋅f - 148⋅V^3⋅f^3/(27⋅J^5)⋅a1⋅a2⋅a3⋅a4⋅b5⋅b6⋅a7
−4⋅i⋅V^4⋅f^2/(9⋅J^5)⋅b2⋅b5⋅b6⋅a7⋅a8
−14⋅i⋅V^4⋅f^2/(27⋅J^5)⋅b1⋅a2⋅b2⋅a4⋅a5⋅a6⋅b7⋅a8⋅a9
−4⋅i⋅V^4⋅f^2/(3⋅J^5)⋅b1⋅a2⋅b3⋅a4⋅a6⋅b6⋅b7⋅a8⋅b9
−2⋅D45⋅V⋅a1⋅b1⋅b2⋅b3⋅b5⋅a6⋅b7⋅a8⋅b8
+2⋅i⋅D109⋅f + 2⋅D118⋅V - 176⋅i⋅V^4⋅f^2/(135⋅J^5)⋅a1⋅a2⋅b2⋅a3⋅b3⋅a4⋅a5⋅a6⋅b6
−2⋅i⋅D92⋅f⋅a1⋅b1⋅a2⋅b2⋅b4⋅a5⋅a6⋅a7⋅a8
+68⋅i⋅V^4⋅f^2/(135⋅J^5) + 34⋅i⋅V^2⋅f^4/(45⋅J^5)⋅b1⋅a3⋅b3⋅a5⋅b6
+2⋅i⋅V^4⋅f^2/J^5⋅a1⋅b1⋅a2⋅a3⋅a5⋅b5⋅a6⋅b6⋅a7
+34⋅V^3⋅f^3/(135⋅J^5)⋅b1⋅a3⋅b3⋅a5⋅b5⋅a6⋅b7
−2⋅i⋅V^4⋅f^2/J^5⋅b1⋅a2⋅b5⋅a6⋅b7⋅a8⋅b9⋅a10⋅b10
−2⋅D117⋅V + 2⋅i⋅D18⋅f + 2⋅i⋅D20⋅f + 2⋅i⋅D22⋅f - 2⋅V^3⋅f^3/J^5⋅a1⋅a2⋅a3⋅b3⋅a4⋅b5⋅a6
+16⋅V^3⋅f^3/(15⋅J^5)⋅a2⋅b2⋅a4⋅b4⋅b5⋅a6⋅b7
+14⋅i⋅V^4⋅f^2/(27⋅J^5)⋅b1⋅a2⋅b2⋅a4⋅a6⋅b6⋅b7⋅a8⋅b8
−14⋅i⋅V^4⋅f^2/(9⋅J^5)⋅b1⋅a2⋅b3⋅a4⋅a5⋅b5⋅a7⋅b7⋅b8
−14⋅V^3⋅f^3/(9⋅J^5)⋅b2⋅a3⋅a4⋅b4⋅a6⋅a7⋅a8
−2⋅V^3⋅f^3/(3⋅J^5)⋅b3⋅a5⋅b5⋅a6⋅b7⋅a8⋅b8
+224⋅i⋅V^4⋅f^2/(135⋅J^5)⋅a1⋅b3⋅b4⋅b5⋅a7
−4⋅i⋅V^4⋅f^2/(9⋅J^5)⋅b1⋅a2⋅b3⋅b6⋅a8
+2⋅D18⋅V + 2⋅D20⋅V + 2⋅D22⋅V + 2⋅D86⋅V + 148⋅i⋅V^4⋅f^2/(27⋅J^5)⋅a1⋅a2⋅a3⋅b3⋅a4⋅a5⋅b6⋅a7⋅b7
+2⋅i⋅D64⋅f⋅a1⋅a2⋅b4⋅a5⋅b7
+92⋅i⋅V^4⋅f^2/(27⋅J^5)⋅b1⋅a2⋅a3⋅a4⋅b5⋅a6⋅a7⋅a8⋅b8
−2⋅V^5⋅f/J^5⋅b1⋅a2⋅b3⋅a4⋅b5⋅a6⋅b7⋅a8⋅b10⋅a11⋅b11
+2⋅D91⋅V + 2⋅i⋅D93⋅f⋅a1⋅b1⋅a2⋅b2⋅b4⋅b5⋅b6⋅a7⋅b7
+2⋅i⋅D70⋅f + 94⋅i⋅V^4⋅f^2/(135⋅J^5) + 2⋅i⋅V^2⋅f^4/(9⋅J^5)⋅b1⋅a2⋅a3⋅b3⋅b5
−40⋅i⋅V^4⋅f^2/(27⋅J^5)⋅b1⋅a2⋅a3⋅b3⋅b5⋅b6⋅a7⋅b7⋅a8
+2⋅i⋅V^4⋅f^2/J^5 + 2⋅i⋅V^2⋅f^4/J^5⋅b4⋅a5⋅b7⋅a8⋅b8
−4⋅i⋅V^4⋅f^2/(15⋅J^5) - 14⋅i⋅V^2⋅f^4/(27⋅J^5)⋅b1⋅a3⋅b3⋅b4⋅a7
−176⋅i⋅V^4⋅f^2/(135⋅J^5) - 8⋅i⋅V^2⋅f^4/(9⋅J^5)⋅b1⋅a2⋅a4⋅b5⋅b6
−2⋅i⋅D104⋅f - 2⋅D33⋅V - 2⋅D8⋅V - 26⋅V^3⋅f^3/(9⋅J^5)⋅a1⋅a2⋅a4⋅b4⋅a5⋅a6⋅b6
+4⋅i⋅V^4⋅f^2/(3⋅J^5)⋅a1⋅a2⋅a4⋅b4⋅a5⋅b5⋅b6⋅a7⋅a8
+2⋅D107⋅V + 2⋅i⋅D132⋅f - 2⋅i⋅D18⋅f - 2⋅i⋅D20⋅f - 2⋅i⋅D22⋅f - 2⋅D28⋅V - 2⋅i⋅D53⋅f - 2⋅i⋅D55⋅f + 2⋅i⋅D57⋅f - 38⋅V^5⋅f/(27⋅J^5) + 20⋅V^3⋅f^3/(9⋅J^5)⋅a1⋅b1⋅a2⋅b3⋅a4⋅b4⋅b5
−214⋅V^3⋅f^3/(135⋅J^5)⋅b1⋅a2⋅a3⋅a4⋅a5⋅b6⋅a7
−4⋅i⋅V^4⋅f^2/(9⋅J^5)⋅b1⋅a2⋅a3⋅a4⋅b4⋅b5⋅a6⋅a7⋅a8
−2⋅i⋅D41⋅f + 2⋅D68⋅V - 2⋅V^3⋅f^3/(3⋅J^5)⋅a1⋅a2⋅a3⋅b4⋅a5⋅b5⋅a6
+46⋅V^3⋅f^3/(15⋅J^5)⋅b1⋅a2⋅a3⋅b4⋅a5⋅b5⋅b6
−40⋅i⋅V^4⋅f^2/(27⋅J^5) - 2⋅i⋅V^2⋅f^4/J^5⋅a3⋅a4⋅b5⋅a6⋅a8
−16⋅i⋅V^4⋅f^2/(15⋅J^5)⋅a2⋅b2⋅a4⋅b4⋅b5⋅a6⋅b7⋅a8⋅b8
−20⋅i⋅V^4⋅f^2/(9⋅J^5)⋅a2⋅b2⋅a3⋅a4⋅b4⋅a5⋅a6⋅a7⋅b7
+2⋅V^3⋅f^3/J^5⋅b1⋅a2⋅b5⋅b6⋅a7⋅b7⋅a8
+2⋅V^3⋅f^3/(3⋅J^5)⋅a1⋅a2⋅b4⋅a6⋅b6⋅a7⋅a8
+2⋅i⋅D64⋅f⋅a1⋅a2⋅b4⋅b5⋅a7
+2⋅i⋅D104⋅f + 28⋅V^5⋅f/(9⋅J^5) + 944⋅V^3⋅f^3/(135⋅J^5)⋅b1⋅a2⋅a4⋅b4⋅b5⋅a6⋅b6
−80⋅V^3⋅f^3/(27⋅J^5)⋅a2⋅b2⋅b4⋅a5⋅a6⋅a7⋅a8
+2⋅V^3⋅f^3/J^5⋅b1⋅a2⋅b4⋅b5⋅b7⋅a8⋅a9
+2⋅i⋅D72⋅f⋅a1⋅b1⋅a2⋅a3⋅b4⋅b5⋅a7
+20⋅i⋅V^4⋅f^2/(9⋅J^5)⋅b1⋅a2⋅b2⋅b3⋅a4⋅b4⋅a5⋅a6⋅b7
+2⋅i⋅V^4⋅f^2/(3⋅J^5)⋅b1⋅a2⋅b4⋅a6⋅b6⋅a7⋅b8⋅a9⋅b9
−2⋅D107⋅V + 74⋅V^5⋅f/(27⋅J^5) + 100⋅V^3⋅f^3/(27⋅J^5) - 26⋅V⋅f^5/(27⋅J^5)⋅b2⋅a3⋅b5
+14⋅V^3⋅f^3/(27⋅J^5)⋅a1⋅a3⋅a4⋅b4⋅a5⋅b5⋅a6
−4⋅i⋅V^4⋅f^2/(3⋅J^5)⋅b1⋅b2⋅b3⋅a4⋅a6⋅b6⋅b7⋅a8⋅a9
+2⋅i⋅D12⋅f - 2⋅i⋅D45⋅f + 2⋅D67⋅V⋅a1⋅a2⋅a3⋅a4⋅a5⋅a6⋅b6
−14⋅V^3⋅f^3/(27⋅J^5)⋅b1⋅a2⋅b2⋅a4⋅b6⋅a7⋅b8
−2⋅i⋅D128⋅f - 2⋅i⋅D18⋅f - 2⋅i⋅D20⋅f - 2⋅i⋅D22⋅f - 2⋅i⋅D53⋅f - 2⋅i⋅D55⋅f + 2⋅i⋅D57⋅f - 2⋅D68⋅V - 2⋅D74⋅V - 226⋅V^5⋅f/(135⋅J^5) - 56⋅V^3⋅f^3/(45⋅J^5)⋅a1⋅b1⋅b2⋅a3⋅a4⋅b4⋅b5
+2⋅V^5⋅f/J^5 + 2⋅V^3⋅f^3/J^5⋅b1⋅a2⋅b3⋅a4⋅b5⋅a6⋅b9
−4⋅i⋅V^4⋅f^2/(3⋅J^5)⋅b1⋅a2⋅b3⋅a4⋅b5⋅a6⋅a7⋅b7⋅b9
−4⋅i⋅V^4⋅f^2/J^5 - 4⋅i⋅V^2⋅f^4/(3⋅J^5)⋅b2⋅b4⋅a5⋅b5⋅a6
+2⋅D13⋅V + 10⋅i⋅V^4⋅f^2/(9⋅J^5)⋅a1⋅a2⋅b3⋅a4⋅b4⋅b5⋅b7⋅a8⋅b8
−2⋅i⋅V^4⋅f^2/J^5⋅b1⋅a2⋅b3⋅a4⋅b5⋅b6⋅b7⋅a8⋅a10
+2⋅D98⋅V⋅a1⋅b1⋅b3⋅a4⋅b5⋅a6⋅a7⋅b7⋅b8
+2⋅i⋅D133⋅f + 2⋅i⋅D22⋅f - 2⋅D62⋅V + 2⋅D8⋅V + 34⋅V^3⋅f^3/(27⋅J^5)⋅a1⋅b2⋅a3⋅b3⋅a4⋅b4⋅b5
−4⋅i⋅V^4⋅f^2/(3⋅J^5) - 32⋅i⋅V^2⋅f^4/(27⋅J^5)⋅b1⋅a2⋅b2⋅b5⋅a6
−68⋅V^5⋅f/(27⋅J^5) - 40⋅V^3⋅f^3/(9⋅J^5)⋅a3⋅b3⋅a4⋅b4⋅a5⋅a6⋅a7
−224⋅V^5⋅f/(135⋅J^5) + 356⋅V^3⋅f^3/(45⋅J^5) + 8⋅V⋅f^5/(9⋅J^5)⋅b2⋅b4⋅a6
−2⋅i⋅V^2⋅f^4/(3⋅J^5)⋅b3⋅a5⋅b5⋅b6⋅a7
+2⋅D100⋅V - 2⋅D102⋅V - 2⋅D104⋅V - 2⋅i⋅V^4⋅f^2/(3⋅J^5)⋅a1⋅b1⋅a3⋅b3⋅b4⋅a5⋅b5⋅a6⋅b6
−52⋅i⋅V^4⋅f^2/(27⋅J^5)⋅b1⋅a2⋅a3⋅b3⋅a4⋅b5⋅b6⋅a7⋅b7
+2⋅i⋅D24⋅f + 2⋅i⋅D68⋅f + 2⋅i⋅V^4⋅f^2/(3⋅J^5) - 8⋅i⋅V^2⋅f^4/(3⋅J^5)⋅a1⋅b2⋅a3⋅a4⋅a6
−2⋅i⋅V^4⋅f^2/J^5⋅b1⋅b2⋅a3⋅b3⋅b4⋅a5⋅a7⋅b7⋅a8
−16⋅i⋅V^4⋅f^2/(9⋅J^5)⋅a3⋅b5⋅b6⋅a7⋅b7
−14⋅i⋅V^4⋅f^2/(9⋅J^5)⋅b1⋅a2⋅a4⋅b4⋅b5⋅a6⋅b8⋅a9⋅b9
+2⋅D23⋅V⋅a1⋅a2⋅a3⋅b3⋅a4⋅b4⋅a5⋅b5⋅b6
−2⋅i⋅V^4⋅f^2/(3⋅J^5)⋅b1⋅a2⋅a3⋅a4⋅a6⋅a7⋅b7⋅a8⋅b8
−68⋅V^5⋅f/(27⋅J^5)⋅b1⋅a2⋅a3⋅b3⋅a4⋅b4⋅a5⋅b5⋅a6⋅b6⋅b7
−2⋅i⋅V^4⋅f^2/J^5⋅b2⋅a3⋅a5⋅b5⋅a6⋅b6⋅b7⋅a8⋅b8
−2⋅i⋅D86⋅f⋅a1⋅b1⋅a4⋅a5⋅b6⋅a7⋅a8
+2⋅i⋅D34⋅f - 2⋅D5⋅V + 2⋅i⋅D97⋅f⋅a1⋅b3⋅b4⋅a5⋅a6
+2⋅i⋅D17⋅f - 4⋅V^5⋅f/(9⋅J^5) - 44⋅V^3⋅f^3/(45⋅J^5)⋅b1⋅a2⋅b3⋅a4⋅b4⋅a6⋅b6
−2⋅i⋅D54⋅f - 2⋅i⋅D91⋅f⋅a1⋅b1⋅a2⋅b2⋅a4⋅b5⋅a6
−2⋅V^3⋅f^3/J^5⋅a1⋅a2⋅b5⋅a6⋅b7⋅a8⋅a9
+2⋅D55⋅V⋅a1⋅b1⋅a2⋅b2⋅a4⋅b4⋅b6⋅a7⋅b7
+14⋅i⋅V^4⋅f^2/(27⋅J^5)⋅b1⋅a2⋅b2⋅a3⋅b3⋅b4⋅b5⋅a6⋅a8
−2⋅D0⋅V + 2⋅D26⋅V - 2⋅i⋅D43⋅f⋅a1⋅b1⋅a3⋅a4⋅b4
+40⋅V^5⋅f/(27⋅J^5) - 88⋅V^3⋅f^3/(27⋅J^5) - 8⋅V⋅f^5/(9⋅J^5)⋅a3⋅a4⋅a5
−4⋅V^3⋅f^3/(9⋅J^5)⋅b2⋅a4⋅b4⋅a5⋅b6⋅b7⋅a8
−2⋅i⋅D12⋅f - 2⋅D25⋅V - 2⋅i⋅D40⋅f⋅a1⋅b2⋅b3⋅a4⋅a5⋅a6⋅b6
−28⋅i⋅V^2⋅f^4/(27⋅J^5)⋅b1⋅a3⋅b4⋅a5⋅b7
+2⋅D102⋅V - 4⋅i⋅V^4⋅f^2/(3⋅J^5)⋅a1⋅b1⋅a4⋅b4⋅b5⋅a6⋅b7⋅a8⋅b8
−16⋅i⋅V^4⋅f^2/(15⋅J^5)⋅a2⋅b2⋅b3⋅a4⋅a5⋅b5⋅b7⋅a8⋅b8
−164⋅V^3⋅f^3/(135⋅J^5)⋅a2⋅a3⋅b3⋅a4⋅b4⋅a5⋅a7
−2⋅V^5⋅f/J^5⋅b1⋅a2⋅b3⋅a4⋅b5⋅a6⋅b8⋅a9⋅b10⋅a11⋅b11
+2⋅i⋅D45⋅f⋅b1⋅a2⋅a3⋅a4⋅b5⋅a6⋅b6
−12⋅V^3⋅f^3/(5⋅J^5)⋅a2⋅b2⋅a3⋅a4⋅a5⋅b5⋅a7
−2⋅i⋅D118⋅f - 2⋅i⋅D53⋅f - 2⋅D70⋅V + 26⋅V^3⋅f^3/(9⋅J^5)⋅a1⋅b1⋅a2⋅a3⋅b3⋅a4⋅a6
−28⋅V^3⋅f^3/(27⋅J^5)⋅b1⋅b3⋅b4⋅a5⋅b6⋅a7⋅a8
+14⋅i⋅V^4⋅f^2/(27⋅J^5)⋅b1⋅a2⋅b2⋅a3⋅b3⋅b4⋅b6⋅a7⋅a8
−14⋅i⋅V^4⋅f^2/(9⋅J^5)⋅b1⋅a2⋅b3⋅a4⋅a5⋅b5⋅b8⋅a9⋅b9
+16⋅i⋅V^4⋅f^2/(27⋅J^5) + 2⋅i⋅V^2⋅f^4/(9⋅J^5)⋅b2⋅b3⋅a5⋅a6⋅b6
+2⋅D105⋅V⋅a1⋅b2⋅a3⋅b3⋅a4⋅b4⋅b5⋅a6⋅a7
+10⋅V^3⋅f^3/(3⋅J^5)⋅b2⋅a3⋅b4⋅b5⋅a6⋅a7⋅b7
+2⋅i⋅D53⋅f + 2⋅i⋅D55⋅f - 2⋅i⋅D57⋅f - 2⋅D8⋅V - 2⋅V^3⋅f^3/(3⋅J^5)⋅a1⋅b1⋅a2⋅b2⋅a3⋅a5⋅a6
−4⋅V^3⋅f^3/(9⋅J^5)⋅a2⋅a5⋅a7
+2⋅i⋅V^4⋅f^2/(3⋅J^5)⋅b2⋅b3⋅a4⋅a5⋅b5⋅a6⋅b7⋅a8⋅b8
+40⋅i⋅V^4⋅f^2/(27⋅J^5)⋅b1⋅a2⋅a3⋅b3⋅a5⋅b5⋅a6⋅a7⋅a8
−52⋅i⋅V^4⋅f^2/(27⋅J^5)⋅a2⋅a3⋅b3⋅a4⋅b5⋅a6⋅a7⋅a8⋅b8
+92⋅i⋅V^4⋅f^2/(135⋅J^5)⋅b1⋅a2⋅a3⋅b3⋅a4⋅b4⋅b5⋅a6⋅b6
−2⋅i⋅V^2⋅f^4/J^5⋅b3⋅a4⋅a6⋅a7⋅a8
+2⋅i⋅V^4⋅f^2/(3⋅J^5)⋅b1⋅a2⋅b4⋅a5⋅b5⋅a7⋅b8⋅a9⋅b9
−4⋅V^3⋅f^3/(9⋅J^5)⋅b2⋅a3⋅b3⋅a5⋅b6⋅b7⋅a8
−28⋅i⋅V^4⋅f^2/(27⋅J^5)⋅a1⋅a2⋅b2⋅a3⋅b4⋅a5⋅b6⋅a7⋅a8
+2⋅D116⋅V⋅a1⋅a2⋅a5⋅b5⋅b6⋅a7⋅b7
−2⋅D42⋅V + 2⋅D77⋅V⋅a1⋅b1⋅a2⋅b2⋅a3⋅b4⋅a5⋅b5⋅a6
−2⋅i⋅D21⋅f⋅a1⋅a2⋅b2⋅b3⋅a4⋅b5⋅a6
+2⋅V^3⋅f^3/J^5⋅b1⋅b2⋅b3⋅a4⋅a7⋅b7⋅a8
+28⋅i⋅V^4⋅f^2/(27⋅J^5)⋅b1⋅a5⋅b5⋅b6⋅a7
+4⋅V^5⋅f/(3⋅J^5) + 2⋅V^3⋅f^3/J^5⋅b1⋅a2⋅b3⋅a4⋅b5⋅b6⋅a9
−4⋅i⋅V^4⋅f^2/(9⋅J^5)⋅a1⋅b2⋅a3⋅a4⋅b4⋅a5⋅b6⋅a7⋅a8
+34⋅i⋅V^4⋅f^2/(135⋅J^5)⋅a1⋅a4⋅b4⋅b5⋅b6
−2⋅i⋅D13⋅f + 2⋅V^3⋅f^3/(3⋅J^5)⋅a1⋅a2⋅b3⋅a4⋅b4⋅a5⋅a7
+28⋅V^3⋅f^3/(9⋅J^5)⋅b1⋅a2⋅a4⋅b4⋅b6⋅b7⋅a8
+40⋅V^5⋅f/(27⋅J^5) + 32⋅V^3⋅f^3/(9⋅J^5)⋅a3⋅b3⋅a4⋅b4⋅a5⋅b5⋅b6
−286⋅V^3⋅f^3/(135⋅J^5)⋅b1⋅a2⋅a3⋅b3⋅b4⋅b5⋅a6
−68⋅V^5⋅f/(27⋅J^5)⋅b1⋅a2⋅a3⋅b3⋅a4⋅b4⋅a5⋅b5⋅b7⋅a8⋅b8
−2⋅i⋅D2⋅f - 2⋅D9⋅V⋅a1⋅a2⋅a3⋅a4⋅b4⋅a5⋅a6
−14⋅V^3⋅f^3/(27⋅J^5)⋅b1⋅a3⋅b3⋅a4⋅b7⋅a8⋅b8
−296⋅V^3⋅f^3/(135⋅J^5)⋅a2⋅a3⋅b3⋅b4⋅b5⋅b6⋅a7
−2⋅D12⋅V + 2⋅i⋅D125⋅f + 2⋅D14⋅V + 2⋅D16⋅V⋅a1⋅a2⋅b3⋅b4⋅a7
−16⋅V^5⋅f/(9⋅J^5) - 16⋅V^3⋅f^3/(9⋅J^5)⋅b3⋅a4⋅b4⋅a5⋅b6⋅a7⋅b7
−2⋅i⋅D48⋅f + 4⋅V^3⋅f^3/(9⋅J^5)⋅a1⋅b1⋅b2⋅a4⋅a5⋅a6⋅a7
+4⋅V^5⋅f/(9⋅J^5)⋅b1⋅a2⋅b3⋅a4⋅b4⋅a6⋅b7⋅a8⋅b9⋅a10⋅b10
+2⋅i⋅V^4⋅f^2/J^5 + 2⋅i⋅V^2⋅f^4/J^5⋅b4⋅a5⋅b6⋅a7⋅b8
+2⋅i⋅D126⋅f - 2⋅D85⋅V + 10⋅V^3⋅f^3/(9⋅J^5) - 16⋅V⋅f^5/(27⋅J^5)⋅b1⋅b3⋅a4
+40⋅V^3⋅f^3/(27⋅J^5)⋅a2⋅b2⋅b3⋅b4⋅b5⋅a6⋅a8
−2⋅D54⋅V - 2⋅i⋅D93⋅f⋅a1⋅b1⋅a2⋅b2⋅a4⋅a5⋅b6⋅a7⋅b7
−2⋅D71⋅V⋅a1⋅b1⋅a2⋅b2⋅a3⋅b3⋅a4⋅a5⋅a7
+2⋅i⋅D101⋅f + 2⋅i⋅D103⋅f - 2⋅i⋅D105⋅f⋅a1⋅a2⋅b3⋅a5⋅b5⋅b6⋅a7
−2⋅D11⋅V⋅a1⋅a2⋅a4⋅b4⋅b6⋅a7⋅b7
−28⋅V^5⋅f/(27⋅J^5) + 38⋅V^3⋅f^3/(27⋅J^5)⋅a1⋅a2⋅b2⋅a5⋅b5⋅a6⋅a7
+40⋅i⋅V^4⋅f^2/(9⋅J^5)⋅b1⋅a2⋅a4⋅b4⋅a5⋅b5⋅a6⋅a7⋅a8
−2⋅i⋅V^2⋅f^4/J^5⋅a2⋅a3⋅b5⋅a6⋅a8
+2⋅i⋅D108⋅f + 2⋅D127⋅V + 2⋅D47⋅V⋅a1⋅b1⋅b2⋅a3⋅b3⋅b4⋅b5⋅a6⋅b6
−14⋅i⋅V^4⋅f^2/(9⋅J^5)⋅a2⋅b2⋅a3⋅b3⋅a5⋅b5⋅b6⋅a7⋅b7
+2⋅i⋅D57⋅f + 2⋅i⋅D71⋅f - 26⋅V^3⋅f^3/(9⋅J^5)⋅a1⋅b1⋅a2⋅a3⋅a4⋅a5⋅b6
−2⋅V^3⋅f^3/J^5⋅b1⋅a2⋅b5⋅a6⋅a7⋅a8⋅a9
+38⋅i⋅V^4⋅f^2/(27⋅J^5) + 28⋅i⋅V^2⋅f^4/(9⋅J^5)⋅b3⋅a4⋅b5⋅a6⋅b6
−2⋅V^5⋅f/(3⋅J^5) - 4⋅V^3⋅f^3/(3⋅J^5)⋅b1⋅a2⋅b3⋅b4⋅b5⋅a7⋅a8
−14⋅i⋅V^4⋅f^2/(9⋅J^5)⋅b1⋅b2⋅a4⋅b4⋅b5⋅a6⋅b7⋅a8⋅a9
+2⋅i⋅V^4⋅f^2/J^5⋅b1⋅a2⋅b4⋅a5⋅a6⋅a7⋅b8⋅a9⋅a10
−2⋅i⋅D107⋅f + 2⋅D132⋅V + 2⋅i⋅D28⋅f + 2⋅D37⋅V - 2⋅D53⋅V - 2⋅D55⋅V + 2⋅D57⋅V + 2⋅i⋅D74⋅f - 8⋅i⋅V^4⋅f^2/(9⋅J^5) + 22⋅i⋅V^2⋅f^4/(9⋅J^5)⋅a1⋅b1⋅a2⋅a3⋅a5
+4⋅V^5⋅f/(9⋅J^5)⋅b1⋅a2⋅a3⋅b5⋅a6⋅a7⋅a8
+2⋅D41⋅V - 2⋅D51⋅V - 10⋅i⋅V^4⋅f^2/(3⋅J^5)⋅a1⋅a2⋅b3⋅b4⋅a5⋅b5⋅b6⋅a7⋅b7
−2⋅D18⋅V - 2⋅D20⋅V - 2⋅D22⋅V - 2⋅D46⋅V - 2⋅D48⋅V - 2⋅D50⋅V - 8⋅i⋅V^4⋅f^2/(3⋅J^5)⋅a1⋅b1⋅b2⋅b3⋅a4⋅b4⋅a5⋅a6⋅b6
−2⋅i⋅V^4⋅f^2/J^5⋅b1⋅b2⋅a3⋅b3⋅b4⋅a5⋅b6⋅a7⋅a9
+2⋅i⋅V^2⋅f^4/J^5⋅b3⋅b4⋅a6⋅b6⋅a7
−2⋅V^3⋅f^3/(3⋅J^5)⋅b2⋅b3⋅b4⋅a5⋅b5⋅a6⋅a7
−2⋅i⋅D125⋅f - 2⋅D14⋅V + 2⋅D42⋅V + 2⋅D52⋅V - 2⋅i⋅D69⋅f - 2⋅i⋅D7⋅f - 2⋅D77⋅V⋅a1⋅b1⋅b3⋅a4⋅a6
−2⋅i⋅V^4⋅f^2/(3⋅J^5)⋅b1⋅a2⋅b3⋅a4⋅a5⋅a6⋅b6⋅a8⋅a9
+20⋅V^5⋅f/(9⋅J^5)⋅b1⋅a2⋅b3⋅a4⋅b4⋅b5⋅a6⋅b6⋅a7⋅a8⋅b8
+2⋅i⋅D125⋅f⋅b1⋅a2⋅b3⋅a4⋅a7
+2⋅D22⋅V + 4⋅i⋅V^4⋅f^2/(9⋅J^5)⋅a1⋅b1⋅b2⋅b3⋅a4⋅a5⋅b6⋅a7⋅b7
+4⋅V^3⋅f^3/J^5 + 2⋅V⋅f^5/J^5⋅a1⋅a2⋅a7
−676⋅i⋅V^4⋅f^2/(135⋅J^5)⋅b1⋅a2⋅b2⋅a3⋅a4⋅b4⋅a5⋅a6⋅a7
−34⋅V^3⋅f^3/(135⋅J^5)⋅a1⋅a2⋅b2⋅a4⋅b4⋅a6⋅a7
−4⋅i⋅V^4⋅f^2/(9⋅J^5)⋅b1⋅a3⋅b3⋅a4⋅b4⋅a5⋅b6⋅a7⋅b7
−2⋅i⋅D51⋅f + 2⋅D6⋅V + 16⋅V^3⋅f^3/(9⋅J^5)⋅a1⋅a2⋅b3⋅b4⋅b6⋅a7⋅b7
+14⋅i⋅V^4⋅f^2/(27⋅J^5)⋅b1⋅a2⋅b2⋅b4⋅a5⋅b5⋅a6⋅b6⋅a7
−2⋅D114⋅V⋅b2⋅a4⋅b4⋅a5⋅a6
+74⋅i⋅V^4⋅f^2/(27⋅J^5)⋅b2⋅a3⋅b3⋅a4⋅b5⋅a6⋅b7⋅a8⋅b8
+2⋅D56⋅V⋅a1⋅b1⋅a2⋅b2⋅a3⋅a4⋅b4⋅a5⋅b5
−4⋅i⋅V^4⋅f^2/(3⋅J^5)⋅b2⋅a3⋅a5⋅b5⋅b6⋅a7⋅b8⋅a9⋅b9
−2⋅D98⋅V⋅a1⋅b1⋅a2⋅b2⋅a3⋅a4⋅b5⋅a6⋅a8
+4⋅V^5⋅f/(9⋅J^5)⋅b1⋅a2⋅b3⋅a4⋅b4⋅a5⋅b5⋅b6⋅b7⋅a8⋅a9
+2⋅i⋅D27⋅f - 2⋅i⋅D36⋅f - 2⋅D44⋅V - 2⋅i⋅D76⋅f + 2⋅D95⋅V + 2⋅V^3⋅f^3/(3⋅J^5)⋅a1⋅b1⋅a2⋅b2⋅a3⋅a4⋅a5
−2⋅i⋅V^4⋅f^2/(3⋅J^5)⋅b1⋅a2⋅b3⋅b4⋅b5⋅a6⋅b6⋅b7⋅b8
+2⋅i⋅D31⋅f - 2⋅D88⋅V + 116⋅i⋅V^4⋅f^2/(135⋅J^5)⋅a1⋅a4⋅a5⋅a6⋅b6
+8⋅V^3⋅f^3/(9⋅J^5)⋅a1⋅a2⋅b3⋅a5⋅b6⋅a7⋅a8
+406⋅V^3⋅f^3/(135⋅J^5)⋅b1⋅b2⋅b3⋅a4⋅b4⋅b5⋅b7
+2⋅D60⋅V⋅a1⋅b1⋅b3⋅a4⋅a6⋅b6⋅b7⋅a8⋅b8
+80⋅V^3⋅f^3/(27⋅J^5)⋅a2⋅b2⋅b4⋅a5⋅a6⋅b6⋅b7
−2⋅D69⋅V + 2⋅i⋅D89⋅f⋅b1⋅b3⋅b5
−2⋅i⋅D21⋅f⋅a1⋅a2⋅b2⋅b3⋅a4⋅a5⋅b6
−34⋅V^3⋅f^3/(135⋅J^5)⋅a1⋅a3⋅b3⋅a4⋅b4⋅a6⋅a7
−476⋅V^3⋅f^3/(135⋅J^5)⋅a2⋅b2⋅b3⋅a4⋅b4⋅a5⋅b6
−2⋅V^5⋅f/(3⋅J^5) - 4⋅V^3⋅f^3/(3⋅J^5)⋅b1⋅a2⋅b3⋅a4⋅b5⋅a7⋅b8
−4⋅V^3⋅f^3/(9⋅J^5)⋅b2⋅a4⋅b4⋅b5⋅a6⋅b6⋅a7
+2⋅i⋅V^4⋅f^2/J^5⋅b1⋅a2⋅b3⋅a4⋅b5⋅a6⋅a7⋅a8⋅a10
−14⋅i⋅V^4⋅f^2/(9⋅J^5)⋅b1⋅a2⋅a4⋅b4⋅b5⋅a6⋅b7⋅b8⋅a9
+2⋅i⋅D25⋅f + 2⋅D89⋅V⋅a1⋅a3⋅b3⋅b4⋅a6
+40⋅V^3⋅f^3/(27⋅J^5)⋅a2⋅b2⋅b3⋅a4⋅b6⋅b7⋅a8
−14⋅i⋅V^4⋅f^2/(9⋅J^5) - 28⋅i⋅V^2⋅f^4/(9⋅J^5)⋅a1⋅a2⋅a4⋅b4⋅a7
−2⋅i⋅V^4⋅f^2/J^5⋅b1⋅a2⋅b3⋅b4⋅b5⋅a6⋅b8⋅a9⋅a10
−14⋅V^3⋅f^3/(27⋅J^5)⋅b1⋅a3⋅b3⋅b4⋅b5⋅a6⋅a8
−346⋅V^5⋅f/(135⋅J^5) - 82⋅V^3⋅f^3/(15⋅J^5) - 4⋅V⋅f^5/(3⋅J^5)⋅a3⋅a5⋅a6
−224⋅V^3⋅f^3/(135⋅J^5)⋅b1⋅a2⋅b2⋅b3⋅b4⋅b5⋅b7
−2⋅i⋅D15⋅f + 2⋅D8⋅V - 2⋅V^3⋅f^3/(3⋅J^5)⋅a1⋅b1⋅b3⋅a4⋅b4⋅b5⋅a6
+2⋅D16⋅V⋅a1⋅a2⋅b3⋅a4⋅b4⋅b5⋅a6⋅a7⋅b7
+4⋅i⋅V^4⋅f^2/(15⋅J^5)⋅a1⋅a4⋅a5⋅b5⋅a7
−2⋅D8⋅V⋅a1⋅b1⋅a3⋅a4⋅b4⋅a5⋅a6
+2⋅D70⋅V - 4⋅V^3⋅f^3/(9⋅J^5)⋅a1⋅b1⋅b2⋅a4⋅a5⋅b5⋅b6
+2⋅D46⋅V + 2⋅D48⋅V + 2⋅D50⋅V - 2⋅i⋅D81⋅f + 94⋅i⋅V^4⋅f^2/(27⋅J^5)⋅a1⋅a2⋅a3⋅a4⋅b5⋅a6⋅b7⋅a8⋅b8
−2⋅i⋅D65⋅f + 2⋅i⋅D68⋅f - 2⋅i⋅D70⋅f - 56⋅i⋅V^2⋅f^4/(27⋅J^5)⋅a1⋅a2⋅b2⋅b3⋅b6
+2⋅i⋅D15⋅f - 8⋅V^5⋅f/(9⋅J^5) - 1348⋅V^3⋅f^3/(135⋅J^5)⋅b1⋅a2⋅b3⋅a4⋅a5⋅a6⋅a7
+586⋅V^5⋅f/(135⋅J^5) + 226⋅V^3⋅f^3/(45⋅J^5)⋅a2⋅b2⋅a3⋅a4⋅b4⋅a5⋅a6
−10⋅i⋅V^4⋅f^2/(3⋅J^5) + 4⋅i⋅V^2⋅f^4/(3⋅J^5)⋅b4
+2⋅D82⋅V - 2⋅D93⋅V⋅a1⋅b1⋅a2⋅b2⋅a3⋅b3⋅a4⋅a5⋅b6⋅a7⋅b7
+2⋅i⋅D0⋅f + 2⋅D61⋅V - 2⋅i⋅D79⋅f - 2⋅D84⋅V + 2⋅D97⋅V⋅a1⋅b2⋅a4
+2⋅i⋅D87⋅f⋅b1⋅a2⋅b4⋅a5⋅b6⋅a7⋅a8
+32⋅V^3⋅f^3/(9⋅J^5)⋅b2⋅b3⋅a4⋅b4⋅b6⋅a7⋅a8
+2⋅i⋅D102⋅f + 4⋅V^3⋅f^3/(3⋅J^5)⋅a1⋅b1⋅a4⋅b4⋅b5⋅b6⋅a7
−40⋅i⋅V^4⋅f^2/(27⋅J^5)⋅b1⋅a2⋅a3⋅b3⋅b5⋅b6⋅b7⋅a8⋅a9
+2⋅V^3⋅f^3/(3⋅J^5)⋅b3⋅b6⋅a7
−2⋅D54⋅V + 2⋅i⋅D82⋅f⋅a1⋅b1⋅a2⋅b2⋅a3⋅b3⋅b4⋅a5⋅a6
+4⋅V^3⋅f^3/(9⋅J^5)⋅a1⋅b1⋅a2⋅a4⋅b4⋅a5⋅a7
+2⋅V^3⋅f^3/J^5⋅b1⋅a2⋅b5⋅a6⋅a7⋅b7⋅b8
+2⋅D126⋅V + 2⋅i⋅D85⋅f - 32⋅i⋅V^4⋅f^2/(27⋅J^5) - 4⋅i⋅V^2⋅f^4/J^5⋅b1⋅a2⋅b2⋅b3⋅a4
+2⋅V^5⋅f/(3⋅J^5)⋅b1⋅a2⋅b3⋅a4⋅b5⋅a6⋅b6⋅b7⋅a8⋅a9⋅b9
+2⋅i⋅D92⋅f⋅a1⋅b1⋅a2⋅b2⋅b4⋅a5⋅b6⋅b7⋅a8}


In [32]:
psi14 = psi

In [33]:
psi += psi5

In [35]:
normdict5 = check_normalisable(psi, iofvars, 5, orders)

In [36]:
normdict5
{D10: -V**2*f**3/(3*J**5),
 D21: 0,
 D13: 0,
 D114: 0,
 D124: V**2*f**3/J**5,
 D113: -V**2*f**3/(3*J**5),
 D84: 0,
 D42: 0,
 D35: 2*V**4*f/(9*J**5),
 D86: -I*V**3*f**2/J**5,
 D54: 0,
 D112: 0,
 D88: -4*I*V**3*f**2/(9*J**5),
 D70: 0,
 D91: 0,
 D16: 0,
 D132: I*V**3*f**2/J**5,
 D118: -2*I*V**3*f**2/(9*J**5),
 D87: 0,
 D65: 0,
 D73: I*V**3*f**2/J**5,
 D127: 0,
 D96: V**2*f**3/(9*J**5),
 D29: 0,
 D11: 0,
 D94: 0,
 D56: 0,
 D130: -I*V*f**2*(4*V**2 + 3*f**2)/(3*J**5),
 D30: 0,
 D67: 0,
 D33: 0,
 D52: 0,
 D2: 0,
 D6: 0,
 D64: 0,
 D40: 0,
 D100: 2*I*V**3*f**2/(3*J**5),
 D43: 0,
 D4: 5*I*V**3*f**2/(9*J**5),
 D110: 0,
 D24: 5*V**2*f**3/(9*J**5),
 D45: 0,
 D62: -7*V**2*f**3/(9*J**5),
 D111: V**2*f*(6*V**2 + 5*f**2)/(9*J**5),
 D119: 0,
 D82: 0,
 D59: 0,
 D85: -4*V**2*f**3/(3*J**5),
 D60: -I*V**3*f**2/J**5,
 D36: I*V**3*f**2/J**5,
 D126: -I*V*f**2*(3*V**2 + f**2)/(3*J**5),
 D81: 0,
 D41: 0,
 D83: 0,
 D53: 0,
 D79: 0,
 D120: 0,
 D101: 0,
 D32: 0,
 D49: 0,
 D74: V**2*f*(-4*V**2 + f**2)/(9*J**5),
 D103: 0,
 D117: 0,
 D77: 0,
 D93: 0,
 D97: 0,
 D121: 0,
 D90: -I*V**3*f**2/J**5,
 D46: -4*I*V**3*f**2/(9*J**5),
 D99: 0,
 D89: 0,
 D104: 0,
 D92: -V**4*f/J**5,
 D9: 0,
 D23: 0,
 D66: 0,
 D98: -I*V**3*f**2/J**5,
 D19: 0,
 D80: 0,
 D27: -I*V**3*f**2/J**5,
 D34: 0,
 D61: 0,
 D75: 0,
 D69: 0,
 D123: -V**2*f*(2*V**2 + f**2)/(3*J**5),
 D17: -2*I*V**3*f**2/(3*J**5),
 D133: I*V**3*f**2/J**5,
 D76: 0,
 D51: -I*V**3*f**2/J**5,
 D128: 4*I*V**3*f**2/(9*J**5),
 D78: I*V*f**2*(8*V**2 + f**2)/(9*J**5),
 D14: 0,
 D102: 0,
 D105: 0,
 D37: 0,
 D72: 0,
 D5: 0,
 D22: 0,
 D129: -I*V*f**2*(5*V**2 + f**2)/(3*J**5),
 D106: 0,
 D39: -5*I*V**3*f**2/(9*J**5),
 D116: 0,
 D15: 0,
 D44: V**2*f**3/J**5,
 D68: 5*V**2*f**3/(9*J**5),
 D58: 0,
 D71: -I*V**3*f**2/J**5,
 D20: -4*I*V**3*f**2/(9*J**5),
 D50: -7*I*V**3*f**2/(9*J**5),
 D7: 0,
 D95: 0,
 D115: -I*V**3*f**2/(3*J**5),
 D31: 2*V**4*f/(9*J**5),
 D131: -I*V**3*f**2/(3*J**5),
 D47: 0,
 D48: 0,
 D125: 0,
 D28: -V**2*f*(4*V**2 + 9*f**2)/(9*J**5),
 D57: 0,
 D38: 0,
 D25: 0,
 D8: -2*V**2*f**3/(3*J**5),
 D0: 0,
 D12: 0,
 D109: -2*V**4*f/(9*J**5),
 D55: -2*I*V**3*f**2/(3*J**5),
 D107: 0,
 D3: 2*I*V**3*f**2/(3*J**5),
 D18: -7*I*V**3*f**2/(9*J**5),
 D26: 0,
 D108: 0,
 D122: 0,
 D1: I*V*f**2*(-3*V**2 + f**2)/(3*J**5),
 D63: V**2*f**3/J**5}

In [55]:
psisub = substitute_group(psi,normdict5)

In [56]:
psisub
[16*I*V**3*f**2/(27*J**5) : [3, 8, 11],
 2*I*V**3*f**2/(9*J**5) : [1, 2, 4, 5, 6, 7, 11],
 -4*I*V**3*f**2/(9*J**5) : [2, 3, 6, 9, 12, 13, 15],
 2*V**2*f**2/(9*J**4) : [2, 5, 7, 8, 9],
 V**2*f**3/(3*J**5) : [1, 3, 6, 7, 8],
 V**2*f**3/(3*J**5) : [4, 5, 7, 10, 11],
 I*V**3*f**2/J**5 : [1, 2, 6, 7, 12, 13, 15],
 7*V**2*f**3/(9*J**5) : [1, 4, 5, 7, 8],
 2*I*V*f**2*(12*V**2 + 7*f**2)/(27*J**5) : [2, 5, 11],
 4*V**4*f/(27*J**5) : [3, 9, 10, 11, 12],
 -V**2*f*(V**2 + f**2)/J**5 : [2, 3, 12, 13, 15],
 -V**2*f**2/(9*J**4) : [2, 4, 5, 7, 9],
 I*V**3*f**2/J**5 : [1, 2, 7, 8, 9, 10, 11],
 V**2*f*(6*V**2 + 7*f**2)/(9*J**5) : [1, 4, 7, 8, 9],
 -2*I*V**3*f**2/(3*J**5) : [1, 4, 5, 6, 8, 9, 11],
 -2*V**2*f**2/(3*J**4) : [5, 6, 8, 9, 11],
 2*I*V**3*f/(3*J**4) : [3, 4, 5, 6, 8, 9, 11],
 -I*V*f*(3*J**2 + 2*V**2 + f**2)/(3*J**4) : [2, 3, 7],
 -V**2*f**3/J**5 : [4, 5, 12, 13, 15],
 7*I*V**3*f/(9*J**4) : [3, 4, 6, 7, 10, 11, 13],
 V**2*f**3/J**5 : [1, 2, 5, 6, 7],
 -5*V**4*f/(9*J**5) : [2, 4, 5, 6, 7, 9, 10, 11, 13],
 -28*I*V**3*f**2/(135*J**5) : [2, 3, 4, 7, 9, 11, 12],
 -V**2*f**2/J**4 : [4, 5, 8, 9, 13],
 7*I*V**3*f**2/(9*J**5) : [2, 3, 7, 8, 11, 12, 13],
 I*V**3*f**2/(3*J**5) : [4, 5, 8, 9, 10, 12, 14],
 -4*I*V**3*f**2/(9*J**5) : [1, 3, 4, 5, 6, 7, 10],
 20*I*V**3*f**2/(27*J**5) : [3, 4, 6, 7, 11, 12, 13],
 -2*I*V**3*f**2/(9*J**5) : [2, 3, 5, 8, 9, 10, 11],
 -V**2*f**3/J**5 : [1, 2, 3, 4, 11],
 -2*V**2*f**3/(3*J**5) : [6, 7, 9, 10, 13],
 83*I*V**3*f**2/(135*J**5) : [3, 5, 6, 7, 9, 11, 13],
 14*V**4*f/(27*J**5) : [2, 3, 4, 5, 6, 9, 10, 11, 13],
 -I*V**3*f/(3*J**4) : [2, 3, 6, 9, 10, 11, 13],
 -7*V**2*f**3/(9*J**5) : [4, 5, 7, 8, 13],
 -2*I*V**3*f**2/(9*J**5) : [2, 3, 6, 7, 8, 11, 15],
 I*V*f**2*(-5*V**2 + 3*f**2)/(9*J**5) : [6, 8, 10],
 V**2*f*(-3*J**2 + f**2)/(3*J**5) : [1, 2, 3, 4, 7],
 I*V**3*f/J**4 : [1, 2, 3, 4, 8, 9, 11],
 5*V**4*f/(9*J**5) : [2, 3, 6, 7, 8, 10, 11, 12, 14],
 -7*I*V**3*f**2/(27*J**5) : [2, 5, 6, 7, 11, 12, 13],
 -V**2*f**2/(3*J**4) : [4, 5, 6, 8, 10],
 -19*I*V**3*f**2/(27*J**5) : [2, 3, 4, 9, 10, 11, 13],
 -V**2*f**3/J**5 : [1, 2, 6, 7, 13],
 I*V**3*f**2/(9*J**5) : [2, 4, 6, 7, 8, 9, 10],
 -14*V**2*f**2/(9*J**4) : [3, 4, 8, 9, 11],
 -2*I*V**3*f**2/(15*J**5) : [3, 5, 6, 7, 8, 11, 12],
 -I*V**3*f**2/(27*J**5) : [2, 4, 8, 9, 12, 13, 14],
 -7*I*V**3*f**2/(27*J**5) : [2, 8, 10],
 -I*V**3*f**2/(3*J**5) : [1, 2, 3, 4, 6, 9, 11],
 -7*V**2*f*(V**2 + 2*f**2)/(9*J**5) : [2, 3, 7, 8, 13],
 -4*I*V**3*f**2/(9*J**5) : [2, 3, 6, 8, 10, 11, 14],
 -I*V**3*f**2/(3*J**5) : [4, 5, 8, 11, 12, 13, 15],
 -2*V**4*f/(3*J**5) : [2, 3, 6, 8, 9, 10, 12, 13, 14],
 -I*V*f**4/J**5 : [6, 7, 13],
 V**4/J**4 : [2, 3, 6, 7, 10, 11, 14, 15, 17],
 -I*V**3*f**2/(3*J**5) : [2, 3, 8, 9, 10, 13, 15],
 7*V**4*f/(9*J**5) : [3, 4, 5, 6, 7, 8, 10, 11, 13],
 2*I*V*f**2*(9*J**2 + 8*V**2 - 2*f**2)/(27*J**5) : [2, 5, 7],
 -V**2*f**3/(9*J**5) : [1, 5, 8, 9, 10],
 I*V**3*f**2/J**5 : [1, 2, 3, 4, 10, 11, 13],
 -2*V**4*f/(9*J**5) : [1, 6, 10, 11, 13],
 2*V**2*f**2/(3*J**4) : [4, 6, 8, 9, 10],
 17*I*V**3*f**2/(27*J**5) : [3, 4, 5, 6, 7, 8, 11],
 -7*V**2*f**2/(9*J**4) : [2, 3, 5, 6, 11],
 I*V**3*f/J**4 : [2, 3, 6, 7, 12, 13, 15],
 -V**2*f**3/(27*J**5) : [3, 5, 8, 10, 11],
 -I*V*f**2*(10*V**2 + 3*f**2)/(9*J**5) : [7, 9, 10],
 -7*V**2*f**3/(9*J**5) : [5, 6, 9, 10, 11],
 I*V*f*(4*V**2 - f**2)/(9*J**4) : [2, 4, 8],
 4*V**2*f**3/(27*J**5) : [2, 3, 5, 8, 11],
 2*I*V*f**2*(9*V**2 + f**2)/(27*J**5) : [3, 7, 8],
 7*I*V**3*f**2/(9*J**5) : [2, 3, 7, 8, 9, 11, 12],
 I*V**3*(J**2 + 32*f**2/9)/J**5 : [2, 3, 6, 7, 10, 11, 13],
 -4*V**4*f/(9*J**5) : [2, 3, 6, 8, 10, 11, 14, 15, 16],
 -V**2*f*(J**2 + f**2)/J**5 : [1, 2, 6, 7, 9],
 14*V**4*f/(27*J**5) : [2, 3, 5, 6, 7, 9, 12, 13, 14],
 5*I*V**3*f**2/(9*J**5) : [1, 5, 6, 7, 10, 11, 12],
 2*V**2*f**3/(9*J**5) : [4, 7, 8, 9, 13],
 I*V*f**2*(3*V**2 - f**2)/(3*J**5) : [1, 3, 6],
 I*V*f*(-3*J**2 - 2*V**2 + 2*f**2)/(3*J**4) : [3, 4, 5],
 V**2*f*(62*V**2 + 81*f**2)/(135*J**5) : [2, 4, 7, 8, 10],
 -5*I*V**3*f/(9*J**4) : [3, 5, 6, 7, 10, 11, 12],
 -4*I*V**3*f**2/(9*J**5) : [1, 3, 4, 5, 6, 8, 9],
 V**4*f/J**5 : [4, 5, 8, 9, 12, 13, 16, 17, 19],
 4*V**4*f/(27*J**5) : [2, 3, 5, 6, 7, 8, 9, 11, 12],
 17*I*V**3*f**2/(135*J**5) : [2, 5, 6, 7, 8, 11, 13],
 -4*V**2*f**3/(3*J**5) : [4, 5, 9, 10, 13],
 I*V**3*f**2/J**5 : [4, 5, 8, 9, 14, 15, 17],
 V**2*f**2/(3*J**4) : [4, 5, 6, 9, 11],
 -5*I*V**3*f**2/(9*J**5) : [1, 2, 4, 5, 8, 9, 11],
 I*V*f*(5*V**2 + 4*f**2)/(9*J**4) : [2, 5, 9],
 -V**4*f/(9*J**5) : [2, 3, 4, 6, 8, 9, 10, 11, 12],
 5*I*V**3*f/(9*J**4) : [2, 3, 4, 6, 7, 8, 10],
 5*V**2*f**3/(9*J**5) : [5, 7, 8, 9, 12],
 -2*I*V**3*f**2/(9*J**5) : [2, 4, 5, 7, 8, 9, 13],
 -V**2*f*(4*V**2 + 3*f**2)/(9*J**5) : [2, 3, 9, 11, 12],
 V**2*f*(-9*J**2 - 16*V**2 + 9*f**2)/(9*J**5) : [3, 4, 5, 6, 7],
 20*I*V**3*f**2/(27*J**5) : [2, 3, 5, 6, 10, 11, 15],
 I*V*f**3/(3*J**4) : [1, 5, 6],
 8*I*V**3*f**2/(15*J**5) : [2, 3, 5, 6, 9, 10, 13],
 2*I*V**3*f**2/(3*J**5) : [1, 2, 6, 7, 9, 10, 13],
 5*V**2*f**2/(9*J**4) : [3, 5, 6, 8, 9],
 -V**2*f**3/J**5 : [1, 2, 9, 10, 11],
 7*I*V**3*f/(9*J**4) : [2, 3, 5, 6, 7, 8, 11],
 1 : [1],
 -I*V**3*f**2/(3*J**5) : [2, 3, 9, 11, 12, 13, 14],
 V**2*f*(2*V**2 + f**2)/(9*J**5) : [2, 3, 7, 9, 12],
 I*V**3*f**2/J**5 : [1, 2, 3, 4, 9, 10, 11],
 -V**2*f**3/(3*J**5) : [4, 5, 9, 11, 12],
 -I*V**3*f**2/(3*J**5) : [4, 5, 8, 9, 10, 13, 15],
 -V**2*f*(17*V**2 + 3*f**2)/(27*J**5) : [4, 6, 10, 11, 12],
 -V**2*f**3/J**5 : [4, 5, 8, 9, 15],
 -V**2*f**2/J**4 : [6, 7, 10, 11, 13],
 2*I*V*f**2*(4*V**2 + 3*f**2)/(9*J**5) : [6, 9, 11],
 13*V**4*f/(27*J**5) : [2, 3, 4, 6, 10, 11, 14, 15, 16],
 4*I*V**3*f**2/(9*J**5) : [1, 2, 5, 6, 7, 9, 10],
 2*I*V**3*f**2/(9*J**5) : [2, 5, 6, 7, 8, 9, 11],
 -2*I*V**3*f/(9*J**4) : [2, 5, 6, 7, 10, 11, 13],
 5*I*V**3*f**2/(9*J**5) : [2, 3, 6, 7, 8, 10, 14],
 -V**2*f*(20*V**2 + 21*f**2)/(27*J**5) : [5, 6, 7, 8, 11],
 V**2*f**2/J**4 : [1, 2, 3, 4, 5],
 V**2*f*(17*V**2 + 12*f**2)/(27*J**5) : [4, 7, 10, 11, 13],
 83*I*V**3*f**2/(135*J**5) : [2, 3, 4, 6, 9, 10, 12],
 2*V**4*f/(9*J**5) : [2, 3, 5, 10, 13],
 I*V**3*f**2/J**5 : [2, 3, 6, 7, 14, 15, 17],
 -62*I*V**3*f**2/(135*J**5) : [3, 4, 6, 8, 10, 11, 12],
 -2*I*V**3*f**2/(15*J**5) : [2, 5, 6, 7, 9, 10, 13],
 V**4*f/J**5 : [1, 2, 3, 4, 5, 6, 10, 11, 13],
 2*I*V*f**2*(9*V**2 + f**2)/(27*J**5) : [2, 7, 9],
 2*V**4*f/(9*J**5) : [2, 3, 5, 11, 12],
 -20*V**2*f**3/(27*J**5) : [3, 4, 6, 7, 13],
 2*I*V*f**2*(9*V**2 + 2*f**2)/(27*J**5) : [2, 6, 8],
 -7*I*V*f*(V**2 + 2*f**2)/(9*J**4) : [3, 4, 9],
 -I*V**3*f**2/(3*J**5) : [4, 5, 6, 7, 9, 10, 11],
 -V**4*f/(3*J**5) : [2, 3, 6, 7, 8, 9, 11, 12, 13],
 V**2*f**3/(3*J**5) : [4, 5, 8, 10, 12],
 7*V**2*f**2/(9*J**4) : [2, 4, 5, 6, 8],
 2*V**4*f/(3*J**5) : [2, 3, 6, 7, 10, 11, 13, 15, 16],
 -I*V*f**2*(9*J**2 + 5*V**2 + 3*f**2)/(9*J**5) : [6, 7, 9],
 I*V**3*f**2/J**5 : [1, 2, 3, 4, 5, 6, 11],
 -V**2*f**2/(9*J**4) : [2, 4, 8, 9, 10],
 V**2*f*(-6*V**2 + 37*f**2)/(45*J**5) : [3, 5, 7, 9, 11],
 13*I*V**3*f**2/(27*J**5) : [2, 3, 4, 6, 12, 13, 14],
 -4*V**2*f**2/(3*J**4) : [2, 3, 7, 8, 11],
 I*V**3*f**2/J**5 : [1, 2, 8, 9, 12, 13, 15],
 2*I*V**3*f/(3*J**4) : [2, 3, 6, 7, 9, 10, 13],
 -V**2*f**2/J**4 : [4, 5, 9, 10, 11],
 -I*V**3*f**2/(3*J**5) : [1, 2, 6, 7, 8, 11, 13],
 8*I*V**3*f**2/(15*J**5) : [3, 4, 6, 7, 9, 10, 13],
 -2*I*V**3*f/(9*J**4) : [2, 3, 4, 6, 7, 9, 11],
 -2*I*V**3*f**2/(3*J**5) : [2, 3, 8, 10, 12, 13, 14],
 2*V**2*f*(-14*V**2 + 33*f**2)/(135*J**5) : [2, 4, 6, 8, 11],
 7*V**4*f/(9*J**5) : [2, 3, 6, 7, 9, 10, 11, 12, 15],
 I*V*f**2*(13*V**2 + 5*f**2)/(9*J**5) : [1, 4, 9],
 -4*V**2*f**3/(3*J**5) : [1, 2, 7, 8, 11],
 I*V*f**2*(-9*J**2 + 16*V**2 + 11*f**2)/(27*J**5) : [3, 5, 6],
 -V**2*f*(18*J**2 + 15*V**2 + 2*f**2)/(27*J**5) : [2, 3, 5, 6, 9],
 14*I*V**3*f**2/(27*J**5) : [2, 3, 5, 6, 7, 9, 12],
 -4*I*V**3*f**2/(3*J**5) : [1, 2, 3, 4, 6, 7, 9],
 I*V**3*f**2/(9*J**5) : [2, 3, 6, 8, 9, 11, 13],
 -14*V**4*f/(27*J**5) : [2, 9, 10, 11, 13],
 -I*V**3*f**2/(3*J**5) : [5, 6, 7, 9, 10, 11, 12],
 26*I*V**3*f**2/(27*J**5) : [2, 4, 5, 6, 7, 9, 11],
 28*I*V**3*f**2/(135*J**5) : [2, 5, 6, 8, 10, 11, 12],
 V**2*f**3/(27*J**5) : [2, 6, 8, 9, 10],
 17*I*V**3*f**2/(135*J**5) : [2, 5, 6, 9, 10, 11, 13],
 -I*V*f**3/J**4 : [1, 2, 9],
 7*I*V**3*f**2/(9*J**5) : [4, 5, 7, 8, 12, 13, 15],
 V**2*f*(2*V**2 + f**2)/(3*J**5) : [1, 2, 5, 8, 9],
 -4*I*V**3*f**2/(9*J**5) : [2, 4, 5, 6, 8, 9, 12],
 13*V**2*f**3/(27*J**5) : [3, 5, 6, 7, 12],
 I*V*f**2*(3*J**2 + 5*V**2 + f**2)/(3*J**5) : [1, 4, 5],
 20*I*V**3*f**2/(27*J**5) : [3, 4, 6, 7, 10, 11, 15],
 V**2*f*(17*V**2 - f**2)/(27*J**5) : [3, 5, 10, 11, 12],
 -13*I*V**3*f**2/(27*J**5) : [3, 5, 6, 7, 10, 11, 14],
 14*V**2*f**3/(27*J**5) : [2, 4, 6, 7, 12],
 -I*V**3*f**2/(3*J**5) : [2, 3, 6, 7, 10, 12, 14],
 7*V**4*f/(9*J**5) : [2, 3, 7, 8, 10, 11, 14, 15, 17],
 8*I*V**3*f**2/(27*J**5) : [2, 3, 5, 9, 10, 11, 12],
 -2*I*V**3*f/(3*J**4) : [1, 3, 4, 5, 6, 7, 8],
 V**2*f**2/(3*J**4) : [1, 2, 4, 5, 7],
 I*V*f**2*(2*V**2 + 3*f**2)/(27*J**5) : [5, 7, 10],
 V**4*f/J**5 : [2, 3, 6, 7, 10, 11, 16, 17, 19],
 -2*I*V**3*f**2/(15*J**5) : [2, 5, 7, 8, 10, 11, 13],
 -2*V**2*f*(41*V**2 + 48*f**2)/(135*J**5) : [3, 4, 7, 9, 10],
 -2*V**4*f/(9*J**5) : [2, 3, 6, 7, 8, 11, 14, 15, 17],
 -V**2*f*(V**2 + f**2)/J**5 : [8, 9, 12, 13, 15],
 V**2*f*(17*V**2 + 14*f**2)/(27*J**5) : [2, 5, 10, 11, 13],
 -4*I*V**3*f**2/(45*J**5) : [2, 4, 6, 9, 10, 11, 12],
 -4*V**2*f**2/(9*J**4) : [2, 3, 5, 7, 10],
 -5*I*V**3*f**2/(9*J**5) : [3, 4, 5, 7, 8, 9, 12],
 V**2*f**3/(3*J**5) : [6, 7, 8, 11, 13],
 5*I*V**3*f**2/(9*J**5) : [1, 2, 4, 6, 7, 8, 10],
 2*V**2*f**3/(3*J**5) : [6, 8, 10, 11, 12],
 -I*V**3*f/(3*J**4) : [2, 3, 6, 7, 8, 11, 13],
 4*I*V*f**2*(8*V**2 + 3*f**2)/(27*J**5) : [4, 7, 11],
 2*V**2*f**3/(9*J**5) : [4, 5, 6, 9, 13],
 4*I*V**3*f**2/(9*J**5) : [4, 5, 7, 8, 9, 11, 12],
 14*I*V**3*f**2/(27*J**5) : [2, 3, 5, 7, 12, 13, 14],
 4*I*V**3*f**2/(9*J**5) : [2, 3, 6, 7, 9, 11, 14],
 -2*V**4*f/(9*J**5) : [1, 6, 7, 8, 11],
 -13*I*V**3*f**2/(27*J**5) : [3, 5, 6, 8, 9, 10, 11],
 V**2*f**3/(3*J**5) : [6, 9, 10, 11, 13],
 -2*I*V**3*f**2/(9*J**5) : [4, 5, 6, 9, 12, 13, 15],
 -5*V**4*f/(9*J**5) : [2, 3, 7, 9, 10, 11, 14, 15, 16],
 -V**2*f**3/J**5 : [6, 7, 10, 11, 15],
 -I*V**3*f**2/(3*J**5) : [2, 3, 6, 7, 8, 9, 13],
 4*V**2*f**3/(9*J**5) : [4, 6, 8, 10, 11],
 -V**4*f/(3*J**5) : [2, 3, 6, 7, 10, 13, 14, 15, 17],
 -V**4*f/(3*J**5) : [2, 3, 6, 7, 10, 11, 12, 15, 17],
 7*V**2*f**3/(9*J**5) : [1, 4, 6, 7, 11],
 -2*I*V**3*f/(3*J**4) : [2, 3, 6, 8, 10, 11, 12],
 -V**2*f**2/J**4 : [5, 6, 7, 8, 9],
 -82*I*V**3*f**2/(135*J**5) : [2, 3, 5, 7, 9, 11, 13],
 I*V**3*f**2/(27*J**5) : [3, 5, 8, 9, 12, 13, 14],
 2*V**2*f*(9*J**2 + 14*V**2 + 30*f**2)/(27*J**5) : [2, 4, 6, 7, 8],
 -5*V**4*f/(9*J**5) : [3, 4, 5, 7, 8, 9, 12, 13, 14],
 -7*I*V**3*f**2/(9*J**5) : [2, 3, 4, 7, 8, 9, 11],
 -14*V**2*f**3/(27*J**5) : [2, 3, 5, 7, 12],
 -2*V**4*f/(9*J**5) : [3, 4, 5, 6, 7, 9, 10, 11, 12],
 14*I*V**3*f**2/(27*J**5) : [2, 3, 5, 7, 10, 12, 13],
 V**2*f*(28*V**2 + 39*f**2)/(135*J**5) : [2, 5, 7, 9, 10],
 -I*V**3*f/(3*J**4) : [2, 4, 5, 7, 8, 9, 11],
 -V**4*f/(3*J**5) : [2, 3, 7, 8, 9, 11, 12, 13, 14],
 -I*V*f/J**2 : [1, 2, 5],
 -4*V**2*f**3/(9*J**5) : [4, 5, 7, 9, 12],
 14*V**2*f**3/(27*J**5) : [2, 5, 9, 10, 11],
 -I*V**3*f/(3*J**4) : [2, 3, 4, 5, 7, 8, 9],
 2*V**2*f**2/(9*J**4) : [2, 3, 4, 7, 11],
 V**2*f*(-17*V**2 + 24*f**2)/(135*J**5) : [3, 5, 6, 9, 10],
 -8*V**2*f*(V**2 + 3*f**2)/(15*J**5) : [3, 4, 7, 8, 11],
 I*V**3*f/J**4 : [2, 3, 6, 7, 10, 11, 15],
 16*V**2*f**3/(27*J**5) : [2, 3, 4, 9, 11],
 I*V**3*f**2/J**5 : [2, 3, 8, 9, 14, 15, 17],
 -7*V**4*f/(27*J**5) : [2, 3, 4, 7, 10, 11, 14, 15, 17],
 40*I*V**3*f**2/(27*J**5) : [3, 4, 8, 9, 12, 13, 15],
 7*I*V**3*f**2/(9*J**5) : [1, 2, 5, 6, 7, 8, 11],
 -7*V**2*f**3/(9*J**5) : [1, 2, 5, 6, 11],
 7*I*V**3*f**2/(9*J**5) : [2, 3, 7, 8, 9, 10, 13],
 -V**2*f*(9*J**2 + 6*V**2 + 16*f**2)/(9*J**5) : [2, 3, 7, 8, 9],
 -I*V*f*(V**2 + f**2)/J**4 : [2, 3, 11],
 -13*I*V**3*f**2/(27*J**5) : [3, 5, 6, 7, 10, 12, 13],
 4*V**4*f/(9*J**5) : [1, 7, 10, 11, 12],
 I*V**3*f**2/J**5 : [2, 3, 6, 7, 12, 13, 17],
 -4*I*V**3*f**2/(45*J**5) : [2, 4, 6, 7, 8, 11, 12],
 -83*I*V**3*f**2/(135*J**5) : [3, 5, 6, 7, 9, 10, 12],
 -V**2*(J**2 + 4*f**2/3)/J**4 : [2, 3, 6, 7, 9],
 -7*I*V**3*f**2/(9*J**5) : [1, 4, 6, 7, 10, 11, 13],
 -2*V**2*f**3/(9*J**5) : [3, 4, 5, 8, 9],
 2*V**4*f/(3*J**5) : [2, 4, 5, 6, 10],
 -V**2*f*(7*V**2 + 12*f**2)/(9*J**5) : [2, 3, 9, 10, 13],
 17*I*V**3*f**2/(135*J**5) : [2, 5, 7, 9, 10, 11, 12],
 V**4*f/J**5 : [3, 4, 5, 6, 7, 8, 9, 10, 11],
 V**2*f*(-2*V**2 + 3*f**2)/(9*J**5) : [2, 3, 8, 10, 12],
 -V**2*f**2/J**4 : [1, 2, 7, 8, 9],
 -28*I*V**3*f**2/(135*J**5) : [2, 5, 6, 7, 9, 11, 12],
 7*V**2*f**3/(27*J**5) : [2, 3, 4, 7, 13],
 -7*I*V**3*f**2/(27*J**5) : [2, 5, 6, 7, 10, 11, 15],
 I*V**3*f**2/(3*J**5) : [1, 8, 9],
 I*V*f*(-2*V**2 + 3*f**2)/(9*J**4) : [4, 6, 8],
 -2*V**4*f/(9*J**5) : [2, 3, 5, 6, 8, 9, 10, 11, 13],
 V**4*f/J**5 : [2, 3, 7, 8, 9, 10, 11, 12, 13],
 -13*V**2*f**3/(27*J**5) : [2, 3, 4, 6, 12],
 -V**2*f**3/J**5 : [1, 2, 10, 11, 13],
 I*V**3*f/J**4 : [1, 2, 6, 7, 10, 11, 13],
 -I*V**3*f**2/(9*J**5) : [2, 3, 7, 9, 12, 13, 14],
 2*I*V**3*f**2/(3*J**5) : [5, 6, 7, 8, 10, 11, 13],
 5*V**2*f**2/(9*J**4) : [3, 5, 6, 7, 10],
 -82*I*V**3*f**2/(135*J**5) : [2, 4, 6, 8, 10, 11, 13],
 -17*V**4*f/(27*J**5) : [2, 3, 4, 6, 7, 8, 9, 11, 13],
 -2*I*V**3*f**2/(9*J**5) : [2, 4, 5, 7, 9, 10, 11],
 -4*V**2*f**3/(9*J**5) : [1, 2, 5, 7, 10],
 -I*V**3*f**2/J**5 : [1, 4, 5, 6, 7, 8, 9],
 V**2*f*(V**2 - 3*f**2)/(3*J**5) : [2, 4, 5, 7, 11],
 8*I*V**3*f**2/(15*J**5) : [3, 4, 7, 8, 10, 11, 13],
 2*I*V**3*f**2/(3*J**5) : [4, 5, 9, 10, 12, 13, 15],
 -28*I*V**3*f**2/(135*J**5) : [3, 4, 6, 7, 8, 11, 13],
 -5*I*V**3*f**2/(9*J**5) : [2, 3, 7, 9, 10, 12, 13],
 -7*V**4*f/(27*J**5) : [2, 5, 6, 7, 10, 11, 14, 15, 17],
 -2*I*V**3*f**2/(3*J**5) : [4, 6, 7, 8, 10, 11, 12],
 f**2*(J**2 - 2*V**2/3)/J**4 : [5],
 -I*V**3*f**2/(3*J**5) : [2, 3, 4, 5, 6, 7, 9],
 2*V**2*f*(-9*J**2 - 8*V**2 + 3*f**2)/(27*J**5) : [3, 4, 6, 7, 9],
 -I*V**3*f**2/(3*J**5) : [1, 2, 7, 9, 10, 11, 12],
 2*V**2*f**2/(9*J**4) : [2, 5, 6, 7, 11],
 14*I*V**3*f**2/(27*J**5) : [2, 3, 4, 5, 6, 8, 10],
 -2*V**2*f*(9*J**2 + 21*V**2 + 19*f**2)/(27*J**5) : [2, 3, 5, 7, 8],
 -2*I*V**3*f**2/(3*J**5) : [2, 3, 6, 7, 10, 13, 15],
 -40*V**2*f**3/(27*J**5) : [3, 4, 9, 10, 11],
 I*V**3*f**2/J**5 : [2, 3, 6, 7, 13, 14, 15],
 -2*V**2*f**3/(27*J**5) : [2, 3, 5, 9, 10],
 -I*V*f**2*(V**2 + f**2)/J**5 : [8, 9, 13],
 7*I*V*f**2*(3*V**2 + 2*f**2)/(27*J**5) : [3, 6, 9],
 4*V**4*f/(9*J**5) : [2, 3, 6, 7, 9, 11, 14, 15, 16],
 V**4*f/J**5 : [2, 3, 8, 9, 12, 13, 16, 17, 19],
 V**4*f/(9*J**5) : [2, 3, 4, 7, 8, 9, 10, 11, 13],
 28*I*V**3*f**2/(135*J**5) : [2, 3, 5, 6, 8, 10, 12],
 -83*I*V**3*f**2/(135*J**5) : [2, 3, 4, 6, 9, 11, 13],
 V**4*f/(9*J**5) : [2, 3, 4, 10, 12],
 -V**2*f**2/(3*J**4) : [1, 5, 6, 7, 8],
 I*V**3*f**2/J**5 : [2, 3, 8, 9, 13, 14, 15],
 I*V*f**2*(3*V**2 + f**2)/(3*J**5) : [1, 6, 7],
 I*V**3*f/J**4 : [1, 2, 3, 4, 5, 6, 9],
 -V**2*f*(9*J**2 + 14*f**2)/(9*J**5) : [4, 5, 8, 9, 11],
 2*I*V**3*f**2/(3*J**5) : [2, 3, 8, 9, 11, 13, 14],
 10*V**4*f/(27*J**5) : [3, 8, 10, 11, 13],
 -I*V**3*f**2/(3*J**5) : [1, 2, 6, 9, 10, 11, 13],
 128*I*V**3*f**2/(135*J**5) : [2, 4, 6, 7, 8, 10, 13],
 V**2*f**3/(3*J**5) : [7, 9, 10, 11, 12],
 -I*V*f**2*(13*V**2 + 12*f**2)/(9*J**5) : [7, 8, 11],
 7*I*V**3*f**2/(9*J**5) : [2, 3, 6, 7, 9, 10, 15],
 2*V**2*f**2/(3*J**4) : [1, 4, 6, 7, 9],
 5*I*V**3*f**2/(9*J**5) : [1, 2, 4, 6, 10, 11, 12],
 2*V**2*f**2/(3*J**4) : [2, 3, 6, 9, 11],
 I*V**3*f**2/J**5 : [2, 4, 5, 7, 10, 11, 13],
 5*V**2*f**3/(9*J**5) : [5, 7, 8, 10, 11],
 -I*V**3*f**2/J**5 : [1, 2, 3, 4, 5, 6, 7],
 2*V**4*f/(3*J**5) : [2, 3, 6, 7, 10, 11, 13, 14, 17],
 V**2*f*(4*V**2 + f**2)/(27*J**5) : [2, 4, 10, 11, 12],
 -7*I*V**3*f**2/(27*J**5) : [2, 3, 4, 6, 7, 9, 13],
 -2*I*V**3*f**2/(9*J**5) : [1, 2, 4, 6, 7, 9, 11],
 2*V**2*f*(2*V**2 + f**2)/(45*J**5) : [2, 4, 6, 9, 10],
 2*I*V**3*f**2/(3*J**5) : [1, 2, 6, 7, 9, 11, 12],
 -V**2*f**2/J**4 : [1, 2, 3, 4, 9],
 -2*I*V**3*f**2/(9*J**5) : [2, 3, 6, 9, 11, 12, 13],
 -I*V*f**2*(9*J**2 + 2*V**2 + 5*f**2)/(9*J**5) : [4, 5, 9],
 17*V**4*f/(27*J**5) : [2, 3, 4, 6, 7, 8, 9, 10, 12],
 -7*I*V**3*f**2/(27*J**5) : [2, 3, 4, 7, 10, 11, 15],
 -V**4*f/(3*J**5) : [2, 3, 6, 8, 9, 11, 12, 13, 15],
 2*I*V**3*f**2/(3*J**5) : [4, 5, 8, 9, 11, 12, 15],
 V**2*f*(9*J**2 + 45*V**2 - 2*f**2)/(27*J**5) : [2, 3, 4, 7, 9],
 2*I*V**3*f/(3*J**4) : [1, 7, 8],
 I*V**3*f**2/(3*J**5) : [1, 2, 3, 7, 8, 9, 10],
 -V**2*f**2/J**4 : [1, 2, 6, 7, 11],
 -8*I*V**3*f**2/(9*J**5) : [2, 3, 4, 5, 10, 11, 13],
 -V**2*f*(9*J**2 + 15*V**2 + 40*f**2)/(27*J**5) : [2, 3, 4, 6, 8],
 -10*V**4*f/(27*J**5) : [2, 3, 4, 5, 7, 8, 10, 11, 13],
 -14*I*V**3*f**2/(27*J**5) : [2, 3, 4, 5, 7, 9, 10],
 -2*V**2*f**2/(3*J**4) : [1, 2, 5, 6, 9],
 -7*I*V**3*f**2/(27*J**5) : [2, 5, 6, 7, 12, 13, 15],
 -4*V**4*f/(9*J**5) : [1, 3, 4, 5, 6, 7, 10, 11, 12],
 -V**4*f/(3*J**5) : [2, 3, 6, 7, 11, 13, 14, 15, 16],
 -2*I*V**3*f/(3*J**4) : [2, 4, 5, 6, 8, 9, 10],
 2*I*V**3*f/(3*J**4) : [2, 3, 7, 8, 10, 11, 13],
 -5*I*V**3*f**2/(9*J**5) : [2, 3, 7, 9, 10, 11, 14],
 -I*V*f**2*(V**2 + f**2)/J**5 : [4, 5, 13],
 -V**2*f*(9*J**2 + 6*V**2 + 23*f**2)/(9*J**5) : [2, 3, 6, 7, 11],
 2*I*V**3*f**2/(9*J**5) : [2, 3, 5, 7, 8, 9, 10],
 -I*V**5/J**5 : [2, 3, 6, 7, 10, 11, 14, 15, 18, 19, 21],
 V**2*f**2/(3*J**4) : [2, 3, 6, 8, 10],
 17*I*V**3*f**2/(27*J**5) : [3, 4, 5, 6, 7, 9, 10],
 -7*V**4*f/(27*J**5) : [2, 3, 4, 6, 7, 9, 12, 13, 15],
 14*I*V**3*f**2/(27*J**5) : [2, 3, 5, 7, 10, 11, 14],
 -10*V**4*f/(27*J**5) : [2, 8, 10, 11, 12],
 -20*V**2*f**3/(27*J**5) : [2, 3, 5, 6, 13],
 2*I*V**3*f**2/(27*J**5) : [2, 3, 5, 8, 10, 11, 13],
 -V**2*f**2/J**4 : [4, 5, 10, 11, 13],
 7*I*V**3*f**2/(9*J**5) : [3, 4, 5, 6, 10, 11, 13],
 V**2*f*(V**2 + f**2)/(3*J**5) : [6, 7, 8, 9, 11],
 I*V**3*f/J**4 : [2, 3, 8, 9, 12, 13, 15],
 2*V**2*f**3/(3*J**5) : [1, 2, 6, 9, 11],
 -I*V*f*(7*V**2 + 12*f**2)/(9*J**4) : [5, 6, 9],
 -5*V**2*f**2/(9*J**4) : [2, 3, 4, 6, 10],
 -2*V**2*f*(17*V**2 + 21*f**2)/(27*J**5) : [5, 6, 10, 11, 13],
 V**4*f/J**5 : [2, 3, 6, 7, 11, 12, 13, 14, 15],
 -I*V**3*f**2/(3*J**5) : [4, 6, 7, 9, 10, 11, 13],
 -13*I*V**3*f**2/(27*J**5) : [3, 5, 6, 7, 12, 13, 14],
 -I*V**3*f**2/(9*J**5) : [1, 2, 4, 5, 7, 8, 9],
 V**2*f**2/(3*J**4) : [1, 3, 4, 5, 6],
 2*I*V**3*f/(3*J**4) : [2, 3, 6, 7, 9, 11, 12],
 V**2*f*(9*J**2 + 14*V**2 + 42*f**2)/(27*J**5) : [3, 5, 6, 7, 8],
 2*I*V**3*f**2/(3*J**5) : [1, 2, 3, 4, 7, 8, 11],
 -2*V**2*f**3/(3*J**5) : [7, 8, 10, 11, 13],
 20*V**4*f/(27*J**5) : [2, 3, 5, 6, 7, 8, 12, 13, 15],
 -2*V**2*f**2/(3*J**4) : [1, 2, 5, 7, 8],
 4*I*V**3*f**2/(9*J**5) : [4, 5, 7, 9, 12, 13, 14],
 f*(9*J**2*(V**2 + f**2) + V**2*(10*V**2 - 9*f**2))/(9*J**5) : [7],
 62*I*V**3*f**2/(135*J**5) : [3, 4, 6, 7, 9, 11, 12],
 5*V**2*f**3/(27*J**5) : [2, 7, 8, 9, 11],
 -I*V**3*f/(3*J**4) : [3, 4, 5, 7, 8, 9, 10],
 I*V**3*f**2/(3*J**5) : [2, 3, 8, 9, 10, 12, 14],
 -I*V**3*f**2/(3*J**5) : [2, 3, 6, 7, 9, 12, 13],
 -V**2*f**3/J**5 : [2, 3, 10, 11, 15],
 -V**2*f**3/J**5 : [1, 2, 8, 9, 13],
 -4*I*V**3*f**2/(9*J**5) : [2, 3, 6, 8, 10, 12, 13],
 -7*V**2*f**2/(9*J**4) : [3, 4, 6, 7, 11],
 2*V**4*f/(3*J**5) : [2, 3, 7, 8, 9, 10, 12, 13, 15],
 2*I*V**3*f**2/(3*J**5) : [2, 3, 8, 9, 11, 12, 15],
 V**2*f*(9*J**2 + 32*V**2 + 9*f**2)/(27*J**5) : [2, 5, 6, 7, 9],
 20*V**4*f/(27*J**5) : [2, 3, 5, 6, 10, 11, 14, 15, 17],
 2*V**4*f/(3*J**5) : [2, 3, 6, 7, 11, 12, 14, 15, 17],
 -7*V**2*f**2/(9*J**4) : [3, 4, 5, 6, 9],
 2*I*V**3*f**2/(3*J**5) : [1, 2, 3, 4, 7, 9, 10],
 I*V**3*f**2/J**5 : [5, 6, 7, 8, 9, 10, 11],
 -V**2*f**3/(3*J**5) : [1, 2, 7, 9, 10],
 V**2*f**2/J**4 : [1, 2, 3, 6, 7],
 2*I*V*f**2*(8*V**2 + 3*f**2)/(9*J**5) : [5, 8, 9],
 -2*V**4*f/(9*J**5) : [1, 2, 3, 6, 9],
 7*I*V**3*f/(9*J**4) : [2, 3, 5, 6, 10, 11, 13],
 I*V**3*f**2/J**5 : [4, 5, 10, 11, 14, 15, 17],
 -V**2*f**2/J**4 : [2, 3, 9, 10, 11],
 2*V**2*f*(-3*V**2 + f**2)/(45*J**5) : [2, 5, 6, 8, 10],
 7*I*V**3*f**2/(9*J**5) : [2, 3, 7, 8, 10, 11, 15],
 -7*V**2*f**3/(9*J**5) : [5, 6, 8, 9, 13],
 -20*I*V**3*f**2/(27*J**5) : [2, 3, 4, 5, 7, 8, 11],
 -5*V**2*f**3/(9*J**5) : [1, 5, 6, 7, 10],
 28*I*V**3*f**2/(27*J**5) : [2, 3, 4, 5, 6, 9, 11],
 -2*I*V**3*f**2/(9*J**5) : [2, 3, 5, 6, 7, 10, 11],
 -4*I*V**3*f**2/(9*J**5) : [2, 4, 5, 6, 8, 10, 11],
 V**2*f*(83*V**2 + 84*f**2)/(135*J**5) : [3, 5, 7, 8, 10],
 I*V*f**2*(30*V**2 - f**2)/(27*J**5) : [3, 5, 10],
 4*V**2*f*(32*V**2 + 21*f**2)/(135*J**5) : [3, 4, 6, 9, 11],
 -V**2*f*(6*V**2 + 7*f**2)/(9*J**5) : [3, 4, 5, 6, 11],
 2*V**2*f**3/(3*J**5) : [2, 3, 7, 10, 11],
 V**2*f*(-112*V**2 + 99*f**2)/(135*J**5) : [3, 5, 6, 8, 11],
 V**2*f*(7*V**2 - 3*f**2)/(27*J**5) : [4, 6, 7, 9, 11],
 -14*I*V**3*f**2/(27*J**5) : [2, 4, 5, 6, 7, 8, 10],
 f**3*(3*V**2 + f**2)/J**5 : [11],
 I*V*f**2*(18*V**2 + f**2)/(27*J**5) : [2, 4, 10],
 -V**2*f**2/(3*J**4) : [2, 3, 7, 9, 10],
 -I*V*f**2*(55*V**2 + 42*f**2)/(27*J**5) : [5, 6, 11],
 -2*V**2*f**2/(3*J**4) : [4, 5, 7, 8, 11],
 5*I*V**3*f**2/(9*J**5) : [4, 5, 6, 8, 12, 13, 14],
 V**4*f/(3*J**5) : [3, 4, 5, 7, 10],
 -2*V**2*f**3/(3*J**5) : [6, 7, 9, 11, 12],
 I*V**3*f/J**4 : [2, 3, 7, 8, 9, 10, 11],
 5*I*V**3*f**2/(9*J**5) : [4, 5, 6, 8, 9, 10, 12],
 I*V*f**2*(-36*J**2 - 14*V**2 + 5*f**2)/(27*J**5) : [3, 4, 7],
 f**2*(2*V**2 + f**2)/J**4 : [9],
 -2*I*V**3*f**2/(3*J**5) : [1, 2, 6, 8, 10, 11, 12],
 -17*V**2*f*(V**2 + 3*f**2)/(135*J**5) : [2, 5, 6, 9, 11],
 I*V**3*f/(3*J**4) : [2, 3, 6, 7, 8, 10, 12],
 I*V**3*f**2/J**5 : [1, 2, 6, 7, 10, 11, 15],
 2*V**2*f**3/(3*J**5) : [4, 5, 8, 11, 13],
 8*V**2*f**3/(27*J**5) : [3, 6, 8, 9, 11],
 -2*V**4*f/(9*J**5) : [2, 3, 6, 7, 8, 10, 11, 13, 15],
 82*I*V**3*f**2/(135*J**5) : [2, 3, 5, 7, 9, 10, 12],
 -V**2*f**2/J**4 : [2, 3, 6, 7, 13],
 -4*V**4*f/(27*J**5) : [2, 3, 4, 5, 7, 9, 10, 11, 12],
 7*I*V**3*f**2/(9*J**5) : [4, 5, 7, 8, 9, 10, 13],
 -I*V**3*f**2/J**5 : [1, 2, 3, 4, 5, 8, 9],
 V**2*f*(-13*V**2 + 21*f**2)/(27*J**5) : [4, 6, 7, 8, 10],
 -2*V**4*f/(3*J**5) : [2, 3, 6, 7, 10, 12, 14, 15, 16],
 20*I*V**3*f**2/(27*J**5) : [2, 3, 5, 6, 12, 13, 15],
 -2*I*V**3*f**2/(9*J**5) : [1, 2, 4, 7, 10, 11, 13],
 7*I*V**3*f**2/(9*J**5) : [5, 6, 8, 9, 12, 13, 15],
 4*V**2*f**3/(9*J**5) : [4, 6, 8, 9, 12],
 -I*V*f**2*(V**2 + f**2)/J**5 : [9, 10, 11],
 -V**2*f**3/J**5 : [4, 5, 10, 11, 15],
 I*V**3*f/J**4 : [2, 3, 6, 7, 11, 12, 13],
 62*I*V**3*f**2/(135*J**5) : [2, 3, 5, 6, 9, 11, 12],
 4*I*V**3*f**2/(9*J**5) : [1, 7, 10],
 -2*I*V**3*f**2/(9*J**5) : [4, 7, 8, 9, 12, 13, 15],
 2*V**2*f**3/(3*J**5) : [1, 2, 3, 5, 6],
 I*V**3*f**2/J**5 : [4, 5, 9, 10, 11, 12, 13],
 5*V**4*f/(9*J**5) : [2, 3, 6, 7, 8, 10, 14, 15, 16],
 -14*I*V**3*f**2/(27*J**5) : [2, 4, 6, 8, 9, 10, 11],
 V**2*f**3/(3*J**5) : [1, 2, 6, 8, 10],
 -17*I*V**3*f**2/(135*J**5) : [2, 5, 6, 7, 8, 10, 12],
 4*V**2*f**2/(9*J**4) : [2, 4, 6, 8, 9],
 -5*I*V**3*f**2/(9*J**5) : [3, 4, 5, 7, 8, 10, 11],
 -V**2*f**3/J**5 : [7, 8, 9, 10, 11],
 -112*I*V**3*f**2/(135*J**5) : [3, 5, 7, 9, 10, 11, 13],
 14*V**2*f**3/(27*J**5) : [2, 3, 4, 8, 10],
 7*I*V**3*f**2/(9*J**5) : [1, 2, 5, 6, 10, 11, 13],
 -7*I*V**3*f**2/(27*J**5) : [2, 3, 4, 7, 12, 13, 15],
 -V**2*f*(6*V**2 + 5*f**2)/(9*J**5) : [1, 5, 6, 8, 9],
 -2*I*V**3*f**2/(3*J**5) : [1, 2, 3, 6, 8, 9, 11],
 4*V**2*f**2/(9*J**4) : [2, 4, 6, 7, 10],
 I*V*f**2*(9*J**2 + 23*V**2 - 2*f**2)/(27*J**5) : [2, 4, 6],
 V**4*f/J**5 : [1, 2, 3, 4, 5, 6, 7, 8, 11],
 4*I*V**3*f**2/(9*J**5) : [1, 2, 5, 7, 10, 11, 12],
 2*I*V**3*f**2/(3*J**5) : [4, 5, 8, 9, 11, 13, 14],
 -2*I*V**3*f**2/(15*J**5) : [3, 5, 6, 9, 10, 11, 12],
 -13*V**4*f/(27*J**5) : [3, 5, 6, 7, 10, 11, 14, 15, 16],
 -4*V**2*f**3/(27*J**5) : [3, 7, 8, 9, 10],
 -82*I*V**3*f**2/(135*J**5) : [2, 4, 7, 8, 10, 11, 12],
 -2*V**2*f*(17*V**2 + 20*f**2)/(27*J**5) : [3, 4, 10, 11, 13],
 -I*V*f**2*(2*V**2 + f**2)/J**5 : [10, 11, 13],
 2*V**4*f/(9*J**5) : [1, 2, 4, 5, 6, 7, 10, 11, 13],
 -2*I*V*f**2*(27*V**2 + 20*f**2)/(27*J**5) : [3, 4, 11],
 V**2*f**2/(3*J**4) : [5, 7, 8, 9, 10],
 82*I*V**3*f**2/(135*J**5) : [2, 4, 6, 7, 9, 11, 13],
 -5*I*V**3*f**2/(9*J**5) : [5, 7, 8, 9, 12, 13, 14],
 I*V*(-J**4 + f**4)/J**5 : [2, 3, 5],
 112*I*V**3*f**2/(135*J**5) : [3, 5, 6, 7, 8, 10, 13],
 -I*V*f**3/J**4 : [6, 7, 11],
 7*V**2*f**3/(27*J**5) : [2, 5, 6, 7, 13],
 8*V**2*f*(V**2 + f**2)/(9*J**5) : [2, 3, 4, 5, 11],
 -I*V*f*(V**2 + f**2)/J**4 : [8, 9, 11],
 -2*V**4*f/(9*J**5) : [2, 3, 5, 7, 8, 9, 10, 11, 12],
 I*V**3*f**2/J**5 : [2, 3, 9, 10, 11, 12, 13],
 -V**2*f*(9*J**2 + 16*V**2 + 5*f**2)/(9*J**5) : [2, 3, 8, 9, 11],
 -I*V**3*f**2/(3*J**5) : [4, 5, 9, 11, 12, 13, 14],
 -2*I*V**3*f/(9*J**4) : [2, 3, 4, 7, 10, 11, 13],
 7*V**4*f/(9*J**5) : [2, 3, 6, 7, 9, 10, 14, 15, 17],
 -28*I*V**3*f**2/(135*J**5) : [3, 4, 7, 9, 10, 11, 12],
 V**4*f/J**5 : [2, 3, 6, 7, 10, 11, 14, 15, 19],
 -7*V**2*f*(2*V**2 + 3*f**2)/(27*J**5) : [5, 6, 7, 9, 10],
 I*V**3*f**2/J**5 : [1, 2, 6, 7, 11, 12, 13],
 -2*I*V**3*f**2/J**5 : [2, 3, 5, 6, 7, 8, 9],
 V**4*f/J**5 : [1, 2, 3, 4, 8, 9, 12, 13, 15],
 I*V**3*f**2/J**5 : [1, 2, 3, 4, 8, 9, 13],
 V**4*f/(3*J**5) : [2, 3, 6, 7, 10, 11, 12, 14, 16],
 I*V**3*f/(3*J**4) : [3, 8, 9],
 -82*I*V**3*f**2/(135*J**5) : [2, 4, 6, 7, 9, 10, 12],
 14*I*V**3*f**2/(9*J**5) : [2, 3, 7, 8, 12, 13, 15],
 -14*V**4*f/(27*J**5) : [2, 4, 6, 7, 10, 11, 14, 15, 16],
 -128*I*V**3*f**2/(135*J**5) : [2, 3, 5, 7, 8, 10, 13],
 V**4*f/J**5 : [2, 3, 6, 7, 10, 11, 15, 16, 17],
 I*V*f**3/(3*J**4) : [1, 4, 7],
 V**2*f**2/(3*J**4) : [1, 2, 4, 7, 9],
 I*V**3*f**2/(3*J**5) : [2, 3, 6, 7, 11, 13, 14],
 -I*V**3*f/(3*J**4) : [2, 3, 7, 9, 10, 11, 12],
 V**4*f/J**5 : [1, 2, 6, 7, 10, 11, 14, 15, 17],
 I*V**3*f/(3*J**4) : [1, 2, 4, 5, 6, 7, 9],
 f/J - V**2*f**3/J**5 : [3],
 -2*V**4*f/(9*J**5) : [2, 4, 5, 7, 8, 9, 12, 13, 15],
 -5*I*V**3*f**2/(9*J**5) : [2, 3, 4, 6, 8, 9, 10],
 V**4*f/(3*J**5) : [3, 4, 5, 10, 11],
 V**4*f/(3*J**5) : [2, 3, 7, 12, 13],
 -V**2*f**3/(27*J**5) : [3, 5, 8, 9, 12],
 -I*V**3*f**2/(3*J**5) : [2, 3, 8, 9, 10, 11, 13],
 V**2*f*(-4*V**2 + 3*f**2)/(27*J**5) : [5, 7, 10, 11, 12],
 4*I*V**3*f/(9*J**4) : [2, 3, 5, 7, 10, 11, 12],
 -7*V**2*f**2/(9*J**4) : [3, 4, 5, 7, 8],
 I*V**3*f**2/(9*J**5) : [2, 3, 6, 8, 12, 13, 14],
 V**2*f**3/(27*J**5) : [2, 4, 8, 9, 12],
 I*V**3*f**2/J**5 : [2, 3, 6, 7, 10, 11, 17],
 -I*V*f**2*(V**2 + f**2)/J**5 : [1, 2, 11],
 V**2*f*(4*V**2 + 9*f**2)/(9*J**5) : [1, 2, 3, 7, 8],
 V**2*f*(5*V**2 + 6*f**2)/(9*J**5) : [2, 3, 8, 11, 13],
 20*I*V**3*f**2/(27*J**5) : [3, 4, 7, 8, 9, 10, 11],
 -14*I*V**3*f**2/(27*J**5) : [2, 5, 8, 9, 12, 13, 15],
 I*V*f*(2*V**2 + f**2)/(9*J**4) : [3, 5, 8],
 V**2*f**3/(27*J**5) : [2, 4, 8, 10, 11],
 I*V**3*f**2/(3*J**5) : [5, 10, 11],
 20*I*V**3*f**2/(27*J**5) : [3, 4, 6, 7, 12, 13, 15],
 14*V**2*f**3/(27*J**5) : [2, 5, 8, 9, 13],
 -4*I*V**3*f**2/(9*J**5) : [4, 6, 8, 9, 12, 13, 14],
 V**2*f*(-82*V**2 + 129*f**2)/(135*J**5) : [2, 4, 7, 9, 11],
 I*V**3*f/J**4 : [4, 5, 8, 9, 12, 13, 15],
 -4*V**4*f/(9*J**5) : [2, 4, 5, 6, 8, 9, 12, 13, 14],
 -4*I*V**3*f**2/(9*J**5) : [2, 3, 5, 6, 8, 9, 11],
 4*V**4*f/(9*J**5) : [2, 3, 6, 7, 9, 10, 11, 13, 14],
 -V**2*f**3/J**5 : [2, 3, 8, 9, 15],
 13*V**4*f/(27*J**5) : [2, 3, 4, 6, 7, 8, 12, 13, 14],
 -17*I*V**3*f**2/(27*J**5) : [2, 9, 11],
 -2*I*V**3*f**2/(3*J**5) : [4, 5, 8, 10, 12, 13, 14],
 -V**2*f*(V**2 + f**2)/J**5 : [2, 3, 6, 7, 15],
 13*I*V**3*f**2/(27*J**5) : [2, 3, 4, 6, 10, 11, 14],
 -V**2*f**2/(3*J**4) : [1, 2, 4, 6, 8],
 -2*I*V**3*f**2/(9*J**5) : [2, 3, 6, 9, 10, 11, 15],
 4*I*V**3*f**2/(45*J**5) : [2, 3, 5, 7, 8, 11, 12],
 -40*V**2*f**3/(27*J**5) : [3, 4, 8, 9, 13],
 I*V*f*(5*V**2 + 6*f**2)/(9*J**4) : [4, 7, 9],
 V**2*f**2/(3*J**4) : [4, 5, 6, 7, 9],
 -4*I*V**3*f**2/(9*J**5) : [3, 4, 6, 7, 8, 9, 11],
 V**2*f**2/J**4 : [1, 4, 5, 6, 7],
 -14*I*V**3*f**2/(27*J**5) : [2, 4, 6, 7, 10, 12, 13],
 -2*V**2*f**3/(9*J**5) : [1, 4, 5, 6, 9],
 -I*V*f**2*(8*V**2 + f**2)/(9*J**5) : [1, 5, 8],
 -7*I*V**3*f**2/(9*J**5) : [2, 3, 6, 8, 9, 10, 12],
 2*I*V**3*f**2/(3*J**5) : [2, 3, 9, 10, 12, 13, 15],
 2*V**2*f**3/(3*J**5) : [2, 3, 4, 5, 7],
 -V**2*f**2/J**4 : [2, 3, 8, 9, 13],
 5*V**2*f**3/(9*J**5) : [1, 4, 8, 9, 11],
 2*I*V**3*f**2/(3*J**5) : [1, 2, 7, 8, 10, 11, 13],
 -V**4*f/(9*J**5) : [2, 3, 4, 11, 13],
 I*V*f**2*(3*J**2 + 4*V**2 + 3*f**2)/(3*J**5) : [1, 2, 3],
 V**2*f**2/(3*J**4) : [4, 7, 8, 9, 11],
 -8*I*V**3*f**2/(9*J**5) : [4, 5, 6, 7, 10, 11, 13],
 -14*I*V**3*f**2/(27*J**5) : [2, 4, 6, 7, 12, 13, 14],
 V**2*f*(4*V**2 - f**2)/(9*J**5) : [1, 3, 4, 5, 8],
 14*V**4*f/(27*J**5) : [2, 3, 5, 7, 10, 11, 14, 15, 16],
 I*V**3*f**2/J**5 : [4, 5, 8, 9, 13, 14, 15],
 I*V**3*f**2/J**5 : [2, 3, 10, 11, 14, 15, 17],
 -I*V*f**2*(9*J**2 + 11*V**2 + 2*f**2)/(9*J**5) : [2, 3, 9],
 -2*I*V**3*f**2/(9*J**5) : [4, 5, 6, 8, 9, 11, 13],
 2*V**2*f*(-V**2 + 4*f**2)/(9*J**5) : [1, 2, 4, 5, 9],
 I*V*f**2*(-3*J**2 - 2*V**2 + f**2)/(3*J**5) : [1, 2, 7],
 -2*I*V**3*f**2/(9*J**5) : [1, 6, 11],
 -2*I*V**3*f**2/(15*J**5) : [2, 3, 4, 7, 9, 10, 13],
 4*V**2*f**3/(3*J**5) : [1, 3, 4, 6, 7],
 I*V*f**3/J**4 : [1, 3, 4],
 -28*I*V**3*f**2/(135*J**5) : [2, 3, 5, 6, 8, 11, 13],
 17*I*V**3*f**2/(135*J**5) : [2, 3, 4, 7, 8, 11, 13],
 V**2*f**2/(3*J**4) : [2, 3, 4, 5, 9],
 -17*I*V**3*f**2/(135*J**5) : [2, 3, 4, 7, 8, 10, 12],
 -112*I*V**3*f**2/(135*J**5) : [2, 3, 4, 6, 8, 10, 13],
 -2*V**2*f**2/(3*J**4) : [4, 5, 7, 9, 10],
 -7*I*V**3*f**2/(27*J**5) : [2, 3, 4, 7, 11, 12, 13],
 34*V**4*f/(27*J**5) : [2, 3, 5, 6, 7, 8, 9, 10, 13],
 V**2*f*(83*V**2 + 54*f**2)/(135*J**5) : [2, 5, 7, 8, 11],
 -I*V**3*f**2/(9*J**5) : [3, 5, 6, 7, 8, 9, 10],
 -128*I*V**3*f**2/(135*J**5) : [2, 4, 7, 9, 10, 11, 13],
 -V**2*f**3/J**5 : [6, 7, 12, 13, 15],
 20*I*V**3*f**2/(27*J**5) : [2, 3, 5, 6, 7, 8, 13],
 2*V**2*f**3/(9*J**5) : [1, 2, 4, 7, 11],
 -I*V*f*(4*V**2 + 3*f**2)/(9*J**4) : [5, 7, 8],
 13*I*V**3*f**2/(27*J**5) : [2, 3, 4, 6, 7, 8, 12],
 I*V**3*f**2/J**5 : [2, 3, 8, 9, 12, 13, 17],
 V**2*f*(8*V**2 + 17*f**2)/(9*J**5) : [4, 5, 7, 8, 9],
 20*I*V**3*f**2/(27*J**5) : [2, 3, 5, 6, 11, 12, 13],
 -83*I*V**3*f**2/(135*J**5) : [3, 5, 6, 8, 10, 11, 13],
 V**2*f**2/(9*J**4) : [3, 5, 8, 9, 10],
 -11*I*V**3*f**2/(27*J**5) : [2, 3, 4, 8, 10, 11, 12],
 I*V*f**2*(-9*J**2 + 5*V**2)/(9*J**5) : [5, 6, 7],
 -I*V**3*f/(3*J**4) : [1, 6, 9],
 -V**2*f**3/(3*J**5) : [6, 7, 8, 10, 12],
 2*V**2*f*(4*V**2 + 3*f**2)/(9*J**5) : [3, 6, 7, 8, 9],
 4*I*V**3*f**2/(3*J**5) : [2, 3, 6, 7, 11, 12, 15],
 10*I*V**3*f**2/(27*J**5) : [3, 9, 10],
 -5*V**2*f**3/(9*J**5) : [4, 5, 6, 8, 12],
 -I*V**3*f**2/(3*J**5) : [2, 3, 8, 11, 12, 13, 15],
 4*V**4*f/(9*J**5) : [1, 6, 7, 9, 10],
 2*I*V**3*f**2/(15*J**5) : [2, 3, 4, 6, 8, 11, 12],
 I*V**3*f/J**4 : [3, 4, 5, 6, 7, 8, 9],
 -14*I*V**3*f**2/(27*J**5) : [2, 4, 6, 7, 10, 11, 14],
 -I*V*f**2*(2*V**2 + f**2)/J**5 : [2, 3, 13],
 4*V**2*f**2/(9*J**4) : [2, 5, 8, 9, 11],
 2*I*V*f**3/(3*J**4) : [3, 6, 7],
 I*V**3*f**2/(3*J**5) : [1, 2, 6, 7, 8, 10, 12],
 28*I*V**3*f**2/(135*J**5) : [3, 4, 6, 7, 8, 10, 12],
 2*V**2*f*(-14*V**2 + 3*f**2)/(135*J**5) : [3, 4, 6, 8, 10],
 I*V**3*f**2/J**5 : [1, 2, 3, 5, 6, 7, 8],
 10*V**4*f/(27*J**5) : [2, 3, 4, 5, 6, 8, 10, 11, 12],
 -V**2*f**2/J**4 : [2, 3, 10, 11, 13],
 I*V**3*f**2/J**5 : [6, 7, 10, 11, 14, 15, 17],
 -V**2*f**3/J**5 : [6, 7, 11, 12, 13],
 -28*I*V**3*f**2/(135*J**5) : [3, 4, 6, 9, 10, 11, 13],
 V**2*f*(4*V**2 - f**2)/(9*J**5) : [2, 3, 6, 8, 12],
 -83*I*V**3*f**2/(135*J**5) : [3, 5, 7, 8, 10, 11, 12],
 -I*V*f**3/J**4 : [7, 8, 9],
 V**2*f**2/J**4 : [2, 3, 5, 6, 7],
 -I*V**3*f**2/J**5 : [2, 3, 6, 7, 9, 10, 11],
 11*V**2*f**3/(9*J**5) : [4, 5, 6, 7, 11],
 I*V**3*f**2/(9*J**5) : [1, 3, 4, 5, 8, 9, 10],
 V**2*f*(5*V**2 + 4*f**2)/(9*J**5) : [2, 3, 6, 9, 13],
 7*V**4*f/(9*J**5) : [3, 4, 5, 6, 8, 9, 12, 13, 15],
 V**2*f**2/(3*J**4) : [2, 3, 5, 8, 9],
 -5*V**2*f**3/(9*J**5) : [1, 2, 4, 6, 10],
 2*V**2*f**3/(9*J**5) : [4, 7, 9, 10, 11],
 -4*I*V**3*f/(9*J**4) : [2, 4, 6, 7, 10, 11, 12],
 7*I*V**3*f**2/(9*J**5) : [3, 4, 5, 6, 8, 9, 13],
 -7*V**2*f**2/(9*J**4) : [3, 4, 7, 8, 9],
 7*I*V**3*f**2/(9*J**5) : [3, 4, 5, 6, 9, 10, 11],
 20*V**4*f/(27*J**5) : [3, 4, 6, 7, 10, 11, 14, 15, 17],
 -I*V*f*(3*J**2 + f**2)/(3*J**4) : [4, 5, 7],
 -I*V*f**2*(5*V**2 + 3*f**2)/(27*J**5) : [4, 6, 10],
 -2*V**4*f/(3*J**5) : [1, 3, 4, 8, 9],
 -V**2*f**3/J**5 : [2, 3, 11, 12, 13],
 -2*V**4*f/(9*J**5) : [2, 3, 6, 9, 10, 11, 14, 15, 17],
 5*I*V**3*f/(9*J**4) : [2, 3, 4, 6, 10, 11, 12],
 -I*V**3*f**2/J**5 : [1, 2, 3, 6, 7, 8, 9],
 I*V**3*f**2/(3*J**5) : [1, 2, 3, 4, 6, 8, 10],
 -V**2*f**3/J**5 : [4, 5, 11, 12, 13],
 I*V**3*f**2/J**5 : [4, 5, 8, 9, 12, 13, 17],
 V**4*f/J**5 : [2, 3, 6, 7, 12, 13, 16, 17, 19],
 -7*I*V**3*f**2/(27*J**5) : [2, 5, 7, 8, 9, 10, 11],
 13*I*V**3*f**2/(27*J**5) : [2, 3, 4, 6, 10, 12, 13],
 -V**2*f**2/J**4 : [1, 2, 8, 9, 11],
 I*V**3*f**2/(3*J**5) : [1, 4, 5, 7, 8, 9, 10],
 -4*V**4*f/(9*J**5) : [2, 4, 5, 6, 7, 8, 10, 11, 12],
 4*I*V**3*f/(9*J**4) : [2, 3, 5, 6, 7, 9, 10],
 -I*V*f**3/J**4 : [4, 5, 11]]

In [49]:
x = sympify('D48')

In [51]:
x == iofvars[47]
False

In [17]:



In [3]:
save_group(H,'test_H')

In [4]:
H1 = load_group('test_H')

In [5]:
H1
[I*f : [1, 2],
 I*f : [3, 4],
 I*f : [5, 6],
 I*f : [7, 8],
 I*f : [9, 10],
 I*f : [11, 12],
 I*f : [13, 14],
 I*f : [15, 16],
 I*f : [17, 18],
 I*f : [19, 20],
 I*f : [21, 22],
 I*f : [23, 24],
 I*f : [25, 26],
 I*f : [27, 28],
 I*f : [29, 30],
 I*f : [31, 32],
 I*f : [33, 34],
 I*f : [35, 36],
 I*f : [37, 38],
 I*f : [39, 40],
 V : [1, 2, 3, 4],
 V : [3, 4, 5, 6],
 V : [5, 6, 7, 8],
 V : [7, 8, 9, 10],
 V : [9, 10, 11, 12],
 V : [11, 12, 13, 14],
 V : [13, 14, 15, 16],
 V : [15, 16, 17, 18],
 V : [17, 18, 19, 20],
 V : [19, 20, 21, 22],
 V : [21, 22, 23, 24],
 V : [23, 24, 25, 26],
 V : [25, 26, 27, 28],
 V : [27, 28, 29, 30],
 V : [29, 30, 31, 32],
 V : [31, 32, 33, 34],
 V : [33, 34, 35, 36],
 V : [35, 36, 37, 38],
 I*J : [2, 3],
 I*J : [4, 5],
 I*J : [6, 7],
 I*J : [8, 9],
 I*J : [10, 11],
 I*J : [12, 13],
 I*J : [14, 15],
 I*J : [16, 17],
 I*J : [18, 19],
 I*J : [20, 21],
 I*J : [22, 23],
 I*J : [24, 25],
 I*J : [26, 27],
 I*J : [28, 29],
 I*J : [30, 31],
 I*J : [32, 33],
 I*J : [34, 35],
 I*J : [36, 37],
 I*J : [38, 39]]

In [12]:
H
[I*f : [1, 2],
 I*f : [3, 4],
 I*f : [5, 6],
 I*f : [7, 8],
 I*f : [9, 10],
 I*f : [11, 12],
 I*f : [13, 14],
 I*f : [15, 16],
 I*f : [17, 18],
 I*f : [19, 20],
 I*f : [21, 22],
 I*f : [23, 24],
 I*f : [25, 26],
 I*f : [27, 28],
 I*f : [29, 30],
 I*f : [31, 32],
 I*f : [33, 34],
 I*f : [35, 36],
 I*f : [37, 38],
 I*f : [39, 40],
 V : [1, 2, 3, 4],
 V : [3, 4, 5, 6],
 V : [5, 6, 7, 8],
 V : [7, 8, 9, 10],
 V : [9, 10, 11, 12],
 V : [11, 12, 13, 14],
 V : [13, 14, 15, 16],
 V : [15, 16, 17, 18],
 V : [17, 18, 19, 20],
 V : [19, 20, 21, 22],
 V : [21, 22, 23, 24],
 V : [23, 24, 25, 26],
 V : [25, 26, 27, 28],
 V : [27, 28, 29, 30],
 V : [29, 30, 31, 32],
 V : [31, 32, 33, 34],
 V : [33, 34, 35, 36],
 V : [35, 36, 37, 38],
 I*J : [2, 3],
 I*J : [4, 5],
 I*J : [6, 7],
 I*J : [8, 9],
 I*J : [10, 11],
 I*J : [12, 13],
 I*J : [14, 15],
 I*J : [16, 17],
 I*J : [18, 19],
 I*J : [20, 21],
 I*J : [22, 23],
 I*J : [24, 25],
 I*J : [26, 27],
 I*J : [28, 29],
 I*J : [30, 31],
 I*J : [32, 33],
 I*J : [34, 35],
 I*J : [36, 37],
 I*J : [38, 39]]

In [40]:
def square_to_find_identity(group):
    return simplify_group([a*a for a in group])

In [59]:
prop = square_to_find_identity(psisub)[0].scalar

In [65]:
print(sympy.latex(prop))
1 + \frac{V^{2}}{J^{2}} + \frac{f^{2}}{J^{2}} + \frac{V^{4}}{J^{4}} + \frac{4 V^{2}}{J^{4}} f^{2} + \frac{f^{4}}{J^{4}} + \frac{V^{6}}{J^{6}} + \frac{140 V^{4} f^{2}}{9 J^{6}} + \frac{55 V^{2} f^{4}}{9 J^{6}} + \frac{f^{6}}{J^{6}} + \frac{V^{8}}{J^{8}} + \frac{1352 V^{6} f^{2}}{27 J^{8}} + \frac{2141 V^{4} f^{4}}{27 J^{8}} + \frac{503 V^{2} f^{6}}{27 J^{8}} + \frac{f^{8}}{J^{8}} + \frac{V^{10}}{J^{10}} + \frac{1249879 V^{8} f^{2}}{18225 J^{10}} + \frac{3827636 V^{6} f^{4}}{18225 J^{10}} + \frac{957412 V^{4} f^{6}}{6075 J^{10}} + \frac{6017 V^{2} f^{8}}{243 J^{10}} + \frac{f^{10}}{J^{10}}


In [66]:
texify_group(psisub)
'$$1 a_1 + \\frac{i V}{J^{5}} \\left(- J^{4} + f^{4}\\right) b_1 a_2 a_3 + \\left (\\frac{f}{J} - \\frac{V^{2} f^{3}}{J^{5}}\\right ) a_2 - \\frac{i V f}{3 J^{4}} \\left(3 J^{2} + 2 V^{2} + f^{2}\\right) b_1 a_2 a_4 + \\frac{i V f}{3 J^{4}} \\left(- 3 J^{2} - 2 V^{2} + 2 f^{2}\\right) a_2 b_2 a_3 - \\frac{i V}{J^{2}} f a_1 b_1 a_3 - \\frac{V^{2}}{J^{4}} \\left(J^{2} + \\frac{4 f^{2}}{3}\\right) b_1 a_2 b_3 a_4 a_5 + \\frac{f^{2}}{J^{4}} \\left(J^{2} - \\frac{2 V^{2}}{3}\\right) a_3 - \\frac{i V f}{3 J^{4}} \\left(3 J^{2} + f^{2}\\right) b_2 a_3 a_4 + \\frac{V^{2} f}{3 J^{5}} \\left(- 3 J^{2} + f^{2}\\right) a_1 b_1 a_2 b_2 a_4 + \\frac{2 i V f^{2}}{27 J^{5}} \\left(9 J^{2} + 8 V^{2} - 2 f^{2}\\right) b_1 a_3 a_4 + \\frac{i V^{3}}{J^{5}} \\left(J^{2} + \\frac{32 f^{2}}{9}\\right) b_1 a_2 b_3 a_4 b_5 a_6 a_7 - \\frac{V^{2} f}{J^{5}} \\left(J^{2} + f^{2}\\right) a_1 b_1 b_3 a_4 a_5 + \\frac{V^{2} f}{9 J^{5}} \\left(- 9 J^{2} - 16 V^{2} + 9 f^{2}\\right) a_2 b_2 a_3 b_3 a_4 - \\frac{i V f^{2}}{9 J^{5}} \\left(9 J^{2} + 5 V^{2} + 3 f^{2}\\right) b_3 a_4 a_5 + \\frac{i V f^{2}}{27 J^{5}} \\left(- 9 J^{2} + 16 V^{2} + 11 f^{2}\\right) a_2 a_3 b_3 - \\frac{V^{2} f}{27 J^{5}} \\left(18 J^{2} + 15 V^{2} + 2 f^{2}\\right) b_1 a_2 a_3 b_3 a_5 + \\frac{i V f^{2}}{3 J^{5}} \\left(3 J^{2} + 5 V^{2} + f^{2}\\right) a_1 b_2 a_3 + \\frac{2 V^{2} f}{27 J^{5}} \\left(9 J^{2} + 14 V^{2} + 30 f^{2}\\right) b_1 b_2 b_3 a_4 b_4 - \\frac{V^{2} f}{9 J^{5}} \\left(9 J^{2} + 6 V^{2} + 16 f^{2}\\right) b_1 a_2 a_4 b_4 a_5 + \\frac{2 V^{2} f}{27 J^{5}} \\left(- 9 J^{2} - 8 V^{2} + 3 f^{2}\\right) a_2 b_2 b_3 a_4 a_5 - \\frac{2 V^{2} f}{27 J^{5}} \\left(9 J^{2} + 21 V^{2} + 19 f^{2}\\right) b_1 a_2 a_3 a_4 b_4 - \\frac{V^{2} f}{9 J^{5}} \\left(9 J^{2} + 14 f^{2}\\right) b_2 a_3 b_4 a_5 a_6 - \\frac{i V f^{2}}{9 J^{5}} \\left(9 J^{2} + 2 V^{2} + 5 f^{2}\\right) b_2 a_3 a_5 + \\frac{V^{2} f}{27 J^{5}} \\left(9 J^{2} + 45 V^{2} - 2 f^{2}\\right) b_1 a_2 b_2 a_4 a_5 - \\frac{V^{2} f}{27 J^{5}} \\left(9 J^{2} + 15 V^{2} + 40 f^{2}\\right) b_1 a_2 b_2 b_3 b_4 - \\frac{V^{2} f}{9 J^{5}} \\left(9 J^{2} + 6 V^{2} + 23 f^{2}\\right) b_1 a_2 b_3 a_4 a_6 + \\frac{V^{2} f}{27 J^{5}} \\left(9 J^{2} + 14 V^{2} + 42 f^{2}\\right) a_2 a_3 b_3 a_4 b_4 + \\frac{f}{9 J^{5}} \\left(9 J^{2} \\left(V^{2} + f^{2}\\right) + V^{2} \\left(10 V^{2} - 9 f^{2}\\right)\\right) a_4 + \\frac{V^{2} f}{27 J^{5}} \\left(9 J^{2} + 32 V^{2} + 9 f^{2}\\right) b_1 a_3 b_3 a_4 a_5 + \\frac{i V f^{2}}{27 J^{5}} \\left(- 36 J^{2} - 14 V^{2} + 5 f^{2}\\right) a_2 b_2 a_4 + \\frac{i V f^{2}}{27 J^{5}} \\left(9 J^{2} + 23 V^{2} - 2 f^{2}\\right) b_1 b_2 b_3 - \\frac{V^{2} f}{9 J^{5}} \\left(9 J^{2} + 16 V^{2} + 5 f^{2}\\right) b_1 a_2 b_4 a_5 a_6 + \\frac{i V f^{2}}{3 J^{5}} \\left(3 J^{2} + 4 V^{2} + 3 f^{2}\\right) a_1 b_1 a_2 - \\frac{i V f^{2}}{9 J^{5}} \\left(9 J^{2} + 11 V^{2} + 2 f^{2}\\right) b_1 a_2 a_5 + \\frac{i V f^{2}}{3 J^{5}} \\left(- 3 J^{2} - 2 V^{2} + f^{2}\\right) a_1 b_1 a_4 + \\frac{i V f^{2}}{9 J^{5}} \\left(- 9 J^{2} + 5 V^{2}\\right) a_3 b_3 a_4 + \\frac{2 V^{2} f^{2}}{9 J^{4}} b_1 a_3 a_4 b_4 a_5 - \\frac{V^{2} f^{2}}{9 J^{4}} b_1 b_2 a_3 a_4 a_5 - \\frac{2 V^{2} f^{2}}{3 J^{4}} a_3 b_3 b_4 a_5 a_6 + \\frac{2 i V^{3} f}{3 J^{4}} a_2 b_2 a_3 b_3 b_4 a_5 a_6 + \\frac{7 i V^{3} f}{9 J^{4}} a_2 b_2 b_3 a_4 b_5 a_6 a_7 - \\frac{V^{2} f^{2}}{J^{4}} b_2 a_3 b_4 a_5 a_7 - \\frac{i V^{3} f}{3 J^{4}} b_1 a_2 b_3 a_5 b_5 a_6 a_7 + \\frac{i f}{J^{4}} V^{3} a_1 b_1 a_2 b_2 b_4 a_5 a_6 - \\frac{V^{2} f^{2}}{3 J^{4}} b_2 a_3 b_3 b_4 b_5 - \\frac{14 V^{2} f^{2}}{9 J^{4}} a_2 b_2 b_4 a_5 a_6 + \\frac{V^{4}}{J^{4}} b_1 a_2 b_3 a_4 b_5 a_6 b_7 a_8 a_9 + \\frac{2 V^{2} f^{2}}{3 J^{4}} b_2 b_3 b_4 a_5 b_5 - \\frac{7 V^{2} f^{2}}{9 J^{4}} b_1 a_2 a_3 b_3 a_6 + \\frac{i f}{J^{4}} V^{3} b_1 a_2 b_3 a_4 b_6 a_7 a_8 + \\frac{i V f}{9 J^{4}} \\left(4 V^{2} - f^{2}\\right) b_1 b_2 b_4 - \\frac{5 i V^{3} f}{9 J^{4}} a_2 a_3 b_3 a_4 b_5 a_6 b_6 + \\frac{V^{2} f^{2}}{3 J^{4}} b_2 a_3 b_3 a_5 a_6 + \\frac{i V f}{9 J^{4}} \\left(5 V^{2} + 4 f^{2}\\right) b_1 a_3 a_5 + \\frac{5 i V^{3} f}{9 J^{4}} b_1 a_2 b_2 b_3 a_4 b_4 b_5 + \\frac{i V f^{3}}{3 J^{4}} a_1 a_3 b_3 + \\frac{5 V^{2} f^{2}}{9 J^{4}} a_2 a_3 b_3 b_4 a_5 + \\frac{7 i V^{3} f}{9 J^{4}} b_1 a_2 a_3 b_3 a_4 b_4 a_6 - \\frac{V^{2} f^{2}}{J^{4}} b_3 a_4 b_5 a_6 a_7 - \\frac{2 i V^{3} f}{9 J^{4}} b_1 a_3 b_3 a_4 b_5 a_6 a_7 + \\frac{V^{2} f^{2}}{J^{4}} a_1 b_1 a_2 b_2 a_3 - \\frac{7 i V f}{9 J^{4}} \\left(V^{2} + 2 f^{2}\\right) a_2 b_2 a_5 + \\frac{7 V^{2} f^{2}}{9 J^{4}} b_1 b_2 a_3 b_3 b_4 - \\frac{V^{2} f^{2}}{9 J^{4}} b_1 b_2 b_4 a_5 b_5 - \\frac{4 V^{2} f^{2}}{3 J^{4}} b_1 a_2 a_4 b_4 a_6 + \\frac{2 i V^{3} f}{3 J^{4}} b_1 a_2 b_3 a_4 a_5 b_5 a_7 - \\frac{V^{2} f^{2}}{J^{4}} b_2 a_3 a_5 b_5 a_6 - \\frac{2 i V^{3} f}{9 J^{4}} b_1 a_2 b_2 b_3 a_4 a_5 a_6 - \\frac{i V}{J^{4}} f^{3} a_1 b_1 a_5 - \\frac{2 i V^{3} f}{3 J^{4}} a_1 a_2 b_2 a_3 b_3 a_4 b_4 + \\frac{V^{2} f^{2}}{3 J^{4}} a_1 b_1 b_2 a_3 a_4 - \\frac{4 V^{2} f^{2}}{9 J^{4}} b_1 a_2 a_3 a_4 b_5 - \\frac{i V^{3} f}{3 J^{4}} b_1 a_2 b_3 a_4 b_4 a_6 a_7 - \\frac{2 i V^{3} f}{3 J^{4}} b_1 a_2 b_3 b_4 b_5 a_6 b_6 - \\frac{V^{2} f^{2}}{J^{4}} a_3 b_3 a_4 b_4 a_5 - \\frac{i V^{3} f}{3 J^{4}} b_1 b_2 a_3 a_4 b_4 a_5 a_6 - \\frac{i V^{3} f}{3 J^{4}} b_1 a_2 b_2 a_3 a_4 b_4 a_5 + \\frac{2 V^{2} f^{2}}{9 J^{4}} b_1 a_2 b_2 a_4 a_6 + \\frac{i f}{J^{4}} V^{3} b_1 a_2 b_3 a_4 b_5 a_6 a_8 - \\frac{i V}{J^{4}} f \\left(V^{2} + f^{2}\\right) b_1 a_2 a_6 - \\frac{V^{2} f^{2}}{J^{4}} a_1 b_1 a_4 b_4 a_5 + \\frac{i V f}{9 J^{4}} \\left(- 2 V^{2} + 3 f^{2}\\right) b_2 b_3 b_4 + \\frac{i f}{J^{4}} V^{3} a_1 b_1 b_3 a_4 b_5 a_6 a_7 + \\frac{5 V^{2} f^{2}}{9 J^{4}} a_2 a_3 b_3 a_4 b_5 + \\frac{2 V^{2} f^{2}}{9 J^{4}} b_1 a_3 b_3 a_4 a_6 - \\frac{V^{2} f^{2}}{3 J^{4}} a_1 a_3 b_3 a_4 b_4 + \\frac{i f}{J^{4}} V^{3} a_1 b_1 a_2 b_2 a_3 b_3 a_5 + \\frac{2 V^{2} f^{2}}{3 J^{4}} a_1 b_2 b_3 a_4 a_5 + \\frac{2 V^{2} f^{2}}{3 J^{4}} b_1 a_2 b_3 a_5 a_6 - \\frac{V^{2} f^{2}}{J^{4}} a_1 b_1 a_2 b_2 a_5 + \\frac{2 i V^{3} f}{3 J^{4}} a_1 a_4 b_4 - \\frac{V^{2} f^{2}}{J^{4}} a_1 b_1 b_3 a_4 a_6 - \\frac{2 V^{2} f^{2}}{3 J^{4}} a_1 b_1 a_3 b_3 a_5 - \\frac{2 i V^{3} f}{3 J^{4}} b_1 b_2 a_3 b_3 b_4 a_5 b_5 + \\frac{2 i V^{3} f}{3 J^{4}} b_1 a_2 a_4 b_4 b_5 a_6 a_7 + \\frac{V^{2} f^{2}}{3 J^{4}} b_1 a_2 b_3 b_4 b_5 - \\frac{V^{2} f^{2}}{J^{4}} b_2 a_3 b_5 a_6 a_7 + \\frac{i f}{J^{4}} V^{3} b_1 a_2 b_4 a_5 b_6 a_7 a_8 - \\frac{i V f}{9 J^{4}} \\left(7 V^{2} + 12 f^{2}\\right) a_3 b_3 a_5 - \\frac{5 V^{2} f^{2}}{9 J^{4}} b_1 a_2 b_2 b_3 b_5 + \\frac{V^{2} f^{2}}{3 J^{4}} a_1 a_2 b_2 a_3 b_3 + \\frac{2 i V^{3} f}{3 J^{4}} b_1 a_2 b_3 a_4 a_5 a_6 b_6 - \\frac{2 V^{2} f^{2}}{3 J^{4}} a_1 b_1 a_3 a_4 b_4 - \\frac{i V^{3} f}{3 J^{4}} a_2 b_2 a_3 a_4 b_4 a_5 b_5 - \\frac{7 V^{2} f^{2}}{9 J^{4}} a_2 b_2 b_3 a_4 a_6 - \\frac{7 V^{2} f^{2}}{9 J^{4}} a_2 b_2 a_3 b_3 a_5 + \\frac{V^{2} f^{2}}{J^{4}} a_1 b_1 a_2 b_3 a_4 + \\frac{7 i V^{3} f}{9 J^{4}} b_1 a_2 a_3 b_3 b_5 a_6 a_7 - \\frac{V^{2} f^{2}}{J^{4}} b_1 a_2 a_5 b_5 a_6 - \\frac{V^{2} f^{2}}{3 J^{4}} b_1 a_2 a_4 a_5 b_5 - \\frac{2 V^{2} f^{2}}{3 J^{4}} b_2 a_3 a_4 b_4 a_6 + \\frac{i f}{J^{4}} V^{3} b_1 a_2 a_4 b_4 a_5 b_5 a_6 + \\frac{f^{2}}{J^{4}} \\left(2 V^{2} + f^{2}\\right) a_5 + \\frac{i V^{3} f}{3 J^{4}} b_1 a_2 b_3 a_4 b_4 b_5 b_6 - \\frac{V^{2} f^{2}}{J^{4}} b_1 a_2 b_3 a_4 a_7 + \\frac{i f}{J^{4}} V^{3} b_1 a_2 b_3 a_4 a_6 b_6 a_7 + \\frac{4 V^{2} f^{2}}{9 J^{4}} b_1 b_2 b_3 b_4 a_5 + \\frac{4 V^{2} f^{2}}{9 J^{4}} b_1 b_2 b_3 a_4 b_5 + \\frac{V^{2} f^{2}}{3 J^{4}} a_3 a_4 b_4 a_5 b_5 - \\frac{i V}{J^{4}} f^{3} b_3 a_4 a_6 - \\frac{i V}{J^{4}} f \\left(V^{2} + f^{2}\\right) b_4 a_5 a_6 - \\frac{2 i V^{3} f}{9 J^{4}} b_1 a_2 b_2 a_4 b_5 a_6 a_7 + \\frac{i V^{3} f}{3 J^{4}} a_2 b_4 a_5 + \\frac{i V f^{3}}{3 J^{4}} a_1 b_2 a_4 + \\frac{V^{2} f^{2}}{3 J^{4}} a_1 b_1 b_2 a_4 a_5 - \\frac{i V^{3} f}{3 J^{4}} b_1 a_2 a_4 a_5 b_5 a_6 b_6 + \\frac{i V^{3} f}{3 J^{4}} a_1 b_1 b_2 a_3 b_3 a_4 a_5 + \\frac{4 i V^{3} f}{9 J^{4}} b_1 a_2 a_3 a_4 b_5 a_6 b_6 - \\frac{7 V^{2} f^{2}}{9 J^{4}} a_2 b_2 a_3 a_4 b_4 + \\frac{i V f}{9 J^{4}} \\left(2 V^{2} + f^{2}\\right) a_2 a_3 b_4 + \\frac{i f}{J^{4}} V^{3} b_2 a_3 b_4 a_5 b_6 a_7 a_8 - \\frac{V^{2} f^{2}}{3 J^{4}} a_1 b_1 b_2 b_3 b_4 + \\frac{i V f}{9 J^{4}} \\left(5 V^{2} + 6 f^{2}\\right) b_2 a_4 a_5 + \\frac{V^{2} f^{2}}{3 J^{4}} b_2 a_3 b_3 a_4 a_5 + \\frac{V^{2} f^{2}}{J^{4}} a_1 b_2 a_3 b_3 a_4 - \\frac{V^{2} f^{2}}{J^{4}} b_1 a_2 b_4 a_5 a_7 + \\frac{V^{2} f^{2}}{3 J^{4}} b_2 a_4 b_4 a_5 a_6 + \\frac{i V}{J^{4}} f^{3} a_1 a_2 b_2 + \\frac{V^{2} f^{2}}{3 J^{4}} b_1 a_2 b_2 a_3 a_5 - \\frac{2 V^{2} f^{2}}{3 J^{4}} b_2 a_3 a_4 a_5 b_5 - \\frac{i V f}{9 J^{4}} \\left(4 V^{2} + 3 f^{2}\\right) a_3 a_4 b_4 + \\frac{V^{2} f^{2}}{9 J^{4}} a_2 a_3 b_4 a_5 b_5 - \\frac{i V^{3} f}{3 J^{4}} a_1 b_3 a_5 + \\frac{i f}{J^{4}} V^{3} a_2 b_2 a_3 b_3 a_4 b_4 a_5 + \\frac{4 V^{2} f^{2}}{9 J^{4}} b_1 a_3 b_4 a_5 a_6 + \\frac{2 i V f^{3}}{3 J^{4}} a_2 b_3 a_4 - \\frac{V^{2} f^{2}}{J^{4}} b_1 a_2 b_5 a_6 a_7 - \\frac{i V}{J^{4}} f^{3} a_4 b_4 a_5 + \\frac{V^{2} f^{2}}{J^{4}} b_1 a_2 a_3 b_3 a_4 + \\frac{V^{2} f^{2}}{3 J^{4}} b_1 a_2 a_3 b_4 a_5 - \\frac{4 i V^{3} f}{9 J^{4}} b_1 b_2 b_3 a_4 b_5 a_6 b_6 - \\frac{7 V^{2} f^{2}}{9 J^{4}} a_2 b_2 a_4 b_4 a_5 + \\frac{5 i V^{3} f}{9 J^{4}} b_1 a_2 b_2 b_3 b_5 a_6 b_6 - \\frac{V^{2} f^{2}}{J^{4}} a_1 b_1 b_4 a_5 a_6 + \\frac{4 i V^{3} f}{9 J^{4}} b_1 a_2 a_3 b_3 a_4 a_5 b_5 - \\frac{i V}{J^{4}} f^{3} b_2 a_3 a_6 + \\frac{16 i V^{3} f^{2}}{27 J^{5}} a_2 b_4 a_6 + \\frac{2 i V^{3} f^{2}}{9 J^{5}} a_1 b_1 b_2 a_3 b_3 a_4 a_6 - \\frac{4 i V^{3} f^{2}}{9 J^{5}} b_1 a_2 b_3 a_5 b_6 a_7 a_8 + \\frac{V^{2} f^{3}}{3 J^{5}} a_1 a_2 b_3 a_4 b_4 + \\frac{V^{2} f^{3}}{3 J^{5}} b_2 a_3 a_4 b_5 a_6 + \\frac{i V^{3}}{J^{5}} f^{2} a_1 b_1 b_3 a_4 b_6 a_7 a_8 + \\frac{7 V^{2} f^{3}}{9 J^{5}} a_1 b_2 a_3 a_4 b_4 + \\frac{2 i V f^{2}}{27 J^{5}} \\left(12 V^{2} + 7 f^{2}\\right) b_1 a_3 a_6 + \\frac{4 V^{4} f}{27 J^{5}} a_2 a_5 b_5 a_6 b_6 - \\frac{V^{2} f}{J^{5}} \\left(V^{2} + f^{2}\\right) b_1 a_2 b_6 a_7 a_8 + \\frac{i V^{3}}{J^{5}} f^{2} a_1 b_1 a_4 b_4 a_5 b_5 a_6 + \\frac{V^{2} f}{9 J^{5}} \\left(6 V^{2} + 7 f^{2}\\right) a_1 b_2 a_4 b_4 a_5 - \\frac{2 i V^{3} f^{2}}{3 J^{5}} a_1 b_2 a_3 b_3 b_4 a_5 a_6 - \\frac{V^{2} f^{3}}{J^{5}} b_2 a_3 b_6 a_7 a_8 + \\frac{V^{2} f^{3}}{J^{5}} a_1 b_1 a_3 b_3 a_4 - \\frac{5 V^{4} f}{9 J^{5}} b_1 b_2 a_3 b_3 a_4 a_5 b_5 a_6 a_7 - \\frac{28 i V^{3} f^{2}}{135 J^{5}} b_1 a_2 b_2 a_4 a_5 a_6 b_6 + \\frac{7 i V^{3} f^{2}}{9 J^{5}} b_1 a_2 a_4 b_4 a_6 b_6 a_7 + \\frac{i V^{3} f^{2}}{3 J^{5}} b_2 a_3 b_4 a_5 b_5 b_6 b_7 - \\frac{4 i V^{3} f^{2}}{9 J^{5}} a_1 a_2 b_2 a_3 b_3 a_4 b_5 + \\frac{20 i V^{3} f^{2}}{27 J^{5}} a_2 b_2 b_3 a_4 a_6 b_6 a_7 - \\frac{2 i V^{3} f^{2}}{9 J^{5}} b_1 a_2 a_3 b_4 a_5 b_5 a_6 - \\frac{V^{2} f^{3}}{J^{5}} a_1 b_1 a_2 b_2 a_6 - \\frac{2 V^{2} f^{3}}{3 J^{5}} b_3 a_4 a_5 b_5 a_7 + \\frac{83 i V^{3} f^{2}}{135 J^{5}} a_2 a_3 b_3 a_4 a_5 a_6 a_7 + \\frac{14 V^{4} f}{27 J^{5}} b_1 a_2 b_2 a_3 b_3 a_5 b_5 a_6 a_7 - \\frac{7 V^{2} f^{3}}{9 J^{5}} b_2 a_3 a_4 b_4 a_7 - \\frac{2 i V^{3} f^{2}}{9 J^{5}} b_1 a_2 b_3 a_4 b_4 a_6 a_8 + \\frac{i V f^{2}}{9 J^{5}} \\left(- 5 V^{2} + 3 f^{2}\\right) b_3 b_4 b_5 + \\frac{5 V^{4} f}{9 J^{5}} b_1 a_2 b_3 a_4 b_4 b_5 a_6 b_6 b_7 - \\frac{7 i V^{3} f^{2}}{27 J^{5}} b_1 a_3 b_3 a_4 a_6 b_6 a_7 - \\frac{19 i V^{3} f^{2}}{27 J^{5}} b_1 a_2 b_2 a_5 b_5 a_6 a_7 - \\frac{V^{2} f^{3}}{J^{5}} a_1 b_1 b_3 a_4 a_7 + \\frac{i V^{3} f^{2}}{9 J^{5}} b_1 b_2 b_3 a_4 b_4 a_5 b_5 - \\frac{2 i V^{3} f^{2}}{15 J^{5}} a_2 a_3 b_3 a_4 b_4 a_6 b_6 - \\frac{i V^{3} f^{2}}{27 J^{5}} b_1 b_2 b_4 a_5 b_6 a_7 b_7 - \\frac{7 i V^{3} f^{2}}{27 J^{5}} b_1 b_4 b_5 - \\frac{i V^{3} f^{2}}{3 J^{5}} a_1 b_1 a_2 b_2 b_3 a_5 a_6 - \\frac{7 V^{2} f}{9 J^{5}} \\left(V^{2} + 2 f^{2}\\right) b_1 a_2 a_4 b_4 a_7 - \\frac{4 i V^{3} f^{2}}{9 J^{5}} b_1 a_2 b_3 b_4 b_5 a_6 b_7 - \\frac{i V^{3} f^{2}}{3 J^{5}} b_2 a_3 b_4 a_6 b_6 a_7 a_8 - \\frac{2 V^{4} f}{3 J^{5}} b_1 a_2 b_3 b_4 a_5 b_5 b_6 a_7 b_7 - \\frac{i V}{J^{5}} f^{4} b_3 a_4 a_7 - \\frac{i V^{3} f^{2}}{3 J^{5}} b_1 a_2 b_4 a_5 b_5 a_7 a_8 + \\frac{7 V^{4} f}{9 J^{5}} a_2 b_2 a_3 b_3 a_4 b_4 b_5 a_6 a_7 - \\frac{V^{2} f^{3}}{9 J^{5}} a_1 a_3 b_4 a_5 b_5 + \\frac{i V^{3}}{J^{5}} f^{2} a_1 b_1 a_2 b_2 b_5 a_6 a_7 - \\frac{2 V^{4} f}{9 J^{5}} a_1 b_3 b_5 a_6 a_7 + \\frac{17 i V^{3} f^{2}}{27 J^{5}} a_2 b_2 a_3 b_3 a_4 b_4 a_6 - \\frac{V^{2} f^{3}}{27 J^{5}} a_2 a_3 b_4 b_5 a_6 - \\frac{i V f^{2}}{9 J^{5}} \\left(10 V^{2} + 3 f^{2}\\right) a_4 a_5 b_5 - \\frac{7 V^{2} f^{3}}{9 J^{5}} a_3 b_3 a_5 b_5 a_6 + \\frac{4 V^{2} f^{3}}{27 J^{5}} b_1 a_2 a_3 b_4 a_6 + \\frac{2 i V f^{2}}{27 J^{5}} \\left(9 V^{2} + f^{2}\\right) a_2 a_4 b_4 + \\frac{7 i V^{3} f^{2}}{9 J^{5}} b_1 a_2 a_4 b_4 a_5 a_6 b_6 - \\frac{4 V^{4} f}{9 J^{5}} b_1 a_2 b_3 b_4 b_5 a_6 b_7 a_8 b_8 + \\frac{14 V^{4} f}{27 J^{5}} b_1 a_2 a_3 b_3 a_4 a_5 b_6 a_7 b_7 + \\frac{5 i V^{3} f^{2}}{9 J^{5}} a_1 a_3 b_3 a_4 b_5 a_6 b_6 + \\frac{2 V^{2} f^{3}}{9 J^{5}} b_2 a_4 b_4 a_5 a_7 + \\frac{i V f^{2}}{3 J^{5}} \\left(3 V^{2} - f^{2}\\right) a_1 a_2 b_3 + \\frac{V^{2} f}{135 J^{5}} \\left(62 V^{2} + 81 f^{2}\\right) b_1 b_2 a_4 b_4 b_5 - \\frac{4 i V^{3} f^{2}}{9 J^{5}} a_1 a_2 b_2 a_3 b_3 b_4 a_5 + \\frac{V^{4} f}{J^{5}} b_2 a_3 b_4 a_5 b_6 a_7 b_8 a_9 a_10 + \\frac{4 V^{4} f}{27 J^{5}} b_1 a_2 a_3 b_3 a_4 b_4 a_5 a_6 b_6 + \\frac{17 i V^{3} f^{2}}{135 J^{5}} b_1 a_3 b_3 a_4 b_4 a_6 a_7 - \\frac{4 V^{2} f^{3}}{3 J^{5}} b_2 a_3 a_5 b_5 a_7 + \\frac{i V^{3}}{J^{5}} f^{2} b_2 a_3 b_4 a_5 b_7 a_8 a_9 - \\frac{5 i V^{3} f^{2}}{9 J^{5}} a_1 b_1 b_2 a_3 b_4 a_5 a_6 - \\frac{V^{4} f}{9 J^{5}} b_1 a_2 b_2 b_3 b_4 a_5 b_5 a_6 b_6 + \\frac{5 V^{2} f^{3}}{9 J^{5}} a_3 a_4 b_4 a_5 b_6 - \\frac{2 i V^{3} f^{2}}{9 J^{5}} b_1 b_2 a_3 a_4 b_4 a_5 a_7 - \\frac{V^{2} f}{9 J^{5}} \\left(4 V^{2} + 3 f^{2}\\right) b_1 a_2 a_5 a_6 b_6 + \\frac{20 i V^{3} f^{2}}{27 J^{5}} b_1 a_2 a_3 b_3 b_5 a_6 a_8 + \\frac{8 i V^{3} f^{2}}{15 J^{5}} b_1 a_2 a_3 b_3 a_5 b_5 a_7 + \\frac{2 i V^{3} f^{2}}{3 J^{5}} a_1 b_1 b_3 a_4 a_5 b_5 a_7 - \\frac{V^{2} f^{3}}{J^{5}} a_1 b_1 a_5 b_5 a_6 - \\frac{i V^{3} f^{2}}{3 J^{5}} b_1 a_2 a_5 a_6 b_6 a_7 b_7 + \\frac{V^{2} f}{9 J^{5}} \\left(2 V^{2} + f^{2}\\right) b_1 a_2 a_4 a_5 b_6 + \\frac{i V^{3}}{J^{5}} f^{2} a_1 b_1 a_2 b_2 a_5 b_5 a_6 - \\frac{V^{2} f^{3}}{3 J^{5}} b_2 a_3 a_5 a_6 b_6 - \\frac{i V^{3} f^{2}}{3 J^{5}} b_2 a_3 b_4 a_5 b_5 a_7 a_8 - \\frac{V^{2} f}{27 J^{5}} \\left(17 V^{2} + 3 f^{2}\\right) b_2 b_3 b_5 a_6 b_6 - \\frac{V^{2} f^{3}}{J^{5}} b_2 a_3 b_4 a_5 a_8 + \\frac{2 i V f^{2}}{9 J^{5}} \\left(4 V^{2} + 3 f^{2}\\right) b_3 a_5 a_6 + \\frac{13 V^{4} f}{27 J^{5}} b_1 a_2 b_2 b_3 b_5 a_6 b_7 a_8 b_8 + \\frac{4 i V^{3} f^{2}}{9 J^{5}} a_1 b_1 a_3 b_3 a_4 a_5 b_5 + \\frac{2 i V^{3} f^{2}}{9 J^{5}} b_1 a_3 b_3 a_4 b_4 a_5 a_6 + \\frac{5 i V^{3} f^{2}}{9 J^{5}} b_1 a_2 b_3 a_4 b_4 b_5 b_7 - \\frac{V^{2} f}{27 J^{5}} \\left(20 V^{2} + 21 f^{2}\\right) a_3 b_3 a_4 b_4 a_6 + \\frac{V^{2} f}{27 J^{5}} \\left(17 V^{2} + 12 f^{2}\\right) b_2 a_4 b_5 a_6 a_7 + \\frac{83 i V^{3} f^{2}}{135 J^{5}} b_1 a_2 b_2 b_3 a_5 b_5 b_6 + \\frac{2 V^{4} f}{9 J^{5}} b_1 a_2 a_3 b_5 a_7 + \\frac{i V^{3}}{J^{5}} f^{2} b_1 a_2 b_3 a_4 b_7 a_8 a_9 - \\frac{62 i V^{3} f^{2}}{135 J^{5}} a_2 b_2 b_3 b_4 b_5 a_6 b_6 - \\frac{2 i V^{3} f^{2}}{15 J^{5}} b_1 a_3 b_3 a_4 a_5 b_5 a_7 + \\frac{V^{4} f}{J^{5}} a_1 b_1 a_2 b_2 a_3 b_3 b_5 a_6 a_7 + \\frac{2 i V f^{2}}{27 J^{5}} \\left(9 V^{2} + f^{2}\\right) b_1 a_4 a_5 + \\frac{2 V^{4} f}{9 J^{5}} b_1 a_2 a_3 a_6 b_6 - \\frac{20 V^{2} f^{3}}{27 J^{5}} a_2 b_2 b_3 a_4 a_7 + \\frac{2 i V f^{2}}{27 J^{5}} \\left(9 V^{2} + 2 f^{2}\\right) b_1 b_3 b_4 - \\frac{i V^{3} f^{2}}{3 J^{5}} b_2 a_3 b_3 a_4 a_5 b_5 a_6 - \\frac{V^{4} f}{3 J^{5}} b_1 a_2 b_3 a_4 b_4 a_5 a_6 b_6 a_7 + \\frac{V^{2} f^{3}}{3 J^{5}} b_2 a_3 b_4 b_5 b_6 + \\frac{2 V^{4} f}{3 J^{5}} b_1 a_2 b_3 a_4 b_5 a_6 a_7 a_8 b_8 + \\frac{i V^{3}}{J^{5}} f^{2} a_1 b_1 a_2 b_2 a_3 b_3 a_6 + \\frac{V^{2} f}{45 J^{5}} \\left(- 6 V^{2} + 37 f^{2}\\right) a_2 a_3 a_4 a_5 a_6 + \\frac{13 i V^{3} f^{2}}{27 J^{5}} b_1 a_2 b_2 b_3 b_6 a_7 b_7 + \\frac{i V^{3}}{J^{5}} f^{2} a_1 b_1 b_4 a_5 b_6 a_7 a_8 - \\frac{i V^{3} f^{2}}{3 J^{5}} a_1 b_1 b_3 a_4 b_4 a_6 a_7 + \\frac{8 i V^{3} f^{2}}{15 J^{5}} a_2 b_2 b_3 a_4 a_5 b_5 a_7 - \\frac{2 i V^{3} f^{2}}{3 J^{5}} b_1 a_2 b_4 b_5 b_6 a_7 b_7 + \\frac{2 V^{2} f}{135 J^{5}} \\left(- 14 V^{2} + 33 f^{2}\\right) b_1 b_2 b_3 b_4 a_6 + \\frac{7 V^{4} f}{9 J^{5}} b_1 a_2 b_3 a_4 a_5 b_5 a_6 b_6 a_8 + \\frac{i V f^{2}}{9 J^{5}} \\left(13 V^{2} + 5 f^{2}\\right) a_1 b_2 a_5 - \\frac{4 V^{2} f^{3}}{3 J^{5}} a_1 b_1 a_4 b_4 a_6 + \\frac{14 i V^{3} f^{2}}{27 J^{5}} b_1 a_2 a_3 b_3 a_4 a_5 b_6 - \\frac{4 i V^{3} f^{2}}{3 J^{5}} a_1 b_1 a_2 b_2 b_3 a_4 a_5 + \\frac{i V^{3} f^{2}}{9 J^{5}} b_1 a_2 b_3 b_4 a_5 a_6 a_7 - \\frac{14 V^{4} f}{27 J^{5}} b_1 a_5 b_5 a_6 a_7 - \\frac{i V^{3} f^{2}}{3 J^{5}} a_3 b_3 a_4 a_5 b_5 a_6 b_6 + \\frac{26 i V^{3} f^{2}}{27 J^{5}} b_1 b_2 a_3 b_3 a_4 a_5 a_6 + \\frac{28 i V^{3} f^{2}}{135 J^{5}} b_1 a_3 b_3 b_4 b_5 a_6 b_6 + \\frac{V^{2} f^{3}}{27 J^{5}} b_1 b_3 b_4 a_5 b_5 + \\frac{17 i V^{3} f^{2}}{135 J^{5}} b_1 a_3 b_3 a_5 b_5 a_6 a_7 + \\frac{7 i V^{3} f^{2}}{9 J^{5}} b_2 a_3 a_4 b_4 b_6 a_7 a_8 + \\frac{V^{2} f}{3 J^{5}} \\left(2 V^{2} + f^{2}\\right) a_1 b_1 a_3 b_4 a_5 - \\frac{4 i V^{3} f^{2}}{9 J^{5}} b_1 b_2 a_3 b_3 b_4 a_5 b_6 + \\frac{13 V^{2} f^{3}}{27 J^{5}} a_2 a_3 b_3 a_4 b_6 + \\frac{20 i V^{3} f^{2}}{27 J^{5}} a_2 b_2 b_3 a_4 b_5 a_6 a_8 + \\frac{V^{2} f}{27 J^{5}} \\left(17 V^{2} - f^{2}\\right) a_2 a_3 b_5 a_6 b_6 - \\frac{13 i V^{3} f^{2}}{27 J^{5}} a_2 a_3 b_3 a_4 b_5 a_6 b_7 + \\frac{14 V^{2} f^{3}}{27 J^{5}} b_1 b_2 b_3 a_4 b_6 - \\frac{i V^{3} f^{2}}{3 J^{5}} b_1 a_2 b_3 a_4 b_5 b_6 b_7 + \\frac{7 V^{4} f}{9 J^{5}} b_1 a_2 a_4 b_4 b_5 a_6 b_7 a_8 a_9 + \\frac{8 i V^{3} f^{2}}{27 J^{5}} b_1 a_2 a_3 a_5 b_5 a_6 b_6 + \\frac{i V f^{2}}{27 J^{5}} \\left(2 V^{2} + 3 f^{2}\\right) a_3 a_4 b_5 + \\frac{V^{4} f}{J^{5}} b_1 a_2 b_3 a_4 b_5 a_6 b_8 a_9 a_10 - \\frac{2 i V^{3} f^{2}}{15 J^{5}} b_1 a_3 a_4 b_4 b_5 a_6 a_7 - \\frac{2 V^{2} f}{135 J^{5}} \\left(41 V^{2} + 48 f^{2}\\right) a_2 b_2 a_4 a_5 b_5 - \\frac{2 V^{4} f}{9 J^{5}} b_1 a_2 b_3 a_4 b_4 a_6 b_7 a_8 a_9 - \\frac{V^{2} f}{J^{5}} \\left(V^{2} + f^{2}\\right) b_4 a_5 b_6 a_7 a_8 + \\frac{V^{2} f}{27 J^{5}} \\left(17 V^{2} + 14 f^{2}\\right) b_1 a_3 b_5 a_6 a_7 - \\frac{4 i V^{3} f^{2}}{45 J^{5}} b_1 b_2 b_3 a_5 b_5 a_6 b_6 - \\frac{5 i V^{3} f^{2}}{9 J^{5}} a_2 b_2 a_3 a_4 b_4 a_5 b_6 + \\frac{V^{2} f^{3}}{3 J^{5}} b_3 a_4 b_4 a_6 a_7 + \\frac{5 i V^{3} f^{2}}{9 J^{5}} a_1 b_1 b_2 b_3 a_4 b_4 b_5 + \\frac{2 V^{2} f^{3}}{3 J^{5}} b_3 b_4 b_5 a_6 b_6 + \\frac{4 i V f^{2}}{27 J^{5}} \\left(8 V^{2} + 3 f^{2}\\right) b_2 a_4 a_6 + \\frac{2 V^{2} f^{3}}{9 J^{5}} b_2 a_3 b_3 a_5 a_7 + \\frac{4 i V^{3} f^{2}}{9 J^{5}} b_2 a_3 a_4 b_4 a_5 a_6 b_6 + \\frac{14 i V^{3} f^{2}}{27 J^{5}} b_1 a_2 a_3 a_4 b_6 a_7 b_7 + \\frac{4 i V^{3} f^{2}}{9 J^{5}} b_1 a_2 b_3 a_4 a_5 a_6 b_7 - \\frac{2 V^{4} f}{9 J^{5}} a_1 b_3 a_4 b_4 a_6 - \\frac{13 i V^{3} f^{2}}{27 J^{5}} a_2 a_3 b_3 b_4 a_5 b_5 a_6 + \\frac{V^{2} f^{3}}{3 J^{5}} b_3 a_5 b_5 a_6 a_7 - \\frac{2 i V^{3} f^{2}}{9 J^{5}} b_2 a_3 b_3 a_5 b_6 a_7 a_8 - \\frac{5 V^{4} f}{9 J^{5}} b_1 a_2 a_4 a_5 b_5 a_6 b_7 a_8 b_8 - \\frac{V^{2} f^{3}}{J^{5}} b_3 a_4 b_5 a_6 a_8 - \\frac{i V^{3} f^{2}}{3 J^{5}} b_1 a_2 b_3 a_4 b_4 a_5 a_7 + \\frac{4 V^{2} f^{3}}{9 J^{5}} b_2 b_3 b_4 b_5 a_6 - \\frac{V^{4} f}{3 J^{5}} b_1 a_2 b_3 a_4 b_5 a_7 b_7 a_8 a_9 - \\frac{V^{4} f}{3 J^{5}} b_1 a_2 b_3 a_4 b_5 a_6 b_6 a_8 a_9 + \\frac{7 V^{2} f^{3}}{9 J^{5}} a_1 b_2 b_3 a_4 a_6 - \\frac{82 i V^{3} f^{2}}{135 J^{5}} b_1 a_2 a_3 a_4 a_5 a_6 a_7 + \\frac{i V^{3} f^{2}}{27 J^{5}} a_2 a_3 b_4 a_5 b_6 a_7 b_7 - \\frac{5 V^{4} f}{9 J^{5}} a_2 b_2 a_3 a_4 b_4 a_5 b_6 a_7 b_7 - \\frac{7 i V^{3} f^{2}}{9 J^{5}} b_1 a_2 b_2 a_4 b_4 a_5 a_6 - \\frac{14 V^{2} f^{3}}{27 J^{5}} b_1 a_2 a_3 a_4 b_6 - \\frac{2 V^{4} f}{9 J^{5}} a_2 b_2 a_3 b_3 a_4 a_5 b_5 a_6 b_6 + \\frac{14 i V^{3} f^{2}}{27 J^{5}} b_1 a_2 a_3 a_4 b_5 b_6 a_7 + \\frac{V^{2} f}{135 J^{5}} \\left(28 V^{2} + 39 f^{2}\\right) b_1 a_3 a_4 a_5 b_5 - \\frac{V^{4} f}{3 J^{5}} b_1 a_2 a_4 b_4 a_5 a_6 b_6 a_7 b_7 - \\frac{4 V^{2} f^{3}}{9 J^{5}} b_2 a_3 a_4 a_5 b_6 + \\frac{14 V^{2} f^{3}}{27 J^{5}} b_1 a_3 a_5 b_5 a_6 + \\frac{V^{2} f}{135 J^{5}} \\left(- 17 V^{2} + 24 f^{2}\\right) a_2 a_3 b_3 a_5 b_5 - \\frac{8 V^{2} f}{15 J^{5}} \\left(V^{2} + 3 f^{2}\\right) a_2 b_2 a_4 b_4 a_6 + \\frac{16 V^{2} f^{3}}{27 J^{5}} b_1 a_2 b_2 a_5 a_6 + \\frac{i V^{3}}{J^{5}} f^{2} b_1 a_2 b_4 a_5 b_7 a_8 a_9 - \\frac{7 V^{4} f}{27 J^{5}} b_1 a_2 b_2 a_4 b_5 a_6 b_7 a_8 a_9 + \\frac{40 i V^{3} f^{2}}{27 J^{5}} a_2 b_2 b_4 a_5 b_6 a_7 a_8 + \\frac{7 i V^{3} f^{2}}{9 J^{5}} a_1 b_1 a_3 b_3 a_4 b_4 a_6 - \\frac{7 V^{2} f^{3}}{9 J^{5}} a_1 b_1 a_3 b_3 a_6 + \\frac{7 i V^{3} f^{2}}{9 J^{5}} b_1 a_2 a_4 b_4 a_5 b_5 a_7 - \\frac{13 i V^{3} f^{2}}{27 J^{5}} a_2 a_3 b_3 a_4 b_5 b_6 a_7 + \\frac{4 V^{4} f}{9 J^{5}} a_1 a_4 b_5 a_6 b_6 + \\frac{i V^{3}}{J^{5}} f^{2} b_1 a_2 b_3 a_4 b_6 a_7 a_9 - \\frac{4 i V^{3} f^{2}}{45 J^{5}} b_1 b_2 b_3 a_4 b_4 a_6 b_6 - \\frac{83 i V^{3} f^{2}}{135 J^{5}} a_2 a_3 b_3 a_4 a_5 b_5 b_6 - \\frac{7 i V^{3} f^{2}}{9 J^{5}} a_1 b_2 b_3 a_4 b_5 a_6 a_7 - \\frac{2 V^{2} f^{3}}{9 J^{5}} a_2 b_2 a_3 b_4 a_5 + \\frac{2 V^{4} f}{3 J^{5}} b_1 b_2 a_3 b_3 b_5 - \\frac{V^{2} f}{9 J^{5}} \\left(7 V^{2} + 12 f^{2}\\right) b_1 a_2 a_5 b_5 a_7 + \\frac{17 i V^{3} f^{2}}{135 J^{5}} b_1 a_3 a_4 a_5 b_5 a_6 b_6 + \\frac{V^{4} f}{J^{5}} a_2 b_2 a_3 b_3 a_4 b_4 a_5 b_5 a_6 + \\frac{V^{2} f}{9 J^{5}} \\left(- 2 V^{2} + 3 f^{2}\\right) b_1 a_2 b_4 b_5 b_6 - \\frac{28 i V^{3} f^{2}}{135 J^{5}} b_1 a_3 b_3 a_4 a_5 a_6 b_6 + \\frac{7 V^{2} f^{3}}{27 J^{5}} b_1 a_2 b_2 a_4 a_7 - \\frac{7 i V^{3} f^{2}}{27 J^{5}} b_1 a_3 b_3 a_4 b_5 a_6 a_8 + \\frac{i V^{3} f^{2}}{3 J^{5}} a_1 b_4 a_5 - \\frac{2 V^{4} f}{9 J^{5}} b_1 a_2 a_3 b_3 b_4 a_5 b_5 a_6 a_7 + \\frac{V^{4} f}{J^{5}} b_1 a_2 a_4 b_4 a_5 b_5 a_6 b_6 a_7 - \\frac{13 V^{2} f^{3}}{27 J^{5}} b_1 a_2 b_2 b_3 b_6 - \\frac{V^{2} f^{3}}{J^{5}} a_1 b_1 b_5 a_6 a_7 - \\frac{i V^{3} f^{2}}{9 J^{5}} b_1 a_2 a_4 a_5 b_6 a_7 b_7 + \\frac{2 i V^{3} f^{2}}{3 J^{5}} a_3 b_3 a_4 b_4 b_5 a_6 a_7 - \\frac{82 i V^{3} f^{2}}{135 J^{5}} b_1 b_2 b_3 b_4 b_5 a_6 a_7 - \\frac{17 V^{4} f}{27 J^{5}} b_1 a_2 b_2 b_3 a_4 b_4 a_5 a_6 a_7 - \\frac{2 i V^{3} f^{2}}{9 J^{5}} b_1 b_2 a_3 a_4 a_5 b_5 a_6 - \\frac{4 V^{2} f^{3}}{9 J^{5}} a_1 b_1 a_3 a_4 b_5 - \\frac{i V^{3}}{J^{5}} f^{2} a_1 b_2 a_3 b_3 a_4 b_4 a_5 + \\frac{V^{2} f}{3 J^{5}} \\left(V^{2} - 3 f^{2}\\right) b_1 b_2 a_3 a_4 a_6 + \\frac{8 i V^{3} f^{2}}{15 J^{5}} a_2 b_2 a_4 b_4 b_5 a_6 a_7 + \\frac{2 i V^{3} f^{2}}{3 J^{5}} b_2 a_3 a_5 b_5 b_6 a_7 a_8 - \\frac{28 i V^{3} f^{2}}{135 J^{5}} a_2 b_2 b_3 a_4 b_4 a_6 a_7 - \\frac{5 i V^{3} f^{2}}{9 J^{5}} b_1 a_2 a_4 a_5 b_5 b_6 a_7 - \\frac{7 V^{4} f}{27 J^{5}} b_1 a_3 b_3 a_4 b_5 a_6 b_7 a_8 a_9 - \\frac{2 i V^{3} f^{2}}{3 J^{5}} b_2 b_3 a_4 b_4 b_5 a_6 b_6 - \\frac{i V^{3} f^{2}}{3 J^{5}} b_1 a_2 b_2 a_3 b_3 a_4 a_5 - \\frac{i V^{3} f^{2}}{3 J^{5}} a_1 b_1 a_4 a_5 b_5 a_6 b_6 + \\frac{14 i V^{3} f^{2}}{27 J^{5}} b_1 a_2 b_2 a_3 b_3 b_4 b_5 - \\frac{2 i V^{3} f^{2}}{3 J^{5}} b_1 a_2 b_3 a_4 b_5 a_7 a_8 - \\frac{40 V^{2} f^{3}}{27 J^{5}} a_2 b_2 a_5 b_5 a_6 + \\frac{i V^{3}}{J^{5}} f^{2} b_1 a_2 b_3 a_4 a_7 b_7 a_8 - \\frac{2 V^{2} f^{3}}{27 J^{5}} b_1 a_2 a_3 a_5 b_5 - \\frac{i V}{J^{5}} f^{2} \\left(V^{2} + f^{2}\\right) b_4 a_5 a_7 + \\frac{7 i V f^{2}}{27 J^{5}} \\left(3 V^{2} + 2 f^{2}\\right) a_2 b_3 a_5 + \\frac{4 V^{4} f}{9 J^{5}} b_1 a_2 b_3 a_4 a_5 a_6 b_7 a_8 b_8 + \\frac{V^{4} f}{J^{5}} b_1 a_2 b_4 a_5 b_6 a_7 b_8 a_9 a_10 + \\frac{V^{4} f}{9 J^{5}} b_1 a_2 b_2 a_4 b_4 a_5 b_5 a_6 a_7 + \\frac{28 i V^{3} f^{2}}{135 J^{5}} b_1 a_2 a_3 b_3 b_4 b_5 b_6 - \\frac{83 i V^{3} f^{2}}{135 J^{5}} b_1 a_2 b_2 b_3 a_5 a_6 a_7 + \\frac{V^{4} f}{9 J^{5}} b_1 a_2 b_2 b_5 b_6 + \\frac{i V^{3}}{J^{5}} f^{2} b_1 a_2 b_4 a_5 a_7 b_7 a_8 + \\frac{i V f^{2}}{3 J^{5}} \\left(3 V^{2} + f^{2}\\right) a_1 b_3 a_4 + \\frac{2 i V^{3} f^{2}}{3 J^{5}} b_1 a_2 b_4 a_5 a_6 a_7 b_7 + \\frac{10 V^{4} f}{27 J^{5}} a_2 b_4 b_5 a_6 a_7 - \\frac{i V^{3} f^{2}}{3 J^{5}} a_1 b_1 b_3 a_5 b_5 a_6 a_7 + \\frac{128 i V^{3} f^{2}}{135 J^{5}} b_1 b_2 b_3 a_4 b_4 b_5 a_7 + \\frac{V^{2} f^{3}}{3 J^{5}} a_4 a_5 b_5 a_6 b_6 - \\frac{i V f^{2}}{9 J^{5}} \\left(13 V^{2} + 12 f^{2}\\right) a_4 b_4 a_6 + \\frac{7 i V^{3} f^{2}}{9 J^{5}} b_1 a_2 b_3 a_4 a_5 b_5 a_8 + \\frac{5 i V^{3} f^{2}}{9 J^{5}} a_1 b_1 b_2 b_3 b_5 a_6 b_6 + \\frac{i V^{3}}{J^{5}} f^{2} b_1 b_2 a_3 a_4 b_5 a_6 a_7 + \\frac{5 V^{2} f^{3}}{9 J^{5}} a_3 a_4 b_4 b_5 a_6 - \\frac{i V^{3}}{J^{5}} f^{2} a_1 b_1 a_2 b_2 a_3 b_3 a_4 + \\frac{2 V^{4} f}{3 J^{5}} b_1 a_2 b_3 a_4 b_5 a_6 a_7 b_7 a_9 + \\frac{V^{2} f}{27 J^{5}} \\left(4 V^{2} + f^{2}\\right) b_1 b_2 b_5 a_6 b_6 - \\frac{7 i V^{3} f^{2}}{27 J^{5}} b_1 a_2 b_2 b_3 a_4 a_5 a_7 - \\frac{2 i V^{3} f^{2}}{9 J^{5}} a_1 b_1 b_2 b_3 a_4 a_5 a_6 + \\frac{2 V^{2} f}{45 J^{5}} \\left(2 V^{2} + f^{2}\\right) b_1 b_2 b_3 a_5 b_5 + \\frac{2 i V^{3} f^{2}}{3 J^{5}} a_1 b_1 b_3 a_4 a_5 a_6 b_6 - \\frac{2 i V^{3} f^{2}}{9 J^{5}} b_1 a_2 b_3 a_5 a_6 b_6 a_7 + \\frac{17 V^{4} f}{27 J^{5}} b_1 a_2 b_2 b_3 a_4 b_4 a_5 b_5 b_6 - \\frac{7 i V^{3} f^{2}}{27 J^{5}} b_1 a_2 b_2 a_4 b_5 a_6 a_8 - \\frac{V^{4} f}{3 J^{5}} b_1 a_2 b_3 b_4 a_5 a_6 b_6 a_7 a_8 + \\frac{2 i V^{3} f^{2}}{3 J^{5}} b_2 a_3 b_4 a_5 a_6 b_6 a_8 + \\frac{i V^{3} f^{2}}{3 J^{5}} a_1 b_1 a_2 a_4 b_4 a_5 b_5 - \\frac{8 i V^{3} f^{2}}{9 J^{5}} b_1 a_2 b_2 a_3 b_5 a_6 a_7 - \\frac{10 V^{4} f}{27 J^{5}} b_1 a_2 b_2 a_3 a_4 b_4 b_5 a_6 a_7 - \\frac{14 i V^{3} f^{2}}{27 J^{5}} b_1 a_2 b_2 a_3 a_4 a_5 b_5 - \\frac{7 i V^{3} f^{2}}{27 J^{5}} b_1 a_3 b_3 a_4 b_6 a_7 a_8 - \\frac{4 V^{4} f}{9 J^{5}} a_1 a_2 b_2 a_3 b_3 a_4 b_5 a_6 b_6 - \\frac{V^{4} f}{3 J^{5}} b_1 a_2 b_3 a_4 a_6 a_7 b_7 a_8 b_8 - \\frac{5 i V^{3} f^{2}}{9 J^{5}} b_1 a_2 a_4 a_5 b_5 a_6 b_7 - \\frac{i V}{J^{5}} f^{2} \\left(V^{2} + f^{2}\\right) b_2 a_3 a_7 + \\frac{2 i V^{3} f^{2}}{9 J^{5}} b_1 a_2 a_3 a_4 b_4 a_5 b_5 - \\frac{i V^{5}}{J^{5}} b_1 a_2 b_3 a_4 b_5 a_6 b_7 a_8 b_9 a_10 a_11 + \\frac{17 i V^{3} f^{2}}{27 J^{5}} a_2 b_2 a_3 b_3 a_4 a_5 b_5 - \\frac{7 V^{4} f}{27 J^{5}} b_1 a_2 b_2 b_3 a_4 a_5 b_6 a_7 a_8 + \\frac{14 i V^{3} f^{2}}{27 J^{5}} b_1 a_2 a_3 a_4 b_5 a_6 b_7 - \\frac{10 V^{4} f}{27 J^{5}} b_1 b_4 b_5 a_6 b_6 - \\frac{20 V^{2} f^{3}}{27 J^{5}} b_1 a_2 a_3 b_3 a_7 + \\frac{2 i V^{3} f^{2}}{27 J^{5}} b_1 a_2 a_3 b_4 b_5 a_6 a_7 + \\frac{7 i V^{3} f^{2}}{9 J^{5}} a_2 b_2 a_3 b_3 b_5 a_6 a_7 + \\frac{V^{2} f}{3 J^{5}} \\left(V^{2} + f^{2}\\right) b_3 a_4 b_4 a_5 a_6 + \\frac{2 V^{2} f^{3}}{3 J^{5}} a_1 b_1 b_3 a_5 a_6 - \\frac{2 V^{2} f}{27 J^{5}} \\left(17 V^{2} + 21 f^{2}\\right) a_3 b_3 b_5 a_6 a_7 + \\frac{V^{4} f}{J^{5}} b_1 a_2 b_3 a_4 a_6 b_6 a_7 b_7 a_8 - \\frac{i V^{3} f^{2}}{3 J^{5}} b_2 b_3 a_4 a_5 b_5 a_6 a_7 - \\frac{13 i V^{3} f^{2}}{27 J^{5}} a_2 a_3 b_3 a_4 b_6 a_7 b_7 - \\frac{i V^{3} f^{2}}{9 J^{5}} a_1 b_1 b_2 a_3 a_4 b_4 a_5 + \\frac{2 i V^{3} f^{2}}{3 J^{5}} a_1 b_1 a_2 b_2 a_4 b_4 a_6 - \\frac{2 V^{2} f^{3}}{3 J^{5}} a_4 b_4 b_5 a_6 a_7 + \\frac{20 V^{4} f}{27 J^{5}} b_1 a_2 a_3 b_3 a_4 b_4 b_6 a_7 a_8 + \\frac{4 i V^{3} f^{2}}{9 J^{5}} b_2 a_3 a_4 a_5 b_6 a_7 b_7 + \\frac{62 i V^{3} f^{2}}{135 J^{5}} a_2 b_2 b_3 a_4 a_5 a_6 b_6 + \\frac{5 V^{2} f^{3}}{27 J^{5}} b_1 a_4 b_4 a_5 a_6 + \\frac{i V^{3} f^{2}}{3 J^{5}} b_1 a_2 b_4 a_5 b_5 b_6 b_7 - \\frac{i V^{3} f^{2}}{3 J^{5}} b_1 a_2 b_3 a_4 a_5 b_6 a_7 - \\frac{V^{2} f^{3}}{J^{5}} b_1 a_2 b_5 a_6 a_8 - \\frac{V^{2} f^{3}}{J^{5}} a_1 b_1 b_4 a_5 a_7 - \\frac{4 i V^{3} f^{2}}{9 J^{5}} b_1 a_2 b_3 b_4 b_5 b_6 a_7 + \\frac{2 V^{4} f}{3 J^{5}} b_1 a_2 a_4 b_4 a_5 b_5 b_6 a_7 a_8 + \\frac{2 i V^{3} f^{2}}{3 J^{5}} b_1 a_2 b_4 a_5 a_6 b_6 a_8 + \\frac{20 V^{4} f}{27 J^{5}} b_1 a_2 a_3 b_3 b_5 a_6 b_7 a_8 a_9 + \\frac{2 V^{4} f}{3 J^{5}} b_1 a_2 b_3 a_4 a_6 b_6 b_7 a_8 a_9 + \\frac{2 i V^{3} f^{2}}{3 J^{5}} a_1 b_1 a_2 b_2 a_4 a_5 b_5 + \\frac{i V^{3}}{J^{5}} f^{2} a_3 b_3 a_4 b_4 a_5 b_5 a_6 - \\frac{V^{2} f^{3}}{3 J^{5}} a_1 b_1 a_4 a_5 b_5 + \\frac{2 i V f^{2}}{9 J^{5}} \\left(8 V^{2} + 3 f^{2}\\right) a_3 b_4 a_5 - \\frac{2 V^{4} f}{9 J^{5}} a_1 b_1 a_2 b_3 a_5 + \\frac{i V^{3}}{J^{5}} f^{2} b_2 a_3 b_5 a_6 b_7 a_8 a_9 + \\frac{2 V^{2} f}{45 J^{5}} \\left(- 3 V^{2} + f^{2}\\right) b_1 a_3 b_3 b_4 b_5 + \\frac{7 i V^{3} f^{2}}{9 J^{5}} b_1 a_2 a_4 b_4 b_5 a_6 a_8 - \\frac{7 V^{2} f^{3}}{9 J^{5}} a_3 b_3 b_4 a_5 a_7 - \\frac{20 i V^{3} f^{2}}{27 J^{5}} b_1 a_2 b_2 a_3 a_4 b_4 a_6 - \\frac{5 V^{2} f^{3}}{9 J^{5}} a_1 a_3 b_3 a_4 b_5 + \\frac{28 i V^{3} f^{2}}{27 J^{5}} b_1 a_2 b_2 a_3 b_3 a_5 a_6 - \\frac{2 i V^{3} f^{2}}{9 J^{5}} b_1 a_2 a_3 b_3 a_4 b_5 a_6 - \\frac{4 i V^{3} f^{2}}{9 J^{5}} b_1 b_2 a_3 b_3 b_4 b_5 a_6 + \\frac{V^{2} f}{135 J^{5}} \\left(83 V^{2} + 84 f^{2}\\right) a_2 a_3 a_4 b_4 b_5 + \\frac{i V f^{2}}{27 J^{5}} \\left(30 V^{2} - f^{2}\\right) a_2 a_3 b_5 + \\frac{4 V^{2} f}{135 J^{5}} \\left(32 V^{2} + 21 f^{2}\\right) a_2 b_2 b_3 a_5 a_6 - \\frac{V^{2} f}{9 J^{5}} \\left(6 V^{2} + 7 f^{2}\\right) a_2 b_2 a_3 b_3 a_6 + \\frac{2 V^{2} f^{3}}{3 J^{5}} b_1 a_2 a_4 b_5 a_6 + \\frac{V^{2} f}{135 J^{5}} \\left(- 112 V^{2} + 99 f^{2}\\right) a_2 a_3 b_3 b_4 a_6 + \\frac{V^{2} f}{27 J^{5}} \\left(7 V^{2} - 3 f^{2}\\right) b_2 b_3 a_4 a_5 a_6 - \\frac{14 i V^{3} f^{2}}{27 J^{5}} b_1 b_2 a_3 b_3 a_4 b_4 b_5 + \\frac{f^{3}}{J^{5}} \\left(3 V^{2} + f^{2}\\right) a_6 + \\frac{i V f^{2}}{27 J^{5}} \\left(18 V^{2} + f^{2}\\right) b_1 b_2 b_5 - \\frac{i V f^{2}}{27 J^{5}} \\left(55 V^{2} + 42 f^{2}\\right) a_3 b_3 a_6 + \\frac{5 i V^{3} f^{2}}{9 J^{5}} b_2 a_3 b_3 b_4 b_6 a_7 b_7 + \\frac{V^{4} f}{3 J^{5}} a_2 b_2 a_3 a_4 b_5 - \\frac{2 V^{2} f^{3}}{3 J^{5}} b_3 a_4 a_5 a_6 b_6 + \\frac{5 i V^{3} f^{2}}{9 J^{5}} b_2 a_3 b_3 b_4 a_5 b_5 b_6 - \\frac{2 i V^{3} f^{2}}{3 J^{5}} a_1 b_1 b_3 b_4 b_5 a_6 b_6 - \\frac{17 V^{2} f}{135 J^{5}} \\left(V^{2} + 3 f^{2}\\right) b_1 a_3 b_3 a_5 a_6 + \\frac{i V^{3}}{J^{5}} f^{2} a_1 b_1 b_3 a_4 b_5 a_6 a_8 + \\frac{2 V^{2} f^{3}}{3 J^{5}} b_2 a_3 b_4 a_6 a_7 + \\frac{8 V^{2} f^{3}}{27 J^{5}} a_2 b_3 b_4 a_5 a_6 - \\frac{2 V^{4} f}{9 J^{5}} b_1 a_2 b_3 a_4 b_4 b_5 a_6 a_7 a_8 + \\frac{82 i V^{3} f^{2}}{135 J^{5}} b_1 a_2 a_3 a_4 a_5 b_5 b_6 - \\frac{4 V^{4} f}{27 J^{5}} b_1 a_2 b_2 a_3 a_4 a_5 b_5 a_6 b_6 + \\frac{7 i V^{3} f^{2}}{9 J^{5}} b_2 a_3 a_4 b_4 a_5 b_5 a_7 - \\frac{i V^{3}}{J^{5}} f^{2} a_1 b_1 a_2 b_2 a_3 b_4 a_5 + \\frac{V^{2} f}{27 J^{5}} \\left(- 13 V^{2} + 21 f^{2}\\right) b_2 b_3 a_4 b_4 b_5 - \\frac{2 V^{4} f}{3 J^{5}} b_1 a_2 b_3 a_4 b_5 b_6 b_7 a_8 b_8 + \\frac{20 i V^{3} f^{2}}{27 J^{5}} b_1 a_2 a_3 b_3 b_6 a_7 a_8 - \\frac{2 i V^{3} f^{2}}{9 J^{5}} a_1 b_1 b_2 a_4 b_5 a_6 a_7 + \\frac{7 i V^{3} f^{2}}{9 J^{5}} a_3 b_3 b_4 a_5 b_6 a_7 a_8 + \\frac{4 V^{2} f^{3}}{9 J^{5}} b_2 b_3 b_4 a_5 b_6 - \\frac{i V}{J^{5}} f^{2} \\left(V^{2} + f^{2}\\right) a_5 b_5 a_6 - \\frac{V^{2} f^{3}}{J^{5}} b_2 a_3 b_5 a_6 a_8 + \\frac{62 i V^{3} f^{2}}{135 J^{5}} b_1 a_2 a_3 b_3 a_5 a_6 b_6 + \\frac{4 i V^{3} f^{2}}{9 J^{5}} a_1 a_4 b_5 - \\frac{2 i V^{3} f^{2}}{9 J^{5}} b_2 a_4 b_4 a_5 b_6 a_7 a_8 + \\frac{2 V^{2} f^{3}}{3 J^{5}} a_1 b_1 a_2 a_3 b_3 + \\frac{i V^{3}}{J^{5}} f^{2} b_2 a_3 a_5 b_5 a_6 b_6 a_7 + \\frac{5 V^{4} f}{9 J^{5}} b_1 a_2 b_3 a_4 b_4 b_5 b_7 a_8 b_8 - \\frac{14 i V^{3} f^{2}}{27 J^{5}} b_1 b_2 b_3 b_4 a_5 b_5 a_6 + \\frac{V^{2} f^{3}}{3 J^{5}} a_1 b_1 b_3 b_4 b_5 - \\frac{17 i V^{3} f^{2}}{135 J^{5}} b_1 a_3 b_3 a_4 b_4 b_5 b_6 - \\frac{5 i V^{3} f^{2}}{9 J^{5}} a_2 b_2 a_3 a_4 b_4 b_5 a_6 - \\frac{V^{2} f^{3}}{J^{5}} a_4 b_4 a_5 b_5 a_6 - \\frac{112 i V^{3} f^{2}}{135 J^{5}} a_2 a_3 a_4 a_5 b_5 a_6 a_7 + \\frac{14 V^{2} f^{3}}{27 J^{5}} b_1 a_2 b_2 b_4 b_5 + \\frac{7 i V^{3} f^{2}}{9 J^{5}} a_1 b_1 a_3 b_3 b_5 a_6 a_7 - \\frac{7 i V^{3} f^{2}}{27 J^{5}} b_1 a_2 b_2 a_4 b_6 a_7 a_8 - \\frac{V^{2} f}{9 J^{5}} \\left(6 V^{2} + 5 f^{2}\\right) a_1 a_3 b_3 b_4 a_5 - \\frac{2 i V^{3} f^{2}}{3 J^{5}} a_1 b_1 a_2 b_3 b_4 a_5 a_6 + \\frac{V^{4} f}{J^{5}} a_1 b_1 a_2 b_2 a_3 b_3 a_4 b_4 a_6 + \\frac{4 i V^{3} f^{2}}{9 J^{5}} a_1 b_1 a_3 a_4 b_5 a_6 b_6 + \\frac{2 i V^{3} f^{2}}{3 J^{5}} b_2 a_3 b_4 a_5 a_6 a_7 b_7 - \\frac{2 i V^{3} f^{2}}{15 J^{5}} a_2 a_3 b_3 a_5 b_5 a_6 b_6 - \\frac{13 V^{4} f}{27 J^{5}} a_2 a_3 b_3 a_4 b_5 a_6 b_7 a_8 b_8 - \\frac{4 V^{2} f^{3}}{27 J^{5}} a_2 a_4 b_4 a_5 b_5 - \\frac{82 i V^{3} f^{2}}{135 J^{5}} b_1 b_2 a_4 b_4 b_5 a_6 b_6 - \\frac{2 V^{2} f}{27 J^{5}} \\left(17 V^{2} + 20 f^{2}\\right) a_2 b_2 b_5 a_6 a_7 - \\frac{i V}{J^{5}} f^{2} \\left(2 V^{2} + f^{2}\\right) b_5 a_6 a_7 + \\frac{2 V^{4} f}{9 J^{5}} a_1 b_1 b_2 a_3 b_3 a_4 b_5 a_6 a_7 - \\frac{2 i V f^{2}}{27 J^{5}} \\left(27 V^{2} + 20 f^{2}\\right) a_2 b_2 a_6 + \\frac{82 i V^{3} f^{2}}{135 J^{5}} b_1 b_2 b_3 a_4 a_5 a_6 a_7 - \\frac{5 i V^{3} f^{2}}{9 J^{5}} a_3 a_4 b_4 a_5 b_6 a_7 b_7 + \\frac{112 i V^{3} f^{2}}{135 J^{5}} a_2 a_3 b_3 a_4 b_4 b_5 a_7 + \\frac{7 V^{2} f^{3}}{27 J^{5}} b_1 a_3 b_3 a_4 a_7 + \\frac{8 V^{2} f}{9 J^{5}} \\left(V^{2} + f^{2}\\right) b_1 a_2 b_2 a_3 a_6 - \\frac{2 V^{4} f}{9 J^{5}} b_1 a_2 a_3 a_4 b_4 a_5 b_5 a_6 b_6 + \\frac{i V^{3}}{J^{5}} f^{2} b_1 a_2 a_5 b_5 a_6 b_6 a_7 - \\frac{i V^{3} f^{2}}{3 J^{5}} b_2 a_3 a_5 a_6 b_6 a_7 b_7 + \\frac{7 V^{4} f}{9 J^{5}} b_1 a_2 b_3 a_4 a_5 b_5 b_7 a_8 a_9 - \\frac{28 i V^{3} f^{2}}{135 J^{5}} a_2 b_2 a_4 a_5 b_5 a_6 b_6 + \\frac{V^{4} f}{J^{5}} b_1 a_2 b_3 a_4 b_5 a_6 b_7 a_8 a_10 - \\frac{7 V^{2} f}{27 J^{5}} \\left(2 V^{2} + 3 f^{2}\\right) a_3 b_3 a_4 a_5 b_5 + \\frac{i V^{3}}{J^{5}} f^{2} a_1 b_1 b_3 a_4 a_6 b_6 a_7 - \\frac{2 i}{J^{5}} V^{3} f^{2} b_1 a_2 a_3 b_3 a_4 b_4 a_5 + \\frac{V^{4} f}{J^{5}} a_1 b_1 a_2 b_2 b_4 a_5 b_6 a_7 a_8 + \\frac{i V^{3}}{J^{5}} f^{2} a_1 b_1 a_2 b_2 b_4 a_5 a_7 + \\frac{V^{4} f}{3 J^{5}} b_1 a_2 b_3 a_4 b_5 a_6 b_6 b_7 b_8 - \\frac{82 i V^{3} f^{2}}{135 J^{5}} b_1 b_2 b_3 a_4 a_5 b_5 b_6 + \\frac{14 i V^{3} f^{2}}{9 J^{5}} b_1 a_2 a_4 b_4 b_6 a_7 a_8 - \\frac{14 V^{4} f}{27 J^{5}} b_1 b_2 b_3 a_4 b_5 a_6 b_7 a_8 b_8 - \\frac{128 i V^{3} f^{2}}{135 J^{5}} b_1 a_2 a_3 a_4 b_4 b_5 a_7 + \\frac{V^{4} f}{J^{5}} b_1 a_2 b_3 a_4 b_5 a_6 a_8 b_8 a_9 + \\frac{i V^{3} f^{2}}{3 J^{5}} b_1 a_2 b_3 a_4 a_6 a_7 b_7 + \\frac{V^{4} f}{J^{5}} a_1 b_1 b_3 a_4 b_5 a_6 b_7 a_8 a_9 - \\frac{2 V^{4} f}{9 J^{5}} b_1 b_2 a_3 a_4 b_4 a_5 b_6 a_7 a_8 - \\frac{5 i V^{3} f^{2}}{9 J^{5}} b_1 a_2 b_2 b_3 b_4 a_5 b_5 + \\frac{V^{4} f}{3 J^{5}} a_2 b_2 a_3 b_5 a_6 + \\frac{V^{4} f}{3 J^{5}} b_1 a_2 a_4 b_6 a_7 - \\frac{V^{2} f^{3}}{27 J^{5}} a_2 a_3 b_4 a_5 b_6 - \\frac{i V^{3} f^{2}}{3 J^{5}} b_1 a_2 b_4 a_5 b_5 a_6 a_7 + \\frac{V^{2} f}{27 J^{5}} \\left(- 4 V^{2} + 3 f^{2}\\right) a_3 a_4 b_5 a_6 b_6 + \\frac{i V^{3} f^{2}}{9 J^{5}} b_1 a_2 b_3 b_4 b_6 a_7 b_7 + \\frac{V^{2} f^{3}}{27 J^{5}} b_1 b_2 b_4 a_5 b_6 + \\frac{i V^{3}}{J^{5}} f^{2} b_1 a_2 b_3 a_4 b_5 a_6 a_9 - \\frac{i V}{J^{5}} f^{2} \\left(V^{2} + f^{2}\\right) a_1 b_1 a_6 + \\frac{V^{2} f}{9 J^{5}} \\left(4 V^{2} + 9 f^{2}\\right) a_1 b_1 a_2 a_4 b_4 + \\frac{V^{2} f}{9 J^{5}} \\left(5 V^{2} + 6 f^{2}\\right) b_1 a_2 b_4 a_6 a_7 + \\frac{20 i V^{3} f^{2}}{27 J^{5}} a_2 b_2 a_4 b_4 a_5 b_5 a_6 - \\frac{14 i V^{3} f^{2}}{27 J^{5}} b_1 a_3 b_4 a_5 b_6 a_7 a_8 + \\frac{V^{2} f^{3}}{27 J^{5}} b_1 b_2 b_4 b_5 a_6 + \\frac{i V^{3} f^{2}}{3 J^{5}} a_3 b_5 a_6 + \\frac{20 i V^{3} f^{2}}{27 J^{5}} a_2 b_2 b_3 a_4 b_6 a_7 a_8 + \\frac{14 V^{2} f^{3}}{27 J^{5}} b_1 a_3 b_4 a_5 a_7 - \\frac{4 i V^{3} f^{2}}{9 J^{5}} b_2 b_3 b_4 a_5 b_6 a_7 b_7 + \\frac{V^{2} f}{135 J^{5}} \\left(- 82 V^{2} + 129 f^{2}\\right) b_1 b_2 a_4 a_5 a_6 - \\frac{4 V^{4} f}{9 J^{5}} b_1 b_2 a_3 b_3 b_4 a_5 b_6 a_7 b_7 - \\frac{4 i V^{3} f^{2}}{9 J^{5}} b_1 a_2 a_3 b_3 b_4 a_5 a_6 + \\frac{4 V^{4} f}{9 J^{5}} b_1 a_2 b_3 a_4 a_5 b_5 a_6 a_7 b_7 - \\frac{V^{2} f^{3}}{J^{5}} b_1 a_2 b_4 a_5 a_8 + \\frac{13 V^{4} f}{27 J^{5}} b_1 a_2 b_2 b_3 a_4 b_4 b_6 a_7 b_7 - \\frac{17 i V^{3} f^{2}}{27 J^{5}} b_1 a_5 a_6 - \\frac{2 i V^{3} f^{2}}{3 J^{5}} b_2 a_3 b_4 b_5 b_6 a_7 b_7 - \\frac{V^{2} f}{J^{5}} \\left(V^{2} + f^{2}\\right) b_1 a_2 b_3 a_4 a_8 + \\frac{13 i V^{3} f^{2}}{27 J^{5}} b_1 a_2 b_2 b_3 b_5 a_6 b_7 - \\frac{2 i V^{3} f^{2}}{9 J^{5}} b_1 a_2 b_3 a_5 b_5 a_6 a_8 + \\frac{4 i V^{3} f^{2}}{45 J^{5}} b_1 a_2 a_3 a_4 b_4 a_6 b_6 - \\frac{40 V^{2} f^{3}}{27 J^{5}} a_2 b_2 b_4 a_5 a_7 - \\frac{4 i V^{3} f^{2}}{9 J^{5}} a_2 b_2 b_3 a_4 b_4 a_5 a_6 - \\frac{14 i V^{3} f^{2}}{27 J^{5}} b_1 b_2 b_3 a_4 b_5 b_6 a_7 - \\frac{2 V^{2} f^{3}}{9 J^{5}} a_1 b_2 a_3 b_3 a_5 - \\frac{i V f^{2}}{9 J^{5}} \\left(8 V^{2} + f^{2}\\right) a_1 a_3 b_4 - \\frac{7 i V^{3} f^{2}}{9 J^{5}} b_1 a_2 b_3 b_4 a_5 b_5 b_6 + \\frac{2 i V^{3} f^{2}}{3 J^{5}} b_1 a_2 a_5 b_5 b_6 a_7 a_8 + \\frac{2 V^{2} f^{3}}{3 J^{5}} b_1 a_2 b_2 a_3 a_4 + \\frac{5 V^{2} f^{3}}{9 J^{5}} a_1 b_2 b_4 a_5 a_6 + \\frac{2 i V^{3} f^{2}}{3 J^{5}} a_1 b_1 a_4 b_4 b_5 a_6 a_7 - \\frac{V^{4} f}{9 J^{5}} b_1 a_2 b_2 a_6 a_7 - \\frac{8 i V^{3} f^{2}}{9 J^{5}} b_2 a_3 b_3 a_4 b_5 a_6 a_7 - \\frac{14 i V^{3} f^{2}}{27 J^{5}} b_1 b_2 b_3 a_4 b_6 a_7 b_7 + \\frac{V^{2} f}{9 J^{5}} \\left(4 V^{2} - f^{2}\\right) a_1 a_2 b_2 a_3 b_4 + \\frac{14 V^{4} f}{27 J^{5}} b_1 a_2 a_3 a_4 b_5 a_6 b_7 a_8 b_8 + \\frac{i V^{3}}{J^{5}} f^{2} b_2 a_3 b_4 a_5 a_7 b_7 a_8 + \\frac{i V^{3}}{J^{5}} f^{2} b_1 a_2 b_5 a_6 b_7 a_8 a_9 - \\frac{2 i V^{3} f^{2}}{9 J^{5}} b_2 a_3 b_3 b_4 a_5 a_6 a_7 + \\frac{2 V^{2} f}{9 J^{5}} \\left(- V^{2} + 4 f^{2}\\right) a_1 b_1 b_2 a_3 a_5 - \\frac{2 i V^{3} f^{2}}{9 J^{5}} a_1 b_3 a_6 - \\frac{2 i V^{3} f^{2}}{15 J^{5}} b_1 a_2 b_2 a_4 a_5 b_5 a_7 + \\frac{4 V^{2} f^{3}}{3 J^{5}} a_1 a_2 b_2 b_3 a_4 - \\frac{28 i V^{3} f^{2}}{135 J^{5}} b_1 a_2 a_3 b_3 b_4 a_6 a_7 + \\frac{17 i V^{3} f^{2}}{135 J^{5}} b_1 a_2 b_2 a_4 b_4 a_6 a_7 - \\frac{17 i V^{3} f^{2}}{135 J^{5}} b_1 a_2 b_2 a_4 b_4 b_5 b_6 - \\frac{112 i V^{3} f^{2}}{135 J^{5}} b_1 a_2 b_2 b_3 b_4 b_5 a_7 - \\frac{7 i V^{3} f^{2}}{27 J^{5}} b_1 a_2 b_2 a_4 a_6 b_6 a_7 + \\frac{34 V^{4} f}{27 J^{5}} b_1 a_2 a_3 b_3 a_4 b_4 a_5 b_5 a_7 + \\frac{V^{2} f}{135 J^{5}} \\left(83 V^{2} + 54 f^{2}\\right) b_1 a_3 a_4 b_4 a_6 - \\frac{i V^{3} f^{2}}{9 J^{5}} a_2 a_3 b_3 a_4 b_4 a_5 b_5 - \\frac{128 i V^{3} f^{2}}{135 J^{5}} b_1 b_2 a_4 a_5 b_5 a_6 a_7 - \\frac{V^{2} f^{3}}{J^{5}} b_3 a_4 b_6 a_7 a_8 + \\frac{20 i V^{3} f^{2}}{27 J^{5}} b_1 a_2 a_3 b_3 a_4 b_4 a_7 + \\frac{2 V^{2} f^{3}}{9 J^{5}} a_1 b_1 b_2 a_4 a_6 + \\frac{13 i V^{3} f^{2}}{27 J^{5}} b_1 a_2 b_2 b_3 a_4 b_4 b_6 + \\frac{i V^{3}}{J^{5}} f^{2} b_1 a_2 b_4 a_5 b_6 a_7 a_9 + \\frac{V^{2} f}{9 J^{5}} \\left(8 V^{2} + 17 f^{2}\\right) b_2 a_3 a_4 b_4 a_5 + \\frac{20 i V^{3} f^{2}}{27 J^{5}} b_1 a_2 a_3 b_3 a_6 b_6 a_7 - \\frac{83 i V^{3} f^{2}}{135 J^{5}} a_2 a_3 b_3 b_4 b_5 a_6 a_7 - \\frac{11 i V^{3} f^{2}}{27 J^{5}} b_1 a_2 b_2 b_4 b_5 a_6 b_6 - \\frac{V^{2} f^{3}}{3 J^{5}} b_3 a_4 b_4 b_5 b_6 + \\frac{2 V^{2} f}{9 J^{5}} \\left(4 V^{2} + 3 f^{2}\\right) a_2 b_3 a_4 b_4 a_5 + \\frac{4 i V^{3} f^{2}}{3 J^{5}} b_1 a_2 b_3 a_4 a_6 b_6 a_8 + \\frac{10 i V^{3} f^{2}}{27 J^{5}} a_2 a_5 b_5 - \\frac{5 V^{2} f^{3}}{9 J^{5}} b_2 a_3 b_3 b_4 b_6 - \\frac{i V^{3} f^{2}}{3 J^{5}} b_1 a_2 b_4 a_6 b_6 a_7 a_8 + \\frac{4 V^{4} f}{9 J^{5}} a_1 b_3 a_4 a_5 b_5 + \\frac{2 i V^{3} f^{2}}{15 J^{5}} b_1 a_2 b_2 b_3 b_4 a_6 b_6 - \\frac{14 i V^{3} f^{2}}{27 J^{5}} b_1 b_2 b_3 a_4 b_5 a_6 b_7 - \\frac{i V}{J^{5}} f^{2} \\left(2 V^{2} + f^{2}\\right) b_1 a_2 a_7 + \\frac{i V^{3} f^{2}}{3 J^{5}} a_1 b_1 b_3 a_4 b_4 b_5 b_6 + \\frac{28 i V^{3} f^{2}}{135 J^{5}} a_2 b_2 b_3 a_4 b_4 b_5 b_6 + \\frac{2 V^{2} f}{135 J^{5}} \\left(- 14 V^{2} + 3 f^{2}\\right) a_2 b_2 b_3 b_4 b_5 + \\frac{i V^{3}}{J^{5}} f^{2} a_1 b_1 a_2 a_3 b_3 a_4 b_4 + \\frac{10 V^{4} f}{27 J^{5}} b_1 a_2 b_2 a_3 b_3 b_4 b_5 a_6 b_6 + \\frac{i V^{3}}{J^{5}} f^{2} b_3 a_4 b_5 a_6 b_7 a_8 a_9 - \\frac{V^{2} f^{3}}{J^{5}} b_3 a_4 a_6 b_6 a_7 - \\frac{28 i V^{3} f^{2}}{135 J^{5}} a_2 b_2 b_3 a_5 b_5 a_6 a_7 + \\frac{V^{2} f}{9 J^{5}} \\left(4 V^{2} - f^{2}\\right) b_1 a_2 b_3 b_4 b_6 - \\frac{83 i V^{3} f^{2}}{135 J^{5}} a_2 a_3 a_4 b_4 b_5 a_6 b_6 - \\frac{i V^{3}}{J^{5}} f^{2} b_1 a_2 b_3 a_4 a_5 b_5 a_6 + \\frac{11 V^{2} f^{3}}{9 J^{5}} b_2 a_3 b_3 a_4 a_6 + \\frac{i V^{3} f^{2}}{9 J^{5}} a_1 a_2 b_2 a_3 b_4 a_5 b_5 + \\frac{V^{2} f}{9 J^{5}} \\left(5 V^{2} + 4 f^{2}\\right) b_1 a_2 b_3 a_5 a_7 + \\frac{7 V^{4} f}{9 J^{5}} a_2 b_2 a_3 b_3 b_4 a_5 b_6 a_7 a_8 - \\frac{5 V^{2} f^{3}}{9 J^{5}} a_1 b_1 b_2 b_3 b_5 + \\frac{2 V^{2} f^{3}}{9 J^{5}} b_2 a_4 a_5 b_5 a_6 + \\frac{7 i V^{3} f^{2}}{9 J^{5}} a_2 b_2 a_3 b_3 b_4 a_5 a_7 + \\frac{7 i V^{3} f^{2}}{9 J^{5}} a_2 b_2 a_3 b_3 a_5 b_5 a_6 + \\frac{20 V^{4} f}{27 J^{5}} a_2 b_2 b_3 a_4 b_5 a_6 b_7 a_8 a_9 - \\frac{i V f^{2}}{27 J^{5}} \\left(5 V^{2} + 3 f^{2}\\right) b_2 b_3 b_5 - \\frac{2 V^{4} f}{3 J^{5}} a_1 a_2 b_2 b_4 a_5 - \\frac{V^{2} f^{3}}{J^{5}} b_1 a_2 a_6 b_6 a_7 - \\frac{2 V^{4} f}{9 J^{5}} b_1 a_2 b_3 a_5 b_5 a_6 b_7 a_8 a_9 - \\frac{i V^{3}}{J^{5}} f^{2} a_1 b_1 a_2 b_3 a_4 b_4 a_5 + \\frac{i V^{3} f^{2}}{3 J^{5}} a_1 b_1 a_2 b_2 b_3 b_4 b_5 - \\frac{V^{2} f^{3}}{J^{5}} b_2 a_3 a_6 b_6 a_7 + \\frac{i V^{3}}{J^{5}} f^{2} b_2 a_3 b_4 a_5 b_6 a_7 a_9 + \\frac{V^{4} f}{J^{5}} b_1 a_2 b_3 a_4 b_6 a_7 b_8 a_9 a_10 - \\frac{7 i V^{3} f^{2}}{27 J^{5}} b_1 a_3 a_4 b_4 a_5 b_5 a_6 + \\frac{13 i V^{3} f^{2}}{27 J^{5}} b_1 a_2 b_2 b_3 b_5 b_6 a_7 + \\frac{i V^{3} f^{2}}{3 J^{5}} a_1 b_2 a_3 a_4 b_4 a_5 b_5 - \\frac{4 V^{4} f}{9 J^{5}} b_1 b_2 a_3 b_3 a_4 b_4 b_5 a_6 b_6$$'

In [ ]:
subspace, matrixrows = sparse_find_subspace(c(H, psi), Jpart)
print_subspace(subspace)
cvector = build_vector_to_cancel(c(H, psi), subspace)

In [ ]:
subs_rules = {}
psi6 = sparse_solve_for_commuting_term(cvector, psi, 6, orders, matrixrows, subspace, norm= False, fvarname = 'E', iofvars=iofvars, subs_rules = subs_rules)

In [ ]:
orders.update(zip(iofvars,[5]*len(iofvars)))
p.orders = orders
psi = substitute_group(psi,subs_rules)
p(psi)

In [67]:
from IPython.display import Latex, display, display_latex, Math
display(Math(texify_group(psisub)))
<IPython.core.display.Math object>

In [ ]:


